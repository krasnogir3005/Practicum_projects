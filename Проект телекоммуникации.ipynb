{
 "cells": [
  {
   "cell_type": "markdown",
   "id": "a3f0000f",
   "metadata": {
    "toc": true
   },
   "source": [
    "<h1>Содержание<span class=\"tocSkip\"></span></h1>\n",
    "<div class=\"toc\"><ul class=\"toc-item\"><li><span><a href=\"#Загрузка-данных\" data-toc-modified-id=\"Загрузка-данных-1\"><span class=\"toc-item-num\">1&nbsp;&nbsp;</span>Загрузка данных</a></span></li><li><span><a href=\"#Исследовательский-анализ-и-предобработка-данных\" data-toc-modified-id=\"Исследовательский-анализ-и-предобработка-данных-2\"><span class=\"toc-item-num\">2&nbsp;&nbsp;</span>Исследовательский анализ и предобработка данных</a></span></li><li><span><a href=\"#Объединение-данных\" data-toc-modified-id=\"Объединение-данных-3\"><span class=\"toc-item-num\">3&nbsp;&nbsp;</span>Объединение данных</a></span></li><li><span><a href=\"#Исследовательский-анализ-и-предобработка-данных-объединённого-датафрейма\" data-toc-modified-id=\"Исследовательский-анализ-и-предобработка-данных-объединённого-датафрейма-4\"><span class=\"toc-item-num\">4&nbsp;&nbsp;</span>Исследовательский анализ и предобработка данных объединённого датафрейма</a></span></li><li><span><a href=\"#Подготовка-данных\" data-toc-modified-id=\"Подготовка-данных-5\"><span class=\"toc-item-num\">5&nbsp;&nbsp;</span>Подготовка данных</a></span></li><li><span><a href=\"#Обучение-моделей-машинного-обучения\" data-toc-modified-id=\"Обучение-моделей-машинного-обучения-6\"><span class=\"toc-item-num\">6&nbsp;&nbsp;</span>Обучение моделей машинного обучения</a></span><ul class=\"toc-item\"><li><span><a href=\"#Catboost\" data-toc-modified-id=\"Catboost-6.1\"><span class=\"toc-item-num\">6.1&nbsp;&nbsp;</span>Catboost</a></span></li><li><span><a href=\"#RandomForest\" data-toc-modified-id=\"RandomForest-6.2\"><span class=\"toc-item-num\">6.2&nbsp;&nbsp;</span>RandomForest</a></span></li><li><span><a href=\"#LGBM\" data-toc-modified-id=\"LGBM-6.3\"><span class=\"toc-item-num\">6.3&nbsp;&nbsp;</span>LGBM</a></span></li></ul></li><li><span><a href=\"#Выбор-лучшей-модели\" data-toc-modified-id=\"Выбор-лучшей-модели-7\"><span class=\"toc-item-num\">7&nbsp;&nbsp;</span>Выбор лучшей модели</a></span></li><li><span><a href=\"#Общий-вывод-и-рекомендации-заказчику\" data-toc-modified-id=\"Общий-вывод-и-рекомендации-заказчику-8\"><span class=\"toc-item-num\">8&nbsp;&nbsp;</span>Общий вывод и рекомендации заказчику</a></span></li></ul></div>"
   ]
  },
  {
   "cell_type": "markdown",
   "id": "28cfbbbc",
   "metadata": {},
   "source": [
    "# Проект: телекоммуникации"
   ]
  },
  {
   "cell_type": "markdown",
   "id": "f3f17885",
   "metadata": {},
   "source": [
    "Оператор связи «ТелеДом» хочет бороться с оттоком клиентов. Для этого его сотрудники начнут предлагать промокоды и специальные условия всем, кто планирует отказаться от услуг связи. <br> Чтобы заранее находить таких пользователей, «ТелеДому» нужна модель, которая будет предсказывать, разорвёт ли абонент договор. <br>Команда оператора собрала персональные данные о некоторых клиентах, информацию об их тарифах и услугах. <br>\n",
    "Ваша задача — обучить на этих данных модель для прогноза оттока клиентов."
   ]
  },
  {
   "cell_type": "markdown",
   "id": "5fe07fb3",
   "metadata": {},
   "source": [
    "## Загрузка данных"
   ]
  },
  {
   "cell_type": "code",
   "execution_count": 1,
   "id": "e0e940d7",
   "metadata": {
    "scrolled": true
   },
   "outputs": [
    {
     "name": "stdout",
     "output_type": "stream",
     "text": [
      "Requirement already satisfied: scikit-learn==1.1.3 in /opt/conda/lib/python3.9/site-packages (1.1.3)\n",
      "Requirement already satisfied: scipy>=1.3.2 in /opt/conda/lib/python3.9/site-packages (from scikit-learn==1.1.3) (1.9.1)\n",
      "Requirement already satisfied: joblib>=1.0.0 in /opt/conda/lib/python3.9/site-packages (from scikit-learn==1.1.3) (1.1.0)\n",
      "Requirement already satisfied: numpy>=1.17.3 in /opt/conda/lib/python3.9/site-packages (from scikit-learn==1.1.3) (1.21.1)\n",
      "Requirement already satisfied: threadpoolctl>=2.0.0 in /opt/conda/lib/python3.9/site-packages (from scikit-learn==1.1.3) (3.1.0)\n",
      "Requirement already satisfied: numpy in /opt/conda/lib/python3.9/site-packages (1.21.1)\n",
      "Requirement already satisfied: phik in /opt/conda/lib/python3.9/site-packages (0.12.4)\n",
      "Requirement already satisfied: joblib>=0.14.1 in /opt/conda/lib/python3.9/site-packages (from phik) (1.1.0)\n",
      "Requirement already satisfied: pandas>=0.25.1 in /opt/conda/lib/python3.9/site-packages (from phik) (1.2.4)\n",
      "Requirement already satisfied: numpy>=1.18.0 in /opt/conda/lib/python3.9/site-packages (from phik) (1.21.1)\n",
      "Requirement already satisfied: scipy>=1.5.2 in /opt/conda/lib/python3.9/site-packages (from phik) (1.9.1)\n",
      "Requirement already satisfied: matplotlib>=2.2.3 in /opt/conda/lib/python3.9/site-packages (from phik) (3.3.4)\n",
      "Requirement already satisfied: cycler>=0.10 in /opt/conda/lib/python3.9/site-packages (from matplotlib>=2.2.3->phik) (0.11.0)\n",
      "Requirement already satisfied: kiwisolver>=1.0.1 in /opt/conda/lib/python3.9/site-packages (from matplotlib>=2.2.3->phik) (1.4.4)\n",
      "Requirement already satisfied: pyparsing!=2.0.4,!=2.1.2,!=2.1.6,>=2.0.3 in /opt/conda/lib/python3.9/site-packages (from matplotlib>=2.2.3->phik) (2.4.7)\n",
      "Requirement already satisfied: pillow>=6.2.0 in /opt/conda/lib/python3.9/site-packages (from matplotlib>=2.2.3->phik) (8.4.0)\n",
      "Requirement already satisfied: python-dateutil>=2.1 in /opt/conda/lib/python3.9/site-packages (from matplotlib>=2.2.3->phik) (2.8.1)\n",
      "Requirement already satisfied: pytz>=2017.3 in /opt/conda/lib/python3.9/site-packages (from pandas>=0.25.1->phik) (2021.1)\n",
      "Requirement already satisfied: six>=1.5 in /opt/conda/lib/python3.9/site-packages (from python-dateutil>=2.1->matplotlib>=2.2.3->phik) (1.16.0)\n",
      "Requirement already satisfied: lightgbm in /opt/conda/lib/python3.9/site-packages (3.3.1)\n",
      "Requirement already satisfied: numpy in /opt/conda/lib/python3.9/site-packages (from lightgbm) (1.21.1)\n",
      "Requirement already satisfied: scikit-learn!=0.22.0 in /opt/conda/lib/python3.9/site-packages (from lightgbm) (1.1.3)\n",
      "Requirement already satisfied: scipy in /opt/conda/lib/python3.9/site-packages (from lightgbm) (1.9.1)\n",
      "Requirement already satisfied: wheel in /opt/conda/lib/python3.9/site-packages (from lightgbm) (0.36.2)\n",
      "Requirement already satisfied: joblib>=1.0.0 in /opt/conda/lib/python3.9/site-packages (from scikit-learn!=0.22.0->lightgbm) (1.1.0)\n",
      "Requirement already satisfied: threadpoolctl>=2.0.0 in /opt/conda/lib/python3.9/site-packages (from scikit-learn!=0.22.0->lightgbm) (3.1.0)\n"
     ]
    }
   ],
   "source": [
    "!pip install scikit-learn==1.1.3\n",
    "!pip install numpy\n",
    "!pip install phik \n",
    "!pip install lightgbm"
   ]
  },
  {
   "cell_type": "code",
   "execution_count": 2,
   "id": "0dcb9baa",
   "metadata": {},
   "outputs": [],
   "source": [
    "import pandas as pd\n",
    "import matplotlib.pyplot as plt\n",
    "import numpy as np\n",
    "from scipy import stats as st\n",
    "import seaborn as sns\n",
    "import sklearn\n",
    "from sklearn.pipeline import Pipeline\n",
    "from sklearn.compose import ColumnTransformer\n",
    "import timeit\n",
    "import datetime as dt\n",
    "from sklearn.compose import make_column_transformer\n",
    "from phik.report import plot_correlation_matrix\n",
    "from phik import report\n",
    "from phik import phik_matrix\n",
    "from sklearn.ensemble import RandomForestClassifier\n",
    "from sklearn.linear_model import Ridge\n",
    "from catboost import CatBoostClassifier\n",
    "from lightgbm import LGBMClassifier\n",
    "from xgboost import XGBClassifier\n",
    "import xgboost\n",
    "from sklearn.metrics import roc_auc_score\n",
    "from sklearn.model_selection import (\n",
    "    GridSearchCV, \n",
    "    RandomizedSearchCV,\n",
    "    train_test_split\n",
    ")\n",
    "from sklearn.pipeline import make_pipeline\n",
    "from sklearn.preprocessing import (\n",
    "    OneHotEncoder,\n",
    "    OrdinalEncoder,\n",
    "    StandardScaler,\n",
    "    LabelEncoder\n",
    ")\n",
    "import warnings\n",
    "warnings.filterwarnings(\"ignore\")\n",
    "import bisect"
   ]
  },
  {
   "cell_type": "code",
   "execution_count": 3,
   "id": "17c9521a",
   "metadata": {},
   "outputs": [],
   "source": [
    "RANDOM_STATE = 100325\n",
    "TEST_SIZE = 0.25"
   ]
  },
  {
   "cell_type": "code",
   "execution_count": 4,
   "id": "d05c8dce",
   "metadata": {},
   "outputs": [],
   "source": [
    "contract_new = pd.read_csv('/datasets/contract_new.csv', decimal = '.')\n",
    "personal_new = pd.read_csv('/datasets/personal_new.csv')\n",
    "internet_new = pd.read_csv('/datasets/internet_new.csv')\n",
    "phone_new = pd.read_csv('/datasets/phone_new.csv')"
   ]
  },
  {
   "cell_type": "code",
   "execution_count": 5,
   "id": "44946434",
   "metadata": {},
   "outputs": [],
   "source": [
    "# функция вывода информации о данных\n",
    "def data_info(data):\n",
    "    display(data.head(20))\n",
    "    data.info()\n",
    "    display(data.describe())"
   ]
  },
  {
   "cell_type": "code",
   "execution_count": 6,
   "id": "613ef4f1",
   "metadata": {
    "scrolled": true
   },
   "outputs": [
    {
     "data": {
      "text/html": [
       "<div>\n",
       "<style scoped>\n",
       "    .dataframe tbody tr th:only-of-type {\n",
       "        vertical-align: middle;\n",
       "    }\n",
       "\n",
       "    .dataframe tbody tr th {\n",
       "        vertical-align: top;\n",
       "    }\n",
       "\n",
       "    .dataframe thead th {\n",
       "        text-align: right;\n",
       "    }\n",
       "</style>\n",
       "<table border=\"1\" class=\"dataframe\">\n",
       "  <thead>\n",
       "    <tr style=\"text-align: right;\">\n",
       "      <th></th>\n",
       "      <th>customerID</th>\n",
       "      <th>BeginDate</th>\n",
       "      <th>EndDate</th>\n",
       "      <th>Type</th>\n",
       "      <th>PaperlessBilling</th>\n",
       "      <th>PaymentMethod</th>\n",
       "      <th>MonthlyCharges</th>\n",
       "      <th>TotalCharges</th>\n",
       "    </tr>\n",
       "  </thead>\n",
       "  <tbody>\n",
       "    <tr>\n",
       "      <th>0</th>\n",
       "      <td>7590-VHVEG</td>\n",
       "      <td>2020-01-01</td>\n",
       "      <td>No</td>\n",
       "      <td>Month-to-month</td>\n",
       "      <td>Yes</td>\n",
       "      <td>Electronic check</td>\n",
       "      <td>29.85</td>\n",
       "      <td>31.04</td>\n",
       "    </tr>\n",
       "    <tr>\n",
       "      <th>1</th>\n",
       "      <td>5575-GNVDE</td>\n",
       "      <td>2017-04-01</td>\n",
       "      <td>No</td>\n",
       "      <td>One year</td>\n",
       "      <td>No</td>\n",
       "      <td>Mailed check</td>\n",
       "      <td>56.95</td>\n",
       "      <td>2071.84</td>\n",
       "    </tr>\n",
       "    <tr>\n",
       "      <th>2</th>\n",
       "      <td>3668-QPYBK</td>\n",
       "      <td>2019-10-01</td>\n",
       "      <td>No</td>\n",
       "      <td>Month-to-month</td>\n",
       "      <td>Yes</td>\n",
       "      <td>Mailed check</td>\n",
       "      <td>53.85</td>\n",
       "      <td>226.17</td>\n",
       "    </tr>\n",
       "    <tr>\n",
       "      <th>3</th>\n",
       "      <td>7795-CFOCW</td>\n",
       "      <td>2016-05-01</td>\n",
       "      <td>No</td>\n",
       "      <td>One year</td>\n",
       "      <td>No</td>\n",
       "      <td>Bank transfer (automatic)</td>\n",
       "      <td>42.30</td>\n",
       "      <td>1960.6</td>\n",
       "    </tr>\n",
       "    <tr>\n",
       "      <th>4</th>\n",
       "      <td>9237-HQITU</td>\n",
       "      <td>2019-09-01</td>\n",
       "      <td>No</td>\n",
       "      <td>Month-to-month</td>\n",
       "      <td>Yes</td>\n",
       "      <td>Electronic check</td>\n",
       "      <td>70.70</td>\n",
       "      <td>353.5</td>\n",
       "    </tr>\n",
       "    <tr>\n",
       "      <th>5</th>\n",
       "      <td>9305-CDSKC</td>\n",
       "      <td>2019-03-01</td>\n",
       "      <td>No</td>\n",
       "      <td>Month-to-month</td>\n",
       "      <td>Yes</td>\n",
       "      <td>Electronic check</td>\n",
       "      <td>99.65</td>\n",
       "      <td>1150.96</td>\n",
       "    </tr>\n",
       "    <tr>\n",
       "      <th>6</th>\n",
       "      <td>1452-KIOVK</td>\n",
       "      <td>2018-04-01</td>\n",
       "      <td>No</td>\n",
       "      <td>Month-to-month</td>\n",
       "      <td>Yes</td>\n",
       "      <td>Credit card (automatic)</td>\n",
       "      <td>89.10</td>\n",
       "      <td>2058.21</td>\n",
       "    </tr>\n",
       "    <tr>\n",
       "      <th>7</th>\n",
       "      <td>6713-OKOMC</td>\n",
       "      <td>2019-04-01</td>\n",
       "      <td>No</td>\n",
       "      <td>Month-to-month</td>\n",
       "      <td>No</td>\n",
       "      <td>Mailed check</td>\n",
       "      <td>29.75</td>\n",
       "      <td>300.48</td>\n",
       "    </tr>\n",
       "    <tr>\n",
       "      <th>8</th>\n",
       "      <td>7892-POOKP</td>\n",
       "      <td>2017-07-01</td>\n",
       "      <td>No</td>\n",
       "      <td>Month-to-month</td>\n",
       "      <td>Yes</td>\n",
       "      <td>Electronic check</td>\n",
       "      <td>104.80</td>\n",
       "      <td>3573.68</td>\n",
       "    </tr>\n",
       "    <tr>\n",
       "      <th>9</th>\n",
       "      <td>6388-TABGU</td>\n",
       "      <td>2014-12-01</td>\n",
       "      <td>2017-05-01</td>\n",
       "      <td>One year</td>\n",
       "      <td>No</td>\n",
       "      <td>Bank transfer (automatic)</td>\n",
       "      <td>56.15</td>\n",
       "      <td>1628.35</td>\n",
       "    </tr>\n",
       "    <tr>\n",
       "      <th>10</th>\n",
       "      <td>9763-GRSKD</td>\n",
       "      <td>2019-01-01</td>\n",
       "      <td>No</td>\n",
       "      <td>Month-to-month</td>\n",
       "      <td>Yes</td>\n",
       "      <td>Mailed check</td>\n",
       "      <td>49.95</td>\n",
       "      <td>649.35</td>\n",
       "    </tr>\n",
       "    <tr>\n",
       "      <th>11</th>\n",
       "      <td>7469-LKBCI</td>\n",
       "      <td>2018-10-01</td>\n",
       "      <td>No</td>\n",
       "      <td>Two year</td>\n",
       "      <td>No</td>\n",
       "      <td>Credit card (automatic)</td>\n",
       "      <td>18.95</td>\n",
       "      <td>312.3</td>\n",
       "    </tr>\n",
       "    <tr>\n",
       "      <th>12</th>\n",
       "      <td>8091-TTVAX</td>\n",
       "      <td>2015-04-01</td>\n",
       "      <td>No</td>\n",
       "      <td>One year</td>\n",
       "      <td>No</td>\n",
       "      <td>Credit card (automatic)</td>\n",
       "      <td>100.35</td>\n",
       "      <td>6111.31</td>\n",
       "    </tr>\n",
       "    <tr>\n",
       "      <th>13</th>\n",
       "      <td>0280-XJGEX</td>\n",
       "      <td>2015-09-01</td>\n",
       "      <td>No</td>\n",
       "      <td>Month-to-month</td>\n",
       "      <td>Yes</td>\n",
       "      <td>Bank transfer (automatic)</td>\n",
       "      <td>103.70</td>\n",
       "      <td>5496.1</td>\n",
       "    </tr>\n",
       "    <tr>\n",
       "      <th>14</th>\n",
       "      <td>5129-JLPIS</td>\n",
       "      <td>2018-01-01</td>\n",
       "      <td>No</td>\n",
       "      <td>Month-to-month</td>\n",
       "      <td>Yes</td>\n",
       "      <td>Electronic check</td>\n",
       "      <td>105.50</td>\n",
       "      <td>2637.5</td>\n",
       "    </tr>\n",
       "    <tr>\n",
       "      <th>15</th>\n",
       "      <td>3655-SNQYZ</td>\n",
       "      <td>2014-05-01</td>\n",
       "      <td>2016-03-01</td>\n",
       "      <td>Two year</td>\n",
       "      <td>No</td>\n",
       "      <td>Credit card (automatic)</td>\n",
       "      <td>113.25</td>\n",
       "      <td>2491.5</td>\n",
       "    </tr>\n",
       "    <tr>\n",
       "      <th>16</th>\n",
       "      <td>8191-XWSZG</td>\n",
       "      <td>2015-10-01</td>\n",
       "      <td>No</td>\n",
       "      <td>One year</td>\n",
       "      <td>No</td>\n",
       "      <td>Mailed check</td>\n",
       "      <td>20.65</td>\n",
       "      <td>1106.01</td>\n",
       "    </tr>\n",
       "    <tr>\n",
       "      <th>17</th>\n",
       "      <td>9959-WOFKT</td>\n",
       "      <td>2014-03-01</td>\n",
       "      <td>No</td>\n",
       "      <td>Two year</td>\n",
       "      <td>No</td>\n",
       "      <td>Bank transfer (automatic)</td>\n",
       "      <td>106.70</td>\n",
       "      <td>8257.51</td>\n",
       "    </tr>\n",
       "    <tr>\n",
       "      <th>18</th>\n",
       "      <td>4190-MFLUW</td>\n",
       "      <td>2019-01-01</td>\n",
       "      <td>No</td>\n",
       "      <td>Month-to-month</td>\n",
       "      <td>No</td>\n",
       "      <td>Credit card (automatic)</td>\n",
       "      <td>55.20</td>\n",
       "      <td>789.36</td>\n",
       "    </tr>\n",
       "    <tr>\n",
       "      <th>19</th>\n",
       "      <td>4183-MYFRB</td>\n",
       "      <td>2018-05-01</td>\n",
       "      <td>No</td>\n",
       "      <td>Month-to-month</td>\n",
       "      <td>Yes</td>\n",
       "      <td>Electronic check</td>\n",
       "      <td>90.05</td>\n",
       "      <td>1891.05</td>\n",
       "    </tr>\n",
       "  </tbody>\n",
       "</table>\n",
       "</div>"
      ],
      "text/plain": [
       "    customerID   BeginDate     EndDate            Type PaperlessBilling  \\\n",
       "0   7590-VHVEG  2020-01-01          No  Month-to-month              Yes   \n",
       "1   5575-GNVDE  2017-04-01          No        One year               No   \n",
       "2   3668-QPYBK  2019-10-01          No  Month-to-month              Yes   \n",
       "3   7795-CFOCW  2016-05-01          No        One year               No   \n",
       "4   9237-HQITU  2019-09-01          No  Month-to-month              Yes   \n",
       "5   9305-CDSKC  2019-03-01          No  Month-to-month              Yes   \n",
       "6   1452-KIOVK  2018-04-01          No  Month-to-month              Yes   \n",
       "7   6713-OKOMC  2019-04-01          No  Month-to-month               No   \n",
       "8   7892-POOKP  2017-07-01          No  Month-to-month              Yes   \n",
       "9   6388-TABGU  2014-12-01  2017-05-01        One year               No   \n",
       "10  9763-GRSKD  2019-01-01          No  Month-to-month              Yes   \n",
       "11  7469-LKBCI  2018-10-01          No        Two year               No   \n",
       "12  8091-TTVAX  2015-04-01          No        One year               No   \n",
       "13  0280-XJGEX  2015-09-01          No  Month-to-month              Yes   \n",
       "14  5129-JLPIS  2018-01-01          No  Month-to-month              Yes   \n",
       "15  3655-SNQYZ  2014-05-01  2016-03-01        Two year               No   \n",
       "16  8191-XWSZG  2015-10-01          No        One year               No   \n",
       "17  9959-WOFKT  2014-03-01          No        Two year               No   \n",
       "18  4190-MFLUW  2019-01-01          No  Month-to-month               No   \n",
       "19  4183-MYFRB  2018-05-01          No  Month-to-month              Yes   \n",
       "\n",
       "                PaymentMethod  MonthlyCharges TotalCharges  \n",
       "0            Electronic check           29.85        31.04  \n",
       "1                Mailed check           56.95      2071.84  \n",
       "2                Mailed check           53.85       226.17  \n",
       "3   Bank transfer (automatic)           42.30       1960.6  \n",
       "4            Electronic check           70.70        353.5  \n",
       "5            Electronic check           99.65      1150.96  \n",
       "6     Credit card (automatic)           89.10      2058.21  \n",
       "7                Mailed check           29.75       300.48  \n",
       "8            Electronic check          104.80      3573.68  \n",
       "9   Bank transfer (automatic)           56.15      1628.35  \n",
       "10               Mailed check           49.95       649.35  \n",
       "11    Credit card (automatic)           18.95        312.3  \n",
       "12    Credit card (automatic)          100.35      6111.31  \n",
       "13  Bank transfer (automatic)          103.70       5496.1  \n",
       "14           Electronic check          105.50       2637.5  \n",
       "15    Credit card (automatic)          113.25       2491.5  \n",
       "16               Mailed check           20.65      1106.01  \n",
       "17  Bank transfer (automatic)          106.70      8257.51  \n",
       "18    Credit card (automatic)           55.20       789.36  \n",
       "19           Electronic check           90.05      1891.05  "
      ]
     },
     "metadata": {},
     "output_type": "display_data"
    },
    {
     "name": "stdout",
     "output_type": "stream",
     "text": [
      "<class 'pandas.core.frame.DataFrame'>\n",
      "RangeIndex: 7043 entries, 0 to 7042\n",
      "Data columns (total 8 columns):\n",
      " #   Column            Non-Null Count  Dtype  \n",
      "---  ------            --------------  -----  \n",
      " 0   customerID        7043 non-null   object \n",
      " 1   BeginDate         7043 non-null   object \n",
      " 2   EndDate           7043 non-null   object \n",
      " 3   Type              7043 non-null   object \n",
      " 4   PaperlessBilling  7043 non-null   object \n",
      " 5   PaymentMethod     7043 non-null   object \n",
      " 6   MonthlyCharges    7043 non-null   float64\n",
      " 7   TotalCharges      7043 non-null   object \n",
      "dtypes: float64(1), object(7)\n",
      "memory usage: 440.3+ KB\n"
     ]
    },
    {
     "data": {
      "text/html": [
       "<div>\n",
       "<style scoped>\n",
       "    .dataframe tbody tr th:only-of-type {\n",
       "        vertical-align: middle;\n",
       "    }\n",
       "\n",
       "    .dataframe tbody tr th {\n",
       "        vertical-align: top;\n",
       "    }\n",
       "\n",
       "    .dataframe thead th {\n",
       "        text-align: right;\n",
       "    }\n",
       "</style>\n",
       "<table border=\"1\" class=\"dataframe\">\n",
       "  <thead>\n",
       "    <tr style=\"text-align: right;\">\n",
       "      <th></th>\n",
       "      <th>MonthlyCharges</th>\n",
       "    </tr>\n",
       "  </thead>\n",
       "  <tbody>\n",
       "    <tr>\n",
       "      <th>count</th>\n",
       "      <td>7043.000000</td>\n",
       "    </tr>\n",
       "    <tr>\n",
       "      <th>mean</th>\n",
       "      <td>64.761692</td>\n",
       "    </tr>\n",
       "    <tr>\n",
       "      <th>std</th>\n",
       "      <td>30.090047</td>\n",
       "    </tr>\n",
       "    <tr>\n",
       "      <th>min</th>\n",
       "      <td>18.250000</td>\n",
       "    </tr>\n",
       "    <tr>\n",
       "      <th>25%</th>\n",
       "      <td>35.500000</td>\n",
       "    </tr>\n",
       "    <tr>\n",
       "      <th>50%</th>\n",
       "      <td>70.350000</td>\n",
       "    </tr>\n",
       "    <tr>\n",
       "      <th>75%</th>\n",
       "      <td>89.850000</td>\n",
       "    </tr>\n",
       "    <tr>\n",
       "      <th>max</th>\n",
       "      <td>118.750000</td>\n",
       "    </tr>\n",
       "  </tbody>\n",
       "</table>\n",
       "</div>"
      ],
      "text/plain": [
       "       MonthlyCharges\n",
       "count     7043.000000\n",
       "mean        64.761692\n",
       "std         30.090047\n",
       "min         18.250000\n",
       "25%         35.500000\n",
       "50%         70.350000\n",
       "75%         89.850000\n",
       "max        118.750000"
      ]
     },
     "metadata": {},
     "output_type": "display_data"
    }
   ],
   "source": [
    "data_info(contract_new)"
   ]
  },
  {
   "cell_type": "markdown",
   "id": "ff391c50",
   "metadata": {},
   "source": [
    "В столбцах BeginDate, EndDate неверный формат -нужно исправить на дату. TotalCharges необходимо исправить на float"
   ]
  },
  {
   "cell_type": "code",
   "execution_count": 7,
   "id": "361be6ee",
   "metadata": {},
   "outputs": [],
   "source": [
    "contract_new['BeginDate'] = pd.to_datetime(contract_new['BeginDate'], format='%Y-%m-%d')\n",
    "#contract_new['EndDate'] = pd.to_datetime(contract_new['EndDate'], errors='coerce', format='%Y-%m-%d')"
   ]
  },
  {
   "cell_type": "markdown",
   "id": "4a4231a2",
   "metadata": {},
   "source": [
    "В EndDate много значений 'No', которые влияют на целевой признак(Закончили контракт или нет), поэтому и пропуски заполним, и формат поменяем на более позднем этапе."
   ]
  },
  {
   "cell_type": "code",
   "execution_count": 8,
   "id": "60f6be73",
   "metadata": {},
   "outputs": [],
   "source": [
    "contract_new['TotalCharges'] = pd.to_numeric(contract_new['TotalCharges'], errors='coerce').astype(float)"
   ]
  },
  {
   "cell_type": "code",
   "execution_count": 9,
   "id": "e2facfd8",
   "metadata": {
    "scrolled": true
   },
   "outputs": [
    {
     "data": {
      "text/html": [
       "<div>\n",
       "<style scoped>\n",
       "    .dataframe tbody tr th:only-of-type {\n",
       "        vertical-align: middle;\n",
       "    }\n",
       "\n",
       "    .dataframe tbody tr th {\n",
       "        vertical-align: top;\n",
       "    }\n",
       "\n",
       "    .dataframe thead th {\n",
       "        text-align: right;\n",
       "    }\n",
       "</style>\n",
       "<table border=\"1\" class=\"dataframe\">\n",
       "  <thead>\n",
       "    <tr style=\"text-align: right;\">\n",
       "      <th></th>\n",
       "      <th>customerID</th>\n",
       "      <th>gender</th>\n",
       "      <th>SeniorCitizen</th>\n",
       "      <th>Partner</th>\n",
       "      <th>Dependents</th>\n",
       "    </tr>\n",
       "  </thead>\n",
       "  <tbody>\n",
       "    <tr>\n",
       "      <th>0</th>\n",
       "      <td>7590-VHVEG</td>\n",
       "      <td>Female</td>\n",
       "      <td>0</td>\n",
       "      <td>Yes</td>\n",
       "      <td>No</td>\n",
       "    </tr>\n",
       "    <tr>\n",
       "      <th>1</th>\n",
       "      <td>5575-GNVDE</td>\n",
       "      <td>Male</td>\n",
       "      <td>0</td>\n",
       "      <td>No</td>\n",
       "      <td>No</td>\n",
       "    </tr>\n",
       "    <tr>\n",
       "      <th>2</th>\n",
       "      <td>3668-QPYBK</td>\n",
       "      <td>Male</td>\n",
       "      <td>0</td>\n",
       "      <td>No</td>\n",
       "      <td>No</td>\n",
       "    </tr>\n",
       "    <tr>\n",
       "      <th>3</th>\n",
       "      <td>7795-CFOCW</td>\n",
       "      <td>Male</td>\n",
       "      <td>0</td>\n",
       "      <td>No</td>\n",
       "      <td>No</td>\n",
       "    </tr>\n",
       "    <tr>\n",
       "      <th>4</th>\n",
       "      <td>9237-HQITU</td>\n",
       "      <td>Female</td>\n",
       "      <td>0</td>\n",
       "      <td>No</td>\n",
       "      <td>No</td>\n",
       "    </tr>\n",
       "    <tr>\n",
       "      <th>5</th>\n",
       "      <td>9305-CDSKC</td>\n",
       "      <td>Female</td>\n",
       "      <td>0</td>\n",
       "      <td>No</td>\n",
       "      <td>No</td>\n",
       "    </tr>\n",
       "    <tr>\n",
       "      <th>6</th>\n",
       "      <td>1452-KIOVK</td>\n",
       "      <td>Male</td>\n",
       "      <td>0</td>\n",
       "      <td>No</td>\n",
       "      <td>Yes</td>\n",
       "    </tr>\n",
       "    <tr>\n",
       "      <th>7</th>\n",
       "      <td>6713-OKOMC</td>\n",
       "      <td>Female</td>\n",
       "      <td>0</td>\n",
       "      <td>No</td>\n",
       "      <td>No</td>\n",
       "    </tr>\n",
       "    <tr>\n",
       "      <th>8</th>\n",
       "      <td>7892-POOKP</td>\n",
       "      <td>Female</td>\n",
       "      <td>0</td>\n",
       "      <td>Yes</td>\n",
       "      <td>No</td>\n",
       "    </tr>\n",
       "    <tr>\n",
       "      <th>9</th>\n",
       "      <td>6388-TABGU</td>\n",
       "      <td>Male</td>\n",
       "      <td>0</td>\n",
       "      <td>No</td>\n",
       "      <td>Yes</td>\n",
       "    </tr>\n",
       "    <tr>\n",
       "      <th>10</th>\n",
       "      <td>9763-GRSKD</td>\n",
       "      <td>Male</td>\n",
       "      <td>0</td>\n",
       "      <td>Yes</td>\n",
       "      <td>Yes</td>\n",
       "    </tr>\n",
       "    <tr>\n",
       "      <th>11</th>\n",
       "      <td>7469-LKBCI</td>\n",
       "      <td>Male</td>\n",
       "      <td>0</td>\n",
       "      <td>No</td>\n",
       "      <td>No</td>\n",
       "    </tr>\n",
       "    <tr>\n",
       "      <th>12</th>\n",
       "      <td>8091-TTVAX</td>\n",
       "      <td>Male</td>\n",
       "      <td>0</td>\n",
       "      <td>Yes</td>\n",
       "      <td>No</td>\n",
       "    </tr>\n",
       "    <tr>\n",
       "      <th>13</th>\n",
       "      <td>0280-XJGEX</td>\n",
       "      <td>Male</td>\n",
       "      <td>0</td>\n",
       "      <td>No</td>\n",
       "      <td>No</td>\n",
       "    </tr>\n",
       "    <tr>\n",
       "      <th>14</th>\n",
       "      <td>5129-JLPIS</td>\n",
       "      <td>Male</td>\n",
       "      <td>0</td>\n",
       "      <td>No</td>\n",
       "      <td>No</td>\n",
       "    </tr>\n",
       "    <tr>\n",
       "      <th>15</th>\n",
       "      <td>3655-SNQYZ</td>\n",
       "      <td>Female</td>\n",
       "      <td>0</td>\n",
       "      <td>Yes</td>\n",
       "      <td>Yes</td>\n",
       "    </tr>\n",
       "    <tr>\n",
       "      <th>16</th>\n",
       "      <td>8191-XWSZG</td>\n",
       "      <td>Female</td>\n",
       "      <td>0</td>\n",
       "      <td>No</td>\n",
       "      <td>No</td>\n",
       "    </tr>\n",
       "    <tr>\n",
       "      <th>17</th>\n",
       "      <td>9959-WOFKT</td>\n",
       "      <td>Male</td>\n",
       "      <td>0</td>\n",
       "      <td>No</td>\n",
       "      <td>Yes</td>\n",
       "    </tr>\n",
       "    <tr>\n",
       "      <th>18</th>\n",
       "      <td>4190-MFLUW</td>\n",
       "      <td>Female</td>\n",
       "      <td>0</td>\n",
       "      <td>Yes</td>\n",
       "      <td>Yes</td>\n",
       "    </tr>\n",
       "    <tr>\n",
       "      <th>19</th>\n",
       "      <td>4183-MYFRB</td>\n",
       "      <td>Female</td>\n",
       "      <td>0</td>\n",
       "      <td>No</td>\n",
       "      <td>No</td>\n",
       "    </tr>\n",
       "  </tbody>\n",
       "</table>\n",
       "</div>"
      ],
      "text/plain": [
       "    customerID  gender  SeniorCitizen Partner Dependents\n",
       "0   7590-VHVEG  Female              0     Yes         No\n",
       "1   5575-GNVDE    Male              0      No         No\n",
       "2   3668-QPYBK    Male              0      No         No\n",
       "3   7795-CFOCW    Male              0      No         No\n",
       "4   9237-HQITU  Female              0      No         No\n",
       "5   9305-CDSKC  Female              0      No         No\n",
       "6   1452-KIOVK    Male              0      No        Yes\n",
       "7   6713-OKOMC  Female              0      No         No\n",
       "8   7892-POOKP  Female              0     Yes         No\n",
       "9   6388-TABGU    Male              0      No        Yes\n",
       "10  9763-GRSKD    Male              0     Yes        Yes\n",
       "11  7469-LKBCI    Male              0      No         No\n",
       "12  8091-TTVAX    Male              0     Yes         No\n",
       "13  0280-XJGEX    Male              0      No         No\n",
       "14  5129-JLPIS    Male              0      No         No\n",
       "15  3655-SNQYZ  Female              0     Yes        Yes\n",
       "16  8191-XWSZG  Female              0      No         No\n",
       "17  9959-WOFKT    Male              0      No        Yes\n",
       "18  4190-MFLUW  Female              0     Yes        Yes\n",
       "19  4183-MYFRB  Female              0      No         No"
      ]
     },
     "metadata": {},
     "output_type": "display_data"
    },
    {
     "name": "stdout",
     "output_type": "stream",
     "text": [
      "<class 'pandas.core.frame.DataFrame'>\n",
      "RangeIndex: 7043 entries, 0 to 7042\n",
      "Data columns (total 5 columns):\n",
      " #   Column         Non-Null Count  Dtype \n",
      "---  ------         --------------  ----- \n",
      " 0   customerID     7043 non-null   object\n",
      " 1   gender         7043 non-null   object\n",
      " 2   SeniorCitizen  7043 non-null   int64 \n",
      " 3   Partner        7043 non-null   object\n",
      " 4   Dependents     7043 non-null   object\n",
      "dtypes: int64(1), object(4)\n",
      "memory usage: 275.2+ KB\n"
     ]
    },
    {
     "data": {
      "text/html": [
       "<div>\n",
       "<style scoped>\n",
       "    .dataframe tbody tr th:only-of-type {\n",
       "        vertical-align: middle;\n",
       "    }\n",
       "\n",
       "    .dataframe tbody tr th {\n",
       "        vertical-align: top;\n",
       "    }\n",
       "\n",
       "    .dataframe thead th {\n",
       "        text-align: right;\n",
       "    }\n",
       "</style>\n",
       "<table border=\"1\" class=\"dataframe\">\n",
       "  <thead>\n",
       "    <tr style=\"text-align: right;\">\n",
       "      <th></th>\n",
       "      <th>SeniorCitizen</th>\n",
       "    </tr>\n",
       "  </thead>\n",
       "  <tbody>\n",
       "    <tr>\n",
       "      <th>count</th>\n",
       "      <td>7043.000000</td>\n",
       "    </tr>\n",
       "    <tr>\n",
       "      <th>mean</th>\n",
       "      <td>0.162147</td>\n",
       "    </tr>\n",
       "    <tr>\n",
       "      <th>std</th>\n",
       "      <td>0.368612</td>\n",
       "    </tr>\n",
       "    <tr>\n",
       "      <th>min</th>\n",
       "      <td>0.000000</td>\n",
       "    </tr>\n",
       "    <tr>\n",
       "      <th>25%</th>\n",
       "      <td>0.000000</td>\n",
       "    </tr>\n",
       "    <tr>\n",
       "      <th>50%</th>\n",
       "      <td>0.000000</td>\n",
       "    </tr>\n",
       "    <tr>\n",
       "      <th>75%</th>\n",
       "      <td>0.000000</td>\n",
       "    </tr>\n",
       "    <tr>\n",
       "      <th>max</th>\n",
       "      <td>1.000000</td>\n",
       "    </tr>\n",
       "  </tbody>\n",
       "</table>\n",
       "</div>"
      ],
      "text/plain": [
       "       SeniorCitizen\n",
       "count    7043.000000\n",
       "mean        0.162147\n",
       "std         0.368612\n",
       "min         0.000000\n",
       "25%         0.000000\n",
       "50%         0.000000\n",
       "75%         0.000000\n",
       "max         1.000000"
      ]
     },
     "metadata": {},
     "output_type": "display_data"
    }
   ],
   "source": [
    "data_info(personal_new)"
   ]
  },
  {
   "cell_type": "markdown",
   "id": "12632288",
   "metadata": {},
   "source": [
    "В столбце 'SeniorCitizen' всего 2 значения - 0 и 1, преобразуем в категории 'Yes' и 'No':"
   ]
  },
  {
   "cell_type": "code",
   "execution_count": 10,
   "id": "0821a456",
   "metadata": {},
   "outputs": [],
   "source": [
    "personal_new.loc[personal_new['SeniorCitizen'] == 0, 'SeniorCitizen'] = 'No'\n",
    "personal_new.loc[personal_new['SeniorCitizen'] == 1, 'SeniorCitizen'] = 'Yes'"
   ]
  },
  {
   "cell_type": "code",
   "execution_count": 11,
   "id": "2bf08a91",
   "metadata": {
    "scrolled": true
   },
   "outputs": [
    {
     "data": {
      "text/html": [
       "<div>\n",
       "<style scoped>\n",
       "    .dataframe tbody tr th:only-of-type {\n",
       "        vertical-align: middle;\n",
       "    }\n",
       "\n",
       "    .dataframe tbody tr th {\n",
       "        vertical-align: top;\n",
       "    }\n",
       "\n",
       "    .dataframe thead th {\n",
       "        text-align: right;\n",
       "    }\n",
       "</style>\n",
       "<table border=\"1\" class=\"dataframe\">\n",
       "  <thead>\n",
       "    <tr style=\"text-align: right;\">\n",
       "      <th></th>\n",
       "      <th>customerID</th>\n",
       "      <th>InternetService</th>\n",
       "      <th>OnlineSecurity</th>\n",
       "      <th>OnlineBackup</th>\n",
       "      <th>DeviceProtection</th>\n",
       "      <th>TechSupport</th>\n",
       "      <th>StreamingTV</th>\n",
       "      <th>StreamingMovies</th>\n",
       "    </tr>\n",
       "  </thead>\n",
       "  <tbody>\n",
       "    <tr>\n",
       "      <th>0</th>\n",
       "      <td>7590-VHVEG</td>\n",
       "      <td>DSL</td>\n",
       "      <td>No</td>\n",
       "      <td>Yes</td>\n",
       "      <td>No</td>\n",
       "      <td>No</td>\n",
       "      <td>No</td>\n",
       "      <td>No</td>\n",
       "    </tr>\n",
       "    <tr>\n",
       "      <th>1</th>\n",
       "      <td>5575-GNVDE</td>\n",
       "      <td>DSL</td>\n",
       "      <td>Yes</td>\n",
       "      <td>No</td>\n",
       "      <td>Yes</td>\n",
       "      <td>No</td>\n",
       "      <td>No</td>\n",
       "      <td>No</td>\n",
       "    </tr>\n",
       "    <tr>\n",
       "      <th>2</th>\n",
       "      <td>3668-QPYBK</td>\n",
       "      <td>DSL</td>\n",
       "      <td>Yes</td>\n",
       "      <td>Yes</td>\n",
       "      <td>No</td>\n",
       "      <td>No</td>\n",
       "      <td>No</td>\n",
       "      <td>No</td>\n",
       "    </tr>\n",
       "    <tr>\n",
       "      <th>3</th>\n",
       "      <td>7795-CFOCW</td>\n",
       "      <td>DSL</td>\n",
       "      <td>Yes</td>\n",
       "      <td>No</td>\n",
       "      <td>Yes</td>\n",
       "      <td>Yes</td>\n",
       "      <td>No</td>\n",
       "      <td>No</td>\n",
       "    </tr>\n",
       "    <tr>\n",
       "      <th>4</th>\n",
       "      <td>9237-HQITU</td>\n",
       "      <td>Fiber optic</td>\n",
       "      <td>No</td>\n",
       "      <td>No</td>\n",
       "      <td>No</td>\n",
       "      <td>No</td>\n",
       "      <td>No</td>\n",
       "      <td>No</td>\n",
       "    </tr>\n",
       "    <tr>\n",
       "      <th>5</th>\n",
       "      <td>9305-CDSKC</td>\n",
       "      <td>Fiber optic</td>\n",
       "      <td>No</td>\n",
       "      <td>No</td>\n",
       "      <td>Yes</td>\n",
       "      <td>No</td>\n",
       "      <td>Yes</td>\n",
       "      <td>Yes</td>\n",
       "    </tr>\n",
       "    <tr>\n",
       "      <th>6</th>\n",
       "      <td>1452-KIOVK</td>\n",
       "      <td>Fiber optic</td>\n",
       "      <td>No</td>\n",
       "      <td>Yes</td>\n",
       "      <td>No</td>\n",
       "      <td>No</td>\n",
       "      <td>Yes</td>\n",
       "      <td>No</td>\n",
       "    </tr>\n",
       "    <tr>\n",
       "      <th>7</th>\n",
       "      <td>6713-OKOMC</td>\n",
       "      <td>DSL</td>\n",
       "      <td>Yes</td>\n",
       "      <td>No</td>\n",
       "      <td>No</td>\n",
       "      <td>No</td>\n",
       "      <td>No</td>\n",
       "      <td>No</td>\n",
       "    </tr>\n",
       "    <tr>\n",
       "      <th>8</th>\n",
       "      <td>7892-POOKP</td>\n",
       "      <td>Fiber optic</td>\n",
       "      <td>No</td>\n",
       "      <td>No</td>\n",
       "      <td>Yes</td>\n",
       "      <td>Yes</td>\n",
       "      <td>Yes</td>\n",
       "      <td>Yes</td>\n",
       "    </tr>\n",
       "    <tr>\n",
       "      <th>9</th>\n",
       "      <td>6388-TABGU</td>\n",
       "      <td>DSL</td>\n",
       "      <td>Yes</td>\n",
       "      <td>Yes</td>\n",
       "      <td>No</td>\n",
       "      <td>No</td>\n",
       "      <td>No</td>\n",
       "      <td>No</td>\n",
       "    </tr>\n",
       "    <tr>\n",
       "      <th>10</th>\n",
       "      <td>9763-GRSKD</td>\n",
       "      <td>DSL</td>\n",
       "      <td>Yes</td>\n",
       "      <td>No</td>\n",
       "      <td>No</td>\n",
       "      <td>No</td>\n",
       "      <td>No</td>\n",
       "      <td>No</td>\n",
       "    </tr>\n",
       "    <tr>\n",
       "      <th>11</th>\n",
       "      <td>8091-TTVAX</td>\n",
       "      <td>Fiber optic</td>\n",
       "      <td>No</td>\n",
       "      <td>No</td>\n",
       "      <td>Yes</td>\n",
       "      <td>No</td>\n",
       "      <td>Yes</td>\n",
       "      <td>Yes</td>\n",
       "    </tr>\n",
       "    <tr>\n",
       "      <th>12</th>\n",
       "      <td>0280-XJGEX</td>\n",
       "      <td>Fiber optic</td>\n",
       "      <td>No</td>\n",
       "      <td>Yes</td>\n",
       "      <td>Yes</td>\n",
       "      <td>No</td>\n",
       "      <td>Yes</td>\n",
       "      <td>Yes</td>\n",
       "    </tr>\n",
       "    <tr>\n",
       "      <th>13</th>\n",
       "      <td>5129-JLPIS</td>\n",
       "      <td>Fiber optic</td>\n",
       "      <td>Yes</td>\n",
       "      <td>No</td>\n",
       "      <td>Yes</td>\n",
       "      <td>Yes</td>\n",
       "      <td>Yes</td>\n",
       "      <td>Yes</td>\n",
       "    </tr>\n",
       "    <tr>\n",
       "      <th>14</th>\n",
       "      <td>3655-SNQYZ</td>\n",
       "      <td>Fiber optic</td>\n",
       "      <td>Yes</td>\n",
       "      <td>Yes</td>\n",
       "      <td>Yes</td>\n",
       "      <td>Yes</td>\n",
       "      <td>Yes</td>\n",
       "      <td>Yes</td>\n",
       "    </tr>\n",
       "    <tr>\n",
       "      <th>15</th>\n",
       "      <td>9959-WOFKT</td>\n",
       "      <td>Fiber optic</td>\n",
       "      <td>Yes</td>\n",
       "      <td>No</td>\n",
       "      <td>Yes</td>\n",
       "      <td>No</td>\n",
       "      <td>Yes</td>\n",
       "      <td>Yes</td>\n",
       "    </tr>\n",
       "    <tr>\n",
       "      <th>16</th>\n",
       "      <td>4190-MFLUW</td>\n",
       "      <td>DSL</td>\n",
       "      <td>No</td>\n",
       "      <td>No</td>\n",
       "      <td>Yes</td>\n",
       "      <td>Yes</td>\n",
       "      <td>No</td>\n",
       "      <td>No</td>\n",
       "    </tr>\n",
       "    <tr>\n",
       "      <th>17</th>\n",
       "      <td>4183-MYFRB</td>\n",
       "      <td>Fiber optic</td>\n",
       "      <td>No</td>\n",
       "      <td>Yes</td>\n",
       "      <td>Yes</td>\n",
       "      <td>No</td>\n",
       "      <td>No</td>\n",
       "      <td>Yes</td>\n",
       "    </tr>\n",
       "    <tr>\n",
       "      <th>18</th>\n",
       "      <td>8779-QRDMV</td>\n",
       "      <td>DSL</td>\n",
       "      <td>No</td>\n",
       "      <td>No</td>\n",
       "      <td>Yes</td>\n",
       "      <td>No</td>\n",
       "      <td>No</td>\n",
       "      <td>Yes</td>\n",
       "    </tr>\n",
       "    <tr>\n",
       "      <th>19</th>\n",
       "      <td>3638-WEABW</td>\n",
       "      <td>DSL</td>\n",
       "      <td>No</td>\n",
       "      <td>Yes</td>\n",
       "      <td>No</td>\n",
       "      <td>Yes</td>\n",
       "      <td>No</td>\n",
       "      <td>No</td>\n",
       "    </tr>\n",
       "  </tbody>\n",
       "</table>\n",
       "</div>"
      ],
      "text/plain": [
       "    customerID InternetService OnlineSecurity OnlineBackup DeviceProtection  \\\n",
       "0   7590-VHVEG             DSL             No          Yes               No   \n",
       "1   5575-GNVDE             DSL            Yes           No              Yes   \n",
       "2   3668-QPYBK             DSL            Yes          Yes               No   \n",
       "3   7795-CFOCW             DSL            Yes           No              Yes   \n",
       "4   9237-HQITU     Fiber optic             No           No               No   \n",
       "5   9305-CDSKC     Fiber optic             No           No              Yes   \n",
       "6   1452-KIOVK     Fiber optic             No          Yes               No   \n",
       "7   6713-OKOMC             DSL            Yes           No               No   \n",
       "8   7892-POOKP     Fiber optic             No           No              Yes   \n",
       "9   6388-TABGU             DSL            Yes          Yes               No   \n",
       "10  9763-GRSKD             DSL            Yes           No               No   \n",
       "11  8091-TTVAX     Fiber optic             No           No              Yes   \n",
       "12  0280-XJGEX     Fiber optic             No          Yes              Yes   \n",
       "13  5129-JLPIS     Fiber optic            Yes           No              Yes   \n",
       "14  3655-SNQYZ     Fiber optic            Yes          Yes              Yes   \n",
       "15  9959-WOFKT     Fiber optic            Yes           No              Yes   \n",
       "16  4190-MFLUW             DSL             No           No              Yes   \n",
       "17  4183-MYFRB     Fiber optic             No          Yes              Yes   \n",
       "18  8779-QRDMV             DSL             No           No              Yes   \n",
       "19  3638-WEABW             DSL             No          Yes               No   \n",
       "\n",
       "   TechSupport StreamingTV StreamingMovies  \n",
       "0           No          No              No  \n",
       "1           No          No              No  \n",
       "2           No          No              No  \n",
       "3          Yes          No              No  \n",
       "4           No          No              No  \n",
       "5           No         Yes             Yes  \n",
       "6           No         Yes              No  \n",
       "7           No          No              No  \n",
       "8          Yes         Yes             Yes  \n",
       "9           No          No              No  \n",
       "10          No          No              No  \n",
       "11          No         Yes             Yes  \n",
       "12          No         Yes             Yes  \n",
       "13         Yes         Yes             Yes  \n",
       "14         Yes         Yes             Yes  \n",
       "15          No         Yes             Yes  \n",
       "16         Yes          No              No  \n",
       "17          No          No             Yes  \n",
       "18          No          No             Yes  \n",
       "19         Yes          No              No  "
      ]
     },
     "metadata": {},
     "output_type": "display_data"
    },
    {
     "name": "stdout",
     "output_type": "stream",
     "text": [
      "<class 'pandas.core.frame.DataFrame'>\n",
      "RangeIndex: 5517 entries, 0 to 5516\n",
      "Data columns (total 8 columns):\n",
      " #   Column            Non-Null Count  Dtype \n",
      "---  ------            --------------  ----- \n",
      " 0   customerID        5517 non-null   object\n",
      " 1   InternetService   5517 non-null   object\n",
      " 2   OnlineSecurity    5517 non-null   object\n",
      " 3   OnlineBackup      5517 non-null   object\n",
      " 4   DeviceProtection  5517 non-null   object\n",
      " 5   TechSupport       5517 non-null   object\n",
      " 6   StreamingTV       5517 non-null   object\n",
      " 7   StreamingMovies   5517 non-null   object\n",
      "dtypes: object(8)\n",
      "memory usage: 344.9+ KB\n"
     ]
    },
    {
     "data": {
      "text/html": [
       "<div>\n",
       "<style scoped>\n",
       "    .dataframe tbody tr th:only-of-type {\n",
       "        vertical-align: middle;\n",
       "    }\n",
       "\n",
       "    .dataframe tbody tr th {\n",
       "        vertical-align: top;\n",
       "    }\n",
       "\n",
       "    .dataframe thead th {\n",
       "        text-align: right;\n",
       "    }\n",
       "</style>\n",
       "<table border=\"1\" class=\"dataframe\">\n",
       "  <thead>\n",
       "    <tr style=\"text-align: right;\">\n",
       "      <th></th>\n",
       "      <th>customerID</th>\n",
       "      <th>InternetService</th>\n",
       "      <th>OnlineSecurity</th>\n",
       "      <th>OnlineBackup</th>\n",
       "      <th>DeviceProtection</th>\n",
       "      <th>TechSupport</th>\n",
       "      <th>StreamingTV</th>\n",
       "      <th>StreamingMovies</th>\n",
       "    </tr>\n",
       "  </thead>\n",
       "  <tbody>\n",
       "    <tr>\n",
       "      <th>count</th>\n",
       "      <td>5517</td>\n",
       "      <td>5517</td>\n",
       "      <td>5517</td>\n",
       "      <td>5517</td>\n",
       "      <td>5517</td>\n",
       "      <td>5517</td>\n",
       "      <td>5517</td>\n",
       "      <td>5517</td>\n",
       "    </tr>\n",
       "    <tr>\n",
       "      <th>unique</th>\n",
       "      <td>5517</td>\n",
       "      <td>2</td>\n",
       "      <td>2</td>\n",
       "      <td>2</td>\n",
       "      <td>2</td>\n",
       "      <td>2</td>\n",
       "      <td>2</td>\n",
       "      <td>2</td>\n",
       "    </tr>\n",
       "    <tr>\n",
       "      <th>top</th>\n",
       "      <td>9831-BPFRI</td>\n",
       "      <td>Fiber optic</td>\n",
       "      <td>No</td>\n",
       "      <td>No</td>\n",
       "      <td>No</td>\n",
       "      <td>No</td>\n",
       "      <td>No</td>\n",
       "      <td>No</td>\n",
       "    </tr>\n",
       "    <tr>\n",
       "      <th>freq</th>\n",
       "      <td>1</td>\n",
       "      <td>3096</td>\n",
       "      <td>3498</td>\n",
       "      <td>3088</td>\n",
       "      <td>3095</td>\n",
       "      <td>3473</td>\n",
       "      <td>2810</td>\n",
       "      <td>2785</td>\n",
       "    </tr>\n",
       "  </tbody>\n",
       "</table>\n",
       "</div>"
      ],
      "text/plain": [
       "        customerID InternetService OnlineSecurity OnlineBackup  \\\n",
       "count         5517            5517           5517         5517   \n",
       "unique        5517               2              2            2   \n",
       "top     9831-BPFRI     Fiber optic             No           No   \n",
       "freq             1            3096           3498         3088   \n",
       "\n",
       "       DeviceProtection TechSupport StreamingTV StreamingMovies  \n",
       "count              5517        5517        5517            5517  \n",
       "unique                2           2           2               2  \n",
       "top                  No          No          No              No  \n",
       "freq               3095        3473        2810            2785  "
      ]
     },
     "metadata": {},
     "output_type": "display_data"
    }
   ],
   "source": [
    "data_info(internet_new)"
   ]
  },
  {
   "cell_type": "code",
   "execution_count": 12,
   "id": "2ff68612",
   "metadata": {
    "scrolled": true
   },
   "outputs": [
    {
     "data": {
      "text/html": [
       "<div>\n",
       "<style scoped>\n",
       "    .dataframe tbody tr th:only-of-type {\n",
       "        vertical-align: middle;\n",
       "    }\n",
       "\n",
       "    .dataframe tbody tr th {\n",
       "        vertical-align: top;\n",
       "    }\n",
       "\n",
       "    .dataframe thead th {\n",
       "        text-align: right;\n",
       "    }\n",
       "</style>\n",
       "<table border=\"1\" class=\"dataframe\">\n",
       "  <thead>\n",
       "    <tr style=\"text-align: right;\">\n",
       "      <th></th>\n",
       "      <th>customerID</th>\n",
       "      <th>MultipleLines</th>\n",
       "    </tr>\n",
       "  </thead>\n",
       "  <tbody>\n",
       "    <tr>\n",
       "      <th>0</th>\n",
       "      <td>5575-GNVDE</td>\n",
       "      <td>No</td>\n",
       "    </tr>\n",
       "    <tr>\n",
       "      <th>1</th>\n",
       "      <td>3668-QPYBK</td>\n",
       "      <td>No</td>\n",
       "    </tr>\n",
       "    <tr>\n",
       "      <th>2</th>\n",
       "      <td>9237-HQITU</td>\n",
       "      <td>No</td>\n",
       "    </tr>\n",
       "    <tr>\n",
       "      <th>3</th>\n",
       "      <td>9305-CDSKC</td>\n",
       "      <td>Yes</td>\n",
       "    </tr>\n",
       "    <tr>\n",
       "      <th>4</th>\n",
       "      <td>1452-KIOVK</td>\n",
       "      <td>Yes</td>\n",
       "    </tr>\n",
       "    <tr>\n",
       "      <th>5</th>\n",
       "      <td>7892-POOKP</td>\n",
       "      <td>Yes</td>\n",
       "    </tr>\n",
       "    <tr>\n",
       "      <th>6</th>\n",
       "      <td>6388-TABGU</td>\n",
       "      <td>No</td>\n",
       "    </tr>\n",
       "    <tr>\n",
       "      <th>7</th>\n",
       "      <td>9763-GRSKD</td>\n",
       "      <td>No</td>\n",
       "    </tr>\n",
       "    <tr>\n",
       "      <th>8</th>\n",
       "      <td>7469-LKBCI</td>\n",
       "      <td>No</td>\n",
       "    </tr>\n",
       "    <tr>\n",
       "      <th>9</th>\n",
       "      <td>8091-TTVAX</td>\n",
       "      <td>Yes</td>\n",
       "    </tr>\n",
       "    <tr>\n",
       "      <th>10</th>\n",
       "      <td>0280-XJGEX</td>\n",
       "      <td>Yes</td>\n",
       "    </tr>\n",
       "    <tr>\n",
       "      <th>11</th>\n",
       "      <td>5129-JLPIS</td>\n",
       "      <td>No</td>\n",
       "    </tr>\n",
       "    <tr>\n",
       "      <th>12</th>\n",
       "      <td>3655-SNQYZ</td>\n",
       "      <td>Yes</td>\n",
       "    </tr>\n",
       "    <tr>\n",
       "      <th>13</th>\n",
       "      <td>8191-XWSZG</td>\n",
       "      <td>No</td>\n",
       "    </tr>\n",
       "    <tr>\n",
       "      <th>14</th>\n",
       "      <td>9959-WOFKT</td>\n",
       "      <td>Yes</td>\n",
       "    </tr>\n",
       "    <tr>\n",
       "      <th>15</th>\n",
       "      <td>4190-MFLUW</td>\n",
       "      <td>No</td>\n",
       "    </tr>\n",
       "    <tr>\n",
       "      <th>16</th>\n",
       "      <td>4183-MYFRB</td>\n",
       "      <td>No</td>\n",
       "    </tr>\n",
       "    <tr>\n",
       "      <th>17</th>\n",
       "      <td>1680-VDCWW</td>\n",
       "      <td>No</td>\n",
       "    </tr>\n",
       "    <tr>\n",
       "      <th>18</th>\n",
       "      <td>1066-JKSGK</td>\n",
       "      <td>No</td>\n",
       "    </tr>\n",
       "    <tr>\n",
       "      <th>19</th>\n",
       "      <td>3638-WEABW</td>\n",
       "      <td>Yes</td>\n",
       "    </tr>\n",
       "  </tbody>\n",
       "</table>\n",
       "</div>"
      ],
      "text/plain": [
       "    customerID MultipleLines\n",
       "0   5575-GNVDE            No\n",
       "1   3668-QPYBK            No\n",
       "2   9237-HQITU            No\n",
       "3   9305-CDSKC           Yes\n",
       "4   1452-KIOVK           Yes\n",
       "5   7892-POOKP           Yes\n",
       "6   6388-TABGU            No\n",
       "7   9763-GRSKD            No\n",
       "8   7469-LKBCI            No\n",
       "9   8091-TTVAX           Yes\n",
       "10  0280-XJGEX           Yes\n",
       "11  5129-JLPIS            No\n",
       "12  3655-SNQYZ           Yes\n",
       "13  8191-XWSZG            No\n",
       "14  9959-WOFKT           Yes\n",
       "15  4190-MFLUW            No\n",
       "16  4183-MYFRB            No\n",
       "17  1680-VDCWW            No\n",
       "18  1066-JKSGK            No\n",
       "19  3638-WEABW           Yes"
      ]
     },
     "metadata": {},
     "output_type": "display_data"
    },
    {
     "name": "stdout",
     "output_type": "stream",
     "text": [
      "<class 'pandas.core.frame.DataFrame'>\n",
      "RangeIndex: 6361 entries, 0 to 6360\n",
      "Data columns (total 2 columns):\n",
      " #   Column         Non-Null Count  Dtype \n",
      "---  ------         --------------  ----- \n",
      " 0   customerID     6361 non-null   object\n",
      " 1   MultipleLines  6361 non-null   object\n",
      "dtypes: object(2)\n",
      "memory usage: 99.5+ KB\n"
     ]
    },
    {
     "data": {
      "text/html": [
       "<div>\n",
       "<style scoped>\n",
       "    .dataframe tbody tr th:only-of-type {\n",
       "        vertical-align: middle;\n",
       "    }\n",
       "\n",
       "    .dataframe tbody tr th {\n",
       "        vertical-align: top;\n",
       "    }\n",
       "\n",
       "    .dataframe thead th {\n",
       "        text-align: right;\n",
       "    }\n",
       "</style>\n",
       "<table border=\"1\" class=\"dataframe\">\n",
       "  <thead>\n",
       "    <tr style=\"text-align: right;\">\n",
       "      <th></th>\n",
       "      <th>customerID</th>\n",
       "      <th>MultipleLines</th>\n",
       "    </tr>\n",
       "  </thead>\n",
       "  <tbody>\n",
       "    <tr>\n",
       "      <th>count</th>\n",
       "      <td>6361</td>\n",
       "      <td>6361</td>\n",
       "    </tr>\n",
       "    <tr>\n",
       "      <th>unique</th>\n",
       "      <td>6361</td>\n",
       "      <td>2</td>\n",
       "    </tr>\n",
       "    <tr>\n",
       "      <th>top</th>\n",
       "      <td>4462-CYWMH</td>\n",
       "      <td>No</td>\n",
       "    </tr>\n",
       "    <tr>\n",
       "      <th>freq</th>\n",
       "      <td>1</td>\n",
       "      <td>3390</td>\n",
       "    </tr>\n",
       "  </tbody>\n",
       "</table>\n",
       "</div>"
      ],
      "text/plain": [
       "        customerID MultipleLines\n",
       "count         6361          6361\n",
       "unique        6361             2\n",
       "top     4462-CYWMH            No\n",
       "freq             1          3390"
      ]
     },
     "metadata": {},
     "output_type": "display_data"
    }
   ],
   "source": [
    "data_info(phone_new)"
   ]
  },
  {
   "cell_type": "markdown",
   "id": "719f2fc2",
   "metadata": {},
   "source": [
    "В ходе 1 этапа загружены и изучены данные 4 датасетов, исправлен формат столбцов BeginDate, TotalCharges и представление 'SeniorCitizen'. "
   ]
  },
  {
   "cell_type": "markdown",
   "id": "c27246fa",
   "metadata": {},
   "source": [
    "## Исследовательский анализ и предобработка данных"
   ]
  },
  {
   "cell_type": "code",
   "execution_count": 13,
   "id": "214d4ceb",
   "metadata": {},
   "outputs": [],
   "source": [
    "def data_unique(data):\n",
    "    for row in data.columns:\n",
    "        if data[row].dtype==object:\n",
    "            if row == 'customerID'or row == 'EndDate':\n",
    "                continue\n",
    "            else:\n",
    "                print(f'Количество уникальных значений в столбце {row}:')\n",
    "                print(len(data[row].unique()))\n",
    "                print(data[row].value_counts())"
   ]
  },
  {
   "cell_type": "code",
   "execution_count": 14,
   "id": "235de532",
   "metadata": {
    "scrolled": true
   },
   "outputs": [
    {
     "name": "stdout",
     "output_type": "stream",
     "text": [
      "Количество уникальных значений в столбце Type:\n",
      "3\n",
      "Month-to-month    3875\n",
      "Two year          1695\n",
      "One year          1473\n",
      "Name: Type, dtype: int64\n",
      "Количество уникальных значений в столбце PaperlessBilling:\n",
      "2\n",
      "Yes    4171\n",
      "No     2872\n",
      "Name: PaperlessBilling, dtype: int64\n",
      "Количество уникальных значений в столбце PaymentMethod:\n",
      "4\n",
      "Electronic check             2365\n",
      "Mailed check                 1612\n",
      "Bank transfer (automatic)    1544\n",
      "Credit card (automatic)      1522\n",
      "Name: PaymentMethod, dtype: int64\n"
     ]
    }
   ],
   "source": [
    "data_unique(contract_new)"
   ]
  },
  {
   "cell_type": "code",
   "execution_count": 15,
   "id": "ff5d7971",
   "metadata": {},
   "outputs": [
    {
     "name": "stdout",
     "output_type": "stream",
     "text": [
      "Количество уникальных значений в столбце gender:\n",
      "2\n",
      "Male      3555\n",
      "Female    3488\n",
      "Name: gender, dtype: int64\n",
      "Количество уникальных значений в столбце SeniorCitizen:\n",
      "2\n",
      "No     5901\n",
      "Yes    1142\n",
      "Name: SeniorCitizen, dtype: int64\n",
      "Количество уникальных значений в столбце Partner:\n",
      "2\n",
      "No     3641\n",
      "Yes    3402\n",
      "Name: Partner, dtype: int64\n",
      "Количество уникальных значений в столбце Dependents:\n",
      "2\n",
      "No     4933\n",
      "Yes    2110\n",
      "Name: Dependents, dtype: int64\n"
     ]
    }
   ],
   "source": [
    "data_unique(personal_new)"
   ]
  },
  {
   "cell_type": "code",
   "execution_count": 16,
   "id": "ca700e74",
   "metadata": {
    "scrolled": true
   },
   "outputs": [
    {
     "name": "stdout",
     "output_type": "stream",
     "text": [
      "Количество уникальных значений в столбце InternetService:\n",
      "2\n",
      "Fiber optic    3096\n",
      "DSL            2421\n",
      "Name: InternetService, dtype: int64\n",
      "Количество уникальных значений в столбце OnlineSecurity:\n",
      "2\n",
      "No     3498\n",
      "Yes    2019\n",
      "Name: OnlineSecurity, dtype: int64\n",
      "Количество уникальных значений в столбце OnlineBackup:\n",
      "2\n",
      "No     3088\n",
      "Yes    2429\n",
      "Name: OnlineBackup, dtype: int64\n",
      "Количество уникальных значений в столбце DeviceProtection:\n",
      "2\n",
      "No     3095\n",
      "Yes    2422\n",
      "Name: DeviceProtection, dtype: int64\n",
      "Количество уникальных значений в столбце TechSupport:\n",
      "2\n",
      "No     3473\n",
      "Yes    2044\n",
      "Name: TechSupport, dtype: int64\n",
      "Количество уникальных значений в столбце StreamingTV:\n",
      "2\n",
      "No     2810\n",
      "Yes    2707\n",
      "Name: StreamingTV, dtype: int64\n",
      "Количество уникальных значений в столбце StreamingMovies:\n",
      "2\n",
      "No     2785\n",
      "Yes    2732\n",
      "Name: StreamingMovies, dtype: int64\n"
     ]
    }
   ],
   "source": [
    "data_unique(internet_new)"
   ]
  },
  {
   "cell_type": "code",
   "execution_count": 17,
   "id": "b3f221e3",
   "metadata": {},
   "outputs": [
    {
     "name": "stdout",
     "output_type": "stream",
     "text": [
      "Количество уникальных значений в столбце MultipleLines:\n",
      "2\n",
      "No     3390\n",
      "Yes    2971\n",
      "Name: MultipleLines, dtype: int64\n"
     ]
    }
   ],
   "source": [
    "data_unique(phone_new)"
   ]
  },
  {
   "cell_type": "code",
   "execution_count": 18,
   "id": "9524f59b",
   "metadata": {},
   "outputs": [],
   "source": [
    "def data_diagram(data):\n",
    "    for row in data.columns:\n",
    "        if data[row].dtype==object:\n",
    "            if row == 'customerID' or row == 'EndDate':\n",
    "                continue \n",
    "            else:\n",
    "                ax = data[row].value_counts().plot(kind='pie', title = row, legend=True, ylabel='', labeldistance=None)\n",
    "                ax.legend(bbox_to_anchor=(1, 1.02), loc='upper left')\n",
    "                plt.show()"
   ]
  },
  {
   "cell_type": "code",
   "execution_count": 19,
   "id": "09700792",
   "metadata": {
    "scrolled": true
   },
   "outputs": [
    {
     "data": {
      "image/png": "[encoded data removed]",
      "text/plain": [
       "<Figure size 432x288 with 1 Axes>"
      ]
     },
     "metadata": {},
     "output_type": "display_data"
    },
    {
     "data": {
      "image/png": "[encoded data removed]",
      "text/plain": [
       "<Figure size 432x288 with 1 Axes>"
      ]
     },
     "metadata": {},
     "output_type": "display_data"
    },
    {
     "data": {
      "image/png": "[encoded data removed]",
      "text/plain": [
       "<Figure size 432x288 with 1 Axes>"
      ]
     },
     "metadata": {},
     "output_type": "display_data"
    }
   ],
   "source": [
    "data_diagram(contract_new)"
   ]
  },
  {
   "cell_type": "code",
   "execution_count": 20,
   "id": "25ad0dae",
   "metadata": {
    "scrolled": true
   },
   "outputs": [
    {
     "data": {
      "image/png": "[encoded data removed]",
      "text/plain": [
       "<Figure size 432x288 with 1 Axes>"
      ]
     },
     "metadata": {},
     "output_type": "display_data"
    },
    {
     "data": {
      "image/png": "[encoded data removed]",
      "text/plain": [
       "<Figure size 432x288 with 1 Axes>"
      ]
     },
     "metadata": {},
     "output_type": "display_data"
    },
    {
     "data": {
      "image/png": "[encoded data removed]",
      "text/plain": [
       "<Figure size 432x288 with 1 Axes>"
      ]
     },
     "metadata": {},
     "output_type": "display_data"
    },
    {
     "data": {
      "image/png": "[encoded data removed]",
      "text/plain": [
       "<Figure size 432x288 with 1 Axes>"
      ]
     },
     "metadata": {},
     "output_type": "display_data"
    }
   ],
   "source": [
    "data_diagram(personal_new)"
   ]
  },
  {
   "cell_type": "code",
   "execution_count": 21,
   "id": "261f245b",
   "metadata": {
    "scrolled": true
   },
   "outputs": [
    {
     "data": {
      "image/png": "[encoded data removed]",
      "text/plain": [
       "<Figure size 432x288 with 1 Axes>"
      ]
     },
     "metadata": {},
     "output_type": "display_data"
    },
    {
     "data": {
      "image/png": "[encoded data removed]",
      "text/plain": [
       "<Figure size 432x288 with 1 Axes>"
      ]
     },
     "metadata": {},
     "output_type": "display_data"
    },
    {
     "data": {
      "image/png": "[encoded data removed]",
      "text/plain": [
       "<Figure size 432x288 with 1 Axes>"
      ]
     },
     "metadata": {},
     "output_type": "display_data"
    },
    {
     "data": {
      "image/png": "[encoded data removed]",
      "text/plain": [
       "<Figure size 432x288 with 1 Axes>"
      ]
     },
     "metadata": {},
     "output_type": "display_data"
    },
    {
     "data": {
      "image/png": "[encoded data removed]",
      "text/plain": [
       "<Figure size 432x288 with 1 Axes>"
      ]
     },
     "metadata": {},
     "output_type": "display_data"
    },
    {
     "data": {
      "image/png": "[encoded data removed]",
      "text/plain": [
       "<Figure size 432x288 with 1 Axes>"
      ]
     },
     "metadata": {},
     "output_type": "display_data"
    },
    {
     "data": {
      "image/png": "[encoded data removed]",
      "text/plain": [
       "<Figure size 432x288 with 1 Axes>"
      ]
     },
     "metadata": {},
     "output_type": "display_data"
    }
   ],
   "source": [
    "data_diagram(internet_new)"
   ]
  },
  {
   "cell_type": "code",
   "execution_count": 22,
   "id": "9a0289bd",
   "metadata": {
    "scrolled": true
   },
   "outputs": [
    {
     "data": {
      "image/png": "[encoded data removed]",
      "text/plain": [
       "<Figure size 432x288 with 1 Axes>"
      ]
     },
     "metadata": {},
     "output_type": "display_data"
    }
   ],
   "source": [
    "data_diagram(phone_new)"
   ]
  },
  {
   "cell_type": "code",
   "execution_count": 23,
   "id": "c5b3e830",
   "metadata": {},
   "outputs": [],
   "source": [
    "def data_hist(data):\n",
    "    for row in data.columns:\n",
    "        if data[row].dtype == int or data[row].dtype == float:\n",
    "            plt.hist(data[row], bins = 50)\n",
    "            plt.xlabel(row)\n",
    "            plt.ylabel('count')\n",
    "            plt.title(f'Распределение {row}')\n",
    "            plt.show()"
   ]
  },
  {
   "cell_type": "code",
   "execution_count": 24,
   "id": "4ada1705",
   "metadata": {
    "scrolled": true
   },
   "outputs": [
    {
     "data": {
      "image/png": "[encoded data removed]",
      "text/plain": [
       "<Figure size 432x288 with 1 Axes>"
      ]
     },
     "metadata": {
      "needs_background": "light"
     },
     "output_type": "display_data"
    },
    {
     "data": {
      "image/png": "[encoded data removed]",
      "text/plain": [
       "<Figure size 432x288 with 1 Axes>"
      ]
     },
     "metadata": {
      "needs_background": "light"
     },
     "output_type": "display_data"
    }
   ],
   "source": [
    "data_hist(contract_new)"
   ]
  },
  {
   "cell_type": "code",
   "execution_count": 25,
   "id": "44b1f4fc",
   "metadata": {},
   "outputs": [],
   "source": [
    "# функция вывода пропусков и дупликатов\n",
    "def data_dup_isna(data):\n",
    "    print('Количество дупликатов')\n",
    "    display(data.duplicated().sum())\n",
    "    print('Количество пропусков')\n",
    "    display(data.isna().sum())"
   ]
  },
  {
   "cell_type": "code",
   "execution_count": 26,
   "id": "420f44e6",
   "metadata": {},
   "outputs": [
    {
     "name": "stdout",
     "output_type": "stream",
     "text": [
      "Количество дупликатов\n"
     ]
    },
    {
     "data": {
      "text/plain": [
       "0"
      ]
     },
     "metadata": {},
     "output_type": "display_data"
    },
    {
     "name": "stdout",
     "output_type": "stream",
     "text": [
      "Количество пропусков\n"
     ]
    },
    {
     "data": {
      "text/plain": [
       "customerID           0\n",
       "BeginDate            0\n",
       "EndDate              0\n",
       "Type                 0\n",
       "PaperlessBilling     0\n",
       "PaymentMethod        0\n",
       "MonthlyCharges       0\n",
       "TotalCharges        11\n",
       "dtype: int64"
      ]
     },
     "metadata": {},
     "output_type": "display_data"
    }
   ],
   "source": [
    "data_dup_isna(contract_new)"
   ]
  },
  {
   "cell_type": "code",
   "execution_count": 27,
   "id": "094ef3dc",
   "metadata": {},
   "outputs": [],
   "source": [
    "contract_new['TotalCharges'] = contract_new['TotalCharges'].fillna(0)"
   ]
  },
  {
   "cell_type": "code",
   "execution_count": 28,
   "id": "9b096607",
   "metadata": {},
   "outputs": [
    {
     "name": "stdout",
     "output_type": "stream",
     "text": [
      "Количество дупликатов\n"
     ]
    },
    {
     "data": {
      "text/plain": [
       "0"
      ]
     },
     "metadata": {},
     "output_type": "display_data"
    },
    {
     "name": "stdout",
     "output_type": "stream",
     "text": [
      "Количество пропусков\n"
     ]
    },
    {
     "data": {
      "text/plain": [
       "customerID          0\n",
       "BeginDate           0\n",
       "EndDate             0\n",
       "Type                0\n",
       "PaperlessBilling    0\n",
       "PaymentMethod       0\n",
       "MonthlyCharges      0\n",
       "TotalCharges        0\n",
       "dtype: int64"
      ]
     },
     "metadata": {},
     "output_type": "display_data"
    }
   ],
   "source": [
    "data_dup_isna(contract_new)"
   ]
  },
  {
   "cell_type": "code",
   "execution_count": 29,
   "id": "3a413631",
   "metadata": {},
   "outputs": [
    {
     "name": "stdout",
     "output_type": "stream",
     "text": [
      "Количество дупликатов\n"
     ]
    },
    {
     "data": {
      "text/plain": [
       "0"
      ]
     },
     "metadata": {},
     "output_type": "display_data"
    },
    {
     "name": "stdout",
     "output_type": "stream",
     "text": [
      "Количество пропусков\n"
     ]
    },
    {
     "data": {
      "text/plain": [
       "customerID       0\n",
       "gender           0\n",
       "SeniorCitizen    0\n",
       "Partner          0\n",
       "Dependents       0\n",
       "dtype: int64"
      ]
     },
     "metadata": {},
     "output_type": "display_data"
    }
   ],
   "source": [
    "data_dup_isna(personal_new)"
   ]
  },
  {
   "cell_type": "code",
   "execution_count": 30,
   "id": "cd6ce0a9",
   "metadata": {},
   "outputs": [
    {
     "name": "stdout",
     "output_type": "stream",
     "text": [
      "Количество дупликатов\n"
     ]
    },
    {
     "data": {
      "text/plain": [
       "0"
      ]
     },
     "metadata": {},
     "output_type": "display_data"
    },
    {
     "name": "stdout",
     "output_type": "stream",
     "text": [
      "Количество пропусков\n"
     ]
    },
    {
     "data": {
      "text/plain": [
       "customerID          0\n",
       "InternetService     0\n",
       "OnlineSecurity      0\n",
       "OnlineBackup        0\n",
       "DeviceProtection    0\n",
       "TechSupport         0\n",
       "StreamingTV         0\n",
       "StreamingMovies     0\n",
       "dtype: int64"
      ]
     },
     "metadata": {},
     "output_type": "display_data"
    }
   ],
   "source": [
    "data_dup_isna(internet_new)"
   ]
  },
  {
   "cell_type": "code",
   "execution_count": 31,
   "id": "b68a5f29",
   "metadata": {},
   "outputs": [
    {
     "name": "stdout",
     "output_type": "stream",
     "text": [
      "Количество дупликатов\n"
     ]
    },
    {
     "data": {
      "text/plain": [
       "0"
      ]
     },
     "metadata": {},
     "output_type": "display_data"
    },
    {
     "name": "stdout",
     "output_type": "stream",
     "text": [
      "Количество пропусков\n"
     ]
    },
    {
     "data": {
      "text/plain": [
       "customerID       0\n",
       "MultipleLines    0\n",
       "dtype: int64"
      ]
     },
     "metadata": {},
     "output_type": "display_data"
    }
   ],
   "source": [
    "data_dup_isna(phone_new)"
   ]
  },
  {
   "cell_type": "markdown",
   "id": "bae988af",
   "metadata": {},
   "source": [
    "Датафреймы не содержат дупликатов, пропуски в столбце TotalCharges устранены.<br>\n",
    "В данных много категориальных признаков с распределением примерно 50/50."
   ]
  },
  {
   "cell_type": "markdown",
   "id": "84778aa3",
   "metadata": {},
   "source": [
    "## Объединение данных"
   ]
  },
  {
   "cell_type": "code",
   "execution_count": 32,
   "id": "3d274e84",
   "metadata": {
    "scrolled": true
   },
   "outputs": [
    {
     "data": {
      "text/html": [
       "<div>\n",
       "<style scoped>\n",
       "    .dataframe tbody tr th:only-of-type {\n",
       "        vertical-align: middle;\n",
       "    }\n",
       "\n",
       "    .dataframe tbody tr th {\n",
       "        vertical-align: top;\n",
       "    }\n",
       "\n",
       "    .dataframe thead th {\n",
       "        text-align: right;\n",
       "    }\n",
       "</style>\n",
       "<table border=\"1\" class=\"dataframe\">\n",
       "  <thead>\n",
       "    <tr style=\"text-align: right;\">\n",
       "      <th></th>\n",
       "      <th>customerID</th>\n",
       "      <th>gender</th>\n",
       "      <th>SeniorCitizen</th>\n",
       "      <th>Partner</th>\n",
       "      <th>Dependents</th>\n",
       "      <th>BeginDate</th>\n",
       "      <th>EndDate</th>\n",
       "      <th>Type</th>\n",
       "      <th>PaperlessBilling</th>\n",
       "      <th>PaymentMethod</th>\n",
       "      <th>MonthlyCharges</th>\n",
       "      <th>TotalCharges</th>\n",
       "      <th>InternetService</th>\n",
       "      <th>OnlineSecurity</th>\n",
       "      <th>OnlineBackup</th>\n",
       "      <th>DeviceProtection</th>\n",
       "      <th>TechSupport</th>\n",
       "      <th>StreamingTV</th>\n",
       "      <th>StreamingMovies</th>\n",
       "      <th>MultipleLines</th>\n",
       "    </tr>\n",
       "  </thead>\n",
       "  <tbody>\n",
       "    <tr>\n",
       "      <th>0</th>\n",
       "      <td>7590-VHVEG</td>\n",
       "      <td>Female</td>\n",
       "      <td>No</td>\n",
       "      <td>Yes</td>\n",
       "      <td>No</td>\n",
       "      <td>2020-01-01</td>\n",
       "      <td>No</td>\n",
       "      <td>Month-to-month</td>\n",
       "      <td>Yes</td>\n",
       "      <td>Electronic check</td>\n",
       "      <td>29.85</td>\n",
       "      <td>31.04</td>\n",
       "      <td>DSL</td>\n",
       "      <td>No</td>\n",
       "      <td>Yes</td>\n",
       "      <td>No</td>\n",
       "      <td>No</td>\n",
       "      <td>No</td>\n",
       "      <td>No</td>\n",
       "      <td>NaN</td>\n",
       "    </tr>\n",
       "    <tr>\n",
       "      <th>1</th>\n",
       "      <td>5575-GNVDE</td>\n",
       "      <td>Male</td>\n",
       "      <td>No</td>\n",
       "      <td>No</td>\n",
       "      <td>No</td>\n",
       "      <td>2017-04-01</td>\n",
       "      <td>No</td>\n",
       "      <td>One year</td>\n",
       "      <td>No</td>\n",
       "      <td>Mailed check</td>\n",
       "      <td>56.95</td>\n",
       "      <td>2071.84</td>\n",
       "      <td>DSL</td>\n",
       "      <td>Yes</td>\n",
       "      <td>No</td>\n",
       "      <td>Yes</td>\n",
       "      <td>No</td>\n",
       "      <td>No</td>\n",
       "      <td>No</td>\n",
       "      <td>No</td>\n",
       "    </tr>\n",
       "    <tr>\n",
       "      <th>2</th>\n",
       "      <td>3668-QPYBK</td>\n",
       "      <td>Male</td>\n",
       "      <td>No</td>\n",
       "      <td>No</td>\n",
       "      <td>No</td>\n",
       "      <td>2019-10-01</td>\n",
       "      <td>No</td>\n",
       "      <td>Month-to-month</td>\n",
       "      <td>Yes</td>\n",
       "      <td>Mailed check</td>\n",
       "      <td>53.85</td>\n",
       "      <td>226.17</td>\n",
       "      <td>DSL</td>\n",
       "      <td>Yes</td>\n",
       "      <td>Yes</td>\n",
       "      <td>No</td>\n",
       "      <td>No</td>\n",
       "      <td>No</td>\n",
       "      <td>No</td>\n",
       "      <td>No</td>\n",
       "    </tr>\n",
       "    <tr>\n",
       "      <th>3</th>\n",
       "      <td>7795-CFOCW</td>\n",
       "      <td>Male</td>\n",
       "      <td>No</td>\n",
       "      <td>No</td>\n",
       "      <td>No</td>\n",
       "      <td>2016-05-01</td>\n",
       "      <td>No</td>\n",
       "      <td>One year</td>\n",
       "      <td>No</td>\n",
       "      <td>Bank transfer (automatic)</td>\n",
       "      <td>42.30</td>\n",
       "      <td>1960.60</td>\n",
       "      <td>DSL</td>\n",
       "      <td>Yes</td>\n",
       "      <td>No</td>\n",
       "      <td>Yes</td>\n",
       "      <td>Yes</td>\n",
       "      <td>No</td>\n",
       "      <td>No</td>\n",
       "      <td>NaN</td>\n",
       "    </tr>\n",
       "    <tr>\n",
       "      <th>4</th>\n",
       "      <td>9237-HQITU</td>\n",
       "      <td>Female</td>\n",
       "      <td>No</td>\n",
       "      <td>No</td>\n",
       "      <td>No</td>\n",
       "      <td>2019-09-01</td>\n",
       "      <td>No</td>\n",
       "      <td>Month-to-month</td>\n",
       "      <td>Yes</td>\n",
       "      <td>Electronic check</td>\n",
       "      <td>70.70</td>\n",
       "      <td>353.50</td>\n",
       "      <td>Fiber optic</td>\n",
       "      <td>No</td>\n",
       "      <td>No</td>\n",
       "      <td>No</td>\n",
       "      <td>No</td>\n",
       "      <td>No</td>\n",
       "      <td>No</td>\n",
       "      <td>No</td>\n",
       "    </tr>\n",
       "    <tr>\n",
       "      <th>5</th>\n",
       "      <td>9305-CDSKC</td>\n",
       "      <td>Female</td>\n",
       "      <td>No</td>\n",
       "      <td>No</td>\n",
       "      <td>No</td>\n",
       "      <td>2019-03-01</td>\n",
       "      <td>No</td>\n",
       "      <td>Month-to-month</td>\n",
       "      <td>Yes</td>\n",
       "      <td>Electronic check</td>\n",
       "      <td>99.65</td>\n",
       "      <td>1150.96</td>\n",
       "      <td>Fiber optic</td>\n",
       "      <td>No</td>\n",
       "      <td>No</td>\n",
       "      <td>Yes</td>\n",
       "      <td>No</td>\n",
       "      <td>Yes</td>\n",
       "      <td>Yes</td>\n",
       "      <td>Yes</td>\n",
       "    </tr>\n",
       "    <tr>\n",
       "      <th>6</th>\n",
       "      <td>1452-KIOVK</td>\n",
       "      <td>Male</td>\n",
       "      <td>No</td>\n",
       "      <td>No</td>\n",
       "      <td>Yes</td>\n",
       "      <td>2018-04-01</td>\n",
       "      <td>No</td>\n",
       "      <td>Month-to-month</td>\n",
       "      <td>Yes</td>\n",
       "      <td>Credit card (automatic)</td>\n",
       "      <td>89.10</td>\n",
       "      <td>2058.21</td>\n",
       "      <td>Fiber optic</td>\n",
       "      <td>No</td>\n",
       "      <td>Yes</td>\n",
       "      <td>No</td>\n",
       "      <td>No</td>\n",
       "      <td>Yes</td>\n",
       "      <td>No</td>\n",
       "      <td>Yes</td>\n",
       "    </tr>\n",
       "    <tr>\n",
       "      <th>7</th>\n",
       "      <td>6713-OKOMC</td>\n",
       "      <td>Female</td>\n",
       "      <td>No</td>\n",
       "      <td>No</td>\n",
       "      <td>No</td>\n",
       "      <td>2019-04-01</td>\n",
       "      <td>No</td>\n",
       "      <td>Month-to-month</td>\n",
       "      <td>No</td>\n",
       "      <td>Mailed check</td>\n",
       "      <td>29.75</td>\n",
       "      <td>300.48</td>\n",
       "      <td>DSL</td>\n",
       "      <td>Yes</td>\n",
       "      <td>No</td>\n",
       "      <td>No</td>\n",
       "      <td>No</td>\n",
       "      <td>No</td>\n",
       "      <td>No</td>\n",
       "      <td>NaN</td>\n",
       "    </tr>\n",
       "    <tr>\n",
       "      <th>8</th>\n",
       "      <td>7892-POOKP</td>\n",
       "      <td>Female</td>\n",
       "      <td>No</td>\n",
       "      <td>Yes</td>\n",
       "      <td>No</td>\n",
       "      <td>2017-07-01</td>\n",
       "      <td>No</td>\n",
       "      <td>Month-to-month</td>\n",
       "      <td>Yes</td>\n",
       "      <td>Electronic check</td>\n",
       "      <td>104.80</td>\n",
       "      <td>3573.68</td>\n",
       "      <td>Fiber optic</td>\n",
       "      <td>No</td>\n",
       "      <td>No</td>\n",
       "      <td>Yes</td>\n",
       "      <td>Yes</td>\n",
       "      <td>Yes</td>\n",
       "      <td>Yes</td>\n",
       "      <td>Yes</td>\n",
       "    </tr>\n",
       "    <tr>\n",
       "      <th>9</th>\n",
       "      <td>6388-TABGU</td>\n",
       "      <td>Male</td>\n",
       "      <td>No</td>\n",
       "      <td>No</td>\n",
       "      <td>Yes</td>\n",
       "      <td>2014-12-01</td>\n",
       "      <td>2017-05-01</td>\n",
       "      <td>One year</td>\n",
       "      <td>No</td>\n",
       "      <td>Bank transfer (automatic)</td>\n",
       "      <td>56.15</td>\n",
       "      <td>1628.35</td>\n",
       "      <td>DSL</td>\n",
       "      <td>Yes</td>\n",
       "      <td>Yes</td>\n",
       "      <td>No</td>\n",
       "      <td>No</td>\n",
       "      <td>No</td>\n",
       "      <td>No</td>\n",
       "      <td>No</td>\n",
       "    </tr>\n",
       "    <tr>\n",
       "      <th>10</th>\n",
       "      <td>9763-GRSKD</td>\n",
       "      <td>Male</td>\n",
       "      <td>No</td>\n",
       "      <td>Yes</td>\n",
       "      <td>Yes</td>\n",
       "      <td>2019-01-01</td>\n",
       "      <td>No</td>\n",
       "      <td>Month-to-month</td>\n",
       "      <td>Yes</td>\n",
       "      <td>Mailed check</td>\n",
       "      <td>49.95</td>\n",
       "      <td>649.35</td>\n",
       "      <td>DSL</td>\n",
       "      <td>Yes</td>\n",
       "      <td>No</td>\n",
       "      <td>No</td>\n",
       "      <td>No</td>\n",
       "      <td>No</td>\n",
       "      <td>No</td>\n",
       "      <td>No</td>\n",
       "    </tr>\n",
       "    <tr>\n",
       "      <th>11</th>\n",
       "      <td>7469-LKBCI</td>\n",
       "      <td>Male</td>\n",
       "      <td>No</td>\n",
       "      <td>No</td>\n",
       "      <td>No</td>\n",
       "      <td>2018-10-01</td>\n",
       "      <td>No</td>\n",
       "      <td>Two year</td>\n",
       "      <td>No</td>\n",
       "      <td>Credit card (automatic)</td>\n",
       "      <td>18.95</td>\n",
       "      <td>312.30</td>\n",
       "      <td>NaN</td>\n",
       "      <td>NaN</td>\n",
       "      <td>NaN</td>\n",
       "      <td>NaN</td>\n",
       "      <td>NaN</td>\n",
       "      <td>NaN</td>\n",
       "      <td>NaN</td>\n",
       "      <td>No</td>\n",
       "    </tr>\n",
       "    <tr>\n",
       "      <th>12</th>\n",
       "      <td>8091-TTVAX</td>\n",
       "      <td>Male</td>\n",
       "      <td>No</td>\n",
       "      <td>Yes</td>\n",
       "      <td>No</td>\n",
       "      <td>2015-04-01</td>\n",
       "      <td>No</td>\n",
       "      <td>One year</td>\n",
       "      <td>No</td>\n",
       "      <td>Credit card (automatic)</td>\n",
       "      <td>100.35</td>\n",
       "      <td>6111.31</td>\n",
       "      <td>Fiber optic</td>\n",
       "      <td>No</td>\n",
       "      <td>No</td>\n",
       "      <td>Yes</td>\n",
       "      <td>No</td>\n",
       "      <td>Yes</td>\n",
       "      <td>Yes</td>\n",
       "      <td>Yes</td>\n",
       "    </tr>\n",
       "    <tr>\n",
       "      <th>13</th>\n",
       "      <td>0280-XJGEX</td>\n",
       "      <td>Male</td>\n",
       "      <td>No</td>\n",
       "      <td>No</td>\n",
       "      <td>No</td>\n",
       "      <td>2015-09-01</td>\n",
       "      <td>No</td>\n",
       "      <td>Month-to-month</td>\n",
       "      <td>Yes</td>\n",
       "      <td>Bank transfer (automatic)</td>\n",
       "      <td>103.70</td>\n",
       "      <td>5496.10</td>\n",
       "      <td>Fiber optic</td>\n",
       "      <td>No</td>\n",
       "      <td>Yes</td>\n",
       "      <td>Yes</td>\n",
       "      <td>No</td>\n",
       "      <td>Yes</td>\n",
       "      <td>Yes</td>\n",
       "      <td>Yes</td>\n",
       "    </tr>\n",
       "    <tr>\n",
       "      <th>14</th>\n",
       "      <td>5129-JLPIS</td>\n",
       "      <td>Male</td>\n",
       "      <td>No</td>\n",
       "      <td>No</td>\n",
       "      <td>No</td>\n",
       "      <td>2018-01-01</td>\n",
       "      <td>No</td>\n",
       "      <td>Month-to-month</td>\n",
       "      <td>Yes</td>\n",
       "      <td>Electronic check</td>\n",
       "      <td>105.50</td>\n",
       "      <td>2637.50</td>\n",
       "      <td>Fiber optic</td>\n",
       "      <td>Yes</td>\n",
       "      <td>No</td>\n",
       "      <td>Yes</td>\n",
       "      <td>Yes</td>\n",
       "      <td>Yes</td>\n",
       "      <td>Yes</td>\n",
       "      <td>No</td>\n",
       "    </tr>\n",
       "    <tr>\n",
       "      <th>15</th>\n",
       "      <td>3655-SNQYZ</td>\n",
       "      <td>Female</td>\n",
       "      <td>No</td>\n",
       "      <td>Yes</td>\n",
       "      <td>Yes</td>\n",
       "      <td>2014-05-01</td>\n",
       "      <td>2016-03-01</td>\n",
       "      <td>Two year</td>\n",
       "      <td>No</td>\n",
       "      <td>Credit card (automatic)</td>\n",
       "      <td>113.25</td>\n",
       "      <td>2491.50</td>\n",
       "      <td>Fiber optic</td>\n",
       "      <td>Yes</td>\n",
       "      <td>Yes</td>\n",
       "      <td>Yes</td>\n",
       "      <td>Yes</td>\n",
       "      <td>Yes</td>\n",
       "      <td>Yes</td>\n",
       "      <td>Yes</td>\n",
       "    </tr>\n",
       "    <tr>\n",
       "      <th>16</th>\n",
       "      <td>8191-XWSZG</td>\n",
       "      <td>Female</td>\n",
       "      <td>No</td>\n",
       "      <td>No</td>\n",
       "      <td>No</td>\n",
       "      <td>2015-10-01</td>\n",
       "      <td>No</td>\n",
       "      <td>One year</td>\n",
       "      <td>No</td>\n",
       "      <td>Mailed check</td>\n",
       "      <td>20.65</td>\n",
       "      <td>1106.01</td>\n",
       "      <td>NaN</td>\n",
       "      <td>NaN</td>\n",
       "      <td>NaN</td>\n",
       "      <td>NaN</td>\n",
       "      <td>NaN</td>\n",
       "      <td>NaN</td>\n",
       "      <td>NaN</td>\n",
       "      <td>No</td>\n",
       "    </tr>\n",
       "    <tr>\n",
       "      <th>17</th>\n",
       "      <td>9959-WOFKT</td>\n",
       "      <td>Male</td>\n",
       "      <td>No</td>\n",
       "      <td>No</td>\n",
       "      <td>Yes</td>\n",
       "      <td>2014-03-01</td>\n",
       "      <td>No</td>\n",
       "      <td>Two year</td>\n",
       "      <td>No</td>\n",
       "      <td>Bank transfer (automatic)</td>\n",
       "      <td>106.70</td>\n",
       "      <td>8257.51</td>\n",
       "      <td>Fiber optic</td>\n",
       "      <td>Yes</td>\n",
       "      <td>No</td>\n",
       "      <td>Yes</td>\n",
       "      <td>No</td>\n",
       "      <td>Yes</td>\n",
       "      <td>Yes</td>\n",
       "      <td>Yes</td>\n",
       "    </tr>\n",
       "    <tr>\n",
       "      <th>18</th>\n",
       "      <td>4190-MFLUW</td>\n",
       "      <td>Female</td>\n",
       "      <td>No</td>\n",
       "      <td>Yes</td>\n",
       "      <td>Yes</td>\n",
       "      <td>2019-01-01</td>\n",
       "      <td>No</td>\n",
       "      <td>Month-to-month</td>\n",
       "      <td>No</td>\n",
       "      <td>Credit card (automatic)</td>\n",
       "      <td>55.20</td>\n",
       "      <td>789.36</td>\n",
       "      <td>DSL</td>\n",
       "      <td>No</td>\n",
       "      <td>No</td>\n",
       "      <td>Yes</td>\n",
       "      <td>Yes</td>\n",
       "      <td>No</td>\n",
       "      <td>No</td>\n",
       "      <td>No</td>\n",
       "    </tr>\n",
       "    <tr>\n",
       "      <th>19</th>\n",
       "      <td>4183-MYFRB</td>\n",
       "      <td>Female</td>\n",
       "      <td>No</td>\n",
       "      <td>No</td>\n",
       "      <td>No</td>\n",
       "      <td>2018-05-01</td>\n",
       "      <td>No</td>\n",
       "      <td>Month-to-month</td>\n",
       "      <td>Yes</td>\n",
       "      <td>Electronic check</td>\n",
       "      <td>90.05</td>\n",
       "      <td>1891.05</td>\n",
       "      <td>Fiber optic</td>\n",
       "      <td>No</td>\n",
       "      <td>Yes</td>\n",
       "      <td>Yes</td>\n",
       "      <td>No</td>\n",
       "      <td>No</td>\n",
       "      <td>Yes</td>\n",
       "      <td>No</td>\n",
       "    </tr>\n",
       "  </tbody>\n",
       "</table>\n",
       "</div>"
      ],
      "text/plain": [
       "    customerID  gender SeniorCitizen Partner Dependents  BeginDate  \\\n",
       "0   7590-VHVEG  Female            No     Yes         No 2020-01-01   \n",
       "1   5575-GNVDE    Male            No      No         No 2017-04-01   \n",
       "2   3668-QPYBK    Male            No      No         No 2019-10-01   \n",
       "3   7795-CFOCW    Male            No      No         No 2016-05-01   \n",
       "4   9237-HQITU  Female            No      No         No 2019-09-01   \n",
       "5   9305-CDSKC  Female            No      No         No 2019-03-01   \n",
       "6   1452-KIOVK    Male            No      No        Yes 2018-04-01   \n",
       "7   6713-OKOMC  Female            No      No         No 2019-04-01   \n",
       "8   7892-POOKP  Female            No     Yes         No 2017-07-01   \n",
       "9   6388-TABGU    Male            No      No        Yes 2014-12-01   \n",
       "10  9763-GRSKD    Male            No     Yes        Yes 2019-01-01   \n",
       "11  7469-LKBCI    Male            No      No         No 2018-10-01   \n",
       "12  8091-TTVAX    Male            No     Yes         No 2015-04-01   \n",
       "13  0280-XJGEX    Male            No      No         No 2015-09-01   \n",
       "14  5129-JLPIS    Male            No      No         No 2018-01-01   \n",
       "15  3655-SNQYZ  Female            No     Yes        Yes 2014-05-01   \n",
       "16  8191-XWSZG  Female            No      No         No 2015-10-01   \n",
       "17  9959-WOFKT    Male            No      No        Yes 2014-03-01   \n",
       "18  4190-MFLUW  Female            No     Yes        Yes 2019-01-01   \n",
       "19  4183-MYFRB  Female            No      No         No 2018-05-01   \n",
       "\n",
       "       EndDate            Type PaperlessBilling              PaymentMethod  \\\n",
       "0           No  Month-to-month              Yes           Electronic check   \n",
       "1           No        One year               No               Mailed check   \n",
       "2           No  Month-to-month              Yes               Mailed check   \n",
       "3           No        One year               No  Bank transfer (automatic)   \n",
       "4           No  Month-to-month              Yes           Electronic check   \n",
       "5           No  Month-to-month              Yes           Electronic check   \n",
       "6           No  Month-to-month              Yes    Credit card (automatic)   \n",
       "7           No  Month-to-month               No               Mailed check   \n",
       "8           No  Month-to-month              Yes           Electronic check   \n",
       "9   2017-05-01        One year               No  Bank transfer (automatic)   \n",
       "10          No  Month-to-month              Yes               Mailed check   \n",
       "11          No        Two year               No    Credit card (automatic)   \n",
       "12          No        One year               No    Credit card (automatic)   \n",
       "13          No  Month-to-month              Yes  Bank transfer (automatic)   \n",
       "14          No  Month-to-month              Yes           Electronic check   \n",
       "15  2016-03-01        Two year               No    Credit card (automatic)   \n",
       "16          No        One year               No               Mailed check   \n",
       "17          No        Two year               No  Bank transfer (automatic)   \n",
       "18          No  Month-to-month               No    Credit card (automatic)   \n",
       "19          No  Month-to-month              Yes           Electronic check   \n",
       "\n",
       "    MonthlyCharges  TotalCharges InternetService OnlineSecurity OnlineBackup  \\\n",
       "0            29.85         31.04             DSL             No          Yes   \n",
       "1            56.95       2071.84             DSL            Yes           No   \n",
       "2            53.85        226.17             DSL            Yes          Yes   \n",
       "3            42.30       1960.60             DSL            Yes           No   \n",
       "4            70.70        353.50     Fiber optic             No           No   \n",
       "5            99.65       1150.96     Fiber optic             No           No   \n",
       "6            89.10       2058.21     Fiber optic             No          Yes   \n",
       "7            29.75        300.48             DSL            Yes           No   \n",
       "8           104.80       3573.68     Fiber optic             No           No   \n",
       "9            56.15       1628.35             DSL            Yes          Yes   \n",
       "10           49.95        649.35             DSL            Yes           No   \n",
       "11           18.95        312.30             NaN            NaN          NaN   \n",
       "12          100.35       6111.31     Fiber optic             No           No   \n",
       "13          103.70       5496.10     Fiber optic             No          Yes   \n",
       "14          105.50       2637.50     Fiber optic            Yes           No   \n",
       "15          113.25       2491.50     Fiber optic            Yes          Yes   \n",
       "16           20.65       1106.01             NaN            NaN          NaN   \n",
       "17          106.70       8257.51     Fiber optic            Yes           No   \n",
       "18           55.20        789.36             DSL             No           No   \n",
       "19           90.05       1891.05     Fiber optic             No          Yes   \n",
       "\n",
       "   DeviceProtection TechSupport StreamingTV StreamingMovies MultipleLines  \n",
       "0                No          No          No              No           NaN  \n",
       "1               Yes          No          No              No            No  \n",
       "2                No          No          No              No            No  \n",
       "3               Yes         Yes          No              No           NaN  \n",
       "4                No          No          No              No            No  \n",
       "5               Yes          No         Yes             Yes           Yes  \n",
       "6                No          No         Yes              No           Yes  \n",
       "7                No          No          No              No           NaN  \n",
       "8               Yes         Yes         Yes             Yes           Yes  \n",
       "9                No          No          No              No            No  \n",
       "10               No          No          No              No            No  \n",
       "11              NaN         NaN         NaN             NaN            No  \n",
       "12              Yes          No         Yes             Yes           Yes  \n",
       "13              Yes          No         Yes             Yes           Yes  \n",
       "14              Yes         Yes         Yes             Yes            No  \n",
       "15              Yes         Yes         Yes             Yes           Yes  \n",
       "16              NaN         NaN         NaN             NaN            No  \n",
       "17              Yes          No         Yes             Yes           Yes  \n",
       "18              Yes         Yes          No              No            No  \n",
       "19              Yes          No          No             Yes            No  "
      ]
     },
     "metadata": {},
     "output_type": "display_data"
    },
    {
     "name": "stdout",
     "output_type": "stream",
     "text": [
      "<class 'pandas.core.frame.DataFrame'>\n",
      "Int64Index: 7043 entries, 0 to 7042\n",
      "Data columns (total 20 columns):\n",
      " #   Column            Non-Null Count  Dtype         \n",
      "---  ------            --------------  -----         \n",
      " 0   customerID        7043 non-null   object        \n",
      " 1   gender            7043 non-null   object        \n",
      " 2   SeniorCitizen     7043 non-null   object        \n",
      " 3   Partner           7043 non-null   object        \n",
      " 4   Dependents        7043 non-null   object        \n",
      " 5   BeginDate         7043 non-null   datetime64[ns]\n",
      " 6   EndDate           7043 non-null   object        \n",
      " 7   Type              7043 non-null   object        \n",
      " 8   PaperlessBilling  7043 non-null   object        \n",
      " 9   PaymentMethod     7043 non-null   object        \n",
      " 10  MonthlyCharges    7043 non-null   float64       \n",
      " 11  TotalCharges      7043 non-null   float64       \n",
      " 12  InternetService   5517 non-null   object        \n",
      " 13  OnlineSecurity    5517 non-null   object        \n",
      " 14  OnlineBackup      5517 non-null   object        \n",
      " 15  DeviceProtection  5517 non-null   object        \n",
      " 16  TechSupport       5517 non-null   object        \n",
      " 17  StreamingTV       5517 non-null   object        \n",
      " 18  StreamingMovies   5517 non-null   object        \n",
      " 19  MultipleLines     6361 non-null   object        \n",
      "dtypes: datetime64[ns](1), float64(2), object(17)\n",
      "memory usage: 1.1+ MB\n"
     ]
    },
    {
     "data": {
      "text/html": [
       "<div>\n",
       "<style scoped>\n",
       "    .dataframe tbody tr th:only-of-type {\n",
       "        vertical-align: middle;\n",
       "    }\n",
       "\n",
       "    .dataframe tbody tr th {\n",
       "        vertical-align: top;\n",
       "    }\n",
       "\n",
       "    .dataframe thead th {\n",
       "        text-align: right;\n",
       "    }\n",
       "</style>\n",
       "<table border=\"1\" class=\"dataframe\">\n",
       "  <thead>\n",
       "    <tr style=\"text-align: right;\">\n",
       "      <th></th>\n",
       "      <th>MonthlyCharges</th>\n",
       "      <th>TotalCharges</th>\n",
       "    </tr>\n",
       "  </thead>\n",
       "  <tbody>\n",
       "    <tr>\n",
       "      <th>count</th>\n",
       "      <td>7043.000000</td>\n",
       "      <td>7043.000000</td>\n",
       "    </tr>\n",
       "    <tr>\n",
       "      <th>mean</th>\n",
       "      <td>64.761692</td>\n",
       "      <td>2115.312885</td>\n",
       "    </tr>\n",
       "    <tr>\n",
       "      <th>std</th>\n",
       "      <td>30.090047</td>\n",
       "      <td>2112.742814</td>\n",
       "    </tr>\n",
       "    <tr>\n",
       "      <th>min</th>\n",
       "      <td>18.250000</td>\n",
       "      <td>0.000000</td>\n",
       "    </tr>\n",
       "    <tr>\n",
       "      <th>25%</th>\n",
       "      <td>35.500000</td>\n",
       "      <td>436.750000</td>\n",
       "    </tr>\n",
       "    <tr>\n",
       "      <th>50%</th>\n",
       "      <td>70.350000</td>\n",
       "      <td>1343.350000</td>\n",
       "    </tr>\n",
       "    <tr>\n",
       "      <th>75%</th>\n",
       "      <td>89.850000</td>\n",
       "      <td>3236.690000</td>\n",
       "    </tr>\n",
       "    <tr>\n",
       "      <th>max</th>\n",
       "      <td>118.750000</td>\n",
       "      <td>9221.380000</td>\n",
       "    </tr>\n",
       "  </tbody>\n",
       "</table>\n",
       "</div>"
      ],
      "text/plain": [
       "       MonthlyCharges  TotalCharges\n",
       "count     7043.000000   7043.000000\n",
       "mean        64.761692   2115.312885\n",
       "std         30.090047   2112.742814\n",
       "min         18.250000      0.000000\n",
       "25%         35.500000    436.750000\n",
       "50%         70.350000   1343.350000\n",
       "75%         89.850000   3236.690000\n",
       "max        118.750000   9221.380000"
      ]
     },
     "metadata": {},
     "output_type": "display_data"
    }
   ],
   "source": [
    "data = personal_new.merge(contract_new, on ='customerID', how='inner')\n",
    "data = data.merge(internet_new, on ='customerID', how = 'outer')\n",
    "data = data.merge(phone_new, on ='customerID', how = 'outer')\n",
    "data_info(data)"
   ]
  },
  {
   "cell_type": "markdown",
   "id": "cf060383",
   "metadata": {},
   "source": [
    "## Исследовательский анализ и предобработка данных объединённого датафрейма"
   ]
  },
  {
   "cell_type": "code",
   "execution_count": 33,
   "id": "d67568d9",
   "metadata": {
    "scrolled": true
   },
   "outputs": [
    {
     "name": "stdout",
     "output_type": "stream",
     "text": [
      "Количество дупликатов\n"
     ]
    },
    {
     "data": {
      "text/plain": [
       "0"
      ]
     },
     "metadata": {},
     "output_type": "display_data"
    },
    {
     "name": "stdout",
     "output_type": "stream",
     "text": [
      "Количество пропусков\n"
     ]
    },
    {
     "data": {
      "text/plain": [
       "customerID             0\n",
       "gender                 0\n",
       "SeniorCitizen          0\n",
       "Partner                0\n",
       "Dependents             0\n",
       "BeginDate              0\n",
       "EndDate                0\n",
       "Type                   0\n",
       "PaperlessBilling       0\n",
       "PaymentMethod          0\n",
       "MonthlyCharges         0\n",
       "TotalCharges           0\n",
       "InternetService     1526\n",
       "OnlineSecurity      1526\n",
       "OnlineBackup        1526\n",
       "DeviceProtection    1526\n",
       "TechSupport         1526\n",
       "StreamingTV         1526\n",
       "StreamingMovies     1526\n",
       "MultipleLines        682\n",
       "dtype: int64"
      ]
     },
     "metadata": {},
     "output_type": "display_data"
    }
   ],
   "source": [
    "data_dup_isna(data)"
   ]
  },
  {
   "cell_type": "code",
   "execution_count": 34,
   "id": "5dc47cc7",
   "metadata": {},
   "outputs": [],
   "source": [
    "# Создание целевого признака 'Broken_contract' (закончен ли договор с компанией Теледом)\n",
    "data['Broken_contract'] = 1\n",
    "data.loc[data['EndDate'] == 'No', 'Broken_contract'] = 0"
   ]
  },
  {
   "cell_type": "code",
   "execution_count": 35,
   "id": "38f62eac",
   "metadata": {},
   "outputs": [],
   "source": [
    "# '2020-02-01' - дата выгрузки датасета\n",
    "data.loc[data['EndDate'] == 'No', 'EndDate'] = '2020-02-01'\n",
    "data['EndDate'] = pd.to_datetime(data['EndDate'], format='%Y-%m-%d')"
   ]
  },
  {
   "cell_type": "code",
   "execution_count": 36,
   "id": "77417781",
   "metadata": {},
   "outputs": [],
   "source": [
    "# Создание признака 'Duration_contract' (продолжительность контракта)\n",
    "data['Duration_contract'] = (data['EndDate'] - data['BeginDate']).dt.components.days\n",
    "\n",
    "# Удаление признаков 'BeginDate' и 'EndDate' и идентификатора 'customerID'\n",
    "data = data.drop(['BeginDate', 'EndDate','customerID'], axis=1)"
   ]
  },
  {
   "cell_type": "code",
   "execution_count": 37,
   "id": "78f24165",
   "metadata": {},
   "outputs": [],
   "source": [
    "# Заполнение пропусков после объединения таблиц\n",
    "data = data.fillna('No')"
   ]
  },
  {
   "cell_type": "code",
   "execution_count": 38,
   "id": "37d6a6bd",
   "metadata": {
    "scrolled": true
   },
   "outputs": [
    {
     "name": "stdout",
     "output_type": "stream",
     "text": [
      "Количество дупликатов\n"
     ]
    },
    {
     "data": {
      "text/plain": [
       "4"
      ]
     },
     "metadata": {},
     "output_type": "display_data"
    },
    {
     "name": "stdout",
     "output_type": "stream",
     "text": [
      "Количество пропусков\n"
     ]
    },
    {
     "data": {
      "text/plain": [
       "gender               0\n",
       "SeniorCitizen        0\n",
       "Partner              0\n",
       "Dependents           0\n",
       "Type                 0\n",
       "PaperlessBilling     0\n",
       "PaymentMethod        0\n",
       "MonthlyCharges       0\n",
       "TotalCharges         0\n",
       "InternetService      0\n",
       "OnlineSecurity       0\n",
       "OnlineBackup         0\n",
       "DeviceProtection     0\n",
       "TechSupport          0\n",
       "StreamingTV          0\n",
       "StreamingMovies      0\n",
       "MultipleLines        0\n",
       "Broken_contract      0\n",
       "Duration_contract    0\n",
       "dtype: int64"
      ]
     },
     "metadata": {},
     "output_type": "display_data"
    }
   ],
   "source": [
    "data_dup_isna(data)"
   ]
  },
  {
   "cell_type": "code",
   "execution_count": 39,
   "id": "a639c125",
   "metadata": {
    "scrolled": true
   },
   "outputs": [
    {
     "data": {
      "text/html": [
       "<div>\n",
       "<style scoped>\n",
       "    .dataframe tbody tr th:only-of-type {\n",
       "        vertical-align: middle;\n",
       "    }\n",
       "\n",
       "    .dataframe tbody tr th {\n",
       "        vertical-align: top;\n",
       "    }\n",
       "\n",
       "    .dataframe thead th {\n",
       "        text-align: right;\n",
       "    }\n",
       "</style>\n",
       "<table border=\"1\" class=\"dataframe\">\n",
       "  <thead>\n",
       "    <tr style=\"text-align: right;\">\n",
       "      <th></th>\n",
       "      <th>gender</th>\n",
       "      <th>SeniorCitizen</th>\n",
       "      <th>Partner</th>\n",
       "      <th>Dependents</th>\n",
       "      <th>Type</th>\n",
       "      <th>PaperlessBilling</th>\n",
       "      <th>PaymentMethod</th>\n",
       "      <th>MonthlyCharges</th>\n",
       "      <th>TotalCharges</th>\n",
       "      <th>InternetService</th>\n",
       "      <th>OnlineSecurity</th>\n",
       "      <th>OnlineBackup</th>\n",
       "      <th>DeviceProtection</th>\n",
       "      <th>TechSupport</th>\n",
       "      <th>StreamingTV</th>\n",
       "      <th>StreamingMovies</th>\n",
       "      <th>MultipleLines</th>\n",
       "      <th>Broken_contract</th>\n",
       "      <th>Duration_contract</th>\n",
       "    </tr>\n",
       "  </thead>\n",
       "  <tbody>\n",
       "    <tr>\n",
       "      <th>1491</th>\n",
       "      <td>Female</td>\n",
       "      <td>No</td>\n",
       "      <td>No</td>\n",
       "      <td>No</td>\n",
       "      <td>Month-to-month</td>\n",
       "      <td>No</td>\n",
       "      <td>Mailed check</td>\n",
       "      <td>19.55</td>\n",
       "      <td>19.55</td>\n",
       "      <td>No</td>\n",
       "      <td>No</td>\n",
       "      <td>No</td>\n",
       "      <td>No</td>\n",
       "      <td>No</td>\n",
       "      <td>No</td>\n",
       "      <td>No</td>\n",
       "      <td>No</td>\n",
       "      <td>0</td>\n",
       "      <td>31</td>\n",
       "    </tr>\n",
       "    <tr>\n",
       "      <th>2892</th>\n",
       "      <td>Male</td>\n",
       "      <td>No</td>\n",
       "      <td>No</td>\n",
       "      <td>No</td>\n",
       "      <td>Month-to-month</td>\n",
       "      <td>No</td>\n",
       "      <td>Mailed check</td>\n",
       "      <td>20.45</td>\n",
       "      <td>20.45</td>\n",
       "      <td>No</td>\n",
       "      <td>No</td>\n",
       "      <td>No</td>\n",
       "      <td>No</td>\n",
       "      <td>No</td>\n",
       "      <td>No</td>\n",
       "      <td>No</td>\n",
       "      <td>No</td>\n",
       "      <td>0</td>\n",
       "      <td>31</td>\n",
       "    </tr>\n",
       "    <tr>\n",
       "      <th>4797</th>\n",
       "      <td>Male</td>\n",
       "      <td>No</td>\n",
       "      <td>Yes</td>\n",
       "      <td>Yes</td>\n",
       "      <td>Two year</td>\n",
       "      <td>Yes</td>\n",
       "      <td>Credit card (automatic)</td>\n",
       "      <td>114.05</td>\n",
       "      <td>8211.60</td>\n",
       "      <td>Fiber optic</td>\n",
       "      <td>Yes</td>\n",
       "      <td>Yes</td>\n",
       "      <td>Yes</td>\n",
       "      <td>Yes</td>\n",
       "      <td>Yes</td>\n",
       "      <td>Yes</td>\n",
       "      <td>Yes</td>\n",
       "      <td>0</td>\n",
       "      <td>2191</td>\n",
       "    </tr>\n",
       "    <tr>\n",
       "      <th>5024</th>\n",
       "      <td>Male</td>\n",
       "      <td>No</td>\n",
       "      <td>Yes</td>\n",
       "      <td>No</td>\n",
       "      <td>Two year</td>\n",
       "      <td>No</td>\n",
       "      <td>Mailed check</td>\n",
       "      <td>25.40</td>\n",
       "      <td>1828.80</td>\n",
       "      <td>No</td>\n",
       "      <td>No</td>\n",
       "      <td>No</td>\n",
       "      <td>No</td>\n",
       "      <td>No</td>\n",
       "      <td>No</td>\n",
       "      <td>No</td>\n",
       "      <td>Yes</td>\n",
       "      <td>0</td>\n",
       "      <td>2191</td>\n",
       "    </tr>\n",
       "  </tbody>\n",
       "</table>\n",
       "</div>"
      ],
      "text/plain": [
       "      gender SeniorCitizen Partner Dependents            Type  \\\n",
       "1491  Female            No      No         No  Month-to-month   \n",
       "2892    Male            No      No         No  Month-to-month   \n",
       "4797    Male            No     Yes        Yes        Two year   \n",
       "5024    Male            No     Yes         No        Two year   \n",
       "\n",
       "     PaperlessBilling            PaymentMethod  MonthlyCharges  TotalCharges  \\\n",
       "1491               No             Mailed check           19.55         19.55   \n",
       "2892               No             Mailed check           20.45         20.45   \n",
       "4797              Yes  Credit card (automatic)          114.05       8211.60   \n",
       "5024               No             Mailed check           25.40       1828.80   \n",
       "\n",
       "     InternetService OnlineSecurity OnlineBackup DeviceProtection TechSupport  \\\n",
       "1491              No             No           No               No          No   \n",
       "2892              No             No           No               No          No   \n",
       "4797     Fiber optic            Yes          Yes              Yes         Yes   \n",
       "5024              No             No           No               No          No   \n",
       "\n",
       "     StreamingTV StreamingMovies MultipleLines  Broken_contract  \\\n",
       "1491          No              No            No                0   \n",
       "2892          No              No            No                0   \n",
       "4797         Yes             Yes           Yes                0   \n",
       "5024          No              No           Yes                0   \n",
       "\n",
       "      Duration_contract  \n",
       "1491                 31  \n",
       "2892                 31  \n",
       "4797               2191  \n",
       "5024               2191  "
      ]
     },
     "execution_count": 39,
     "metadata": {},
     "output_type": "execute_result"
    }
   ],
   "source": [
    "data[data.duplicated()]"
   ]
  },
  {
   "cell_type": "code",
   "execution_count": 40,
   "id": "6d87d9b5",
   "metadata": {},
   "outputs": [
    {
     "data": {
      "text/plain": [
       "0.0005679397983813716"
      ]
     },
     "execution_count": 40,
     "metadata": {},
     "output_type": "execute_result"
    }
   ],
   "source": [
    "data[data.duplicated()].shape[0] / data.shape[0]"
   ]
  },
  {
   "cell_type": "markdown",
   "id": "f3f627aa",
   "metadata": {},
   "source": [
    "Удалим дупликаты из датасета, поскольку их количество составляет меньше 1%"
   ]
  },
  {
   "cell_type": "code",
   "execution_count": 41,
   "id": "8da2bfca",
   "metadata": {},
   "outputs": [],
   "source": [
    "data = data.drop_duplicates()"
   ]
  },
  {
   "cell_type": "code",
   "execution_count": 42,
   "id": "f162dafc",
   "metadata": {
    "scrolled": true
   },
   "outputs": [
    {
     "data": {
      "text/html": [
       "<div>\n",
       "<style scoped>\n",
       "    .dataframe tbody tr th:only-of-type {\n",
       "        vertical-align: middle;\n",
       "    }\n",
       "\n",
       "    .dataframe tbody tr th {\n",
       "        vertical-align: top;\n",
       "    }\n",
       "\n",
       "    .dataframe thead th {\n",
       "        text-align: right;\n",
       "    }\n",
       "</style>\n",
       "<table border=\"1\" class=\"dataframe\">\n",
       "  <thead>\n",
       "    <tr style=\"text-align: right;\">\n",
       "      <th></th>\n",
       "      <th>gender</th>\n",
       "      <th>SeniorCitizen</th>\n",
       "      <th>Partner</th>\n",
       "      <th>Dependents</th>\n",
       "      <th>Type</th>\n",
       "      <th>PaperlessBilling</th>\n",
       "      <th>PaymentMethod</th>\n",
       "      <th>MonthlyCharges</th>\n",
       "      <th>TotalCharges</th>\n",
       "      <th>InternetService</th>\n",
       "      <th>OnlineSecurity</th>\n",
       "      <th>OnlineBackup</th>\n",
       "      <th>DeviceProtection</th>\n",
       "      <th>TechSupport</th>\n",
       "      <th>StreamingTV</th>\n",
       "      <th>StreamingMovies</th>\n",
       "      <th>MultipleLines</th>\n",
       "      <th>Broken_contract</th>\n",
       "      <th>Duration_contract</th>\n",
       "    </tr>\n",
       "  </thead>\n",
       "  <tbody>\n",
       "    <tr>\n",
       "      <th>0</th>\n",
       "      <td>Female</td>\n",
       "      <td>No</td>\n",
       "      <td>Yes</td>\n",
       "      <td>No</td>\n",
       "      <td>Month-to-month</td>\n",
       "      <td>Yes</td>\n",
       "      <td>Electronic check</td>\n",
       "      <td>29.85</td>\n",
       "      <td>31.04</td>\n",
       "      <td>DSL</td>\n",
       "      <td>No</td>\n",
       "      <td>Yes</td>\n",
       "      <td>No</td>\n",
       "      <td>No</td>\n",
       "      <td>No</td>\n",
       "      <td>No</td>\n",
       "      <td>No</td>\n",
       "      <td>0</td>\n",
       "      <td>31</td>\n",
       "    </tr>\n",
       "    <tr>\n",
       "      <th>1</th>\n",
       "      <td>Male</td>\n",
       "      <td>No</td>\n",
       "      <td>No</td>\n",
       "      <td>No</td>\n",
       "      <td>One year</td>\n",
       "      <td>No</td>\n",
       "      <td>Mailed check</td>\n",
       "      <td>56.95</td>\n",
       "      <td>2071.84</td>\n",
       "      <td>DSL</td>\n",
       "      <td>Yes</td>\n",
       "      <td>No</td>\n",
       "      <td>Yes</td>\n",
       "      <td>No</td>\n",
       "      <td>No</td>\n",
       "      <td>No</td>\n",
       "      <td>No</td>\n",
       "      <td>0</td>\n",
       "      <td>1036</td>\n",
       "    </tr>\n",
       "    <tr>\n",
       "      <th>2</th>\n",
       "      <td>Male</td>\n",
       "      <td>No</td>\n",
       "      <td>No</td>\n",
       "      <td>No</td>\n",
       "      <td>Month-to-month</td>\n",
       "      <td>Yes</td>\n",
       "      <td>Mailed check</td>\n",
       "      <td>53.85</td>\n",
       "      <td>226.17</td>\n",
       "      <td>DSL</td>\n",
       "      <td>Yes</td>\n",
       "      <td>Yes</td>\n",
       "      <td>No</td>\n",
       "      <td>No</td>\n",
       "      <td>No</td>\n",
       "      <td>No</td>\n",
       "      <td>No</td>\n",
       "      <td>0</td>\n",
       "      <td>123</td>\n",
       "    </tr>\n",
       "    <tr>\n",
       "      <th>3</th>\n",
       "      <td>Male</td>\n",
       "      <td>No</td>\n",
       "      <td>No</td>\n",
       "      <td>No</td>\n",
       "      <td>One year</td>\n",
       "      <td>No</td>\n",
       "      <td>Bank transfer (automatic)</td>\n",
       "      <td>42.30</td>\n",
       "      <td>1960.60</td>\n",
       "      <td>DSL</td>\n",
       "      <td>Yes</td>\n",
       "      <td>No</td>\n",
       "      <td>Yes</td>\n",
       "      <td>Yes</td>\n",
       "      <td>No</td>\n",
       "      <td>No</td>\n",
       "      <td>No</td>\n",
       "      <td>0</td>\n",
       "      <td>1371</td>\n",
       "    </tr>\n",
       "    <tr>\n",
       "      <th>4</th>\n",
       "      <td>Female</td>\n",
       "      <td>No</td>\n",
       "      <td>No</td>\n",
       "      <td>No</td>\n",
       "      <td>Month-to-month</td>\n",
       "      <td>Yes</td>\n",
       "      <td>Electronic check</td>\n",
       "      <td>70.70</td>\n",
       "      <td>353.50</td>\n",
       "      <td>Fiber optic</td>\n",
       "      <td>No</td>\n",
       "      <td>No</td>\n",
       "      <td>No</td>\n",
       "      <td>No</td>\n",
       "      <td>No</td>\n",
       "      <td>No</td>\n",
       "      <td>No</td>\n",
       "      <td>0</td>\n",
       "      <td>153</td>\n",
       "    </tr>\n",
       "    <tr>\n",
       "      <th>5</th>\n",
       "      <td>Female</td>\n",
       "      <td>No</td>\n",
       "      <td>No</td>\n",
       "      <td>No</td>\n",
       "      <td>Month-to-month</td>\n",
       "      <td>Yes</td>\n",
       "      <td>Electronic check</td>\n",
       "      <td>99.65</td>\n",
       "      <td>1150.96</td>\n",
       "      <td>Fiber optic</td>\n",
       "      <td>No</td>\n",
       "      <td>No</td>\n",
       "      <td>Yes</td>\n",
       "      <td>No</td>\n",
       "      <td>Yes</td>\n",
       "      <td>Yes</td>\n",
       "      <td>Yes</td>\n",
       "      <td>0</td>\n",
       "      <td>337</td>\n",
       "    </tr>\n",
       "    <tr>\n",
       "      <th>6</th>\n",
       "      <td>Male</td>\n",
       "      <td>No</td>\n",
       "      <td>No</td>\n",
       "      <td>Yes</td>\n",
       "      <td>Month-to-month</td>\n",
       "      <td>Yes</td>\n",
       "      <td>Credit card (automatic)</td>\n",
       "      <td>89.10</td>\n",
       "      <td>2058.21</td>\n",
       "      <td>Fiber optic</td>\n",
       "      <td>No</td>\n",
       "      <td>Yes</td>\n",
       "      <td>No</td>\n",
       "      <td>No</td>\n",
       "      <td>Yes</td>\n",
       "      <td>No</td>\n",
       "      <td>Yes</td>\n",
       "      <td>0</td>\n",
       "      <td>671</td>\n",
       "    </tr>\n",
       "    <tr>\n",
       "      <th>7</th>\n",
       "      <td>Female</td>\n",
       "      <td>No</td>\n",
       "      <td>No</td>\n",
       "      <td>No</td>\n",
       "      <td>Month-to-month</td>\n",
       "      <td>No</td>\n",
       "      <td>Mailed check</td>\n",
       "      <td>29.75</td>\n",
       "      <td>300.48</td>\n",
       "      <td>DSL</td>\n",
       "      <td>Yes</td>\n",
       "      <td>No</td>\n",
       "      <td>No</td>\n",
       "      <td>No</td>\n",
       "      <td>No</td>\n",
       "      <td>No</td>\n",
       "      <td>No</td>\n",
       "      <td>0</td>\n",
       "      <td>306</td>\n",
       "    </tr>\n",
       "    <tr>\n",
       "      <th>8</th>\n",
       "      <td>Female</td>\n",
       "      <td>No</td>\n",
       "      <td>Yes</td>\n",
       "      <td>No</td>\n",
       "      <td>Month-to-month</td>\n",
       "      <td>Yes</td>\n",
       "      <td>Electronic check</td>\n",
       "      <td>104.80</td>\n",
       "      <td>3573.68</td>\n",
       "      <td>Fiber optic</td>\n",
       "      <td>No</td>\n",
       "      <td>No</td>\n",
       "      <td>Yes</td>\n",
       "      <td>Yes</td>\n",
       "      <td>Yes</td>\n",
       "      <td>Yes</td>\n",
       "      <td>Yes</td>\n",
       "      <td>0</td>\n",
       "      <td>945</td>\n",
       "    </tr>\n",
       "    <tr>\n",
       "      <th>9</th>\n",
       "      <td>Male</td>\n",
       "      <td>No</td>\n",
       "      <td>No</td>\n",
       "      <td>Yes</td>\n",
       "      <td>One year</td>\n",
       "      <td>No</td>\n",
       "      <td>Bank transfer (automatic)</td>\n",
       "      <td>56.15</td>\n",
       "      <td>1628.35</td>\n",
       "      <td>DSL</td>\n",
       "      <td>Yes</td>\n",
       "      <td>Yes</td>\n",
       "      <td>No</td>\n",
       "      <td>No</td>\n",
       "      <td>No</td>\n",
       "      <td>No</td>\n",
       "      <td>No</td>\n",
       "      <td>1</td>\n",
       "      <td>882</td>\n",
       "    </tr>\n",
       "    <tr>\n",
       "      <th>10</th>\n",
       "      <td>Male</td>\n",
       "      <td>No</td>\n",
       "      <td>Yes</td>\n",
       "      <td>Yes</td>\n",
       "      <td>Month-to-month</td>\n",
       "      <td>Yes</td>\n",
       "      <td>Mailed check</td>\n",
       "      <td>49.95</td>\n",
       "      <td>649.35</td>\n",
       "      <td>DSL</td>\n",
       "      <td>Yes</td>\n",
       "      <td>No</td>\n",
       "      <td>No</td>\n",
       "      <td>No</td>\n",
       "      <td>No</td>\n",
       "      <td>No</td>\n",
       "      <td>No</td>\n",
       "      <td>0</td>\n",
       "      <td>396</td>\n",
       "    </tr>\n",
       "    <tr>\n",
       "      <th>11</th>\n",
       "      <td>Male</td>\n",
       "      <td>No</td>\n",
       "      <td>No</td>\n",
       "      <td>No</td>\n",
       "      <td>Two year</td>\n",
       "      <td>No</td>\n",
       "      <td>Credit card (automatic)</td>\n",
       "      <td>18.95</td>\n",
       "      <td>312.30</td>\n",
       "      <td>No</td>\n",
       "      <td>No</td>\n",
       "      <td>No</td>\n",
       "      <td>No</td>\n",
       "      <td>No</td>\n",
       "      <td>No</td>\n",
       "      <td>No</td>\n",
       "      <td>No</td>\n",
       "      <td>0</td>\n",
       "      <td>488</td>\n",
       "    </tr>\n",
       "    <tr>\n",
       "      <th>12</th>\n",
       "      <td>Male</td>\n",
       "      <td>No</td>\n",
       "      <td>Yes</td>\n",
       "      <td>No</td>\n",
       "      <td>One year</td>\n",
       "      <td>No</td>\n",
       "      <td>Credit card (automatic)</td>\n",
       "      <td>100.35</td>\n",
       "      <td>6111.31</td>\n",
       "      <td>Fiber optic</td>\n",
       "      <td>No</td>\n",
       "      <td>No</td>\n",
       "      <td>Yes</td>\n",
       "      <td>No</td>\n",
       "      <td>Yes</td>\n",
       "      <td>Yes</td>\n",
       "      <td>Yes</td>\n",
       "      <td>0</td>\n",
       "      <td>1767</td>\n",
       "    </tr>\n",
       "    <tr>\n",
       "      <th>13</th>\n",
       "      <td>Male</td>\n",
       "      <td>No</td>\n",
       "      <td>No</td>\n",
       "      <td>No</td>\n",
       "      <td>Month-to-month</td>\n",
       "      <td>Yes</td>\n",
       "      <td>Bank transfer (automatic)</td>\n",
       "      <td>103.70</td>\n",
       "      <td>5496.10</td>\n",
       "      <td>Fiber optic</td>\n",
       "      <td>No</td>\n",
       "      <td>Yes</td>\n",
       "      <td>Yes</td>\n",
       "      <td>No</td>\n",
       "      <td>Yes</td>\n",
       "      <td>Yes</td>\n",
       "      <td>Yes</td>\n",
       "      <td>0</td>\n",
       "      <td>1614</td>\n",
       "    </tr>\n",
       "    <tr>\n",
       "      <th>14</th>\n",
       "      <td>Male</td>\n",
       "      <td>No</td>\n",
       "      <td>No</td>\n",
       "      <td>No</td>\n",
       "      <td>Month-to-month</td>\n",
       "      <td>Yes</td>\n",
       "      <td>Electronic check</td>\n",
       "      <td>105.50</td>\n",
       "      <td>2637.50</td>\n",
       "      <td>Fiber optic</td>\n",
       "      <td>Yes</td>\n",
       "      <td>No</td>\n",
       "      <td>Yes</td>\n",
       "      <td>Yes</td>\n",
       "      <td>Yes</td>\n",
       "      <td>Yes</td>\n",
       "      <td>No</td>\n",
       "      <td>0</td>\n",
       "      <td>761</td>\n",
       "    </tr>\n",
       "    <tr>\n",
       "      <th>15</th>\n",
       "      <td>Female</td>\n",
       "      <td>No</td>\n",
       "      <td>Yes</td>\n",
       "      <td>Yes</td>\n",
       "      <td>Two year</td>\n",
       "      <td>No</td>\n",
       "      <td>Credit card (automatic)</td>\n",
       "      <td>113.25</td>\n",
       "      <td>2491.50</td>\n",
       "      <td>Fiber optic</td>\n",
       "      <td>Yes</td>\n",
       "      <td>Yes</td>\n",
       "      <td>Yes</td>\n",
       "      <td>Yes</td>\n",
       "      <td>Yes</td>\n",
       "      <td>Yes</td>\n",
       "      <td>Yes</td>\n",
       "      <td>1</td>\n",
       "      <td>670</td>\n",
       "    </tr>\n",
       "    <tr>\n",
       "      <th>16</th>\n",
       "      <td>Female</td>\n",
       "      <td>No</td>\n",
       "      <td>No</td>\n",
       "      <td>No</td>\n",
       "      <td>One year</td>\n",
       "      <td>No</td>\n",
       "      <td>Mailed check</td>\n",
       "      <td>20.65</td>\n",
       "      <td>1106.01</td>\n",
       "      <td>No</td>\n",
       "      <td>No</td>\n",
       "      <td>No</td>\n",
       "      <td>No</td>\n",
       "      <td>No</td>\n",
       "      <td>No</td>\n",
       "      <td>No</td>\n",
       "      <td>No</td>\n",
       "      <td>0</td>\n",
       "      <td>1584</td>\n",
       "    </tr>\n",
       "    <tr>\n",
       "      <th>17</th>\n",
       "      <td>Male</td>\n",
       "      <td>No</td>\n",
       "      <td>No</td>\n",
       "      <td>Yes</td>\n",
       "      <td>Two year</td>\n",
       "      <td>No</td>\n",
       "      <td>Bank transfer (automatic)</td>\n",
       "      <td>106.70</td>\n",
       "      <td>8257.51</td>\n",
       "      <td>Fiber optic</td>\n",
       "      <td>Yes</td>\n",
       "      <td>No</td>\n",
       "      <td>Yes</td>\n",
       "      <td>No</td>\n",
       "      <td>Yes</td>\n",
       "      <td>Yes</td>\n",
       "      <td>Yes</td>\n",
       "      <td>0</td>\n",
       "      <td>2163</td>\n",
       "    </tr>\n",
       "    <tr>\n",
       "      <th>18</th>\n",
       "      <td>Female</td>\n",
       "      <td>No</td>\n",
       "      <td>Yes</td>\n",
       "      <td>Yes</td>\n",
       "      <td>Month-to-month</td>\n",
       "      <td>No</td>\n",
       "      <td>Credit card (automatic)</td>\n",
       "      <td>55.20</td>\n",
       "      <td>789.36</td>\n",
       "      <td>DSL</td>\n",
       "      <td>No</td>\n",
       "      <td>No</td>\n",
       "      <td>Yes</td>\n",
       "      <td>Yes</td>\n",
       "      <td>No</td>\n",
       "      <td>No</td>\n",
       "      <td>No</td>\n",
       "      <td>0</td>\n",
       "      <td>396</td>\n",
       "    </tr>\n",
       "    <tr>\n",
       "      <th>19</th>\n",
       "      <td>Female</td>\n",
       "      <td>No</td>\n",
       "      <td>No</td>\n",
       "      <td>No</td>\n",
       "      <td>Month-to-month</td>\n",
       "      <td>Yes</td>\n",
       "      <td>Electronic check</td>\n",
       "      <td>90.05</td>\n",
       "      <td>1891.05</td>\n",
       "      <td>Fiber optic</td>\n",
       "      <td>No</td>\n",
       "      <td>Yes</td>\n",
       "      <td>Yes</td>\n",
       "      <td>No</td>\n",
       "      <td>No</td>\n",
       "      <td>Yes</td>\n",
       "      <td>No</td>\n",
       "      <td>0</td>\n",
       "      <td>641</td>\n",
       "    </tr>\n",
       "  </tbody>\n",
       "</table>\n",
       "</div>"
      ],
      "text/plain": [
       "    gender SeniorCitizen Partner Dependents            Type PaperlessBilling  \\\n",
       "0   Female            No     Yes         No  Month-to-month              Yes   \n",
       "1     Male            No      No         No        One year               No   \n",
       "2     Male            No      No         No  Month-to-month              Yes   \n",
       "3     Male            No      No         No        One year               No   \n",
       "4   Female            No      No         No  Month-to-month              Yes   \n",
       "5   Female            No      No         No  Month-to-month              Yes   \n",
       "6     Male            No      No        Yes  Month-to-month              Yes   \n",
       "7   Female            No      No         No  Month-to-month               No   \n",
       "8   Female            No     Yes         No  Month-to-month              Yes   \n",
       "9     Male            No      No        Yes        One year               No   \n",
       "10    Male            No     Yes        Yes  Month-to-month              Yes   \n",
       "11    Male            No      No         No        Two year               No   \n",
       "12    Male            No     Yes         No        One year               No   \n",
       "13    Male            No      No         No  Month-to-month              Yes   \n",
       "14    Male            No      No         No  Month-to-month              Yes   \n",
       "15  Female            No     Yes        Yes        Two year               No   \n",
       "16  Female            No      No         No        One year               No   \n",
       "17    Male            No      No        Yes        Two year               No   \n",
       "18  Female            No     Yes        Yes  Month-to-month               No   \n",
       "19  Female            No      No         No  Month-to-month              Yes   \n",
       "\n",
       "                PaymentMethod  MonthlyCharges  TotalCharges InternetService  \\\n",
       "0            Electronic check           29.85         31.04             DSL   \n",
       "1                Mailed check           56.95       2071.84             DSL   \n",
       "2                Mailed check           53.85        226.17             DSL   \n",
       "3   Bank transfer (automatic)           42.30       1960.60             DSL   \n",
       "4            Electronic check           70.70        353.50     Fiber optic   \n",
       "5            Electronic check           99.65       1150.96     Fiber optic   \n",
       "6     Credit card (automatic)           89.10       2058.21     Fiber optic   \n",
       "7                Mailed check           29.75        300.48             DSL   \n",
       "8            Electronic check          104.80       3573.68     Fiber optic   \n",
       "9   Bank transfer (automatic)           56.15       1628.35             DSL   \n",
       "10               Mailed check           49.95        649.35             DSL   \n",
       "11    Credit card (automatic)           18.95        312.30              No   \n",
       "12    Credit card (automatic)          100.35       6111.31     Fiber optic   \n",
       "13  Bank transfer (automatic)          103.70       5496.10     Fiber optic   \n",
       "14           Electronic check          105.50       2637.50     Fiber optic   \n",
       "15    Credit card (automatic)          113.25       2491.50     Fiber optic   \n",
       "16               Mailed check           20.65       1106.01              No   \n",
       "17  Bank transfer (automatic)          106.70       8257.51     Fiber optic   \n",
       "18    Credit card (automatic)           55.20        789.36             DSL   \n",
       "19           Electronic check           90.05       1891.05     Fiber optic   \n",
       "\n",
       "   OnlineSecurity OnlineBackup DeviceProtection TechSupport StreamingTV  \\\n",
       "0              No          Yes               No          No          No   \n",
       "1             Yes           No              Yes          No          No   \n",
       "2             Yes          Yes               No          No          No   \n",
       "3             Yes           No              Yes         Yes          No   \n",
       "4              No           No               No          No          No   \n",
       "5              No           No              Yes          No         Yes   \n",
       "6              No          Yes               No          No         Yes   \n",
       "7             Yes           No               No          No          No   \n",
       "8              No           No              Yes         Yes         Yes   \n",
       "9             Yes          Yes               No          No          No   \n",
       "10            Yes           No               No          No          No   \n",
       "11             No           No               No          No          No   \n",
       "12             No           No              Yes          No         Yes   \n",
       "13             No          Yes              Yes          No         Yes   \n",
       "14            Yes           No              Yes         Yes         Yes   \n",
       "15            Yes          Yes              Yes         Yes         Yes   \n",
       "16             No           No               No          No          No   \n",
       "17            Yes           No              Yes          No         Yes   \n",
       "18             No           No              Yes         Yes          No   \n",
       "19             No          Yes              Yes          No          No   \n",
       "\n",
       "   StreamingMovies MultipleLines  Broken_contract  Duration_contract  \n",
       "0               No            No                0                 31  \n",
       "1               No            No                0               1036  \n",
       "2               No            No                0                123  \n",
       "3               No            No                0               1371  \n",
       "4               No            No                0                153  \n",
       "5              Yes           Yes                0                337  \n",
       "6               No           Yes                0                671  \n",
       "7               No            No                0                306  \n",
       "8              Yes           Yes                0                945  \n",
       "9               No            No                1                882  \n",
       "10              No            No                0                396  \n",
       "11              No            No                0                488  \n",
       "12             Yes           Yes                0               1767  \n",
       "13             Yes           Yes                0               1614  \n",
       "14             Yes            No                0                761  \n",
       "15             Yes           Yes                1                670  \n",
       "16              No            No                0               1584  \n",
       "17             Yes           Yes                0               2163  \n",
       "18              No            No                0                396  \n",
       "19             Yes            No                0                641  "
      ]
     },
     "metadata": {},
     "output_type": "display_data"
    },
    {
     "name": "stdout",
     "output_type": "stream",
     "text": [
      "<class 'pandas.core.frame.DataFrame'>\n",
      "Int64Index: 7039 entries, 0 to 7042\n",
      "Data columns (total 19 columns):\n",
      " #   Column             Non-Null Count  Dtype  \n",
      "---  ------             --------------  -----  \n",
      " 0   gender             7039 non-null   object \n",
      " 1   SeniorCitizen      7039 non-null   object \n",
      " 2   Partner            7039 non-null   object \n",
      " 3   Dependents         7039 non-null   object \n",
      " 4   Type               7039 non-null   object \n",
      " 5   PaperlessBilling   7039 non-null   object \n",
      " 6   PaymentMethod      7039 non-null   object \n",
      " 7   MonthlyCharges     7039 non-null   float64\n",
      " 8   TotalCharges       7039 non-null   float64\n",
      " 9   InternetService    7039 non-null   object \n",
      " 10  OnlineSecurity     7039 non-null   object \n",
      " 11  OnlineBackup       7039 non-null   object \n",
      " 12  DeviceProtection   7039 non-null   object \n",
      " 13  TechSupport        7039 non-null   object \n",
      " 14  StreamingTV        7039 non-null   object \n",
      " 15  StreamingMovies    7039 non-null   object \n",
      " 16  MultipleLines      7039 non-null   object \n",
      " 17  Broken_contract    7039 non-null   int64  \n",
      " 18  Duration_contract  7039 non-null   int64  \n",
      "dtypes: float64(2), int64(2), object(15)\n",
      "memory usage: 1.1+ MB\n"
     ]
    },
    {
     "data": {
      "text/html": [
       "<div>\n",
       "<style scoped>\n",
       "    .dataframe tbody tr th:only-of-type {\n",
       "        vertical-align: middle;\n",
       "    }\n",
       "\n",
       "    .dataframe tbody tr th {\n",
       "        vertical-align: top;\n",
       "    }\n",
       "\n",
       "    .dataframe thead th {\n",
       "        text-align: right;\n",
       "    }\n",
       "</style>\n",
       "<table border=\"1\" class=\"dataframe\">\n",
       "  <thead>\n",
       "    <tr style=\"text-align: right;\">\n",
       "      <th></th>\n",
       "      <th>MonthlyCharges</th>\n",
       "      <th>TotalCharges</th>\n",
       "      <th>Broken_contract</th>\n",
       "      <th>Duration_contract</th>\n",
       "    </tr>\n",
       "  </thead>\n",
       "  <tbody>\n",
       "    <tr>\n",
       "      <th>count</th>\n",
       "      <td>7039.000000</td>\n",
       "      <td>7039.000000</td>\n",
       "      <td>7039.000000</td>\n",
       "      <td>7039.000000</td>\n",
       "    </tr>\n",
       "    <tr>\n",
       "      <th>mean</th>\n",
       "      <td>64.773000</td>\n",
       "      <td>2115.082860</td>\n",
       "      <td>0.156414</td>\n",
       "      <td>898.435005</td>\n",
       "    </tr>\n",
       "    <tr>\n",
       "      <th>std</th>\n",
       "      <td>30.079738</td>\n",
       "      <td>2111.795254</td>\n",
       "      <td>0.363273</td>\n",
       "      <td>682.820576</td>\n",
       "    </tr>\n",
       "    <tr>\n",
       "      <th>min</th>\n",
       "      <td>18.250000</td>\n",
       "      <td>0.000000</td>\n",
       "      <td>0.000000</td>\n",
       "      <td>0.000000</td>\n",
       "    </tr>\n",
       "    <tr>\n",
       "      <th>25%</th>\n",
       "      <td>35.550000</td>\n",
       "      <td>437.500000</td>\n",
       "      <td>0.000000</td>\n",
       "      <td>276.000000</td>\n",
       "    </tr>\n",
       "    <tr>\n",
       "      <th>50%</th>\n",
       "      <td>70.350000</td>\n",
       "      <td>1343.350000</td>\n",
       "      <td>0.000000</td>\n",
       "      <td>761.000000</td>\n",
       "    </tr>\n",
       "    <tr>\n",
       "      <th>75%</th>\n",
       "      <td>89.850000</td>\n",
       "      <td>3236.690000</td>\n",
       "      <td>0.000000</td>\n",
       "      <td>1461.000000</td>\n",
       "    </tr>\n",
       "    <tr>\n",
       "      <th>max</th>\n",
       "      <td>118.750000</td>\n",
       "      <td>9221.380000</td>\n",
       "      <td>1.000000</td>\n",
       "      <td>2314.000000</td>\n",
       "    </tr>\n",
       "  </tbody>\n",
       "</table>\n",
       "</div>"
      ],
      "text/plain": [
       "       MonthlyCharges  TotalCharges  Broken_contract  Duration_contract\n",
       "count     7039.000000   7039.000000      7039.000000        7039.000000\n",
       "mean        64.773000   2115.082860         0.156414         898.435005\n",
       "std         30.079738   2111.795254         0.363273         682.820576\n",
       "min         18.250000      0.000000         0.000000           0.000000\n",
       "25%         35.550000    437.500000         0.000000         276.000000\n",
       "50%         70.350000   1343.350000         0.000000         761.000000\n",
       "75%         89.850000   3236.690000         0.000000        1461.000000\n",
       "max        118.750000   9221.380000         1.000000        2314.000000"
      ]
     },
     "metadata": {},
     "output_type": "display_data"
    }
   ],
   "source": [
    "data_info(data)"
   ]
  },
  {
   "cell_type": "code",
   "execution_count": 43,
   "id": "4c07a729",
   "metadata": {
    "scrolled": true
   },
   "outputs": [
    {
     "data": {
      "image/png": "[encoded data removed]",
      "text/plain": [
       "<Figure size 1800x648 with 15 Axes>"
      ]
     },
     "metadata": {
      "needs_background": "light"
     },
     "output_type": "display_data"
    }
   ],
   "source": [
    "columns = data.columns[data.dtypes == object][:-1].to_list()\n",
    "fig, axes = plt.subplots(3, 5, figsize=(25, 9), gridspec_kw={'wspace': 0.3})\n",
    "\n",
    "for column, ax in zip(columns, axes.flat):\n",
    "    sns.countplot(column, hue='Broken_contract', data=data, ax=ax).set_title(column)\n",
    "    \n",
    "plt.setp(axes, xlabel=None, ylabel=None)\n",
    "\n",
    "plt.show()"
   ]
  },
  {
   "cell_type": "markdown",
   "id": "5e9fc741",
   "metadata": {},
   "source": [
    "* Cильной зависимости по gender, StreamingTV, StreamingMovies  нет \n",
    "* Пенсионеры чаще уходят, но и чаще остаются клиентами - похоже, что они наша целевая группа\n",
    "* У ушедших клиентов часто есть партнер, но нет детей\n",
    "* Тип подписки не сильно влияет на разрыв контракта, но можем заметить, что месячная сильно популярнее - возможно имеет смысл развивать другие типы\n",
    "* Клиенты с типом оплаты mailed check реже уходят из компании - возможно стоит исключать ошибки при оплате/добавить автоплатежи для других типов оплаты\n",
    "* Клиенты с типом подключения Fiber optic чаще уходят из компании, стоит провреить качество услуги/увеличить тех. поддержку\n",
    "* Блокировка опасных сайтов, облачное хранилище, антивирус не заставляют людей оставаться - множество оставшихся клиентов не имеют данных услуг\n",
    "* Те, кто не имеют выделенной линии тех. поддержки чуть чаще уходят из компании - возможно стоит ввести как дополнительную акцию для некоторых клиентов"
   ]
  },
  {
   "cell_type": "code",
   "execution_count": 44,
   "id": "477139ec",
   "metadata": {},
   "outputs": [
    {
     "data": {
      "text/html": [
       "<div>\n",
       "<style scoped>\n",
       "    .dataframe tbody tr th:only-of-type {\n",
       "        vertical-align: middle;\n",
       "    }\n",
       "\n",
       "    .dataframe tbody tr th {\n",
       "        vertical-align: top;\n",
       "    }\n",
       "\n",
       "    .dataframe thead th {\n",
       "        text-align: right;\n",
       "    }\n",
       "</style>\n",
       "<table border=\"1\" class=\"dataframe\">\n",
       "  <thead>\n",
       "    <tr style=\"text-align: right;\">\n",
       "      <th></th>\n",
       "      <th>MonthlyCharges</th>\n",
       "      <th>TotalCharges</th>\n",
       "      <th>Broken_contract</th>\n",
       "      <th>Duration_contract</th>\n",
       "    </tr>\n",
       "  </thead>\n",
       "  <tbody>\n",
       "    <tr>\n",
       "      <th>MonthlyCharges</th>\n",
       "      <td>1.000000</td>\n",
       "      <td>0.630181</td>\n",
       "      <td>0.154229</td>\n",
       "      <td>0.219729</td>\n",
       "    </tr>\n",
       "    <tr>\n",
       "      <th>TotalCharges</th>\n",
       "      <td>0.630181</td>\n",
       "      <td>1.000000</td>\n",
       "      <td>0.052263</td>\n",
       "      <td>0.821857</td>\n",
       "    </tr>\n",
       "    <tr>\n",
       "      <th>Broken_contract</th>\n",
       "      <td>0.154229</td>\n",
       "      <td>0.052263</td>\n",
       "      <td>1.000000</td>\n",
       "      <td>0.016668</td>\n",
       "    </tr>\n",
       "    <tr>\n",
       "      <th>Duration_contract</th>\n",
       "      <td>0.219729</td>\n",
       "      <td>0.821857</td>\n",
       "      <td>0.016668</td>\n",
       "      <td>1.000000</td>\n",
       "    </tr>\n",
       "  </tbody>\n",
       "</table>\n",
       "</div>"
      ],
      "text/plain": [
       "                   MonthlyCharges  TotalCharges  Broken_contract  \\\n",
       "MonthlyCharges           1.000000      0.630181         0.154229   \n",
       "TotalCharges             0.630181      1.000000         0.052263   \n",
       "Broken_contract          0.154229      0.052263         1.000000   \n",
       "Duration_contract        0.219729      0.821857         0.016668   \n",
       "\n",
       "                   Duration_contract  \n",
       "MonthlyCharges              0.219729  \n",
       "TotalCharges                0.821857  \n",
       "Broken_contract             0.016668  \n",
       "Duration_contract           1.000000  "
      ]
     },
     "execution_count": 44,
     "metadata": {},
     "output_type": "execute_result"
    }
   ],
   "source": [
    "data.corr()"
   ]
  },
  {
   "cell_type": "code",
   "execution_count": 45,
   "id": "9c534d9f",
   "metadata": {},
   "outputs": [
    {
     "data": {
      "image/png": "[encoded data removed]",
      "text/plain": [
       "<Figure size 432x288 with 2 Axes>"
      ]
     },
     "metadata": {
      "needs_background": "light"
     },
     "output_type": "display_data"
    }
   ],
   "source": [
    "sns.heatmap(data.corr(), annot=True)\n",
    "plt.tight_layout()\n",
    "plt.show()"
   ]
  },
  {
   "cell_type": "code",
   "execution_count": 46,
   "id": "a5f6cec0",
   "metadata": {
    "scrolled": false
   },
   "outputs": [
    {
     "data": {
      "text/html": [
       "<div>\n",
       "<style scoped>\n",
       "    .dataframe tbody tr th:only-of-type {\n",
       "        vertical-align: middle;\n",
       "    }\n",
       "\n",
       "    .dataframe tbody tr th {\n",
       "        vertical-align: top;\n",
       "    }\n",
       "\n",
       "    .dataframe thead th {\n",
       "        text-align: right;\n",
       "    }\n",
       "</style>\n",
       "<table border=\"1\" class=\"dataframe\">\n",
       "  <thead>\n",
       "    <tr style=\"text-align: right;\">\n",
       "      <th></th>\n",
       "      <th>gender</th>\n",
       "      <th>SeniorCitizen</th>\n",
       "      <th>Partner</th>\n",
       "      <th>Dependents</th>\n",
       "      <th>Type</th>\n",
       "      <th>PaperlessBilling</th>\n",
       "      <th>PaymentMethod</th>\n",
       "      <th>MonthlyCharges</th>\n",
       "      <th>TotalCharges</th>\n",
       "      <th>InternetService</th>\n",
       "      <th>OnlineSecurity</th>\n",
       "      <th>OnlineBackup</th>\n",
       "      <th>DeviceProtection</th>\n",
       "      <th>TechSupport</th>\n",
       "      <th>StreamingTV</th>\n",
       "      <th>StreamingMovies</th>\n",
       "      <th>MultipleLines</th>\n",
       "      <th>Broken_contract</th>\n",
       "      <th>Duration_contract</th>\n",
       "    </tr>\n",
       "  </thead>\n",
       "  <tbody>\n",
       "    <tr>\n",
       "      <th>gender</th>\n",
       "      <td>1.000000</td>\n",
       "      <td>0.000000</td>\n",
       "      <td>0.000000</td>\n",
       "      <td>0.000000</td>\n",
       "      <td>0.000000</td>\n",
       "      <td>0.000000</td>\n",
       "      <td>0.000000</td>\n",
       "      <td>0.011139</td>\n",
       "      <td>0.000000</td>\n",
       "      <td>0.000000</td>\n",
       "      <td>0.018711</td>\n",
       "      <td>0.010208</td>\n",
       "      <td>0.000000</td>\n",
       "      <td>0.000000</td>\n",
       "      <td>0.000000</td>\n",
       "      <td>0.000000</td>\n",
       "      <td>0.000000</td>\n",
       "      <td>0.009029</td>\n",
       "      <td>0.000000</td>\n",
       "    </tr>\n",
       "    <tr>\n",
       "      <th>SeniorCitizen</th>\n",
       "      <td>0.000000</td>\n",
       "      <td>1.000000</td>\n",
       "      <td>0.017018</td>\n",
       "      <td>0.324714</td>\n",
       "      <td>0.086227</td>\n",
       "      <td>0.241965</td>\n",
       "      <td>0.292447</td>\n",
       "      <td>0.304566</td>\n",
       "      <td>0.135556</td>\n",
       "      <td>0.160675</td>\n",
       "      <td>0.057080</td>\n",
       "      <td>0.102017</td>\n",
       "      <td>0.090634</td>\n",
       "      <td>0.092630</td>\n",
       "      <td>0.163061</td>\n",
       "      <td>0.186086</td>\n",
       "      <td>0.221451</td>\n",
       "      <td>0.085995</td>\n",
       "      <td>0.063165</td>\n",
       "    </tr>\n",
       "    <tr>\n",
       "      <th>Partner</th>\n",
       "      <td>0.000000</td>\n",
       "      <td>0.017018</td>\n",
       "      <td>1.000000</td>\n",
       "      <td>0.652047</td>\n",
       "      <td>0.179447</td>\n",
       "      <td>0.013973</td>\n",
       "      <td>0.242734</td>\n",
       "      <td>0.202848</td>\n",
       "      <td>0.381439</td>\n",
       "      <td>0.000000</td>\n",
       "      <td>0.221312</td>\n",
       "      <td>0.218884</td>\n",
       "      <td>0.237751</td>\n",
       "      <td>0.185611</td>\n",
       "      <td>0.192916</td>\n",
       "      <td>0.181663</td>\n",
       "      <td>0.219337</td>\n",
       "      <td>0.226776</td>\n",
       "      <td>0.452940</td>\n",
       "    </tr>\n",
       "    <tr>\n",
       "      <th>Dependents</th>\n",
       "      <td>0.000000</td>\n",
       "      <td>0.324714</td>\n",
       "      <td>0.652047</td>\n",
       "      <td>1.000000</td>\n",
       "      <td>0.147569</td>\n",
       "      <td>0.173503</td>\n",
       "      <td>0.225051</td>\n",
       "      <td>0.185006</td>\n",
       "      <td>0.083553</td>\n",
       "      <td>0.108940</td>\n",
       "      <td>0.124192</td>\n",
       "      <td>0.030631</td>\n",
       "      <td>0.008694</td>\n",
       "      <td>0.096138</td>\n",
       "      <td>0.018471</td>\n",
       "      <td>0.059844</td>\n",
       "      <td>0.033672</td>\n",
       "      <td>0.046841</td>\n",
       "      <td>0.198278</td>\n",
       "    </tr>\n",
       "    <tr>\n",
       "      <th>Type</th>\n",
       "      <td>0.000000</td>\n",
       "      <td>0.086227</td>\n",
       "      <td>0.179447</td>\n",
       "      <td>0.147569</td>\n",
       "      <td>1.000000</td>\n",
       "      <td>0.107076</td>\n",
       "      <td>0.277436</td>\n",
       "      <td>0.388089</td>\n",
       "      <td>0.470487</td>\n",
       "      <td>0.505769</td>\n",
       "      <td>0.152033</td>\n",
       "      <td>0.098759</td>\n",
       "      <td>0.137506</td>\n",
       "      <td>0.179905</td>\n",
       "      <td>0.066827</td>\n",
       "      <td>0.069476</td>\n",
       "      <td>0.065094</td>\n",
       "      <td>0.094073</td>\n",
       "      <td>0.633814</td>\n",
       "    </tr>\n",
       "    <tr>\n",
       "      <th>PaperlessBilling</th>\n",
       "      <td>0.000000</td>\n",
       "      <td>0.241965</td>\n",
       "      <td>0.013973</td>\n",
       "      <td>0.173503</td>\n",
       "      <td>0.107076</td>\n",
       "      <td>1.000000</td>\n",
       "      <td>0.369684</td>\n",
       "      <td>0.467018</td>\n",
       "      <td>0.201023</td>\n",
       "      <td>0.231074</td>\n",
       "      <td>0.000000</td>\n",
       "      <td>0.195733</td>\n",
       "      <td>0.160059</td>\n",
       "      <td>0.055117</td>\n",
       "      <td>0.342904</td>\n",
       "      <td>0.324912</td>\n",
       "      <td>0.252784</td>\n",
       "      <td>0.083159</td>\n",
       "      <td>0.025643</td>\n",
       "    </tr>\n",
       "    <tr>\n",
       "      <th>PaymentMethod</th>\n",
       "      <td>0.000000</td>\n",
       "      <td>0.292447</td>\n",
       "      <td>0.242734</td>\n",
       "      <td>0.225051</td>\n",
       "      <td>0.277436</td>\n",
       "      <td>0.369684</td>\n",
       "      <td>1.000000</td>\n",
       "      <td>0.398906</td>\n",
       "      <td>0.335398</td>\n",
       "      <td>0.323494</td>\n",
       "      <td>0.262288</td>\n",
       "      <td>0.281685</td>\n",
       "      <td>0.306078</td>\n",
       "      <td>0.271486</td>\n",
       "      <td>0.376595</td>\n",
       "      <td>0.378272</td>\n",
       "      <td>0.339329</td>\n",
       "      <td>0.214624</td>\n",
       "      <td>0.350860</td>\n",
       "    </tr>\n",
       "    <tr>\n",
       "      <th>MonthlyCharges</th>\n",
       "      <td>0.011139</td>\n",
       "      <td>0.304566</td>\n",
       "      <td>0.202848</td>\n",
       "      <td>0.185006</td>\n",
       "      <td>0.388089</td>\n",
       "      <td>0.467018</td>\n",
       "      <td>0.398906</td>\n",
       "      <td>1.000000</td>\n",
       "      <td>0.710666</td>\n",
       "      <td>0.918958</td>\n",
       "      <td>0.551057</td>\n",
       "      <td>0.629107</td>\n",
       "      <td>0.667261</td>\n",
       "      <td>0.575646</td>\n",
       "      <td>0.835016</td>\n",
       "      <td>0.833180</td>\n",
       "      <td>0.676215</td>\n",
       "      <td>0.225959</td>\n",
       "      <td>0.386862</td>\n",
       "    </tr>\n",
       "    <tr>\n",
       "      <th>TotalCharges</th>\n",
       "      <td>0.000000</td>\n",
       "      <td>0.135556</td>\n",
       "      <td>0.381439</td>\n",
       "      <td>0.083553</td>\n",
       "      <td>0.470487</td>\n",
       "      <td>0.201023</td>\n",
       "      <td>0.335398</td>\n",
       "      <td>0.710666</td>\n",
       "      <td>1.000000</td>\n",
       "      <td>0.489766</td>\n",
       "      <td>0.521627</td>\n",
       "      <td>0.622058</td>\n",
       "      <td>0.640606</td>\n",
       "      <td>0.549594</td>\n",
       "      <td>0.641133</td>\n",
       "      <td>0.642858</td>\n",
       "      <td>0.572850</td>\n",
       "      <td>0.302751</td>\n",
       "      <td>0.848304</td>\n",
       "    </tr>\n",
       "    <tr>\n",
       "      <th>InternetService</th>\n",
       "      <td>0.000000</td>\n",
       "      <td>0.160675</td>\n",
       "      <td>0.000000</td>\n",
       "      <td>0.108940</td>\n",
       "      <td>0.505769</td>\n",
       "      <td>0.231074</td>\n",
       "      <td>0.323494</td>\n",
       "      <td>0.918958</td>\n",
       "      <td>0.489766</td>\n",
       "      <td>1.000000</td>\n",
       "      <td>0.241361</td>\n",
       "      <td>0.233419</td>\n",
       "      <td>0.232729</td>\n",
       "      <td>0.239594</td>\n",
       "      <td>0.272610</td>\n",
       "      <td>0.272574</td>\n",
       "      <td>0.225361</td>\n",
       "      <td>0.056527</td>\n",
       "      <td>0.060400</td>\n",
       "    </tr>\n",
       "    <tr>\n",
       "      <th>OnlineSecurity</th>\n",
       "      <td>0.018711</td>\n",
       "      <td>0.057080</td>\n",
       "      <td>0.221312</td>\n",
       "      <td>0.124192</td>\n",
       "      <td>0.152033</td>\n",
       "      <td>0.000000</td>\n",
       "      <td>0.262288</td>\n",
       "      <td>0.551057</td>\n",
       "      <td>0.521627</td>\n",
       "      <td>0.241361</td>\n",
       "      <td>1.000000</td>\n",
       "      <td>0.429913</td>\n",
       "      <td>0.417953</td>\n",
       "      <td>0.527941</td>\n",
       "      <td>0.271568</td>\n",
       "      <td>0.288492</td>\n",
       "      <td>0.151485</td>\n",
       "      <td>0.132604</td>\n",
       "      <td>0.395481</td>\n",
       "    </tr>\n",
       "    <tr>\n",
       "      <th>OnlineBackup</th>\n",
       "      <td>0.010208</td>\n",
       "      <td>0.102017</td>\n",
       "      <td>0.218884</td>\n",
       "      <td>0.030631</td>\n",
       "      <td>0.098759</td>\n",
       "      <td>0.195733</td>\n",
       "      <td>0.281685</td>\n",
       "      <td>0.629107</td>\n",
       "      <td>0.622058</td>\n",
       "      <td>0.233419</td>\n",
       "      <td>0.429913</td>\n",
       "      <td>1.000000</td>\n",
       "      <td>0.457729</td>\n",
       "      <td>0.444631</td>\n",
       "      <td>0.427505</td>\n",
       "      <td>0.416660</td>\n",
       "      <td>0.311142</td>\n",
       "      <td>0.229475</td>\n",
       "      <td>0.414828</td>\n",
       "    </tr>\n",
       "    <tr>\n",
       "      <th>DeviceProtection</th>\n",
       "      <td>0.000000</td>\n",
       "      <td>0.090634</td>\n",
       "      <td>0.237751</td>\n",
       "      <td>0.008694</td>\n",
       "      <td>0.137506</td>\n",
       "      <td>0.160059</td>\n",
       "      <td>0.306078</td>\n",
       "      <td>0.667261</td>\n",
       "      <td>0.640606</td>\n",
       "      <td>0.232729</td>\n",
       "      <td>0.417953</td>\n",
       "      <td>0.457729</td>\n",
       "      <td>1.000000</td>\n",
       "      <td>0.498810</td>\n",
       "      <td>0.575151</td>\n",
       "      <td>0.589515</td>\n",
       "      <td>0.309494</td>\n",
       "      <td>0.218370</td>\n",
       "      <td>0.426795</td>\n",
       "    </tr>\n",
       "    <tr>\n",
       "      <th>TechSupport</th>\n",
       "      <td>0.000000</td>\n",
       "      <td>0.092630</td>\n",
       "      <td>0.185611</td>\n",
       "      <td>0.096138</td>\n",
       "      <td>0.179905</td>\n",
       "      <td>0.055117</td>\n",
       "      <td>0.271486</td>\n",
       "      <td>0.575646</td>\n",
       "      <td>0.549594</td>\n",
       "      <td>0.239594</td>\n",
       "      <td>0.527941</td>\n",
       "      <td>0.444631</td>\n",
       "      <td>0.498810</td>\n",
       "      <td>1.000000</td>\n",
       "      <td>0.421735</td>\n",
       "      <td>0.423574</td>\n",
       "      <td>0.155343</td>\n",
       "      <td>0.103650</td>\n",
       "      <td>0.404598</td>\n",
       "    </tr>\n",
       "    <tr>\n",
       "      <th>StreamingTV</th>\n",
       "      <td>0.000000</td>\n",
       "      <td>0.163061</td>\n",
       "      <td>0.192916</td>\n",
       "      <td>0.018471</td>\n",
       "      <td>0.066827</td>\n",
       "      <td>0.342904</td>\n",
       "      <td>0.376595</td>\n",
       "      <td>0.835016</td>\n",
       "      <td>0.641133</td>\n",
       "      <td>0.272610</td>\n",
       "      <td>0.271568</td>\n",
       "      <td>0.427505</td>\n",
       "      <td>0.575151</td>\n",
       "      <td>0.421735</td>\n",
       "      <td>1.000000</td>\n",
       "      <td>0.742236</td>\n",
       "      <td>0.392050</td>\n",
       "      <td>0.200153</td>\n",
       "      <td>0.339091</td>\n",
       "    </tr>\n",
       "    <tr>\n",
       "      <th>StreamingMovies</th>\n",
       "      <td>0.000000</td>\n",
       "      <td>0.186086</td>\n",
       "      <td>0.181663</td>\n",
       "      <td>0.059844</td>\n",
       "      <td>0.069476</td>\n",
       "      <td>0.324912</td>\n",
       "      <td>0.378272</td>\n",
       "      <td>0.833180</td>\n",
       "      <td>0.642858</td>\n",
       "      <td>0.272574</td>\n",
       "      <td>0.288492</td>\n",
       "      <td>0.416660</td>\n",
       "      <td>0.589515</td>\n",
       "      <td>0.423574</td>\n",
       "      <td>0.742236</td>\n",
       "      <td>1.000000</td>\n",
       "      <td>0.394367</td>\n",
       "      <td>0.222192</td>\n",
       "      <td>0.339089</td>\n",
       "    </tr>\n",
       "    <tr>\n",
       "      <th>MultipleLines</th>\n",
       "      <td>0.000000</td>\n",
       "      <td>0.221451</td>\n",
       "      <td>0.219337</td>\n",
       "      <td>0.033672</td>\n",
       "      <td>0.065094</td>\n",
       "      <td>0.252784</td>\n",
       "      <td>0.339329</td>\n",
       "      <td>0.676215</td>\n",
       "      <td>0.572850</td>\n",
       "      <td>0.225361</td>\n",
       "      <td>0.151485</td>\n",
       "      <td>0.311142</td>\n",
       "      <td>0.309494</td>\n",
       "      <td>0.155343</td>\n",
       "      <td>0.392050</td>\n",
       "      <td>0.394367</td>\n",
       "      <td>1.000000</td>\n",
       "      <td>0.261385</td>\n",
       "      <td>0.397375</td>\n",
       "    </tr>\n",
       "    <tr>\n",
       "      <th>Broken_contract</th>\n",
       "      <td>0.009029</td>\n",
       "      <td>0.085995</td>\n",
       "      <td>0.226776</td>\n",
       "      <td>0.046841</td>\n",
       "      <td>0.094073</td>\n",
       "      <td>0.083159</td>\n",
       "      <td>0.214624</td>\n",
       "      <td>0.225959</td>\n",
       "      <td>0.302751</td>\n",
       "      <td>0.056527</td>\n",
       "      <td>0.132604</td>\n",
       "      <td>0.229475</td>\n",
       "      <td>0.218370</td>\n",
       "      <td>0.103650</td>\n",
       "      <td>0.200153</td>\n",
       "      <td>0.222192</td>\n",
       "      <td>0.261385</td>\n",
       "      <td>1.000000</td>\n",
       "      <td>0.374361</td>\n",
       "    </tr>\n",
       "    <tr>\n",
       "      <th>Duration_contract</th>\n",
       "      <td>0.000000</td>\n",
       "      <td>0.063165</td>\n",
       "      <td>0.452940</td>\n",
       "      <td>0.198278</td>\n",
       "      <td>0.633814</td>\n",
       "      <td>0.025643</td>\n",
       "      <td>0.350860</td>\n",
       "      <td>0.386862</td>\n",
       "      <td>0.848304</td>\n",
       "      <td>0.060400</td>\n",
       "      <td>0.395481</td>\n",
       "      <td>0.414828</td>\n",
       "      <td>0.426795</td>\n",
       "      <td>0.404598</td>\n",
       "      <td>0.339091</td>\n",
       "      <td>0.339089</td>\n",
       "      <td>0.397375</td>\n",
       "      <td>0.374361</td>\n",
       "      <td>1.000000</td>\n",
       "    </tr>\n",
       "  </tbody>\n",
       "</table>\n",
       "</div>"
      ],
      "text/plain": [
       "                     gender  SeniorCitizen   Partner  Dependents      Type  \\\n",
       "gender             1.000000       0.000000  0.000000    0.000000  0.000000   \n",
       "SeniorCitizen      0.000000       1.000000  0.017018    0.324714  0.086227   \n",
       "Partner            0.000000       0.017018  1.000000    0.652047  0.179447   \n",
       "Dependents         0.000000       0.324714  0.652047    1.000000  0.147569   \n",
       "Type               0.000000       0.086227  0.179447    0.147569  1.000000   \n",
       "PaperlessBilling   0.000000       0.241965  0.013973    0.173503  0.107076   \n",
       "PaymentMethod      0.000000       0.292447  0.242734    0.225051  0.277436   \n",
       "MonthlyCharges     0.011139       0.304566  0.202848    0.185006  0.388089   \n",
       "TotalCharges       0.000000       0.135556  0.381439    0.083553  0.470487   \n",
       "InternetService    0.000000       0.160675  0.000000    0.108940  0.505769   \n",
       "OnlineSecurity     0.018711       0.057080  0.221312    0.124192  0.152033   \n",
       "OnlineBackup       0.010208       0.102017  0.218884    0.030631  0.098759   \n",
       "DeviceProtection   0.000000       0.090634  0.237751    0.008694  0.137506   \n",
       "TechSupport        0.000000       0.092630  0.185611    0.096138  0.179905   \n",
       "StreamingTV        0.000000       0.163061  0.192916    0.018471  0.066827   \n",
       "StreamingMovies    0.000000       0.186086  0.181663    0.059844  0.069476   \n",
       "MultipleLines      0.000000       0.221451  0.219337    0.033672  0.065094   \n",
       "Broken_contract    0.009029       0.085995  0.226776    0.046841  0.094073   \n",
       "Duration_contract  0.000000       0.063165  0.452940    0.198278  0.633814   \n",
       "\n",
       "                   PaperlessBilling  PaymentMethod  MonthlyCharges  \\\n",
       "gender                     0.000000       0.000000        0.011139   \n",
       "SeniorCitizen              0.241965       0.292447        0.304566   \n",
       "Partner                    0.013973       0.242734        0.202848   \n",
       "Dependents                 0.173503       0.225051        0.185006   \n",
       "Type                       0.107076       0.277436        0.388089   \n",
       "PaperlessBilling           1.000000       0.369684        0.467018   \n",
       "PaymentMethod              0.369684       1.000000        0.398906   \n",
       "MonthlyCharges             0.467018       0.398906        1.000000   \n",
       "TotalCharges               0.201023       0.335398        0.710666   \n",
       "InternetService            0.231074       0.323494        0.918958   \n",
       "OnlineSecurity             0.000000       0.262288        0.551057   \n",
       "OnlineBackup               0.195733       0.281685        0.629107   \n",
       "DeviceProtection           0.160059       0.306078        0.667261   \n",
       "TechSupport                0.055117       0.271486        0.575646   \n",
       "StreamingTV                0.342904       0.376595        0.835016   \n",
       "StreamingMovies            0.324912       0.378272        0.833180   \n",
       "MultipleLines              0.252784       0.339329        0.676215   \n",
       "Broken_contract            0.083159       0.214624        0.225959   \n",
       "Duration_contract          0.025643       0.350860        0.386862   \n",
       "\n",
       "                   TotalCharges  InternetService  OnlineSecurity  \\\n",
       "gender                 0.000000         0.000000        0.018711   \n",
       "SeniorCitizen          0.135556         0.160675        0.057080   \n",
       "Partner                0.381439         0.000000        0.221312   \n",
       "Dependents             0.083553         0.108940        0.124192   \n",
       "Type                   0.470487         0.505769        0.152033   \n",
       "PaperlessBilling       0.201023         0.231074        0.000000   \n",
       "PaymentMethod          0.335398         0.323494        0.262288   \n",
       "MonthlyCharges         0.710666         0.918958        0.551057   \n",
       "TotalCharges           1.000000         0.489766        0.521627   \n",
       "InternetService        0.489766         1.000000        0.241361   \n",
       "OnlineSecurity         0.521627         0.241361        1.000000   \n",
       "OnlineBackup           0.622058         0.233419        0.429913   \n",
       "DeviceProtection       0.640606         0.232729        0.417953   \n",
       "TechSupport            0.549594         0.239594        0.527941   \n",
       "StreamingTV            0.641133         0.272610        0.271568   \n",
       "StreamingMovies        0.642858         0.272574        0.288492   \n",
       "MultipleLines          0.572850         0.225361        0.151485   \n",
       "Broken_contract        0.302751         0.056527        0.132604   \n",
       "Duration_contract      0.848304         0.060400        0.395481   \n",
       "\n",
       "                   OnlineBackup  DeviceProtection  TechSupport  StreamingTV  \\\n",
       "gender                 0.010208          0.000000     0.000000     0.000000   \n",
       "SeniorCitizen          0.102017          0.090634     0.092630     0.163061   \n",
       "Partner                0.218884          0.237751     0.185611     0.192916   \n",
       "Dependents             0.030631          0.008694     0.096138     0.018471   \n",
       "Type                   0.098759          0.137506     0.179905     0.066827   \n",
       "PaperlessBilling       0.195733          0.160059     0.055117     0.342904   \n",
       "PaymentMethod          0.281685          0.306078     0.271486     0.376595   \n",
       "MonthlyCharges         0.629107          0.667261     0.575646     0.835016   \n",
       "TotalCharges           0.622058          0.640606     0.549594     0.641133   \n",
       "InternetService        0.233419          0.232729     0.239594     0.272610   \n",
       "OnlineSecurity         0.429913          0.417953     0.527941     0.271568   \n",
       "OnlineBackup           1.000000          0.457729     0.444631     0.427505   \n",
       "DeviceProtection       0.457729          1.000000     0.498810     0.575151   \n",
       "TechSupport            0.444631          0.498810     1.000000     0.421735   \n",
       "StreamingTV            0.427505          0.575151     0.421735     1.000000   \n",
       "StreamingMovies        0.416660          0.589515     0.423574     0.742236   \n",
       "MultipleLines          0.311142          0.309494     0.155343     0.392050   \n",
       "Broken_contract        0.229475          0.218370     0.103650     0.200153   \n",
       "Duration_contract      0.414828          0.426795     0.404598     0.339091   \n",
       "\n",
       "                   StreamingMovies  MultipleLines  Broken_contract  \\\n",
       "gender                    0.000000       0.000000         0.009029   \n",
       "SeniorCitizen             0.186086       0.221451         0.085995   \n",
       "Partner                   0.181663       0.219337         0.226776   \n",
       "Dependents                0.059844       0.033672         0.046841   \n",
       "Type                      0.069476       0.065094         0.094073   \n",
       "PaperlessBilling          0.324912       0.252784         0.083159   \n",
       "PaymentMethod             0.378272       0.339329         0.214624   \n",
       "MonthlyCharges            0.833180       0.676215         0.225959   \n",
       "TotalCharges              0.642858       0.572850         0.302751   \n",
       "InternetService           0.272574       0.225361         0.056527   \n",
       "OnlineSecurity            0.288492       0.151485         0.132604   \n",
       "OnlineBackup              0.416660       0.311142         0.229475   \n",
       "DeviceProtection          0.589515       0.309494         0.218370   \n",
       "TechSupport               0.423574       0.155343         0.103650   \n",
       "StreamingTV               0.742236       0.392050         0.200153   \n",
       "StreamingMovies           1.000000       0.394367         0.222192   \n",
       "MultipleLines             0.394367       1.000000         0.261385   \n",
       "Broken_contract           0.222192       0.261385         1.000000   \n",
       "Duration_contract         0.339089       0.397375         0.374361   \n",
       "\n",
       "                   Duration_contract  \n",
       "gender                      0.000000  \n",
       "SeniorCitizen               0.063165  \n",
       "Partner                     0.452940  \n",
       "Dependents                  0.198278  \n",
       "Type                        0.633814  \n",
       "PaperlessBilling            0.025643  \n",
       "PaymentMethod               0.350860  \n",
       "MonthlyCharges              0.386862  \n",
       "TotalCharges                0.848304  \n",
       "InternetService             0.060400  \n",
       "OnlineSecurity              0.395481  \n",
       "OnlineBackup                0.414828  \n",
       "DeviceProtection            0.426795  \n",
       "TechSupport                 0.404598  \n",
       "StreamingTV                 0.339091  \n",
       "StreamingMovies             0.339089  \n",
       "MultipleLines               0.397375  \n",
       "Broken_contract             0.374361  \n",
       "Duration_contract           1.000000  "
      ]
     },
     "metadata": {},
     "output_type": "display_data"
    }
   ],
   "source": [
    "multicollinearity = data.phik_matrix(interval_cols=['MonthlyCharges', 'TotalCharges', 'Duration_contract'])\n",
    "display(multicollinearity)"
   ]
  },
  {
   "cell_type": "markdown",
   "id": "b40973c5",
   "metadata": {},
   "source": [
    "Признаки нет смысла исключать - зависимость от целевого признака есть, хоть и небольшая, а признаков в общем числе не так много."
   ]
  },
  {
   "cell_type": "markdown",
   "id": "3a939810",
   "metadata": {},
   "source": [
    "## Подготовка данных"
   ]
  },
  {
   "cell_type": "code",
   "execution_count": 47,
   "id": "79b42f82",
   "metadata": {},
   "outputs": [],
   "source": [
    "features = data.drop(['Broken_contract'], axis=1)\n",
    "target = data['Broken_contract']"
   ]
  },
  {
   "cell_type": "code",
   "execution_count": 48,
   "id": "6b5f5c58",
   "metadata": {},
   "outputs": [],
   "source": [
    "X_train, X_test, y_train, y_test = train_test_split(\n",
    "    features, target, test_size=TEST_SIZE, random_state=RANDOM_STATE\n",
    ")"
   ]
  },
  {
   "cell_type": "code",
   "execution_count": 49,
   "id": "d4d52a4d",
   "metadata": {},
   "outputs": [
    {
     "data": {
      "text/html": [
       "<div>\n",
       "<style scoped>\n",
       "    .dataframe tbody tr th:only-of-type {\n",
       "        vertical-align: middle;\n",
       "    }\n",
       "\n",
       "    .dataframe tbody tr th {\n",
       "        vertical-align: top;\n",
       "    }\n",
       "\n",
       "    .dataframe thead th {\n",
       "        text-align: right;\n",
       "    }\n",
       "</style>\n",
       "<table border=\"1\" class=\"dataframe\">\n",
       "  <thead>\n",
       "    <tr style=\"text-align: right;\">\n",
       "      <th></th>\n",
       "      <th>gender</th>\n",
       "      <th>SeniorCitizen</th>\n",
       "      <th>Partner</th>\n",
       "      <th>Dependents</th>\n",
       "      <th>Type</th>\n",
       "      <th>PaperlessBilling</th>\n",
       "      <th>PaymentMethod</th>\n",
       "      <th>MonthlyCharges</th>\n",
       "      <th>TotalCharges</th>\n",
       "      <th>InternetService</th>\n",
       "      <th>OnlineSecurity</th>\n",
       "      <th>OnlineBackup</th>\n",
       "      <th>DeviceProtection</th>\n",
       "      <th>TechSupport</th>\n",
       "      <th>StreamingTV</th>\n",
       "      <th>StreamingMovies</th>\n",
       "      <th>MultipleLines</th>\n",
       "      <th>Duration_contract</th>\n",
       "    </tr>\n",
       "  </thead>\n",
       "  <tbody>\n",
       "    <tr>\n",
       "      <th>5298</th>\n",
       "      <td>0</td>\n",
       "      <td>1</td>\n",
       "      <td>1</td>\n",
       "      <td>0</td>\n",
       "      <td>0</td>\n",
       "      <td>1</td>\n",
       "      <td>2</td>\n",
       "      <td>105.90</td>\n",
       "      <td>6417.54</td>\n",
       "      <td>1</td>\n",
       "      <td>0</td>\n",
       "      <td>1</td>\n",
       "      <td>1</td>\n",
       "      <td>0</td>\n",
       "      <td>1</td>\n",
       "      <td>1</td>\n",
       "      <td>1</td>\n",
       "      <td>1826</td>\n",
       "    </tr>\n",
       "    <tr>\n",
       "      <th>4413</th>\n",
       "      <td>0</td>\n",
       "      <td>1</td>\n",
       "      <td>0</td>\n",
       "      <td>0</td>\n",
       "      <td>0</td>\n",
       "      <td>1</td>\n",
       "      <td>2</td>\n",
       "      <td>89.15</td>\n",
       "      <td>1604.70</td>\n",
       "      <td>1</td>\n",
       "      <td>0</td>\n",
       "      <td>1</td>\n",
       "      <td>1</td>\n",
       "      <td>0</td>\n",
       "      <td>1</td>\n",
       "      <td>0</td>\n",
       "      <td>0</td>\n",
       "      <td>549</td>\n",
       "    </tr>\n",
       "    <tr>\n",
       "      <th>1102</th>\n",
       "      <td>1</td>\n",
       "      <td>0</td>\n",
       "      <td>1</td>\n",
       "      <td>1</td>\n",
       "      <td>0</td>\n",
       "      <td>1</td>\n",
       "      <td>3</td>\n",
       "      <td>56.15</td>\n",
       "      <td>400.91</td>\n",
       "      <td>0</td>\n",
       "      <td>0</td>\n",
       "      <td>1</td>\n",
       "      <td>1</td>\n",
       "      <td>0</td>\n",
       "      <td>0</td>\n",
       "      <td>0</td>\n",
       "      <td>0</td>\n",
       "      <td>215</td>\n",
       "    </tr>\n",
       "    <tr>\n",
       "      <th>4499</th>\n",
       "      <td>0</td>\n",
       "      <td>0</td>\n",
       "      <td>0</td>\n",
       "      <td>1</td>\n",
       "      <td>0</td>\n",
       "      <td>1</td>\n",
       "      <td>2</td>\n",
       "      <td>78.30</td>\n",
       "      <td>1017.90</td>\n",
       "      <td>1</td>\n",
       "      <td>1</td>\n",
       "      <td>0</td>\n",
       "      <td>0</td>\n",
       "      <td>0</td>\n",
       "      <td>0</td>\n",
       "      <td>0</td>\n",
       "      <td>1</td>\n",
       "      <td>396</td>\n",
       "    </tr>\n",
       "    <tr>\n",
       "      <th>2559</th>\n",
       "      <td>1</td>\n",
       "      <td>0</td>\n",
       "      <td>1</td>\n",
       "      <td>0</td>\n",
       "      <td>2</td>\n",
       "      <td>1</td>\n",
       "      <td>2</td>\n",
       "      <td>115.55</td>\n",
       "      <td>9068.36</td>\n",
       "      <td>1</td>\n",
       "      <td>1</td>\n",
       "      <td>1</td>\n",
       "      <td>1</td>\n",
       "      <td>1</td>\n",
       "      <td>1</td>\n",
       "      <td>1</td>\n",
       "      <td>1</td>\n",
       "      <td>2191</td>\n",
       "    </tr>\n",
       "  </tbody>\n",
       "</table>\n",
       "</div>"
      ],
      "text/plain": [
       "      gender  SeniorCitizen  Partner  Dependents  Type  PaperlessBilling  \\\n",
       "5298       0              1        1           0     0                 1   \n",
       "4413       0              1        0           0     0                 1   \n",
       "1102       1              0        1           1     0                 1   \n",
       "4499       0              0        0           1     0                 1   \n",
       "2559       1              0        1           0     2                 1   \n",
       "\n",
       "      PaymentMethod  MonthlyCharges  TotalCharges  InternetService  \\\n",
       "5298              2          105.90       6417.54                1   \n",
       "4413              2           89.15       1604.70                1   \n",
       "1102              3           56.15        400.91                0   \n",
       "4499              2           78.30       1017.90                1   \n",
       "2559              2          115.55       9068.36                1   \n",
       "\n",
       "      OnlineSecurity  OnlineBackup  DeviceProtection  TechSupport  \\\n",
       "5298               0             1                 1            0   \n",
       "4413               0             1                 1            0   \n",
       "1102               0             1                 1            0   \n",
       "4499               1             0                 0            0   \n",
       "2559               1             1                 1            1   \n",
       "\n",
       "      StreamingTV  StreamingMovies  MultipleLines  Duration_contract  \n",
       "5298            1                1              1               1826  \n",
       "4413            1                0              0                549  \n",
       "1102            0                0              0                215  \n",
       "4499            0                0              1                396  \n",
       "2559            1                1              1               2191  "
      ]
     },
     "execution_count": 49,
     "metadata": {},
     "output_type": "execute_result"
    }
   ],
   "source": [
    "le = LabelEncoder()\n",
    "to_encode = ['SeniorCitizen', 'Partner', 'Dependents', 'PaperlessBilling', 'PaymentMethod', 'TechSupport', 'MultipleLines', 'InternetService', 'OnlineSecurity', 'OnlineBackup', 'DeviceProtection', 'Type', 'gender', 'StreamingTV', 'StreamingMovies']\n",
    "for column in to_encode:\n",
    "    X_train[column] = le.fit_transform(X_train[column])\n",
    "    X_test[column] = X_test[column].map(lambda s: 'other' if s not in le.classes_ else s)\n",
    "    le_classes = le.classes_.tolist()\n",
    "    bisect.insort_left(le_classes, 'other')\n",
    "    le.classes_ = le_classes\n",
    "    X_test[column] = le.transform(X_test[column])\n",
    "X_test.head(5)"
   ]
  },
  {
   "cell_type": "code",
   "execution_count": 50,
   "id": "dcd34060",
   "metadata": {},
   "outputs": [],
   "source": [
    "num_col = X_train.select_dtypes(include='number').columns.tolist()\n",
    "cat_col = X_train.select_dtypes(exclude='number').columns.tolist()"
   ]
  },
  {
   "cell_type": "markdown",
   "id": "62016a7f",
   "metadata": {},
   "source": [
    "## Обучение моделей машинного обучения"
   ]
  },
  {
   "cell_type": "markdown",
   "id": "20afd347",
   "metadata": {},
   "source": [
    "### Catboost"
   ]
  },
  {
   "cell_type": "code",
   "execution_count": 51,
   "id": "37a4570a",
   "metadata": {},
   "outputs": [],
   "source": [
    "catboost_model = CatBoostClassifier(cat_features=cat_col,\n",
    "                                   random_state=RANDOM_STATE,\n",
    "                                   logging_level='Silent',\n",
    "                                   loss_function='Logloss')"
   ]
  },
  {
   "cell_type": "code",
   "execution_count": 52,
   "id": "7525e1b6",
   "metadata": {},
   "outputs": [],
   "source": [
    "parameters_c = {'max_depth': np.arange(4, 11),\n",
    "                  'learning_rate':[0.01, 0.1, 1],\n",
    "                  'iterations': [1000,2000]}\n",
    "catboost_grid = GridSearchCV(catboost_model,\n",
    "                             parameters_c,\n",
    "                             cv=3,\n",
    "                             scoring='roc_auc').fit(X_train, y_train)"
   ]
  },
  {
   "cell_type": "code",
   "execution_count": 53,
   "id": "952431c2",
   "metadata": {},
   "outputs": [
    {
     "data": {
      "text/plain": [
       "0.9109789386407859"
      ]
     },
     "execution_count": 53,
     "metadata": {},
     "output_type": "execute_result"
    }
   ],
   "source": [
    "roc = catboost_grid.best_score_\n",
    "roc"
   ]
  },
  {
   "cell_type": "markdown",
   "id": "e08c52c6",
   "metadata": {},
   "source": [
    "Catboost на тренировочной выборке показал результат roc-auc = 0.91."
   ]
  },
  {
   "cell_type": "markdown",
   "id": "08b66ec5",
   "metadata": {},
   "source": [
    "### RandomForest"
   ]
  },
  {
   "cell_type": "code",
   "execution_count": 54,
   "id": "cf5a9638",
   "metadata": {},
   "outputs": [],
   "source": [
    "grid_params = {\n",
    "    'n_estimators': np.arange(40, 100, 10),\n",
    "    'max_depth' : np.arange(12, 24)\n",
    "}\n",
    "\n",
    "grid_rf = GridSearchCV(RandomForestClassifier(random_state=RANDOM_STATE), grid_params, cv=3, scoring='roc_auc').fit(X_train, y_train)"
   ]
  },
  {
   "cell_type": "code",
   "execution_count": 55,
   "id": "b943b589",
   "metadata": {},
   "outputs": [
    {
     "data": {
      "text/plain": [
       "0.821787989916486"
      ]
     },
     "execution_count": 55,
     "metadata": {},
     "output_type": "execute_result"
    }
   ],
   "source": [
    "grid_rf.best_score_"
   ]
  },
  {
   "cell_type": "markdown",
   "id": "2bd01d4b",
   "metadata": {},
   "source": [
    "RandomForest на тренировочной выборке показал результат roc-auc = 0.82."
   ]
  },
  {
   "cell_type": "markdown",
   "id": "92f6918b",
   "metadata": {},
   "source": [
    "### LGBM"
   ]
  },
  {
   "cell_type": "code",
   "execution_count": 56,
   "id": "c49ac28f",
   "metadata": {},
   "outputs": [],
   "source": [
    "model_lgbm = LGBMClassifier(random_state=RANDOM_STATE)\n",
    "parameters_lgbm = {'max_depth': np.arange(4, 11),\n",
    "                  'learning_rate':[0.01, 0.1, 1]}\n",
    "lgbm = GridSearchCV(model_lgbm, \n",
    "                            parameters_lgbm, \n",
    "                            cv = 3,\n",
    "                            scoring='roc_auc').fit(X_train, y_train)"
   ]
  },
  {
   "cell_type": "code",
   "execution_count": 57,
   "id": "9012e1c7",
   "metadata": {},
   "outputs": [
    {
     "data": {
      "text/plain": [
       "0.8590225144498244"
      ]
     },
     "execution_count": 57,
     "metadata": {},
     "output_type": "execute_result"
    }
   ],
   "source": [
    "lgbm.best_score_"
   ]
  },
  {
   "cell_type": "markdown",
   "id": "6332b904",
   "metadata": {},
   "source": [
    "LGBM на тренировочной выборке показал результат roc-auc = 0.86."
   ]
  },
  {
   "cell_type": "markdown",
   "id": "20ca675e",
   "metadata": {},
   "source": [
    "## Выбор лучшей модели"
   ]
  },
  {
   "cell_type": "markdown",
   "id": "79b9f251",
   "metadata": {},
   "source": [
    "Лучше всего показала себя модель CatBoost, проверим ее на тестовой выборке:"
   ]
  },
  {
   "cell_type": "code",
   "execution_count": 58,
   "id": "3fc59e0a",
   "metadata": {},
   "outputs": [
    {
     "data": {
      "text/plain": [
       "{'iterations': 2000, 'learning_rate': 0.1, 'max_depth': 4}"
      ]
     },
     "execution_count": 58,
     "metadata": {},
     "output_type": "execute_result"
    }
   ],
   "source": [
    "catboost_grid.best_params_"
   ]
  },
  {
   "cell_type": "code",
   "execution_count": 65,
   "id": "2cf31e5f",
   "metadata": {},
   "outputs": [],
   "source": [
    "model = CatBoostClassifier(logging_level='Silent',\n",
    "                           loss_function='Logloss',\n",
    "                           iterations = 2000, \n",
    "                           learning_rate = 0.1, \n",
    "                           max_depth = 4).fit(X_train, y_train)\n",
    "predictions = model.predict(X_test)"
   ]
  },
  {
   "cell_type": "code",
   "execution_count": 66,
   "id": "a448c0f0",
   "metadata": {},
   "outputs": [],
   "source": [
    "predict = catboost_grid.predict(X_test)\n",
    "predict_proba = model.predict_proba(X_test)\n",
    "roc_auc = roc_auc_score(y_test, predict_proba[:, 1])"
   ]
  },
  {
   "cell_type": "code",
   "execution_count": 67,
   "id": "7d583556",
   "metadata": {
    "scrolled": true
   },
   "outputs": [
    {
     "data": {
      "text/plain": [
       "0.9018867835014375"
      ]
     },
     "execution_count": 67,
     "metadata": {},
     "output_type": "execute_result"
    }
   ],
   "source": [
    "roc_auc"
   ]
  },
  {
   "cell_type": "markdown",
   "id": "78eed8d3",
   "metadata": {},
   "source": [
    "##  Общий вывод и рекомендации заказчику"
   ]
  },
  {
   "cell_type": "markdown",
   "id": "c839de61",
   "metadata": {},
   "source": [
    "В ходе работы были изучены, исследованы и подготовлены данные о компании Теледом. <br>\n",
    "Лучшая модель - Catboost c параметрами {'iterations': 2000, 'learning_rate': 0.1, 'max_depth': 4} <br>\n",
    "Модель предсказания оттока клиентов из компании Теледом показала результат roc_auc=0.90, что является хорошим результатом.<br>\n",
    "Возможно для более высокой точности необходимо собрать больше данных для анализа, например через опрос пользователей <br>\n",
    "Выделены некоторые рекомендации для Заказчика:\n",
    "* Пенсионеры - целевая группа, стоит это учитывать\n",
    "* Тип подписки не сильно влияет на разрыв контракта, но можем заметить, что месячная сильно популярнее - возможно имеет смысл развивать другие типы\n",
    "* Клиенты с типом оплаты mailed check реже уходят из компании - возможно стоит исключать ошибки при оплате/добавить автоплатежи для других типов оплаты\n",
    "* Клиенты с типом подключения Fiber optic чаще уходят из компании, стоит провреить качество услуги/увеличить тех. поддержку\n",
    "* Блокировка опасных сайтов, облачное хранилище, антивирус не заставляют людей оставаться - множество оставшихся клиентов не имеют данных услуг. <br> Возможно они пользуются этими услугами у других компаний - нужно провести анализ рынка, изменить стоимость/увеличить рекламу данных услуг\n",
    "* Те, кто не имеют выделенной линии тех. поддержки чуть чаще уходят из компании - возможно стоит ввести как дополнительную акцию для некоторых клиентов"
   ]
  },
  {
   "cell_type": "code",
   "execution_count": null,
   "id": "d0519cf6",
   "metadata": {},
   "outputs": [],
   "source": []
  }
 ],
 "metadata": {
  "ExecuteTimeLog": [
   {
    "duration": 15247,
    "start_time": "2025-03-10T10:33:45.724Z"
   },
   {
    "duration": 1486,
    "start_time": "2025-03-10T10:34:00.974Z"
   },
   {
    "duration": 308,
    "start_time": "2025-03-10T10:34:02.462Z"
   },
   {
    "duration": 3,
    "start_time": "2025-03-10T10:34:02.773Z"
   },
   {
    "duration": 36,
    "start_time": "2025-03-10T10:38:29.796Z"
   },
   {
    "duration": 28,
    "start_time": "2025-03-10T10:38:35.161Z"
   },
   {
    "duration": 45,
    "start_time": "2025-03-10T10:38:43.473Z"
   },
   {
    "duration": 24,
    "start_time": "2025-03-10T10:38:51.661Z"
   },
   {
    "duration": 83,
    "start_time": "2025-03-10T10:53:53.134Z"
   },
   {
    "duration": 3,
    "start_time": "2025-03-10T10:53:54.428Z"
   },
   {
    "duration": 9565,
    "start_time": "2025-03-10T10:54:09.590Z"
   },
   {
    "duration": 1365,
    "start_time": "2025-03-10T10:54:19.158Z"
   },
   {
    "duration": 86,
    "start_time": "2025-03-10T10:54:20.524Z"
   },
   {
    "duration": 3,
    "start_time": "2025-03-10T10:54:20.612Z"
   },
   {
    "duration": 44,
    "start_time": "2025-03-10T10:54:20.617Z"
   },
   {
    "duration": 1174,
    "start_time": "2025-03-10T10:54:20.663Z"
   },
   {
    "duration": 0,
    "start_time": "2025-03-10T10:54:21.839Z"
   },
   {
    "duration": 0,
    "start_time": "2025-03-10T10:54:21.840Z"
   },
   {
    "duration": 0,
    "start_time": "2025-03-10T10:54:21.841Z"
   },
   {
    "duration": 11,
    "start_time": "2025-03-10T10:54:57.400Z"
   },
   {
    "duration": 816,
    "start_time": "2025-03-10T10:59:39.949Z"
   },
   {
    "duration": 958,
    "start_time": "2025-03-10T11:00:09.190Z"
   },
   {
    "duration": 618,
    "start_time": "2025-03-10T11:01:10.705Z"
   },
   {
    "duration": 9,
    "start_time": "2025-03-10T11:05:32.923Z"
   },
   {
    "duration": 25,
    "start_time": "2025-03-10T11:05:36.288Z"
   },
   {
    "duration": 44,
    "start_time": "2025-03-10T11:05:41.022Z"
   },
   {
    "duration": 25,
    "start_time": "2025-03-10T11:05:44.958Z"
   },
   {
    "duration": 4,
    "start_time": "2025-03-10T11:12:18.179Z"
   },
   {
    "duration": 4,
    "start_time": "2025-03-10T11:14:06.285Z"
   },
   {
    "duration": 4,
    "start_time": "2025-03-10T11:14:50.943Z"
   },
   {
    "duration": 3,
    "start_time": "2025-03-10T11:15:08.544Z"
   },
   {
    "duration": 49,
    "start_time": "2025-03-17T06:24:56.066Z"
   },
   {
    "duration": 17360,
    "start_time": "2025-03-17T06:25:01.863Z"
   },
   {
    "duration": 1437,
    "start_time": "2025-03-17T06:25:19.226Z"
   },
   {
    "duration": 3,
    "start_time": "2025-03-17T06:25:20.665Z"
   },
   {
    "duration": 108,
    "start_time": "2025-03-17T06:25:20.670Z"
   },
   {
    "duration": 3,
    "start_time": "2025-03-17T06:25:20.781Z"
   },
   {
    "duration": 51,
    "start_time": "2025-03-17T06:25:20.786Z"
   },
   {
    "duration": 134,
    "start_time": "2025-03-17T06:25:20.839Z"
   },
   {
    "duration": 0,
    "start_time": "2025-03-17T06:25:20.975Z"
   },
   {
    "duration": 0,
    "start_time": "2025-03-17T06:25:20.977Z"
   },
   {
    "duration": 0,
    "start_time": "2025-03-17T06:25:20.979Z"
   },
   {
    "duration": 0,
    "start_time": "2025-03-17T06:25:20.980Z"
   },
   {
    "duration": 0,
    "start_time": "2025-03-17T06:25:20.981Z"
   },
   {
    "duration": 0,
    "start_time": "2025-03-17T06:25:20.983Z"
   },
   {
    "duration": 0,
    "start_time": "2025-03-17T06:25:20.985Z"
   },
   {
    "duration": 11,
    "start_time": "2025-03-17T06:30:03.703Z"
   },
   {
    "duration": 26,
    "start_time": "2025-03-17T06:30:07.588Z"
   },
   {
    "duration": 56,
    "start_time": "2025-03-17T06:30:12.718Z"
   },
   {
    "duration": 28,
    "start_time": "2025-03-17T06:30:17.345Z"
   },
   {
    "duration": 3,
    "start_time": "2025-03-17T06:30:45.970Z"
   },
   {
    "duration": 32,
    "start_time": "2025-03-17T06:31:31.722Z"
   },
   {
    "duration": 14,
    "start_time": "2025-03-17T06:32:27.632Z"
   },
   {
    "duration": 22,
    "start_time": "2025-03-17T06:33:29.991Z"
   },
   {
    "duration": 12,
    "start_time": "2025-03-17T06:34:10.311Z"
   },
   {
    "duration": 24,
    "start_time": "2025-03-17T06:45:37.105Z"
   },
   {
    "duration": 30,
    "start_time": "2025-03-17T06:47:10.542Z"
   },
   {
    "duration": 88,
    "start_time": "2025-03-17T06:47:24.143Z"
   },
   {
    "duration": 29,
    "start_time": "2025-03-17T06:49:11.407Z"
   },
   {
    "duration": 10057,
    "start_time": "2025-03-17T06:53:34.676Z"
   },
   {
    "duration": 1309,
    "start_time": "2025-03-17T06:53:44.736Z"
   },
   {
    "duration": 3,
    "start_time": "2025-03-17T06:53:46.046Z"
   },
   {
    "duration": 90,
    "start_time": "2025-03-17T06:53:46.051Z"
   },
   {
    "duration": 3,
    "start_time": "2025-03-17T06:53:46.142Z"
   },
   {
    "duration": 36,
    "start_time": "2025-03-17T06:53:46.147Z"
   },
   {
    "duration": 142,
    "start_time": "2025-03-17T06:53:46.184Z"
   },
   {
    "duration": 0,
    "start_time": "2025-03-17T06:53:46.328Z"
   },
   {
    "duration": 0,
    "start_time": "2025-03-17T06:53:46.330Z"
   },
   {
    "duration": 0,
    "start_time": "2025-03-17T06:53:46.331Z"
   },
   {
    "duration": 0,
    "start_time": "2025-03-17T06:53:46.331Z"
   },
   {
    "duration": 0,
    "start_time": "2025-03-17T06:53:46.333Z"
   },
   {
    "duration": 0,
    "start_time": "2025-03-17T06:53:46.333Z"
   },
   {
    "duration": 0,
    "start_time": "2025-03-17T06:53:46.334Z"
   },
   {
    "duration": 0,
    "start_time": "2025-03-17T06:53:46.335Z"
   },
   {
    "duration": 0,
    "start_time": "2025-03-17T06:53:46.337Z"
   },
   {
    "duration": 0,
    "start_time": "2025-03-17T06:53:46.338Z"
   },
   {
    "duration": 0,
    "start_time": "2025-03-17T06:53:46.339Z"
   },
   {
    "duration": 30,
    "start_time": "2025-03-17T06:54:23.766Z"
   },
   {
    "duration": 28,
    "start_time": "2025-03-17T06:55:02.062Z"
   },
   {
    "duration": 92,
    "start_time": "2025-03-17T06:56:18.335Z"
   },
   {
    "duration": 26,
    "start_time": "2025-03-17T06:58:26.884Z"
   },
   {
    "duration": 66,
    "start_time": "2025-03-17T06:58:30.694Z"
   },
   {
    "duration": 26,
    "start_time": "2025-03-17T06:58:34.459Z"
   },
   {
    "duration": 4,
    "start_time": "2025-03-17T06:58:38.670Z"
   },
   {
    "duration": 15,
    "start_time": "2025-03-17T06:58:39.801Z"
   },
   {
    "duration": 11,
    "start_time": "2025-03-17T06:58:42.565Z"
   },
   {
    "duration": 19,
    "start_time": "2025-03-17T06:58:45.432Z"
   },
   {
    "duration": 6,
    "start_time": "2025-03-17T06:58:48.578Z"
   },
   {
    "duration": 4,
    "start_time": "2025-03-17T06:58:52.547Z"
   },
   {
    "duration": 3,
    "start_time": "2025-03-17T06:58:55.572Z"
   },
   {
    "duration": 3,
    "start_time": "2025-03-17T06:58:58.620Z"
   },
   {
    "duration": 4,
    "start_time": "2025-03-17T06:59:04.876Z"
   },
   {
    "duration": 80,
    "start_time": "2025-03-17T07:02:20.298Z"
   },
   {
    "duration": 30,
    "start_time": "2025-03-17T07:02:27.608Z"
   },
   {
    "duration": 30,
    "start_time": "2025-03-17T07:02:40.517Z"
   },
   {
    "duration": 28,
    "start_time": "2025-03-17T07:03:57.144Z"
   },
   {
    "duration": 10057,
    "start_time": "2025-03-17T07:06:30.158Z"
   },
   {
    "duration": 1307,
    "start_time": "2025-03-17T07:06:40.217Z"
   },
   {
    "duration": 3,
    "start_time": "2025-03-17T07:06:41.525Z"
   },
   {
    "duration": 94,
    "start_time": "2025-03-17T07:06:41.529Z"
   },
   {
    "duration": 3,
    "start_time": "2025-03-17T07:06:41.625Z"
   },
   {
    "duration": 38,
    "start_time": "2025-03-17T07:06:41.629Z"
   },
   {
    "duration": 13,
    "start_time": "2025-03-17T07:06:41.669Z"
   },
   {
    "duration": 28,
    "start_time": "2025-03-17T07:06:41.684Z"
   },
   {
    "duration": 63,
    "start_time": "2025-03-17T07:06:41.713Z"
   },
   {
    "duration": 26,
    "start_time": "2025-03-17T07:06:41.777Z"
   },
   {
    "duration": 4,
    "start_time": "2025-03-17T07:06:41.805Z"
   },
   {
    "duration": 25,
    "start_time": "2025-03-17T07:06:41.810Z"
   },
   {
    "duration": 9,
    "start_time": "2025-03-17T07:06:41.837Z"
   },
   {
    "duration": 37,
    "start_time": "2025-03-17T07:06:41.849Z"
   },
   {
    "duration": 6,
    "start_time": "2025-03-17T07:06:41.888Z"
   },
   {
    "duration": 72,
    "start_time": "2025-03-17T07:06:41.895Z"
   },
   {
    "duration": 0,
    "start_time": "2025-03-17T07:06:41.969Z"
   },
   {
    "duration": 0,
    "start_time": "2025-03-17T07:06:41.971Z"
   },
   {
    "duration": 0,
    "start_time": "2025-03-17T07:06:41.972Z"
   },
   {
    "duration": 0,
    "start_time": "2025-03-17T07:06:41.973Z"
   },
   {
    "duration": 0,
    "start_time": "2025-03-17T07:06:41.974Z"
   },
   {
    "duration": 0,
    "start_time": "2025-03-17T07:06:41.977Z"
   },
   {
    "duration": 0,
    "start_time": "2025-03-17T07:06:41.978Z"
   },
   {
    "duration": 0,
    "start_time": "2025-03-17T07:06:41.979Z"
   },
   {
    "duration": 0,
    "start_time": "2025-03-17T07:06:41.980Z"
   },
   {
    "duration": 0,
    "start_time": "2025-03-17T07:06:41.981Z"
   },
   {
    "duration": 0,
    "start_time": "2025-03-17T07:06:41.983Z"
   },
   {
    "duration": 0,
    "start_time": "2025-03-17T07:06:41.984Z"
   },
   {
    "duration": 0,
    "start_time": "2025-03-17T07:06:41.986Z"
   },
   {
    "duration": 0,
    "start_time": "2025-03-17T07:06:41.986Z"
   },
   {
    "duration": 4,
    "start_time": "2025-03-17T07:07:14.085Z"
   },
   {
    "duration": 270,
    "start_time": "2025-03-17T07:07:16.941Z"
   },
   {
    "duration": 315,
    "start_time": "2025-03-17T07:07:22.959Z"
   },
   {
    "duration": 562,
    "start_time": "2025-03-17T07:07:34.388Z"
   },
   {
    "duration": 76,
    "start_time": "2025-03-17T07:07:41.018Z"
   },
   {
    "duration": 4,
    "start_time": "2025-03-17T07:07:47.935Z"
   },
   {
    "duration": 3,
    "start_time": "2025-03-17T07:07:50.512Z"
   },
   {
    "duration": 190,
    "start_time": "2025-03-17T07:07:54.044Z"
   },
   {
    "duration": 3,
    "start_time": "2025-03-17T07:08:05.719Z"
   },
   {
    "duration": 2,
    "start_time": "2025-03-17T07:08:09.782Z"
   },
   {
    "duration": 5,
    "start_time": "2025-03-17T07:08:53.913Z"
   },
   {
    "duration": 15,
    "start_time": "2025-03-17T07:08:56.595Z"
   },
   {
    "duration": 13,
    "start_time": "2025-03-17T07:09:00.236Z"
   },
   {
    "duration": 14,
    "start_time": "2025-03-17T07:09:04.595Z"
   },
   {
    "duration": 12,
    "start_time": "2025-03-17T07:09:08.059Z"
   },
   {
    "duration": 4,
    "start_time": "2025-03-17T07:10:03.622Z"
   },
   {
    "duration": 118,
    "start_time": "2025-03-17T07:10:07.733Z"
   },
   {
    "duration": 4,
    "start_time": "2025-03-17T07:11:47.857Z"
   },
   {
    "duration": 348,
    "start_time": "2025-03-17T07:11:48.930Z"
   },
   {
    "duration": 271,
    "start_time": "2025-03-17T07:11:53.429Z"
   },
   {
    "duration": 3,
    "start_time": "2025-03-17T07:11:57.451Z"
   },
   {
    "duration": 2,
    "start_time": "2025-03-17T07:12:01.390Z"
   },
   {
    "duration": 4,
    "start_time": "2025-03-17T07:12:02.877Z"
   },
   {
    "duration": 18,
    "start_time": "2025-03-17T07:12:03.492Z"
   },
   {
    "duration": 12,
    "start_time": "2025-03-17T07:12:04.191Z"
   },
   {
    "duration": 13,
    "start_time": "2025-03-17T07:12:04.778Z"
   },
   {
    "duration": 10,
    "start_time": "2025-03-17T07:12:05.245Z"
   },
   {
    "duration": 5,
    "start_time": "2025-03-17T07:24:20.484Z"
   },
   {
    "duration": 4,
    "start_time": "2025-03-17T07:24:22.843Z"
   },
   {
    "duration": 4,
    "start_time": "2025-03-17T07:24:35.703Z"
   },
   {
    "duration": 10091,
    "start_time": "2025-03-17T07:24:41.980Z"
   },
   {
    "duration": 1374,
    "start_time": "2025-03-17T07:24:52.073Z"
   },
   {
    "duration": 3,
    "start_time": "2025-03-17T07:24:53.449Z"
   },
   {
    "duration": 96,
    "start_time": "2025-03-17T07:24:53.453Z"
   },
   {
    "duration": 3,
    "start_time": "2025-03-17T07:24:53.551Z"
   },
   {
    "duration": 40,
    "start_time": "2025-03-17T07:24:53.555Z"
   },
   {
    "duration": 11,
    "start_time": "2025-03-17T07:24:53.596Z"
   },
   {
    "duration": 7,
    "start_time": "2025-03-17T07:24:53.609Z"
   },
   {
    "duration": 1265,
    "start_time": "2025-03-17T07:24:53.618Z"
   },
   {
    "duration": 0,
    "start_time": "2025-03-17T07:24:54.885Z"
   },
   {
    "duration": 0,
    "start_time": "2025-03-17T07:24:54.887Z"
   },
   {
    "duration": 0,
    "start_time": "2025-03-17T07:24:54.888Z"
   },
   {
    "duration": 0,
    "start_time": "2025-03-17T07:24:54.889Z"
   },
   {
    "duration": 0,
    "start_time": "2025-03-17T07:24:54.890Z"
   },
   {
    "duration": 0,
    "start_time": "2025-03-17T07:24:54.892Z"
   },
   {
    "duration": 0,
    "start_time": "2025-03-17T07:24:54.893Z"
   },
   {
    "duration": 0,
    "start_time": "2025-03-17T07:24:54.894Z"
   },
   {
    "duration": 0,
    "start_time": "2025-03-17T07:24:54.895Z"
   },
   {
    "duration": 0,
    "start_time": "2025-03-17T07:24:54.896Z"
   },
   {
    "duration": 0,
    "start_time": "2025-03-17T07:24:54.898Z"
   },
   {
    "duration": 0,
    "start_time": "2025-03-17T07:24:54.899Z"
   },
   {
    "duration": 0,
    "start_time": "2025-03-17T07:24:54.900Z"
   },
   {
    "duration": 0,
    "start_time": "2025-03-17T07:24:54.901Z"
   },
   {
    "duration": 0,
    "start_time": "2025-03-17T07:24:54.903Z"
   },
   {
    "duration": 0,
    "start_time": "2025-03-17T07:24:54.904Z"
   },
   {
    "duration": 0,
    "start_time": "2025-03-17T07:24:54.906Z"
   },
   {
    "duration": 0,
    "start_time": "2025-03-17T07:24:54.908Z"
   },
   {
    "duration": 0,
    "start_time": "2025-03-17T07:24:54.909Z"
   },
   {
    "duration": 0,
    "start_time": "2025-03-17T07:24:54.910Z"
   },
   {
    "duration": 0,
    "start_time": "2025-03-17T07:24:54.911Z"
   },
   {
    "duration": 9737,
    "start_time": "2025-03-17T07:28:52.166Z"
   },
   {
    "duration": 1344,
    "start_time": "2025-03-17T07:29:01.906Z"
   },
   {
    "duration": 3,
    "start_time": "2025-03-17T07:29:03.252Z"
   },
   {
    "duration": 95,
    "start_time": "2025-03-17T07:29:03.257Z"
   },
   {
    "duration": 3,
    "start_time": "2025-03-17T07:29:03.354Z"
   },
   {
    "duration": 43,
    "start_time": "2025-03-17T07:29:03.358Z"
   },
   {
    "duration": 11,
    "start_time": "2025-03-17T07:29:03.402Z"
   },
   {
    "duration": 10,
    "start_time": "2025-03-17T07:29:03.414Z"
   },
   {
    "duration": 31,
    "start_time": "2025-03-17T07:29:03.425Z"
   },
   {
    "duration": 61,
    "start_time": "2025-03-17T07:29:03.457Z"
   },
   {
    "duration": 27,
    "start_time": "2025-03-17T07:29:03.519Z"
   },
   {
    "duration": 4,
    "start_time": "2025-03-17T07:29:03.547Z"
   },
   {
    "duration": 28,
    "start_time": "2025-03-17T07:29:03.552Z"
   },
   {
    "duration": 21,
    "start_time": "2025-03-17T07:29:03.583Z"
   },
   {
    "duration": 16,
    "start_time": "2025-03-17T07:29:03.605Z"
   },
   {
    "duration": 10,
    "start_time": "2025-03-17T07:29:03.622Z"
   },
   {
    "duration": 3,
    "start_time": "2025-03-17T07:29:03.634Z"
   },
   {
    "duration": 324,
    "start_time": "2025-03-17T07:29:03.639Z"
   },
   {
    "duration": 307,
    "start_time": "2025-03-17T07:29:03.972Z"
   },
   {
    "duration": 561,
    "start_time": "2025-03-17T07:29:04.280Z"
   },
   {
    "duration": 84,
    "start_time": "2025-03-17T07:29:04.843Z"
   },
   {
    "duration": 3,
    "start_time": "2025-03-17T07:29:04.929Z"
   },
   {
    "duration": 359,
    "start_time": "2025-03-17T07:29:04.934Z"
   },
   {
    "duration": 193,
    "start_time": "2025-03-17T07:29:05.294Z"
   },
   {
    "duration": 3,
    "start_time": "2025-03-17T07:29:05.489Z"
   },
   {
    "duration": 26,
    "start_time": "2025-03-17T07:29:05.494Z"
   },
   {
    "duration": 4,
    "start_time": "2025-03-17T07:29:05.521Z"
   },
   {
    "duration": 53,
    "start_time": "2025-03-17T07:29:05.526Z"
   },
   {
    "duration": 14,
    "start_time": "2025-03-17T07:29:05.581Z"
   },
   {
    "duration": 25,
    "start_time": "2025-03-17T07:29:05.596Z"
   },
   {
    "duration": 15,
    "start_time": "2025-03-17T07:29:57.345Z"
   },
   {
    "duration": 80,
    "start_time": "2025-03-17T07:33:26.205Z"
   },
   {
    "duration": 399,
    "start_time": "2025-03-17T07:39:53.139Z"
   },
   {
    "duration": 26,
    "start_time": "2025-03-17T07:41:32.658Z"
   },
   {
    "duration": 10,
    "start_time": "2025-03-17T07:50:32.914Z"
   },
   {
    "duration": 27,
    "start_time": "2025-03-17T07:50:49.401Z"
   },
   {
    "duration": 6,
    "start_time": "2025-03-17T07:56:06.444Z"
   },
   {
    "duration": 9986,
    "start_time": "2025-03-17T07:56:44.404Z"
   },
   {
    "duration": 1366,
    "start_time": "2025-03-17T07:56:54.393Z"
   },
   {
    "duration": 2,
    "start_time": "2025-03-17T07:56:55.761Z"
   },
   {
    "duration": 95,
    "start_time": "2025-03-17T07:56:55.765Z"
   },
   {
    "duration": 3,
    "start_time": "2025-03-17T07:56:55.862Z"
   },
   {
    "duration": 38,
    "start_time": "2025-03-17T07:56:55.867Z"
   },
   {
    "duration": 11,
    "start_time": "2025-03-17T07:56:55.906Z"
   },
   {
    "duration": 7,
    "start_time": "2025-03-17T07:56:55.918Z"
   },
   {
    "duration": 48,
    "start_time": "2025-03-17T07:56:55.926Z"
   },
   {
    "duration": 6,
    "start_time": "2025-03-17T07:56:55.976Z"
   },
   {
    "duration": 44,
    "start_time": "2025-03-17T07:56:55.983Z"
   },
   {
    "duration": 45,
    "start_time": "2025-03-17T07:56:56.029Z"
   },
   {
    "duration": 3,
    "start_time": "2025-03-17T07:56:56.076Z"
   },
   {
    "duration": 9,
    "start_time": "2025-03-17T07:56:56.082Z"
   },
   {
    "duration": 16,
    "start_time": "2025-03-17T07:56:56.092Z"
   },
   {
    "duration": 16,
    "start_time": "2025-03-17T07:56:56.110Z"
   },
   {
    "duration": 5,
    "start_time": "2025-03-17T07:56:56.127Z"
   },
   {
    "duration": 5,
    "start_time": "2025-03-17T07:56:56.134Z"
   },
   {
    "duration": 327,
    "start_time": "2025-03-17T07:56:56.140Z"
   },
   {
    "duration": 409,
    "start_time": "2025-03-17T07:56:56.472Z"
   },
   {
    "duration": 590,
    "start_time": "2025-03-17T07:56:56.883Z"
   },
   {
    "duration": 79,
    "start_time": "2025-03-17T07:56:57.475Z"
   },
   {
    "duration": 4,
    "start_time": "2025-03-17T07:56:57.556Z"
   },
   {
    "duration": 344,
    "start_time": "2025-03-17T07:56:57.573Z"
   },
   {
    "duration": 3,
    "start_time": "2025-03-17T07:56:57.919Z"
   },
   {
    "duration": 5,
    "start_time": "2025-03-17T07:56:57.923Z"
   },
   {
    "duration": 42,
    "start_time": "2025-03-17T07:56:57.929Z"
   },
   {
    "duration": 3,
    "start_time": "2025-03-17T07:56:57.972Z"
   },
   {
    "duration": 26,
    "start_time": "2025-03-17T07:56:57.976Z"
   },
   {
    "duration": 13,
    "start_time": "2025-03-17T07:56:58.003Z"
   },
   {
    "duration": 13,
    "start_time": "2025-03-17T07:56:58.017Z"
   },
   {
    "duration": 42,
    "start_time": "2025-03-17T07:56:58.032Z"
   },
   {
    "duration": 73,
    "start_time": "2025-03-17T07:56:58.076Z"
   },
   {
    "duration": 45,
    "start_time": "2025-03-17T07:56:58.151Z"
   },
   {
    "duration": 11,
    "start_time": "2025-03-17T07:56:58.197Z"
   },
   {
    "duration": 28,
    "start_time": "2025-03-17T07:56:58.210Z"
   },
   {
    "duration": 9898,
    "start_time": "2025-03-17T08:04:26.509Z"
   },
   {
    "duration": 1314,
    "start_time": "2025-03-17T08:04:36.409Z"
   },
   {
    "duration": 3,
    "start_time": "2025-03-17T08:04:37.727Z"
   },
   {
    "duration": 98,
    "start_time": "2025-03-17T08:04:37.732Z"
   },
   {
    "duration": 3,
    "start_time": "2025-03-17T08:04:37.832Z"
   },
   {
    "duration": 53,
    "start_time": "2025-03-17T08:04:37.836Z"
   },
   {
    "duration": 9,
    "start_time": "2025-03-17T08:04:37.891Z"
   },
   {
    "duration": 45,
    "start_time": "2025-03-17T08:04:37.901Z"
   },
   {
    "duration": 45,
    "start_time": "2025-03-17T08:04:37.948Z"
   },
   {
    "duration": 7,
    "start_time": "2025-03-17T08:04:37.995Z"
   },
   {
    "duration": 45,
    "start_time": "2025-03-17T08:04:38.003Z"
   },
   {
    "duration": 46,
    "start_time": "2025-03-17T08:04:38.050Z"
   },
   {
    "duration": 4,
    "start_time": "2025-03-17T08:04:38.097Z"
   },
   {
    "duration": 13,
    "start_time": "2025-03-17T08:04:38.102Z"
   },
   {
    "duration": 11,
    "start_time": "2025-03-17T08:04:38.117Z"
   },
   {
    "duration": 67,
    "start_time": "2025-03-17T08:04:38.129Z"
   },
   {
    "duration": 13,
    "start_time": "2025-03-17T08:04:38.198Z"
   },
   {
    "duration": 4,
    "start_time": "2025-03-17T08:04:38.213Z"
   },
   {
    "duration": 286,
    "start_time": "2025-03-17T08:04:38.218Z"
   },
   {
    "duration": 394,
    "start_time": "2025-03-17T08:04:38.506Z"
   },
   {
    "duration": 553,
    "start_time": "2025-03-17T08:04:38.902Z"
   },
   {
    "duration": 90,
    "start_time": "2025-03-17T08:04:39.456Z"
   },
   {
    "duration": 3,
    "start_time": "2025-03-17T08:04:39.548Z"
   },
   {
    "duration": 358,
    "start_time": "2025-03-17T08:04:39.553Z"
   },
   {
    "duration": 4,
    "start_time": "2025-03-17T08:04:39.913Z"
   },
   {
    "duration": 17,
    "start_time": "2025-03-17T08:04:39.918Z"
   },
   {
    "duration": 3,
    "start_time": "2025-03-17T08:04:39.938Z"
   },
   {
    "duration": 39,
    "start_time": "2025-03-17T08:04:39.943Z"
   },
   {
    "duration": 12,
    "start_time": "2025-03-17T08:04:39.983Z"
   },
   {
    "duration": 12,
    "start_time": "2025-03-17T08:04:39.997Z"
   },
   {
    "duration": 8,
    "start_time": "2025-03-17T08:04:40.011Z"
   },
   {
    "duration": 114,
    "start_time": "2025-03-17T08:04:40.021Z"
   },
   {
    "duration": 42,
    "start_time": "2025-03-17T08:04:40.136Z"
   },
   {
    "duration": 171,
    "start_time": "2025-03-17T08:04:40.179Z"
   },
   {
    "duration": 32,
    "start_time": "2025-03-17T08:04:40.352Z"
   },
   {
    "duration": 117,
    "start_time": "2025-03-17T08:06:17.993Z"
   },
   {
    "duration": 5,
    "start_time": "2025-03-17T08:10:42.840Z"
   },
   {
    "duration": 16,
    "start_time": "2025-03-17T08:12:31.668Z"
   },
   {
    "duration": 17,
    "start_time": "2025-03-17T08:13:58.258Z"
   },
   {
    "duration": 4,
    "start_time": "2025-03-17T08:16:13.112Z"
   },
   {
    "duration": 15,
    "start_time": "2025-03-17T08:16:13.808Z"
   },
   {
    "duration": 33765,
    "start_time": "2025-03-17T13:14:18.423Z"
   },
   {
    "duration": 1592,
    "start_time": "2025-03-17T13:14:52.190Z"
   },
   {
    "duration": 4,
    "start_time": "2025-03-17T13:14:53.784Z"
   },
   {
    "duration": 344,
    "start_time": "2025-03-17T13:14:53.790Z"
   },
   {
    "duration": 4,
    "start_time": "2025-03-17T13:14:54.136Z"
   },
   {
    "duration": 40,
    "start_time": "2025-03-17T13:14:54.142Z"
   },
   {
    "duration": 10,
    "start_time": "2025-03-17T13:14:54.185Z"
   },
   {
    "duration": 8,
    "start_time": "2025-03-17T13:14:54.197Z"
   },
   {
    "duration": 55,
    "start_time": "2025-03-17T13:14:54.206Z"
   },
   {
    "duration": 7,
    "start_time": "2025-03-17T13:14:54.264Z"
   },
   {
    "duration": 63,
    "start_time": "2025-03-17T13:14:54.273Z"
   },
   {
    "duration": 44,
    "start_time": "2025-03-17T13:14:54.338Z"
   },
   {
    "duration": 4,
    "start_time": "2025-03-17T13:14:54.384Z"
   },
   {
    "duration": 23,
    "start_time": "2025-03-17T13:14:54.389Z"
   },
   {
    "duration": 44,
    "start_time": "2025-03-17T13:14:54.415Z"
   },
   {
    "duration": 26,
    "start_time": "2025-03-17T13:14:54.461Z"
   },
   {
    "duration": 8,
    "start_time": "2025-03-17T13:14:54.490Z"
   },
   {
    "duration": 10,
    "start_time": "2025-03-17T13:14:54.500Z"
   },
   {
    "duration": 347,
    "start_time": "2025-03-17T13:14:54.511Z"
   },
   {
    "duration": 470,
    "start_time": "2025-03-17T13:14:54.860Z"
   },
   {
    "duration": 608,
    "start_time": "2025-03-17T13:14:55.331Z"
   },
   {
    "duration": 108,
    "start_time": "2025-03-17T13:14:55.941Z"
   },
   {
    "duration": 6,
    "start_time": "2025-03-17T13:14:56.057Z"
   },
   {
    "duration": 413,
    "start_time": "2025-03-17T13:14:56.065Z"
   },
   {
    "duration": 3,
    "start_time": "2025-03-17T13:14:56.480Z"
   },
   {
    "duration": 26,
    "start_time": "2025-03-17T13:14:56.485Z"
   },
   {
    "duration": 4,
    "start_time": "2025-03-17T13:14:56.513Z"
   },
   {
    "duration": 50,
    "start_time": "2025-03-17T13:14:56.520Z"
   },
   {
    "duration": 13,
    "start_time": "2025-03-17T13:14:56.572Z"
   },
   {
    "duration": 47,
    "start_time": "2025-03-17T13:14:56.587Z"
   },
   {
    "duration": 23,
    "start_time": "2025-03-17T13:14:56.636Z"
   },
   {
    "duration": 77,
    "start_time": "2025-03-17T13:14:56.661Z"
   },
   {
    "duration": 28,
    "start_time": "2025-03-17T13:14:56.757Z"
   },
   {
    "duration": 5,
    "start_time": "2025-03-17T13:14:56.787Z"
   },
   {
    "duration": 169,
    "start_time": "2025-03-17T13:14:56.794Z"
   },
   {
    "duration": 0,
    "start_time": "2025-03-17T13:14:56.966Z"
   },
   {
    "duration": 0,
    "start_time": "2025-03-17T13:14:56.967Z"
   },
   {
    "duration": 17,
    "start_time": "2025-03-17T13:15:46.626Z"
   },
   {
    "duration": 13,
    "start_time": "2025-03-17T13:36:10.120Z"
   },
   {
    "duration": 31,
    "start_time": "2025-03-17T13:36:10.502Z"
   },
   {
    "duration": 10458,
    "start_time": "2025-03-17T13:36:44.561Z"
   },
   {
    "duration": 1513,
    "start_time": "2025-03-17T13:36:55.021Z"
   },
   {
    "duration": 3,
    "start_time": "2025-03-17T13:36:56.536Z"
   },
   {
    "duration": 104,
    "start_time": "2025-03-17T13:36:56.541Z"
   },
   {
    "duration": 3,
    "start_time": "2025-03-17T13:36:56.647Z"
   },
   {
    "duration": 45,
    "start_time": "2025-03-17T13:36:56.652Z"
   },
   {
    "duration": 11,
    "start_time": "2025-03-17T13:36:56.698Z"
   },
   {
    "duration": 7,
    "start_time": "2025-03-17T13:36:56.710Z"
   },
   {
    "duration": 55,
    "start_time": "2025-03-17T13:36:56.719Z"
   },
   {
    "duration": 8,
    "start_time": "2025-03-17T13:36:56.777Z"
   },
   {
    "duration": 48,
    "start_time": "2025-03-17T13:36:56.787Z"
   },
   {
    "duration": 52,
    "start_time": "2025-03-17T13:36:56.836Z"
   },
   {
    "duration": 3,
    "start_time": "2025-03-17T13:36:56.890Z"
   },
   {
    "duration": 100,
    "start_time": "2025-03-17T13:36:56.895Z"
   },
   {
    "duration": 19,
    "start_time": "2025-03-17T13:36:56.997Z"
   },
   {
    "duration": 22,
    "start_time": "2025-03-17T13:36:57.019Z"
   },
   {
    "duration": 7,
    "start_time": "2025-03-17T13:36:57.043Z"
   },
   {
    "duration": 10,
    "start_time": "2025-03-17T13:36:57.052Z"
   },
   {
    "duration": 352,
    "start_time": "2025-03-17T13:36:57.063Z"
   },
   {
    "duration": 472,
    "start_time": "2025-03-17T13:36:57.417Z"
   },
   {
    "duration": 622,
    "start_time": "2025-03-17T13:36:57.890Z"
   },
   {
    "duration": 104,
    "start_time": "2025-03-17T13:36:58.513Z"
   },
   {
    "duration": 5,
    "start_time": "2025-03-17T13:36:58.620Z"
   },
   {
    "duration": 408,
    "start_time": "2025-03-17T13:36:58.627Z"
   },
   {
    "duration": 3,
    "start_time": "2025-03-17T13:36:59.038Z"
   },
   {
    "duration": 28,
    "start_time": "2025-03-17T13:36:59.043Z"
   },
   {
    "duration": 4,
    "start_time": "2025-03-17T13:36:59.072Z"
   },
   {
    "duration": 17,
    "start_time": "2025-03-17T13:36:59.079Z"
   },
   {
    "duration": 17,
    "start_time": "2025-03-17T13:36:59.097Z"
   },
   {
    "duration": 55,
    "start_time": "2025-03-17T13:36:59.116Z"
   },
   {
    "duration": 11,
    "start_time": "2025-03-17T13:36:59.173Z"
   },
   {
    "duration": 111,
    "start_time": "2025-03-17T13:36:59.186Z"
   },
   {
    "duration": 29,
    "start_time": "2025-03-17T13:36:59.299Z"
   },
   {
    "duration": 31,
    "start_time": "2025-03-17T13:36:59.330Z"
   },
   {
    "duration": 215,
    "start_time": "2025-03-17T13:36:59.363Z"
   },
   {
    "duration": 0,
    "start_time": "2025-03-17T13:36:59.580Z"
   },
   {
    "duration": 0,
    "start_time": "2025-03-17T13:36:59.581Z"
   },
   {
    "duration": 4,
    "start_time": "2025-03-17T13:37:47.979Z"
   },
   {
    "duration": 153,
    "start_time": "2025-03-17T13:37:54.478Z"
   },
   {
    "duration": 20,
    "start_time": "2025-03-17T13:38:01.605Z"
   },
   {
    "duration": 33,
    "start_time": "2025-03-17T13:38:02.712Z"
   },
   {
    "duration": 60,
    "start_time": "2025-03-17T13:38:19.774Z"
   },
   {
    "duration": 1370,
    "start_time": "2025-03-17T13:39:05.243Z"
   },
   {
    "duration": 10328,
    "start_time": "2025-03-17T13:39:15.523Z"
   },
   {
    "duration": 1373,
    "start_time": "2025-03-17T13:39:25.854Z"
   },
   {
    "duration": 3,
    "start_time": "2025-03-17T13:39:27.231Z"
   },
   {
    "duration": 93,
    "start_time": "2025-03-17T13:39:27.236Z"
   },
   {
    "duration": 3,
    "start_time": "2025-03-17T13:39:27.331Z"
   },
   {
    "duration": 38,
    "start_time": "2025-03-17T13:39:27.336Z"
   },
   {
    "duration": 10,
    "start_time": "2025-03-17T13:39:27.375Z"
   },
   {
    "duration": 6,
    "start_time": "2025-03-17T13:39:27.386Z"
   },
   {
    "duration": 27,
    "start_time": "2025-03-17T13:39:27.394Z"
   },
   {
    "duration": 7,
    "start_time": "2025-03-17T13:39:27.458Z"
   },
   {
    "duration": 47,
    "start_time": "2025-03-17T13:39:27.466Z"
   },
   {
    "duration": 57,
    "start_time": "2025-03-17T13:39:27.515Z"
   },
   {
    "duration": 4,
    "start_time": "2025-03-17T13:39:27.573Z"
   },
   {
    "duration": 10,
    "start_time": "2025-03-17T13:39:27.580Z"
   },
   {
    "duration": 11,
    "start_time": "2025-03-17T13:39:27.592Z"
   },
   {
    "duration": 60,
    "start_time": "2025-03-17T13:39:27.605Z"
   },
   {
    "duration": 7,
    "start_time": "2025-03-17T13:39:27.667Z"
   },
   {
    "duration": 4,
    "start_time": "2025-03-17T13:39:27.676Z"
   },
   {
    "duration": 323,
    "start_time": "2025-03-17T13:39:27.681Z"
   },
   {
    "duration": 438,
    "start_time": "2025-03-17T13:39:28.006Z"
   },
   {
    "duration": 592,
    "start_time": "2025-03-17T13:39:28.446Z"
   },
   {
    "duration": 93,
    "start_time": "2025-03-17T13:39:29.039Z"
   },
   {
    "duration": 4,
    "start_time": "2025-03-17T13:39:29.133Z"
   },
   {
    "duration": 363,
    "start_time": "2025-03-17T13:39:29.139Z"
   },
   {
    "duration": 3,
    "start_time": "2025-03-17T13:39:29.504Z"
   },
   {
    "duration": 19,
    "start_time": "2025-03-17T13:39:29.508Z"
   },
   {
    "duration": 3,
    "start_time": "2025-03-17T13:39:29.529Z"
   },
   {
    "duration": 35,
    "start_time": "2025-03-17T13:39:29.534Z"
   },
   {
    "duration": 15,
    "start_time": "2025-03-17T13:39:29.571Z"
   },
   {
    "duration": 16,
    "start_time": "2025-03-17T13:39:29.587Z"
   },
   {
    "duration": 54,
    "start_time": "2025-03-17T13:39:29.605Z"
   },
   {
    "duration": 75,
    "start_time": "2025-03-17T13:39:29.661Z"
   },
   {
    "duration": 42,
    "start_time": "2025-03-17T13:39:29.738Z"
   },
   {
    "duration": 5,
    "start_time": "2025-03-17T13:39:29.782Z"
   },
   {
    "duration": 157,
    "start_time": "2025-03-17T13:39:29.789Z"
   },
   {
    "duration": 0,
    "start_time": "2025-03-17T13:39:29.947Z"
   },
   {
    "duration": 0,
    "start_time": "2025-03-17T13:39:29.949Z"
   },
   {
    "duration": 0,
    "start_time": "2025-03-17T13:39:29.950Z"
   },
   {
    "duration": 4,
    "start_time": "2025-03-17T13:42:22.884Z"
   },
   {
    "duration": 689,
    "start_time": "2025-03-17T13:44:31.035Z"
   },
   {
    "duration": 555,
    "start_time": "2025-03-17T13:45:18.756Z"
   },
   {
    "duration": 10184,
    "start_time": "2025-03-17T13:47:02.070Z"
   },
   {
    "duration": 1823,
    "start_time": "2025-03-17T13:47:12.258Z"
   },
   {
    "duration": 2,
    "start_time": "2025-03-17T13:47:14.083Z"
   },
   {
    "duration": 91,
    "start_time": "2025-03-17T13:47:14.088Z"
   },
   {
    "duration": 3,
    "start_time": "2025-03-17T13:47:14.181Z"
   },
   {
    "duration": 38,
    "start_time": "2025-03-17T13:47:14.186Z"
   },
   {
    "duration": 11,
    "start_time": "2025-03-17T13:47:14.226Z"
   },
   {
    "duration": 6,
    "start_time": "2025-03-17T13:47:14.239Z"
   },
   {
    "duration": 29,
    "start_time": "2025-03-17T13:47:14.259Z"
   },
   {
    "duration": 7,
    "start_time": "2025-03-17T13:47:14.291Z"
   },
   {
    "duration": 77,
    "start_time": "2025-03-17T13:47:14.300Z"
   },
   {
    "duration": 27,
    "start_time": "2025-03-17T13:47:14.379Z"
   },
   {
    "duration": 3,
    "start_time": "2025-03-17T13:47:14.408Z"
   },
   {
    "duration": 45,
    "start_time": "2025-03-17T13:47:14.413Z"
   },
   {
    "duration": 13,
    "start_time": "2025-03-17T13:47:14.460Z"
   },
   {
    "duration": 90,
    "start_time": "2025-03-17T13:47:14.475Z"
   },
   {
    "duration": 6,
    "start_time": "2025-03-17T13:47:14.567Z"
   },
   {
    "duration": 5,
    "start_time": "2025-03-17T13:47:14.574Z"
   },
   {
    "duration": 330,
    "start_time": "2025-03-17T13:47:14.581Z"
   },
   {
    "duration": 457,
    "start_time": "2025-03-17T13:47:14.913Z"
   },
   {
    "duration": 595,
    "start_time": "2025-03-17T13:47:15.372Z"
   },
   {
    "duration": 93,
    "start_time": "2025-03-17T13:47:15.969Z"
   },
   {
    "duration": 4,
    "start_time": "2025-03-17T13:47:16.064Z"
   },
   {
    "duration": 392,
    "start_time": "2025-03-17T13:47:16.070Z"
   },
   {
    "duration": 5,
    "start_time": "2025-03-17T13:47:16.464Z"
   },
   {
    "duration": 87,
    "start_time": "2025-03-17T13:47:16.471Z"
   },
   {
    "duration": 3,
    "start_time": "2025-03-17T13:47:16.560Z"
   },
   {
    "duration": 17,
    "start_time": "2025-03-17T13:47:16.567Z"
   },
   {
    "duration": 16,
    "start_time": "2025-03-17T13:47:16.585Z"
   },
   {
    "duration": 58,
    "start_time": "2025-03-17T13:47:16.602Z"
   },
   {
    "duration": 12,
    "start_time": "2025-03-17T13:47:16.662Z"
   },
   {
    "duration": 100,
    "start_time": "2025-03-17T13:47:16.676Z"
   },
   {
    "duration": 26,
    "start_time": "2025-03-17T13:47:16.778Z"
   },
   {
    "duration": 5,
    "start_time": "2025-03-17T13:47:16.806Z"
   },
   {
    "duration": 5,
    "start_time": "2025-03-17T13:47:16.812Z"
   },
   {
    "duration": 0,
    "start_time": "2025-03-17T13:47:16.819Z"
   },
   {
    "duration": 0,
    "start_time": "2025-03-17T13:47:16.821Z"
   },
   {
    "duration": 0,
    "start_time": "2025-03-17T13:47:16.857Z"
   },
   {
    "duration": 5,
    "start_time": "2025-03-17T13:48:14.405Z"
   },
   {
    "duration": 150,
    "start_time": "2025-03-17T13:48:15.704Z"
   },
   {
    "duration": 12,
    "start_time": "2025-03-17T13:48:17.107Z"
   },
   {
    "duration": 28,
    "start_time": "2025-03-17T13:48:17.774Z"
   },
   {
    "duration": 58,
    "start_time": "2025-03-17T13:48:18.982Z"
   },
   {
    "duration": 1532,
    "start_time": "2025-03-17T13:48:39.460Z"
   },
   {
    "duration": 0,
    "start_time": "2025-03-17T13:48:40.994Z"
   },
   {
    "duration": 0,
    "start_time": "2025-03-17T13:48:40.995Z"
   },
   {
    "duration": 28,
    "start_time": "2025-03-17T13:48:41.313Z"
   },
   {
    "duration": 57,
    "start_time": "2025-03-17T13:48:41.958Z"
   },
   {
    "duration": 10638,
    "start_time": "2025-03-17T13:49:16.373Z"
   },
   {
    "duration": 1322,
    "start_time": "2025-03-17T13:49:27.014Z"
   },
   {
    "duration": 3,
    "start_time": "2025-03-17T13:49:28.338Z"
   },
   {
    "duration": 91,
    "start_time": "2025-03-17T13:49:28.343Z"
   },
   {
    "duration": 3,
    "start_time": "2025-03-17T13:49:28.437Z"
   },
   {
    "duration": 39,
    "start_time": "2025-03-17T13:49:28.441Z"
   },
   {
    "duration": 11,
    "start_time": "2025-03-17T13:49:28.482Z"
   },
   {
    "duration": 56,
    "start_time": "2025-03-17T13:49:28.495Z"
   },
   {
    "duration": 34,
    "start_time": "2025-03-17T13:49:28.552Z"
   },
   {
    "duration": 7,
    "start_time": "2025-03-17T13:49:28.588Z"
   },
   {
    "duration": 69,
    "start_time": "2025-03-17T13:49:28.597Z"
   },
   {
    "duration": 30,
    "start_time": "2025-03-17T13:49:28.668Z"
   },
   {
    "duration": 17,
    "start_time": "2025-03-17T13:49:28.700Z"
   },
   {
    "duration": 34,
    "start_time": "2025-03-17T13:49:28.721Z"
   },
   {
    "duration": 27,
    "start_time": "2025-03-17T13:49:28.757Z"
   },
   {
    "duration": 18,
    "start_time": "2025-03-17T13:49:28.786Z"
   },
   {
    "duration": 6,
    "start_time": "2025-03-17T13:49:28.806Z"
   },
   {
    "duration": 5,
    "start_time": "2025-03-17T13:49:28.814Z"
   },
   {
    "duration": 325,
    "start_time": "2025-03-17T13:49:28.820Z"
   },
   {
    "duration": 449,
    "start_time": "2025-03-17T13:49:29.147Z"
   },
   {
    "duration": 594,
    "start_time": "2025-03-17T13:49:29.598Z"
   },
   {
    "duration": 96,
    "start_time": "2025-03-17T13:49:30.194Z"
   },
   {
    "duration": 4,
    "start_time": "2025-03-17T13:49:30.292Z"
   },
   {
    "duration": 392,
    "start_time": "2025-03-17T13:49:30.299Z"
   },
   {
    "duration": 3,
    "start_time": "2025-03-17T13:49:30.693Z"
   },
   {
    "duration": 57,
    "start_time": "2025-03-17T13:49:30.699Z"
   },
   {
    "duration": 4,
    "start_time": "2025-03-17T13:49:30.759Z"
   },
   {
    "duration": 35,
    "start_time": "2025-03-17T13:49:30.765Z"
   },
   {
    "duration": 13,
    "start_time": "2025-03-17T13:49:30.803Z"
   },
   {
    "duration": 46,
    "start_time": "2025-03-17T13:49:30.818Z"
   },
   {
    "duration": 11,
    "start_time": "2025-03-17T13:49:30.866Z"
   },
   {
    "duration": 111,
    "start_time": "2025-03-17T13:49:30.878Z"
   },
   {
    "duration": 26,
    "start_time": "2025-03-17T13:49:30.991Z"
   },
   {
    "duration": 39,
    "start_time": "2025-03-17T13:49:31.019Z"
   },
   {
    "duration": 181,
    "start_time": "2025-03-17T13:49:31.060Z"
   },
   {
    "duration": 17,
    "start_time": "2025-03-17T13:49:31.243Z"
   },
   {
    "duration": 30,
    "start_time": "2025-03-17T13:49:31.262Z"
   },
   {
    "duration": 89,
    "start_time": "2025-03-17T13:49:31.293Z"
   },
   {
    "duration": 10497,
    "start_time": "2025-03-17T13:50:36.743Z"
   },
   {
    "duration": 1402,
    "start_time": "2025-03-17T13:50:47.242Z"
   },
   {
    "duration": 3,
    "start_time": "2025-03-17T13:50:48.646Z"
   },
   {
    "duration": 153,
    "start_time": "2025-03-17T13:50:48.651Z"
   },
   {
    "duration": 4,
    "start_time": "2025-03-17T13:50:48.806Z"
   },
   {
    "duration": 41,
    "start_time": "2025-03-17T13:50:48.811Z"
   },
   {
    "duration": 13,
    "start_time": "2025-03-17T13:50:48.854Z"
   },
   {
    "duration": 6,
    "start_time": "2025-03-17T13:50:48.869Z"
   },
   {
    "duration": 29,
    "start_time": "2025-03-17T13:50:48.876Z"
   },
   {
    "duration": 6,
    "start_time": "2025-03-17T13:50:48.908Z"
   },
   {
    "duration": 73,
    "start_time": "2025-03-17T13:50:48.916Z"
   },
   {
    "duration": 28,
    "start_time": "2025-03-17T13:50:48.991Z"
   },
   {
    "duration": 30,
    "start_time": "2025-03-17T13:50:49.021Z"
   },
   {
    "duration": 13,
    "start_time": "2025-03-17T13:50:49.053Z"
   },
   {
    "duration": 12,
    "start_time": "2025-03-17T13:50:49.067Z"
   },
   {
    "duration": 19,
    "start_time": "2025-03-17T13:50:49.081Z"
   },
   {
    "duration": 6,
    "start_time": "2025-03-17T13:50:49.101Z"
   },
   {
    "duration": 7,
    "start_time": "2025-03-17T13:50:49.108Z"
   },
   {
    "duration": 344,
    "start_time": "2025-03-17T13:50:49.116Z"
   },
   {
    "duration": 426,
    "start_time": "2025-03-17T13:50:49.462Z"
   },
   {
    "duration": 616,
    "start_time": "2025-03-17T13:50:49.890Z"
   },
   {
    "duration": 100,
    "start_time": "2025-03-17T13:50:50.507Z"
   },
   {
    "duration": 5,
    "start_time": "2025-03-17T13:50:50.609Z"
   },
   {
    "duration": 391,
    "start_time": "2025-03-17T13:50:50.615Z"
   },
   {
    "duration": 5,
    "start_time": "2025-03-17T13:50:51.008Z"
   },
   {
    "duration": 50,
    "start_time": "2025-03-17T13:50:51.015Z"
   },
   {
    "duration": 4,
    "start_time": "2025-03-17T13:50:51.067Z"
   },
   {
    "duration": 18,
    "start_time": "2025-03-17T13:50:51.075Z"
   },
   {
    "duration": 14,
    "start_time": "2025-03-17T13:50:51.095Z"
   },
   {
    "duration": 60,
    "start_time": "2025-03-17T13:50:51.111Z"
   },
   {
    "duration": 11,
    "start_time": "2025-03-17T13:50:51.173Z"
   },
   {
    "duration": 105,
    "start_time": "2025-03-17T13:50:51.185Z"
   },
   {
    "duration": 26,
    "start_time": "2025-03-17T13:50:51.292Z"
   },
   {
    "duration": 5,
    "start_time": "2025-03-17T13:50:51.320Z"
   },
   {
    "duration": 188,
    "start_time": "2025-03-17T13:50:51.326Z"
   },
   {
    "duration": 14,
    "start_time": "2025-03-17T13:50:51.515Z"
   },
   {
    "duration": 57,
    "start_time": "2025-03-17T13:50:51.531Z"
   },
   {
    "duration": 93,
    "start_time": "2025-03-17T13:50:51.590Z"
   },
   {
    "duration": 1244,
    "start_time": "2025-03-17T14:01:22.715Z"
   },
   {
    "duration": 0,
    "start_time": "2025-03-17T14:01:23.961Z"
   },
   {
    "duration": 10791,
    "start_time": "2025-03-17T14:01:44.614Z"
   },
   {
    "duration": 1341,
    "start_time": "2025-03-17T14:01:55.408Z"
   },
   {
    "duration": 3,
    "start_time": "2025-03-17T14:01:56.750Z"
   },
   {
    "duration": 113,
    "start_time": "2025-03-17T14:01:56.755Z"
   },
   {
    "duration": 4,
    "start_time": "2025-03-17T14:01:56.870Z"
   },
   {
    "duration": 40,
    "start_time": "2025-03-17T14:01:56.876Z"
   },
   {
    "duration": 12,
    "start_time": "2025-03-17T14:01:56.918Z"
   },
   {
    "duration": 30,
    "start_time": "2025-03-17T14:01:56.931Z"
   },
   {
    "duration": 29,
    "start_time": "2025-03-17T14:01:56.962Z"
   },
   {
    "duration": 6,
    "start_time": "2025-03-17T14:01:56.993Z"
   },
   {
    "duration": 92,
    "start_time": "2025-03-17T14:01:57.001Z"
   },
   {
    "duration": 28,
    "start_time": "2025-03-17T14:01:57.095Z"
   },
   {
    "duration": 4,
    "start_time": "2025-03-17T14:01:57.125Z"
   },
   {
    "duration": 33,
    "start_time": "2025-03-17T14:01:57.132Z"
   },
   {
    "duration": 14,
    "start_time": "2025-03-17T14:01:57.167Z"
   },
   {
    "duration": 17,
    "start_time": "2025-03-17T14:01:57.183Z"
   },
   {
    "duration": 6,
    "start_time": "2025-03-17T14:01:57.201Z"
   },
   {
    "duration": 4,
    "start_time": "2025-03-17T14:01:57.208Z"
   },
   {
    "duration": 373,
    "start_time": "2025-03-17T14:01:57.214Z"
   },
   {
    "duration": 441,
    "start_time": "2025-03-17T14:01:57.589Z"
   },
   {
    "duration": 640,
    "start_time": "2025-03-17T14:01:58.032Z"
   },
   {
    "duration": 97,
    "start_time": "2025-03-17T14:01:58.675Z"
   },
   {
    "duration": 3,
    "start_time": "2025-03-17T14:01:58.775Z"
   },
   {
    "duration": 408,
    "start_time": "2025-03-17T14:01:58.781Z"
   },
   {
    "duration": 3,
    "start_time": "2025-03-17T14:01:59.191Z"
   },
   {
    "duration": 20,
    "start_time": "2025-03-17T14:01:59.196Z"
   },
   {
    "duration": 4,
    "start_time": "2025-03-17T14:01:59.217Z"
   },
   {
    "duration": 42,
    "start_time": "2025-03-17T14:01:59.223Z"
   },
   {
    "duration": 14,
    "start_time": "2025-03-17T14:01:59.266Z"
   },
   {
    "duration": 17,
    "start_time": "2025-03-17T14:01:59.282Z"
   },
   {
    "duration": 58,
    "start_time": "2025-03-17T14:01:59.301Z"
   },
   {
    "duration": 97,
    "start_time": "2025-03-17T14:01:59.362Z"
   },
   {
    "duration": 26,
    "start_time": "2025-03-17T14:01:59.461Z"
   },
   {
    "duration": 48,
    "start_time": "2025-03-17T14:01:59.489Z"
   },
   {
    "duration": 146,
    "start_time": "2025-03-17T14:01:59.539Z"
   },
   {
    "duration": 10,
    "start_time": "2025-03-17T14:01:59.687Z"
   },
   {
    "duration": 29,
    "start_time": "2025-03-17T14:01:59.698Z"
   },
   {
    "duration": 81,
    "start_time": "2025-03-17T14:01:59.728Z"
   },
   {
    "duration": 4,
    "start_time": "2025-03-17T14:01:59.811Z"
   },
   {
    "duration": 1387,
    "start_time": "2025-03-17T14:05:55.394Z"
   },
   {
    "duration": 857,
    "start_time": "2025-03-17T14:06:29.018Z"
   },
   {
    "duration": 4583,
    "start_time": "2025-03-17T14:08:57.710Z"
   },
   {
    "duration": 8,
    "start_time": "2025-03-17T14:10:35.612Z"
   },
   {
    "duration": 121,
    "start_time": "2025-03-17T14:11:08.695Z"
   },
   {
    "duration": 8,
    "start_time": "2025-03-17T14:14:20.595Z"
   },
   {
    "duration": 7,
    "start_time": "2025-03-17T14:14:37.227Z"
   },
   {
    "duration": 5,
    "start_time": "2025-03-17T14:15:40.852Z"
   },
   {
    "duration": 5,
    "start_time": "2025-03-17T14:17:55.960Z"
   },
   {
    "duration": 16940,
    "start_time": "2025-03-17T14:18:26.291Z"
   },
   {
    "duration": 14,
    "start_time": "2025-03-17T14:20:29.065Z"
   },
   {
    "duration": 6,
    "start_time": "2025-03-17T14:22:34.963Z"
   },
   {
    "duration": 1271069,
    "start_time": "2025-03-17T14:22:42.904Z"
   },
   {
    "duration": 88,
    "start_time": "2025-03-17T14:43:53.978Z"
   },
   {
    "duration": 15,
    "start_time": "2025-03-17T14:43:54.074Z"
   },
   {
    "duration": 0,
    "start_time": "2025-03-17T14:43:54.091Z"
   },
   {
    "duration": 5,
    "start_time": "2025-03-17T14:54:25.297Z"
   },
   {
    "duration": 0,
    "start_time": "2025-03-17T15:19:59.590Z"
   },
   {
    "duration": 0,
    "start_time": "2025-03-17T15:19:59.592Z"
   },
   {
    "duration": 0,
    "start_time": "2025-03-17T15:19:59.594Z"
   },
   {
    "duration": 0,
    "start_time": "2025-03-17T15:19:59.595Z"
   },
   {
    "duration": 10608,
    "start_time": "2025-03-17T15:21:05.844Z"
   },
   {
    "duration": 1341,
    "start_time": "2025-03-17T15:21:16.455Z"
   },
   {
    "duration": 3,
    "start_time": "2025-03-17T15:21:17.798Z"
   },
   {
    "duration": 91,
    "start_time": "2025-03-17T15:21:17.804Z"
   },
   {
    "duration": 3,
    "start_time": "2025-03-17T15:21:17.898Z"
   },
   {
    "duration": 46,
    "start_time": "2025-03-17T15:21:17.903Z"
   },
   {
    "duration": 17,
    "start_time": "2025-03-17T15:21:17.950Z"
   },
   {
    "duration": 7,
    "start_time": "2025-03-17T15:21:17.968Z"
   },
   {
    "duration": 29,
    "start_time": "2025-03-17T15:21:17.977Z"
   },
   {
    "duration": 7,
    "start_time": "2025-03-17T15:21:18.007Z"
   },
   {
    "duration": 87,
    "start_time": "2025-03-17T15:21:18.016Z"
   },
   {
    "duration": 55,
    "start_time": "2025-03-17T15:21:18.104Z"
   },
   {
    "duration": 5,
    "start_time": "2025-03-17T15:21:18.161Z"
   },
   {
    "duration": 16,
    "start_time": "2025-03-17T15:21:18.170Z"
   },
   {
    "duration": 16,
    "start_time": "2025-03-17T15:21:18.188Z"
   },
   {
    "duration": 59,
    "start_time": "2025-03-17T15:21:18.206Z"
   },
   {
    "duration": 6,
    "start_time": "2025-03-17T15:21:18.267Z"
   },
   {
    "duration": 10,
    "start_time": "2025-03-17T15:21:18.275Z"
   },
   {
    "duration": 346,
    "start_time": "2025-03-17T15:21:18.286Z"
   },
   {
    "duration": 459,
    "start_time": "2025-03-17T15:21:18.634Z"
   },
   {
    "duration": 611,
    "start_time": "2025-03-17T15:21:19.095Z"
   },
   {
    "duration": 117,
    "start_time": "2025-03-17T15:21:19.707Z"
   },
   {
    "duration": 5,
    "start_time": "2025-03-17T15:21:19.826Z"
   },
   {
    "duration": 387,
    "start_time": "2025-03-17T15:21:19.832Z"
   },
   {
    "duration": 4,
    "start_time": "2025-03-17T15:21:20.222Z"
   },
   {
    "duration": 37,
    "start_time": "2025-03-17T15:21:20.228Z"
   },
   {
    "duration": 5,
    "start_time": "2025-03-17T15:21:20.267Z"
   },
   {
    "duration": 36,
    "start_time": "2025-03-17T15:21:20.273Z"
   },
   {
    "duration": 18,
    "start_time": "2025-03-17T15:21:20.311Z"
   },
   {
    "duration": 46,
    "start_time": "2025-03-17T15:21:20.331Z"
   },
   {
    "duration": 16,
    "start_time": "2025-03-17T15:21:20.379Z"
   },
   {
    "duration": 131,
    "start_time": "2025-03-17T15:21:20.398Z"
   },
   {
    "duration": 41,
    "start_time": "2025-03-17T15:21:20.531Z"
   },
   {
    "duration": 6,
    "start_time": "2025-03-17T15:21:20.573Z"
   },
   {
    "duration": 186,
    "start_time": "2025-03-17T15:21:20.581Z"
   },
   {
    "duration": 12,
    "start_time": "2025-03-17T15:21:20.769Z"
   },
   {
    "duration": 55,
    "start_time": "2025-03-17T15:21:20.782Z"
   },
   {
    "duration": 83,
    "start_time": "2025-03-17T15:21:20.839Z"
   },
   {
    "duration": 4673,
    "start_time": "2025-03-17T15:21:20.924Z"
   },
   {
    "duration": 9,
    "start_time": "2025-03-17T15:21:25.599Z"
   },
   {
    "duration": 6,
    "start_time": "2025-03-17T15:21:25.612Z"
   },
   {
    "duration": 6,
    "start_time": "2025-03-17T15:21:25.620Z"
   },
   {
    "duration": 33,
    "start_time": "2025-03-17T15:21:25.628Z"
   },
   {
    "duration": 18007,
    "start_time": "2025-03-17T15:21:25.664Z"
   },
   {
    "duration": 1268101,
    "start_time": "2025-03-17T15:21:43.673Z"
   },
   {
    "duration": 5,
    "start_time": "2025-03-17T15:42:51.859Z"
   },
   {
    "duration": 4,
    "start_time": "2025-03-17T15:42:51.865Z"
   },
   {
    "duration": 140,
    "start_time": "2025-03-17T15:42:51.871Z"
   },
   {
    "duration": 0,
    "start_time": "2025-03-17T15:42:52.013Z"
   },
   {
    "duration": 27,
    "start_time": "2025-03-17T15:44:51.167Z"
   },
   {
    "duration": 8023,
    "start_time": "2025-03-17T15:45:01.465Z"
   },
   {
    "duration": 25961,
    "start_time": "2025-03-17T15:46:20.548Z"
   },
   {
    "duration": 11,
    "start_time": "2025-03-17T15:46:46.512Z"
   },
   {
    "duration": 10,
    "start_time": "2025-03-17T15:47:50.813Z"
   },
   {
    "duration": 12,
    "start_time": "2025-03-17T15:48:20.653Z"
   },
   {
    "duration": 11,
    "start_time": "2025-03-17T15:48:27.513Z"
   },
   {
    "duration": 510,
    "start_time": "2025-03-17T16:09:58.966Z"
   },
   {
    "duration": 8,
    "start_time": "2025-03-17T16:10:16.531Z"
   },
   {
    "duration": 9,
    "start_time": "2025-03-17T16:10:17.218Z"
   },
   {
    "duration": 15,
    "start_time": "2025-03-17T16:10:20.053Z"
   },
   {
    "duration": 5,
    "start_time": "2025-03-17T16:10:20.820Z"
   },
   {
    "duration": 18114,
    "start_time": "2025-03-17T16:10:21.628Z"
   },
   {
    "duration": 1483026,
    "start_time": "2025-03-17T16:10:39.745Z"
   },
   {
    "duration": 82,
    "start_time": "2025-03-17T16:35:22.779Z"
   },
   {
    "duration": 8,
    "start_time": "2025-03-17T16:35:22.863Z"
   },
   {
    "duration": 26777,
    "start_time": "2025-03-17T16:35:22.877Z"
   },
   {
    "duration": 12,
    "start_time": "2025-03-17T16:35:49.658Z"
   },
   {
    "duration": 21,
    "start_time": "2025-03-17T16:40:51.997Z"
   },
   {
    "duration": 18,
    "start_time": "2025-03-17T16:41:58.043Z"
   },
   {
    "duration": 590,
    "start_time": "2025-03-17T16:42:14.291Z"
   },
   {
    "duration": 969,
    "start_time": "2025-03-17T16:44:23.140Z"
   },
   {
    "duration": 10926,
    "start_time": "2025-03-17T16:44:33.235Z"
   },
   {
    "duration": 1753,
    "start_time": "2025-03-17T16:44:44.165Z"
   },
   {
    "duration": 3,
    "start_time": "2025-03-17T16:44:45.920Z"
   },
   {
    "duration": 120,
    "start_time": "2025-03-17T16:44:45.924Z"
   },
   {
    "duration": 4,
    "start_time": "2025-03-17T16:44:46.046Z"
   },
   {
    "duration": 47,
    "start_time": "2025-03-17T16:44:46.052Z"
   },
   {
    "duration": 12,
    "start_time": "2025-03-17T16:44:46.100Z"
   },
   {
    "duration": 11,
    "start_time": "2025-03-17T16:44:46.114Z"
   },
   {
    "duration": 51,
    "start_time": "2025-03-17T16:44:46.127Z"
   },
   {
    "duration": 7,
    "start_time": "2025-03-17T16:44:46.179Z"
   },
   {
    "duration": 88,
    "start_time": "2025-03-17T16:44:46.189Z"
   },
   {
    "duration": 39,
    "start_time": "2025-03-17T16:44:46.280Z"
   },
   {
    "duration": 4,
    "start_time": "2025-03-17T16:44:46.321Z"
   },
   {
    "duration": 48,
    "start_time": "2025-03-17T16:44:46.328Z"
   },
   {
    "duration": 13,
    "start_time": "2025-03-17T16:44:46.378Z"
   },
   {
    "duration": 55,
    "start_time": "2025-03-17T16:44:46.392Z"
   },
   {
    "duration": 6,
    "start_time": "2025-03-17T16:44:46.448Z"
   },
   {
    "duration": 15,
    "start_time": "2025-03-17T16:44:46.456Z"
   },
   {
    "duration": 409,
    "start_time": "2025-03-17T16:44:46.473Z"
   },
   {
    "duration": 392,
    "start_time": "2025-03-17T16:44:46.883Z"
   },
   {
    "duration": 621,
    "start_time": "2025-03-17T16:44:47.277Z"
   },
   {
    "duration": 109,
    "start_time": "2025-03-17T16:44:47.899Z"
   },
   {
    "duration": 4,
    "start_time": "2025-03-17T16:44:48.010Z"
   },
   {
    "duration": 388,
    "start_time": "2025-03-17T16:44:48.016Z"
   },
   {
    "duration": 3,
    "start_time": "2025-03-17T16:44:48.406Z"
   },
   {
    "duration": 78,
    "start_time": "2025-03-17T16:44:48.410Z"
   },
   {
    "duration": 4,
    "start_time": "2025-03-17T16:44:48.489Z"
   },
   {
    "duration": 19,
    "start_time": "2025-03-17T16:44:48.494Z"
   },
   {
    "duration": 13,
    "start_time": "2025-03-17T16:44:48.514Z"
   },
   {
    "duration": 81,
    "start_time": "2025-03-17T16:44:48.529Z"
   },
   {
    "duration": 11,
    "start_time": "2025-03-17T16:44:48.612Z"
   },
   {
    "duration": 201,
    "start_time": "2025-03-17T16:44:48.624Z"
   },
   {
    "duration": 43,
    "start_time": "2025-03-17T16:44:48.827Z"
   },
   {
    "duration": 6,
    "start_time": "2025-03-17T16:44:48.872Z"
   },
   {
    "duration": 53,
    "start_time": "2025-03-17T16:44:48.880Z"
   },
   {
    "duration": 38,
    "start_time": "2025-03-17T16:44:48.935Z"
   },
   {
    "duration": 52,
    "start_time": "2025-03-17T16:44:48.975Z"
   },
   {
    "duration": 69,
    "start_time": "2025-03-17T16:44:49.029Z"
   },
   {
    "duration": 1187,
    "start_time": "2025-03-17T16:44:49.100Z"
   },
   {
    "duration": 8,
    "start_time": "2025-03-17T16:44:50.288Z"
   },
   {
    "duration": 107,
    "start_time": "2025-03-17T16:44:50.300Z"
   },
   {
    "duration": 140,
    "start_time": "2025-03-17T16:44:50.409Z"
   },
   {
    "duration": 0,
    "start_time": "2025-03-17T16:44:50.551Z"
   },
   {
    "duration": 0,
    "start_time": "2025-03-17T16:44:50.552Z"
   },
   {
    "duration": 0,
    "start_time": "2025-03-17T16:44:50.553Z"
   },
   {
    "duration": 0,
    "start_time": "2025-03-17T16:44:50.557Z"
   },
   {
    "duration": 282,
    "start_time": "2025-03-17T17:07:00.466Z"
   },
   {
    "duration": 10763,
    "start_time": "2025-03-17T17:09:05.538Z"
   },
   {
    "duration": 1684,
    "start_time": "2025-03-17T17:09:16.303Z"
   },
   {
    "duration": 3,
    "start_time": "2025-03-17T17:09:17.989Z"
   },
   {
    "duration": 133,
    "start_time": "2025-03-17T17:09:17.994Z"
   },
   {
    "duration": 3,
    "start_time": "2025-03-17T17:09:18.129Z"
   },
   {
    "duration": 43,
    "start_time": "2025-03-17T17:09:18.134Z"
   },
   {
    "duration": 4,
    "start_time": "2025-03-17T17:09:18.179Z"
   },
   {
    "duration": 146,
    "start_time": "2025-03-17T17:09:47.678Z"
   },
   {
    "duration": 10630,
    "start_time": "2025-03-17T17:10:27.717Z"
   },
   {
    "duration": 1910,
    "start_time": "2025-03-17T17:10:38.350Z"
   },
   {
    "duration": 7,
    "start_time": "2025-03-17T17:10:40.267Z"
   },
   {
    "duration": 107,
    "start_time": "2025-03-17T17:10:40.277Z"
   },
   {
    "duration": 4,
    "start_time": "2025-03-17T17:10:40.386Z"
   },
   {
    "duration": 38,
    "start_time": "2025-03-17T17:10:40.392Z"
   },
   {
    "duration": 10,
    "start_time": "2025-03-17T17:10:40.432Z"
   },
   {
    "duration": 29,
    "start_time": "2025-03-17T17:10:40.444Z"
   },
   {
    "duration": 27,
    "start_time": "2025-03-17T17:10:40.475Z"
   },
   {
    "duration": 6,
    "start_time": "2025-03-17T17:10:40.505Z"
   },
   {
    "duration": 82,
    "start_time": "2025-03-17T17:10:40.512Z"
   },
   {
    "duration": 28,
    "start_time": "2025-03-17T17:10:40.596Z"
   },
   {
    "duration": 4,
    "start_time": "2025-03-17T17:10:40.627Z"
   },
   {
    "duration": 43,
    "start_time": "2025-03-17T17:10:40.632Z"
   },
   {
    "duration": 13,
    "start_time": "2025-03-17T17:10:40.677Z"
   },
   {
    "duration": 19,
    "start_time": "2025-03-17T17:10:40.691Z"
   },
   {
    "duration": 5,
    "start_time": "2025-03-17T17:10:40.712Z"
   },
   {
    "duration": 8,
    "start_time": "2025-03-17T17:10:40.719Z"
   },
   {
    "duration": 486,
    "start_time": "2025-03-17T17:10:40.757Z"
   },
   {
    "duration": 385,
    "start_time": "2025-03-17T17:10:41.245Z"
   },
   {
    "duration": 590,
    "start_time": "2025-03-17T17:10:41.632Z"
   },
   {
    "duration": 93,
    "start_time": "2025-03-17T17:10:42.223Z"
   },
   {
    "duration": 4,
    "start_time": "2025-03-17T17:10:42.318Z"
   },
   {
    "duration": 366,
    "start_time": "2025-03-17T17:10:42.324Z"
   },
   {
    "duration": 374,
    "start_time": "2025-03-17T17:10:42.692Z"
   },
   {
    "duration": 4,
    "start_time": "2025-03-17T17:10:43.068Z"
   },
   {
    "duration": 17,
    "start_time": "2025-03-17T17:10:43.074Z"
   },
   {
    "duration": 3,
    "start_time": "2025-03-17T17:10:43.094Z"
   },
   {
    "duration": 17,
    "start_time": "2025-03-17T17:10:43.099Z"
   },
   {
    "duration": 15,
    "start_time": "2025-03-17T17:10:43.158Z"
   },
   {
    "duration": 16,
    "start_time": "2025-03-17T17:10:43.175Z"
   },
   {
    "duration": 11,
    "start_time": "2025-03-17T17:10:43.192Z"
   },
   {
    "duration": 122,
    "start_time": "2025-03-17T17:10:43.205Z"
   },
   {
    "duration": 41,
    "start_time": "2025-03-17T17:10:43.329Z"
   },
   {
    "duration": 5,
    "start_time": "2025-03-17T17:10:43.372Z"
   },
   {
    "duration": 53,
    "start_time": "2025-03-17T17:10:43.378Z"
   },
   {
    "duration": 30,
    "start_time": "2025-03-17T17:10:43.433Z"
   },
   {
    "duration": 26,
    "start_time": "2025-03-17T17:10:43.464Z"
   },
   {
    "duration": 90,
    "start_time": "2025-03-17T17:10:43.491Z"
   },
   {
    "duration": 1023,
    "start_time": "2025-03-17T17:10:43.583Z"
   },
   {
    "duration": 8,
    "start_time": "2025-03-17T17:10:44.607Z"
   },
   {
    "duration": 135,
    "start_time": "2025-03-17T17:10:44.616Z"
   },
   {
    "duration": 2558,
    "start_time": "2025-03-17T17:12:36.662Z"
   },
   {
    "duration": 0,
    "start_time": "2025-03-17T17:12:39.223Z"
   },
   {
    "duration": 0,
    "start_time": "2025-03-17T17:12:39.224Z"
   },
   {
    "duration": 0,
    "start_time": "2025-03-17T17:12:39.225Z"
   },
   {
    "duration": 54,
    "start_time": "2025-03-17T17:12:39.539Z"
   },
   {
    "duration": 1001,
    "start_time": "2025-03-17T17:12:40.758Z"
   },
   {
    "duration": 1031,
    "start_time": "2025-03-17T17:13:20.781Z"
   },
   {
    "duration": 10004,
    "start_time": "2025-03-17T17:13:31.113Z"
   },
   {
    "duration": 1599,
    "start_time": "2025-03-17T17:13:41.120Z"
   },
   {
    "duration": 2,
    "start_time": "2025-03-17T17:13:42.721Z"
   },
   {
    "duration": 93,
    "start_time": "2025-03-17T17:13:42.725Z"
   },
   {
    "duration": 4,
    "start_time": "2025-03-17T17:13:42.820Z"
   },
   {
    "duration": 42,
    "start_time": "2025-03-17T17:13:42.825Z"
   },
   {
    "duration": 13,
    "start_time": "2025-03-17T17:13:42.869Z"
   },
   {
    "duration": 7,
    "start_time": "2025-03-17T17:13:42.884Z"
   },
   {
    "duration": 29,
    "start_time": "2025-03-17T17:13:42.893Z"
   },
   {
    "duration": 39,
    "start_time": "2025-03-17T17:13:42.925Z"
   },
   {
    "duration": 50,
    "start_time": "2025-03-17T17:13:42.967Z"
   },
   {
    "duration": 48,
    "start_time": "2025-03-17T17:13:43.018Z"
   },
   {
    "duration": 4,
    "start_time": "2025-03-17T17:13:43.068Z"
   },
   {
    "duration": 11,
    "start_time": "2025-03-17T17:13:43.075Z"
   },
   {
    "duration": 12,
    "start_time": "2025-03-17T17:13:43.087Z"
   },
   {
    "duration": 21,
    "start_time": "2025-03-17T17:13:43.101Z"
   },
   {
    "duration": 38,
    "start_time": "2025-03-17T17:13:43.124Z"
   },
   {
    "duration": 4,
    "start_time": "2025-03-17T17:13:43.164Z"
   },
   {
    "duration": 395,
    "start_time": "2025-03-17T17:13:43.170Z"
   },
   {
    "duration": 349,
    "start_time": "2025-03-17T17:13:43.566Z"
   },
   {
    "duration": 581,
    "start_time": "2025-03-17T17:13:43.917Z"
   },
   {
    "duration": 88,
    "start_time": "2025-03-17T17:13:44.499Z"
   },
   {
    "duration": 4,
    "start_time": "2025-03-17T17:13:44.589Z"
   },
   {
    "duration": 416,
    "start_time": "2025-03-17T17:13:44.594Z"
   },
   {
    "duration": 400,
    "start_time": "2025-03-17T17:13:45.012Z"
   },
   {
    "duration": 4,
    "start_time": "2025-03-17T17:13:45.414Z"
   },
   {
    "duration": 36,
    "start_time": "2025-03-17T17:13:45.419Z"
   },
   {
    "duration": 3,
    "start_time": "2025-03-17T17:13:45.457Z"
   },
   {
    "duration": 17,
    "start_time": "2025-03-17T17:13:45.462Z"
   },
   {
    "duration": 14,
    "start_time": "2025-03-17T17:13:45.480Z"
   },
   {
    "duration": 15,
    "start_time": "2025-03-17T17:13:45.495Z"
   },
   {
    "duration": 49,
    "start_time": "2025-03-17T17:13:45.511Z"
   },
   {
    "duration": 75,
    "start_time": "2025-03-17T17:13:45.562Z"
   },
   {
    "duration": 27,
    "start_time": "2025-03-17T17:13:45.657Z"
   },
   {
    "duration": 65,
    "start_time": "2025-03-17T17:13:45.685Z"
   },
   {
    "duration": 55,
    "start_time": "2025-03-17T17:13:45.752Z"
   },
   {
    "duration": 12,
    "start_time": "2025-03-17T17:13:45.808Z"
   },
   {
    "duration": 45,
    "start_time": "2025-03-17T17:13:45.821Z"
   },
   {
    "duration": 61,
    "start_time": "2025-03-17T17:13:45.868Z"
   },
   {
    "duration": 1006,
    "start_time": "2025-03-17T17:13:45.932Z"
   },
   {
    "duration": 16,
    "start_time": "2025-03-17T17:13:46.942Z"
   },
   {
    "duration": 86,
    "start_time": "2025-03-17T17:13:46.959Z"
   },
   {
    "duration": 10277,
    "start_time": "2025-03-17T17:17:31.543Z"
   },
   {
    "duration": 1642,
    "start_time": "2025-03-17T17:17:41.823Z"
   },
   {
    "duration": 5,
    "start_time": "2025-03-17T17:17:43.467Z"
   },
   {
    "duration": 102,
    "start_time": "2025-03-17T17:17:43.474Z"
   },
   {
    "duration": 3,
    "start_time": "2025-03-17T17:17:43.578Z"
   },
   {
    "duration": 40,
    "start_time": "2025-03-17T17:17:43.583Z"
   },
   {
    "duration": 12,
    "start_time": "2025-03-17T17:17:43.625Z"
   },
   {
    "duration": 7,
    "start_time": "2025-03-17T17:17:43.638Z"
   },
   {
    "duration": 43,
    "start_time": "2025-03-17T17:17:43.646Z"
   },
   {
    "duration": 6,
    "start_time": "2025-03-17T17:17:43.692Z"
   },
   {
    "duration": 106,
    "start_time": "2025-03-17T17:17:43.700Z"
   },
   {
    "duration": 29,
    "start_time": "2025-03-17T17:17:43.808Z"
   },
   {
    "duration": 23,
    "start_time": "2025-03-17T17:17:43.838Z"
   },
   {
    "duration": 17,
    "start_time": "2025-03-17T17:17:43.862Z"
   },
   {
    "duration": 13,
    "start_time": "2025-03-17T17:17:43.880Z"
   },
   {
    "duration": 16,
    "start_time": "2025-03-17T17:17:43.895Z"
   },
   {
    "duration": 5,
    "start_time": "2025-03-17T17:17:43.913Z"
   },
   {
    "duration": 46,
    "start_time": "2025-03-17T17:17:43.919Z"
   },
   {
    "duration": 463,
    "start_time": "2025-03-17T17:17:43.971Z"
   },
   {
    "duration": 355,
    "start_time": "2025-03-17T17:17:44.436Z"
   },
   {
    "duration": 652,
    "start_time": "2025-03-17T17:17:44.792Z"
   },
   {
    "duration": 97,
    "start_time": "2025-03-17T17:17:45.446Z"
   },
   {
    "duration": 4,
    "start_time": "2025-03-17T17:17:45.545Z"
   },
   {
    "duration": 376,
    "start_time": "2025-03-17T17:17:45.562Z"
   },
   {
    "duration": 3,
    "start_time": "2025-03-17T17:17:45.940Z"
   },
   {
    "duration": 107,
    "start_time": "2025-03-17T17:17:45.944Z"
   },
   {
    "duration": 3,
    "start_time": "2025-03-17T17:17:46.053Z"
   },
   {
    "duration": 25,
    "start_time": "2025-03-17T17:17:46.060Z"
   },
   {
    "duration": 14,
    "start_time": "2025-03-17T17:17:46.087Z"
   },
   {
    "duration": 15,
    "start_time": "2025-03-17T17:17:46.103Z"
   },
   {
    "duration": 54,
    "start_time": "2025-03-17T17:17:46.119Z"
   },
   {
    "duration": 209,
    "start_time": "2025-03-17T17:17:46.175Z"
   },
   {
    "duration": 28,
    "start_time": "2025-03-17T17:17:46.385Z"
   },
   {
    "duration": 6,
    "start_time": "2025-03-17T17:17:46.415Z"
   },
   {
    "duration": 88,
    "start_time": "2025-03-17T17:17:46.423Z"
   },
   {
    "duration": 57,
    "start_time": "2025-03-17T17:17:46.512Z"
   },
   {
    "duration": 29,
    "start_time": "2025-03-17T17:17:46.571Z"
   },
   {
    "duration": 74,
    "start_time": "2025-03-17T17:17:46.602Z"
   },
   {
    "duration": 1098,
    "start_time": "2025-03-17T17:17:46.678Z"
   },
   {
    "duration": 9,
    "start_time": "2025-03-17T17:17:47.777Z"
   },
   {
    "duration": 107,
    "start_time": "2025-03-17T17:17:47.787Z"
   },
   {
    "duration": 10027,
    "start_time": "2025-03-17T17:24:49.295Z"
   },
   {
    "duration": 1617,
    "start_time": "2025-03-17T17:24:59.325Z"
   },
   {
    "duration": 3,
    "start_time": "2025-03-17T17:25:00.943Z"
   },
   {
    "duration": 104,
    "start_time": "2025-03-17T17:25:00.948Z"
   },
   {
    "duration": 3,
    "start_time": "2025-03-17T17:25:01.053Z"
   },
   {
    "duration": 41,
    "start_time": "2025-03-17T17:25:01.058Z"
   },
   {
    "duration": 11,
    "start_time": "2025-03-17T17:25:01.101Z"
   },
   {
    "duration": 10,
    "start_time": "2025-03-17T17:25:01.114Z"
   },
   {
    "duration": 29,
    "start_time": "2025-03-17T17:25:01.157Z"
   },
   {
    "duration": 7,
    "start_time": "2025-03-17T17:25:01.188Z"
   },
   {
    "duration": 75,
    "start_time": "2025-03-17T17:25:01.196Z"
   },
   {
    "duration": 27,
    "start_time": "2025-03-17T17:25:01.273Z"
   },
   {
    "duration": 3,
    "start_time": "2025-03-17T17:25:01.302Z"
   },
   {
    "duration": 18,
    "start_time": "2025-03-17T17:25:01.307Z"
   },
   {
    "duration": 41,
    "start_time": "2025-03-17T17:25:01.327Z"
   },
   {
    "duration": 17,
    "start_time": "2025-03-17T17:25:01.370Z"
   },
   {
    "duration": 6,
    "start_time": "2025-03-17T17:25:01.388Z"
   },
   {
    "duration": 20,
    "start_time": "2025-03-17T17:25:01.395Z"
   },
   {
    "duration": 410,
    "start_time": "2025-03-17T17:25:01.417Z"
   },
   {
    "duration": 346,
    "start_time": "2025-03-17T17:25:01.829Z"
   },
   {
    "duration": 603,
    "start_time": "2025-03-17T17:25:02.177Z"
   },
   {
    "duration": 98,
    "start_time": "2025-03-17T17:25:02.781Z"
   },
   {
    "duration": 4,
    "start_time": "2025-03-17T17:25:02.881Z"
   },
   {
    "duration": 379,
    "start_time": "2025-03-17T17:25:02.886Z"
   },
   {
    "duration": 3,
    "start_time": "2025-03-17T17:25:03.267Z"
   },
   {
    "duration": 18,
    "start_time": "2025-03-17T17:25:03.272Z"
   },
   {
    "duration": 3,
    "start_time": "2025-03-17T17:25:03.291Z"
   },
   {
    "duration": 15,
    "start_time": "2025-03-17T17:25:03.298Z"
   },
   {
    "duration": 55,
    "start_time": "2025-03-17T17:25:03.314Z"
   },
   {
    "duration": 17,
    "start_time": "2025-03-17T17:25:03.370Z"
   },
   {
    "duration": 15,
    "start_time": "2025-03-17T17:25:03.388Z"
   },
   {
    "duration": 236,
    "start_time": "2025-03-17T17:25:03.405Z"
   },
   {
    "duration": 38,
    "start_time": "2025-03-17T17:25:03.643Z"
   },
   {
    "duration": 6,
    "start_time": "2025-03-17T17:25:03.683Z"
   },
   {
    "duration": 83,
    "start_time": "2025-03-17T17:25:03.691Z"
   },
   {
    "duration": 149,
    "start_time": "2025-03-17T17:25:03.776Z"
   },
   {
    "duration": 0,
    "start_time": "2025-03-17T17:25:03.927Z"
   },
   {
    "duration": 0,
    "start_time": "2025-03-17T17:25:03.928Z"
   },
   {
    "duration": 0,
    "start_time": "2025-03-17T17:25:03.929Z"
   },
   {
    "duration": 0,
    "start_time": "2025-03-17T17:25:03.930Z"
   },
   {
    "duration": 0,
    "start_time": "2025-03-17T17:25:03.931Z"
   },
   {
    "duration": 0,
    "start_time": "2025-03-17T17:25:03.933Z"
   },
   {
    "duration": 4,
    "start_time": "2025-03-17T17:26:22.121Z"
   },
   {
    "duration": 16,
    "start_time": "2025-03-17T17:26:23.077Z"
   },
   {
    "duration": 5,
    "start_time": "2025-03-17T17:26:30.041Z"
   },
   {
    "duration": 18,
    "start_time": "2025-03-17T17:26:31.596Z"
   },
   {
    "duration": 5,
    "start_time": "2025-03-17T17:26:51.633Z"
   },
   {
    "duration": 4,
    "start_time": "2025-03-17T17:26:52.487Z"
   },
   {
    "duration": 16,
    "start_time": "2025-03-17T17:26:53.260Z"
   },
   {
    "duration": 7,
    "start_time": "2025-03-17T17:27:15.824Z"
   },
   {
    "duration": 5,
    "start_time": "2025-03-17T17:27:24.853Z"
   },
   {
    "duration": 8,
    "start_time": "2025-03-17T17:27:34.329Z"
   },
   {
    "duration": 8,
    "start_time": "2025-03-17T17:27:45.733Z"
   },
   {
    "duration": 10454,
    "start_time": "2025-03-17T17:29:32.827Z"
   },
   {
    "duration": 1646,
    "start_time": "2025-03-17T17:29:43.284Z"
   },
   {
    "duration": 3,
    "start_time": "2025-03-17T17:29:44.931Z"
   },
   {
    "duration": 87,
    "start_time": "2025-03-17T17:29:44.936Z"
   },
   {
    "duration": 4,
    "start_time": "2025-03-17T17:29:45.025Z"
   },
   {
    "duration": 108,
    "start_time": "2025-03-17T17:29:45.031Z"
   },
   {
    "duration": 9,
    "start_time": "2025-03-17T17:29:45.141Z"
   },
   {
    "duration": 11,
    "start_time": "2025-03-17T17:29:45.152Z"
   },
   {
    "duration": 49,
    "start_time": "2025-03-17T17:29:45.165Z"
   },
   {
    "duration": 8,
    "start_time": "2025-03-17T17:29:45.218Z"
   },
   {
    "duration": 87,
    "start_time": "2025-03-17T17:29:45.227Z"
   },
   {
    "duration": 51,
    "start_time": "2025-03-17T17:29:45.316Z"
   },
   {
    "duration": 37,
    "start_time": "2025-03-17T17:29:45.369Z"
   },
   {
    "duration": 23,
    "start_time": "2025-03-17T17:29:45.408Z"
   },
   {
    "duration": 14,
    "start_time": "2025-03-17T17:29:45.433Z"
   },
   {
    "duration": 23,
    "start_time": "2025-03-17T17:29:45.449Z"
   },
   {
    "duration": 6,
    "start_time": "2025-03-17T17:29:45.475Z"
   },
   {
    "duration": 4,
    "start_time": "2025-03-17T17:29:45.483Z"
   },
   {
    "duration": 1964,
    "start_time": "2025-03-17T17:29:45.489Z"
   },
   {
    "duration": 361,
    "start_time": "2025-03-17T17:29:47.459Z"
   },
   {
    "duration": 623,
    "start_time": "2025-03-17T17:29:47.823Z"
   },
   {
    "duration": 95,
    "start_time": "2025-03-17T17:29:48.448Z"
   },
   {
    "duration": 14,
    "start_time": "2025-03-17T17:29:48.545Z"
   },
   {
    "duration": 506,
    "start_time": "2025-03-17T17:29:48.561Z"
   },
   {
    "duration": 3,
    "start_time": "2025-03-17T17:29:49.069Z"
   },
   {
    "duration": 20,
    "start_time": "2025-03-17T17:29:49.075Z"
   },
   {
    "duration": 4,
    "start_time": "2025-03-17T17:29:49.097Z"
   },
   {
    "duration": 15,
    "start_time": "2025-03-17T17:29:49.105Z"
   },
   {
    "duration": 13,
    "start_time": "2025-03-17T17:29:49.159Z"
   },
   {
    "duration": 14,
    "start_time": "2025-03-17T17:29:49.174Z"
   },
   {
    "duration": 10,
    "start_time": "2025-03-17T17:29:49.190Z"
   },
   {
    "duration": 117,
    "start_time": "2025-03-17T17:29:49.202Z"
   },
   {
    "duration": 43,
    "start_time": "2025-03-17T17:29:49.321Z"
   },
   {
    "duration": 8,
    "start_time": "2025-03-17T17:29:49.366Z"
   },
   {
    "duration": 8,
    "start_time": "2025-03-17T17:29:49.375Z"
   },
   {
    "duration": 80,
    "start_time": "2025-03-17T17:29:49.385Z"
   },
   {
    "duration": 10,
    "start_time": "2025-03-17T17:29:49.467Z"
   },
   {
    "duration": 28,
    "start_time": "2025-03-17T17:29:49.479Z"
   },
   {
    "duration": 78,
    "start_time": "2025-03-17T17:29:49.509Z"
   },
   {
    "duration": 1127,
    "start_time": "2025-03-17T17:29:49.589Z"
   },
   {
    "duration": 7,
    "start_time": "2025-03-17T17:29:50.718Z"
   },
   {
    "duration": 99,
    "start_time": "2025-03-17T17:29:50.727Z"
   },
   {
    "duration": 10078,
    "start_time": "2025-03-17T17:36:20.345Z"
   },
   {
    "duration": 1732,
    "start_time": "2025-03-17T17:36:30.425Z"
   },
   {
    "duration": 3,
    "start_time": "2025-03-17T17:36:32.159Z"
   },
   {
    "duration": 100,
    "start_time": "2025-03-17T17:36:32.164Z"
   },
   {
    "duration": 3,
    "start_time": "2025-03-17T17:36:32.266Z"
   },
   {
    "duration": 41,
    "start_time": "2025-03-17T17:36:32.271Z"
   },
   {
    "duration": 8,
    "start_time": "2025-03-17T17:36:32.314Z"
   },
   {
    "duration": 7,
    "start_time": "2025-03-17T17:36:32.324Z"
   },
   {
    "duration": 28,
    "start_time": "2025-03-17T17:36:32.359Z"
   },
   {
    "duration": 7,
    "start_time": "2025-03-17T17:36:32.392Z"
   },
   {
    "duration": 79,
    "start_time": "2025-03-17T17:36:32.400Z"
   },
   {
    "duration": 29,
    "start_time": "2025-03-17T17:36:32.481Z"
   },
   {
    "duration": 4,
    "start_time": "2025-03-17T17:36:32.512Z"
   },
   {
    "duration": 60,
    "start_time": "2025-03-17T17:36:32.518Z"
   },
   {
    "duration": 15,
    "start_time": "2025-03-17T17:36:32.580Z"
   },
   {
    "duration": 18,
    "start_time": "2025-03-17T17:36:32.597Z"
   },
   {
    "duration": 6,
    "start_time": "2025-03-17T17:36:32.618Z"
   },
   {
    "duration": 33,
    "start_time": "2025-03-17T17:36:32.626Z"
   },
   {
    "duration": 1888,
    "start_time": "2025-03-17T17:36:32.661Z"
   },
   {
    "duration": 360,
    "start_time": "2025-03-17T17:36:34.550Z"
   },
   {
    "duration": 631,
    "start_time": "2025-03-17T17:36:34.912Z"
   },
   {
    "duration": 93,
    "start_time": "2025-03-17T17:36:35.545Z"
   },
   {
    "duration": 5,
    "start_time": "2025-03-17T17:36:35.639Z"
   },
   {
    "duration": 483,
    "start_time": "2025-03-17T17:36:35.658Z"
   },
   {
    "duration": 4,
    "start_time": "2025-03-17T17:36:36.143Z"
   },
   {
    "duration": 31,
    "start_time": "2025-03-17T17:36:36.149Z"
   },
   {
    "duration": 3,
    "start_time": "2025-03-17T17:36:36.182Z"
   },
   {
    "duration": 19,
    "start_time": "2025-03-17T17:36:36.189Z"
   },
   {
    "duration": 49,
    "start_time": "2025-03-17T17:36:36.210Z"
   },
   {
    "duration": 17,
    "start_time": "2025-03-17T17:36:36.261Z"
   },
   {
    "duration": 12,
    "start_time": "2025-03-17T17:36:36.281Z"
   },
   {
    "duration": 116,
    "start_time": "2025-03-17T17:36:36.295Z"
   },
   {
    "duration": 49,
    "start_time": "2025-03-17T17:36:36.414Z"
   },
   {
    "duration": 5,
    "start_time": "2025-03-17T17:36:36.466Z"
   },
   {
    "duration": 10,
    "start_time": "2025-03-17T17:36:36.473Z"
   },
   {
    "duration": 76,
    "start_time": "2025-03-17T17:36:36.485Z"
   },
   {
    "duration": 11,
    "start_time": "2025-03-17T17:36:36.563Z"
   },
   {
    "duration": 30,
    "start_time": "2025-03-17T17:36:36.576Z"
   },
   {
    "duration": 92,
    "start_time": "2025-03-17T17:36:36.608Z"
   },
   {
    "duration": 16688,
    "start_time": "2025-03-17T17:36:36.702Z"
   },
   {
    "duration": 9,
    "start_time": "2025-03-17T17:36:53.392Z"
   },
   {
    "duration": 436,
    "start_time": "2025-03-17T17:36:53.402Z"
   },
   {
    "duration": 53,
    "start_time": "2025-03-17T17:37:17.233Z"
   },
   {
    "duration": 11,
    "start_time": "2025-03-17T17:37:17.847Z"
   },
   {
    "duration": 26,
    "start_time": "2025-03-17T17:37:18.556Z"
   },
   {
    "duration": 58,
    "start_time": "2025-03-17T17:37:19.631Z"
   },
   {
    "duration": 1085,
    "start_time": "2025-03-17T17:37:20.632Z"
   },
   {
    "duration": 9,
    "start_time": "2025-03-17T17:37:38.703Z"
   },
   {
    "duration": 84,
    "start_time": "2025-03-17T17:37:39.609Z"
   },
   {
    "duration": 5585,
    "start_time": "2025-03-17T17:38:32.077Z"
   },
   {
    "duration": 2032,
    "start_time": "2025-03-17T17:57:21.030Z"
   },
   {
    "duration": 430,
    "start_time": "2025-03-17T18:04:22.396Z"
   },
   {
    "duration": 8,
    "start_time": "2025-03-17T18:05:38.539Z"
   },
   {
    "duration": 85,
    "start_time": "2025-03-17T18:05:39.054Z"
   },
   {
    "duration": 5633,
    "start_time": "2025-03-17T18:05:41.928Z"
   },
   {
    "duration": 8,
    "start_time": "2025-03-17T18:11:10.143Z"
   },
   {
    "duration": 83,
    "start_time": "2025-03-17T18:11:10.912Z"
   },
   {
    "duration": 5455,
    "start_time": "2025-03-17T18:11:13.704Z"
   },
   {
    "duration": 5,
    "start_time": "2025-03-17T18:11:36.301Z"
   },
   {
    "duration": 14,
    "start_time": "2025-03-17T18:12:36.562Z"
   },
   {
    "duration": 87,
    "start_time": "2025-03-17T18:14:00.115Z"
   },
   {
    "duration": 82,
    "start_time": "2025-03-17T18:15:39.901Z"
   },
   {
    "duration": 10,
    "start_time": "2025-03-17T18:16:23.010Z"
   },
   {
    "duration": 8,
    "start_time": "2025-03-17T18:20:35.907Z"
   },
   {
    "duration": 6,
    "start_time": "2025-03-17T18:20:44.086Z"
   },
   {
    "duration": 3,
    "start_time": "2025-03-17T18:21:32.066Z"
   },
   {
    "duration": 89,
    "start_time": "2025-03-17T18:21:50.215Z"
   },
   {
    "duration": 1139,
    "start_time": "2025-03-17T18:22:55.377Z"
   },
   {
    "duration": 8,
    "start_time": "2025-03-17T18:24:18.891Z"
   },
   {
    "duration": 8,
    "start_time": "2025-03-17T18:24:19.529Z"
   },
   {
    "duration": 6,
    "start_time": "2025-03-17T18:24:22.550Z"
   },
   {
    "duration": 1294,
    "start_time": "2025-03-17T18:24:23.822Z"
   },
   {
    "duration": 11,
    "start_time": "2025-03-17T18:33:20.444Z"
   },
   {
    "duration": 70,
    "start_time": "2025-03-17T18:34:24.215Z"
   },
   {
    "duration": 5,
    "start_time": "2025-03-17T18:34:32.079Z"
   },
   {
    "duration": 10,
    "start_time": "2025-03-17T18:34:52.127Z"
   },
   {
    "duration": 40,
    "start_time": "2025-03-17T18:35:49.817Z"
   },
   {
    "duration": 6,
    "start_time": "2025-03-17T18:36:34.205Z"
   },
   {
    "duration": 6150,
    "start_time": "2025-03-17T18:36:39.308Z"
   },
   {
    "duration": 13,
    "start_time": "2025-03-17T18:40:56.257Z"
   },
   {
    "duration": 5,
    "start_time": "2025-03-17T18:41:50.940Z"
   },
   {
    "duration": 1620,
    "start_time": "2025-03-17T18:42:00.735Z"
   },
   {
    "duration": 1807,
    "start_time": "2025-03-17T18:42:16.383Z"
   },
   {
    "duration": 1920,
    "start_time": "2025-03-17T18:42:39.542Z"
   },
   {
    "duration": 1760,
    "start_time": "2025-03-17T18:42:57.418Z"
   },
   {
    "duration": 1115,
    "start_time": "2025-03-17T18:54:01.538Z"
   },
   {
    "duration": 19,
    "start_time": "2025-03-17T19:02:27.618Z"
   },
   {
    "duration": 6,
    "start_time": "2025-03-17T19:55:47.378Z"
   },
   {
    "duration": 12,
    "start_time": "2025-03-17T19:56:34.011Z"
   },
   {
    "duration": 3,
    "start_time": "2025-03-17T20:12:37.626Z"
   },
   {
    "duration": 510815,
    "start_time": "2025-03-17T20:15:17.417Z"
   },
   {
    "duration": 0,
    "start_time": "2025-03-17T20:23:48.234Z"
   },
   {
    "duration": 5167,
    "start_time": "2025-03-17T20:24:09.940Z"
   },
   {
    "duration": 2641531,
    "start_time": "2025-03-17T20:25:45.950Z"
   },
   {
    "duration": 4,
    "start_time": "2025-03-17T21:09:47.483Z"
   },
   {
    "duration": 0,
    "start_time": "2025-03-17T21:09:47.592Z"
   },
   {
    "duration": 0,
    "start_time": "2025-03-17T21:09:47.594Z"
   },
   {
    "duration": 14763,
    "start_time": "2025-03-18T17:49:14.591Z"
   },
   {
    "duration": 1768,
    "start_time": "2025-03-18T17:49:29.357Z"
   },
   {
    "duration": 3,
    "start_time": "2025-03-18T17:49:31.126Z"
   },
   {
    "duration": 361,
    "start_time": "2025-03-18T17:49:31.130Z"
   },
   {
    "duration": 2,
    "start_time": "2025-03-18T17:49:31.493Z"
   },
   {
    "duration": 40,
    "start_time": "2025-03-18T17:49:31.497Z"
   },
   {
    "duration": 6,
    "start_time": "2025-03-18T17:49:31.539Z"
   },
   {
    "duration": 103,
    "start_time": "2025-03-18T17:49:31.546Z"
   },
   {
    "duration": 43,
    "start_time": "2025-03-18T17:49:31.651Z"
   },
   {
    "duration": 6,
    "start_time": "2025-03-18T17:49:31.695Z"
   },
   {
    "duration": 54,
    "start_time": "2025-03-18T17:49:31.702Z"
   },
   {
    "duration": 24,
    "start_time": "2025-03-18T17:49:31.758Z"
   },
   {
    "duration": 4,
    "start_time": "2025-03-18T17:49:31.783Z"
   },
   {
    "duration": 13,
    "start_time": "2025-03-18T17:49:31.802Z"
   },
   {
    "duration": 11,
    "start_time": "2025-03-18T17:49:31.816Z"
   },
   {
    "duration": 22,
    "start_time": "2025-03-18T17:49:31.829Z"
   },
   {
    "duration": 10,
    "start_time": "2025-03-18T17:49:31.852Z"
   },
   {
    "duration": 5,
    "start_time": "2025-03-18T17:49:31.863Z"
   },
   {
    "duration": 1667,
    "start_time": "2025-03-18T17:49:31.869Z"
   },
   {
    "duration": 323,
    "start_time": "2025-03-18T17:49:33.537Z"
   },
   {
    "duration": 545,
    "start_time": "2025-03-18T17:49:33.862Z"
   },
   {
    "duration": 74,
    "start_time": "2025-03-18T17:49:34.408Z"
   },
   {
    "duration": 4,
    "start_time": "2025-03-18T17:49:34.483Z"
   },
   {
    "duration": 443,
    "start_time": "2025-03-18T17:49:34.500Z"
   },
   {
    "duration": 3,
    "start_time": "2025-03-18T17:49:34.945Z"
   },
   {
    "duration": 27,
    "start_time": "2025-03-18T17:49:34.949Z"
   },
   {
    "duration": 3,
    "start_time": "2025-03-18T17:49:34.977Z"
   },
   {
    "duration": 27,
    "start_time": "2025-03-18T17:49:34.982Z"
   },
   {
    "duration": 12,
    "start_time": "2025-03-18T17:49:35.011Z"
   },
   {
    "duration": 12,
    "start_time": "2025-03-18T17:49:35.025Z"
   },
   {
    "duration": 130,
    "start_time": "2025-03-18T17:49:35.039Z"
   },
   {
    "duration": 79,
    "start_time": "2025-03-18T17:49:35.171Z"
   },
   {
    "duration": 24,
    "start_time": "2025-03-18T17:49:35.252Z"
   },
   {
    "duration": 26,
    "start_time": "2025-03-18T17:49:35.277Z"
   },
   {
    "duration": 17,
    "start_time": "2025-03-18T17:49:35.305Z"
   },
   {
    "duration": 48,
    "start_time": "2025-03-18T17:49:35.323Z"
   },
   {
    "duration": 8,
    "start_time": "2025-03-18T17:49:35.373Z"
   },
   {
    "duration": 46,
    "start_time": "2025-03-18T17:49:35.383Z"
   },
   {
    "duration": 51,
    "start_time": "2025-03-18T17:49:35.431Z"
   },
   {
    "duration": 483,
    "start_time": "2025-03-18T17:49:35.484Z"
   },
   {
    "duration": 962,
    "start_time": "2025-03-18T17:49:35.971Z"
   },
   {
    "duration": 4,
    "start_time": "2025-03-18T17:49:36.935Z"
   },
   {
    "duration": 78,
    "start_time": "2025-03-18T17:49:36.941Z"
   },
   {
    "duration": 5,
    "start_time": "2025-03-18T17:49:37.021Z"
   },
   {
    "duration": 1666,
    "start_time": "2025-03-18T17:49:37.028Z"
   },
   {
    "duration": 10,
    "start_time": "2025-03-18T17:49:38.696Z"
   },
   {
    "duration": 6,
    "start_time": "2025-03-18T17:49:38.708Z"
   },
   {
    "duration": 2456061,
    "start_time": "2025-03-18T17:49:38.715Z"
   },
   {
    "duration": 3,
    "start_time": "2025-03-18T18:30:34.778Z"
   },
   {
    "duration": 53502,
    "start_time": "2025-03-18T18:30:34.783Z"
   },
   {
    "duration": 87717,
    "start_time": "2025-03-18T18:31:28.287Z"
   },
   {
    "duration": 4,
    "start_time": "2025-03-18T18:38:17.657Z"
   },
   {
    "duration": 4,
    "start_time": "2025-03-18T18:38:46.434Z"
   },
   {
    "duration": 4,
    "start_time": "2025-03-18T18:42:59.999Z"
   },
   {
    "duration": 8,
    "start_time": "2025-03-18T18:45:15.300Z"
   },
   {
    "duration": 129,
    "start_time": "2025-03-18T18:46:39.305Z"
   },
   {
    "duration": 22,
    "start_time": "2025-03-18T18:48:25.456Z"
   },
   {
    "duration": 12,
    "start_time": "2025-03-18T18:49:28.194Z"
   },
   {
    "duration": 3,
    "start_time": "2025-03-18T18:49:39.123Z"
   },
   {
    "duration": 1701,
    "start_time": "2025-03-18T18:51:11.095Z"
   },
   {
    "duration": 10,
    "start_time": "2025-03-18T18:51:12.798Z"
   },
   {
    "duration": 4,
    "start_time": "2025-03-18T18:51:15.207Z"
   },
   {
    "duration": 4,
    "start_time": "2025-03-18T18:57:39.381Z"
   },
   {
    "duration": 37,
    "start_time": "2025-03-18T18:57:40.232Z"
   },
   {
    "duration": 5,
    "start_time": "2025-03-18T18:57:44.137Z"
   },
   {
    "duration": 1649,
    "start_time": "2025-03-18T18:57:45.020Z"
   },
   {
    "duration": 6,
    "start_time": "2025-03-18T18:57:48.335Z"
   },
   {
    "duration": 3,
    "start_time": "2025-03-18T18:57:49.387Z"
   },
   {
    "duration": 927493,
    "start_time": "2025-03-18T18:57:50.216Z"
   },
   {
    "duration": 4,
    "start_time": "2025-03-18T19:13:17.711Z"
   },
   {
    "duration": 53843,
    "start_time": "2025-03-18T19:13:17.716Z"
   },
   {
    "duration": 47849,
    "start_time": "2025-03-18T19:14:11.561Z"
   },
   {
    "duration": 90,
    "start_time": "2025-03-18T19:14:59.412Z"
   },
   {
    "duration": 4,
    "start_time": "2025-03-18T19:14:59.503Z"
   },
   {
    "duration": 1665,
    "start_time": "2025-03-18T19:14:59.508Z"
   },
   {
    "duration": 11,
    "start_time": "2025-03-18T19:15:01.174Z"
   },
   {
    "duration": 4,
    "start_time": "2025-03-18T19:15:01.186Z"
   },
   {
    "duration": 4,
    "start_time": "2025-03-18T19:21:25.502Z"
   },
   {
    "duration": 42,
    "start_time": "2025-03-18T19:21:26.223Z"
   },
   {
    "duration": 5,
    "start_time": "2025-03-18T19:21:29.689Z"
   },
   {
    "duration": 1168,
    "start_time": "2025-03-18T19:21:30.644Z"
   },
   {
    "duration": 5,
    "start_time": "2025-03-18T19:22:22.576Z"
   },
   {
    "duration": 39,
    "start_time": "2025-03-18T19:22:23.318Z"
   },
   {
    "duration": 5,
    "start_time": "2025-03-18T19:26:27.431Z"
   },
   {
    "duration": 11529,
    "start_time": "2025-03-18T19:26:50.586Z"
   },
   {
    "duration": 11447,
    "start_time": "2025-03-18T19:27:50.268Z"
   },
   {
    "duration": 10,
    "start_time": "2025-03-18T19:29:37.897Z"
   },
   {
    "duration": 13147,
    "start_time": "2025-03-18T19:30:00.171Z"
   },
   {
    "duration": 9221,
    "start_time": "2025-03-18T19:31:29.437Z"
   },
   {
    "duration": 1531,
    "start_time": "2025-03-18T19:31:38.660Z"
   },
   {
    "duration": 3,
    "start_time": "2025-03-18T19:31:40.192Z"
   },
   {
    "duration": 89,
    "start_time": "2025-03-18T19:31:40.196Z"
   },
   {
    "duration": 3,
    "start_time": "2025-03-18T19:31:40.287Z"
   },
   {
    "duration": 41,
    "start_time": "2025-03-18T19:31:40.291Z"
   },
   {
    "duration": 7,
    "start_time": "2025-03-18T19:31:40.333Z"
   },
   {
    "duration": 20,
    "start_time": "2025-03-18T19:31:40.341Z"
   },
   {
    "duration": 39,
    "start_time": "2025-03-18T19:31:40.362Z"
   },
   {
    "duration": 6,
    "start_time": "2025-03-18T19:31:40.402Z"
   },
   {
    "duration": 54,
    "start_time": "2025-03-18T19:31:40.409Z"
   },
   {
    "duration": 38,
    "start_time": "2025-03-18T19:31:40.464Z"
   },
   {
    "duration": 4,
    "start_time": "2025-03-18T19:31:40.503Z"
   },
   {
    "duration": 23,
    "start_time": "2025-03-18T19:31:40.509Z"
   },
   {
    "duration": 11,
    "start_time": "2025-03-18T19:31:40.533Z"
   },
   {
    "duration": 16,
    "start_time": "2025-03-18T19:31:40.546Z"
   },
   {
    "duration": 5,
    "start_time": "2025-03-18T19:31:40.564Z"
   },
   {
    "duration": 5,
    "start_time": "2025-03-18T19:31:40.600Z"
   },
   {
    "duration": 1697,
    "start_time": "2025-03-18T19:31:40.607Z"
   },
   {
    "duration": 306,
    "start_time": "2025-03-18T19:31:42.305Z"
   },
   {
    "duration": 518,
    "start_time": "2025-03-18T19:31:42.613Z"
   },
   {
    "duration": 81,
    "start_time": "2025-03-18T19:31:43.133Z"
   },
   {
    "duration": 4,
    "start_time": "2025-03-18T19:31:43.216Z"
   },
   {
    "duration": 411,
    "start_time": "2025-03-18T19:31:43.221Z"
   },
   {
    "duration": 3,
    "start_time": "2025-03-18T19:31:43.633Z"
   },
   {
    "duration": 21,
    "start_time": "2025-03-18T19:31:43.637Z"
   },
   {
    "duration": 3,
    "start_time": "2025-03-18T19:31:43.660Z"
   },
   {
    "duration": 40,
    "start_time": "2025-03-18T19:31:43.665Z"
   },
   {
    "duration": 12,
    "start_time": "2025-03-18T19:31:43.707Z"
   },
   {
    "duration": 18,
    "start_time": "2025-03-18T19:31:43.720Z"
   },
   {
    "duration": 9,
    "start_time": "2025-03-18T19:31:43.739Z"
   },
   {
    "duration": 95,
    "start_time": "2025-03-18T19:31:43.750Z"
   },
   {
    "duration": 24,
    "start_time": "2025-03-18T19:31:43.846Z"
   },
   {
    "duration": 6,
    "start_time": "2025-03-18T19:31:43.872Z"
   },
   {
    "duration": 10,
    "start_time": "2025-03-18T19:31:43.902Z"
   },
   {
    "duration": 49,
    "start_time": "2025-03-18T19:31:43.913Z"
   },
   {
    "duration": 10,
    "start_time": "2025-03-18T19:31:43.964Z"
   },
   {
    "duration": 152,
    "start_time": "2025-03-18T19:31:43.975Z"
   },
   {
    "duration": 49,
    "start_time": "2025-03-18T19:31:44.129Z"
   },
   {
    "duration": 484,
    "start_time": "2025-03-18T19:31:44.179Z"
   },
   {
    "duration": 959,
    "start_time": "2025-03-18T19:31:44.667Z"
   },
   {
    "duration": 4,
    "start_time": "2025-03-18T19:31:45.627Z"
   },
   {
    "duration": 65,
    "start_time": "2025-03-18T19:31:45.633Z"
   },
   {
    "duration": 5,
    "start_time": "2025-03-18T19:31:45.700Z"
   },
   {
    "duration": 1652,
    "start_time": "2025-03-18T19:31:45.707Z"
   },
   {
    "duration": 6,
    "start_time": "2025-03-18T19:31:47.360Z"
   },
   {
    "duration": 5,
    "start_time": "2025-03-18T19:31:47.367Z"
   },
   {
    "duration": 53161,
    "start_time": "2025-03-18T19:31:47.373Z"
   },
   {
    "duration": 50474,
    "start_time": "2025-03-18T19:32:40.535Z"
   },
   {
    "duration": 3,
    "start_time": "2025-03-18T19:33:31.011Z"
   },
   {
    "duration": 87,
    "start_time": "2025-03-18T19:33:31.015Z"
   },
   {
    "duration": 11710,
    "start_time": "2025-03-18T19:33:31.104Z"
   },
   {
    "duration": 9217023,
    "start_time": "2025-03-18T19:35:00.941Z"
   },
   {
    "duration": 4,
    "start_time": "2025-03-18T22:08:37.966Z"
   },
   {
    "duration": 13,
    "start_time": "2025-03-18T22:08:37.973Z"
   },
   {
    "duration": 19383,
    "start_time": "2025-03-19T03:48:10.302Z"
   },
   {
    "duration": 2092,
    "start_time": "2025-03-19T03:48:29.689Z"
   },
   {
    "duration": 3,
    "start_time": "2025-03-19T03:48:31.783Z"
   },
   {
    "duration": 349,
    "start_time": "2025-03-19T03:48:31.789Z"
   },
   {
    "duration": 3,
    "start_time": "2025-03-19T03:48:32.140Z"
   },
   {
    "duration": 64,
    "start_time": "2025-03-19T03:48:32.145Z"
   },
   {
    "duration": 6,
    "start_time": "2025-03-19T03:48:32.211Z"
   },
   {
    "duration": 16,
    "start_time": "2025-03-19T03:48:32.219Z"
   },
   {
    "duration": 93,
    "start_time": "2025-03-19T03:48:32.237Z"
   },
   {
    "duration": 7,
    "start_time": "2025-03-19T03:48:32.332Z"
   },
   {
    "duration": 167,
    "start_time": "2025-03-19T03:48:32.340Z"
   },
   {
    "duration": 30,
    "start_time": "2025-03-19T03:48:32.509Z"
   },
   {
    "duration": 3,
    "start_time": "2025-03-19T03:48:32.541Z"
   },
   {
    "duration": 40,
    "start_time": "2025-03-19T03:48:32.546Z"
   },
   {
    "duration": 14,
    "start_time": "2025-03-19T03:48:32.588Z"
   },
   {
    "duration": 17,
    "start_time": "2025-03-19T03:48:32.604Z"
   },
   {
    "duration": 6,
    "start_time": "2025-03-19T03:48:32.622Z"
   },
   {
    "duration": 4,
    "start_time": "2025-03-19T03:48:32.630Z"
   },
   {
    "duration": 463,
    "start_time": "2025-03-19T03:48:32.636Z"
   },
   {
    "duration": 391,
    "start_time": "2025-03-19T03:48:33.101Z"
   },
   {
    "duration": 677,
    "start_time": "2025-03-19T03:48:33.494Z"
   },
   {
    "duration": 103,
    "start_time": "2025-03-19T03:48:34.173Z"
   },
   {
    "duration": 6,
    "start_time": "2025-03-19T03:48:34.282Z"
   },
   {
    "duration": 458,
    "start_time": "2025-03-19T03:48:34.290Z"
   },
   {
    "duration": 16,
    "start_time": "2025-03-19T03:48:34.750Z"
   },
   {
    "duration": 28,
    "start_time": "2025-03-19T03:48:34.769Z"
   },
   {
    "duration": 3,
    "start_time": "2025-03-19T03:48:34.799Z"
   },
   {
    "duration": 16,
    "start_time": "2025-03-19T03:48:34.806Z"
   },
   {
    "duration": 43,
    "start_time": "2025-03-19T03:48:34.823Z"
   },
   {
    "duration": 26,
    "start_time": "2025-03-19T03:48:34.870Z"
   },
   {
    "duration": 10,
    "start_time": "2025-03-19T03:48:34.899Z"
   },
   {
    "duration": 227,
    "start_time": "2025-03-19T03:48:34.911Z"
   },
   {
    "duration": 40,
    "start_time": "2025-03-19T03:48:35.140Z"
   },
   {
    "duration": 7,
    "start_time": "2025-03-19T03:48:35.184Z"
   },
   {
    "duration": 27,
    "start_time": "2025-03-19T03:48:35.193Z"
   },
   {
    "duration": 78,
    "start_time": "2025-03-19T03:48:35.222Z"
   },
   {
    "duration": 10,
    "start_time": "2025-03-19T03:48:35.302Z"
   },
   {
    "duration": 58,
    "start_time": "2025-03-19T03:48:35.314Z"
   },
   {
    "duration": 64,
    "start_time": "2025-03-19T03:48:35.377Z"
   },
   {
    "duration": 541,
    "start_time": "2025-03-19T03:48:35.444Z"
   },
   {
    "duration": 1298,
    "start_time": "2025-03-19T03:48:35.988Z"
   },
   {
    "duration": 5,
    "start_time": "2025-03-19T03:48:37.290Z"
   },
   {
    "duration": 7,
    "start_time": "2025-03-19T03:48:37.296Z"
   },
   {
    "duration": 54,
    "start_time": "2025-03-19T03:48:37.305Z"
   },
   {
    "duration": 33,
    "start_time": "2025-03-19T03:48:37.362Z"
   },
   {
    "duration": 2114,
    "start_time": "2025-03-19T03:48:37.396Z"
   },
   {
    "duration": 7,
    "start_time": "2025-03-19T03:48:39.513Z"
   },
   {
    "duration": 13,
    "start_time": "2025-03-19T03:48:39.522Z"
   },
   {
    "duration": 1232051,
    "start_time": "2025-03-19T03:48:39.536Z"
   },
   {
    "duration": 5,
    "start_time": "2025-03-19T04:09:11.589Z"
   },
   {
    "duration": 69159,
    "start_time": "2025-03-19T04:09:11.596Z"
   },
   {
    "duration": 4544694,
    "start_time": "2025-03-19T04:10:20.766Z"
   },
   {
    "duration": 10,
    "start_time": "2025-03-19T05:26:05.467Z"
   },
   {
    "duration": 9,
    "start_time": "2025-03-19T05:26:05.479Z"
   },
   {
    "duration": 9294,
    "start_time": "2025-03-19T17:22:21.272Z"
   },
   {
    "duration": 1622,
    "start_time": "2025-03-19T17:22:30.568Z"
   },
   {
    "duration": 3,
    "start_time": "2025-03-19T17:22:32.191Z"
   },
   {
    "duration": 92,
    "start_time": "2025-03-19T17:22:32.195Z"
   },
   {
    "duration": 2,
    "start_time": "2025-03-19T17:22:32.289Z"
   },
   {
    "duration": 45,
    "start_time": "2025-03-19T17:22:32.293Z"
   },
   {
    "duration": 6,
    "start_time": "2025-03-19T17:22:32.339Z"
   },
   {
    "duration": 13,
    "start_time": "2025-03-19T17:22:32.347Z"
   },
   {
    "duration": 39,
    "start_time": "2025-03-19T17:22:32.361Z"
   },
   {
    "duration": 6,
    "start_time": "2025-03-19T17:22:32.402Z"
   },
   {
    "duration": 52,
    "start_time": "2025-03-19T17:22:32.409Z"
   },
   {
    "duration": 25,
    "start_time": "2025-03-19T17:22:32.463Z"
   },
   {
    "duration": 3,
    "start_time": "2025-03-19T17:22:32.490Z"
   },
   {
    "duration": 24,
    "start_time": "2025-03-19T17:22:32.495Z"
   },
   {
    "duration": 31,
    "start_time": "2025-03-19T17:22:32.522Z"
   },
   {
    "duration": 16,
    "start_time": "2025-03-19T17:22:33.193Z"
   },
   {
    "duration": 6,
    "start_time": "2025-03-19T17:22:34.029Z"
   },
   {
    "duration": 4,
    "start_time": "2025-03-19T17:22:34.855Z"
   },
   {
    "duration": 336,
    "start_time": "2025-03-19T17:22:35.875Z"
   },
   {
    "duration": 312,
    "start_time": "2025-03-19T17:22:37.154Z"
   },
   {
    "duration": 528,
    "start_time": "2025-03-19T17:22:38.097Z"
   },
   {
    "duration": 74,
    "start_time": "2025-03-19T17:22:39.037Z"
   },
   {
    "duration": 3,
    "start_time": "2025-03-19T17:22:40.011Z"
   },
   {
    "duration": 316,
    "start_time": "2025-03-19T17:22:41.075Z"
   },
   {
    "duration": 3,
    "start_time": "2025-03-19T17:22:41.987Z"
   },
   {
    "duration": 15,
    "start_time": "2025-03-19T17:22:43.100Z"
   },
   {
    "duration": 3,
    "start_time": "2025-03-19T17:22:45.986Z"
   },
   {
    "duration": 15,
    "start_time": "2025-03-19T17:22:46.632Z"
   },
   {
    "duration": 12,
    "start_time": "2025-03-19T17:22:47.406Z"
   },
   {
    "duration": 13,
    "start_time": "2025-03-19T17:22:48.173Z"
   },
   {
    "duration": 10,
    "start_time": "2025-03-19T17:22:48.822Z"
   },
   {
    "duration": 71,
    "start_time": "2025-03-19T17:22:50.715Z"
   },
   {
    "duration": 24,
    "start_time": "2025-03-19T17:22:55.287Z"
   },
   {
    "duration": 5,
    "start_time": "2025-03-19T17:23:10.430Z"
   },
   {
    "duration": 8,
    "start_time": "2025-03-19T17:23:11.431Z"
   },
   {
    "duration": 144,
    "start_time": "2025-03-19T17:23:12.948Z"
   },
   {
    "duration": 9,
    "start_time": "2025-03-19T17:23:13.964Z"
   },
   {
    "duration": 23,
    "start_time": "2025-03-19T17:23:14.995Z"
   },
   {
    "duration": 28,
    "start_time": "2025-03-19T17:23:42.234Z"
   },
   {
    "duration": 15,
    "start_time": "2025-03-19T17:27:18.273Z"
   },
   {
    "duration": 12,
    "start_time": "2025-03-19T17:28:11.270Z"
   },
   {
    "duration": 49,
    "start_time": "2025-03-19T17:28:12.660Z"
   },
   {
    "duration": 439,
    "start_time": "2025-03-19T17:28:18.670Z"
   },
   {
    "duration": 981,
    "start_time": "2025-03-19T17:28:26.974Z"
   },
   {
    "duration": 5,
    "start_time": "2025-03-19T17:53:43.513Z"
   },
   {
    "duration": 6,
    "start_time": "2025-03-19T17:53:47.103Z"
   },
   {
    "duration": 34,
    "start_time": "2025-03-19T17:53:50.106Z"
   },
   {
    "duration": 21,
    "start_time": "2025-03-19T17:53:51.205Z"
   },
   {
    "duration": 1694,
    "start_time": "2025-03-19T17:53:52.207Z"
   },
   {
    "duration": 10,
    "start_time": "2025-03-19T17:54:17.059Z"
   },
   {
    "duration": 3,
    "start_time": "2025-03-19T17:54:17.808Z"
   },
   {
    "duration": 1008477,
    "start_time": "2025-03-19T17:54:18.884Z"
   },
   {
    "duration": 4,
    "start_time": "2025-03-19T18:11:07.371Z"
   },
   {
    "duration": 1621,
    "start_time": "2025-03-19T18:22:04.823Z"
   },
   {
    "duration": 10,
    "start_time": "2025-03-19T18:22:07.284Z"
   },
   {
    "duration": 4,
    "start_time": "2025-03-19T18:22:11.482Z"
   },
   {
    "duration": 53904,
    "start_time": "2025-03-19T18:23:10.487Z"
   },
   {
    "duration": 211864,
    "start_time": "2025-03-19T18:24:04.394Z"
   },
   {
    "duration": 4,
    "start_time": "2025-03-19T18:27:36.260Z"
   },
   {
    "duration": 8,
    "start_time": "2025-03-19T18:27:36.265Z"
   },
   {
    "duration": 53365,
    "start_time": "2025-03-19T18:33:15.489Z"
   },
   {
    "duration": 196899,
    "start_time": "2025-03-19T18:34:08.856Z"
   },
   {
    "duration": 3,
    "start_time": "2025-03-19T18:37:25.757Z"
   },
   {
    "duration": 7,
    "start_time": "2025-03-19T18:37:25.762Z"
   },
   {
    "duration": 52080,
    "start_time": "2025-03-19T18:44:32.763Z"
   },
   {
    "duration": 51615,
    "start_time": "2025-03-19T18:45:24.845Z"
   },
   {
    "duration": 4,
    "start_time": "2025-03-19T18:46:16.462Z"
   },
   {
    "duration": 33,
    "start_time": "2025-03-19T18:46:16.467Z"
   },
   {
    "duration": 1250,
    "start_time": "2025-03-19T19:05:35.887Z"
   },
   {
    "duration": 4,
    "start_time": "2025-03-19T19:07:11.282Z"
   },
   {
    "duration": 1684,
    "start_time": "2025-03-19T19:07:29.391Z"
   },
   {
    "duration": 9489,
    "start_time": "2025-03-19T19:08:06.610Z"
   },
   {
    "duration": 1493,
    "start_time": "2025-03-19T19:08:16.101Z"
   },
   {
    "duration": 2,
    "start_time": "2025-03-19T19:08:17.596Z"
   },
   {
    "duration": 91,
    "start_time": "2025-03-19T19:08:17.600Z"
   },
   {
    "duration": 3,
    "start_time": "2025-03-19T19:08:17.693Z"
   },
   {
    "duration": 35,
    "start_time": "2025-03-19T19:08:17.698Z"
   },
   {
    "duration": 7,
    "start_time": "2025-03-19T19:08:17.735Z"
   },
   {
    "duration": 9,
    "start_time": "2025-03-19T19:08:17.743Z"
   },
   {
    "duration": 34,
    "start_time": "2025-03-19T19:08:17.753Z"
   },
   {
    "duration": 5,
    "start_time": "2025-03-19T19:08:17.790Z"
   },
   {
    "duration": 41,
    "start_time": "2025-03-19T19:08:17.796Z"
   },
   {
    "duration": 25,
    "start_time": "2025-03-19T19:08:17.855Z"
   },
   {
    "duration": 3,
    "start_time": "2025-03-19T19:08:17.881Z"
   },
   {
    "duration": 12,
    "start_time": "2025-03-19T19:08:17.886Z"
   },
   {
    "duration": 10,
    "start_time": "2025-03-19T19:08:17.900Z"
   },
   {
    "duration": 46,
    "start_time": "2025-03-19T19:08:17.912Z"
   },
   {
    "duration": 5,
    "start_time": "2025-03-19T19:08:17.959Z"
   },
   {
    "duration": 10,
    "start_time": "2025-03-19T19:08:17.966Z"
   },
   {
    "duration": 355,
    "start_time": "2025-03-19T19:08:17.977Z"
   },
   {
    "duration": 322,
    "start_time": "2025-03-19T19:08:18.334Z"
   },
   {
    "duration": 525,
    "start_time": "2025-03-19T19:08:18.658Z"
   },
   {
    "duration": 83,
    "start_time": "2025-03-19T19:08:19.184Z"
   },
   {
    "duration": 4,
    "start_time": "2025-03-19T19:08:19.268Z"
   },
   {
    "duration": 368,
    "start_time": "2025-03-19T19:08:19.273Z"
   },
   {
    "duration": 3,
    "start_time": "2025-03-19T19:08:19.643Z"
   },
   {
    "duration": 15,
    "start_time": "2025-03-19T19:08:19.654Z"
   },
   {
    "duration": 13,
    "start_time": "2025-03-19T19:08:19.671Z"
   },
   {
    "duration": 20,
    "start_time": "2025-03-19T19:08:19.688Z"
   },
   {
    "duration": 12,
    "start_time": "2025-03-19T19:08:19.709Z"
   },
   {
    "duration": 36,
    "start_time": "2025-03-19T19:08:19.722Z"
   },
   {
    "duration": 9,
    "start_time": "2025-03-19T19:08:19.759Z"
   },
   {
    "duration": 202,
    "start_time": "2025-03-19T19:08:19.769Z"
   },
   {
    "duration": 24,
    "start_time": "2025-03-19T19:08:19.972Z"
   },
   {
    "duration": 28,
    "start_time": "2025-03-19T19:08:19.997Z"
   },
   {
    "duration": 12,
    "start_time": "2025-03-19T19:08:20.027Z"
   },
   {
    "duration": 49,
    "start_time": "2025-03-19T19:08:20.041Z"
   },
   {
    "duration": 10,
    "start_time": "2025-03-19T19:08:20.091Z"
   },
   {
    "duration": 34,
    "start_time": "2025-03-19T19:08:20.103Z"
   },
   {
    "duration": 33,
    "start_time": "2025-03-19T19:08:20.139Z"
   },
   {
    "duration": 14,
    "start_time": "2025-03-19T19:08:20.174Z"
   },
   {
    "duration": 12,
    "start_time": "2025-03-19T19:08:20.190Z"
   },
   {
    "duration": 79,
    "start_time": "2025-03-19T19:08:20.204Z"
   },
   {
    "duration": 1675,
    "start_time": "2025-03-19T19:08:20.284Z"
   },
   {
    "duration": 455,
    "start_time": "2025-03-19T19:08:21.960Z"
   },
   {
    "duration": 982,
    "start_time": "2025-03-19T19:08:22.418Z"
   },
   {
    "duration": 4,
    "start_time": "2025-03-19T19:08:23.402Z"
   },
   {
    "duration": 8,
    "start_time": "2025-03-19T19:08:23.407Z"
   },
   {
    "duration": 40,
    "start_time": "2025-03-19T19:08:23.417Z"
   },
   {
    "duration": 23,
    "start_time": "2025-03-19T19:08:23.459Z"
   },
   {
    "duration": 1787,
    "start_time": "2025-03-19T19:08:23.483Z"
   },
   {
    "duration": 6,
    "start_time": "2025-03-19T19:08:25.272Z"
   },
   {
    "duration": 5,
    "start_time": "2025-03-19T19:08:25.279Z"
   },
   {
    "duration": 155,
    "start_time": "2025-03-19T19:08:25.285Z"
   },
   {
    "duration": 0,
    "start_time": "2025-03-19T19:08:25.441Z"
   },
   {
    "duration": 0,
    "start_time": "2025-03-19T19:08:25.443Z"
   },
   {
    "duration": 0,
    "start_time": "2025-03-19T19:08:25.444Z"
   },
   {
    "duration": 0,
    "start_time": "2025-03-19T19:08:25.445Z"
   },
   {
    "duration": 0,
    "start_time": "2025-03-19T19:08:25.446Z"
   },
   {
    "duration": 0,
    "start_time": "2025-03-19T19:08:25.447Z"
   },
   {
    "duration": 0,
    "start_time": "2025-03-19T19:08:25.448Z"
   },
   {
    "duration": 0,
    "start_time": "2025-03-19T19:08:25.449Z"
   },
   {
    "duration": 3,
    "start_time": "2025-03-19T19:09:15.071Z"
   },
   {
    "duration": 9336,
    "start_time": "2025-03-19T19:12:19.773Z"
   },
   {
    "duration": 1723,
    "start_time": "2025-03-19T19:12:29.112Z"
   },
   {
    "duration": 3,
    "start_time": "2025-03-19T19:12:30.837Z"
   },
   {
    "duration": 115,
    "start_time": "2025-03-19T19:12:30.842Z"
   },
   {
    "duration": 3,
    "start_time": "2025-03-19T19:12:30.959Z"
   },
   {
    "duration": 85,
    "start_time": "2025-03-19T19:12:30.963Z"
   },
   {
    "duration": 7,
    "start_time": "2025-03-19T19:12:31.050Z"
   },
   {
    "duration": 16,
    "start_time": "2025-03-19T19:12:31.059Z"
   },
   {
    "duration": 30,
    "start_time": "2025-03-19T19:12:31.076Z"
   },
   {
    "duration": 7,
    "start_time": "2025-03-19T19:12:31.108Z"
   },
   {
    "duration": 61,
    "start_time": "2025-03-19T19:12:31.116Z"
   },
   {
    "duration": 24,
    "start_time": "2025-03-19T19:12:31.179Z"
   },
   {
    "duration": 3,
    "start_time": "2025-03-19T19:12:31.205Z"
   },
   {
    "duration": 14,
    "start_time": "2025-03-19T19:12:31.211Z"
   },
   {
    "duration": 37,
    "start_time": "2025-03-19T19:12:31.226Z"
   },
   {
    "duration": 72,
    "start_time": "2025-03-19T19:12:31.264Z"
   },
   {
    "duration": 5,
    "start_time": "2025-03-19T19:12:31.337Z"
   },
   {
    "duration": 117,
    "start_time": "2025-03-19T19:12:31.344Z"
   },
   {
    "duration": 355,
    "start_time": "2025-03-19T19:12:31.463Z"
   },
   {
    "duration": 318,
    "start_time": "2025-03-19T19:12:31.820Z"
   },
   {
    "duration": 555,
    "start_time": "2025-03-19T19:12:32.139Z"
   },
   {
    "duration": 84,
    "start_time": "2025-03-19T19:12:32.696Z"
   },
   {
    "duration": 4,
    "start_time": "2025-03-19T19:12:32.782Z"
   },
   {
    "duration": 341,
    "start_time": "2025-03-19T19:12:32.788Z"
   },
   {
    "duration": 4,
    "start_time": "2025-03-19T19:12:33.130Z"
   },
   {
    "duration": 30,
    "start_time": "2025-03-19T19:12:33.136Z"
   },
   {
    "duration": 4,
    "start_time": "2025-03-19T19:12:33.167Z"
   },
   {
    "duration": 17,
    "start_time": "2025-03-19T19:12:33.173Z"
   },
   {
    "duration": 13,
    "start_time": "2025-03-19T19:12:33.192Z"
   },
   {
    "duration": 56,
    "start_time": "2025-03-19T19:12:33.207Z"
   },
   {
    "duration": 10,
    "start_time": "2025-03-19T19:12:33.265Z"
   },
   {
    "duration": 198,
    "start_time": "2025-03-19T19:12:33.276Z"
   },
   {
    "duration": 26,
    "start_time": "2025-03-19T19:12:33.475Z"
   },
   {
    "duration": 4,
    "start_time": "2025-03-19T19:12:33.502Z"
   },
   {
    "duration": 10,
    "start_time": "2025-03-19T19:12:33.508Z"
   },
   {
    "duration": 76,
    "start_time": "2025-03-19T19:12:33.519Z"
   },
   {
    "duration": 10,
    "start_time": "2025-03-19T19:12:33.597Z"
   },
   {
    "duration": 51,
    "start_time": "2025-03-19T19:12:33.609Z"
   },
   {
    "duration": 28,
    "start_time": "2025-03-19T19:12:33.662Z"
   },
   {
    "duration": 14,
    "start_time": "2025-03-19T19:12:33.691Z"
   },
   {
    "duration": 12,
    "start_time": "2025-03-19T19:12:33.708Z"
   },
   {
    "duration": 71,
    "start_time": "2025-03-19T19:12:33.721Z"
   },
   {
    "duration": 1832,
    "start_time": "2025-03-19T19:12:33.793Z"
   },
   {
    "duration": 482,
    "start_time": "2025-03-19T19:12:35.627Z"
   },
   {
    "duration": 1018,
    "start_time": "2025-03-19T19:12:36.111Z"
   },
   {
    "duration": 4,
    "start_time": "2025-03-19T19:12:37.130Z"
   },
   {
    "duration": 25,
    "start_time": "2025-03-19T19:12:37.135Z"
   },
   {
    "duration": 33,
    "start_time": "2025-03-19T19:12:37.161Z"
   },
   {
    "duration": 39,
    "start_time": "2025-03-19T19:12:37.195Z"
   },
   {
    "duration": 1765,
    "start_time": "2025-03-19T19:12:37.235Z"
   },
   {
    "duration": 6,
    "start_time": "2025-03-19T19:12:39.001Z"
   },
   {
    "duration": 5,
    "start_time": "2025-03-19T19:12:39.008Z"
   },
   {
    "duration": 9565,
    "start_time": "2025-03-19T19:13:20.405Z"
   },
   {
    "duration": 1652,
    "start_time": "2025-03-19T19:13:29.974Z"
   },
   {
    "duration": 2,
    "start_time": "2025-03-19T19:13:31.628Z"
   },
   {
    "duration": 88,
    "start_time": "2025-03-19T19:13:31.632Z"
   },
   {
    "duration": 3,
    "start_time": "2025-03-19T19:13:31.722Z"
   },
   {
    "duration": 38,
    "start_time": "2025-03-19T19:13:31.726Z"
   },
   {
    "duration": 11,
    "start_time": "2025-03-19T19:13:31.766Z"
   },
   {
    "duration": 17,
    "start_time": "2025-03-19T19:13:31.780Z"
   },
   {
    "duration": 54,
    "start_time": "2025-03-19T19:13:31.799Z"
   },
   {
    "duration": 7,
    "start_time": "2025-03-19T19:13:31.855Z"
   },
   {
    "duration": 104,
    "start_time": "2025-03-19T19:13:31.864Z"
   },
   {
    "duration": 26,
    "start_time": "2025-03-19T19:13:31.970Z"
   },
   {
    "duration": 5,
    "start_time": "2025-03-19T19:13:31.998Z"
   },
   {
    "duration": 32,
    "start_time": "2025-03-19T19:13:32.006Z"
   },
   {
    "duration": 27,
    "start_time": "2025-03-19T19:13:32.040Z"
   },
   {
    "duration": 20,
    "start_time": "2025-03-19T19:13:32.069Z"
   },
   {
    "duration": 4,
    "start_time": "2025-03-19T19:13:32.090Z"
   },
   {
    "duration": 37,
    "start_time": "2025-03-19T19:13:32.096Z"
   },
   {
    "duration": 404,
    "start_time": "2025-03-19T19:13:32.135Z"
   },
   {
    "duration": 339,
    "start_time": "2025-03-19T19:13:32.540Z"
   },
   {
    "duration": 555,
    "start_time": "2025-03-19T19:13:32.882Z"
   },
   {
    "duration": 87,
    "start_time": "2025-03-19T19:13:33.439Z"
   },
   {
    "duration": 3,
    "start_time": "2025-03-19T19:13:33.528Z"
   },
   {
    "duration": 355,
    "start_time": "2025-03-19T19:13:33.532Z"
   },
   {
    "duration": 3,
    "start_time": "2025-03-19T19:13:33.889Z"
   },
   {
    "duration": 32,
    "start_time": "2025-03-19T19:13:33.893Z"
   },
   {
    "duration": 3,
    "start_time": "2025-03-19T19:13:33.927Z"
   },
   {
    "duration": 27,
    "start_time": "2025-03-19T19:13:33.931Z"
   },
   {
    "duration": 13,
    "start_time": "2025-03-19T19:13:33.960Z"
   },
   {
    "duration": 14,
    "start_time": "2025-03-19T19:13:33.974Z"
   },
   {
    "duration": 10,
    "start_time": "2025-03-19T19:13:33.989Z"
   },
   {
    "duration": 218,
    "start_time": "2025-03-19T19:13:34.000Z"
   },
   {
    "duration": 39,
    "start_time": "2025-03-19T19:13:34.220Z"
   },
   {
    "duration": 6,
    "start_time": "2025-03-19T19:13:34.261Z"
   },
   {
    "duration": 24,
    "start_time": "2025-03-19T19:13:34.269Z"
   },
   {
    "duration": 87,
    "start_time": "2025-03-19T19:13:34.295Z"
   },
   {
    "duration": 10,
    "start_time": "2025-03-19T19:13:34.385Z"
   },
   {
    "duration": 50,
    "start_time": "2025-03-19T19:13:34.397Z"
   },
   {
    "duration": 33,
    "start_time": "2025-03-19T19:13:34.448Z"
   },
   {
    "duration": 39,
    "start_time": "2025-03-19T19:13:34.483Z"
   },
   {
    "duration": 19,
    "start_time": "2025-03-19T19:13:34.526Z"
   },
   {
    "duration": 64,
    "start_time": "2025-03-19T19:13:34.547Z"
   },
   {
    "duration": 1528,
    "start_time": "2025-03-19T19:13:34.613Z"
   },
   {
    "duration": 477,
    "start_time": "2025-03-19T19:13:36.154Z"
   },
   {
    "duration": 1046,
    "start_time": "2025-03-19T19:13:36.632Z"
   },
   {
    "duration": 4,
    "start_time": "2025-03-19T19:13:37.680Z"
   },
   {
    "duration": 7,
    "start_time": "2025-03-19T19:13:37.686Z"
   },
   {
    "duration": 50,
    "start_time": "2025-03-19T19:13:37.694Z"
   },
   {
    "duration": 39,
    "start_time": "2025-03-19T19:13:37.745Z"
   },
   {
    "duration": 1806,
    "start_time": "2025-03-19T19:13:37.786Z"
   },
   {
    "duration": 6,
    "start_time": "2025-03-19T19:13:39.594Z"
   },
   {
    "duration": 5,
    "start_time": "2025-03-19T19:13:39.602Z"
   },
   {
    "duration": 951617,
    "start_time": "2025-03-19T19:13:39.608Z"
   },
   {
    "duration": 5,
    "start_time": "2025-03-19T19:29:31.226Z"
   },
   {
    "duration": 52189,
    "start_time": "2025-03-19T19:29:31.232Z"
   },
   {
    "duration": 58531,
    "start_time": "2025-03-19T19:30:23.423Z"
   },
   {
    "duration": 4,
    "start_time": "2025-03-19T19:31:21.956Z"
   },
   {
    "duration": 5,
    "start_time": "2025-03-19T19:31:21.961Z"
   },
   {
    "duration": 1574,
    "start_time": "2025-03-19T19:31:21.967Z"
   },
   {
    "duration": 9,
    "start_time": "2025-03-19T19:31:23.543Z"
   },
   {
    "duration": 3,
    "start_time": "2025-03-19T19:31:23.554Z"
   },
   {
    "duration": 22,
    "start_time": "2025-03-19T19:31:23.560Z"
   },
   {
    "duration": 17,
    "start_time": "2025-03-19T19:31:23.584Z"
   },
   {
    "duration": 11,
    "start_time": "2025-03-19T19:31:23.603Z"
   },
   {
    "duration": 21,
    "start_time": "2025-03-19T19:31:23.615Z"
   },
   {
    "duration": 5,
    "start_time": "2025-03-19T19:31:23.638Z"
   },
   {
    "duration": 9269,
    "start_time": "2025-03-19T20:11:59.453Z"
   },
   {
    "duration": 1544,
    "start_time": "2025-03-19T20:12:08.724Z"
   },
   {
    "duration": 2,
    "start_time": "2025-03-19T20:12:10.270Z"
   },
   {
    "duration": 89,
    "start_time": "2025-03-19T20:12:10.273Z"
   },
   {
    "duration": 3,
    "start_time": "2025-03-19T20:12:10.364Z"
   },
   {
    "duration": 35,
    "start_time": "2025-03-19T20:12:10.368Z"
   },
   {
    "duration": 6,
    "start_time": "2025-03-19T20:12:10.404Z"
   },
   {
    "duration": 8,
    "start_time": "2025-03-19T20:12:10.412Z"
   },
   {
    "duration": 45,
    "start_time": "2025-03-19T20:12:10.422Z"
   },
   {
    "duration": 6,
    "start_time": "2025-03-19T20:12:10.468Z"
   },
   {
    "duration": 42,
    "start_time": "2025-03-19T20:12:10.475Z"
   },
   {
    "duration": 45,
    "start_time": "2025-03-19T20:12:10.518Z"
   },
   {
    "duration": 3,
    "start_time": "2025-03-19T20:12:10.565Z"
   },
   {
    "duration": 12,
    "start_time": "2025-03-19T20:12:10.571Z"
   },
   {
    "duration": 10,
    "start_time": "2025-03-19T20:12:10.585Z"
   },
   {
    "duration": 15,
    "start_time": "2025-03-19T20:12:10.596Z"
   },
   {
    "duration": 4,
    "start_time": "2025-03-19T20:12:10.613Z"
   },
   {
    "duration": 4,
    "start_time": "2025-03-19T20:12:10.655Z"
   },
   {
    "duration": 374,
    "start_time": "2025-03-19T20:12:10.661Z"
   },
   {
    "duration": 317,
    "start_time": "2025-03-19T20:12:11.037Z"
   },
   {
    "duration": 529,
    "start_time": "2025-03-19T20:12:11.355Z"
   },
   {
    "duration": 84,
    "start_time": "2025-03-19T20:12:11.885Z"
   },
   {
    "duration": 4,
    "start_time": "2025-03-19T20:12:11.970Z"
   },
   {
    "duration": 331,
    "start_time": "2025-03-19T20:12:11.975Z"
   },
   {
    "duration": 3,
    "start_time": "2025-03-19T20:12:12.308Z"
   },
   {
    "duration": 25,
    "start_time": "2025-03-19T20:12:12.312Z"
   },
   {
    "duration": 3,
    "start_time": "2025-03-19T20:12:12.338Z"
   },
   {
    "duration": 14,
    "start_time": "2025-03-19T20:12:12.355Z"
   },
   {
    "duration": 12,
    "start_time": "2025-03-19T20:12:12.370Z"
   },
   {
    "duration": 24,
    "start_time": "2025-03-19T20:12:12.383Z"
   },
   {
    "duration": 26,
    "start_time": "2025-03-19T20:12:12.408Z"
   },
   {
    "duration": 187,
    "start_time": "2025-03-19T20:12:12.435Z"
   },
   {
    "duration": 37,
    "start_time": "2025-03-19T20:12:12.623Z"
   },
   {
    "duration": 5,
    "start_time": "2025-03-19T20:12:12.661Z"
   },
   {
    "duration": 16,
    "start_time": "2025-03-19T20:12:12.667Z"
   },
   {
    "duration": 59,
    "start_time": "2025-03-19T20:12:12.685Z"
   },
   {
    "duration": 12,
    "start_time": "2025-03-19T20:12:12.746Z"
   },
   {
    "duration": 29,
    "start_time": "2025-03-19T20:12:12.759Z"
   },
   {
    "duration": 24,
    "start_time": "2025-03-19T20:12:12.789Z"
   },
   {
    "duration": 13,
    "start_time": "2025-03-19T20:12:12.814Z"
   },
   {
    "duration": 35,
    "start_time": "2025-03-19T20:12:12.831Z"
   },
   {
    "duration": 62,
    "start_time": "2025-03-19T20:12:12.867Z"
   },
   {
    "duration": 1454,
    "start_time": "2025-03-19T20:12:12.930Z"
   },
   {
    "duration": 423,
    "start_time": "2025-03-19T20:12:14.385Z"
   },
   {
    "duration": 946,
    "start_time": "2025-03-19T20:12:14.809Z"
   },
   {
    "duration": 3,
    "start_time": "2025-03-19T20:12:15.757Z"
   },
   {
    "duration": 9,
    "start_time": "2025-03-19T20:12:15.762Z"
   },
   {
    "duration": 31,
    "start_time": "2025-03-19T20:12:15.773Z"
   },
   {
    "duration": 21,
    "start_time": "2025-03-19T20:12:15.806Z"
   },
   {
    "duration": 28,
    "start_time": "2025-03-19T20:12:15.829Z"
   },
   {
    "duration": 4,
    "start_time": "2025-03-19T20:12:15.859Z"
   },
   {
    "duration": 935224,
    "start_time": "2025-03-19T20:12:15.865Z"
   },
   {
    "duration": 4,
    "start_time": "2025-03-19T20:27:51.091Z"
   },
   {
    "duration": 51345,
    "start_time": "2025-03-19T20:27:51.097Z"
   },
   {
    "duration": 4,
    "start_time": "2025-03-19T20:28:42.444Z"
   },
   {
    "duration": 50310,
    "start_time": "2025-03-19T20:28:42.449Z"
   },
   {
    "duration": 4,
    "start_time": "2025-03-19T20:29:32.761Z"
   },
   {
    "duration": 1569,
    "start_time": "2025-03-19T20:29:32.767Z"
   },
   {
    "duration": 11,
    "start_time": "2025-03-19T20:29:34.337Z"
   },
   {
    "duration": 29,
    "start_time": "2025-03-19T20:29:34.350Z"
   },
   {
    "duration": 16,
    "start_time": "2025-03-19T20:29:34.382Z"
   },
   {
    "duration": 1498,
    "start_time": "2025-03-19T20:30:53.450Z"
   },
   {
    "duration": 10,
    "start_time": "2025-03-19T20:30:54.950Z"
   },
   {
    "duration": 4,
    "start_time": "2025-03-19T20:30:55.347Z"
   },
   {
    "duration": 8,
    "start_time": "2025-03-20T17:10:08.899Z"
   },
   {
    "duration": 8,
    "start_time": "2025-03-20T17:10:17.271Z"
   },
   {
    "duration": 4,
    "start_time": "2025-03-20T17:10:21.294Z"
   },
   {
    "duration": 15305,
    "start_time": "2025-03-20T18:38:54.022Z"
   },
   {
    "duration": 1955,
    "start_time": "2025-03-20T18:39:09.329Z"
   },
   {
    "duration": 3,
    "start_time": "2025-03-20T18:39:11.285Z"
   },
   {
    "duration": 111,
    "start_time": "2025-03-20T18:39:11.290Z"
   },
   {
    "duration": 2,
    "start_time": "2025-03-20T18:39:11.403Z"
   },
   {
    "duration": 66,
    "start_time": "2025-03-20T18:39:11.407Z"
   },
   {
    "duration": 6,
    "start_time": "2025-03-20T18:39:11.475Z"
   },
   {
    "duration": 9,
    "start_time": "2025-03-20T18:39:11.483Z"
   },
   {
    "duration": 48,
    "start_time": "2025-03-20T18:39:11.493Z"
   },
   {
    "duration": 6,
    "start_time": "2025-03-20T18:39:11.543Z"
   },
   {
    "duration": 68,
    "start_time": "2025-03-20T18:39:11.551Z"
   },
   {
    "duration": 44,
    "start_time": "2025-03-20T18:39:11.621Z"
   },
   {
    "duration": 4,
    "start_time": "2025-03-20T18:39:17.807Z"
   },
   {
    "duration": 12,
    "start_time": "2025-03-20T18:39:18.449Z"
   },
   {
    "duration": 13,
    "start_time": "2025-03-20T18:39:19.055Z"
   },
   {
    "duration": 17,
    "start_time": "2025-03-20T18:39:20.486Z"
   },
   {
    "duration": 5,
    "start_time": "2025-03-20T18:39:21.226Z"
   },
   {
    "duration": 5,
    "start_time": "2025-03-20T18:39:21.910Z"
   },
   {
    "duration": 366,
    "start_time": "2025-03-20T18:39:23.426Z"
   },
   {
    "duration": 314,
    "start_time": "2025-03-20T18:39:24.018Z"
   },
   {
    "duration": 548,
    "start_time": "2025-03-20T18:39:25.164Z"
   },
   {
    "duration": 79,
    "start_time": "2025-03-20T18:39:25.793Z"
   },
   {
    "duration": 6,
    "start_time": "2025-03-20T18:39:26.381Z"
   },
   {
    "duration": 359,
    "start_time": "2025-03-20T18:39:26.976Z"
   },
   {
    "duration": 4,
    "start_time": "2025-03-20T18:39:27.647Z"
   },
   {
    "duration": 17,
    "start_time": "2025-03-20T18:39:28.525Z"
   },
   {
    "duration": 3,
    "start_time": "2025-03-20T18:39:30.026Z"
   },
   {
    "duration": 16,
    "start_time": "2025-03-20T18:39:30.649Z"
   },
   {
    "duration": 14,
    "start_time": "2025-03-20T18:39:31.906Z"
   },
   {
    "duration": 13,
    "start_time": "2025-03-20T18:39:32.570Z"
   },
   {
    "duration": 10,
    "start_time": "2025-03-20T18:39:33.253Z"
   },
   {
    "duration": 77,
    "start_time": "2025-03-20T18:39:35.395Z"
   },
   {
    "duration": 28,
    "start_time": "2025-03-20T18:39:36.718Z"
   },
   {
    "duration": 5,
    "start_time": "2025-03-20T18:39:37.432Z"
   },
   {
    "duration": 10,
    "start_time": "2025-03-20T18:39:40.847Z"
   },
   {
    "duration": 153,
    "start_time": "2025-03-20T18:39:45.106Z"
   },
   {
    "duration": 9,
    "start_time": "2025-03-20T18:39:48.181Z"
   },
   {
    "duration": 26,
    "start_time": "2025-03-20T18:39:49.649Z"
   },
   {
    "duration": 28,
    "start_time": "2025-03-20T18:39:50.902Z"
   },
   {
    "duration": 16,
    "start_time": "2025-03-20T18:39:53.444Z"
   },
   {
    "duration": 13,
    "start_time": "2025-03-20T18:39:55.894Z"
   },
   {
    "duration": 51,
    "start_time": "2025-03-20T18:39:57.706Z"
   },
   {
    "duration": 1585,
    "start_time": "2025-03-20T18:40:05.094Z"
   },
   {
    "duration": 480,
    "start_time": "2025-03-20T18:40:18.167Z"
   },
   {
    "duration": 1091,
    "start_time": "2025-03-20T18:40:41.150Z"
   },
   {
    "duration": 4,
    "start_time": "2025-03-20T18:41:21.054Z"
   },
   {
    "duration": 6,
    "start_time": "2025-03-20T18:41:21.917Z"
   },
   {
    "duration": 34,
    "start_time": "2025-03-20T18:41:22.799Z"
   },
   {
    "duration": 124,
    "start_time": "2025-03-20T18:41:25.732Z"
   },
   {
    "duration": 23,
    "start_time": "2025-03-20T18:42:36.770Z"
   },
   {
    "duration": 7,
    "start_time": "2025-03-20T18:42:41.869Z"
   },
   {
    "duration": 4,
    "start_time": "2025-03-20T18:42:45.181Z"
   },
   {
    "duration": 1107887,
    "start_time": "2025-03-20T18:42:46.033Z"
   },
   {
    "duration": 4,
    "start_time": "2025-03-20T19:01:13.922Z"
   },
   {
    "duration": 54048,
    "start_time": "2025-03-20T19:01:13.927Z"
   },
   {
    "duration": 4,
    "start_time": "2025-03-20T19:02:07.978Z"
   },
   {
    "duration": 52482,
    "start_time": "2025-03-20T19:02:07.983Z"
   },
   {
    "duration": 3,
    "start_time": "2025-03-20T19:03:00.467Z"
   },
   {
    "duration": 63,
    "start_time": "2025-03-20T19:03:00.555Z"
   },
   {
    "duration": 1673,
    "start_time": "2025-03-20T19:03:00.619Z"
   },
   {
    "duration": 9,
    "start_time": "2025-03-20T19:03:02.293Z"
   },
   {
    "duration": 4,
    "start_time": "2025-03-20T19:03:02.304Z"
   },
   {
    "duration": 4,
    "start_time": "2025-03-20T19:05:13.877Z"
   },
   {
    "duration": 5,
    "start_time": "2025-03-20T19:05:14.609Z"
   },
   {
    "duration": 33,
    "start_time": "2025-03-20T19:05:15.333Z"
   },
   {
    "duration": 18,
    "start_time": "2025-03-20T19:05:21.416Z"
   },
   {
    "duration": 7,
    "start_time": "2025-03-20T19:05:26.932Z"
   },
   {
    "duration": 20,
    "start_time": "2025-03-20T19:06:54.864Z"
   },
   {
    "duration": 13,
    "start_time": "2025-03-20T19:07:40.612Z"
   },
   {
    "duration": 12,
    "start_time": "2025-03-20T19:11:55.820Z"
   },
   {
    "duration": 19,
    "start_time": "2025-03-20T19:14:49.697Z"
   },
   {
    "duration": 48,
    "start_time": "2025-03-21T11:24:41.651Z"
   },
   {
    "duration": 14319,
    "start_time": "2025-03-21T11:25:16.764Z"
   },
   {
    "duration": 1859,
    "start_time": "2025-03-21T11:25:31.086Z"
   },
   {
    "duration": 2,
    "start_time": "2025-03-21T11:25:32.947Z"
   },
   {
    "duration": 99,
    "start_time": "2025-03-21T11:25:32.950Z"
   },
   {
    "duration": 2,
    "start_time": "2025-03-21T11:25:33.051Z"
   },
   {
    "duration": 37,
    "start_time": "2025-03-21T11:25:33.055Z"
   },
   {
    "duration": 6,
    "start_time": "2025-03-21T11:25:33.093Z"
   },
   {
    "duration": 6,
    "start_time": "2025-03-21T11:25:33.101Z"
   },
   {
    "duration": 50,
    "start_time": "2025-03-21T11:25:33.109Z"
   },
   {
    "duration": 6,
    "start_time": "2025-03-21T11:25:33.160Z"
   },
   {
    "duration": 52,
    "start_time": "2025-03-21T11:25:33.168Z"
   },
   {
    "duration": 24,
    "start_time": "2025-03-21T11:25:33.235Z"
   },
   {
    "duration": 4,
    "start_time": "2025-03-21T11:25:33.260Z"
   },
   {
    "duration": 20,
    "start_time": "2025-03-21T11:25:33.267Z"
   },
   {
    "duration": 10,
    "start_time": "2025-03-21T11:25:33.289Z"
   },
   {
    "duration": 44,
    "start_time": "2025-03-21T11:25:33.301Z"
   },
   {
    "duration": 4,
    "start_time": "2025-03-21T11:25:33.346Z"
   },
   {
    "duration": 8,
    "start_time": "2025-03-21T11:25:33.352Z"
   },
   {
    "duration": 349,
    "start_time": "2025-03-21T11:25:33.361Z"
   },
   {
    "duration": 302,
    "start_time": "2025-03-21T11:25:33.711Z"
   },
   {
    "duration": 555,
    "start_time": "2025-03-21T11:25:34.014Z"
   },
   {
    "duration": 80,
    "start_time": "2025-03-21T11:25:34.571Z"
   },
   {
    "duration": 3,
    "start_time": "2025-03-21T11:25:34.653Z"
   },
   {
    "duration": 324,
    "start_time": "2025-03-21T11:25:34.657Z"
   },
   {
    "duration": 2,
    "start_time": "2025-03-21T11:25:34.983Z"
   },
   {
    "duration": 15,
    "start_time": "2025-03-21T11:25:34.987Z"
   },
   {
    "duration": 3,
    "start_time": "2025-03-21T11:25:35.004Z"
   },
   {
    "duration": 39,
    "start_time": "2025-03-21T11:25:35.008Z"
   },
   {
    "duration": 12,
    "start_time": "2025-03-21T11:25:35.049Z"
   },
   {
    "duration": 13,
    "start_time": "2025-03-21T11:25:35.062Z"
   },
   {
    "duration": 15,
    "start_time": "2025-03-21T11:25:35.076Z"
   },
   {
    "duration": 199,
    "start_time": "2025-03-21T11:25:35.093Z"
   },
   {
    "duration": 23,
    "start_time": "2025-03-21T11:25:35.294Z"
   },
   {
    "duration": 21,
    "start_time": "2025-03-21T11:25:35.318Z"
   },
   {
    "duration": 19,
    "start_time": "2025-03-21T11:25:35.340Z"
   },
   {
    "duration": 66,
    "start_time": "2025-03-21T11:25:35.360Z"
   },
   {
    "duration": 10,
    "start_time": "2025-03-21T11:25:35.427Z"
   },
   {
    "duration": 30,
    "start_time": "2025-03-21T11:25:35.438Z"
   },
   {
    "duration": 36,
    "start_time": "2025-03-21T11:25:35.470Z"
   },
   {
    "duration": 27,
    "start_time": "2025-03-21T11:25:35.508Z"
   },
   {
    "duration": 14,
    "start_time": "2025-03-21T11:25:35.539Z"
   },
   {
    "duration": 49,
    "start_time": "2025-03-21T11:25:35.555Z"
   },
   {
    "duration": 1583,
    "start_time": "2025-03-21T11:25:35.605Z"
   },
   {
    "duration": 494,
    "start_time": "2025-03-21T11:25:37.191Z"
   },
   {
    "duration": 950,
    "start_time": "2025-03-21T11:25:37.687Z"
   },
   {
    "duration": 3,
    "start_time": "2025-03-21T11:25:38.639Z"
   },
   {
    "duration": 6,
    "start_time": "2025-03-21T11:25:38.644Z"
   },
   {
    "duration": 32,
    "start_time": "2025-03-21T11:25:38.651Z"
   },
   {
    "duration": 22,
    "start_time": "2025-03-21T11:25:38.684Z"
   },
   {
    "duration": 7,
    "start_time": "2025-03-21T11:25:38.736Z"
   },
   {
    "duration": 3,
    "start_time": "2025-03-21T11:25:38.745Z"
   },
   {
    "duration": 940028,
    "start_time": "2025-03-21T11:25:38.750Z"
   },
   {
    "duration": 4,
    "start_time": "2025-03-21T11:41:18.780Z"
   },
   {
    "duration": 52998,
    "start_time": "2025-03-21T11:41:18.786Z"
   },
   {
    "duration": 4,
    "start_time": "2025-03-21T11:42:11.785Z"
   },
   {
    "duration": 1270452,
    "start_time": "2025-03-21T11:42:11.790Z"
   },
   {
    "duration": 3,
    "start_time": "2025-03-21T12:03:22.244Z"
   },
   {
    "duration": 148,
    "start_time": "2025-03-21T12:03:22.249Z"
   },
   {
    "duration": 1482,
    "start_time": "2025-03-21T12:03:22.399Z"
   },
   {
    "duration": 10,
    "start_time": "2025-03-21T12:03:23.882Z"
   },
   {
    "duration": 106,
    "start_time": "2025-03-21T12:03:23.894Z"
   },
   {
    "duration": 14753,
    "start_time": "2025-03-24T17:25:04.120Z"
   },
   {
    "duration": 1754,
    "start_time": "2025-03-24T17:25:18.875Z"
   },
   {
    "duration": 3,
    "start_time": "2025-03-24T17:25:20.630Z"
   },
   {
    "duration": 103,
    "start_time": "2025-03-24T17:25:20.635Z"
   },
   {
    "duration": 3,
    "start_time": "2025-03-24T17:25:20.739Z"
   },
   {
    "duration": 35,
    "start_time": "2025-03-24T17:25:20.744Z"
   },
   {
    "duration": 6,
    "start_time": "2025-03-24T17:25:20.780Z"
   },
   {
    "duration": 12,
    "start_time": "2025-03-24T17:25:20.788Z"
   },
   {
    "duration": 38,
    "start_time": "2025-03-24T17:25:20.802Z"
   },
   {
    "duration": 5,
    "start_time": "2025-03-24T17:25:20.843Z"
   },
   {
    "duration": 42,
    "start_time": "2025-03-24T17:25:20.849Z"
   },
   {
    "duration": 44,
    "start_time": "2025-03-24T17:25:20.892Z"
   },
   {
    "duration": 3,
    "start_time": "2025-03-24T17:25:20.938Z"
   },
   {
    "duration": 78,
    "start_time": "2025-03-24T17:25:20.943Z"
   },
   {
    "duration": 26,
    "start_time": "2025-03-24T17:25:21.023Z"
   },
   {
    "duration": 30,
    "start_time": "2025-03-24T17:25:21.051Z"
   },
   {
    "duration": 64,
    "start_time": "2025-03-24T17:25:21.082Z"
   },
   {
    "duration": 40,
    "start_time": "2025-03-24T17:25:21.148Z"
   },
   {
    "duration": 374,
    "start_time": "2025-03-24T17:25:21.189Z"
   },
   {
    "duration": 321,
    "start_time": "2025-03-24T17:25:21.565Z"
   },
   {
    "duration": 546,
    "start_time": "2025-03-24T17:25:21.887Z"
   },
   {
    "duration": 73,
    "start_time": "2025-03-24T17:25:22.435Z"
   },
   {
    "duration": 3,
    "start_time": "2025-03-24T17:25:22.510Z"
   },
   {
    "duration": 322,
    "start_time": "2025-03-24T17:25:22.530Z"
   },
   {
    "duration": 4,
    "start_time": "2025-03-24T17:25:22.854Z"
   },
   {
    "duration": 36,
    "start_time": "2025-03-24T17:25:22.859Z"
   },
   {
    "duration": 6,
    "start_time": "2025-03-24T17:25:22.897Z"
   },
   {
    "duration": 41,
    "start_time": "2025-03-24T17:25:22.906Z"
   },
   {
    "duration": 86,
    "start_time": "2025-03-24T17:25:22.949Z"
   },
   {
    "duration": 42,
    "start_time": "2025-03-24T17:25:23.036Z"
   },
   {
    "duration": 62,
    "start_time": "2025-03-24T17:25:23.079Z"
   },
   {
    "duration": 166,
    "start_time": "2025-03-24T17:25:23.142Z"
   },
   {
    "duration": 35,
    "start_time": "2025-03-24T17:25:23.309Z"
   },
   {
    "duration": 5,
    "start_time": "2025-03-24T17:25:23.345Z"
   },
   {
    "duration": 17,
    "start_time": "2025-03-24T17:25:23.351Z"
   },
   {
    "duration": 71,
    "start_time": "2025-03-24T17:25:23.370Z"
   },
   {
    "duration": 8,
    "start_time": "2025-03-24T17:25:23.443Z"
   },
   {
    "duration": 55,
    "start_time": "2025-03-24T17:25:23.453Z"
   },
   {
    "duration": 37,
    "start_time": "2025-03-24T17:25:23.510Z"
   },
   {
    "duration": 13,
    "start_time": "2025-03-24T17:25:23.549Z"
   },
   {
    "duration": 17,
    "start_time": "2025-03-24T17:25:23.563Z"
   },
   {
    "duration": 63,
    "start_time": "2025-03-24T17:25:23.581Z"
   },
   {
    "duration": 1543,
    "start_time": "2025-03-24T17:25:23.645Z"
   },
   {
    "duration": 507,
    "start_time": "2025-03-24T17:25:25.190Z"
   },
   {
    "duration": 966,
    "start_time": "2025-03-24T17:25:25.698Z"
   },
   {
    "duration": 4,
    "start_time": "2025-03-24T17:25:26.665Z"
   },
   {
    "duration": 18,
    "start_time": "2025-03-24T17:25:26.671Z"
   },
   {
    "duration": 32,
    "start_time": "2025-03-24T17:25:26.690Z"
   },
   {
    "duration": 132,
    "start_time": "2025-03-24T17:25:26.730Z"
   },
   {
    "duration": 0,
    "start_time": "2025-03-24T17:25:26.864Z"
   },
   {
    "duration": 0,
    "start_time": "2025-03-24T17:25:26.865Z"
   },
   {
    "duration": 0,
    "start_time": "2025-03-24T17:25:26.866Z"
   },
   {
    "duration": 0,
    "start_time": "2025-03-24T17:25:26.867Z"
   },
   {
    "duration": 0,
    "start_time": "2025-03-24T17:25:26.868Z"
   },
   {
    "duration": 0,
    "start_time": "2025-03-24T17:25:26.869Z"
   },
   {
    "duration": 0,
    "start_time": "2025-03-24T17:25:26.870Z"
   },
   {
    "duration": 0,
    "start_time": "2025-03-24T17:25:26.871Z"
   },
   {
    "duration": 0,
    "start_time": "2025-03-24T17:25:26.872Z"
   },
   {
    "duration": 0,
    "start_time": "2025-03-24T17:25:26.873Z"
   },
   {
    "duration": 0,
    "start_time": "2025-03-24T17:25:26.874Z"
   },
   {
    "duration": 0,
    "start_time": "2025-03-24T17:25:26.875Z"
   },
   {
    "duration": 76,
    "start_time": "2025-03-24T17:35:08.024Z"
   },
   {
    "duration": 13,
    "start_time": "2025-03-24T17:36:32.835Z"
   },
   {
    "duration": 135,
    "start_time": "2025-03-24T17:39:13.027Z"
   },
   {
    "duration": 143,
    "start_time": "2025-03-24T17:39:26.825Z"
   },
   {
    "duration": 7,
    "start_time": "2025-03-24T17:39:27.910Z"
   },
   {
    "duration": 3,
    "start_time": "2025-03-24T17:39:30.824Z"
   },
   {
    "duration": 920371,
    "start_time": "2025-03-24T17:39:31.304Z"
   },
   {
    "duration": 3,
    "start_time": "2025-03-24T17:54:51.677Z"
   },
   {
    "duration": 52855,
    "start_time": "2025-03-24T17:54:51.682Z"
   },
   {
    "duration": 4,
    "start_time": "2025-03-24T17:55:44.539Z"
   },
   {
    "duration": 50894,
    "start_time": "2025-03-24T17:55:44.544Z"
   },
   {
    "duration": 4,
    "start_time": "2025-03-24T17:56:35.440Z"
   },
   {
    "duration": 85,
    "start_time": "2025-03-24T17:56:35.446Z"
   },
   {
    "duration": 3924,
    "start_time": "2025-03-24T17:56:35.533Z"
   },
   {
    "duration": 11,
    "start_time": "2025-03-24T17:56:39.459Z"
   },
   {
    "duration": 3,
    "start_time": "2025-03-24T17:56:39.472Z"
   },
   {
    "duration": 374,
    "start_time": "2025-03-24T18:09:41.886Z"
   },
   {
    "duration": 39,
    "start_time": "2025-03-24T18:09:58.584Z"
   },
   {
    "duration": 16,
    "start_time": "2025-03-24T18:45:57.376Z"
   },
   {
    "duration": 17,
    "start_time": "2025-03-24T18:47:32.324Z"
   },
   {
    "duration": 5,
    "start_time": "2025-03-24T18:48:36.395Z"
   },
   {
    "duration": 81,
    "start_time": "2025-03-24T18:53:10.211Z"
   },
   {
    "duration": 90060,
    "start_time": "2025-03-24T18:53:28.664Z"
   },
   {
    "duration": 1998,
    "start_time": "2025-03-24T19:01:19.312Z"
   },
   {
    "duration": 1504,
    "start_time": "2025-03-24T19:01:52.969Z"
   },
   {
    "duration": 9348,
    "start_time": "2025-03-24T19:02:19.145Z"
   },
   {
    "duration": 2147,
    "start_time": "2025-03-24T19:02:28.496Z"
   },
   {
    "duration": 2,
    "start_time": "2025-03-24T19:02:30.645Z"
   },
   {
    "duration": 121,
    "start_time": "2025-03-24T19:02:30.649Z"
   },
   {
    "duration": 2,
    "start_time": "2025-03-24T19:02:30.773Z"
   },
   {
    "duration": 57,
    "start_time": "2025-03-24T19:02:30.777Z"
   },
   {
    "duration": 6,
    "start_time": "2025-03-24T19:02:30.835Z"
   },
   {
    "duration": 11,
    "start_time": "2025-03-24T19:02:30.842Z"
   },
   {
    "duration": 38,
    "start_time": "2025-03-24T19:02:30.854Z"
   },
   {
    "duration": 6,
    "start_time": "2025-03-24T19:02:30.894Z"
   },
   {
    "duration": 56,
    "start_time": "2025-03-24T19:02:30.901Z"
   },
   {
    "duration": 34,
    "start_time": "2025-03-24T19:02:30.958Z"
   },
   {
    "duration": 3,
    "start_time": "2025-03-24T19:02:30.994Z"
   },
   {
    "duration": 18,
    "start_time": "2025-03-24T19:02:31.002Z"
   },
   {
    "duration": 20,
    "start_time": "2025-03-24T19:02:31.022Z"
   },
   {
    "duration": 17,
    "start_time": "2025-03-24T19:02:31.044Z"
   },
   {
    "duration": 31,
    "start_time": "2025-03-24T19:02:31.063Z"
   },
   {
    "duration": 7,
    "start_time": "2025-03-24T19:02:31.096Z"
   },
   {
    "duration": 385,
    "start_time": "2025-03-24T19:02:31.104Z"
   },
   {
    "duration": 312,
    "start_time": "2025-03-24T19:02:31.490Z"
   },
   {
    "duration": 564,
    "start_time": "2025-03-24T19:02:31.803Z"
   },
   {
    "duration": 82,
    "start_time": "2025-03-24T19:02:32.369Z"
   },
   {
    "duration": 4,
    "start_time": "2025-03-24T19:02:32.452Z"
   },
   {
    "duration": 387,
    "start_time": "2025-03-24T19:02:32.458Z"
   },
   {
    "duration": 3,
    "start_time": "2025-03-24T19:02:32.847Z"
   },
   {
    "duration": 33,
    "start_time": "2025-03-24T19:02:32.852Z"
   },
   {
    "duration": 3,
    "start_time": "2025-03-24T19:02:32.886Z"
   },
   {
    "duration": 19,
    "start_time": "2025-03-24T19:02:32.890Z"
   },
   {
    "duration": 19,
    "start_time": "2025-03-24T19:02:32.911Z"
   },
   {
    "duration": 68,
    "start_time": "2025-03-24T19:02:32.932Z"
   },
   {
    "duration": 20,
    "start_time": "2025-03-24T19:02:33.002Z"
   },
   {
    "duration": 161,
    "start_time": "2025-03-24T19:02:33.024Z"
   },
   {
    "duration": 25,
    "start_time": "2025-03-24T19:02:33.186Z"
   },
   {
    "duration": 5,
    "start_time": "2025-03-24T19:02:33.229Z"
   },
   {
    "duration": 16,
    "start_time": "2025-03-24T19:02:33.235Z"
   },
   {
    "duration": 60,
    "start_time": "2025-03-24T19:02:33.252Z"
   },
   {
    "duration": 9,
    "start_time": "2025-03-24T19:02:33.314Z"
   },
   {
    "duration": 28,
    "start_time": "2025-03-24T19:02:33.325Z"
   },
   {
    "duration": 45,
    "start_time": "2025-03-24T19:02:33.355Z"
   },
   {
    "duration": 15,
    "start_time": "2025-03-24T19:02:33.402Z"
   },
   {
    "duration": 16,
    "start_time": "2025-03-24T19:02:33.421Z"
   },
   {
    "duration": 149,
    "start_time": "2025-03-24T19:02:33.438Z"
   },
   {
    "duration": 1579,
    "start_time": "2025-03-24T19:02:33.588Z"
   },
   {
    "duration": 412,
    "start_time": "2025-03-24T19:02:35.168Z"
   },
   {
    "duration": 1151,
    "start_time": "2025-03-24T19:02:35.582Z"
   },
   {
    "duration": 5,
    "start_time": "2025-03-24T19:02:36.734Z"
   },
   {
    "duration": 13,
    "start_time": "2025-03-24T19:02:36.741Z"
   },
   {
    "duration": 82,
    "start_time": "2025-03-24T19:02:36.755Z"
   },
   {
    "duration": 224,
    "start_time": "2025-03-24T19:02:36.839Z"
   },
   {
    "duration": 0,
    "start_time": "2025-03-24T19:02:37.064Z"
   },
   {
    "duration": 0,
    "start_time": "2025-03-24T19:02:37.065Z"
   },
   {
    "duration": 0,
    "start_time": "2025-03-24T19:02:37.067Z"
   },
   {
    "duration": 0,
    "start_time": "2025-03-24T19:02:37.068Z"
   },
   {
    "duration": 0,
    "start_time": "2025-03-24T19:02:37.069Z"
   },
   {
    "duration": 0,
    "start_time": "2025-03-24T19:02:37.070Z"
   },
   {
    "duration": 0,
    "start_time": "2025-03-24T19:02:37.071Z"
   },
   {
    "duration": 0,
    "start_time": "2025-03-24T19:02:37.072Z"
   },
   {
    "duration": 0,
    "start_time": "2025-03-24T19:02:37.130Z"
   },
   {
    "duration": 0,
    "start_time": "2025-03-24T19:02:37.131Z"
   },
   {
    "duration": 0,
    "start_time": "2025-03-24T19:02:37.132Z"
   },
   {
    "duration": 0,
    "start_time": "2025-03-24T19:02:37.133Z"
   },
   {
    "duration": 18,
    "start_time": "2025-03-24T19:05:54.267Z"
   },
   {
    "duration": 13,
    "start_time": "2025-03-24T19:06:12.438Z"
   },
   {
    "duration": 13,
    "start_time": "2025-03-24T19:06:19.947Z"
   },
   {
    "duration": 11,
    "start_time": "2025-03-24T19:06:26.741Z"
   },
   {
    "duration": 12,
    "start_time": "2025-03-24T19:06:36.634Z"
   },
   {
    "duration": 14,
    "start_time": "2025-03-24T19:06:57.407Z"
   },
   {
    "duration": 12,
    "start_time": "2025-03-24T19:07:08.440Z"
   },
   {
    "duration": 9866,
    "start_time": "2025-03-24T19:07:16.516Z"
   },
   {
    "duration": 1466,
    "start_time": "2025-03-24T19:07:26.384Z"
   },
   {
    "duration": 2,
    "start_time": "2025-03-24T19:07:27.851Z"
   },
   {
    "duration": 99,
    "start_time": "2025-03-24T19:07:27.854Z"
   },
   {
    "duration": 2,
    "start_time": "2025-03-24T19:07:27.955Z"
   },
   {
    "duration": 37,
    "start_time": "2025-03-24T19:07:27.959Z"
   },
   {
    "duration": 7,
    "start_time": "2025-03-24T19:07:27.998Z"
   },
   {
    "duration": 8,
    "start_time": "2025-03-24T19:07:28.006Z"
   },
   {
    "duration": 35,
    "start_time": "2025-03-24T19:07:28.015Z"
   },
   {
    "duration": 5,
    "start_time": "2025-03-24T19:07:28.052Z"
   },
   {
    "duration": 40,
    "start_time": "2025-03-24T19:07:28.059Z"
   },
   {
    "duration": 48,
    "start_time": "2025-03-24T19:07:28.101Z"
   },
   {
    "duration": 3,
    "start_time": "2025-03-24T19:07:28.151Z"
   },
   {
    "duration": 10,
    "start_time": "2025-03-24T19:07:28.157Z"
   },
   {
    "duration": 12,
    "start_time": "2025-03-24T19:07:28.168Z"
   },
   {
    "duration": 50,
    "start_time": "2025-03-24T19:07:28.181Z"
   },
   {
    "duration": 5,
    "start_time": "2025-03-24T19:07:28.232Z"
   },
   {
    "duration": 6,
    "start_time": "2025-03-24T19:07:28.238Z"
   },
   {
    "duration": 358,
    "start_time": "2025-03-24T19:07:28.245Z"
   },
   {
    "duration": 289,
    "start_time": "2025-03-24T19:07:28.605Z"
   },
   {
    "duration": 509,
    "start_time": "2025-03-24T19:07:28.895Z"
   },
   {
    "duration": 84,
    "start_time": "2025-03-24T19:07:29.406Z"
   },
   {
    "duration": 4,
    "start_time": "2025-03-24T19:07:29.492Z"
   },
   {
    "duration": 389,
    "start_time": "2025-03-24T19:07:29.497Z"
   },
   {
    "duration": 3,
    "start_time": "2025-03-24T19:07:29.888Z"
   },
   {
    "duration": 17,
    "start_time": "2025-03-24T19:07:29.893Z"
   },
   {
    "duration": 3,
    "start_time": "2025-03-24T19:07:29.929Z"
   },
   {
    "duration": 27,
    "start_time": "2025-03-24T19:07:29.933Z"
   },
   {
    "duration": 13,
    "start_time": "2025-03-24T19:07:29.961Z"
   },
   {
    "duration": 11,
    "start_time": "2025-03-24T19:07:29.976Z"
   },
   {
    "duration": 12,
    "start_time": "2025-03-24T19:07:29.988Z"
   },
   {
    "duration": 201,
    "start_time": "2025-03-24T19:07:30.002Z"
   },
   {
    "duration": 32,
    "start_time": "2025-03-24T19:07:30.205Z"
   },
   {
    "duration": 4,
    "start_time": "2025-03-24T19:07:30.239Z"
   },
   {
    "duration": 59,
    "start_time": "2025-03-24T19:07:30.244Z"
   },
   {
    "duration": 61,
    "start_time": "2025-03-24T19:07:30.305Z"
   },
   {
    "duration": 11,
    "start_time": "2025-03-24T19:07:30.367Z"
   },
   {
    "duration": 55,
    "start_time": "2025-03-24T19:07:30.379Z"
   },
   {
    "duration": 26,
    "start_time": "2025-03-24T19:07:30.436Z"
   },
   {
    "duration": 185,
    "start_time": "2025-03-24T19:07:30.464Z"
   },
   {
    "duration": 12,
    "start_time": "2025-03-24T19:07:30.654Z"
   },
   {
    "duration": 49,
    "start_time": "2025-03-24T19:07:30.668Z"
   },
   {
    "duration": 1490,
    "start_time": "2025-03-24T19:07:30.729Z"
   },
   {
    "duration": 452,
    "start_time": "2025-03-24T19:07:32.221Z"
   },
   {
    "duration": 928,
    "start_time": "2025-03-24T19:07:32.675Z"
   },
   {
    "duration": 5,
    "start_time": "2025-03-24T19:07:33.605Z"
   },
   {
    "duration": 19,
    "start_time": "2025-03-24T19:07:33.611Z"
   },
   {
    "duration": 37,
    "start_time": "2025-03-24T19:07:33.631Z"
   },
   {
    "duration": 18,
    "start_time": "2025-03-24T19:07:33.670Z"
   },
   {
    "duration": 7,
    "start_time": "2025-03-24T19:07:33.690Z"
   },
   {
    "duration": 3,
    "start_time": "2025-03-24T19:07:33.699Z"
   },
   {
    "duration": 98909,
    "start_time": "2025-03-24T19:07:33.703Z"
   },
   {
    "duration": 0,
    "start_time": "2025-03-24T19:09:12.614Z"
   },
   {
    "duration": 0,
    "start_time": "2025-03-24T19:09:12.615Z"
   },
   {
    "duration": 0,
    "start_time": "2025-03-24T19:09:12.616Z"
   },
   {
    "duration": 0,
    "start_time": "2025-03-24T19:09:12.618Z"
   },
   {
    "duration": 0,
    "start_time": "2025-03-24T19:09:12.619Z"
   },
   {
    "duration": 0,
    "start_time": "2025-03-24T19:09:12.620Z"
   },
   {
    "duration": 0,
    "start_time": "2025-03-24T19:09:12.621Z"
   },
   {
    "duration": 0,
    "start_time": "2025-03-24T19:09:12.622Z"
   },
   {
    "duration": 0,
    "start_time": "2025-03-24T19:09:12.624Z"
   },
   {
    "duration": 14,
    "start_time": "2025-03-24T19:10:21.864Z"
   },
   {
    "duration": 10144,
    "start_time": "2025-03-24T19:10:28.330Z"
   },
   {
    "duration": 1523,
    "start_time": "2025-03-24T19:10:38.476Z"
   },
   {
    "duration": 3,
    "start_time": "2025-03-24T19:10:40.001Z"
   },
   {
    "duration": 98,
    "start_time": "2025-03-24T19:10:40.005Z"
   },
   {
    "duration": 3,
    "start_time": "2025-03-24T19:10:40.105Z"
   },
   {
    "duration": 36,
    "start_time": "2025-03-24T19:10:40.111Z"
   },
   {
    "duration": 6,
    "start_time": "2025-03-24T19:10:40.148Z"
   },
   {
    "duration": 13,
    "start_time": "2025-03-24T19:10:40.155Z"
   },
   {
    "duration": 26,
    "start_time": "2025-03-24T19:10:40.170Z"
   },
   {
    "duration": 32,
    "start_time": "2025-03-24T19:10:40.198Z"
   },
   {
    "duration": 47,
    "start_time": "2025-03-24T19:10:40.232Z"
   },
   {
    "duration": 25,
    "start_time": "2025-03-24T19:10:40.281Z"
   },
   {
    "duration": 24,
    "start_time": "2025-03-24T19:10:40.308Z"
   },
   {
    "duration": 13,
    "start_time": "2025-03-24T19:10:40.334Z"
   },
   {
    "duration": 11,
    "start_time": "2025-03-24T19:10:40.348Z"
   },
   {
    "duration": 16,
    "start_time": "2025-03-24T19:10:40.360Z"
   },
   {
    "duration": 6,
    "start_time": "2025-03-24T19:10:40.377Z"
   },
   {
    "duration": 21,
    "start_time": "2025-03-24T19:10:40.384Z"
   },
   {
    "duration": 369,
    "start_time": "2025-03-24T19:10:40.407Z"
   },
   {
    "duration": 316,
    "start_time": "2025-03-24T19:10:40.778Z"
   },
   {
    "duration": 579,
    "start_time": "2025-03-24T19:10:41.096Z"
   },
   {
    "duration": 95,
    "start_time": "2025-03-24T19:10:41.677Z"
   },
   {
    "duration": 4,
    "start_time": "2025-03-24T19:10:41.774Z"
   },
   {
    "duration": 342,
    "start_time": "2025-03-24T19:10:41.779Z"
   },
   {
    "duration": 9,
    "start_time": "2025-03-24T19:10:42.122Z"
   },
   {
    "duration": 29,
    "start_time": "2025-03-24T19:10:42.132Z"
   },
   {
    "duration": 3,
    "start_time": "2025-03-24T19:10:42.163Z"
   },
   {
    "duration": 17,
    "start_time": "2025-03-24T19:10:42.169Z"
   },
   {
    "duration": 12,
    "start_time": "2025-03-24T19:10:42.187Z"
   },
   {
    "duration": 40,
    "start_time": "2025-03-24T19:10:42.201Z"
   },
   {
    "duration": 15,
    "start_time": "2025-03-24T19:10:42.242Z"
   },
   {
    "duration": 195,
    "start_time": "2025-03-24T19:10:42.258Z"
   },
   {
    "duration": 24,
    "start_time": "2025-03-24T19:10:42.455Z"
   },
   {
    "duration": 13,
    "start_time": "2025-03-24T19:10:42.480Z"
   },
   {
    "duration": 7,
    "start_time": "2025-03-24T19:10:42.494Z"
   },
   {
    "duration": 69,
    "start_time": "2025-03-24T19:10:42.502Z"
   },
   {
    "duration": 9,
    "start_time": "2025-03-24T19:10:42.573Z"
   },
   {
    "duration": 59,
    "start_time": "2025-03-24T19:10:42.584Z"
   },
   {
    "duration": 25,
    "start_time": "2025-03-24T19:10:42.645Z"
   },
   {
    "duration": 14,
    "start_time": "2025-03-24T19:10:42.672Z"
   },
   {
    "duration": 12,
    "start_time": "2025-03-24T19:10:42.687Z"
   },
   {
    "duration": 71,
    "start_time": "2025-03-24T19:10:42.701Z"
   },
   {
    "duration": 1574,
    "start_time": "2025-03-24T19:10:42.773Z"
   },
   {
    "duration": 424,
    "start_time": "2025-03-24T19:10:44.348Z"
   },
   {
    "duration": 1165,
    "start_time": "2025-03-24T19:10:44.774Z"
   },
   {
    "duration": 3,
    "start_time": "2025-03-24T19:10:45.941Z"
   },
   {
    "duration": 11,
    "start_time": "2025-03-24T19:10:45.946Z"
   },
   {
    "duration": 80,
    "start_time": "2025-03-24T19:10:45.959Z"
   },
   {
    "duration": 24,
    "start_time": "2025-03-24T19:10:46.041Z"
   },
   {
    "duration": 6,
    "start_time": "2025-03-24T19:10:46.066Z"
   },
   {
    "duration": 58,
    "start_time": "2025-03-24T19:10:46.074Z"
   },
   {
    "duration": 151903,
    "start_time": "2025-03-24T19:10:46.133Z"
   },
   {
    "duration": 0,
    "start_time": "2025-03-24T19:13:18.038Z"
   },
   {
    "duration": 0,
    "start_time": "2025-03-24T19:13:18.039Z"
   },
   {
    "duration": 0,
    "start_time": "2025-03-24T19:13:18.040Z"
   },
   {
    "duration": 0,
    "start_time": "2025-03-24T19:13:18.042Z"
   },
   {
    "duration": 0,
    "start_time": "2025-03-24T19:13:18.043Z"
   },
   {
    "duration": 0,
    "start_time": "2025-03-24T19:13:18.045Z"
   },
   {
    "duration": 0,
    "start_time": "2025-03-24T19:13:18.046Z"
   },
   {
    "duration": 0,
    "start_time": "2025-03-24T19:13:18.048Z"
   },
   {
    "duration": 0,
    "start_time": "2025-03-24T19:13:18.049Z"
   },
   {
    "duration": 0,
    "start_time": "2025-03-24T19:13:18.050Z"
   },
   {
    "duration": 14,
    "start_time": "2025-03-24T19:13:19.699Z"
   },
   {
    "duration": 26,
    "start_time": "2025-03-24T19:19:41.522Z"
   },
   {
    "duration": 21,
    "start_time": "2025-03-24T19:24:53.387Z"
   },
   {
    "duration": 10021,
    "start_time": "2025-03-24T19:25:05.596Z"
   },
   {
    "duration": 1578,
    "start_time": "2025-03-24T19:25:15.619Z"
   },
   {
    "duration": 2,
    "start_time": "2025-03-24T19:25:17.199Z"
   },
   {
    "duration": 84,
    "start_time": "2025-03-24T19:25:17.203Z"
   },
   {
    "duration": 2,
    "start_time": "2025-03-24T19:25:17.289Z"
   },
   {
    "duration": 37,
    "start_time": "2025-03-24T19:25:17.292Z"
   },
   {
    "duration": 6,
    "start_time": "2025-03-24T19:25:17.330Z"
   },
   {
    "duration": 6,
    "start_time": "2025-03-24T19:25:17.337Z"
   },
   {
    "duration": 35,
    "start_time": "2025-03-24T19:25:17.344Z"
   },
   {
    "duration": 6,
    "start_time": "2025-03-24T19:25:17.381Z"
   },
   {
    "duration": 67,
    "start_time": "2025-03-24T19:25:17.388Z"
   },
   {
    "duration": 27,
    "start_time": "2025-03-24T19:25:17.456Z"
   },
   {
    "duration": 4,
    "start_time": "2025-03-24T19:25:17.485Z"
   },
   {
    "duration": 45,
    "start_time": "2025-03-24T19:25:17.491Z"
   },
   {
    "duration": 24,
    "start_time": "2025-03-24T19:25:17.538Z"
   },
   {
    "duration": 18,
    "start_time": "2025-03-24T19:25:17.563Z"
   },
   {
    "duration": 5,
    "start_time": "2025-03-24T19:25:17.583Z"
   },
   {
    "duration": 5,
    "start_time": "2025-03-24T19:25:17.589Z"
   },
   {
    "duration": 379,
    "start_time": "2025-03-24T19:25:17.596Z"
   },
   {
    "duration": 301,
    "start_time": "2025-03-24T19:25:17.977Z"
   },
   {
    "duration": 524,
    "start_time": "2025-03-24T19:25:18.280Z"
   },
   {
    "duration": 82,
    "start_time": "2025-03-24T19:25:18.805Z"
   },
   {
    "duration": 4,
    "start_time": "2025-03-24T19:25:18.888Z"
   },
   {
    "duration": 330,
    "start_time": "2025-03-24T19:25:18.893Z"
   },
   {
    "duration": 3,
    "start_time": "2025-03-24T19:25:19.229Z"
   },
   {
    "duration": 20,
    "start_time": "2025-03-24T19:25:19.234Z"
   },
   {
    "duration": 5,
    "start_time": "2025-03-24T19:25:19.255Z"
   },
   {
    "duration": 14,
    "start_time": "2025-03-24T19:25:19.261Z"
   },
   {
    "duration": 11,
    "start_time": "2025-03-24T19:25:19.277Z"
   },
   {
    "duration": 48,
    "start_time": "2025-03-24T19:25:19.290Z"
   },
   {
    "duration": 10,
    "start_time": "2025-03-24T19:25:19.339Z"
   },
   {
    "duration": 177,
    "start_time": "2025-03-24T19:25:19.350Z"
   },
   {
    "duration": 23,
    "start_time": "2025-03-24T19:25:19.530Z"
   },
   {
    "duration": 5,
    "start_time": "2025-03-24T19:25:19.554Z"
   },
   {
    "duration": 13,
    "start_time": "2025-03-24T19:25:19.560Z"
   },
   {
    "duration": 69,
    "start_time": "2025-03-24T19:25:19.575Z"
   },
   {
    "duration": 38,
    "start_time": "2025-03-24T19:25:19.645Z"
   },
   {
    "duration": 33,
    "start_time": "2025-03-24T19:25:19.685Z"
   },
   {
    "duration": 26,
    "start_time": "2025-03-24T19:25:19.719Z"
   },
   {
    "duration": 14,
    "start_time": "2025-03-24T19:25:19.747Z"
   },
   {
    "duration": 14,
    "start_time": "2025-03-24T19:25:19.765Z"
   },
   {
    "duration": 67,
    "start_time": "2025-03-24T19:25:19.781Z"
   },
   {
    "duration": 1489,
    "start_time": "2025-03-24T19:25:19.850Z"
   },
   {
    "duration": 453,
    "start_time": "2025-03-24T19:25:21.340Z"
   },
   {
    "duration": 962,
    "start_time": "2025-03-24T19:25:21.795Z"
   },
   {
    "duration": 3,
    "start_time": "2025-03-24T19:25:22.759Z"
   },
   {
    "duration": 6,
    "start_time": "2025-03-24T19:25:22.764Z"
   },
   {
    "duration": 33,
    "start_time": "2025-03-24T19:25:22.772Z"
   },
   {
    "duration": 148,
    "start_time": "2025-03-24T19:25:22.806Z"
   },
   {
    "duration": 0,
    "start_time": "2025-03-24T19:25:22.956Z"
   },
   {
    "duration": 0,
    "start_time": "2025-03-24T19:25:22.957Z"
   },
   {
    "duration": 0,
    "start_time": "2025-03-24T19:25:22.958Z"
   },
   {
    "duration": 0,
    "start_time": "2025-03-24T19:25:22.960Z"
   },
   {
    "duration": 0,
    "start_time": "2025-03-24T19:25:22.960Z"
   },
   {
    "duration": 0,
    "start_time": "2025-03-24T19:25:22.962Z"
   },
   {
    "duration": 0,
    "start_time": "2025-03-24T19:25:22.963Z"
   },
   {
    "duration": 0,
    "start_time": "2025-03-24T19:25:22.964Z"
   },
   {
    "duration": 0,
    "start_time": "2025-03-24T19:25:22.965Z"
   },
   {
    "duration": 0,
    "start_time": "2025-03-24T19:25:22.966Z"
   },
   {
    "duration": 0,
    "start_time": "2025-03-24T19:25:22.967Z"
   },
   {
    "duration": 0,
    "start_time": "2025-03-24T19:25:22.969Z"
   },
   {
    "duration": 11,
    "start_time": "2025-03-24T19:31:15.441Z"
   },
   {
    "duration": 50,
    "start_time": "2025-03-24T19:32:44.136Z"
   },
   {
    "duration": 19,
    "start_time": "2025-03-24T19:33:30.643Z"
   },
   {
    "duration": 43,
    "start_time": "2025-03-24T19:34:24.318Z"
   },
   {
    "duration": 12,
    "start_time": "2025-03-24T19:36:52.432Z"
   },
   {
    "duration": 16,
    "start_time": "2025-03-24T19:37:00.890Z"
   },
   {
    "duration": 4,
    "start_time": "2025-03-24T19:42:35.685Z"
   },
   {
    "duration": 7,
    "start_time": "2025-03-24T19:42:36.151Z"
   },
   {
    "duration": 4,
    "start_time": "2025-03-24T19:42:36.732Z"
   },
   {
    "duration": 74,
    "start_time": "2025-03-24T19:42:37.571Z"
   },
   {
    "duration": 10119,
    "start_time": "2025-03-24T19:42:45.753Z"
   },
   {
    "duration": 1649,
    "start_time": "2025-03-24T19:42:55.875Z"
   },
   {
    "duration": 2,
    "start_time": "2025-03-24T19:42:57.526Z"
   },
   {
    "duration": 100,
    "start_time": "2025-03-24T19:42:57.530Z"
   },
   {
    "duration": 3,
    "start_time": "2025-03-24T19:42:57.632Z"
   },
   {
    "duration": 37,
    "start_time": "2025-03-24T19:42:57.636Z"
   },
   {
    "duration": 7,
    "start_time": "2025-03-24T19:42:57.674Z"
   },
   {
    "duration": 58,
    "start_time": "2025-03-24T19:42:57.682Z"
   },
   {
    "duration": 31,
    "start_time": "2025-03-24T19:42:57.742Z"
   },
   {
    "duration": 6,
    "start_time": "2025-03-24T19:42:57.774Z"
   },
   {
    "duration": 52,
    "start_time": "2025-03-24T19:42:57.782Z"
   },
   {
    "duration": 25,
    "start_time": "2025-03-24T19:42:57.836Z"
   },
   {
    "duration": 4,
    "start_time": "2025-03-24T19:42:57.862Z"
   },
   {
    "duration": 11,
    "start_time": "2025-03-24T19:42:57.869Z"
   },
   {
    "duration": 11,
    "start_time": "2025-03-24T19:42:57.881Z"
   },
   {
    "duration": 45,
    "start_time": "2025-03-24T19:42:57.894Z"
   },
   {
    "duration": 5,
    "start_time": "2025-03-24T19:42:57.940Z"
   },
   {
    "duration": 4,
    "start_time": "2025-03-24T19:42:57.946Z"
   },
   {
    "duration": 387,
    "start_time": "2025-03-24T19:42:57.952Z"
   },
   {
    "duration": 314,
    "start_time": "2025-03-24T19:42:58.340Z"
   },
   {
    "duration": 639,
    "start_time": "2025-03-24T19:42:58.655Z"
   },
   {
    "duration": 86,
    "start_time": "2025-03-24T19:42:59.295Z"
   },
   {
    "duration": 4,
    "start_time": "2025-03-24T19:42:59.383Z"
   },
   {
    "duration": 342,
    "start_time": "2025-03-24T19:42:59.388Z"
   },
   {
    "duration": 3,
    "start_time": "2025-03-24T19:42:59.732Z"
   },
   {
    "duration": 38,
    "start_time": "2025-03-24T19:42:59.736Z"
   },
   {
    "duration": 3,
    "start_time": "2025-03-24T19:42:59.776Z"
   },
   {
    "duration": 19,
    "start_time": "2025-03-24T19:42:59.780Z"
   },
   {
    "duration": 12,
    "start_time": "2025-03-24T19:42:59.801Z"
   },
   {
    "duration": 16,
    "start_time": "2025-03-24T19:42:59.836Z"
   },
   {
    "duration": 12,
    "start_time": "2025-03-24T19:42:59.854Z"
   },
   {
    "duration": 209,
    "start_time": "2025-03-24T19:42:59.868Z"
   },
   {
    "duration": 26,
    "start_time": "2025-03-24T19:43:00.080Z"
   },
   {
    "duration": 26,
    "start_time": "2025-03-24T19:43:00.108Z"
   },
   {
    "duration": 28,
    "start_time": "2025-03-24T19:43:00.136Z"
   },
   {
    "duration": 100,
    "start_time": "2025-03-24T19:43:00.166Z"
   },
   {
    "duration": 9,
    "start_time": "2025-03-24T19:43:00.268Z"
   },
   {
    "duration": 56,
    "start_time": "2025-03-24T19:43:00.279Z"
   },
   {
    "duration": 28,
    "start_time": "2025-03-24T19:43:00.337Z"
   },
   {
    "duration": 19,
    "start_time": "2025-03-24T19:43:00.367Z"
   },
   {
    "duration": 26,
    "start_time": "2025-03-24T19:43:00.391Z"
   },
   {
    "duration": 68,
    "start_time": "2025-03-24T19:43:00.419Z"
   },
   {
    "duration": 1702,
    "start_time": "2025-03-24T19:43:00.489Z"
   },
   {
    "duration": 482,
    "start_time": "2025-03-24T19:43:02.193Z"
   },
   {
    "duration": 1004,
    "start_time": "2025-03-24T19:43:02.677Z"
   },
   {
    "duration": 4,
    "start_time": "2025-03-24T19:43:03.684Z"
   },
   {
    "duration": 88,
    "start_time": "2025-03-24T19:43:03.690Z"
   },
   {
    "duration": 15,
    "start_time": "2025-03-24T19:43:03.780Z"
   },
   {
    "duration": 190,
    "start_time": "2025-03-24T19:43:03.796Z"
   },
   {
    "duration": 0,
    "start_time": "2025-03-24T19:43:03.988Z"
   },
   {
    "duration": 0,
    "start_time": "2025-03-24T19:43:03.990Z"
   },
   {
    "duration": 0,
    "start_time": "2025-03-24T19:43:03.991Z"
   },
   {
    "duration": 0,
    "start_time": "2025-03-24T19:43:03.993Z"
   },
   {
    "duration": 0,
    "start_time": "2025-03-24T19:43:03.995Z"
   },
   {
    "duration": 0,
    "start_time": "2025-03-24T19:43:03.996Z"
   },
   {
    "duration": 0,
    "start_time": "2025-03-24T19:43:03.997Z"
   },
   {
    "duration": 0,
    "start_time": "2025-03-24T19:43:03.999Z"
   },
   {
    "duration": 0,
    "start_time": "2025-03-24T19:43:04.001Z"
   },
   {
    "duration": 0,
    "start_time": "2025-03-24T19:43:04.002Z"
   },
   {
    "duration": 0,
    "start_time": "2025-03-24T19:43:04.003Z"
   },
   {
    "duration": 0,
    "start_time": "2025-03-24T19:43:04.005Z"
   },
   {
    "duration": 0,
    "start_time": "2025-03-24T19:43:04.031Z"
   },
   {
    "duration": 19,
    "start_time": "2025-03-24T19:43:14.061Z"
   },
   {
    "duration": 10081,
    "start_time": "2025-03-24T19:59:27.271Z"
   },
   {
    "duration": 1523,
    "start_time": "2025-03-24T19:59:37.354Z"
   },
   {
    "duration": 2,
    "start_time": "2025-03-24T19:59:38.879Z"
   },
   {
    "duration": 97,
    "start_time": "2025-03-24T19:59:38.882Z"
   },
   {
    "duration": 3,
    "start_time": "2025-03-24T19:59:38.981Z"
   },
   {
    "duration": 41,
    "start_time": "2025-03-24T19:59:38.985Z"
   },
   {
    "duration": 7,
    "start_time": "2025-03-24T19:59:39.027Z"
   },
   {
    "duration": 7,
    "start_time": "2025-03-24T19:59:39.035Z"
   },
   {
    "duration": 25,
    "start_time": "2025-03-24T19:59:39.043Z"
   },
   {
    "duration": 6,
    "start_time": "2025-03-24T19:59:39.069Z"
   },
   {
    "duration": 72,
    "start_time": "2025-03-24T19:59:39.077Z"
   },
   {
    "duration": 24,
    "start_time": "2025-03-24T19:59:39.150Z"
   },
   {
    "duration": 4,
    "start_time": "2025-03-24T19:59:39.175Z"
   },
   {
    "duration": 31,
    "start_time": "2025-03-24T19:59:39.181Z"
   },
   {
    "duration": 17,
    "start_time": "2025-03-24T19:59:39.213Z"
   },
   {
    "duration": 15,
    "start_time": "2025-03-24T19:59:39.231Z"
   },
   {
    "duration": 5,
    "start_time": "2025-03-24T19:59:39.248Z"
   },
   {
    "duration": 4,
    "start_time": "2025-03-24T19:59:39.254Z"
   },
   {
    "duration": 363,
    "start_time": "2025-03-24T19:59:39.260Z"
   },
   {
    "duration": 308,
    "start_time": "2025-03-24T19:59:39.629Z"
   },
   {
    "duration": 534,
    "start_time": "2025-03-24T19:59:39.939Z"
   },
   {
    "duration": 87,
    "start_time": "2025-03-24T19:59:40.474Z"
   },
   {
    "duration": 4,
    "start_time": "2025-03-24T19:59:40.562Z"
   },
   {
    "duration": 358,
    "start_time": "2025-03-24T19:59:40.567Z"
   },
   {
    "duration": 4,
    "start_time": "2025-03-24T19:59:40.926Z"
   },
   {
    "duration": 18,
    "start_time": "2025-03-24T19:59:40.933Z"
   },
   {
    "duration": 3,
    "start_time": "2025-03-24T19:59:40.953Z"
   },
   {
    "duration": 17,
    "start_time": "2025-03-24T19:59:40.958Z"
   },
   {
    "duration": 59,
    "start_time": "2025-03-24T19:59:40.976Z"
   },
   {
    "duration": 15,
    "start_time": "2025-03-24T19:59:41.036Z"
   },
   {
    "duration": 9,
    "start_time": "2025-03-24T19:59:41.053Z"
   },
   {
    "duration": 204,
    "start_time": "2025-03-24T19:59:41.064Z"
   },
   {
    "duration": 23,
    "start_time": "2025-03-24T19:59:41.269Z"
   },
   {
    "duration": 4,
    "start_time": "2025-03-24T19:59:41.294Z"
   },
   {
    "duration": 35,
    "start_time": "2025-03-24T19:59:41.300Z"
   },
   {
    "duration": 72,
    "start_time": "2025-03-24T19:59:41.337Z"
   },
   {
    "duration": 10,
    "start_time": "2025-03-24T19:59:41.411Z"
   },
   {
    "duration": 45,
    "start_time": "2025-03-24T19:59:41.431Z"
   },
   {
    "duration": 56,
    "start_time": "2025-03-24T19:59:41.478Z"
   },
   {
    "duration": 23,
    "start_time": "2025-03-24T19:59:41.536Z"
   },
   {
    "duration": 14,
    "start_time": "2025-03-24T19:59:41.562Z"
   },
   {
    "duration": 75,
    "start_time": "2025-03-24T19:59:41.577Z"
   },
   {
    "duration": 1572,
    "start_time": "2025-03-24T19:59:41.654Z"
   },
   {
    "duration": 447,
    "start_time": "2025-03-24T19:59:43.228Z"
   },
   {
    "duration": 1003,
    "start_time": "2025-03-24T19:59:43.677Z"
   },
   {
    "duration": 5,
    "start_time": "2025-03-24T19:59:44.682Z"
   },
   {
    "duration": 81,
    "start_time": "2025-03-24T19:59:44.688Z"
   },
   {
    "duration": 3,
    "start_time": "2025-03-24T19:59:44.770Z"
   },
   {
    "duration": 113,
    "start_time": "2025-03-24T19:59:44.775Z"
   },
   {
    "duration": 0,
    "start_time": "2025-03-24T19:59:44.890Z"
   },
   {
    "duration": 0,
    "start_time": "2025-03-24T19:59:44.892Z"
   },
   {
    "duration": 0,
    "start_time": "2025-03-24T19:59:44.894Z"
   },
   {
    "duration": 0,
    "start_time": "2025-03-24T19:59:44.895Z"
   },
   {
    "duration": 0,
    "start_time": "2025-03-24T19:59:44.896Z"
   },
   {
    "duration": 0,
    "start_time": "2025-03-24T19:59:44.898Z"
   },
   {
    "duration": 0,
    "start_time": "2025-03-24T19:59:44.899Z"
   },
   {
    "duration": 0,
    "start_time": "2025-03-24T19:59:44.900Z"
   },
   {
    "duration": 0,
    "start_time": "2025-03-24T19:59:44.902Z"
   },
   {
    "duration": 0,
    "start_time": "2025-03-24T19:59:44.903Z"
   },
   {
    "duration": 0,
    "start_time": "2025-03-24T19:59:44.905Z"
   },
   {
    "duration": 0,
    "start_time": "2025-03-24T19:59:44.906Z"
   },
   {
    "duration": 12,
    "start_time": "2025-03-24T20:00:36.652Z"
   },
   {
    "duration": 11,
    "start_time": "2025-03-24T20:01:13.793Z"
   },
   {
    "duration": 11,
    "start_time": "2025-03-24T20:01:30.369Z"
   },
   {
    "duration": 165,
    "start_time": "2025-03-24T20:01:35.672Z"
   },
   {
    "duration": 19,
    "start_time": "2025-03-24T20:01:46.486Z"
   },
   {
    "duration": 18,
    "start_time": "2025-03-24T20:01:50.986Z"
   },
   {
    "duration": 18,
    "start_time": "2025-03-24T20:02:22.518Z"
   },
   {
    "duration": 9950,
    "start_time": "2025-03-24T20:02:44.949Z"
   },
   {
    "duration": 1648,
    "start_time": "2025-03-24T20:02:54.901Z"
   },
   {
    "duration": 2,
    "start_time": "2025-03-24T20:02:56.551Z"
   },
   {
    "duration": 87,
    "start_time": "2025-03-24T20:02:56.555Z"
   },
   {
    "duration": 3,
    "start_time": "2025-03-24T20:02:56.643Z"
   },
   {
    "duration": 127,
    "start_time": "2025-03-24T20:02:56.648Z"
   },
   {
    "duration": 6,
    "start_time": "2025-03-24T20:02:56.776Z"
   },
   {
    "duration": 8,
    "start_time": "2025-03-24T20:02:56.783Z"
   },
   {
    "duration": 23,
    "start_time": "2025-03-24T20:02:56.792Z"
   },
   {
    "duration": 6,
    "start_time": "2025-03-24T20:02:56.829Z"
   },
   {
    "duration": 51,
    "start_time": "2025-03-24T20:02:56.836Z"
   },
   {
    "duration": 24,
    "start_time": "2025-03-24T20:02:56.889Z"
   },
   {
    "duration": 4,
    "start_time": "2025-03-24T20:02:56.930Z"
   },
   {
    "duration": 19,
    "start_time": "2025-03-24T20:02:56.935Z"
   },
   {
    "duration": 11,
    "start_time": "2025-03-24T20:02:56.955Z"
   },
   {
    "duration": 17,
    "start_time": "2025-03-24T20:02:56.967Z"
   },
   {
    "duration": 4,
    "start_time": "2025-03-24T20:02:56.986Z"
   },
   {
    "duration": 4,
    "start_time": "2025-03-24T20:02:56.991Z"
   },
   {
    "duration": 374,
    "start_time": "2025-03-24T20:02:56.996Z"
   },
   {
    "duration": 324,
    "start_time": "2025-03-24T20:02:57.372Z"
   },
   {
    "duration": 539,
    "start_time": "2025-03-24T20:02:57.698Z"
   },
   {
    "duration": 76,
    "start_time": "2025-03-24T20:02:58.238Z"
   },
   {
    "duration": 4,
    "start_time": "2025-03-24T20:02:58.315Z"
   },
   {
    "duration": 359,
    "start_time": "2025-03-24T20:02:58.330Z"
   },
   {
    "duration": 3,
    "start_time": "2025-03-24T20:02:58.691Z"
   },
   {
    "duration": 86,
    "start_time": "2025-03-24T20:02:58.695Z"
   },
   {
    "duration": 3,
    "start_time": "2025-03-24T20:02:58.782Z"
   },
   {
    "duration": 17,
    "start_time": "2025-03-24T20:02:58.788Z"
   },
   {
    "duration": 11,
    "start_time": "2025-03-24T20:02:58.806Z"
   },
   {
    "duration": 12,
    "start_time": "2025-03-24T20:02:58.818Z"
   },
   {
    "duration": 10,
    "start_time": "2025-03-24T20:02:58.831Z"
   },
   {
    "duration": 159,
    "start_time": "2025-03-24T20:02:58.842Z"
   },
   {
    "duration": 43,
    "start_time": "2025-03-24T20:02:59.003Z"
   },
   {
    "duration": 5,
    "start_time": "2025-03-24T20:02:59.047Z"
   },
   {
    "duration": 19,
    "start_time": "2025-03-24T20:02:59.053Z"
   },
   {
    "duration": 92,
    "start_time": "2025-03-24T20:02:59.073Z"
   },
   {
    "duration": 8,
    "start_time": "2025-03-24T20:02:59.167Z"
   },
   {
    "duration": 22,
    "start_time": "2025-03-24T20:02:59.176Z"
   },
   {
    "duration": 103,
    "start_time": "2025-03-24T20:02:59.199Z"
   },
   {
    "duration": 34,
    "start_time": "2025-03-24T20:02:59.303Z"
   },
   {
    "duration": 11,
    "start_time": "2025-03-24T20:02:59.339Z"
   },
   {
    "duration": 94,
    "start_time": "2025-03-24T20:02:59.352Z"
   },
   {
    "duration": 1507,
    "start_time": "2025-03-24T20:02:59.447Z"
   },
   {
    "duration": 430,
    "start_time": "2025-03-24T20:03:00.956Z"
   },
   {
    "duration": 1037,
    "start_time": "2025-03-24T20:03:01.387Z"
   },
   {
    "duration": 6,
    "start_time": "2025-03-24T20:03:02.425Z"
   },
   {
    "duration": 29,
    "start_time": "2025-03-24T20:03:02.433Z"
   },
   {
    "duration": 26,
    "start_time": "2025-03-24T20:03:02.464Z"
   },
   {
    "duration": 195,
    "start_time": "2025-03-24T20:03:02.491Z"
   },
   {
    "duration": 7,
    "start_time": "2025-03-24T20:03:02.687Z"
   },
   {
    "duration": 88,
    "start_time": "2025-03-24T20:03:02.696Z"
   },
   {
    "duration": 923671,
    "start_time": "2025-03-24T20:03:02.786Z"
   },
   {
    "duration": 3,
    "start_time": "2025-03-24T20:18:26.459Z"
   },
   {
    "duration": 54390,
    "start_time": "2025-03-24T20:18:26.463Z"
   },
   {
    "duration": 4,
    "start_time": "2025-03-24T20:19:20.854Z"
   },
   {
    "duration": 65174,
    "start_time": "2025-03-24T20:19:20.859Z"
   },
   {
    "duration": 4,
    "start_time": "2025-03-24T20:20:26.035Z"
   },
   {
    "duration": 8,
    "start_time": "2025-03-24T20:20:26.041Z"
   },
   {
    "duration": 3875,
    "start_time": "2025-03-24T20:20:26.051Z"
   },
   {
    "duration": 11,
    "start_time": "2025-03-24T20:20:29.928Z"
   },
   {
    "duration": 7,
    "start_time": "2025-03-24T20:20:29.941Z"
   },
   {
    "duration": 9353,
    "start_time": "2025-03-24T20:21:23.275Z"
   },
   {
    "duration": 1648,
    "start_time": "2025-03-24T20:21:32.630Z"
   },
   {
    "duration": 2,
    "start_time": "2025-03-24T20:21:34.280Z"
   },
   {
    "duration": 98,
    "start_time": "2025-03-24T20:21:34.283Z"
   },
   {
    "duration": 3,
    "start_time": "2025-03-24T20:21:34.384Z"
   },
   {
    "duration": 52,
    "start_time": "2025-03-24T20:21:34.388Z"
   },
   {
    "duration": 11,
    "start_time": "2025-03-24T20:21:34.441Z"
   },
   {
    "duration": 21,
    "start_time": "2025-03-24T20:21:34.453Z"
   },
   {
    "duration": 30,
    "start_time": "2025-03-24T20:21:34.475Z"
   },
   {
    "duration": 6,
    "start_time": "2025-03-24T20:21:34.507Z"
   },
   {
    "duration": 51,
    "start_time": "2025-03-24T20:21:34.515Z"
   },
   {
    "duration": 23,
    "start_time": "2025-03-24T20:21:34.568Z"
   },
   {
    "duration": 12,
    "start_time": "2025-03-24T20:21:34.593Z"
   },
   {
    "duration": 41,
    "start_time": "2025-03-24T20:21:34.608Z"
   },
   {
    "duration": 18,
    "start_time": "2025-03-24T20:21:34.651Z"
   },
   {
    "duration": 41,
    "start_time": "2025-03-24T20:21:34.670Z"
   },
   {
    "duration": 42,
    "start_time": "2025-03-24T20:21:34.713Z"
   },
   {
    "duration": 69,
    "start_time": "2025-03-24T20:21:34.757Z"
   },
   {
    "duration": 371,
    "start_time": "2025-03-24T20:21:34.827Z"
   },
   {
    "duration": 323,
    "start_time": "2025-03-24T20:21:35.200Z"
   },
   {
    "duration": 543,
    "start_time": "2025-03-24T20:21:35.524Z"
   },
   {
    "duration": 83,
    "start_time": "2025-03-24T20:21:36.068Z"
   },
   {
    "duration": 4,
    "start_time": "2025-03-24T20:21:36.153Z"
   },
   {
    "duration": 346,
    "start_time": "2025-03-24T20:21:36.158Z"
   },
   {
    "duration": 4,
    "start_time": "2025-03-24T20:21:36.506Z"
   },
   {
    "duration": 37,
    "start_time": "2025-03-24T20:21:36.511Z"
   },
   {
    "duration": 20,
    "start_time": "2025-03-24T20:21:36.550Z"
   },
   {
    "duration": 45,
    "start_time": "2025-03-24T20:21:36.571Z"
   },
   {
    "duration": 22,
    "start_time": "2025-03-24T20:21:36.617Z"
   },
   {
    "duration": 25,
    "start_time": "2025-03-24T20:21:36.640Z"
   },
   {
    "duration": 20,
    "start_time": "2025-03-24T20:21:36.666Z"
   },
   {
    "duration": 177,
    "start_time": "2025-03-24T20:21:36.687Z"
   },
   {
    "duration": 27,
    "start_time": "2025-03-24T20:21:36.866Z"
   },
   {
    "duration": 6,
    "start_time": "2025-03-24T20:21:36.894Z"
   },
   {
    "duration": 34,
    "start_time": "2025-03-24T20:21:36.901Z"
   },
   {
    "duration": 50,
    "start_time": "2025-03-24T20:21:36.937Z"
   },
   {
    "duration": 11,
    "start_time": "2025-03-24T20:21:36.989Z"
   },
   {
    "duration": 47,
    "start_time": "2025-03-24T20:21:37.001Z"
   },
   {
    "duration": 27,
    "start_time": "2025-03-24T20:21:37.050Z"
   },
   {
    "duration": 15,
    "start_time": "2025-03-24T20:21:37.079Z"
   },
   {
    "duration": 38,
    "start_time": "2025-03-24T20:21:37.099Z"
   },
   {
    "duration": 51,
    "start_time": "2025-03-24T20:21:37.139Z"
   },
   {
    "duration": 1506,
    "start_time": "2025-03-24T20:21:37.192Z"
   },
   {
    "duration": 460,
    "start_time": "2025-03-24T20:21:38.701Z"
   },
   {
    "duration": 952,
    "start_time": "2025-03-24T20:21:39.163Z"
   },
   {
    "duration": 15,
    "start_time": "2025-03-24T20:21:40.117Z"
   },
   {
    "duration": 9,
    "start_time": "2025-03-24T20:21:40.134Z"
   },
   {
    "duration": 10,
    "start_time": "2025-03-24T20:21:40.144Z"
   },
   {
    "duration": 149,
    "start_time": "2025-03-24T20:21:40.155Z"
   },
   {
    "duration": 6,
    "start_time": "2025-03-24T20:21:40.305Z"
   },
   {
    "duration": 6,
    "start_time": "2025-03-24T20:21:40.313Z"
   },
   {
    "duration": 1049191,
    "start_time": "2025-03-24T20:21:40.321Z"
   },
   {
    "duration": 4,
    "start_time": "2025-03-24T20:39:09.513Z"
   },
   {
    "duration": 51560,
    "start_time": "2025-03-24T20:39:09.518Z"
   },
   {
    "duration": 4,
    "start_time": "2025-03-24T20:40:01.080Z"
   },
   {
    "duration": 48553,
    "start_time": "2025-03-24T20:40:01.085Z"
   },
   {
    "duration": 4,
    "start_time": "2025-03-24T20:40:49.639Z"
   },
   {
    "duration": 87,
    "start_time": "2025-03-24T20:40:49.645Z"
   },
   {
    "duration": 4160,
    "start_time": "2025-03-24T20:40:49.734Z"
   },
   {
    "duration": 10,
    "start_time": "2025-03-24T20:40:53.895Z"
   },
   {
    "duration": 4,
    "start_time": "2025-03-24T20:40:53.906Z"
   },
   {
    "duration": 2364,
    "start_time": "2025-03-24T20:41:03.008Z"
   },
   {
    "duration": 9,
    "start_time": "2025-03-24T20:41:05.374Z"
   },
   {
    "duration": 4,
    "start_time": "2025-03-24T20:41:05.385Z"
   },
   {
    "duration": 10199,
    "start_time": "2025-03-24T20:42:02.405Z"
   },
   {
    "duration": 1558,
    "start_time": "2025-03-24T20:42:12.607Z"
   },
   {
    "duration": 3,
    "start_time": "2025-03-24T20:42:14.166Z"
   },
   {
    "duration": 87,
    "start_time": "2025-03-24T20:42:14.171Z"
   },
   {
    "duration": 3,
    "start_time": "2025-03-24T20:42:14.259Z"
   },
   {
    "duration": 38,
    "start_time": "2025-03-24T20:42:14.263Z"
   },
   {
    "duration": 5,
    "start_time": "2025-03-24T20:42:14.303Z"
   },
   {
    "duration": 7,
    "start_time": "2025-03-24T20:42:14.309Z"
   },
   {
    "duration": 34,
    "start_time": "2025-03-24T20:42:14.317Z"
   },
   {
    "duration": 6,
    "start_time": "2025-03-24T20:42:14.353Z"
   },
   {
    "duration": 42,
    "start_time": "2025-03-24T20:42:14.360Z"
   },
   {
    "duration": 45,
    "start_time": "2025-03-24T20:42:14.404Z"
   },
   {
    "duration": 3,
    "start_time": "2025-03-24T20:42:14.451Z"
   },
   {
    "duration": 16,
    "start_time": "2025-03-24T20:42:14.456Z"
   },
   {
    "duration": 13,
    "start_time": "2025-03-24T20:42:14.473Z"
   },
   {
    "duration": 43,
    "start_time": "2025-03-24T20:42:14.487Z"
   },
   {
    "duration": 5,
    "start_time": "2025-03-24T20:42:14.532Z"
   },
   {
    "duration": 5,
    "start_time": "2025-03-24T20:42:14.538Z"
   },
   {
    "duration": 353,
    "start_time": "2025-03-24T20:42:14.544Z"
   },
   {
    "duration": 333,
    "start_time": "2025-03-24T20:42:14.898Z"
   },
   {
    "duration": 544,
    "start_time": "2025-03-24T20:42:15.233Z"
   },
   {
    "duration": 82,
    "start_time": "2025-03-24T20:42:15.779Z"
   },
   {
    "duration": 4,
    "start_time": "2025-03-24T20:42:15.863Z"
   },
   {
    "duration": 335,
    "start_time": "2025-03-24T20:42:15.869Z"
   },
   {
    "duration": 4,
    "start_time": "2025-03-24T20:42:16.206Z"
   },
   {
    "duration": 28,
    "start_time": "2025-03-24T20:42:16.211Z"
   },
   {
    "duration": 3,
    "start_time": "2025-03-24T20:42:16.241Z"
   },
   {
    "duration": 27,
    "start_time": "2025-03-24T20:42:16.249Z"
   },
   {
    "duration": 14,
    "start_time": "2025-03-24T20:42:16.277Z"
   },
   {
    "duration": 48,
    "start_time": "2025-03-24T20:42:16.293Z"
   },
   {
    "duration": 9,
    "start_time": "2025-03-24T20:42:16.342Z"
   },
   {
    "duration": 184,
    "start_time": "2025-03-24T20:42:16.352Z"
   },
   {
    "duration": 22,
    "start_time": "2025-03-24T20:42:16.538Z"
   },
   {
    "duration": 8,
    "start_time": "2025-03-24T20:42:16.561Z"
   },
   {
    "duration": 10,
    "start_time": "2025-03-24T20:42:16.570Z"
   },
   {
    "duration": 63,
    "start_time": "2025-03-24T20:42:16.582Z"
   },
   {
    "duration": 9,
    "start_time": "2025-03-24T20:42:16.647Z"
   },
   {
    "duration": 36,
    "start_time": "2025-03-24T20:42:16.658Z"
   },
   {
    "duration": 42,
    "start_time": "2025-03-24T20:42:16.696Z"
   },
   {
    "duration": 14,
    "start_time": "2025-03-24T20:42:16.739Z"
   },
   {
    "duration": 15,
    "start_time": "2025-03-24T20:42:16.755Z"
   },
   {
    "duration": 69,
    "start_time": "2025-03-24T20:42:16.771Z"
   },
   {
    "duration": 1488,
    "start_time": "2025-03-24T20:42:16.842Z"
   },
   {
    "duration": 442,
    "start_time": "2025-03-24T20:42:18.332Z"
   },
   {
    "duration": 956,
    "start_time": "2025-03-24T20:42:18.775Z"
   },
   {
    "duration": 4,
    "start_time": "2025-03-24T20:42:19.732Z"
   },
   {
    "duration": 50,
    "start_time": "2025-03-24T20:42:19.737Z"
   },
   {
    "duration": 19,
    "start_time": "2025-03-24T20:42:19.789Z"
   },
   {
    "duration": 148,
    "start_time": "2025-03-24T20:42:19.809Z"
   },
   {
    "duration": 6,
    "start_time": "2025-03-24T20:42:19.959Z"
   },
   {
    "duration": 85,
    "start_time": "2025-03-24T20:42:19.966Z"
   },
   {
    "duration": 915749,
    "start_time": "2025-03-24T20:42:20.053Z"
   },
   {
    "duration": 3,
    "start_time": "2025-03-24T20:57:35.804Z"
   },
   {
    "duration": 51704,
    "start_time": "2025-03-24T20:57:35.808Z"
   },
   {
    "duration": 4,
    "start_time": "2025-03-24T20:58:27.513Z"
   },
   {
    "duration": 51712,
    "start_time": "2025-03-24T20:58:27.518Z"
   },
   {
    "duration": 4,
    "start_time": "2025-03-24T20:59:19.232Z"
   },
   {
    "duration": 8,
    "start_time": "2025-03-24T20:59:19.237Z"
   },
   {
    "duration": 2206,
    "start_time": "2025-03-24T20:59:19.246Z"
   },
   {
    "duration": 12,
    "start_time": "2025-03-24T20:59:21.453Z"
   },
   {
    "duration": 5,
    "start_time": "2025-03-24T20:59:21.466Z"
   },
   {
    "duration": 46,
    "start_time": "2025-03-25T03:10:04.224Z"
   },
   {
    "duration": 16142,
    "start_time": "2025-03-25T03:10:15.132Z"
   },
   {
    "duration": 1755,
    "start_time": "2025-03-25T03:10:31.276Z"
   },
   {
    "duration": 2,
    "start_time": "2025-03-25T03:10:33.033Z"
   },
   {
    "duration": 101,
    "start_time": "2025-03-25T03:10:33.036Z"
   },
   {
    "duration": 2,
    "start_time": "2025-03-25T03:10:33.139Z"
   },
   {
    "duration": 63,
    "start_time": "2025-03-25T03:10:33.143Z"
   },
   {
    "duration": 6,
    "start_time": "2025-03-25T03:10:33.207Z"
   },
   {
    "duration": 14,
    "start_time": "2025-03-25T03:10:33.214Z"
   },
   {
    "duration": 24,
    "start_time": "2025-03-25T03:10:33.230Z"
   },
   {
    "duration": 18,
    "start_time": "2025-03-25T03:10:33.256Z"
   },
   {
    "duration": 43,
    "start_time": "2025-03-25T03:10:33.275Z"
   },
   {
    "duration": 25,
    "start_time": "2025-03-25T03:10:33.319Z"
   },
   {
    "duration": 4,
    "start_time": "2025-03-25T03:10:33.346Z"
   },
   {
    "duration": 15,
    "start_time": "2025-03-25T03:10:33.375Z"
   },
   {
    "duration": 42,
    "start_time": "2025-03-25T03:10:33.391Z"
   },
   {
    "duration": 29,
    "start_time": "2025-03-25T03:10:33.435Z"
   },
   {
    "duration": 38,
    "start_time": "2025-03-25T03:10:33.465Z"
   },
   {
    "duration": 3,
    "start_time": "2025-03-25T03:10:33.504Z"
   },
   {
    "duration": 355,
    "start_time": "2025-03-25T03:10:33.509Z"
   },
   {
    "duration": 330,
    "start_time": "2025-03-25T03:10:33.866Z"
   },
   {
    "duration": 532,
    "start_time": "2025-03-25T03:10:34.198Z"
   },
   {
    "duration": 85,
    "start_time": "2025-03-25T03:10:34.731Z"
   },
   {
    "duration": 4,
    "start_time": "2025-03-25T03:10:34.817Z"
   },
   {
    "duration": 332,
    "start_time": "2025-03-25T03:10:34.822Z"
   },
   {
    "duration": 3,
    "start_time": "2025-03-25T03:10:35.155Z"
   },
   {
    "duration": 20,
    "start_time": "2025-03-25T03:10:35.160Z"
   },
   {
    "duration": 15,
    "start_time": "2025-03-25T03:10:35.181Z"
   },
   {
    "duration": 15,
    "start_time": "2025-03-25T03:10:35.198Z"
   },
   {
    "duration": 15,
    "start_time": "2025-03-25T03:10:35.214Z"
   },
   {
    "duration": 40,
    "start_time": "2025-03-25T03:10:35.230Z"
   },
   {
    "duration": 18,
    "start_time": "2025-03-25T03:10:35.273Z"
   },
   {
    "duration": 173,
    "start_time": "2025-03-25T03:10:35.292Z"
   },
   {
    "duration": 28,
    "start_time": "2025-03-25T03:10:35.466Z"
   },
   {
    "duration": 7,
    "start_time": "2025-03-25T03:10:35.495Z"
   },
   {
    "duration": 9,
    "start_time": "2025-03-25T03:10:35.503Z"
   },
   {
    "duration": 72,
    "start_time": "2025-03-25T03:10:35.513Z"
   },
   {
    "duration": 9,
    "start_time": "2025-03-25T03:10:35.587Z"
   },
   {
    "duration": 92,
    "start_time": "2025-03-25T03:10:35.598Z"
   },
   {
    "duration": 26,
    "start_time": "2025-03-25T03:10:35.692Z"
   },
   {
    "duration": 13,
    "start_time": "2025-03-25T03:10:35.720Z"
   },
   {
    "duration": 37,
    "start_time": "2025-03-25T03:10:35.737Z"
   },
   {
    "duration": 49,
    "start_time": "2025-03-25T03:10:35.775Z"
   },
   {
    "duration": 1501,
    "start_time": "2025-03-25T03:10:35.825Z"
   },
   {
    "duration": 506,
    "start_time": "2025-03-25T03:10:37.327Z"
   },
   {
    "duration": 972,
    "start_time": "2025-03-25T03:10:37.835Z"
   },
   {
    "duration": 4,
    "start_time": "2025-03-25T03:10:38.808Z"
   },
   {
    "duration": 10,
    "start_time": "2025-03-25T03:10:38.813Z"
   },
   {
    "duration": 2,
    "start_time": "2025-03-25T03:10:38.825Z"
   },
   {
    "duration": 159,
    "start_time": "2025-03-25T03:10:38.828Z"
   },
   {
    "duration": 5,
    "start_time": "2025-03-25T03:10:38.989Z"
   },
   {
    "duration": 10,
    "start_time": "2025-03-25T03:10:38.996Z"
   },
   {
    "duration": 926553,
    "start_time": "2025-03-25T03:10:39.007Z"
   },
   {
    "duration": 4,
    "start_time": "2025-03-25T03:26:05.562Z"
   },
   {
    "duration": 52596,
    "start_time": "2025-03-25T03:26:05.567Z"
   },
   {
    "duration": 9,
    "start_time": "2025-03-25T03:26:58.165Z"
   },
   {
    "duration": 50798,
    "start_time": "2025-03-25T03:26:58.176Z"
   },
   {
    "duration": 3,
    "start_time": "2025-03-25T03:27:48.976Z"
   },
   {
    "duration": 4,
    "start_time": "2025-03-25T03:27:48.981Z"
   },
   {
    "duration": 3952,
    "start_time": "2025-03-25T03:27:48.986Z"
   },
   {
    "duration": 11,
    "start_time": "2025-03-25T03:27:52.940Z"
   },
   {
    "duration": 4,
    "start_time": "2025-03-25T03:27:52.952Z"
   },
   {
    "duration": 20468,
    "start_time": "2025-03-25T18:11:40.062Z"
   },
   {
    "duration": 1759,
    "start_time": "2025-03-25T18:12:00.533Z"
   },
   {
    "duration": 3,
    "start_time": "2025-03-25T18:12:02.294Z"
   },
   {
    "duration": 117,
    "start_time": "2025-03-25T18:12:02.299Z"
   },
   {
    "duration": 3,
    "start_time": "2025-03-25T18:12:02.418Z"
   },
   {
    "duration": 59,
    "start_time": "2025-03-25T18:12:02.422Z"
   },
   {
    "duration": 10,
    "start_time": "2025-03-25T18:12:02.483Z"
   },
   {
    "duration": 36,
    "start_time": "2025-03-25T18:12:02.494Z"
   },
   {
    "duration": 54,
    "start_time": "2025-03-25T18:12:02.531Z"
   },
   {
    "duration": 9,
    "start_time": "2025-03-25T18:12:02.588Z"
   },
   {
    "duration": 80,
    "start_time": "2025-03-25T18:12:02.598Z"
   },
   {
    "duration": 32,
    "start_time": "2025-03-25T18:12:02.679Z"
   },
   {
    "duration": 14,
    "start_time": "2025-03-25T18:12:02.713Z"
   },
   {
    "duration": 36,
    "start_time": "2025-03-25T18:12:02.728Z"
   },
   {
    "duration": 25,
    "start_time": "2025-03-25T18:12:02.766Z"
   },
   {
    "duration": 29,
    "start_time": "2025-03-25T18:12:02.793Z"
   },
   {
    "duration": 23,
    "start_time": "2025-03-25T18:12:02.824Z"
   },
   {
    "duration": 29,
    "start_time": "2025-03-25T18:12:02.849Z"
   },
   {
    "duration": 376,
    "start_time": "2025-03-25T18:12:02.880Z"
   },
   {
    "duration": 329,
    "start_time": "2025-03-25T18:12:03.258Z"
   },
   {
    "duration": 523,
    "start_time": "2025-03-25T18:12:03.588Z"
   },
   {
    "duration": 74,
    "start_time": "2025-03-25T18:12:04.113Z"
   },
   {
    "duration": 21,
    "start_time": "2025-03-25T18:12:04.188Z"
   },
   {
    "duration": 378,
    "start_time": "2025-03-25T18:12:04.211Z"
   },
   {
    "duration": 4,
    "start_time": "2025-03-25T18:12:04.591Z"
   },
   {
    "duration": 36,
    "start_time": "2025-03-25T18:12:04.596Z"
   },
   {
    "duration": 3,
    "start_time": "2025-03-25T18:12:04.634Z"
   },
   {
    "duration": 25,
    "start_time": "2025-03-25T18:12:04.642Z"
   },
   {
    "duration": 16,
    "start_time": "2025-03-25T18:12:04.669Z"
   },
   {
    "duration": 17,
    "start_time": "2025-03-25T18:12:04.706Z"
   },
   {
    "duration": 17,
    "start_time": "2025-03-25T18:12:04.724Z"
   },
   {
    "duration": 193,
    "start_time": "2025-03-25T18:12:04.742Z"
   },
   {
    "duration": 24,
    "start_time": "2025-03-25T18:12:04.936Z"
   },
   {
    "duration": 10,
    "start_time": "2025-03-25T18:12:04.961Z"
   },
   {
    "duration": 43,
    "start_time": "2025-03-25T18:12:04.972Z"
   },
   {
    "duration": 76,
    "start_time": "2025-03-25T18:12:05.017Z"
   },
   {
    "duration": 10,
    "start_time": "2025-03-25T18:12:05.095Z"
   },
   {
    "duration": 69,
    "start_time": "2025-03-25T18:12:05.107Z"
   },
   {
    "duration": 32,
    "start_time": "2025-03-25T18:12:05.177Z"
   },
   {
    "duration": 19,
    "start_time": "2025-03-25T18:12:05.211Z"
   },
   {
    "duration": 23,
    "start_time": "2025-03-25T18:12:05.231Z"
   },
   {
    "duration": 124,
    "start_time": "2025-03-25T18:12:05.255Z"
   },
   {
    "duration": 1442,
    "start_time": "2025-03-25T18:12:05.381Z"
   },
   {
    "duration": 436,
    "start_time": "2025-03-25T18:12:06.825Z"
   },
   {
    "duration": 945,
    "start_time": "2025-03-25T18:12:07.263Z"
   },
   {
    "duration": 5,
    "start_time": "2025-03-25T18:12:08.210Z"
   },
   {
    "duration": 54,
    "start_time": "2025-03-25T18:12:08.216Z"
   },
   {
    "duration": 3,
    "start_time": "2025-03-25T18:12:08.272Z"
   },
   {
    "duration": 120,
    "start_time": "2025-03-25T18:12:08.276Z"
   },
   {
    "duration": 10,
    "start_time": "2025-03-25T18:12:08.397Z"
   },
   {
    "duration": 11,
    "start_time": "2025-03-25T18:12:08.408Z"
   },
   {
    "duration": 1018828,
    "start_time": "2025-03-25T18:12:08.420Z"
   },
   {
    "duration": 3,
    "start_time": "2025-03-25T18:29:07.250Z"
   },
   {
    "duration": 46342,
    "start_time": "2025-03-25T18:29:07.255Z"
   },
   {
    "duration": 9,
    "start_time": "2025-03-25T18:29:53.599Z"
   },
   {
    "duration": 277200,
    "start_time": "2025-03-25T18:29:53.609Z"
   },
   {
    "duration": 4,
    "start_time": "2025-03-25T18:34:30.810Z"
   },
   {
    "duration": 8,
    "start_time": "2025-03-25T18:34:30.816Z"
   },
   {
    "duration": 3923,
    "start_time": "2025-03-25T18:34:30.825Z"
   },
   {
    "duration": 10,
    "start_time": "2025-03-25T18:34:34.749Z"
   },
   {
    "duration": 4,
    "start_time": "2025-03-25T18:34:34.760Z"
   },
   {
    "duration": 2267,
    "start_time": "2025-03-25T18:34:58.428Z"
   },
   {
    "duration": 9,
    "start_time": "2025-03-25T18:35:01.411Z"
   },
   {
    "duration": 3,
    "start_time": "2025-03-25T18:35:02.211Z"
   },
   {
    "duration": 14659,
    "start_time": "2025-03-26T18:23:32.617Z"
   },
   {
    "duration": 4747,
    "start_time": "2025-03-26T18:23:47.278Z"
   },
   {
    "duration": 3,
    "start_time": "2025-03-26T18:23:52.026Z"
   },
   {
    "duration": 324,
    "start_time": "2025-03-26T18:23:52.031Z"
   },
   {
    "duration": 2,
    "start_time": "2025-03-26T18:23:52.357Z"
   },
   {
    "duration": 33,
    "start_time": "2025-03-26T18:23:55.546Z"
   },
   {
    "duration": 7,
    "start_time": "2025-03-26T18:23:58.729Z"
   },
   {
    "duration": 6,
    "start_time": "2025-03-26T18:24:01.239Z"
   },
   {
    "duration": 26,
    "start_time": "2025-03-26T18:24:01.793Z"
   },
   {
    "duration": 6,
    "start_time": "2025-03-26T18:24:04.640Z"
   },
   {
    "duration": 42,
    "start_time": "2025-03-26T18:24:05.433Z"
   },
   {
    "duration": 24,
    "start_time": "2025-03-26T18:24:06.976Z"
   },
   {
    "duration": 4,
    "start_time": "2025-03-26T18:24:11.600Z"
   },
   {
    "duration": 10,
    "start_time": "2025-03-26T18:24:11.871Z"
   },
   {
    "duration": 11,
    "start_time": "2025-03-26T18:24:12.960Z"
   },
   {
    "duration": 16,
    "start_time": "2025-03-26T18:24:14.808Z"
   },
   {
    "duration": 5,
    "start_time": "2025-03-26T18:24:16.177Z"
   },
   {
    "duration": 4,
    "start_time": "2025-03-26T18:24:18.128Z"
   },
   {
    "duration": 351,
    "start_time": "2025-03-26T18:24:18.608Z"
   },
   {
    "duration": 271,
    "start_time": "2025-03-26T18:24:20.817Z"
   },
   {
    "duration": 485,
    "start_time": "2025-03-26T18:24:21.512Z"
   },
   {
    "duration": 71,
    "start_time": "2025-03-26T18:24:22.704Z"
   },
   {
    "duration": 4,
    "start_time": "2025-03-26T18:24:23.544Z"
   },
   {
    "duration": 308,
    "start_time": "2025-03-26T18:24:24.303Z"
   },
   {
    "duration": 3,
    "start_time": "2025-03-26T18:24:26.808Z"
   },
   {
    "duration": 15,
    "start_time": "2025-03-26T18:24:27.136Z"
   },
   {
    "duration": 4,
    "start_time": "2025-03-26T18:24:29.672Z"
   },
   {
    "duration": 15,
    "start_time": "2025-03-26T18:24:30.288Z"
   },
   {
    "duration": 13,
    "start_time": "2025-03-26T18:24:30.768Z"
   },
   {
    "duration": 13,
    "start_time": "2025-03-26T18:24:32.384Z"
   },
   {
    "duration": 9,
    "start_time": "2025-03-26T18:24:32.592Z"
   },
   {
    "duration": 66,
    "start_time": "2025-03-26T18:24:35.082Z"
   },
   {
    "duration": 24,
    "start_time": "2025-03-26T18:24:38.257Z"
   },
   {
    "duration": 6,
    "start_time": "2025-03-26T18:24:43.601Z"
   },
   {
    "duration": 8,
    "start_time": "2025-03-26T18:24:51.977Z"
   },
   {
    "duration": 143,
    "start_time": "2025-03-26T18:25:01.689Z"
   },
   {
    "duration": 9,
    "start_time": "2025-03-26T18:25:02.009Z"
   },
   {
    "duration": 8,
    "start_time": "2025-03-26T18:25:08.000Z"
   },
   {
    "duration": 5,
    "start_time": "2025-03-26T18:25:27.142Z"
   },
   {
    "duration": 7,
    "start_time": "2025-03-26T18:25:40.905Z"
   },
   {
    "duration": 23,
    "start_time": "2025-03-26T18:28:56.599Z"
   },
   {
    "duration": 24,
    "start_time": "2025-03-26T18:28:57.487Z"
   },
   {
    "duration": 14,
    "start_time": "2025-03-26T18:28:58.055Z"
   },
   {
    "duration": 13,
    "start_time": "2025-03-26T18:29:01.535Z"
   },
   {
    "duration": 50,
    "start_time": "2025-03-26T18:29:01.730Z"
   },
   {
    "duration": 1844,
    "start_time": "2025-03-26T18:29:02.609Z"
   },
   {
    "duration": 12,
    "start_time": "2025-03-26T18:29:17.271Z"
   },
   {
    "duration": 2631,
    "start_time": "2025-03-26T18:29:38.713Z"
   },
   {
    "duration": 3,
    "start_time": "2025-03-26T18:29:41.346Z"
   },
   {
    "duration": 83,
    "start_time": "2025-03-26T18:29:41.961Z"
   },
   {
    "duration": 2,
    "start_time": "2025-03-26T18:29:42.113Z"
   },
   {
    "duration": 48,
    "start_time": "2025-03-26T18:29:42.486Z"
   },
   {
    "duration": 6,
    "start_time": "2025-03-26T18:29:42.801Z"
   },
   {
    "duration": 6,
    "start_time": "2025-03-26T18:29:43.097Z"
   },
   {
    "duration": 32,
    "start_time": "2025-03-26T18:29:43.250Z"
   },
   {
    "duration": 7,
    "start_time": "2025-03-26T18:29:43.545Z"
   },
   {
    "duration": 57,
    "start_time": "2025-03-26T18:29:43.690Z"
   },
   {
    "duration": 25,
    "start_time": "2025-03-26T18:29:43.849Z"
   },
   {
    "duration": 5,
    "start_time": "2025-03-26T18:29:44.456Z"
   },
   {
    "duration": 9,
    "start_time": "2025-03-26T18:29:44.625Z"
   },
   {
    "duration": 15,
    "start_time": "2025-03-26T18:29:44.785Z"
   },
   {
    "duration": 16,
    "start_time": "2025-03-26T18:29:44.960Z"
   },
   {
    "duration": 6,
    "start_time": "2025-03-26T18:29:45.128Z"
   },
   {
    "duration": 4,
    "start_time": "2025-03-26T18:29:45.289Z"
   },
   {
    "duration": 312,
    "start_time": "2025-03-26T18:29:45.625Z"
   },
   {
    "duration": 291,
    "start_time": "2025-03-26T18:29:45.939Z"
   },
   {
    "duration": 495,
    "start_time": "2025-03-26T18:29:46.232Z"
   },
   {
    "duration": 77,
    "start_time": "2025-03-26T18:29:46.728Z"
   },
   {
    "duration": 3,
    "start_time": "2025-03-26T18:29:46.807Z"
   },
   {
    "duration": 316,
    "start_time": "2025-03-26T18:29:46.812Z"
   },
   {
    "duration": 2,
    "start_time": "2025-03-26T18:29:47.130Z"
   },
   {
    "duration": 13,
    "start_time": "2025-03-26T18:29:47.345Z"
   },
   {
    "duration": 3,
    "start_time": "2025-03-26T18:29:57.074Z"
   },
   {
    "duration": 14,
    "start_time": "2025-03-26T18:29:57.545Z"
   },
   {
    "duration": 12,
    "start_time": "2025-03-26T18:29:58.177Z"
   },
   {
    "duration": 17,
    "start_time": "2025-03-26T18:29:58.864Z"
   },
   {
    "duration": 11,
    "start_time": "2025-03-26T18:29:59.073Z"
   },
   {
    "duration": 72,
    "start_time": "2025-03-26T18:29:59.882Z"
   },
   {
    "duration": 29,
    "start_time": "2025-03-26T18:30:01.354Z"
   },
   {
    "duration": 5,
    "start_time": "2025-03-26T18:30:09.450Z"
   },
   {
    "duration": 7,
    "start_time": "2025-03-26T18:30:18.002Z"
   },
   {
    "duration": 6,
    "start_time": "2025-03-26T18:30:30.145Z"
   },
   {
    "duration": 5,
    "start_time": "2025-03-26T18:30:41.793Z"
   },
   {
    "duration": 26,
    "start_time": "2025-03-26T18:30:48.545Z"
   },
   {
    "duration": 15,
    "start_time": "2025-03-26T18:31:46.114Z"
   },
   {
    "duration": 140,
    "start_time": "2025-03-26T18:32:09.022Z"
   },
   {
    "duration": 6,
    "start_time": "2025-03-26T18:32:14.907Z"
   },
   {
    "duration": 14,
    "start_time": "2025-03-26T18:32:50.837Z"
   },
   {
    "duration": 63,
    "start_time": "2025-03-26T18:33:08.775Z"
   },
   {
    "duration": 14,
    "start_time": "2025-03-26T18:33:16.078Z"
   },
   {
    "duration": 10,
    "start_time": "2025-03-26T18:33:25.085Z"
   },
   {
    "duration": 5,
    "start_time": "2025-03-26T18:33:52.118Z"
   },
   {
    "duration": 6,
    "start_time": "2025-03-26T18:34:04.478Z"
   },
   {
    "duration": 5,
    "start_time": "2025-03-26T18:34:15.367Z"
   },
   {
    "duration": 2620,
    "start_time": "2025-03-26T18:36:41.901Z"
   },
   {
    "duration": 3,
    "start_time": "2025-03-26T18:36:44.522Z"
   },
   {
    "duration": 84,
    "start_time": "2025-03-26T18:36:44.526Z"
   },
   {
    "duration": 3,
    "start_time": "2025-03-26T18:36:45.604Z"
   },
   {
    "duration": 36,
    "start_time": "2025-03-26T18:36:46.373Z"
   },
   {
    "duration": 10,
    "start_time": "2025-03-26T18:36:48.844Z"
   },
   {
    "duration": 11,
    "start_time": "2025-03-26T18:36:55.739Z"
   },
   {
    "duration": 81,
    "start_time": "2025-03-26T18:39:21.098Z"
   },
   {
    "duration": 3,
    "start_time": "2025-03-26T18:39:21.441Z"
   },
   {
    "duration": 31,
    "start_time": "2025-03-26T18:39:21.770Z"
   },
   {
    "duration": 5,
    "start_time": "2025-03-26T18:39:23.147Z"
   },
   {
    "duration": 6,
    "start_time": "2025-03-26T18:39:24.018Z"
   },
   {
    "duration": 24,
    "start_time": "2025-03-26T18:39:24.202Z"
   },
   {
    "duration": 6,
    "start_time": "2025-03-26T18:39:24.530Z"
   },
   {
    "duration": 42,
    "start_time": "2025-03-26T18:39:24.699Z"
   },
   {
    "duration": 24,
    "start_time": "2025-03-26T18:39:24.874Z"
   },
   {
    "duration": 4,
    "start_time": "2025-03-26T18:39:25.834Z"
   },
   {
    "duration": 10,
    "start_time": "2025-03-26T18:39:26.042Z"
   },
   {
    "duration": 12,
    "start_time": "2025-03-26T18:39:26.482Z"
   },
   {
    "duration": 15,
    "start_time": "2025-03-26T18:39:26.674Z"
   },
   {
    "duration": 4,
    "start_time": "2025-03-26T18:39:26.867Z"
   },
   {
    "duration": 7,
    "start_time": "2025-03-26T18:39:27.210Z"
   },
   {
    "duration": 337,
    "start_time": "2025-03-26T18:39:27.923Z"
   },
   {
    "duration": 310,
    "start_time": "2025-03-26T18:39:28.262Z"
   },
   {
    "duration": 492,
    "start_time": "2025-03-26T18:39:29.115Z"
   },
   {
    "duration": 71,
    "start_time": "2025-03-26T18:39:29.770Z"
   },
   {
    "duration": 4,
    "start_time": "2025-03-26T18:39:31.147Z"
   },
   {
    "duration": 308,
    "start_time": "2025-03-26T18:39:31.514Z"
   },
   {
    "duration": 4,
    "start_time": "2025-03-26T18:39:32.034Z"
   },
   {
    "duration": 14,
    "start_time": "2025-03-26T18:39:33.354Z"
   },
   {
    "duration": 4,
    "start_time": "2025-03-26T18:39:35.275Z"
   },
   {
    "duration": 16,
    "start_time": "2025-03-26T18:39:35.467Z"
   },
   {
    "duration": 14,
    "start_time": "2025-03-26T18:39:35.650Z"
   },
   {
    "duration": 14,
    "start_time": "2025-03-26T18:39:35.834Z"
   },
   {
    "duration": 11,
    "start_time": "2025-03-26T18:39:37.179Z"
   },
   {
    "duration": 65,
    "start_time": "2025-03-26T18:39:37.812Z"
   },
   {
    "duration": 25,
    "start_time": "2025-03-26T18:39:40.051Z"
   },
   {
    "duration": 4,
    "start_time": "2025-03-26T18:39:41.396Z"
   },
   {
    "duration": 8,
    "start_time": "2025-03-26T18:39:44.515Z"
   },
   {
    "duration": 135,
    "start_time": "2025-03-26T18:39:47.235Z"
   },
   {
    "duration": 9,
    "start_time": "2025-03-26T18:39:47.652Z"
   },
   {
    "duration": 9,
    "start_time": "2025-03-26T18:40:57.519Z"
   },
   {
    "duration": 25313,
    "start_time": "2025-03-26T18:52:13.095Z"
   },
   {
    "duration": 1732,
    "start_time": "2025-03-26T18:52:38.411Z"
   },
   {
    "duration": 3,
    "start_time": "2025-03-26T18:52:40.146Z"
   },
   {
    "duration": 100,
    "start_time": "2025-03-26T18:52:40.150Z"
   },
   {
    "duration": 3,
    "start_time": "2025-03-26T18:52:40.251Z"
   },
   {
    "duration": 36,
    "start_time": "2025-03-26T18:52:40.256Z"
   },
   {
    "duration": 5,
    "start_time": "2025-03-26T18:52:40.294Z"
   },
   {
    "duration": 7,
    "start_time": "2025-03-26T18:52:40.300Z"
   },
   {
    "duration": 50,
    "start_time": "2025-03-26T18:52:40.308Z"
   },
   {
    "duration": 7,
    "start_time": "2025-03-26T18:52:40.361Z"
   },
   {
    "duration": 46,
    "start_time": "2025-03-26T18:52:40.370Z"
   },
   {
    "duration": 55,
    "start_time": "2025-03-26T18:52:40.418Z"
   },
   {
    "duration": 4,
    "start_time": "2025-03-26T18:52:40.475Z"
   },
   {
    "duration": 14,
    "start_time": "2025-03-26T18:52:40.481Z"
   },
   {
    "duration": 13,
    "start_time": "2025-03-26T18:52:40.496Z"
   },
   {
    "duration": 47,
    "start_time": "2025-03-26T18:52:40.511Z"
   },
   {
    "duration": 7,
    "start_time": "2025-03-26T18:52:40.560Z"
   },
   {
    "duration": 5,
    "start_time": "2025-03-26T18:52:40.569Z"
   },
   {
    "duration": 383,
    "start_time": "2025-03-26T18:52:40.575Z"
   },
   {
    "duration": 331,
    "start_time": "2025-03-26T18:52:40.960Z"
   },
   {
    "duration": 586,
    "start_time": "2025-03-26T18:52:41.292Z"
   },
   {
    "duration": 86,
    "start_time": "2025-03-26T18:52:41.879Z"
   },
   {
    "duration": 4,
    "start_time": "2025-03-26T18:52:41.967Z"
   },
   {
    "duration": 350,
    "start_time": "2025-03-26T18:52:41.972Z"
   },
   {
    "duration": 3,
    "start_time": "2025-03-26T18:52:42.324Z"
   },
   {
    "duration": 33,
    "start_time": "2025-03-26T18:52:42.328Z"
   },
   {
    "duration": 4,
    "start_time": "2025-03-26T18:52:42.363Z"
   },
   {
    "duration": 20,
    "start_time": "2025-03-26T18:52:42.370Z"
   },
   {
    "duration": 12,
    "start_time": "2025-03-26T18:52:42.392Z"
   },
   {
    "duration": 13,
    "start_time": "2025-03-26T18:52:42.406Z"
   },
   {
    "duration": 46,
    "start_time": "2025-03-26T18:52:42.420Z"
   },
   {
    "duration": 192,
    "start_time": "2025-03-26T18:52:42.468Z"
   },
   {
    "duration": 24,
    "start_time": "2025-03-26T18:52:42.661Z"
   },
   {
    "duration": 4,
    "start_time": "2025-03-26T18:52:42.687Z"
   },
   {
    "duration": 20,
    "start_time": "2025-03-26T18:52:42.692Z"
   },
   {
    "duration": 60,
    "start_time": "2025-03-26T18:52:42.713Z"
   },
   {
    "duration": 10,
    "start_time": "2025-03-26T18:52:42.775Z"
   },
   {
    "duration": 27,
    "start_time": "2025-03-26T18:52:42.786Z"
   },
   {
    "duration": 53,
    "start_time": "2025-03-26T18:52:42.814Z"
   },
   {
    "duration": 17,
    "start_time": "2025-03-26T18:52:42.869Z"
   },
   {
    "duration": 14,
    "start_time": "2025-03-26T18:52:42.887Z"
   },
   {
    "duration": 77,
    "start_time": "2025-03-26T18:52:42.903Z"
   },
   {
    "duration": 132323,
    "start_time": "2025-03-26T18:52:42.982Z"
   },
   {
    "duration": 10,
    "start_time": "2025-03-26T18:54:55.307Z"
   },
   {
    "duration": 484,
    "start_time": "2025-03-26T18:54:55.319Z"
   },
   {
    "duration": 21271,
    "start_time": "2025-03-26T18:54:55.805Z"
   },
   {
    "duration": 5,
    "start_time": "2025-03-26T18:55:17.078Z"
   },
   {
    "duration": 18,
    "start_time": "2025-03-26T18:55:17.085Z"
   },
   {
    "duration": 141,
    "start_time": "2025-03-26T18:55:17.104Z"
   },
   {
    "duration": 14,
    "start_time": "2025-03-26T18:55:17.247Z"
   },
   {
    "duration": 35,
    "start_time": "2025-03-26T18:55:17.263Z"
   },
   {
    "duration": 34618,
    "start_time": "2025-03-26T18:55:17.300Z"
   },
   {
    "duration": 0,
    "start_time": "2025-03-26T18:55:51.920Z"
   },
   {
    "duration": 0,
    "start_time": "2025-03-26T18:55:51.921Z"
   },
   {
    "duration": 0,
    "start_time": "2025-03-26T18:55:51.922Z"
   },
   {
    "duration": 0,
    "start_time": "2025-03-26T18:55:51.923Z"
   },
   {
    "duration": 0,
    "start_time": "2025-03-26T18:55:51.924Z"
   },
   {
    "duration": 0,
    "start_time": "2025-03-26T18:55:51.926Z"
   },
   {
    "duration": 0,
    "start_time": "2025-03-26T18:55:51.927Z"
   },
   {
    "duration": 0,
    "start_time": "2025-03-26T18:55:51.928Z"
   },
   {
    "duration": 0,
    "start_time": "2025-03-26T18:55:51.929Z"
   },
   {
    "duration": 9712,
    "start_time": "2025-03-26T18:57:08.439Z"
   },
   {
    "duration": 1614,
    "start_time": "2025-03-26T18:57:18.153Z"
   },
   {
    "duration": 3,
    "start_time": "2025-03-26T18:57:19.768Z"
   },
   {
    "duration": 85,
    "start_time": "2025-03-26T18:57:19.774Z"
   },
   {
    "duration": 3,
    "start_time": "2025-03-26T18:57:19.861Z"
   },
   {
    "duration": 81,
    "start_time": "2025-03-26T18:57:19.866Z"
   },
   {
    "duration": 5,
    "start_time": "2025-03-26T18:57:19.949Z"
   },
   {
    "duration": 6,
    "start_time": "2025-03-26T18:57:19.956Z"
   },
   {
    "duration": 26,
    "start_time": "2025-03-26T18:57:19.964Z"
   },
   {
    "duration": 6,
    "start_time": "2025-03-26T18:57:19.992Z"
   },
   {
    "duration": 66,
    "start_time": "2025-03-26T18:57:20.000Z"
   },
   {
    "duration": 25,
    "start_time": "2025-03-26T18:57:20.068Z"
   },
   {
    "duration": 33,
    "start_time": "2025-03-26T18:57:20.095Z"
   },
   {
    "duration": 17,
    "start_time": "2025-03-26T18:57:20.130Z"
   },
   {
    "duration": 12,
    "start_time": "2025-03-26T18:57:20.148Z"
   },
   {
    "duration": 16,
    "start_time": "2025-03-26T18:57:20.162Z"
   },
   {
    "duration": 5,
    "start_time": "2025-03-26T18:57:20.180Z"
   },
   {
    "duration": 4,
    "start_time": "2025-03-26T18:57:20.186Z"
   },
   {
    "duration": 383,
    "start_time": "2025-03-26T18:57:20.191Z"
   },
   {
    "duration": 328,
    "start_time": "2025-03-26T18:57:20.576Z"
   },
   {
    "duration": 560,
    "start_time": "2025-03-26T18:57:20.905Z"
   },
   {
    "duration": 95,
    "start_time": "2025-03-26T18:57:21.467Z"
   },
   {
    "duration": 4,
    "start_time": "2025-03-26T18:57:21.563Z"
   },
   {
    "duration": 358,
    "start_time": "2025-03-26T18:57:21.569Z"
   },
   {
    "duration": 4,
    "start_time": "2025-03-26T18:57:21.929Z"
   },
   {
    "duration": 41,
    "start_time": "2025-03-26T18:57:21.934Z"
   },
   {
    "duration": 4,
    "start_time": "2025-03-26T18:57:21.977Z"
   },
   {
    "duration": 30,
    "start_time": "2025-03-26T18:57:21.985Z"
   },
   {
    "duration": 12,
    "start_time": "2025-03-26T18:57:22.017Z"
   },
   {
    "duration": 35,
    "start_time": "2025-03-26T18:57:22.030Z"
   },
   {
    "duration": 73,
    "start_time": "2025-03-26T18:57:22.066Z"
   },
   {
    "duration": 174,
    "start_time": "2025-03-26T18:57:22.141Z"
   },
   {
    "duration": 42,
    "start_time": "2025-03-26T18:57:22.317Z"
   },
   {
    "duration": 5,
    "start_time": "2025-03-26T18:57:22.360Z"
   },
   {
    "duration": 7,
    "start_time": "2025-03-26T18:57:22.367Z"
   },
   {
    "duration": 49,
    "start_time": "2025-03-26T18:57:22.375Z"
   },
   {
    "duration": 31,
    "start_time": "2025-03-26T18:57:22.426Z"
   },
   {
    "duration": 24,
    "start_time": "2025-03-26T18:57:22.459Z"
   },
   {
    "duration": 79,
    "start_time": "2025-03-26T18:57:22.485Z"
   },
   {
    "duration": 16,
    "start_time": "2025-03-26T18:57:22.566Z"
   },
   {
    "duration": 13,
    "start_time": "2025-03-26T18:57:22.583Z"
   },
   {
    "duration": 64,
    "start_time": "2025-03-26T18:57:22.598Z"
   },
   {
    "duration": 1587,
    "start_time": "2025-03-26T18:57:22.664Z"
   },
   {
    "duration": 10,
    "start_time": "2025-03-26T18:57:24.252Z"
   },
   {
    "duration": 439,
    "start_time": "2025-03-26T18:57:24.263Z"
   },
   {
    "duration": 1035,
    "start_time": "2025-03-26T18:57:24.704Z"
   },
   {
    "duration": 4,
    "start_time": "2025-03-26T18:57:25.741Z"
   },
   {
    "duration": 6,
    "start_time": "2025-03-26T18:57:25.758Z"
   },
   {
    "duration": 130,
    "start_time": "2025-03-26T18:57:25.765Z"
   },
   {
    "duration": 6,
    "start_time": "2025-03-26T18:57:25.896Z"
   },
   {
    "duration": 23,
    "start_time": "2025-03-26T18:57:25.904Z"
   },
   {
    "duration": 1072374,
    "start_time": "2025-03-26T18:57:25.929Z"
   },
   {
    "duration": 4,
    "start_time": "2025-03-26T19:15:18.304Z"
   },
   {
    "duration": 52460,
    "start_time": "2025-03-26T19:15:18.309Z"
   },
   {
    "duration": 4,
    "start_time": "2025-03-26T19:16:10.771Z"
   },
   {
    "duration": 57086,
    "start_time": "2025-03-26T19:16:10.776Z"
   },
   {
    "duration": 4,
    "start_time": "2025-03-26T19:17:07.864Z"
   },
   {
    "duration": 4,
    "start_time": "2025-03-26T19:17:07.870Z"
   },
   {
    "duration": 2228,
    "start_time": "2025-03-26T19:17:07.876Z"
   },
   {
    "duration": 9,
    "start_time": "2025-03-26T19:17:10.106Z"
   },
   {
    "duration": 12,
    "start_time": "2025-03-26T19:17:10.116Z"
   },
   {
    "duration": 9488,
    "start_time": "2025-03-26T19:20:15.187Z"
   },
   {
    "duration": 1625,
    "start_time": "2025-03-26T19:20:24.677Z"
   },
   {
    "duration": 2,
    "start_time": "2025-03-26T19:20:26.304Z"
   },
   {
    "duration": 89,
    "start_time": "2025-03-26T19:20:26.308Z"
   },
   {
    "duration": 3,
    "start_time": "2025-03-26T19:20:26.399Z"
   },
   {
    "duration": 37,
    "start_time": "2025-03-26T19:20:26.404Z"
   },
   {
    "duration": 6,
    "start_time": "2025-03-26T19:20:26.443Z"
   },
   {
    "duration": 7,
    "start_time": "2025-03-26T19:20:26.450Z"
   },
   {
    "duration": 27,
    "start_time": "2025-03-26T19:20:26.459Z"
   },
   {
    "duration": 7,
    "start_time": "2025-03-26T19:20:26.488Z"
   },
   {
    "duration": 71,
    "start_time": "2025-03-26T19:20:26.496Z"
   },
   {
    "duration": 26,
    "start_time": "2025-03-26T19:20:26.569Z"
   },
   {
    "duration": 4,
    "start_time": "2025-03-26T19:20:26.596Z"
   },
   {
    "duration": 11,
    "start_time": "2025-03-26T19:20:26.603Z"
   },
   {
    "duration": 11,
    "start_time": "2025-03-26T19:20:26.615Z"
   },
   {
    "duration": 16,
    "start_time": "2025-03-26T19:20:26.659Z"
   },
   {
    "duration": 5,
    "start_time": "2025-03-26T19:20:26.676Z"
   },
   {
    "duration": 4,
    "start_time": "2025-03-26T19:20:26.682Z"
   },
   {
    "duration": 387,
    "start_time": "2025-03-26T19:20:26.687Z"
   },
   {
    "duration": 337,
    "start_time": "2025-03-26T19:20:27.076Z"
   },
   {
    "duration": 560,
    "start_time": "2025-03-26T19:20:27.414Z"
   },
   {
    "duration": 91,
    "start_time": "2025-03-26T19:20:27.976Z"
   },
   {
    "duration": 5,
    "start_time": "2025-03-26T19:20:28.069Z"
   },
   {
    "duration": 368,
    "start_time": "2025-03-26T19:20:28.076Z"
   },
   {
    "duration": 11,
    "start_time": "2025-03-26T19:20:28.446Z"
   },
   {
    "duration": 16,
    "start_time": "2025-03-26T19:20:28.459Z"
   },
   {
    "duration": 3,
    "start_time": "2025-03-26T19:20:28.477Z"
   },
   {
    "duration": 16,
    "start_time": "2025-03-26T19:20:28.481Z"
   },
   {
    "duration": 13,
    "start_time": "2025-03-26T19:20:28.498Z"
   },
   {
    "duration": 57,
    "start_time": "2025-03-26T19:20:28.512Z"
   },
   {
    "duration": 42,
    "start_time": "2025-03-26T19:20:28.571Z"
   },
   {
    "duration": 199,
    "start_time": "2025-03-26T19:20:28.615Z"
   },
   {
    "duration": 25,
    "start_time": "2025-03-26T19:20:28.816Z"
   },
   {
    "duration": 6,
    "start_time": "2025-03-26T19:20:28.857Z"
   },
   {
    "duration": 9,
    "start_time": "2025-03-26T19:20:28.865Z"
   },
   {
    "duration": 50,
    "start_time": "2025-03-26T19:20:28.875Z"
   },
   {
    "duration": 31,
    "start_time": "2025-03-26T19:20:28.928Z"
   },
   {
    "duration": 27,
    "start_time": "2025-03-26T19:20:28.961Z"
   },
   {
    "duration": 27,
    "start_time": "2025-03-26T19:20:28.990Z"
   },
   {
    "duration": 42,
    "start_time": "2025-03-26T19:20:29.018Z"
   },
   {
    "duration": 15,
    "start_time": "2025-03-26T19:20:29.064Z"
   },
   {
    "duration": 52,
    "start_time": "2025-03-26T19:20:29.081Z"
   },
   {
    "duration": 1594,
    "start_time": "2025-03-26T19:20:29.159Z"
   },
   {
    "duration": 10,
    "start_time": "2025-03-26T19:20:30.755Z"
   },
   {
    "duration": 459,
    "start_time": "2025-03-26T19:20:30.766Z"
   },
   {
    "duration": 1052,
    "start_time": "2025-03-26T19:20:31.226Z"
   },
   {
    "duration": 4,
    "start_time": "2025-03-26T19:20:32.279Z"
   },
   {
    "duration": 21,
    "start_time": "2025-03-26T19:20:32.285Z"
   },
   {
    "duration": 135,
    "start_time": "2025-03-26T19:20:32.308Z"
   },
   {
    "duration": 13,
    "start_time": "2025-03-26T19:20:32.445Z"
   },
   {
    "duration": 3,
    "start_time": "2025-03-26T19:20:32.459Z"
   },
   {
    "duration": 25650,
    "start_time": "2025-03-26T19:20:32.464Z"
   },
   {
    "duration": 0,
    "start_time": "2025-03-26T19:20:58.115Z"
   },
   {
    "duration": 0,
    "start_time": "2025-03-26T19:20:58.117Z"
   },
   {
    "duration": 0,
    "start_time": "2025-03-26T19:20:58.118Z"
   },
   {
    "duration": 0,
    "start_time": "2025-03-26T19:20:58.119Z"
   },
   {
    "duration": 0,
    "start_time": "2025-03-26T19:20:58.120Z"
   },
   {
    "duration": 0,
    "start_time": "2025-03-26T19:20:58.121Z"
   },
   {
    "duration": 0,
    "start_time": "2025-03-26T19:20:58.122Z"
   },
   {
    "duration": 0,
    "start_time": "2025-03-26T19:20:58.123Z"
   },
   {
    "duration": 0,
    "start_time": "2025-03-26T19:20:58.125Z"
   },
   {
    "duration": 19,
    "start_time": "2025-03-26T19:21:13.861Z"
   },
   {
    "duration": 9612,
    "start_time": "2025-03-26T19:21:29.743Z"
   },
   {
    "duration": 1659,
    "start_time": "2025-03-26T19:21:39.358Z"
   },
   {
    "duration": 4,
    "start_time": "2025-03-26T19:21:41.019Z"
   },
   {
    "duration": 106,
    "start_time": "2025-03-26T19:21:41.025Z"
   },
   {
    "duration": 3,
    "start_time": "2025-03-26T19:21:41.133Z"
   },
   {
    "duration": 37,
    "start_time": "2025-03-26T19:21:41.138Z"
   },
   {
    "duration": 6,
    "start_time": "2025-03-26T19:21:41.177Z"
   },
   {
    "duration": 9,
    "start_time": "2025-03-26T19:21:41.185Z"
   },
   {
    "duration": 28,
    "start_time": "2025-03-26T19:21:41.196Z"
   },
   {
    "duration": 31,
    "start_time": "2025-03-26T19:21:41.227Z"
   },
   {
    "duration": 48,
    "start_time": "2025-03-26T19:21:41.259Z"
   },
   {
    "duration": 26,
    "start_time": "2025-03-26T19:21:41.308Z"
   },
   {
    "duration": 4,
    "start_time": "2025-03-26T19:21:41.357Z"
   },
   {
    "duration": 27,
    "start_time": "2025-03-26T19:21:41.363Z"
   },
   {
    "duration": 20,
    "start_time": "2025-03-26T19:21:41.392Z"
   },
   {
    "duration": 18,
    "start_time": "2025-03-26T19:21:41.413Z"
   },
   {
    "duration": 6,
    "start_time": "2025-03-26T19:21:41.432Z"
   },
   {
    "duration": 111,
    "start_time": "2025-03-26T19:21:41.439Z"
   },
   {
    "duration": 447,
    "start_time": "2025-03-26T19:21:41.554Z"
   },
   {
    "duration": 330,
    "start_time": "2025-03-26T19:21:42.003Z"
   },
   {
    "duration": 554,
    "start_time": "2025-03-26T19:21:42.335Z"
   },
   {
    "duration": 85,
    "start_time": "2025-03-26T19:21:42.891Z"
   },
   {
    "duration": 3,
    "start_time": "2025-03-26T19:21:42.978Z"
   },
   {
    "duration": 394,
    "start_time": "2025-03-26T19:21:42.983Z"
   },
   {
    "duration": 3,
    "start_time": "2025-03-26T19:21:43.378Z"
   },
   {
    "duration": 18,
    "start_time": "2025-03-26T19:21:43.383Z"
   },
   {
    "duration": 4,
    "start_time": "2025-03-26T19:21:43.403Z"
   },
   {
    "duration": 47,
    "start_time": "2025-03-26T19:21:43.412Z"
   },
   {
    "duration": 15,
    "start_time": "2025-03-26T19:21:43.461Z"
   },
   {
    "duration": 152,
    "start_time": "2025-03-26T19:21:43.478Z"
   },
   {
    "duration": 10,
    "start_time": "2025-03-26T19:21:43.631Z"
   },
   {
    "duration": 172,
    "start_time": "2025-03-26T19:21:43.643Z"
   },
   {
    "duration": 42,
    "start_time": "2025-03-26T19:21:43.817Z"
   },
   {
    "duration": 5,
    "start_time": "2025-03-26T19:21:43.861Z"
   },
   {
    "duration": 7,
    "start_time": "2025-03-26T19:21:43.868Z"
   },
   {
    "duration": 49,
    "start_time": "2025-03-26T19:21:43.877Z"
   },
   {
    "duration": 31,
    "start_time": "2025-03-26T19:21:43.927Z"
   },
   {
    "duration": 86,
    "start_time": "2025-03-26T19:21:43.960Z"
   },
   {
    "duration": 26,
    "start_time": "2025-03-26T19:21:44.048Z"
   },
   {
    "duration": 14,
    "start_time": "2025-03-26T19:21:44.076Z"
   },
   {
    "duration": 12,
    "start_time": "2025-03-26T19:21:44.091Z"
   },
   {
    "duration": 70,
    "start_time": "2025-03-26T19:21:44.105Z"
   },
   {
    "duration": 2530,
    "start_time": "2025-03-26T19:21:44.176Z"
   },
   {
    "duration": 55,
    "start_time": "2025-03-26T19:21:46.708Z"
   },
   {
    "duration": 520,
    "start_time": "2025-03-26T19:21:46.764Z"
   },
   {
    "duration": 1289,
    "start_time": "2025-03-26T19:21:47.286Z"
   },
   {
    "duration": 4,
    "start_time": "2025-03-26T19:21:48.576Z"
   },
   {
    "duration": 15,
    "start_time": "2025-03-26T19:21:48.581Z"
   },
   {
    "duration": 164,
    "start_time": "2025-03-26T19:21:48.598Z"
   },
   {
    "duration": 6,
    "start_time": "2025-03-26T19:21:48.763Z"
   },
   {
    "duration": 2,
    "start_time": "2025-03-26T19:21:48.771Z"
   },
   {
    "duration": 1068258,
    "start_time": "2025-03-26T19:21:48.774Z"
   },
   {
    "duration": 4,
    "start_time": "2025-03-26T19:39:37.034Z"
   },
   {
    "duration": 56792,
    "start_time": "2025-03-26T19:39:37.039Z"
   },
   {
    "duration": 3,
    "start_time": "2025-03-26T19:40:33.833Z"
   },
   {
    "duration": 56728,
    "start_time": "2025-03-26T19:40:33.838Z"
   },
   {
    "duration": 4,
    "start_time": "2025-03-26T19:41:30.567Z"
   },
   {
    "duration": 87,
    "start_time": "2025-03-26T19:41:30.572Z"
   },
   {
    "duration": 2242,
    "start_time": "2025-03-26T19:41:30.661Z"
   },
   {
    "duration": 10,
    "start_time": "2025-03-26T19:41:32.905Z"
   },
   {
    "duration": 5,
    "start_time": "2025-03-26T19:41:32.916Z"
   },
   {
    "duration": 4139,
    "start_time": "2025-03-26T19:42:20.330Z"
   },
   {
    "duration": 12,
    "start_time": "2025-03-26T19:42:24.471Z"
   },
   {
    "duration": 3,
    "start_time": "2025-03-26T19:42:24.485Z"
   },
   {
    "duration": 4140,
    "start_time": "2025-03-26T19:42:40.836Z"
   },
   {
    "duration": 12,
    "start_time": "2025-03-26T19:42:44.979Z"
   },
   {
    "duration": 4,
    "start_time": "2025-03-26T19:42:44.992Z"
   }
  ],
  "kernelspec": {
   "display_name": "Python 3 (ipykernel)",
   "language": "python",
   "name": "python3"
  },
  "language_info": {
   "codemirror_mode": {
    "name": "ipython",
    "version": 3
   },
   "file_extension": ".py",
   "mimetype": "text/x-python",
   "name": "python",
   "nbconvert_exporter": "python",
   "pygments_lexer": "ipython3",
   "version": "3.9.5"
  },
  "toc": {
   "base_numbering": 1,
   "nav_menu": {},
   "number_sections": true,
   "sideBar": true,
   "skip_h1_title": true,
   "title_cell": "Содержание",
   "title_sidebar": "Contents",
   "toc_cell": true,
   "toc_position": {
    "height": "calc(100% - 180px)",
    "left": "10px",
    "top": "150px",
    "width": "165px"
   },
   "toc_section_display": true,
   "toc_window_display": true
  }
 },
 "nbformat": 4,
 "nbformat_minor": 5
}
