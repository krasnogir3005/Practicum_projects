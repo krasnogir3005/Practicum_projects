{
 "cells": [
  {
   "cell_type": "markdown",
   "metadata": {
    "toc": true
   },
   "source": [
    "<h1>Содержание<span class=\"tocSkip\"></span></h1>\n",
    "<div class=\"toc\"><ul class=\"toc-item\"><li><span><a href=\"#Подготовка\" data-toc-modified-id=\"Подготовка-1\"><span class=\"toc-item-num\">1&nbsp;&nbsp;</span>Подготовка</a></span><ul class=\"toc-item\"><li><span><a href=\"#Выгрузка-данных-и-ресемплирование\" data-toc-modified-id=\"Выгрузка-данных-и-ресемплирование-1.1\"><span class=\"toc-item-num\">1.1&nbsp;&nbsp;</span>Выгрузка данных и ресемплирование</a></span></li></ul></li><li><span><a href=\"#Анализ\" data-toc-modified-id=\"Анализ-2\"><span class=\"toc-item-num\">2&nbsp;&nbsp;</span>Анализ</a></span><ul class=\"toc-item\"><li><span><a href=\"#Скользящее-среднее--и-распределение-по-отрезкам-времени\" data-toc-modified-id=\"Скользящее-среднее--и-распределение-по-отрезкам-времени-2.1\"><span class=\"toc-item-num\">2.1&nbsp;&nbsp;</span>Скользящее среднее  и распределение по отрезкам времени</a></span></li><li><span><a href=\"#Тренды-и-сезонность\" data-toc-modified-id=\"Тренды-и-сезонность-2.2\"><span class=\"toc-item-num\">2.2&nbsp;&nbsp;</span>Тренды и сезонность</a></span></li><li><span><a href=\"#Признаки-лагов\" data-toc-modified-id=\"Признаки-лагов-2.3\"><span class=\"toc-item-num\">2.3&nbsp;&nbsp;</span>Признаки лагов</a></span></li></ul></li><li><span><a href=\"#Обучение\" data-toc-modified-id=\"Обучение-3\"><span class=\"toc-item-num\">3&nbsp;&nbsp;</span>Обучение</a></span><ul class=\"toc-item\"><li><span><a href=\"#Catboost_model\" data-toc-modified-id=\"Catboost_model-3.1\"><span class=\"toc-item-num\">3.1&nbsp;&nbsp;</span>Catboost_model</a></span></li><li><span><a href=\"#LightGBM\" data-toc-modified-id=\"LightGBM-3.2\"><span class=\"toc-item-num\">3.2&nbsp;&nbsp;</span>LightGBM</a></span></li><li><span><a href=\"#Random-Forrest\" data-toc-modified-id=\"Random-Forrest-3.3\"><span class=\"toc-item-num\">3.3&nbsp;&nbsp;</span>Random Forrest</a></span></li></ul></li><li><span><a href=\"#Тестирование\" data-toc-modified-id=\"Тестирование-4\"><span class=\"toc-item-num\">4&nbsp;&nbsp;</span>Тестирование</a></span></li><li><span><a href=\"#Чек-лист-проверки\" data-toc-modified-id=\"Чек-лист-проверки-5\"><span class=\"toc-item-num\">5&nbsp;&nbsp;</span>Чек-лист проверки</a></span></li></ul></div>"
   ]
  },
  {
   "cell_type": "markdown",
   "metadata": {},
   "source": [
    "#  Прогнозирование заказов такси"
   ]
  },
  {
   "cell_type": "markdown",
   "metadata": {},
   "source": [
    "Компания «Чётенькое такси» собрала исторические данные о заказах такси в аэропортах. Чтобы привлекать больше водителей в период пиковой нагрузки, нужно спрогнозировать количество заказов такси на следующий час. Постройте модель для такого предсказания.\n",
    "\n",
    "Значение метрики *RMSE* на тестовой выборке должно быть не больше 48.\n",
    "\n",
    "Вам нужно:\n",
    "\n",
    "1. Загрузить данные и выполнить их ресемплирование по одному часу.\n",
    "2. Проанализировать данные.\n",
    "3. Обучить разные модели с различными гиперпараметрами. Сделать тестовую выборку размером 10% от исходных данных.\n",
    "4. Проверить данные на тестовой выборке и сделать выводы.\n",
    "\n",
    "\n",
    "Данные лежат в файле `taxi.csv`. Количество заказов находится в столбце `num_orders` (от англ. *number of orders*, «число заказов»)."
   ]
  },
  {
   "cell_type": "markdown",
   "metadata": {},
   "source": [
    "## Подготовка"
   ]
  },
  {
   "cell_type": "code",
   "execution_count": 1,
   "metadata": {},
   "outputs": [],
   "source": [
    "!pip install scikit-learn==1.1.3 -q\n",
    "!pip install numpy -q\n",
    "!pip install lightgbm -q"
   ]
  },
  {
   "cell_type": "code",
   "execution_count": 2,
   "metadata": {},
   "outputs": [],
   "source": [
    "import pandas as pd\n",
    "import matplotlib.pyplot as plt\n",
    "import numpy as np\n",
    "from scipy import stats as st\n",
    "import seaborn as sns\n",
    "import sklearn\n",
    "from statsmodels.tsa.seasonal import seasonal_decompose\n",
    "from statsmodels.graphics import tsaplots\n",
    "from sklearn.model_selection import train_test_split, cross_val_score, GridSearchCV, TimeSeriesSplit\n",
    "from lightgbm import LGBMRegressor\n",
    "from catboost import CatBoostRegressor\n",
    "from sklearn.ensemble import RandomForestRegressor \n",
    "from sklearn.metrics import mean_squared_error, make_scorer\n",
    "import warnings\n",
    "warnings.filterwarnings(\"ignore\")"
   ]
  },
  {
   "cell_type": "code",
   "execution_count": 3,
   "metadata": {},
   "outputs": [],
   "source": [
    "#Константы\n",
    "RANDOM_STATE = 42\n",
    "TEST_SIZE = 0.1"
   ]
  },
  {
   "cell_type": "markdown",
   "metadata": {},
   "source": [
    "### Выгрузка данных и ресемплирование"
   ]
  },
  {
   "cell_type": "code",
   "execution_count": 4,
   "metadata": {},
   "outputs": [],
   "source": [
    "# функция вывода информации о данных\n",
    "def data_info(data):\n",
    "    display(data.head(20))\n",
    "    data.info()\n",
    "    display(data.describe())"
   ]
  },
  {
   "cell_type": "code",
   "execution_count": 5,
   "metadata": {},
   "outputs": [],
   "source": [
    "taxi = pd.read_csv('/datasets/taxi.csv', parse_dates=[0], index_col = 'datetime')"
   ]
  },
  {
   "cell_type": "code",
   "execution_count": 6,
   "metadata": {},
   "outputs": [
    {
     "data": {
      "text/html": [
       "<div>\n",
       "<style scoped>\n",
       "    .dataframe tbody tr th:only-of-type {\n",
       "        vertical-align: middle;\n",
       "    }\n",
       "\n",
       "    .dataframe tbody tr th {\n",
       "        vertical-align: top;\n",
       "    }\n",
       "\n",
       "    .dataframe thead th {\n",
       "        text-align: right;\n",
       "    }\n",
       "</style>\n",
       "<table border=\"1\" class=\"dataframe\">\n",
       "  <thead>\n",
       "    <tr style=\"text-align: right;\">\n",
       "      <th></th>\n",
       "      <th>num_orders</th>\n",
       "    </tr>\n",
       "    <tr>\n",
       "      <th>datetime</th>\n",
       "      <th></th>\n",
       "    </tr>\n",
       "  </thead>\n",
       "  <tbody>\n",
       "    <tr>\n",
       "      <th>2018-03-01 00:00:00</th>\n",
       "      <td>9</td>\n",
       "    </tr>\n",
       "    <tr>\n",
       "      <th>2018-03-01 00:10:00</th>\n",
       "      <td>14</td>\n",
       "    </tr>\n",
       "    <tr>\n",
       "      <th>2018-03-01 00:20:00</th>\n",
       "      <td>28</td>\n",
       "    </tr>\n",
       "    <tr>\n",
       "      <th>2018-03-01 00:30:00</th>\n",
       "      <td>20</td>\n",
       "    </tr>\n",
       "    <tr>\n",
       "      <th>2018-03-01 00:40:00</th>\n",
       "      <td>32</td>\n",
       "    </tr>\n",
       "    <tr>\n",
       "      <th>2018-03-01 00:50:00</th>\n",
       "      <td>21</td>\n",
       "    </tr>\n",
       "    <tr>\n",
       "      <th>2018-03-01 01:00:00</th>\n",
       "      <td>7</td>\n",
       "    </tr>\n",
       "    <tr>\n",
       "      <th>2018-03-01 01:10:00</th>\n",
       "      <td>5</td>\n",
       "    </tr>\n",
       "    <tr>\n",
       "      <th>2018-03-01 01:20:00</th>\n",
       "      <td>17</td>\n",
       "    </tr>\n",
       "    <tr>\n",
       "      <th>2018-03-01 01:30:00</th>\n",
       "      <td>12</td>\n",
       "    </tr>\n",
       "    <tr>\n",
       "      <th>2018-03-01 01:40:00</th>\n",
       "      <td>19</td>\n",
       "    </tr>\n",
       "    <tr>\n",
       "      <th>2018-03-01 01:50:00</th>\n",
       "      <td>25</td>\n",
       "    </tr>\n",
       "    <tr>\n",
       "      <th>2018-03-01 02:00:00</th>\n",
       "      <td>22</td>\n",
       "    </tr>\n",
       "    <tr>\n",
       "      <th>2018-03-01 02:10:00</th>\n",
       "      <td>12</td>\n",
       "    </tr>\n",
       "    <tr>\n",
       "      <th>2018-03-01 02:20:00</th>\n",
       "      <td>19</td>\n",
       "    </tr>\n",
       "    <tr>\n",
       "      <th>2018-03-01 02:30:00</th>\n",
       "      <td>8</td>\n",
       "    </tr>\n",
       "    <tr>\n",
       "      <th>2018-03-01 02:40:00</th>\n",
       "      <td>6</td>\n",
       "    </tr>\n",
       "    <tr>\n",
       "      <th>2018-03-01 02:50:00</th>\n",
       "      <td>4</td>\n",
       "    </tr>\n",
       "    <tr>\n",
       "      <th>2018-03-01 03:00:00</th>\n",
       "      <td>8</td>\n",
       "    </tr>\n",
       "    <tr>\n",
       "      <th>2018-03-01 03:10:00</th>\n",
       "      <td>17</td>\n",
       "    </tr>\n",
       "  </tbody>\n",
       "</table>\n",
       "</div>"
      ],
      "text/plain": [
       "                     num_orders\n",
       "datetime                       \n",
       "2018-03-01 00:00:00           9\n",
       "2018-03-01 00:10:00          14\n",
       "2018-03-01 00:20:00          28\n",
       "2018-03-01 00:30:00          20\n",
       "2018-03-01 00:40:00          32\n",
       "2018-03-01 00:50:00          21\n",
       "2018-03-01 01:00:00           7\n",
       "2018-03-01 01:10:00           5\n",
       "2018-03-01 01:20:00          17\n",
       "2018-03-01 01:30:00          12\n",
       "2018-03-01 01:40:00          19\n",
       "2018-03-01 01:50:00          25\n",
       "2018-03-01 02:00:00          22\n",
       "2018-03-01 02:10:00          12\n",
       "2018-03-01 02:20:00          19\n",
       "2018-03-01 02:30:00           8\n",
       "2018-03-01 02:40:00           6\n",
       "2018-03-01 02:50:00           4\n",
       "2018-03-01 03:00:00           8\n",
       "2018-03-01 03:10:00          17"
      ]
     },
     "metadata": {},
     "output_type": "display_data"
    },
    {
     "name": "stdout",
     "output_type": "stream",
     "text": [
      "<class 'pandas.core.frame.DataFrame'>\n",
      "DatetimeIndex: 26496 entries, 2018-03-01 00:00:00 to 2018-08-31 23:50:00\n",
      "Data columns (total 1 columns):\n",
      " #   Column      Non-Null Count  Dtype\n",
      "---  ------      --------------  -----\n",
      " 0   num_orders  26496 non-null  int64\n",
      "dtypes: int64(1)\n",
      "memory usage: 414.0 KB\n"
     ]
    },
    {
     "data": {
      "text/html": [
       "<div>\n",
       "<style scoped>\n",
       "    .dataframe tbody tr th:only-of-type {\n",
       "        vertical-align: middle;\n",
       "    }\n",
       "\n",
       "    .dataframe tbody tr th {\n",
       "        vertical-align: top;\n",
       "    }\n",
       "\n",
       "    .dataframe thead th {\n",
       "        text-align: right;\n",
       "    }\n",
       "</style>\n",
       "<table border=\"1\" class=\"dataframe\">\n",
       "  <thead>\n",
       "    <tr style=\"text-align: right;\">\n",
       "      <th></th>\n",
       "      <th>num_orders</th>\n",
       "    </tr>\n",
       "  </thead>\n",
       "  <tbody>\n",
       "    <tr>\n",
       "      <th>count</th>\n",
       "      <td>26496.000000</td>\n",
       "    </tr>\n",
       "    <tr>\n",
       "      <th>mean</th>\n",
       "      <td>14.070463</td>\n",
       "    </tr>\n",
       "    <tr>\n",
       "      <th>std</th>\n",
       "      <td>9.211330</td>\n",
       "    </tr>\n",
       "    <tr>\n",
       "      <th>min</th>\n",
       "      <td>0.000000</td>\n",
       "    </tr>\n",
       "    <tr>\n",
       "      <th>25%</th>\n",
       "      <td>8.000000</td>\n",
       "    </tr>\n",
       "    <tr>\n",
       "      <th>50%</th>\n",
       "      <td>13.000000</td>\n",
       "    </tr>\n",
       "    <tr>\n",
       "      <th>75%</th>\n",
       "      <td>19.000000</td>\n",
       "    </tr>\n",
       "    <tr>\n",
       "      <th>max</th>\n",
       "      <td>119.000000</td>\n",
       "    </tr>\n",
       "  </tbody>\n",
       "</table>\n",
       "</div>"
      ],
      "text/plain": [
       "         num_orders\n",
       "count  26496.000000\n",
       "mean      14.070463\n",
       "std        9.211330\n",
       "min        0.000000\n",
       "25%        8.000000\n",
       "50%       13.000000\n",
       "75%       19.000000\n",
       "max      119.000000"
      ]
     },
     "metadata": {},
     "output_type": "display_data"
    }
   ],
   "source": [
    "data_info(taxi)"
   ]
  },
  {
   "cell_type": "code",
   "execution_count": 7,
   "metadata": {},
   "outputs": [],
   "source": [
    "taxi= taxi.sort_index(ascending=True)"
   ]
  },
  {
   "cell_type": "code",
   "execution_count": 8,
   "metadata": {},
   "outputs": [
    {
     "data": {
      "text/plain": [
       "True"
      ]
     },
     "execution_count": 8,
     "metadata": {},
     "output_type": "execute_result"
    }
   ],
   "source": [
    "taxi.index.is_monotonic"
   ]
  },
  {
   "cell_type": "code",
   "execution_count": 9,
   "metadata": {},
   "outputs": [],
   "source": [
    "taxi = taxi.resample('1H').sum() "
   ]
  },
  {
   "cell_type": "code",
   "execution_count": 10,
   "metadata": {},
   "outputs": [
    {
     "data": {
      "text/plain": [
       "<AxesSubplot:xlabel='datetime'>"
      ]
     },
     "execution_count": 10,
     "metadata": {},
     "output_type": "execute_result"
    },
    {
     "data": {
      "image/png": "[encoded data removed]",
      "text/plain": [
       "<Figure size 432x288 with 1 Axes>"
      ]
     },
     "metadata": {
      "needs_background": "light"
     },
     "output_type": "display_data"
    }
   ],
   "source": [
    "taxi.plot()"
   ]
  },
  {
   "cell_type": "markdown",
   "metadata": {},
   "source": [
    "## Анализ"
   ]
  },
  {
   "cell_type": "markdown",
   "metadata": {},
   "source": [
    "### Скользящее среднее  и распределение по отрезкам времени"
   ]
  },
  {
   "cell_type": "code",
   "execution_count": 11,
   "metadata": {},
   "outputs": [],
   "source": [
    "taxi['rolling_mean'] = taxi.rolling(100, min_periods=2).mean()"
   ]
  },
  {
   "cell_type": "code",
   "execution_count": 12,
   "metadata": {},
   "outputs": [
    {
     "data": {
      "text/plain": [
       "<AxesSubplot:xlabel='datetime'>"
      ]
     },
     "execution_count": 12,
     "metadata": {},
     "output_type": "execute_result"
    },
    {
     "data": {
      "image/png": "[encoded data removed]",
      "text/plain": [
       "<Figure size 432x288 with 1 Axes>"
      ]
     },
     "metadata": {
      "needs_background": "light"
     },
     "output_type": "display_data"
    }
   ],
   "source": [
    "taxi.plot()"
   ]
  },
  {
   "cell_type": "code",
   "execution_count": 13,
   "metadata": {},
   "outputs": [],
   "source": [
    "taxi['day'] = taxi.index.day\n",
    "taxi['day_of_week'] = taxi.index.dayofweek\n",
    "taxi['hour'] = taxi.index.hour"
   ]
  },
  {
   "cell_type": "code",
   "execution_count": 14,
   "metadata": {},
   "outputs": [
    {
     "data": {
      "text/plain": [
       "<AxesSubplot:xlabel='day'>"
      ]
     },
     "execution_count": 14,
     "metadata": {},
     "output_type": "execute_result"
    },
    {
     "data": {
      "image/png": "[encoded data removed]",
      "text/plain": [
       "<Figure size 432x288 with 1 Axes>"
      ]
     },
     "metadata": {
      "needs_background": "light"
     },
     "output_type": "display_data"
    }
   ],
   "source": [
    "pd.pivot_table(taxi, values='num_orders', index='day', aggfunc='mean').plot()"
   ]
  },
  {
   "cell_type": "markdown",
   "metadata": {},
   "source": [
    "Ближе к концу месяца заказов больше"
   ]
  },
  {
   "cell_type": "code",
   "execution_count": 15,
   "metadata": {},
   "outputs": [
    {
     "data": {
      "text/plain": [
       "<AxesSubplot:xlabel='day_of_week'>"
      ]
     },
     "execution_count": 15,
     "metadata": {},
     "output_type": "execute_result"
    },
    {
     "data": {
      "image/png": "[encoded data removed]",
      "text/plain": [
       "<Figure size 432x288 with 1 Axes>"
      ]
     },
     "metadata": {
      "needs_background": "light"
     },
     "output_type": "display_data"
    }
   ],
   "source": [
    "pd.pivot_table(taxi, values='num_orders', index='day_of_week', aggfunc='mean').plot()"
   ]
  },
  {
   "cell_type": "markdown",
   "metadata": {},
   "source": [
    "Обнаружен пик активности заказов в пятницу (что логично -гости, мероприятия - чаще пользуешься такси) и в понедельник. <br>  "
   ]
  },
  {
   "cell_type": "code",
   "execution_count": 16,
   "metadata": {},
   "outputs": [
    {
     "data": {
      "text/plain": [
       "<AxesSubplot:xlabel='hour'>"
      ]
     },
     "execution_count": 16,
     "metadata": {},
     "output_type": "execute_result"
    },
    {
     "data": {
      "image/png": "[encoded data removed]",
      "text/plain": [
       "<Figure size 432x288 with 1 Axes>"
      ]
     },
     "metadata": {
      "needs_background": "light"
     },
     "output_type": "display_data"
    }
   ],
   "source": [
    "pd.pivot_table(taxi, values='num_orders', index='hour', aggfunc='mean').plot()"
   ]
  },
  {
   "cell_type": "markdown",
   "metadata": {},
   "source": [
    "Видим пик активности в районе 16-17 часов, а также 23-00"
   ]
  },
  {
   "cell_type": "markdown",
   "metadata": {},
   "source": [
    "### Тренды и сезонность"
   ]
  },
  {
   "cell_type": "code",
   "execution_count": 17,
   "metadata": {},
   "outputs": [],
   "source": [
    "decomposed = seasonal_decompose(taxi['num_orders'])"
   ]
  },
  {
   "cell_type": "code",
   "execution_count": 18,
   "metadata": {},
   "outputs": [
    {
     "data": {
      "image/png": "[encoded data removed]",
      "text/plain": [
       "<Figure size 432x288 with 1 Axes>"
      ]
     },
     "metadata": {
      "needs_background": "light"
     },
     "output_type": "display_data"
    }
   ],
   "source": [
    "decomposed.trend.plot()\n",
    "plt.title('Trend')\n",
    "plt.show()"
   ]
  },
  {
   "cell_type": "markdown",
   "metadata": {},
   "source": [
    "Наблюдается восходящий тренд  с ускорением к лету"
   ]
  },
  {
   "cell_type": "code",
   "execution_count": 19,
   "metadata": {},
   "outputs": [
    {
     "data": {
      "image/png": "[encoded data removed]",
      "text/plain": [
       "<Figure size 432x288 with 1 Axes>"
      ]
     },
     "metadata": {
      "needs_background": "light"
     },
     "output_type": "display_data"
    }
   ],
   "source": [
    "decomposed.resid.plot()\n",
    "plt.title('Resid')\n",
    "plt.show()"
   ]
  },
  {
   "cell_type": "markdown",
   "metadata": {},
   "source": [
    "Остатки нестабильные, с увеличением к концу рассматриваемого периода <br> Доля остатков к концу периода больше"
   ]
  },
  {
   "cell_type": "markdown",
   "metadata": {},
   "source": [
    "Рассмотрим временной ряд понедельно, поскольку плотность данных высока:"
   ]
  },
  {
   "cell_type": "code",
   "execution_count": 20,
   "metadata": {},
   "outputs": [
    {
     "data": {
      "image/png": "[encoded data removed]",
      "text/plain": [
       "<Figure size 432x288 with 1 Axes>"
      ]
     },
     "metadata": {
      "needs_background": "light"
     },
     "output_type": "display_data"
    }
   ],
   "source": [
    "decomposed.seasonal.plot()\n",
    "plt.title('SEASONAL weekly')\n",
    "plt.xlim(('2018-03-01', '2018-03-07'))\n",
    "plt.show()"
   ]
  },
  {
   "cell_type": "markdown",
   "metadata": {},
   "source": [
    "Можно наблюдать зависимость от часа дня."
   ]
  },
  {
   "cell_type": "markdown",
   "metadata": {},
   "source": [
    "### Признаки лагов"
   ]
  },
  {
   "cell_type": "markdown",
   "metadata": {},
   "source": [
    "Видим общий восходящий тренд и четкую посуточную сезонность. Примем количество лагов 24."
   ]
  },
  {
   "cell_type": "code",
   "execution_count": 21,
   "metadata": {},
   "outputs": [],
   "source": [
    "def make_features(df, max_lag, rolling_mean_size):\n",
    "    data = df.copy()\n",
    "    data['day_of_week'] = data.index.dayofweek\n",
    "    data['hour'] = data.index.hour\n",
    "    for lag in range(1, max_lag + 1):\n",
    "        data['lag_{}'.format(lag)] = data['num_orders'].shift(lag)\n",
    "    data['rolling_mean'] = data['num_orders'].shift().rolling(rolling_mean_size).mean()\n",
    "    return data"
   ]
  },
  {
   "cell_type": "code",
   "execution_count": 22,
   "metadata": {},
   "outputs": [
    {
     "data": {
      "image/png": "[encoded data removed]",
      "text/plain": [
       "<Figure size 1332x432 with 1 Axes>"
      ]
     },
     "metadata": {
      "needs_background": "light"
     },
     "output_type": "display_data"
    }
   ],
   "source": [
    "ts = taxi['num_orders']\n",
    "\n",
    "fig = tsaplots.plot_acf(ts,lags= 190)\n",
    "fig.set_size_inches(18.5, 6)\n",
    "plt.ylim(-.1, 1.1)\n",
    "plt.show() "
   ]
  },
  {
   "cell_type": "markdown",
   "metadata": {},
   "source": [
    "Также добавим 168 лаг по результатам автокорреляции"
   ]
  },
  {
   "cell_type": "code",
   "execution_count": 23,
   "metadata": {},
   "outputs": [],
   "source": [
    "taxi_1 = make_features(taxi, 168, 10).dropna()"
   ]
  },
  {
   "cell_type": "code",
   "execution_count": 24,
   "metadata": {},
   "outputs": [],
   "source": [
    "taxi = make_features(taxi, 24, 10).dropna()"
   ]
  },
  {
   "cell_type": "code",
   "execution_count": 25,
   "metadata": {},
   "outputs": [],
   "source": [
    "lag_168 = taxi_1['lag_168']"
   ]
  },
  {
   "cell_type": "code",
   "execution_count": 26,
   "metadata": {},
   "outputs": [],
   "source": [
    "taxi = pd.concat([taxi, lag_168], axis=1)"
   ]
  },
  {
   "cell_type": "markdown",
   "metadata": {},
   "source": [
    "## Обучение"
   ]
  },
  {
   "cell_type": "code",
   "execution_count": 29,
   "metadata": {},
   "outputs": [],
   "source": [
    "train, test = train_test_split(taxi, shuffle=False, test_size=TEST_SIZE)\n",
    "train = train.dropna()\n",
    "\n",
    "y_train = train['num_orders']\n",
    "X_train = train.drop('num_orders', axis=1)\n",
    "\n",
    "y_test = test['num_orders']\n",
    "X_test = test.drop('num_orders', axis=1)"
   ]
  },
  {
   "cell_type": "markdown",
   "metadata": {},
   "source": [
    "Для анализа важности признаков добавим функцию importances"
   ]
  },
  {
   "cell_type": "code",
   "execution_count": 30,
   "metadata": {},
   "outputs": [],
   "source": [
    "def importances(model,features):\n",
    "    features=features.columns\n",
    "    importances = model.best_estimator_.feature_importances_\n",
    "    indexes = np.argsort(importances)\n",
    "    \n",
    "    plt.figure(figsize=(11, 5))\n",
    "    plt.title('Важность признака')\n",
    "    plt.barh(range(len(indexes)), importances[indexes])\n",
    "    plt.yticks(range(len(indexes)), features[indexes])\n",
    "    plt.xlabel('Относительная важность')\n",
    "    plt.show()"
   ]
  },
  {
   "cell_type": "markdown",
   "metadata": {},
   "source": [
    "### Catboost_model"
   ]
  },
  {
   "cell_type": "code",
   "execution_count": 31,
   "metadata": {},
   "outputs": [
    {
     "data": {
      "text/html": [
       "<style>#sk-container-id-1 {color: black;background-color: white;}#sk-container-id-1 pre{padding: 0;}#sk-container-id-1 div.sk-toggleable {background-color: white;}#sk-container-id-1 label.sk-toggleable__label {cursor: pointer;display: block;width: 100%;margin-bottom: 0;padding: 0.3em;box-sizing: border-box;text-align: center;}#sk-container-id-1 label.sk-toggleable__label-arrow:before {content: \"▸\";float: left;margin-right: 0.25em;color: #696969;}#sk-container-id-1 label.sk-toggleable__label-arrow:hover:before {color: black;}#sk-container-id-1 div.sk-estimator:hover label.sk-toggleable__label-arrow:before {color: black;}#sk-container-id-1 div.sk-toggleable__content {max-height: 0;max-width: 0;overflow: hidden;text-align: left;background-color: #f0f8ff;}#sk-container-id-1 div.sk-toggleable__content pre {margin: 0.2em;color: black;border-radius: 0.25em;background-color: #f0f8ff;}#sk-container-id-1 input.sk-toggleable__control:checked~div.sk-toggleable__content {max-height: 200px;max-width: 100%;overflow: auto;}#sk-container-id-1 input.sk-toggleable__control:checked~label.sk-toggleable__label-arrow:before {content: \"▾\";}#sk-container-id-1 div.sk-estimator input.sk-toggleable__control:checked~label.sk-toggleable__label {background-color: #d4ebff;}#sk-container-id-1 div.sk-label input.sk-toggleable__control:checked~label.sk-toggleable__label {background-color: #d4ebff;}#sk-container-id-1 input.sk-hidden--visually {border: 0;clip: rect(1px 1px 1px 1px);clip: rect(1px, 1px, 1px, 1px);height: 1px;margin: -1px;overflow: hidden;padding: 0;position: absolute;width: 1px;}#sk-container-id-1 div.sk-estimator {font-family: monospace;background-color: #f0f8ff;border: 1px dotted black;border-radius: 0.25em;box-sizing: border-box;margin-bottom: 0.5em;}#sk-container-id-1 div.sk-estimator:hover {background-color: #d4ebff;}#sk-container-id-1 div.sk-parallel-item::after {content: \"\";width: 100%;border-bottom: 1px solid gray;flex-grow: 1;}#sk-container-id-1 div.sk-label:hover label.sk-toggleable__label {background-color: #d4ebff;}#sk-container-id-1 div.sk-serial::before {content: \"\";position: absolute;border-left: 1px solid gray;box-sizing: border-box;top: 0;bottom: 0;left: 50%;z-index: 0;}#sk-container-id-1 div.sk-serial {display: flex;flex-direction: column;align-items: center;background-color: white;padding-right: 0.2em;padding-left: 0.2em;position: relative;}#sk-container-id-1 div.sk-item {position: relative;z-index: 1;}#sk-container-id-1 div.sk-parallel {display: flex;align-items: stretch;justify-content: center;background-color: white;position: relative;}#sk-container-id-1 div.sk-item::before, #sk-container-id-1 div.sk-parallel-item::before {content: \"\";position: absolute;border-left: 1px solid gray;box-sizing: border-box;top: 0;bottom: 0;left: 50%;z-index: -1;}#sk-container-id-1 div.sk-parallel-item {display: flex;flex-direction: column;z-index: 1;position: relative;background-color: white;}#sk-container-id-1 div.sk-parallel-item:first-child::after {align-self: flex-end;width: 50%;}#sk-container-id-1 div.sk-parallel-item:last-child::after {align-self: flex-start;width: 50%;}#sk-container-id-1 div.sk-parallel-item:only-child::after {width: 0;}#sk-container-id-1 div.sk-dashed-wrapped {border: 1px dashed gray;margin: 0 0.4em 0.5em 0.4em;box-sizing: border-box;padding-bottom: 0.4em;background-color: white;}#sk-container-id-1 div.sk-label label {font-family: monospace;font-weight: bold;display: inline-block;line-height: 1.2em;}#sk-container-id-1 div.sk-label-container {text-align: center;}#sk-container-id-1 div.sk-container {/* jupyter's `normalize.less` sets `[hidden] { display: none; }` but bootstrap.min.css set `[hidden] { display: none !important; }` so we also need the `!important` here to be able to override the default hidden behavior on the sphinx rendered scikit-learn.org. See: https://github.com/scikit-learn/scikit-learn/issues/21755 */display: inline-block !important;position: relative;}#sk-container-id-1 div.sk-text-repr-fallback {display: none;}</style><div id=\"sk-container-id-1\" class=\"sk-top-container\"><div class=\"sk-text-repr-fallback\"><pre>GridSearchCV(cv=TimeSeriesSplit(gap=0, max_train_size=None, n_splits=5, test_size=None),\n",
       "             estimator=&lt;catboost.core.CatBoostRegressor object at 0x7f393da8b940&gt;,\n",
       "             param_grid={&#x27;depth&#x27;: [5, 10], &#x27;learning_rate&#x27;: [0.03, 0.1]},\n",
       "             scoring=&#x27;neg_mean_squared_error&#x27;)</pre><b>In a Jupyter environment, please rerun this cell to show the HTML representation or trust the notebook. <br />On GitHub, the HTML representation is unable to render, please try loading this page with nbviewer.org.</b></div><div class=\"sk-container\" hidden><div class=\"sk-item sk-dashed-wrapped\"><div class=\"sk-label-container\"><div class=\"sk-label sk-toggleable\"><input class=\"sk-toggleable__control sk-hidden--visually\" id=\"sk-estimator-id-1\" type=\"checkbox\" ><label for=\"sk-estimator-id-1\" class=\"sk-toggleable__label sk-toggleable__label-arrow\">GridSearchCV</label><div class=\"sk-toggleable__content\"><pre>GridSearchCV(cv=TimeSeriesSplit(gap=0, max_train_size=None, n_splits=5, test_size=None),\n",
       "             estimator=&lt;catboost.core.CatBoostRegressor object at 0x7f393da8b940&gt;,\n",
       "             param_grid={&#x27;depth&#x27;: [5, 10], &#x27;learning_rate&#x27;: [0.03, 0.1]},\n",
       "             scoring=&#x27;neg_mean_squared_error&#x27;)</pre></div></div></div><div class=\"sk-parallel\"><div class=\"sk-parallel-item\"><div class=\"sk-item\"><div class=\"sk-label-container\"><div class=\"sk-label sk-toggleable\"><input class=\"sk-toggleable__control sk-hidden--visually\" id=\"sk-estimator-id-2\" type=\"checkbox\" ><label for=\"sk-estimator-id-2\" class=\"sk-toggleable__label sk-toggleable__label-arrow\">estimator: CatBoostRegressor</label><div class=\"sk-toggleable__content\"><pre>&lt;catboost.core.CatBoostRegressor object at 0x7f393da8b940&gt;</pre></div></div></div><div class=\"sk-serial\"><div class=\"sk-item\"><div class=\"sk-estimator sk-toggleable\"><input class=\"sk-toggleable__control sk-hidden--visually\" id=\"sk-estimator-id-3\" type=\"checkbox\" ><label for=\"sk-estimator-id-3\" class=\"sk-toggleable__label sk-toggleable__label-arrow\">CatBoostRegressor</label><div class=\"sk-toggleable__content\"><pre>&lt;catboost.core.CatBoostRegressor object at 0x7f393da8b940&gt;</pre></div></div></div></div></div></div></div></div></div></div>"
      ],
      "text/plain": [
       "GridSearchCV(cv=TimeSeriesSplit(gap=0, max_train_size=None, n_splits=5, test_size=None),\n",
       "             estimator=<catboost.core.CatBoostRegressor object at 0x7f393da8b940>,\n",
       "             param_grid={'depth': [5, 10], 'learning_rate': [0.03, 0.1]},\n",
       "             scoring='neg_mean_squared_error')"
      ]
     },
     "execution_count": 31,
     "metadata": {},
     "output_type": "execute_result"
    }
   ],
   "source": [
    "catboost_model = CatBoostRegressor(random_state=RANDOM_STATE, verbose=False)\n",
    "param_grid = {'learning_rate': [0.03, 0.1],\n",
    "              'depth': [5, 10]\n",
    "}\n",
    "\n",
    "tscv = TimeSeriesSplit(n_splits=5)\n",
    "gsearch_c = GridSearchCV(estimator=catboost_model, cv=tscv, param_grid=param_grid, scoring='neg_mean_squared_error')\n",
    "gsearch_c.fit(X_train, y_train)"
   ]
  },
  {
   "cell_type": "code",
   "execution_count": 32,
   "metadata": {},
   "outputs": [],
   "source": [
    "RMSE_catboost = mean_squared_error(y_train, gsearch_c.predict(X_train)) ** 0.5"
   ]
  },
  {
   "cell_type": "code",
   "execution_count": 33,
   "metadata": {},
   "outputs": [
    {
     "name": "stdout",
     "output_type": "stream",
     "text": [
      "Catboost-RMSE 15.60058085585057\n"
     ]
    }
   ],
   "source": [
    "print('Catboost-RMSE', RMSE_catboost)"
   ]
  },
  {
   "cell_type": "code",
   "execution_count": 34,
   "metadata": {},
   "outputs": [
    {
     "data": {
      "image/png": "[encoded data removed]",
      "text/plain": [
       "<Figure size 792x360 with 1 Axes>"
      ]
     },
     "metadata": {
      "needs_background": "light"
     },
     "output_type": "display_data"
    }
   ],
   "source": [
    "importances(gsearch_c, X_train)"
   ]
  },
  {
   "cell_type": "markdown",
   "metadata": {},
   "source": [
    "### LightGBM"
   ]
  },
  {
   "cell_type": "code",
   "execution_count": 35,
   "metadata": {},
   "outputs": [],
   "source": [
    "lgbm_model = LGBMRegressor(objective='root_mean_squared_error',\n",
    "                           random_state=RANDOM_STATE,\n",
    "                           verbose=-1)"
   ]
  },
  {
   "cell_type": "code",
   "execution_count": 36,
   "metadata": {},
   "outputs": [
    {
     "data": {
      "text/html": [
       "<style>#sk-container-id-2 {color: black;background-color: white;}#sk-container-id-2 pre{padding: 0;}#sk-container-id-2 div.sk-toggleable {background-color: white;}#sk-container-id-2 label.sk-toggleable__label {cursor: pointer;display: block;width: 100%;margin-bottom: 0;padding: 0.3em;box-sizing: border-box;text-align: center;}#sk-container-id-2 label.sk-toggleable__label-arrow:before {content: \"▸\";float: left;margin-right: 0.25em;color: #696969;}#sk-container-id-2 label.sk-toggleable__label-arrow:hover:before {color: black;}#sk-container-id-2 div.sk-estimator:hover label.sk-toggleable__label-arrow:before {color: black;}#sk-container-id-2 div.sk-toggleable__content {max-height: 0;max-width: 0;overflow: hidden;text-align: left;background-color: #f0f8ff;}#sk-container-id-2 div.sk-toggleable__content pre {margin: 0.2em;color: black;border-radius: 0.25em;background-color: #f0f8ff;}#sk-container-id-2 input.sk-toggleable__control:checked~div.sk-toggleable__content {max-height: 200px;max-width: 100%;overflow: auto;}#sk-container-id-2 input.sk-toggleable__control:checked~label.sk-toggleable__label-arrow:before {content: \"▾\";}#sk-container-id-2 div.sk-estimator input.sk-toggleable__control:checked~label.sk-toggleable__label {background-color: #d4ebff;}#sk-container-id-2 div.sk-label input.sk-toggleable__control:checked~label.sk-toggleable__label {background-color: #d4ebff;}#sk-container-id-2 input.sk-hidden--visually {border: 0;clip: rect(1px 1px 1px 1px);clip: rect(1px, 1px, 1px, 1px);height: 1px;margin: -1px;overflow: hidden;padding: 0;position: absolute;width: 1px;}#sk-container-id-2 div.sk-estimator {font-family: monospace;background-color: #f0f8ff;border: 1px dotted black;border-radius: 0.25em;box-sizing: border-box;margin-bottom: 0.5em;}#sk-container-id-2 div.sk-estimator:hover {background-color: #d4ebff;}#sk-container-id-2 div.sk-parallel-item::after {content: \"\";width: 100%;border-bottom: 1px solid gray;flex-grow: 1;}#sk-container-id-2 div.sk-label:hover label.sk-toggleable__label {background-color: #d4ebff;}#sk-container-id-2 div.sk-serial::before {content: \"\";position: absolute;border-left: 1px solid gray;box-sizing: border-box;top: 0;bottom: 0;left: 50%;z-index: 0;}#sk-container-id-2 div.sk-serial {display: flex;flex-direction: column;align-items: center;background-color: white;padding-right: 0.2em;padding-left: 0.2em;position: relative;}#sk-container-id-2 div.sk-item {position: relative;z-index: 1;}#sk-container-id-2 div.sk-parallel {display: flex;align-items: stretch;justify-content: center;background-color: white;position: relative;}#sk-container-id-2 div.sk-item::before, #sk-container-id-2 div.sk-parallel-item::before {content: \"\";position: absolute;border-left: 1px solid gray;box-sizing: border-box;top: 0;bottom: 0;left: 50%;z-index: -1;}#sk-container-id-2 div.sk-parallel-item {display: flex;flex-direction: column;z-index: 1;position: relative;background-color: white;}#sk-container-id-2 div.sk-parallel-item:first-child::after {align-self: flex-end;width: 50%;}#sk-container-id-2 div.sk-parallel-item:last-child::after {align-self: flex-start;width: 50%;}#sk-container-id-2 div.sk-parallel-item:only-child::after {width: 0;}#sk-container-id-2 div.sk-dashed-wrapped {border: 1px dashed gray;margin: 0 0.4em 0.5em 0.4em;box-sizing: border-box;padding-bottom: 0.4em;background-color: white;}#sk-container-id-2 div.sk-label label {font-family: monospace;font-weight: bold;display: inline-block;line-height: 1.2em;}#sk-container-id-2 div.sk-label-container {text-align: center;}#sk-container-id-2 div.sk-container {/* jupyter's `normalize.less` sets `[hidden] { display: none; }` but bootstrap.min.css set `[hidden] { display: none !important; }` so we also need the `!important` here to be able to override the default hidden behavior on the sphinx rendered scikit-learn.org. See: https://github.com/scikit-learn/scikit-learn/issues/21755 */display: inline-block !important;position: relative;}#sk-container-id-2 div.sk-text-repr-fallback {display: none;}</style><div id=\"sk-container-id-2\" class=\"sk-top-container\"><div class=\"sk-text-repr-fallback\"><pre>GridSearchCV(cv=TimeSeriesSplit(gap=0, max_train_size=None, n_splits=5, test_size=None),\n",
       "             estimator=LGBMRegressor(objective=&#x27;root_mean_squared_error&#x27;,\n",
       "                                     random_state=42, verbose=-1),\n",
       "             param_grid={&#x27;learning_rate&#x27;: [0.1, 0.3, 1],\n",
       "                         &#x27;max_depth&#x27;: [1, 2, 6]},\n",
       "             scoring=&#x27;neg_mean_squared_error&#x27;)</pre><b>In a Jupyter environment, please rerun this cell to show the HTML representation or trust the notebook. <br />On GitHub, the HTML representation is unable to render, please try loading this page with nbviewer.org.</b></div><div class=\"sk-container\" hidden><div class=\"sk-item sk-dashed-wrapped\"><div class=\"sk-label-container\"><div class=\"sk-label sk-toggleable\"><input class=\"sk-toggleable__control sk-hidden--visually\" id=\"sk-estimator-id-4\" type=\"checkbox\" ><label for=\"sk-estimator-id-4\" class=\"sk-toggleable__label sk-toggleable__label-arrow\">GridSearchCV</label><div class=\"sk-toggleable__content\"><pre>GridSearchCV(cv=TimeSeriesSplit(gap=0, max_train_size=None, n_splits=5, test_size=None),\n",
       "             estimator=LGBMRegressor(objective=&#x27;root_mean_squared_error&#x27;,\n",
       "                                     random_state=42, verbose=-1),\n",
       "             param_grid={&#x27;learning_rate&#x27;: [0.1, 0.3, 1],\n",
       "                         &#x27;max_depth&#x27;: [1, 2, 6]},\n",
       "             scoring=&#x27;neg_mean_squared_error&#x27;)</pre></div></div></div><div class=\"sk-parallel\"><div class=\"sk-parallel-item\"><div class=\"sk-item\"><div class=\"sk-label-container\"><div class=\"sk-label sk-toggleable\"><input class=\"sk-toggleable__control sk-hidden--visually\" id=\"sk-estimator-id-5\" type=\"checkbox\" ><label for=\"sk-estimator-id-5\" class=\"sk-toggleable__label sk-toggleable__label-arrow\">estimator: LGBMRegressor</label><div class=\"sk-toggleable__content\"><pre>LGBMRegressor(objective=&#x27;root_mean_squared_error&#x27;, random_state=42, verbose=-1)</pre></div></div></div><div class=\"sk-serial\"><div class=\"sk-item\"><div class=\"sk-estimator sk-toggleable\"><input class=\"sk-toggleable__control sk-hidden--visually\" id=\"sk-estimator-id-6\" type=\"checkbox\" ><label for=\"sk-estimator-id-6\" class=\"sk-toggleable__label sk-toggleable__label-arrow\">LGBMRegressor</label><div class=\"sk-toggleable__content\"><pre>LGBMRegressor(objective=&#x27;root_mean_squared_error&#x27;, random_state=42, verbose=-1)</pre></div></div></div></div></div></div></div></div></div></div>"
      ],
      "text/plain": [
       "GridSearchCV(cv=TimeSeriesSplit(gap=0, max_train_size=None, n_splits=5, test_size=None),\n",
       "             estimator=LGBMRegressor(objective='root_mean_squared_error',\n",
       "                                     random_state=42, verbose=-1),\n",
       "             param_grid={'learning_rate': [0.1, 0.3, 1],\n",
       "                         'max_depth': [1, 2, 6]},\n",
       "             scoring='neg_mean_squared_error')"
      ]
     },
     "execution_count": 36,
     "metadata": {},
     "output_type": "execute_result"
    }
   ],
   "source": [
    "param_grid = {\n",
    "    'learning_rate': [0.1, 0.3, 1],  \n",
    "    'max_depth': [1, 2, 6]\n",
    "}\n",
    "\n",
    "tscv = TimeSeriesSplit(n_splits=5)\n",
    "gsearch_l = GridSearchCV(estimator=lgbm_model, cv=tscv, param_grid=param_grid, scoring='neg_mean_squared_error')\n",
    "gsearch_l.fit(X_train, y_train)"
   ]
  },
  {
   "cell_type": "code",
   "execution_count": 37,
   "metadata": {},
   "outputs": [],
   "source": [
    "RMSE_lgbm = mean_squared_error(y_train, gsearch_l.best_estimator_.predict(X_train)) ** 0.5"
   ]
  },
  {
   "cell_type": "code",
   "execution_count": 38,
   "metadata": {},
   "outputs": [
    {
     "name": "stdout",
     "output_type": "stream",
     "text": [
      "LightGBM-RMSE 20.21750583948393\n"
     ]
    }
   ],
   "source": [
    "print('LightGBM-RMSE', RMSE_lgbm)"
   ]
  },
  {
   "cell_type": "code",
   "execution_count": 39,
   "metadata": {},
   "outputs": [
    {
     "data": {
      "image/png": "[encoded data removed]",
      "text/plain": [
       "<Figure size 792x360 with 1 Axes>"
      ]
     },
     "metadata": {
      "needs_background": "light"
     },
     "output_type": "display_data"
    }
   ],
   "source": [
    "importances(gsearch_l, X_train)"
   ]
  },
  {
   "cell_type": "markdown",
   "metadata": {},
   "source": [
    "### Random Forrest"
   ]
  },
  {
   "cell_type": "code",
   "execution_count": 40,
   "metadata": {},
   "outputs": [
    {
     "data": {
      "text/html": [
       "<style>#sk-container-id-3 {color: black;background-color: white;}#sk-container-id-3 pre{padding: 0;}#sk-container-id-3 div.sk-toggleable {background-color: white;}#sk-container-id-3 label.sk-toggleable__label {cursor: pointer;display: block;width: 100%;margin-bottom: 0;padding: 0.3em;box-sizing: border-box;text-align: center;}#sk-container-id-3 label.sk-toggleable__label-arrow:before {content: \"▸\";float: left;margin-right: 0.25em;color: #696969;}#sk-container-id-3 label.sk-toggleable__label-arrow:hover:before {color: black;}#sk-container-id-3 div.sk-estimator:hover label.sk-toggleable__label-arrow:before {color: black;}#sk-container-id-3 div.sk-toggleable__content {max-height: 0;max-width: 0;overflow: hidden;text-align: left;background-color: #f0f8ff;}#sk-container-id-3 div.sk-toggleable__content pre {margin: 0.2em;color: black;border-radius: 0.25em;background-color: #f0f8ff;}#sk-container-id-3 input.sk-toggleable__control:checked~div.sk-toggleable__content {max-height: 200px;max-width: 100%;overflow: auto;}#sk-container-id-3 input.sk-toggleable__control:checked~label.sk-toggleable__label-arrow:before {content: \"▾\";}#sk-container-id-3 div.sk-estimator input.sk-toggleable__control:checked~label.sk-toggleable__label {background-color: #d4ebff;}#sk-container-id-3 div.sk-label input.sk-toggleable__control:checked~label.sk-toggleable__label {background-color: #d4ebff;}#sk-container-id-3 input.sk-hidden--visually {border: 0;clip: rect(1px 1px 1px 1px);clip: rect(1px, 1px, 1px, 1px);height: 1px;margin: -1px;overflow: hidden;padding: 0;position: absolute;width: 1px;}#sk-container-id-3 div.sk-estimator {font-family: monospace;background-color: #f0f8ff;border: 1px dotted black;border-radius: 0.25em;box-sizing: border-box;margin-bottom: 0.5em;}#sk-container-id-3 div.sk-estimator:hover {background-color: #d4ebff;}#sk-container-id-3 div.sk-parallel-item::after {content: \"\";width: 100%;border-bottom: 1px solid gray;flex-grow: 1;}#sk-container-id-3 div.sk-label:hover label.sk-toggleable__label {background-color: #d4ebff;}#sk-container-id-3 div.sk-serial::before {content: \"\";position: absolute;border-left: 1px solid gray;box-sizing: border-box;top: 0;bottom: 0;left: 50%;z-index: 0;}#sk-container-id-3 div.sk-serial {display: flex;flex-direction: column;align-items: center;background-color: white;padding-right: 0.2em;padding-left: 0.2em;position: relative;}#sk-container-id-3 div.sk-item {position: relative;z-index: 1;}#sk-container-id-3 div.sk-parallel {display: flex;align-items: stretch;justify-content: center;background-color: white;position: relative;}#sk-container-id-3 div.sk-item::before, #sk-container-id-3 div.sk-parallel-item::before {content: \"\";position: absolute;border-left: 1px solid gray;box-sizing: border-box;top: 0;bottom: 0;left: 50%;z-index: -1;}#sk-container-id-3 div.sk-parallel-item {display: flex;flex-direction: column;z-index: 1;position: relative;background-color: white;}#sk-container-id-3 div.sk-parallel-item:first-child::after {align-self: flex-end;width: 50%;}#sk-container-id-3 div.sk-parallel-item:last-child::after {align-self: flex-start;width: 50%;}#sk-container-id-3 div.sk-parallel-item:only-child::after {width: 0;}#sk-container-id-3 div.sk-dashed-wrapped {border: 1px dashed gray;margin: 0 0.4em 0.5em 0.4em;box-sizing: border-box;padding-bottom: 0.4em;background-color: white;}#sk-container-id-3 div.sk-label label {font-family: monospace;font-weight: bold;display: inline-block;line-height: 1.2em;}#sk-container-id-3 div.sk-label-container {text-align: center;}#sk-container-id-3 div.sk-container {/* jupyter's `normalize.less` sets `[hidden] { display: none; }` but bootstrap.min.css set `[hidden] { display: none !important; }` so we also need the `!important` here to be able to override the default hidden behavior on the sphinx rendered scikit-learn.org. See: https://github.com/scikit-learn/scikit-learn/issues/21755 */display: inline-block !important;position: relative;}#sk-container-id-3 div.sk-text-repr-fallback {display: none;}</style><div id=\"sk-container-id-3\" class=\"sk-top-container\"><div class=\"sk-text-repr-fallback\"><pre>GridSearchCV(cv=TimeSeriesSplit(gap=0, max_train_size=None, n_splits=5, test_size=None),\n",
       "             estimator=RandomForestRegressor(),\n",
       "             param_grid={&#x27;max_depth&#x27;: range(1, 15, 2),\n",
       "                         &#x27;min_samples_leaf&#x27;: range(1, 5),\n",
       "                         &#x27;min_samples_split&#x27;: range(2, 8, 2),\n",
       "                         &#x27;n_estimators&#x27;: range(5, 30, 5)},\n",
       "             scoring=&#x27;neg_mean_squared_error&#x27;)</pre><b>In a Jupyter environment, please rerun this cell to show the HTML representation or trust the notebook. <br />On GitHub, the HTML representation is unable to render, please try loading this page with nbviewer.org.</b></div><div class=\"sk-container\" hidden><div class=\"sk-item sk-dashed-wrapped\"><div class=\"sk-label-container\"><div class=\"sk-label sk-toggleable\"><input class=\"sk-toggleable__control sk-hidden--visually\" id=\"sk-estimator-id-7\" type=\"checkbox\" ><label for=\"sk-estimator-id-7\" class=\"sk-toggleable__label sk-toggleable__label-arrow\">GridSearchCV</label><div class=\"sk-toggleable__content\"><pre>GridSearchCV(cv=TimeSeriesSplit(gap=0, max_train_size=None, n_splits=5, test_size=None),\n",
       "             estimator=RandomForestRegressor(),\n",
       "             param_grid={&#x27;max_depth&#x27;: range(1, 15, 2),\n",
       "                         &#x27;min_samples_leaf&#x27;: range(1, 5),\n",
       "                         &#x27;min_samples_split&#x27;: range(2, 8, 2),\n",
       "                         &#x27;n_estimators&#x27;: range(5, 30, 5)},\n",
       "             scoring=&#x27;neg_mean_squared_error&#x27;)</pre></div></div></div><div class=\"sk-parallel\"><div class=\"sk-parallel-item\"><div class=\"sk-item\"><div class=\"sk-label-container\"><div class=\"sk-label sk-toggleable\"><input class=\"sk-toggleable__control sk-hidden--visually\" id=\"sk-estimator-id-8\" type=\"checkbox\" ><label for=\"sk-estimator-id-8\" class=\"sk-toggleable__label sk-toggleable__label-arrow\">estimator: RandomForestRegressor</label><div class=\"sk-toggleable__content\"><pre>RandomForestRegressor()</pre></div></div></div><div class=\"sk-serial\"><div class=\"sk-item\"><div class=\"sk-estimator sk-toggleable\"><input class=\"sk-toggleable__control sk-hidden--visually\" id=\"sk-estimator-id-9\" type=\"checkbox\" ><label for=\"sk-estimator-id-9\" class=\"sk-toggleable__label sk-toggleable__label-arrow\">RandomForestRegressor</label><div class=\"sk-toggleable__content\"><pre>RandomForestRegressor()</pre></div></div></div></div></div></div></div></div></div></div>"
      ],
      "text/plain": [
       "GridSearchCV(cv=TimeSeriesSplit(gap=0, max_train_size=None, n_splits=5, test_size=None),\n",
       "             estimator=RandomForestRegressor(),\n",
       "             param_grid={'max_depth': range(1, 15, 2),\n",
       "                         'min_samples_leaf': range(1, 5),\n",
       "                         'min_samples_split': range(2, 8, 2),\n",
       "                         'n_estimators': range(5, 30, 5)},\n",
       "             scoring='neg_mean_squared_error')"
      ]
     },
     "execution_count": 40,
     "metadata": {},
     "output_type": "execute_result"
    }
   ],
   "source": [
    "forest_model = RandomForestRegressor()\n",
    "\n",
    "forest_parameters = { 'n_estimators': range(5, 30, 5),\n",
    "                     'max_depth': range(1, 15, 2),\n",
    "                     'min_samples_leaf': range(1,5),\n",
    "                     'min_samples_split': range(2,8,2) }\n",
    "\n",
    "tscv = TimeSeriesSplit(n_splits=5)\n",
    "gsearch_f = GridSearchCV(estimator=forest_model, cv=tscv, param_grid=forest_parameters, scoring='neg_mean_squared_error')\n",
    "gsearch_f.fit(X_train, y_train)"
   ]
  },
  {
   "cell_type": "code",
   "execution_count": 41,
   "metadata": {},
   "outputs": [],
   "source": [
    "RMSE_forrest = mean_squared_error(y_train, gsearch_f.best_estimator_.predict(X_train)) ** 0.5"
   ]
  },
  {
   "cell_type": "code",
   "execution_count": 42,
   "metadata": {},
   "outputs": [
    {
     "name": "stdout",
     "output_type": "stream",
     "text": [
      "Forrest-RMSE 13.092670322066366\n"
     ]
    }
   ],
   "source": [
    "print('Forrest-RMSE', RMSE_forrest)"
   ]
  },
  {
   "cell_type": "code",
   "execution_count": 43,
   "metadata": {},
   "outputs": [
    {
     "data": {
      "image/png": "[encoded data removed]",
      "text/plain": [
       "<Figure size 792x360 with 1 Axes>"
      ]
     },
     "metadata": {
      "needs_background": "light"
     },
     "output_type": "display_data"
    }
   ],
   "source": [
    "importances(gsearch_f, X_train)"
   ]
  },
  {
   "cell_type": "markdown",
   "metadata": {},
   "source": [
    "Лучший показатель у модели Random Forrest, проведем тестирование на ней.\n",
    "Также во всех моделях lag168 считается самым важным признаком."
   ]
  },
  {
   "cell_type": "markdown",
   "metadata": {},
   "source": [
    "## Тестирование"
   ]
  },
  {
   "cell_type": "code",
   "execution_count": 44,
   "metadata": {},
   "outputs": [
    {
     "name": "stdout",
     "output_type": "stream",
     "text": [
      "Forest-RMSE на тестовой выборке 40.448140861733236\n"
     ]
    }
   ],
   "source": [
    "RMSE_forest_test = mean_squared_error(y_test, gsearch_f.best_estimator_.predict(X_test)) ** 0.5\n",
    "print('Forest-RMSE на тестовой выборке', RMSE_forest_test)"
   ]
  },
  {
   "cell_type": "markdown",
   "metadata": {},
   "source": [
    "Метрика не больше 48, значит мы добились желаемого результата."
   ]
  },
  {
   "cell_type": "code",
   "execution_count": 45,
   "metadata": {},
   "outputs": [
    {
     "name": "stdout",
     "output_type": "stream",
     "text": [
      "RMSE для проверки модели на адекватность: 58.881776776551476\n"
     ]
    }
   ],
   "source": [
    "pred_previous = y_test.shift()\n",
    "pred_previous.iloc[0] = y_train.iloc[-1]\n",
    "print('RMSE для проверки модели на адекватность:', mean_squared_error(y_test, pred_previous)**0.5)"
   ]
  },
  {
   "cell_type": "markdown",
   "metadata": {},
   "source": [
    "## Чек-лист проверки"
   ]
  },
  {
   "cell_type": "markdown",
   "metadata": {},
   "source": [
    "- [x]  Jupyter Notebook открыт\n",
    "- [x]  Весь код выполняется без ошибок\n",
    "- [x]  Ячейки с кодом расположены в порядке исполнения\n",
    "- [x]  Данные загружены и подготовлены\n",
    "- [x]  Данные проанализированы\n",
    "- [x]  Модель обучена, гиперпараметры подобраны\n",
    "- [x]  Качество моделей проверено, выводы сделаны\n",
    "- [x]  Значение *RMSE* на тестовой выборке не больше 48"
   ]
  },
  {
   "cell_type": "code",
   "execution_count": null,
   "metadata": {},
   "outputs": [],
   "source": []
  }
 ],
 "metadata": {
  "ExecuteTimeLog": [
   {
    "duration": 14153,
    "start_time": "2024-12-15T07:46:20.337Z"
   },
   {
    "duration": 1466,
    "start_time": "2024-12-15T07:46:34.493Z"
   },
   {
    "duration": 2,
    "start_time": "2024-12-15T07:46:35.961Z"
   },
   {
    "duration": 27,
    "start_time": "2024-12-15T07:46:35.965Z"
   },
   {
    "duration": 100,
    "start_time": "2024-12-15T07:46:35.994Z"
   },
   {
    "duration": 29,
    "start_time": "2024-12-15T07:46:36.096Z"
   },
   {
    "duration": 3,
    "start_time": "2024-12-15T07:48:00.672Z"
   },
   {
    "duration": 16,
    "start_time": "2024-12-15T07:48:17.194Z"
   },
   {
    "duration": 9,
    "start_time": "2024-12-15T07:52:10.205Z"
   },
   {
    "duration": 22,
    "start_time": "2024-12-15T07:52:30.979Z"
   },
   {
    "duration": 151,
    "start_time": "2024-12-15T07:54:17.986Z"
   },
   {
    "duration": 46,
    "start_time": "2024-12-15T07:54:42.332Z"
   },
   {
    "duration": 23,
    "start_time": "2024-12-15T07:54:43.406Z"
   },
   {
    "duration": 45,
    "start_time": "2024-12-15T07:56:19.783Z"
   },
   {
    "duration": 21,
    "start_time": "2024-12-15T07:56:20.666Z"
   },
   {
    "duration": 4,
    "start_time": "2024-12-15T07:56:23.456Z"
   },
   {
    "duration": 9,
    "start_time": "2024-12-15T07:56:23.946Z"
   },
   {
    "duration": 10,
    "start_time": "2024-12-15T07:57:27.360Z"
   },
   {
    "duration": 2,
    "start_time": "2024-12-15T07:59:59.190Z"
   },
   {
    "duration": 3,
    "start_time": "2024-12-15T08:00:15.730Z"
   },
   {
    "duration": 591,
    "start_time": "2024-12-15T08:01:28.917Z"
   },
   {
    "duration": 7,
    "start_time": "2024-12-15T08:03:13.509Z"
   },
   {
    "duration": 268,
    "start_time": "2024-12-15T08:03:14.665Z"
   },
   {
    "duration": 8,
    "start_time": "2024-12-15T11:30:43.695Z"
   },
   {
    "duration": 297,
    "start_time": "2024-12-15T11:36:16.299Z"
   },
   {
    "duration": 9113,
    "start_time": "2024-12-15T11:36:29.697Z"
   },
   {
    "duration": 1232,
    "start_time": "2024-12-15T11:36:38.812Z"
   },
   {
    "duration": 3,
    "start_time": "2024-12-15T11:36:40.045Z"
   },
   {
    "duration": 10,
    "start_time": "2024-12-15T11:36:40.051Z"
   },
   {
    "duration": 55,
    "start_time": "2024-12-15T11:36:40.062Z"
   },
   {
    "duration": 25,
    "start_time": "2024-12-15T11:36:40.119Z"
   },
   {
    "duration": 6,
    "start_time": "2024-12-15T11:36:40.145Z"
   },
   {
    "duration": 6,
    "start_time": "2024-12-15T11:36:40.152Z"
   },
   {
    "duration": 10,
    "start_time": "2024-12-15T11:36:40.159Z"
   },
   {
    "duration": 233,
    "start_time": "2024-12-15T11:36:40.171Z"
   },
   {
    "duration": 206,
    "start_time": "2024-12-15T11:36:40.406Z"
   },
   {
    "duration": 12,
    "start_time": "2024-12-15T11:36:40.614Z"
   },
   {
    "duration": 110,
    "start_time": "2024-12-15T11:42:30.433Z"
   },
   {
    "duration": 4,
    "start_time": "2024-12-15T11:42:34.252Z"
   },
   {
    "duration": 324,
    "start_time": "2024-12-15T11:43:16.499Z"
   },
   {
    "duration": 5,
    "start_time": "2024-12-15T11:44:27.462Z"
   },
   {
    "duration": 271,
    "start_time": "2024-12-15T11:44:28.192Z"
   },
   {
    "duration": 9229,
    "start_time": "2024-12-15T11:44:37.329Z"
   },
   {
    "duration": 1199,
    "start_time": "2024-12-15T11:44:46.560Z"
   },
   {
    "duration": 2,
    "start_time": "2024-12-15T11:44:47.761Z"
   },
   {
    "duration": 4,
    "start_time": "2024-12-15T11:44:47.765Z"
   },
   {
    "duration": 50,
    "start_time": "2024-12-15T11:44:47.771Z"
   },
   {
    "duration": 26,
    "start_time": "2024-12-15T11:44:47.823Z"
   },
   {
    "duration": 3,
    "start_time": "2024-12-15T11:44:47.850Z"
   },
   {
    "duration": 19,
    "start_time": "2024-12-15T11:44:47.854Z"
   },
   {
    "duration": 21,
    "start_time": "2024-12-15T11:44:47.874Z"
   },
   {
    "duration": 227,
    "start_time": "2024-12-15T11:44:47.897Z"
   },
   {
    "duration": 236,
    "start_time": "2024-12-15T11:44:48.126Z"
   },
   {
    "duration": 5,
    "start_time": "2024-12-15T11:44:48.364Z"
   },
   {
    "duration": 315,
    "start_time": "2024-12-15T11:44:48.371Z"
   },
   {
    "duration": 5,
    "start_time": "2024-12-15T11:45:08.645Z"
   },
   {
    "duration": 108,
    "start_time": "2024-12-15T11:46:40.482Z"
   },
   {
    "duration": 135,
    "start_time": "2024-12-15T11:47:20.435Z"
   },
   {
    "duration": 135,
    "start_time": "2024-12-15T11:47:49.682Z"
   },
   {
    "duration": 8,
    "start_time": "2024-12-15T12:26:59.739Z"
   },
   {
    "duration": 9143,
    "start_time": "2024-12-15T12:27:41.543Z"
   },
   {
    "duration": 1285,
    "start_time": "2024-12-15T12:27:50.689Z"
   },
   {
    "duration": 2,
    "start_time": "2024-12-15T12:27:51.976Z"
   },
   {
    "duration": 66,
    "start_time": "2024-12-15T12:27:51.980Z"
   },
   {
    "duration": 78,
    "start_time": "2024-12-15T12:27:52.049Z"
   },
   {
    "duration": 27,
    "start_time": "2024-12-15T12:27:52.129Z"
   },
   {
    "duration": 5,
    "start_time": "2024-12-15T12:27:52.158Z"
   },
   {
    "duration": 27,
    "start_time": "2024-12-15T12:27:52.164Z"
   },
   {
    "duration": 44,
    "start_time": "2024-12-15T12:27:52.192Z"
   },
   {
    "duration": 265,
    "start_time": "2024-12-15T12:27:52.238Z"
   },
   {
    "duration": 5,
    "start_time": "2024-12-15T12:27:52.504Z"
   },
   {
    "duration": 232,
    "start_time": "2024-12-15T12:27:52.522Z"
   },
   {
    "duration": 6,
    "start_time": "2024-12-15T12:27:52.756Z"
   },
   {
    "duration": 290,
    "start_time": "2024-12-15T12:27:52.765Z"
   },
   {
    "duration": 129,
    "start_time": "2024-12-15T12:27:53.056Z"
   },
   {
    "duration": 114,
    "start_time": "2024-12-15T12:27:53.186Z"
   },
   {
    "duration": 5,
    "start_time": "2024-12-15T12:33:06.045Z"
   },
   {
    "duration": 9360,
    "start_time": "2024-12-15T12:36:14.057Z"
   },
   {
    "duration": 1274,
    "start_time": "2024-12-15T12:36:23.419Z"
   },
   {
    "duration": 3,
    "start_time": "2024-12-15T12:36:24.694Z"
   },
   {
    "duration": 18,
    "start_time": "2024-12-15T12:36:24.698Z"
   },
   {
    "duration": 70,
    "start_time": "2024-12-15T12:36:24.718Z"
   },
   {
    "duration": 24,
    "start_time": "2024-12-15T12:36:24.790Z"
   },
   {
    "duration": 9,
    "start_time": "2024-12-15T12:36:24.815Z"
   },
   {
    "duration": 25,
    "start_time": "2024-12-15T12:36:24.825Z"
   },
   {
    "duration": 11,
    "start_time": "2024-12-15T12:36:24.852Z"
   },
   {
    "duration": 214,
    "start_time": "2024-12-15T12:36:24.867Z"
   },
   {
    "duration": 3,
    "start_time": "2024-12-15T12:36:25.082Z"
   },
   {
    "duration": 213,
    "start_time": "2024-12-15T12:36:25.086Z"
   },
   {
    "duration": 5,
    "start_time": "2024-12-15T12:36:25.301Z"
   },
   {
    "duration": 217,
    "start_time": "2024-12-15T12:36:25.308Z"
   },
   {
    "duration": 136,
    "start_time": "2024-12-15T12:36:25.526Z"
   },
   {
    "duration": 6,
    "start_time": "2024-12-15T12:36:25.663Z"
   },
   {
    "duration": 134,
    "start_time": "2024-12-15T12:36:25.670Z"
   },
   {
    "duration": 0,
    "start_time": "2024-12-15T12:36:25.805Z"
   },
   {
    "duration": 7,
    "start_time": "2024-12-15T12:41:49.087Z"
   },
   {
    "duration": 106,
    "start_time": "2024-12-15T12:41:50.056Z"
   },
   {
    "duration": 876,
    "start_time": "2024-12-15T12:42:13.880Z"
   },
   {
    "duration": 9235,
    "start_time": "2024-12-15T12:43:03.624Z"
   },
   {
    "duration": 1247,
    "start_time": "2024-12-15T12:43:12.861Z"
   },
   {
    "duration": 3,
    "start_time": "2024-12-15T12:43:14.109Z"
   },
   {
    "duration": 4,
    "start_time": "2024-12-15T12:43:14.113Z"
   },
   {
    "duration": 50,
    "start_time": "2024-12-15T12:43:14.118Z"
   },
   {
    "duration": 24,
    "start_time": "2024-12-15T12:43:14.170Z"
   },
   {
    "duration": 3,
    "start_time": "2024-12-15T12:43:14.195Z"
   },
   {
    "duration": 4,
    "start_time": "2024-12-15T12:43:14.199Z"
   },
   {
    "duration": 7,
    "start_time": "2024-12-15T12:43:14.205Z"
   },
   {
    "duration": 219,
    "start_time": "2024-12-15T12:43:14.214Z"
   },
   {
    "duration": 6,
    "start_time": "2024-12-15T12:43:14.434Z"
   },
   {
    "duration": 249,
    "start_time": "2024-12-15T12:43:14.442Z"
   },
   {
    "duration": 4,
    "start_time": "2024-12-15T12:43:14.693Z"
   },
   {
    "duration": 209,
    "start_time": "2024-12-15T12:43:14.699Z"
   },
   {
    "duration": 135,
    "start_time": "2024-12-15T12:43:14.910Z"
   },
   {
    "duration": 5,
    "start_time": "2024-12-15T12:43:15.047Z"
   },
   {
    "duration": 45,
    "start_time": "2024-12-15T12:43:15.054Z"
   },
   {
    "duration": 888,
    "start_time": "2024-12-15T12:43:15.100Z"
   },
   {
    "duration": 3,
    "start_time": "2024-12-15T12:46:22.246Z"
   },
   {
    "duration": 759,
    "start_time": "2024-12-15T12:46:28.725Z"
   },
   {
    "duration": 138,
    "start_time": "2024-12-15T17:18:12.303Z"
   },
   {
    "duration": 9321,
    "start_time": "2024-12-15T17:19:25.420Z"
   },
   {
    "duration": 1322,
    "start_time": "2024-12-15T17:19:34.743Z"
   },
   {
    "duration": 3,
    "start_time": "2024-12-15T17:19:36.066Z"
   },
   {
    "duration": 61,
    "start_time": "2024-12-15T17:19:36.070Z"
   },
   {
    "duration": 52,
    "start_time": "2024-12-15T17:19:36.132Z"
   },
   {
    "duration": 25,
    "start_time": "2024-12-15T17:19:36.186Z"
   },
   {
    "duration": 10,
    "start_time": "2024-12-15T17:19:36.213Z"
   },
   {
    "duration": 7,
    "start_time": "2024-12-15T17:19:36.225Z"
   },
   {
    "duration": 16,
    "start_time": "2024-12-15T17:19:36.233Z"
   },
   {
    "duration": 261,
    "start_time": "2024-12-15T17:19:36.251Z"
   },
   {
    "duration": 6,
    "start_time": "2024-12-15T17:19:36.521Z"
   },
   {
    "duration": 233,
    "start_time": "2024-12-15T17:19:36.529Z"
   },
   {
    "duration": 6,
    "start_time": "2024-12-15T17:19:36.764Z"
   },
   {
    "duration": 224,
    "start_time": "2024-12-15T17:19:36.771Z"
   },
   {
    "duration": 141,
    "start_time": "2024-12-15T17:19:36.997Z"
   },
   {
    "duration": 137,
    "start_time": "2024-12-15T17:19:37.140Z"
   },
   {
    "duration": 6,
    "start_time": "2024-12-15T17:19:37.279Z"
   },
   {
    "duration": 20,
    "start_time": "2024-12-15T17:19:37.287Z"
   },
   {
    "duration": 877,
    "start_time": "2024-12-15T17:19:37.309Z"
   },
   {
    "duration": 169,
    "start_time": "2024-12-15T17:30:43.899Z"
   },
   {
    "duration": 6,
    "start_time": "2024-12-15T17:30:49.904Z"
   },
   {
    "duration": 373,
    "start_time": "2024-12-15T17:30:50.905Z"
   },
   {
    "duration": 5,
    "start_time": "2024-12-15T17:30:53.287Z"
   },
   {
    "duration": 153,
    "start_time": "2024-12-15T17:30:54.218Z"
   },
   {
    "duration": 241,
    "start_time": "2024-12-15T17:30:56.084Z"
   },
   {
    "duration": 148,
    "start_time": "2024-12-15T17:30:57.368Z"
   },
   {
    "duration": 6,
    "start_time": "2024-12-15T17:30:58.612Z"
   },
   {
    "duration": 9,
    "start_time": "2024-12-15T17:34:31.719Z"
   },
   {
    "duration": 821,
    "start_time": "2024-12-15T17:34:32.378Z"
   },
   {
    "duration": 837,
    "start_time": "2024-12-15T17:35:14.704Z"
   },
   {
    "duration": 212,
    "start_time": "2024-12-15T17:36:51.508Z"
   },
   {
    "duration": 207,
    "start_time": "2024-12-15T17:37:15.303Z"
   },
   {
    "duration": 209,
    "start_time": "2024-12-15T17:37:20.301Z"
   },
   {
    "duration": 318,
    "start_time": "2024-12-15T17:38:01.711Z"
   },
   {
    "duration": 227,
    "start_time": "2024-12-15T17:38:04.102Z"
   },
   {
    "duration": 215,
    "start_time": "2024-12-15T17:38:57.992Z"
   },
   {
    "duration": 9,
    "start_time": "2024-12-15T18:12:47.194Z"
   },
   {
    "duration": 45,
    "start_time": "2024-12-16T17:27:31.937Z"
   },
   {
    "duration": 14442,
    "start_time": "2024-12-16T17:27:37.201Z"
   },
   {
    "duration": 1469,
    "start_time": "2024-12-16T17:27:51.645Z"
   },
   {
    "duration": 3,
    "start_time": "2024-12-16T17:27:53.115Z"
   },
   {
    "duration": 5,
    "start_time": "2024-12-16T17:27:53.120Z"
   },
   {
    "duration": 103,
    "start_time": "2024-12-16T17:27:53.126Z"
   },
   {
    "duration": 27,
    "start_time": "2024-12-16T17:27:53.230Z"
   },
   {
    "duration": 3,
    "start_time": "2024-12-16T17:27:53.258Z"
   },
   {
    "duration": 13,
    "start_time": "2024-12-16T17:27:53.262Z"
   },
   {
    "duration": 10,
    "start_time": "2024-12-16T17:27:53.276Z"
   },
   {
    "duration": 230,
    "start_time": "2024-12-16T17:27:53.288Z"
   },
   {
    "duration": 6,
    "start_time": "2024-12-16T17:27:53.519Z"
   },
   {
    "duration": 245,
    "start_time": "2024-12-16T17:27:53.526Z"
   },
   {
    "duration": 123,
    "start_time": "2024-12-16T17:27:53.772Z"
   },
   {
    "duration": 0,
    "start_time": "2024-12-16T17:27:53.896Z"
   },
   {
    "duration": 0,
    "start_time": "2024-12-16T17:27:53.897Z"
   },
   {
    "duration": 0,
    "start_time": "2024-12-16T17:27:53.898Z"
   },
   {
    "duration": 0,
    "start_time": "2024-12-16T17:27:53.899Z"
   },
   {
    "duration": 0,
    "start_time": "2024-12-16T17:27:53.900Z"
   },
   {
    "duration": 0,
    "start_time": "2024-12-16T17:27:53.901Z"
   },
   {
    "duration": 0,
    "start_time": "2024-12-16T17:27:53.902Z"
   },
   {
    "duration": 0,
    "start_time": "2024-12-16T17:27:53.903Z"
   },
   {
    "duration": 0,
    "start_time": "2024-12-16T17:27:53.904Z"
   },
   {
    "duration": 0,
    "start_time": "2024-12-16T17:27:53.905Z"
   },
   {
    "duration": 0,
    "start_time": "2024-12-16T17:27:53.906Z"
   },
   {
    "duration": 10,
    "start_time": "2024-12-16T17:28:36.080Z"
   },
   {
    "duration": 7,
    "start_time": "2024-12-16T17:28:46.011Z"
   },
   {
    "duration": 188,
    "start_time": "2024-12-16T17:28:47.080Z"
   },
   {
    "duration": 128,
    "start_time": "2024-12-16T17:28:49.175Z"
   },
   {
    "duration": 119,
    "start_time": "2024-12-16T17:28:50.879Z"
   },
   {
    "duration": 6,
    "start_time": "2024-12-16T17:28:52.249Z"
   },
   {
    "duration": 6,
    "start_time": "2024-12-16T17:28:54.457Z"
   },
   {
    "duration": 180,
    "start_time": "2024-12-16T17:28:55.122Z"
   },
   {
    "duration": 189,
    "start_time": "2024-12-16T17:28:56.458Z"
   },
   {
    "duration": 186,
    "start_time": "2024-12-16T17:28:57.951Z"
   },
   {
    "duration": 8,
    "start_time": "2024-12-16T17:29:00.839Z"
   },
   {
    "duration": 11,
    "start_time": "2024-12-16T17:29:01.575Z"
   },
   {
    "duration": 4,
    "start_time": "2024-12-16T17:30:01.673Z"
   },
   {
    "duration": 11,
    "start_time": "2024-12-16T17:30:06.344Z"
   },
   {
    "duration": 9,
    "start_time": "2024-12-16T17:32:55.035Z"
   },
   {
    "duration": 4,
    "start_time": "2024-12-16T17:32:55.778Z"
   },
   {
    "duration": 51876,
    "start_time": "2024-12-16T17:32:56.582Z"
   },
   {
    "duration": 4,
    "start_time": "2024-12-16T17:34:11.950Z"
   },
   {
    "duration": 4,
    "start_time": "2024-12-16T17:37:14.846Z"
   },
   {
    "duration": 3,
    "start_time": "2024-12-16T17:37:21.081Z"
   },
   {
    "duration": 126,
    "start_time": "2024-12-16T17:37:46.449Z"
   },
   {
    "duration": 24,
    "start_time": "2024-12-16T17:42:24.368Z"
   },
   {
    "duration": 9,
    "start_time": "2024-12-16T17:42:33.146Z"
   },
   {
    "duration": 4,
    "start_time": "2024-12-16T17:48:36.356Z"
   },
   {
    "duration": 4,
    "start_time": "2024-12-16T17:48:37.195Z"
   },
   {
    "duration": 37170,
    "start_time": "2024-12-16T17:48:38.014Z"
   },
   {
    "duration": 80,
    "start_time": "2024-12-16T17:49:15.186Z"
   },
   {
    "duration": 29,
    "start_time": "2024-12-16T17:49:15.268Z"
   },
   {
    "duration": 3,
    "start_time": "2024-12-16T17:49:32.436Z"
   },
   {
    "duration": 14,
    "start_time": "2024-12-16T17:53:26.854Z"
   },
   {
    "duration": 146,
    "start_time": "2024-12-16T17:53:54.370Z"
   },
   {
    "duration": 79615,
    "start_time": "2024-12-16T17:54:30.647Z"
   },
   {
    "duration": 159,
    "start_time": "2024-12-16T17:55:50.264Z"
   },
   {
    "duration": 1629,
    "start_time": "2024-12-16T17:55:50.424Z"
   },
   {
    "duration": 208,
    "start_time": "2024-12-16T17:55:52.054Z"
   },
   {
    "duration": 9120,
    "start_time": "2024-12-16T18:27:43.170Z"
   },
   {
    "duration": 1202,
    "start_time": "2024-12-16T18:27:52.292Z"
   },
   {
    "duration": 3,
    "start_time": "2024-12-16T18:27:53.496Z"
   },
   {
    "duration": 7,
    "start_time": "2024-12-16T18:27:53.500Z"
   },
   {
    "duration": 50,
    "start_time": "2024-12-16T18:27:53.509Z"
   },
   {
    "duration": 27,
    "start_time": "2024-12-16T18:27:53.560Z"
   },
   {
    "duration": 3,
    "start_time": "2024-12-16T18:27:53.589Z"
   },
   {
    "duration": 8,
    "start_time": "2024-12-16T18:27:53.594Z"
   },
   {
    "duration": 8,
    "start_time": "2024-12-16T18:27:53.604Z"
   },
   {
    "duration": 234,
    "start_time": "2024-12-16T18:27:53.615Z"
   },
   {
    "duration": 7,
    "start_time": "2024-12-16T18:27:53.850Z"
   },
   {
    "duration": 225,
    "start_time": "2024-12-16T18:27:53.858Z"
   },
   {
    "duration": 6,
    "start_time": "2024-12-16T18:27:54.084Z"
   },
   {
    "duration": 201,
    "start_time": "2024-12-16T18:27:54.092Z"
   },
   {
    "duration": 167,
    "start_time": "2024-12-16T18:27:54.294Z"
   },
   {
    "duration": 129,
    "start_time": "2024-12-16T18:27:54.463Z"
   },
   {
    "duration": 7,
    "start_time": "2024-12-16T18:27:54.594Z"
   },
   {
    "duration": 198,
    "start_time": "2024-12-16T18:27:54.602Z"
   },
   {
    "duration": 203,
    "start_time": "2024-12-16T18:27:54.802Z"
   },
   {
    "duration": 191,
    "start_time": "2024-12-16T18:27:55.006Z"
   },
   {
    "duration": 8,
    "start_time": "2024-12-16T18:27:55.198Z"
   },
   {
    "duration": 9,
    "start_time": "2024-12-16T18:27:55.207Z"
   },
   {
    "duration": 7,
    "start_time": "2024-12-16T18:27:55.217Z"
   },
   {
    "duration": 1718,
    "start_time": "2024-12-16T18:27:55.225Z"
   },
   {
    "duration": 42183,
    "start_time": "2024-12-16T18:27:56.944Z"
   },
   {
    "duration": 3,
    "start_time": "2024-12-16T18:28:39.129Z"
   },
   {
    "duration": 117,
    "start_time": "2024-12-16T18:28:39.134Z"
   },
   {
    "duration": 2,
    "start_time": "2024-12-16T18:28:39.254Z"
   },
   {
    "duration": 13,
    "start_time": "2024-12-16T18:28:39.258Z"
   },
   {
    "duration": 591,
    "start_time": "2024-12-16T18:28:39.272Z"
   },
   {
    "duration": 6298,
    "start_time": "2024-12-16T18:28:39.865Z"
   },
   {
    "duration": 3,
    "start_time": "2024-12-16T18:28:46.165Z"
   },
   {
    "duration": 160,
    "start_time": "2024-12-16T18:28:46.253Z"
   },
   {
    "duration": 3,
    "start_time": "2024-12-16T18:28:46.415Z"
   },
   {
    "duration": 799,
    "start_time": "2024-12-16T18:28:46.420Z"
   },
   {
    "duration": 739,
    "start_time": "2024-12-16T18:28:47.221Z"
   },
   {
    "duration": 3,
    "start_time": "2024-12-16T18:29:31.487Z"
   },
   {
    "duration": 146,
    "start_time": "2024-12-16T19:18:15.656Z"
   },
   {
    "duration": 4547,
    "start_time": "2024-12-16T19:30:08.716Z"
   },
   {
    "duration": 5047,
    "start_time": "2024-12-16T19:31:01.218Z"
   },
   {
    "duration": 161,
    "start_time": "2024-12-16T19:41:06.300Z"
   },
   {
    "duration": 180,
    "start_time": "2024-12-16T19:42:51.016Z"
   },
   {
    "duration": 6855,
    "start_time": "2024-12-16T19:44:15.189Z"
   },
   {
    "duration": 1287,
    "start_time": "2024-12-16T19:44:22.047Z"
   },
   {
    "duration": 3,
    "start_time": "2024-12-16T19:44:23.336Z"
   },
   {
    "duration": 15,
    "start_time": "2024-12-16T19:44:23.341Z"
   },
   {
    "duration": 51,
    "start_time": "2024-12-16T19:44:23.357Z"
   },
   {
    "duration": 26,
    "start_time": "2024-12-16T19:44:23.409Z"
   },
   {
    "duration": 3,
    "start_time": "2024-12-16T19:44:23.436Z"
   },
   {
    "duration": 4,
    "start_time": "2024-12-16T19:44:23.441Z"
   },
   {
    "duration": 13,
    "start_time": "2024-12-16T19:44:23.447Z"
   },
   {
    "duration": 232,
    "start_time": "2024-12-16T19:44:23.462Z"
   },
   {
    "duration": 7,
    "start_time": "2024-12-16T19:44:23.696Z"
   },
   {
    "duration": 241,
    "start_time": "2024-12-16T19:44:23.704Z"
   },
   {
    "duration": 12,
    "start_time": "2024-12-16T19:44:23.946Z"
   },
   {
    "duration": 204,
    "start_time": "2024-12-16T19:44:23.960Z"
   },
   {
    "duration": 135,
    "start_time": "2024-12-16T19:44:24.166Z"
   },
   {
    "duration": 166,
    "start_time": "2024-12-16T19:44:24.302Z"
   },
   {
    "duration": 6,
    "start_time": "2024-12-16T19:44:24.470Z"
   },
   {
    "duration": 211,
    "start_time": "2024-12-16T19:44:24.478Z"
   },
   {
    "duration": 192,
    "start_time": "2024-12-16T19:44:24.691Z"
   },
   {
    "duration": 207,
    "start_time": "2024-12-16T19:44:24.885Z"
   },
   {
    "duration": 171,
    "start_time": "2024-12-16T19:44:25.093Z"
   },
   {
    "duration": 9,
    "start_time": "2024-12-16T19:44:25.265Z"
   },
   {
    "duration": 4,
    "start_time": "2024-12-16T19:44:25.275Z"
   },
   {
    "duration": 7,
    "start_time": "2024-12-16T19:44:25.280Z"
   },
   {
    "duration": 1652,
    "start_time": "2024-12-16T19:44:25.288Z"
   },
   {
    "duration": 51185,
    "start_time": "2024-12-16T19:44:26.942Z"
   },
   {
    "duration": 3,
    "start_time": "2024-12-16T19:45:18.128Z"
   },
   {
    "duration": 111,
    "start_time": "2024-12-16T19:45:18.134Z"
   },
   {
    "duration": 7,
    "start_time": "2024-12-16T19:45:18.247Z"
   },
   {
    "duration": 4,
    "start_time": "2024-12-16T19:45:18.256Z"
   },
   {
    "duration": 69693,
    "start_time": "2024-12-16T19:45:18.262Z"
   },
   {
    "duration": 63613,
    "start_time": "2024-12-16T19:46:27.956Z"
   },
   {
    "duration": 4,
    "start_time": "2024-12-16T19:47:31.571Z"
   },
   {
    "duration": 208,
    "start_time": "2024-12-16T19:47:31.576Z"
   },
   {
    "duration": 3,
    "start_time": "2024-12-16T19:47:31.786Z"
   },
   {
    "duration": 857,
    "start_time": "2024-12-16T19:47:31.790Z"
   },
   {
    "duration": 1797,
    "start_time": "2024-12-16T19:47:32.648Z"
   },
   {
    "duration": 7,
    "start_time": "2024-12-16T19:47:34.447Z"
   },
   {
    "duration": 143,
    "start_time": "2024-12-16T19:47:34.456Z"
   },
   {
    "duration": 25862,
    "start_time": "2024-12-16T19:47:34.601Z"
   },
   {
    "duration": 21297,
    "start_time": "2024-12-16T19:50:23.209Z"
   },
   {
    "duration": 12576,
    "start_time": "2024-12-16T20:13:16.925Z"
   },
   {
    "duration": 1424,
    "start_time": "2024-12-16T20:13:29.503Z"
   },
   {
    "duration": 2,
    "start_time": "2024-12-16T20:13:30.929Z"
   },
   {
    "duration": 33,
    "start_time": "2024-12-16T20:13:30.933Z"
   },
   {
    "duration": 179,
    "start_time": "2024-12-16T20:13:30.968Z"
   },
   {
    "duration": 24,
    "start_time": "2024-12-16T20:13:31.149Z"
   },
   {
    "duration": 3,
    "start_time": "2024-12-16T20:13:31.175Z"
   },
   {
    "duration": 3,
    "start_time": "2024-12-16T20:13:31.180Z"
   },
   {
    "duration": 8,
    "start_time": "2024-12-16T20:13:31.185Z"
   },
   {
    "duration": 220,
    "start_time": "2024-12-16T20:13:31.194Z"
   },
   {
    "duration": 5,
    "start_time": "2024-12-16T20:13:31.416Z"
   },
   {
    "duration": 211,
    "start_time": "2024-12-16T20:13:31.423Z"
   },
   {
    "duration": 6,
    "start_time": "2024-12-16T20:13:31.635Z"
   },
   {
    "duration": 201,
    "start_time": "2024-12-16T20:13:31.643Z"
   },
   {
    "duration": 132,
    "start_time": "2024-12-16T20:13:31.845Z"
   },
   {
    "duration": 118,
    "start_time": "2024-12-16T20:13:31.979Z"
   },
   {
    "duration": 16,
    "start_time": "2024-12-16T20:13:32.099Z"
   },
   {
    "duration": 201,
    "start_time": "2024-12-16T20:13:32.116Z"
   },
   {
    "duration": 198,
    "start_time": "2024-12-16T20:13:32.319Z"
   },
   {
    "duration": 182,
    "start_time": "2024-12-16T20:13:32.519Z"
   },
   {
    "duration": 154,
    "start_time": "2024-12-16T20:13:32.703Z"
   },
   {
    "duration": 7,
    "start_time": "2024-12-16T20:13:32.859Z"
   },
   {
    "duration": 422,
    "start_time": "2024-12-16T20:17:17.691Z"
   },
   {
    "duration": 12074,
    "start_time": "2024-12-18T18:09:41.329Z"
   },
   {
    "duration": 1385,
    "start_time": "2024-12-18T18:09:53.405Z"
   },
   {
    "duration": 3,
    "start_time": "2024-12-18T18:09:54.791Z"
   },
   {
    "duration": 42,
    "start_time": "2024-12-18T18:09:54.797Z"
   },
   {
    "duration": 178,
    "start_time": "2024-12-18T18:09:54.841Z"
   },
   {
    "duration": 24,
    "start_time": "2024-12-18T18:09:55.020Z"
   },
   {
    "duration": 10,
    "start_time": "2024-12-18T18:09:55.045Z"
   },
   {
    "duration": 34,
    "start_time": "2024-12-18T18:09:55.056Z"
   },
   {
    "duration": 39,
    "start_time": "2024-12-18T18:09:55.092Z"
   },
   {
    "duration": 231,
    "start_time": "2024-12-18T18:09:55.133Z"
   },
   {
    "duration": 6,
    "start_time": "2024-12-18T18:09:55.365Z"
   },
   {
    "duration": 237,
    "start_time": "2024-12-18T18:09:55.372Z"
   },
   {
    "duration": 5,
    "start_time": "2024-12-18T18:09:55.611Z"
   },
   {
    "duration": 179,
    "start_time": "2024-12-18T18:09:55.618Z"
   },
   {
    "duration": 131,
    "start_time": "2024-12-18T18:09:55.798Z"
   },
   {
    "duration": 116,
    "start_time": "2024-12-18T18:09:55.930Z"
   },
   {
    "duration": 5,
    "start_time": "2024-12-18T18:09:56.053Z"
   },
   {
    "duration": 187,
    "start_time": "2024-12-18T18:09:56.059Z"
   },
   {
    "duration": 183,
    "start_time": "2024-12-18T18:09:56.247Z"
   },
   {
    "duration": 152,
    "start_time": "2024-12-18T18:09:56.432Z"
   },
   {
    "duration": 381,
    "start_time": "2024-12-18T18:09:56.585Z"
   },
   {
    "duration": 5,
    "start_time": "2024-12-18T18:09:56.968Z"
   },
   {
    "duration": 46,
    "start_time": "2024-12-18T18:09:56.975Z"
   },
   {
    "duration": 8,
    "start_time": "2024-12-18T18:09:57.022Z"
   },
   {
    "duration": 173,
    "start_time": "2024-12-18T18:09:57.031Z"
   },
   {
    "duration": 0,
    "start_time": "2024-12-18T18:09:57.205Z"
   },
   {
    "duration": 0,
    "start_time": "2024-12-18T18:09:57.206Z"
   },
   {
    "duration": 0,
    "start_time": "2024-12-18T18:09:57.208Z"
   },
   {
    "duration": 0,
    "start_time": "2024-12-18T18:09:57.209Z"
   },
   {
    "duration": 0,
    "start_time": "2024-12-18T18:09:57.210Z"
   },
   {
    "duration": 0,
    "start_time": "2024-12-18T18:09:57.211Z"
   },
   {
    "duration": 0,
    "start_time": "2024-12-18T18:09:57.212Z"
   },
   {
    "duration": 0,
    "start_time": "2024-12-18T18:09:57.213Z"
   },
   {
    "duration": 0,
    "start_time": "2024-12-18T18:09:57.214Z"
   },
   {
    "duration": 0,
    "start_time": "2024-12-18T18:09:57.215Z"
   },
   {
    "duration": 0,
    "start_time": "2024-12-18T18:09:57.216Z"
   },
   {
    "duration": 0,
    "start_time": "2024-12-18T18:09:57.217Z"
   },
   {
    "duration": 0,
    "start_time": "2024-12-18T18:09:57.218Z"
   },
   {
    "duration": 3,
    "start_time": "2024-12-18T18:14:25.316Z"
   },
   {
    "duration": 3,
    "start_time": "2024-12-18T18:17:02.606Z"
   },
   {
    "duration": 3184,
    "start_time": "2024-12-18T18:17:04.671Z"
   },
   {
    "duration": 3,
    "start_time": "2024-12-18T18:17:07.857Z"
   },
   {
    "duration": 3,
    "start_time": "2024-12-18T18:17:12.176Z"
   },
   {
    "duration": 13,
    "start_time": "2024-12-18T18:17:20.802Z"
   },
   {
    "duration": 2795,
    "start_time": "2024-12-18T18:17:37.325Z"
   },
   {
    "duration": 0,
    "start_time": "2024-12-18T18:17:40.122Z"
   },
   {
    "duration": 0,
    "start_time": "2024-12-18T18:17:40.123Z"
   },
   {
    "duration": 15,
    "start_time": "2024-12-18T18:19:05.422Z"
   },
   {
    "duration": 8546,
    "start_time": "2024-12-18T18:20:28.578Z"
   },
   {
    "duration": 1244,
    "start_time": "2024-12-18T18:20:37.126Z"
   },
   {
    "duration": 3,
    "start_time": "2024-12-18T18:20:38.371Z"
   },
   {
    "duration": 42,
    "start_time": "2024-12-18T18:20:38.375Z"
   },
   {
    "duration": 76,
    "start_time": "2024-12-18T18:20:38.419Z"
   },
   {
    "duration": 22,
    "start_time": "2024-12-18T18:20:38.496Z"
   },
   {
    "duration": 15,
    "start_time": "2024-12-18T18:20:38.520Z"
   },
   {
    "duration": 22,
    "start_time": "2024-12-18T18:20:38.536Z"
   },
   {
    "duration": 42,
    "start_time": "2024-12-18T18:20:38.559Z"
   },
   {
    "duration": 227,
    "start_time": "2024-12-18T18:20:38.603Z"
   },
   {
    "duration": 5,
    "start_time": "2024-12-18T18:20:38.831Z"
   },
   {
    "duration": 248,
    "start_time": "2024-12-18T18:20:38.838Z"
   },
   {
    "duration": 5,
    "start_time": "2024-12-18T18:20:39.087Z"
   },
   {
    "duration": 192,
    "start_time": "2024-12-18T18:20:39.095Z"
   },
   {
    "duration": 137,
    "start_time": "2024-12-18T18:20:39.289Z"
   },
   {
    "duration": 126,
    "start_time": "2024-12-18T18:20:39.428Z"
   },
   {
    "duration": 5,
    "start_time": "2024-12-18T18:20:39.555Z"
   },
   {
    "duration": 212,
    "start_time": "2024-12-18T18:20:39.562Z"
   },
   {
    "duration": 190,
    "start_time": "2024-12-18T18:20:39.776Z"
   },
   {
    "duration": 172,
    "start_time": "2024-12-18T18:20:39.967Z"
   },
   {
    "duration": 13,
    "start_time": "2024-12-18T18:20:40.140Z"
   },
   {
    "duration": 15,
    "start_time": "2024-12-18T18:20:40.154Z"
   },
   {
    "duration": 3,
    "start_time": "2024-12-18T18:20:40.171Z"
   },
   {
    "duration": 110261,
    "start_time": "2024-12-18T18:20:40.176Z"
   },
   {
    "duration": 3,
    "start_time": "2024-12-18T18:22:30.439Z"
   },
   {
    "duration": 52,
    "start_time": "2024-12-18T18:22:30.443Z"
   },
   {
    "duration": 235,
    "start_time": "2024-12-18T18:22:30.496Z"
   },
   {
    "duration": 0,
    "start_time": "2024-12-18T18:22:30.733Z"
   },
   {
    "duration": 0,
    "start_time": "2024-12-18T18:22:30.733Z"
   },
   {
    "duration": 0,
    "start_time": "2024-12-18T18:22:30.734Z"
   },
   {
    "duration": 0,
    "start_time": "2024-12-18T18:22:30.735Z"
   },
   {
    "duration": 0,
    "start_time": "2024-12-18T18:22:30.736Z"
   },
   {
    "duration": 0,
    "start_time": "2024-12-18T18:22:30.737Z"
   },
   {
    "duration": 0,
    "start_time": "2024-12-18T18:22:30.738Z"
   },
   {
    "duration": 0,
    "start_time": "2024-12-18T18:22:30.753Z"
   },
   {
    "duration": 0,
    "start_time": "2024-12-18T18:22:30.753Z"
   },
   {
    "duration": 0,
    "start_time": "2024-12-18T18:22:30.754Z"
   },
   {
    "duration": 3,
    "start_time": "2024-12-18T18:22:44.389Z"
   },
   {
    "duration": 12660,
    "start_time": "2024-12-18T18:22:45.994Z"
   },
   {
    "duration": 2,
    "start_time": "2024-12-18T18:22:58.656Z"
   },
   {
    "duration": 45,
    "start_time": "2024-12-18T18:22:58.660Z"
   },
   {
    "duration": 38,
    "start_time": "2024-12-18T18:22:58.707Z"
   },
   {
    "duration": 0,
    "start_time": "2024-12-18T18:22:58.746Z"
   },
   {
    "duration": 0,
    "start_time": "2024-12-18T18:22:58.747Z"
   },
   {
    "duration": 0,
    "start_time": "2024-12-18T18:22:58.748Z"
   },
   {
    "duration": 0,
    "start_time": "2024-12-18T18:22:58.748Z"
   },
   {
    "duration": 85889,
    "start_time": "2024-12-18T18:23:10.934Z"
   },
   {
    "duration": 2,
    "start_time": "2024-12-18T18:24:36.825Z"
   },
   {
    "duration": 7,
    "start_time": "2024-12-18T18:24:36.829Z"
   },
   {
    "duration": 31,
    "start_time": "2024-12-18T18:24:36.838Z"
   },
   {
    "duration": 9,
    "start_time": "2024-12-18T18:25:58.078Z"
   },
   {
    "duration": 7729,
    "start_time": "2024-12-18T18:29:08.862Z"
   },
   {
    "duration": 1167,
    "start_time": "2024-12-18T18:29:16.593Z"
   },
   {
    "duration": 2,
    "start_time": "2024-12-18T18:29:17.762Z"
   },
   {
    "duration": 10,
    "start_time": "2024-12-18T18:29:17.766Z"
   },
   {
    "duration": 55,
    "start_time": "2024-12-18T18:29:17.777Z"
   },
   {
    "duration": 23,
    "start_time": "2024-12-18T18:29:17.833Z"
   },
   {
    "duration": 3,
    "start_time": "2024-12-18T18:29:17.857Z"
   },
   {
    "duration": 5,
    "start_time": "2024-12-18T18:29:17.861Z"
   },
   {
    "duration": 12,
    "start_time": "2024-12-18T18:29:17.867Z"
   },
   {
    "duration": 210,
    "start_time": "2024-12-18T18:29:17.882Z"
   },
   {
    "duration": 5,
    "start_time": "2024-12-18T18:29:18.094Z"
   },
   {
    "duration": 239,
    "start_time": "2024-12-18T18:29:18.101Z"
   },
   {
    "duration": 13,
    "start_time": "2024-12-18T18:29:18.342Z"
   },
   {
    "duration": 202,
    "start_time": "2024-12-18T18:29:18.356Z"
   },
   {
    "duration": 131,
    "start_time": "2024-12-18T18:29:18.559Z"
   },
   {
    "duration": 126,
    "start_time": "2024-12-18T18:29:18.691Z"
   },
   {
    "duration": 6,
    "start_time": "2024-12-18T18:29:18.819Z"
   },
   {
    "duration": 198,
    "start_time": "2024-12-18T18:29:18.826Z"
   },
   {
    "duration": 181,
    "start_time": "2024-12-18T18:29:19.026Z"
   },
   {
    "duration": 160,
    "start_time": "2024-12-18T18:29:19.208Z"
   },
   {
    "duration": 8,
    "start_time": "2024-12-18T18:29:19.369Z"
   },
   {
    "duration": 135,
    "start_time": "2024-12-18T18:29:19.379Z"
   },
   {
    "duration": 0,
    "start_time": "2024-12-18T18:29:19.516Z"
   },
   {
    "duration": 0,
    "start_time": "2024-12-18T18:29:19.518Z"
   },
   {
    "duration": 0,
    "start_time": "2024-12-18T18:29:19.519Z"
   },
   {
    "duration": 1,
    "start_time": "2024-12-18T18:29:19.520Z"
   },
   {
    "duration": 0,
    "start_time": "2024-12-18T18:29:19.522Z"
   },
   {
    "duration": 0,
    "start_time": "2024-12-18T18:29:19.523Z"
   },
   {
    "duration": 0,
    "start_time": "2024-12-18T18:29:19.524Z"
   },
   {
    "duration": 0,
    "start_time": "2024-12-18T18:29:19.526Z"
   },
   {
    "duration": 0,
    "start_time": "2024-12-18T18:29:19.527Z"
   },
   {
    "duration": 0,
    "start_time": "2024-12-18T18:29:19.528Z"
   },
   {
    "duration": 0,
    "start_time": "2024-12-18T18:29:19.553Z"
   },
   {
    "duration": 0,
    "start_time": "2024-12-18T18:29:19.554Z"
   },
   {
    "duration": 0,
    "start_time": "2024-12-18T18:29:19.555Z"
   },
   {
    "duration": 0,
    "start_time": "2024-12-18T18:29:19.556Z"
   },
   {
    "duration": 0,
    "start_time": "2024-12-18T18:29:19.557Z"
   },
   {
    "duration": 7737,
    "start_time": "2024-12-18T18:33:13.406Z"
   },
   {
    "duration": 1214,
    "start_time": "2024-12-18T18:33:21.146Z"
   },
   {
    "duration": 3,
    "start_time": "2024-12-18T18:33:22.361Z"
   },
   {
    "duration": 21,
    "start_time": "2024-12-18T18:33:22.365Z"
   },
   {
    "duration": 70,
    "start_time": "2024-12-18T18:33:22.388Z"
   },
   {
    "duration": 24,
    "start_time": "2024-12-18T18:33:22.459Z"
   },
   {
    "duration": 2,
    "start_time": "2024-12-18T18:33:22.484Z"
   },
   {
    "duration": 25,
    "start_time": "2024-12-18T18:33:22.487Z"
   },
   {
    "duration": 27,
    "start_time": "2024-12-18T18:33:22.514Z"
   },
   {
    "duration": 212,
    "start_time": "2024-12-18T18:33:22.542Z"
   },
   {
    "duration": 6,
    "start_time": "2024-12-18T18:33:22.756Z"
   },
   {
    "duration": 220,
    "start_time": "2024-12-18T18:33:22.763Z"
   },
   {
    "duration": 5,
    "start_time": "2024-12-18T18:33:22.985Z"
   },
   {
    "duration": 202,
    "start_time": "2024-12-18T18:33:22.993Z"
   },
   {
    "duration": 129,
    "start_time": "2024-12-18T18:33:23.197Z"
   },
   {
    "duration": 127,
    "start_time": "2024-12-18T18:33:23.327Z"
   },
   {
    "duration": 5,
    "start_time": "2024-12-18T18:33:23.455Z"
   },
   {
    "duration": 185,
    "start_time": "2024-12-18T18:33:23.462Z"
   },
   {
    "duration": 187,
    "start_time": "2024-12-18T18:33:23.648Z"
   },
   {
    "duration": 190,
    "start_time": "2024-12-18T18:33:23.837Z"
   },
   {
    "duration": 7,
    "start_time": "2024-12-18T18:33:24.029Z"
   },
   {
    "duration": 37,
    "start_time": "2024-12-18T18:33:24.038Z"
   },
   {
    "duration": 6,
    "start_time": "2024-12-18T18:33:24.077Z"
   },
   {
    "duration": 106286,
    "start_time": "2024-12-18T18:33:24.084Z"
   },
   {
    "duration": 2,
    "start_time": "2024-12-18T18:35:10.372Z"
   },
   {
    "duration": 12,
    "start_time": "2024-12-18T18:35:10.376Z"
   },
   {
    "duration": 232,
    "start_time": "2024-12-18T18:35:10.389Z"
   },
   {
    "duration": 0,
    "start_time": "2024-12-18T18:35:10.622Z"
   },
   {
    "duration": 0,
    "start_time": "2024-12-18T18:35:10.623Z"
   },
   {
    "duration": 0,
    "start_time": "2024-12-18T18:35:10.624Z"
   },
   {
    "duration": 0,
    "start_time": "2024-12-18T18:35:10.625Z"
   },
   {
    "duration": 0,
    "start_time": "2024-12-18T18:35:10.626Z"
   },
   {
    "duration": 0,
    "start_time": "2024-12-18T18:35:10.627Z"
   },
   {
    "duration": 0,
    "start_time": "2024-12-18T18:35:10.628Z"
   },
   {
    "duration": 0,
    "start_time": "2024-12-18T18:35:10.629Z"
   },
   {
    "duration": 0,
    "start_time": "2024-12-18T18:35:10.630Z"
   },
   {
    "duration": 0,
    "start_time": "2024-12-18T18:35:10.631Z"
   },
   {
    "duration": 12,
    "start_time": "2024-12-18T18:38:49.240Z"
   },
   {
    "duration": 9,
    "start_time": "2024-12-18T18:39:17.203Z"
   },
   {
    "duration": 12,
    "start_time": "2024-12-18T18:52:50.519Z"
   },
   {
    "duration": 7636,
    "start_time": "2024-12-18T18:55:15.583Z"
   },
   {
    "duration": 1241,
    "start_time": "2024-12-18T18:55:23.221Z"
   },
   {
    "duration": 3,
    "start_time": "2024-12-18T18:55:24.464Z"
   },
   {
    "duration": 40,
    "start_time": "2024-12-18T18:55:24.468Z"
   },
   {
    "duration": 53,
    "start_time": "2024-12-18T18:55:24.509Z"
   },
   {
    "duration": 24,
    "start_time": "2024-12-18T18:55:24.563Z"
   },
   {
    "duration": 3,
    "start_time": "2024-12-18T18:55:24.588Z"
   },
   {
    "duration": 18,
    "start_time": "2024-12-18T18:55:24.592Z"
   },
   {
    "duration": 23,
    "start_time": "2024-12-18T18:55:24.611Z"
   },
   {
    "duration": 198,
    "start_time": "2024-12-18T18:55:24.637Z"
   },
   {
    "duration": 5,
    "start_time": "2024-12-18T18:55:24.836Z"
   },
   {
    "duration": 217,
    "start_time": "2024-12-18T18:55:24.843Z"
   },
   {
    "duration": 6,
    "start_time": "2024-12-18T18:55:25.061Z"
   },
   {
    "duration": 190,
    "start_time": "2024-12-18T18:55:25.068Z"
   },
   {
    "duration": 140,
    "start_time": "2024-12-18T18:55:25.260Z"
   },
   {
    "duration": 121,
    "start_time": "2024-12-18T18:55:25.402Z"
   },
   {
    "duration": 5,
    "start_time": "2024-12-18T18:55:25.524Z"
   },
   {
    "duration": 189,
    "start_time": "2024-12-18T18:55:25.531Z"
   },
   {
    "duration": 186,
    "start_time": "2024-12-18T18:55:25.722Z"
   },
   {
    "duration": 154,
    "start_time": "2024-12-18T18:55:25.910Z"
   },
   {
    "duration": 7,
    "start_time": "2024-12-18T18:55:26.065Z"
   },
   {
    "duration": 7,
    "start_time": "2024-12-18T18:55:26.074Z"
   },
   {
    "duration": 4,
    "start_time": "2024-12-18T18:55:26.082Z"
   },
   {
    "duration": 104099,
    "start_time": "2024-12-18T18:55:26.087Z"
   },
   {
    "duration": 2,
    "start_time": "2024-12-18T18:57:10.188Z"
   },
   {
    "duration": 5,
    "start_time": "2024-12-18T18:57:10.191Z"
   },
   {
    "duration": 118,
    "start_time": "2024-12-18T18:57:10.197Z"
   },
   {
    "duration": 2,
    "start_time": "2024-12-18T18:57:10.318Z"
   },
   {
    "duration": 12334,
    "start_time": "2024-12-18T18:57:10.321Z"
   },
   {
    "duration": 2,
    "start_time": "2024-12-18T18:57:22.657Z"
   },
   {
    "duration": 25,
    "start_time": "2024-12-18T18:57:22.660Z"
   },
   {
    "duration": 175,
    "start_time": "2024-12-18T18:57:22.686Z"
   },
   {
    "duration": 0,
    "start_time": "2024-12-18T18:57:22.862Z"
   },
   {
    "duration": 0,
    "start_time": "2024-12-18T18:57:22.863Z"
   },
   {
    "duration": 0,
    "start_time": "2024-12-18T18:57:22.865Z"
   },
   {
    "duration": 0,
    "start_time": "2024-12-18T18:57:22.866Z"
   },
   {
    "duration": 0,
    "start_time": "2024-12-18T18:57:22.867Z"
   },
   {
    "duration": 104,
    "start_time": "2024-12-18T18:58:04.530Z"
   },
   {
    "duration": 84324,
    "start_time": "2024-12-18T18:58:08.275Z"
   },
   {
    "duration": 2,
    "start_time": "2024-12-18T18:59:32.601Z"
   },
   {
    "duration": 8,
    "start_time": "2024-12-18T18:59:32.605Z"
   },
   {
    "duration": 115,
    "start_time": "2024-12-18T18:59:32.615Z"
   },
   {
    "duration": 13,
    "start_time": "2024-12-18T19:05:03.220Z"
   },
   {
    "duration": 3,
    "start_time": "2024-12-18T19:05:06.056Z"
   },
   {
    "duration": 52,
    "start_time": "2024-12-18T19:05:39.198Z"
   },
   {
    "duration": 14,
    "start_time": "2024-12-18T19:05:44.275Z"
   },
   {
    "duration": 3,
    "start_time": "2024-12-18T19:05:45.404Z"
   },
   {
    "duration": 19,
    "start_time": "2024-12-18T19:26:08.267Z"
   },
   {
    "duration": 3,
    "start_time": "2024-12-18T19:26:09.091Z"
   },
   {
    "duration": 104,
    "start_time": "2024-12-18T19:26:11.495Z"
   },
   {
    "duration": 3,
    "start_time": "2024-12-18T19:26:13.013Z"
   },
   {
    "duration": 12152,
    "start_time": "2024-12-18T19:26:13.611Z"
   },
   {
    "duration": 188,
    "start_time": "2024-12-18T19:26:25.765Z"
   },
   {
    "duration": 4,
    "start_time": "2024-12-18T19:26:25.954Z"
   },
   {
    "duration": 130,
    "start_time": "2024-12-18T19:26:25.960Z"
   },
   {
    "duration": 84470,
    "start_time": "2024-12-18T19:26:26.091Z"
   },
   {
    "duration": 15,
    "start_time": "2024-12-18T19:27:50.562Z"
   },
   {
    "duration": 3,
    "start_time": "2024-12-18T19:27:50.578Z"
   },
   {
    "duration": 116,
    "start_time": "2024-12-18T19:27:50.582Z"
   },
   {
    "duration": 21,
    "start_time": "2024-12-18T19:31:50.586Z"
   },
   {
    "duration": 3,
    "start_time": "2024-12-18T19:31:53.136Z"
   },
   {
    "duration": 3,
    "start_time": "2024-12-18T19:31:58.236Z"
   },
   {
    "duration": 19,
    "start_time": "2024-12-18T19:32:18.366Z"
   },
   {
    "duration": 3,
    "start_time": "2024-12-18T19:32:20.787Z"
   },
   {
    "duration": 3,
    "start_time": "2024-12-18T19:32:22.184Z"
   },
   {
    "duration": 65,
    "start_time": "2024-12-18T19:38:27.511Z"
   },
   {
    "duration": 67,
    "start_time": "2024-12-18T19:38:31.650Z"
   },
   {
    "duration": 53,
    "start_time": "2024-12-18T19:39:36.984Z"
   },
   {
    "duration": 4,
    "start_time": "2024-12-18T19:39:43.423Z"
   },
   {
    "duration": 44,
    "start_time": "2024-12-18T19:40:40.755Z"
   },
   {
    "duration": 44,
    "start_time": "2024-12-18T19:41:32.442Z"
   },
   {
    "duration": 7710,
    "start_time": "2024-12-18T19:42:02.328Z"
   },
   {
    "duration": 1206,
    "start_time": "2024-12-18T19:42:10.040Z"
   },
   {
    "duration": 5,
    "start_time": "2024-12-18T19:42:11.248Z"
   },
   {
    "duration": 5,
    "start_time": "2024-12-18T19:42:11.254Z"
   },
   {
    "duration": 54,
    "start_time": "2024-12-18T19:42:11.261Z"
   },
   {
    "duration": 23,
    "start_time": "2024-12-18T19:42:11.316Z"
   },
   {
    "duration": 2,
    "start_time": "2024-12-18T19:42:11.341Z"
   },
   {
    "duration": 11,
    "start_time": "2024-12-18T19:42:11.345Z"
   },
   {
    "duration": 9,
    "start_time": "2024-12-18T19:42:11.357Z"
   },
   {
    "duration": 202,
    "start_time": "2024-12-18T19:42:11.368Z"
   },
   {
    "duration": 6,
    "start_time": "2024-12-18T19:42:11.572Z"
   },
   {
    "duration": 218,
    "start_time": "2024-12-18T19:42:11.579Z"
   },
   {
    "duration": 5,
    "start_time": "2024-12-18T19:42:11.799Z"
   },
   {
    "duration": 188,
    "start_time": "2024-12-18T19:42:11.806Z"
   },
   {
    "duration": 129,
    "start_time": "2024-12-18T19:42:11.995Z"
   },
   {
    "duration": 127,
    "start_time": "2024-12-18T19:42:12.125Z"
   },
   {
    "duration": 5,
    "start_time": "2024-12-18T19:42:12.254Z"
   },
   {
    "duration": 220,
    "start_time": "2024-12-18T19:42:12.260Z"
   },
   {
    "duration": 190,
    "start_time": "2024-12-18T19:42:12.481Z"
   },
   {
    "duration": 161,
    "start_time": "2024-12-18T19:42:12.672Z"
   },
   {
    "duration": 3,
    "start_time": "2024-12-18T19:42:12.835Z"
   },
   {
    "duration": 63,
    "start_time": "2024-12-18T19:42:12.840Z"
   },
   {
    "duration": 7,
    "start_time": "2024-12-18T19:42:12.905Z"
   },
   {
    "duration": 12,
    "start_time": "2024-12-18T19:42:12.913Z"
   },
   {
    "duration": 103248,
    "start_time": "2024-12-18T19:42:12.927Z"
   },
   {
    "duration": 20,
    "start_time": "2024-12-18T19:43:56.177Z"
   },
   {
    "duration": 3,
    "start_time": "2024-12-18T19:43:56.198Z"
   },
   {
    "duration": 6,
    "start_time": "2024-12-18T19:43:56.203Z"
   },
   {
    "duration": 118,
    "start_time": "2024-12-18T19:43:56.210Z"
   },
   {
    "duration": 2,
    "start_time": "2024-12-18T19:43:56.330Z"
   },
   {
    "duration": 12127,
    "start_time": "2024-12-18T19:43:56.333Z"
   },
   {
    "duration": 95,
    "start_time": "2024-12-18T19:44:08.461Z"
   },
   {
    "duration": 9,
    "start_time": "2024-12-18T19:44:08.560Z"
   },
   {
    "duration": 174,
    "start_time": "2024-12-18T19:44:08.570Z"
   },
   {
    "duration": 83711,
    "start_time": "2024-12-18T19:44:08.746Z"
   },
   {
    "duration": 12,
    "start_time": "2024-12-18T19:45:32.458Z"
   },
   {
    "duration": 28,
    "start_time": "2024-12-18T19:45:32.471Z"
   },
   {
    "duration": 123,
    "start_time": "2024-12-18T19:45:32.500Z"
   },
   {
    "duration": 8532,
    "start_time": "2024-12-18T19:45:32.624Z"
   },
   {
    "duration": 21,
    "start_time": "2024-12-18T19:51:25.107Z"
   },
   {
    "duration": 7905,
    "start_time": "2024-12-18T19:51:31.632Z"
   },
   {
    "duration": 1219,
    "start_time": "2024-12-18T19:51:39.539Z"
   },
   {
    "duration": 3,
    "start_time": "2024-12-18T19:51:40.760Z"
   },
   {
    "duration": 4,
    "start_time": "2024-12-18T19:51:40.764Z"
   },
   {
    "duration": 49,
    "start_time": "2024-12-18T19:51:40.769Z"
   },
   {
    "duration": 24,
    "start_time": "2024-12-18T19:51:40.819Z"
   },
   {
    "duration": 3,
    "start_time": "2024-12-18T19:51:40.844Z"
   },
   {
    "duration": 9,
    "start_time": "2024-12-18T19:51:40.848Z"
   },
   {
    "duration": 12,
    "start_time": "2024-12-18T19:51:40.859Z"
   },
   {
    "duration": 195,
    "start_time": "2024-12-18T19:51:40.873Z"
   },
   {
    "duration": 5,
    "start_time": "2024-12-18T19:51:41.070Z"
   },
   {
    "duration": 210,
    "start_time": "2024-12-18T19:51:41.076Z"
   },
   {
    "duration": 5,
    "start_time": "2024-12-18T19:51:41.288Z"
   },
   {
    "duration": 187,
    "start_time": "2024-12-18T19:51:41.294Z"
   },
   {
    "duration": 129,
    "start_time": "2024-12-18T19:51:41.482Z"
   },
   {
    "duration": 120,
    "start_time": "2024-12-18T19:51:41.612Z"
   },
   {
    "duration": 5,
    "start_time": "2024-12-18T19:51:41.734Z"
   },
   {
    "duration": 188,
    "start_time": "2024-12-18T19:51:41.741Z"
   },
   {
    "duration": 188,
    "start_time": "2024-12-18T19:51:41.930Z"
   },
   {
    "duration": 157,
    "start_time": "2024-12-18T19:51:42.120Z"
   },
   {
    "duration": 3,
    "start_time": "2024-12-18T19:51:42.279Z"
   },
   {
    "duration": 29,
    "start_time": "2024-12-18T19:51:42.284Z"
   },
   {
    "duration": 8,
    "start_time": "2024-12-18T19:51:42.314Z"
   },
   {
    "duration": 4,
    "start_time": "2024-12-18T19:51:42.323Z"
   },
   {
    "duration": 670506,
    "start_time": "2024-12-18T19:51:42.328Z"
   },
   {
    "duration": 0,
    "start_time": "2024-12-18T20:02:52.835Z"
   },
   {
    "duration": 0,
    "start_time": "2024-12-18T20:02:52.836Z"
   },
   {
    "duration": 0,
    "start_time": "2024-12-18T20:02:52.837Z"
   },
   {
    "duration": 0,
    "start_time": "2024-12-18T20:02:52.838Z"
   },
   {
    "duration": 0,
    "start_time": "2024-12-18T20:02:52.839Z"
   },
   {
    "duration": 0,
    "start_time": "2024-12-18T20:02:52.840Z"
   },
   {
    "duration": 0,
    "start_time": "2024-12-18T20:02:52.842Z"
   },
   {
    "duration": 0,
    "start_time": "2024-12-18T20:02:52.842Z"
   },
   {
    "duration": 0,
    "start_time": "2024-12-18T20:02:52.844Z"
   },
   {
    "duration": 0,
    "start_time": "2024-12-18T20:02:52.845Z"
   },
   {
    "duration": 0,
    "start_time": "2024-12-18T20:02:52.846Z"
   },
   {
    "duration": 0,
    "start_time": "2024-12-18T20:02:52.847Z"
   },
   {
    "duration": 0,
    "start_time": "2024-12-18T20:02:52.847Z"
   },
   {
    "duration": 0,
    "start_time": "2024-12-18T20:02:52.849Z"
   },
   {
    "duration": 7593,
    "start_time": "2024-12-18T20:05:33.613Z"
   },
   {
    "duration": 1162,
    "start_time": "2024-12-18T20:05:41.209Z"
   },
   {
    "duration": 2,
    "start_time": "2024-12-18T20:05:42.373Z"
   },
   {
    "duration": 10,
    "start_time": "2024-12-18T20:05:42.376Z"
   },
   {
    "duration": 56,
    "start_time": "2024-12-18T20:05:42.387Z"
   },
   {
    "duration": 22,
    "start_time": "2024-12-18T20:05:42.444Z"
   },
   {
    "duration": 2,
    "start_time": "2024-12-18T20:05:42.467Z"
   },
   {
    "duration": 10,
    "start_time": "2024-12-18T20:05:42.470Z"
   },
   {
    "duration": 23,
    "start_time": "2024-12-18T20:05:42.481Z"
   },
   {
    "duration": 196,
    "start_time": "2024-12-18T20:05:42.506Z"
   },
   {
    "duration": 5,
    "start_time": "2024-12-18T20:05:42.703Z"
   },
   {
    "duration": 264,
    "start_time": "2024-12-18T20:05:42.709Z"
   },
   {
    "duration": 5,
    "start_time": "2024-12-18T20:05:42.975Z"
   },
   {
    "duration": 132,
    "start_time": "2024-12-18T20:05:42.981Z"
   },
   {
    "duration": 126,
    "start_time": "2024-12-18T20:05:43.114Z"
   },
   {
    "duration": 130,
    "start_time": "2024-12-18T20:05:43.242Z"
   },
   {
    "duration": 5,
    "start_time": "2024-12-18T20:05:43.374Z"
   },
   {
    "duration": 187,
    "start_time": "2024-12-18T20:05:43.380Z"
   },
   {
    "duration": 183,
    "start_time": "2024-12-18T20:05:43.569Z"
   },
   {
    "duration": 162,
    "start_time": "2024-12-18T20:05:43.754Z"
   },
   {
    "duration": 5,
    "start_time": "2024-12-18T20:05:43.919Z"
   },
   {
    "duration": 49,
    "start_time": "2024-12-18T20:05:43.926Z"
   },
   {
    "duration": 8,
    "start_time": "2024-12-18T20:05:43.977Z"
   },
   {
    "duration": 12,
    "start_time": "2024-12-18T20:05:43.986Z"
   },
   {
    "duration": 551437,
    "start_time": "2024-12-18T20:05:43.999Z"
   },
   {
    "duration": 0,
    "start_time": "2024-12-18T20:14:55.439Z"
   },
   {
    "duration": 0,
    "start_time": "2024-12-18T20:14:55.440Z"
   },
   {
    "duration": 0,
    "start_time": "2024-12-18T20:14:55.441Z"
   },
   {
    "duration": 0,
    "start_time": "2024-12-18T20:14:55.441Z"
   },
   {
    "duration": 0,
    "start_time": "2024-12-18T20:14:55.443Z"
   },
   {
    "duration": 0,
    "start_time": "2024-12-18T20:14:55.444Z"
   },
   {
    "duration": 0,
    "start_time": "2024-12-18T20:14:55.445Z"
   },
   {
    "duration": 0,
    "start_time": "2024-12-18T20:14:55.445Z"
   },
   {
    "duration": 0,
    "start_time": "2024-12-18T20:14:55.446Z"
   },
   {
    "duration": 0,
    "start_time": "2024-12-18T20:14:55.447Z"
   },
   {
    "duration": 0,
    "start_time": "2024-12-18T20:14:55.447Z"
   },
   {
    "duration": 0,
    "start_time": "2024-12-18T20:14:55.448Z"
   },
   {
    "duration": 0,
    "start_time": "2024-12-18T20:14:55.449Z"
   },
   {
    "duration": 0,
    "start_time": "2024-12-18T20:14:55.450Z"
   },
   {
    "duration": 14060,
    "start_time": "2024-12-19T16:04:49.402Z"
   },
   {
    "duration": 2498,
    "start_time": "2024-12-19T16:05:03.465Z"
   },
   {
    "duration": 3,
    "start_time": "2024-12-19T16:05:05.965Z"
   },
   {
    "duration": 115,
    "start_time": "2024-12-19T16:05:05.970Z"
   },
   {
    "duration": 81,
    "start_time": "2024-12-19T16:05:06.087Z"
   },
   {
    "duration": 78,
    "start_time": "2024-12-19T16:05:06.169Z"
   },
   {
    "duration": 4,
    "start_time": "2024-12-19T16:05:06.249Z"
   },
   {
    "duration": 77,
    "start_time": "2024-12-19T16:05:06.254Z"
   },
   {
    "duration": 97,
    "start_time": "2024-12-19T16:05:06.333Z"
   },
   {
    "duration": 517,
    "start_time": "2024-12-19T16:05:06.433Z"
   },
   {
    "duration": 8,
    "start_time": "2024-12-19T16:05:06.952Z"
   },
   {
    "duration": 716,
    "start_time": "2024-12-19T16:05:06.962Z"
   },
   {
    "duration": 56,
    "start_time": "2024-12-19T16:05:07.680Z"
   },
   {
    "duration": 339,
    "start_time": "2024-12-19T16:05:07.737Z"
   },
   {
    "duration": 313,
    "start_time": "2024-12-19T16:05:08.130Z"
   },
   {
    "duration": 393,
    "start_time": "2024-12-19T16:05:08.446Z"
   },
   {
    "duration": 7,
    "start_time": "2024-12-19T16:05:08.841Z"
   },
   {
    "duration": 503,
    "start_time": "2024-12-19T16:05:08.850Z"
   },
   {
    "duration": 490,
    "start_time": "2024-12-19T16:05:09.355Z"
   },
   {
    "duration": 484,
    "start_time": "2024-12-19T16:05:09.848Z"
   },
   {
    "duration": 4,
    "start_time": "2024-12-19T16:05:10.334Z"
   },
   {
    "duration": 94,
    "start_time": "2024-12-19T16:05:10.340Z"
   },
   {
    "duration": 530,
    "start_time": "2024-12-19T16:05:10.436Z"
   },
   {
    "duration": 66,
    "start_time": "2024-12-19T16:05:10.967Z"
   },
   {
    "duration": 6,
    "start_time": "2024-12-19T16:05:11.035Z"
   },
   {
    "duration": 17664,
    "start_time": "2024-12-19T16:20:34.801Z"
   },
   {
    "duration": 2799,
    "start_time": "2024-12-19T16:20:52.467Z"
   },
   {
    "duration": 4,
    "start_time": "2024-12-19T16:20:55.268Z"
   },
   {
    "duration": 57,
    "start_time": "2024-12-19T16:20:55.274Z"
   },
   {
    "duration": 114,
    "start_time": "2024-12-19T16:20:55.335Z"
   },
   {
    "duration": 96,
    "start_time": "2024-12-19T16:20:55.451Z"
   },
   {
    "duration": 4,
    "start_time": "2024-12-19T16:20:55.549Z"
   },
   {
    "duration": 83,
    "start_time": "2024-12-19T16:20:55.554Z"
   },
   {
    "duration": 14,
    "start_time": "2024-12-19T16:20:55.642Z"
   },
   {
    "duration": 604,
    "start_time": "2024-12-19T16:20:55.658Z"
   },
   {
    "duration": 7,
    "start_time": "2024-12-19T16:20:56.264Z"
   },
   {
    "duration": 815,
    "start_time": "2024-12-19T16:20:56.331Z"
   },
   {
    "duration": 6,
    "start_time": "2024-12-19T16:20:57.149Z"
   },
   {
    "duration": 371,
    "start_time": "2024-12-19T16:20:57.159Z"
   },
   {
    "duration": 336,
    "start_time": "2024-12-19T16:20:57.532Z"
   },
   {
    "duration": 362,
    "start_time": "2024-12-19T16:20:57.870Z"
   },
   {
    "duration": 10,
    "start_time": "2024-12-19T16:20:58.234Z"
   },
   {
    "duration": 510,
    "start_time": "2024-12-19T16:20:58.245Z"
   },
   {
    "duration": 510,
    "start_time": "2024-12-19T16:20:58.757Z"
   },
   {
    "duration": 406,
    "start_time": "2024-12-19T16:20:59.269Z"
   },
   {
    "duration": 55,
    "start_time": "2024-12-19T16:20:59.676Z"
   },
   {
    "duration": 427,
    "start_time": "2024-12-19T16:20:59.734Z"
   },
   {
    "duration": 4,
    "start_time": "2024-12-19T16:21:00.163Z"
   },
   {
    "duration": 99,
    "start_time": "2024-12-19T16:21:00.169Z"
   },
   {
    "duration": 59,
    "start_time": "2024-12-19T16:21:00.271Z"
   },
   {
    "duration": 267799,
    "start_time": "2024-12-19T16:21:00.333Z"
   },
   {
    "duration": 23,
    "start_time": "2024-12-19T16:25:28.134Z"
   },
   {
    "duration": 7,
    "start_time": "2024-12-19T16:25:28.158Z"
   },
   {
    "duration": 64,
    "start_time": "2024-12-19T16:25:28.167Z"
   },
   {
    "duration": 331,
    "start_time": "2024-12-19T16:25:28.233Z"
   },
   {
    "duration": 4,
    "start_time": "2024-12-19T16:25:28.566Z"
   },
   {
    "duration": 15223,
    "start_time": "2024-12-19T16:30:01.411Z"
   },
   {
    "duration": 2435,
    "start_time": "2024-12-19T16:30:16.637Z"
   },
   {
    "duration": 3,
    "start_time": "2024-12-19T16:30:19.074Z"
   },
   {
    "duration": 4,
    "start_time": "2024-12-19T16:30:19.131Z"
   },
   {
    "duration": 111,
    "start_time": "2024-12-19T16:30:19.137Z"
   },
   {
    "duration": 101,
    "start_time": "2024-12-19T16:30:19.250Z"
   },
   {
    "duration": 4,
    "start_time": "2024-12-19T16:30:19.353Z"
   },
   {
    "duration": 71,
    "start_time": "2024-12-19T16:30:19.360Z"
   },
   {
    "duration": 10,
    "start_time": "2024-12-19T16:30:19.434Z"
   },
   {
    "duration": 515,
    "start_time": "2024-12-19T16:30:19.447Z"
   },
   {
    "duration": 66,
    "start_time": "2024-12-19T16:30:19.964Z"
   },
   {
    "duration": 718,
    "start_time": "2024-12-19T16:30:20.032Z"
   },
   {
    "duration": 9,
    "start_time": "2024-12-19T16:30:20.753Z"
   },
   {
    "duration": 389,
    "start_time": "2024-12-19T16:30:20.765Z"
   },
   {
    "duration": 378,
    "start_time": "2024-12-19T16:30:21.156Z"
   },
   {
    "duration": 313,
    "start_time": "2024-12-19T16:30:21.536Z"
   },
   {
    "duration": 8,
    "start_time": "2024-12-19T16:30:21.851Z"
   },
   {
    "duration": 493,
    "start_time": "2024-12-19T16:30:21.861Z"
   },
   {
    "duration": 506,
    "start_time": "2024-12-19T16:30:22.356Z"
   },
   {
    "duration": 398,
    "start_time": "2024-12-19T16:30:22.863Z"
   },
   {
    "duration": 4,
    "start_time": "2024-12-19T16:30:23.263Z"
   },
   {
    "duration": 499,
    "start_time": "2024-12-19T16:30:23.269Z"
   },
   {
    "duration": 82,
    "start_time": "2024-12-19T16:30:23.770Z"
   },
   {
    "duration": 11,
    "start_time": "2024-12-19T16:30:23.854Z"
   },
   {
    "duration": 5,
    "start_time": "2024-12-19T16:30:23.867Z"
   },
   {
    "duration": 1128903,
    "start_time": "2024-12-19T16:30:23.930Z"
   },
   {
    "duration": 1,
    "start_time": "2024-12-19T16:49:12.840Z"
   },
   {
    "duration": 0,
    "start_time": "2024-12-19T16:49:12.841Z"
   },
   {
    "duration": 0,
    "start_time": "2024-12-19T16:49:12.842Z"
   },
   {
    "duration": 0,
    "start_time": "2024-12-19T16:49:12.844Z"
   },
   {
    "duration": 0,
    "start_time": "2024-12-19T16:49:12.844Z"
   },
   {
    "duration": 0,
    "start_time": "2024-12-19T16:49:12.932Z"
   },
   {
    "duration": 0,
    "start_time": "2024-12-19T16:49:12.934Z"
   },
   {
    "duration": 0,
    "start_time": "2024-12-19T16:49:12.936Z"
   },
   {
    "duration": 0,
    "start_time": "2024-12-19T16:49:12.937Z"
   },
   {
    "duration": 0,
    "start_time": "2024-12-19T16:49:12.939Z"
   },
   {
    "duration": 0,
    "start_time": "2024-12-19T16:49:12.941Z"
   },
   {
    "duration": 0,
    "start_time": "2024-12-19T16:49:12.942Z"
   },
   {
    "duration": 0,
    "start_time": "2024-12-19T16:49:12.944Z"
   },
   {
    "duration": 0,
    "start_time": "2024-12-19T16:49:12.945Z"
   },
   {
    "duration": 225802,
    "start_time": "2024-12-19T16:49:47.631Z"
   },
   {
    "duration": 0,
    "start_time": "2024-12-19T16:53:33.437Z"
   },
   {
    "duration": 0,
    "start_time": "2024-12-19T16:53:33.438Z"
   },
   {
    "duration": 0,
    "start_time": "2024-12-19T16:53:33.438Z"
   },
   {
    "duration": 0,
    "start_time": "2024-12-19T16:53:33.439Z"
   },
   {
    "duration": 12465,
    "start_time": "2024-12-19T17:27:40.118Z"
   },
   {
    "duration": 1471,
    "start_time": "2024-12-19T17:27:52.586Z"
   },
   {
    "duration": 2,
    "start_time": "2024-12-19T17:27:54.060Z"
   },
   {
    "duration": 19,
    "start_time": "2024-12-19T17:27:54.064Z"
   },
   {
    "duration": 189,
    "start_time": "2024-12-19T17:27:54.084Z"
   },
   {
    "duration": 27,
    "start_time": "2024-12-19T17:27:54.274Z"
   },
   {
    "duration": 2,
    "start_time": "2024-12-19T17:27:54.303Z"
   },
   {
    "duration": 6,
    "start_time": "2024-12-19T17:27:54.307Z"
   },
   {
    "duration": 15,
    "start_time": "2024-12-19T17:27:54.315Z"
   },
   {
    "duration": 228,
    "start_time": "2024-12-19T17:27:54.333Z"
   },
   {
    "duration": 5,
    "start_time": "2024-12-19T17:27:54.563Z"
   },
   {
    "duration": 297,
    "start_time": "2024-12-19T17:27:54.569Z"
   },
   {
    "duration": 6,
    "start_time": "2024-12-19T17:27:54.867Z"
   },
   {
    "duration": 142,
    "start_time": "2024-12-19T17:27:54.874Z"
   },
   {
    "duration": 140,
    "start_time": "2024-12-19T17:27:55.017Z"
   },
   {
    "duration": 131,
    "start_time": "2024-12-19T17:27:55.159Z"
   },
   {
    "duration": 6,
    "start_time": "2024-12-19T17:27:55.292Z"
   },
   {
    "duration": 194,
    "start_time": "2024-12-19T17:27:55.299Z"
   },
   {
    "duration": 217,
    "start_time": "2024-12-19T17:27:55.494Z"
   },
   {
    "duration": 161,
    "start_time": "2024-12-19T17:27:55.712Z"
   },
   {
    "duration": 3,
    "start_time": "2024-12-19T17:27:55.875Z"
   },
   {
    "duration": 328,
    "start_time": "2024-12-19T17:27:55.886Z"
   },
   {
    "duration": 22,
    "start_time": "2024-12-19T17:27:56.216Z"
   },
   {
    "duration": 9,
    "start_time": "2024-12-19T17:27:56.240Z"
   },
   {
    "duration": 4,
    "start_time": "2024-12-19T17:27:56.250Z"
   },
   {
    "duration": 154827,
    "start_time": "2024-12-19T17:27:56.256Z"
   },
   {
    "duration": 0,
    "start_time": "2024-12-19T17:30:31.085Z"
   },
   {
    "duration": 0,
    "start_time": "2024-12-19T17:30:31.086Z"
   },
   {
    "duration": 0,
    "start_time": "2024-12-19T17:30:31.087Z"
   },
   {
    "duration": 0,
    "start_time": "2024-12-19T17:30:31.089Z"
   },
   {
    "duration": 0,
    "start_time": "2024-12-19T17:30:31.090Z"
   },
   {
    "duration": 0,
    "start_time": "2024-12-19T17:30:31.091Z"
   },
   {
    "duration": 0,
    "start_time": "2024-12-19T17:30:31.092Z"
   },
   {
    "duration": 0,
    "start_time": "2024-12-19T17:30:31.093Z"
   },
   {
    "duration": 0,
    "start_time": "2024-12-19T17:30:31.094Z"
   },
   {
    "duration": 0,
    "start_time": "2024-12-19T17:30:31.095Z"
   },
   {
    "duration": 0,
    "start_time": "2024-12-19T17:30:31.097Z"
   },
   {
    "duration": 0,
    "start_time": "2024-12-19T17:30:31.098Z"
   },
   {
    "duration": 0,
    "start_time": "2024-12-19T17:30:31.099Z"
   },
   {
    "duration": 0,
    "start_time": "2024-12-19T17:30:31.100Z"
   },
   {
    "duration": 509629,
    "start_time": "2024-12-19T17:30:40.112Z"
   },
   {
    "duration": 9,
    "start_time": "2024-12-19T17:39:09.743Z"
   },
   {
    "duration": 5,
    "start_time": "2024-12-19T17:39:09.754Z"
   },
   {
    "duration": 16,
    "start_time": "2024-12-19T17:39:09.760Z"
   },
   {
    "duration": 249,
    "start_time": "2024-12-19T17:39:09.777Z"
   },
   {
    "duration": 4,
    "start_time": "2024-12-19T17:39:10.028Z"
   },
   {
    "duration": 336259,
    "start_time": "2024-12-19T17:39:10.034Z"
   },
   {
    "duration": 107,
    "start_time": "2024-12-19T17:44:46.295Z"
   },
   {
    "duration": 4,
    "start_time": "2024-12-19T17:44:46.404Z"
   },
   {
    "duration": 321,
    "start_time": "2024-12-19T17:44:46.412Z"
   },
   {
    "duration": 454058,
    "start_time": "2024-12-19T17:44:46.735Z"
   },
   {
    "duration": 19,
    "start_time": "2024-12-19T17:52:20.795Z"
   },
   {
    "duration": 18,
    "start_time": "2024-12-19T17:52:20.815Z"
   },
   {
    "duration": 228,
    "start_time": "2024-12-19T17:52:20.835Z"
   },
   {
    "duration": 92125,
    "start_time": "2024-12-19T17:52:21.064Z"
   },
   {
    "duration": 8172,
    "start_time": "2024-12-19T17:59:48.453Z"
   },
   {
    "duration": 1255,
    "start_time": "2024-12-19T17:59:56.627Z"
   },
   {
    "duration": 3,
    "start_time": "2024-12-19T17:59:57.883Z"
   },
   {
    "duration": 3,
    "start_time": "2024-12-19T17:59:57.889Z"
   },
   {
    "duration": 51,
    "start_time": "2024-12-19T17:59:57.894Z"
   },
   {
    "duration": 24,
    "start_time": "2024-12-19T17:59:57.947Z"
   },
   {
    "duration": 3,
    "start_time": "2024-12-19T17:59:57.972Z"
   },
   {
    "duration": 10,
    "start_time": "2024-12-19T17:59:57.976Z"
   },
   {
    "duration": 18,
    "start_time": "2024-12-19T17:59:57.987Z"
   },
   {
    "duration": 224,
    "start_time": "2024-12-19T17:59:58.007Z"
   },
   {
    "duration": 6,
    "start_time": "2024-12-19T17:59:58.232Z"
   },
   {
    "duration": 284,
    "start_time": "2024-12-19T17:59:58.239Z"
   },
   {
    "duration": 5,
    "start_time": "2024-12-19T17:59:58.525Z"
   },
   {
    "duration": 146,
    "start_time": "2024-12-19T17:59:58.531Z"
   },
   {
    "duration": 145,
    "start_time": "2024-12-19T17:59:58.678Z"
   },
   {
    "duration": 134,
    "start_time": "2024-12-19T17:59:58.824Z"
   },
   {
    "duration": 6,
    "start_time": "2024-12-19T17:59:58.960Z"
   },
   {
    "duration": 207,
    "start_time": "2024-12-19T17:59:58.967Z"
   },
   {
    "duration": 205,
    "start_time": "2024-12-19T17:59:59.175Z"
   },
   {
    "duration": 197,
    "start_time": "2024-12-19T17:59:59.382Z"
   },
   {
    "duration": 3,
    "start_time": "2024-12-19T17:59:59.581Z"
   },
   {
    "duration": 280,
    "start_time": "2024-12-19T17:59:59.589Z"
   },
   {
    "duration": 33,
    "start_time": "2024-12-19T17:59:59.870Z"
   },
   {
    "duration": 9,
    "start_time": "2024-12-19T17:59:59.905Z"
   },
   {
    "duration": 4,
    "start_time": "2024-12-19T17:59:59.915Z"
   },
   {
    "duration": 444704,
    "start_time": "2024-12-19T17:59:59.920Z"
   },
   {
    "duration": 9,
    "start_time": "2024-12-19T18:07:24.625Z"
   },
   {
    "duration": 5,
    "start_time": "2024-12-19T18:07:24.637Z"
   },
   {
    "duration": 245,
    "start_time": "2024-12-19T18:07:24.643Z"
   },
   {
    "duration": 2,
    "start_time": "2024-12-19T18:07:24.890Z"
   },
   {
    "duration": 370011,
    "start_time": "2024-12-19T18:07:24.894Z"
   },
   {
    "duration": 197,
    "start_time": "2024-12-19T18:13:34.908Z"
   },
   {
    "duration": 3,
    "start_time": "2024-12-19T18:13:35.107Z"
   },
   {
    "duration": 320,
    "start_time": "2024-12-19T18:13:35.112Z"
   },
   {
    "duration": 453891,
    "start_time": "2024-12-19T18:13:35.433Z"
   },
   {
    "duration": 19,
    "start_time": "2024-12-19T18:21:09.326Z"
   },
   {
    "duration": 3,
    "start_time": "2024-12-19T18:21:09.346Z"
   },
   {
    "duration": 295,
    "start_time": "2024-12-19T18:21:09.351Z"
   },
   {
    "duration": 79052,
    "start_time": "2024-12-19T18:21:09.647Z"
   },
   {
    "duration": 4,
    "start_time": "2024-12-19T18:22:28.703Z"
   },
   {
    "duration": 79289,
    "start_time": "2024-12-19T18:23:07.779Z"
   },
   {
    "duration": 3,
    "start_time": "2024-12-19T18:25:11.270Z"
   },
   {
    "duration": 6,
    "start_time": "2024-12-19T18:25:23.648Z"
   },
   {
    "duration": 11459,
    "start_time": "2024-12-20T08:13:06.920Z"
   },
   {
    "duration": 1501,
    "start_time": "2024-12-20T08:13:18.381Z"
   },
   {
    "duration": 3,
    "start_time": "2024-12-20T08:13:19.884Z"
   },
   {
    "duration": 38,
    "start_time": "2024-12-20T08:13:19.889Z"
   },
   {
    "duration": 125,
    "start_time": "2024-12-20T08:13:19.929Z"
   },
   {
    "duration": 30,
    "start_time": "2024-12-20T08:13:20.056Z"
   },
   {
    "duration": 8,
    "start_time": "2024-12-20T08:13:20.088Z"
   },
   {
    "duration": 11,
    "start_time": "2024-12-20T08:13:20.098Z"
   },
   {
    "duration": 28,
    "start_time": "2024-12-20T08:13:20.111Z"
   },
   {
    "duration": 234,
    "start_time": "2024-12-20T08:13:20.141Z"
   },
   {
    "duration": 6,
    "start_time": "2024-12-20T08:13:20.376Z"
   },
   {
    "duration": 327,
    "start_time": "2024-12-20T08:13:20.384Z"
   },
   {
    "duration": 6,
    "start_time": "2024-12-20T08:13:20.713Z"
   },
   {
    "duration": 228,
    "start_time": "2024-12-20T08:13:20.720Z"
   },
   {
    "duration": 155,
    "start_time": "2024-12-20T08:13:20.950Z"
   },
   {
    "duration": 148,
    "start_time": "2024-12-20T08:13:21.107Z"
   },
   {
    "duration": 7,
    "start_time": "2024-12-20T08:13:21.257Z"
   },
   {
    "duration": 212,
    "start_time": "2024-12-20T08:13:21.265Z"
   },
   {
    "duration": 232,
    "start_time": "2024-12-20T08:13:21.479Z"
   },
   {
    "duration": 178,
    "start_time": "2024-12-20T08:13:21.712Z"
   },
   {
    "duration": 4,
    "start_time": "2024-12-20T08:13:21.892Z"
   },
   {
    "duration": 371,
    "start_time": "2024-12-20T08:13:21.898Z"
   },
   {
    "duration": 26,
    "start_time": "2024-12-20T08:13:22.271Z"
   },
   {
    "duration": 8,
    "start_time": "2024-12-20T08:13:22.299Z"
   },
   {
    "duration": 16,
    "start_time": "2024-12-20T08:13:22.308Z"
   },
   {
    "duration": 449480,
    "start_time": "2024-12-20T08:13:22.329Z"
   },
   {
    "duration": 8,
    "start_time": "2024-12-20T08:20:51.811Z"
   },
   {
    "duration": 4,
    "start_time": "2024-12-20T08:20:51.822Z"
   },
   {
    "duration": 288,
    "start_time": "2024-12-20T08:20:51.828Z"
   },
   {
    "duration": 3,
    "start_time": "2024-12-20T08:20:52.117Z"
   },
   {
    "duration": 16507,
    "start_time": "2024-12-20T08:20:52.130Z"
   },
   {
    "duration": 11,
    "start_time": "2024-12-20T08:21:08.639Z"
   },
   {
    "duration": 4,
    "start_time": "2024-12-20T08:21:08.651Z"
   },
   {
    "duration": 337,
    "start_time": "2024-12-20T08:21:08.656Z"
   },
   {
    "duration": 257482,
    "start_time": "2024-12-20T08:21:08.995Z"
   },
   {
    "duration": 0,
    "start_time": "2024-12-20T08:25:26.479Z"
   },
   {
    "duration": 0,
    "start_time": "2024-12-20T08:25:26.480Z"
   },
   {
    "duration": 0,
    "start_time": "2024-12-20T08:25:26.481Z"
   },
   {
    "duration": 0,
    "start_time": "2024-12-20T08:25:26.483Z"
   },
   {
    "duration": 0,
    "start_time": "2024-12-20T08:25:26.484Z"
   },
   {
    "duration": 22,
    "start_time": "2024-12-20T08:25:43.634Z"
   },
   {
    "duration": 14,
    "start_time": "2024-12-20T08:26:50.842Z"
   },
   {
    "duration": 43,
    "start_time": "2024-12-20T08:26:55.254Z"
   },
   {
    "duration": 241,
    "start_time": "2024-12-20T08:27:34.450Z"
   },
   {
    "duration": 2,
    "start_time": "2024-12-20T08:28:24.832Z"
   },
   {
    "duration": 78999,
    "start_time": "2024-12-20T08:34:32.868Z"
   },
   {
    "duration": 9,
    "start_time": "2024-12-20T08:35:51.870Z"
   },
   {
    "duration": 75,
    "start_time": "2024-12-20T08:37:04.289Z"
   },
   {
    "duration": 5,
    "start_time": "2024-12-20T08:37:10.931Z"
   },
   {
    "duration": 6,
    "start_time": "2024-12-20T08:37:25.307Z"
   },
   {
    "duration": 33,
    "start_time": "2024-12-20T08:41:12.729Z"
   },
   {
    "duration": 25,
    "start_time": "2024-12-20T08:41:24.832Z"
   },
   {
    "duration": 19,
    "start_time": "2024-12-20T08:41:35.831Z"
   },
   {
    "duration": 38,
    "start_time": "2024-12-20T08:42:09.858Z"
   },
   {
    "duration": 37,
    "start_time": "2024-12-20T08:42:15.195Z"
   },
   {
    "duration": 49,
    "start_time": "2024-12-20T08:42:49.307Z"
   },
   {
    "duration": 12,
    "start_time": "2024-12-20T08:48:06.386Z"
   },
   {
    "duration": 28,
    "start_time": "2024-12-20T08:48:49.103Z"
   },
   {
    "duration": 51,
    "start_time": "2024-12-20T15:13:01.244Z"
   },
   {
    "duration": 7,
    "start_time": "2024-12-20T15:17:02.423Z"
   },
   {
    "duration": 6,
    "start_time": "2024-12-20T15:21:46.315Z"
   },
   {
    "duration": 11841,
    "start_time": "2024-12-20T15:23:26.098Z"
   },
   {
    "duration": 1605,
    "start_time": "2024-12-20T15:23:37.941Z"
   },
   {
    "duration": 2,
    "start_time": "2024-12-20T15:23:39.548Z"
   },
   {
    "duration": 31,
    "start_time": "2024-12-20T15:23:39.552Z"
   },
   {
    "duration": 109,
    "start_time": "2024-12-20T15:23:39.584Z"
   },
   {
    "duration": 29,
    "start_time": "2024-12-20T15:23:39.694Z"
   },
   {
    "duration": 3,
    "start_time": "2024-12-20T15:23:39.724Z"
   },
   {
    "duration": 5,
    "start_time": "2024-12-20T15:23:39.729Z"
   },
   {
    "duration": 8,
    "start_time": "2024-12-20T15:23:39.736Z"
   },
   {
    "duration": 247,
    "start_time": "2024-12-20T15:23:39.747Z"
   },
   {
    "duration": 7,
    "start_time": "2024-12-20T15:23:39.995Z"
   },
   {
    "duration": 359,
    "start_time": "2024-12-20T15:23:40.003Z"
   },
   {
    "duration": 7,
    "start_time": "2024-12-20T15:23:40.363Z"
   },
   {
    "duration": 166,
    "start_time": "2024-12-20T15:23:40.371Z"
   },
   {
    "duration": 157,
    "start_time": "2024-12-20T15:23:40.538Z"
   },
   {
    "duration": 155,
    "start_time": "2024-12-20T15:23:40.697Z"
   },
   {
    "duration": 7,
    "start_time": "2024-12-20T15:23:40.853Z"
   },
   {
    "duration": 224,
    "start_time": "2024-12-20T15:23:40.861Z"
   },
   {
    "duration": 224,
    "start_time": "2024-12-20T15:23:41.087Z"
   },
   {
    "duration": 186,
    "start_time": "2024-12-20T15:23:41.312Z"
   },
   {
    "duration": 4,
    "start_time": "2024-12-20T15:23:41.499Z"
   },
   {
    "duration": 474,
    "start_time": "2024-12-20T15:23:41.505Z"
   },
   {
    "duration": 24,
    "start_time": "2024-12-20T15:23:41.981Z"
   },
   {
    "duration": 133,
    "start_time": "2024-12-20T15:23:42.007Z"
   },
   {
    "duration": 4,
    "start_time": "2024-12-20T15:23:42.142Z"
   },
   {
    "duration": 28,
    "start_time": "2024-12-20T15:23:42.148Z"
   },
   {
    "duration": 4,
    "start_time": "2024-12-20T15:23:42.178Z"
   },
   {
    "duration": 40,
    "start_time": "2024-12-20T15:23:42.186Z"
   },
   {
    "duration": 28,
    "start_time": "2024-12-20T15:23:42.228Z"
   },
   {
    "duration": 421173,
    "start_time": "2024-12-20T15:23:42.258Z"
   },
   {
    "duration": 0,
    "start_time": "2024-12-20T15:30:43.433Z"
   },
   {
    "duration": 0,
    "start_time": "2024-12-20T15:30:43.435Z"
   },
   {
    "duration": 0,
    "start_time": "2024-12-20T15:30:43.436Z"
   },
   {
    "duration": 0,
    "start_time": "2024-12-20T15:30:43.437Z"
   },
   {
    "duration": 0,
    "start_time": "2024-12-20T15:30:43.438Z"
   },
   {
    "duration": 0,
    "start_time": "2024-12-20T15:30:43.440Z"
   },
   {
    "duration": 0,
    "start_time": "2024-12-20T15:30:43.441Z"
   },
   {
    "duration": 0,
    "start_time": "2024-12-20T15:30:43.442Z"
   },
   {
    "duration": 0,
    "start_time": "2024-12-20T15:30:43.443Z"
   },
   {
    "duration": 0,
    "start_time": "2024-12-20T15:30:43.444Z"
   },
   {
    "duration": 0,
    "start_time": "2024-12-20T15:30:43.446Z"
   },
   {
    "duration": 0,
    "start_time": "2024-12-20T15:30:43.447Z"
   },
   {
    "duration": 0,
    "start_time": "2024-12-20T15:30:43.449Z"
   },
   {
    "duration": 0,
    "start_time": "2024-12-20T15:30:43.450Z"
   },
   {
    "duration": 123,
    "start_time": "2024-12-20T15:31:10.526Z"
   },
   {
    "duration": 118,
    "start_time": "2024-12-20T15:31:41.272Z"
   },
   {
    "duration": 4,
    "start_time": "2024-12-20T15:31:42.123Z"
   },
   {
    "duration": 21,
    "start_time": "2024-12-20T15:31:49.334Z"
   },
   {
    "duration": 124,
    "start_time": "2024-12-20T15:32:05.439Z"
   },
   {
    "duration": 5,
    "start_time": "2024-12-20T15:32:08.574Z"
   },
   {
    "duration": 23,
    "start_time": "2024-12-20T15:32:09.956Z"
   },
   {
    "duration": 14,
    "start_time": "2024-12-20T15:35:39.322Z"
   },
   {
    "duration": 122,
    "start_time": "2024-12-20T15:35:39.806Z"
   },
   {
    "duration": 5,
    "start_time": "2024-12-20T15:35:40.228Z"
   },
   {
    "duration": 21,
    "start_time": "2024-12-20T15:35:41.173Z"
   },
   {
    "duration": 13,
    "start_time": "2024-12-20T15:36:01.169Z"
   },
   {
    "duration": 120,
    "start_time": "2024-12-20T15:36:01.977Z"
   },
   {
    "duration": 4,
    "start_time": "2024-12-20T15:36:03.189Z"
   },
   {
    "duration": 7782,
    "start_time": "2024-12-20T15:36:52.844Z"
   },
   {
    "duration": 1431,
    "start_time": "2024-12-20T15:37:00.629Z"
   },
   {
    "duration": 3,
    "start_time": "2024-12-20T15:37:02.061Z"
   },
   {
    "duration": 43,
    "start_time": "2024-12-20T15:37:02.066Z"
   },
   {
    "duration": 71,
    "start_time": "2024-12-20T15:37:02.111Z"
   },
   {
    "duration": 27,
    "start_time": "2024-12-20T15:37:02.184Z"
   },
   {
    "duration": 6,
    "start_time": "2024-12-20T15:37:02.212Z"
   },
   {
    "duration": 11,
    "start_time": "2024-12-20T15:37:02.220Z"
   },
   {
    "duration": 41,
    "start_time": "2024-12-20T15:37:02.233Z"
   },
   {
    "duration": 289,
    "start_time": "2024-12-20T15:37:02.277Z"
   },
   {
    "duration": 7,
    "start_time": "2024-12-20T15:37:02.567Z"
   },
   {
    "duration": 371,
    "start_time": "2024-12-20T15:37:02.576Z"
   },
   {
    "duration": 7,
    "start_time": "2024-12-20T15:37:02.950Z"
   },
   {
    "duration": 179,
    "start_time": "2024-12-20T15:37:02.958Z"
   },
   {
    "duration": 164,
    "start_time": "2024-12-20T15:37:03.139Z"
   },
   {
    "duration": 170,
    "start_time": "2024-12-20T15:37:03.305Z"
   },
   {
    "duration": 6,
    "start_time": "2024-12-20T15:37:03.477Z"
   },
   {
    "duration": 268,
    "start_time": "2024-12-20T15:37:03.484Z"
   },
   {
    "duration": 247,
    "start_time": "2024-12-20T15:37:03.754Z"
   },
   {
    "duration": 199,
    "start_time": "2024-12-20T15:37:04.002Z"
   },
   {
    "duration": 3,
    "start_time": "2024-12-20T15:37:04.203Z"
   },
   {
    "duration": 341,
    "start_time": "2024-12-20T15:37:04.208Z"
   },
   {
    "duration": 145,
    "start_time": "2024-12-20T15:37:04.552Z"
   },
   {
    "duration": 25,
    "start_time": "2024-12-20T15:37:04.698Z"
   },
   {
    "duration": 150,
    "start_time": "2024-12-20T15:37:04.725Z"
   },
   {
    "duration": 0,
    "start_time": "2024-12-20T15:37:04.877Z"
   },
   {
    "duration": 0,
    "start_time": "2024-12-20T15:37:04.879Z"
   },
   {
    "duration": 0,
    "start_time": "2024-12-20T15:37:04.880Z"
   },
   {
    "duration": 0,
    "start_time": "2024-12-20T15:37:04.881Z"
   },
   {
    "duration": 0,
    "start_time": "2024-12-20T15:37:04.882Z"
   },
   {
    "duration": 0,
    "start_time": "2024-12-20T15:37:04.883Z"
   },
   {
    "duration": 0,
    "start_time": "2024-12-20T15:37:04.884Z"
   },
   {
    "duration": 0,
    "start_time": "2024-12-20T15:37:04.996Z"
   },
   {
    "duration": 0,
    "start_time": "2024-12-20T15:37:04.997Z"
   },
   {
    "duration": 0,
    "start_time": "2024-12-20T15:37:04.998Z"
   },
   {
    "duration": 0,
    "start_time": "2024-12-20T15:37:04.999Z"
   },
   {
    "duration": 0,
    "start_time": "2024-12-20T15:37:05.001Z"
   },
   {
    "duration": 0,
    "start_time": "2024-12-20T15:37:05.001Z"
   },
   {
    "duration": 0,
    "start_time": "2024-12-20T15:37:05.003Z"
   },
   {
    "duration": 0,
    "start_time": "2024-12-20T15:37:05.003Z"
   },
   {
    "duration": 0,
    "start_time": "2024-12-20T15:37:05.005Z"
   },
   {
    "duration": 0,
    "start_time": "2024-12-20T15:37:05.005Z"
   },
   {
    "duration": 0,
    "start_time": "2024-12-20T15:37:05.007Z"
   },
   {
    "duration": 0,
    "start_time": "2024-12-20T15:37:05.008Z"
   },
   {
    "duration": 5,
    "start_time": "2024-12-20T15:37:19.722Z"
   },
   {
    "duration": 22,
    "start_time": "2024-12-20T15:37:23.202Z"
   },
   {
    "duration": 4,
    "start_time": "2024-12-20T15:37:39.933Z"
   },
   {
    "duration": 22,
    "start_time": "2024-12-20T15:37:41.139Z"
   },
   {
    "duration": 27,
    "start_time": "2024-12-20T15:37:50.645Z"
   },
   {
    "duration": 6,
    "start_time": "2024-12-20T15:38:06.415Z"
   },
   {
    "duration": 10,
    "start_time": "2024-12-20T15:39:45.776Z"
   },
   {
    "duration": 2,
    "start_time": "2024-12-20T15:39:49.252Z"
   },
   {
    "duration": 6,
    "start_time": "2024-12-20T15:39:49.859Z"
   },
   {
    "duration": 28,
    "start_time": "2024-12-20T15:39:52.502Z"
   },
   {
    "duration": 7502,
    "start_time": "2024-12-20T15:40:28.544Z"
   },
   {
    "duration": 1377,
    "start_time": "2024-12-20T15:40:36.049Z"
   },
   {
    "duration": 9,
    "start_time": "2024-12-20T15:40:37.428Z"
   },
   {
    "duration": 20,
    "start_time": "2024-12-20T15:40:37.439Z"
   },
   {
    "duration": 57,
    "start_time": "2024-12-20T15:40:37.461Z"
   },
   {
    "duration": 27,
    "start_time": "2024-12-20T15:40:37.519Z"
   },
   {
    "duration": 13,
    "start_time": "2024-12-20T15:40:37.548Z"
   },
   {
    "duration": 5,
    "start_time": "2024-12-20T15:40:37.563Z"
   },
   {
    "duration": 18,
    "start_time": "2024-12-20T15:40:37.569Z"
   },
   {
    "duration": 236,
    "start_time": "2024-12-20T15:40:37.590Z"
   },
   {
    "duration": 10,
    "start_time": "2024-12-20T15:40:37.827Z"
   },
   {
    "duration": 331,
    "start_time": "2024-12-20T15:40:37.838Z"
   },
   {
    "duration": 6,
    "start_time": "2024-12-20T15:40:38.171Z"
   },
   {
    "duration": 180,
    "start_time": "2024-12-20T15:40:38.179Z"
   },
   {
    "duration": 172,
    "start_time": "2024-12-20T15:40:38.360Z"
   },
   {
    "duration": 151,
    "start_time": "2024-12-20T15:40:38.537Z"
   },
   {
    "duration": 7,
    "start_time": "2024-12-20T15:40:38.690Z"
   },
   {
    "duration": 227,
    "start_time": "2024-12-20T15:40:38.699Z"
   },
   {
    "duration": 216,
    "start_time": "2024-12-20T15:40:38.928Z"
   },
   {
    "duration": 183,
    "start_time": "2024-12-20T15:40:39.146Z"
   },
   {
    "duration": 9,
    "start_time": "2024-12-20T15:40:39.331Z"
   },
   {
    "duration": 330,
    "start_time": "2024-12-20T15:40:39.341Z"
   },
   {
    "duration": 154,
    "start_time": "2024-12-20T15:40:39.673Z"
   },
   {
    "duration": 23,
    "start_time": "2024-12-20T15:40:39.829Z"
   },
   {
    "duration": 3,
    "start_time": "2024-12-20T15:40:39.854Z"
   },
   {
    "duration": 11,
    "start_time": "2024-12-20T15:40:39.858Z"
   },
   {
    "duration": 24,
    "start_time": "2024-12-20T15:40:39.871Z"
   },
   {
    "duration": 3,
    "start_time": "2024-12-20T15:40:39.898Z"
   },
   {
    "duration": 20,
    "start_time": "2024-12-20T15:40:39.902Z"
   },
   {
    "duration": 4,
    "start_time": "2024-12-20T15:40:39.924Z"
   },
   {
    "duration": 0,
    "start_time": "2024-12-20T15:41:00.641Z"
   },
   {
    "duration": 0,
    "start_time": "2024-12-20T15:41:00.643Z"
   },
   {
    "duration": 0,
    "start_time": "2024-12-20T15:41:00.644Z"
   },
   {
    "duration": 0,
    "start_time": "2024-12-20T15:41:00.645Z"
   },
   {
    "duration": 0,
    "start_time": "2024-12-20T15:41:00.646Z"
   },
   {
    "duration": 0,
    "start_time": "2024-12-20T15:41:00.647Z"
   },
   {
    "duration": 0,
    "start_time": "2024-12-20T15:41:00.649Z"
   },
   {
    "duration": 0,
    "start_time": "2024-12-20T15:41:00.650Z"
   },
   {
    "duration": 0,
    "start_time": "2024-12-20T15:41:00.651Z"
   },
   {
    "duration": 0,
    "start_time": "2024-12-20T15:41:00.652Z"
   },
   {
    "duration": 0,
    "start_time": "2024-12-20T15:41:00.654Z"
   },
   {
    "duration": 0,
    "start_time": "2024-12-20T15:41:00.654Z"
   },
   {
    "duration": 0,
    "start_time": "2024-12-20T15:41:00.655Z"
   },
   {
    "duration": 0,
    "start_time": "2024-12-20T15:41:00.656Z"
   },
   {
    "duration": 0,
    "start_time": "2024-12-20T15:41:00.657Z"
   },
   {
    "duration": 7358,
    "start_time": "2024-12-20T15:41:52.917Z"
   },
   {
    "duration": 1366,
    "start_time": "2024-12-20T15:42:00.278Z"
   },
   {
    "duration": 3,
    "start_time": "2024-12-20T15:42:01.648Z"
   },
   {
    "duration": 23,
    "start_time": "2024-12-20T15:42:01.653Z"
   },
   {
    "duration": 60,
    "start_time": "2024-12-20T15:42:01.678Z"
   },
   {
    "duration": 72,
    "start_time": "2024-12-20T15:42:01.739Z"
   },
   {
    "duration": 5,
    "start_time": "2024-12-20T15:42:01.813Z"
   },
   {
    "duration": 6,
    "start_time": "2024-12-20T15:42:01.820Z"
   },
   {
    "duration": 45,
    "start_time": "2024-12-20T15:42:01.828Z"
   },
   {
    "duration": 265,
    "start_time": "2024-12-20T15:42:01.875Z"
   },
   {
    "duration": 10,
    "start_time": "2024-12-20T15:42:02.142Z"
   },
   {
    "duration": 390,
    "start_time": "2024-12-20T15:42:02.154Z"
   },
   {
    "duration": 6,
    "start_time": "2024-12-20T15:42:02.548Z"
   },
   {
    "duration": 233,
    "start_time": "2024-12-20T15:42:02.555Z"
   },
   {
    "duration": 166,
    "start_time": "2024-12-20T15:42:02.790Z"
   },
   {
    "duration": 157,
    "start_time": "2024-12-20T15:42:02.958Z"
   },
   {
    "duration": 6,
    "start_time": "2024-12-20T15:42:03.117Z"
   },
   {
    "duration": 297,
    "start_time": "2024-12-20T15:42:03.124Z"
   },
   {
    "duration": 236,
    "start_time": "2024-12-20T15:42:03.423Z"
   },
   {
    "duration": 202,
    "start_time": "2024-12-20T15:42:03.660Z"
   },
   {
    "duration": 4,
    "start_time": "2024-12-20T15:42:03.864Z"
   },
   {
    "duration": 300,
    "start_time": "2024-12-20T15:42:03.870Z"
   },
   {
    "duration": 161,
    "start_time": "2024-12-20T15:42:04.172Z"
   },
   {
    "duration": 24,
    "start_time": "2024-12-20T15:42:04.335Z"
   },
   {
    "duration": 9,
    "start_time": "2024-12-20T15:42:04.361Z"
   },
   {
    "duration": 10,
    "start_time": "2024-12-20T15:42:04.371Z"
   },
   {
    "duration": 45,
    "start_time": "2024-12-20T15:42:04.382Z"
   },
   {
    "duration": 3,
    "start_time": "2024-12-20T15:42:04.436Z"
   },
   {
    "duration": 130,
    "start_time": "2024-12-20T15:42:04.441Z"
   },
   {
    "duration": 4,
    "start_time": "2024-12-20T15:42:04.573Z"
   },
   {
    "duration": 482512,
    "start_time": "2024-12-20T15:42:04.578Z"
   },
   {
    "duration": 8,
    "start_time": "2024-12-20T15:50:07.092Z"
   },
   {
    "duration": 29,
    "start_time": "2024-12-20T15:50:07.102Z"
   },
   {
    "duration": 282,
    "start_time": "2024-12-20T15:50:07.132Z"
   },
   {
    "duration": 2,
    "start_time": "2024-12-20T15:50:07.416Z"
   },
   {
    "duration": 16622,
    "start_time": "2024-12-20T15:50:07.420Z"
   },
   {
    "duration": 10,
    "start_time": "2024-12-20T15:50:24.044Z"
   },
   {
    "duration": 7,
    "start_time": "2024-12-20T15:50:24.056Z"
   },
   {
    "duration": 307,
    "start_time": "2024-12-20T15:50:24.065Z"
   },
   {
    "duration": 435049,
    "start_time": "2024-12-20T15:50:24.376Z"
   },
   {
    "duration": 26,
    "start_time": "2024-12-20T15:57:39.427Z"
   },
   {
    "duration": 27,
    "start_time": "2024-12-20T15:57:39.454Z"
   },
   {
    "duration": 260,
    "start_time": "2024-12-20T15:57:39.482Z"
   },
   {
    "duration": 15,
    "start_time": "2024-12-20T15:57:39.744Z"
   },
   {
    "duration": 6,
    "start_time": "2024-12-20T15:57:39.761Z"
   },
   {
    "duration": 7,
    "start_time": "2024-12-20T15:59:13.290Z"
   }
  ],
  "kernelspec": {
   "display_name": "Python 3 (ipykernel)",
   "language": "python",
   "name": "python3"
  },
  "language_info": {
   "codemirror_mode": {
    "name": "ipython",
    "version": 3
   },
   "file_extension": ".py",
   "mimetype": "text/x-python",
   "name": "python",
   "nbconvert_exporter": "python",
   "pygments_lexer": "ipython3",
   "version": "3.9.5"
  },
  "toc": {
   "base_numbering": 1,
   "nav_menu": {},
   "number_sections": true,
   "sideBar": true,
   "skip_h1_title": true,
   "title_cell": "Содержание",
   "title_sidebar": "Contents",
   "toc_cell": true,
   "toc_position": {
    "height": "calc(100% - 180px)",
    "left": "10px",
    "top": "150px",
    "width": "265.594px"
   },
   "toc_section_display": true,
   "toc_window_display": false
  }
 },
 "nbformat": 4,
 "nbformat_minor": 2
}
