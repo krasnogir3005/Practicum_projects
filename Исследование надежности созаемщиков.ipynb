{
 "cells": [
  {
   "cell_type": "markdown",
   "id": "7aae8ea4",
   "metadata": {
    "deletable": false,
    "editable": false,
    "id": "c81daeeb"
   },
   "source": [
    "# Исследование надежности заемщиков\n"
   ]
  },
  {
   "cell_type": "markdown",
   "id": "e2242e69",
   "metadata": {
    "deletable": false,
    "editable": false,
    "id": "827c20bf"
   },
   "source": [
    "Во второй части проекта вы выполните шаги 3 и 4. Их вручную проверит ревьюер.\n",
    "Чтобы вам не пришлось писать код заново для шагов 1 и 2, мы добавили авторские решения в ячейки с кодом. \n",
    "\n"
   ]
  },
  {
   "cell_type": "markdown",
   "id": "1c27591c",
   "metadata": {
    "deletable": false,
    "editable": false,
    "id": "744d7639"
   },
   "source": [
    "## Откройте таблицу и изучите общую информацию о данных"
   ]
  },
  {
   "cell_type": "markdown",
   "id": "61daf8aa",
   "metadata": {
    "deletable": false,
    "editable": false,
    "id": "e7a14c31"
   },
   "source": [
    "**Задание 1. Импортируйте библиотеку pandas. Считайте данные из csv-файла в датафрейм и сохраните в переменную `data`. Путь к файлу:**\n",
    "\n",
    "`/datasets/data.csv`"
   ]
  },
  {
   "cell_type": "code",
   "execution_count": 1,
   "id": "7462a5b7",
   "metadata": {
    "deletable": false,
    "id": "7bcf75c9"
   },
   "outputs": [],
   "source": [
    "import pandas as pd\n",
    "import matplotlib.pyplot as plt\n",
    "import seaborn as sns\n",
    "\n",
    "try:\n",
    "    data = pd.read_csv('/datasets/data.csv')\n",
    "except:\n",
    "    data = pd.read_csv('https://code.s3.yandex.net/datasets/data.csv')"
   ]
  },
  {
   "cell_type": "markdown",
   "id": "d3673f90",
   "metadata": {
    "deletable": false,
    "editable": false,
    "id": "b8038fe3"
   },
   "source": [
    "**Задание 2. Выведите первые 20 строчек датафрейма `data` на экран.**"
   ]
  },
  {
   "cell_type": "code",
   "execution_count": 2,
   "id": "63671d74",
   "metadata": {
    "deletable": false,
    "id": "2a7cab99",
    "outputId": "1a8f3ef2-d323-4ec2-ddf7-89670b5944c4"
   },
   "outputs": [
    {
     "data": {
      "text/html": [
       "<div>\n",
       "<style scoped>\n",
       "    .dataframe tbody tr th:only-of-type {\n",
       "        vertical-align: middle;\n",
       "    }\n",
       "\n",
       "    .dataframe tbody tr th {\n",
       "        vertical-align: top;\n",
       "    }\n",
       "\n",
       "    .dataframe thead th {\n",
       "        text-align: right;\n",
       "    }\n",
       "</style>\n",
       "<table border=\"1\" class=\"dataframe\">\n",
       "  <thead>\n",
       "    <tr style=\"text-align: right;\">\n",
       "      <th></th>\n",
       "      <th>children</th>\n",
       "      <th>days_employed</th>\n",
       "      <th>dob_years</th>\n",
       "      <th>education</th>\n",
       "      <th>education_id</th>\n",
       "      <th>family_status</th>\n",
       "      <th>family_status_id</th>\n",
       "      <th>gender</th>\n",
       "      <th>income_type</th>\n",
       "      <th>debt</th>\n",
       "      <th>total_income</th>\n",
       "      <th>purpose</th>\n",
       "    </tr>\n",
       "  </thead>\n",
       "  <tbody>\n",
       "    <tr>\n",
       "      <th>0</th>\n",
       "      <td>1</td>\n",
       "      <td>-8437.673028</td>\n",
       "      <td>42</td>\n",
       "      <td>высшее</td>\n",
       "      <td>0</td>\n",
       "      <td>женат / замужем</td>\n",
       "      <td>0</td>\n",
       "      <td>F</td>\n",
       "      <td>сотрудник</td>\n",
       "      <td>0</td>\n",
       "      <td>253875.639453</td>\n",
       "      <td>покупка жилья</td>\n",
       "    </tr>\n",
       "    <tr>\n",
       "      <th>1</th>\n",
       "      <td>1</td>\n",
       "      <td>-4024.803754</td>\n",
       "      <td>36</td>\n",
       "      <td>среднее</td>\n",
       "      <td>1</td>\n",
       "      <td>женат / замужем</td>\n",
       "      <td>0</td>\n",
       "      <td>F</td>\n",
       "      <td>сотрудник</td>\n",
       "      <td>0</td>\n",
       "      <td>112080.014102</td>\n",
       "      <td>приобретение автомобиля</td>\n",
       "    </tr>\n",
       "    <tr>\n",
       "      <th>2</th>\n",
       "      <td>0</td>\n",
       "      <td>-5623.422610</td>\n",
       "      <td>33</td>\n",
       "      <td>Среднее</td>\n",
       "      <td>1</td>\n",
       "      <td>женат / замужем</td>\n",
       "      <td>0</td>\n",
       "      <td>M</td>\n",
       "      <td>сотрудник</td>\n",
       "      <td>0</td>\n",
       "      <td>145885.952297</td>\n",
       "      <td>покупка жилья</td>\n",
       "    </tr>\n",
       "    <tr>\n",
       "      <th>3</th>\n",
       "      <td>3</td>\n",
       "      <td>-4124.747207</td>\n",
       "      <td>32</td>\n",
       "      <td>среднее</td>\n",
       "      <td>1</td>\n",
       "      <td>женат / замужем</td>\n",
       "      <td>0</td>\n",
       "      <td>M</td>\n",
       "      <td>сотрудник</td>\n",
       "      <td>0</td>\n",
       "      <td>267628.550329</td>\n",
       "      <td>дополнительное образование</td>\n",
       "    </tr>\n",
       "    <tr>\n",
       "      <th>4</th>\n",
       "      <td>0</td>\n",
       "      <td>340266.072047</td>\n",
       "      <td>53</td>\n",
       "      <td>среднее</td>\n",
       "      <td>1</td>\n",
       "      <td>гражданский брак</td>\n",
       "      <td>1</td>\n",
       "      <td>F</td>\n",
       "      <td>пенсионер</td>\n",
       "      <td>0</td>\n",
       "      <td>158616.077870</td>\n",
       "      <td>сыграть свадьбу</td>\n",
       "    </tr>\n",
       "    <tr>\n",
       "      <th>5</th>\n",
       "      <td>0</td>\n",
       "      <td>-926.185831</td>\n",
       "      <td>27</td>\n",
       "      <td>высшее</td>\n",
       "      <td>0</td>\n",
       "      <td>гражданский брак</td>\n",
       "      <td>1</td>\n",
       "      <td>M</td>\n",
       "      <td>компаньон</td>\n",
       "      <td>0</td>\n",
       "      <td>255763.565419</td>\n",
       "      <td>покупка жилья</td>\n",
       "    </tr>\n",
       "    <tr>\n",
       "      <th>6</th>\n",
       "      <td>0</td>\n",
       "      <td>-2879.202052</td>\n",
       "      <td>43</td>\n",
       "      <td>высшее</td>\n",
       "      <td>0</td>\n",
       "      <td>женат / замужем</td>\n",
       "      <td>0</td>\n",
       "      <td>F</td>\n",
       "      <td>компаньон</td>\n",
       "      <td>0</td>\n",
       "      <td>240525.971920</td>\n",
       "      <td>операции с жильем</td>\n",
       "    </tr>\n",
       "    <tr>\n",
       "      <th>7</th>\n",
       "      <td>0</td>\n",
       "      <td>-152.779569</td>\n",
       "      <td>50</td>\n",
       "      <td>СРЕДНЕЕ</td>\n",
       "      <td>1</td>\n",
       "      <td>женат / замужем</td>\n",
       "      <td>0</td>\n",
       "      <td>M</td>\n",
       "      <td>сотрудник</td>\n",
       "      <td>0</td>\n",
       "      <td>135823.934197</td>\n",
       "      <td>образование</td>\n",
       "    </tr>\n",
       "    <tr>\n",
       "      <th>8</th>\n",
       "      <td>2</td>\n",
       "      <td>-6929.865299</td>\n",
       "      <td>35</td>\n",
       "      <td>ВЫСШЕЕ</td>\n",
       "      <td>0</td>\n",
       "      <td>гражданский брак</td>\n",
       "      <td>1</td>\n",
       "      <td>F</td>\n",
       "      <td>сотрудник</td>\n",
       "      <td>0</td>\n",
       "      <td>95856.832424</td>\n",
       "      <td>на проведение свадьбы</td>\n",
       "    </tr>\n",
       "    <tr>\n",
       "      <th>9</th>\n",
       "      <td>0</td>\n",
       "      <td>-2188.756445</td>\n",
       "      <td>41</td>\n",
       "      <td>среднее</td>\n",
       "      <td>1</td>\n",
       "      <td>женат / замужем</td>\n",
       "      <td>0</td>\n",
       "      <td>M</td>\n",
       "      <td>сотрудник</td>\n",
       "      <td>0</td>\n",
       "      <td>144425.938277</td>\n",
       "      <td>покупка жилья для семьи</td>\n",
       "    </tr>\n",
       "    <tr>\n",
       "      <th>10</th>\n",
       "      <td>2</td>\n",
       "      <td>-4171.483647</td>\n",
       "      <td>36</td>\n",
       "      <td>высшее</td>\n",
       "      <td>0</td>\n",
       "      <td>женат / замужем</td>\n",
       "      <td>0</td>\n",
       "      <td>M</td>\n",
       "      <td>компаньон</td>\n",
       "      <td>0</td>\n",
       "      <td>113943.491460</td>\n",
       "      <td>покупка недвижимости</td>\n",
       "    </tr>\n",
       "    <tr>\n",
       "      <th>11</th>\n",
       "      <td>0</td>\n",
       "      <td>-792.701887</td>\n",
       "      <td>40</td>\n",
       "      <td>среднее</td>\n",
       "      <td>1</td>\n",
       "      <td>женат / замужем</td>\n",
       "      <td>0</td>\n",
       "      <td>F</td>\n",
       "      <td>сотрудник</td>\n",
       "      <td>0</td>\n",
       "      <td>77069.234271</td>\n",
       "      <td>покупка коммерческой недвижимости</td>\n",
       "    </tr>\n",
       "    <tr>\n",
       "      <th>12</th>\n",
       "      <td>0</td>\n",
       "      <td>NaN</td>\n",
       "      <td>65</td>\n",
       "      <td>среднее</td>\n",
       "      <td>1</td>\n",
       "      <td>гражданский брак</td>\n",
       "      <td>1</td>\n",
       "      <td>M</td>\n",
       "      <td>пенсионер</td>\n",
       "      <td>0</td>\n",
       "      <td>NaN</td>\n",
       "      <td>сыграть свадьбу</td>\n",
       "    </tr>\n",
       "    <tr>\n",
       "      <th>13</th>\n",
       "      <td>0</td>\n",
       "      <td>-1846.641941</td>\n",
       "      <td>54</td>\n",
       "      <td>неоконченное высшее</td>\n",
       "      <td>2</td>\n",
       "      <td>женат / замужем</td>\n",
       "      <td>0</td>\n",
       "      <td>F</td>\n",
       "      <td>сотрудник</td>\n",
       "      <td>0</td>\n",
       "      <td>130458.228857</td>\n",
       "      <td>приобретение автомобиля</td>\n",
       "    </tr>\n",
       "    <tr>\n",
       "      <th>14</th>\n",
       "      <td>0</td>\n",
       "      <td>-1844.956182</td>\n",
       "      <td>56</td>\n",
       "      <td>высшее</td>\n",
       "      <td>0</td>\n",
       "      <td>гражданский брак</td>\n",
       "      <td>1</td>\n",
       "      <td>F</td>\n",
       "      <td>компаньон</td>\n",
       "      <td>1</td>\n",
       "      <td>165127.911772</td>\n",
       "      <td>покупка жилой недвижимости</td>\n",
       "    </tr>\n",
       "    <tr>\n",
       "      <th>15</th>\n",
       "      <td>1</td>\n",
       "      <td>-972.364419</td>\n",
       "      <td>26</td>\n",
       "      <td>среднее</td>\n",
       "      <td>1</td>\n",
       "      <td>женат / замужем</td>\n",
       "      <td>0</td>\n",
       "      <td>F</td>\n",
       "      <td>сотрудник</td>\n",
       "      <td>0</td>\n",
       "      <td>116820.904450</td>\n",
       "      <td>строительство собственной недвижимости</td>\n",
       "    </tr>\n",
       "    <tr>\n",
       "      <th>16</th>\n",
       "      <td>0</td>\n",
       "      <td>-1719.934226</td>\n",
       "      <td>35</td>\n",
       "      <td>среднее</td>\n",
       "      <td>1</td>\n",
       "      <td>женат / замужем</td>\n",
       "      <td>0</td>\n",
       "      <td>F</td>\n",
       "      <td>сотрудник</td>\n",
       "      <td>0</td>\n",
       "      <td>289202.704229</td>\n",
       "      <td>недвижимость</td>\n",
       "    </tr>\n",
       "    <tr>\n",
       "      <th>17</th>\n",
       "      <td>0</td>\n",
       "      <td>-2369.999720</td>\n",
       "      <td>33</td>\n",
       "      <td>высшее</td>\n",
       "      <td>0</td>\n",
       "      <td>гражданский брак</td>\n",
       "      <td>1</td>\n",
       "      <td>M</td>\n",
       "      <td>сотрудник</td>\n",
       "      <td>0</td>\n",
       "      <td>90410.586745</td>\n",
       "      <td>строительство недвижимости</td>\n",
       "    </tr>\n",
       "    <tr>\n",
       "      <th>18</th>\n",
       "      <td>0</td>\n",
       "      <td>400281.136913</td>\n",
       "      <td>53</td>\n",
       "      <td>среднее</td>\n",
       "      <td>1</td>\n",
       "      <td>вдовец / вдова</td>\n",
       "      <td>2</td>\n",
       "      <td>F</td>\n",
       "      <td>пенсионер</td>\n",
       "      <td>0</td>\n",
       "      <td>56823.777243</td>\n",
       "      <td>на покупку подержанного автомобиля</td>\n",
       "    </tr>\n",
       "    <tr>\n",
       "      <th>19</th>\n",
       "      <td>0</td>\n",
       "      <td>-10038.818549</td>\n",
       "      <td>48</td>\n",
       "      <td>СРЕДНЕЕ</td>\n",
       "      <td>1</td>\n",
       "      <td>в разводе</td>\n",
       "      <td>3</td>\n",
       "      <td>F</td>\n",
       "      <td>сотрудник</td>\n",
       "      <td>0</td>\n",
       "      <td>242831.107982</td>\n",
       "      <td>на покупку своего автомобиля</td>\n",
       "    </tr>\n",
       "  </tbody>\n",
       "</table>\n",
       "</div>"
      ],
      "text/plain": [
       "    children  days_employed  dob_years            education  education_id  \\\n",
       "0          1   -8437.673028         42               высшее             0   \n",
       "1          1   -4024.803754         36              среднее             1   \n",
       "2          0   -5623.422610         33              Среднее             1   \n",
       "3          3   -4124.747207         32              среднее             1   \n",
       "4          0  340266.072047         53              среднее             1   \n",
       "5          0    -926.185831         27               высшее             0   \n",
       "6          0   -2879.202052         43               высшее             0   \n",
       "7          0    -152.779569         50              СРЕДНЕЕ             1   \n",
       "8          2   -6929.865299         35               ВЫСШЕЕ             0   \n",
       "9          0   -2188.756445         41              среднее             1   \n",
       "10         2   -4171.483647         36               высшее             0   \n",
       "11         0    -792.701887         40              среднее             1   \n",
       "12         0            NaN         65              среднее             1   \n",
       "13         0   -1846.641941         54  неоконченное высшее             2   \n",
       "14         0   -1844.956182         56               высшее             0   \n",
       "15         1    -972.364419         26              среднее             1   \n",
       "16         0   -1719.934226         35              среднее             1   \n",
       "17         0   -2369.999720         33               высшее             0   \n",
       "18         0  400281.136913         53              среднее             1   \n",
       "19         0  -10038.818549         48              СРЕДНЕЕ             1   \n",
       "\n",
       "       family_status  family_status_id gender income_type  debt  \\\n",
       "0    женат / замужем                 0      F   сотрудник     0   \n",
       "1    женат / замужем                 0      F   сотрудник     0   \n",
       "2    женат / замужем                 0      M   сотрудник     0   \n",
       "3    женат / замужем                 0      M   сотрудник     0   \n",
       "4   гражданский брак                 1      F   пенсионер     0   \n",
       "5   гражданский брак                 1      M   компаньон     0   \n",
       "6    женат / замужем                 0      F   компаньон     0   \n",
       "7    женат / замужем                 0      M   сотрудник     0   \n",
       "8   гражданский брак                 1      F   сотрудник     0   \n",
       "9    женат / замужем                 0      M   сотрудник     0   \n",
       "10   женат / замужем                 0      M   компаньон     0   \n",
       "11   женат / замужем                 0      F   сотрудник     0   \n",
       "12  гражданский брак                 1      M   пенсионер     0   \n",
       "13   женат / замужем                 0      F   сотрудник     0   \n",
       "14  гражданский брак                 1      F   компаньон     1   \n",
       "15   женат / замужем                 0      F   сотрудник     0   \n",
       "16   женат / замужем                 0      F   сотрудник     0   \n",
       "17  гражданский брак                 1      M   сотрудник     0   \n",
       "18    вдовец / вдова                 2      F   пенсионер     0   \n",
       "19         в разводе                 3      F   сотрудник     0   \n",
       "\n",
       "     total_income                                 purpose  \n",
       "0   253875.639453                           покупка жилья  \n",
       "1   112080.014102                 приобретение автомобиля  \n",
       "2   145885.952297                           покупка жилья  \n",
       "3   267628.550329              дополнительное образование  \n",
       "4   158616.077870                         сыграть свадьбу  \n",
       "5   255763.565419                           покупка жилья  \n",
       "6   240525.971920                       операции с жильем  \n",
       "7   135823.934197                             образование  \n",
       "8    95856.832424                   на проведение свадьбы  \n",
       "9   144425.938277                 покупка жилья для семьи  \n",
       "10  113943.491460                    покупка недвижимости  \n",
       "11   77069.234271       покупка коммерческой недвижимости  \n",
       "12            NaN                         сыграть свадьбу  \n",
       "13  130458.228857                 приобретение автомобиля  \n",
       "14  165127.911772              покупка жилой недвижимости  \n",
       "15  116820.904450  строительство собственной недвижимости  \n",
       "16  289202.704229                            недвижимость  \n",
       "17   90410.586745              строительство недвижимости  \n",
       "18   56823.777243      на покупку подержанного автомобиля  \n",
       "19  242831.107982            на покупку своего автомобиля  "
      ]
     },
     "execution_count": 2,
     "metadata": {},
     "output_type": "execute_result"
    }
   ],
   "source": [
    "data.head(20)"
   ]
  },
  {
   "cell_type": "markdown",
   "id": "368c35fd",
   "metadata": {
    "deletable": false,
    "editable": false,
    "id": "1c12e233"
   },
   "source": [
    "**Задание 3. Выведите основную информацию о датафрейме с помощью метода `info()`.**"
   ]
  },
  {
   "cell_type": "code",
   "execution_count": 3,
   "id": "0ec2faf8",
   "metadata": {
    "deletable": false,
    "id": "2b757bca",
    "outputId": "15376089-8dad-46c9-b520-c05248d43158"
   },
   "outputs": [
    {
     "name": "stdout",
     "output_type": "stream",
     "text": [
      "<class 'pandas.core.frame.DataFrame'>\n",
      "RangeIndex: 21525 entries, 0 to 21524\n",
      "Data columns (total 12 columns):\n",
      " #   Column            Non-Null Count  Dtype  \n",
      "---  ------            --------------  -----  \n",
      " 0   children          21525 non-null  int64  \n",
      " 1   days_employed     19351 non-null  float64\n",
      " 2   dob_years         21525 non-null  int64  \n",
      " 3   education         21525 non-null  object \n",
      " 4   education_id      21525 non-null  int64  \n",
      " 5   family_status     21525 non-null  object \n",
      " 6   family_status_id  21525 non-null  int64  \n",
      " 7   gender            21525 non-null  object \n",
      " 8   income_type       21525 non-null  object \n",
      " 9   debt              21525 non-null  int64  \n",
      " 10  total_income      19351 non-null  float64\n",
      " 11  purpose           21525 non-null  object \n",
      "dtypes: float64(2), int64(5), object(5)\n",
      "memory usage: 2.0+ MB\n"
     ]
    }
   ],
   "source": [
    "data.info()"
   ]
  },
  {
   "cell_type": "markdown",
   "id": "77b9d467",
   "metadata": {
    "deletable": false,
    "editable": false,
    "id": "333ec665"
   },
   "source": [
    "## Предобработка данных"
   ]
  },
  {
   "cell_type": "markdown",
   "id": "94dfd3ac",
   "metadata": {
    "deletable": false,
    "editable": false,
    "id": "02d92d53"
   },
   "source": [
    "### Удаление пропусков"
   ]
  },
  {
   "cell_type": "markdown",
   "id": "97509474",
   "metadata": {
    "deletable": false,
    "editable": false,
    "id": "cd84967c"
   },
   "source": [
    "**Задание 4. Выведите количество пропущенных значений для каждого столбца. Используйте комбинацию двух методов.**"
   ]
  },
  {
   "cell_type": "code",
   "execution_count": 4,
   "id": "3fd5565e",
   "metadata": {
    "deletable": false,
    "id": "7f9b2309",
    "outputId": "81f4d817-781c-465c-ed15-91ce4446810d"
   },
   "outputs": [
    {
     "data": {
      "text/plain": [
       "children               0\n",
       "days_employed       2174\n",
       "dob_years              0\n",
       "education              0\n",
       "education_id           0\n",
       "family_status          0\n",
       "family_status_id       0\n",
       "gender                 0\n",
       "income_type            0\n",
       "debt                   0\n",
       "total_income        2174\n",
       "purpose                0\n",
       "dtype: int64"
      ]
     },
     "execution_count": 4,
     "metadata": {},
     "output_type": "execute_result"
    }
   ],
   "source": [
    "data.isna().sum()"
   ]
  },
  {
   "cell_type": "markdown",
   "id": "ccd8fedd",
   "metadata": {
    "deletable": false,
    "editable": false,
    "id": "db86e27b"
   },
   "source": [
    "**Задание 5. В двух столбцах есть пропущенные значения. Один из них — `days_employed`. Пропуски в этом столбце вы обработаете на следующем этапе. Другой столбец с пропущенными значениями — `total_income` — хранит данные о доходах. На сумму дохода сильнее всего влияет тип занятости, поэтому заполнить пропуски в этом столбце нужно медианным значением по каждому типу из столбца `income_type`. Например, у человека с типом занятости `сотрудник` пропуск в столбце `total_income` должен быть заполнен медианным доходом среди всех записей с тем же типом.**"
   ]
  },
  {
   "cell_type": "code",
   "execution_count": 5,
   "id": "cb16f426",
   "metadata": {
    "deletable": false,
    "id": "42006a93"
   },
   "outputs": [],
   "source": [
    "for t in data['income_type'].unique():\n",
    "    data.loc[(data['income_type'] == t) & (data['total_income'].isna()), 'total_income'] = \\\n",
    "    data.loc[(data['income_type'] == t), 'total_income'].median()"
   ]
  },
  {
   "cell_type": "markdown",
   "id": "31c1d183",
   "metadata": {
    "deletable": false,
    "editable": false,
    "id": "89da5ece"
   },
   "source": [
    "### Обработка аномальных значений"
   ]
  },
  {
   "cell_type": "markdown",
   "id": "b6e216c6",
   "metadata": {
    "deletable": false,
    "editable": false,
    "id": "57964554"
   },
   "source": [
    "**Задание 6. В данных могут встречаться артефакты (аномалии) — значения, которые не отражают действительность и появились по какой-то ошибке. таким артефактом будет отрицательное количество дней трудового стажа в столбце `days_employed`. Для реальных данных это нормально. Обработайте значения в этом столбце: замените все отрицательные значения положительными с помощью метода `abs()`.**"
   ]
  },
  {
   "cell_type": "code",
   "execution_count": 6,
   "id": "5a71b5c4",
   "metadata": {
    "deletable": false,
    "id": "f6f055bf"
   },
   "outputs": [],
   "source": [
    "data['days_employed'] = data['days_employed'].abs()"
   ]
  },
  {
   "cell_type": "markdown",
   "id": "c37a1c26",
   "metadata": {
    "deletable": false,
    "editable": false,
    "id": "6107dd2f"
   },
   "source": [
    "**Задание 7. Для каждого типа занятости выведите медианное значение трудового стажа `days_employed` в днях.**"
   ]
  },
  {
   "cell_type": "code",
   "execution_count": 7,
   "id": "57a97b0f",
   "metadata": {
    "deletable": false,
    "id": "85a5faf6",
    "outputId": "801ef80e-522b-4668-f34e-565af7432bcf"
   },
   "outputs": [
    {
     "data": {
      "text/plain": [
       "income_type\n",
       "безработный        366413.652744\n",
       "в декрете            3296.759962\n",
       "госслужащий          2689.368353\n",
       "компаньон            1547.382223\n",
       "пенсионер          365213.306266\n",
       "предприниматель       520.848083\n",
       "сотрудник            1574.202821\n",
       "студент               578.751554\n",
       "Name: days_employed, dtype: float64"
      ]
     },
     "execution_count": 7,
     "metadata": {},
     "output_type": "execute_result"
    }
   ],
   "source": [
    "data.groupby('income_type')['days_employed'].agg('median')"
   ]
  },
  {
   "cell_type": "markdown",
   "id": "541f339f",
   "metadata": {
    "deletable": false,
    "editable": false,
    "id": "38d1a030"
   },
   "source": [
    "У двух типов (безработные и пенсионеры) получатся аномально большие значения. Исправить такие значения сложно, поэтому оставьте их как есть. Тем более этот столбец не понадобится вам для исследования."
   ]
  },
  {
   "cell_type": "markdown",
   "id": "95912327",
   "metadata": {
    "deletable": false,
    "editable": false,
    "id": "d8a9f147"
   },
   "source": [
    "**Задание 8. Выведите перечень уникальных значений столбца `children`.**"
   ]
  },
  {
   "cell_type": "code",
   "execution_count": 8,
   "id": "cd4b93de",
   "metadata": {
    "deletable": false,
    "id": "ef5056eb",
    "outputId": "6975b15c-7f95-4697-d16d-a0c79b657b03"
   },
   "outputs": [
    {
     "data": {
      "text/plain": [
       "array([ 1,  0,  3,  2, -1,  4, 20,  5])"
      ]
     },
     "execution_count": 8,
     "metadata": {},
     "output_type": "execute_result"
    }
   ],
   "source": [
    "data['children'].unique()"
   ]
  },
  {
   "cell_type": "markdown",
   "id": "26e9274b",
   "metadata": {
    "deletable": false,
    "editable": false,
    "id": "40b9ebf2"
   },
   "source": [
    "**Задание 9. В столбце `children` есть два аномальных значения. Удалите строки, в которых встречаются такие аномальные значения из датафрейма `data`.**"
   ]
  },
  {
   "cell_type": "code",
   "execution_count": 9,
   "id": "312cb330",
   "metadata": {
    "deletable": false,
    "id": "3ff9801d"
   },
   "outputs": [],
   "source": [
    "data = data[(data['children'] != -1) & (data['children'] != 20)]"
   ]
  },
  {
   "cell_type": "markdown",
   "id": "795e657c",
   "metadata": {
    "deletable": false,
    "editable": false,
    "id": "bbc4d0ce"
   },
   "source": [
    "**Задание 10. Ещё раз выведите перечень уникальных значений столбца `children`, чтобы убедиться, что артефакты удалены.**"
   ]
  },
  {
   "cell_type": "code",
   "execution_count": 10,
   "id": "413bf673",
   "metadata": {
    "deletable": false,
    "id": "ad4fa8b7",
    "outputId": "b2097101-d49d-44d9-901b-32a65c9463d1"
   },
   "outputs": [
    {
     "data": {
      "text/plain": [
       "array([1, 0, 3, 2, 4, 5])"
      ]
     },
     "execution_count": 10,
     "metadata": {},
     "output_type": "execute_result"
    }
   ],
   "source": [
    "data['children'].unique()"
   ]
  },
  {
   "cell_type": "markdown",
   "id": "f128c062",
   "metadata": {
    "deletable": false,
    "editable": false,
    "id": "75440b63"
   },
   "source": [
    "### Удаление пропусков (продолжение)"
   ]
  },
  {
   "cell_type": "markdown",
   "id": "4fc7d4ca",
   "metadata": {
    "deletable": false,
    "editable": false,
    "id": "f4ea573f"
   },
   "source": [
    "**Задание 11. Заполните пропуски в столбце `days_employed` медианными значениями по каждого типа занятости `income_type`.**"
   ]
  },
  {
   "cell_type": "code",
   "execution_count": 11,
   "id": "e0be5d06",
   "metadata": {
    "deletable": false,
    "id": "af6b1a7e"
   },
   "outputs": [],
   "source": [
    "for t in data['income_type'].unique():\n",
    "    data.loc[(data['income_type'] == t) & (data['days_employed'].isna()), 'days_employed'] = \\\n",
    "    data.loc[(data['income_type'] == t), 'days_employed'].median()"
   ]
  },
  {
   "cell_type": "markdown",
   "id": "82930e39",
   "metadata": {
    "deletable": false,
    "editable": false,
    "id": "2753f40d"
   },
   "source": [
    "**Задание 12. Убедитесь, что все пропуски заполнены. Проверьте себя и ещё раз выведите количество пропущенных значений для каждого столбца с помощью двух методов.**"
   ]
  },
  {
   "cell_type": "code",
   "execution_count": 12,
   "id": "9e1df0c2",
   "metadata": {
    "deletable": false,
    "id": "55f78bc2",
    "outputId": "8da1e4e1-358e-4e87-98c9-f261bce0a7b2"
   },
   "outputs": [
    {
     "data": {
      "text/plain": [
       "children            0\n",
       "days_employed       0\n",
       "dob_years           0\n",
       "education           0\n",
       "education_id        0\n",
       "family_status       0\n",
       "family_status_id    0\n",
       "gender              0\n",
       "income_type         0\n",
       "debt                0\n",
       "total_income        0\n",
       "purpose             0\n",
       "dtype: int64"
      ]
     },
     "execution_count": 12,
     "metadata": {},
     "output_type": "execute_result"
    }
   ],
   "source": [
    "data.isna().sum()"
   ]
  },
  {
   "cell_type": "markdown",
   "id": "eba6fd10",
   "metadata": {
    "deletable": false,
    "editable": false,
    "id": "ddc81e43"
   },
   "source": [
    "### Изменение типов данных"
   ]
  },
  {
   "cell_type": "markdown",
   "id": "40eabdf8",
   "metadata": {
    "deletable": false,
    "editable": false,
    "id": "42d19d24"
   },
   "source": [
    "**Задание 13. Замените вещественный тип данных в столбце `total_income` на целочисленный с помощью метода `astype()`.**"
   ]
  },
  {
   "cell_type": "code",
   "execution_count": 13,
   "id": "a656325c",
   "metadata": {
    "deletable": false,
    "id": "920b65ad"
   },
   "outputs": [],
   "source": [
    "data['total_income'] = data['total_income'].astype(int)"
   ]
  },
  {
   "cell_type": "markdown",
   "id": "31eea669",
   "metadata": {
    "deletable": false,
    "editable": false,
    "id": "80c420ba"
   },
   "source": [
    "### Обработка дубликатов"
   ]
  },
  {
   "cell_type": "markdown",
   "id": "4230122a",
   "metadata": {
    "deletable": false,
    "editable": false
   },
   "source": [
    "**Задание 14. Обработайте неявные дубликаты в столбце `education`. В этом столбце есть одни и те же значения, но записанные по-разному: с использованием заглавных и строчных букв. Приведите их к нижнему регистру. Проверьте остальные столбцы.**"
   ]
  },
  {
   "cell_type": "code",
   "execution_count": 14,
   "id": "b40efb98",
   "metadata": {
    "deletable": false
   },
   "outputs": [],
   "source": [
    "data['education'] = data['education'].str.lower()"
   ]
  },
  {
   "cell_type": "markdown",
   "id": "94b0f856",
   "metadata": {
    "deletable": false,
    "editable": false,
    "id": "dc587695"
   },
   "source": [
    "**Задание 15. Выведите на экран количество строк-дубликатов в данных. Если такие строки присутствуют, удалите их.**"
   ]
  },
  {
   "cell_type": "code",
   "execution_count": 15,
   "id": "ea406728",
   "metadata": {
    "deletable": false,
    "id": "3ee445e4",
    "outputId": "9684deba-1934-42d1-99e1-cda61740f822"
   },
   "outputs": [
    {
     "data": {
      "text/plain": [
       "71"
      ]
     },
     "execution_count": 15,
     "metadata": {},
     "output_type": "execute_result"
    }
   ],
   "source": [
    "data.duplicated().sum()"
   ]
  },
  {
   "cell_type": "code",
   "execution_count": 16,
   "id": "3ee11151",
   "metadata": {
    "deletable": false,
    "id": "8575fe05"
   },
   "outputs": [],
   "source": [
    "data = data.drop_duplicates()"
   ]
  },
  {
   "cell_type": "markdown",
   "id": "c6a70261",
   "metadata": {
    "deletable": false,
    "editable": false,
    "id": "9904cf55"
   },
   "source": [
    "### Категоризация данных"
   ]
  },
  {
   "cell_type": "markdown",
   "id": "c8dbe6df",
   "metadata": {
    "deletable": false,
    "editable": false,
    "id": "72fcc8a2"
   },
   "source": [
    "**Задание 16. На основании диапазонов, указанных ниже, создайте в датафрейме `data` столбец `total_income_category` с категориями:**\n",
    "\n",
    "- 0–30000 — `'E'`;\n",
    "- 30001–50000 — `'D'`;\n",
    "- 50001–200000 — `'C'`;\n",
    "- 200001–1000000 — `'B'`;\n",
    "- 1000001 и выше — `'A'`.\n",
    "\n",
    "\n",
    "**Например, кредитополучателю с доходом 25000 нужно назначить категорию `'E'`, а клиенту, получающему 235000, — `'B'`. Используйте собственную функцию с именем `categorize_income()` и метод `apply()`.**"
   ]
  },
  {
   "cell_type": "code",
   "execution_count": 17,
   "id": "947b8c64",
   "metadata": {
    "deletable": false,
    "id": "e1771346"
   },
   "outputs": [],
   "source": [
    "def categorize_income(income):\n",
    "    try:\n",
    "        if 0 <= income <= 30000:\n",
    "            return 'E'\n",
    "        elif 30001 <= income <= 50000:\n",
    "            return 'D'\n",
    "        elif 50001 <= income <= 200000:\n",
    "            return 'C'\n",
    "        elif 200001 <= income <= 1000000:\n",
    "            return 'B'\n",
    "        elif income >= 1000001:\n",
    "            return 'A'\n",
    "    except:\n",
    "        pass"
   ]
  },
  {
   "cell_type": "code",
   "execution_count": 18,
   "id": "25c390d9",
   "metadata": {
    "deletable": false,
    "id": "d5f3586d"
   },
   "outputs": [],
   "source": [
    "data['total_income_category'] = data['total_income'].apply(categorize_income)"
   ]
  },
  {
   "cell_type": "markdown",
   "id": "bcc820b6",
   "metadata": {
    "deletable": false,
    "editable": false,
    "id": "dde49b5c"
   },
   "source": [
    "**Задание 17. Выведите на экран перечень уникальных целей взятия кредита из столбца `purpose`.**"
   ]
  },
  {
   "cell_type": "code",
   "execution_count": 19,
   "id": "aca82940",
   "metadata": {
    "deletable": false,
    "id": "f67ce9b3",
    "outputId": "673c12d9-7d7e-4ae0-9812-c622c89dd244"
   },
   "outputs": [
    {
     "data": {
      "text/plain": [
       "array(['покупка жилья', 'приобретение автомобиля',\n",
       "       'дополнительное образование', 'сыграть свадьбу',\n",
       "       'операции с жильем', 'образование', 'на проведение свадьбы',\n",
       "       'покупка жилья для семьи', 'покупка недвижимости',\n",
       "       'покупка коммерческой недвижимости', 'покупка жилой недвижимости',\n",
       "       'строительство собственной недвижимости', 'недвижимость',\n",
       "       'строительство недвижимости', 'на покупку подержанного автомобиля',\n",
       "       'на покупку своего автомобиля',\n",
       "       'операции с коммерческой недвижимостью',\n",
       "       'строительство жилой недвижимости', 'жилье',\n",
       "       'операции со своей недвижимостью', 'автомобили',\n",
       "       'заняться образованием', 'сделка с подержанным автомобилем',\n",
       "       'получение образования', 'автомобиль', 'свадьба',\n",
       "       'получение дополнительного образования', 'покупка своего жилья',\n",
       "       'операции с недвижимостью', 'получение высшего образования',\n",
       "       'свой автомобиль', 'сделка с автомобилем',\n",
       "       'профильное образование', 'высшее образование',\n",
       "       'покупка жилья для сдачи', 'на покупку автомобиля', 'ремонт жилью',\n",
       "       'заняться высшим образованием'], dtype=object)"
      ]
     },
     "execution_count": 19,
     "metadata": {},
     "output_type": "execute_result"
    }
   ],
   "source": [
    "data['purpose'].unique()"
   ]
  },
  {
   "cell_type": "markdown",
   "id": "57602f01",
   "metadata": {
    "deletable": false,
    "editable": false,
    "id": "85d0aef0"
   },
   "source": [
    "**Задание 18. Создайте функцию, которая на основании данных из столбца `purpose` сформирует новый столбец `purpose_category`, в который войдут следующие категории:**\n",
    "\n",
    "- `'операции с автомобилем'`,\n",
    "- `'операции с недвижимостью'`,\n",
    "- `'проведение свадьбы'`,\n",
    "- `'получение образования'`.\n",
    "\n",
    "**Например, если в столбце `purpose` находится подстрока `'на покупку автомобиля'`, то в столбце `purpose_category` должна появиться строка `'операции с автомобилем'`.**\n",
    "\n",
    "**Используйте собственную функцию с именем `categorize_purpose()` и метод `apply()`. Изучите данные в столбце `purpose` и определите, какие подстроки помогут вам правильно определить категорию.**"
   ]
  },
  {
   "cell_type": "code",
   "execution_count": 20,
   "id": "cccff5ff",
   "metadata": {
    "deletable": false,
    "id": "e149fab4"
   },
   "outputs": [],
   "source": [
    "def categorize_purpose(row):\n",
    "    try:\n",
    "        if 'автом' in row:\n",
    "            return 'операции с автомобилем'\n",
    "        elif 'жил' in row or 'недвиж' in row:\n",
    "            return 'операции с недвижимостью'\n",
    "        elif 'свад' in row:\n",
    "            return 'проведение свадьбы'\n",
    "        elif 'образов' in row:\n",
    "            return 'получение образования'\n",
    "    except:\n",
    "        return 'нет категории'"
   ]
  },
  {
   "cell_type": "code",
   "execution_count": 21,
   "id": "c95ab778",
   "metadata": {
    "deletable": false,
    "id": "bf36e69b"
   },
   "outputs": [],
   "source": [
    "data['purpose_category'] = data['purpose'].apply(categorize_purpose)"
   ]
  },
  {
   "cell_type": "markdown",
   "id": "663f5ac4",
   "metadata": {
    "deletable": false,
    "editable": false,
    "id": "09b242bf"
   },
   "source": [
    "### Шаг 3. Исследуйте данные и ответьте на вопросы"
   ]
  },
  {
   "cell_type": "markdown",
   "id": "ed0166b0",
   "metadata": {
    "deletable": false,
    "editable": false,
    "id": "c5d66278"
   },
   "source": [
    "#### 3.1 Есть ли зависимость между количеством детей и возвратом кредита в срок?"
   ]
  },
  {
   "cell_type": "code",
   "execution_count": 22,
   "id": "5eb52d15",
   "metadata": {
    "deletable": false,
    "id": "2cacfc4a"
   },
   "outputs": [
    {
     "data": {
      "text/html": [
       "<div>\n",
       "<style scoped>\n",
       "    .dataframe tbody tr th:only-of-type {\n",
       "        vertical-align: middle;\n",
       "    }\n",
       "\n",
       "    .dataframe tbody tr th {\n",
       "        vertical-align: top;\n",
       "    }\n",
       "\n",
       "    .dataframe thead th {\n",
       "        text-align: right;\n",
       "    }\n",
       "</style>\n",
       "<table border=\"1\" class=\"dataframe\">\n",
       "  <thead>\n",
       "    <tr style=\"text-align: right;\">\n",
       "      <th></th>\n",
       "      <th>no_debt</th>\n",
       "      <th>debt</th>\n",
       "      <th>share_of_debtors</th>\n",
       "    </tr>\n",
       "    <tr>\n",
       "      <th>children</th>\n",
       "      <th></th>\n",
       "      <th></th>\n",
       "      <th></th>\n",
       "    </tr>\n",
       "  </thead>\n",
       "  <tbody>\n",
       "    <tr>\n",
       "      <th>5</th>\n",
       "      <td>9.0</td>\n",
       "      <td>NaN</td>\n",
       "      <td>nan%</td>\n",
       "    </tr>\n",
       "    <tr>\n",
       "      <th>4</th>\n",
       "      <td>37.0</td>\n",
       "      <td>4.0</td>\n",
       "      <td>9.8%</td>\n",
       "    </tr>\n",
       "    <tr>\n",
       "      <th>2</th>\n",
       "      <td>1858.0</td>\n",
       "      <td>194.0</td>\n",
       "      <td>9.5%</td>\n",
       "    </tr>\n",
       "    <tr>\n",
       "      <th>1</th>\n",
       "      <td>4364.0</td>\n",
       "      <td>444.0</td>\n",
       "      <td>9.2%</td>\n",
       "    </tr>\n",
       "    <tr>\n",
       "      <th>3</th>\n",
       "      <td>303.0</td>\n",
       "      <td>27.0</td>\n",
       "      <td>8.2%</td>\n",
       "    </tr>\n",
       "    <tr>\n",
       "      <th>0</th>\n",
       "      <td>13028.0</td>\n",
       "      <td>1063.0</td>\n",
       "      <td>7.5%</td>\n",
       "    </tr>\n",
       "  </tbody>\n",
       "</table>\n",
       "</div>"
      ],
      "text/plain": [
       "          no_debt    debt share_of_debtors\n",
       "children                                  \n",
       "5             9.0     NaN             nan%\n",
       "4            37.0     4.0             9.8%\n",
       "2          1858.0   194.0             9.5%\n",
       "1          4364.0   444.0             9.2%\n",
       "3           303.0    27.0             8.2%\n",
       "0         13028.0  1063.0             7.5%"
      ]
     },
     "execution_count": 22,
     "metadata": {},
     "output_type": "execute_result"
    }
   ],
   "source": [
    "debt_children = data.pivot_table(index='children', columns='debt', values='gender', aggfunc='count')\n",
    "debt_children.columns = ['no_debt', 'debt']\n",
    "debt_children['share_of_debtors'] = debt_children['debt'] / (debt_children['debt'] + debt_children['no_debt'])\n",
    "debt_children['share_of_debtors'] = debt_children['share_of_debtors'].map('{:.1%}'.format)\n",
    "debt_children.sort_values(by='share_of_debtors', ascending=False)"
   ]
  },
  {
   "cell_type": "code",
   "execution_count": 23,
   "id": "e07371cf",
   "metadata": {},
   "outputs": [
    {
     "data": {
      "text/plain": [
       "<AxesSubplot:xlabel='children'>"
      ]
     },
     "execution_count": 23,
     "metadata": {},
     "output_type": "execute_result"
    },
    {
     "data": {
      "image/png": "[encoded data removed]",
      "text/plain": [
       "<Figure size 432x288 with 1 Axes>"
      ]
     },
     "metadata": {
      "needs_background": "light"
     },
     "output_type": "display_data"
    }
   ],
   "source": [
    "debt_children.plot()"
   ]
  },
  {
   "cell_type": "code",
   "execution_count": 24,
   "id": "2a95339e",
   "metadata": {},
   "outputs": [],
   "source": [
    "debt_children = debt_children.dropna()\n",
    "# исключена строка с NaN"
   ]
  },
  {
   "cell_type": "code",
   "execution_count": 25,
   "id": "effb095b",
   "metadata": {},
   "outputs": [],
   "source": [
    "sorted_debt_children = debt_children.sort_values(by='share_of_debtors')\n",
    "# отсортировали по проценту должников"
   ]
  },
  {
   "cell_type": "code",
   "execution_count": 26,
   "id": "34ab18f6",
   "metadata": {},
   "outputs": [
    {
     "data": {
      "image/png": "[encoded data removed]",
      "text/plain": [
       "<Figure size 360x360 with 1 Axes>"
      ]
     },
     "metadata": {
      "needs_background": "light"
     },
     "output_type": "display_data"
    }
   ],
   "source": [
    "sns.relplot(x='share_of_debtors',\n",
    "            y='children',\n",
    "            data=sorted_debt_children);"
   ]
  },
  {
   "cell_type": "markdown",
   "id": "f4162b22",
   "metadata": {
    "deletable": false,
    "id": "3a6b99ec"
   },
   "source": [
    "**Вывод: Среди тех, у кого детей нет, меньше вероятность стать должником. Выборка данных с количеством детей > 3 невелика, поэтому не стоит делать выводы по ней. Наибольшие риски у людей с 1, 2 детьми.** "
   ]
  },
  {
   "cell_type": "markdown",
   "id": "d415a8da",
   "metadata": {
    "deletable": false,
    "editable": false,
    "id": "97be82ca"
   },
   "source": [
    "#### 3.2 Есть ли зависимость между семейным положением и возвратом кредита в срок?"
   ]
  },
  {
   "cell_type": "code",
   "execution_count": 27,
   "id": "9ada53e9",
   "metadata": {
    "deletable": false,
    "id": "dc3f7ee8"
   },
   "outputs": [
    {
     "data": {
      "text/plain": [
       "array(['женат / замужем', 'гражданский брак', 'вдовец / вдова',\n",
       "       'в разводе', 'Не женат / не замужем'], dtype=object)"
      ]
     },
     "execution_count": 27,
     "metadata": {},
     "output_type": "execute_result"
    }
   ],
   "source": [
    "data['family_status'].unique()"
   ]
  },
  {
   "cell_type": "code",
   "execution_count": 28,
   "id": "0ea07a01",
   "metadata": {},
   "outputs": [
    {
     "data": {
      "text/html": [
       "<div>\n",
       "<style scoped>\n",
       "    .dataframe tbody tr th:only-of-type {\n",
       "        vertical-align: middle;\n",
       "    }\n",
       "\n",
       "    .dataframe tbody tr th {\n",
       "        vertical-align: top;\n",
       "    }\n",
       "\n",
       "    .dataframe thead th {\n",
       "        text-align: right;\n",
       "    }\n",
       "</style>\n",
       "<table border=\"1\" class=\"dataframe\">\n",
       "  <thead>\n",
       "    <tr style=\"text-align: right;\">\n",
       "      <th></th>\n",
       "      <th>no_debt</th>\n",
       "      <th>debt</th>\n",
       "      <th>share_of_debtors</th>\n",
       "    </tr>\n",
       "    <tr>\n",
       "      <th>family_status</th>\n",
       "      <th></th>\n",
       "      <th></th>\n",
       "      <th></th>\n",
       "    </tr>\n",
       "  </thead>\n",
       "  <tbody>\n",
       "    <tr>\n",
       "      <th>Не женат / не замужем</th>\n",
       "      <td>2523</td>\n",
       "      <td>273</td>\n",
       "      <td>9.8%</td>\n",
       "    </tr>\n",
       "    <tr>\n",
       "      <th>гражданский брак</th>\n",
       "      <td>3749</td>\n",
       "      <td>385</td>\n",
       "      <td>9.3%</td>\n",
       "    </tr>\n",
       "    <tr>\n",
       "      <th>женат / замужем</th>\n",
       "      <td>11334</td>\n",
       "      <td>927</td>\n",
       "      <td>7.6%</td>\n",
       "    </tr>\n",
       "    <tr>\n",
       "      <th>в разводе</th>\n",
       "      <td>1105</td>\n",
       "      <td>84</td>\n",
       "      <td>7.1%</td>\n",
       "    </tr>\n",
       "    <tr>\n",
       "      <th>вдовец / вдова</th>\n",
       "      <td>888</td>\n",
       "      <td>63</td>\n",
       "      <td>6.6%</td>\n",
       "    </tr>\n",
       "  </tbody>\n",
       "</table>\n",
       "</div>"
      ],
      "text/plain": [
       "                       no_debt  debt share_of_debtors\n",
       "family_status                                        \n",
       "Не женат / не замужем     2523   273             9.8%\n",
       "гражданский брак          3749   385             9.3%\n",
       "женат / замужем          11334   927             7.6%\n",
       "в разводе                 1105    84             7.1%\n",
       "вдовец / вдова             888    63             6.6%"
      ]
     },
     "execution_count": 28,
     "metadata": {},
     "output_type": "execute_result"
    }
   ],
   "source": [
    "debt_family_status = data.pivot_table(index='family_status', columns='debt', values='gender', aggfunc='count')\n",
    "debt_family_status.columns = ['no_debt', 'debt']\n",
    "debt_family_status['share_of_debtors'] = debt_family_status['debt'] / (debt_family_status['debt'] + debt_family_status['no_debt'])\n",
    "debt_family_status['share_of_debtors'] = debt_family_status['share_of_debtors'].map('{:.1%}'.format)\n",
    "debt_family_status.sort_values(by='share_of_debtors', ascending=False)"
   ]
  },
  {
   "cell_type": "code",
   "execution_count": 29,
   "id": "d555d395",
   "metadata": {},
   "outputs": [
    {
     "data": {
      "image/png": "[encoded data removed]",
      "text/plain": [
       "<Figure size 360x360 with 1 Axes>"
      ]
     },
     "metadata": {
      "needs_background": "light"
     },
     "output_type": "display_data"
    }
   ],
   "source": [
    "sns.relplot(x='share_of_debtors',\n",
    "            y='family_status',\n",
    "            data=debt_family_status.sort_values(by='share_of_debtors'));"
   ]
  },
  {
   "cell_type": "markdown",
   "id": "f844e9af",
   "metadata": {
    "deletable": false,
    "id": "1cef7837"
   },
   "source": [
    "**Вывод:Те, кто не замужем/не женат, находятся в гражданском браке, имеют большую вероятность стать должником. \n",
    "Самые низкие риски у вдов/вдовцов и тех, кто находится в разводе. \n",
    "Женатые/замужние люди имеют средний риск долга.** "
   ]
  },
  {
   "cell_type": "markdown",
   "id": "3e147f98",
   "metadata": {
    "deletable": false,
    "editable": false,
    "id": "1e8b2fca"
   },
   "source": [
    "#### 3.3 Есть ли зависимость между уровнем дохода и возвратом кредита в срок?"
   ]
  },
  {
   "cell_type": "code",
   "execution_count": 30,
   "id": "30691374",
   "metadata": {
    "deletable": false,
    "id": "cd7e3720"
   },
   "outputs": [
    {
     "data": {
      "text/html": [
       "<div>\n",
       "<style scoped>\n",
       "    .dataframe tbody tr th:only-of-type {\n",
       "        vertical-align: middle;\n",
       "    }\n",
       "\n",
       "    .dataframe tbody tr th {\n",
       "        vertical-align: top;\n",
       "    }\n",
       "\n",
       "    .dataframe thead th {\n",
       "        text-align: right;\n",
       "    }\n",
       "</style>\n",
       "<table border=\"1\" class=\"dataframe\">\n",
       "  <thead>\n",
       "    <tr style=\"text-align: right;\">\n",
       "      <th></th>\n",
       "      <th>no_debt</th>\n",
       "      <th>debt</th>\n",
       "      <th>share_of_debtors</th>\n",
       "    </tr>\n",
       "    <tr>\n",
       "      <th>total_income_category</th>\n",
       "      <th></th>\n",
       "      <th></th>\n",
       "      <th></th>\n",
       "    </tr>\n",
       "  </thead>\n",
       "  <tbody>\n",
       "    <tr>\n",
       "      <th>E</th>\n",
       "      <td>20</td>\n",
       "      <td>2</td>\n",
       "      <td>9.1%</td>\n",
       "    </tr>\n",
       "    <tr>\n",
       "      <th>C</th>\n",
       "      <td>14568</td>\n",
       "      <td>1353</td>\n",
       "      <td>8.5%</td>\n",
       "    </tr>\n",
       "    <tr>\n",
       "      <th>A</th>\n",
       "      <td>23</td>\n",
       "      <td>2</td>\n",
       "      <td>8.0%</td>\n",
       "    </tr>\n",
       "    <tr>\n",
       "      <th>B</th>\n",
       "      <td>4660</td>\n",
       "      <td>354</td>\n",
       "      <td>7.1%</td>\n",
       "    </tr>\n",
       "    <tr>\n",
       "      <th>D</th>\n",
       "      <td>328</td>\n",
       "      <td>21</td>\n",
       "      <td>6.0%</td>\n",
       "    </tr>\n",
       "  </tbody>\n",
       "</table>\n",
       "</div>"
      ],
      "text/plain": [
       "                       no_debt  debt share_of_debtors\n",
       "total_income_category                                \n",
       "E                           20     2             9.1%\n",
       "C                        14568  1353             8.5%\n",
       "A                           23     2             8.0%\n",
       "B                         4660   354             7.1%\n",
       "D                          328    21             6.0%"
      ]
     },
     "execution_count": 30,
     "metadata": {},
     "output_type": "execute_result"
    }
   ],
   "source": [
    "debt_total_income = data.pivot_table(index='total_income_category', columns='debt', values='gender', aggfunc='count')\n",
    "debt_total_income.columns = ['no_debt', 'debt']\n",
    "debt_total_income['share_of_debtors'] = debt_total_income['debt'] / (debt_total_income['debt'] + debt_total_income['no_debt'])\n",
    "debt_total_income['share_of_debtors'] = debt_total_income['share_of_debtors'].map('{:.1%}'.format)\n",
    "debt_total_income.sort_values(by='share_of_debtors', ascending=False)"
   ]
  },
  {
   "cell_type": "code",
   "execution_count": 31,
   "id": "1b8b8c0c",
   "metadata": {},
   "outputs": [
    {
     "data": {
      "image/png": "[encoded data removed]",
      "text/plain": [
       "<Figure size 360x360 with 1 Axes>"
      ]
     },
     "metadata": {
      "needs_background": "light"
     },
     "output_type": "display_data"
    }
   ],
   "source": [
    "sns.relplot(x='share_of_debtors',\n",
    "            y='total_income_category',\n",
    "            data=debt_total_income.sort_values(by='share_of_debtors'));"
   ]
  },
  {
   "cell_type": "markdown",
   "id": "6cea366a",
   "metadata": {
    "deletable": false,
    "id": "e8593def"
   },
   "source": [
    "**Вывод: Больше всего должников среди людей с низким уровнем дохода (Е) и средним (С). Но данные категорий Е, А, В нерепрезентативны, поскольку немногочисленны. Самый высокий риск у людей со средним доходом.** "
   ]
  },
  {
   "cell_type": "markdown",
   "id": "6ff164a2",
   "metadata": {
    "deletable": false,
    "editable": false,
    "id": "99ecbd1f"
   },
   "source": [
    "#### 3.4 Как разные цели кредита влияют на его возврат в срок?"
   ]
  },
  {
   "cell_type": "code",
   "execution_count": 32,
   "id": "cb4044a5",
   "metadata": {
    "deletable": false,
    "id": "2b687290"
   },
   "outputs": [
    {
     "data": {
      "text/html": [
       "<div>\n",
       "<style scoped>\n",
       "    .dataframe tbody tr th:only-of-type {\n",
       "        vertical-align: middle;\n",
       "    }\n",
       "\n",
       "    .dataframe tbody tr th {\n",
       "        vertical-align: top;\n",
       "    }\n",
       "\n",
       "    .dataframe thead th {\n",
       "        text-align: right;\n",
       "    }\n",
       "</style>\n",
       "<table border=\"1\" class=\"dataframe\">\n",
       "  <thead>\n",
       "    <tr style=\"text-align: right;\">\n",
       "      <th></th>\n",
       "      <th>no_debt</th>\n",
       "      <th>debt</th>\n",
       "      <th>share_of_debtors</th>\n",
       "    </tr>\n",
       "    <tr>\n",
       "      <th>purpose_category</th>\n",
       "      <th></th>\n",
       "      <th></th>\n",
       "      <th></th>\n",
       "    </tr>\n",
       "  </thead>\n",
       "  <tbody>\n",
       "    <tr>\n",
       "      <th>операции с автомобилем</th>\n",
       "      <td>3879</td>\n",
       "      <td>400</td>\n",
       "      <td>9.3%</td>\n",
       "    </tr>\n",
       "    <tr>\n",
       "      <th>получение образования</th>\n",
       "      <td>3619</td>\n",
       "      <td>369</td>\n",
       "      <td>9.3%</td>\n",
       "    </tr>\n",
       "    <tr>\n",
       "      <th>проведение свадьбы</th>\n",
       "      <td>2130</td>\n",
       "      <td>183</td>\n",
       "      <td>7.9%</td>\n",
       "    </tr>\n",
       "    <tr>\n",
       "      <th>операции с недвижимостью</th>\n",
       "      <td>9971</td>\n",
       "      <td>780</td>\n",
       "      <td>7.3%</td>\n",
       "    </tr>\n",
       "  </tbody>\n",
       "</table>\n",
       "</div>"
      ],
      "text/plain": [
       "                          no_debt  debt share_of_debtors\n",
       "purpose_category                                        \n",
       "операции с автомобилем       3879   400             9.3%\n",
       "получение образования        3619   369             9.3%\n",
       "проведение свадьбы           2130   183             7.9%\n",
       "операции с недвижимостью     9971   780             7.3%"
      ]
     },
     "execution_count": 32,
     "metadata": {},
     "output_type": "execute_result"
    }
   ],
   "source": [
    "debt_purpose_category = data.pivot_table(index='purpose_category', columns='debt', values='gender', aggfunc='count')\n",
    "debt_purpose_category.columns = ['no_debt', 'debt']\n",
    "debt_purpose_category['share_of_debtors'] = debt_purpose_category['debt'] / (debt_purpose_category['debt'] + debt_purpose_category['no_debt'])\n",
    "debt_purpose_category['share_of_debtors'] = debt_purpose_category['share_of_debtors'].map('{:.1%}'.format)\n",
    "debt_purpose_category.sort_values(by='share_of_debtors', ascending=False)"
   ]
  },
  {
   "cell_type": "code",
   "execution_count": 33,
   "id": "14bf4d35",
   "metadata": {},
   "outputs": [
    {
     "data": {
      "image/png": "[encoded data removed]",
      "text/plain": [
       "<Figure size 360x360 with 1 Axes>"
      ]
     },
     "metadata": {
      "needs_background": "light"
     },
     "output_type": "display_data"
    }
   ],
   "source": [
    "sns.relplot(x='share_of_debtors',\n",
    "            y='purpose_category',\n",
    "            data=debt_purpose_category.sort_values(by='share_of_debtors'));"
   ]
  },
  {
   "cell_type": "code",
   "execution_count": 34,
   "id": "68ced44a",
   "metadata": {},
   "outputs": [
    {
     "data": {
      "image/png": "[encoded data removed]",
      "text/plain": [
       "<Figure size 864x432 with 1 Axes>"
      ]
     },
     "metadata": {
      "needs_background": "light"
     },
     "output_type": "display_data"
    }
   ],
   "source": [
    "# Код ревьюера\n",
    "\n",
    "import matplotlib.pyplot as plt\n",
    "\n",
    "# группируем данные по цели кредита ('purpose_category'), затем применяем агрегирующие функции к столбцу 'debt'\n",
    "grouped_data = data.groupby('purpose_category')['debt'].agg(['count', 'mean', 'sum'])\n",
    "# функция reset_index используется для преобразования индекса в столбец данных\n",
    "grouped_data.reset_index(inplace=True)\n",
    "# задаем размер графика\n",
    "plt.figure(figsize=(12, 6))  \n",
    "# используем график к таблице, выбираем интересующие нас столбцы (проценты по одной оси и цель кредита по другой)\n",
    "plt.bar(grouped_data['purpose_category'], grouped_data['mean']*100) # умножаем на 100, чтобы перевести в проценты\n",
    "# подписываем\n",
    "plt.title(\"Влияние цели кредита на процент просроченных кредитов\")\n",
    "plt.xlabel(\"Цель кредита у клиента\")\n",
    "plt.ylabel(\"Просрочено платежей, %\")\n",
    "plt.xticks(grouped_data['purpose_category'])\n",
    "plt.show()"
   ]
  },
  {
   "cell_type": "markdown",
   "id": "18125f55",
   "metadata": {
    "deletable": false,
    "id": "b4bb2ce6"
   },
   "source": [
    "**Вывод: Те, кто имеют цели \"операции с автомобилем\", \"получение образование\" имеют более высокие риски стать должниками** "
   ]
  },
  {
   "cell_type": "markdown",
   "id": "9adfd20c",
   "metadata": {
    "deletable": false,
    "editable": false,
    "id": "09c3ac4c"
   },
   "source": [
    "#### 3.5 Приведите возможные причины появления пропусков в исходных данных."
   ]
  },
  {
   "cell_type": "markdown",
   "id": "661a0ccf",
   "metadata": {
    "deletable": false,
    "id": "9da2ceda"
   },
   "source": [
    "*Ответ: неправильное заполнение полей пользователями, некорректная выгрузка данных работниками* "
   ]
  },
  {
   "cell_type": "markdown",
   "id": "64d9ee4d",
   "metadata": {
    "deletable": false,
    "editable": false,
    "id": "7b0487d6"
   },
   "source": [
    "#### 3.6 Объясните, почему заполнить пропуски медианным значением — лучшее решение для количественных переменных."
   ]
  },
  {
   "cell_type": "markdown",
   "id": "28850345",
   "metadata": {
    "deletable": false,
    "id": "7ecf2b8e"
   },
   "source": [
    "*Ответ: медиана устойчива к выбросам — аномально большим или малым значениям.* "
   ]
  },
  {
   "cell_type": "markdown",
   "id": "db66f00f",
   "metadata": {
    "deletable": false,
    "editable": false,
    "id": "6db5255a"
   },
   "source": [
    "### Шаг 4: общий вывод."
   ]
  },
  {
   "cell_type": "markdown",
   "id": "ee8a165b",
   "metadata": {
    "deletable": false,
    "id": "bad65432"
   },
   "source": [
    "В ходе исследования надёжности заемщиков были проанализированы данные, клиенты отсортированы по ключевым характеристикам, которые могут повлиять на возможность получения кредита. \n",
    "По итогам проделанной работы по поставленным вопросам можно сделать следующие выводы:\n",
    "\n",
    "1.1 Среди тех, у кого детей нет, меньше вероятность стать должником. Внезапные затраты на детей повышают риски долга.\n",
    "\n",
    "1.2 Те, кто не замужем/не женат, находятся в гражданском браке - в группе риска. Самые низкие риски у вдов/вдовцов и тех, кто находится в разводе. Женатые/замужние люди имеют средний риск долга. \n",
    "\n",
    "1.3 Больше всего должников среди людей с средним уровнем дохода(С - 50001–200000). \n",
    "\n",
    "1.4 Те, кто имеют цели \"операции с автомобилем\", \"получение образование\" имеют более высокие риски стать должниками\n",
    "\n",
    "2.1 Возможные причины появления пропусков в исходных данных - неправильное заполнение полей пользователями, некорректная выгрузка данных работниками.\n",
    "\n",
    "2.2.Заполнить пропуски медианным значением — лучшее решение для количественных переменных, т.к. медиана устойчива к выбросам — аномально большим или малым значениям."
   ]
  }
 ],
 "metadata": {
  "ExecuteTimeLog": [
   {
    "duration": 584,
    "start_time": "2024-07-16T02:11:14.077Z"
   },
   {
    "duration": 24,
    "start_time": "2024-07-16T02:11:16.818Z"
   },
   {
    "duration": 21,
    "start_time": "2024-07-16T02:11:18.569Z"
   },
   {
    "duration": 11,
    "start_time": "2024-07-16T02:11:20.773Z"
   },
   {
    "duration": 37,
    "start_time": "2024-07-16T02:11:22.122Z"
   },
   {
    "duration": 4,
    "start_time": "2024-07-16T02:11:23.170Z"
   },
   {
    "duration": 9,
    "start_time": "2024-07-16T02:11:24.083Z"
   },
   {
    "duration": 4,
    "start_time": "2024-07-16T02:11:27.000Z"
   },
   {
    "duration": 6,
    "start_time": "2024-07-16T02:11:28.368Z"
   },
   {
    "duration": 4,
    "start_time": "2024-07-16T02:11:30.176Z"
   },
   {
    "duration": 38,
    "start_time": "2024-07-16T02:11:34.864Z"
   },
   {
    "duration": 15,
    "start_time": "2024-07-16T02:11:36.065Z"
   },
   {
    "duration": 4,
    "start_time": "2024-07-16T02:11:39.529Z"
   },
   {
    "duration": 14,
    "start_time": "2024-07-16T02:11:41.289Z"
   },
   {
    "duration": 20,
    "start_time": "2024-07-16T02:11:42.507Z"
   },
   {
    "duration": 18,
    "start_time": "2024-07-16T02:11:43.078Z"
   },
   {
    "duration": 4,
    "start_time": "2024-07-16T02:11:45.255Z"
   },
   {
    "duration": 14,
    "start_time": "2024-07-16T02:11:46.235Z"
   },
   {
    "duration": 7,
    "start_time": "2024-07-16T02:11:47.734Z"
   },
   {
    "duration": 3,
    "start_time": "2024-07-16T02:11:51.227Z"
   },
   {
    "duration": 11,
    "start_time": "2024-07-16T02:11:51.887Z"
   },
   {
    "duration": 26,
    "start_time": "2024-07-16T02:27:18.612Z"
   },
   {
    "duration": 3,
    "start_time": "2024-07-16T02:27:57.814Z"
   },
   {
    "duration": 67,
    "start_time": "2024-07-16T02:28:00.877Z"
   },
   {
    "duration": 4,
    "start_time": "2024-07-16T02:49:53.022Z"
   },
   {
    "duration": 9,
    "start_time": "2024-07-16T02:52:33.099Z"
   },
   {
    "duration": 3,
    "start_time": "2024-07-16T02:52:42.817Z"
   },
   {
    "duration": 8,
    "start_time": "2024-07-16T02:52:43.838Z"
   },
   {
    "duration": 3,
    "start_time": "2024-07-16T03:00:54.452Z"
   },
   {
    "duration": 11,
    "start_time": "2024-07-16T03:00:55.052Z"
   },
   {
    "duration": 66,
    "start_time": "2024-07-16T16:33:35.469Z"
   },
   {
    "duration": 4,
    "start_time": "2024-07-16T16:33:46.655Z"
   },
   {
    "duration": 49,
    "start_time": "2024-07-16T16:33:48.176Z"
   },
   {
    "duration": 721,
    "start_time": "2024-07-16T16:34:10.039Z"
   },
   {
    "duration": 20,
    "start_time": "2024-07-16T16:34:11.466Z"
   },
   {
    "duration": 16,
    "start_time": "2024-07-16T16:34:12.308Z"
   },
   {
    "duration": 12,
    "start_time": "2024-07-16T16:34:13.263Z"
   },
   {
    "duration": 33,
    "start_time": "2024-07-16T16:34:13.761Z"
   },
   {
    "duration": 3,
    "start_time": "2024-07-16T16:34:14.904Z"
   },
   {
    "duration": 8,
    "start_time": "2024-07-16T16:34:15.408Z"
   },
   {
    "duration": 4,
    "start_time": "2024-07-16T16:34:16.103Z"
   },
   {
    "duration": 6,
    "start_time": "2024-07-16T16:34:16.617Z"
   },
   {
    "duration": 4,
    "start_time": "2024-07-16T16:34:17.150Z"
   },
   {
    "duration": 32,
    "start_time": "2024-07-16T16:34:17.839Z"
   },
   {
    "duration": 9,
    "start_time": "2024-07-16T16:34:18.453Z"
   },
   {
    "duration": 3,
    "start_time": "2024-07-16T16:34:19.166Z"
   },
   {
    "duration": 11,
    "start_time": "2024-07-16T16:34:19.872Z"
   },
   {
    "duration": 19,
    "start_time": "2024-07-16T16:34:20.472Z"
   },
   {
    "duration": 16,
    "start_time": "2024-07-16T16:34:20.767Z"
   },
   {
    "duration": 3,
    "start_time": "2024-07-16T16:34:21.951Z"
   },
   {
    "duration": 12,
    "start_time": "2024-07-16T16:34:22.778Z"
   },
   {
    "duration": 7,
    "start_time": "2024-07-16T16:34:23.905Z"
   },
   {
    "duration": 4,
    "start_time": "2024-07-16T16:34:25.903Z"
   },
   {
    "duration": 12,
    "start_time": "2024-07-16T16:34:26.416Z"
   },
   {
    "duration": 3,
    "start_time": "2024-07-16T16:34:28.275Z"
   },
   {
    "duration": 8,
    "start_time": "2024-07-16T16:34:29.073Z"
   },
   {
    "duration": 22,
    "start_time": "2024-07-16T16:34:51.695Z"
   },
   {
    "duration": 7,
    "start_time": "2024-07-16T16:35:41.417Z"
   },
   {
    "duration": 15,
    "start_time": "2024-07-16T16:38:23.178Z"
   },
   {
    "duration": 17,
    "start_time": "2024-07-16T16:38:31.179Z"
   },
   {
    "duration": 25,
    "start_time": "2024-07-16T18:47:54.677Z"
   },
   {
    "duration": 5,
    "start_time": "2024-07-16T18:54:28.083Z"
   },
   {
    "duration": 20,
    "start_time": "2024-07-16T18:57:20.907Z"
   },
   {
    "duration": 4,
    "start_time": "2024-07-16T18:57:46.837Z"
   },
   {
    "duration": 31,
    "start_time": "2024-07-16T19:13:57.662Z"
   },
   {
    "duration": 301,
    "start_time": "2024-07-16T19:14:02.172Z"
   },
   {
    "duration": 285,
    "start_time": "2024-07-16T19:14:59.157Z"
   },
   {
    "duration": 30,
    "start_time": "2024-07-16T19:16:07.502Z"
   },
   {
    "duration": 19,
    "start_time": "2024-07-16T19:18:49.309Z"
   },
   {
    "duration": 486,
    "start_time": "2024-07-16T23:17:25.164Z"
   },
   {
    "duration": 23,
    "start_time": "2024-07-16T23:17:25.652Z"
   },
   {
    "duration": 15,
    "start_time": "2024-07-16T23:17:25.677Z"
   },
   {
    "duration": 14,
    "start_time": "2024-07-16T23:17:25.694Z"
   },
   {
    "duration": 34,
    "start_time": "2024-07-16T23:17:25.710Z"
   },
   {
    "duration": 3,
    "start_time": "2024-07-16T23:17:25.746Z"
   },
   {
    "duration": 8,
    "start_time": "2024-07-16T23:17:25.750Z"
   },
   {
    "duration": 23,
    "start_time": "2024-07-16T23:17:25.759Z"
   },
   {
    "duration": 8,
    "start_time": "2024-07-16T23:17:25.784Z"
   },
   {
    "duration": 5,
    "start_time": "2024-07-16T23:17:25.796Z"
   },
   {
    "duration": 46,
    "start_time": "2024-07-16T23:17:25.803Z"
   },
   {
    "duration": 10,
    "start_time": "2024-07-16T23:17:25.850Z"
   },
   {
    "duration": 20,
    "start_time": "2024-07-16T23:17:25.861Z"
   },
   {
    "duration": 26,
    "start_time": "2024-07-16T23:17:25.882Z"
   },
   {
    "duration": 35,
    "start_time": "2024-07-16T23:17:25.910Z"
   },
   {
    "duration": 16,
    "start_time": "2024-07-16T23:17:25.946Z"
   },
   {
    "duration": 3,
    "start_time": "2024-07-16T23:17:25.963Z"
   },
   {
    "duration": 12,
    "start_time": "2024-07-16T23:17:25.967Z"
   },
   {
    "duration": 6,
    "start_time": "2024-07-16T23:17:25.981Z"
   },
   {
    "duration": 4,
    "start_time": "2024-07-16T23:17:25.988Z"
   },
   {
    "duration": 9,
    "start_time": "2024-07-16T23:17:25.994Z"
   },
   {
    "duration": 4,
    "start_time": "2024-07-16T23:17:26.005Z"
   },
   {
    "duration": 23,
    "start_time": "2024-07-16T23:17:26.010Z"
   },
   {
    "duration": 23,
    "start_time": "2024-07-16T23:17:26.034Z"
   },
   {
    "duration": 40,
    "start_time": "2024-07-16T23:17:26.059Z"
   },
   {
    "duration": 7,
    "start_time": "2024-07-16T23:17:26.101Z"
   },
   {
    "duration": 19,
    "start_time": "2024-07-16T23:17:26.110Z"
   },
   {
    "duration": 17,
    "start_time": "2024-07-16T23:17:26.132Z"
   },
   {
    "duration": 46,
    "start_time": "2024-07-16T23:17:26.151Z"
   },
   {
    "duration": 7,
    "start_time": "2024-07-17T02:20:29.089Z"
   },
   {
    "duration": 42,
    "start_time": "2024-07-17T02:20:29.851Z"
   },
   {
    "duration": 542,
    "start_time": "2024-07-17T02:20:40.756Z"
   },
   {
    "duration": 26,
    "start_time": "2024-07-17T02:20:42.140Z"
   },
   {
    "duration": 16,
    "start_time": "2024-07-17T02:20:43.459Z"
   },
   {
    "duration": 10,
    "start_time": "2024-07-17T02:20:45.584Z"
   },
   {
    "duration": 33,
    "start_time": "2024-07-17T02:20:46.672Z"
   },
   {
    "duration": 4,
    "start_time": "2024-07-17T02:20:48.522Z"
   },
   {
    "duration": 7,
    "start_time": "2024-07-17T02:20:49.761Z"
   },
   {
    "duration": 4,
    "start_time": "2024-07-17T02:20:51.283Z"
   },
   {
    "duration": 7,
    "start_time": "2024-07-17T02:20:52.088Z"
   },
   {
    "duration": 5,
    "start_time": "2024-07-17T02:20:52.817Z"
   },
   {
    "duration": 39,
    "start_time": "2024-07-17T02:20:54.522Z"
   },
   {
    "duration": 11,
    "start_time": "2024-07-17T02:20:56.181Z"
   },
   {
    "duration": 8,
    "start_time": "2024-07-17T02:20:58.033Z"
   },
   {
    "duration": 12,
    "start_time": "2024-07-17T02:20:59.888Z"
   },
   {
    "duration": 19,
    "start_time": "2024-07-17T02:21:00.874Z"
   },
   {
    "duration": 20,
    "start_time": "2024-07-17T02:21:01.391Z"
   },
   {
    "duration": 3,
    "start_time": "2024-07-17T02:21:04.432Z"
   },
   {
    "duration": 10,
    "start_time": "2024-07-17T02:21:04.905Z"
   },
   {
    "duration": 6,
    "start_time": "2024-07-17T02:21:06.357Z"
   },
   {
    "duration": 4,
    "start_time": "2024-07-17T02:21:09.824Z"
   },
   {
    "duration": 14,
    "start_time": "2024-07-17T02:21:11.441Z"
   },
   {
    "duration": 2,
    "start_time": "2024-07-17T02:21:19.967Z"
   },
   {
    "duration": 9,
    "start_time": "2024-07-17T02:21:20.647Z"
   },
   {
    "duration": 18,
    "start_time": "2024-07-17T02:21:27.197Z"
   },
   {
    "duration": 28,
    "start_time": "2024-07-17T02:21:31.751Z"
   },
   {
    "duration": 23,
    "start_time": "2024-07-17T02:48:10.374Z"
   },
   {
    "duration": 21,
    "start_time": "2024-07-17T02:48:49.361Z"
   },
   {
    "duration": 595,
    "start_time": "2024-07-18T16:25:59.268Z"
   },
   {
    "duration": 25,
    "start_time": "2024-07-18T16:26:02.699Z"
   },
   {
    "duration": 17,
    "start_time": "2024-07-18T16:26:04.121Z"
   },
   {
    "duration": 11,
    "start_time": "2024-07-18T16:26:07.606Z"
   },
   {
    "duration": 40,
    "start_time": "2024-07-18T16:26:08.638Z"
   },
   {
    "duration": 4,
    "start_time": "2024-07-18T16:26:10.217Z"
   },
   {
    "duration": 8,
    "start_time": "2024-07-18T16:26:11.162Z"
   },
   {
    "duration": 5,
    "start_time": "2024-07-18T16:26:12.506Z"
   },
   {
    "duration": 6,
    "start_time": "2024-07-18T16:26:13.523Z"
   },
   {
    "duration": 4,
    "start_time": "2024-07-18T16:26:14.131Z"
   },
   {
    "duration": 38,
    "start_time": "2024-07-18T16:26:14.946Z"
   },
   {
    "duration": 11,
    "start_time": "2024-07-18T16:26:16.005Z"
   },
   {
    "duration": 3,
    "start_time": "2024-07-18T16:26:17.656Z"
   },
   {
    "duration": 13,
    "start_time": "2024-07-18T16:26:18.996Z"
   },
   {
    "duration": 21,
    "start_time": "2024-07-18T16:26:19.777Z"
   },
   {
    "duration": 19,
    "start_time": "2024-07-18T16:26:20.114Z"
   },
   {
    "duration": 4,
    "start_time": "2024-07-18T16:26:21.542Z"
   },
   {
    "duration": 12,
    "start_time": "2024-07-18T16:26:22.044Z"
   },
   {
    "duration": 6,
    "start_time": "2024-07-18T16:26:22.972Z"
   },
   {
    "duration": 3,
    "start_time": "2024-07-18T16:26:23.780Z"
   },
   {
    "duration": 9,
    "start_time": "2024-07-18T16:26:24.234Z"
   },
   {
    "duration": 27,
    "start_time": "2024-07-18T16:26:29.178Z"
   },
   {
    "duration": 1094,
    "start_time": "2024-07-18T16:35:22.558Z"
   },
   {
    "duration": 17,
    "start_time": "2024-07-18T16:35:24.638Z"
   },
   {
    "duration": 18,
    "start_time": "2024-07-18T16:35:25.127Z"
   },
   {
    "duration": 11,
    "start_time": "2024-07-18T16:35:26.116Z"
   },
   {
    "duration": 36,
    "start_time": "2024-07-18T16:35:26.596Z"
   },
   {
    "duration": 3,
    "start_time": "2024-07-18T16:35:27.339Z"
   },
   {
    "duration": 9,
    "start_time": "2024-07-18T16:35:27.827Z"
   },
   {
    "duration": 5,
    "start_time": "2024-07-18T16:35:28.511Z"
   },
   {
    "duration": 7,
    "start_time": "2024-07-18T16:35:28.964Z"
   },
   {
    "duration": 5,
    "start_time": "2024-07-18T16:35:29.449Z"
   },
   {
    "duration": 38,
    "start_time": "2024-07-18T16:35:30.124Z"
   },
   {
    "duration": 11,
    "start_time": "2024-07-18T16:35:30.649Z"
   },
   {
    "duration": 3,
    "start_time": "2024-07-18T16:35:31.628Z"
   },
   {
    "duration": 12,
    "start_time": "2024-07-18T16:35:32.662Z"
   },
   {
    "duration": 19,
    "start_time": "2024-07-18T16:35:33.299Z"
   },
   {
    "duration": 19,
    "start_time": "2024-07-18T16:35:33.571Z"
   },
   {
    "duration": 4,
    "start_time": "2024-07-18T16:35:34.855Z"
   },
   {
    "duration": 11,
    "start_time": "2024-07-18T16:35:35.324Z"
   },
   {
    "duration": 6,
    "start_time": "2024-07-18T16:35:36.255Z"
   },
   {
    "duration": 4,
    "start_time": "2024-07-18T16:35:37.349Z"
   },
   {
    "duration": 13,
    "start_time": "2024-07-18T16:35:37.744Z"
   },
   {
    "duration": 955,
    "start_time": "2024-07-18T16:49:05.884Z"
   },
   {
    "duration": 9,
    "start_time": "2024-07-18T16:50:57.005Z"
   },
   {
    "duration": 21,
    "start_time": "2024-07-18T16:51:12.214Z"
   },
   {
    "duration": 369,
    "start_time": "2024-07-18T16:51:36.223Z"
   },
   {
    "duration": 309,
    "start_time": "2024-07-18T17:00:02.084Z"
   },
   {
    "duration": 85,
    "start_time": "2024-07-18T17:23:36.383Z"
   },
   {
    "duration": 17,
    "start_time": "2024-07-18T17:23:37.390Z"
   },
   {
    "duration": 17,
    "start_time": "2024-07-18T17:23:38.071Z"
   },
   {
    "duration": 13,
    "start_time": "2024-07-18T17:23:39.578Z"
   },
   {
    "duration": 38,
    "start_time": "2024-07-18T17:23:40.335Z"
   },
   {
    "duration": 4,
    "start_time": "2024-07-18T17:23:41.526Z"
   },
   {
    "duration": 11,
    "start_time": "2024-07-18T17:23:42.255Z"
   },
   {
    "duration": 5,
    "start_time": "2024-07-18T17:23:43.177Z"
   },
   {
    "duration": 6,
    "start_time": "2024-07-18T17:23:43.786Z"
   },
   {
    "duration": 5,
    "start_time": "2024-07-18T17:23:44.395Z"
   },
   {
    "duration": 38,
    "start_time": "2024-07-18T17:23:45.430Z"
   },
   {
    "duration": 11,
    "start_time": "2024-07-18T17:23:46.028Z"
   },
   {
    "duration": 3,
    "start_time": "2024-07-18T17:23:46.879Z"
   },
   {
    "duration": 12,
    "start_time": "2024-07-18T17:23:47.638Z"
   },
   {
    "duration": 20,
    "start_time": "2024-07-18T17:23:48.154Z"
   },
   {
    "duration": 19,
    "start_time": "2024-07-18T17:23:48.403Z"
   },
   {
    "duration": 3,
    "start_time": "2024-07-18T17:23:49.172Z"
   },
   {
    "duration": 11,
    "start_time": "2024-07-18T17:23:49.427Z"
   },
   {
    "duration": 6,
    "start_time": "2024-07-18T17:23:49.946Z"
   },
   {
    "duration": 3,
    "start_time": "2024-07-18T17:23:50.464Z"
   },
   {
    "duration": 8,
    "start_time": "2024-07-18T17:23:50.739Z"
   },
   {
    "duration": 30,
    "start_time": "2024-07-18T17:23:51.474Z"
   },
   {
    "duration": 297,
    "start_time": "2024-07-18T17:23:51.827Z"
   },
   {
    "duration": 962,
    "start_time": "2024-07-18T17:30:31.275Z"
   },
   {
    "duration": 122,
    "start_time": "2024-07-18T17:30:49.039Z"
   },
   {
    "duration": 16,
    "start_time": "2024-07-18T17:30:58.683Z"
   },
   {
    "duration": 77,
    "start_time": "2024-07-18T17:37:28.200Z"
   },
   {
    "duration": 106,
    "start_time": "2024-07-18T17:45:02.578Z"
   },
   {
    "duration": 827,
    "start_time": "2024-07-18T17:46:38.167Z"
   },
   {
    "duration": 878,
    "start_time": "2024-07-18T17:47:40.375Z"
   },
   {
    "duration": 274,
    "start_time": "2024-07-18T17:47:54.895Z"
   },
   {
    "duration": 266,
    "start_time": "2024-07-18T17:48:13.392Z"
   },
   {
    "duration": 11,
    "start_time": "2024-07-18T17:54:25.821Z"
   },
   {
    "duration": 9,
    "start_time": "2024-07-18T17:56:33.656Z"
   },
   {
    "duration": 9,
    "start_time": "2024-07-18T17:56:53.257Z"
   },
   {
    "duration": 4,
    "start_time": "2024-07-18T17:57:00.958Z"
   },
   {
    "duration": 255,
    "start_time": "2024-07-18T17:57:08.286Z"
   },
   {
    "duration": 4,
    "start_time": "2024-07-18T17:57:18.693Z"
   },
   {
    "duration": 325,
    "start_time": "2024-07-18T17:57:19.822Z"
   },
   {
    "duration": 260,
    "start_time": "2024-07-18T17:57:43.975Z"
   },
   {
    "duration": 25,
    "start_time": "2024-07-18T17:57:51.043Z"
   },
   {
    "duration": 275,
    "start_time": "2024-07-18T17:57:52.679Z"
   },
   {
    "duration": 263,
    "start_time": "2024-07-18T18:04:11.498Z"
   },
   {
    "duration": 288,
    "start_time": "2024-07-18T18:04:27.467Z"
   },
   {
    "duration": 168,
    "start_time": "2024-07-18T18:07:03.666Z"
   },
   {
    "duration": 126,
    "start_time": "2024-07-18T18:09:30.267Z"
   },
   {
    "duration": 296,
    "start_time": "2024-07-18T18:11:59.316Z"
   },
   {
    "duration": 955,
    "start_time": "2024-07-18T18:16:16.655Z"
   },
   {
    "duration": 10,
    "start_time": "2024-07-18T18:16:48.604Z"
   },
   {
    "duration": 10,
    "start_time": "2024-07-18T18:16:59.167Z"
   },
   {
    "duration": 10,
    "start_time": "2024-07-18T18:17:31.364Z"
   },
   {
    "duration": 314,
    "start_time": "2024-07-18T18:17:33.340Z"
   },
   {
    "duration": 4,
    "start_time": "2024-07-18T18:18:06.937Z"
   },
   {
    "duration": 290,
    "start_time": "2024-07-18T18:18:11.884Z"
   },
   {
    "duration": 296,
    "start_time": "2024-07-18T18:18:32.486Z"
   },
   {
    "duration": 4,
    "start_time": "2024-07-18T18:18:46.309Z"
   },
   {
    "duration": 284,
    "start_time": "2024-07-18T18:18:47.566Z"
   },
   {
    "duration": 89,
    "start_time": "2024-07-18T18:20:28.687Z"
   },
   {
    "duration": 4,
    "start_time": "2024-07-18T18:20:40.551Z"
   },
   {
    "duration": 6,
    "start_time": "2024-07-18T18:21:02.031Z"
   },
   {
    "duration": 396,
    "start_time": "2024-07-18T18:21:03.859Z"
   },
   {
    "duration": 12,
    "start_time": "2024-07-18T18:22:33.762Z"
   },
   {
    "duration": 11,
    "start_time": "2024-07-18T18:22:39.988Z"
   },
   {
    "duration": 4,
    "start_time": "2024-07-18T18:22:44.388Z"
   },
   {
    "duration": 268,
    "start_time": "2024-07-18T18:22:46.900Z"
   },
   {
    "duration": 5,
    "start_time": "2024-07-18T18:23:09.249Z"
   },
   {
    "duration": 5,
    "start_time": "2024-07-18T18:23:10.397Z"
   },
   {
    "duration": 283,
    "start_time": "2024-07-18T18:23:12.321Z"
   },
   {
    "duration": 4,
    "start_time": "2024-07-18T18:23:37.161Z"
   },
   {
    "duration": 269,
    "start_time": "2024-07-18T18:23:38.002Z"
   },
   {
    "duration": 3,
    "start_time": "2024-07-18T18:23:52.033Z"
   },
   {
    "duration": 352,
    "start_time": "2024-07-18T18:23:53.982Z"
   },
   {
    "duration": 12,
    "start_time": "2024-07-18T18:26:38.761Z"
   },
   {
    "duration": 11,
    "start_time": "2024-07-18T18:26:43.646Z"
   },
   {
    "duration": 334,
    "start_time": "2024-07-18T18:31:19.040Z"
   },
   {
    "duration": 10,
    "start_time": "2024-07-18T18:33:39.384Z"
   },
   {
    "duration": 26,
    "start_time": "2024-07-18T18:33:50.579Z"
   },
   {
    "duration": 167,
    "start_time": "2024-07-18T18:33:51.298Z"
   },
   {
    "duration": 305,
    "start_time": "2024-07-18T18:37:36.122Z"
   },
   {
    "duration": 281,
    "start_time": "2024-07-18T18:38:12.258Z"
   },
   {
    "duration": 296,
    "start_time": "2024-07-18T18:39:20.233Z"
   },
   {
    "duration": 10,
    "start_time": "2024-07-18T18:42:13.274Z"
   },
   {
    "duration": 9,
    "start_time": "2024-07-18T18:42:17.754Z"
   },
   {
    "duration": 25,
    "start_time": "2024-07-18T18:42:26.938Z"
   },
   {
    "duration": 297,
    "start_time": "2024-07-18T18:42:27.949Z"
   },
   {
    "duration": 9,
    "start_time": "2024-07-18T18:43:28.268Z"
   },
   {
    "duration": 26,
    "start_time": "2024-07-18T18:43:31.045Z"
   },
   {
    "duration": 267,
    "start_time": "2024-07-18T18:43:32.021Z"
   },
   {
    "duration": 152,
    "start_time": "2024-07-18T19:06:17.654Z"
   },
   {
    "duration": 85,
    "start_time": "2024-07-18T19:11:55.465Z"
   },
   {
    "duration": 23,
    "start_time": "2024-07-18T19:11:56.958Z"
   },
   {
    "duration": 19,
    "start_time": "2024-07-18T19:11:58.096Z"
   },
   {
    "duration": 14,
    "start_time": "2024-07-18T19:11:59.972Z"
   },
   {
    "duration": 41,
    "start_time": "2024-07-18T19:12:00.867Z"
   },
   {
    "duration": 5,
    "start_time": "2024-07-18T19:12:01.653Z"
   },
   {
    "duration": 13,
    "start_time": "2024-07-18T19:12:02.117Z"
   },
   {
    "duration": 4,
    "start_time": "2024-07-18T19:12:03.016Z"
   },
   {
    "duration": 9,
    "start_time": "2024-07-18T19:12:03.821Z"
   },
   {
    "duration": 5,
    "start_time": "2024-07-18T19:12:04.906Z"
   },
   {
    "duration": 42,
    "start_time": "2024-07-18T19:12:06.037Z"
   },
   {
    "duration": 18,
    "start_time": "2024-07-18T19:12:06.837Z"
   },
   {
    "duration": 5,
    "start_time": "2024-07-18T19:12:08.210Z"
   },
   {
    "duration": 15,
    "start_time": "2024-07-18T19:12:09.256Z"
   },
   {
    "duration": 21,
    "start_time": "2024-07-18T19:12:10.085Z"
   },
   {
    "duration": 20,
    "start_time": "2024-07-18T19:12:10.546Z"
   },
   {
    "duration": 4,
    "start_time": "2024-07-18T19:12:11.628Z"
   },
   {
    "duration": 13,
    "start_time": "2024-07-18T19:12:11.900Z"
   },
   {
    "duration": 12,
    "start_time": "2024-07-18T19:12:12.505Z"
   },
   {
    "duration": 5,
    "start_time": "2024-07-18T19:12:13.102Z"
   },
   {
    "duration": 19,
    "start_time": "2024-07-18T19:12:13.385Z"
   },
   {
    "duration": 42,
    "start_time": "2024-07-18T19:12:14.494Z"
   },
   {
    "duration": 203,
    "start_time": "2024-07-18T19:12:15.777Z"
   },
   {
    "duration": 5,
    "start_time": "2024-07-18T19:12:20.665Z"
   },
   {
    "duration": 4,
    "start_time": "2024-07-18T19:12:21.490Z"
   },
   {
    "duration": 427,
    "start_time": "2024-07-18T19:12:23.386Z"
   },
   {
    "duration": 6,
    "start_time": "2024-07-18T19:12:29.780Z"
   },
   {
    "duration": 33,
    "start_time": "2024-07-18T19:12:30.538Z"
   },
   {
    "duration": 273,
    "start_time": "2024-07-18T19:12:31.274Z"
   },
   {
    "duration": 23,
    "start_time": "2024-07-18T19:12:33.401Z"
   },
   {
    "duration": 297,
    "start_time": "2024-07-18T19:12:33.777Z"
   },
   {
    "duration": 26,
    "start_time": "2024-07-18T19:12:44.764Z"
   },
   {
    "duration": 249,
    "start_time": "2024-07-18T19:12:45.597Z"
   },
   {
    "duration": 1194,
    "start_time": "2024-07-18T20:39:15.098Z"
   },
   {
    "duration": 19,
    "start_time": "2024-07-18T20:39:16.294Z"
   },
   {
    "duration": 16,
    "start_time": "2024-07-18T20:39:16.315Z"
   },
   {
    "duration": 10,
    "start_time": "2024-07-18T20:39:16.333Z"
   },
   {
    "duration": 39,
    "start_time": "2024-07-18T20:39:16.345Z"
   },
   {
    "duration": 4,
    "start_time": "2024-07-18T20:39:16.386Z"
   },
   {
    "duration": 8,
    "start_time": "2024-07-18T20:39:16.408Z"
   },
   {
    "duration": 4,
    "start_time": "2024-07-18T20:39:16.417Z"
   },
   {
    "duration": 9,
    "start_time": "2024-07-18T20:39:16.423Z"
   },
   {
    "duration": 4,
    "start_time": "2024-07-18T20:39:16.435Z"
   },
   {
    "duration": 35,
    "start_time": "2024-07-18T20:39:16.440Z"
   },
   {
    "duration": 38,
    "start_time": "2024-07-18T20:39:16.477Z"
   },
   {
    "duration": 4,
    "start_time": "2024-07-18T20:39:16.517Z"
   },
   {
    "duration": 12,
    "start_time": "2024-07-18T20:39:16.522Z"
   },
   {
    "duration": 20,
    "start_time": "2024-07-18T20:39:16.535Z"
   },
   {
    "duration": 17,
    "start_time": "2024-07-18T20:39:16.556Z"
   },
   {
    "duration": 4,
    "start_time": "2024-07-18T20:39:16.574Z"
   },
   {
    "duration": 12,
    "start_time": "2024-07-18T20:39:16.606Z"
   },
   {
    "duration": 6,
    "start_time": "2024-07-18T20:39:16.619Z"
   },
   {
    "duration": 3,
    "start_time": "2024-07-18T20:39:16.627Z"
   },
   {
    "duration": 13,
    "start_time": "2024-07-18T20:39:16.631Z"
   },
   {
    "duration": 23,
    "start_time": "2024-07-18T20:39:16.646Z"
   },
   {
    "duration": 184,
    "start_time": "2024-07-18T20:39:16.670Z"
   },
   {
    "duration": 5,
    "start_time": "2024-07-18T20:39:16.856Z"
   },
   {
    "duration": 4,
    "start_time": "2024-07-18T20:39:16.862Z"
   },
   {
    "duration": 306,
    "start_time": "2024-07-18T20:39:16.867Z"
   },
   {
    "duration": 5,
    "start_time": "2024-07-18T20:39:17.174Z"
   },
   {
    "duration": 37,
    "start_time": "2024-07-18T20:39:17.182Z"
   },
   {
    "duration": 271,
    "start_time": "2024-07-18T20:39:17.220Z"
   },
   {
    "duration": 35,
    "start_time": "2024-07-18T20:39:17.492Z"
   },
   {
    "duration": 242,
    "start_time": "2024-07-18T20:39:17.529Z"
   },
   {
    "duration": 35,
    "start_time": "2024-07-18T20:39:17.773Z"
   },
   {
    "duration": 257,
    "start_time": "2024-07-18T20:39:17.809Z"
   },
   {
    "duration": 1290,
    "start_time": "2024-07-18T20:47:00.817Z"
   },
   {
    "duration": 20,
    "start_time": "2024-07-18T20:47:02.109Z"
   },
   {
    "duration": 16,
    "start_time": "2024-07-18T20:47:02.130Z"
   },
   {
    "duration": 12,
    "start_time": "2024-07-18T20:47:02.148Z"
   },
   {
    "duration": 54,
    "start_time": "2024-07-18T20:47:02.161Z"
   },
   {
    "duration": 3,
    "start_time": "2024-07-18T20:47:02.217Z"
   },
   {
    "duration": 25,
    "start_time": "2024-07-18T20:47:02.221Z"
   },
   {
    "duration": 4,
    "start_time": "2024-07-18T20:47:02.248Z"
   },
   {
    "duration": 32,
    "start_time": "2024-07-18T20:47:02.253Z"
   },
   {
    "duration": 5,
    "start_time": "2024-07-18T20:47:02.287Z"
   },
   {
    "duration": 43,
    "start_time": "2024-07-18T20:47:02.294Z"
   },
   {
    "duration": 11,
    "start_time": "2024-07-18T20:47:02.339Z"
   },
   {
    "duration": 20,
    "start_time": "2024-07-18T20:47:02.351Z"
   },
   {
    "duration": 17,
    "start_time": "2024-07-18T20:47:02.372Z"
   },
   {
    "duration": 27,
    "start_time": "2024-07-18T20:47:02.391Z"
   },
   {
    "duration": 17,
    "start_time": "2024-07-18T20:47:02.420Z"
   },
   {
    "duration": 4,
    "start_time": "2024-07-18T20:47:02.438Z"
   },
   {
    "duration": 17,
    "start_time": "2024-07-18T20:47:02.444Z"
   },
   {
    "duration": 9,
    "start_time": "2024-07-18T20:47:02.462Z"
   },
   {
    "duration": 4,
    "start_time": "2024-07-18T20:47:02.472Z"
   },
   {
    "duration": 33,
    "start_time": "2024-07-18T20:47:02.477Z"
   },
   {
    "duration": 25,
    "start_time": "2024-07-18T20:47:02.511Z"
   },
   {
    "duration": 194,
    "start_time": "2024-07-18T20:47:02.538Z"
   },
   {
    "duration": 4,
    "start_time": "2024-07-18T20:47:02.734Z"
   },
   {
    "duration": 14,
    "start_time": "2024-07-18T20:47:02.740Z"
   },
   {
    "duration": 333,
    "start_time": "2024-07-18T20:47:02.756Z"
   },
   {
    "duration": 18,
    "start_time": "2024-07-18T20:47:03.090Z"
   },
   {
    "duration": 23,
    "start_time": "2024-07-18T20:47:03.111Z"
   },
   {
    "duration": 325,
    "start_time": "2024-07-18T20:47:03.136Z"
   },
   {
    "duration": 22,
    "start_time": "2024-07-18T20:47:03.462Z"
   },
   {
    "duration": 291,
    "start_time": "2024-07-18T20:47:03.485Z"
   },
   {
    "duration": 31,
    "start_time": "2024-07-18T20:47:03.778Z"
   },
   {
    "duration": 249,
    "start_time": "2024-07-18T20:47:03.811Z"
   },
   {
    "duration": 160,
    "start_time": "2024-07-18T20:47:04.061Z"
   }
  ],
  "colab": {
   "name": "dpp_template_part2.ipynb",
   "provenance": []
  },
  "kernelspec": {
   "display_name": "Python 3 (ipykernel)",
   "language": "python",
   "name": "python3"
  },
  "language_info": {
   "codemirror_mode": {
    "name": "ipython",
    "version": 3
   },
   "file_extension": ".py",
   "mimetype": "text/x-python",
   "name": "python",
   "nbconvert_exporter": "python",
   "pygments_lexer": "ipython3",
   "version": "3.9.5"
  },
  "toc": {
   "base_numbering": 1,
   "nav_menu": {},
   "number_sections": true,
   "sideBar": true,
   "skip_h1_title": true,
   "title_cell": "Table of Contents",
   "title_sidebar": "Contents",
   "toc_cell": false,
   "toc_position": {},
   "toc_section_display": true,
   "toc_window_display": false
  }
 },
 "nbformat": 4,
 "nbformat_minor": 5
}
