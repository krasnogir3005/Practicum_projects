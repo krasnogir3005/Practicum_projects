{
 "cells": [
  {
   "cell_type": "markdown",
   "metadata": {
    "toc": true
   },
   "source": [
    "<h1>Содержание<span class=\"tocSkip\"></span></h1>\n",
    "<div class=\"toc\"><ul class=\"toc-item\"><li><span><a href=\"#Загрузка-и-подготовка-данных\" data-toc-modified-id=\"Загрузка-и-подготовка-данных-1\"><span class=\"toc-item-num\">1&nbsp;&nbsp;</span>Загрузка и подготовка данных</a></span><ul class=\"toc-item\"><li><span><a href=\"#Загрузка-и-просмотр-данных\" data-toc-modified-id=\"Загрузка-и-просмотр-данных-1.1\"><span class=\"toc-item-num\">1.1&nbsp;&nbsp;</span>Загрузка и просмотр данных</a></span></li><li><span><a href=\"#Предобработка-данных\" data-toc-modified-id=\"Предобработка-данных-1.2\"><span class=\"toc-item-num\">1.2&nbsp;&nbsp;</span>Предобработка данных</a></span></li><li><span><a href=\"#Исследовательский-анализ-данных\" data-toc-modified-id=\"Исследовательский-анализ-данных-1.3\"><span class=\"toc-item-num\">1.3&nbsp;&nbsp;</span>Исследовательский анализ данных</a></span></li><li><span><a href=\"#Корреляционный-анализ\" data-toc-modified-id=\"Корреляционный-анализ-1.4\"><span class=\"toc-item-num\">1.4&nbsp;&nbsp;</span>Корреляционный анализ</a></span></li></ul></li><li><span><a href=\"#Обучение-и-проверка-модели\" data-toc-modified-id=\"Обучение-и-проверка-модели-2\"><span class=\"toc-item-num\">2&nbsp;&nbsp;</span>Обучение и проверка модели</a></span></li><li><span><a href=\"#Подготовка-к-расчёту-прибыли\" data-toc-modified-id=\"Подготовка-к-расчёту-прибыли-3\"><span class=\"toc-item-num\">3&nbsp;&nbsp;</span>Подготовка к расчёту прибыли</a></span></li><li><span><a href=\"#Расчёт-прибыли-и-рисков\" data-toc-modified-id=\"Расчёт-прибыли-и-рисков-4\"><span class=\"toc-item-num\">4&nbsp;&nbsp;</span>Расчёт прибыли и рисков</a></span></li><li><span><a href=\"#Чек-лист-готовности-проекта\" data-toc-modified-id=\"Чек-лист-готовности-проекта-5\"><span class=\"toc-item-num\">5&nbsp;&nbsp;</span>Чек-лист готовности проекта</a></span></li></ul></div>"
   ]
  },
  {
   "cell_type": "markdown",
   "metadata": {},
   "source": [
    "# Выбор локации для скважины"
   ]
  },
  {
   "cell_type": "markdown",
   "metadata": {},
   "source": [
    "Допустим, вы работаете в добывающей компании «ГлавРосГосНефть». Нужно решить, где бурить новую скважину.\n",
    "\n",
    "Вам предоставлены пробы нефти в трёх регионах: в каждом 10 000 месторождений, где измерили качество нефти и объём её запасов. Постройте модель машинного обучения, которая поможет определить регион, где добыча принесёт наибольшую прибыль. Проанализируйте возможную прибыль и риски техникой *Bootstrap.*\n",
    "\n",
    "Шаги для выбора локации:\n",
    "\n",
    "- В избранном регионе ищут месторождения, для каждого определяют значения признаков;\n",
    "- Строят модель и оценивают объём запасов;\n",
    "- Выбирают месторождения с самым высокими оценками значений. Количество месторождений зависит от бюджета компании и стоимости разработки одной скважины;\n",
    "- Прибыль равна суммарной прибыли отобранных месторождений."
   ]
  },
  {
   "cell_type": "markdown",
   "metadata": {},
   "source": [
    "## Загрузка и подготовка данных"
   ]
  },
  {
   "cell_type": "markdown",
   "metadata": {},
   "source": [
    "### Загрузка и просмотр данных"
   ]
  },
  {
   "cell_type": "code",
   "execution_count": 1,
   "metadata": {},
   "outputs": [
    {
     "name": "stdout",
     "output_type": "stream",
     "text": [
      "Requirement already satisfied: ydata-profiling in /opt/conda/lib/python3.9/site-packages (4.12.0)\n",
      "Requirement already satisfied: numpy<2.2,>=1.16.0 in /opt/conda/lib/python3.9/site-packages (from ydata-profiling) (1.24.4)\n",
      "Requirement already satisfied: PyYAML<6.1,>=5.0.0 in /opt/conda/lib/python3.9/site-packages (from ydata-profiling) (6.0)\n",
      "Requirement already satisfied: wordcloud>=1.9.3 in /opt/conda/lib/python3.9/site-packages (from ydata-profiling) (1.9.3)\n",
      "Requirement already satisfied: numba<1,>=0.56.0 in /opt/conda/lib/python3.9/site-packages (from ydata-profiling) (0.60.0)\n",
      "Requirement already satisfied: scipy<1.14,>=1.4.1 in /opt/conda/lib/python3.9/site-packages (from ydata-profiling) (1.9.1)\n",
      "Requirement already satisfied: matplotlib<3.10,>=3.5 in /opt/conda/lib/python3.9/site-packages (from ydata-profiling) (3.7.3)\n",
      "Requirement already satisfied: jinja2<3.2,>=2.11.1 in /opt/conda/lib/python3.9/site-packages (from ydata-profiling) (3.0.1)\n",
      "Requirement already satisfied: tqdm<5,>=4.48.2 in /opt/conda/lib/python3.9/site-packages (from ydata-profiling) (4.61.2)\n",
      "Requirement already satisfied: visions[type_image_path]<0.7.7,>=0.7.5 in /opt/conda/lib/python3.9/site-packages (from ydata-profiling) (0.7.6)\n",
      "Requirement already satisfied: requests<3,>=2.24.0 in /opt/conda/lib/python3.9/site-packages (from ydata-profiling) (2.25.1)\n",
      "Requirement already satisfied: pydantic>=2 in /opt/conda/lib/python3.9/site-packages (from ydata-profiling) (2.9.2)\n",
      "Requirement already satisfied: multimethod<2,>=1.4 in /opt/conda/lib/python3.9/site-packages (from ydata-profiling) (1.12)\n",
      "Requirement already satisfied: statsmodels<1,>=0.13.2 in /opt/conda/lib/python3.9/site-packages (from ydata-profiling) (0.13.2)\n",
      "Requirement already satisfied: phik<0.13,>=0.11.1 in /opt/conda/lib/python3.9/site-packages (from ydata-profiling) (0.12.4)\n",
      "Requirement already satisfied: seaborn<0.14,>=0.10.1 in /opt/conda/lib/python3.9/site-packages (from ydata-profiling) (0.11.1)\n",
      "Requirement already satisfied: pandas!=1.4.0,<3,>1.1 in /opt/conda/lib/python3.9/site-packages (from ydata-profiling) (2.2.3)\n",
      "Requirement already satisfied: htmlmin==0.1.12 in /opt/conda/lib/python3.9/site-packages (from ydata-profiling) (0.1.12)\n",
      "Requirement already satisfied: dacite>=1.8 in /opt/conda/lib/python3.9/site-packages (from ydata-profiling) (1.8.1)\n",
      "Requirement already satisfied: imagehash==4.3.1 in /opt/conda/lib/python3.9/site-packages (from ydata-profiling) (4.3.1)\n",
      "Requirement already satisfied: typeguard<5,>=3 in /opt/conda/lib/python3.9/site-packages (from ydata-profiling) (4.4.1)\n",
      "Requirement already satisfied: PyWavelets in /opt/conda/lib/python3.9/site-packages (from imagehash==4.3.1->ydata-profiling) (1.6.0)\n",
      "Requirement already satisfied: pillow in /opt/conda/lib/python3.9/site-packages (from imagehash==4.3.1->ydata-profiling) (8.4.0)\n",
      "Requirement already satisfied: MarkupSafe>=2.0 in /opt/conda/lib/python3.9/site-packages (from jinja2<3.2,>=2.11.1->ydata-profiling) (2.1.1)\n",
      "Requirement already satisfied: cycler>=0.10 in /opt/conda/lib/python3.9/site-packages (from matplotlib<3.10,>=3.5->ydata-profiling) (0.11.0)\n",
      "Requirement already satisfied: python-dateutil>=2.7 in /opt/conda/lib/python3.9/site-packages (from matplotlib<3.10,>=3.5->ydata-profiling) (2.9.0.post0)\n",
      "Requirement already satisfied: packaging>=20.0 in /opt/conda/lib/python3.9/site-packages (from matplotlib<3.10,>=3.5->ydata-profiling) (21.3)\n",
      "Requirement already satisfied: contourpy>=1.0.1 in /opt/conda/lib/python3.9/site-packages (from matplotlib<3.10,>=3.5->ydata-profiling) (1.3.0)\n",
      "Requirement already satisfied: fonttools>=4.22.0 in /opt/conda/lib/python3.9/site-packages (from matplotlib<3.10,>=3.5->ydata-profiling) (4.54.1)\n",
      "Requirement already satisfied: kiwisolver>=1.0.1 in /opt/conda/lib/python3.9/site-packages (from matplotlib<3.10,>=3.5->ydata-profiling) (1.4.4)\n",
      "Requirement already satisfied: pyparsing>=2.3.1 in /opt/conda/lib/python3.9/site-packages (from matplotlib<3.10,>=3.5->ydata-profiling) (2.4.7)\n",
      "Requirement already satisfied: importlib-resources>=3.2.0 in /opt/conda/lib/python3.9/site-packages (from matplotlib<3.10,>=3.5->ydata-profiling) (6.4.5)\n",
      "Requirement already satisfied: zipp>=3.1.0 in /opt/conda/lib/python3.9/site-packages (from importlib-resources>=3.2.0->matplotlib<3.10,>=3.5->ydata-profiling) (3.5.0)\n",
      "Requirement already satisfied: llvmlite<0.44,>=0.43.0dev0 in /opt/conda/lib/python3.9/site-packages (from numba<1,>=0.56.0->ydata-profiling) (0.43.0)\n",
      "Requirement already satisfied: pytz>=2020.1 in /opt/conda/lib/python3.9/site-packages (from pandas!=1.4.0,<3,>1.1->ydata-profiling) (2021.1)\n",
      "Requirement already satisfied: tzdata>=2022.7 in /opt/conda/lib/python3.9/site-packages (from pandas!=1.4.0,<3,>1.1->ydata-profiling) (2024.2)\n",
      "Requirement already satisfied: joblib>=0.14.1 in /opt/conda/lib/python3.9/site-packages (from phik<0.13,>=0.11.1->ydata-profiling) (1.1.0)\n",
      "Requirement already satisfied: pydantic-core==2.23.4 in /opt/conda/lib/python3.9/site-packages (from pydantic>=2->ydata-profiling) (2.23.4)\n",
      "Requirement already satisfied: annotated-types>=0.6.0 in /opt/conda/lib/python3.9/site-packages (from pydantic>=2->ydata-profiling) (0.7.0)\n",
      "Requirement already satisfied: typing-extensions>=4.6.1 in /opt/conda/lib/python3.9/site-packages (from pydantic>=2->ydata-profiling) (4.12.2)\n",
      "Requirement already satisfied: six>=1.5 in /opt/conda/lib/python3.9/site-packages (from python-dateutil>=2.7->matplotlib<3.10,>=3.5->ydata-profiling) (1.16.0)\n",
      "Requirement already satisfied: idna<3,>=2.5 in /opt/conda/lib/python3.9/site-packages (from requests<3,>=2.24.0->ydata-profiling) (2.10)\n",
      "Requirement already satisfied: certifi>=2017.4.17 in /opt/conda/lib/python3.9/site-packages (from requests<3,>=2.24.0->ydata-profiling) (2022.6.15)\n",
      "Requirement already satisfied: urllib3<1.27,>=1.21.1 in /opt/conda/lib/python3.9/site-packages (from requests<3,>=2.24.0->ydata-profiling) (1.26.6)\n",
      "Requirement already satisfied: chardet<5,>=3.0.2 in /opt/conda/lib/python3.9/site-packages (from requests<3,>=2.24.0->ydata-profiling) (4.0.0)\n",
      "Requirement already satisfied: patsy>=0.5.2 in /opt/conda/lib/python3.9/site-packages (from statsmodels<1,>=0.13.2->ydata-profiling) (0.5.2)\n",
      "Requirement already satisfied: importlib-metadata>=3.6 in /opt/conda/lib/python3.9/site-packages (from typeguard<5,>=3->ydata-profiling) (4.6.1)\n",
      "Requirement already satisfied: networkx>=2.4 in /opt/conda/lib/python3.9/site-packages (from visions[type_image_path]<0.7.7,>=0.7.5->ydata-profiling) (3.2.1)\n",
      "Requirement already satisfied: attrs>=19.3.0 in /opt/conda/lib/python3.9/site-packages (from visions[type_image_path]<0.7.7,>=0.7.5->ydata-profiling) (21.2.0)\n",
      "Requirement already satisfied: matplotlib==3.7.3 in /opt/conda/lib/python3.9/site-packages (3.7.3)\n",
      "Requirement already satisfied: cycler>=0.10 in /opt/conda/lib/python3.9/site-packages (from matplotlib==3.7.3) (0.11.0)\n",
      "Requirement already satisfied: pillow>=6.2.0 in /opt/conda/lib/python3.9/site-packages (from matplotlib==3.7.3) (8.4.0)\n",
      "Requirement already satisfied: importlib-resources>=3.2.0 in /opt/conda/lib/python3.9/site-packages (from matplotlib==3.7.3) (6.4.5)\n",
      "Requirement already satisfied: contourpy>=1.0.1 in /opt/conda/lib/python3.9/site-packages (from matplotlib==3.7.3) (1.3.0)\n",
      "Requirement already satisfied: packaging>=20.0 in /opt/conda/lib/python3.9/site-packages (from matplotlib==3.7.3) (21.3)\n",
      "Requirement already satisfied: python-dateutil>=2.7 in /opt/conda/lib/python3.9/site-packages (from matplotlib==3.7.3) (2.9.0.post0)\n",
      "Requirement already satisfied: kiwisolver>=1.0.1 in /opt/conda/lib/python3.9/site-packages (from matplotlib==3.7.3) (1.4.4)\n",
      "Requirement already satisfied: numpy<2,>=1.20 in /opt/conda/lib/python3.9/site-packages (from matplotlib==3.7.3) (1.24.4)\n",
      "Requirement already satisfied: fonttools>=4.22.0 in /opt/conda/lib/python3.9/site-packages (from matplotlib==3.7.3) (4.54.1)\n",
      "Requirement already satisfied: pyparsing>=2.3.1 in /opt/conda/lib/python3.9/site-packages (from matplotlib==3.7.3) (2.4.7)\n",
      "Requirement already satisfied: zipp>=3.1.0 in /opt/conda/lib/python3.9/site-packages (from importlib-resources>=3.2.0->matplotlib==3.7.3) (3.5.0)\n",
      "Requirement already satisfied: six>=1.5 in /opt/conda/lib/python3.9/site-packages (from python-dateutil>=2.7->matplotlib==3.7.3) (1.16.0)\n"
     ]
    }
   ],
   "source": [
    "!pip install ydata-profiling\n",
    "!pip install matplotlib==3.7.3"
   ]
  },
  {
   "cell_type": "code",
   "execution_count": 2,
   "metadata": {},
   "outputs": [],
   "source": [
    "import pandas as pd\n",
    "import matplotlib.pyplot as plt\n",
    "import numpy as np\n",
    "from scipy import stats as st\n",
    "import seaborn as sns\n",
    "import sklearn\n",
    "from sklearn.model_selection import train_test_split\n",
    "from sklearn.linear_model import LinearRegression\n",
    "from sklearn.metrics import mean_absolute_error, r2_score, mean_squared_error\n",
    "from ydata_profiling import ProfileReport\n",
    "import warnings\n",
    "warnings.filterwarnings(\"ignore\")"
   ]
  },
  {
   "cell_type": "code",
   "execution_count": 3,
   "metadata": {},
   "outputs": [],
   "source": [
    "#Константы\n",
    "RANDOM_STATE = 42\n",
    "TEST_SIZE = 0.25\n",
    "POINTS = 500 # количество скважин, исследумых при разведке региона\n",
    "BEST_POINTS = 200 # количество лучших скважин, выбранных при помощи помощью машинного обучения\n",
    "BUDGET = 10e9 # бюджет на разработку скважин в регионе (тыс. рублей)\n",
    "BARREL_PRICE = 450e3 # доход с каждой единицы продукта (тыс. рублей на 1 тыс. баррелей)"
   ]
  },
  {
   "cell_type": "code",
   "execution_count": 4,
   "metadata": {},
   "outputs": [],
   "source": [
    "# Выгрузка данных\n",
    "region = pd.read_csv('/datasets/geo_data_0.csv', decimal = '.')\n",
    "region_1 = pd.read_csv('/datasets/geo_data_1.csv', decimal = '.')\n",
    "region_2 = pd.read_csv('/datasets/geo_data_2.csv', decimal = '.')"
   ]
  },
  {
   "cell_type": "code",
   "execution_count": 5,
   "metadata": {},
   "outputs": [],
   "source": [
    "# функция вывода информации о данных\n",
    "def data_info(data):\n",
    "    display(data.head(20))\n",
    "    data.info()"
   ]
  },
  {
   "cell_type": "code",
   "execution_count": 6,
   "metadata": {},
   "outputs": [
    {
     "data": {
      "text/html": [
       "<div>\n",
       "<style scoped>\n",
       "    .dataframe tbody tr th:only-of-type {\n",
       "        vertical-align: middle;\n",
       "    }\n",
       "\n",
       "    .dataframe tbody tr th {\n",
       "        vertical-align: top;\n",
       "    }\n",
       "\n",
       "    .dataframe thead th {\n",
       "        text-align: right;\n",
       "    }\n",
       "</style>\n",
       "<table border=\"1\" class=\"dataframe\">\n",
       "  <thead>\n",
       "    <tr style=\"text-align: right;\">\n",
       "      <th></th>\n",
       "      <th>id</th>\n",
       "      <th>f0</th>\n",
       "      <th>f1</th>\n",
       "      <th>f2</th>\n",
       "      <th>product</th>\n",
       "    </tr>\n",
       "  </thead>\n",
       "  <tbody>\n",
       "    <tr>\n",
       "      <th>0</th>\n",
       "      <td>txEyH</td>\n",
       "      <td>0.705745</td>\n",
       "      <td>-0.497823</td>\n",
       "      <td>1.221170</td>\n",
       "      <td>105.280062</td>\n",
       "    </tr>\n",
       "    <tr>\n",
       "      <th>1</th>\n",
       "      <td>2acmU</td>\n",
       "      <td>1.334711</td>\n",
       "      <td>-0.340164</td>\n",
       "      <td>4.365080</td>\n",
       "      <td>73.037750</td>\n",
       "    </tr>\n",
       "    <tr>\n",
       "      <th>2</th>\n",
       "      <td>409Wp</td>\n",
       "      <td>1.022732</td>\n",
       "      <td>0.151990</td>\n",
       "      <td>1.419926</td>\n",
       "      <td>85.265647</td>\n",
       "    </tr>\n",
       "    <tr>\n",
       "      <th>3</th>\n",
       "      <td>iJLyR</td>\n",
       "      <td>-0.032172</td>\n",
       "      <td>0.139033</td>\n",
       "      <td>2.978566</td>\n",
       "      <td>168.620776</td>\n",
       "    </tr>\n",
       "    <tr>\n",
       "      <th>4</th>\n",
       "      <td>Xdl7t</td>\n",
       "      <td>1.988431</td>\n",
       "      <td>0.155413</td>\n",
       "      <td>4.751769</td>\n",
       "      <td>154.036647</td>\n",
       "    </tr>\n",
       "    <tr>\n",
       "      <th>5</th>\n",
       "      <td>wX4Hy</td>\n",
       "      <td>0.969570</td>\n",
       "      <td>0.489775</td>\n",
       "      <td>-0.735383</td>\n",
       "      <td>64.741541</td>\n",
       "    </tr>\n",
       "    <tr>\n",
       "      <th>6</th>\n",
       "      <td>tL6pL</td>\n",
       "      <td>0.645075</td>\n",
       "      <td>0.530656</td>\n",
       "      <td>1.780266</td>\n",
       "      <td>49.055285</td>\n",
       "    </tr>\n",
       "    <tr>\n",
       "      <th>7</th>\n",
       "      <td>BYPU6</td>\n",
       "      <td>-0.400648</td>\n",
       "      <td>0.808337</td>\n",
       "      <td>-5.624670</td>\n",
       "      <td>72.943292</td>\n",
       "    </tr>\n",
       "    <tr>\n",
       "      <th>8</th>\n",
       "      <td>j9Oui</td>\n",
       "      <td>0.643105</td>\n",
       "      <td>-0.551583</td>\n",
       "      <td>2.372141</td>\n",
       "      <td>113.356160</td>\n",
       "    </tr>\n",
       "    <tr>\n",
       "      <th>9</th>\n",
       "      <td>OLuZU</td>\n",
       "      <td>2.173381</td>\n",
       "      <td>0.563698</td>\n",
       "      <td>9.441852</td>\n",
       "      <td>127.910945</td>\n",
       "    </tr>\n",
       "    <tr>\n",
       "      <th>10</th>\n",
       "      <td>b8WQ6</td>\n",
       "      <td>0.371066</td>\n",
       "      <td>-0.036585</td>\n",
       "      <td>0.009208</td>\n",
       "      <td>70.326617</td>\n",
       "    </tr>\n",
       "    <tr>\n",
       "      <th>11</th>\n",
       "      <td>1YYm1</td>\n",
       "      <td>0.015920</td>\n",
       "      <td>1.062729</td>\n",
       "      <td>-0.722248</td>\n",
       "      <td>45.110381</td>\n",
       "    </tr>\n",
       "    <tr>\n",
       "      <th>12</th>\n",
       "      <td>zIYPq</td>\n",
       "      <td>-0.276476</td>\n",
       "      <td>0.924865</td>\n",
       "      <td>0.095584</td>\n",
       "      <td>89.158678</td>\n",
       "    </tr>\n",
       "    <tr>\n",
       "      <th>13</th>\n",
       "      <td>iqTqq</td>\n",
       "      <td>0.212696</td>\n",
       "      <td>-0.111147</td>\n",
       "      <td>5.770095</td>\n",
       "      <td>164.298520</td>\n",
       "    </tr>\n",
       "    <tr>\n",
       "      <th>14</th>\n",
       "      <td>Ct5yY</td>\n",
       "      <td>-0.018578</td>\n",
       "      <td>0.187516</td>\n",
       "      <td>2.944683</td>\n",
       "      <td>158.633720</td>\n",
       "    </tr>\n",
       "    <tr>\n",
       "      <th>15</th>\n",
       "      <td>Q77WQ</td>\n",
       "      <td>1.324566</td>\n",
       "      <td>-0.419149</td>\n",
       "      <td>-4.097429</td>\n",
       "      <td>60.677876</td>\n",
       "    </tr>\n",
       "    <tr>\n",
       "      <th>16</th>\n",
       "      <td>6vJcD</td>\n",
       "      <td>-0.000247</td>\n",
       "      <td>0.360146</td>\n",
       "      <td>0.794115</td>\n",
       "      <td>163.143987</td>\n",
       "    </tr>\n",
       "    <tr>\n",
       "      <th>17</th>\n",
       "      <td>AgRR6</td>\n",
       "      <td>0.380913</td>\n",
       "      <td>1.114558</td>\n",
       "      <td>0.992377</td>\n",
       "      <td>125.942543</td>\n",
       "    </tr>\n",
       "    <tr>\n",
       "      <th>18</th>\n",
       "      <td>tgSSC</td>\n",
       "      <td>0.160021</td>\n",
       "      <td>0.788151</td>\n",
       "      <td>7.629164</td>\n",
       "      <td>113.793566</td>\n",
       "    </tr>\n",
       "    <tr>\n",
       "      <th>19</th>\n",
       "      <td>s2g8E</td>\n",
       "      <td>0.593078</td>\n",
       "      <td>-0.414964</td>\n",
       "      <td>-0.715774</td>\n",
       "      <td>28.207978</td>\n",
       "    </tr>\n",
       "  </tbody>\n",
       "</table>\n",
       "</div>"
      ],
      "text/plain": [
       "       id        f0        f1        f2     product\n",
       "0   txEyH  0.705745 -0.497823  1.221170  105.280062\n",
       "1   2acmU  1.334711 -0.340164  4.365080   73.037750\n",
       "2   409Wp  1.022732  0.151990  1.419926   85.265647\n",
       "3   iJLyR -0.032172  0.139033  2.978566  168.620776\n",
       "4   Xdl7t  1.988431  0.155413  4.751769  154.036647\n",
       "5   wX4Hy  0.969570  0.489775 -0.735383   64.741541\n",
       "6   tL6pL  0.645075  0.530656  1.780266   49.055285\n",
       "7   BYPU6 -0.400648  0.808337 -5.624670   72.943292\n",
       "8   j9Oui  0.643105 -0.551583  2.372141  113.356160\n",
       "9   OLuZU  2.173381  0.563698  9.441852  127.910945\n",
       "10  b8WQ6  0.371066 -0.036585  0.009208   70.326617\n",
       "11  1YYm1  0.015920  1.062729 -0.722248   45.110381\n",
       "12  zIYPq -0.276476  0.924865  0.095584   89.158678\n",
       "13  iqTqq  0.212696 -0.111147  5.770095  164.298520\n",
       "14  Ct5yY -0.018578  0.187516  2.944683  158.633720\n",
       "15  Q77WQ  1.324566 -0.419149 -4.097429   60.677876\n",
       "16  6vJcD -0.000247  0.360146  0.794115  163.143987\n",
       "17  AgRR6  0.380913  1.114558  0.992377  125.942543\n",
       "18  tgSSC  0.160021  0.788151  7.629164  113.793566\n",
       "19  s2g8E  0.593078 -0.414964 -0.715774   28.207978"
      ]
     },
     "metadata": {},
     "output_type": "display_data"
    },
    {
     "name": "stdout",
     "output_type": "stream",
     "text": [
      "<class 'pandas.core.frame.DataFrame'>\n",
      "RangeIndex: 100000 entries, 0 to 99999\n",
      "Data columns (total 5 columns):\n",
      " #   Column   Non-Null Count   Dtype  \n",
      "---  ------   --------------   -----  \n",
      " 0   id       100000 non-null  object \n",
      " 1   f0       100000 non-null  float64\n",
      " 2   f1       100000 non-null  float64\n",
      " 3   f2       100000 non-null  float64\n",
      " 4   product  100000 non-null  float64\n",
      "dtypes: float64(4), object(1)\n",
      "memory usage: 3.8+ MB\n"
     ]
    }
   ],
   "source": [
    "data_info(region)"
   ]
  },
  {
   "cell_type": "code",
   "execution_count": 7,
   "metadata": {},
   "outputs": [
    {
     "data": {
      "text/html": [
       "<div>\n",
       "<style scoped>\n",
       "    .dataframe tbody tr th:only-of-type {\n",
       "        vertical-align: middle;\n",
       "    }\n",
       "\n",
       "    .dataframe tbody tr th {\n",
       "        vertical-align: top;\n",
       "    }\n",
       "\n",
       "    .dataframe thead th {\n",
       "        text-align: right;\n",
       "    }\n",
       "</style>\n",
       "<table border=\"1\" class=\"dataframe\">\n",
       "  <thead>\n",
       "    <tr style=\"text-align: right;\">\n",
       "      <th></th>\n",
       "      <th>id</th>\n",
       "      <th>f0</th>\n",
       "      <th>f1</th>\n",
       "      <th>f2</th>\n",
       "      <th>product</th>\n",
       "    </tr>\n",
       "  </thead>\n",
       "  <tbody>\n",
       "    <tr>\n",
       "      <th>0</th>\n",
       "      <td>kBEdx</td>\n",
       "      <td>-15.001348</td>\n",
       "      <td>-8.276000</td>\n",
       "      <td>-0.005876</td>\n",
       "      <td>3.179103</td>\n",
       "    </tr>\n",
       "    <tr>\n",
       "      <th>1</th>\n",
       "      <td>62mP7</td>\n",
       "      <td>14.272088</td>\n",
       "      <td>-3.475083</td>\n",
       "      <td>0.999183</td>\n",
       "      <td>26.953261</td>\n",
       "    </tr>\n",
       "    <tr>\n",
       "      <th>2</th>\n",
       "      <td>vyE1P</td>\n",
       "      <td>6.263187</td>\n",
       "      <td>-5.948386</td>\n",
       "      <td>5.001160</td>\n",
       "      <td>134.766305</td>\n",
       "    </tr>\n",
       "    <tr>\n",
       "      <th>3</th>\n",
       "      <td>KcrkZ</td>\n",
       "      <td>-13.081196</td>\n",
       "      <td>-11.506057</td>\n",
       "      <td>4.999415</td>\n",
       "      <td>137.945408</td>\n",
       "    </tr>\n",
       "    <tr>\n",
       "      <th>4</th>\n",
       "      <td>AHL4O</td>\n",
       "      <td>12.702195</td>\n",
       "      <td>-8.147433</td>\n",
       "      <td>5.004363</td>\n",
       "      <td>134.766305</td>\n",
       "    </tr>\n",
       "    <tr>\n",
       "      <th>5</th>\n",
       "      <td>HHckp</td>\n",
       "      <td>-3.327590</td>\n",
       "      <td>-2.205276</td>\n",
       "      <td>3.003647</td>\n",
       "      <td>84.038886</td>\n",
       "    </tr>\n",
       "    <tr>\n",
       "      <th>6</th>\n",
       "      <td>h5Ujo</td>\n",
       "      <td>-11.142655</td>\n",
       "      <td>-10.133399</td>\n",
       "      <td>4.002382</td>\n",
       "      <td>110.992147</td>\n",
       "    </tr>\n",
       "    <tr>\n",
       "      <th>7</th>\n",
       "      <td>muH9x</td>\n",
       "      <td>4.234715</td>\n",
       "      <td>-0.001354</td>\n",
       "      <td>2.004588</td>\n",
       "      <td>53.906522</td>\n",
       "    </tr>\n",
       "    <tr>\n",
       "      <th>8</th>\n",
       "      <td>YiRkx</td>\n",
       "      <td>13.355129</td>\n",
       "      <td>-0.332068</td>\n",
       "      <td>4.998647</td>\n",
       "      <td>134.766305</td>\n",
       "    </tr>\n",
       "    <tr>\n",
       "      <th>9</th>\n",
       "      <td>jG6Gi</td>\n",
       "      <td>1.069227</td>\n",
       "      <td>-11.025667</td>\n",
       "      <td>4.997844</td>\n",
       "      <td>137.945408</td>\n",
       "    </tr>\n",
       "    <tr>\n",
       "      <th>10</th>\n",
       "      <td>7uHUe</td>\n",
       "      <td>11.777049</td>\n",
       "      <td>-5.334084</td>\n",
       "      <td>2.003033</td>\n",
       "      <td>53.906522</td>\n",
       "    </tr>\n",
       "    <tr>\n",
       "      <th>11</th>\n",
       "      <td>OXyvW</td>\n",
       "      <td>16.320755</td>\n",
       "      <td>-0.562946</td>\n",
       "      <td>-0.001783</td>\n",
       "      <td>0.000000</td>\n",
       "    </tr>\n",
       "    <tr>\n",
       "      <th>12</th>\n",
       "      <td>cB8re</td>\n",
       "      <td>7.736313</td>\n",
       "      <td>-6.093374</td>\n",
       "      <td>3.982531</td>\n",
       "      <td>107.813044</td>\n",
       "    </tr>\n",
       "    <tr>\n",
       "      <th>13</th>\n",
       "      <td>igmai</td>\n",
       "      <td>6.695604</td>\n",
       "      <td>-0.749449</td>\n",
       "      <td>-0.007630</td>\n",
       "      <td>0.000000</td>\n",
       "    </tr>\n",
       "    <tr>\n",
       "      <th>14</th>\n",
       "      <td>3OdkE</td>\n",
       "      <td>-10.985487</td>\n",
       "      <td>-5.605994</td>\n",
       "      <td>2.991130</td>\n",
       "      <td>84.038886</td>\n",
       "    </tr>\n",
       "    <tr>\n",
       "      <th>15</th>\n",
       "      <td>3tVUO</td>\n",
       "      <td>-0.347599</td>\n",
       "      <td>-6.275884</td>\n",
       "      <td>-0.003448</td>\n",
       "      <td>3.179103</td>\n",
       "    </tr>\n",
       "    <tr>\n",
       "      <th>16</th>\n",
       "      <td>siveY</td>\n",
       "      <td>12.300570</td>\n",
       "      <td>2.944454</td>\n",
       "      <td>2.005541</td>\n",
       "      <td>53.906522</td>\n",
       "    </tr>\n",
       "    <tr>\n",
       "      <th>17</th>\n",
       "      <td>gIqzq</td>\n",
       "      <td>8.900460</td>\n",
       "      <td>-5.632857</td>\n",
       "      <td>4.994324</td>\n",
       "      <td>134.766305</td>\n",
       "    </tr>\n",
       "    <tr>\n",
       "      <th>18</th>\n",
       "      <td>zO5EU</td>\n",
       "      <td>-13.412826</td>\n",
       "      <td>-4.729495</td>\n",
       "      <td>2.998590</td>\n",
       "      <td>84.038886</td>\n",
       "    </tr>\n",
       "    <tr>\n",
       "      <th>19</th>\n",
       "      <td>dkcEb</td>\n",
       "      <td>-4.373526</td>\n",
       "      <td>-8.590017</td>\n",
       "      <td>2.995379</td>\n",
       "      <td>84.038886</td>\n",
       "    </tr>\n",
       "  </tbody>\n",
       "</table>\n",
       "</div>"
      ],
      "text/plain": [
       "       id         f0         f1        f2     product\n",
       "0   kBEdx -15.001348  -8.276000 -0.005876    3.179103\n",
       "1   62mP7  14.272088  -3.475083  0.999183   26.953261\n",
       "2   vyE1P   6.263187  -5.948386  5.001160  134.766305\n",
       "3   KcrkZ -13.081196 -11.506057  4.999415  137.945408\n",
       "4   AHL4O  12.702195  -8.147433  5.004363  134.766305\n",
       "5   HHckp  -3.327590  -2.205276  3.003647   84.038886\n",
       "6   h5Ujo -11.142655 -10.133399  4.002382  110.992147\n",
       "7   muH9x   4.234715  -0.001354  2.004588   53.906522\n",
       "8   YiRkx  13.355129  -0.332068  4.998647  134.766305\n",
       "9   jG6Gi   1.069227 -11.025667  4.997844  137.945408\n",
       "10  7uHUe  11.777049  -5.334084  2.003033   53.906522\n",
       "11  OXyvW  16.320755  -0.562946 -0.001783    0.000000\n",
       "12  cB8re   7.736313  -6.093374  3.982531  107.813044\n",
       "13  igmai   6.695604  -0.749449 -0.007630    0.000000\n",
       "14  3OdkE -10.985487  -5.605994  2.991130   84.038886\n",
       "15  3tVUO  -0.347599  -6.275884 -0.003448    3.179103\n",
       "16  siveY  12.300570   2.944454  2.005541   53.906522\n",
       "17  gIqzq   8.900460  -5.632857  4.994324  134.766305\n",
       "18  zO5EU -13.412826  -4.729495  2.998590   84.038886\n",
       "19  dkcEb  -4.373526  -8.590017  2.995379   84.038886"
      ]
     },
     "metadata": {},
     "output_type": "display_data"
    },
    {
     "name": "stdout",
     "output_type": "stream",
     "text": [
      "<class 'pandas.core.frame.DataFrame'>\n",
      "RangeIndex: 100000 entries, 0 to 99999\n",
      "Data columns (total 5 columns):\n",
      " #   Column   Non-Null Count   Dtype  \n",
      "---  ------   --------------   -----  \n",
      " 0   id       100000 non-null  object \n",
      " 1   f0       100000 non-null  float64\n",
      " 2   f1       100000 non-null  float64\n",
      " 3   f2       100000 non-null  float64\n",
      " 4   product  100000 non-null  float64\n",
      "dtypes: float64(4), object(1)\n",
      "memory usage: 3.8+ MB\n"
     ]
    }
   ],
   "source": [
    "data_info(region_1)"
   ]
  },
  {
   "cell_type": "code",
   "execution_count": 8,
   "metadata": {},
   "outputs": [
    {
     "data": {
      "text/html": [
       "<div>\n",
       "<style scoped>\n",
       "    .dataframe tbody tr th:only-of-type {\n",
       "        vertical-align: middle;\n",
       "    }\n",
       "\n",
       "    .dataframe tbody tr th {\n",
       "        vertical-align: top;\n",
       "    }\n",
       "\n",
       "    .dataframe thead th {\n",
       "        text-align: right;\n",
       "    }\n",
       "</style>\n",
       "<table border=\"1\" class=\"dataframe\">\n",
       "  <thead>\n",
       "    <tr style=\"text-align: right;\">\n",
       "      <th></th>\n",
       "      <th>id</th>\n",
       "      <th>f0</th>\n",
       "      <th>f1</th>\n",
       "      <th>f2</th>\n",
       "      <th>product</th>\n",
       "    </tr>\n",
       "  </thead>\n",
       "  <tbody>\n",
       "    <tr>\n",
       "      <th>0</th>\n",
       "      <td>fwXo0</td>\n",
       "      <td>-1.146987</td>\n",
       "      <td>0.963328</td>\n",
       "      <td>-0.828965</td>\n",
       "      <td>27.758673</td>\n",
       "    </tr>\n",
       "    <tr>\n",
       "      <th>1</th>\n",
       "      <td>WJtFt</td>\n",
       "      <td>0.262778</td>\n",
       "      <td>0.269839</td>\n",
       "      <td>-2.530187</td>\n",
       "      <td>56.069697</td>\n",
       "    </tr>\n",
       "    <tr>\n",
       "      <th>2</th>\n",
       "      <td>ovLUW</td>\n",
       "      <td>0.194587</td>\n",
       "      <td>0.289035</td>\n",
       "      <td>-5.586433</td>\n",
       "      <td>62.871910</td>\n",
       "    </tr>\n",
       "    <tr>\n",
       "      <th>3</th>\n",
       "      <td>q6cA6</td>\n",
       "      <td>2.236060</td>\n",
       "      <td>-0.553760</td>\n",
       "      <td>0.930038</td>\n",
       "      <td>114.572842</td>\n",
       "    </tr>\n",
       "    <tr>\n",
       "      <th>4</th>\n",
       "      <td>WPMUX</td>\n",
       "      <td>-0.515993</td>\n",
       "      <td>1.716266</td>\n",
       "      <td>5.899011</td>\n",
       "      <td>149.600746</td>\n",
       "    </tr>\n",
       "    <tr>\n",
       "      <th>5</th>\n",
       "      <td>LzZXx</td>\n",
       "      <td>-0.758092</td>\n",
       "      <td>0.710691</td>\n",
       "      <td>2.585887</td>\n",
       "      <td>90.222465</td>\n",
       "    </tr>\n",
       "    <tr>\n",
       "      <th>6</th>\n",
       "      <td>WBHRv</td>\n",
       "      <td>-0.574891</td>\n",
       "      <td>0.317727</td>\n",
       "      <td>1.773745</td>\n",
       "      <td>45.641478</td>\n",
       "    </tr>\n",
       "    <tr>\n",
       "      <th>7</th>\n",
       "      <td>XO8fn</td>\n",
       "      <td>-1.906649</td>\n",
       "      <td>-2.458350</td>\n",
       "      <td>-0.177097</td>\n",
       "      <td>72.480640</td>\n",
       "    </tr>\n",
       "    <tr>\n",
       "      <th>8</th>\n",
       "      <td>ybmQ5</td>\n",
       "      <td>1.776292</td>\n",
       "      <td>-0.279356</td>\n",
       "      <td>3.004156</td>\n",
       "      <td>106.616832</td>\n",
       "    </tr>\n",
       "    <tr>\n",
       "      <th>9</th>\n",
       "      <td>OilcN</td>\n",
       "      <td>-1.214452</td>\n",
       "      <td>-0.439314</td>\n",
       "      <td>5.922514</td>\n",
       "      <td>52.954532</td>\n",
       "    </tr>\n",
       "    <tr>\n",
       "      <th>10</th>\n",
       "      <td>myq2g</td>\n",
       "      <td>0.628659</td>\n",
       "      <td>-2.120049</td>\n",
       "      <td>5.362437</td>\n",
       "      <td>166.799132</td>\n",
       "    </tr>\n",
       "    <tr>\n",
       "      <th>11</th>\n",
       "      <td>V9R1y</td>\n",
       "      <td>-0.544565</td>\n",
       "      <td>0.039088</td>\n",
       "      <td>8.635293</td>\n",
       "      <td>150.859435</td>\n",
       "    </tr>\n",
       "    <tr>\n",
       "      <th>12</th>\n",
       "      <td>bKDo0</td>\n",
       "      <td>-0.960453</td>\n",
       "      <td>-0.127113</td>\n",
       "      <td>7.764734</td>\n",
       "      <td>96.910855</td>\n",
       "    </tr>\n",
       "    <tr>\n",
       "      <th>13</th>\n",
       "      <td>eXvhs</td>\n",
       "      <td>1.432891</td>\n",
       "      <td>-1.242074</td>\n",
       "      <td>3.557168</td>\n",
       "      <td>8.704162</td>\n",
       "    </tr>\n",
       "    <tr>\n",
       "      <th>14</th>\n",
       "      <td>wI4j3</td>\n",
       "      <td>-0.935464</td>\n",
       "      <td>2.420523</td>\n",
       "      <td>1.150536</td>\n",
       "      <td>116.829811</td>\n",
       "    </tr>\n",
       "    <tr>\n",
       "      <th>15</th>\n",
       "      <td>XOWTx</td>\n",
       "      <td>-2.628353</td>\n",
       "      <td>0.937303</td>\n",
       "      <td>0.057847</td>\n",
       "      <td>68.655498</td>\n",
       "    </tr>\n",
       "    <tr>\n",
       "      <th>16</th>\n",
       "      <td>2oVFv</td>\n",
       "      <td>-0.428050</td>\n",
       "      <td>-2.246556</td>\n",
       "      <td>6.970420</td>\n",
       "      <td>84.500464</td>\n",
       "    </tr>\n",
       "    <tr>\n",
       "      <th>17</th>\n",
       "      <td>0wbDA</td>\n",
       "      <td>0.735307</td>\n",
       "      <td>0.913124</td>\n",
       "      <td>7.899539</td>\n",
       "      <td>96.284701</td>\n",
       "    </tr>\n",
       "    <tr>\n",
       "      <th>18</th>\n",
       "      <td>NhHaR</td>\n",
       "      <td>0.706261</td>\n",
       "      <td>-0.993553</td>\n",
       "      <td>3.155582</td>\n",
       "      <td>48.052268</td>\n",
       "    </tr>\n",
       "    <tr>\n",
       "      <th>19</th>\n",
       "      <td>DMNMZ</td>\n",
       "      <td>-1.867846</td>\n",
       "      <td>2.744144</td>\n",
       "      <td>5.918278</td>\n",
       "      <td>153.815137</td>\n",
       "    </tr>\n",
       "  </tbody>\n",
       "</table>\n",
       "</div>"
      ],
      "text/plain": [
       "       id        f0        f1        f2     product\n",
       "0   fwXo0 -1.146987  0.963328 -0.828965   27.758673\n",
       "1   WJtFt  0.262778  0.269839 -2.530187   56.069697\n",
       "2   ovLUW  0.194587  0.289035 -5.586433   62.871910\n",
       "3   q6cA6  2.236060 -0.553760  0.930038  114.572842\n",
       "4   WPMUX -0.515993  1.716266  5.899011  149.600746\n",
       "5   LzZXx -0.758092  0.710691  2.585887   90.222465\n",
       "6   WBHRv -0.574891  0.317727  1.773745   45.641478\n",
       "7   XO8fn -1.906649 -2.458350 -0.177097   72.480640\n",
       "8   ybmQ5  1.776292 -0.279356  3.004156  106.616832\n",
       "9   OilcN -1.214452 -0.439314  5.922514   52.954532\n",
       "10  myq2g  0.628659 -2.120049  5.362437  166.799132\n",
       "11  V9R1y -0.544565  0.039088  8.635293  150.859435\n",
       "12  bKDo0 -0.960453 -0.127113  7.764734   96.910855\n",
       "13  eXvhs  1.432891 -1.242074  3.557168    8.704162\n",
       "14  wI4j3 -0.935464  2.420523  1.150536  116.829811\n",
       "15  XOWTx -2.628353  0.937303  0.057847   68.655498\n",
       "16  2oVFv -0.428050 -2.246556  6.970420   84.500464\n",
       "17  0wbDA  0.735307  0.913124  7.899539   96.284701\n",
       "18  NhHaR  0.706261 -0.993553  3.155582   48.052268\n",
       "19  DMNMZ -1.867846  2.744144  5.918278  153.815137"
      ]
     },
     "metadata": {},
     "output_type": "display_data"
    },
    {
     "name": "stdout",
     "output_type": "stream",
     "text": [
      "<class 'pandas.core.frame.DataFrame'>\n",
      "RangeIndex: 100000 entries, 0 to 99999\n",
      "Data columns (total 5 columns):\n",
      " #   Column   Non-Null Count   Dtype  \n",
      "---  ------   --------------   -----  \n",
      " 0   id       100000 non-null  object \n",
      " 1   f0       100000 non-null  float64\n",
      " 2   f1       100000 non-null  float64\n",
      " 3   f2       100000 non-null  float64\n",
      " 4   product  100000 non-null  float64\n",
      "dtypes: float64(4), object(1)\n",
      "memory usage: 3.8+ MB\n"
     ]
    }
   ],
   "source": [
    "data_info(region_2)"
   ]
  },
  {
   "cell_type": "markdown",
   "metadata": {},
   "source": [
    "### Предобработка данных"
   ]
  },
  {
   "cell_type": "code",
   "execution_count": 9,
   "metadata": {},
   "outputs": [],
   "source": [
    "# функция вывода пропусков и дупликатов\n",
    "def data_dup_isna(data):\n",
    "    print('Количество дупликатов')\n",
    "    display(data.duplicated().sum())\n",
    "    print('Количество пропусков')\n",
    "    display(data.isna().sum())"
   ]
  },
  {
   "cell_type": "code",
   "execution_count": 10,
   "metadata": {},
   "outputs": [
    {
     "name": "stdout",
     "output_type": "stream",
     "text": [
      "Количество дупликатов\n"
     ]
    },
    {
     "data": {
      "text/plain": [
       "0"
      ]
     },
     "metadata": {},
     "output_type": "display_data"
    },
    {
     "name": "stdout",
     "output_type": "stream",
     "text": [
      "Количество пропусков\n"
     ]
    },
    {
     "data": {
      "text/plain": [
       "id         0\n",
       "f0         0\n",
       "f1         0\n",
       "f2         0\n",
       "product    0\n",
       "dtype: int64"
      ]
     },
     "metadata": {},
     "output_type": "display_data"
    }
   ],
   "source": [
    "data_dup_isna(region)"
   ]
  },
  {
   "cell_type": "code",
   "execution_count": 11,
   "metadata": {},
   "outputs": [
    {
     "name": "stdout",
     "output_type": "stream",
     "text": [
      "Количество дупликатов\n"
     ]
    },
    {
     "data": {
      "text/plain": [
       "0"
      ]
     },
     "metadata": {},
     "output_type": "display_data"
    },
    {
     "name": "stdout",
     "output_type": "stream",
     "text": [
      "Количество пропусков\n"
     ]
    },
    {
     "data": {
      "text/plain": [
       "id         0\n",
       "f0         0\n",
       "f1         0\n",
       "f2         0\n",
       "product    0\n",
       "dtype: int64"
      ]
     },
     "metadata": {},
     "output_type": "display_data"
    }
   ],
   "source": [
    "data_dup_isna(region_1)"
   ]
  },
  {
   "cell_type": "code",
   "execution_count": 12,
   "metadata": {},
   "outputs": [
    {
     "name": "stdout",
     "output_type": "stream",
     "text": [
      "Количество дупликатов\n"
     ]
    },
    {
     "data": {
      "text/plain": [
       "0"
      ]
     },
     "metadata": {},
     "output_type": "display_data"
    },
    {
     "name": "stdout",
     "output_type": "stream",
     "text": [
      "Количество пропусков\n"
     ]
    },
    {
     "data": {
      "text/plain": [
       "id         0\n",
       "f0         0\n",
       "f1         0\n",
       "f2         0\n",
       "product    0\n",
       "dtype: int64"
      ]
     },
     "metadata": {},
     "output_type": "display_data"
    }
   ],
   "source": [
    "data_dup_isna(region_2)"
   ]
  },
  {
   "cell_type": "markdown",
   "metadata": {},
   "source": [
    "В данных отсутсвуют пропуски и дупликаты"
   ]
  },
  {
   "cell_type": "markdown",
   "metadata": {},
   "source": [
    "### Исследовательский анализ данных"
   ]
  },
  {
   "cell_type": "code",
   "execution_count": 13,
   "metadata": {},
   "outputs": [],
   "source": [
    "def data_hist(data):\n",
    "    for row in data.columns:\n",
    "        if data[row].dtype!=object:\n",
    "            if row == 'id':\n",
    "                continue\n",
    "            else:\n",
    "                plt.hist(data[row], bins = 50)\n",
    "                plt.xlabel(row)\n",
    "                plt.ylabel('count')\n",
    "                plt.title(f'Распределение {row}')\n",
    "                plt.show()"
   ]
  },
  {
   "cell_type": "code",
   "execution_count": 14,
   "metadata": {},
   "outputs": [
    {
     "data": {
      "image/png": "[encoded data removed]",
      "text/plain": [
       "<Figure size 432x288 with 1 Axes>"
      ]
     },
     "metadata": {
      "needs_background": "light"
     },
     "output_type": "display_data"
    },
    {
     "data": {
      "image/png": "[encoded data removed]",
      "text/plain": [
       "<Figure size 432x288 with 1 Axes>"
      ]
     },
     "metadata": {
      "needs_background": "light"
     },
     "output_type": "display_data"
    },
    {
     "data": {
      "image/png": "[encoded data removed]",
      "text/plain": [
       "<Figure size 432x288 with 1 Axes>"
      ]
     },
     "metadata": {
      "needs_background": "light"
     },
     "output_type": "display_data"
    },
    {
     "data": {
      "image/png": "[encoded data removed]",
      "text/plain": [
       "<Figure size 432x288 with 1 Axes>"
      ]
     },
     "metadata": {
      "needs_background": "light"
     },
     "output_type": "display_data"
    }
   ],
   "source": [
    "data_hist(region)"
   ]
  },
  {
   "cell_type": "markdown",
   "metadata": {},
   "source": [
    "Распределение f2 -нормальное, у остальных признаков - ненормальное с множественными пиками."
   ]
  },
  {
   "cell_type": "code",
   "execution_count": 15,
   "metadata": {},
   "outputs": [
    {
     "data": {
      "image/png": "[encoded data removed]",
      "text/plain": [
       "<Figure size 432x288 with 1 Axes>"
      ]
     },
     "metadata": {
      "needs_background": "light"
     },
     "output_type": "display_data"
    },
    {
     "data": {
      "image/png": "[encoded data removed]",
      "text/plain": [
       "<Figure size 432x288 with 1 Axes>"
      ]
     },
     "metadata": {
      "needs_background": "light"
     },
     "output_type": "display_data"
    },
    {
     "data": {
      "image/png": "[encoded data removed]",
      "text/plain": [
       "<Figure size 432x288 with 1 Axes>"
      ]
     },
     "metadata": {
      "needs_background": "light"
     },
     "output_type": "display_data"
    },
    {
     "data": {
      "image/png": "[encoded data removed]",
      "text/plain": [
       "<Figure size 432x288 with 1 Axes>"
      ]
     },
     "metadata": {
      "needs_background": "light"
     },
     "output_type": "display_data"
    }
   ],
   "source": [
    "data_hist(region_1)"
   ]
  },
  {
   "cell_type": "markdown",
   "metadata": {},
   "source": [
    "Распределение f1 -нормальное, у f0 - ненормальное с 2 пиками. Признаки f2 и product в виде дискретных величин."
   ]
  },
  {
   "cell_type": "code",
   "execution_count": 16,
   "metadata": {},
   "outputs": [
    {
     "data": {
      "image/png": "[encoded data removed]",
      "text/plain": [
       "<Figure size 432x288 with 1 Axes>"
      ]
     },
     "metadata": {
      "needs_background": "light"
     },
     "output_type": "display_data"
    },
    {
     "data": {
      "image/png": "[encoded data removed]",
      "text/plain": [
       "<Figure size 432x288 with 1 Axes>"
      ]
     },
     "metadata": {
      "needs_background": "light"
     },
     "output_type": "display_data"
    },
    {
     "data": {
      "image/png": "[encoded data removed]",
      "text/plain": [
       "<Figure size 432x288 with 1 Axes>"
      ]
     },
     "metadata": {
      "needs_background": "light"
     },
     "output_type": "display_data"
    },
    {
     "data": {
      "image/png": "[encoded data removed]",
      "text/plain": [
       "<Figure size 432x288 with 1 Axes>"
      ]
     },
     "metadata": {
      "needs_background": "light"
     },
     "output_type": "display_data"
    }
   ],
   "source": [
    "data_hist(region_2)"
   ]
  },
  {
   "cell_type": "markdown",
   "metadata": {},
   "source": [
    "Распределение всех признаков, кроме product, нормальное."
   ]
  },
  {
   "cell_type": "markdown",
   "metadata": {},
   "source": [
    "### Корреляционный анализ"
   ]
  },
  {
   "cell_type": "code",
   "execution_count": 17,
   "metadata": {},
   "outputs": [
    {
     "data": {
      "text/html": [
       "<div>\n",
       "<style scoped>\n",
       "    .dataframe tbody tr th:only-of-type {\n",
       "        vertical-align: middle;\n",
       "    }\n",
       "\n",
       "    .dataframe tbody tr th {\n",
       "        vertical-align: top;\n",
       "    }\n",
       "\n",
       "    .dataframe thead th {\n",
       "        text-align: right;\n",
       "    }\n",
       "</style>\n",
       "<table border=\"1\" class=\"dataframe\">\n",
       "  <thead>\n",
       "    <tr style=\"text-align: right;\">\n",
       "      <th></th>\n",
       "      <th>f0</th>\n",
       "      <th>f1</th>\n",
       "      <th>f2</th>\n",
       "      <th>product</th>\n",
       "    </tr>\n",
       "  </thead>\n",
       "  <tbody>\n",
       "    <tr>\n",
       "      <th>f0</th>\n",
       "      <td>1.000000</td>\n",
       "      <td>-0.440723</td>\n",
       "      <td>-0.003153</td>\n",
       "      <td>0.143536</td>\n",
       "    </tr>\n",
       "    <tr>\n",
       "      <th>f1</th>\n",
       "      <td>-0.440723</td>\n",
       "      <td>1.000000</td>\n",
       "      <td>0.001724</td>\n",
       "      <td>-0.192356</td>\n",
       "    </tr>\n",
       "    <tr>\n",
       "      <th>f2</th>\n",
       "      <td>-0.003153</td>\n",
       "      <td>0.001724</td>\n",
       "      <td>1.000000</td>\n",
       "      <td>0.483663</td>\n",
       "    </tr>\n",
       "    <tr>\n",
       "      <th>product</th>\n",
       "      <td>0.143536</td>\n",
       "      <td>-0.192356</td>\n",
       "      <td>0.483663</td>\n",
       "      <td>1.000000</td>\n",
       "    </tr>\n",
       "  </tbody>\n",
       "</table>\n",
       "</div>"
      ],
      "text/plain": [
       "               f0        f1        f2   product\n",
       "f0       1.000000 -0.440723 -0.003153  0.143536\n",
       "f1      -0.440723  1.000000  0.001724 -0.192356\n",
       "f2      -0.003153  0.001724  1.000000  0.483663\n",
       "product  0.143536 -0.192356  0.483663  1.000000"
      ]
     },
     "execution_count": 17,
     "metadata": {},
     "output_type": "execute_result"
    }
   ],
   "source": [
    "region.corr(numeric_only=True)"
   ]
  },
  {
   "cell_type": "code",
   "execution_count": 18,
   "metadata": {},
   "outputs": [
    {
     "data": {
      "text/html": [
       "<div>\n",
       "<style scoped>\n",
       "    .dataframe tbody tr th:only-of-type {\n",
       "        vertical-align: middle;\n",
       "    }\n",
       "\n",
       "    .dataframe tbody tr th {\n",
       "        vertical-align: top;\n",
       "    }\n",
       "\n",
       "    .dataframe thead th {\n",
       "        text-align: right;\n",
       "    }\n",
       "</style>\n",
       "<table border=\"1\" class=\"dataframe\">\n",
       "  <thead>\n",
       "    <tr style=\"text-align: right;\">\n",
       "      <th></th>\n",
       "      <th>f0</th>\n",
       "      <th>f1</th>\n",
       "      <th>f2</th>\n",
       "      <th>product</th>\n",
       "    </tr>\n",
       "  </thead>\n",
       "  <tbody>\n",
       "    <tr>\n",
       "      <th>f0</th>\n",
       "      <td>1.000000</td>\n",
       "      <td>0.182287</td>\n",
       "      <td>-0.001777</td>\n",
       "      <td>-0.030491</td>\n",
       "    </tr>\n",
       "    <tr>\n",
       "      <th>f1</th>\n",
       "      <td>0.182287</td>\n",
       "      <td>1.000000</td>\n",
       "      <td>-0.002595</td>\n",
       "      <td>-0.010155</td>\n",
       "    </tr>\n",
       "    <tr>\n",
       "      <th>f2</th>\n",
       "      <td>-0.001777</td>\n",
       "      <td>-0.002595</td>\n",
       "      <td>1.000000</td>\n",
       "      <td>0.999397</td>\n",
       "    </tr>\n",
       "    <tr>\n",
       "      <th>product</th>\n",
       "      <td>-0.030491</td>\n",
       "      <td>-0.010155</td>\n",
       "      <td>0.999397</td>\n",
       "      <td>1.000000</td>\n",
       "    </tr>\n",
       "  </tbody>\n",
       "</table>\n",
       "</div>"
      ],
      "text/plain": [
       "               f0        f1        f2   product\n",
       "f0       1.000000  0.182287 -0.001777 -0.030491\n",
       "f1       0.182287  1.000000 -0.002595 -0.010155\n",
       "f2      -0.001777 -0.002595  1.000000  0.999397\n",
       "product -0.030491 -0.010155  0.999397  1.000000"
      ]
     },
     "execution_count": 18,
     "metadata": {},
     "output_type": "execute_result"
    }
   ],
   "source": [
    "region_1.corr(numeric_only=True)"
   ]
  },
  {
   "cell_type": "code",
   "execution_count": 19,
   "metadata": {},
   "outputs": [
    {
     "data": {
      "text/html": [
       "<div>\n",
       "<style scoped>\n",
       "    .dataframe tbody tr th:only-of-type {\n",
       "        vertical-align: middle;\n",
       "    }\n",
       "\n",
       "    .dataframe tbody tr th {\n",
       "        vertical-align: top;\n",
       "    }\n",
       "\n",
       "    .dataframe thead th {\n",
       "        text-align: right;\n",
       "    }\n",
       "</style>\n",
       "<table border=\"1\" class=\"dataframe\">\n",
       "  <thead>\n",
       "    <tr style=\"text-align: right;\">\n",
       "      <th></th>\n",
       "      <th>f0</th>\n",
       "      <th>f1</th>\n",
       "      <th>f2</th>\n",
       "      <th>product</th>\n",
       "    </tr>\n",
       "  </thead>\n",
       "  <tbody>\n",
       "    <tr>\n",
       "      <th>f0</th>\n",
       "      <td>1.000000</td>\n",
       "      <td>0.000528</td>\n",
       "      <td>-0.000448</td>\n",
       "      <td>-0.001987</td>\n",
       "    </tr>\n",
       "    <tr>\n",
       "      <th>f1</th>\n",
       "      <td>0.000528</td>\n",
       "      <td>1.000000</td>\n",
       "      <td>0.000779</td>\n",
       "      <td>-0.001012</td>\n",
       "    </tr>\n",
       "    <tr>\n",
       "      <th>f2</th>\n",
       "      <td>-0.000448</td>\n",
       "      <td>0.000779</td>\n",
       "      <td>1.000000</td>\n",
       "      <td>0.445871</td>\n",
       "    </tr>\n",
       "    <tr>\n",
       "      <th>product</th>\n",
       "      <td>-0.001987</td>\n",
       "      <td>-0.001012</td>\n",
       "      <td>0.445871</td>\n",
       "      <td>1.000000</td>\n",
       "    </tr>\n",
       "  </tbody>\n",
       "</table>\n",
       "</div>"
      ],
      "text/plain": [
       "               f0        f1        f2   product\n",
       "f0       1.000000  0.000528 -0.000448 -0.001987\n",
       "f1       0.000528  1.000000  0.000779 -0.001012\n",
       "f2      -0.000448  0.000779  1.000000  0.445871\n",
       "product -0.001987 -0.001012  0.445871  1.000000"
      ]
     },
     "execution_count": 19,
     "metadata": {},
     "output_type": "execute_result"
    }
   ],
   "source": [
    "region_2.corr(numeric_only=True)"
   ]
  },
  {
   "cell_type": "markdown",
   "metadata": {},
   "source": [
    "Сильную зависимость можем видеть между признаками f2 и product в таблице region_1 (в виде дискретных величин). "
   ]
  },
  {
   "cell_type": "markdown",
   "metadata": {},
   "source": [
    "## Обучение и проверка модели"
   ]
  },
  {
   "cell_type": "markdown",
   "metadata": {},
   "source": [
    "Целевым признаком принимаем product:"
   ]
  },
  {
   "cell_type": "code",
   "execution_count": 21,
   "metadata": {},
   "outputs": [],
   "source": [
    "def predictoins_region(df):\n",
    "    features = df.drop(['product','id'],axis = 1) \n",
    "    target = df['product']\n",
    "    \n",
    "    features_train, features_valid, target_train, target_valid = train_test_split(features, target, test_size = TEST_SIZE, random_state=RANDOM_STATE)\n",
    "    model = LinearRegression(n_jobs=-1)\n",
    "    model.fit(features_train, target_train)\n",
    "    predictions = model.predict(features_valid)\n",
    "    \n",
    "    mse = mean_squared_error(target_valid, predictions)\n",
    "    rmse = mse ** 0.5\n",
    "\n",
    "    product_mean = df['product'].mean()\n",
    "    product_mean_pred = predictions.mean()\n",
    "    \n",
    "    target_valid = target_valid.reset_index(drop=True)\n",
    "    \n",
    "    return predictions, rmse, product_mean_pred, target_valid"
   ]
  },
  {
   "cell_type": "code",
   "execution_count": 22,
   "metadata": {},
   "outputs": [
    {
     "name": "stdout",
     "output_type": "stream",
     "text": [
      "RMSE region_0: 37.76\n",
      "Средний объем продукта по предсказанию в region_0: 92.4\n"
     ]
    }
   ],
   "source": [
    "predictions_0, rmse_0, product_mean_pred_0, target_valid_0 = predictoins_region(region)\n",
    "print(f'RMSE region_0: {round(rmse_0, 2)}')\n",
    "print(f'Средний объем продукта по предсказанию в region_0: {round(product_mean_pred_0, 2)}')"
   ]
  },
  {
   "cell_type": "code",
   "execution_count": 23,
   "metadata": {},
   "outputs": [
    {
     "name": "stdout",
     "output_type": "stream",
     "text": [
      "RMSE region_1: 0.89\n",
      "Средний объем продукта по предсказанию в region_1: 68.71\n"
     ]
    }
   ],
   "source": [
    "predictions_1, rmse_1, product_mean_pred_1, target_valid_1 = predictoins_region(region_1)\n",
    "print(f'RMSE region_1: {round(rmse_1, 2)}')\n",
    "print(f'Средний объем продукта по предсказанию в region_1: {round(product_mean_pred_1, 2)}')"
   ]
  },
  {
   "cell_type": "code",
   "execution_count": 24,
   "metadata": {},
   "outputs": [
    {
     "name": "stdout",
     "output_type": "stream",
     "text": [
      "RMSE region_2: 40.15\n",
      "Средний объем продукта по предсказанию в region_2: 94.77\n"
     ]
    }
   ],
   "source": [
    "predictions_2, rmse_2, product_mean_pred_2, target_valid_2 = predictoins_region(region_2)\n",
    "print(f'RMSE region_2: {round(rmse_2, 2)}')\n",
    "print(f'Средний объем продукта по предсказанию в region_2: {round(product_mean_pred_2, 2)}')"
   ]
  },
  {
   "cell_type": "markdown",
   "metadata": {},
   "source": [
    "RMSE лучше всего в регионе region_1 - вероятно из-за сильной зависимости между f2 и product. Показатели объема продукта выше в регионах 0 и 2."
   ]
  },
  {
   "cell_type": "markdown",
   "metadata": {},
   "source": [
    "## Подготовка к расчёту прибыли"
   ]
  },
  {
   "cell_type": "code",
   "execution_count": 25,
   "metadata": {},
   "outputs": [
    {
     "name": "stdout",
     "output_type": "stream",
     "text": [
      "Достаточный объём нефти для безубыточной разработки = 111.11 тыс. баррелей.\n"
     ]
    }
   ],
   "source": [
    "break_even = BUDGET / (BARREL_PRICE * BEST_POINTS)\n",
    "print(f'Достаточный объём нефти для безубыточной разработки = {break_even:.2f} тыс. баррелей.')"
   ]
  },
  {
   "cell_type": "markdown",
   "metadata": {},
   "source": [
    "Среднее значение запаса сырья по всем скважинам для каждого из регионов меньше, чем точка безубыточности: 111.11 тыс., значит на данный момент бизнес невыгоден и надо подбирать наиболее выгодные скважины:\n",
    "* region - 92.4 < 111.11;\n",
    "* region_1 - 68.71 < 111.11;\n",
    "* region_2 - 94.77 < 111.11."
   ]
  },
  {
   "cell_type": "code",
   "execution_count": 26,
   "metadata": {},
   "outputs": [],
   "source": [
    "def revenue(target, predictions, count):\n",
    "    selected = target[(predictions.sort_values(ascending=False)).index][:count]\n",
    "    return (BARREL_PRICE * selected.sum() - BUDGET)"
   ]
  },
  {
   "cell_type": "markdown",
   "metadata": {},
   "source": [
    "## Расчёт прибыли и рисков "
   ]
  },
  {
   "cell_type": "code",
   "execution_count": 27,
   "metadata": {},
   "outputs": [
    {
     "name": "stdout",
     "output_type": "stream",
     "text": [
      "Прибыль region_0: 3359141114.46\n"
     ]
    }
   ],
   "source": [
    "print(f'Прибыль region_0: {round(revenue(target_valid_0, pd.Series(predictions_0), BEST_POINTS), 2)}')"
   ]
  },
  {
   "cell_type": "code",
   "execution_count": 28,
   "metadata": {},
   "outputs": [
    {
     "name": "stdout",
     "output_type": "stream",
     "text": [
      "Прибыль region_1: 2415086696.68\n"
     ]
    }
   ],
   "source": [
    "print(f'Прибыль region_1: {round(revenue(target_valid_1, pd.Series(predictions_1), BEST_POINTS), 2)}')"
   ]
  },
  {
   "cell_type": "code",
   "execution_count": 29,
   "metadata": {},
   "outputs": [
    {
     "name": "stdout",
     "output_type": "stream",
     "text": [
      "Прибыль region_2: 2598571759.37\n"
     ]
    }
   ],
   "source": [
    "print(f'Прибыль region_2: {round(revenue(target_valid_2, pd.Series(predictions_2), BEST_POINTS), 2)}')"
   ]
  },
  {
   "cell_type": "code",
   "execution_count": 30,
   "metadata": {},
   "outputs": [],
   "source": [
    "STATE = np.random.RandomState(RANDOM_STATE)\n",
    "def BootStrap(target, valid, count, state):\n",
    "    values = []\n",
    "    for i in range(1000):\n",
    "        target_subsample = target.sample(n=count, replace=True, random_state=state)\n",
    "        probs_subsample = valid[target_subsample.index]\n",
    "        profit = revenue(target_subsample, probs_subsample, BEST_POINTS)\n",
    "        values.append(profit)\n",
    "        \n",
    "    values = pd.Series(values)\n",
    "    return values"
   ]
  },
  {
   "cell_type": "code",
   "execution_count": 31,
   "metadata": {},
   "outputs": [
    {
     "name": "stdout",
     "output_type": "stream",
     "text": [
      "Средняя выручка region_0: 427847560.46\n",
      "Доверительный интервал (95%) region_0: [-97249829.57, 954215192.71]\n",
      "Риск получения убытков region_0: 5.5\n"
     ]
    }
   ],
   "source": [
    "values_0 = BootStrap(target_valid_0, pd.Series(predictions_0), POINTS, STATE)\n",
    "print(\"Средняя выручка region_0:\", round(values_0.mean(),2))\n",
    "print(\"Доверительный интервал (95%) region_0:\", [round(values_0.quantile(0.025),2), round(values_0.quantile(0.975),2)])\n",
    "\n",
    "risk_0 = values_0[values_0 < 0].count() / values_0.count() * 100\n",
    "print(\"Риск получения убытков region_0:\", round(risk_0, 2))"
   ]
  },
  {
   "cell_type": "code",
   "execution_count": 32,
   "metadata": {},
   "outputs": [
    {
     "name": "stdout",
     "output_type": "stream",
     "text": [
      "Средняя выручка region_1: 511530218.15\n",
      "Доверительный интервал (95%) region_1: [91700564.14, 921455668.33]\n",
      "Риск получения убытков region_1: 0.6\n"
     ]
    }
   ],
   "source": [
    "values_1 = BootStrap(target_valid_1, pd.Series(predictions_1), POINTS, STATE)\n",
    "print(\"Средняя выручка region_1:\", round(values_1.mean(),2))\n",
    "print(\"Доверительный интервал (95%) region_1:\", [round(values_1.quantile(0.025),2), round(values_1.quantile(0.975),2)])\n",
    "\n",
    "risk_1 = values_1[values_1 < 0].count() / values_1.count() * 100\n",
    "print(\"Риск получения убытков region_1:\", round(risk_1,2))"
   ]
  },
  {
   "cell_type": "code",
   "execution_count": 33,
   "metadata": {},
   "outputs": [
    {
     "name": "stdout",
     "output_type": "stream",
     "text": [
      "Средняя выручка region_2: 408545681.21\n",
      "Доверительный интервал (95%) region_2: [-120624872.94, 960859440.73]\n",
      "Риск получения убытков region_2: 7.5\n"
     ]
    }
   ],
   "source": [
    "values_2 = BootStrap(target_valid_2, pd.Series(predictions_2), POINTS, STATE)\n",
    "print(\"Средняя выручка region_2:\", round(values_2.mean(),2))\n",
    "print(\"Доверительный интервал (95%) region_2:\", [round(values_2.quantile(0.025),2), round(values_2.quantile(0.975),2)])\n",
    "\n",
    "risk_2 = values_2[values_2 < 0].count() / values_2.count() * 100\n",
    "print(\"Риск получения убытков region_2:\", round(risk_2,2))"
   ]
  },
  {
   "cell_type": "markdown",
   "metadata": {},
   "source": [
    "Для разработки месторождения подходит region_1 - прибыль больше всех 3 регионов, доверительный интервал - без отрицательной прибыли, риск убытков менее 1%."
   ]
  },
  {
   "cell_type": "markdown",
   "metadata": {},
   "source": [
    "Общий вывод:\n",
    "* По всем метрикам для разработки подходит Регион №1. Но необходимо уточнить уточнить по дискретным показателям у заказчика - нет ли ошибки и если что переобучить модель.\n",
    "* Вторым по значимости вариантом является Регион №0. Прибыль и риск меньше, чем у Региона №2."
   ]
  },
  {
   "cell_type": "markdown",
   "metadata": {},
   "source": [
    "## Чек-лист готовности проекта"
   ]
  },
  {
   "cell_type": "markdown",
   "metadata": {},
   "source": [
    "Поставьте 'x' в выполненных пунктах. Далее нажмите Shift+Enter."
   ]
  },
  {
   "cell_type": "markdown",
   "metadata": {},
   "source": [
    "- [x]  Jupyter Notebook открыт\n",
    "- [x]  Весь код выполняется без ошибок\n",
    "- [x]  Ячейки с кодом расположены в порядке исполнения\n",
    "- [x]  Выполнен шаг 1: данные подготовлены\n",
    "- [x]  Выполнен шаг 2: модели обучены и проверены\n",
    "    - [x]  Данные корректно разбиты на обучающую и валидационную выборки\n",
    "    - [x]  Модели обучены, предсказания сделаны\n",
    "    - [x]  Предсказания и правильные ответы на валидационной выборке сохранены\n",
    "    - [x]  На экране напечатаны результаты\n",
    "    - [x]  Сделаны выводы\n",
    "- [x]  Выполнен шаг 3: проведена подготовка к расчёту прибыли\n",
    "    - [x]  Для всех ключевых значений созданы константы Python\n",
    "    - [x]  Посчитано минимальное среднее количество продукта в месторождениях региона, достаточное для разработки\n",
    "    - [x]  По предыдущему пункту сделаны выводы\n",
    "    - [x]  Написана функция расчёта прибыли\n",
    "- [x]  Выполнен шаг 4: посчитаны риски и прибыль\n",
    "    - [x]  Проведена процедура *Bootstrap*\n",
    "    - [x]  Все параметры бутстрепа соответствуют условию\n",
    "    - [x]  Найдены все нужные величины\n",
    "    - [x]  Предложен регион для разработки месторождения\n",
    "    - [x]  Выбор региона обоснован"
   ]
  },
  {
   "cell_type": "code",
   "execution_count": null,
   "metadata": {},
   "outputs": [],
   "source": []
  }
 ],
 "metadata": {
  "ExecuteTimeLog": [
   {
    "duration": 1670,
    "start_time": "2024-11-01T16:47:00.342Z"
   },
   {
    "duration": 10,
    "start_time": "2024-11-01T16:47:14.285Z"
   },
   {
    "duration": 5,
    "start_time": "2024-11-01T16:47:19.791Z"
   },
   {
    "duration": 2158,
    "start_time": "2024-11-01T16:47:22.074Z"
   },
   {
    "duration": 3,
    "start_time": "2024-11-01T16:47:25.956Z"
   },
   {
    "duration": 30,
    "start_time": "2024-11-01T16:47:27.671Z"
   },
   {
    "duration": 27,
    "start_time": "2024-11-01T16:47:46.145Z"
   },
   {
    "duration": 23,
    "start_time": "2024-11-01T16:47:50.862Z"
   },
   {
    "duration": 3,
    "start_time": "2024-11-01T16:50:01.190Z"
   },
   {
    "duration": 59,
    "start_time": "2024-11-01T16:50:28.211Z"
   },
   {
    "duration": 56,
    "start_time": "2024-11-01T16:50:40.273Z"
   },
   {
    "duration": 63,
    "start_time": "2024-11-01T16:50:48.548Z"
   },
   {
    "duration": 4,
    "start_time": "2024-11-01T16:52:46.194Z"
   },
   {
    "duration": 91,
    "start_time": "2024-11-01T16:53:02.389Z"
   },
   {
    "duration": 4,
    "start_time": "2024-11-01T16:53:37.124Z"
   },
   {
    "duration": 871,
    "start_time": "2024-11-01T16:53:49.932Z"
   },
   {
    "duration": 802,
    "start_time": "2024-11-01T16:54:16.942Z"
   },
   {
    "duration": 788,
    "start_time": "2024-11-01T16:54:34.260Z"
   },
   {
    "duration": 1507,
    "start_time": "2024-11-04T05:49:47.268Z"
   },
   {
    "duration": 924,
    "start_time": "2024-11-04T05:49:48.777Z"
   },
   {
    "duration": 3,
    "start_time": "2024-11-04T05:49:49.704Z"
   },
   {
    "duration": 37,
    "start_time": "2024-11-04T05:49:49.709Z"
   },
   {
    "duration": 24,
    "start_time": "2024-11-04T05:49:49.748Z"
   },
   {
    "duration": 45,
    "start_time": "2024-11-04T05:49:49.774Z"
   },
   {
    "duration": 3,
    "start_time": "2024-11-04T05:49:49.820Z"
   },
   {
    "duration": 55,
    "start_time": "2024-11-04T05:49:49.825Z"
   },
   {
    "duration": 68,
    "start_time": "2024-11-04T05:49:49.882Z"
   },
   {
    "duration": 66,
    "start_time": "2024-11-04T05:49:49.952Z"
   },
   {
    "duration": 3,
    "start_time": "2024-11-04T05:49:50.020Z"
   },
   {
    "duration": 832,
    "start_time": "2024-11-04T05:49:50.025Z"
   },
   {
    "duration": 714,
    "start_time": "2024-11-04T05:49:50.859Z"
   },
   {
    "duration": 729,
    "start_time": "2024-11-04T05:49:51.575Z"
   },
   {
    "duration": 17,
    "start_time": "2024-11-04T05:57:14.202Z"
   },
   {
    "duration": 22,
    "start_time": "2024-11-04T05:57:28.306Z"
   },
   {
    "duration": 16,
    "start_time": "2024-11-04T05:57:53.354Z"
   },
   {
    "duration": 1448,
    "start_time": "2024-11-04T06:20:04.394Z"
   },
   {
    "duration": 3,
    "start_time": "2024-11-04T06:20:05.843Z"
   },
   {
    "duration": 424,
    "start_time": "2024-11-04T06:20:05.847Z"
   },
   {
    "duration": 4,
    "start_time": "2024-11-04T06:20:06.272Z"
   },
   {
    "duration": 40,
    "start_time": "2024-11-04T06:20:06.277Z"
   },
   {
    "duration": 22,
    "start_time": "2024-11-04T06:20:06.319Z"
   },
   {
    "duration": 22,
    "start_time": "2024-11-04T06:20:06.342Z"
   },
   {
    "duration": 4,
    "start_time": "2024-11-04T06:20:06.365Z"
   },
   {
    "duration": 80,
    "start_time": "2024-11-04T06:20:06.370Z"
   },
   {
    "duration": 67,
    "start_time": "2024-11-04T06:20:06.453Z"
   },
   {
    "duration": 53,
    "start_time": "2024-11-04T06:20:06.522Z"
   },
   {
    "duration": 4,
    "start_time": "2024-11-04T06:20:06.576Z"
   },
   {
    "duration": 830,
    "start_time": "2024-11-04T06:20:06.582Z"
   },
   {
    "duration": 758,
    "start_time": "2024-11-04T06:20:07.414Z"
   },
   {
    "duration": 738,
    "start_time": "2024-11-04T06:20:08.174Z"
   },
   {
    "duration": 17,
    "start_time": "2024-11-04T06:20:08.917Z"
   },
   {
    "duration": 15,
    "start_time": "2024-11-04T06:20:08.935Z"
   },
   {
    "duration": 14,
    "start_time": "2024-11-04T06:20:08.952Z"
   },
   {
    "duration": 66,
    "start_time": "2024-11-04T06:20:08.968Z"
   },
   {
    "duration": 5,
    "start_time": "2024-11-04T06:23:54.636Z"
   },
   {
    "duration": 111,
    "start_time": "2024-11-04T06:24:21.120Z"
   },
   {
    "duration": 25,
    "start_time": "2024-11-04T06:24:25.650Z"
   },
   {
    "duration": 1498,
    "start_time": "2024-11-04T06:24:46.694Z"
   },
   {
    "duration": 3,
    "start_time": "2024-11-04T06:24:48.194Z"
   },
   {
    "duration": 424,
    "start_time": "2024-11-04T06:24:48.198Z"
   },
   {
    "duration": 3,
    "start_time": "2024-11-04T06:24:48.624Z"
   },
   {
    "duration": 42,
    "start_time": "2024-11-04T06:24:48.630Z"
   },
   {
    "duration": 56,
    "start_time": "2024-11-04T06:24:48.673Z"
   },
   {
    "duration": 22,
    "start_time": "2024-11-04T06:24:48.731Z"
   },
   {
    "duration": 3,
    "start_time": "2024-11-04T06:24:48.755Z"
   },
   {
    "duration": 76,
    "start_time": "2024-11-04T06:24:48.759Z"
   },
   {
    "duration": 49,
    "start_time": "2024-11-04T06:24:48.837Z"
   },
   {
    "duration": 89,
    "start_time": "2024-11-04T06:24:48.887Z"
   },
   {
    "duration": 4,
    "start_time": "2024-11-04T06:24:48.978Z"
   },
   {
    "duration": 865,
    "start_time": "2024-11-04T06:24:48.983Z"
   },
   {
    "duration": 785,
    "start_time": "2024-11-04T06:24:49.850Z"
   },
   {
    "duration": 770,
    "start_time": "2024-11-04T06:24:50.637Z"
   },
   {
    "duration": 19,
    "start_time": "2024-11-04T06:24:51.409Z"
   },
   {
    "duration": 25,
    "start_time": "2024-11-04T06:24:51.430Z"
   },
   {
    "duration": 24,
    "start_time": "2024-11-04T06:24:51.457Z"
   },
   {
    "duration": 23,
    "start_time": "2024-11-04T06:24:51.483Z"
   },
   {
    "duration": 325,
    "start_time": "2024-11-04T06:24:51.507Z"
   },
   {
    "duration": 1465,
    "start_time": "2024-11-04T06:26:14.311Z"
   },
   {
    "duration": 3,
    "start_time": "2024-11-04T06:26:15.777Z"
   },
   {
    "duration": 427,
    "start_time": "2024-11-04T06:26:15.781Z"
   },
   {
    "duration": 8,
    "start_time": "2024-11-04T06:26:16.210Z"
   },
   {
    "duration": 31,
    "start_time": "2024-11-04T06:26:16.220Z"
   },
   {
    "duration": 23,
    "start_time": "2024-11-04T06:26:16.253Z"
   },
   {
    "duration": 51,
    "start_time": "2024-11-04T06:26:16.278Z"
   },
   {
    "duration": 4,
    "start_time": "2024-11-04T06:26:16.330Z"
   },
   {
    "duration": 77,
    "start_time": "2024-11-04T06:26:16.336Z"
   },
   {
    "duration": 56,
    "start_time": "2024-11-04T06:26:16.414Z"
   },
   {
    "duration": 93,
    "start_time": "2024-11-04T06:26:16.472Z"
   },
   {
    "duration": 5,
    "start_time": "2024-11-04T06:26:16.566Z"
   },
   {
    "duration": 740,
    "start_time": "2024-11-04T06:26:16.573Z"
   },
   {
    "duration": 825,
    "start_time": "2024-11-04T06:26:17.317Z"
   },
   {
    "duration": 744,
    "start_time": "2024-11-04T06:26:18.144Z"
   },
   {
    "duration": 16,
    "start_time": "2024-11-04T06:26:18.889Z"
   },
   {
    "duration": 15,
    "start_time": "2024-11-04T06:26:18.918Z"
   },
   {
    "duration": 14,
    "start_time": "2024-11-04T06:26:18.934Z"
   },
   {
    "duration": 5,
    "start_time": "2024-11-04T06:26:18.949Z"
   },
   {
    "duration": 66,
    "start_time": "2024-11-04T06:26:18.955Z"
   },
   {
    "duration": 72,
    "start_time": "2024-11-04T06:27:15.203Z"
   },
   {
    "duration": 25,
    "start_time": "2024-11-04T06:27:33.098Z"
   },
   {
    "duration": 26,
    "start_time": "2024-11-04T06:27:57.362Z"
   },
   {
    "duration": 28,
    "start_time": "2024-11-04T06:28:23.489Z"
   },
   {
    "duration": 28,
    "start_time": "2024-11-04T06:28:25.833Z"
   },
   {
    "duration": 36,
    "start_time": "2024-11-04T06:28:26.265Z"
   },
   {
    "duration": 5,
    "start_time": "2024-11-04T06:29:38.644Z"
   },
   {
    "duration": 46,
    "start_time": "2024-11-04T06:29:39.272Z"
   },
   {
    "duration": 29,
    "start_time": "2024-11-04T06:29:39.752Z"
   },
   {
    "duration": 28,
    "start_time": "2024-11-04T06:29:40.212Z"
   },
   {
    "duration": 35,
    "start_time": "2024-11-04T06:34:54.045Z"
   },
   {
    "duration": 33,
    "start_time": "2024-11-04T06:35:30.202Z"
   },
   {
    "duration": 28,
    "start_time": "2024-11-04T06:35:43.531Z"
   },
   {
    "duration": 28,
    "start_time": "2024-11-04T06:36:06.652Z"
   },
   {
    "duration": 263,
    "start_time": "2024-11-04T06:37:46.169Z"
   },
   {
    "duration": 32,
    "start_time": "2024-11-04T06:37:58.450Z"
   },
   {
    "duration": 28,
    "start_time": "2024-11-04T06:38:06.580Z"
   },
   {
    "duration": 36,
    "start_time": "2024-11-04T06:38:42.290Z"
   },
   {
    "duration": 29,
    "start_time": "2024-11-04T06:39:05.050Z"
   },
   {
    "duration": 5,
    "start_time": "2024-11-04T06:41:55.357Z"
   },
   {
    "duration": 28,
    "start_time": "2024-11-04T06:41:56.659Z"
   },
   {
    "duration": 27,
    "start_time": "2024-11-04T06:41:57.674Z"
   },
   {
    "duration": 28,
    "start_time": "2024-11-04T06:41:58.536Z"
   },
   {
    "duration": 1407,
    "start_time": "2024-11-04T06:58:23.897Z"
   },
   {
    "duration": 3,
    "start_time": "2024-11-04T06:58:25.305Z"
   },
   {
    "duration": 421,
    "start_time": "2024-11-04T06:58:25.310Z"
   },
   {
    "duration": 2,
    "start_time": "2024-11-04T06:58:25.733Z"
   },
   {
    "duration": 29,
    "start_time": "2024-11-04T06:58:25.737Z"
   },
   {
    "duration": 22,
    "start_time": "2024-11-04T06:58:25.767Z"
   },
   {
    "duration": 43,
    "start_time": "2024-11-04T06:58:25.790Z"
   },
   {
    "duration": 4,
    "start_time": "2024-11-04T06:58:25.835Z"
   },
   {
    "duration": 78,
    "start_time": "2024-11-04T06:58:25.841Z"
   },
   {
    "duration": 50,
    "start_time": "2024-11-04T06:58:25.923Z"
   },
   {
    "duration": 83,
    "start_time": "2024-11-04T06:58:25.974Z"
   },
   {
    "duration": 4,
    "start_time": "2024-11-04T06:58:26.059Z"
   },
   {
    "duration": 796,
    "start_time": "2024-11-04T06:58:26.065Z"
   },
   {
    "duration": 770,
    "start_time": "2024-11-04T06:58:26.863Z"
   },
   {
    "duration": 767,
    "start_time": "2024-11-04T06:58:27.635Z"
   },
   {
    "duration": 20,
    "start_time": "2024-11-04T06:58:28.403Z"
   },
   {
    "duration": 15,
    "start_time": "2024-11-04T06:58:28.424Z"
   },
   {
    "duration": 15,
    "start_time": "2024-11-04T06:58:28.440Z"
   },
   {
    "duration": 5,
    "start_time": "2024-11-04T06:58:28.456Z"
   },
   {
    "duration": 57,
    "start_time": "2024-11-04T06:58:28.462Z"
   },
   {
    "duration": 198,
    "start_time": "2024-11-04T06:58:28.521Z"
   },
   {
    "duration": 115,
    "start_time": "2024-11-04T06:58:28.721Z"
   },
   {
    "duration": 123,
    "start_time": "2024-11-04T07:35:27.310Z"
   },
   {
    "duration": 16,
    "start_time": "2024-11-04T07:35:40.093Z"
   },
   {
    "duration": 14,
    "start_time": "2024-11-04T07:36:50.364Z"
   },
   {
    "duration": 3,
    "start_time": "2024-11-04T07:37:38.109Z"
   },
   {
    "duration": 3,
    "start_time": "2024-11-04T07:37:41.637Z"
   },
   {
    "duration": 3,
    "start_time": "2024-11-04T07:38:51.711Z"
   },
   {
    "duration": 4,
    "start_time": "2024-11-04T08:40:58.146Z"
   },
   {
    "duration": 13,
    "start_time": "2024-11-04T08:44:53.380Z"
   },
   {
    "duration": 17,
    "start_time": "2024-11-04T08:45:08.374Z"
   },
   {
    "duration": 4,
    "start_time": "2024-11-04T08:45:28.550Z"
   },
   {
    "duration": 12,
    "start_time": "2024-11-04T08:45:29.786Z"
   },
   {
    "duration": 9,
    "start_time": "2024-11-04T08:46:01.221Z"
   },
   {
    "duration": 70,
    "start_time": "2024-11-04T09:38:14.305Z"
   },
   {
    "duration": 9,
    "start_time": "2024-11-04T09:38:26.084Z"
   },
   {
    "duration": 16,
    "start_time": "2024-11-04T09:42:22.918Z"
   },
   {
    "duration": 9,
    "start_time": "2024-11-04T09:42:50.168Z"
   },
   {
    "duration": 4,
    "start_time": "2024-11-04T10:24:24.183Z"
   },
   {
    "duration": 4,
    "start_time": "2024-11-04T10:25:19.975Z"
   },
   {
    "duration": 12,
    "start_time": "2024-11-04T10:28:47.390Z"
   },
   {
    "duration": 9,
    "start_time": "2024-11-04T10:28:48.402Z"
   },
   {
    "duration": 9,
    "start_time": "2024-11-04T10:28:49.281Z"
   },
   {
    "duration": 5,
    "start_time": "2024-11-04T10:29:47.618Z"
   },
   {
    "duration": 17,
    "start_time": "2024-11-04T10:41:20.986Z"
   },
   {
    "duration": 10,
    "start_time": "2024-11-04T10:41:47.291Z"
   },
   {
    "duration": 11,
    "start_time": "2024-11-04T10:41:57.962Z"
   },
   {
    "duration": 9,
    "start_time": "2024-11-04T10:42:19.236Z"
   },
   {
    "duration": 6,
    "start_time": "2024-11-04T10:42:22.456Z"
   },
   {
    "duration": 15,
    "start_time": "2024-11-04T10:42:23.023Z"
   },
   {
    "duration": 4,
    "start_time": "2024-11-04T10:44:11.560Z"
   },
   {
    "duration": 17,
    "start_time": "2024-11-04T10:44:14.196Z"
   },
   {
    "duration": 1368,
    "start_time": "2024-11-04T10:44:35.730Z"
   },
   {
    "duration": 1326,
    "start_time": "2024-11-04T10:47:39.529Z"
   },
   {
    "duration": 1347,
    "start_time": "2024-11-04T10:47:59.166Z"
   },
   {
    "duration": 1404,
    "start_time": "2024-11-04T10:48:32.467Z"
   },
   {
    "duration": 1363,
    "start_time": "2024-11-04T10:50:27.419Z"
   },
   {
    "duration": 1330,
    "start_time": "2024-11-04T10:50:34.218Z"
   },
   {
    "duration": 1491,
    "start_time": "2024-11-04T10:50:43.256Z"
   },
   {
    "duration": 1364,
    "start_time": "2024-11-04T10:51:52.108Z"
   },
   {
    "duration": 1337,
    "start_time": "2024-11-04T10:51:56.812Z"
   },
   {
    "duration": 73,
    "start_time": "2024-11-04T10:55:30.434Z"
   },
   {
    "duration": 71,
    "start_time": "2024-11-04T10:55:44.308Z"
   },
   {
    "duration": 1401,
    "start_time": "2024-11-04T10:55:58.139Z"
   },
   {
    "duration": 1349,
    "start_time": "2024-11-04T10:56:07.106Z"
   },
   {
    "duration": 1346,
    "start_time": "2024-11-04T10:57:15.067Z"
   },
   {
    "duration": 84,
    "start_time": "2024-11-04T10:57:37.337Z"
   },
   {
    "duration": 70,
    "start_time": "2024-11-04T10:57:44.727Z"
   },
   {
    "duration": 1291,
    "start_time": "2024-11-04T10:57:59.747Z"
   },
   {
    "duration": 1336,
    "start_time": "2024-11-04T10:59:05.726Z"
   },
   {
    "duration": 1318,
    "start_time": "2024-11-04T10:59:17.441Z"
   },
   {
    "duration": 1363,
    "start_time": "2024-11-04T11:05:57.976Z"
   },
   {
    "duration": 3,
    "start_time": "2024-11-04T11:05:59.340Z"
   },
   {
    "duration": 424,
    "start_time": "2024-11-04T11:05:59.345Z"
   },
   {
    "duration": 3,
    "start_time": "2024-11-04T11:05:59.771Z"
   },
   {
    "duration": 42,
    "start_time": "2024-11-04T11:05:59.776Z"
   },
   {
    "duration": 24,
    "start_time": "2024-11-04T11:05:59.820Z"
   },
   {
    "duration": 22,
    "start_time": "2024-11-04T11:05:59.846Z"
   },
   {
    "duration": 3,
    "start_time": "2024-11-04T11:05:59.870Z"
   },
   {
    "duration": 88,
    "start_time": "2024-11-04T11:05:59.874Z"
   },
   {
    "duration": 65,
    "start_time": "2024-11-04T11:05:59.963Z"
   },
   {
    "duration": 53,
    "start_time": "2024-11-04T11:06:00.029Z"
   },
   {
    "duration": 4,
    "start_time": "2024-11-04T11:06:00.083Z"
   },
   {
    "duration": 781,
    "start_time": "2024-11-04T11:06:00.088Z"
   },
   {
    "duration": 830,
    "start_time": "2024-11-04T11:06:00.872Z"
   },
   {
    "duration": 762,
    "start_time": "2024-11-04T11:06:01.704Z"
   },
   {
    "duration": 16,
    "start_time": "2024-11-04T11:06:02.468Z"
   },
   {
    "duration": 17,
    "start_time": "2024-11-04T11:06:02.486Z"
   },
   {
    "duration": 14,
    "start_time": "2024-11-04T11:06:02.518Z"
   },
   {
    "duration": 32,
    "start_time": "2024-11-04T11:06:02.533Z"
   },
   {
    "duration": 75,
    "start_time": "2024-11-04T11:06:02.567Z"
   },
   {
    "duration": 193,
    "start_time": "2024-11-04T11:06:02.644Z"
   },
   {
    "duration": 126,
    "start_time": "2024-11-04T11:06:02.924Z"
   },
   {
    "duration": 69,
    "start_time": "2024-11-04T11:06:03.052Z"
   },
   {
    "duration": 96,
    "start_time": "2024-11-04T11:06:03.123Z"
   },
   {
    "duration": 24,
    "start_time": "2024-11-04T11:06:03.221Z"
   },
   {
    "duration": 17,
    "start_time": "2024-11-04T11:06:03.247Z"
   },
   {
    "duration": 9,
    "start_time": "2024-11-04T11:06:03.266Z"
   },
   {
    "duration": 16,
    "start_time": "2024-11-04T11:06:03.276Z"
   },
   {
    "duration": 1330,
    "start_time": "2024-11-04T11:06:03.294Z"
   },
   {
    "duration": 1377,
    "start_time": "2024-11-04T11:06:04.625Z"
   },
   {
    "duration": 1342,
    "start_time": "2024-11-04T11:06:06.003Z"
   },
   {
    "duration": 3,
    "start_time": "2024-11-04T11:09:27.019Z"
   },
   {
    "duration": 1440,
    "start_time": "2024-11-04T11:17:30.053Z"
   },
   {
    "duration": 3,
    "start_time": "2024-11-04T11:17:31.495Z"
   },
   {
    "duration": 468,
    "start_time": "2024-11-04T11:17:31.499Z"
   },
   {
    "duration": 2,
    "start_time": "2024-11-04T11:17:31.969Z"
   },
   {
    "duration": 38,
    "start_time": "2024-11-04T11:17:31.973Z"
   },
   {
    "duration": 25,
    "start_time": "2024-11-04T11:17:32.013Z"
   },
   {
    "duration": 24,
    "start_time": "2024-11-04T11:17:32.040Z"
   },
   {
    "duration": 4,
    "start_time": "2024-11-04T11:17:32.066Z"
   },
   {
    "duration": 91,
    "start_time": "2024-11-04T11:17:32.072Z"
   },
   {
    "duration": 63,
    "start_time": "2024-11-04T11:17:32.166Z"
   },
   {
    "duration": 89,
    "start_time": "2024-11-04T11:17:32.230Z"
   },
   {
    "duration": 3,
    "start_time": "2024-11-04T11:17:32.321Z"
   },
   {
    "duration": 778,
    "start_time": "2024-11-04T11:17:32.326Z"
   },
   {
    "duration": 893,
    "start_time": "2024-11-04T11:17:33.106Z"
   },
   {
    "duration": 763,
    "start_time": "2024-11-04T11:17:34.001Z"
   },
   {
    "duration": 17,
    "start_time": "2024-11-04T11:17:34.765Z"
   },
   {
    "duration": 25,
    "start_time": "2024-11-04T11:17:34.783Z"
   },
   {
    "duration": 14,
    "start_time": "2024-11-04T11:17:34.817Z"
   },
   {
    "duration": 7,
    "start_time": "2024-11-04T11:17:34.833Z"
   },
   {
    "duration": 76,
    "start_time": "2024-11-04T11:17:34.841Z"
   },
   {
    "duration": 122,
    "start_time": "2024-11-04T11:17:34.920Z"
   },
   {
    "duration": 123,
    "start_time": "2024-11-04T11:17:35.117Z"
   },
   {
    "duration": 77,
    "start_time": "2024-11-04T11:17:35.243Z"
   },
   {
    "duration": 93,
    "start_time": "2024-11-04T11:17:35.326Z"
   },
   {
    "duration": 76,
    "start_time": "2024-11-04T11:17:35.421Z"
   },
   {
    "duration": 30,
    "start_time": "2024-11-04T11:17:35.499Z"
   },
   {
    "duration": 13,
    "start_time": "2024-11-04T11:17:35.531Z"
   },
   {
    "duration": 12,
    "start_time": "2024-11-04T11:17:35.546Z"
   },
   {
    "duration": 1355,
    "start_time": "2024-11-04T11:17:35.559Z"
   },
   {
    "duration": 1350,
    "start_time": "2024-11-04T11:17:36.915Z"
   },
   {
    "duration": 1329,
    "start_time": "2024-11-04T11:17:38.266Z"
   },
   {
    "duration": 58,
    "start_time": "2024-11-05T17:10:45.212Z"
   },
   {
    "duration": 1857,
    "start_time": "2024-11-05T17:10:49.943Z"
   },
   {
    "duration": 0,
    "start_time": "2024-11-05T17:10:51.804Z"
   },
   {
    "duration": 0,
    "start_time": "2024-11-05T17:10:51.806Z"
   },
   {
    "duration": 0,
    "start_time": "2024-11-05T17:10:51.807Z"
   },
   {
    "duration": 0,
    "start_time": "2024-11-05T17:10:51.809Z"
   },
   {
    "duration": 0,
    "start_time": "2024-11-05T17:10:51.825Z"
   },
   {
    "duration": 0,
    "start_time": "2024-11-05T17:10:51.826Z"
   },
   {
    "duration": 0,
    "start_time": "2024-11-05T17:10:51.827Z"
   },
   {
    "duration": 0,
    "start_time": "2024-11-05T17:10:51.828Z"
   },
   {
    "duration": 0,
    "start_time": "2024-11-05T17:10:51.829Z"
   },
   {
    "duration": 0,
    "start_time": "2024-11-05T17:10:51.830Z"
   },
   {
    "duration": 0,
    "start_time": "2024-11-05T17:10:51.831Z"
   },
   {
    "duration": 0,
    "start_time": "2024-11-05T17:10:51.832Z"
   },
   {
    "duration": 0,
    "start_time": "2024-11-05T17:10:51.833Z"
   },
   {
    "duration": 0,
    "start_time": "2024-11-05T17:10:51.834Z"
   },
   {
    "duration": 0,
    "start_time": "2024-11-05T17:10:51.835Z"
   },
   {
    "duration": 0,
    "start_time": "2024-11-05T17:10:51.836Z"
   },
   {
    "duration": 0,
    "start_time": "2024-11-05T17:10:51.838Z"
   },
   {
    "duration": 0,
    "start_time": "2024-11-05T17:10:51.840Z"
   },
   {
    "duration": 0,
    "start_time": "2024-11-05T17:10:51.841Z"
   },
   {
    "duration": 0,
    "start_time": "2024-11-05T17:10:51.842Z"
   },
   {
    "duration": 0,
    "start_time": "2024-11-05T17:10:51.844Z"
   },
   {
    "duration": 0,
    "start_time": "2024-11-05T17:10:51.845Z"
   },
   {
    "duration": 0,
    "start_time": "2024-11-05T17:10:51.847Z"
   },
   {
    "duration": 0,
    "start_time": "2024-11-05T17:10:51.848Z"
   },
   {
    "duration": 0,
    "start_time": "2024-11-05T17:10:51.850Z"
   },
   {
    "duration": 0,
    "start_time": "2024-11-05T17:10:51.850Z"
   },
   {
    "duration": 0,
    "start_time": "2024-11-05T17:10:51.852Z"
   },
   {
    "duration": 0,
    "start_time": "2024-11-05T17:10:51.853Z"
   },
   {
    "duration": 0,
    "start_time": "2024-11-05T17:10:51.854Z"
   },
   {
    "duration": 0,
    "start_time": "2024-11-05T17:10:51.856Z"
   },
   {
    "duration": 1,
    "start_time": "2024-11-05T17:10:51.856Z"
   },
   {
    "duration": 8443,
    "start_time": "2024-11-05T17:12:59.003Z"
   },
   {
    "duration": 1502,
    "start_time": "2024-11-05T17:13:07.448Z"
   },
   {
    "duration": 0,
    "start_time": "2024-11-05T17:13:08.953Z"
   },
   {
    "duration": 0,
    "start_time": "2024-11-05T17:13:08.954Z"
   },
   {
    "duration": 0,
    "start_time": "2024-11-05T17:13:08.956Z"
   },
   {
    "duration": 0,
    "start_time": "2024-11-05T17:13:08.957Z"
   },
   {
    "duration": 0,
    "start_time": "2024-11-05T17:13:08.959Z"
   },
   {
    "duration": 0,
    "start_time": "2024-11-05T17:13:08.960Z"
   },
   {
    "duration": 0,
    "start_time": "2024-11-05T17:13:08.962Z"
   },
   {
    "duration": 0,
    "start_time": "2024-11-05T17:13:08.963Z"
   },
   {
    "duration": 0,
    "start_time": "2024-11-05T17:13:08.965Z"
   },
   {
    "duration": 0,
    "start_time": "2024-11-05T17:13:08.967Z"
   },
   {
    "duration": 0,
    "start_time": "2024-11-05T17:13:08.968Z"
   },
   {
    "duration": 0,
    "start_time": "2024-11-05T17:13:08.969Z"
   },
   {
    "duration": 0,
    "start_time": "2024-11-05T17:13:08.972Z"
   },
   {
    "duration": 0,
    "start_time": "2024-11-05T17:13:08.973Z"
   },
   {
    "duration": 0,
    "start_time": "2024-11-05T17:13:08.975Z"
   },
   {
    "duration": 0,
    "start_time": "2024-11-05T17:13:08.976Z"
   },
   {
    "duration": 0,
    "start_time": "2024-11-05T17:13:08.977Z"
   },
   {
    "duration": 0,
    "start_time": "2024-11-05T17:13:08.979Z"
   },
   {
    "duration": 0,
    "start_time": "2024-11-05T17:13:09.030Z"
   },
   {
    "duration": 0,
    "start_time": "2024-11-05T17:13:09.031Z"
   },
   {
    "duration": 0,
    "start_time": "2024-11-05T17:13:09.033Z"
   },
   {
    "duration": 0,
    "start_time": "2024-11-05T17:13:09.035Z"
   },
   {
    "duration": 0,
    "start_time": "2024-11-05T17:13:09.036Z"
   },
   {
    "duration": 0,
    "start_time": "2024-11-05T17:13:09.037Z"
   },
   {
    "duration": 0,
    "start_time": "2024-11-05T17:13:09.039Z"
   },
   {
    "duration": 0,
    "start_time": "2024-11-05T17:13:09.041Z"
   },
   {
    "duration": 0,
    "start_time": "2024-11-05T17:13:09.042Z"
   },
   {
    "duration": 0,
    "start_time": "2024-11-05T17:13:09.043Z"
   },
   {
    "duration": 0,
    "start_time": "2024-11-05T17:13:09.044Z"
   },
   {
    "duration": 0,
    "start_time": "2024-11-05T17:13:09.045Z"
   },
   {
    "duration": 0,
    "start_time": "2024-11-05T17:13:09.047Z"
   },
   {
    "duration": 2635,
    "start_time": "2024-11-05T17:15:07.178Z"
   },
   {
    "duration": 1433,
    "start_time": "2024-11-05T17:15:09.815Z"
   },
   {
    "duration": 0,
    "start_time": "2024-11-05T17:15:11.250Z"
   },
   {
    "duration": 0,
    "start_time": "2024-11-05T17:15:11.251Z"
   },
   {
    "duration": 0,
    "start_time": "2024-11-05T17:15:11.253Z"
   },
   {
    "duration": 0,
    "start_time": "2024-11-05T17:15:11.254Z"
   },
   {
    "duration": 0,
    "start_time": "2024-11-05T17:15:11.255Z"
   },
   {
    "duration": 0,
    "start_time": "2024-11-05T17:15:11.257Z"
   },
   {
    "duration": 0,
    "start_time": "2024-11-05T17:15:11.258Z"
   },
   {
    "duration": 0,
    "start_time": "2024-11-05T17:15:11.259Z"
   },
   {
    "duration": 0,
    "start_time": "2024-11-05T17:15:11.260Z"
   },
   {
    "duration": 0,
    "start_time": "2024-11-05T17:15:11.261Z"
   },
   {
    "duration": 0,
    "start_time": "2024-11-05T17:15:11.262Z"
   },
   {
    "duration": 0,
    "start_time": "2024-11-05T17:15:11.264Z"
   },
   {
    "duration": 0,
    "start_time": "2024-11-05T17:15:11.264Z"
   },
   {
    "duration": 0,
    "start_time": "2024-11-05T17:15:11.265Z"
   },
   {
    "duration": 0,
    "start_time": "2024-11-05T17:15:11.267Z"
   },
   {
    "duration": 0,
    "start_time": "2024-11-05T17:15:11.268Z"
   },
   {
    "duration": 0,
    "start_time": "2024-11-05T17:15:11.269Z"
   },
   {
    "duration": 0,
    "start_time": "2024-11-05T17:15:11.269Z"
   },
   {
    "duration": 0,
    "start_time": "2024-11-05T17:15:11.270Z"
   },
   {
    "duration": 0,
    "start_time": "2024-11-05T17:15:11.272Z"
   },
   {
    "duration": 0,
    "start_time": "2024-11-05T17:15:11.273Z"
   },
   {
    "duration": 0,
    "start_time": "2024-11-05T17:15:11.274Z"
   },
   {
    "duration": 0,
    "start_time": "2024-11-05T17:15:11.275Z"
   },
   {
    "duration": 0,
    "start_time": "2024-11-05T17:15:11.276Z"
   },
   {
    "duration": 0,
    "start_time": "2024-11-05T17:15:11.276Z"
   },
   {
    "duration": 0,
    "start_time": "2024-11-05T17:15:11.277Z"
   },
   {
    "duration": 0,
    "start_time": "2024-11-05T17:15:11.278Z"
   },
   {
    "duration": 0,
    "start_time": "2024-11-05T17:15:11.327Z"
   },
   {
    "duration": 0,
    "start_time": "2024-11-05T17:15:11.332Z"
   },
   {
    "duration": 0,
    "start_time": "2024-11-05T17:15:11.333Z"
   },
   {
    "duration": 0,
    "start_time": "2024-11-05T17:15:11.334Z"
   },
   {
    "duration": 42623,
    "start_time": "2024-11-05T17:16:00.129Z"
   },
   {
    "duration": 2009,
    "start_time": "2024-11-05T17:16:42.755Z"
   },
   {
    "duration": 0,
    "start_time": "2024-11-05T17:16:44.766Z"
   },
   {
    "duration": 0,
    "start_time": "2024-11-05T17:16:44.769Z"
   },
   {
    "duration": 0,
    "start_time": "2024-11-05T17:16:44.770Z"
   },
   {
    "duration": 0,
    "start_time": "2024-11-05T17:16:44.772Z"
   },
   {
    "duration": 0,
    "start_time": "2024-11-05T17:16:44.773Z"
   },
   {
    "duration": 0,
    "start_time": "2024-11-05T17:16:44.774Z"
   },
   {
    "duration": 0,
    "start_time": "2024-11-05T17:16:44.776Z"
   },
   {
    "duration": 0,
    "start_time": "2024-11-05T17:16:44.777Z"
   },
   {
    "duration": 0,
    "start_time": "2024-11-05T17:16:44.778Z"
   },
   {
    "duration": 0,
    "start_time": "2024-11-05T17:16:44.779Z"
   },
   {
    "duration": 0,
    "start_time": "2024-11-05T17:16:44.780Z"
   },
   {
    "duration": 0,
    "start_time": "2024-11-05T17:16:44.781Z"
   },
   {
    "duration": 0,
    "start_time": "2024-11-05T17:16:44.782Z"
   },
   {
    "duration": 0,
    "start_time": "2024-11-05T17:16:44.784Z"
   },
   {
    "duration": 1,
    "start_time": "2024-11-05T17:16:44.784Z"
   },
   {
    "duration": 0,
    "start_time": "2024-11-05T17:16:44.785Z"
   },
   {
    "duration": 0,
    "start_time": "2024-11-05T17:16:44.787Z"
   },
   {
    "duration": 0,
    "start_time": "2024-11-05T17:16:44.825Z"
   },
   {
    "duration": 0,
    "start_time": "2024-11-05T17:16:44.833Z"
   },
   {
    "duration": 0,
    "start_time": "2024-11-05T17:16:44.834Z"
   },
   {
    "duration": 0,
    "start_time": "2024-11-05T17:16:44.835Z"
   },
   {
    "duration": 0,
    "start_time": "2024-11-05T17:16:44.836Z"
   },
   {
    "duration": 0,
    "start_time": "2024-11-05T17:16:44.837Z"
   },
   {
    "duration": 0,
    "start_time": "2024-11-05T17:16:44.838Z"
   },
   {
    "duration": 0,
    "start_time": "2024-11-05T17:16:44.840Z"
   },
   {
    "duration": 0,
    "start_time": "2024-11-05T17:16:44.842Z"
   },
   {
    "duration": 0,
    "start_time": "2024-11-05T17:16:44.843Z"
   },
   {
    "duration": 0,
    "start_time": "2024-11-05T17:16:44.844Z"
   },
   {
    "duration": 0,
    "start_time": "2024-11-05T17:16:44.846Z"
   },
   {
    "duration": 0,
    "start_time": "2024-11-05T17:16:44.848Z"
   },
   {
    "duration": 0,
    "start_time": "2024-11-05T17:16:44.849Z"
   },
   {
    "duration": 1111,
    "start_time": "2024-11-05T17:17:28.683Z"
   },
   {
    "duration": 3677,
    "start_time": "2024-11-05T17:17:55.947Z"
   },
   {
    "duration": 2713,
    "start_time": "2024-11-05T17:17:59.631Z"
   },
   {
    "duration": 0,
    "start_time": "2024-11-05T17:18:02.347Z"
   },
   {
    "duration": 0,
    "start_time": "2024-11-05T17:18:02.348Z"
   },
   {
    "duration": 0,
    "start_time": "2024-11-05T17:18:02.349Z"
   },
   {
    "duration": 0,
    "start_time": "2024-11-05T17:18:02.350Z"
   },
   {
    "duration": 0,
    "start_time": "2024-11-05T17:18:02.352Z"
   },
   {
    "duration": 0,
    "start_time": "2024-11-05T17:18:02.353Z"
   },
   {
    "duration": 0,
    "start_time": "2024-11-05T17:18:02.354Z"
   },
   {
    "duration": 0,
    "start_time": "2024-11-05T17:18:02.355Z"
   },
   {
    "duration": 0,
    "start_time": "2024-11-05T17:18:02.356Z"
   },
   {
    "duration": 0,
    "start_time": "2024-11-05T17:18:02.357Z"
   },
   {
    "duration": 0,
    "start_time": "2024-11-05T17:18:02.358Z"
   },
   {
    "duration": 0,
    "start_time": "2024-11-05T17:18:02.359Z"
   },
   {
    "duration": 0,
    "start_time": "2024-11-05T17:18:02.360Z"
   },
   {
    "duration": 0,
    "start_time": "2024-11-05T17:18:02.361Z"
   },
   {
    "duration": 0,
    "start_time": "2024-11-05T17:18:02.362Z"
   },
   {
    "duration": 0,
    "start_time": "2024-11-05T17:18:02.363Z"
   },
   {
    "duration": 0,
    "start_time": "2024-11-05T17:18:02.364Z"
   },
   {
    "duration": 0,
    "start_time": "2024-11-05T17:18:02.365Z"
   },
   {
    "duration": 0,
    "start_time": "2024-11-05T17:18:02.366Z"
   },
   {
    "duration": 0,
    "start_time": "2024-11-05T17:18:02.367Z"
   },
   {
    "duration": 0,
    "start_time": "2024-11-05T17:18:02.368Z"
   },
   {
    "duration": 0,
    "start_time": "2024-11-05T17:18:02.369Z"
   },
   {
    "duration": 0,
    "start_time": "2024-11-05T17:18:02.370Z"
   },
   {
    "duration": 0,
    "start_time": "2024-11-05T17:18:02.371Z"
   },
   {
    "duration": 0,
    "start_time": "2024-11-05T17:18:02.372Z"
   },
   {
    "duration": 0,
    "start_time": "2024-11-05T17:18:02.373Z"
   },
   {
    "duration": 0,
    "start_time": "2024-11-05T17:18:02.374Z"
   },
   {
    "duration": 0,
    "start_time": "2024-11-05T17:18:02.375Z"
   },
   {
    "duration": 0,
    "start_time": "2024-11-05T17:18:02.427Z"
   },
   {
    "duration": 0,
    "start_time": "2024-11-05T17:18:02.427Z"
   },
   {
    "duration": 0,
    "start_time": "2024-11-05T17:18:02.428Z"
   },
   {
    "duration": 3504,
    "start_time": "2024-11-05T17:21:34.122Z"
   },
   {
    "duration": 2870,
    "start_time": "2024-11-05T17:21:37.629Z"
   },
   {
    "duration": 0,
    "start_time": "2024-11-05T17:21:40.502Z"
   },
   {
    "duration": 0,
    "start_time": "2024-11-05T17:21:40.503Z"
   },
   {
    "duration": 0,
    "start_time": "2024-11-05T17:21:40.504Z"
   },
   {
    "duration": 0,
    "start_time": "2024-11-05T17:21:40.506Z"
   },
   {
    "duration": 0,
    "start_time": "2024-11-05T17:21:40.507Z"
   },
   {
    "duration": 0,
    "start_time": "2024-11-05T17:21:40.508Z"
   },
   {
    "duration": 0,
    "start_time": "2024-11-05T17:21:40.510Z"
   },
   {
    "duration": 0,
    "start_time": "2024-11-05T17:21:40.511Z"
   },
   {
    "duration": 0,
    "start_time": "2024-11-05T17:21:40.512Z"
   },
   {
    "duration": 0,
    "start_time": "2024-11-05T17:21:40.535Z"
   },
   {
    "duration": 0,
    "start_time": "2024-11-05T17:21:40.536Z"
   },
   {
    "duration": 1,
    "start_time": "2024-11-05T17:21:40.537Z"
   },
   {
    "duration": 0,
    "start_time": "2024-11-05T17:21:40.540Z"
   },
   {
    "duration": 0,
    "start_time": "2024-11-05T17:21:40.541Z"
   },
   {
    "duration": 0,
    "start_time": "2024-11-05T17:21:40.543Z"
   },
   {
    "duration": 0,
    "start_time": "2024-11-05T17:21:40.545Z"
   },
   {
    "duration": 1,
    "start_time": "2024-11-05T17:21:40.546Z"
   },
   {
    "duration": 0,
    "start_time": "2024-11-05T17:21:40.548Z"
   },
   {
    "duration": 0,
    "start_time": "2024-11-05T17:21:40.550Z"
   },
   {
    "duration": 0,
    "start_time": "2024-11-05T17:21:40.552Z"
   },
   {
    "duration": 0,
    "start_time": "2024-11-05T17:21:40.554Z"
   },
   {
    "duration": 0,
    "start_time": "2024-11-05T17:21:40.555Z"
   },
   {
    "duration": 0,
    "start_time": "2024-11-05T17:21:40.557Z"
   },
   {
    "duration": 0,
    "start_time": "2024-11-05T17:21:40.558Z"
   },
   {
    "duration": 0,
    "start_time": "2024-11-05T17:21:40.559Z"
   },
   {
    "duration": 0,
    "start_time": "2024-11-05T17:21:40.560Z"
   },
   {
    "duration": 0,
    "start_time": "2024-11-05T17:21:40.562Z"
   },
   {
    "duration": 0,
    "start_time": "2024-11-05T17:21:40.563Z"
   },
   {
    "duration": 0,
    "start_time": "2024-11-05T17:21:40.564Z"
   },
   {
    "duration": 0,
    "start_time": "2024-11-05T17:21:40.566Z"
   },
   {
    "duration": 0,
    "start_time": "2024-11-05T17:21:40.567Z"
   },
   {
    "duration": 39,
    "start_time": "2024-11-05T17:21:55.752Z"
   },
   {
    "duration": 94,
    "start_time": "2024-11-05T17:23:15.846Z"
   },
   {
    "duration": 0,
    "start_time": "2024-11-05T17:23:15.942Z"
   },
   {
    "duration": 0,
    "start_time": "2024-11-05T17:23:15.944Z"
   },
   {
    "duration": 0,
    "start_time": "2024-11-05T17:23:15.945Z"
   },
   {
    "duration": 0,
    "start_time": "2024-11-05T17:23:15.946Z"
   },
   {
    "duration": 0,
    "start_time": "2024-11-05T17:23:15.947Z"
   },
   {
    "duration": 0,
    "start_time": "2024-11-05T17:23:15.948Z"
   },
   {
    "duration": 0,
    "start_time": "2024-11-05T17:23:15.949Z"
   },
   {
    "duration": 0,
    "start_time": "2024-11-05T17:23:15.950Z"
   },
   {
    "duration": 0,
    "start_time": "2024-11-05T17:23:15.952Z"
   },
   {
    "duration": 0,
    "start_time": "2024-11-05T17:23:15.952Z"
   },
   {
    "duration": 1,
    "start_time": "2024-11-05T17:23:15.953Z"
   },
   {
    "duration": 0,
    "start_time": "2024-11-05T17:23:15.955Z"
   },
   {
    "duration": 0,
    "start_time": "2024-11-05T17:23:15.956Z"
   },
   {
    "duration": 0,
    "start_time": "2024-11-05T17:23:15.957Z"
   },
   {
    "duration": 0,
    "start_time": "2024-11-05T17:23:15.958Z"
   },
   {
    "duration": 0,
    "start_time": "2024-11-05T17:23:15.959Z"
   },
   {
    "duration": 0,
    "start_time": "2024-11-05T17:23:15.960Z"
   },
   {
    "duration": 0,
    "start_time": "2024-11-05T17:23:15.961Z"
   },
   {
    "duration": 0,
    "start_time": "2024-11-05T17:23:15.962Z"
   },
   {
    "duration": 0,
    "start_time": "2024-11-05T17:23:15.963Z"
   },
   {
    "duration": 0,
    "start_time": "2024-11-05T17:23:15.964Z"
   },
   {
    "duration": 0,
    "start_time": "2024-11-05T17:23:15.965Z"
   },
   {
    "duration": 0,
    "start_time": "2024-11-05T17:23:15.966Z"
   },
   {
    "duration": 0,
    "start_time": "2024-11-05T17:23:15.967Z"
   },
   {
    "duration": 0,
    "start_time": "2024-11-05T17:23:15.968Z"
   },
   {
    "duration": 0,
    "start_time": "2024-11-05T17:23:15.969Z"
   },
   {
    "duration": 0,
    "start_time": "2024-11-05T17:23:15.970Z"
   },
   {
    "duration": 0,
    "start_time": "2024-11-05T17:23:15.971Z"
   },
   {
    "duration": 0,
    "start_time": "2024-11-05T17:23:15.972Z"
   },
   {
    "duration": 0,
    "start_time": "2024-11-05T17:23:15.974Z"
   },
   {
    "duration": 0,
    "start_time": "2024-11-05T17:23:15.975Z"
   },
   {
    "duration": 0,
    "start_time": "2024-11-05T17:23:15.976Z"
   },
   {
    "duration": 89,
    "start_time": "2024-11-05T17:23:42.966Z"
   },
   {
    "duration": 0,
    "start_time": "2024-11-05T17:23:43.057Z"
   },
   {
    "duration": 0,
    "start_time": "2024-11-05T17:23:43.058Z"
   },
   {
    "duration": 0,
    "start_time": "2024-11-05T17:23:43.059Z"
   },
   {
    "duration": 0,
    "start_time": "2024-11-05T17:23:43.060Z"
   },
   {
    "duration": 0,
    "start_time": "2024-11-05T17:23:43.062Z"
   },
   {
    "duration": 0,
    "start_time": "2024-11-05T17:23:43.063Z"
   },
   {
    "duration": 0,
    "start_time": "2024-11-05T17:23:43.064Z"
   },
   {
    "duration": 0,
    "start_time": "2024-11-05T17:23:43.065Z"
   },
   {
    "duration": 0,
    "start_time": "2024-11-05T17:23:43.066Z"
   },
   {
    "duration": 0,
    "start_time": "2024-11-05T17:23:43.067Z"
   },
   {
    "duration": 0,
    "start_time": "2024-11-05T17:23:43.068Z"
   },
   {
    "duration": 0,
    "start_time": "2024-11-05T17:23:43.070Z"
   },
   {
    "duration": 0,
    "start_time": "2024-11-05T17:23:43.071Z"
   },
   {
    "duration": 0,
    "start_time": "2024-11-05T17:23:43.072Z"
   },
   {
    "duration": 0,
    "start_time": "2024-11-05T17:23:43.073Z"
   },
   {
    "duration": 0,
    "start_time": "2024-11-05T17:23:43.074Z"
   },
   {
    "duration": 0,
    "start_time": "2024-11-05T17:23:43.075Z"
   },
   {
    "duration": 0,
    "start_time": "2024-11-05T17:23:43.076Z"
   },
   {
    "duration": 0,
    "start_time": "2024-11-05T17:23:43.077Z"
   },
   {
    "duration": 0,
    "start_time": "2024-11-05T17:23:43.078Z"
   },
   {
    "duration": 0,
    "start_time": "2024-11-05T17:23:43.079Z"
   },
   {
    "duration": 0,
    "start_time": "2024-11-05T17:23:43.080Z"
   },
   {
    "duration": 0,
    "start_time": "2024-11-05T17:23:43.081Z"
   },
   {
    "duration": 0,
    "start_time": "2024-11-05T17:23:43.082Z"
   },
   {
    "duration": 0,
    "start_time": "2024-11-05T17:23:43.083Z"
   },
   {
    "duration": 0,
    "start_time": "2024-11-05T17:23:43.084Z"
   },
   {
    "duration": 0,
    "start_time": "2024-11-05T17:23:43.085Z"
   },
   {
    "duration": 0,
    "start_time": "2024-11-05T17:23:43.086Z"
   },
   {
    "duration": 0,
    "start_time": "2024-11-05T17:23:43.087Z"
   },
   {
    "duration": 0,
    "start_time": "2024-11-05T17:23:43.088Z"
   },
   {
    "duration": 0,
    "start_time": "2024-11-05T17:23:43.089Z"
   },
   {
    "duration": 0,
    "start_time": "2024-11-05T17:23:43.090Z"
   },
   {
    "duration": 9676,
    "start_time": "2024-11-05T17:24:51.570Z"
   },
   {
    "duration": 2982,
    "start_time": "2024-11-05T17:25:01.248Z"
   },
   {
    "duration": 5979,
    "start_time": "2024-11-05T17:25:11.744Z"
   },
   {
    "duration": 3031,
    "start_time": "2024-11-05T17:25:17.725Z"
   },
   {
    "duration": 4,
    "start_time": "2024-11-05T17:25:20.758Z"
   },
   {
    "duration": 1276,
    "start_time": "2024-11-05T17:25:20.765Z"
   },
   {
    "duration": 3,
    "start_time": "2024-11-05T17:25:22.044Z"
   },
   {
    "duration": 80,
    "start_time": "2024-11-05T17:25:22.049Z"
   },
   {
    "duration": 21,
    "start_time": "2024-11-05T17:25:22.131Z"
   },
   {
    "duration": 76,
    "start_time": "2024-11-05T17:25:22.154Z"
   },
   {
    "duration": 4,
    "start_time": "2024-11-05T17:25:22.231Z"
   },
   {
    "duration": 119,
    "start_time": "2024-11-05T17:25:22.239Z"
   },
   {
    "duration": 165,
    "start_time": "2024-11-05T17:25:22.360Z"
   },
   {
    "duration": 105,
    "start_time": "2024-11-05T17:25:22.526Z"
   },
   {
    "duration": 4,
    "start_time": "2024-11-05T17:25:22.633Z"
   },
   {
    "duration": 1803,
    "start_time": "2024-11-05T17:25:22.638Z"
   },
   {
    "duration": 1461,
    "start_time": "2024-11-05T17:25:24.443Z"
   },
   {
    "duration": 1435,
    "start_time": "2024-11-05T17:25:25.905Z"
   },
   {
    "duration": 203,
    "start_time": "2024-11-05T17:25:27.342Z"
   },
   {
    "duration": 0,
    "start_time": "2024-11-05T17:25:27.547Z"
   },
   {
    "duration": 0,
    "start_time": "2024-11-05T17:25:27.549Z"
   },
   {
    "duration": 0,
    "start_time": "2024-11-05T17:25:27.550Z"
   },
   {
    "duration": 0,
    "start_time": "2024-11-05T17:25:27.551Z"
   },
   {
    "duration": 0,
    "start_time": "2024-11-05T17:25:27.553Z"
   },
   {
    "duration": 0,
    "start_time": "2024-11-05T17:25:27.554Z"
   },
   {
    "duration": 0,
    "start_time": "2024-11-05T17:25:27.555Z"
   },
   {
    "duration": 0,
    "start_time": "2024-11-05T17:25:27.556Z"
   },
   {
    "duration": 0,
    "start_time": "2024-11-05T17:25:27.557Z"
   },
   {
    "duration": 0,
    "start_time": "2024-11-05T17:25:27.558Z"
   },
   {
    "duration": 0,
    "start_time": "2024-11-05T17:25:27.559Z"
   },
   {
    "duration": 0,
    "start_time": "2024-11-05T17:25:27.560Z"
   },
   {
    "duration": 0,
    "start_time": "2024-11-05T17:25:27.561Z"
   },
   {
    "duration": 0,
    "start_time": "2024-11-05T17:25:27.571Z"
   },
   {
    "duration": 0,
    "start_time": "2024-11-05T17:25:27.573Z"
   },
   {
    "duration": 0,
    "start_time": "2024-11-05T17:25:27.574Z"
   },
   {
    "duration": 9403,
    "start_time": "2024-11-05T17:27:46.607Z"
   },
   {
    "duration": 2624,
    "start_time": "2024-11-05T17:27:56.013Z"
   },
   {
    "duration": 0,
    "start_time": "2024-11-05T17:27:58.640Z"
   },
   {
    "duration": 0,
    "start_time": "2024-11-05T17:27:58.641Z"
   },
   {
    "duration": 0,
    "start_time": "2024-11-05T17:27:58.642Z"
   },
   {
    "duration": 0,
    "start_time": "2024-11-05T17:27:58.644Z"
   },
   {
    "duration": 0,
    "start_time": "2024-11-05T17:27:58.645Z"
   },
   {
    "duration": 0,
    "start_time": "2024-11-05T17:27:58.646Z"
   },
   {
    "duration": 0,
    "start_time": "2024-11-05T17:27:58.647Z"
   },
   {
    "duration": 0,
    "start_time": "2024-11-05T17:27:58.648Z"
   },
   {
    "duration": 0,
    "start_time": "2024-11-05T17:27:58.649Z"
   },
   {
    "duration": 0,
    "start_time": "2024-11-05T17:27:58.650Z"
   },
   {
    "duration": 0,
    "start_time": "2024-11-05T17:27:58.652Z"
   },
   {
    "duration": 1,
    "start_time": "2024-11-05T17:27:58.652Z"
   },
   {
    "duration": 0,
    "start_time": "2024-11-05T17:27:58.654Z"
   },
   {
    "duration": 0,
    "start_time": "2024-11-05T17:27:58.655Z"
   },
   {
    "duration": 0,
    "start_time": "2024-11-05T17:27:58.656Z"
   },
   {
    "duration": 0,
    "start_time": "2024-11-05T17:27:58.657Z"
   },
   {
    "duration": 0,
    "start_time": "2024-11-05T17:27:58.659Z"
   },
   {
    "duration": 0,
    "start_time": "2024-11-05T17:27:58.660Z"
   },
   {
    "duration": 0,
    "start_time": "2024-11-05T17:27:58.661Z"
   },
   {
    "duration": 0,
    "start_time": "2024-11-05T17:27:58.662Z"
   },
   {
    "duration": 0,
    "start_time": "2024-11-05T17:27:58.663Z"
   },
   {
    "duration": 0,
    "start_time": "2024-11-05T17:27:58.664Z"
   },
   {
    "duration": 0,
    "start_time": "2024-11-05T17:27:58.665Z"
   },
   {
    "duration": 0,
    "start_time": "2024-11-05T17:27:58.666Z"
   },
   {
    "duration": 0,
    "start_time": "2024-11-05T17:27:58.667Z"
   },
   {
    "duration": 0,
    "start_time": "2024-11-05T17:27:58.668Z"
   },
   {
    "duration": 0,
    "start_time": "2024-11-05T17:27:58.669Z"
   },
   {
    "duration": 0,
    "start_time": "2024-11-05T17:27:58.670Z"
   },
   {
    "duration": 0,
    "start_time": "2024-11-05T17:27:58.671Z"
   },
   {
    "duration": 0,
    "start_time": "2024-11-05T17:27:58.672Z"
   },
   {
    "duration": 0,
    "start_time": "2024-11-05T17:27:58.721Z"
   },
   {
    "duration": 3068,
    "start_time": "2024-11-05T17:31:39.208Z"
   },
   {
    "duration": 2681,
    "start_time": "2024-11-05T17:31:42.279Z"
   },
   {
    "duration": 0,
    "start_time": "2024-11-05T17:31:44.963Z"
   },
   {
    "duration": 0,
    "start_time": "2024-11-05T17:31:44.964Z"
   },
   {
    "duration": 0,
    "start_time": "2024-11-05T17:31:44.965Z"
   },
   {
    "duration": 0,
    "start_time": "2024-11-05T17:31:44.966Z"
   },
   {
    "duration": 0,
    "start_time": "2024-11-05T17:31:44.967Z"
   },
   {
    "duration": 0,
    "start_time": "2024-11-05T17:31:44.968Z"
   },
   {
    "duration": 0,
    "start_time": "2024-11-05T17:31:44.970Z"
   },
   {
    "duration": 0,
    "start_time": "2024-11-05T17:31:44.971Z"
   },
   {
    "duration": 0,
    "start_time": "2024-11-05T17:31:44.972Z"
   },
   {
    "duration": 0,
    "start_time": "2024-11-05T17:31:44.973Z"
   },
   {
    "duration": 0,
    "start_time": "2024-11-05T17:31:44.974Z"
   },
   {
    "duration": 0,
    "start_time": "2024-11-05T17:31:44.975Z"
   },
   {
    "duration": 0,
    "start_time": "2024-11-05T17:31:44.976Z"
   },
   {
    "duration": 0,
    "start_time": "2024-11-05T17:31:44.977Z"
   },
   {
    "duration": 0,
    "start_time": "2024-11-05T17:31:44.979Z"
   },
   {
    "duration": 0,
    "start_time": "2024-11-05T17:31:44.980Z"
   },
   {
    "duration": 0,
    "start_time": "2024-11-05T17:31:44.981Z"
   },
   {
    "duration": 0,
    "start_time": "2024-11-05T17:31:44.983Z"
   },
   {
    "duration": 0,
    "start_time": "2024-11-05T17:31:44.985Z"
   },
   {
    "duration": 0,
    "start_time": "2024-11-05T17:31:45.021Z"
   },
   {
    "duration": 0,
    "start_time": "2024-11-05T17:31:45.024Z"
   },
   {
    "duration": 0,
    "start_time": "2024-11-05T17:31:45.025Z"
   },
   {
    "duration": 0,
    "start_time": "2024-11-05T17:31:45.027Z"
   },
   {
    "duration": 0,
    "start_time": "2024-11-05T17:31:45.029Z"
   },
   {
    "duration": 0,
    "start_time": "2024-11-05T17:31:45.030Z"
   },
   {
    "duration": 0,
    "start_time": "2024-11-05T17:31:45.032Z"
   },
   {
    "duration": 0,
    "start_time": "2024-11-05T17:31:45.033Z"
   },
   {
    "duration": 0,
    "start_time": "2024-11-05T17:31:45.035Z"
   },
   {
    "duration": 0,
    "start_time": "2024-11-05T17:31:45.036Z"
   },
   {
    "duration": 0,
    "start_time": "2024-11-05T17:31:45.038Z"
   },
   {
    "duration": 0,
    "start_time": "2024-11-05T17:31:45.039Z"
   },
   {
    "duration": 3046,
    "start_time": "2024-11-05T17:32:51.530Z"
   },
   {
    "duration": 1657,
    "start_time": "2024-11-05T17:32:54.579Z"
   },
   {
    "duration": 0,
    "start_time": "2024-11-05T17:32:56.239Z"
   },
   {
    "duration": 0,
    "start_time": "2024-11-05T17:32:56.240Z"
   },
   {
    "duration": 0,
    "start_time": "2024-11-05T17:32:56.241Z"
   },
   {
    "duration": 0,
    "start_time": "2024-11-05T17:32:56.242Z"
   },
   {
    "duration": 0,
    "start_time": "2024-11-05T17:32:56.244Z"
   },
   {
    "duration": 0,
    "start_time": "2024-11-05T17:32:56.245Z"
   },
   {
    "duration": 0,
    "start_time": "2024-11-05T17:32:56.246Z"
   },
   {
    "duration": 0,
    "start_time": "2024-11-05T17:32:56.247Z"
   },
   {
    "duration": 0,
    "start_time": "2024-11-05T17:32:56.248Z"
   },
   {
    "duration": 0,
    "start_time": "2024-11-05T17:32:56.249Z"
   },
   {
    "duration": 0,
    "start_time": "2024-11-05T17:32:56.250Z"
   },
   {
    "duration": 0,
    "start_time": "2024-11-05T17:32:56.251Z"
   },
   {
    "duration": 0,
    "start_time": "2024-11-05T17:32:56.252Z"
   },
   {
    "duration": 0,
    "start_time": "2024-11-05T17:32:56.253Z"
   },
   {
    "duration": 0,
    "start_time": "2024-11-05T17:32:56.254Z"
   },
   {
    "duration": 0,
    "start_time": "2024-11-05T17:32:56.255Z"
   },
   {
    "duration": 0,
    "start_time": "2024-11-05T17:32:56.256Z"
   },
   {
    "duration": 0,
    "start_time": "2024-11-05T17:32:56.257Z"
   },
   {
    "duration": 0,
    "start_time": "2024-11-05T17:32:56.259Z"
   },
   {
    "duration": 0,
    "start_time": "2024-11-05T17:32:56.260Z"
   },
   {
    "duration": 0,
    "start_time": "2024-11-05T17:32:56.261Z"
   },
   {
    "duration": 0,
    "start_time": "2024-11-05T17:32:56.262Z"
   },
   {
    "duration": 0,
    "start_time": "2024-11-05T17:32:56.262Z"
   },
   {
    "duration": 0,
    "start_time": "2024-11-05T17:32:56.263Z"
   },
   {
    "duration": 0,
    "start_time": "2024-11-05T17:32:56.265Z"
   },
   {
    "duration": 0,
    "start_time": "2024-11-05T17:32:56.266Z"
   },
   {
    "duration": 0,
    "start_time": "2024-11-05T17:32:56.267Z"
   },
   {
    "duration": 0,
    "start_time": "2024-11-05T17:32:56.268Z"
   },
   {
    "duration": 0,
    "start_time": "2024-11-05T17:32:56.269Z"
   },
   {
    "duration": 0,
    "start_time": "2024-11-05T17:32:56.270Z"
   },
   {
    "duration": 0,
    "start_time": "2024-11-05T17:32:56.271Z"
   },
   {
    "duration": 8844,
    "start_time": "2024-11-05T17:33:54.443Z"
   },
   {
    "duration": 19,
    "start_time": "2024-11-05T17:34:03.290Z"
   },
   {
    "duration": 15634,
    "start_time": "2024-11-05T17:34:37.436Z"
   },
   {
    "duration": 2984,
    "start_time": "2024-11-05T17:34:53.072Z"
   },
   {
    "duration": 3,
    "start_time": "2024-11-05T17:34:56.058Z"
   },
   {
    "duration": 455,
    "start_time": "2024-11-05T17:34:56.062Z"
   },
   {
    "duration": 3,
    "start_time": "2024-11-05T17:34:56.519Z"
   },
   {
    "duration": 33,
    "start_time": "2024-11-05T17:34:56.523Z"
   },
   {
    "duration": 20,
    "start_time": "2024-11-05T17:34:56.557Z"
   },
   {
    "duration": 43,
    "start_time": "2024-11-05T17:34:56.579Z"
   },
   {
    "duration": 3,
    "start_time": "2024-11-05T17:34:56.624Z"
   },
   {
    "duration": 55,
    "start_time": "2024-11-05T17:34:56.628Z"
   },
   {
    "duration": 78,
    "start_time": "2024-11-05T17:34:56.685Z"
   },
   {
    "duration": 66,
    "start_time": "2024-11-05T17:34:56.765Z"
   },
   {
    "duration": 4,
    "start_time": "2024-11-05T17:34:56.833Z"
   },
   {
    "duration": 1645,
    "start_time": "2024-11-05T17:34:56.840Z"
   },
   {
    "duration": 1429,
    "start_time": "2024-11-05T17:34:58.487Z"
   },
   {
    "duration": 1448,
    "start_time": "2024-11-05T17:34:59.920Z"
   },
   {
    "duration": 205,
    "start_time": "2024-11-05T17:35:01.371Z"
   },
   {
    "duration": 0,
    "start_time": "2024-11-05T17:35:01.578Z"
   },
   {
    "duration": 0,
    "start_time": "2024-11-05T17:35:01.579Z"
   },
   {
    "duration": 0,
    "start_time": "2024-11-05T17:35:01.580Z"
   },
   {
    "duration": 0,
    "start_time": "2024-11-05T17:35:01.582Z"
   },
   {
    "duration": 0,
    "start_time": "2024-11-05T17:35:01.583Z"
   },
   {
    "duration": 0,
    "start_time": "2024-11-05T17:35:01.584Z"
   },
   {
    "duration": 0,
    "start_time": "2024-11-05T17:35:01.586Z"
   },
   {
    "duration": 0,
    "start_time": "2024-11-05T17:35:01.587Z"
   },
   {
    "duration": 0,
    "start_time": "2024-11-05T17:35:01.588Z"
   },
   {
    "duration": 0,
    "start_time": "2024-11-05T17:35:01.589Z"
   },
   {
    "duration": 0,
    "start_time": "2024-11-05T17:35:01.590Z"
   },
   {
    "duration": 0,
    "start_time": "2024-11-05T17:35:01.592Z"
   },
   {
    "duration": 0,
    "start_time": "2024-11-05T17:35:01.622Z"
   },
   {
    "duration": 0,
    "start_time": "2024-11-05T17:35:01.624Z"
   },
   {
    "duration": 0,
    "start_time": "2024-11-05T17:35:01.625Z"
   },
   {
    "duration": 0,
    "start_time": "2024-11-05T17:35:01.626Z"
   },
   {
    "duration": 12,
    "start_time": "2024-11-05T17:35:16.829Z"
   },
   {
    "duration": 11590,
    "start_time": "2024-11-05T17:39:32.421Z"
   },
   {
    "duration": 3105,
    "start_time": "2024-11-05T17:39:44.013Z"
   },
   {
    "duration": 3,
    "start_time": "2024-11-05T17:39:47.121Z"
   },
   {
    "duration": 445,
    "start_time": "2024-11-05T17:39:47.126Z"
   },
   {
    "duration": 3,
    "start_time": "2024-11-05T17:39:47.573Z"
   },
   {
    "duration": 49,
    "start_time": "2024-11-05T17:39:47.578Z"
   },
   {
    "duration": 22,
    "start_time": "2024-11-05T17:39:47.628Z"
   },
   {
    "duration": 25,
    "start_time": "2024-11-05T17:39:47.652Z"
   },
   {
    "duration": 6,
    "start_time": "2024-11-05T17:39:47.679Z"
   },
   {
    "duration": 94,
    "start_time": "2024-11-05T17:39:47.686Z"
   },
   {
    "duration": 79,
    "start_time": "2024-11-05T17:39:47.782Z"
   },
   {
    "duration": 66,
    "start_time": "2024-11-05T17:39:47.863Z"
   },
   {
    "duration": 4,
    "start_time": "2024-11-05T17:39:47.931Z"
   },
   {
    "duration": 1673,
    "start_time": "2024-11-05T17:39:47.937Z"
   },
   {
    "duration": 1514,
    "start_time": "2024-11-05T17:39:49.612Z"
   },
   {
    "duration": 2239,
    "start_time": "2024-11-05T17:39:51.128Z"
   },
   {
    "duration": 207,
    "start_time": "2024-11-05T17:39:53.369Z"
   },
   {
    "duration": 0,
    "start_time": "2024-11-05T17:39:53.577Z"
   },
   {
    "duration": 0,
    "start_time": "2024-11-05T17:39:53.578Z"
   },
   {
    "duration": 0,
    "start_time": "2024-11-05T17:39:53.579Z"
   },
   {
    "duration": 0,
    "start_time": "2024-11-05T17:39:53.581Z"
   },
   {
    "duration": 0,
    "start_time": "2024-11-05T17:39:53.582Z"
   },
   {
    "duration": 0,
    "start_time": "2024-11-05T17:39:53.583Z"
   },
   {
    "duration": 0,
    "start_time": "2024-11-05T17:39:53.584Z"
   },
   {
    "duration": 0,
    "start_time": "2024-11-05T17:39:53.585Z"
   },
   {
    "duration": 0,
    "start_time": "2024-11-05T17:39:53.586Z"
   },
   {
    "duration": 0,
    "start_time": "2024-11-05T17:39:53.587Z"
   },
   {
    "duration": 0,
    "start_time": "2024-11-05T17:39:53.588Z"
   },
   {
    "duration": 1,
    "start_time": "2024-11-05T17:39:53.589Z"
   },
   {
    "duration": 0,
    "start_time": "2024-11-05T17:39:53.591Z"
   },
   {
    "duration": 0,
    "start_time": "2024-11-05T17:39:53.592Z"
   },
   {
    "duration": 0,
    "start_time": "2024-11-05T17:39:53.593Z"
   },
   {
    "duration": 0,
    "start_time": "2024-11-05T17:39:53.594Z"
   },
   {
    "duration": 13,
    "start_time": "2024-11-05T17:42:44.848Z"
   },
   {
    "duration": 11475,
    "start_time": "2024-11-05T17:42:57.534Z"
   },
   {
    "duration": 3017,
    "start_time": "2024-11-05T17:43:09.011Z"
   },
   {
    "duration": 3,
    "start_time": "2024-11-05T17:43:12.029Z"
   },
   {
    "duration": 454,
    "start_time": "2024-11-05T17:43:12.034Z"
   },
   {
    "duration": 3,
    "start_time": "2024-11-05T17:43:12.490Z"
   },
   {
    "duration": 41,
    "start_time": "2024-11-05T17:43:12.494Z"
   },
   {
    "duration": 20,
    "start_time": "2024-11-05T17:43:12.536Z"
   },
   {
    "duration": 20,
    "start_time": "2024-11-05T17:43:12.557Z"
   },
   {
    "duration": 4,
    "start_time": "2024-11-05T17:43:12.578Z"
   },
   {
    "duration": 85,
    "start_time": "2024-11-05T17:43:12.585Z"
   },
   {
    "duration": 55,
    "start_time": "2024-11-05T17:43:12.671Z"
   },
   {
    "duration": 49,
    "start_time": "2024-11-05T17:43:12.728Z"
   },
   {
    "duration": 4,
    "start_time": "2024-11-05T17:43:12.779Z"
   },
   {
    "duration": 1578,
    "start_time": "2024-11-05T17:43:12.784Z"
   },
   {
    "duration": 1446,
    "start_time": "2024-11-05T17:43:14.363Z"
   },
   {
    "duration": 1423,
    "start_time": "2024-11-05T17:43:15.812Z"
   },
   {
    "duration": 189,
    "start_time": "2024-11-05T17:43:17.237Z"
   },
   {
    "duration": 0,
    "start_time": "2024-11-05T17:43:17.428Z"
   },
   {
    "duration": 0,
    "start_time": "2024-11-05T17:43:17.429Z"
   },
   {
    "duration": 0,
    "start_time": "2024-11-05T17:43:17.430Z"
   },
   {
    "duration": 0,
    "start_time": "2024-11-05T17:43:17.431Z"
   },
   {
    "duration": 0,
    "start_time": "2024-11-05T17:43:17.432Z"
   },
   {
    "duration": 0,
    "start_time": "2024-11-05T17:43:17.433Z"
   },
   {
    "duration": 0,
    "start_time": "2024-11-05T17:43:17.435Z"
   },
   {
    "duration": 0,
    "start_time": "2024-11-05T17:43:17.436Z"
   },
   {
    "duration": 0,
    "start_time": "2024-11-05T17:43:17.437Z"
   },
   {
    "duration": 0,
    "start_time": "2024-11-05T17:43:17.438Z"
   },
   {
    "duration": 0,
    "start_time": "2024-11-05T17:43:17.439Z"
   },
   {
    "duration": 0,
    "start_time": "2024-11-05T17:43:17.439Z"
   },
   {
    "duration": 0,
    "start_time": "2024-11-05T17:43:17.440Z"
   },
   {
    "duration": 0,
    "start_time": "2024-11-05T17:43:17.441Z"
   },
   {
    "duration": 0,
    "start_time": "2024-11-05T17:43:17.442Z"
   },
   {
    "duration": 0,
    "start_time": "2024-11-05T17:43:17.444Z"
   },
   {
    "duration": 13,
    "start_time": "2024-11-05T17:43:24.749Z"
   },
   {
    "duration": 24353,
    "start_time": "2024-11-05T17:45:43.412Z"
   },
   {
    "duration": 3027,
    "start_time": "2024-11-05T17:46:07.768Z"
   },
   {
    "duration": 4,
    "start_time": "2024-11-05T17:46:10.797Z"
   },
   {
    "duration": 506,
    "start_time": "2024-11-05T17:46:10.804Z"
   },
   {
    "duration": 4,
    "start_time": "2024-11-05T17:46:11.312Z"
   },
   {
    "duration": 56,
    "start_time": "2024-11-05T17:46:11.318Z"
   },
   {
    "duration": 22,
    "start_time": "2024-11-05T17:46:11.376Z"
   },
   {
    "duration": 22,
    "start_time": "2024-11-05T17:46:11.400Z"
   },
   {
    "duration": 56,
    "start_time": "2024-11-05T17:46:11.424Z"
   },
   {
    "duration": 61,
    "start_time": "2024-11-05T17:46:11.483Z"
   },
   {
    "duration": 49,
    "start_time": "2024-11-05T17:46:11.547Z"
   },
   {
    "duration": 73,
    "start_time": "2024-11-05T17:46:11.597Z"
   },
   {
    "duration": 4,
    "start_time": "2024-11-05T17:46:11.671Z"
   },
   {
    "duration": 1749,
    "start_time": "2024-11-05T17:46:11.677Z"
   },
   {
    "duration": 2117,
    "start_time": "2024-11-05T17:46:13.428Z"
   },
   {
    "duration": 1518,
    "start_time": "2024-11-05T17:46:15.546Z"
   },
   {
    "duration": 204,
    "start_time": "2024-11-05T17:46:17.066Z"
   },
   {
    "duration": 0,
    "start_time": "2024-11-05T17:46:17.272Z"
   },
   {
    "duration": 0,
    "start_time": "2024-11-05T17:46:17.273Z"
   },
   {
    "duration": 0,
    "start_time": "2024-11-05T17:46:17.274Z"
   },
   {
    "duration": 0,
    "start_time": "2024-11-05T17:46:17.275Z"
   },
   {
    "duration": 0,
    "start_time": "2024-11-05T17:46:17.276Z"
   },
   {
    "duration": 0,
    "start_time": "2024-11-05T17:46:17.277Z"
   },
   {
    "duration": 0,
    "start_time": "2024-11-05T17:46:17.278Z"
   },
   {
    "duration": 0,
    "start_time": "2024-11-05T17:46:17.279Z"
   },
   {
    "duration": 0,
    "start_time": "2024-11-05T17:46:17.281Z"
   },
   {
    "duration": 0,
    "start_time": "2024-11-05T17:46:17.282Z"
   },
   {
    "duration": 0,
    "start_time": "2024-11-05T17:46:17.283Z"
   },
   {
    "duration": 0,
    "start_time": "2024-11-05T17:46:17.285Z"
   },
   {
    "duration": 0,
    "start_time": "2024-11-05T17:46:17.286Z"
   },
   {
    "duration": 0,
    "start_time": "2024-11-05T17:46:17.287Z"
   },
   {
    "duration": 0,
    "start_time": "2024-11-05T17:46:17.288Z"
   },
   {
    "duration": 0,
    "start_time": "2024-11-05T17:46:17.289Z"
   },
   {
    "duration": 14,
    "start_time": "2024-11-05T17:46:28.636Z"
   },
   {
    "duration": 3058,
    "start_time": "2024-11-05T17:51:23.011Z"
   },
   {
    "duration": 4,
    "start_time": "2024-11-05T17:51:26.071Z"
   },
   {
    "duration": 445,
    "start_time": "2024-11-05T17:51:26.076Z"
   },
   {
    "duration": 3,
    "start_time": "2024-11-05T17:51:26.523Z"
   },
   {
    "duration": 32,
    "start_time": "2024-11-05T17:51:26.528Z"
   },
   {
    "duration": 21,
    "start_time": "2024-11-05T17:51:26.561Z"
   },
   {
    "duration": 44,
    "start_time": "2024-11-05T17:51:26.584Z"
   },
   {
    "duration": 3,
    "start_time": "2024-11-05T17:51:26.630Z"
   },
   {
    "duration": 58,
    "start_time": "2024-11-05T17:51:26.635Z"
   },
   {
    "duration": 68,
    "start_time": "2024-11-05T17:51:26.696Z"
   },
   {
    "duration": 81,
    "start_time": "2024-11-05T17:51:26.766Z"
   },
   {
    "duration": 4,
    "start_time": "2024-11-05T17:51:26.848Z"
   },
   {
    "duration": 1617,
    "start_time": "2024-11-05T17:51:26.853Z"
   },
   {
    "duration": 1389,
    "start_time": "2024-11-05T17:51:28.471Z"
   },
   {
    "duration": 1481,
    "start_time": "2024-11-05T17:51:29.862Z"
   },
   {
    "duration": 192,
    "start_time": "2024-11-05T17:51:31.344Z"
   },
   {
    "duration": 0,
    "start_time": "2024-11-05T17:51:31.537Z"
   },
   {
    "duration": 0,
    "start_time": "2024-11-05T17:51:31.539Z"
   },
   {
    "duration": 0,
    "start_time": "2024-11-05T17:51:31.540Z"
   },
   {
    "duration": 0,
    "start_time": "2024-11-05T17:51:31.541Z"
   },
   {
    "duration": 0,
    "start_time": "2024-11-05T17:51:31.542Z"
   },
   {
    "duration": 0,
    "start_time": "2024-11-05T17:51:31.543Z"
   },
   {
    "duration": 0,
    "start_time": "2024-11-05T17:51:31.544Z"
   },
   {
    "duration": 0,
    "start_time": "2024-11-05T17:51:31.545Z"
   },
   {
    "duration": 0,
    "start_time": "2024-11-05T17:51:31.546Z"
   },
   {
    "duration": 0,
    "start_time": "2024-11-05T17:51:31.547Z"
   },
   {
    "duration": 0,
    "start_time": "2024-11-05T17:51:31.547Z"
   },
   {
    "duration": 0,
    "start_time": "2024-11-05T17:51:31.549Z"
   },
   {
    "duration": 0,
    "start_time": "2024-11-05T17:51:31.550Z"
   },
   {
    "duration": 0,
    "start_time": "2024-11-05T17:51:31.551Z"
   },
   {
    "duration": 0,
    "start_time": "2024-11-05T17:51:31.552Z"
   },
   {
    "duration": 15,
    "start_time": "2024-11-05T17:53:24.513Z"
   },
   {
    "duration": 14,
    "start_time": "2024-11-05T17:53:35.973Z"
   },
   {
    "duration": 13,
    "start_time": "2024-11-05T17:53:41.281Z"
   },
   {
    "duration": 3097,
    "start_time": "2024-11-05T17:54:15.292Z"
   },
   {
    "duration": 4,
    "start_time": "2024-11-05T17:54:18.391Z"
   },
   {
    "duration": 438,
    "start_time": "2024-11-05T17:54:18.397Z"
   },
   {
    "duration": 5,
    "start_time": "2024-11-05T17:54:18.837Z"
   },
   {
    "duration": 40,
    "start_time": "2024-11-05T17:54:18.844Z"
   },
   {
    "duration": 35,
    "start_time": "2024-11-05T17:54:18.885Z"
   },
   {
    "duration": 23,
    "start_time": "2024-11-05T17:54:18.922Z"
   },
   {
    "duration": 4,
    "start_time": "2024-11-05T17:54:18.948Z"
   },
   {
    "duration": 84,
    "start_time": "2024-11-05T17:54:18.954Z"
   },
   {
    "duration": 45,
    "start_time": "2024-11-05T17:54:19.041Z"
   },
   {
    "duration": 102,
    "start_time": "2024-11-05T17:54:19.087Z"
   },
   {
    "duration": 5,
    "start_time": "2024-11-05T17:54:19.191Z"
   },
   {
    "duration": 1628,
    "start_time": "2024-11-05T17:54:19.197Z"
   },
   {
    "duration": 1451,
    "start_time": "2024-11-05T17:54:20.827Z"
   },
   {
    "duration": 1464,
    "start_time": "2024-11-05T17:54:22.280Z"
   },
   {
    "duration": 16,
    "start_time": "2024-11-05T17:54:23.746Z"
   },
   {
    "duration": 19,
    "start_time": "2024-11-05T17:54:23.764Z"
   },
   {
    "duration": 45,
    "start_time": "2024-11-05T17:54:23.785Z"
   },
   {
    "duration": 5,
    "start_time": "2024-11-05T17:54:23.831Z"
   },
   {
    "duration": 89,
    "start_time": "2024-11-05T17:54:23.838Z"
   },
   {
    "duration": 189,
    "start_time": "2024-11-05T17:54:23.933Z"
   },
   {
    "duration": 119,
    "start_time": "2024-11-05T17:54:24.124Z"
   },
   {
    "duration": 76,
    "start_time": "2024-11-05T17:54:24.245Z"
   },
   {
    "duration": 5,
    "start_time": "2024-11-05T17:54:24.323Z"
   },
   {
    "duration": 95,
    "start_time": "2024-11-05T17:54:24.330Z"
   },
   {
    "duration": 12,
    "start_time": "2024-11-05T17:54:24.427Z"
   },
   {
    "duration": 11,
    "start_time": "2024-11-05T17:54:24.441Z"
   },
   {
    "duration": 7,
    "start_time": "2024-11-05T17:54:24.456Z"
   },
   {
    "duration": 1660,
    "start_time": "2024-11-05T17:54:24.464Z"
   },
   {
    "duration": 2523,
    "start_time": "2024-11-05T17:54:26.126Z"
   },
   {
    "duration": 1580,
    "start_time": "2024-11-05T17:54:28.651Z"
   },
   {
    "duration": 220,
    "start_time": "2024-11-05T17:54:54.098Z"
   },
   {
    "duration": 3433,
    "start_time": "2024-11-05T17:55:22.047Z"
   },
   {
    "duration": 5,
    "start_time": "2024-11-05T17:55:28.397Z"
   },
   {
    "duration": 4287,
    "start_time": "2024-11-05T17:55:43.968Z"
   },
   {
    "duration": 3044,
    "start_time": "2024-11-05T17:55:48.257Z"
   },
   {
    "duration": 3,
    "start_time": "2024-11-05T17:55:51.303Z"
   },
   {
    "duration": 479,
    "start_time": "2024-11-05T17:55:51.309Z"
   },
   {
    "duration": 3,
    "start_time": "2024-11-05T17:55:51.790Z"
   },
   {
    "duration": 49,
    "start_time": "2024-11-05T17:55:51.795Z"
   },
   {
    "duration": 22,
    "start_time": "2024-11-05T17:55:51.845Z"
   },
   {
    "duration": 27,
    "start_time": "2024-11-05T17:55:51.869Z"
   },
   {
    "duration": 23,
    "start_time": "2024-11-05T17:55:51.898Z"
   },
   {
    "duration": 56,
    "start_time": "2024-11-05T17:55:51.925Z"
   },
   {
    "duration": 74,
    "start_time": "2024-11-05T17:55:51.982Z"
   },
   {
    "duration": 66,
    "start_time": "2024-11-05T17:55:52.058Z"
   },
   {
    "duration": 4,
    "start_time": "2024-11-05T17:55:52.126Z"
   },
   {
    "duration": 1634,
    "start_time": "2024-11-05T17:55:52.132Z"
   },
   {
    "duration": 1598,
    "start_time": "2024-11-05T17:55:53.768Z"
   },
   {
    "duration": 1507,
    "start_time": "2024-11-05T17:55:55.368Z"
   },
   {
    "duration": 14,
    "start_time": "2024-11-05T17:55:56.877Z"
   },
   {
    "duration": 28,
    "start_time": "2024-11-05T17:55:56.893Z"
   },
   {
    "duration": 14,
    "start_time": "2024-11-05T17:55:56.923Z"
   },
   {
    "duration": 205,
    "start_time": "2024-11-05T17:55:56.938Z"
   },
   {
    "duration": 0,
    "start_time": "2024-11-05T17:55:57.145Z"
   },
   {
    "duration": 0,
    "start_time": "2024-11-05T17:55:57.146Z"
   },
   {
    "duration": 0,
    "start_time": "2024-11-05T17:55:57.147Z"
   },
   {
    "duration": 0,
    "start_time": "2024-11-05T17:55:57.149Z"
   },
   {
    "duration": 0,
    "start_time": "2024-11-05T17:55:57.150Z"
   },
   {
    "duration": 0,
    "start_time": "2024-11-05T17:55:57.151Z"
   },
   {
    "duration": 0,
    "start_time": "2024-11-05T17:55:57.152Z"
   },
   {
    "duration": 0,
    "start_time": "2024-11-05T17:55:57.153Z"
   },
   {
    "duration": 0,
    "start_time": "2024-11-05T17:55:57.155Z"
   },
   {
    "duration": 0,
    "start_time": "2024-11-05T17:55:57.156Z"
   },
   {
    "duration": 0,
    "start_time": "2024-11-05T17:55:57.157Z"
   },
   {
    "duration": 0,
    "start_time": "2024-11-05T17:55:57.158Z"
   },
   {
    "duration": 0,
    "start_time": "2024-11-05T17:55:57.159Z"
   },
   {
    "duration": 4123,
    "start_time": "2024-11-05T17:58:11.129Z"
   },
   {
    "duration": 3107,
    "start_time": "2024-11-05T17:58:15.254Z"
   },
   {
    "duration": 4,
    "start_time": "2024-11-05T17:58:18.363Z"
   },
   {
    "duration": 452,
    "start_time": "2024-11-05T17:58:18.371Z"
   },
   {
    "duration": 2,
    "start_time": "2024-11-05T17:58:18.825Z"
   },
   {
    "duration": 68,
    "start_time": "2024-11-05T17:58:18.829Z"
   },
   {
    "duration": 20,
    "start_time": "2024-11-05T17:58:18.898Z"
   },
   {
    "duration": 29,
    "start_time": "2024-11-05T17:58:18.920Z"
   },
   {
    "duration": 3,
    "start_time": "2024-11-05T17:58:18.951Z"
   },
   {
    "duration": 68,
    "start_time": "2024-11-05T17:58:18.957Z"
   },
   {
    "duration": 48,
    "start_time": "2024-11-05T17:58:19.026Z"
   },
   {
    "duration": 83,
    "start_time": "2024-11-05T17:58:19.076Z"
   },
   {
    "duration": 4,
    "start_time": "2024-11-05T17:58:19.161Z"
   },
   {
    "duration": 1640,
    "start_time": "2024-11-05T17:58:19.167Z"
   },
   {
    "duration": 1452,
    "start_time": "2024-11-05T17:58:20.809Z"
   },
   {
    "duration": 1486,
    "start_time": "2024-11-05T17:58:22.263Z"
   },
   {
    "duration": 14,
    "start_time": "2024-11-05T17:58:23.751Z"
   },
   {
    "duration": 21,
    "start_time": "2024-11-05T17:58:23.767Z"
   },
   {
    "duration": 41,
    "start_time": "2024-11-05T17:58:23.790Z"
   },
   {
    "duration": 65,
    "start_time": "2024-11-05T17:58:23.833Z"
   },
   {
    "duration": 0,
    "start_time": "2024-11-05T17:58:23.900Z"
   },
   {
    "duration": 0,
    "start_time": "2024-11-05T17:58:23.901Z"
   },
   {
    "duration": 0,
    "start_time": "2024-11-05T17:58:23.903Z"
   },
   {
    "duration": 0,
    "start_time": "2024-11-05T17:58:23.903Z"
   },
   {
    "duration": 0,
    "start_time": "2024-11-05T17:58:23.905Z"
   },
   {
    "duration": 0,
    "start_time": "2024-11-05T17:58:23.906Z"
   },
   {
    "duration": 0,
    "start_time": "2024-11-05T17:58:23.907Z"
   },
   {
    "duration": 0,
    "start_time": "2024-11-05T17:58:23.908Z"
   },
   {
    "duration": 0,
    "start_time": "2024-11-05T17:58:23.909Z"
   },
   {
    "duration": 0,
    "start_time": "2024-11-05T17:58:23.909Z"
   },
   {
    "duration": 0,
    "start_time": "2024-11-05T17:58:23.911Z"
   },
   {
    "duration": 0,
    "start_time": "2024-11-05T17:58:23.912Z"
   },
   {
    "duration": 0,
    "start_time": "2024-11-05T17:58:23.913Z"
   },
   {
    "duration": 208,
    "start_time": "2024-11-05T17:58:50.019Z"
   },
   {
    "duration": 38868,
    "start_time": "2024-11-07T03:17:33.457Z"
   },
   {
    "duration": 1628,
    "start_time": "2024-11-07T03:18:12.327Z"
   },
   {
    "duration": 0,
    "start_time": "2024-11-07T03:18:13.957Z"
   },
   {
    "duration": 0,
    "start_time": "2024-11-07T03:18:13.958Z"
   },
   {
    "duration": 0,
    "start_time": "2024-11-07T03:18:13.959Z"
   },
   {
    "duration": 0,
    "start_time": "2024-11-07T03:18:13.959Z"
   },
   {
    "duration": 0,
    "start_time": "2024-11-07T03:18:13.960Z"
   },
   {
    "duration": 0,
    "start_time": "2024-11-07T03:18:13.961Z"
   },
   {
    "duration": 0,
    "start_time": "2024-11-07T03:18:13.962Z"
   },
   {
    "duration": 0,
    "start_time": "2024-11-07T03:18:13.963Z"
   },
   {
    "duration": 0,
    "start_time": "2024-11-07T03:18:13.964Z"
   },
   {
    "duration": 0,
    "start_time": "2024-11-07T03:18:13.964Z"
   },
   {
    "duration": 0,
    "start_time": "2024-11-07T03:18:13.965Z"
   },
   {
    "duration": 0,
    "start_time": "2024-11-07T03:18:13.966Z"
   },
   {
    "duration": 0,
    "start_time": "2024-11-07T03:18:13.967Z"
   },
   {
    "duration": 0,
    "start_time": "2024-11-07T03:18:13.967Z"
   },
   {
    "duration": 0,
    "start_time": "2024-11-07T03:18:13.968Z"
   },
   {
    "duration": 0,
    "start_time": "2024-11-07T03:18:13.969Z"
   },
   {
    "duration": 0,
    "start_time": "2024-11-07T03:18:13.970Z"
   },
   {
    "duration": 0,
    "start_time": "2024-11-07T03:18:13.971Z"
   },
   {
    "duration": 0,
    "start_time": "2024-11-07T03:18:13.972Z"
   },
   {
    "duration": 0,
    "start_time": "2024-11-07T03:18:13.973Z"
   },
   {
    "duration": 1,
    "start_time": "2024-11-07T03:18:13.973Z"
   },
   {
    "duration": 0,
    "start_time": "2024-11-07T03:18:13.974Z"
   },
   {
    "duration": 0,
    "start_time": "2024-11-07T03:18:13.975Z"
   },
   {
    "duration": 0,
    "start_time": "2024-11-07T03:18:13.976Z"
   },
   {
    "duration": 0,
    "start_time": "2024-11-07T03:18:14.007Z"
   },
   {
    "duration": 0,
    "start_time": "2024-11-07T03:18:14.009Z"
   },
   {
    "duration": 0,
    "start_time": "2024-11-07T03:18:14.010Z"
   },
   {
    "duration": 0,
    "start_time": "2024-11-07T03:18:14.010Z"
   },
   {
    "duration": 0,
    "start_time": "2024-11-07T03:18:14.011Z"
   },
   {
    "duration": 0,
    "start_time": "2024-11-07T03:18:14.012Z"
   },
   {
    "duration": 0,
    "start_time": "2024-11-07T03:18:14.013Z"
   },
   {
    "duration": 40392,
    "start_time": "2024-11-07T15:54:01.998Z"
   },
   {
    "duration": 1919,
    "start_time": "2024-11-07T15:54:42.393Z"
   },
   {
    "duration": 0,
    "start_time": "2024-11-07T15:54:44.315Z"
   },
   {
    "duration": 0,
    "start_time": "2024-11-07T15:54:44.316Z"
   },
   {
    "duration": 0,
    "start_time": "2024-11-07T15:54:44.317Z"
   },
   {
    "duration": 0,
    "start_time": "2024-11-07T15:54:44.318Z"
   },
   {
    "duration": 0,
    "start_time": "2024-11-07T15:54:44.319Z"
   },
   {
    "duration": 0,
    "start_time": "2024-11-07T15:54:44.320Z"
   },
   {
    "duration": 0,
    "start_time": "2024-11-07T15:54:44.321Z"
   },
   {
    "duration": 0,
    "start_time": "2024-11-07T15:54:44.321Z"
   },
   {
    "duration": 0,
    "start_time": "2024-11-07T15:54:44.322Z"
   },
   {
    "duration": 0,
    "start_time": "2024-11-07T15:54:44.323Z"
   },
   {
    "duration": 0,
    "start_time": "2024-11-07T15:54:44.324Z"
   },
   {
    "duration": 0,
    "start_time": "2024-11-07T15:54:44.325Z"
   },
   {
    "duration": 0,
    "start_time": "2024-11-07T15:54:44.326Z"
   },
   {
    "duration": 0,
    "start_time": "2024-11-07T15:54:44.327Z"
   },
   {
    "duration": 0,
    "start_time": "2024-11-07T15:54:44.352Z"
   },
   {
    "duration": 0,
    "start_time": "2024-11-07T15:54:44.353Z"
   },
   {
    "duration": 0,
    "start_time": "2024-11-07T15:54:44.354Z"
   },
   {
    "duration": 0,
    "start_time": "2024-11-07T15:54:44.355Z"
   },
   {
    "duration": 0,
    "start_time": "2024-11-07T15:54:44.356Z"
   },
   {
    "duration": 0,
    "start_time": "2024-11-07T15:54:44.357Z"
   },
   {
    "duration": 0,
    "start_time": "2024-11-07T15:54:44.358Z"
   },
   {
    "duration": 0,
    "start_time": "2024-11-07T15:54:44.359Z"
   },
   {
    "duration": 0,
    "start_time": "2024-11-07T15:54:44.360Z"
   },
   {
    "duration": 0,
    "start_time": "2024-11-07T15:54:44.361Z"
   },
   {
    "duration": 0,
    "start_time": "2024-11-07T15:54:44.362Z"
   },
   {
    "duration": 0,
    "start_time": "2024-11-07T15:54:44.363Z"
   },
   {
    "duration": 0,
    "start_time": "2024-11-07T15:54:44.364Z"
   },
   {
    "duration": 0,
    "start_time": "2024-11-07T15:54:44.365Z"
   },
   {
    "duration": 0,
    "start_time": "2024-11-07T15:54:44.366Z"
   },
   {
    "duration": 0,
    "start_time": "2024-11-07T15:54:44.367Z"
   },
   {
    "duration": 0,
    "start_time": "2024-11-07T15:54:44.368Z"
   },
   {
    "duration": 72,
    "start_time": "2024-11-07T15:55:19.367Z"
   },
   {
    "duration": 14,
    "start_time": "2024-11-07T15:55:20.524Z"
   },
   {
    "duration": 9839,
    "start_time": "2024-11-07T15:55:35.892Z"
   },
   {
    "duration": 21,
    "start_time": "2024-11-07T15:55:45.734Z"
   },
   {
    "duration": 5929,
    "start_time": "2024-11-07T15:55:57.902Z"
   },
   {
    "duration": 3318,
    "start_time": "2024-11-07T15:56:03.834Z"
   },
   {
    "duration": 3,
    "start_time": "2024-11-07T15:56:07.154Z"
   },
   {
    "duration": 1810,
    "start_time": "2024-11-07T15:56:07.159Z"
   },
   {
    "duration": 4,
    "start_time": "2024-11-07T15:56:08.971Z"
   },
   {
    "duration": 42,
    "start_time": "2024-11-07T15:56:08.976Z"
   },
   {
    "duration": 22,
    "start_time": "2024-11-07T15:56:09.020Z"
   },
   {
    "duration": 23,
    "start_time": "2024-11-07T15:56:09.044Z"
   },
   {
    "duration": 4,
    "start_time": "2024-11-07T15:56:09.069Z"
   },
   {
    "duration": 83,
    "start_time": "2024-11-07T15:56:09.076Z"
   },
   {
    "duration": 48,
    "start_time": "2024-11-07T15:56:09.161Z"
   },
   {
    "duration": 74,
    "start_time": "2024-11-07T15:56:09.211Z"
   },
   {
    "duration": 3,
    "start_time": "2024-11-07T15:56:09.287Z"
   },
   {
    "duration": 1585,
    "start_time": "2024-11-07T15:56:09.292Z"
   },
   {
    "duration": 1410,
    "start_time": "2024-11-07T15:56:10.878Z"
   },
   {
    "duration": 1419,
    "start_time": "2024-11-07T15:56:12.290Z"
   },
   {
    "duration": 15,
    "start_time": "2024-11-07T15:56:13.711Z"
   },
   {
    "duration": 27,
    "start_time": "2024-11-07T15:56:13.727Z"
   },
   {
    "duration": 14,
    "start_time": "2024-11-07T15:56:13.756Z"
   },
   {
    "duration": 2,
    "start_time": "2024-11-07T15:56:13.772Z"
   },
   {
    "duration": 5,
    "start_time": "2024-11-07T15:56:13.776Z"
   },
   {
    "duration": 73,
    "start_time": "2024-11-07T15:56:13.782Z"
   },
   {
    "duration": 134,
    "start_time": "2024-11-07T15:56:13.857Z"
   },
   {
    "duration": 115,
    "start_time": "2024-11-07T15:56:14.053Z"
   },
   {
    "duration": 85,
    "start_time": "2024-11-07T15:56:14.171Z"
   },
   {
    "duration": 92,
    "start_time": "2024-11-07T15:56:14.262Z"
   },
   {
    "duration": 9,
    "start_time": "2024-11-07T15:56:14.357Z"
   },
   {
    "duration": 10,
    "start_time": "2024-11-07T15:56:14.370Z"
   },
   {
    "duration": 10,
    "start_time": "2024-11-07T15:56:14.381Z"
   },
   {
    "duration": 5,
    "start_time": "2024-11-07T15:56:14.393Z"
   },
   {
    "duration": 1558,
    "start_time": "2024-11-07T15:56:14.400Z"
   },
   {
    "duration": 1471,
    "start_time": "2024-11-07T15:56:15.960Z"
   },
   {
    "duration": 1490,
    "start_time": "2024-11-07T15:56:17.433Z"
   },
   {
    "duration": 189,
    "start_time": "2024-11-07T15:56:48.601Z"
   },
   {
    "duration": 6000,
    "start_time": "2024-11-07T16:00:11.813Z"
   },
   {
    "duration": 2971,
    "start_time": "2024-11-07T16:00:17.815Z"
   },
   {
    "duration": 3,
    "start_time": "2024-11-07T16:00:20.788Z"
   },
   {
    "duration": 455,
    "start_time": "2024-11-07T16:00:20.793Z"
   },
   {
    "duration": 2,
    "start_time": "2024-11-07T16:00:21.250Z"
   },
   {
    "duration": 33,
    "start_time": "2024-11-07T16:00:21.254Z"
   },
   {
    "duration": 20,
    "start_time": "2024-11-07T16:00:21.289Z"
   },
   {
    "duration": 41,
    "start_time": "2024-11-07T16:00:21.311Z"
   },
   {
    "duration": 3,
    "start_time": "2024-11-07T16:00:21.354Z"
   },
   {
    "duration": 56,
    "start_time": "2024-11-07T16:00:21.359Z"
   },
   {
    "duration": 74,
    "start_time": "2024-11-07T16:00:21.416Z"
   },
   {
    "duration": 65,
    "start_time": "2024-11-07T16:00:21.492Z"
   },
   {
    "duration": 4,
    "start_time": "2024-11-07T16:00:21.558Z"
   },
   {
    "duration": 1549,
    "start_time": "2024-11-07T16:00:21.563Z"
   },
   {
    "duration": 1384,
    "start_time": "2024-11-07T16:00:23.114Z"
   },
   {
    "duration": 1413,
    "start_time": "2024-11-07T16:00:24.499Z"
   },
   {
    "duration": 14,
    "start_time": "2024-11-07T16:00:25.914Z"
   },
   {
    "duration": 31,
    "start_time": "2024-11-07T16:00:25.930Z"
   },
   {
    "duration": 15,
    "start_time": "2024-11-07T16:00:25.962Z"
   },
   {
    "duration": 2,
    "start_time": "2024-11-07T16:00:25.978Z"
   },
   {
    "duration": 6,
    "start_time": "2024-11-07T16:00:25.982Z"
   },
   {
    "duration": 66,
    "start_time": "2024-11-07T16:00:25.989Z"
   },
   {
    "duration": 196,
    "start_time": "2024-11-07T16:00:26.057Z"
   },
   {
    "duration": 117,
    "start_time": "2024-11-07T16:00:26.255Z"
   },
   {
    "duration": 80,
    "start_time": "2024-11-07T16:00:26.374Z"
   },
   {
    "duration": 3,
    "start_time": "2024-11-07T16:00:26.552Z"
   },
   {
    "duration": 13,
    "start_time": "2024-11-07T16:00:26.558Z"
   },
   {
    "duration": 9,
    "start_time": "2024-11-07T16:00:26.575Z"
   },
   {
    "duration": 11,
    "start_time": "2024-11-07T16:00:26.586Z"
   },
   {
    "duration": 4,
    "start_time": "2024-11-07T16:00:26.599Z"
   },
   {
    "duration": 1556,
    "start_time": "2024-11-07T16:00:26.605Z"
   },
   {
    "duration": 1509,
    "start_time": "2024-11-07T16:00:28.163Z"
   },
   {
    "duration": 1506,
    "start_time": "2024-11-07T16:00:29.673Z"
   }
  ],
  "kernelspec": {
   "display_name": "Python 3 (ipykernel)",
   "language": "python",
   "name": "python3"
  },
  "language_info": {
   "codemirror_mode": {
    "name": "ipython",
    "version": 3
   },
   "file_extension": ".py",
   "mimetype": "text/x-python",
   "name": "python",
   "nbconvert_exporter": "python",
   "pygments_lexer": "ipython3",
   "version": "3.9.5"
  },
  "toc": {
   "base_numbering": 1,
   "nav_menu": {},
   "number_sections": true,
   "sideBar": true,
   "skip_h1_title": true,
   "title_cell": "Содержание",
   "title_sidebar": "Contents",
   "toc_cell": true,
   "toc_position": {
    "height": "calc(100% - 180px)",
    "left": "10px",
    "top": "150px",
    "width": "196px"
   },
   "toc_section_display": true,
   "toc_window_display": false
  }
 },
 "nbformat": 4,
 "nbformat_minor": 2
}
