{
 "cells": [
  {
   "cell_type": "markdown",
   "metadata": {
    "id": "-VFbjcb3Awb7"
   },
   "source": [
    "# Исследование объявлений о продаже квартир\n",
    "\n",
    "В вашем распоряжении данные сервиса Яндекс Недвижимость — архив объявлений о продаже квартир в Санкт-Петербурге и соседних населённых пунктах за несколько лет. Вам нужно научиться определять рыночную стоимость объектов недвижимости. Для этого проведите исследовательский анализ данных и установите параметры, влияющие на цену объектов. Это позволит построить автоматизированную систему: она отследит аномалии и мошенническую деятельность.\n",
    "\n",
    "По каждой квартире на продажу доступны два вида данных. Первые вписаны пользователем, вторые — получены автоматически на основе картографических данных. Например, расстояние до центра, аэропорта и других объектов — эти данные автоматически получены из геосервисов. Количество парков и водоёмов также заполняется без участия пользователя."
   ]
  },
  {
   "cell_type": "markdown",
   "metadata": {
    "id": "aeFLH07FAwb9"
   },
   "source": [
    "### Откройте файл с данными и изучите общую информацию"
   ]
  },
  {
   "cell_type": "code",
   "execution_count": 1,
   "metadata": {
    "id": "7MZxY65pAwb9"
   },
   "outputs": [],
   "source": [
    "import pandas as pd \n",
    "import numpy as np\n",
    "import matplotlib.pyplot as plt\n",
    "import seaborn as sns# импорт библиотек"
   ]
  },
  {
   "cell_type": "code",
   "execution_count": 2,
   "metadata": {},
   "outputs": [],
   "source": [
    "data = pd.read_csv('/datasets/real_estate_data.csv', sep='\\t')# прочитали csv-файл"
   ]
  },
  {
   "cell_type": "code",
   "execution_count": 3,
   "metadata": {},
   "outputs": [
    {
     "name": "stdout",
     "output_type": "stream",
     "text": [
      "<class 'pandas.core.frame.DataFrame'>\n",
      "RangeIndex: 23699 entries, 0 to 23698\n",
      "Data columns (total 22 columns):\n",
      " #   Column                Non-Null Count  Dtype  \n",
      "---  ------                --------------  -----  \n",
      " 0   total_images          23699 non-null  int64  \n",
      " 1   last_price            23699 non-null  float64\n",
      " 2   total_area            23699 non-null  float64\n",
      " 3   first_day_exposition  23699 non-null  object \n",
      " 4   rooms                 23699 non-null  int64  \n",
      " 5   ceiling_height        14504 non-null  float64\n",
      " 6   floors_total          23613 non-null  float64\n",
      " 7   living_area           21796 non-null  float64\n",
      " 8   floor                 23699 non-null  int64  \n",
      " 9   is_apartment          2775 non-null   object \n",
      " 10  studio                23699 non-null  bool   \n",
      " 11  open_plan             23699 non-null  bool   \n",
      " 12  kitchen_area          21421 non-null  float64\n",
      " 13  balcony               12180 non-null  float64\n",
      " 14  locality_name         23650 non-null  object \n",
      " 15  airports_nearest      18157 non-null  float64\n",
      " 16  cityCenters_nearest   18180 non-null  float64\n",
      " 17  parks_around3000      18181 non-null  float64\n",
      " 18  parks_nearest         8079 non-null   float64\n",
      " 19  ponds_around3000      18181 non-null  float64\n",
      " 20  ponds_nearest         9110 non-null   float64\n",
      " 21  days_exposition       20518 non-null  float64\n",
      "dtypes: bool(2), float64(14), int64(3), object(3)\n",
      "memory usage: 3.7+ MB\n"
     ]
    }
   ],
   "source": [
    "data.info() #основная информация"
   ]
  },
  {
   "cell_type": "code",
   "execution_count": 4,
   "metadata": {},
   "outputs": [
    {
     "data": {
      "text/html": [
       "<div>\n",
       "<style scoped>\n",
       "    .dataframe tbody tr th:only-of-type {\n",
       "        vertical-align: middle;\n",
       "    }\n",
       "\n",
       "    .dataframe tbody tr th {\n",
       "        vertical-align: top;\n",
       "    }\n",
       "\n",
       "    .dataframe thead th {\n",
       "        text-align: right;\n",
       "    }\n",
       "</style>\n",
       "<table border=\"1\" class=\"dataframe\">\n",
       "  <thead>\n",
       "    <tr style=\"text-align: right;\">\n",
       "      <th></th>\n",
       "      <th>total_images</th>\n",
       "      <th>last_price</th>\n",
       "      <th>total_area</th>\n",
       "      <th>first_day_exposition</th>\n",
       "      <th>rooms</th>\n",
       "      <th>ceiling_height</th>\n",
       "      <th>floors_total</th>\n",
       "      <th>living_area</th>\n",
       "      <th>floor</th>\n",
       "      <th>is_apartment</th>\n",
       "      <th>studio</th>\n",
       "      <th>open_plan</th>\n",
       "      <th>kitchen_area</th>\n",
       "      <th>balcony</th>\n",
       "      <th>locality_name</th>\n",
       "      <th>airports_nearest</th>\n",
       "      <th>cityCenters_nearest</th>\n",
       "      <th>parks_around3000</th>\n",
       "      <th>parks_nearest</th>\n",
       "      <th>ponds_around3000</th>\n",
       "      <th>ponds_nearest</th>\n",
       "      <th>days_exposition</th>\n",
       "    </tr>\n",
       "  </thead>\n",
       "  <tbody>\n",
       "    <tr>\n",
       "      <th>0</th>\n",
       "      <td>20</td>\n",
       "      <td>13000000.0</td>\n",
       "      <td>108.00</td>\n",
       "      <td>2019-03-07T00:00:00</td>\n",
       "      <td>3</td>\n",
       "      <td>2.70</td>\n",
       "      <td>16.0</td>\n",
       "      <td>51.00</td>\n",
       "      <td>8</td>\n",
       "      <td>NaN</td>\n",
       "      <td>False</td>\n",
       "      <td>False</td>\n",
       "      <td>25.00</td>\n",
       "      <td>NaN</td>\n",
       "      <td>Санкт-Петербург</td>\n",
       "      <td>18863.0</td>\n",
       "      <td>16028.0</td>\n",
       "      <td>1.0</td>\n",
       "      <td>482.0</td>\n",
       "      <td>2.0</td>\n",
       "      <td>755.0</td>\n",
       "      <td>NaN</td>\n",
       "    </tr>\n",
       "    <tr>\n",
       "      <th>1</th>\n",
       "      <td>7</td>\n",
       "      <td>3350000.0</td>\n",
       "      <td>40.40</td>\n",
       "      <td>2018-12-04T00:00:00</td>\n",
       "      <td>1</td>\n",
       "      <td>NaN</td>\n",
       "      <td>11.0</td>\n",
       "      <td>18.60</td>\n",
       "      <td>1</td>\n",
       "      <td>NaN</td>\n",
       "      <td>False</td>\n",
       "      <td>False</td>\n",
       "      <td>11.00</td>\n",
       "      <td>2.0</td>\n",
       "      <td>посёлок Шушары</td>\n",
       "      <td>12817.0</td>\n",
       "      <td>18603.0</td>\n",
       "      <td>0.0</td>\n",
       "      <td>NaN</td>\n",
       "      <td>0.0</td>\n",
       "      <td>NaN</td>\n",
       "      <td>81.0</td>\n",
       "    </tr>\n",
       "    <tr>\n",
       "      <th>2</th>\n",
       "      <td>10</td>\n",
       "      <td>5196000.0</td>\n",
       "      <td>56.00</td>\n",
       "      <td>2015-08-20T00:00:00</td>\n",
       "      <td>2</td>\n",
       "      <td>NaN</td>\n",
       "      <td>5.0</td>\n",
       "      <td>34.30</td>\n",
       "      <td>4</td>\n",
       "      <td>NaN</td>\n",
       "      <td>False</td>\n",
       "      <td>False</td>\n",
       "      <td>8.30</td>\n",
       "      <td>0.0</td>\n",
       "      <td>Санкт-Петербург</td>\n",
       "      <td>21741.0</td>\n",
       "      <td>13933.0</td>\n",
       "      <td>1.0</td>\n",
       "      <td>90.0</td>\n",
       "      <td>2.0</td>\n",
       "      <td>574.0</td>\n",
       "      <td>558.0</td>\n",
       "    </tr>\n",
       "    <tr>\n",
       "      <th>3</th>\n",
       "      <td>0</td>\n",
       "      <td>64900000.0</td>\n",
       "      <td>159.00</td>\n",
       "      <td>2015-07-24T00:00:00</td>\n",
       "      <td>3</td>\n",
       "      <td>NaN</td>\n",
       "      <td>14.0</td>\n",
       "      <td>NaN</td>\n",
       "      <td>9</td>\n",
       "      <td>NaN</td>\n",
       "      <td>False</td>\n",
       "      <td>False</td>\n",
       "      <td>NaN</td>\n",
       "      <td>0.0</td>\n",
       "      <td>Санкт-Петербург</td>\n",
       "      <td>28098.0</td>\n",
       "      <td>6800.0</td>\n",
       "      <td>2.0</td>\n",
       "      <td>84.0</td>\n",
       "      <td>3.0</td>\n",
       "      <td>234.0</td>\n",
       "      <td>424.0</td>\n",
       "    </tr>\n",
       "    <tr>\n",
       "      <th>4</th>\n",
       "      <td>2</td>\n",
       "      <td>10000000.0</td>\n",
       "      <td>100.00</td>\n",
       "      <td>2018-06-19T00:00:00</td>\n",
       "      <td>2</td>\n",
       "      <td>3.03</td>\n",
       "      <td>14.0</td>\n",
       "      <td>32.00</td>\n",
       "      <td>13</td>\n",
       "      <td>NaN</td>\n",
       "      <td>False</td>\n",
       "      <td>False</td>\n",
       "      <td>41.00</td>\n",
       "      <td>NaN</td>\n",
       "      <td>Санкт-Петербург</td>\n",
       "      <td>31856.0</td>\n",
       "      <td>8098.0</td>\n",
       "      <td>2.0</td>\n",
       "      <td>112.0</td>\n",
       "      <td>1.0</td>\n",
       "      <td>48.0</td>\n",
       "      <td>121.0</td>\n",
       "    </tr>\n",
       "    <tr>\n",
       "      <th>5</th>\n",
       "      <td>10</td>\n",
       "      <td>2890000.0</td>\n",
       "      <td>30.40</td>\n",
       "      <td>2018-09-10T00:00:00</td>\n",
       "      <td>1</td>\n",
       "      <td>NaN</td>\n",
       "      <td>12.0</td>\n",
       "      <td>14.40</td>\n",
       "      <td>5</td>\n",
       "      <td>NaN</td>\n",
       "      <td>False</td>\n",
       "      <td>False</td>\n",
       "      <td>9.10</td>\n",
       "      <td>NaN</td>\n",
       "      <td>городской посёлок Янино-1</td>\n",
       "      <td>NaN</td>\n",
       "      <td>NaN</td>\n",
       "      <td>NaN</td>\n",
       "      <td>NaN</td>\n",
       "      <td>NaN</td>\n",
       "      <td>NaN</td>\n",
       "      <td>55.0</td>\n",
       "    </tr>\n",
       "    <tr>\n",
       "      <th>6</th>\n",
       "      <td>6</td>\n",
       "      <td>3700000.0</td>\n",
       "      <td>37.30</td>\n",
       "      <td>2017-11-02T00:00:00</td>\n",
       "      <td>1</td>\n",
       "      <td>NaN</td>\n",
       "      <td>26.0</td>\n",
       "      <td>10.60</td>\n",
       "      <td>6</td>\n",
       "      <td>NaN</td>\n",
       "      <td>False</td>\n",
       "      <td>False</td>\n",
       "      <td>14.40</td>\n",
       "      <td>1.0</td>\n",
       "      <td>посёлок Парголово</td>\n",
       "      <td>52996.0</td>\n",
       "      <td>19143.0</td>\n",
       "      <td>0.0</td>\n",
       "      <td>NaN</td>\n",
       "      <td>0.0</td>\n",
       "      <td>NaN</td>\n",
       "      <td>155.0</td>\n",
       "    </tr>\n",
       "    <tr>\n",
       "      <th>7</th>\n",
       "      <td>5</td>\n",
       "      <td>7915000.0</td>\n",
       "      <td>71.60</td>\n",
       "      <td>2019-04-18T00:00:00</td>\n",
       "      <td>2</td>\n",
       "      <td>NaN</td>\n",
       "      <td>24.0</td>\n",
       "      <td>NaN</td>\n",
       "      <td>22</td>\n",
       "      <td>NaN</td>\n",
       "      <td>False</td>\n",
       "      <td>False</td>\n",
       "      <td>18.90</td>\n",
       "      <td>2.0</td>\n",
       "      <td>Санкт-Петербург</td>\n",
       "      <td>23982.0</td>\n",
       "      <td>11634.0</td>\n",
       "      <td>0.0</td>\n",
       "      <td>NaN</td>\n",
       "      <td>0.0</td>\n",
       "      <td>NaN</td>\n",
       "      <td>NaN</td>\n",
       "    </tr>\n",
       "    <tr>\n",
       "      <th>8</th>\n",
       "      <td>20</td>\n",
       "      <td>2900000.0</td>\n",
       "      <td>33.16</td>\n",
       "      <td>2018-05-23T00:00:00</td>\n",
       "      <td>1</td>\n",
       "      <td>NaN</td>\n",
       "      <td>27.0</td>\n",
       "      <td>15.43</td>\n",
       "      <td>26</td>\n",
       "      <td>NaN</td>\n",
       "      <td>False</td>\n",
       "      <td>False</td>\n",
       "      <td>8.81</td>\n",
       "      <td>NaN</td>\n",
       "      <td>посёлок Мурино</td>\n",
       "      <td>NaN</td>\n",
       "      <td>NaN</td>\n",
       "      <td>NaN</td>\n",
       "      <td>NaN</td>\n",
       "      <td>NaN</td>\n",
       "      <td>NaN</td>\n",
       "      <td>189.0</td>\n",
       "    </tr>\n",
       "    <tr>\n",
       "      <th>9</th>\n",
       "      <td>18</td>\n",
       "      <td>5400000.0</td>\n",
       "      <td>61.00</td>\n",
       "      <td>2017-02-26T00:00:00</td>\n",
       "      <td>3</td>\n",
       "      <td>2.50</td>\n",
       "      <td>9.0</td>\n",
       "      <td>43.60</td>\n",
       "      <td>7</td>\n",
       "      <td>NaN</td>\n",
       "      <td>False</td>\n",
       "      <td>False</td>\n",
       "      <td>6.50</td>\n",
       "      <td>2.0</td>\n",
       "      <td>Санкт-Петербург</td>\n",
       "      <td>50898.0</td>\n",
       "      <td>15008.0</td>\n",
       "      <td>0.0</td>\n",
       "      <td>NaN</td>\n",
       "      <td>0.0</td>\n",
       "      <td>NaN</td>\n",
       "      <td>289.0</td>\n",
       "    </tr>\n",
       "    <tr>\n",
       "      <th>10</th>\n",
       "      <td>5</td>\n",
       "      <td>5050000.0</td>\n",
       "      <td>39.60</td>\n",
       "      <td>2017-11-16T00:00:00</td>\n",
       "      <td>1</td>\n",
       "      <td>2.67</td>\n",
       "      <td>12.0</td>\n",
       "      <td>20.30</td>\n",
       "      <td>3</td>\n",
       "      <td>NaN</td>\n",
       "      <td>False</td>\n",
       "      <td>False</td>\n",
       "      <td>8.50</td>\n",
       "      <td>NaN</td>\n",
       "      <td>Санкт-Петербург</td>\n",
       "      <td>38357.0</td>\n",
       "      <td>13878.0</td>\n",
       "      <td>1.0</td>\n",
       "      <td>310.0</td>\n",
       "      <td>2.0</td>\n",
       "      <td>553.0</td>\n",
       "      <td>137.0</td>\n",
       "    </tr>\n",
       "    <tr>\n",
       "      <th>11</th>\n",
       "      <td>9</td>\n",
       "      <td>3300000.0</td>\n",
       "      <td>44.00</td>\n",
       "      <td>2018-08-27T00:00:00</td>\n",
       "      <td>2</td>\n",
       "      <td>NaN</td>\n",
       "      <td>5.0</td>\n",
       "      <td>31.00</td>\n",
       "      <td>4</td>\n",
       "      <td>False</td>\n",
       "      <td>False</td>\n",
       "      <td>False</td>\n",
       "      <td>6.00</td>\n",
       "      <td>1.0</td>\n",
       "      <td>Ломоносов</td>\n",
       "      <td>48252.0</td>\n",
       "      <td>51677.0</td>\n",
       "      <td>0.0</td>\n",
       "      <td>NaN</td>\n",
       "      <td>0.0</td>\n",
       "      <td>NaN</td>\n",
       "      <td>7.0</td>\n",
       "    </tr>\n",
       "    <tr>\n",
       "      <th>12</th>\n",
       "      <td>10</td>\n",
       "      <td>3890000.0</td>\n",
       "      <td>54.00</td>\n",
       "      <td>2016-06-30T00:00:00</td>\n",
       "      <td>2</td>\n",
       "      <td>NaN</td>\n",
       "      <td>5.0</td>\n",
       "      <td>30.00</td>\n",
       "      <td>5</td>\n",
       "      <td>NaN</td>\n",
       "      <td>False</td>\n",
       "      <td>False</td>\n",
       "      <td>9.00</td>\n",
       "      <td>0.0</td>\n",
       "      <td>Сертолово</td>\n",
       "      <td>NaN</td>\n",
       "      <td>NaN</td>\n",
       "      <td>NaN</td>\n",
       "      <td>NaN</td>\n",
       "      <td>NaN</td>\n",
       "      <td>NaN</td>\n",
       "      <td>90.0</td>\n",
       "    </tr>\n",
       "    <tr>\n",
       "      <th>13</th>\n",
       "      <td>20</td>\n",
       "      <td>3550000.0</td>\n",
       "      <td>42.80</td>\n",
       "      <td>2017-07-01T00:00:00</td>\n",
       "      <td>2</td>\n",
       "      <td>2.56</td>\n",
       "      <td>5.0</td>\n",
       "      <td>27.00</td>\n",
       "      <td>5</td>\n",
       "      <td>NaN</td>\n",
       "      <td>False</td>\n",
       "      <td>False</td>\n",
       "      <td>5.20</td>\n",
       "      <td>1.0</td>\n",
       "      <td>Петергоф</td>\n",
       "      <td>37868.0</td>\n",
       "      <td>33058.0</td>\n",
       "      <td>1.0</td>\n",
       "      <td>294.0</td>\n",
       "      <td>3.0</td>\n",
       "      <td>298.0</td>\n",
       "      <td>366.0</td>\n",
       "    </tr>\n",
       "    <tr>\n",
       "      <th>14</th>\n",
       "      <td>1</td>\n",
       "      <td>4400000.0</td>\n",
       "      <td>36.00</td>\n",
       "      <td>2016-06-23T00:00:00</td>\n",
       "      <td>1</td>\n",
       "      <td>NaN</td>\n",
       "      <td>6.0</td>\n",
       "      <td>17.00</td>\n",
       "      <td>1</td>\n",
       "      <td>NaN</td>\n",
       "      <td>False</td>\n",
       "      <td>False</td>\n",
       "      <td>8.00</td>\n",
       "      <td>0.0</td>\n",
       "      <td>Пушкин</td>\n",
       "      <td>20782.0</td>\n",
       "      <td>30759.0</td>\n",
       "      <td>0.0</td>\n",
       "      <td>NaN</td>\n",
       "      <td>1.0</td>\n",
       "      <td>96.0</td>\n",
       "      <td>203.0</td>\n",
       "    </tr>\n",
       "    <tr>\n",
       "      <th>15</th>\n",
       "      <td>16</td>\n",
       "      <td>4650000.0</td>\n",
       "      <td>39.00</td>\n",
       "      <td>2017-11-18T00:00:00</td>\n",
       "      <td>1</td>\n",
       "      <td>NaN</td>\n",
       "      <td>14.0</td>\n",
       "      <td>20.50</td>\n",
       "      <td>5</td>\n",
       "      <td>NaN</td>\n",
       "      <td>False</td>\n",
       "      <td>False</td>\n",
       "      <td>7.60</td>\n",
       "      <td>1.0</td>\n",
       "      <td>Санкт-Петербург</td>\n",
       "      <td>12900.0</td>\n",
       "      <td>14259.0</td>\n",
       "      <td>1.0</td>\n",
       "      <td>590.0</td>\n",
       "      <td>1.0</td>\n",
       "      <td>296.0</td>\n",
       "      <td>19.0</td>\n",
       "    </tr>\n",
       "    <tr>\n",
       "      <th>16</th>\n",
       "      <td>11</td>\n",
       "      <td>6700000.0</td>\n",
       "      <td>82.00</td>\n",
       "      <td>2017-11-23T00:00:00</td>\n",
       "      <td>3</td>\n",
       "      <td>3.05</td>\n",
       "      <td>5.0</td>\n",
       "      <td>55.60</td>\n",
       "      <td>1</td>\n",
       "      <td>NaN</td>\n",
       "      <td>False</td>\n",
       "      <td>False</td>\n",
       "      <td>9.00</td>\n",
       "      <td>NaN</td>\n",
       "      <td>Санкт-Петербург</td>\n",
       "      <td>22108.0</td>\n",
       "      <td>10698.0</td>\n",
       "      <td>3.0</td>\n",
       "      <td>420.0</td>\n",
       "      <td>0.0</td>\n",
       "      <td>NaN</td>\n",
       "      <td>397.0</td>\n",
       "    </tr>\n",
       "    <tr>\n",
       "      <th>17</th>\n",
       "      <td>6</td>\n",
       "      <td>4180000.0</td>\n",
       "      <td>36.00</td>\n",
       "      <td>2016-09-09T00:00:00</td>\n",
       "      <td>1</td>\n",
       "      <td>NaN</td>\n",
       "      <td>17.0</td>\n",
       "      <td>16.50</td>\n",
       "      <td>7</td>\n",
       "      <td>NaN</td>\n",
       "      <td>False</td>\n",
       "      <td>False</td>\n",
       "      <td>11.00</td>\n",
       "      <td>1.0</td>\n",
       "      <td>Санкт-Петербург</td>\n",
       "      <td>33564.0</td>\n",
       "      <td>14616.0</td>\n",
       "      <td>0.0</td>\n",
       "      <td>NaN</td>\n",
       "      <td>1.0</td>\n",
       "      <td>859.0</td>\n",
       "      <td>571.0</td>\n",
       "    </tr>\n",
       "    <tr>\n",
       "      <th>18</th>\n",
       "      <td>8</td>\n",
       "      <td>3250000.0</td>\n",
       "      <td>31.00</td>\n",
       "      <td>2017-01-27T00:00:00</td>\n",
       "      <td>1</td>\n",
       "      <td>2.50</td>\n",
       "      <td>5.0</td>\n",
       "      <td>19.40</td>\n",
       "      <td>2</td>\n",
       "      <td>NaN</td>\n",
       "      <td>False</td>\n",
       "      <td>False</td>\n",
       "      <td>5.60</td>\n",
       "      <td>1.0</td>\n",
       "      <td>Санкт-Петербург</td>\n",
       "      <td>44060.0</td>\n",
       "      <td>10842.0</td>\n",
       "      <td>1.0</td>\n",
       "      <td>759.0</td>\n",
       "      <td>0.0</td>\n",
       "      <td>NaN</td>\n",
       "      <td>168.0</td>\n",
       "    </tr>\n",
       "    <tr>\n",
       "      <th>19</th>\n",
       "      <td>16</td>\n",
       "      <td>14200000.0</td>\n",
       "      <td>121.00</td>\n",
       "      <td>2019-01-09T00:00:00</td>\n",
       "      <td>3</td>\n",
       "      <td>2.75</td>\n",
       "      <td>16.0</td>\n",
       "      <td>76.00</td>\n",
       "      <td>8</td>\n",
       "      <td>NaN</td>\n",
       "      <td>False</td>\n",
       "      <td>False</td>\n",
       "      <td>12.00</td>\n",
       "      <td>NaN</td>\n",
       "      <td>Санкт-Петербург</td>\n",
       "      <td>38900.0</td>\n",
       "      <td>12843.0</td>\n",
       "      <td>0.0</td>\n",
       "      <td>NaN</td>\n",
       "      <td>0.0</td>\n",
       "      <td>NaN</td>\n",
       "      <td>97.0</td>\n",
       "    </tr>\n",
       "  </tbody>\n",
       "</table>\n",
       "</div>"
      ],
      "text/plain": [
       "    total_images  last_price  total_area first_day_exposition  rooms  \\\n",
       "0             20  13000000.0      108.00  2019-03-07T00:00:00      3   \n",
       "1              7   3350000.0       40.40  2018-12-04T00:00:00      1   \n",
       "2             10   5196000.0       56.00  2015-08-20T00:00:00      2   \n",
       "3              0  64900000.0      159.00  2015-07-24T00:00:00      3   \n",
       "4              2  10000000.0      100.00  2018-06-19T00:00:00      2   \n",
       "5             10   2890000.0       30.40  2018-09-10T00:00:00      1   \n",
       "6              6   3700000.0       37.30  2017-11-02T00:00:00      1   \n",
       "7              5   7915000.0       71.60  2019-04-18T00:00:00      2   \n",
       "8             20   2900000.0       33.16  2018-05-23T00:00:00      1   \n",
       "9             18   5400000.0       61.00  2017-02-26T00:00:00      3   \n",
       "10             5   5050000.0       39.60  2017-11-16T00:00:00      1   \n",
       "11             9   3300000.0       44.00  2018-08-27T00:00:00      2   \n",
       "12            10   3890000.0       54.00  2016-06-30T00:00:00      2   \n",
       "13            20   3550000.0       42.80  2017-07-01T00:00:00      2   \n",
       "14             1   4400000.0       36.00  2016-06-23T00:00:00      1   \n",
       "15            16   4650000.0       39.00  2017-11-18T00:00:00      1   \n",
       "16            11   6700000.0       82.00  2017-11-23T00:00:00      3   \n",
       "17             6   4180000.0       36.00  2016-09-09T00:00:00      1   \n",
       "18             8   3250000.0       31.00  2017-01-27T00:00:00      1   \n",
       "19            16  14200000.0      121.00  2019-01-09T00:00:00      3   \n",
       "\n",
       "    ceiling_height  floors_total  living_area  floor is_apartment  studio  \\\n",
       "0             2.70          16.0        51.00      8          NaN   False   \n",
       "1              NaN          11.0        18.60      1          NaN   False   \n",
       "2              NaN           5.0        34.30      4          NaN   False   \n",
       "3              NaN          14.0          NaN      9          NaN   False   \n",
       "4             3.03          14.0        32.00     13          NaN   False   \n",
       "5              NaN          12.0        14.40      5          NaN   False   \n",
       "6              NaN          26.0        10.60      6          NaN   False   \n",
       "7              NaN          24.0          NaN     22          NaN   False   \n",
       "8              NaN          27.0        15.43     26          NaN   False   \n",
       "9             2.50           9.0        43.60      7          NaN   False   \n",
       "10            2.67          12.0        20.30      3          NaN   False   \n",
       "11             NaN           5.0        31.00      4        False   False   \n",
       "12             NaN           5.0        30.00      5          NaN   False   \n",
       "13            2.56           5.0        27.00      5          NaN   False   \n",
       "14             NaN           6.0        17.00      1          NaN   False   \n",
       "15             NaN          14.0        20.50      5          NaN   False   \n",
       "16            3.05           5.0        55.60      1          NaN   False   \n",
       "17             NaN          17.0        16.50      7          NaN   False   \n",
       "18            2.50           5.0        19.40      2          NaN   False   \n",
       "19            2.75          16.0        76.00      8          NaN   False   \n",
       "\n",
       "    open_plan  kitchen_area  balcony              locality_name  \\\n",
       "0       False         25.00      NaN            Санкт-Петербург   \n",
       "1       False         11.00      2.0             посёлок Шушары   \n",
       "2       False          8.30      0.0            Санкт-Петербург   \n",
       "3       False           NaN      0.0            Санкт-Петербург   \n",
       "4       False         41.00      NaN            Санкт-Петербург   \n",
       "5       False          9.10      NaN  городской посёлок Янино-1   \n",
       "6       False         14.40      1.0          посёлок Парголово   \n",
       "7       False         18.90      2.0            Санкт-Петербург   \n",
       "8       False          8.81      NaN             посёлок Мурино   \n",
       "9       False          6.50      2.0            Санкт-Петербург   \n",
       "10      False          8.50      NaN            Санкт-Петербург   \n",
       "11      False          6.00      1.0                  Ломоносов   \n",
       "12      False          9.00      0.0                  Сертолово   \n",
       "13      False          5.20      1.0                   Петергоф   \n",
       "14      False          8.00      0.0                     Пушкин   \n",
       "15      False          7.60      1.0            Санкт-Петербург   \n",
       "16      False          9.00      NaN            Санкт-Петербург   \n",
       "17      False         11.00      1.0            Санкт-Петербург   \n",
       "18      False          5.60      1.0            Санкт-Петербург   \n",
       "19      False         12.00      NaN            Санкт-Петербург   \n",
       "\n",
       "    airports_nearest  cityCenters_nearest  parks_around3000  parks_nearest  \\\n",
       "0            18863.0              16028.0               1.0          482.0   \n",
       "1            12817.0              18603.0               0.0            NaN   \n",
       "2            21741.0              13933.0               1.0           90.0   \n",
       "3            28098.0               6800.0               2.0           84.0   \n",
       "4            31856.0               8098.0               2.0          112.0   \n",
       "5                NaN                  NaN               NaN            NaN   \n",
       "6            52996.0              19143.0               0.0            NaN   \n",
       "7            23982.0              11634.0               0.0            NaN   \n",
       "8                NaN                  NaN               NaN            NaN   \n",
       "9            50898.0              15008.0               0.0            NaN   \n",
       "10           38357.0              13878.0               1.0          310.0   \n",
       "11           48252.0              51677.0               0.0            NaN   \n",
       "12               NaN                  NaN               NaN            NaN   \n",
       "13           37868.0              33058.0               1.0          294.0   \n",
       "14           20782.0              30759.0               0.0            NaN   \n",
       "15           12900.0              14259.0               1.0          590.0   \n",
       "16           22108.0              10698.0               3.0          420.0   \n",
       "17           33564.0              14616.0               0.0            NaN   \n",
       "18           44060.0              10842.0               1.0          759.0   \n",
       "19           38900.0              12843.0               0.0            NaN   \n",
       "\n",
       "    ponds_around3000  ponds_nearest  days_exposition  \n",
       "0                2.0          755.0              NaN  \n",
       "1                0.0            NaN             81.0  \n",
       "2                2.0          574.0            558.0  \n",
       "3                3.0          234.0            424.0  \n",
       "4                1.0           48.0            121.0  \n",
       "5                NaN            NaN             55.0  \n",
       "6                0.0            NaN            155.0  \n",
       "7                0.0            NaN              NaN  \n",
       "8                NaN            NaN            189.0  \n",
       "9                0.0            NaN            289.0  \n",
       "10               2.0          553.0            137.0  \n",
       "11               0.0            NaN              7.0  \n",
       "12               NaN            NaN             90.0  \n",
       "13               3.0          298.0            366.0  \n",
       "14               1.0           96.0            203.0  \n",
       "15               1.0          296.0             19.0  \n",
       "16               0.0            NaN            397.0  \n",
       "17               1.0          859.0            571.0  \n",
       "18               0.0            NaN            168.0  \n",
       "19               0.0            NaN             97.0  "
      ]
     },
     "execution_count": 4,
     "metadata": {},
     "output_type": "execute_result"
    }
   ],
   "source": [
    "pd.set_option('display.max_columns', None)\n",
    "data.head(20) #вывод датафрейма"
   ]
  },
  {
   "cell_type": "code",
   "execution_count": 5,
   "metadata": {},
   "outputs": [
    {
     "data": {
      "image/png": "[encoded data removed]",
      "text/plain": [
       "<Figure size 1080x1440 with 20 Axes>"
      ]
     },
     "metadata": {
      "needs_background": "light"
     },
     "output_type": "display_data"
    }
   ],
   "source": [
    "data.hist(figsize=(15, 20)); # гистограммы для всех числовых столбцов"
   ]
  },
  {
   "cell_type": "markdown",
   "metadata": {},
   "source": [
    "При первом выводе данных можно наблюдать, что неправильно выбраны форматы у столцов first_day_exposition (должна быть дата),balcony,floors_total (должны быть целочисленное).\n",
    "Большое количество пропусков в ceiling_height, которые нужно заменить на среднее, а пропуски в balcony скорее всего значат, что балкона на объекте нет."
   ]
  },
  {
   "cell_type": "markdown",
   "metadata": {
    "id": "-O5NtivEAwb9"
   },
   "source": [
    "### Выполните предобработку данных"
   ]
  },
  {
   "cell_type": "code",
   "execution_count": 6,
   "metadata": {
    "id": "7v3vAeTuAwb-"
   },
   "outputs": [
    {
     "data": {
      "text/plain": [
       "total_images                0\n",
       "last_price                  0\n",
       "total_area                  0\n",
       "first_day_exposition        0\n",
       "rooms                       0\n",
       "ceiling_height           9195\n",
       "floors_total               86\n",
       "living_area              1903\n",
       "floor                       0\n",
       "is_apartment            20924\n",
       "studio                      0\n",
       "open_plan                   0\n",
       "kitchen_area             2278\n",
       "balcony                 11519\n",
       "locality_name              49\n",
       "airports_nearest         5542\n",
       "cityCenters_nearest      5519\n",
       "parks_around3000         5518\n",
       "parks_nearest           15620\n",
       "ponds_around3000         5518\n",
       "ponds_nearest           14589\n",
       "days_exposition          3181\n",
       "dtype: int64"
      ]
     },
     "execution_count": 6,
     "metadata": {},
     "output_type": "execute_result"
    }
   ],
   "source": [
    "data.isna().sum() #найдены пропуски в столбцах"
   ]
  },
  {
   "cell_type": "code",
   "execution_count": 7,
   "metadata": {},
   "outputs": [
    {
     "data": {
      "text/plain": [
       "array(['2019-03-07T00:00:00', '2018-12-04T00:00:00',\n",
       "       '2015-08-20T00:00:00', ..., '2014-12-29T00:00:00',\n",
       "       '2016-09-12T00:00:00', '2015-07-19T00:00:00'], dtype=object)"
      ]
     },
     "execution_count": 7,
     "metadata": {},
     "output_type": "execute_result"
    }
   ],
   "source": [
    "data['first_day_exposition'].unique() #просмотр значений first_day_exposition"
   ]
  },
  {
   "cell_type": "code",
   "execution_count": 8,
   "metadata": {},
   "outputs": [],
   "source": [
    "data['first_day_exposition'] = pd.to_datetime(data['first_day_exposition'], format='%Y-%m-%dT%H:%M:%S') #перевод в формат даты"
   ]
  },
  {
   "cell_type": "code",
   "execution_count": 9,
   "metadata": {},
   "outputs": [
    {
     "data": {
      "text/plain": [
       "array(['2019-03-07T00:00:00.000000000', '2018-12-04T00:00:00.000000000',\n",
       "       '2015-08-20T00:00:00.000000000', ...,\n",
       "       '2014-12-29T00:00:00.000000000', '2016-09-12T00:00:00.000000000',\n",
       "       '2015-07-19T00:00:00.000000000'], dtype='datetime64[ns]')"
      ]
     },
     "execution_count": 9,
     "metadata": {},
     "output_type": "execute_result"
    }
   ],
   "source": [
    "data['first_day_exposition'].unique() #проверка изменения типа значений first_day_exposition"
   ]
  },
  {
   "cell_type": "code",
   "execution_count": 10,
   "metadata": {},
   "outputs": [],
   "source": [
    "data['balcony'] = data['balcony'].fillna(0) #замена пропусков на 0 в balcony\n",
    "data['balcony'] = data['balcony'].astype('int') #перевод в формат целого числа"
   ]
  },
  {
   "cell_type": "code",
   "execution_count": 11,
   "metadata": {},
   "outputs": [
    {
     "data": {
      "text/plain": [
       "22869    100.0\n",
       "22336     32.0\n",
       "3148      32.0\n",
       "21377     27.5\n",
       "20478     27.0\n",
       "         ...  \n",
       "23687      NaN\n",
       "23690      NaN\n",
       "23692      NaN\n",
       "23695      NaN\n",
       "23696      NaN\n",
       "Name: ceiling_height, Length: 23699, dtype: float64"
      ]
     },
     "execution_count": 11,
     "metadata": {},
     "output_type": "execute_result"
    }
   ],
   "source": [
    "data['ceiling_height'].sort_values(ascending=False) # проверка на аномальные значения"
   ]
  },
  {
   "cell_type": "code",
   "execution_count": 12,
   "metadata": {},
   "outputs": [],
   "source": [
    "data.loc[data['ceiling_height'] >= 20.0, 'ceiling_height'] = data['ceiling_height']/10 #замена ошибок ,перенос запятой - потолки не могут быть выше 20 метров"
   ]
  },
  {
   "cell_type": "code",
   "execution_count": 13,
   "metadata": {},
   "outputs": [],
   "source": [
    "data['ceiling_height'] = data['ceiling_height'].fillna(data['ceiling_height'].median()) #замена пропусков медианным значением в ceiling_height"
   ]
  },
  {
   "cell_type": "code",
   "execution_count": 14,
   "metadata": {},
   "outputs": [],
   "source": [
    "# перевод формата float63 -> int64, замена пропусков\n",
    "data['floors_total'] = np.floor(pd.to_numeric(data['floors_total'], errors='coerce')).astype('Int64')\n",
    "data['floors_total'] = data['floors_total'].fillna(data['floors_total'].median())"
   ]
  },
  {
   "cell_type": "code",
   "execution_count": 15,
   "metadata": {},
   "outputs": [],
   "source": [
    "data['days_exposition'] = np.floor(pd.to_numeric(data['days_exposition'], errors='coerce')).astype('Int64')"
   ]
  },
  {
   "cell_type": "code",
   "execution_count": 16,
   "metadata": {},
   "outputs": [
    {
     "data": {
      "text/plain": [
       "18843    1580\n",
       "1109     1572\n",
       "9553     1553\n",
       "1885     1513\n",
       "20969    1512\n",
       "         ... \n",
       "23684    <NA>\n",
       "23685    <NA>\n",
       "23694    <NA>\n",
       "23696    <NA>\n",
       "23698    <NA>\n",
       "Name: days_exposition, Length: 23699, dtype: Int64"
      ]
     },
     "execution_count": 16,
     "metadata": {},
     "output_type": "execute_result"
    }
   ],
   "source": [
    "data['days_exposition'].sort_values(ascending=False)"
   ]
  },
  {
   "cell_type": "markdown",
   "metadata": {},
   "source": [
    "Количество этажей и количество дней от момента, когда было размещено объявление - должны быть целочисленными"
   ]
  },
  {
   "cell_type": "code",
   "execution_count": 17,
   "metadata": {},
   "outputs": [
    {
     "data": {
      "text/plain": [
       "0"
      ]
     },
     "execution_count": 17,
     "metadata": {},
     "output_type": "execute_result"
    }
   ],
   "source": [
    "# поиск дубликатов\n",
    "data.duplicated().sum()"
   ]
  },
  {
   "cell_type": "code",
   "execution_count": 18,
   "metadata": {},
   "outputs": [
    {
     "data": {
      "text/plain": [
       "array(['Бокситогорск', 'Волосово', 'Волхов', 'Всеволожск', 'Выборг',\n",
       "       'Высоцк', 'Гатчина', 'Зеленогорск', 'Ивангород', 'Каменногорск',\n",
       "       'Кингисепп', 'Кириши', 'Кировск', 'Колпино', 'Коммунар',\n",
       "       'Красное Село', 'Кронштадт', 'Кудрово', 'Лодейное Поле',\n",
       "       'Ломоносов', 'Луга', 'Любань', 'Мурино', 'Никольское',\n",
       "       'Новая Ладога', 'Отрадное', 'Павловск', 'Петергоф', 'Пикалёво',\n",
       "       'Подпорожье', 'Приморск', 'Приозерск', 'Пушкин', 'Санкт-Петербург',\n",
       "       'Светогорск', 'Сертолово', 'Сестрорецк', 'Сланцы', 'Сосновый Бор',\n",
       "       'Сясьстрой', 'Тихвин', 'Тосно', 'Шлиссельбург',\n",
       "       'городской поселок Большая Ижора', 'городской поселок Янино-1',\n",
       "       'городской посёлок Будогощь', 'городской посёлок Виллози',\n",
       "       'городской посёлок Лесогорский', 'городской посёлок Мга',\n",
       "       'городской посёлок Назия', 'городской посёлок Новоселье',\n",
       "       'городской посёлок Павлово', 'городской посёлок Рощино',\n",
       "       'городской посёлок Свирьстрой', 'городской посёлок Советский',\n",
       "       'городской посёлок Фёдоровское', 'городской посёлок Янино-1',\n",
       "       'деревня Агалатово', 'деревня Аро', 'деревня Батово',\n",
       "       'деревня Бегуницы', 'деревня Белогорка', 'деревня Большая Вруда',\n",
       "       'деревня Большая Пустомержа', 'деревня Большие Колпаны',\n",
       "       'деревня Большое Рейзино', 'деревня Большой Сабск', 'деревня Бор',\n",
       "       'деревня Борисова Грива', 'деревня Ваганово', 'деревня Вартемяги',\n",
       "       'деревня Вахнова Кара', 'деревня Выскатка', 'деревня Гарболово',\n",
       "       'деревня Глинка', 'деревня Горбунки', 'деревня Гостилицы',\n",
       "       'деревня Заклинье', 'деревня Заневка', 'деревня Зимитицы',\n",
       "       'деревня Извара', 'деревня Иссад', 'деревня Калитино',\n",
       "       'деревня Кальтино', 'деревня Камышовка', 'деревня Каськово',\n",
       "       'деревня Келози', 'деревня Кипень', 'деревня Кисельня',\n",
       "       'деревня Колтуши', 'деревня Коркино', 'деревня Котлы',\n",
       "       'деревня Кривко', 'деревня Кудрово', 'деревня Кузьмолово',\n",
       "       'деревня Курковицы', 'деревня Куровицы', 'деревня Куттузи',\n",
       "       'деревня Лаврики', 'деревня Лаголово', 'деревня Лампово',\n",
       "       'деревня Лесколово', 'деревня Лопухинка', 'деревня Лупполово',\n",
       "       'деревня Малая Романовка', 'деревня Малое Верево',\n",
       "       'деревня Малое Карлино', 'деревня Малые Колпаны',\n",
       "       'деревня Мануйлово', 'деревня Меньково', 'деревня Мины',\n",
       "       'деревня Мистолово', 'деревня Ненимяки', 'деревня Нижние Осельки',\n",
       "       'деревня Нижняя', 'деревня Низино', 'деревня Новое Девяткино',\n",
       "       'деревня Новолисино', 'деревня Нурма', 'деревня Оржицы',\n",
       "       'деревня Парицы', 'деревня Пельгора', 'деревня Пеники',\n",
       "       'деревня Пижма', 'деревня Пикколово', 'деревня Пудомяги',\n",
       "       'деревня Пустынка', 'деревня Пчева', 'деревня Рабитицы',\n",
       "       'деревня Разбегаево', 'деревня Раздолье', 'деревня Разметелево',\n",
       "       'деревня Рапполово', 'деревня Реброво', 'деревня Русско',\n",
       "       'деревня Сижно', 'деревня Снегирёвка', 'деревня Старая',\n",
       "       'деревня Старая Пустошь', 'деревня Старое Хинколово',\n",
       "       'деревня Старополье', 'деревня Старосиверская',\n",
       "       'деревня Старые Бегуницы', 'деревня Суоранда',\n",
       "       'деревня Сяськелево', 'деревня Тарасово', 'деревня Терпилицы',\n",
       "       'деревня Тихковицы', 'деревня Тойворово', 'деревня Торосово',\n",
       "       'деревня Торошковичи', 'деревня Трубников Бор',\n",
       "       'деревня Фалилеево', 'деревня Фёдоровское', 'деревня Хапо-Ое',\n",
       "       'деревня Хязельки', 'деревня Чудской Бор', 'деревня Шпаньково',\n",
       "       'деревня Щеглово', 'деревня Юкки', 'деревня Ялгино',\n",
       "       'деревня Яльгелево', 'деревня Ям-Тесово',\n",
       "       'коттеджный поселок Кивеннапа Север', 'коттеджный поселок Счастье',\n",
       "       'коттеджный посёлок Лесное', 'поселок Аннино', 'поселок Барышево',\n",
       "       'поселок Бугры', 'поселок Возрождение', 'поселок Войсковицы',\n",
       "       'поселок Володарское', 'поселок Гаврилово', 'поселок Гарболово',\n",
       "       'поселок Гладкое', 'поселок Глажево', 'поселок Глебычево',\n",
       "       'поселок Гончарово', 'поселок Громово', 'поселок Дружноселье',\n",
       "       'поселок Елизаветино', 'поселок Жилгородок', 'поселок Жилпосёлок',\n",
       "       'поселок Житково', 'поселок Заводской', 'поселок Запорожское',\n",
       "       'поселок Зимитицы', 'поселок Ильичёво', 'поселок Калитино',\n",
       "       'поселок Каложицы', 'поселок Кингисеппский', 'поселок Кирпичное',\n",
       "       'поселок Кобралово', 'поселок Кобринское', 'поселок Коммунары',\n",
       "       'поселок Коробицыно', 'поселок Котельский',\n",
       "       'поселок Красная Долина', 'поселок Красносельское',\n",
       "       'поселок Лесное', 'поселок Лисий Нос', 'поселок Лукаши',\n",
       "       'поселок Любань', 'поселок Мельниково', 'поселок Мичуринское',\n",
       "       'поселок Молодцово', 'поселок Мурино', 'поселок Новый Свет',\n",
       "       'поселок Новый Учхоз', 'поселок Оредеж',\n",
       "       'поселок Пансионат Зелёный Бор', 'поселок Первомайское',\n",
       "       'поселок Перово', 'поселок Петровское', 'поселок Победа',\n",
       "       'поселок Поляны', 'поселок Почап', 'поселок Починок',\n",
       "       'поселок Пушное', 'поселок Пчевжа', 'поселок Рабитицы',\n",
       "       'поселок Романовка', 'поселок Ромашки', 'поселок Рябово',\n",
       "       'поселок Севастьяново', 'поселок Селезнёво', 'поселок Сельцо',\n",
       "       'поселок Семиозерье', 'поселок Семрино', 'поселок Серебрянский',\n",
       "       'поселок Совхозный', 'поселок Старая Малукса',\n",
       "       'поселок Стеклянный', 'поселок Сумино', 'поселок Суходолье',\n",
       "       'поселок Тельмана', 'поселок Терволово', 'поселок Торковичи',\n",
       "       'поселок Тёсово-4', 'поселок Углово', 'поселок Усть-Луга',\n",
       "       'поселок Ушаки', 'поселок Цвелодубово', 'поселок Цвылёво',\n",
       "       'поселок городского типа Большая Ижора',\n",
       "       'поселок городского типа Вырица',\n",
       "       'поселок городского типа Дружная Горка',\n",
       "       'поселок городского типа Дубровка',\n",
       "       'поселок городского типа Ефимовский',\n",
       "       'поселок городского типа Кондратьево',\n",
       "       'поселок городского типа Красный Бор',\n",
       "       'поселок городского типа Кузьмоловский',\n",
       "       'поселок городского типа Лебяжье',\n",
       "       'поселок городского типа Лесогорский',\n",
       "       'поселок городского типа Назия',\n",
       "       'поселок городского типа Никольский',\n",
       "       'поселок городского типа Приладожский',\n",
       "       'поселок городского типа Рахья', 'поселок городского типа Рощино',\n",
       "       'поселок городского типа Рябово',\n",
       "       'поселок городского типа Синявино',\n",
       "       'поселок городского типа Советский',\n",
       "       'поселок городского типа Токсово',\n",
       "       'поселок городского типа Форносово',\n",
       "       'поселок городского типа имени Свердлова',\n",
       "       'поселок станции Вещево', 'поселок станции Корнево',\n",
       "       'поселок станции Лужайка', 'поселок станции Приветнинское',\n",
       "       'посёлок Александровская', 'посёлок Алексеевка', 'посёлок Аннино',\n",
       "       'посёлок Белоостров', 'посёлок Бугры', 'посёлок Возрождение',\n",
       "       'посёлок Войскорово', 'посёлок Высокоключевой',\n",
       "       'посёлок Гаврилово', 'посёлок Дзержинского', 'посёлок Жилгородок',\n",
       "       'посёлок Ильичёво', 'посёлок Кикерино', 'посёлок Кобралово',\n",
       "       'посёлок Коробицыно', 'посёлок Левашово', 'посёлок Ленинское',\n",
       "       'посёлок Лисий Нос', 'посёлок Мельниково', 'посёлок Металлострой',\n",
       "       'посёлок Мичуринское', 'посёлок Молодёжное', 'посёлок Мурино',\n",
       "       'посёлок Мыза-Ивановка', 'посёлок Новогорелово',\n",
       "       'посёлок Новый Свет', 'посёлок Пансионат Зелёный Бор',\n",
       "       'посёлок Парголово', 'посёлок Перово', 'посёлок Песочный',\n",
       "       'посёлок Петро-Славянка', 'посёлок Петровское',\n",
       "       'посёлок Платформа 69-й километр', 'посёлок Плодовое',\n",
       "       'посёлок Плоское', 'посёлок Победа', 'посёлок Поляны',\n",
       "       'посёлок Понтонный', 'посёлок Пригородный', 'посёлок Пудость',\n",
       "       'посёлок Репино', 'посёлок Ропша', 'посёлок Сапёрное',\n",
       "       'посёлок Сапёрный', 'посёлок Сосново', 'посёлок Старая Малукса',\n",
       "       'посёлок Стеклянный', 'посёлок Стрельна', 'посёлок Суйда',\n",
       "       'посёлок Сумино', 'посёлок Тельмана', 'посёлок Терволово',\n",
       "       'посёлок Торфяное', 'посёлок Усть-Ижора', 'посёлок Усть-Луга',\n",
       "       'посёлок Форт Красная Горка', 'посёлок Шугозеро', 'посёлок Шушары',\n",
       "       'посёлок Щеглово', 'посёлок городского типа Важины',\n",
       "       'посёлок городского типа Вознесенье',\n",
       "       'посёлок городского типа Вырица',\n",
       "       'посёлок городского типа Красный Бор',\n",
       "       'посёлок городского типа Кузнечное',\n",
       "       'посёлок городского типа Кузьмоловский',\n",
       "       'посёлок городского типа Лебяжье', 'посёлок городского типа Мга',\n",
       "       'посёлок городского типа Павлово',\n",
       "       'посёлок городского типа Рощино', 'посёлок городского типа Рябово',\n",
       "       'посёлок городского типа Сиверский',\n",
       "       'посёлок городского типа Тайцы', 'посёлок городского типа Токсово',\n",
       "       'посёлок городского типа Ульяновка',\n",
       "       'посёлок городского типа Форносово',\n",
       "       'посёлок городского типа имени Морозова',\n",
       "       'посёлок городского типа имени Свердлова',\n",
       "       'посёлок при железнодорожной станции Вещево',\n",
       "       'посёлок при железнодорожной станции Приветнинское',\n",
       "       'посёлок станции Громово', 'посёлок станции Свирь',\n",
       "       'садоводческое некоммерческое товарищество Лесная Поляна',\n",
       "       'садовое товарищество Новая Ропша',\n",
       "       'садовое товарищество Приладожский', 'садовое товарищество Рахья',\n",
       "       'садовое товарищество Садко', 'село Копорье', 'село Никольское',\n",
       "       'село Павлово', 'село Паша', 'село Путилово', 'село Рождествено',\n",
       "       'село Русско-Высоцкое', 'село Старая Ладога', 'село Шум', nan],\n",
       "      dtype=object)"
      ]
     },
     "execution_count": 18,
     "metadata": {},
     "output_type": "execute_result"
    }
   ],
   "source": [
    "data['locality_name'].sort_values().unique() # населенные пункты уникальные"
   ]
  },
  {
   "cell_type": "markdown",
   "metadata": {},
   "source": [
    "Помимо \"е\" и \"ё\" в слове поселок, в списке видим населенные пункты, которые изменили свой статус (деревня и поселок). Произведем замены значений"
   ]
  },
  {
   "cell_type": "code",
   "execution_count": 19,
   "metadata": {},
   "outputs": [],
   "source": [
    "# перевод в строчные буквы\n",
    "data['locality_name'] = data['locality_name'].str.lower()"
   ]
  },
  {
   "cell_type": "code",
   "execution_count": 20,
   "metadata": {},
   "outputs": [],
   "source": [
    "data['locality_name'] = (\n",
    "    data['locality_name']\n",
    "    .str.replace('ё', 'е')\n",
    "    .replace(['городской поселок ','деревня ', 'поселок ','городского типа ', 'станции ', 'при железнодорожной станции ', 'садоводческое некоммерческое товарищество ',\n",
    "             'садовое товарищество ', 'село ', 'платформа', 'пансионат'\n",
    "             ], '', regex=True)\n",
    ") "
   ]
  },
  {
   "cell_type": "code",
   "execution_count": 21,
   "metadata": {},
   "outputs": [
    {
     "data": {
      "text/plain": [
       "array([' 69-й километр', ' зеленый бор', 'агалатово', 'александровская',\n",
       "       'алексеевка', 'аннино', 'аро', 'барышево', 'батово', 'бегуницы',\n",
       "       'белогорка', 'белоостров', 'бокситогорск', 'большая вруда',\n",
       "       'большая ижора', 'большая пустомержа', 'большие колпаны',\n",
       "       'большое рейзино', 'большой сабск', 'бор', 'борисова грива',\n",
       "       'бугры', 'будогощь', 'ваганово', 'важины', 'вартемяги',\n",
       "       'вахнова кара', 'вещево', 'виллози', 'вознесенье', 'возрождение',\n",
       "       'войсковицы', 'войскорово', 'володарское', 'волосово', 'волхов',\n",
       "       'всеволожск', 'выборг', 'вырица', 'выскатка', 'высокоключевой',\n",
       "       'высоцк', 'гаврилово', 'гарболово', 'гатчина', 'гладкое',\n",
       "       'глажево', 'глебычево', 'глинка', 'гончарово', 'горбунки',\n",
       "       'гостилицы', 'громово', 'дзержинского', 'дружная горка',\n",
       "       'дружноселье', 'дубровка', 'елизаветино', 'ефимовский',\n",
       "       'жилгородок', 'жилпоселок', 'житково', 'заводской', 'заклинье',\n",
       "       'заневка', 'запорожское', 'зеленогорск', 'зимитицы', 'ивангород',\n",
       "       'извара', 'ильичево', 'имени морозова', 'имени свердлова', 'иссад',\n",
       "       'калитино', 'каложицы', 'кальтино', 'каменногорск', 'камышовка',\n",
       "       'каськово', 'келози', 'кикерино', 'кингисепп', 'кингисеппский',\n",
       "       'кипень', 'кириши', 'кировск', 'кирпичное', 'кисельня',\n",
       "       'кобралово', 'кобринское', 'колпино', 'колтуши', 'коммунар',\n",
       "       'коммунары', 'кондратьево', 'копорье', 'коркино', 'корнево',\n",
       "       'коробицыно', 'котельский', 'котлы', 'коттеджный кивеннапа север',\n",
       "       'коттеджный лесное', 'коттеджный счастье', 'красная долина',\n",
       "       'красное село', 'красносельское', 'красный бор', 'кривко',\n",
       "       'кронштадт', 'кудрово', 'кузнечное', 'кузьмолово', 'кузьмоловский',\n",
       "       'курковицы', 'куровицы', 'куттузи', 'лаврики', 'лаголово',\n",
       "       'лампово', 'лебяжье', 'левашово', 'ленинское', 'лесколово',\n",
       "       'лесная поляна', 'лесное', 'лесогорский', 'лисий нос',\n",
       "       'лодейное поле', 'ломоносов', 'лопухинка', 'луга', 'лужайка',\n",
       "       'лукаши', 'лупполово', 'любань', 'малая романовка', 'малое верево',\n",
       "       'малое карлино', 'малые колпаны', 'мануйлово', 'мга', 'мельниково',\n",
       "       'меньково', 'металлострой', 'мины', 'мистолово', 'мичуринское',\n",
       "       'молодежное', 'молодцово', 'мурино', 'мыза-ивановка', 'назия',\n",
       "       'ненимяки', 'нижние осельки', 'нижняя', 'низино', 'никольский',\n",
       "       'никольское', 'новая ладога', 'новая ропша', 'новогорелово',\n",
       "       'новое девяткино', 'новолисино', 'новоселье', 'новый свет',\n",
       "       'новый учхоз', 'нурма', 'оредеж', 'оржицы', 'отрадное', 'павлово',\n",
       "       'павловск', 'парголово', 'парицы', 'паша', 'пельгора', 'пеники',\n",
       "       'первомайское', 'перово', 'песочный', 'петергоф', 'петро-славянка',\n",
       "       'петровское', 'пижма', 'пикалево', 'пикколово', 'плодовое',\n",
       "       'плоское', 'победа', 'подпорожье', 'поляны', 'понтонный', 'почап',\n",
       "       'починок', 'при железнодорожной вещево',\n",
       "       'при железнодорожной приветнинское', 'приветнинское',\n",
       "       'пригородный', 'приладожский', 'приморск', 'приозерск', 'пудомяги',\n",
       "       'пудость', 'пустынка', 'путилово', 'пушкин', 'пушное', 'пчева',\n",
       "       'пчевжа', 'рабитицы', 'разбегаево', 'раздолье', 'разметелево',\n",
       "       'рапполово', 'рахья', 'реброво', 'репино', 'рождествено',\n",
       "       'романовка', 'ромашки', 'ропша', 'рощино', 'русско',\n",
       "       'русско-высоцкое', 'рябово', 'садко', 'санкт-петербург',\n",
       "       'саперное', 'саперный', 'светогорск', 'свирь', 'свирьстрой',\n",
       "       'севастьяново', 'селезнево', 'сельцо', 'семиозерье', 'семрино',\n",
       "       'серебрянский', 'сертолово', 'сестрорецк', 'сиверский', 'сижно',\n",
       "       'синявино', 'сланцы', 'снегиревка', 'советский', 'совхозный',\n",
       "       'сосново', 'сосновый бор', 'старая', 'старая ладога',\n",
       "       'старая малукса', 'старая пустошь', 'старое хинколово',\n",
       "       'старополье', 'старосиверская', 'старые бегуницы', 'стеклянный',\n",
       "       'стрельна', 'суйда', 'сумино', 'суоранда', 'суходолье',\n",
       "       'сяськелево', 'сясьстрой', 'тайцы', 'тарасово', 'тельмана',\n",
       "       'терволово', 'терпилицы', 'тесово-4', 'тихвин', 'тихковицы',\n",
       "       'тойворово', 'токсово', 'торковичи', 'торосово', 'торошковичи',\n",
       "       'торфяное', 'тосно', 'трубников бор', 'углово', 'ульяновка',\n",
       "       'усть-ижора', 'усть-луга', 'ушаки', 'фалилеево', 'федоровское',\n",
       "       'форносово', 'форт красная горка', 'хапо-ое', 'хязельки',\n",
       "       'цвелодубово', 'цвылево', 'чудской бор', 'шлиссельбург',\n",
       "       'шпаньково', 'шугозеро', 'шум', 'шушары', 'щеглово', 'юкки',\n",
       "       'ялгино', 'яльгелево', 'ям-тесово', 'янино-1', nan], dtype=object)"
      ]
     },
     "execution_count": 21,
     "metadata": {},
     "output_type": "execute_result"
    }
   ],
   "source": [
    "data['locality_name'].sort_values().unique()"
   ]
  },
  {
   "cell_type": "markdown",
   "metadata": {
    "id": "QCcvyY6YAwb-"
   },
   "source": [
    "### Добавьте в таблицу новые столбцы"
   ]
  },
  {
   "cell_type": "markdown",
   "metadata": {
    "id": "Z8eJek3IAwb-"
   },
   "source": [
    "####  Цена одного квадратного метра price_square_meter"
   ]
  },
  {
   "cell_type": "code",
   "execution_count": 22,
   "metadata": {},
   "outputs": [
    {
     "data": {
      "text/plain": [
       "99421.65640364573"
      ]
     },
     "execution_count": 22,
     "metadata": {},
     "output_type": "execute_result"
    }
   ],
   "source": [
    "data['price_square_meter'] = (data['last_price'] / data['total_area']).round(2)\n",
    "data['price_square_meter'].mean()"
   ]
  },
  {
   "cell_type": "markdown",
   "metadata": {},
   "source": [
    "#### День недели публикации объявления day_publication"
   ]
  },
  {
   "cell_type": "code",
   "execution_count": 23,
   "metadata": {},
   "outputs": [],
   "source": [
    "data['day_publication'] = data['first_day_exposition'].dt.weekday"
   ]
  },
  {
   "cell_type": "markdown",
   "metadata": {},
   "source": [
    "#### Месяц публикации объявления month_publication"
   ]
  },
  {
   "cell_type": "code",
   "execution_count": 24,
   "metadata": {},
   "outputs": [],
   "source": [
    "data['month_publication'] = data['first_day_exposition'].dt.month "
   ]
  },
  {
   "cell_type": "markdown",
   "metadata": {},
   "source": [
    "#### Год публикации объявления year_publication"
   ]
  },
  {
   "cell_type": "code",
   "execution_count": 25,
   "metadata": {},
   "outputs": [],
   "source": [
    "data['year_publication'] = data['first_day_exposition'].dt.year "
   ]
  },
  {
   "cell_type": "markdown",
   "metadata": {},
   "source": [
    "#### Тип этажа квартиры type_apartment_floor"
   ]
  },
  {
   "cell_type": "code",
   "execution_count": 26,
   "metadata": {},
   "outputs": [],
   "source": [
    "def floor(row):\n",
    "    if row['floor'] == 1:\n",
    "        return 'первый'\n",
    "    if row['floor'] == row['floors_total']:\n",
    "        return 'последний'\n",
    "    else:\n",
    "        return 'другой'\n",
    "    \n",
    "data['type_apartment_floor'] = data.apply(floor, axis=1) "
   ]
  },
  {
   "cell_type": "markdown",
   "metadata": {},
   "source": [
    "#### Расстояние до центра города в километрах distance_city_center"
   ]
  },
  {
   "cell_type": "code",
   "execution_count": 27,
   "metadata": {},
   "outputs": [],
   "source": [
    "data = data.rename(columns={'cityCenters_nearest':'city_centers_nearest'})\n",
    "data['distance_city_center'] = (data['city_centers_nearest'] / 1000).round(0)"
   ]
  },
  {
   "cell_type": "markdown",
   "metadata": {
    "id": "pPyxrKWTAwb-"
   },
   "source": [
    "### Проведите исследовательский анализ данных"
   ]
  },
  {
   "cell_type": "markdown",
   "metadata": {
    "id": "V2f0D3kLAwb-"
   },
   "source": [
    "Факторы зависимости стоимости объекта:"
   ]
  },
  {
   "cell_type": "markdown",
   "metadata": {},
   "source": [
    "#### Общая площадь"
   ]
  },
  {
   "cell_type": "code",
   "execution_count": 28,
   "metadata": {},
   "outputs": [
    {
     "data": {
      "text/plain": [
       "count    23699.000000\n",
       "mean        60.348651\n",
       "std         35.654083\n",
       "min         12.000000\n",
       "25%         40.000000\n",
       "50%         52.000000\n",
       "75%         69.900000\n",
       "max        900.000000\n",
       "Name: total_area, dtype: float64"
      ]
     },
     "execution_count": 28,
     "metadata": {},
     "output_type": "execute_result"
    }
   ],
   "source": [
    "data['total_area'].describe()"
   ]
  },
  {
   "cell_type": "code",
   "execution_count": 29,
   "metadata": {},
   "outputs": [
    {
     "data": {
      "text/plain": [
       "19904     12.0\n",
       "17961     13.0\n",
       "19546     13.0\n",
       "19807     13.0\n",
       "19558     13.2\n",
       "         ...  \n",
       "5358     590.0\n",
       "15651    618.0\n",
       "3117     631.0\n",
       "12859    631.2\n",
       "19540    900.0\n",
       "Name: total_area, Length: 23699, dtype: float64"
      ]
     },
     "execution_count": 29,
     "metadata": {},
     "output_type": "execute_result"
    }
   ],
   "source": [
    "data['total_area'].sort_values()"
   ]
  },
  {
   "cell_type": "code",
   "execution_count": 30,
   "metadata": {},
   "outputs": [
    {
     "name": "stdout",
     "output_type": "stream",
     "text": [
      "Диаграмма размаха общей площади\n"
     ]
    },
    {
     "data": {
      "image/png": "[encoded data removed]",
      "text/plain": [
       "<Figure size 720x504 with 1 Axes>"
      ]
     },
     "metadata": {
      "needs_background": "light"
     },
     "output_type": "display_data"
    }
   ],
   "source": [
    "print('Диаграмма размаха общей площади')\n",
    "data.boxplot(column=['total_area'], figsize=(10,7), grid=True)\n",
    "plt.ylabel('Площадь в квадратных метрах')\n",
    "plt.show()"
   ]
  },
  {
   "cell_type": "markdown",
   "metadata": {},
   "source": [
    "Большинство значений в диапазоне до 200, покажем данную выборку:"
   ]
  },
  {
   "cell_type": "code",
   "execution_count": 31,
   "metadata": {},
   "outputs": [
    {
     "name": "stdout",
     "output_type": "stream",
     "text": [
      "Диаграмма размаха общей площади\n"
     ]
    },
    {
     "data": {
      "image/png": "[encoded data removed]",
      "text/plain": [
       "<Figure size 432x288 with 1 Axes>"
      ]
     },
     "metadata": {
      "needs_background": "light"
     },
     "output_type": "display_data"
    }
   ],
   "source": [
    "print('Диаграмма размаха общей площади')\n",
    "plt.ylim(0, 200)\n",
    "data.boxplot(column=['total_area'], figsize=(10,7), grid=True)\n",
    "plt.ylabel('Площадь в квадратных метрах')\n",
    "plt.show()"
   ]
  },
  {
   "cell_type": "markdown",
   "metadata": {},
   "source": [
    "\"Усы\" диаграммы размаха простираются от 12 кв. м (минимальное значение) до 120 кв.м.\n",
    "Большее количество значений в диапазоне от 40 до 69 кв. м, в среднем 52 кв. м.\n",
    "Требуется удалить выбросы - 12 кв. м (слишком малая площадь) и больше 200 кв. м (таких объявлений мало)"
   ]
  },
  {
   "cell_type": "code",
   "execution_count": 32,
   "metadata": {},
   "outputs": [
    {
     "data": {
      "image/png": "[encoded data removed]",
      "text/plain": [
       "<Figure size 432x288 with 1 Axes>"
      ]
     },
     "metadata": {
      "needs_background": "light"
     },
     "output_type": "display_data"
    }
   ],
   "source": [
    "data.query('total_area >= 12 and total_area <= 200')['total_area'].hist()\n",
    "plt.show()"
   ]
  },
  {
   "cell_type": "code",
   "execution_count": 33,
   "metadata": {},
   "outputs": [],
   "source": [
    "new_data = data.query('total_area >= 12 and total_area <= 200')"
   ]
  },
  {
   "cell_type": "code",
   "execution_count": 34,
   "metadata": {},
   "outputs": [
    {
     "data": {
      "text/plain": [
       "0.9904215367737035"
      ]
     },
     "execution_count": 34,
     "metadata": {},
     "output_type": "execute_result"
    }
   ],
   "source": [
    "new_data.shape[0] / data.shape[0]"
   ]
  },
  {
   "cell_type": "markdown",
   "metadata": {},
   "source": [
    "Удалено менее 1% данных,можно произвести замену данных."
   ]
  },
  {
   "cell_type": "code",
   "execution_count": 35,
   "metadata": {},
   "outputs": [],
   "source": [
    "data = new_data"
   ]
  },
  {
   "cell_type": "markdown",
   "metadata": {},
   "source": [
    "Зависимость цены от общей площади:"
   ]
  },
  {
   "cell_type": "code",
   "execution_count": 36,
   "metadata": {},
   "outputs": [
    {
     "data": {
      "image/png": "[encoded data removed]",
      "text/plain": [
       "<Figure size 720x504 with 1 Axes>"
      ]
     },
     "metadata": {
      "needs_background": "light"
     },
     "output_type": "display_data"
    }
   ],
   "source": [
    "(\n",
    "    data.pivot_table(index='total_area', values='last_price')\n",
    "    .plot(grid=True, style='o', figsize=(10, 7))\n",
    ")\n",
    "plt.title('Зависимость цены от общей площади')\n",
    "plt.show()"
   ]
  },
  {
   "cell_type": "code",
   "execution_count": 37,
   "metadata": {},
   "outputs": [
    {
     "data": {
      "text/plain": [
       "0.6592113703715996"
      ]
     },
     "execution_count": 37,
     "metadata": {},
     "output_type": "execute_result"
    }
   ],
   "source": [
    "data['total_area'].corr(data['last_price'])"
   ]
  },
  {
   "cell_type": "markdown",
   "metadata": {},
   "source": [
    "Зависимость цены от общей площади наблюдается.Больше площадь - больше цена."
   ]
  },
  {
   "cell_type": "markdown",
   "metadata": {},
   "source": [
    "#### Жилая площадь"
   ]
  },
  {
   "cell_type": "code",
   "execution_count": 38,
   "metadata": {},
   "outputs": [
    {
     "data": {
      "text/plain": [
       "count    21597.000000\n",
       "mean        33.253191\n",
       "std         17.366872\n",
       "min          2.000000\n",
       "25%         18.600000\n",
       "50%         30.000000\n",
       "75%         42.000000\n",
       "max        164.700000\n",
       "Name: living_area, dtype: float64"
      ]
     },
     "execution_count": 38,
     "metadata": {},
     "output_type": "execute_result"
    }
   ],
   "source": [
    "data['living_area'].describe()"
   ]
  },
  {
   "cell_type": "code",
   "execution_count": 39,
   "metadata": {},
   "outputs": [
    {
     "name": "stdout",
     "output_type": "stream",
     "text": [
      "Диаграмма размаха жилой площади\n"
     ]
    },
    {
     "data": {
      "image/png": "[encoded data removed]",
      "text/plain": [
       "<Figure size 720x504 with 1 Axes>"
      ]
     },
     "metadata": {
      "needs_background": "light"
     },
     "output_type": "display_data"
    }
   ],
   "source": [
    "print('Диаграмма размаха жилой площади')\n",
    "data.boxplot(column=['living_area'], figsize=(10,7), grid=True)\n",
    "plt.ylabel('Площадь в квадратных метрах')\n",
    "plt.show()"
   ]
  },
  {
   "cell_type": "markdown",
   "metadata": {},
   "source": [
    "\"Усы\" диаграммы размаха простираются от 2 кв. м (минимальное значение) до 80 кв.м.\n",
    "Большее количество значений в диапазоне от 18 до 42 кв. м, в среднем 30 кв. м.\n",
    "Минимальное значение жилой площади в 2 кв. м кажется сомнительным, но в остальным данным легко можно поверить. \n",
    "За пределами \"усов\" данные считаем выбросами"
   ]
  },
  {
   "cell_type": "code",
   "execution_count": 40,
   "metadata": {},
   "outputs": [
    {
     "data": {
      "image/png": "[encoded data removed]",
      "text/plain": [
       "<Figure size 432x288 with 1 Axes>"
      ]
     },
     "metadata": {
      "needs_background": "light"
     },
     "output_type": "display_data"
    }
   ],
   "source": [
    "data.query('living_area >= 2 and living_area <= 80')['living_area'].hist()\n",
    "plt.show()"
   ]
  },
  {
   "cell_type": "code",
   "execution_count": 41,
   "metadata": {},
   "outputs": [
    {
     "data": {
      "image/png": "[encoded data removed]",
      "text/plain": [
       "<Figure size 720x504 with 1 Axes>"
      ]
     },
     "metadata": {
      "needs_background": "light"
     },
     "output_type": "display_data"
    }
   ],
   "source": [
    "(\n",
    "    data.pivot_table(index='living_area', values='last_price')\n",
    "    .plot(grid=True, style='o', figsize=(10, 7))\n",
    ")\n",
    "plt.title('Зависимость цены от жилой площади')\n",
    "plt.show()"
   ]
  },
  {
   "cell_type": "code",
   "execution_count": 42,
   "metadata": {},
   "outputs": [
    {
     "data": {
      "text/plain": [
       "0.541958789828844"
      ]
     },
     "execution_count": 42,
     "metadata": {},
     "output_type": "execute_result"
    }
   ],
   "source": [
    "data['living_area'].corr(data['last_price'])"
   ]
  },
  {
   "cell_type": "markdown",
   "metadata": {},
   "source": [
    "Зависимость цены от жилой площади также наблюдается, что логично, учитывая зависимость от общей площади."
   ]
  },
  {
   "cell_type": "markdown",
   "metadata": {},
   "source": [
    "#### Площадь кухни"
   ]
  },
  {
   "cell_type": "code",
   "execution_count": 43,
   "metadata": {},
   "outputs": [
    {
     "data": {
      "text/plain": [
       "count    21223.000000\n",
       "mean        10.386712\n",
       "std          5.371820\n",
       "min          1.300000\n",
       "25%          7.000000\n",
       "50%          9.000000\n",
       "75%         12.000000\n",
       "max         93.200000\n",
       "Name: kitchen_area, dtype: float64"
      ]
     },
     "execution_count": 43,
     "metadata": {},
     "output_type": "execute_result"
    }
   ],
   "source": [
    "data['kitchen_area'].describe()"
   ]
  },
  {
   "cell_type": "code",
   "execution_count": 44,
   "metadata": {},
   "outputs": [
    {
     "name": "stdout",
     "output_type": "stream",
     "text": [
      "Диаграмма размаха для кухни\n"
     ]
    },
    {
     "data": {
      "image/png": "[encoded data removed]",
      "text/plain": [
       "<Figure size 720x504 with 1 Axes>"
      ]
     },
     "metadata": {
      "needs_background": "light"
     },
     "output_type": "display_data"
    }
   ],
   "source": [
    "print('Диаграмма размаха для кухни')\n",
    "data.boxplot(column=['kitchen_area'], figsize=(10,7), grid=True)\n",
    "plt.ylabel('Площадь в квадратных метрах')\n",
    "plt.show()"
   ]
  },
  {
   "cell_type": "markdown",
   "metadata": {},
   "source": [
    "\"Усы\" диаграммы размаха простираются от 1 кв. м (минимальное значение) до 19 кв.м.\n",
    "Большее количество значений в диапазоне от 7 до 12 кв. м, в среднем 9 кв. м.\n",
    "Минимальное значение жилой площади в 1 кв. м кажется преуменьшенным, но бывают помещения без кухни/студии с скрытой складной кухней.Поэтому будем считать данные актуальными."
   ]
  },
  {
   "cell_type": "code",
   "execution_count": 45,
   "metadata": {},
   "outputs": [
    {
     "data": {
      "image/png": "[encoded data removed]",
      "text/plain": [
       "<Figure size 432x288 with 1 Axes>"
      ]
     },
     "metadata": {
      "needs_background": "light"
     },
     "output_type": "display_data"
    }
   ],
   "source": [
    "data.query('kitchen_area >= 1 and kitchen_area <= 19')['kitchen_area'].hist()\n",
    "plt.show()"
   ]
  },
  {
   "cell_type": "code",
   "execution_count": 46,
   "metadata": {},
   "outputs": [
    {
     "data": {
      "image/png": "[encoded data removed]",
      "text/plain": [
       "<Figure size 720x504 with 1 Axes>"
      ]
     },
     "metadata": {
      "needs_background": "light"
     },
     "output_type": "display_data"
    }
   ],
   "source": [
    "(\n",
    "    data.pivot_table(index='kitchen_area', values='last_price')\n",
    "    .plot(grid=True, style='o', figsize=(10, 7))\n",
    ")\n",
    "plt.title('Зависимость цены от площади кухни')\n",
    "plt.show()"
   ]
  },
  {
   "cell_type": "code",
   "execution_count": 47,
   "metadata": {},
   "outputs": [
    {
     "data": {
      "text/plain": [
       "0.5188912637719892"
      ]
     },
     "execution_count": 47,
     "metadata": {},
     "output_type": "execute_result"
    }
   ],
   "source": [
    "data['kitchen_area'].corr(data['last_price'])"
   ]
  },
  {
   "cell_type": "markdown",
   "metadata": {},
   "source": [
    "Зависимость цены от кухни также наблюдается, что логично, учитывая зависимость от общей площади."
   ]
  },
  {
   "cell_type": "markdown",
   "metadata": {},
   "source": [
    "#### Цена объекта last_price"
   ]
  },
  {
   "cell_type": "code",
   "execution_count": 48,
   "metadata": {},
   "outputs": [
    {
     "data": {
      "text/plain": [
       "count    2.347200e+04\n",
       "mean     6.026304e+06\n",
       "std      6.237847e+06\n",
       "min      1.219000e+04\n",
       "25%      3.400000e+06\n",
       "50%      4.600000e+06\n",
       "75%      6.700000e+06\n",
       "max      3.300000e+08\n",
       "Name: last_price, dtype: float64"
      ]
     },
     "execution_count": 48,
     "metadata": {},
     "output_type": "execute_result"
    }
   ],
   "source": [
    "data['last_price'].describe()"
   ]
  },
  {
   "cell_type": "code",
   "execution_count": 49,
   "metadata": {},
   "outputs": [
    {
     "data": {
      "text/plain": [
       "0        13000000\n",
       "1         3350000\n",
       "2         5196000\n",
       "3        64900000\n",
       "4        10000000\n",
       "           ...   \n",
       "23694     9700000\n",
       "23695     3100000\n",
       "23696     2500000\n",
       "23697    11475000\n",
       "23698     1350000\n",
       "Name: last_price, Length: 23472, dtype: int64"
      ]
     },
     "execution_count": 49,
     "metadata": {},
     "output_type": "execute_result"
    }
   ],
   "source": [
    "data['last_price'].astype('int')"
   ]
  },
  {
   "cell_type": "code",
   "execution_count": 50,
   "metadata": {},
   "outputs": [
    {
     "name": "stdout",
     "output_type": "stream",
     "text": [
      "Диаграмма размаха для цены\n"
     ]
    },
    {
     "data": {
      "image/png": "[encoded data removed]",
      "text/plain": [
       "<Figure size 720x504 with 1 Axes>"
      ]
     },
     "metadata": {
      "needs_background": "light"
     },
     "output_type": "display_data"
    }
   ],
   "source": [
    "print('Диаграмма размаха для цены')\n",
    "data.boxplot(column=['last_price'], figsize=(10,7), grid=True)\n",
    "plt.ylim(-1e+06, 1.5e+07)\n",
    "plt.show()"
   ]
  },
  {
   "cell_type": "markdown",
   "metadata": {},
   "source": [
    "Минимальное значение равно 12 190 при медианном значении 4,65 млн. Странное значение, скорее всего выброс.\n",
    "Верхнее  ограничение - 12 000 000 - такие цены есть."
   ]
  },
  {
   "cell_type": "code",
   "execution_count": 51,
   "metadata": {},
   "outputs": [
    {
     "data": {
      "text/html": [
       "<div>\n",
       "<style scoped>\n",
       "    .dataframe tbody tr th:only-of-type {\n",
       "        vertical-align: middle;\n",
       "    }\n",
       "\n",
       "    .dataframe tbody tr th {\n",
       "        vertical-align: top;\n",
       "    }\n",
       "\n",
       "    .dataframe thead th {\n",
       "        text-align: right;\n",
       "    }\n",
       "</style>\n",
       "<table border=\"1\" class=\"dataframe\">\n",
       "  <thead>\n",
       "    <tr style=\"text-align: right;\">\n",
       "      <th></th>\n",
       "      <th>total_images</th>\n",
       "      <th>last_price</th>\n",
       "      <th>total_area</th>\n",
       "      <th>first_day_exposition</th>\n",
       "      <th>rooms</th>\n",
       "      <th>ceiling_height</th>\n",
       "      <th>floors_total</th>\n",
       "      <th>living_area</th>\n",
       "      <th>floor</th>\n",
       "      <th>is_apartment</th>\n",
       "      <th>studio</th>\n",
       "      <th>open_plan</th>\n",
       "      <th>kitchen_area</th>\n",
       "      <th>balcony</th>\n",
       "      <th>locality_name</th>\n",
       "      <th>airports_nearest</th>\n",
       "      <th>city_centers_nearest</th>\n",
       "      <th>parks_around3000</th>\n",
       "      <th>parks_nearest</th>\n",
       "      <th>ponds_around3000</th>\n",
       "      <th>ponds_nearest</th>\n",
       "      <th>days_exposition</th>\n",
       "      <th>price_square_meter</th>\n",
       "      <th>day_publication</th>\n",
       "      <th>month_publication</th>\n",
       "      <th>year_publication</th>\n",
       "      <th>type_apartment_floor</th>\n",
       "      <th>distance_city_center</th>\n",
       "    </tr>\n",
       "  </thead>\n",
       "  <tbody>\n",
       "    <tr>\n",
       "      <th>8793</th>\n",
       "      <td>7</td>\n",
       "      <td>12190.0</td>\n",
       "      <td>109.0</td>\n",
       "      <td>2019-03-20</td>\n",
       "      <td>2</td>\n",
       "      <td>2.75</td>\n",
       "      <td>25</td>\n",
       "      <td>32.0</td>\n",
       "      <td>25</td>\n",
       "      <td>NaN</td>\n",
       "      <td>False</td>\n",
       "      <td>False</td>\n",
       "      <td>40.5</td>\n",
       "      <td>0</td>\n",
       "      <td>санкт-петербург</td>\n",
       "      <td>36421.0</td>\n",
       "      <td>9176.0</td>\n",
       "      <td>1.0</td>\n",
       "      <td>805.0</td>\n",
       "      <td>0.0</td>\n",
       "      <td>NaN</td>\n",
       "      <td>8</td>\n",
       "      <td>111.83</td>\n",
       "      <td>2</td>\n",
       "      <td>3</td>\n",
       "      <td>2019</td>\n",
       "      <td>последний</td>\n",
       "      <td>9.0</td>\n",
       "    </tr>\n",
       "  </tbody>\n",
       "</table>\n",
       "</div>"
      ],
      "text/plain": [
       "      total_images  last_price  total_area first_day_exposition  rooms  \\\n",
       "8793             7     12190.0       109.0           2019-03-20      2   \n",
       "\n",
       "      ceiling_height  floors_total  living_area  floor is_apartment  studio  \\\n",
       "8793            2.75            25         32.0     25          NaN   False   \n",
       "\n",
       "      open_plan  kitchen_area  balcony    locality_name  airports_nearest  \\\n",
       "8793      False          40.5        0  санкт-петербург           36421.0   \n",
       "\n",
       "      city_centers_nearest  parks_around3000  parks_nearest  ponds_around3000  \\\n",
       "8793                9176.0               1.0          805.0               0.0   \n",
       "\n",
       "      ponds_nearest  days_exposition  price_square_meter  day_publication  \\\n",
       "8793            NaN                8              111.83                2   \n",
       "\n",
       "      month_publication  year_publication type_apartment_floor  \\\n",
       "8793                  3              2019            последний   \n",
       "\n",
       "      distance_city_center  \n",
       "8793                   9.0  "
      ]
     },
     "execution_count": 51,
     "metadata": {},
     "output_type": "execute_result"
    }
   ],
   "source": [
    "cheap_data = data.query('last_price < 4e+5')\n",
    "cheap_data"
   ]
  },
  {
   "cell_type": "code",
   "execution_count": 52,
   "metadata": {},
   "outputs": [],
   "source": [
    "expensive_data = data.query('last_price > 1.2e+7')"
   ]
  },
  {
   "cell_type": "code",
   "execution_count": 53,
   "metadata": {},
   "outputs": [
    {
     "data": {
      "text/html": [
       "<div>\n",
       "<style scoped>\n",
       "    .dataframe tbody tr th:only-of-type {\n",
       "        vertical-align: middle;\n",
       "    }\n",
       "\n",
       "    .dataframe tbody tr th {\n",
       "        vertical-align: top;\n",
       "    }\n",
       "\n",
       "    .dataframe thead th {\n",
       "        text-align: right;\n",
       "    }\n",
       "</style>\n",
       "<table border=\"1\" class=\"dataframe\">\n",
       "  <thead>\n",
       "    <tr style=\"text-align: right;\">\n",
       "      <th></th>\n",
       "      <th>total_images</th>\n",
       "      <th>last_price</th>\n",
       "      <th>total_area</th>\n",
       "      <th>first_day_exposition</th>\n",
       "      <th>rooms</th>\n",
       "      <th>ceiling_height</th>\n",
       "      <th>floors_total</th>\n",
       "      <th>living_area</th>\n",
       "      <th>floor</th>\n",
       "      <th>is_apartment</th>\n",
       "      <th>studio</th>\n",
       "      <th>open_plan</th>\n",
       "      <th>kitchen_area</th>\n",
       "      <th>balcony</th>\n",
       "      <th>locality_name</th>\n",
       "      <th>airports_nearest</th>\n",
       "      <th>city_centers_nearest</th>\n",
       "      <th>parks_around3000</th>\n",
       "      <th>parks_nearest</th>\n",
       "      <th>ponds_around3000</th>\n",
       "      <th>ponds_nearest</th>\n",
       "      <th>days_exposition</th>\n",
       "      <th>price_square_meter</th>\n",
       "      <th>day_publication</th>\n",
       "      <th>month_publication</th>\n",
       "      <th>year_publication</th>\n",
       "      <th>type_apartment_floor</th>\n",
       "      <th>distance_city_center</th>\n",
       "    </tr>\n",
       "  </thead>\n",
       "  <tbody>\n",
       "    <tr>\n",
       "      <th>0</th>\n",
       "      <td>20</td>\n",
       "      <td>13000000.0</td>\n",
       "      <td>108.0</td>\n",
       "      <td>2019-03-07</td>\n",
       "      <td>3</td>\n",
       "      <td>2.70</td>\n",
       "      <td>16</td>\n",
       "      <td>51.0</td>\n",
       "      <td>8</td>\n",
       "      <td>NaN</td>\n",
       "      <td>False</td>\n",
       "      <td>False</td>\n",
       "      <td>25.0</td>\n",
       "      <td>0</td>\n",
       "      <td>санкт-петербург</td>\n",
       "      <td>18863.0</td>\n",
       "      <td>16028.0</td>\n",
       "      <td>1.0</td>\n",
       "      <td>482.0</td>\n",
       "      <td>2.0</td>\n",
       "      <td>755.0</td>\n",
       "      <td>&lt;NA&gt;</td>\n",
       "      <td>120370.37</td>\n",
       "      <td>3</td>\n",
       "      <td>3</td>\n",
       "      <td>2019</td>\n",
       "      <td>другой</td>\n",
       "      <td>16.0</td>\n",
       "    </tr>\n",
       "    <tr>\n",
       "      <th>3</th>\n",
       "      <td>0</td>\n",
       "      <td>64900000.0</td>\n",
       "      <td>159.0</td>\n",
       "      <td>2015-07-24</td>\n",
       "      <td>3</td>\n",
       "      <td>2.65</td>\n",
       "      <td>14</td>\n",
       "      <td>NaN</td>\n",
       "      <td>9</td>\n",
       "      <td>NaN</td>\n",
       "      <td>False</td>\n",
       "      <td>False</td>\n",
       "      <td>NaN</td>\n",
       "      <td>0</td>\n",
       "      <td>санкт-петербург</td>\n",
       "      <td>28098.0</td>\n",
       "      <td>6800.0</td>\n",
       "      <td>2.0</td>\n",
       "      <td>84.0</td>\n",
       "      <td>3.0</td>\n",
       "      <td>234.0</td>\n",
       "      <td>424</td>\n",
       "      <td>408176.10</td>\n",
       "      <td>4</td>\n",
       "      <td>7</td>\n",
       "      <td>2015</td>\n",
       "      <td>другой</td>\n",
       "      <td>7.0</td>\n",
       "    </tr>\n",
       "    <tr>\n",
       "      <th>19</th>\n",
       "      <td>16</td>\n",
       "      <td>14200000.0</td>\n",
       "      <td>121.0</td>\n",
       "      <td>2019-01-09</td>\n",
       "      <td>3</td>\n",
       "      <td>2.75</td>\n",
       "      <td>16</td>\n",
       "      <td>76.0</td>\n",
       "      <td>8</td>\n",
       "      <td>NaN</td>\n",
       "      <td>False</td>\n",
       "      <td>False</td>\n",
       "      <td>12.0</td>\n",
       "      <td>0</td>\n",
       "      <td>санкт-петербург</td>\n",
       "      <td>38900.0</td>\n",
       "      <td>12843.0</td>\n",
       "      <td>0.0</td>\n",
       "      <td>NaN</td>\n",
       "      <td>0.0</td>\n",
       "      <td>NaN</td>\n",
       "      <td>97</td>\n",
       "      <td>117355.37</td>\n",
       "      <td>2</td>\n",
       "      <td>1</td>\n",
       "      <td>2019</td>\n",
       "      <td>другой</td>\n",
       "      <td>13.0</td>\n",
       "    </tr>\n",
       "    <tr>\n",
       "      <th>35</th>\n",
       "      <td>6</td>\n",
       "      <td>15500000.0</td>\n",
       "      <td>149.0</td>\n",
       "      <td>2017-06-26</td>\n",
       "      <td>5</td>\n",
       "      <td>2.65</td>\n",
       "      <td>5</td>\n",
       "      <td>104.0</td>\n",
       "      <td>4</td>\n",
       "      <td>NaN</td>\n",
       "      <td>False</td>\n",
       "      <td>False</td>\n",
       "      <td>17.0</td>\n",
       "      <td>0</td>\n",
       "      <td>санкт-петербург</td>\n",
       "      <td>23670.0</td>\n",
       "      <td>3502.0</td>\n",
       "      <td>0.0</td>\n",
       "      <td>NaN</td>\n",
       "      <td>1.0</td>\n",
       "      <td>779.0</td>\n",
       "      <td>644</td>\n",
       "      <td>104026.85</td>\n",
       "      <td>0</td>\n",
       "      <td>6</td>\n",
       "      <td>2017</td>\n",
       "      <td>другой</td>\n",
       "      <td>4.0</td>\n",
       "    </tr>\n",
       "    <tr>\n",
       "      <th>42</th>\n",
       "      <td>13</td>\n",
       "      <td>22000000.0</td>\n",
       "      <td>161.8</td>\n",
       "      <td>2015-07-08</td>\n",
       "      <td>4</td>\n",
       "      <td>2.80</td>\n",
       "      <td>4</td>\n",
       "      <td>80.9</td>\n",
       "      <td>2</td>\n",
       "      <td>False</td>\n",
       "      <td>False</td>\n",
       "      <td>False</td>\n",
       "      <td>17.6</td>\n",
       "      <td>5</td>\n",
       "      <td>петергоф</td>\n",
       "      <td>35416.0</td>\n",
       "      <td>30605.0</td>\n",
       "      <td>2.0</td>\n",
       "      <td>47.0</td>\n",
       "      <td>1.0</td>\n",
       "      <td>907.0</td>\n",
       "      <td>987</td>\n",
       "      <td>135970.33</td>\n",
       "      <td>2</td>\n",
       "      <td>7</td>\n",
       "      <td>2015</td>\n",
       "      <td>другой</td>\n",
       "      <td>31.0</td>\n",
       "    </tr>\n",
       "    <tr>\n",
       "      <th>...</th>\n",
       "      <td>...</td>\n",
       "      <td>...</td>\n",
       "      <td>...</td>\n",
       "      <td>...</td>\n",
       "      <td>...</td>\n",
       "      <td>...</td>\n",
       "      <td>...</td>\n",
       "      <td>...</td>\n",
       "      <td>...</td>\n",
       "      <td>...</td>\n",
       "      <td>...</td>\n",
       "      <td>...</td>\n",
       "      <td>...</td>\n",
       "      <td>...</td>\n",
       "      <td>...</td>\n",
       "      <td>...</td>\n",
       "      <td>...</td>\n",
       "      <td>...</td>\n",
       "      <td>...</td>\n",
       "      <td>...</td>\n",
       "      <td>...</td>\n",
       "      <td>...</td>\n",
       "      <td>...</td>\n",
       "      <td>...</td>\n",
       "      <td>...</td>\n",
       "      <td>...</td>\n",
       "      <td>...</td>\n",
       "      <td>...</td>\n",
       "    </tr>\n",
       "    <tr>\n",
       "      <th>23587</th>\n",
       "      <td>7</td>\n",
       "      <td>12100000.0</td>\n",
       "      <td>88.0</td>\n",
       "      <td>2017-07-07</td>\n",
       "      <td>3</td>\n",
       "      <td>2.65</td>\n",
       "      <td>10</td>\n",
       "      <td>NaN</td>\n",
       "      <td>5</td>\n",
       "      <td>NaN</td>\n",
       "      <td>False</td>\n",
       "      <td>False</td>\n",
       "      <td>14.0</td>\n",
       "      <td>0</td>\n",
       "      <td>санкт-петербург</td>\n",
       "      <td>37412.0</td>\n",
       "      <td>8370.0</td>\n",
       "      <td>1.0</td>\n",
       "      <td>392.0</td>\n",
       "      <td>2.0</td>\n",
       "      <td>359.0</td>\n",
       "      <td>200</td>\n",
       "      <td>137500.00</td>\n",
       "      <td>4</td>\n",
       "      <td>7</td>\n",
       "      <td>2017</td>\n",
       "      <td>другой</td>\n",
       "      <td>8.0</td>\n",
       "    </tr>\n",
       "    <tr>\n",
       "      <th>23590</th>\n",
       "      <td>0</td>\n",
       "      <td>21187872.0</td>\n",
       "      <td>123.3</td>\n",
       "      <td>2017-04-25</td>\n",
       "      <td>3</td>\n",
       "      <td>2.65</td>\n",
       "      <td>9</td>\n",
       "      <td>50.4</td>\n",
       "      <td>18</td>\n",
       "      <td>NaN</td>\n",
       "      <td>False</td>\n",
       "      <td>False</td>\n",
       "      <td>23.6</td>\n",
       "      <td>0</td>\n",
       "      <td>санкт-петербург</td>\n",
       "      <td>19095.0</td>\n",
       "      <td>4529.0</td>\n",
       "      <td>0.0</td>\n",
       "      <td>NaN</td>\n",
       "      <td>0.0</td>\n",
       "      <td>NaN</td>\n",
       "      <td>104</td>\n",
       "      <td>171840.00</td>\n",
       "      <td>1</td>\n",
       "      <td>4</td>\n",
       "      <td>2017</td>\n",
       "      <td>другой</td>\n",
       "      <td>5.0</td>\n",
       "    </tr>\n",
       "    <tr>\n",
       "      <th>23608</th>\n",
       "      <td>22</td>\n",
       "      <td>14000000.0</td>\n",
       "      <td>80.0</td>\n",
       "      <td>2017-11-10</td>\n",
       "      <td>3</td>\n",
       "      <td>2.65</td>\n",
       "      <td>11</td>\n",
       "      <td>44.1</td>\n",
       "      <td>6</td>\n",
       "      <td>NaN</td>\n",
       "      <td>False</td>\n",
       "      <td>False</td>\n",
       "      <td>11.0</td>\n",
       "      <td>2</td>\n",
       "      <td>санкт-петербург</td>\n",
       "      <td>11943.0</td>\n",
       "      <td>11710.0</td>\n",
       "      <td>1.0</td>\n",
       "      <td>518.0</td>\n",
       "      <td>1.0</td>\n",
       "      <td>232.0</td>\n",
       "      <td>19</td>\n",
       "      <td>175000.00</td>\n",
       "      <td>4</td>\n",
       "      <td>11</td>\n",
       "      <td>2017</td>\n",
       "      <td>другой</td>\n",
       "      <td>12.0</td>\n",
       "    </tr>\n",
       "    <tr>\n",
       "      <th>23631</th>\n",
       "      <td>17</td>\n",
       "      <td>14799000.0</td>\n",
       "      <td>104.0</td>\n",
       "      <td>2018-11-18</td>\n",
       "      <td>3</td>\n",
       "      <td>3.10</td>\n",
       "      <td>4</td>\n",
       "      <td>66.0</td>\n",
       "      <td>2</td>\n",
       "      <td>NaN</td>\n",
       "      <td>False</td>\n",
       "      <td>False</td>\n",
       "      <td>14.0</td>\n",
       "      <td>1</td>\n",
       "      <td>санкт-петербург</td>\n",
       "      <td>39047.0</td>\n",
       "      <td>13944.0</td>\n",
       "      <td>0.0</td>\n",
       "      <td>NaN</td>\n",
       "      <td>1.0</td>\n",
       "      <td>553.0</td>\n",
       "      <td>90</td>\n",
       "      <td>142298.08</td>\n",
       "      <td>6</td>\n",
       "      <td>11</td>\n",
       "      <td>2018</td>\n",
       "      <td>другой</td>\n",
       "      <td>14.0</td>\n",
       "    </tr>\n",
       "    <tr>\n",
       "      <th>23684</th>\n",
       "      <td>20</td>\n",
       "      <td>21400000.0</td>\n",
       "      <td>145.0</td>\n",
       "      <td>2018-11-02</td>\n",
       "      <td>4</td>\n",
       "      <td>3.00</td>\n",
       "      <td>26</td>\n",
       "      <td>71.4</td>\n",
       "      <td>17</td>\n",
       "      <td>NaN</td>\n",
       "      <td>False</td>\n",
       "      <td>False</td>\n",
       "      <td>15.6</td>\n",
       "      <td>0</td>\n",
       "      <td>санкт-петербург</td>\n",
       "      <td>11827.0</td>\n",
       "      <td>11459.0</td>\n",
       "      <td>0.0</td>\n",
       "      <td>NaN</td>\n",
       "      <td>0.0</td>\n",
       "      <td>NaN</td>\n",
       "      <td>&lt;NA&gt;</td>\n",
       "      <td>147586.21</td>\n",
       "      <td>4</td>\n",
       "      <td>11</td>\n",
       "      <td>2018</td>\n",
       "      <td>другой</td>\n",
       "      <td>11.0</td>\n",
       "    </tr>\n",
       "  </tbody>\n",
       "</table>\n",
       "<p>1717 rows × 28 columns</p>\n",
       "</div>"
      ],
      "text/plain": [
       "       total_images  last_price  total_area first_day_exposition  rooms  \\\n",
       "0                20  13000000.0       108.0           2019-03-07      3   \n",
       "3                 0  64900000.0       159.0           2015-07-24      3   \n",
       "19               16  14200000.0       121.0           2019-01-09      3   \n",
       "35                6  15500000.0       149.0           2017-06-26      5   \n",
       "42               13  22000000.0       161.8           2015-07-08      4   \n",
       "...             ...         ...         ...                  ...    ...   \n",
       "23587             7  12100000.0        88.0           2017-07-07      3   \n",
       "23590             0  21187872.0       123.3           2017-04-25      3   \n",
       "23608            22  14000000.0        80.0           2017-11-10      3   \n",
       "23631            17  14799000.0       104.0           2018-11-18      3   \n",
       "23684            20  21400000.0       145.0           2018-11-02      4   \n",
       "\n",
       "       ceiling_height  floors_total  living_area  floor is_apartment  studio  \\\n",
       "0                2.70            16         51.0      8          NaN   False   \n",
       "3                2.65            14          NaN      9          NaN   False   \n",
       "19               2.75            16         76.0      8          NaN   False   \n",
       "35               2.65             5        104.0      4          NaN   False   \n",
       "42               2.80             4         80.9      2        False   False   \n",
       "...               ...           ...          ...    ...          ...     ...   \n",
       "23587            2.65            10          NaN      5          NaN   False   \n",
       "23590            2.65             9         50.4     18          NaN   False   \n",
       "23608            2.65            11         44.1      6          NaN   False   \n",
       "23631            3.10             4         66.0      2          NaN   False   \n",
       "23684            3.00            26         71.4     17          NaN   False   \n",
       "\n",
       "       open_plan  kitchen_area  balcony    locality_name  airports_nearest  \\\n",
       "0          False          25.0        0  санкт-петербург           18863.0   \n",
       "3          False           NaN        0  санкт-петербург           28098.0   \n",
       "19         False          12.0        0  санкт-петербург           38900.0   \n",
       "35         False          17.0        0  санкт-петербург           23670.0   \n",
       "42         False          17.6        5         петергоф           35416.0   \n",
       "...          ...           ...      ...              ...               ...   \n",
       "23587      False          14.0        0  санкт-петербург           37412.0   \n",
       "23590      False          23.6        0  санкт-петербург           19095.0   \n",
       "23608      False          11.0        2  санкт-петербург           11943.0   \n",
       "23631      False          14.0        1  санкт-петербург           39047.0   \n",
       "23684      False          15.6        0  санкт-петербург           11827.0   \n",
       "\n",
       "       city_centers_nearest  parks_around3000  parks_nearest  \\\n",
       "0                   16028.0               1.0          482.0   \n",
       "3                    6800.0               2.0           84.0   \n",
       "19                  12843.0               0.0            NaN   \n",
       "35                   3502.0               0.0            NaN   \n",
       "42                  30605.0               2.0           47.0   \n",
       "...                     ...               ...            ...   \n",
       "23587                8370.0               1.0          392.0   \n",
       "23590                4529.0               0.0            NaN   \n",
       "23608               11710.0               1.0          518.0   \n",
       "23631               13944.0               0.0            NaN   \n",
       "23684               11459.0               0.0            NaN   \n",
       "\n",
       "       ponds_around3000  ponds_nearest  days_exposition  price_square_meter  \\\n",
       "0                   2.0          755.0             <NA>           120370.37   \n",
       "3                   3.0          234.0              424           408176.10   \n",
       "19                  0.0            NaN               97           117355.37   \n",
       "35                  1.0          779.0              644           104026.85   \n",
       "42                  1.0          907.0              987           135970.33   \n",
       "...                 ...            ...              ...                 ...   \n",
       "23587               2.0          359.0              200           137500.00   \n",
       "23590               0.0            NaN              104           171840.00   \n",
       "23608               1.0          232.0               19           175000.00   \n",
       "23631               1.0          553.0               90           142298.08   \n",
       "23684               0.0            NaN             <NA>           147586.21   \n",
       "\n",
       "       day_publication  month_publication  year_publication  \\\n",
       "0                    3                  3              2019   \n",
       "3                    4                  7              2015   \n",
       "19                   2                  1              2019   \n",
       "35                   0                  6              2017   \n",
       "42                   2                  7              2015   \n",
       "...                ...                ...               ...   \n",
       "23587                4                  7              2017   \n",
       "23590                1                  4              2017   \n",
       "23608                4                 11              2017   \n",
       "23631                6                 11              2018   \n",
       "23684                4                 11              2018   \n",
       "\n",
       "      type_apartment_floor  distance_city_center  \n",
       "0                   другой                  16.0  \n",
       "3                   другой                   7.0  \n",
       "19                  другой                  13.0  \n",
       "35                  другой                   4.0  \n",
       "42                  другой                  31.0  \n",
       "...                    ...                   ...  \n",
       "23587               другой                   8.0  \n",
       "23590               другой                   5.0  \n",
       "23608               другой                  12.0  \n",
       "23631               другой                  14.0  \n",
       "23684               другой                  11.0  \n",
       "\n",
       "[1717 rows x 28 columns]"
      ]
     },
     "execution_count": 53,
     "metadata": {},
     "output_type": "execute_result"
    }
   ],
   "source": [
    "expensive_data"
   ]
  },
  {
   "cell_type": "code",
   "execution_count": 54,
   "metadata": {},
   "outputs": [
    {
     "data": {
      "image/png": "[encoded data removed]",
      "text/plain": [
       "<Figure size 432x288 with 1 Axes>"
      ]
     },
     "metadata": {
      "needs_background": "light"
     },
     "output_type": "display_data"
    }
   ],
   "source": [
    "data.query('last_price >= 4.e+5 and last_price <= 2.5e+7')['last_price'].hist()\n",
    "plt.show()"
   ]
  },
  {
   "cell_type": "markdown",
   "metadata": {},
   "source": [
    "Цена квартиры не может быть меньше 450000 В Петербурге и области, аномально большие значения(больше 20000000) тоже выбиваются из выборки. Удалим такие  данные:"
   ]
  },
  {
   "cell_type": "code",
   "execution_count": 55,
   "metadata": {},
   "outputs": [],
   "source": [
    "new_data = data.query('last_price >= 4.e+5 and last_price <= 2e+7')"
   ]
  },
  {
   "cell_type": "code",
   "execution_count": 56,
   "metadata": {},
   "outputs": [
    {
     "data": {
      "text/plain": [
       "0.9777181322426721"
      ]
     },
     "execution_count": 56,
     "metadata": {},
     "output_type": "execute_result"
    }
   ],
   "source": [
    "new_data.shape[0] / data.shape[0]"
   ]
  },
  {
   "cell_type": "markdown",
   "metadata": {},
   "source": [
    "Менее 4% данных исключается, так что на выборку это не повлияет."
   ]
  },
  {
   "cell_type": "code",
   "execution_count": 57,
   "metadata": {},
   "outputs": [],
   "source": [
    "data = new_data"
   ]
  },
  {
   "cell_type": "markdown",
   "metadata": {},
   "source": [
    "#### Количество комнат"
   ]
  },
  {
   "cell_type": "code",
   "execution_count": 58,
   "metadata": {},
   "outputs": [
    {
     "data": {
      "text/plain": [
       "count    22949.00000\n",
       "mean         2.00353\n",
       "std          0.97065\n",
       "min          0.00000\n",
       "25%          1.00000\n",
       "50%          2.00000\n",
       "75%          3.00000\n",
       "max         11.00000\n",
       "Name: rooms, dtype: float64"
      ]
     },
     "execution_count": 58,
     "metadata": {},
     "output_type": "execute_result"
    }
   ],
   "source": [
    "data['rooms'].describe()"
   ]
  },
  {
   "cell_type": "code",
   "execution_count": 59,
   "metadata": {},
   "outputs": [
    {
     "data": {
      "text/plain": [
       "11035     0\n",
       "3458      0\n",
       "3874      0\n",
       "4437      0\n",
       "10008     0\n",
       "         ..\n",
       "855       7\n",
       "23555     7\n",
       "2039      7\n",
       "8758      8\n",
       "648      11\n",
       "Name: rooms, Length: 22949, dtype: int64"
      ]
     },
     "execution_count": 59,
     "metadata": {},
     "output_type": "execute_result"
    }
   ],
   "source": [
    "data['rooms'].sort_values()"
   ]
  },
  {
   "cell_type": "code",
   "execution_count": 60,
   "metadata": {},
   "outputs": [
    {
     "name": "stdout",
     "output_type": "stream",
     "text": [
      "Диаграмма размаха для количества комнат\n"
     ]
    },
    {
     "data": {
      "image/png": "[encoded data removed]",
      "text/plain": [
       "<Figure size 720x504 with 1 Axes>"
      ]
     },
     "metadata": {
      "needs_background": "light"
     },
     "output_type": "display_data"
    }
   ],
   "source": [
    "print('Диаграмма размаха для количества комнат')\n",
    "data.boxplot(column=['rooms'], figsize=(10,7), grid=True)\n",
    "plt.ylabel('Количество комнат')\n",
    "plt.show()"
   ]
  },
  {
   "cell_type": "markdown",
   "metadata": {},
   "source": [
    "Нижний \"ус\" упирается в 0, но 0 комнат быть не может, ошибка в данных. Возьмем значения комнат >=1.\n",
    "Верхняя граница - 6 комнат.\n",
    "Большая часть значений от 2 до 3 комнат. Квартиры с количеством комнат больше 6 бывают, но их очень мало, так что из выборки удалим аномальные данные."
   ]
  },
  {
   "cell_type": "code",
   "execution_count": 61,
   "metadata": {},
   "outputs": [
    {
     "data": {
      "image/png": "[encoded data removed]",
      "text/plain": [
       "<Figure size 432x288 with 1 Axes>"
      ]
     },
     "metadata": {
      "needs_background": "light"
     },
     "output_type": "display_data"
    }
   ],
   "source": [
    "data.query('rooms >= 1 and rooms <= 6')['rooms'].hist()\n",
    "plt.show()"
   ]
  },
  {
   "cell_type": "markdown",
   "metadata": {},
   "source": [
    "Удалим из выборки выбросы:"
   ]
  },
  {
   "cell_type": "code",
   "execution_count": 62,
   "metadata": {},
   "outputs": [],
   "source": [
    "new_data = data.query('rooms >= 1 and rooms <= 6')"
   ]
  },
  {
   "cell_type": "code",
   "execution_count": 63,
   "metadata": {},
   "outputs": [
    {
     "data": {
      "text/plain": [
       "0.9908056995947536"
      ]
     },
     "execution_count": 63,
     "metadata": {},
     "output_type": "execute_result"
    }
   ],
   "source": [
    "new_data.shape[0] / data.shape[0]"
   ]
  },
  {
   "cell_type": "markdown",
   "metadata": {},
   "source": [
    " Удаляется менее 3 % данных, так что проводим сокращение данных."
   ]
  },
  {
   "cell_type": "code",
   "execution_count": 64,
   "metadata": {},
   "outputs": [],
   "source": [
    "data = new_data"
   ]
  },
  {
   "cell_type": "code",
   "execution_count": 65,
   "metadata": {},
   "outputs": [
    {
     "data": {
      "image/png": "[encoded data removed]",
      "text/plain": [
       "<Figure size 720x504 with 1 Axes>"
      ]
     },
     "metadata": {
      "needs_background": "light"
     },
     "output_type": "display_data"
    }
   ],
   "source": [
    "(\n",
    "    data.pivot_table(index='rooms', values='last_price')\n",
    "    .plot(grid=True, style='o', figsize=(10, 7))\n",
    ")\n",
    "plt.title('Зависимость цены от количества комнат')\n",
    "plt.show()"
   ]
  },
  {
   "cell_type": "code",
   "execution_count": 66,
   "metadata": {},
   "outputs": [
    {
     "data": {
      "text/plain": [
       "0.4959763666183671"
      ]
     },
     "execution_count": 66,
     "metadata": {},
     "output_type": "execute_result"
    }
   ],
   "source": [
    "data['rooms'].corr(data['last_price'])"
   ]
  },
  {
   "cell_type": "markdown",
   "metadata": {},
   "source": [
    "Зависимость между ценой квартиры и количеством комнат слабая."
   ]
  },
  {
   "cell_type": "markdown",
   "metadata": {},
   "source": [
    "#### Высота потолков ceiling_height"
   ]
  },
  {
   "cell_type": "code",
   "execution_count": 67,
   "metadata": {},
   "outputs": [
    {
     "data": {
      "text/plain": [
       "count    22738.000000\n",
       "mean         2.687562\n",
       "std          0.236825\n",
       "min          1.000000\n",
       "25%          2.600000\n",
       "50%          2.650000\n",
       "75%          2.700000\n",
       "max         14.000000\n",
       "Name: ceiling_height, dtype: float64"
      ]
     },
     "execution_count": 67,
     "metadata": {},
     "output_type": "execute_result"
    }
   ],
   "source": [
    "data['ceiling_height'].describe()"
   ]
  },
  {
   "cell_type": "code",
   "execution_count": 68,
   "metadata": {},
   "outputs": [
    {
     "name": "stdout",
     "output_type": "stream",
     "text": [
      "Диаграмма размаха для высоты потолка\n"
     ]
    },
    {
     "data": {
      "image/png": "[encoded data removed]",
      "text/plain": [
       "<Figure size 720x504 with 1 Axes>"
      ]
     },
     "metadata": {
      "needs_background": "light"
     },
     "output_type": "display_data"
    }
   ],
   "source": [
    "print('Диаграмма размаха для высоты потолка')\n",
    "data.boxplot(column=['ceiling_height'], figsize=(10,7), grid=True)\n",
    "plt.ylabel('Высота')\n",
    "plt.ylim(2, 3)\n",
    "plt.show()"
   ]
  },
  {
   "cell_type": "markdown",
   "metadata": {},
   "source": [
    "Значения в основном от 2 до 3 метров, что соответствует действительности. Значения 6-7 метров еще могут быть реальностью при 2-х уровнях квартиры, но значения более 7 метров считаем выбросами и исключаем."
   ]
  },
  {
   "cell_type": "code",
   "execution_count": 69,
   "metadata": {},
   "outputs": [],
   "source": [
    "new_data = data.drop(data[data.ceiling_height > 7].index)"
   ]
  },
  {
   "cell_type": "code",
   "execution_count": 70,
   "metadata": {},
   "outputs": [
    {
     "data": {
      "text/plain": [
       "0.9996921453074149"
      ]
     },
     "execution_count": 70,
     "metadata": {},
     "output_type": "execute_result"
    }
   ],
   "source": [
    "new_data.shape[0] / data.shape[0]"
   ]
  },
  {
   "cell_type": "markdown",
   "metadata": {},
   "source": [
    "Исключено менее 1% данных, что менее 10%, значит имеем право отбросить ненужное - на общие тенденции влияет не сильно:"
   ]
  },
  {
   "cell_type": "code",
   "execution_count": 71,
   "metadata": {},
   "outputs": [],
   "source": [
    "data = new_data"
   ]
  },
  {
   "cell_type": "markdown",
   "metadata": {},
   "source": [
    "#### Этаж, на котором расположена квартира и тип этажа квартиры"
   ]
  },
  {
   "cell_type": "code",
   "execution_count": 72,
   "metadata": {},
   "outputs": [
    {
     "data": {
      "text/plain": [
       "count    22731.000000\n",
       "mean         5.874841\n",
       "std          4.883360\n",
       "min          1.000000\n",
       "25%          2.000000\n",
       "50%          4.000000\n",
       "75%          8.000000\n",
       "max         33.000000\n",
       "Name: floor, dtype: float64"
      ]
     },
     "execution_count": 72,
     "metadata": {},
     "output_type": "execute_result"
    }
   ],
   "source": [
    "data['floor'].describe()"
   ]
  },
  {
   "cell_type": "code",
   "execution_count": 73,
   "metadata": {},
   "outputs": [
    {
     "name": "stdout",
     "output_type": "stream",
     "text": [
      "Диаграмма размаха для этажа объекта\n"
     ]
    },
    {
     "data": {
      "image/png": "[encoded data removed]",
      "text/plain": [
       "<Figure size 720x504 with 1 Axes>"
      ]
     },
     "metadata": {
      "needs_background": "light"
     },
     "output_type": "display_data"
    }
   ],
   "source": [
    "print('Диаграмма размаха для этажа объекта')\n",
    "data.boxplot(column=['floor'], figsize=(10,7), grid=True)\n",
    "plt.ylabel('Этаж')\n",
    "plt.show()"
   ]
  },
  {
   "cell_type": "markdown",
   "metadata": {},
   "source": [
    "\"Усы\" диаграммы размаха простираются от 1 (минимальное значение) до 17.\n",
    "Большее количество значений в диапазоне от 2 до 8, в среднем 4.\n",
    "Данные опасений не вызывают."
   ]
  },
  {
   "cell_type": "code",
   "execution_count": 74,
   "metadata": {},
   "outputs": [
    {
     "data": {
      "image/png": "[encoded data removed]",
      "text/plain": [
       "<Figure size 432x288 with 1 Axes>"
      ]
     },
     "metadata": {
      "needs_background": "light"
     },
     "output_type": "display_data"
    }
   ],
   "source": [
    "data.query('floor >= 1 and floor <= 17')['floor'].hist()\n",
    "plt.show()"
   ]
  },
  {
   "cell_type": "code",
   "execution_count": 75,
   "metadata": {},
   "outputs": [
    {
     "data": {
      "image/png": "[encoded data removed]",
      "text/plain": [
       "<Figure size 720x504 with 1 Axes>"
      ]
     },
     "metadata": {
      "needs_background": "light"
     },
     "output_type": "display_data"
    }
   ],
   "source": [
    "(\n",
    "    data.pivot_table(index='floor', values='last_price')\n",
    "    .plot(grid=True, style='o', figsize=(10, 7))\n",
    ")\n",
    "plt.title('Зависимость цены от этажа квартиры')\n",
    "plt.show()"
   ]
  },
  {
   "cell_type": "code",
   "execution_count": 76,
   "metadata": {},
   "outputs": [
    {
     "data": {
      "text/plain": [
       "0.09668518709945098"
      ]
     },
     "execution_count": 76,
     "metadata": {},
     "output_type": "execute_result"
    }
   ],
   "source": [
    "data['floor'].corr(data['last_price'])"
   ]
  },
  {
   "cell_type": "markdown",
   "metadata": {},
   "source": [
    "Четкой зависимости между ценой квартиры и этажом, на котором находится квартира, не наблюдается."
   ]
  },
  {
   "cell_type": "markdown",
   "metadata": {},
   "source": [
    "Если рассмотреть по типам этажа квартиры:"
   ]
  },
  {
   "cell_type": "code",
   "execution_count": 77,
   "metadata": {},
   "outputs": [
    {
     "data": {
      "image/png": "[encoded data removed]",
      "text/plain": [
       "<Figure size 720x504 with 1 Axes>"
      ]
     },
     "metadata": {
      "needs_background": "light"
     },
     "output_type": "display_data"
    }
   ],
   "source": [
    "(\n",
    "    data.pivot_table(index='type_apartment_floor', values='last_price', aggfunc='median').sort_values(by='last_price', ascending=False)\n",
    "    .plot(grid=True, style='o-', figsize=(10, 7), title='Зависимость цены от этажа расположения квартиры')\n",
    ")\n",
    "plt.xlabel('Расположение квартиры по этажам ')\n",
    "plt.ylabel('Цена')\n",
    "plt.show()"
   ]
  },
  {
   "cell_type": "code",
   "execution_count": 78,
   "metadata": {},
   "outputs": [
    {
     "data": {
      "image/png": "[encoded data removed]",
      "text/plain": [
       "<Figure size 720x504 with 1 Axes>"
      ]
     },
     "metadata": {},
     "output_type": "display_data"
    }
   ],
   "source": [
    "data.pivot_table(index='type_apartment_floor',values='last_price',aggfunc='count') \\\n",
    "  .plot.pie(y='last_price', figsize=(10,7), label='', title='График количественного отношения распределения предложений в зависимости от этажа')\n",
    "\n",
    "plt.show()"
   ]
  },
  {
   "cell_type": "markdown",
   "metadata": {},
   "source": [
    "Квартиры на первом и последних этажах не пользуются большим спросом в отличие от остальных."
   ]
  },
  {
   "cell_type": "markdown",
   "metadata": {},
   "source": [
    "#### Расстояние до центра города в метрах city_centers_nearest"
   ]
  },
  {
   "cell_type": "code",
   "execution_count": 79,
   "metadata": {},
   "outputs": [
    {
     "data": {
      "text/plain": [
       "count    17310.000000\n",
       "mean     14521.585326\n",
       "std       8591.034987\n",
       "min        208.000000\n",
       "25%       9850.000000\n",
       "50%      13279.000000\n",
       "75%      16464.000000\n",
       "max      65968.000000\n",
       "Name: city_centers_nearest, dtype: float64"
      ]
     },
     "execution_count": 79,
     "metadata": {},
     "output_type": "execute_result"
    }
   ],
   "source": [
    "data['city_centers_nearest'].describe()"
   ]
  },
  {
   "cell_type": "code",
   "execution_count": 80,
   "metadata": {},
   "outputs": [
    {
     "name": "stdout",
     "output_type": "stream",
     "text": [
      "Диаграмма размаха для расстояния от центра\n"
     ]
    },
    {
     "data": {
      "image/png": "[encoded data removed]",
      "text/plain": [
       "<Figure size 720x504 with 1 Axes>"
      ]
     },
     "metadata": {
      "needs_background": "light"
     },
     "output_type": "display_data"
    }
   ],
   "source": [
    "print('Диаграмма размаха для расстояния от центра')\n",
    "data.boxplot(column=['city_centers_nearest'], figsize=(10,7), grid=True)\n",
    "plt.ylabel('Расстояние от центра')\n",
    "plt.show()"
   ]
  },
  {
   "cell_type": "code",
   "execution_count": 81,
   "metadata": {},
   "outputs": [
    {
     "data": {
      "image/png": "[encoded data removed]",
      "text/plain": [
       "<Figure size 432x288 with 1 Axes>"
      ]
     },
     "metadata": {
      "needs_background": "light"
     },
     "output_type": "display_data"
    }
   ],
   "source": [
    "data['city_centers_nearest'].hist()\n",
    "plt.show()"
   ]
  },
  {
   "cell_type": "markdown",
   "metadata": {},
   "source": [
    "Больше всего квартир на удалении 9000-16000 от центра."
   ]
  },
  {
   "cell_type": "markdown",
   "metadata": {},
   "source": [
    "#### Расстояние до ближайшего парка parks_nearest"
   ]
  },
  {
   "cell_type": "code",
   "execution_count": 82,
   "metadata": {},
   "outputs": [
    {
     "data": {
      "text/plain": [
       "count    7508.000000\n",
       "mean      493.515051\n",
       "std       342.312803\n",
       "min         1.000000\n",
       "25%       289.000000\n",
       "50%       456.000000\n",
       "75%       614.000000\n",
       "max      3190.000000\n",
       "Name: parks_nearest, dtype: float64"
      ]
     },
     "execution_count": 82,
     "metadata": {},
     "output_type": "execute_result"
    }
   ],
   "source": [
    "data['parks_nearest'].describe()"
   ]
  },
  {
   "cell_type": "code",
   "execution_count": 83,
   "metadata": {},
   "outputs": [
    {
     "name": "stdout",
     "output_type": "stream",
     "text": [
      "Диаграмма размаха для расстояния от парков\n"
     ]
    },
    {
     "data": {
      "image/png": "[encoded data removed]",
      "text/plain": [
       "<Figure size 720x504 with 1 Axes>"
      ]
     },
     "metadata": {
      "needs_background": "light"
     },
     "output_type": "display_data"
    }
   ],
   "source": [
    "print('Диаграмма размаха для расстояния от парков')\n",
    "data.boxplot(column=['parks_nearest'], figsize=(10,7), grid=True)\n",
    "plt.ylabel('Расстояние от парка')\n",
    "plt.show()"
   ]
  },
  {
   "cell_type": "code",
   "execution_count": 84,
   "metadata": {},
   "outputs": [
    {
     "data": {
      "image/png": "[encoded data removed]",
      "text/plain": [
       "<Figure size 432x288 with 1 Axes>"
      ]
     },
     "metadata": {
      "needs_background": "light"
     },
     "output_type": "display_data"
    }
   ],
   "source": [
    "data['parks_nearest'].hist()\n",
    "plt.show()"
   ]
  },
  {
   "cell_type": "markdown",
   "metadata": {},
   "source": [
    "Большинство квартир на удалении 500 от парков. Минимальное значение -1, но это похоже на ошибку "
   ]
  },
  {
   "cell_type": "code",
   "execution_count": 85,
   "metadata": {},
   "outputs": [
    {
     "data": {
      "image/png": "[encoded data removed]",
      "text/plain": [
       "<Figure size 432x288 with 1 Axes>"
      ]
     },
     "metadata": {
      "needs_background": "light"
     },
     "output_type": "display_data"
    }
   ],
   "source": [
    "#код ревьюера\n",
    "data2 = pd.read_csv('/datasets/real_estate_data.csv', sep='\\t')\n",
    "(data2['total_area']).hist(bins=30);"
   ]
  },
  {
   "cell_type": "markdown",
   "metadata": {},
   "source": [
    "#### Время продаж"
   ]
  },
  {
   "cell_type": "code",
   "execution_count": 86,
   "metadata": {},
   "outputs": [
    {
     "data": {
      "text/plain": [
       "count    19775.000000\n",
       "mean       178.290619\n",
       "std        216.537597\n",
       "min          1.000000\n",
       "25%         45.000000\n",
       "50%         94.000000\n",
       "75%        228.000000\n",
       "max       1580.000000\n",
       "Name: days_exposition, dtype: float64"
      ]
     },
     "execution_count": 86,
     "metadata": {},
     "output_type": "execute_result"
    }
   ],
   "source": [
    "data['days_exposition'].describe()"
   ]
  },
  {
   "cell_type": "code",
   "execution_count": 87,
   "metadata": {},
   "outputs": [
    {
     "name": "stdout",
     "output_type": "stream",
     "text": [
      "Диаграмма размаха для времени продажи\n"
     ]
    },
    {
     "data": {
      "image/png": "[encoded data removed]",
      "text/plain": [
       "<Figure size 720x504 with 1 Axes>"
      ]
     },
     "metadata": {
      "needs_background": "light"
     },
     "output_type": "display_data"
    }
   ],
   "source": [
    "print('Диаграмма размаха для времени продажи')\n",
    "data.boxplot(column=['days_exposition'], figsize=(10,7), grid=True)\n",
    "plt.ylabel('Количество дней продажи')\n",
    "plt.show()"
   ]
  },
  {
   "cell_type": "markdown",
   "metadata": {},
   "source": [
    "\"Усы\" диаграммы размаха простираются от 1 (минимальное значение) до 430.\n",
    "Большее количество значений в диапазоне от 45 до 200, в среднем 95.\n",
    "На первый взгляд все в порядке, квартира может продаться и за 1 день, и за 400, дело случая.\n",
    "Получается, быстрой можно считать продажу до 50 дней, долгими - более 200. Около 100 дней - самый частый случай"
   ]
  },
  {
   "cell_type": "code",
   "execution_count": 88,
   "metadata": {},
   "outputs": [
    {
     "data": {
      "image/png": "[encoded data removed]",
      "text/plain": [
       "<Figure size 432x288 with 1 Axes>"
      ]
     },
     "metadata": {
      "needs_background": "light"
     },
     "output_type": "display_data"
    }
   ],
   "source": [
    "data.query('days_exposition >= 1 and days_exposition <= 430')['days_exposition'].hist()\n",
    "plt.show()"
   ]
  },
  {
   "cell_type": "code",
   "execution_count": 89,
   "metadata": {},
   "outputs": [
    {
     "data": {
      "image/png": "[encoded data removed]",
      "text/plain": [
       "<Figure size 720x504 with 1 Axes>"
      ]
     },
     "metadata": {
      "needs_background": "light"
     },
     "output_type": "display_data"
    }
   ],
   "source": [
    "(\n",
    "    data.pivot_table(index='days_exposition', values='last_price')\n",
    "    .plot(grid=True, style='o', figsize=(10, 7))\n",
    ")\n",
    "plt.title('Зависимость цены от времени продажи')\n",
    "plt.show()"
   ]
  },
  {
   "cell_type": "markdown",
   "metadata": {},
   "source": [
    "Зависимости между ценой и количеством дней продажи нет."
   ]
  },
  {
   "cell_type": "markdown",
   "metadata": {},
   "source": [
    "Проверим, влиет ли день, месяц или год на стоимость квартиры"
   ]
  },
  {
   "cell_type": "code",
   "execution_count": 90,
   "metadata": {},
   "outputs": [
    {
     "data": {
      "image/png": "[encoded data removed]",
      "text/plain": [
       "<Figure size 360x360 with 1 Axes>"
      ]
     },
     "metadata": {
      "needs_background": "light"
     },
     "output_type": "display_data"
    }
   ],
   "source": [
    "(\n",
    "    data.pivot_table(index='year_publication', values='last_price')\n",
    "    .plot(grid=True, style='o-', figsize=(5, 5))\n",
    ")\n",
    "plt.title('Зависимость цены от года публикации')\n",
    "plt.show()"
   ]
  },
  {
   "cell_type": "code",
   "execution_count": 91,
   "metadata": {},
   "outputs": [
    {
     "data": {
      "image/png": "[encoded data removed]",
      "text/plain": [
       "<Figure size 360x360 with 1 Axes>"
      ]
     },
     "metadata": {
      "needs_background": "light"
     },
     "output_type": "display_data"
    }
   ],
   "source": [
    "(\n",
    "    data.pivot_table(index='month_publication', values='last_price')\n",
    "    .plot(grid=True, style='o-', figsize=(5, 5))\n",
    ")\n",
    "plt.title('Зависимость цены от месяца публикации')\n",
    "plt.show()"
   ]
  },
  {
   "cell_type": "code",
   "execution_count": 92,
   "metadata": {},
   "outputs": [
    {
     "data": {
      "image/png": "[encoded data removed]",
      "text/plain": [
       "<Figure size 360x360 with 1 Axes>"
      ]
     },
     "metadata": {
      "needs_background": "light"
     },
     "output_type": "display_data"
    }
   ],
   "source": [
    "(\n",
    "    data.pivot_table(index='day_publication', values='last_price')\n",
    "    .plot(grid=True, style='o-', figsize=(5, 5))\n",
    ")\n",
    "plt.title('Зависимость цены от дня публикации')\n",
    "plt.show()"
   ]
  },
  {
   "cell_type": "markdown",
   "metadata": {},
   "source": [
    "Четкой зависимости между датой публикации и стоимостью квартиры не обнаружено."
   ]
  },
  {
   "cell_type": "markdown",
   "metadata": {},
   "source": [
    "#### Средняя цена одного квадратного метра в 10 населённых пунктах с наибольшим числом объявлений"
   ]
  },
  {
   "cell_type": "markdown",
   "metadata": {},
   "source": [
    "Предполагается, что в Санкт-Петербурге стоимость жилья выше, чем в окрестностях. \n",
    "Наименьшая - в отдаленных, новых или неблагополучных районах.\n",
    "Проверим гипотезу:"
   ]
  },
  {
   "cell_type": "code",
   "execution_count": 93,
   "metadata": {},
   "outputs": [
    {
     "data": {
      "text/html": [
       "<div>\n",
       "<style scoped>\n",
       "    .dataframe tbody tr th:only-of-type {\n",
       "        vertical-align: middle;\n",
       "    }\n",
       "\n",
       "    .dataframe tbody tr th {\n",
       "        vertical-align: top;\n",
       "    }\n",
       "\n",
       "    .dataframe thead th {\n",
       "        text-align: right;\n",
       "    }\n",
       "</style>\n",
       "<table border=\"1\" class=\"dataframe\">\n",
       "  <thead>\n",
       "    <tr style=\"text-align: right;\">\n",
       "      <th></th>\n",
       "      <th>count</th>\n",
       "      <th>mean</th>\n",
       "    </tr>\n",
       "    <tr>\n",
       "      <th>locality_name</th>\n",
       "      <th></th>\n",
       "      <th></th>\n",
       "    </tr>\n",
       "  </thead>\n",
       "  <tbody>\n",
       "    <tr>\n",
       "      <th>санкт-петербург</th>\n",
       "      <td>14869</td>\n",
       "      <td>108645.631797</td>\n",
       "    </tr>\n",
       "    <tr>\n",
       "      <th>мурино</th>\n",
       "      <td>562</td>\n",
       "      <td>85443.035730</td>\n",
       "    </tr>\n",
       "    <tr>\n",
       "      <th>кудрово</th>\n",
       "      <td>451</td>\n",
       "      <td>95150.960355</td>\n",
       "    </tr>\n",
       "    <tr>\n",
       "      <th>шушары</th>\n",
       "      <td>436</td>\n",
       "      <td>78405.738532</td>\n",
       "    </tr>\n",
       "    <tr>\n",
       "      <th>всеволожск</th>\n",
       "      <td>391</td>\n",
       "      <td>67155.598542</td>\n",
       "    </tr>\n",
       "    <tr>\n",
       "      <th>пушкин</th>\n",
       "      <td>359</td>\n",
       "      <td>101867.482591</td>\n",
       "    </tr>\n",
       "    <tr>\n",
       "      <th>колпино</th>\n",
       "      <td>337</td>\n",
       "      <td>75333.295816</td>\n",
       "    </tr>\n",
       "    <tr>\n",
       "      <th>парголово</th>\n",
       "      <td>322</td>\n",
       "      <td>90448.423416</td>\n",
       "    </tr>\n",
       "    <tr>\n",
       "      <th>гатчина</th>\n",
       "      <td>307</td>\n",
       "      <td>68746.146515</td>\n",
       "    </tr>\n",
       "    <tr>\n",
       "      <th>выборг</th>\n",
       "      <td>237</td>\n",
       "      <td>58141.909325</td>\n",
       "    </tr>\n",
       "  </tbody>\n",
       "</table>\n",
       "</div>"
      ],
      "text/plain": [
       "                 count           mean\n",
       "locality_name                        \n",
       "санкт-петербург  14869  108645.631797\n",
       "мурино             562   85443.035730\n",
       "кудрово            451   95150.960355\n",
       "шушары             436   78405.738532\n",
       "всеволожск         391   67155.598542\n",
       "пушкин             359  101867.482591\n",
       "колпино            337   75333.295816\n",
       "парголово          322   90448.423416\n",
       "гатчина            307   68746.146515\n",
       "выборг             237   58141.909325"
      ]
     },
     "execution_count": 93,
     "metadata": {},
     "output_type": "execute_result"
    }
   ],
   "source": [
    "locality_pivot_table = data.pivot_table(index = 'locality_name', values = 'price_square_meter', aggfunc=['count', 'mean'])\n",
    "locality_pivot_table.columns = ['count', 'mean']\n",
    "locality_pivot_table = locality_pivot_table.sort_values('count', ascending = False).head(10)\n",
    "locality_pivot_table"
   ]
  },
  {
   "cell_type": "code",
   "execution_count": 94,
   "metadata": {},
   "outputs": [
    {
     "data": {
      "text/html": [
       "<div>\n",
       "<style scoped>\n",
       "    .dataframe tbody tr th:only-of-type {\n",
       "        vertical-align: middle;\n",
       "    }\n",
       "\n",
       "    .dataframe tbody tr th {\n",
       "        vertical-align: top;\n",
       "    }\n",
       "\n",
       "    .dataframe thead th {\n",
       "        text-align: right;\n",
       "    }\n",
       "</style>\n",
       "<table border=\"1\" class=\"dataframe\">\n",
       "  <thead>\n",
       "    <tr style=\"text-align: right;\">\n",
       "      <th></th>\n",
       "      <th>count</th>\n",
       "      <th>mean</th>\n",
       "    </tr>\n",
       "    <tr>\n",
       "      <th>locality_name</th>\n",
       "      <th></th>\n",
       "      <th></th>\n",
       "    </tr>\n",
       "  </thead>\n",
       "  <tbody>\n",
       "    <tr>\n",
       "      <th>санкт-петербург</th>\n",
       "      <td>14869</td>\n",
       "      <td>108645.631797</td>\n",
       "    </tr>\n",
       "  </tbody>\n",
       "</table>\n",
       "</div>"
      ],
      "text/plain": [
       "                 count           mean\n",
       "locality_name                        \n",
       "санкт-петербург  14869  108645.631797"
      ]
     },
     "execution_count": 94,
     "metadata": {},
     "output_type": "execute_result"
    }
   ],
   "source": [
    "#максимальная стоимость\n",
    "locality_pivot_table[locality_pivot_table['mean']==locality_pivot_table['mean'].max()]"
   ]
  },
  {
   "cell_type": "markdown",
   "metadata": {},
   "source": [
    "Гипотеза с наиболее высокой стоимостью в Санкт-Петербурге подтвердилась."
   ]
  },
  {
   "cell_type": "code",
   "execution_count": 95,
   "metadata": {},
   "outputs": [
    {
     "data": {
      "text/html": [
       "<div>\n",
       "<style scoped>\n",
       "    .dataframe tbody tr th:only-of-type {\n",
       "        vertical-align: middle;\n",
       "    }\n",
       "\n",
       "    .dataframe tbody tr th {\n",
       "        vertical-align: top;\n",
       "    }\n",
       "\n",
       "    .dataframe thead th {\n",
       "        text-align: right;\n",
       "    }\n",
       "</style>\n",
       "<table border=\"1\" class=\"dataframe\">\n",
       "  <thead>\n",
       "    <tr style=\"text-align: right;\">\n",
       "      <th></th>\n",
       "      <th>count</th>\n",
       "      <th>mean</th>\n",
       "    </tr>\n",
       "    <tr>\n",
       "      <th>locality_name</th>\n",
       "      <th></th>\n",
       "      <th></th>\n",
       "    </tr>\n",
       "  </thead>\n",
       "  <tbody>\n",
       "    <tr>\n",
       "      <th>выборг</th>\n",
       "      <td>237</td>\n",
       "      <td>58141.909325</td>\n",
       "    </tr>\n",
       "  </tbody>\n",
       "</table>\n",
       "</div>"
      ],
      "text/plain": [
       "               count          mean\n",
       "locality_name                     \n",
       "выборг           237  58141.909325"
      ]
     },
     "execution_count": 95,
     "metadata": {},
     "output_type": "execute_result"
    }
   ],
   "source": [
    "#минимальная стоимость\n",
    "locality_pivot_table[locality_pivot_table['mean']==locality_pivot_table['mean'].min()]"
   ]
  },
  {
   "cell_type": "markdown",
   "metadata": {},
   "source": [
    "Наименьшая стоимость жилья в Выборге, что достаточно далеко от Санкт-Петербурга."
   ]
  },
  {
   "cell_type": "code",
   "execution_count": 103,
   "metadata": {},
   "outputs": [
    {
     "name": "stderr",
     "output_type": "stream",
     "text": [
      "/tmp/ipykernel_48/3497570049.py:2: UserWarning: FixedFormatter should only be used together with FixedLocator\n",
      "  ax.set_xticklabels(labels=locality_pivot_table.index, rotation=45, ha='right')\n"
     ]
    },
    {
     "data": {
      "image/png": "[encoded data removed]",
      "text/plain": [
       "<Figure size 864x432 with 1 Axes>"
      ]
     },
     "metadata": {
      "needs_background": "light"
     },
     "output_type": "display_data"
    }
   ],
   "source": [
    "fig, ax = plt.subplots(figsize = (12,6))\n",
    "ax.set_xticklabels(labels=locality_pivot_table.index, rotation=45, ha='right')\n",
    "fig = sns.barplot(x=locality_pivot_table.index, y=\"mean\", data=locality_pivot_table, ci = None, ax=ax)"
   ]
  },
  {
   "cell_type": "markdown",
   "metadata": {},
   "source": [
    "#### Средняя стоимость на разном удалении от центра"
   ]
  },
  {
   "cell_type": "markdown",
   "metadata": {},
   "source": [
    "Сперва надо определить какая область считается центром."
   ]
  },
  {
   "cell_type": "code",
   "execution_count": null,
   "metadata": {},
   "outputs": [],
   "source": [
    "data.query('locality_name == \"санкт-петербург\"')['distance_city_center'].describe()"
   ]
  },
  {
   "cell_type": "code",
   "execution_count": null,
   "metadata": {},
   "outputs": [],
   "source": [
    "(\n",
    "    data.query('locality_name == \"санкт-петербург\"')\n",
    "    .pivot_table(index='distance_city_center', values='last_price')\n",
    "    .plot(grid=True, style='o-', xlim=(0,15), figsize=(10, 5))\n",
    ")\n",
    "plt.title('Зависимость цены от удаления от центра города в Санкт-Петербурге')\n",
    "plt.xlabel('Расстояние от центра города (километр)')\n",
    "plt.ylabel('Цена (млн. руб.)')\n",
    "plt.show()"
   ]
  },
  {
   "cell_type": "code",
   "execution_count": null,
   "metadata": {},
   "outputs": [],
   "source": [
    "print('Таблица средней стоимость квартир в зависимости от удаления центра города Санкт-Петербург')\n",
    "data.query('locality_name == \"санкт-петербург\" and distance_city_center<10').pivot_table(values='last_price', index='distance_city_center')"
   ]
  },
  {
   "cell_type": "markdown",
   "metadata": {},
   "source": [
    "Наблюдается зависимость - цена падает при удалении от центра.\n",
    "Резкое изменение цены квартиры имеет место быть на удалении 9 км от центра города. \n",
    "На большем удалении стоимость примерно не меняется."
   ]
  },
  {
   "cell_type": "markdown",
   "metadata": {
    "id": "h7VpzkIDAwb-"
   },
   "source": [
    "### Напишите общий вывод"
   ]
  },
  {
   "cell_type": "markdown",
   "metadata": {
    "id": "3H4lnp_KAwb-"
   },
   "source": [
    "Изучена общая информация о данных - обработаны пропущенные значения там, где это необходимо, заменены типы данных на необходимые для возможности исследования. Добавлены характеристики:\n",
    "<br> - цена одного квадратного метра\n",
    "<br> - день недели публикации объявления\n",
    "<br> - месяц публикации объявления\n",
    "<br> - год публикации объявления\n",
    "<br> - тип этажа квартиры\n",
    "<br> - расстояние до центра города в километрах\n",
    "<br> Изучены параметры на наличие выбивающихся значений. Были определены и исключены аномалии в данных с ценой объекта, общей площадью квартиры, количеством комнат и высотой потолков.\n",
    "<br> Ошибки могут быть вызваны человеческим фактором, несовершенством формы для заполнения данных без проверки данных.\n",
    "<br>Выявлено, что в большинстве случаев продаются 2-3 комнатные квартиры , со средней стоимостью в 100 т.р. за кв.метр. и высотой потолков 2,65м.\n",
    "<br>При помощи диаграммы размаха выявлено, что нормальные значения времени продажи квартир варьируются от 1 до 430 дней. Быстрой считается продажа до 50 дней, долгой - более 200.\n",
    "<br>Люди  стараются найти предложения квартир на любом этаже за исключением первого и последнего. \n",
    "<br>При удалении от центра, падает и стоимость квартиры. \n",
    "<br>В Петербурге они дороже, чем в области. Как показал анализ, самые дешевые квартиры - в Выборге.\n",
    "<br>Наиболее явными факторами зависимости стоимости является общая площадь и расположение. Больше площадь- больше и цена, ближе к центру Санкту-Петербурга - дорогие варианты квартир."
   ]
  },
  {
   "cell_type": "markdown",
   "metadata": {
    "id": "A90mc0BgAwb-"
   },
   "source": [
    "**Чек-лист готовности проекта**\n",
    "\n",
    "Поставьте 'x' в выполненных пунктах. Далее нажмите Shift+Enter."
   ]
  },
  {
   "cell_type": "markdown",
   "metadata": {
    "id": "ME3sTWm6Awb-"
   },
   "source": [
    "- [x]  Файл с данными открыт.\n",
    "- [x]  Файл с данными изучен: выведены первые строки, использован метод `info()`, построены гистограммы.\n",
    "- [x]  Найдены пропущенные значения.\n",
    "- [x]  Пропущенные значения заполнены там, где это возможно.\n",
    "- [x]  Объяснено, какие пропущенные значения обнаружены.\n",
    "- [x]  В каждом столбце установлен корректный тип данных.\n",
    "- [x]  Объяснено, в каких столбцах изменён тип данных и почему.\n",
    "- [x]  Устранены неявные дубликаты в названиях населённых пунктов.\n",
    "- [x]  Обработаны редкие и выбивающиеся значения (аномалии).\n",
    "- [x]  В таблицу добавлены новые параметры:\n",
    "       – цена одного квадратного метра;\n",
    "       – день публикации объявления (0 - понедельник, 1 - вторник и т. д.);\n",
    "       – месяц публикации объявления;\n",
    "       – год публикации объявления;\n",
    "       – тип этажа квартиры (значения — «первый», «последний», «другой»);\n",
    "       – расстояние до центра города в километрах.\n",
    "- [x]  Изучены и описаны параметры:\n",
    "        - общая площадь;\n",
    "        - жилая площадь;\n",
    "        - площадь кухни;\n",
    "        - цена объекта;\n",
    "        - количество комнат;\n",
    "        - высота потолков;\n",
    "        - тип этажа квартиры («первый», «последний», «другой»);\n",
    "        - общее количество этажей в доме;\n",
    "        - расстояние до центра города в метрах;\n",
    "        - расстояние до ближайшего парка.\n",
    "- [x]  Выполнено задание «Изучите, как быстро продавались квартиры (столбец `days_exposition`)»:\n",
    "    - построена гистограмма;\n",
    "    - рассчитаны среднее и медиана;\n",
    "    - описано, сколько обычно занимает продажа и указано, какие продажи можно считать быстрыми, а какие — необычно долгими.\n",
    "- [x]  Выполнено задание «Определите факторы, которые больше всего влияют на общую (полную) стоимость объекта». Построены графики, которые показывают зависимость цены от параметров:\n",
    "        - общая площадь;\n",
    "        - жилая площадь;\n",
    "        - площадь кухни;\n",
    "        - количество комнат;\n",
    "        - тип этажа, на котором расположена квартира (первый, последний, другой);\n",
    "        - дата размещения (день недели, месяц, год).\n",
    "- [x]  Выполнено задание «Посчитайте среднюю цену одного квадратного метра в 10 населённых пунктах с наибольшим числом объявлений»:\n",
    "    - выделены населённые пункты с самой высокой и низкой стоимостью квадратного метра.\n",
    "- [x]  Выполнено задание «Выделите квартиры в Санкт-Петербурге с помощью столбца `locality_name` и вычислите их среднюю стоимость на разном удалении от центра»:\n",
    "    -  учтён каждый километр расстояния, известны средние цены квартир в одном километре от центра, в двух и так далее;\n",
    "    -  описано, как стоимость объекта зависит от расстояния до центра города;\n",
    "    -  построен график изменения средней цены для каждого километра от центра Петербурга.\n",
    "- [x]  На каждом этапе сделаны промежуточные выводы.\n",
    "- [x]  В конце проекта сделан общий вывод."
   ]
  },
  {
   "cell_type": "code",
   "execution_count": null,
   "metadata": {},
   "outputs": [],
   "source": []
  }
 ],
 "metadata": {
  "ExecuteTimeLog": [
   {
    "duration": 441,
    "start_time": "2024-07-30T16:39:21.736Z"
   },
   {
    "duration": 159,
    "start_time": "2024-07-30T16:39:22.232Z"
   },
   {
    "duration": 15,
    "start_time": "2024-07-30T16:39:22.758Z"
   },
   {
    "duration": 15,
    "start_time": "2024-07-30T16:39:43.256Z"
   },
   {
    "duration": 10,
    "start_time": "2024-07-30T16:40:40.517Z"
   },
   {
    "duration": 406,
    "start_time": "2024-07-30T16:42:22.817Z"
   },
   {
    "duration": 2,
    "start_time": "2024-07-30T16:48:01.191Z"
   },
   {
    "duration": 1221,
    "start_time": "2024-07-30T16:48:01.853Z"
   },
   {
    "duration": 330,
    "start_time": "2024-07-30T16:48:03.076Z"
   },
   {
    "duration": 40,
    "start_time": "2024-07-30T16:48:17.458Z"
   },
   {
    "duration": 2147,
    "start_time": "2024-07-30T16:48:21.398Z"
   },
   {
    "duration": 11,
    "start_time": "2024-07-30T16:51:13.409Z"
   },
   {
    "duration": 420,
    "start_time": "2024-08-01T02:18:14.056Z"
   },
   {
    "duration": 164,
    "start_time": "2024-08-01T02:18:14.587Z"
   },
   {
    "duration": 16,
    "start_time": "2024-08-01T02:18:16.199Z"
   },
   {
    "duration": 46,
    "start_time": "2024-08-01T02:18:16.942Z"
   },
   {
    "duration": 2303,
    "start_time": "2024-08-01T02:18:17.553Z"
   },
   {
    "duration": 11,
    "start_time": "2024-08-01T02:18:24.347Z"
   },
   {
    "duration": 6,
    "start_time": "2024-08-01T02:34:05.695Z"
   },
   {
    "duration": 8,
    "start_time": "2024-08-01T02:35:47.152Z"
   },
   {
    "duration": 12,
    "start_time": "2024-08-01T02:36:52.795Z"
   },
   {
    "duration": 5,
    "start_time": "2024-08-01T02:36:53.255Z"
   },
   {
    "duration": 5,
    "start_time": "2024-08-01T02:37:13.403Z"
   },
   {
    "duration": 6,
    "start_time": "2024-08-01T02:50:28.360Z"
   },
   {
    "duration": 3,
    "start_time": "2024-08-01T02:52:32.714Z"
   },
   {
    "duration": 4,
    "start_time": "2024-08-01T02:53:00.294Z"
   },
   {
    "duration": 5,
    "start_time": "2024-08-01T02:53:00.861Z"
   },
   {
    "duration": 46,
    "start_time": "2024-08-02T02:41:02.512Z"
   },
   {
    "duration": 379,
    "start_time": "2024-08-02T02:41:10.003Z"
   },
   {
    "duration": 157,
    "start_time": "2024-08-02T02:41:10.495Z"
   },
   {
    "duration": 13,
    "start_time": "2024-08-02T02:41:12.219Z"
   },
   {
    "duration": 35,
    "start_time": "2024-08-02T02:41:12.942Z"
   },
   {
    "duration": 1988,
    "start_time": "2024-08-02T02:41:13.536Z"
   },
   {
    "duration": 8,
    "start_time": "2024-08-02T02:41:15.526Z"
   },
   {
    "duration": 59,
    "start_time": "2024-08-02T02:41:15.535Z"
   },
   {
    "duration": 6,
    "start_time": "2024-08-02T02:41:15.708Z"
   },
   {
    "duration": 5,
    "start_time": "2024-08-02T02:41:17.139Z"
   },
   {
    "duration": 4,
    "start_time": "2024-08-02T02:41:18.099Z"
   },
   {
    "duration": 32,
    "start_time": "2024-08-02T02:41:18.967Z"
   },
   {
    "duration": 8,
    "start_time": "2024-08-02T02:41:29.347Z"
   },
   {
    "duration": 7,
    "start_time": "2024-08-02T02:43:42.580Z"
   },
   {
    "duration": 5,
    "start_time": "2024-08-02T02:43:43.904Z"
   },
   {
    "duration": 6,
    "start_time": "2024-08-02T02:50:53.375Z"
   },
   {
    "duration": 7,
    "start_time": "2024-08-02T02:50:56.346Z"
   },
   {
    "duration": 422,
    "start_time": "2024-08-04T05:44:14.157Z"
   },
   {
    "duration": 318,
    "start_time": "2024-08-04T05:44:14.692Z"
   },
   {
    "duration": 14,
    "start_time": "2024-08-04T05:44:16.429Z"
   },
   {
    "duration": 40,
    "start_time": "2024-08-04T05:44:17.000Z"
   },
   {
    "duration": 2116,
    "start_time": "2024-08-04T05:44:17.642Z"
   },
   {
    "duration": 9,
    "start_time": "2024-08-04T05:44:19.761Z"
   },
   {
    "duration": 5,
    "start_time": "2024-08-04T05:44:20.754Z"
   },
   {
    "duration": 8,
    "start_time": "2024-08-04T05:44:21.431Z"
   },
   {
    "duration": 4,
    "start_time": "2024-08-04T05:44:21.986Z"
   },
   {
    "duration": 6,
    "start_time": "2024-08-04T05:44:22.621Z"
   },
   {
    "duration": 8,
    "start_time": "2024-08-04T05:44:23.205Z"
   },
   {
    "duration": 5,
    "start_time": "2024-08-04T05:44:23.635Z"
   },
   {
    "duration": 5,
    "start_time": "2024-08-04T05:44:24.074Z"
   },
   {
    "duration": 4,
    "start_time": "2024-08-04T05:44:59.352Z"
   },
   {
    "duration": 4,
    "start_time": "2024-08-04T05:44:59.972Z"
   },
   {
    "duration": 6,
    "start_time": "2024-08-04T05:45:12.186Z"
   },
   {
    "duration": 70,
    "start_time": "2024-08-04T07:40:31.694Z"
   },
   {
    "duration": 36,
    "start_time": "2024-08-04T07:40:43.274Z"
   },
   {
    "duration": 7,
    "start_time": "2024-08-04T07:41:34.030Z"
   },
   {
    "duration": 17,
    "start_time": "2024-08-04T07:41:43.579Z"
   },
   {
    "duration": 16,
    "start_time": "2024-08-04T07:41:46.312Z"
   },
   {
    "duration": 20,
    "start_time": "2024-08-04T07:42:32.184Z"
   },
   {
    "duration": 5,
    "start_time": "2024-08-04T07:43:16.108Z"
   },
   {
    "duration": 4,
    "start_time": "2024-08-04T07:44:09.985Z"
   },
   {
    "duration": 14,
    "start_time": "2024-08-04T08:15:09.578Z"
   },
   {
    "duration": 27,
    "start_time": "2024-08-04T08:17:38.959Z"
   },
   {
    "duration": 15,
    "start_time": "2024-08-04T08:18:38.912Z"
   },
   {
    "duration": 56,
    "start_time": "2024-08-04T08:18:40.329Z"
   },
   {
    "duration": 216,
    "start_time": "2024-08-04T08:18:46.572Z"
   },
   {
    "duration": 29,
    "start_time": "2024-08-04T08:25:17.501Z"
   },
   {
    "duration": 426,
    "start_time": "2024-08-04T14:51:16.895Z"
   },
   {
    "duration": 188,
    "start_time": "2024-08-04T14:51:17.322Z"
   },
   {
    "duration": 19,
    "start_time": "2024-08-04T14:51:17.512Z"
   },
   {
    "duration": 50,
    "start_time": "2024-08-04T14:51:17.663Z"
   },
   {
    "duration": 2696,
    "start_time": "2024-08-04T14:51:17.869Z"
   },
   {
    "duration": 11,
    "start_time": "2024-08-04T14:51:20.568Z"
   },
   {
    "duration": 41,
    "start_time": "2024-08-04T14:51:20.581Z"
   },
   {
    "duration": 23,
    "start_time": "2024-08-04T14:51:20.624Z"
   },
   {
    "duration": 21,
    "start_time": "2024-08-04T14:51:20.649Z"
   },
   {
    "duration": 22,
    "start_time": "2024-08-04T14:51:20.671Z"
   },
   {
    "duration": 17,
    "start_time": "2024-08-04T14:51:20.695Z"
   },
   {
    "duration": 12,
    "start_time": "2024-08-04T14:51:20.714Z"
   },
   {
    "duration": 16,
    "start_time": "2024-08-04T14:51:20.727Z"
   },
   {
    "duration": 128,
    "start_time": "2024-08-04T14:51:20.745Z"
   },
   {
    "duration": 31,
    "start_time": "2024-08-04T14:51:21.661Z"
   },
   {
    "duration": 20,
    "start_time": "2024-08-04T14:51:22.075Z"
   },
   {
    "duration": 15,
    "start_time": "2024-08-04T14:51:23.317Z"
   },
   {
    "duration": 251,
    "start_time": "2024-08-04T14:51:23.805Z"
   },
   {
    "duration": 32,
    "start_time": "2024-08-04T14:51:26.457Z"
   },
   {
    "duration": 6,
    "start_time": "2024-08-04T15:17:02.261Z"
   },
   {
    "duration": 6,
    "start_time": "2024-08-04T15:30:22.517Z"
   },
   {
    "duration": 7,
    "start_time": "2024-08-04T15:30:27.569Z"
   },
   {
    "duration": 5,
    "start_time": "2024-08-04T15:30:43.319Z"
   },
   {
    "duration": 6,
    "start_time": "2024-08-04T15:33:07.260Z"
   },
   {
    "duration": 6,
    "start_time": "2024-08-04T15:34:32.950Z"
   },
   {
    "duration": 376,
    "start_time": "2024-08-04T15:46:57.589Z"
   },
   {
    "duration": 5,
    "start_time": "2024-08-04T15:47:17.052Z"
   },
   {
    "duration": 9,
    "start_time": "2024-08-04T17:39:59.645Z"
   },
   {
    "duration": 11,
    "start_time": "2024-08-04T17:53:01.297Z"
   },
   {
    "duration": 158,
    "start_time": "2024-08-04T17:59:13.145Z"
   },
   {
    "duration": 3,
    "start_time": "2024-08-04T17:59:52.145Z"
   },
   {
    "duration": 105,
    "start_time": "2024-08-04T17:59:52.639Z"
   },
   {
    "duration": 27,
    "start_time": "2024-08-04T17:59:53.108Z"
   },
   {
    "duration": 41,
    "start_time": "2024-08-04T17:59:53.493Z"
   },
   {
    "duration": 2073,
    "start_time": "2024-08-04T17:59:53.956Z"
   },
   {
    "duration": 10,
    "start_time": "2024-08-04T17:59:56.030Z"
   },
   {
    "duration": 6,
    "start_time": "2024-08-04T17:59:56.055Z"
   },
   {
    "duration": 11,
    "start_time": "2024-08-04T17:59:56.063Z"
   },
   {
    "duration": 11,
    "start_time": "2024-08-04T17:59:56.075Z"
   },
   {
    "duration": 8,
    "start_time": "2024-08-04T17:59:56.088Z"
   },
   {
    "duration": 12,
    "start_time": "2024-08-04T17:59:56.098Z"
   },
   {
    "duration": 5,
    "start_time": "2024-08-04T17:59:56.180Z"
   },
   {
    "duration": 5,
    "start_time": "2024-08-04T17:59:56.432Z"
   },
   {
    "duration": 8,
    "start_time": "2024-08-04T17:59:56.737Z"
   },
   {
    "duration": 22,
    "start_time": "2024-08-04T17:59:57.485Z"
   },
   {
    "duration": 23,
    "start_time": "2024-08-04T17:59:58.184Z"
   },
   {
    "duration": 16,
    "start_time": "2024-08-04T17:59:59.372Z"
   },
   {
    "duration": 8,
    "start_time": "2024-08-04T18:00:24.977Z"
   },
   {
    "duration": 4,
    "start_time": "2024-08-04T18:00:25.509Z"
   },
   {
    "duration": 5,
    "start_time": "2024-08-04T18:00:26.086Z"
   },
   {
    "duration": 16,
    "start_time": "2024-08-04T18:00:26.773Z"
   },
   {
    "duration": 13,
    "start_time": "2024-08-04T18:00:45.517Z"
   },
   {
    "duration": 27,
    "start_time": "2024-08-04T18:00:47.156Z"
   },
   {
    "duration": 30,
    "start_time": "2024-08-04T18:00:47.921Z"
   },
   {
    "duration": 16,
    "start_time": "2024-08-04T18:00:49.688Z"
   },
   {
    "duration": 246,
    "start_time": "2024-08-04T18:00:50.685Z"
   },
   {
    "duration": 32,
    "start_time": "2024-08-04T18:00:51.520Z"
   },
   {
    "duration": 4,
    "start_time": "2024-08-04T18:00:54.077Z"
   },
   {
    "duration": 6,
    "start_time": "2024-08-04T18:00:55.088Z"
   },
   {
    "duration": 6,
    "start_time": "2024-08-04T18:00:56.084Z"
   },
   {
    "duration": 6,
    "start_time": "2024-08-04T18:00:57.060Z"
   },
   {
    "duration": 356,
    "start_time": "2024-08-04T18:00:58.213Z"
   },
   {
    "duration": 7,
    "start_time": "2024-08-04T18:00:59.256Z"
   },
   {
    "duration": 9,
    "start_time": "2024-08-04T18:01:01.947Z"
   },
   {
    "duration": 232,
    "start_time": "2024-08-04T18:01:03.913Z"
   },
   {
    "duration": 907,
    "start_time": "2024-08-04T18:01:26.990Z"
   },
   {
    "duration": 12,
    "start_time": "2024-08-04T18:02:22.011Z"
   },
   {
    "duration": 5,
    "start_time": "2024-08-04T18:03:06.998Z"
   },
   {
    "duration": 8,
    "start_time": "2024-08-04T18:03:08.519Z"
   },
   {
    "duration": 5,
    "start_time": "2024-08-04T18:03:11.039Z"
   },
   {
    "duration": 5,
    "start_time": "2024-08-04T18:03:11.530Z"
   },
   {
    "duration": 14,
    "start_time": "2024-08-04T18:03:13.711Z"
   },
   {
    "duration": 11,
    "start_time": "2024-08-04T18:52:52.826Z"
   },
   {
    "duration": 197,
    "start_time": "2024-08-04T19:41:37.575Z"
   },
   {
    "duration": 275,
    "start_time": "2024-08-04T19:44:36.788Z"
   },
   {
    "duration": 262,
    "start_time": "2024-08-04T19:45:12.389Z"
   },
   {
    "duration": 267,
    "start_time": "2024-08-04T19:45:28.181Z"
   },
   {
    "duration": 284,
    "start_time": "2024-08-04T19:45:53.197Z"
   },
   {
    "duration": 10,
    "start_time": "2024-08-04T20:01:04.610Z"
   },
   {
    "duration": 9,
    "start_time": "2024-08-04T20:01:08.026Z"
   },
   {
    "duration": 10,
    "start_time": "2024-08-04T20:01:29.379Z"
   },
   {
    "duration": 144,
    "start_time": "2024-08-04T20:01:56.716Z"
   },
   {
    "duration": 435,
    "start_time": "2024-08-04T20:02:25.580Z"
   },
   {
    "duration": 10,
    "start_time": "2024-08-04T20:02:57.168Z"
   },
   {
    "duration": 869,
    "start_time": "2024-08-05T02:13:36.264Z"
   },
   {
    "duration": 189,
    "start_time": "2024-08-05T02:13:37.135Z"
   },
   {
    "duration": 17,
    "start_time": "2024-08-05T02:13:37.517Z"
   },
   {
    "duration": 44,
    "start_time": "2024-08-05T02:13:38.111Z"
   },
   {
    "duration": 2071,
    "start_time": "2024-08-05T02:13:38.765Z"
   },
   {
    "duration": 11,
    "start_time": "2024-08-05T02:13:40.838Z"
   },
   {
    "duration": 6,
    "start_time": "2024-08-05T02:13:41.061Z"
   },
   {
    "duration": 8,
    "start_time": "2024-08-05T02:13:46.121Z"
   },
   {
    "duration": 5,
    "start_time": "2024-08-05T02:13:47.077Z"
   },
   {
    "duration": 6,
    "start_time": "2024-08-05T02:13:47.745Z"
   },
   {
    "duration": 8,
    "start_time": "2024-08-05T02:13:48.444Z"
   },
   {
    "duration": 6,
    "start_time": "2024-08-05T02:13:49.560Z"
   },
   {
    "duration": 5,
    "start_time": "2024-08-05T02:13:50.313Z"
   },
   {
    "duration": 82,
    "start_time": "2024-08-05T02:13:51.566Z"
   },
   {
    "duration": 16,
    "start_time": "2024-08-05T02:34:45.362Z"
   },
   {
    "duration": 10,
    "start_time": "2024-08-05T02:36:00.863Z"
   },
   {
    "duration": 16,
    "start_time": "2024-08-05T02:38:11.784Z"
   },
   {
    "duration": 25,
    "start_time": "2024-08-05T02:38:28.260Z"
   },
   {
    "duration": 81,
    "start_time": "2024-08-05T02:38:53.743Z"
   },
   {
    "duration": 70,
    "start_time": "2024-08-05T02:39:25.891Z"
   },
   {
    "duration": 15,
    "start_time": "2024-08-05T02:39:38.260Z"
   },
   {
    "duration": 79,
    "start_time": "2024-08-05T02:40:16.827Z"
   },
   {
    "duration": 14,
    "start_time": "2024-08-05T02:40:46.721Z"
   },
   {
    "duration": 259,
    "start_time": "2024-08-05T02:46:19.601Z"
   },
   {
    "duration": 306,
    "start_time": "2024-08-05T02:46:29.497Z"
   },
   {
    "duration": 228,
    "start_time": "2024-08-05T02:46:34.364Z"
   },
   {
    "duration": 12,
    "start_time": "2024-08-05T02:46:43.365Z"
   },
   {
    "duration": 71,
    "start_time": "2024-08-05T02:53:22.625Z"
   },
   {
    "duration": 16,
    "start_time": "2024-08-05T02:53:29.229Z"
   },
   {
    "duration": 8,
    "start_time": "2024-08-05T02:54:20.963Z"
   },
   {
    "duration": 1010,
    "start_time": "2024-08-05T02:55:15.588Z"
   },
   {
    "duration": 8,
    "start_time": "2024-08-05T02:55:37.268Z"
   },
   {
    "duration": 8,
    "start_time": "2024-08-05T02:55:39.989Z"
   },
   {
    "duration": 7,
    "start_time": "2024-08-05T02:55:40.491Z"
   },
   {
    "duration": 8,
    "start_time": "2024-08-05T02:55:47.183Z"
   },
   {
    "duration": 6,
    "start_time": "2024-08-05T02:55:47.681Z"
   },
   {
    "duration": 34,
    "start_time": "2024-08-05T02:55:54.284Z"
   },
   {
    "duration": 22,
    "start_time": "2024-08-05T02:55:55.491Z"
   },
   {
    "duration": 15,
    "start_time": "2024-08-05T02:55:57.306Z"
   },
   {
    "duration": 316,
    "start_time": "2024-08-05T02:55:57.780Z"
   },
   {
    "duration": 30,
    "start_time": "2024-08-05T02:55:58.404Z"
   },
   {
    "duration": 5,
    "start_time": "2024-08-05T02:56:00.255Z"
   },
   {
    "duration": 9,
    "start_time": "2024-08-05T02:56:01.267Z"
   },
   {
    "duration": 6,
    "start_time": "2024-08-05T02:56:02.114Z"
   },
   {
    "duration": 6,
    "start_time": "2024-08-05T02:56:03.074Z"
   },
   {
    "duration": 355,
    "start_time": "2024-08-05T02:56:04.223Z"
   },
   {
    "duration": 6,
    "start_time": "2024-08-05T02:56:05.427Z"
   },
   {
    "duration": 12,
    "start_time": "2024-08-05T02:56:07.827Z"
   },
   {
    "duration": 145,
    "start_time": "2024-08-05T02:56:08.499Z"
   },
   {
    "duration": 254,
    "start_time": "2024-08-05T02:56:09.795Z"
   },
   {
    "duration": 11,
    "start_time": "2024-08-05T02:56:11.675Z"
   },
   {
    "duration": 155,
    "start_time": "2024-08-05T02:56:19.040Z"
   },
   {
    "duration": 344,
    "start_time": "2024-08-05T02:56:20.540Z"
   },
   {
    "duration": 10,
    "start_time": "2024-08-05T02:56:23.403Z"
   },
   {
    "duration": 152,
    "start_time": "2024-08-05T02:56:24.559Z"
   },
   {
    "duration": 276,
    "start_time": "2024-08-05T02:56:25.956Z"
   },
   {
    "duration": 144,
    "start_time": "2024-08-05T02:57:46.661Z"
   },
   {
    "duration": 141,
    "start_time": "2024-08-05T02:57:54.201Z"
   },
   {
    "duration": 280,
    "start_time": "2024-08-05T02:58:45.374Z"
   },
   {
    "duration": 11,
    "start_time": "2024-08-05T03:13:33.555Z"
   },
   {
    "duration": 140,
    "start_time": "2024-08-05T03:14:22.592Z"
   },
   {
    "duration": 294,
    "start_time": "2024-08-05T03:14:48.491Z"
   },
   {
    "duration": 9,
    "start_time": "2024-08-05T03:15:32.516Z"
   },
   {
    "duration": 278,
    "start_time": "2024-08-05T03:16:35.829Z"
   },
   {
    "duration": 158,
    "start_time": "2024-08-05T03:17:31.718Z"
   },
   {
    "duration": 305,
    "start_time": "2024-08-05T03:17:59.934Z"
   },
   {
    "duration": 52,
    "start_time": "2024-08-05T16:41:51.974Z"
   },
   {
    "duration": 817,
    "start_time": "2024-08-05T16:42:30.005Z"
   },
   {
    "duration": 182,
    "start_time": "2024-08-05T16:42:30.824Z"
   },
   {
    "duration": 18,
    "start_time": "2024-08-05T16:42:31.860Z"
   },
   {
    "duration": 46,
    "start_time": "2024-08-05T16:42:32.830Z"
   },
   {
    "duration": 2120,
    "start_time": "2024-08-05T16:42:33.372Z"
   },
   {
    "duration": 11,
    "start_time": "2024-08-05T16:42:35.495Z"
   },
   {
    "duration": 22,
    "start_time": "2024-08-05T16:42:35.507Z"
   },
   {
    "duration": 9,
    "start_time": "2024-08-05T16:42:35.593Z"
   },
   {
    "duration": 5,
    "start_time": "2024-08-05T16:42:36.220Z"
   },
   {
    "duration": 7,
    "start_time": "2024-08-05T16:42:36.788Z"
   },
   {
    "duration": 8,
    "start_time": "2024-08-05T16:42:37.292Z"
   },
   {
    "duration": 6,
    "start_time": "2024-08-05T16:42:37.812Z"
   },
   {
    "duration": 5,
    "start_time": "2024-08-05T16:42:38.323Z"
   },
   {
    "duration": 8,
    "start_time": "2024-08-05T16:42:38.828Z"
   },
   {
    "duration": 7,
    "start_time": "2024-08-05T16:42:39.319Z"
   },
   {
    "duration": 25,
    "start_time": "2024-08-05T16:42:40.343Z"
   },
   {
    "duration": 22,
    "start_time": "2024-08-05T16:42:40.932Z"
   },
   {
    "duration": 15,
    "start_time": "2024-08-05T16:42:42.124Z"
   },
   {
    "duration": 248,
    "start_time": "2024-08-05T16:42:42.668Z"
   },
   {
    "duration": 30,
    "start_time": "2024-08-05T16:42:43.260Z"
   },
   {
    "duration": 4,
    "start_time": "2024-08-05T16:42:45.308Z"
   },
   {
    "duration": 6,
    "start_time": "2024-08-05T16:42:46.379Z"
   },
   {
    "duration": 7,
    "start_time": "2024-08-05T16:42:47.451Z"
   },
   {
    "duration": 6,
    "start_time": "2024-08-05T16:42:48.548Z"
   },
   {
    "duration": 340,
    "start_time": "2024-08-05T16:42:49.615Z"
   },
   {
    "duration": 7,
    "start_time": "2024-08-05T16:42:50.738Z"
   },
   {
    "duration": 9,
    "start_time": "2024-08-05T16:42:53.795Z"
   },
   {
    "duration": 147,
    "start_time": "2024-08-05T16:42:54.265Z"
   },
   {
    "duration": 254,
    "start_time": "2024-08-05T16:42:57.972Z"
   },
   {
    "duration": 253,
    "start_time": "2024-08-05T16:43:03.113Z"
   },
   {
    "duration": 377,
    "start_time": "2024-08-05T16:51:36.074Z"
   },
   {
    "duration": 281,
    "start_time": "2024-08-05T16:51:45.688Z"
   },
   {
    "duration": 134,
    "start_time": "2024-08-05T16:51:54.978Z"
   },
   {
    "duration": 3,
    "start_time": "2024-08-05T16:59:50.011Z"
   },
   {
    "duration": 108,
    "start_time": "2024-08-05T16:59:50.222Z"
   },
   {
    "duration": 16,
    "start_time": "2024-08-05T16:59:51.801Z"
   },
   {
    "duration": 39,
    "start_time": "2024-08-05T16:59:52.319Z"
   },
   {
    "duration": 2108,
    "start_time": "2024-08-05T16:59:52.803Z"
   },
   {
    "duration": 10,
    "start_time": "2024-08-05T16:59:54.913Z"
   },
   {
    "duration": 34,
    "start_time": "2024-08-05T16:59:54.925Z"
   },
   {
    "duration": 17,
    "start_time": "2024-08-05T16:59:54.961Z"
   },
   {
    "duration": 22,
    "start_time": "2024-08-05T16:59:54.980Z"
   },
   {
    "duration": 6,
    "start_time": "2024-08-05T16:59:56.400Z"
   },
   {
    "duration": 8,
    "start_time": "2024-08-05T16:59:57.441Z"
   },
   {
    "duration": 6,
    "start_time": "2024-08-05T16:59:58.086Z"
   },
   {
    "duration": 4,
    "start_time": "2024-08-05T16:59:58.616Z"
   },
   {
    "duration": 7,
    "start_time": "2024-08-05T16:59:59.131Z"
   },
   {
    "duration": 8,
    "start_time": "2024-08-05T16:59:59.583Z"
   },
   {
    "duration": 23,
    "start_time": "2024-08-05T17:00:00.559Z"
   },
   {
    "duration": 21,
    "start_time": "2024-08-05T17:00:00.920Z"
   },
   {
    "duration": 16,
    "start_time": "2024-08-05T17:00:01.543Z"
   },
   {
    "duration": 254,
    "start_time": "2024-08-05T17:00:01.795Z"
   },
   {
    "duration": 30,
    "start_time": "2024-08-05T17:00:02.052Z"
   },
   {
    "duration": 5,
    "start_time": "2024-08-05T17:00:02.775Z"
   },
   {
    "duration": 6,
    "start_time": "2024-08-05T17:00:03.440Z"
   },
   {
    "duration": 6,
    "start_time": "2024-08-05T17:00:03.996Z"
   },
   {
    "duration": 6,
    "start_time": "2024-08-05T17:00:04.579Z"
   },
   {
    "duration": 337,
    "start_time": "2024-08-05T17:00:05.353Z"
   },
   {
    "duration": 8,
    "start_time": "2024-08-05T17:00:06.326Z"
   },
   {
    "duration": 10,
    "start_time": "2024-08-05T17:00:08.095Z"
   },
   {
    "duration": 136,
    "start_time": "2024-08-05T17:00:09.033Z"
   },
   {
    "duration": 257,
    "start_time": "2024-08-05T17:00:09.600Z"
   },
   {
    "duration": 245,
    "start_time": "2024-08-05T17:00:13.200Z"
   },
   {
    "duration": 147,
    "start_time": "2024-08-05T17:14:25.001Z"
   },
   {
    "duration": 150,
    "start_time": "2024-08-05T17:14:45.870Z"
   },
   {
    "duration": 138,
    "start_time": "2024-08-05T17:15:06.257Z"
   },
   {
    "duration": 135,
    "start_time": "2024-08-05T17:15:23.569Z"
   },
   {
    "duration": 277,
    "start_time": "2024-08-05T17:15:24.093Z"
   },
   {
    "duration": 136,
    "start_time": "2024-08-05T17:15:25.285Z"
   },
   {
    "duration": 142,
    "start_time": "2024-08-05T17:18:40.001Z"
   },
   {
    "duration": 155,
    "start_time": "2024-08-05T17:19:17.881Z"
   },
   {
    "duration": 132,
    "start_time": "2024-08-05T17:34:17.765Z"
   },
   {
    "duration": 141,
    "start_time": "2024-08-05T17:42:05.783Z"
   },
   {
    "duration": 139,
    "start_time": "2024-08-05T17:50:35.932Z"
   },
   {
    "duration": 140,
    "start_time": "2024-08-05T17:58:01.046Z"
   },
   {
    "duration": 142,
    "start_time": "2024-08-05T17:58:53.713Z"
   },
   {
    "duration": 37,
    "start_time": "2024-08-05T18:06:14.534Z"
   },
   {
    "duration": 9,
    "start_time": "2024-08-05T18:07:06.955Z"
   },
   {
    "duration": 8,
    "start_time": "2024-08-05T18:08:50.564Z"
   },
   {
    "duration": 20,
    "start_time": "2024-08-05T18:23:01.464Z"
   },
   {
    "duration": 75,
    "start_time": "2024-08-05T18:24:56.191Z"
   },
   {
    "duration": 60,
    "start_time": "2024-08-05T18:26:36.735Z"
   },
   {
    "duration": 426,
    "start_time": "2024-08-05T18:29:33.753Z"
   },
   {
    "duration": 25,
    "start_time": "2024-08-05T18:29:40.041Z"
   },
   {
    "duration": 78,
    "start_time": "2024-08-05T18:37:13.829Z"
   },
   {
    "duration": 163,
    "start_time": "2024-08-05T19:01:31.445Z"
   },
   {
    "duration": 175,
    "start_time": "2024-08-05T19:03:26.315Z"
   },
   {
    "duration": 6,
    "start_time": "2024-08-05T19:04:16.923Z"
   },
   {
    "duration": 181,
    "start_time": "2024-08-05T19:05:47.664Z"
   },
   {
    "duration": 6,
    "start_time": "2024-08-05T19:06:35.731Z"
   },
   {
    "duration": 180,
    "start_time": "2024-08-05T19:08:15.637Z"
   },
   {
    "duration": 5,
    "start_time": "2024-08-05T19:08:43.101Z"
   },
   {
    "duration": 168,
    "start_time": "2024-08-05T19:10:34.577Z"
   },
   {
    "duration": 6,
    "start_time": "2024-08-05T19:11:02.624Z"
   },
   {
    "duration": 169,
    "start_time": "2024-08-05T19:12:10.741Z"
   },
   {
    "duration": 5,
    "start_time": "2024-08-05T19:12:35.343Z"
   },
   {
    "duration": 193,
    "start_time": "2024-08-05T19:14:44.146Z"
   },
   {
    "duration": 5,
    "start_time": "2024-08-05T19:15:07.818Z"
   },
   {
    "duration": 7,
    "start_time": "2024-08-05T19:15:12.831Z"
   },
   {
    "duration": 152,
    "start_time": "2024-08-05T19:26:15.717Z"
   },
   {
    "duration": 183,
    "start_time": "2024-08-05T19:27:01.405Z"
   },
   {
    "duration": 46,
    "start_time": "2024-08-05T19:31:45.119Z"
   },
   {
    "duration": 158,
    "start_time": "2024-08-05T19:31:57.992Z"
   },
   {
    "duration": 6,
    "start_time": "2024-08-05T19:32:24.037Z"
   },
   {
    "duration": 171,
    "start_time": "2024-08-05T19:33:31.186Z"
   },
   {
    "duration": 6,
    "start_time": "2024-08-05T19:34:02.454Z"
   },
   {
    "duration": 172,
    "start_time": "2024-08-05T19:34:40.974Z"
   },
   {
    "duration": 5,
    "start_time": "2024-08-05T19:34:53.449Z"
   },
   {
    "duration": 8,
    "start_time": "2024-08-05T19:47:46.231Z"
   },
   {
    "duration": 7,
    "start_time": "2024-08-05T19:49:02.799Z"
   },
   {
    "duration": 3,
    "start_time": "2024-08-05T19:53:05.587Z"
   },
   {
    "duration": 104,
    "start_time": "2024-08-05T19:53:06.393Z"
   },
   {
    "duration": 16,
    "start_time": "2024-08-05T19:53:07.405Z"
   },
   {
    "duration": 40,
    "start_time": "2024-08-05T19:53:08.016Z"
   },
   {
    "duration": 2112,
    "start_time": "2024-08-05T19:53:09.222Z"
   },
   {
    "duration": 20,
    "start_time": "2024-08-05T19:53:11.336Z"
   },
   {
    "duration": 5,
    "start_time": "2024-08-05T19:53:11.358Z"
   },
   {
    "duration": 14,
    "start_time": "2024-08-05T19:53:11.365Z"
   },
   {
    "duration": 5,
    "start_time": "2024-08-05T19:53:12.153Z"
   },
   {
    "duration": 6,
    "start_time": "2024-08-05T19:53:12.666Z"
   },
   {
    "duration": 8,
    "start_time": "2024-08-05T19:53:13.225Z"
   },
   {
    "duration": 6,
    "start_time": "2024-08-05T19:53:13.830Z"
   },
   {
    "duration": 5,
    "start_time": "2024-08-05T19:53:14.637Z"
   },
   {
    "duration": 7,
    "start_time": "2024-08-05T19:53:15.427Z"
   },
   {
    "duration": 7,
    "start_time": "2024-08-05T19:53:16.165Z"
   },
   {
    "duration": 23,
    "start_time": "2024-08-05T19:53:17.301Z"
   },
   {
    "duration": 20,
    "start_time": "2024-08-05T19:53:18.194Z"
   },
   {
    "duration": 15,
    "start_time": "2024-08-05T19:53:19.393Z"
   },
   {
    "duration": 268,
    "start_time": "2024-08-05T19:53:19.882Z"
   },
   {
    "duration": 28,
    "start_time": "2024-08-05T19:53:20.562Z"
   },
   {
    "duration": 7,
    "start_time": "2024-08-05T19:53:22.165Z"
   },
   {
    "duration": 7,
    "start_time": "2024-08-05T19:53:23.181Z"
   },
   {
    "duration": 6,
    "start_time": "2024-08-05T19:53:24.153Z"
   },
   {
    "duration": 6,
    "start_time": "2024-08-05T19:53:25.191Z"
   },
   {
    "duration": 322,
    "start_time": "2024-08-05T19:53:26.134Z"
   },
   {
    "duration": 7,
    "start_time": "2024-08-05T19:53:26.751Z"
   },
   {
    "duration": 10,
    "start_time": "2024-08-05T19:53:28.329Z"
   },
   {
    "duration": 133,
    "start_time": "2024-08-05T19:53:28.613Z"
   },
   {
    "duration": 252,
    "start_time": "2024-08-05T19:53:29.331Z"
   },
   {
    "duration": 139,
    "start_time": "2024-08-05T19:53:29.896Z"
   },
   {
    "duration": 163,
    "start_time": "2024-08-05T19:53:31.183Z"
   },
   {
    "duration": 6,
    "start_time": "2024-08-05T19:53:31.742Z"
   },
   {
    "duration": 70,
    "start_time": "2024-08-05T19:53:32.383Z"
   },
   {
    "duration": 10,
    "start_time": "2024-08-05T19:53:44.510Z"
   },
   {
    "duration": 155,
    "start_time": "2024-08-05T19:53:45.114Z"
   },
   {
    "duration": 147,
    "start_time": "2024-08-05T19:53:46.221Z"
   },
   {
    "duration": 183,
    "start_time": "2024-08-05T19:53:46.802Z"
   },
   {
    "duration": 6,
    "start_time": "2024-08-05T19:53:47.329Z"
   },
   {
    "duration": 60,
    "start_time": "2024-08-05T19:53:48.310Z"
   },
   {
    "duration": 9,
    "start_time": "2024-08-05T19:53:54.929Z"
   },
   {
    "duration": 147,
    "start_time": "2024-08-05T19:53:55.688Z"
   },
   {
    "duration": 138,
    "start_time": "2024-08-05T19:53:57.061Z"
   },
   {
    "duration": 158,
    "start_time": "2024-08-05T19:53:57.676Z"
   },
   {
    "duration": 6,
    "start_time": "2024-08-05T19:53:58.501Z"
   },
   {
    "duration": 9,
    "start_time": "2024-08-05T19:54:00.666Z"
   },
   {
    "duration": 151,
    "start_time": "2024-08-05T19:54:01.211Z"
   },
   {
    "duration": 148,
    "start_time": "2024-08-05T19:54:02.269Z"
   },
   {
    "duration": 171,
    "start_time": "2024-08-05T19:54:02.629Z"
   },
   {
    "duration": 6,
    "start_time": "2024-08-05T19:54:02.942Z"
   },
   {
    "duration": 9,
    "start_time": "2024-08-05T19:54:04.197Z"
   },
   {
    "duration": 136,
    "start_time": "2024-08-05T19:54:04.774Z"
   },
   {
    "duration": 143,
    "start_time": "2024-08-05T19:54:05.961Z"
   },
   {
    "duration": 162,
    "start_time": "2024-08-05T19:54:06.558Z"
   },
   {
    "duration": 6,
    "start_time": "2024-08-05T19:54:07.068Z"
   },
   {
    "duration": 175,
    "start_time": "2024-08-05T19:54:09.442Z"
   },
   {
    "duration": 60,
    "start_time": "2024-08-05T19:54:10.034Z"
   },
   {
    "duration": 9,
    "start_time": "2024-08-05T19:54:22.025Z"
   },
   {
    "duration": 149,
    "start_time": "2024-08-05T19:54:22.885Z"
   },
   {
    "duration": 130,
    "start_time": "2024-08-05T19:54:24.450Z"
   },
   {
    "duration": 192,
    "start_time": "2024-08-05T19:54:25.466Z"
   },
   {
    "duration": 6,
    "start_time": "2024-08-05T19:54:28.766Z"
   },
   {
    "duration": 68,
    "start_time": "2024-08-05T19:54:29.694Z"
   },
   {
    "duration": 157,
    "start_time": "2024-08-05T19:54:34.825Z"
   },
   {
    "duration": 5,
    "start_time": "2024-08-05T19:54:35.656Z"
   },
   {
    "duration": 163,
    "start_time": "2024-08-05T19:54:37.651Z"
   },
   {
    "duration": 5,
    "start_time": "2024-08-05T19:54:38.234Z"
   },
   {
    "duration": 330,
    "start_time": "2024-08-05T19:54:39.102Z"
   },
   {
    "duration": 6,
    "start_time": "2024-08-05T19:54:40.070Z"
   },
   {
    "duration": 26,
    "start_time": "2024-08-05T19:54:43.908Z"
   },
   {
    "duration": 8,
    "start_time": "2024-08-05T19:54:44.587Z"
   },
   {
    "duration": 9,
    "start_time": "2024-08-05T19:54:45.933Z"
   },
   {
    "duration": 15,
    "start_time": "2024-08-05T19:54:48.735Z"
   },
   {
    "duration": 191,
    "start_time": "2024-08-05T19:54:49.530Z"
   },
   {
    "duration": 20,
    "start_time": "2024-08-05T19:54:50.194Z"
   },
   {
    "duration": 1367,
    "start_time": "2024-08-05T20:02:41.934Z"
   },
   {
    "duration": 187,
    "start_time": "2024-08-05T20:02:43.302Z"
   },
   {
    "duration": 15,
    "start_time": "2024-08-05T20:02:43.491Z"
   },
   {
    "duration": 106,
    "start_time": "2024-08-05T20:02:43.508Z"
   },
   {
    "duration": 4591,
    "start_time": "2024-08-05T20:02:43.615Z"
   },
   {
    "duration": 11,
    "start_time": "2024-08-05T20:02:48.207Z"
   },
   {
    "duration": 8,
    "start_time": "2024-08-05T20:02:48.282Z"
   },
   {
    "duration": 10,
    "start_time": "2024-08-05T20:02:48.292Z"
   },
   {
    "duration": 23,
    "start_time": "2024-08-05T20:02:48.304Z"
   },
   {
    "duration": 7,
    "start_time": "2024-08-05T20:02:48.384Z"
   },
   {
    "duration": 18,
    "start_time": "2024-08-05T20:02:48.393Z"
   },
   {
    "duration": 8,
    "start_time": "2024-08-05T20:02:48.413Z"
   },
   {
    "duration": 63,
    "start_time": "2024-08-05T20:02:48.422Z"
   },
   {
    "duration": 11,
    "start_time": "2024-08-05T20:02:48.486Z"
   },
   {
    "duration": 7,
    "start_time": "2024-08-05T20:02:48.498Z"
   },
   {
    "duration": 89,
    "start_time": "2024-08-05T20:02:48.507Z"
   },
   {
    "duration": 23,
    "start_time": "2024-08-05T20:02:48.598Z"
   },
   {
    "duration": 74,
    "start_time": "2024-08-05T20:02:48.623Z"
   },
   {
    "duration": 506,
    "start_time": "2024-08-05T20:02:48.699Z"
   },
   {
    "duration": 32,
    "start_time": "2024-08-05T20:02:49.207Z"
   },
   {
    "duration": 44,
    "start_time": "2024-08-05T20:02:49.240Z"
   },
   {
    "duration": 8,
    "start_time": "2024-08-05T20:02:49.286Z"
   },
   {
    "duration": 5,
    "start_time": "2024-08-05T20:02:49.296Z"
   },
   {
    "duration": 13,
    "start_time": "2024-08-05T20:02:49.303Z"
   },
   {
    "duration": 975,
    "start_time": "2024-08-05T20:02:49.317Z"
   },
   {
    "duration": 7,
    "start_time": "2024-08-05T20:02:50.293Z"
   },
   {
    "duration": 16,
    "start_time": "2024-08-05T20:02:50.301Z"
   },
   {
    "duration": 360,
    "start_time": "2024-08-05T20:02:50.322Z"
   },
   {
    "duration": 302,
    "start_time": "2024-08-05T20:02:50.684Z"
   },
   {
    "duration": 299,
    "start_time": "2024-08-05T20:02:50.988Z"
   },
   {
    "duration": 504,
    "start_time": "2024-08-05T20:02:51.289Z"
   },
   {
    "duration": 7,
    "start_time": "2024-08-05T20:02:51.795Z"
   },
   {
    "duration": 89,
    "start_time": "2024-08-05T20:02:51.804Z"
   },
   {
    "duration": 295,
    "start_time": "2024-08-05T20:02:51.895Z"
   },
   {
    "duration": 308,
    "start_time": "2024-08-05T20:02:52.191Z"
   },
   {
    "duration": 393,
    "start_time": "2024-08-05T20:02:52.501Z"
   },
   {
    "duration": 6,
    "start_time": "2024-08-05T20:02:52.896Z"
   },
   {
    "duration": 18,
    "start_time": "2024-08-05T20:02:52.904Z"
   },
   {
    "duration": 300,
    "start_time": "2024-08-05T20:02:52.982Z"
   },
   {
    "duration": 302,
    "start_time": "2024-08-05T20:02:53.284Z"
   },
   {
    "duration": 331,
    "start_time": "2024-08-05T20:02:53.588Z"
   },
   {
    "duration": 64,
    "start_time": "2024-08-05T20:02:53.921Z"
   },
   {
    "duration": 58,
    "start_time": "2024-08-05T20:02:53.988Z"
   },
   {
    "duration": 348,
    "start_time": "2024-08-05T20:02:54.047Z"
   },
   {
    "duration": 312,
    "start_time": "2024-08-05T20:02:54.396Z"
   },
   {
    "duration": 379,
    "start_time": "2024-08-05T20:02:54.710Z"
   },
   {
    "duration": 5,
    "start_time": "2024-08-05T20:02:55.091Z"
   },
   {
    "duration": 19,
    "start_time": "2024-08-05T20:02:55.097Z"
   },
   {
    "duration": 364,
    "start_time": "2024-08-05T20:02:55.118Z"
   },
   {
    "duration": 306,
    "start_time": "2024-08-05T20:02:55.484Z"
   },
   {
    "duration": 423,
    "start_time": "2024-08-05T20:02:55.791Z"
   },
   {
    "duration": 5,
    "start_time": "2024-08-05T20:02:56.216Z"
   },
   {
    "duration": 603,
    "start_time": "2024-08-05T20:02:56.223Z"
   },
   {
    "duration": 59,
    "start_time": "2024-08-05T20:02:56.828Z"
   },
   {
    "duration": 209,
    "start_time": "2024-08-05T20:02:56.889Z"
   },
   {
    "duration": 137,
    "start_time": "2024-08-05T20:02:57.100Z"
   },
   {
    "duration": 220,
    "start_time": "2024-08-05T20:02:57.239Z"
   },
   {
    "duration": 6,
    "start_time": "2024-08-05T20:02:57.460Z"
   },
   {
    "duration": 175,
    "start_time": "2024-08-05T20:02:57.468Z"
   },
   {
    "duration": 6,
    "start_time": "2024-08-05T20:02:57.645Z"
   },
   {
    "duration": 207,
    "start_time": "2024-08-05T20:02:57.653Z"
   },
   {
    "duration": 7,
    "start_time": "2024-08-05T20:02:57.862Z"
   },
   {
    "duration": 215,
    "start_time": "2024-08-05T20:02:57.871Z"
   },
   {
    "duration": 6,
    "start_time": "2024-08-05T20:02:58.088Z"
   },
   {
    "duration": 26,
    "start_time": "2024-08-05T20:02:58.096Z"
   },
   {
    "duration": 8,
    "start_time": "2024-08-05T20:02:58.124Z"
   },
   {
    "duration": 20,
    "start_time": "2024-08-05T20:02:58.134Z"
   },
   {
    "duration": 40,
    "start_time": "2024-08-05T20:02:58.156Z"
   },
   {
    "duration": 193,
    "start_time": "2024-08-05T20:02:58.198Z"
   },
   {
    "duration": 19,
    "start_time": "2024-08-05T20:02:58.393Z"
   },
   {
    "duration": 11,
    "start_time": "2024-08-05T20:15:01.330Z"
   },
   {
    "duration": 104,
    "start_time": "2024-08-05T20:18:41.320Z"
   },
   {
    "duration": 91,
    "start_time": "2024-08-05T20:19:14.851Z"
   },
   {
    "duration": 41,
    "start_time": "2024-08-06T02:47:47.682Z"
   },
   {
    "duration": 733,
    "start_time": "2024-08-06T02:47:53.976Z"
   },
   {
    "duration": 147,
    "start_time": "2024-08-06T02:47:54.711Z"
   },
   {
    "duration": 13,
    "start_time": "2024-08-06T02:47:55.675Z"
   },
   {
    "duration": 3,
    "start_time": "2024-08-06T02:47:56.426Z"
   },
   {
    "duration": 2,
    "start_time": "2024-08-06T02:48:07.398Z"
   },
   {
    "duration": 3,
    "start_time": "2024-08-06T02:48:16.693Z"
   },
   {
    "duration": 2,
    "start_time": "2024-08-06T02:48:25.951Z"
   },
   {
    "duration": 635,
    "start_time": "2024-08-06T02:48:45.199Z"
   },
   {
    "duration": 89,
    "start_time": "2024-08-06T02:48:45.835Z"
   },
   {
    "duration": 15,
    "start_time": "2024-08-06T02:48:45.925Z"
   },
   {
    "duration": 15,
    "start_time": "2024-08-06T02:48:45.942Z"
   },
   {
    "duration": 1554,
    "start_time": "2024-08-06T02:48:45.958Z"
   },
   {
    "duration": 9,
    "start_time": "2024-08-06T02:48:47.514Z"
   },
   {
    "duration": 13,
    "start_time": "2024-08-06T02:48:47.524Z"
   },
   {
    "duration": 9,
    "start_time": "2024-08-06T02:48:47.538Z"
   },
   {
    "duration": 10,
    "start_time": "2024-08-06T02:48:47.548Z"
   },
   {
    "duration": 27,
    "start_time": "2024-08-06T02:48:47.560Z"
   },
   {
    "duration": 28,
    "start_time": "2024-08-06T02:48:47.589Z"
   },
   {
    "duration": 18,
    "start_time": "2024-08-06T02:48:47.619Z"
   },
   {
    "duration": 36,
    "start_time": "2024-08-06T02:48:47.638Z"
   },
   {
    "duration": 10,
    "start_time": "2024-08-06T02:48:47.675Z"
   },
   {
    "duration": 7,
    "start_time": "2024-08-06T02:48:47.686Z"
   },
   {
    "duration": 30,
    "start_time": "2024-08-06T02:48:47.694Z"
   },
   {
    "duration": 27,
    "start_time": "2024-08-06T02:48:47.725Z"
   },
   {
    "duration": 11,
    "start_time": "2024-08-06T02:48:47.754Z"
   },
   {
    "duration": 205,
    "start_time": "2024-08-06T02:48:47.767Z"
   },
   {
    "duration": 20,
    "start_time": "2024-08-06T02:48:47.973Z"
   },
   {
    "duration": 13,
    "start_time": "2024-08-06T02:48:47.994Z"
   },
   {
    "duration": 5,
    "start_time": "2024-08-06T02:48:48.008Z"
   },
   {
    "duration": 21,
    "start_time": "2024-08-06T02:48:48.014Z"
   },
   {
    "duration": 11,
    "start_time": "2024-08-06T02:48:48.036Z"
   },
   {
    "duration": 295,
    "start_time": "2024-08-06T02:48:48.049Z"
   },
   {
    "duration": 5,
    "start_time": "2024-08-06T02:48:48.345Z"
   },
   {
    "duration": 21,
    "start_time": "2024-08-06T02:48:48.352Z"
   },
   {
    "duration": 116,
    "start_time": "2024-08-06T02:48:48.377Z"
   },
   {
    "duration": 109,
    "start_time": "2024-08-06T02:48:48.494Z"
   },
   {
    "duration": 115,
    "start_time": "2024-08-06T02:48:48.605Z"
   },
   {
    "duration": 200,
    "start_time": "2024-08-06T02:48:48.721Z"
   },
   {
    "duration": 4,
    "start_time": "2024-08-06T02:48:48.923Z"
   },
   {
    "duration": 11,
    "start_time": "2024-08-06T02:48:48.928Z"
   },
   {
    "duration": 123,
    "start_time": "2024-08-06T02:48:48.940Z"
   },
   {
    "duration": 112,
    "start_time": "2024-08-06T02:48:49.064Z"
   },
   {
    "duration": 161,
    "start_time": "2024-08-06T02:48:49.178Z"
   },
   {
    "duration": 23,
    "start_time": "2024-08-06T02:48:49.340Z"
   },
   {
    "duration": 8,
    "start_time": "2024-08-06T02:48:49.364Z"
   },
   {
    "duration": 108,
    "start_time": "2024-08-06T02:48:49.374Z"
   },
   {
    "duration": 100,
    "start_time": "2024-08-06T02:48:49.483Z"
   },
   {
    "duration": 135,
    "start_time": "2024-08-06T02:48:49.585Z"
   },
   {
    "duration": 4,
    "start_time": "2024-08-06T02:48:49.722Z"
   },
   {
    "duration": 8,
    "start_time": "2024-08-06T02:48:49.728Z"
   },
   {
    "duration": 130,
    "start_time": "2024-08-06T02:48:49.737Z"
   },
   {
    "duration": 120,
    "start_time": "2024-08-06T02:48:49.868Z"
   },
   {
    "duration": 138,
    "start_time": "2024-08-06T02:48:49.989Z"
   },
   {
    "duration": 4,
    "start_time": "2024-08-06T02:48:50.128Z"
   },
   {
    "duration": 10,
    "start_time": "2024-08-06T02:48:50.134Z"
   },
   {
    "duration": 123,
    "start_time": "2024-08-06T02:48:50.145Z"
   },
   {
    "duration": 122,
    "start_time": "2024-08-06T02:48:50.270Z"
   },
   {
    "duration": 139,
    "start_time": "2024-08-06T02:48:50.393Z"
   },
   {
    "duration": 4,
    "start_time": "2024-08-06T02:48:50.534Z"
   },
   {
    "duration": 206,
    "start_time": "2024-08-06T02:48:50.539Z"
   },
   {
    "duration": 6,
    "start_time": "2024-08-06T02:48:50.747Z"
   },
   {
    "duration": 123,
    "start_time": "2024-08-06T02:48:50.754Z"
   },
   {
    "duration": 102,
    "start_time": "2024-08-06T02:48:50.878Z"
   },
   {
    "duration": 155,
    "start_time": "2024-08-06T02:48:50.981Z"
   },
   {
    "duration": 4,
    "start_time": "2024-08-06T02:48:51.137Z"
   },
   {
    "duration": 130,
    "start_time": "2024-08-06T02:48:51.142Z"
   },
   {
    "duration": 4,
    "start_time": "2024-08-06T02:48:51.274Z"
   },
   {
    "duration": 165,
    "start_time": "2024-08-06T02:48:51.279Z"
   },
   {
    "duration": 5,
    "start_time": "2024-08-06T02:48:51.446Z"
   },
   {
    "duration": 208,
    "start_time": "2024-08-06T02:48:51.452Z"
   },
   {
    "duration": 5,
    "start_time": "2024-08-06T02:48:51.661Z"
   },
   {
    "duration": 23,
    "start_time": "2024-08-06T02:48:51.668Z"
   },
   {
    "duration": 16,
    "start_time": "2024-08-06T02:48:51.701Z"
   },
   {
    "duration": 21,
    "start_time": "2024-08-06T02:48:51.719Z"
   },
   {
    "duration": 18,
    "start_time": "2024-08-06T02:48:51.741Z"
   },
   {
    "duration": 161,
    "start_time": "2024-08-06T02:48:51.760Z"
   },
   {
    "duration": 14,
    "start_time": "2024-08-06T02:48:51.923Z"
   },
   {
    "duration": 32,
    "start_time": "2024-08-06T02:49:13.467Z"
   },
   {
    "duration": 31,
    "start_time": "2024-08-06T02:49:24.000Z"
   },
   {
    "duration": 2064,
    "start_time": "2024-08-06T02:50:19.143Z"
   },
   {
    "duration": 66,
    "start_time": "2024-08-06T02:51:42.984Z"
   },
   {
    "duration": 64,
    "start_time": "2024-08-06T03:13:36.632Z"
   },
   {
    "duration": 608,
    "start_time": "2024-08-06T03:13:50.116Z"
   },
   {
    "duration": 87,
    "start_time": "2024-08-06T03:13:50.726Z"
   },
   {
    "duration": 13,
    "start_time": "2024-08-06T03:13:50.814Z"
   },
   {
    "duration": 109,
    "start_time": "2024-08-06T03:13:50.829Z"
   },
   {
    "duration": 1536,
    "start_time": "2024-08-06T03:13:50.940Z"
   },
   {
    "duration": 9,
    "start_time": "2024-08-06T03:13:52.477Z"
   },
   {
    "duration": 5,
    "start_time": "2024-08-06T03:13:52.488Z"
   },
   {
    "duration": 12,
    "start_time": "2024-08-06T03:13:52.494Z"
   },
   {
    "duration": 13,
    "start_time": "2024-08-06T03:13:52.508Z"
   },
   {
    "duration": 12,
    "start_time": "2024-08-06T03:13:52.523Z"
   },
   {
    "duration": 15,
    "start_time": "2024-08-06T03:13:52.540Z"
   },
   {
    "duration": 6,
    "start_time": "2024-08-06T03:13:52.556Z"
   },
   {
    "duration": 7,
    "start_time": "2024-08-06T03:13:52.563Z"
   },
   {
    "duration": 11,
    "start_time": "2024-08-06T03:13:52.571Z"
   },
   {
    "duration": 75,
    "start_time": "2024-08-06T03:13:52.583Z"
   },
   {
    "duration": 0,
    "start_time": "2024-08-06T03:13:52.661Z"
   },
   {
    "duration": 0,
    "start_time": "2024-08-06T03:13:52.662Z"
   },
   {
    "duration": 0,
    "start_time": "2024-08-06T03:13:52.664Z"
   },
   {
    "duration": 0,
    "start_time": "2024-08-06T03:13:52.665Z"
   },
   {
    "duration": 0,
    "start_time": "2024-08-06T03:13:52.666Z"
   },
   {
    "duration": 0,
    "start_time": "2024-08-06T03:13:52.668Z"
   },
   {
    "duration": 0,
    "start_time": "2024-08-06T03:13:52.669Z"
   },
   {
    "duration": 0,
    "start_time": "2024-08-06T03:13:52.670Z"
   },
   {
    "duration": 0,
    "start_time": "2024-08-06T03:13:52.671Z"
   },
   {
    "duration": 0,
    "start_time": "2024-08-06T03:13:52.672Z"
   },
   {
    "duration": 1,
    "start_time": "2024-08-06T03:13:52.672Z"
   },
   {
    "duration": 0,
    "start_time": "2024-08-06T03:13:52.674Z"
   },
   {
    "duration": 0,
    "start_time": "2024-08-06T03:13:52.675Z"
   },
   {
    "duration": 0,
    "start_time": "2024-08-06T03:13:52.675Z"
   },
   {
    "duration": 0,
    "start_time": "2024-08-06T03:13:52.676Z"
   },
   {
    "duration": 0,
    "start_time": "2024-08-06T03:13:52.676Z"
   },
   {
    "duration": 0,
    "start_time": "2024-08-06T03:13:52.677Z"
   },
   {
    "duration": 0,
    "start_time": "2024-08-06T03:13:52.677Z"
   },
   {
    "duration": 0,
    "start_time": "2024-08-06T03:13:52.677Z"
   },
   {
    "duration": 0,
    "start_time": "2024-08-06T03:13:52.678Z"
   },
   {
    "duration": 0,
    "start_time": "2024-08-06T03:13:52.678Z"
   },
   {
    "duration": 0,
    "start_time": "2024-08-06T03:13:52.702Z"
   },
   {
    "duration": 0,
    "start_time": "2024-08-06T03:13:52.703Z"
   },
   {
    "duration": 0,
    "start_time": "2024-08-06T03:13:52.703Z"
   },
   {
    "duration": 0,
    "start_time": "2024-08-06T03:13:52.704Z"
   },
   {
    "duration": 0,
    "start_time": "2024-08-06T03:13:52.705Z"
   },
   {
    "duration": 0,
    "start_time": "2024-08-06T03:13:52.706Z"
   },
   {
    "duration": 0,
    "start_time": "2024-08-06T03:13:52.706Z"
   },
   {
    "duration": 0,
    "start_time": "2024-08-06T03:13:52.707Z"
   },
   {
    "duration": 0,
    "start_time": "2024-08-06T03:13:52.708Z"
   },
   {
    "duration": 0,
    "start_time": "2024-08-06T03:13:52.708Z"
   },
   {
    "duration": 0,
    "start_time": "2024-08-06T03:13:52.709Z"
   },
   {
    "duration": 0,
    "start_time": "2024-08-06T03:13:52.710Z"
   },
   {
    "duration": 0,
    "start_time": "2024-08-06T03:13:52.710Z"
   },
   {
    "duration": 0,
    "start_time": "2024-08-06T03:13:52.712Z"
   },
   {
    "duration": 0,
    "start_time": "2024-08-06T03:13:52.712Z"
   },
   {
    "duration": 0,
    "start_time": "2024-08-06T03:13:52.713Z"
   },
   {
    "duration": 0,
    "start_time": "2024-08-06T03:13:52.714Z"
   },
   {
    "duration": 0,
    "start_time": "2024-08-06T03:13:52.714Z"
   },
   {
    "duration": 0,
    "start_time": "2024-08-06T03:13:52.715Z"
   },
   {
    "duration": 0,
    "start_time": "2024-08-06T03:13:52.716Z"
   },
   {
    "duration": 0,
    "start_time": "2024-08-06T03:13:52.717Z"
   },
   {
    "duration": 0,
    "start_time": "2024-08-06T03:13:52.717Z"
   },
   {
    "duration": 0,
    "start_time": "2024-08-06T03:13:52.718Z"
   },
   {
    "duration": 0,
    "start_time": "2024-08-06T03:13:52.718Z"
   },
   {
    "duration": 0,
    "start_time": "2024-08-06T03:13:52.719Z"
   },
   {
    "duration": 0,
    "start_time": "2024-08-06T03:13:52.720Z"
   },
   {
    "duration": 0,
    "start_time": "2024-08-06T03:13:52.721Z"
   },
   {
    "duration": 0,
    "start_time": "2024-08-06T03:13:52.721Z"
   },
   {
    "duration": 0,
    "start_time": "2024-08-06T03:13:52.722Z"
   },
   {
    "duration": 0,
    "start_time": "2024-08-06T03:13:52.723Z"
   },
   {
    "duration": 0,
    "start_time": "2024-08-06T03:13:52.724Z"
   },
   {
    "duration": 0,
    "start_time": "2024-08-06T03:13:52.724Z"
   },
   {
    "duration": 0,
    "start_time": "2024-08-06T03:13:52.725Z"
   },
   {
    "duration": 0,
    "start_time": "2024-08-06T03:13:52.726Z"
   },
   {
    "duration": 6,
    "start_time": "2024-08-06T03:14:16.727Z"
   },
   {
    "duration": 10,
    "start_time": "2024-08-06T03:23:56.400Z"
   },
   {
    "duration": 9,
    "start_time": "2024-08-06T03:24:26.548Z"
   },
   {
    "duration": 9,
    "start_time": "2024-08-06T03:25:28.175Z"
   },
   {
    "duration": 84,
    "start_time": "2024-08-06T03:40:06.328Z"
   },
   {
    "duration": 8,
    "start_time": "2024-08-06T03:40:15.596Z"
   },
   {
    "duration": 50,
    "start_time": "2024-08-06T16:58:46.229Z"
   },
   {
    "duration": 862,
    "start_time": "2024-08-06T16:58:52.816Z"
   },
   {
    "duration": 342,
    "start_time": "2024-08-06T16:58:53.680Z"
   },
   {
    "duration": 19,
    "start_time": "2024-08-06T16:58:54.024Z"
   },
   {
    "duration": 40,
    "start_time": "2024-08-06T16:58:54.046Z"
   },
   {
    "duration": 1921,
    "start_time": "2024-08-06T16:58:54.088Z"
   },
   {
    "duration": 10,
    "start_time": "2024-08-06T16:58:56.010Z"
   },
   {
    "duration": 11,
    "start_time": "2024-08-06T16:58:56.021Z"
   },
   {
    "duration": 20,
    "start_time": "2024-08-06T16:58:56.035Z"
   },
   {
    "duration": 13,
    "start_time": "2024-08-06T16:58:56.056Z"
   },
   {
    "duration": 7,
    "start_time": "2024-08-06T16:58:56.072Z"
   },
   {
    "duration": 8,
    "start_time": "2024-08-06T16:58:56.080Z"
   },
   {
    "duration": 6,
    "start_time": "2024-08-06T16:58:56.089Z"
   },
   {
    "duration": 5,
    "start_time": "2024-08-06T16:58:56.097Z"
   },
   {
    "duration": 89,
    "start_time": "2024-08-06T16:58:56.103Z"
   },
   {
    "duration": 0,
    "start_time": "2024-08-06T16:58:56.195Z"
   },
   {
    "duration": 0,
    "start_time": "2024-08-06T16:58:56.197Z"
   },
   {
    "duration": 0,
    "start_time": "2024-08-06T16:58:56.197Z"
   },
   {
    "duration": 0,
    "start_time": "2024-08-06T16:58:56.199Z"
   },
   {
    "duration": 0,
    "start_time": "2024-08-06T16:58:56.200Z"
   },
   {
    "duration": 0,
    "start_time": "2024-08-06T16:58:56.201Z"
   },
   {
    "duration": 0,
    "start_time": "2024-08-06T16:58:56.202Z"
   },
   {
    "duration": 0,
    "start_time": "2024-08-06T16:58:56.203Z"
   },
   {
    "duration": 0,
    "start_time": "2024-08-06T16:58:56.204Z"
   },
   {
    "duration": 0,
    "start_time": "2024-08-06T16:58:56.204Z"
   },
   {
    "duration": 0,
    "start_time": "2024-08-06T16:58:56.224Z"
   },
   {
    "duration": 0,
    "start_time": "2024-08-06T16:58:56.226Z"
   },
   {
    "duration": 0,
    "start_time": "2024-08-06T16:58:56.227Z"
   },
   {
    "duration": 0,
    "start_time": "2024-08-06T16:58:56.228Z"
   },
   {
    "duration": 0,
    "start_time": "2024-08-06T16:58:56.229Z"
   },
   {
    "duration": 0,
    "start_time": "2024-08-06T16:58:56.230Z"
   },
   {
    "duration": 0,
    "start_time": "2024-08-06T16:58:56.231Z"
   },
   {
    "duration": 0,
    "start_time": "2024-08-06T16:58:56.233Z"
   },
   {
    "duration": 0,
    "start_time": "2024-08-06T16:58:56.234Z"
   },
   {
    "duration": 0,
    "start_time": "2024-08-06T16:58:56.235Z"
   },
   {
    "duration": 0,
    "start_time": "2024-08-06T16:58:56.237Z"
   },
   {
    "duration": 0,
    "start_time": "2024-08-06T16:58:56.238Z"
   },
   {
    "duration": 0,
    "start_time": "2024-08-06T16:58:56.239Z"
   },
   {
    "duration": 0,
    "start_time": "2024-08-06T16:58:56.240Z"
   },
   {
    "duration": 0,
    "start_time": "2024-08-06T16:58:56.242Z"
   },
   {
    "duration": 0,
    "start_time": "2024-08-06T16:58:56.243Z"
   },
   {
    "duration": 0,
    "start_time": "2024-08-06T16:58:56.244Z"
   },
   {
    "duration": 0,
    "start_time": "2024-08-06T16:58:56.245Z"
   },
   {
    "duration": 0,
    "start_time": "2024-08-06T16:58:56.246Z"
   },
   {
    "duration": 0,
    "start_time": "2024-08-06T16:58:56.247Z"
   },
   {
    "duration": 0,
    "start_time": "2024-08-06T16:58:56.248Z"
   },
   {
    "duration": 0,
    "start_time": "2024-08-06T16:58:56.249Z"
   },
   {
    "duration": 0,
    "start_time": "2024-08-06T16:58:56.250Z"
   },
   {
    "duration": 0,
    "start_time": "2024-08-06T16:58:56.251Z"
   },
   {
    "duration": 0,
    "start_time": "2024-08-06T16:58:56.252Z"
   },
   {
    "duration": 0,
    "start_time": "2024-08-06T16:58:56.253Z"
   },
   {
    "duration": 0,
    "start_time": "2024-08-06T16:58:56.254Z"
   },
   {
    "duration": 0,
    "start_time": "2024-08-06T16:58:56.255Z"
   },
   {
    "duration": 0,
    "start_time": "2024-08-06T16:58:56.256Z"
   },
   {
    "duration": 0,
    "start_time": "2024-08-06T16:58:56.257Z"
   },
   {
    "duration": 0,
    "start_time": "2024-08-06T16:58:56.258Z"
   },
   {
    "duration": 0,
    "start_time": "2024-08-06T16:58:56.259Z"
   },
   {
    "duration": 0,
    "start_time": "2024-08-06T16:58:56.260Z"
   },
   {
    "duration": 0,
    "start_time": "2024-08-06T16:58:56.329Z"
   },
   {
    "duration": 0,
    "start_time": "2024-08-06T16:58:56.330Z"
   },
   {
    "duration": 0,
    "start_time": "2024-08-06T16:58:56.331Z"
   },
   {
    "duration": 0,
    "start_time": "2024-08-06T16:58:56.333Z"
   },
   {
    "duration": 0,
    "start_time": "2024-08-06T16:58:56.334Z"
   },
   {
    "duration": 0,
    "start_time": "2024-08-06T16:58:56.335Z"
   },
   {
    "duration": 0,
    "start_time": "2024-08-06T16:58:56.337Z"
   },
   {
    "duration": 0,
    "start_time": "2024-08-06T16:58:56.338Z"
   },
   {
    "duration": 0,
    "start_time": "2024-08-06T16:58:56.339Z"
   },
   {
    "duration": 0,
    "start_time": "2024-08-06T16:58:56.340Z"
   },
   {
    "duration": 0,
    "start_time": "2024-08-06T16:58:56.341Z"
   },
   {
    "duration": 0,
    "start_time": "2024-08-06T16:58:56.342Z"
   },
   {
    "duration": 0,
    "start_time": "2024-08-06T16:58:56.343Z"
   },
   {
    "duration": 19,
    "start_time": "2024-08-06T17:01:29.639Z"
   },
   {
    "duration": 15,
    "start_time": "2024-08-06T17:02:49.057Z"
   },
   {
    "duration": 17,
    "start_time": "2024-08-06T17:12:26.139Z"
   },
   {
    "duration": 9,
    "start_time": "2024-08-06T17:23:55.559Z"
   },
   {
    "duration": 19,
    "start_time": "2024-08-06T17:25:15.349Z"
   },
   {
    "duration": 15,
    "start_time": "2024-08-06T17:25:30.206Z"
   },
   {
    "duration": 11,
    "start_time": "2024-08-06T17:26:14.797Z"
   },
   {
    "duration": 58,
    "start_time": "2024-08-06T17:26:28.204Z"
   },
   {
    "duration": 12,
    "start_time": "2024-08-06T17:26:39.756Z"
   },
   {
    "duration": 7,
    "start_time": "2024-08-06T17:32:19.293Z"
   },
   {
    "duration": 755,
    "start_time": "2024-08-06T17:36:47.294Z"
   },
   {
    "duration": 119,
    "start_time": "2024-08-06T17:36:48.051Z"
   },
   {
    "duration": 16,
    "start_time": "2024-08-06T17:36:48.171Z"
   },
   {
    "duration": 66,
    "start_time": "2024-08-06T17:36:48.189Z"
   },
   {
    "duration": 2324,
    "start_time": "2024-08-06T17:36:48.257Z"
   },
   {
    "duration": 9,
    "start_time": "2024-08-06T17:36:50.583Z"
   },
   {
    "duration": 23,
    "start_time": "2024-08-06T17:36:50.594Z"
   },
   {
    "duration": 10,
    "start_time": "2024-08-06T17:36:50.619Z"
   },
   {
    "duration": 15,
    "start_time": "2024-08-06T17:36:50.631Z"
   },
   {
    "duration": 6,
    "start_time": "2024-08-06T17:36:50.649Z"
   },
   {
    "duration": 8,
    "start_time": "2024-08-06T17:36:50.656Z"
   },
   {
    "duration": 6,
    "start_time": "2024-08-06T17:36:50.665Z"
   },
   {
    "duration": 5,
    "start_time": "2024-08-06T17:36:50.672Z"
   },
   {
    "duration": 11,
    "start_time": "2024-08-06T17:36:50.679Z"
   },
   {
    "duration": 36,
    "start_time": "2024-08-06T17:36:50.692Z"
   },
   {
    "duration": 31,
    "start_time": "2024-08-06T17:36:50.731Z"
   },
   {
    "duration": 20,
    "start_time": "2024-08-06T17:36:50.763Z"
   },
   {
    "duration": 41,
    "start_time": "2024-08-06T17:36:50.785Z"
   },
   {
    "duration": 257,
    "start_time": "2024-08-06T17:36:50.828Z"
   },
   {
    "duration": 30,
    "start_time": "2024-08-06T17:36:51.087Z"
   },
   {
    "duration": 8,
    "start_time": "2024-08-06T17:36:51.125Z"
   },
   {
    "duration": 7,
    "start_time": "2024-08-06T17:36:51.134Z"
   },
   {
    "duration": 5,
    "start_time": "2024-08-06T17:36:51.143Z"
   },
   {
    "duration": 6,
    "start_time": "2024-08-06T17:36:51.150Z"
   },
   {
    "duration": 372,
    "start_time": "2024-08-06T17:36:51.157Z"
   },
   {
    "duration": 8,
    "start_time": "2024-08-06T17:36:51.530Z"
   },
   {
    "duration": 9,
    "start_time": "2024-08-06T17:36:51.543Z"
   },
   {
    "duration": 156,
    "start_time": "2024-08-06T17:36:51.557Z"
   },
   {
    "duration": 150,
    "start_time": "2024-08-06T17:36:51.714Z"
   },
   {
    "duration": 144,
    "start_time": "2024-08-06T17:36:51.866Z"
   },
   {
    "duration": 259,
    "start_time": "2024-08-06T17:36:52.012Z"
   },
   {
    "duration": 5,
    "start_time": "2024-08-06T17:36:52.273Z"
   },
   {
    "duration": 9,
    "start_time": "2024-08-06T17:36:52.280Z"
   },
   {
    "duration": 174,
    "start_time": "2024-08-06T17:36:52.291Z"
   },
   {
    "duration": 153,
    "start_time": "2024-08-06T17:36:52.467Z"
   },
   {
    "duration": 186,
    "start_time": "2024-08-06T17:36:52.622Z"
   },
   {
    "duration": 5,
    "start_time": "2024-08-06T17:36:52.810Z"
   },
   {
    "duration": 11,
    "start_time": "2024-08-06T17:36:52.825Z"
   },
   {
    "duration": 167,
    "start_time": "2024-08-06T17:36:52.838Z"
   },
   {
    "duration": 155,
    "start_time": "2024-08-06T17:36:53.007Z"
   },
   {
    "duration": 191,
    "start_time": "2024-08-06T17:36:53.163Z"
   },
   {
    "duration": 6,
    "start_time": "2024-08-06T17:36:53.356Z"
   },
   {
    "duration": 24,
    "start_time": "2024-08-06T17:36:53.364Z"
   },
   {
    "duration": 174,
    "start_time": "2024-08-06T17:36:53.390Z"
   },
   {
    "duration": 171,
    "start_time": "2024-08-06T17:36:53.566Z"
   },
   {
    "duration": 199,
    "start_time": "2024-08-06T17:36:53.739Z"
   },
   {
    "duration": 8,
    "start_time": "2024-08-06T17:36:53.940Z"
   },
   {
    "duration": 8,
    "start_time": "2024-08-06T17:36:53.950Z"
   },
   {
    "duration": 156,
    "start_time": "2024-08-06T17:36:53.960Z"
   },
   {
    "duration": 222,
    "start_time": "2024-08-06T17:36:54.118Z"
   },
   {
    "duration": 176,
    "start_time": "2024-08-06T17:36:54.342Z"
   },
   {
    "duration": 8,
    "start_time": "2024-08-06T17:36:54.519Z"
   },
   {
    "duration": 187,
    "start_time": "2024-08-06T17:36:54.529Z"
   },
   {
    "duration": 25,
    "start_time": "2024-08-06T17:36:54.719Z"
   },
   {
    "duration": 189,
    "start_time": "2024-08-06T17:36:54.746Z"
   },
   {
    "duration": 144,
    "start_time": "2024-08-06T17:36:54.937Z"
   },
   {
    "duration": 232,
    "start_time": "2024-08-06T17:36:55.084Z"
   },
   {
    "duration": 240,
    "start_time": "2024-08-06T17:36:55.318Z"
   },
   {
    "duration": 0,
    "start_time": "2024-08-06T17:36:55.560Z"
   },
   {
    "duration": 0,
    "start_time": "2024-08-06T17:36:55.561Z"
   },
   {
    "duration": 0,
    "start_time": "2024-08-06T17:36:55.562Z"
   },
   {
    "duration": 0,
    "start_time": "2024-08-06T17:36:55.563Z"
   },
   {
    "duration": 0,
    "start_time": "2024-08-06T17:36:55.564Z"
   },
   {
    "duration": 0,
    "start_time": "2024-08-06T17:36:55.566Z"
   },
   {
    "duration": 0,
    "start_time": "2024-08-06T17:36:55.567Z"
   },
   {
    "duration": 0,
    "start_time": "2024-08-06T17:36:55.568Z"
   },
   {
    "duration": 0,
    "start_time": "2024-08-06T17:36:55.569Z"
   },
   {
    "duration": 0,
    "start_time": "2024-08-06T17:36:55.570Z"
   },
   {
    "duration": 0,
    "start_time": "2024-08-06T17:36:55.571Z"
   },
   {
    "duration": 0,
    "start_time": "2024-08-06T17:36:55.572Z"
   },
   {
    "duration": 723,
    "start_time": "2024-08-06T17:45:29.001Z"
   },
   {
    "duration": 106,
    "start_time": "2024-08-06T17:45:29.726Z"
   },
   {
    "duration": 14,
    "start_time": "2024-08-06T17:45:29.834Z"
   },
   {
    "duration": 38,
    "start_time": "2024-08-06T17:45:29.850Z"
   },
   {
    "duration": 2159,
    "start_time": "2024-08-06T17:45:29.890Z"
   },
   {
    "duration": 11,
    "start_time": "2024-08-06T17:45:32.051Z"
   },
   {
    "duration": 8,
    "start_time": "2024-08-06T17:45:32.064Z"
   },
   {
    "duration": 10,
    "start_time": "2024-08-06T17:45:32.074Z"
   },
   {
    "duration": 11,
    "start_time": "2024-08-06T17:45:32.086Z"
   },
   {
    "duration": 23,
    "start_time": "2024-08-06T17:45:32.101Z"
   },
   {
    "duration": 9,
    "start_time": "2024-08-06T17:45:32.126Z"
   },
   {
    "duration": 7,
    "start_time": "2024-08-06T17:45:32.137Z"
   },
   {
    "duration": 26,
    "start_time": "2024-08-06T17:45:32.145Z"
   },
   {
    "duration": 22,
    "start_time": "2024-08-06T17:45:32.172Z"
   },
   {
    "duration": 7,
    "start_time": "2024-08-06T17:45:32.196Z"
   },
   {
    "duration": 26,
    "start_time": "2024-08-06T17:45:32.205Z"
   },
   {
    "duration": 22,
    "start_time": "2024-08-06T17:45:32.233Z"
   },
   {
    "duration": 14,
    "start_time": "2024-08-06T17:45:32.257Z"
   },
   {
    "duration": 275,
    "start_time": "2024-08-06T17:45:32.273Z"
   },
   {
    "duration": 28,
    "start_time": "2024-08-06T17:45:32.550Z"
   },
   {
    "duration": 46,
    "start_time": "2024-08-06T17:45:32.580Z"
   },
   {
    "duration": 6,
    "start_time": "2024-08-06T17:45:32.628Z"
   },
   {
    "duration": 10,
    "start_time": "2024-08-06T17:45:32.635Z"
   },
   {
    "duration": 6,
    "start_time": "2024-08-06T17:45:32.646Z"
   },
   {
    "duration": 334,
    "start_time": "2024-08-06T17:45:32.653Z"
   },
   {
    "duration": 7,
    "start_time": "2024-08-06T17:45:32.989Z"
   },
   {
    "duration": 9,
    "start_time": "2024-08-06T17:45:32.998Z"
   },
   {
    "duration": 136,
    "start_time": "2024-08-06T17:45:33.027Z"
   },
   {
    "duration": 144,
    "start_time": "2024-08-06T17:45:33.164Z"
   },
   {
    "duration": 149,
    "start_time": "2024-08-06T17:45:33.310Z"
   },
   {
    "duration": 251,
    "start_time": "2024-08-06T17:45:33.460Z"
   },
   {
    "duration": 11,
    "start_time": "2024-08-06T17:45:33.713Z"
   },
   {
    "duration": 13,
    "start_time": "2024-08-06T17:45:33.725Z"
   },
   {
    "duration": 161,
    "start_time": "2024-08-06T17:45:33.739Z"
   },
   {
    "duration": 144,
    "start_time": "2024-08-06T17:45:33.902Z"
   },
   {
    "duration": 180,
    "start_time": "2024-08-06T17:45:34.048Z"
   },
   {
    "duration": 5,
    "start_time": "2024-08-06T17:45:34.230Z"
   },
   {
    "duration": 9,
    "start_time": "2024-08-06T17:45:34.236Z"
   },
   {
    "duration": 148,
    "start_time": "2024-08-06T17:45:34.247Z"
   },
   {
    "duration": 150,
    "start_time": "2024-08-06T17:45:34.397Z"
   },
   {
    "duration": 163,
    "start_time": "2024-08-06T17:45:34.549Z"
   },
   {
    "duration": 11,
    "start_time": "2024-08-06T17:45:34.714Z"
   },
   {
    "duration": 7,
    "start_time": "2024-08-06T17:45:34.726Z"
   },
   {
    "duration": 155,
    "start_time": "2024-08-06T17:45:34.735Z"
   },
   {
    "duration": 144,
    "start_time": "2024-08-06T17:45:34.892Z"
   },
   {
    "duration": 171,
    "start_time": "2024-08-06T17:45:35.038Z"
   },
   {
    "duration": 14,
    "start_time": "2024-08-06T17:45:35.211Z"
   },
   {
    "duration": 9,
    "start_time": "2024-08-06T17:45:35.227Z"
   },
   {
    "duration": 148,
    "start_time": "2024-08-06T17:45:35.237Z"
   },
   {
    "duration": 219,
    "start_time": "2024-08-06T17:45:35.387Z"
   },
   {
    "duration": 167,
    "start_time": "2024-08-06T17:45:35.607Z"
   },
   {
    "duration": 4,
    "start_time": "2024-08-06T17:45:35.776Z"
   },
   {
    "duration": 186,
    "start_time": "2024-08-06T17:45:35.782Z"
   },
   {
    "duration": 20,
    "start_time": "2024-08-06T17:45:35.969Z"
   },
   {
    "duration": 164,
    "start_time": "2024-08-06T17:45:35.991Z"
   },
   {
    "duration": 135,
    "start_time": "2024-08-06T17:45:36.156Z"
   },
   {
    "duration": 197,
    "start_time": "2024-08-06T17:45:36.293Z"
   },
   {
    "duration": 220,
    "start_time": "2024-08-06T17:45:36.492Z"
   },
   {
    "duration": 0,
    "start_time": "2024-08-06T17:45:36.713Z"
   },
   {
    "duration": 0,
    "start_time": "2024-08-06T17:45:36.715Z"
   },
   {
    "duration": 0,
    "start_time": "2024-08-06T17:45:36.716Z"
   },
   {
    "duration": 0,
    "start_time": "2024-08-06T17:45:36.717Z"
   },
   {
    "duration": 0,
    "start_time": "2024-08-06T17:45:36.718Z"
   },
   {
    "duration": 0,
    "start_time": "2024-08-06T17:45:36.719Z"
   },
   {
    "duration": 0,
    "start_time": "2024-08-06T17:45:36.720Z"
   },
   {
    "duration": 0,
    "start_time": "2024-08-06T17:45:36.721Z"
   },
   {
    "duration": 0,
    "start_time": "2024-08-06T17:45:36.722Z"
   },
   {
    "duration": 5,
    "start_time": "2024-08-06T17:50:39.455Z"
   },
   {
    "duration": 669,
    "start_time": "2024-08-06T17:51:52.146Z"
   },
   {
    "duration": 109,
    "start_time": "2024-08-06T17:51:52.817Z"
   },
   {
    "duration": 18,
    "start_time": "2024-08-06T17:51:52.927Z"
   },
   {
    "duration": 39,
    "start_time": "2024-08-06T17:51:52.947Z"
   },
   {
    "duration": 1969,
    "start_time": "2024-08-06T17:51:52.988Z"
   },
   {
    "duration": 9,
    "start_time": "2024-08-06T17:51:54.959Z"
   },
   {
    "duration": 6,
    "start_time": "2024-08-06T17:51:54.969Z"
   },
   {
    "duration": 9,
    "start_time": "2024-08-06T17:51:54.976Z"
   },
   {
    "duration": 5,
    "start_time": "2024-08-06T17:51:54.987Z"
   },
   {
    "duration": 6,
    "start_time": "2024-08-06T17:51:54.995Z"
   },
   {
    "duration": 22,
    "start_time": "2024-08-06T17:51:55.003Z"
   },
   {
    "duration": 7,
    "start_time": "2024-08-06T17:51:55.027Z"
   },
   {
    "duration": 6,
    "start_time": "2024-08-06T17:51:55.035Z"
   },
   {
    "duration": 11,
    "start_time": "2024-08-06T17:51:55.042Z"
   },
   {
    "duration": 5,
    "start_time": "2024-08-06T17:51:55.055Z"
   },
   {
    "duration": 36,
    "start_time": "2024-08-06T17:51:55.061Z"
   },
   {
    "duration": 37,
    "start_time": "2024-08-06T17:51:55.099Z"
   },
   {
    "duration": 16,
    "start_time": "2024-08-06T17:51:55.138Z"
   },
   {
    "duration": 256,
    "start_time": "2024-08-06T17:51:55.156Z"
   },
   {
    "duration": 38,
    "start_time": "2024-08-06T17:51:55.413Z"
   },
   {
    "duration": 6,
    "start_time": "2024-08-06T17:51:55.453Z"
   },
   {
    "duration": 6,
    "start_time": "2024-08-06T17:51:55.461Z"
   },
   {
    "duration": 5,
    "start_time": "2024-08-06T17:51:55.468Z"
   },
   {
    "duration": 5,
    "start_time": "2024-08-06T17:51:55.475Z"
   },
   {
    "duration": 371,
    "start_time": "2024-08-06T17:51:55.481Z"
   },
   {
    "duration": 6,
    "start_time": "2024-08-06T17:51:55.854Z"
   },
   {
    "duration": 8,
    "start_time": "2024-08-06T17:51:55.862Z"
   },
   {
    "duration": 150,
    "start_time": "2024-08-06T17:51:55.874Z"
   },
   {
    "duration": 138,
    "start_time": "2024-08-06T17:51:56.025Z"
   },
   {
    "duration": 140,
    "start_time": "2024-08-06T17:51:56.165Z"
   },
   {
    "duration": 261,
    "start_time": "2024-08-06T17:51:56.307Z"
   },
   {
    "duration": 7,
    "start_time": "2024-08-06T17:51:56.570Z"
   },
   {
    "duration": 11,
    "start_time": "2024-08-06T17:51:56.578Z"
   },
   {
    "duration": 166,
    "start_time": "2024-08-06T17:51:56.591Z"
   },
   {
    "duration": 142,
    "start_time": "2024-08-06T17:51:56.758Z"
   },
   {
    "duration": 176,
    "start_time": "2024-08-06T17:51:56.902Z"
   },
   {
    "duration": 6,
    "start_time": "2024-08-06T17:51:57.079Z"
   },
   {
    "duration": 10,
    "start_time": "2024-08-06T17:51:57.086Z"
   },
   {
    "duration": 156,
    "start_time": "2024-08-06T17:51:57.098Z"
   },
   {
    "duration": 134,
    "start_time": "2024-08-06T17:51:57.255Z"
   },
   {
    "duration": 158,
    "start_time": "2024-08-06T17:51:57.391Z"
   },
   {
    "duration": 5,
    "start_time": "2024-08-06T17:51:57.551Z"
   },
   {
    "duration": 8,
    "start_time": "2024-08-06T17:51:57.557Z"
   },
   {
    "duration": 158,
    "start_time": "2024-08-06T17:51:57.567Z"
   },
   {
    "duration": 144,
    "start_time": "2024-08-06T17:51:57.727Z"
   },
   {
    "duration": 172,
    "start_time": "2024-08-06T17:51:57.873Z"
   },
   {
    "duration": 4,
    "start_time": "2024-08-06T17:51:58.047Z"
   },
   {
    "duration": 8,
    "start_time": "2024-08-06T17:51:58.053Z"
   },
   {
    "duration": 142,
    "start_time": "2024-08-06T17:51:58.062Z"
   },
   {
    "duration": 224,
    "start_time": "2024-08-06T17:51:58.206Z"
   },
   {
    "duration": 165,
    "start_time": "2024-08-06T17:51:58.431Z"
   },
   {
    "duration": 5,
    "start_time": "2024-08-06T17:51:58.598Z"
   },
   {
    "duration": 208,
    "start_time": "2024-08-06T17:51:58.604Z"
   },
   {
    "duration": 20,
    "start_time": "2024-08-06T17:51:58.813Z"
   },
   {
    "duration": 154,
    "start_time": "2024-08-06T17:51:58.835Z"
   },
   {
    "duration": 148,
    "start_time": "2024-08-06T17:51:58.991Z"
   },
   {
    "duration": 199,
    "start_time": "2024-08-06T17:51:59.141Z"
   },
   {
    "duration": 243,
    "start_time": "2024-08-06T17:51:59.342Z"
   },
   {
    "duration": 1,
    "start_time": "2024-08-06T17:51:59.587Z"
   },
   {
    "duration": 0,
    "start_time": "2024-08-06T17:51:59.590Z"
   },
   {
    "duration": 0,
    "start_time": "2024-08-06T17:51:59.591Z"
   },
   {
    "duration": 0,
    "start_time": "2024-08-06T17:51:59.593Z"
   },
   {
    "duration": 0,
    "start_time": "2024-08-06T17:51:59.595Z"
   },
   {
    "duration": 0,
    "start_time": "2024-08-06T17:51:59.597Z"
   },
   {
    "duration": 0,
    "start_time": "2024-08-06T17:51:59.599Z"
   },
   {
    "duration": 0,
    "start_time": "2024-08-06T17:51:59.600Z"
   },
   {
    "duration": 0,
    "start_time": "2024-08-06T17:51:59.602Z"
   },
   {
    "duration": 7,
    "start_time": "2024-08-06T17:53:14.529Z"
   },
   {
    "duration": 10,
    "start_time": "2024-08-06T18:03:45.044Z"
   },
   {
    "duration": 143,
    "start_time": "2024-08-06T18:06:23.726Z"
   },
   {
    "duration": 137,
    "start_time": "2024-08-06T18:06:53.225Z"
   },
   {
    "duration": 138,
    "start_time": "2024-08-06T18:07:16.915Z"
   },
   {
    "duration": 140,
    "start_time": "2024-08-06T18:07:28.625Z"
   },
   {
    "duration": 132,
    "start_time": "2024-08-06T18:07:46.913Z"
   },
   {
    "duration": 204,
    "start_time": "2024-08-06T18:08:07.974Z"
   },
   {
    "duration": 7,
    "start_time": "2024-08-06T18:12:32.887Z"
   },
   {
    "duration": 21,
    "start_time": "2024-08-06T18:12:40.485Z"
   },
   {
    "duration": 32,
    "start_time": "2024-08-06T18:13:01.336Z"
   },
   {
    "duration": 22,
    "start_time": "2024-08-06T18:13:42.454Z"
   },
   {
    "duration": 120,
    "start_time": "2024-08-06T18:16:32.451Z"
   },
   {
    "duration": 2,
    "start_time": "2024-08-06T18:17:29.384Z"
   },
   {
    "duration": 2,
    "start_time": "2024-08-06T18:17:31.473Z"
   },
   {
    "duration": 9,
    "start_time": "2024-08-06T18:18:22.412Z"
   },
   {
    "duration": 127,
    "start_time": "2024-08-06T18:19:19.986Z"
   },
   {
    "duration": 111,
    "start_time": "2024-08-06T18:20:06.754Z"
   },
   {
    "duration": 120,
    "start_time": "2024-08-06T18:20:23.806Z"
   },
   {
    "duration": 111,
    "start_time": "2024-08-06T18:20:49.266Z"
   },
   {
    "duration": 5,
    "start_time": "2024-08-06T18:43:47.134Z"
   },
   {
    "duration": 114,
    "start_time": "2024-08-06T18:43:49.988Z"
   },
   {
    "duration": 19,
    "start_time": "2024-08-06T18:43:55.997Z"
   },
   {
    "duration": 112,
    "start_time": "2024-08-06T18:43:58.379Z"
   },
   {
    "duration": 7,
    "start_time": "2024-08-06T18:44:01.515Z"
   },
   {
    "duration": 115,
    "start_time": "2024-08-06T18:44:02.524Z"
   },
   {
    "duration": 111,
    "start_time": "2024-08-06T18:44:05.775Z"
   },
   {
    "duration": 130,
    "start_time": "2024-08-06T18:44:08.065Z"
   },
   {
    "duration": 140,
    "start_time": "2024-08-06T18:44:12.688Z"
   },
   {
    "duration": 611,
    "start_time": "2024-08-06T18:44:33.200Z"
   },
   {
    "duration": 93,
    "start_time": "2024-08-06T18:44:33.812Z"
   },
   {
    "duration": 14,
    "start_time": "2024-08-06T18:44:33.906Z"
   },
   {
    "duration": 32,
    "start_time": "2024-08-06T18:44:33.921Z"
   },
   {
    "duration": 1618,
    "start_time": "2024-08-06T18:44:33.954Z"
   },
   {
    "duration": 8,
    "start_time": "2024-08-06T18:44:35.574Z"
   },
   {
    "duration": 6,
    "start_time": "2024-08-06T18:44:35.583Z"
   },
   {
    "duration": 9,
    "start_time": "2024-08-06T18:44:35.590Z"
   },
   {
    "duration": 4,
    "start_time": "2024-08-06T18:44:35.600Z"
   },
   {
    "duration": 5,
    "start_time": "2024-08-06T18:44:35.606Z"
   },
   {
    "duration": 6,
    "start_time": "2024-08-06T18:44:35.612Z"
   },
   {
    "duration": 8,
    "start_time": "2024-08-06T18:44:35.619Z"
   },
   {
    "duration": 3,
    "start_time": "2024-08-06T18:44:35.628Z"
   },
   {
    "duration": 12,
    "start_time": "2024-08-06T18:44:35.632Z"
   },
   {
    "duration": 4,
    "start_time": "2024-08-06T18:44:35.645Z"
   },
   {
    "duration": 7,
    "start_time": "2024-08-06T18:44:35.650Z"
   },
   {
    "duration": 21,
    "start_time": "2024-08-06T18:44:35.658Z"
   },
   {
    "duration": 17,
    "start_time": "2024-08-06T18:44:35.681Z"
   },
   {
    "duration": 35,
    "start_time": "2024-08-06T18:44:35.699Z"
   },
   {
    "duration": 212,
    "start_time": "2024-08-06T18:44:35.735Z"
   },
   {
    "duration": 23,
    "start_time": "2024-08-06T18:44:35.949Z"
   },
   {
    "duration": 8,
    "start_time": "2024-08-06T18:44:35.973Z"
   },
   {
    "duration": 5,
    "start_time": "2024-08-06T18:44:35.982Z"
   },
   {
    "duration": 5,
    "start_time": "2024-08-06T18:44:35.988Z"
   },
   {
    "duration": 5,
    "start_time": "2024-08-06T18:44:35.995Z"
   },
   {
    "duration": 293,
    "start_time": "2024-08-06T18:44:36.023Z"
   },
   {
    "duration": 7,
    "start_time": "2024-08-06T18:44:36.317Z"
   },
   {
    "duration": 8,
    "start_time": "2024-08-06T18:44:36.328Z"
   },
   {
    "duration": 124,
    "start_time": "2024-08-06T18:44:36.338Z"
   },
   {
    "duration": 114,
    "start_time": "2024-08-06T18:44:36.463Z"
   },
   {
    "duration": 122,
    "start_time": "2024-08-06T18:44:36.578Z"
   },
   {
    "duration": 202,
    "start_time": "2024-08-06T18:44:36.701Z"
   },
   {
    "duration": 4,
    "start_time": "2024-08-06T18:44:36.905Z"
   },
   {
    "duration": 16,
    "start_time": "2024-08-06T18:44:36.910Z"
   },
   {
    "duration": 125,
    "start_time": "2024-08-06T18:44:36.927Z"
   },
   {
    "duration": 116,
    "start_time": "2024-08-06T18:44:37.053Z"
   },
   {
    "duration": 149,
    "start_time": "2024-08-06T18:44:37.170Z"
   },
   {
    "duration": 4,
    "start_time": "2024-08-06T18:44:37.323Z"
   },
   {
    "duration": 8,
    "start_time": "2024-08-06T18:44:37.328Z"
   },
   {
    "duration": 119,
    "start_time": "2024-08-06T18:44:37.337Z"
   },
   {
    "duration": 109,
    "start_time": "2024-08-06T18:44:37.458Z"
   },
   {
    "duration": 135,
    "start_time": "2024-08-06T18:44:37.568Z"
   },
   {
    "duration": 4,
    "start_time": "2024-08-06T18:44:37.704Z"
   },
   {
    "duration": 14,
    "start_time": "2024-08-06T18:44:37.710Z"
   },
   {
    "duration": 4,
    "start_time": "2024-08-06T18:44:37.726Z"
   },
   {
    "duration": 124,
    "start_time": "2024-08-06T18:44:37.731Z"
   },
   {
    "duration": 19,
    "start_time": "2024-08-06T18:44:37.856Z"
   },
   {
    "duration": 123,
    "start_time": "2024-08-06T18:44:37.876Z"
   },
   {
    "duration": 6,
    "start_time": "2024-08-06T18:44:38.001Z"
   },
   {
    "duration": 119,
    "start_time": "2024-08-06T18:44:38.008Z"
   },
   {
    "duration": 121,
    "start_time": "2024-08-06T18:44:38.128Z"
   },
   {
    "duration": 186,
    "start_time": "2024-08-06T18:44:38.251Z"
   },
   {
    "duration": 205,
    "start_time": "2024-08-06T18:44:38.438Z"
   },
   {
    "duration": 0,
    "start_time": "2024-08-06T18:44:38.645Z"
   },
   {
    "duration": 0,
    "start_time": "2024-08-06T18:44:38.646Z"
   },
   {
    "duration": 0,
    "start_time": "2024-08-06T18:44:38.647Z"
   },
   {
    "duration": 0,
    "start_time": "2024-08-06T18:44:38.648Z"
   },
   {
    "duration": 0,
    "start_time": "2024-08-06T18:44:38.650Z"
   },
   {
    "duration": 0,
    "start_time": "2024-08-06T18:44:38.651Z"
   },
   {
    "duration": 0,
    "start_time": "2024-08-06T18:44:38.652Z"
   },
   {
    "duration": 0,
    "start_time": "2024-08-06T18:44:38.653Z"
   },
   {
    "duration": 0,
    "start_time": "2024-08-06T18:44:38.654Z"
   },
   {
    "duration": 0,
    "start_time": "2024-08-06T18:44:38.656Z"
   },
   {
    "duration": 0,
    "start_time": "2024-08-06T18:44:38.657Z"
   },
   {
    "duration": 0,
    "start_time": "2024-08-06T18:44:38.658Z"
   },
   {
    "duration": 0,
    "start_time": "2024-08-06T18:44:38.659Z"
   },
   {
    "duration": 0,
    "start_time": "2024-08-06T18:44:38.661Z"
   },
   {
    "duration": 0,
    "start_time": "2024-08-06T18:44:38.662Z"
   },
   {
    "duration": 0,
    "start_time": "2024-08-06T18:44:38.663Z"
   },
   {
    "duration": 0,
    "start_time": "2024-08-06T18:44:38.665Z"
   },
   {
    "duration": 0,
    "start_time": "2024-08-06T18:44:38.666Z"
   },
   {
    "duration": 0,
    "start_time": "2024-08-06T18:44:38.667Z"
   },
   {
    "duration": 0,
    "start_time": "2024-08-06T18:44:38.668Z"
   },
   {
    "duration": 0,
    "start_time": "2024-08-06T18:44:38.669Z"
   },
   {
    "duration": 0,
    "start_time": "2024-08-06T18:44:38.670Z"
   },
   {
    "duration": 5,
    "start_time": "2024-08-06T18:46:57.935Z"
   },
   {
    "duration": 3,
    "start_time": "2024-08-06T18:55:24.494Z"
   },
   {
    "duration": 97,
    "start_time": "2024-08-06T18:55:25.831Z"
   },
   {
    "duration": 15,
    "start_time": "2024-08-06T18:55:28.760Z"
   },
   {
    "duration": 45,
    "start_time": "2024-08-06T18:55:29.622Z"
   },
   {
    "duration": 1902,
    "start_time": "2024-08-06T18:55:30.888Z"
   },
   {
    "duration": 9,
    "start_time": "2024-08-06T18:55:36.247Z"
   },
   {
    "duration": 5,
    "start_time": "2024-08-06T18:55:37.128Z"
   },
   {
    "duration": 8,
    "start_time": "2024-08-06T18:55:38.054Z"
   },
   {
    "duration": 5,
    "start_time": "2024-08-06T18:55:38.597Z"
   },
   {
    "duration": 6,
    "start_time": "2024-08-06T18:55:39.110Z"
   },
   {
    "duration": 9,
    "start_time": "2024-08-06T18:55:40.134Z"
   },
   {
    "duration": 4,
    "start_time": "2024-08-06T18:55:40.496Z"
   },
   {
    "duration": 5,
    "start_time": "2024-08-06T18:55:40.815Z"
   },
   {
    "duration": 7,
    "start_time": "2024-08-06T18:55:41.475Z"
   },
   {
    "duration": 6,
    "start_time": "2024-08-06T18:55:42.345Z"
   },
   {
    "duration": 8,
    "start_time": "2024-08-06T18:55:42.935Z"
   },
   {
    "duration": 20,
    "start_time": "2024-08-06T18:55:44.554Z"
   },
   {
    "duration": 18,
    "start_time": "2024-08-06T18:55:45.075Z"
   },
   {
    "duration": 22,
    "start_time": "2024-08-06T18:55:46.039Z"
   },
   {
    "duration": 215,
    "start_time": "2024-08-06T18:55:46.595Z"
   },
   {
    "duration": 25,
    "start_time": "2024-08-06T18:55:47.181Z"
   },
   {
    "duration": 5,
    "start_time": "2024-08-06T18:55:52.439Z"
   },
   {
    "duration": 7,
    "start_time": "2024-08-06T18:55:53.214Z"
   },
   {
    "duration": 5,
    "start_time": "2024-08-06T18:55:53.710Z"
   },
   {
    "duration": 5,
    "start_time": "2024-08-06T18:55:54.445Z"
   },
   {
    "duration": 373,
    "start_time": "2024-08-06T18:55:55.270Z"
   },
   {
    "duration": 6,
    "start_time": "2024-08-06T18:55:58.059Z"
   },
   {
    "duration": 9,
    "start_time": "2024-08-06T18:56:01.046Z"
   },
   {
    "duration": 112,
    "start_time": "2024-08-06T18:56:01.819Z"
   },
   {
    "duration": 107,
    "start_time": "2024-08-06T18:56:03.499Z"
   },
   {
    "duration": 123,
    "start_time": "2024-08-06T18:56:05.139Z"
   },
   {
    "duration": 132,
    "start_time": "2024-08-06T18:56:06.662Z"
   },
   {
    "duration": 4,
    "start_time": "2024-08-06T18:56:07.776Z"
   },
   {
    "duration": 9,
    "start_time": "2024-08-06T18:56:09.849Z"
   },
   {
    "duration": 122,
    "start_time": "2024-08-06T18:56:10.487Z"
   },
   {
    "duration": 116,
    "start_time": "2024-08-06T18:56:13.135Z"
   },
   {
    "duration": 169,
    "start_time": "2024-08-06T18:56:13.956Z"
   },
   {
    "duration": 5,
    "start_time": "2024-08-06T18:56:15.032Z"
   },
   {
    "duration": 9,
    "start_time": "2024-08-06T18:56:17.794Z"
   },
   {
    "duration": 116,
    "start_time": "2024-08-06T18:56:18.331Z"
   },
   {
    "duration": 115,
    "start_time": "2024-08-06T18:56:19.359Z"
   },
   {
    "duration": 200,
    "start_time": "2024-08-06T18:56:19.847Z"
   },
   {
    "duration": 7,
    "start_time": "2024-08-06T18:56:20.339Z"
   },
   {
    "duration": 8,
    "start_time": "2024-08-06T18:56:23.719Z"
   },
   {
    "duration": 5,
    "start_time": "2024-08-06T18:56:24.777Z"
   },
   {
    "duration": 130,
    "start_time": "2024-08-06T18:56:25.443Z"
   },
   {
    "duration": 22,
    "start_time": "2024-08-06T18:56:26.801Z"
   },
   {
    "duration": 135,
    "start_time": "2024-08-06T18:56:27.429Z"
   },
   {
    "duration": 8,
    "start_time": "2024-08-06T18:56:29.155Z"
   },
   {
    "duration": 127,
    "start_time": "2024-08-06T18:56:33.281Z"
   },
   {
    "duration": 131,
    "start_time": "2024-08-06T18:56:37.219Z"
   },
   {
    "duration": 150,
    "start_time": "2024-08-06T18:56:37.827Z"
   },
   {
    "duration": 162,
    "start_time": "2024-08-06T18:56:41.747Z"
   },
   {
    "duration": 19,
    "start_time": "2024-08-06T18:57:39.633Z"
   },
   {
    "duration": 130,
    "start_time": "2024-08-06T18:57:40.272Z"
   },
   {
    "duration": 23,
    "start_time": "2024-08-06T18:57:46.312Z"
   },
   {
    "duration": 132,
    "start_time": "2024-08-06T18:57:46.881Z"
   },
   {
    "duration": 8,
    "start_time": "2024-08-06T18:57:48.053Z"
   },
   {
    "duration": 135,
    "start_time": "2024-08-06T18:57:48.757Z"
   },
   {
    "duration": 132,
    "start_time": "2024-08-06T18:57:50.293Z"
   },
   {
    "duration": 151,
    "start_time": "2024-08-06T18:57:50.956Z"
   },
   {
    "duration": 207,
    "start_time": "2024-08-06T18:57:51.741Z"
   },
   {
    "duration": 10,
    "start_time": "2024-08-06T18:58:07.476Z"
   },
   {
    "duration": 191,
    "start_time": "2024-08-06T18:58:08.125Z"
   },
   {
    "duration": 9,
    "start_time": "2024-08-06T18:58:11.127Z"
   },
   {
    "duration": 129,
    "start_time": "2024-08-06T18:58:12.100Z"
   },
   {
    "duration": 129,
    "start_time": "2024-08-06T18:58:13.444Z"
   },
   {
    "duration": 150,
    "start_time": "2024-08-06T18:58:14.097Z"
   },
   {
    "duration": 188,
    "start_time": "2024-08-06T18:58:14.865Z"
   },
   {
    "duration": 156,
    "start_time": "2024-08-06T18:58:17.550Z"
   },
   {
    "duration": 18,
    "start_time": "2024-08-06T18:58:24.685Z"
   },
   {
    "duration": 133,
    "start_time": "2024-08-06T18:58:25.430Z"
   },
   {
    "duration": 121,
    "start_time": "2024-08-06T18:58:26.920Z"
   },
   {
    "duration": 181,
    "start_time": "2024-08-06T18:58:28.280Z"
   },
   {
    "duration": 188,
    "start_time": "2024-08-06T18:58:29.201Z"
   },
   {
    "duration": 6,
    "start_time": "2024-08-06T19:01:24.851Z"
   },
   {
    "duration": 686,
    "start_time": "2024-08-06T19:01:37.303Z"
   },
   {
    "duration": 103,
    "start_time": "2024-08-06T19:01:37.991Z"
   },
   {
    "duration": 16,
    "start_time": "2024-08-06T19:01:38.096Z"
   },
   {
    "duration": 44,
    "start_time": "2024-08-06T19:01:38.114Z"
   },
   {
    "duration": 2050,
    "start_time": "2024-08-06T19:01:38.159Z"
   },
   {
    "duration": 11,
    "start_time": "2024-08-06T19:01:40.210Z"
   },
   {
    "duration": 9,
    "start_time": "2024-08-06T19:01:40.222Z"
   },
   {
    "duration": 8,
    "start_time": "2024-08-06T19:01:40.233Z"
   },
   {
    "duration": 7,
    "start_time": "2024-08-06T19:01:40.242Z"
   },
   {
    "duration": 6,
    "start_time": "2024-08-06T19:01:40.251Z"
   },
   {
    "duration": 7,
    "start_time": "2024-08-06T19:01:40.258Z"
   },
   {
    "duration": 5,
    "start_time": "2024-08-06T19:01:40.267Z"
   },
   {
    "duration": 4,
    "start_time": "2024-08-06T19:01:40.274Z"
   },
   {
    "duration": 8,
    "start_time": "2024-08-06T19:01:40.280Z"
   },
   {
    "duration": 38,
    "start_time": "2024-08-06T19:01:40.289Z"
   },
   {
    "duration": 8,
    "start_time": "2024-08-06T19:01:40.329Z"
   },
   {
    "duration": 25,
    "start_time": "2024-08-06T19:01:40.339Z"
   },
   {
    "duration": 20,
    "start_time": "2024-08-06T19:01:40.366Z"
   },
   {
    "duration": 44,
    "start_time": "2024-08-06T19:01:40.388Z"
   },
   {
    "duration": 237,
    "start_time": "2024-08-06T19:01:40.434Z"
   },
   {
    "duration": 29,
    "start_time": "2024-08-06T19:01:40.672Z"
   },
   {
    "duration": 23,
    "start_time": "2024-08-06T19:01:40.703Z"
   },
   {
    "duration": 6,
    "start_time": "2024-08-06T19:01:40.728Z"
   },
   {
    "duration": 5,
    "start_time": "2024-08-06T19:01:40.736Z"
   },
   {
    "duration": 5,
    "start_time": "2024-08-06T19:01:40.743Z"
   },
   {
    "duration": 334,
    "start_time": "2024-08-06T19:01:40.750Z"
   },
   {
    "duration": 7,
    "start_time": "2024-08-06T19:01:41.086Z"
   },
   {
    "duration": 27,
    "start_time": "2024-08-06T19:01:41.098Z"
   },
   {
    "duration": 136,
    "start_time": "2024-08-06T19:01:41.127Z"
   },
   {
    "duration": 139,
    "start_time": "2024-08-06T19:01:41.265Z"
   },
   {
    "duration": 135,
    "start_time": "2024-08-06T19:01:41.406Z"
   },
   {
    "duration": 253,
    "start_time": "2024-08-06T19:01:41.543Z"
   },
   {
    "duration": 6,
    "start_time": "2024-08-06T19:01:41.798Z"
   },
   {
    "duration": 23,
    "start_time": "2024-08-06T19:01:41.806Z"
   },
   {
    "duration": 154,
    "start_time": "2024-08-06T19:01:41.830Z"
   },
   {
    "duration": 148,
    "start_time": "2024-08-06T19:01:41.986Z"
   },
   {
    "duration": 182,
    "start_time": "2024-08-06T19:01:42.136Z"
   },
   {
    "duration": 5,
    "start_time": "2024-08-06T19:01:42.324Z"
   },
   {
    "duration": 9,
    "start_time": "2024-08-06T19:01:42.331Z"
   },
   {
    "duration": 144,
    "start_time": "2024-08-06T19:01:42.341Z"
   },
   {
    "duration": 140,
    "start_time": "2024-08-06T19:01:42.486Z"
   },
   {
    "duration": 157,
    "start_time": "2024-08-06T19:01:42.628Z"
   },
   {
    "duration": 5,
    "start_time": "2024-08-06T19:01:42.786Z"
   },
   {
    "duration": 11,
    "start_time": "2024-08-06T19:01:42.793Z"
   },
   {
    "duration": 21,
    "start_time": "2024-08-06T19:01:42.806Z"
   },
   {
    "duration": 148,
    "start_time": "2024-08-06T19:01:42.828Z"
   },
   {
    "duration": 23,
    "start_time": "2024-08-06T19:01:42.977Z"
   },
   {
    "duration": 148,
    "start_time": "2024-08-06T19:01:43.001Z"
   },
   {
    "duration": 8,
    "start_time": "2024-08-06T19:01:43.151Z"
   },
   {
    "duration": 145,
    "start_time": "2024-08-06T19:01:43.161Z"
   },
   {
    "duration": 142,
    "start_time": "2024-08-06T19:01:43.308Z"
   },
   {
    "duration": 239,
    "start_time": "2024-08-06T19:01:43.451Z"
   },
   {
    "duration": 5,
    "start_time": "2024-08-06T19:01:43.691Z"
   },
   {
    "duration": 8,
    "start_time": "2024-08-06T19:01:43.697Z"
   },
   {
    "duration": 142,
    "start_time": "2024-08-06T19:01:43.707Z"
   },
   {
    "duration": 8,
    "start_time": "2024-08-06T19:01:43.851Z"
   },
   {
    "duration": 144,
    "start_time": "2024-08-06T19:01:43.860Z"
   },
   {
    "duration": 144,
    "start_time": "2024-08-06T19:01:44.006Z"
   },
   {
    "duration": 155,
    "start_time": "2024-08-06T19:01:44.151Z"
   },
   {
    "duration": 17,
    "start_time": "2024-08-06T19:01:44.308Z"
   },
   {
    "duration": 163,
    "start_time": "2024-08-06T19:01:44.327Z"
   },
   {
    "duration": 19,
    "start_time": "2024-08-06T19:01:44.491Z"
   },
   {
    "duration": 198,
    "start_time": "2024-08-06T19:01:44.511Z"
   },
   {
    "duration": 130,
    "start_time": "2024-08-06T19:01:44.711Z"
   },
   {
    "duration": 193,
    "start_time": "2024-08-06T19:01:44.842Z"
   },
   {
    "duration": 236,
    "start_time": "2024-08-06T19:01:45.036Z"
   },
   {
    "duration": 0,
    "start_time": "2024-08-06T19:01:45.274Z"
   },
   {
    "duration": 0,
    "start_time": "2024-08-06T19:01:45.275Z"
   },
   {
    "duration": 0,
    "start_time": "2024-08-06T19:01:45.276Z"
   },
   {
    "duration": 0,
    "start_time": "2024-08-06T19:01:45.277Z"
   },
   {
    "duration": 0,
    "start_time": "2024-08-06T19:01:45.278Z"
   },
   {
    "duration": 0,
    "start_time": "2024-08-06T19:01:45.279Z"
   },
   {
    "duration": 0,
    "start_time": "2024-08-06T19:01:45.280Z"
   },
   {
    "duration": 0,
    "start_time": "2024-08-06T19:01:45.281Z"
   },
   {
    "duration": 0,
    "start_time": "2024-08-06T19:01:45.282Z"
   },
   {
    "duration": 16,
    "start_time": "2024-08-06T19:21:17.407Z"
   },
   {
    "duration": 12,
    "start_time": "2024-08-06T19:21:36.374Z"
   },
   {
    "duration": 5,
    "start_time": "2024-08-06T19:21:42.885Z"
   },
   {
    "duration": 4,
    "start_time": "2024-08-06T19:23:15.471Z"
   },
   {
    "duration": 560,
    "start_time": "2024-08-06T19:25:53.783Z"
   },
   {
    "duration": 97,
    "start_time": "2024-08-06T19:25:54.344Z"
   },
   {
    "duration": 14,
    "start_time": "2024-08-06T19:25:54.442Z"
   },
   {
    "duration": 33,
    "start_time": "2024-08-06T19:25:54.458Z"
   },
   {
    "duration": 1767,
    "start_time": "2024-08-06T19:25:54.493Z"
   },
   {
    "duration": 13,
    "start_time": "2024-08-06T19:25:56.262Z"
   },
   {
    "duration": 7,
    "start_time": "2024-08-06T19:25:56.277Z"
   },
   {
    "duration": 8,
    "start_time": "2024-08-06T19:25:56.285Z"
   },
   {
    "duration": 6,
    "start_time": "2024-08-06T19:25:56.294Z"
   },
   {
    "duration": 5,
    "start_time": "2024-08-06T19:25:56.302Z"
   },
   {
    "duration": 7,
    "start_time": "2024-08-06T19:25:56.308Z"
   },
   {
    "duration": 6,
    "start_time": "2024-08-06T19:25:56.323Z"
   },
   {
    "duration": 8,
    "start_time": "2024-08-06T19:25:56.331Z"
   },
   {
    "duration": 10,
    "start_time": "2024-08-06T19:25:56.340Z"
   },
   {
    "duration": 10,
    "start_time": "2024-08-06T19:25:56.352Z"
   },
   {
    "duration": 7,
    "start_time": "2024-08-06T19:25:56.363Z"
   },
   {
    "duration": 21,
    "start_time": "2024-08-06T19:25:56.371Z"
   },
   {
    "duration": 44,
    "start_time": "2024-08-06T19:25:56.394Z"
   },
   {
    "duration": 19,
    "start_time": "2024-08-06T19:25:56.440Z"
   },
   {
    "duration": 226,
    "start_time": "2024-08-06T19:25:56.460Z"
   },
   {
    "duration": 25,
    "start_time": "2024-08-06T19:25:56.688Z"
   },
   {
    "duration": 13,
    "start_time": "2024-08-06T19:25:56.714Z"
   },
   {
    "duration": 6,
    "start_time": "2024-08-06T19:25:56.729Z"
   },
   {
    "duration": 4,
    "start_time": "2024-08-06T19:25:56.737Z"
   },
   {
    "duration": 5,
    "start_time": "2024-08-06T19:25:56.742Z"
   },
   {
    "duration": 317,
    "start_time": "2024-08-06T19:25:56.748Z"
   },
   {
    "duration": 6,
    "start_time": "2024-08-06T19:25:57.067Z"
   },
   {
    "duration": 7,
    "start_time": "2024-08-06T19:25:57.076Z"
   },
   {
    "duration": 127,
    "start_time": "2024-08-06T19:25:57.084Z"
   },
   {
    "duration": 121,
    "start_time": "2024-08-06T19:25:57.213Z"
   },
   {
    "duration": 120,
    "start_time": "2024-08-06T19:25:57.335Z"
   },
   {
    "duration": 221,
    "start_time": "2024-08-06T19:25:57.457Z"
   },
   {
    "duration": 5,
    "start_time": "2024-08-06T19:25:57.679Z"
   },
   {
    "duration": 9,
    "start_time": "2024-08-06T19:25:57.685Z"
   },
   {
    "duration": 146,
    "start_time": "2024-08-06T19:25:57.696Z"
   },
   {
    "duration": 126,
    "start_time": "2024-08-06T19:25:57.843Z"
   },
   {
    "duration": 156,
    "start_time": "2024-08-06T19:25:57.970Z"
   },
   {
    "duration": 5,
    "start_time": "2024-08-06T19:25:58.128Z"
   },
   {
    "duration": 8,
    "start_time": "2024-08-06T19:25:58.134Z"
   },
   {
    "duration": 135,
    "start_time": "2024-08-06T19:25:58.144Z"
   },
   {
    "duration": 116,
    "start_time": "2024-08-06T19:25:58.280Z"
   },
   {
    "duration": 143,
    "start_time": "2024-08-06T19:25:58.397Z"
   },
   {
    "duration": 5,
    "start_time": "2024-08-06T19:25:58.542Z"
   },
   {
    "duration": 85,
    "start_time": "2024-08-06T19:25:58.548Z"
   },
   {
    "duration": 5,
    "start_time": "2024-08-06T19:25:58.634Z"
   },
   {
    "duration": 120,
    "start_time": "2024-08-06T19:25:58.640Z"
   },
   {
    "duration": 20,
    "start_time": "2024-08-06T19:25:58.761Z"
   },
   {
    "duration": 132,
    "start_time": "2024-08-06T19:25:58.783Z"
   },
   {
    "duration": 11,
    "start_time": "2024-08-06T19:25:58.917Z"
   },
   {
    "duration": 128,
    "start_time": "2024-08-06T19:25:58.930Z"
   },
   {
    "duration": 130,
    "start_time": "2024-08-06T19:25:59.059Z"
   },
   {
    "duration": 214,
    "start_time": "2024-08-06T19:25:59.190Z"
   },
   {
    "duration": 5,
    "start_time": "2024-08-06T19:25:59.405Z"
   },
   {
    "duration": 18,
    "start_time": "2024-08-06T19:25:59.412Z"
   },
   {
    "duration": 121,
    "start_time": "2024-08-06T19:25:59.432Z"
   },
   {
    "duration": 7,
    "start_time": "2024-08-06T19:25:59.555Z"
   },
   {
    "duration": 11,
    "start_time": "2024-08-06T19:25:59.564Z"
   },
   {
    "duration": 3,
    "start_time": "2024-08-06T19:25:59.578Z"
   },
   {
    "duration": 920,
    "start_time": "2024-08-06T19:25:59.583Z"
   },
   {
    "duration": 0,
    "start_time": "2024-08-06T19:26:00.505Z"
   },
   {
    "duration": 0,
    "start_time": "2024-08-06T19:26:00.506Z"
   },
   {
    "duration": 0,
    "start_time": "2024-08-06T19:26:00.507Z"
   },
   {
    "duration": 0,
    "start_time": "2024-08-06T19:26:00.508Z"
   },
   {
    "duration": 0,
    "start_time": "2024-08-06T19:26:00.509Z"
   },
   {
    "duration": 0,
    "start_time": "2024-08-06T19:26:00.509Z"
   },
   {
    "duration": 0,
    "start_time": "2024-08-06T19:26:00.511Z"
   },
   {
    "duration": 0,
    "start_time": "2024-08-06T19:26:00.511Z"
   },
   {
    "duration": 0,
    "start_time": "2024-08-06T19:26:00.512Z"
   },
   {
    "duration": 0,
    "start_time": "2024-08-06T19:26:00.513Z"
   },
   {
    "duration": 0,
    "start_time": "2024-08-06T19:26:00.514Z"
   },
   {
    "duration": 0,
    "start_time": "2024-08-06T19:26:00.515Z"
   },
   {
    "duration": 0,
    "start_time": "2024-08-06T19:26:00.516Z"
   },
   {
    "duration": 0,
    "start_time": "2024-08-06T19:26:00.517Z"
   },
   {
    "duration": 0,
    "start_time": "2024-08-06T19:26:00.518Z"
   },
   {
    "duration": 0,
    "start_time": "2024-08-06T19:26:00.518Z"
   },
   {
    "duration": 0,
    "start_time": "2024-08-06T19:26:00.520Z"
   },
   {
    "duration": 0,
    "start_time": "2024-08-06T19:26:00.521Z"
   },
   {
    "duration": 0,
    "start_time": "2024-08-06T19:26:00.522Z"
   },
   {
    "duration": 776,
    "start_time": "2024-08-06T19:27:15.154Z"
   },
   {
    "duration": 642,
    "start_time": "2024-08-06T19:27:37.135Z"
   },
   {
    "duration": 103,
    "start_time": "2024-08-06T19:27:37.778Z"
   },
   {
    "duration": 14,
    "start_time": "2024-08-06T19:27:37.883Z"
   },
   {
    "duration": 57,
    "start_time": "2024-08-06T19:27:37.898Z"
   },
   {
    "duration": 1844,
    "start_time": "2024-08-06T19:27:37.956Z"
   },
   {
    "duration": 8,
    "start_time": "2024-08-06T19:27:39.802Z"
   },
   {
    "duration": 5,
    "start_time": "2024-08-06T19:27:39.812Z"
   },
   {
    "duration": 16,
    "start_time": "2024-08-06T19:27:39.819Z"
   },
   {
    "duration": 6,
    "start_time": "2024-08-06T19:27:39.836Z"
   },
   {
    "duration": 5,
    "start_time": "2024-08-06T19:27:39.845Z"
   },
   {
    "duration": 7,
    "start_time": "2024-08-06T19:27:39.852Z"
   },
   {
    "duration": 15,
    "start_time": "2024-08-06T19:27:39.860Z"
   },
   {
    "duration": 4,
    "start_time": "2024-08-06T19:27:39.877Z"
   },
   {
    "duration": 21,
    "start_time": "2024-08-06T19:27:39.882Z"
   },
   {
    "duration": 4,
    "start_time": "2024-08-06T19:27:39.905Z"
   },
   {
    "duration": 19,
    "start_time": "2024-08-06T19:27:39.910Z"
   },
   {
    "duration": 28,
    "start_time": "2024-08-06T19:27:39.930Z"
   },
   {
    "duration": 17,
    "start_time": "2024-08-06T19:27:39.959Z"
   },
   {
    "duration": 13,
    "start_time": "2024-08-06T19:27:39.978Z"
   },
   {
    "duration": 272,
    "start_time": "2024-08-06T19:27:39.992Z"
   },
   {
    "duration": 25,
    "start_time": "2024-08-06T19:27:40.266Z"
   },
   {
    "duration": 6,
    "start_time": "2024-08-06T19:27:40.292Z"
   },
   {
    "duration": 5,
    "start_time": "2024-08-06T19:27:40.299Z"
   },
   {
    "duration": 7,
    "start_time": "2024-08-06T19:27:40.324Z"
   },
   {
    "duration": 7,
    "start_time": "2024-08-06T19:27:40.333Z"
   },
   {
    "duration": 334,
    "start_time": "2024-08-06T19:27:40.341Z"
   },
   {
    "duration": 6,
    "start_time": "2024-08-06T19:27:40.677Z"
   },
   {
    "duration": 8,
    "start_time": "2024-08-06T19:27:40.686Z"
   },
   {
    "duration": 146,
    "start_time": "2024-08-06T19:27:40.696Z"
   },
   {
    "duration": 123,
    "start_time": "2024-08-06T19:27:40.844Z"
   },
   {
    "duration": 132,
    "start_time": "2024-08-06T19:27:40.968Z"
   },
   {
    "duration": 219,
    "start_time": "2024-08-06T19:27:41.101Z"
   },
   {
    "duration": 13,
    "start_time": "2024-08-06T19:27:41.323Z"
   },
   {
    "duration": 8,
    "start_time": "2024-08-06T19:27:41.338Z"
   },
   {
    "duration": 137,
    "start_time": "2024-08-06T19:27:41.347Z"
   },
   {
    "duration": 131,
    "start_time": "2024-08-06T19:27:41.486Z"
   },
   {
    "duration": 164,
    "start_time": "2024-08-06T19:27:41.618Z"
   },
   {
    "duration": 5,
    "start_time": "2024-08-06T19:27:41.783Z"
   },
   {
    "duration": 12,
    "start_time": "2024-08-06T19:27:41.789Z"
   },
   {
    "duration": 139,
    "start_time": "2024-08-06T19:27:41.802Z"
   },
   {
    "duration": 117,
    "start_time": "2024-08-06T19:27:41.943Z"
   },
   {
    "duration": 152,
    "start_time": "2024-08-06T19:27:42.061Z"
   },
   {
    "duration": 18,
    "start_time": "2024-08-06T19:27:42.215Z"
   },
   {
    "duration": 8,
    "start_time": "2024-08-06T19:27:42.234Z"
   },
   {
    "duration": 5,
    "start_time": "2024-08-06T19:27:42.243Z"
   },
   {
    "duration": 137,
    "start_time": "2024-08-06T19:27:42.250Z"
   },
   {
    "duration": 20,
    "start_time": "2024-08-06T19:27:42.388Z"
   },
   {
    "duration": 140,
    "start_time": "2024-08-06T19:27:42.409Z"
   },
   {
    "duration": 8,
    "start_time": "2024-08-06T19:27:42.550Z"
   },
   {
    "duration": 186,
    "start_time": "2024-08-06T19:27:42.559Z"
   },
   {
    "duration": 134,
    "start_time": "2024-08-06T19:27:42.746Z"
   },
   {
    "duration": 219,
    "start_time": "2024-08-06T19:27:42.881Z"
   },
   {
    "duration": 5,
    "start_time": "2024-08-06T19:27:43.101Z"
   },
   {
    "duration": 28,
    "start_time": "2024-08-06T19:27:43.107Z"
   },
   {
    "duration": 124,
    "start_time": "2024-08-06T19:27:43.140Z"
   },
   {
    "duration": 8,
    "start_time": "2024-08-06T19:27:43.265Z"
   },
   {
    "duration": 4,
    "start_time": "2024-08-06T19:27:43.274Z"
   },
   {
    "duration": 3,
    "start_time": "2024-08-06T19:27:43.279Z"
   },
   {
    "duration": 811,
    "start_time": "2024-08-06T19:27:43.284Z"
   },
   {
    "duration": 0,
    "start_time": "2024-08-06T19:27:44.096Z"
   },
   {
    "duration": 0,
    "start_time": "2024-08-06T19:27:44.097Z"
   },
   {
    "duration": 0,
    "start_time": "2024-08-06T19:27:44.098Z"
   },
   {
    "duration": 0,
    "start_time": "2024-08-06T19:27:44.099Z"
   },
   {
    "duration": 0,
    "start_time": "2024-08-06T19:27:44.100Z"
   },
   {
    "duration": 0,
    "start_time": "2024-08-06T19:27:44.101Z"
   },
   {
    "duration": 0,
    "start_time": "2024-08-06T19:27:44.102Z"
   },
   {
    "duration": 0,
    "start_time": "2024-08-06T19:27:44.103Z"
   },
   {
    "duration": 0,
    "start_time": "2024-08-06T19:27:44.104Z"
   },
   {
    "duration": 0,
    "start_time": "2024-08-06T19:27:44.105Z"
   },
   {
    "duration": 0,
    "start_time": "2024-08-06T19:27:44.105Z"
   },
   {
    "duration": 0,
    "start_time": "2024-08-06T19:27:44.106Z"
   },
   {
    "duration": 0,
    "start_time": "2024-08-06T19:27:44.107Z"
   },
   {
    "duration": 0,
    "start_time": "2024-08-06T19:27:44.108Z"
   },
   {
    "duration": 0,
    "start_time": "2024-08-06T19:27:44.109Z"
   },
   {
    "duration": 1,
    "start_time": "2024-08-06T19:27:44.110Z"
   },
   {
    "duration": 0,
    "start_time": "2024-08-06T19:27:44.111Z"
   },
   {
    "duration": 0,
    "start_time": "2024-08-06T19:27:44.112Z"
   },
   {
    "duration": 0,
    "start_time": "2024-08-06T19:27:44.114Z"
   },
   {
    "duration": 5,
    "start_time": "2024-08-06T19:28:35.346Z"
   },
   {
    "duration": 9,
    "start_time": "2024-08-06T19:28:45.262Z"
   },
   {
    "duration": 8,
    "start_time": "2024-08-06T19:30:16.876Z"
   },
   {
    "duration": 7,
    "start_time": "2024-08-06T19:30:27.780Z"
   },
   {
    "duration": 9,
    "start_time": "2024-08-06T19:31:43.085Z"
   },
   {
    "duration": 9,
    "start_time": "2024-08-06T19:32:45.822Z"
   },
   {
    "duration": 6,
    "start_time": "2024-08-06T19:34:40.582Z"
   },
   {
    "duration": 7,
    "start_time": "2024-08-06T19:35:10.501Z"
   },
   {
    "duration": 7,
    "start_time": "2024-08-06T19:38:50.420Z"
   },
   {
    "duration": 609,
    "start_time": "2024-08-06T19:46:51.197Z"
   },
   {
    "duration": 93,
    "start_time": "2024-08-06T19:46:51.807Z"
   },
   {
    "duration": 13,
    "start_time": "2024-08-06T19:46:51.901Z"
   },
   {
    "duration": 31,
    "start_time": "2024-08-06T19:46:51.916Z"
   },
   {
    "duration": 1608,
    "start_time": "2024-08-06T19:46:51.948Z"
   },
   {
    "duration": 8,
    "start_time": "2024-08-06T19:46:53.558Z"
   },
   {
    "duration": 7,
    "start_time": "2024-08-06T19:46:53.568Z"
   },
   {
    "duration": 7,
    "start_time": "2024-08-06T19:46:53.576Z"
   },
   {
    "duration": 14,
    "start_time": "2024-08-06T19:46:53.585Z"
   },
   {
    "duration": 5,
    "start_time": "2024-08-06T19:46:53.601Z"
   },
   {
    "duration": 7,
    "start_time": "2024-08-06T19:46:53.607Z"
   },
   {
    "duration": 5,
    "start_time": "2024-08-06T19:46:53.615Z"
   },
   {
    "duration": 4,
    "start_time": "2024-08-06T19:46:53.621Z"
   },
   {
    "duration": 7,
    "start_time": "2024-08-06T19:46:53.626Z"
   },
   {
    "duration": 4,
    "start_time": "2024-08-06T19:46:53.634Z"
   },
   {
    "duration": 14,
    "start_time": "2024-08-06T19:46:53.639Z"
   },
   {
    "duration": 22,
    "start_time": "2024-08-06T19:46:53.654Z"
   },
   {
    "duration": 16,
    "start_time": "2024-08-06T19:46:53.677Z"
   },
   {
    "duration": 33,
    "start_time": "2024-08-06T19:46:53.695Z"
   },
   {
    "duration": 206,
    "start_time": "2024-08-06T19:46:53.729Z"
   },
   {
    "duration": 23,
    "start_time": "2024-08-06T19:46:53.936Z"
   },
   {
    "duration": 5,
    "start_time": "2024-08-06T19:46:53.960Z"
   },
   {
    "duration": 5,
    "start_time": "2024-08-06T19:46:53.966Z"
   },
   {
    "duration": 9,
    "start_time": "2024-08-06T19:46:53.972Z"
   },
   {
    "duration": 5,
    "start_time": "2024-08-06T19:46:53.982Z"
   },
   {
    "duration": 300,
    "start_time": "2024-08-06T19:46:53.988Z"
   },
   {
    "duration": 6,
    "start_time": "2024-08-06T19:46:54.289Z"
   },
   {
    "duration": 7,
    "start_time": "2024-08-06T19:46:54.298Z"
   },
   {
    "duration": 122,
    "start_time": "2024-08-06T19:46:54.306Z"
   },
   {
    "duration": 110,
    "start_time": "2024-08-06T19:46:54.429Z"
   },
   {
    "duration": 108,
    "start_time": "2024-08-06T19:46:54.540Z"
   },
   {
    "duration": 199,
    "start_time": "2024-08-06T19:46:54.650Z"
   },
   {
    "duration": 5,
    "start_time": "2024-08-06T19:46:54.851Z"
   },
   {
    "duration": 7,
    "start_time": "2024-08-06T19:46:54.857Z"
   },
   {
    "duration": 133,
    "start_time": "2024-08-06T19:46:54.865Z"
   },
   {
    "duration": 119,
    "start_time": "2024-08-06T19:46:54.999Z"
   },
   {
    "duration": 144,
    "start_time": "2024-08-06T19:46:55.123Z"
   },
   {
    "duration": 4,
    "start_time": "2024-08-06T19:46:55.269Z"
   },
   {
    "duration": 7,
    "start_time": "2024-08-06T19:46:55.274Z"
   },
   {
    "duration": 122,
    "start_time": "2024-08-06T19:46:55.283Z"
   },
   {
    "duration": 120,
    "start_time": "2024-08-06T19:46:55.406Z"
   },
   {
    "duration": 135,
    "start_time": "2024-08-06T19:46:55.527Z"
   },
   {
    "duration": 5,
    "start_time": "2024-08-06T19:46:55.664Z"
   },
   {
    "duration": 15,
    "start_time": "2024-08-06T19:46:55.670Z"
   },
   {
    "duration": 6,
    "start_time": "2024-08-06T19:46:55.686Z"
   },
   {
    "duration": 125,
    "start_time": "2024-08-06T19:46:55.693Z"
   },
   {
    "duration": 21,
    "start_time": "2024-08-06T19:46:55.823Z"
   },
   {
    "duration": 121,
    "start_time": "2024-08-06T19:46:55.845Z"
   },
   {
    "duration": 9,
    "start_time": "2024-08-06T19:46:55.967Z"
   },
   {
    "duration": 128,
    "start_time": "2024-08-06T19:46:55.977Z"
   },
   {
    "duration": 118,
    "start_time": "2024-08-06T19:46:56.107Z"
   },
   {
    "duration": 184,
    "start_time": "2024-08-06T19:46:56.227Z"
   },
   {
    "duration": 12,
    "start_time": "2024-08-06T19:46:56.412Z"
   },
   {
    "duration": 7,
    "start_time": "2024-08-06T19:46:56.426Z"
   },
   {
    "duration": 115,
    "start_time": "2024-08-06T19:46:56.434Z"
   },
   {
    "duration": 8,
    "start_time": "2024-08-06T19:46:56.550Z"
   },
   {
    "duration": 3,
    "start_time": "2024-08-06T19:46:56.559Z"
   },
   {
    "duration": 7,
    "start_time": "2024-08-06T19:46:56.563Z"
   },
   {
    "duration": 127,
    "start_time": "2024-08-06T19:46:56.571Z"
   },
   {
    "duration": 113,
    "start_time": "2024-08-06T19:46:56.699Z"
   },
   {
    "duration": 135,
    "start_time": "2024-08-06T19:46:56.814Z"
   },
   {
    "duration": 5,
    "start_time": "2024-08-06T19:46:56.951Z"
   },
   {
    "duration": 147,
    "start_time": "2024-08-06T19:46:56.957Z"
   },
   {
    "duration": 24,
    "start_time": "2024-08-06T19:46:57.106Z"
   },
   {
    "duration": 128,
    "start_time": "2024-08-06T19:46:57.132Z"
   },
   {
    "duration": 109,
    "start_time": "2024-08-06T19:46:57.262Z"
   },
   {
    "duration": 160,
    "start_time": "2024-08-06T19:46:57.373Z"
   },
   {
    "duration": 198,
    "start_time": "2024-08-06T19:46:57.535Z"
   },
   {
    "duration": 0,
    "start_time": "2024-08-06T19:46:57.734Z"
   },
   {
    "duration": 0,
    "start_time": "2024-08-06T19:46:57.735Z"
   },
   {
    "duration": 0,
    "start_time": "2024-08-06T19:46:57.736Z"
   },
   {
    "duration": 0,
    "start_time": "2024-08-06T19:46:57.737Z"
   },
   {
    "duration": 0,
    "start_time": "2024-08-06T19:46:57.738Z"
   },
   {
    "duration": 0,
    "start_time": "2024-08-06T19:46:57.739Z"
   },
   {
    "duration": 0,
    "start_time": "2024-08-06T19:46:57.740Z"
   },
   {
    "duration": 0,
    "start_time": "2024-08-06T19:46:57.741Z"
   },
   {
    "duration": 0,
    "start_time": "2024-08-06T19:46:57.742Z"
   },
   {
    "duration": 58,
    "start_time": "2024-08-07T03:01:08.758Z"
   },
   {
    "duration": 932,
    "start_time": "2024-08-07T03:01:18.212Z"
   },
   {
    "duration": 192,
    "start_time": "2024-08-07T03:01:19.147Z"
   },
   {
    "duration": 20,
    "start_time": "2024-08-07T03:01:19.340Z"
   },
   {
    "duration": 51,
    "start_time": "2024-08-07T03:01:19.362Z"
   },
   {
    "duration": 2209,
    "start_time": "2024-08-07T03:01:19.414Z"
   },
   {
    "duration": 10,
    "start_time": "2024-08-07T03:01:21.624Z"
   },
   {
    "duration": 20,
    "start_time": "2024-08-07T03:01:21.636Z"
   },
   {
    "duration": 103,
    "start_time": "2024-08-07T03:01:21.657Z"
   },
   {
    "duration": 8,
    "start_time": "2024-08-07T03:01:21.762Z"
   },
   {
    "duration": 9,
    "start_time": "2024-08-07T03:01:21.772Z"
   },
   {
    "duration": 10,
    "start_time": "2024-08-07T03:01:21.788Z"
   },
   {
    "duration": 6,
    "start_time": "2024-08-07T03:01:21.800Z"
   },
   {
    "duration": 5,
    "start_time": "2024-08-07T03:01:21.808Z"
   },
   {
    "duration": 23,
    "start_time": "2024-08-07T03:01:21.814Z"
   },
   {
    "duration": 7,
    "start_time": "2024-08-07T03:01:21.839Z"
   },
   {
    "duration": 20,
    "start_time": "2024-08-07T03:01:21.848Z"
   },
   {
    "duration": 49,
    "start_time": "2024-08-07T03:01:21.870Z"
   },
   {
    "duration": 21,
    "start_time": "2024-08-07T03:01:21.921Z"
   },
   {
    "duration": 16,
    "start_time": "2024-08-07T03:01:21.944Z"
   },
   {
    "duration": 272,
    "start_time": "2024-08-07T03:01:21.962Z"
   },
   {
    "duration": 29,
    "start_time": "2024-08-07T03:01:22.236Z"
   },
   {
    "duration": 20,
    "start_time": "2024-08-07T03:01:22.266Z"
   },
   {
    "duration": 10,
    "start_time": "2024-08-07T03:01:22.287Z"
   },
   {
    "duration": 6,
    "start_time": "2024-08-07T03:01:22.299Z"
   },
   {
    "duration": 5,
    "start_time": "2024-08-07T03:01:22.307Z"
   },
   {
    "duration": 383,
    "start_time": "2024-08-07T03:01:22.313Z"
   },
   {
    "duration": 7,
    "start_time": "2024-08-07T03:01:22.698Z"
   },
   {
    "duration": 29,
    "start_time": "2024-08-07T03:01:22.709Z"
   },
   {
    "duration": 151,
    "start_time": "2024-08-07T03:01:22.740Z"
   },
   {
    "duration": 147,
    "start_time": "2024-08-07T03:01:22.892Z"
   },
   {
    "duration": 158,
    "start_time": "2024-08-07T03:01:23.041Z"
   },
   {
    "duration": 255,
    "start_time": "2024-08-07T03:01:23.200Z"
   },
   {
    "duration": 6,
    "start_time": "2024-08-07T03:01:23.457Z"
   },
   {
    "duration": 31,
    "start_time": "2024-08-07T03:01:23.465Z"
   },
   {
    "duration": 167,
    "start_time": "2024-08-07T03:01:23.497Z"
   },
   {
    "duration": 155,
    "start_time": "2024-08-07T03:01:23.666Z"
   },
   {
    "duration": 220,
    "start_time": "2024-08-07T03:01:23.823Z"
   },
   {
    "duration": 5,
    "start_time": "2024-08-07T03:01:24.045Z"
   },
   {
    "duration": 8,
    "start_time": "2024-08-07T03:01:24.052Z"
   },
   {
    "duration": 168,
    "start_time": "2024-08-07T03:01:24.062Z"
   },
   {
    "duration": 137,
    "start_time": "2024-08-07T03:01:24.232Z"
   },
   {
    "duration": 181,
    "start_time": "2024-08-07T03:01:24.371Z"
   },
   {
    "duration": 6,
    "start_time": "2024-08-07T03:01:24.554Z"
   },
   {
    "duration": 47,
    "start_time": "2024-08-07T03:01:24.561Z"
   },
   {
    "duration": 21,
    "start_time": "2024-08-07T03:01:24.610Z"
   },
   {
    "duration": 172,
    "start_time": "2024-08-07T03:01:24.632Z"
   },
   {
    "duration": 27,
    "start_time": "2024-08-07T03:01:24.806Z"
   },
   {
    "duration": 170,
    "start_time": "2024-08-07T03:01:24.834Z"
   },
   {
    "duration": 9,
    "start_time": "2024-08-07T03:01:25.006Z"
   },
   {
    "duration": 183,
    "start_time": "2024-08-07T03:01:25.017Z"
   },
   {
    "duration": 167,
    "start_time": "2024-08-07T03:01:25.201Z"
   },
   {
    "duration": 251,
    "start_time": "2024-08-07T03:01:25.370Z"
   },
   {
    "duration": 5,
    "start_time": "2024-08-07T03:01:25.622Z"
   },
   {
    "duration": 186,
    "start_time": "2024-08-07T03:01:25.629Z"
   },
   {
    "duration": 185,
    "start_time": "2024-08-07T03:01:25.817Z"
   },
   {
    "duration": 8,
    "start_time": "2024-08-07T03:01:26.004Z"
   },
   {
    "duration": 19,
    "start_time": "2024-08-07T03:01:26.014Z"
   },
   {
    "duration": 27,
    "start_time": "2024-08-07T03:01:26.034Z"
   },
   {
    "duration": 149,
    "start_time": "2024-08-07T03:01:26.063Z"
   },
   {
    "duration": 153,
    "start_time": "2024-08-07T03:01:26.214Z"
   },
   {
    "duration": 173,
    "start_time": "2024-08-07T03:01:26.369Z"
   },
   {
    "duration": 5,
    "start_time": "2024-08-07T03:01:26.544Z"
   },
   {
    "duration": 210,
    "start_time": "2024-08-07T03:01:26.551Z"
   },
   {
    "duration": 44,
    "start_time": "2024-08-07T03:01:26.762Z"
   },
   {
    "duration": 46,
    "start_time": "2024-08-07T03:01:26.808Z"
   },
   {
    "duration": 227,
    "start_time": "2024-08-07T03:01:26.856Z"
   },
   {
    "duration": 162,
    "start_time": "2024-08-07T03:01:27.089Z"
   },
   {
    "duration": 214,
    "start_time": "2024-08-07T03:01:27.252Z"
   },
   {
    "duration": 442,
    "start_time": "2024-08-07T03:01:27.468Z"
   },
   {
    "duration": 0,
    "start_time": "2024-08-07T03:01:27.912Z"
   },
   {
    "duration": 0,
    "start_time": "2024-08-07T03:01:27.913Z"
   },
   {
    "duration": 0,
    "start_time": "2024-08-07T03:01:27.915Z"
   },
   {
    "duration": 0,
    "start_time": "2024-08-07T03:01:27.916Z"
   },
   {
    "duration": 0,
    "start_time": "2024-08-07T03:01:27.917Z"
   },
   {
    "duration": 0,
    "start_time": "2024-08-07T03:01:27.918Z"
   },
   {
    "duration": 0,
    "start_time": "2024-08-07T03:01:27.918Z"
   },
   {
    "duration": 0,
    "start_time": "2024-08-07T03:01:27.919Z"
   },
   {
    "duration": 0,
    "start_time": "2024-08-07T03:01:27.920Z"
   },
   {
    "duration": 10,
    "start_time": "2024-08-07T03:05:49.732Z"
   },
   {
    "duration": 163,
    "start_time": "2024-08-07T03:06:46.632Z"
   },
   {
    "duration": 195,
    "start_time": "2024-08-07T03:16:13.731Z"
   },
   {
    "duration": 30,
    "start_time": "2024-08-07T03:19:11.426Z"
   },
   {
    "duration": 210,
    "start_time": "2024-08-07T03:19:25.459Z"
   },
   {
    "duration": 11,
    "start_time": "2024-08-07T03:20:12.494Z"
   },
   {
    "duration": 154,
    "start_time": "2024-08-07T03:22:38.279Z"
   },
   {
    "duration": 165,
    "start_time": "2024-08-07T03:23:07.997Z"
   },
   {
    "duration": 146,
    "start_time": "2024-08-07T03:23:14.599Z"
   },
   {
    "duration": 922,
    "start_time": "2024-08-07T15:52:58.970Z"
   },
   {
    "duration": 165,
    "start_time": "2024-08-07T15:52:59.895Z"
   },
   {
    "duration": 16,
    "start_time": "2024-08-07T15:53:00.062Z"
   },
   {
    "duration": 40,
    "start_time": "2024-08-07T15:53:00.080Z"
   },
   {
    "duration": 2051,
    "start_time": "2024-08-07T15:53:00.121Z"
   },
   {
    "duration": 15,
    "start_time": "2024-08-07T15:53:02.175Z"
   },
   {
    "duration": 48,
    "start_time": "2024-08-07T15:53:02.192Z"
   },
   {
    "duration": 31,
    "start_time": "2024-08-07T15:53:02.242Z"
   },
   {
    "duration": 22,
    "start_time": "2024-08-07T15:53:02.275Z"
   },
   {
    "duration": 22,
    "start_time": "2024-08-07T15:53:02.300Z"
   },
   {
    "duration": 18,
    "start_time": "2024-08-07T15:53:02.324Z"
   },
   {
    "duration": 33,
    "start_time": "2024-08-07T15:53:02.344Z"
   },
   {
    "duration": 36,
    "start_time": "2024-08-07T15:53:02.380Z"
   },
   {
    "duration": 20,
    "start_time": "2024-08-07T15:53:02.418Z"
   },
   {
    "duration": 23,
    "start_time": "2024-08-07T15:53:02.440Z"
   },
   {
    "duration": 25,
    "start_time": "2024-08-07T15:53:02.465Z"
   },
   {
    "duration": 48,
    "start_time": "2024-08-07T15:53:02.492Z"
   },
   {
    "duration": 34,
    "start_time": "2024-08-07T15:53:02.542Z"
   },
   {
    "duration": 24,
    "start_time": "2024-08-07T15:53:02.578Z"
   },
   {
    "duration": 282,
    "start_time": "2024-08-07T15:53:02.605Z"
   },
   {
    "duration": 44,
    "start_time": "2024-08-07T15:53:02.889Z"
   },
   {
    "duration": 8,
    "start_time": "2024-08-07T15:53:02.935Z"
   },
   {
    "duration": 30,
    "start_time": "2024-08-07T15:53:02.945Z"
   },
   {
    "duration": 8,
    "start_time": "2024-08-07T15:53:02.977Z"
   },
   {
    "duration": 17,
    "start_time": "2024-08-07T15:53:02.987Z"
   },
   {
    "duration": 357,
    "start_time": "2024-08-07T15:53:03.006Z"
   },
   {
    "duration": 7,
    "start_time": "2024-08-07T15:53:03.364Z"
   },
   {
    "duration": 9,
    "start_time": "2024-08-07T15:53:03.375Z"
   },
   {
    "duration": 147,
    "start_time": "2024-08-07T15:53:03.385Z"
   },
   {
    "duration": 140,
    "start_time": "2024-08-07T15:53:03.534Z"
   },
   {
    "duration": 163,
    "start_time": "2024-08-07T15:53:03.675Z"
   },
   {
    "duration": 248,
    "start_time": "2024-08-07T15:53:03.840Z"
   },
   {
    "duration": 6,
    "start_time": "2024-08-07T15:53:04.090Z"
   },
   {
    "duration": 10,
    "start_time": "2024-08-07T15:53:04.098Z"
   },
   {
    "duration": 181,
    "start_time": "2024-08-07T15:53:04.109Z"
   },
   {
    "duration": 143,
    "start_time": "2024-08-07T15:53:04.292Z"
   },
   {
    "duration": 176,
    "start_time": "2024-08-07T15:53:04.437Z"
   },
   {
    "duration": 6,
    "start_time": "2024-08-07T15:53:04.615Z"
   },
   {
    "duration": 16,
    "start_time": "2024-08-07T15:53:04.623Z"
   },
   {
    "duration": 155,
    "start_time": "2024-08-07T15:53:04.641Z"
   },
   {
    "duration": 135,
    "start_time": "2024-08-07T15:53:04.797Z"
   },
   {
    "duration": 160,
    "start_time": "2024-08-07T15:53:04.933Z"
   },
   {
    "duration": 5,
    "start_time": "2024-08-07T15:53:05.095Z"
   },
   {
    "duration": 18,
    "start_time": "2024-08-07T15:53:05.101Z"
   },
   {
    "duration": 14,
    "start_time": "2024-08-07T15:53:05.121Z"
   },
   {
    "duration": 144,
    "start_time": "2024-08-07T15:53:05.136Z"
   },
   {
    "duration": 23,
    "start_time": "2024-08-07T15:53:05.282Z"
   },
   {
    "duration": 154,
    "start_time": "2024-08-07T15:53:05.306Z"
   },
   {
    "duration": 11,
    "start_time": "2024-08-07T15:53:05.461Z"
   },
   {
    "duration": 152,
    "start_time": "2024-08-07T15:53:05.473Z"
   },
   {
    "duration": 147,
    "start_time": "2024-08-07T15:53:05.626Z"
   },
   {
    "duration": 257,
    "start_time": "2024-08-07T15:53:05.775Z"
   },
   {
    "duration": 7,
    "start_time": "2024-08-07T15:53:06.033Z"
   },
   {
    "duration": 42,
    "start_time": "2024-08-07T15:53:06.042Z"
   },
   {
    "duration": 129,
    "start_time": "2024-08-07T15:53:06.086Z"
   },
   {
    "duration": 9,
    "start_time": "2024-08-07T15:53:06.217Z"
   },
   {
    "duration": 15,
    "start_time": "2024-08-07T15:53:06.227Z"
   },
   {
    "duration": 22,
    "start_time": "2024-08-07T15:53:06.244Z"
   },
   {
    "duration": 155,
    "start_time": "2024-08-07T15:53:06.267Z"
   },
   {
    "duration": 144,
    "start_time": "2024-08-07T15:53:06.423Z"
   },
   {
    "duration": 166,
    "start_time": "2024-08-07T15:53:06.568Z"
   },
   {
    "duration": 5,
    "start_time": "2024-08-07T15:53:06.736Z"
   },
   {
    "duration": 196,
    "start_time": "2024-08-07T15:53:06.742Z"
   },
   {
    "duration": 168,
    "start_time": "2024-08-07T15:53:06.940Z"
   },
   {
    "duration": 9,
    "start_time": "2024-08-07T15:53:07.110Z"
   },
   {
    "duration": 153,
    "start_time": "2024-08-07T15:53:07.120Z"
   },
   {
    "duration": 125,
    "start_time": "2024-08-07T15:53:07.274Z"
   },
   {
    "duration": 9,
    "start_time": "2024-08-07T15:53:07.400Z"
   },
   {
    "duration": 159,
    "start_time": "2024-08-07T15:53:07.411Z"
   },
   {
    "duration": 148,
    "start_time": "2024-08-07T15:53:07.572Z"
   },
   {
    "duration": 22,
    "start_time": "2024-08-07T15:53:07.722Z"
   },
   {
    "duration": 267,
    "start_time": "2024-08-07T15:53:07.747Z"
   },
   {
    "duration": 145,
    "start_time": "2024-08-07T15:53:08.016Z"
   },
   {
    "duration": 224,
    "start_time": "2024-08-07T15:53:08.165Z"
   },
   {
    "duration": 284,
    "start_time": "2024-08-07T15:53:08.391Z"
   },
   {
    "duration": 0,
    "start_time": "2024-08-07T15:53:08.676Z"
   },
   {
    "duration": 0,
    "start_time": "2024-08-07T15:53:08.678Z"
   },
   {
    "duration": 0,
    "start_time": "2024-08-07T15:53:08.679Z"
   },
   {
    "duration": 0,
    "start_time": "2024-08-07T15:53:08.680Z"
   },
   {
    "duration": 0,
    "start_time": "2024-08-07T15:53:08.681Z"
   },
   {
    "duration": 0,
    "start_time": "2024-08-07T15:53:08.682Z"
   },
   {
    "duration": 0,
    "start_time": "2024-08-07T15:53:08.682Z"
   },
   {
    "duration": 0,
    "start_time": "2024-08-07T15:53:08.684Z"
   },
   {
    "duration": 0,
    "start_time": "2024-08-07T15:53:08.684Z"
   },
   {
    "duration": 0,
    "start_time": "2024-08-07T15:53:08.686Z"
   },
   {
    "duration": 59,
    "start_time": "2024-08-07T15:56:53.500Z"
   },
   {
    "duration": 67,
    "start_time": "2024-08-07T15:58:07.716Z"
   },
   {
    "duration": 64,
    "start_time": "2024-08-07T15:58:39.776Z"
   },
   {
    "duration": 11,
    "start_time": "2024-08-07T16:06:51.254Z"
   },
   {
    "duration": 43,
    "start_time": "2024-08-07T16:07:01.801Z"
   },
   {
    "duration": 4,
    "start_time": "2024-08-07T16:08:21.988Z"
   },
   {
    "duration": 3,
    "start_time": "2024-08-07T16:09:22.117Z"
   },
   {
    "duration": 46,
    "start_time": "2024-08-07T16:10:03.841Z"
   },
   {
    "duration": 76,
    "start_time": "2024-08-07T16:12:45.426Z"
   },
   {
    "duration": 14,
    "start_time": "2024-08-07T16:12:50.732Z"
   },
   {
    "duration": 8,
    "start_time": "2024-08-07T16:13:50.627Z"
   },
   {
    "duration": 9,
    "start_time": "2024-08-07T16:13:57.809Z"
   },
   {
    "duration": 9,
    "start_time": "2024-08-07T16:24:09.955Z"
   },
   {
    "duration": 4,
    "start_time": "2024-08-07T16:24:11.630Z"
   },
   {
    "duration": 41,
    "start_time": "2024-08-07T16:24:21.470Z"
   },
   {
    "duration": 9,
    "start_time": "2024-08-07T16:26:22.236Z"
   },
   {
    "duration": 41,
    "start_time": "2024-08-07T16:26:28.431Z"
   },
   {
    "duration": 11,
    "start_time": "2024-08-07T16:41:15.869Z"
   },
   {
    "duration": 4,
    "start_time": "2024-08-07T16:41:18.654Z"
   },
   {
    "duration": 3,
    "start_time": "2024-08-07T16:41:55.058Z"
   },
   {
    "duration": 6,
    "start_time": "2024-08-07T16:42:29.018Z"
   },
   {
    "duration": 7,
    "start_time": "2024-08-07T16:42:47.654Z"
   },
   {
    "duration": 182,
    "start_time": "2024-08-07T16:47:52.834Z"
   },
   {
    "duration": 60,
    "start_time": "2024-08-07T16:49:06.379Z"
   },
   {
    "duration": 126,
    "start_time": "2024-08-07T16:53:36.062Z"
   },
   {
    "duration": 79,
    "start_time": "2024-08-07T16:59:49.577Z"
   },
   {
    "duration": 791,
    "start_time": "2024-08-07T17:00:15.578Z"
   },
   {
    "duration": 103,
    "start_time": "2024-08-07T17:00:16.371Z"
   },
   {
    "duration": 16,
    "start_time": "2024-08-07T17:00:16.476Z"
   },
   {
    "duration": 39,
    "start_time": "2024-08-07T17:00:16.494Z"
   },
   {
    "duration": 2054,
    "start_time": "2024-08-07T17:00:16.534Z"
   },
   {
    "duration": 10,
    "start_time": "2024-08-07T17:00:18.589Z"
   },
   {
    "duration": 9,
    "start_time": "2024-08-07T17:00:18.600Z"
   },
   {
    "duration": 9,
    "start_time": "2024-08-07T17:00:18.610Z"
   },
   {
    "duration": 9,
    "start_time": "2024-08-07T17:00:18.620Z"
   },
   {
    "duration": 9,
    "start_time": "2024-08-07T17:00:18.632Z"
   },
   {
    "duration": 8,
    "start_time": "2024-08-07T17:00:18.642Z"
   },
   {
    "duration": 13,
    "start_time": "2024-08-07T17:00:18.652Z"
   },
   {
    "duration": 10,
    "start_time": "2024-08-07T17:00:18.667Z"
   },
   {
    "duration": 12,
    "start_time": "2024-08-07T17:00:18.678Z"
   },
   {
    "duration": 6,
    "start_time": "2024-08-07T17:00:18.691Z"
   },
   {
    "duration": 8,
    "start_time": "2024-08-07T17:00:18.699Z"
   },
   {
    "duration": 56,
    "start_time": "2024-08-07T17:00:18.709Z"
   },
   {
    "duration": 21,
    "start_time": "2024-08-07T17:00:18.767Z"
   },
   {
    "duration": 15,
    "start_time": "2024-08-07T17:00:18.790Z"
   },
   {
    "duration": 262,
    "start_time": "2024-08-07T17:00:18.807Z"
   },
   {
    "duration": 29,
    "start_time": "2024-08-07T17:00:19.070Z"
   },
   {
    "duration": 6,
    "start_time": "2024-08-07T17:00:19.101Z"
   },
   {
    "duration": 6,
    "start_time": "2024-08-07T17:00:19.109Z"
   },
   {
    "duration": 6,
    "start_time": "2024-08-07T17:00:19.116Z"
   },
   {
    "duration": 6,
    "start_time": "2024-08-07T17:00:19.123Z"
   },
   {
    "duration": 386,
    "start_time": "2024-08-07T17:00:19.130Z"
   },
   {
    "duration": 7,
    "start_time": "2024-08-07T17:00:19.518Z"
   },
   {
    "duration": 9,
    "start_time": "2024-08-07T17:00:19.529Z"
   },
   {
    "duration": 25,
    "start_time": "2024-08-07T17:00:19.540Z"
   },
   {
    "duration": 137,
    "start_time": "2024-08-07T17:00:19.567Z"
   },
   {
    "duration": 149,
    "start_time": "2024-08-07T17:00:19.706Z"
   },
   {
    "duration": 154,
    "start_time": "2024-08-07T17:00:19.857Z"
   },
   {
    "duration": 246,
    "start_time": "2024-08-07T17:00:20.013Z"
   },
   {
    "duration": 8,
    "start_time": "2024-08-07T17:00:20.260Z"
   },
   {
    "duration": 42,
    "start_time": "2024-08-07T17:00:20.270Z"
   },
   {
    "duration": 159,
    "start_time": "2024-08-07T17:00:20.314Z"
   },
   {
    "duration": 143,
    "start_time": "2024-08-07T17:00:20.474Z"
   },
   {
    "duration": 221,
    "start_time": "2024-08-07T17:00:20.618Z"
   },
   {
    "duration": 6,
    "start_time": "2024-08-07T17:00:20.842Z"
   },
   {
    "duration": 20,
    "start_time": "2024-08-07T17:00:20.850Z"
   },
   {
    "duration": 148,
    "start_time": "2024-08-07T17:00:20.873Z"
   },
   {
    "duration": 143,
    "start_time": "2024-08-07T17:00:21.023Z"
   },
   {
    "duration": 158,
    "start_time": "2024-08-07T17:00:21.167Z"
   },
   {
    "duration": 5,
    "start_time": "2024-08-07T17:00:21.326Z"
   },
   {
    "duration": 11,
    "start_time": "2024-08-07T17:00:21.333Z"
   },
   {
    "duration": 23,
    "start_time": "2024-08-07T17:00:21.345Z"
   },
   {
    "duration": 144,
    "start_time": "2024-08-07T17:00:21.370Z"
   },
   {
    "duration": 22,
    "start_time": "2024-08-07T17:00:21.515Z"
   },
   {
    "duration": 16,
    "start_time": "2024-08-07T17:00:21.539Z"
   },
   {
    "duration": 56,
    "start_time": "2024-08-07T17:00:21.557Z"
   },
   {
    "duration": 139,
    "start_time": "2024-08-07T17:00:21.615Z"
   },
   {
    "duration": 11,
    "start_time": "2024-08-07T17:00:21.756Z"
   },
   {
    "duration": 4,
    "start_time": "2024-08-07T17:00:21.769Z"
   },
   {
    "duration": 8,
    "start_time": "2024-08-07T17:00:21.774Z"
   },
   {
    "duration": 15,
    "start_time": "2024-08-07T17:00:21.784Z"
   },
   {
    "duration": 6,
    "start_time": "2024-08-07T17:00:21.800Z"
   },
   {
    "duration": 150,
    "start_time": "2024-08-07T17:00:21.808Z"
   },
   {
    "duration": 140,
    "start_time": "2024-08-07T17:00:21.964Z"
   },
   {
    "duration": 237,
    "start_time": "2024-08-07T17:00:22.106Z"
   },
   {
    "duration": 6,
    "start_time": "2024-08-07T17:00:22.344Z"
   },
   {
    "duration": 19,
    "start_time": "2024-08-07T17:00:22.351Z"
   },
   {
    "duration": 145,
    "start_time": "2024-08-07T17:00:22.371Z"
   },
   {
    "duration": 8,
    "start_time": "2024-08-07T17:00:22.517Z"
   },
   {
    "duration": 4,
    "start_time": "2024-08-07T17:00:22.527Z"
   },
   {
    "duration": 3,
    "start_time": "2024-08-07T17:00:22.532Z"
   },
   {
    "duration": 32,
    "start_time": "2024-08-07T17:00:22.537Z"
   },
   {
    "duration": 147,
    "start_time": "2024-08-07T17:00:22.571Z"
   },
   {
    "duration": 157,
    "start_time": "2024-08-07T17:00:22.720Z"
   },
   {
    "duration": 166,
    "start_time": "2024-08-07T17:00:22.879Z"
   },
   {
    "duration": 6,
    "start_time": "2024-08-07T17:00:23.047Z"
   },
   {
    "duration": 178,
    "start_time": "2024-08-07T17:00:23.054Z"
   },
   {
    "duration": 178,
    "start_time": "2024-08-07T17:00:23.234Z"
   },
   {
    "duration": 10,
    "start_time": "2024-08-07T17:00:23.414Z"
   },
   {
    "duration": 155,
    "start_time": "2024-08-07T17:00:23.426Z"
   },
   {
    "duration": 140,
    "start_time": "2024-08-07T17:00:23.583Z"
   },
   {
    "duration": 9,
    "start_time": "2024-08-07T17:00:23.725Z"
   },
   {
    "duration": 173,
    "start_time": "2024-08-07T17:00:23.736Z"
   },
   {
    "duration": 155,
    "start_time": "2024-08-07T17:00:23.911Z"
   },
   {
    "duration": 18,
    "start_time": "2024-08-07T17:00:24.068Z"
   },
   {
    "duration": 228,
    "start_time": "2024-08-07T17:00:24.087Z"
   },
   {
    "duration": 134,
    "start_time": "2024-08-07T17:00:24.317Z"
   },
   {
    "duration": 213,
    "start_time": "2024-08-07T17:00:24.456Z"
   },
   {
    "duration": 280,
    "start_time": "2024-08-07T17:00:24.671Z"
   },
   {
    "duration": 0,
    "start_time": "2024-08-07T17:00:24.953Z"
   },
   {
    "duration": 0,
    "start_time": "2024-08-07T17:00:24.955Z"
   },
   {
    "duration": 0,
    "start_time": "2024-08-07T17:00:24.956Z"
   },
   {
    "duration": 0,
    "start_time": "2024-08-07T17:00:24.957Z"
   },
   {
    "duration": 0,
    "start_time": "2024-08-07T17:00:24.958Z"
   },
   {
    "duration": 0,
    "start_time": "2024-08-07T17:00:24.960Z"
   },
   {
    "duration": 0,
    "start_time": "2024-08-07T17:00:24.961Z"
   },
   {
    "duration": 0,
    "start_time": "2024-08-07T17:00:24.963Z"
   },
   {
    "duration": 0,
    "start_time": "2024-08-07T17:00:24.964Z"
   },
   {
    "duration": 0,
    "start_time": "2024-08-07T17:00:24.965Z"
   },
   {
    "duration": 4,
    "start_time": "2024-08-07T17:00:55.860Z"
   },
   {
    "duration": 91,
    "start_time": "2024-08-07T17:00:56.524Z"
   },
   {
    "duration": 15,
    "start_time": "2024-08-07T17:00:57.834Z"
   },
   {
    "duration": 35,
    "start_time": "2024-08-07T17:00:58.422Z"
   },
   {
    "duration": 1972,
    "start_time": "2024-08-07T17:01:00.174Z"
   },
   {
    "duration": 11,
    "start_time": "2024-08-07T17:01:03.958Z"
   },
   {
    "duration": 6,
    "start_time": "2024-08-07T17:01:04.582Z"
   },
   {
    "duration": 8,
    "start_time": "2024-08-07T17:01:05.626Z"
   },
   {
    "duration": 5,
    "start_time": "2024-08-07T17:01:06.184Z"
   },
   {
    "duration": 5,
    "start_time": "2024-08-07T17:01:06.750Z"
   },
   {
    "duration": 10,
    "start_time": "2024-08-07T17:01:07.949Z"
   },
   {
    "duration": 5,
    "start_time": "2024-08-07T17:01:09.787Z"
   },
   {
    "duration": 5,
    "start_time": "2024-08-07T17:01:10.479Z"
   },
   {
    "duration": 7,
    "start_time": "2024-08-07T17:02:31.407Z"
   },
   {
    "duration": 5,
    "start_time": "2024-08-07T17:02:33.055Z"
   },
   {
    "duration": 8,
    "start_time": "2024-08-07T17:02:33.902Z"
   },
   {
    "duration": 23,
    "start_time": "2024-08-07T17:02:39.902Z"
   },
   {
    "duration": 19,
    "start_time": "2024-08-07T17:02:40.607Z"
   },
   {
    "duration": 19,
    "start_time": "2024-08-07T17:02:41.732Z"
   },
   {
    "duration": 245,
    "start_time": "2024-08-07T17:02:42.279Z"
   },
   {
    "duration": 29,
    "start_time": "2024-08-07T17:02:42.992Z"
   },
   {
    "duration": 7,
    "start_time": "2024-08-07T17:02:45.217Z"
   },
   {
    "duration": 6,
    "start_time": "2024-08-07T17:02:46.165Z"
   },
   {
    "duration": 6,
    "start_time": "2024-08-07T17:02:47.254Z"
   },
   {
    "duration": 5,
    "start_time": "2024-08-07T17:02:48.130Z"
   },
   {
    "duration": 333,
    "start_time": "2024-08-07T17:02:48.962Z"
   },
   {
    "duration": 6,
    "start_time": "2024-08-07T17:02:50.089Z"
   },
   {
    "duration": 10,
    "start_time": "2024-08-07T17:02:52.344Z"
   },
   {
    "duration": 8,
    "start_time": "2024-08-07T17:02:52.855Z"
   },
   {
    "duration": 134,
    "start_time": "2024-08-07T17:02:53.559Z"
   },
   {
    "duration": 127,
    "start_time": "2024-08-07T17:02:54.990Z"
   },
   {
    "duration": 136,
    "start_time": "2024-08-07T17:02:55.671Z"
   },
   {
    "duration": 154,
    "start_time": "2024-08-07T17:02:57.027Z"
   },
   {
    "duration": 6,
    "start_time": "2024-08-07T17:02:57.571Z"
   },
   {
    "duration": 10,
    "start_time": "2024-08-07T17:02:59.159Z"
   },
   {
    "duration": 151,
    "start_time": "2024-08-07T17:02:59.639Z"
   },
   {
    "duration": 188,
    "start_time": "2024-08-07T17:03:00.611Z"
   },
   {
    "duration": 179,
    "start_time": "2024-08-07T17:03:01.239Z"
   },
   {
    "duration": 5,
    "start_time": "2024-08-07T17:03:02.327Z"
   },
   {
    "duration": 9,
    "start_time": "2024-08-07T17:09:17.268Z"
   },
   {
    "duration": 240,
    "start_time": "2024-08-07T17:09:18.107Z"
   },
   {
    "duration": 139,
    "start_time": "2024-08-07T17:09:19.570Z"
   },
   {
    "duration": 157,
    "start_time": "2024-08-07T17:09:20.268Z"
   },
   {
    "duration": 6,
    "start_time": "2024-08-07T17:09:20.775Z"
   },
   {
    "duration": 9,
    "start_time": "2024-08-07T17:09:24.003Z"
   },
   {
    "duration": 6,
    "start_time": "2024-08-07T17:09:24.658Z"
   },
   {
    "duration": 132,
    "start_time": "2024-08-07T17:09:25.468Z"
   },
   {
    "duration": 27,
    "start_time": "2024-08-07T17:09:26.722Z"
   },
   {
    "duration": 8,
    "start_time": "2024-08-07T17:09:27.251Z"
   },
   {
    "duration": 42,
    "start_time": "2024-08-07T17:09:28.052Z"
   },
   {
    "duration": 124,
    "start_time": "2024-08-07T17:09:28.891Z"
   },
   {
    "duration": 12,
    "start_time": "2024-08-07T17:09:30.743Z"
   },
   {
    "duration": 4,
    "start_time": "2024-08-07T17:09:31.387Z"
   },
   {
    "duration": 3,
    "start_time": "2024-08-07T17:09:32.919Z"
   },
   {
    "duration": 11,
    "start_time": "2024-08-07T17:09:34.975Z"
   },
   {
    "duration": 6,
    "start_time": "2024-08-07T17:09:36.333Z"
   },
   {
    "duration": 134,
    "start_time": "2024-08-07T17:09:39.003Z"
   },
   {
    "duration": 133,
    "start_time": "2024-08-07T17:09:40.916Z"
   },
   {
    "duration": 163,
    "start_time": "2024-08-07T17:09:41.965Z"
   },
   {
    "duration": 652,
    "start_time": "2024-08-07T17:11:34.803Z"
   },
   {
    "duration": 104,
    "start_time": "2024-08-07T17:11:35.465Z"
   },
   {
    "duration": 15,
    "start_time": "2024-08-07T17:11:35.571Z"
   },
   {
    "duration": 40,
    "start_time": "2024-08-07T17:11:35.588Z"
   },
   {
    "duration": 2026,
    "start_time": "2024-08-07T17:11:35.630Z"
   },
   {
    "duration": 11,
    "start_time": "2024-08-07T17:11:37.658Z"
   },
   {
    "duration": 6,
    "start_time": "2024-08-07T17:11:37.671Z"
   },
   {
    "duration": 8,
    "start_time": "2024-08-07T17:11:37.679Z"
   },
   {
    "duration": 6,
    "start_time": "2024-08-07T17:11:37.688Z"
   },
   {
    "duration": 6,
    "start_time": "2024-08-07T17:11:37.696Z"
   },
   {
    "duration": 9,
    "start_time": "2024-08-07T17:11:37.703Z"
   },
   {
    "duration": 7,
    "start_time": "2024-08-07T17:11:37.713Z"
   },
   {
    "duration": 5,
    "start_time": "2024-08-07T17:11:37.721Z"
   },
   {
    "duration": 10,
    "start_time": "2024-08-07T17:11:37.764Z"
   },
   {
    "duration": 5,
    "start_time": "2024-08-07T17:11:37.775Z"
   },
   {
    "duration": 7,
    "start_time": "2024-08-07T17:11:37.782Z"
   },
   {
    "duration": 26,
    "start_time": "2024-08-07T17:11:37.791Z"
   },
   {
    "duration": 51,
    "start_time": "2024-08-07T17:11:37.818Z"
   },
   {
    "duration": 21,
    "start_time": "2024-08-07T17:11:37.870Z"
   },
   {
    "duration": 288,
    "start_time": "2024-08-07T17:11:37.893Z"
   },
   {
    "duration": 32,
    "start_time": "2024-08-07T17:11:38.183Z"
   },
   {
    "duration": 9,
    "start_time": "2024-08-07T17:11:38.217Z"
   },
   {
    "duration": 9,
    "start_time": "2024-08-07T17:11:38.228Z"
   },
   {
    "duration": 27,
    "start_time": "2024-08-07T17:11:38.239Z"
   },
   {
    "duration": 5,
    "start_time": "2024-08-07T17:11:38.268Z"
   },
   {
    "duration": 413,
    "start_time": "2024-08-07T17:11:38.275Z"
   },
   {
    "duration": 7,
    "start_time": "2024-08-07T17:11:38.690Z"
   },
   {
    "duration": 8,
    "start_time": "2024-08-07T17:11:38.701Z"
   },
   {
    "duration": 7,
    "start_time": "2024-08-07T17:11:38.711Z"
   },
   {
    "duration": 162,
    "start_time": "2024-08-07T17:11:38.720Z"
   },
   {
    "duration": 135,
    "start_time": "2024-08-07T17:11:38.883Z"
   },
   {
    "duration": 145,
    "start_time": "2024-08-07T17:11:39.020Z"
   },
   {
    "duration": 236,
    "start_time": "2024-08-07T17:11:39.166Z"
   },
   {
    "duration": 5,
    "start_time": "2024-08-07T17:11:39.404Z"
   },
   {
    "duration": 9,
    "start_time": "2024-08-07T17:11:39.411Z"
   },
   {
    "duration": 174,
    "start_time": "2024-08-07T17:11:39.421Z"
   },
   {
    "duration": 150,
    "start_time": "2024-08-07T17:11:39.596Z"
   },
   {
    "duration": 185,
    "start_time": "2024-08-07T17:11:39.748Z"
   },
   {
    "duration": 7,
    "start_time": "2024-08-07T17:11:39.935Z"
   },
   {
    "duration": 22,
    "start_time": "2024-08-07T17:11:39.943Z"
   },
   {
    "duration": 133,
    "start_time": "2024-08-07T17:11:39.967Z"
   },
   {
    "duration": 133,
    "start_time": "2024-08-07T17:11:40.102Z"
   },
   {
    "duration": 172,
    "start_time": "2024-08-07T17:11:40.236Z"
   },
   {
    "duration": 5,
    "start_time": "2024-08-07T17:11:40.410Z"
   },
   {
    "duration": 9,
    "start_time": "2024-08-07T17:11:40.417Z"
   },
   {
    "duration": 5,
    "start_time": "2024-08-07T17:11:40.428Z"
   },
   {
    "duration": 176,
    "start_time": "2024-08-07T17:11:40.434Z"
   },
   {
    "duration": 22,
    "start_time": "2024-08-07T17:11:40.611Z"
   },
   {
    "duration": 11,
    "start_time": "2024-08-07T17:11:40.635Z"
   },
   {
    "duration": 57,
    "start_time": "2024-08-07T17:11:40.647Z"
   },
   {
    "duration": 155,
    "start_time": "2024-08-07T17:11:40.705Z"
   },
   {
    "duration": 8,
    "start_time": "2024-08-07T17:11:40.864Z"
   },
   {
    "duration": 4,
    "start_time": "2024-08-07T17:11:40.873Z"
   },
   {
    "duration": 3,
    "start_time": "2024-08-07T17:11:40.879Z"
   },
   {
    "duration": 13,
    "start_time": "2024-08-07T17:11:40.884Z"
   },
   {
    "duration": 6,
    "start_time": "2024-08-07T17:11:40.899Z"
   },
   {
    "duration": 161,
    "start_time": "2024-08-07T17:11:40.907Z"
   },
   {
    "duration": 151,
    "start_time": "2024-08-07T17:11:41.070Z"
   },
   {
    "duration": 225,
    "start_time": "2024-08-07T17:11:41.222Z"
   },
   {
    "duration": 5,
    "start_time": "2024-08-07T17:11:41.449Z"
   },
   {
    "duration": 8,
    "start_time": "2024-08-07T17:11:41.464Z"
   },
   {
    "duration": 133,
    "start_time": "2024-08-07T17:11:41.474Z"
   },
   {
    "duration": 8,
    "start_time": "2024-08-07T17:11:41.608Z"
   },
   {
    "duration": 5,
    "start_time": "2024-08-07T17:11:41.618Z"
   },
   {
    "duration": 3,
    "start_time": "2024-08-07T17:11:41.625Z"
   },
   {
    "duration": 38,
    "start_time": "2024-08-07T17:11:41.630Z"
   },
   {
    "duration": 139,
    "start_time": "2024-08-07T17:11:41.669Z"
   },
   {
    "duration": 155,
    "start_time": "2024-08-07T17:11:41.810Z"
   },
   {
    "duration": 151,
    "start_time": "2024-08-07T17:11:41.967Z"
   },
   {
    "duration": 5,
    "start_time": "2024-08-07T17:11:42.120Z"
   },
   {
    "duration": 186,
    "start_time": "2024-08-07T17:11:42.127Z"
   },
   {
    "duration": 174,
    "start_time": "2024-08-07T17:11:42.315Z"
   },
   {
    "duration": 9,
    "start_time": "2024-08-07T17:11:42.491Z"
   },
   {
    "duration": 144,
    "start_time": "2024-08-07T17:11:42.501Z"
   },
   {
    "duration": 138,
    "start_time": "2024-08-07T17:11:42.647Z"
   },
   {
    "duration": 9,
    "start_time": "2024-08-07T17:11:42.787Z"
   },
   {
    "duration": 134,
    "start_time": "2024-08-07T17:11:42.797Z"
   },
   {
    "duration": 155,
    "start_time": "2024-08-07T17:11:42.932Z"
   },
   {
    "duration": 19,
    "start_time": "2024-08-07T17:11:43.088Z"
   },
   {
    "duration": 225,
    "start_time": "2024-08-07T17:11:43.109Z"
   },
   {
    "duration": 134,
    "start_time": "2024-08-07T17:11:43.335Z"
   },
   {
    "duration": 202,
    "start_time": "2024-08-07T17:11:43.475Z"
   },
   {
    "duration": 314,
    "start_time": "2024-08-07T17:11:43.679Z"
   },
   {
    "duration": 0,
    "start_time": "2024-08-07T17:11:43.995Z"
   },
   {
    "duration": 0,
    "start_time": "2024-08-07T17:11:43.997Z"
   },
   {
    "duration": 0,
    "start_time": "2024-08-07T17:11:43.998Z"
   },
   {
    "duration": 0,
    "start_time": "2024-08-07T17:11:44.000Z"
   },
   {
    "duration": 0,
    "start_time": "2024-08-07T17:11:44.001Z"
   },
   {
    "duration": 0,
    "start_time": "2024-08-07T17:11:44.003Z"
   },
   {
    "duration": 0,
    "start_time": "2024-08-07T17:11:44.004Z"
   },
   {
    "duration": 0,
    "start_time": "2024-08-07T17:11:44.005Z"
   },
   {
    "duration": 0,
    "start_time": "2024-08-07T17:11:44.007Z"
   },
   {
    "duration": 0,
    "start_time": "2024-08-07T17:11:44.008Z"
   },
   {
    "duration": 156,
    "start_time": "2024-08-07T17:13:36.070Z"
   },
   {
    "duration": 155,
    "start_time": "2024-08-07T17:13:39.391Z"
   },
   {
    "duration": 167,
    "start_time": "2024-08-07T17:13:42.534Z"
   },
   {
    "duration": 36,
    "start_time": "2024-08-07T17:13:47.529Z"
   },
   {
    "duration": 8,
    "start_time": "2024-08-07T17:13:49.734Z"
   },
   {
    "duration": 8,
    "start_time": "2024-08-07T17:13:53.647Z"
   },
   {
    "duration": 60,
    "start_time": "2024-08-07T17:14:57.919Z"
   },
   {
    "duration": 139,
    "start_time": "2024-08-07T17:15:19.047Z"
   },
   {
    "duration": 218,
    "start_time": "2024-08-07T17:24:22.255Z"
   },
   {
    "duration": 1215,
    "start_time": "2024-08-07T17:27:57.184Z"
   },
   {
    "duration": 98,
    "start_time": "2024-08-07T17:27:58.401Z"
   },
   {
    "duration": 16,
    "start_time": "2024-08-07T17:27:58.500Z"
   },
   {
    "duration": 53,
    "start_time": "2024-08-07T17:27:58.518Z"
   },
   {
    "duration": 2079,
    "start_time": "2024-08-07T17:27:58.573Z"
   },
   {
    "duration": 12,
    "start_time": "2024-08-07T17:28:00.654Z"
   },
   {
    "duration": 108,
    "start_time": "2024-08-07T17:28:00.668Z"
   },
   {
    "duration": 66,
    "start_time": "2024-08-07T17:28:00.778Z"
   },
   {
    "duration": 81,
    "start_time": "2024-08-07T17:28:00.846Z"
   },
   {
    "duration": 68,
    "start_time": "2024-08-07T17:28:00.930Z"
   },
   {
    "duration": 188,
    "start_time": "2024-08-07T17:28:00.999Z"
   },
   {
    "duration": 31,
    "start_time": "2024-08-07T17:28:01.188Z"
   },
   {
    "duration": 57,
    "start_time": "2024-08-07T17:28:01.221Z"
   },
   {
    "duration": 41,
    "start_time": "2024-08-07T17:28:01.279Z"
   },
   {
    "duration": 35,
    "start_time": "2024-08-07T17:28:01.322Z"
   },
   {
    "duration": 45,
    "start_time": "2024-08-07T17:28:01.359Z"
   },
   {
    "duration": 92,
    "start_time": "2024-08-07T17:28:01.405Z"
   },
   {
    "duration": 45,
    "start_time": "2024-08-07T17:28:01.498Z"
   },
   {
    "duration": 22,
    "start_time": "2024-08-07T17:28:01.544Z"
   },
   {
    "duration": 252,
    "start_time": "2024-08-07T17:28:01.568Z"
   },
   {
    "duration": 30,
    "start_time": "2024-08-07T17:28:01.822Z"
   },
   {
    "duration": 16,
    "start_time": "2024-08-07T17:28:01.854Z"
   },
   {
    "duration": 50,
    "start_time": "2024-08-07T17:28:01.872Z"
   },
   {
    "duration": 6,
    "start_time": "2024-08-07T17:28:01.924Z"
   },
   {
    "duration": 97,
    "start_time": "2024-08-07T17:28:01.931Z"
   },
   {
    "duration": 343,
    "start_time": "2024-08-07T17:28:02.030Z"
   },
   {
    "duration": 6,
    "start_time": "2024-08-07T17:28:02.375Z"
   },
   {
    "duration": 16,
    "start_time": "2024-08-07T17:28:02.387Z"
   },
   {
    "duration": 18,
    "start_time": "2024-08-07T17:28:02.404Z"
   },
   {
    "duration": 145,
    "start_time": "2024-08-07T17:28:02.424Z"
   },
   {
    "duration": 144,
    "start_time": "2024-08-07T17:28:02.571Z"
   },
   {
    "duration": 161,
    "start_time": "2024-08-07T17:28:02.717Z"
   },
   {
    "duration": 162,
    "start_time": "2024-08-07T17:28:02.879Z"
   },
   {
    "duration": 5,
    "start_time": "2024-08-07T17:28:03.042Z"
   },
   {
    "duration": 31,
    "start_time": "2024-08-07T17:28:03.049Z"
   },
   {
    "duration": 140,
    "start_time": "2024-08-07T17:28:03.081Z"
   },
   {
    "duration": 139,
    "start_time": "2024-08-07T17:28:03.223Z"
   },
   {
    "duration": 174,
    "start_time": "2024-08-07T17:28:03.365Z"
   },
   {
    "duration": 5,
    "start_time": "2024-08-07T17:28:03.541Z"
   },
   {
    "duration": 20,
    "start_time": "2024-08-07T17:28:03.547Z"
   },
   {
    "duration": 282,
    "start_time": "2024-08-07T17:28:03.568Z"
   },
   {
    "duration": 127,
    "start_time": "2024-08-07T17:28:03.852Z"
   },
   {
    "duration": 167,
    "start_time": "2024-08-07T17:28:03.981Z"
   },
   {
    "duration": 6,
    "start_time": "2024-08-07T17:28:04.150Z"
   },
   {
    "duration": 9,
    "start_time": "2024-08-07T17:28:04.165Z"
   },
   {
    "duration": 5,
    "start_time": "2024-08-07T17:28:04.176Z"
   },
   {
    "duration": 158,
    "start_time": "2024-08-07T17:28:04.183Z"
   },
   {
    "duration": 33,
    "start_time": "2024-08-07T17:28:04.342Z"
   },
   {
    "duration": 9,
    "start_time": "2024-08-07T17:28:04.377Z"
   },
   {
    "duration": 40,
    "start_time": "2024-08-07T17:28:04.388Z"
   },
   {
    "duration": 172,
    "start_time": "2024-08-07T17:28:04.430Z"
   },
   {
    "duration": 9,
    "start_time": "2024-08-07T17:28:04.604Z"
   },
   {
    "duration": 4,
    "start_time": "2024-08-07T17:28:04.615Z"
   },
   {
    "duration": 6,
    "start_time": "2024-08-07T17:28:04.621Z"
   },
   {
    "duration": 9,
    "start_time": "2024-08-07T17:28:04.629Z"
   },
   {
    "duration": 31,
    "start_time": "2024-08-07T17:28:04.640Z"
   },
   {
    "duration": 157,
    "start_time": "2024-08-07T17:28:04.673Z"
   },
   {
    "duration": 154,
    "start_time": "2024-08-07T17:28:04.832Z"
   },
   {
    "duration": 171,
    "start_time": "2024-08-07T17:28:04.987Z"
   },
   {
    "duration": 8,
    "start_time": "2024-08-07T17:28:05.160Z"
   },
   {
    "duration": 9,
    "start_time": "2024-08-07T17:28:05.169Z"
   },
   {
    "duration": 146,
    "start_time": "2024-08-07T17:28:05.179Z"
   },
   {
    "duration": 9,
    "start_time": "2024-08-07T17:28:05.326Z"
   },
   {
    "duration": 4,
    "start_time": "2024-08-07T17:28:05.337Z"
   },
   {
    "duration": 22,
    "start_time": "2024-08-07T17:28:05.343Z"
   },
   {
    "duration": 10,
    "start_time": "2024-08-07T17:28:05.367Z"
   },
   {
    "duration": 162,
    "start_time": "2024-08-07T17:28:05.378Z"
   },
   {
    "duration": 149,
    "start_time": "2024-08-07T17:28:05.541Z"
   },
   {
    "duration": 251,
    "start_time": "2024-08-07T17:28:05.692Z"
   },
   {
    "duration": 6,
    "start_time": "2024-08-07T17:28:05.944Z"
   },
   {
    "duration": 273,
    "start_time": "2024-08-07T17:28:05.951Z"
   },
   {
    "duration": 187,
    "start_time": "2024-08-07T17:28:06.226Z"
   },
   {
    "duration": 10,
    "start_time": "2024-08-07T17:28:06.415Z"
   },
   {
    "duration": 153,
    "start_time": "2024-08-07T17:28:06.427Z"
   },
   {
    "duration": 140,
    "start_time": "2024-08-07T17:28:06.582Z"
   },
   {
    "duration": 10,
    "start_time": "2024-08-07T17:28:06.723Z"
   },
   {
    "duration": 145,
    "start_time": "2024-08-07T17:28:06.734Z"
   },
   {
    "duration": 148,
    "start_time": "2024-08-07T17:28:06.881Z"
   },
   {
    "duration": 19,
    "start_time": "2024-08-07T17:28:07.031Z"
   },
   {
    "duration": 155,
    "start_time": "2024-08-07T17:28:07.051Z"
   },
   {
    "duration": 130,
    "start_time": "2024-08-07T17:28:07.208Z"
   },
   {
    "duration": 206,
    "start_time": "2024-08-07T17:28:07.343Z"
   },
   {
    "duration": 325,
    "start_time": "2024-08-07T17:28:07.551Z"
   },
   {
    "duration": 0,
    "start_time": "2024-08-07T17:28:07.877Z"
   },
   {
    "duration": 0,
    "start_time": "2024-08-07T17:28:07.878Z"
   },
   {
    "duration": 0,
    "start_time": "2024-08-07T17:28:07.880Z"
   },
   {
    "duration": 0,
    "start_time": "2024-08-07T17:28:07.881Z"
   },
   {
    "duration": 0,
    "start_time": "2024-08-07T17:28:07.882Z"
   },
   {
    "duration": 0,
    "start_time": "2024-08-07T17:28:07.883Z"
   },
   {
    "duration": 0,
    "start_time": "2024-08-07T17:28:07.884Z"
   },
   {
    "duration": 0,
    "start_time": "2024-08-07T17:28:07.886Z"
   },
   {
    "duration": 0,
    "start_time": "2024-08-07T17:28:07.887Z"
   },
   {
    "duration": 0,
    "start_time": "2024-08-07T17:28:07.888Z"
   },
   {
    "duration": 0,
    "start_time": "2024-08-07T17:28:07.889Z"
   },
   {
    "duration": 167,
    "start_time": "2024-08-07T17:28:16.332Z"
   },
   {
    "duration": 230,
    "start_time": "2024-08-07T17:28:16.826Z"
   },
   {
    "duration": 155,
    "start_time": "2024-08-07T17:28:17.300Z"
   },
   {
    "duration": 24,
    "start_time": "2024-08-07T17:28:20.798Z"
   },
   {
    "duration": 8,
    "start_time": "2024-08-07T17:28:21.339Z"
   },
   {
    "duration": 8,
    "start_time": "2024-08-07T17:28:24.631Z"
   },
   {
    "duration": 56,
    "start_time": "2024-08-07T17:28:26.751Z"
   },
   {
    "duration": 13,
    "start_time": "2024-08-07T17:28:27.429Z"
   },
   {
    "duration": 13,
    "start_time": "2024-08-07T17:29:21.761Z"
   },
   {
    "duration": 12,
    "start_time": "2024-08-07T17:29:33.633Z"
   },
   {
    "duration": 26,
    "start_time": "2024-08-07T17:29:52.734Z"
   },
   {
    "duration": 8,
    "start_time": "2024-08-07T17:29:53.185Z"
   },
   {
    "duration": 9,
    "start_time": "2024-08-07T17:29:54.184Z"
   },
   {
    "duration": 12,
    "start_time": "2024-08-07T17:29:58.928Z"
   },
   {
    "duration": 12,
    "start_time": "2024-08-07T17:31:37.188Z"
   },
   {
    "duration": 160,
    "start_time": "2024-08-07T17:31:51.387Z"
   },
   {
    "duration": 12,
    "start_time": "2024-08-07T17:32:11.533Z"
   },
   {
    "duration": 168,
    "start_time": "2024-08-07T17:32:21.891Z"
   },
   {
    "duration": 1504,
    "start_time": "2024-08-08T17:18:04.244Z"
   },
   {
    "duration": 182,
    "start_time": "2024-08-08T17:18:05.751Z"
   },
   {
    "duration": 17,
    "start_time": "2024-08-08T17:18:05.936Z"
   },
   {
    "duration": 42,
    "start_time": "2024-08-08T17:18:05.955Z"
   },
   {
    "duration": 2168,
    "start_time": "2024-08-08T17:18:06.000Z"
   },
   {
    "duration": 10,
    "start_time": "2024-08-08T17:18:08.170Z"
   },
   {
    "duration": 12,
    "start_time": "2024-08-08T17:18:08.182Z"
   },
   {
    "duration": 8,
    "start_time": "2024-08-08T17:18:08.196Z"
   },
   {
    "duration": 10,
    "start_time": "2024-08-08T17:18:08.206Z"
   },
   {
    "duration": 6,
    "start_time": "2024-08-08T17:18:08.217Z"
   },
   {
    "duration": 7,
    "start_time": "2024-08-08T17:18:08.225Z"
   },
   {
    "duration": 26,
    "start_time": "2024-08-08T17:18:08.234Z"
   },
   {
    "duration": 28,
    "start_time": "2024-08-08T17:18:08.262Z"
   },
   {
    "duration": 11,
    "start_time": "2024-08-08T17:18:08.294Z"
   },
   {
    "duration": 19,
    "start_time": "2024-08-08T17:18:08.308Z"
   },
   {
    "duration": 10,
    "start_time": "2024-08-08T17:18:08.330Z"
   },
   {
    "duration": 30,
    "start_time": "2024-08-08T17:18:08.342Z"
   },
   {
    "duration": 22,
    "start_time": "2024-08-08T17:18:08.373Z"
   },
   {
    "duration": 15,
    "start_time": "2024-08-08T17:18:08.397Z"
   },
   {
    "duration": 273,
    "start_time": "2024-08-08T17:18:08.414Z"
   },
   {
    "duration": 29,
    "start_time": "2024-08-08T17:18:08.689Z"
   },
   {
    "duration": 7,
    "start_time": "2024-08-08T17:18:08.719Z"
   },
   {
    "duration": 6,
    "start_time": "2024-08-08T17:18:08.727Z"
   },
   {
    "duration": 6,
    "start_time": "2024-08-08T17:18:08.756Z"
   },
   {
    "duration": 6,
    "start_time": "2024-08-08T17:18:08.763Z"
   },
   {
    "duration": 350,
    "start_time": "2024-08-08T17:18:08.771Z"
   },
   {
    "duration": 7,
    "start_time": "2024-08-08T17:18:09.123Z"
   },
   {
    "duration": 65,
    "start_time": "2024-08-08T17:18:09.132Z"
   },
   {
    "duration": 8,
    "start_time": "2024-08-08T17:18:09.199Z"
   },
   {
    "duration": 143,
    "start_time": "2024-08-08T17:18:09.208Z"
   },
   {
    "duration": 148,
    "start_time": "2024-08-08T17:18:09.355Z"
   },
   {
    "duration": 146,
    "start_time": "2024-08-08T17:18:09.505Z"
   },
   {
    "duration": 170,
    "start_time": "2024-08-08T17:18:09.656Z"
   },
   {
    "duration": 5,
    "start_time": "2024-08-08T17:18:09.828Z"
   },
   {
    "duration": 26,
    "start_time": "2024-08-08T17:18:09.835Z"
   },
   {
    "duration": 163,
    "start_time": "2024-08-08T17:18:09.862Z"
   },
   {
    "duration": 165,
    "start_time": "2024-08-08T17:18:10.027Z"
   },
   {
    "duration": 188,
    "start_time": "2024-08-08T17:18:10.194Z"
   },
   {
    "duration": 5,
    "start_time": "2024-08-08T17:18:10.384Z"
   },
   {
    "duration": 9,
    "start_time": "2024-08-08T17:18:10.391Z"
   },
   {
    "duration": 298,
    "start_time": "2024-08-08T17:18:10.405Z"
   },
   {
    "duration": 154,
    "start_time": "2024-08-08T17:18:10.704Z"
   },
   {
    "duration": 176,
    "start_time": "2024-08-08T17:18:10.860Z"
   },
   {
    "duration": 28,
    "start_time": "2024-08-08T17:18:11.038Z"
   },
   {
    "duration": 11,
    "start_time": "2024-08-08T17:18:11.068Z"
   },
   {
    "duration": 104,
    "start_time": "2024-08-08T17:18:11.081Z"
   },
   {
    "duration": 169,
    "start_time": "2024-08-08T17:18:11.187Z"
   },
   {
    "duration": 27,
    "start_time": "2024-08-08T17:18:11.358Z"
   },
   {
    "duration": 7,
    "start_time": "2024-08-08T17:18:11.387Z"
   },
   {
    "duration": 88,
    "start_time": "2024-08-08T17:18:11.397Z"
   },
   {
    "duration": 161,
    "start_time": "2024-08-08T17:18:11.487Z"
   },
   {
    "duration": 11,
    "start_time": "2024-08-08T17:18:11.650Z"
   },
   {
    "duration": 7,
    "start_time": "2024-08-08T17:18:11.663Z"
   },
   {
    "duration": 6,
    "start_time": "2024-08-08T17:18:11.672Z"
   },
   {
    "duration": 9,
    "start_time": "2024-08-08T17:18:11.681Z"
   },
   {
    "duration": 17,
    "start_time": "2024-08-08T17:18:11.693Z"
   },
   {
    "duration": 182,
    "start_time": "2024-08-08T17:18:11.712Z"
   },
   {
    "duration": 168,
    "start_time": "2024-08-08T17:18:11.897Z"
   },
   {
    "duration": 197,
    "start_time": "2024-08-08T17:18:12.067Z"
   },
   {
    "duration": 6,
    "start_time": "2024-08-08T17:18:12.265Z"
   },
   {
    "duration": 10,
    "start_time": "2024-08-08T17:18:12.272Z"
   },
   {
    "duration": 175,
    "start_time": "2024-08-08T17:18:12.283Z"
   },
   {
    "duration": 10,
    "start_time": "2024-08-08T17:18:12.460Z"
   },
   {
    "duration": 19,
    "start_time": "2024-08-08T17:18:12.472Z"
   },
   {
    "duration": 16,
    "start_time": "2024-08-08T17:18:12.492Z"
   },
   {
    "duration": 20,
    "start_time": "2024-08-08T17:18:12.509Z"
   },
   {
    "duration": 147,
    "start_time": "2024-08-08T17:18:12.531Z"
   },
   {
    "duration": 166,
    "start_time": "2024-08-08T17:18:12.680Z"
   },
   {
    "duration": 262,
    "start_time": "2024-08-08T17:18:12.855Z"
   },
   {
    "duration": 6,
    "start_time": "2024-08-08T17:18:13.119Z"
   },
   {
    "duration": 246,
    "start_time": "2024-08-08T17:18:13.127Z"
   },
   {
    "duration": 181,
    "start_time": "2024-08-08T17:18:13.374Z"
   },
   {
    "duration": 12,
    "start_time": "2024-08-08T17:18:13.557Z"
   },
   {
    "duration": 163,
    "start_time": "2024-08-08T17:18:13.571Z"
   },
   {
    "duration": 149,
    "start_time": "2024-08-08T17:18:13.736Z"
   },
   {
    "duration": 10,
    "start_time": "2024-08-08T17:18:13.887Z"
   },
   {
    "duration": 159,
    "start_time": "2024-08-08T17:18:13.899Z"
   },
   {
    "duration": 164,
    "start_time": "2024-08-08T17:18:14.060Z"
   },
   {
    "duration": 29,
    "start_time": "2024-08-08T17:18:14.226Z"
   },
   {
    "duration": 177,
    "start_time": "2024-08-08T17:18:14.258Z"
   },
   {
    "duration": 138,
    "start_time": "2024-08-08T17:18:14.436Z"
   },
   {
    "duration": 212,
    "start_time": "2024-08-08T17:18:14.576Z"
   },
   {
    "duration": 1011,
    "start_time": "2024-08-08T17:18:14.789Z"
   },
   {
    "duration": 0,
    "start_time": "2024-08-08T17:18:15.802Z"
   },
   {
    "duration": 0,
    "start_time": "2024-08-08T17:18:15.804Z"
   },
   {
    "duration": 0,
    "start_time": "2024-08-08T17:18:15.805Z"
   },
   {
    "duration": 0,
    "start_time": "2024-08-08T17:18:15.806Z"
   },
   {
    "duration": 0,
    "start_time": "2024-08-08T17:18:15.807Z"
   },
   {
    "duration": 0,
    "start_time": "2024-08-08T17:18:15.808Z"
   },
   {
    "duration": 0,
    "start_time": "2024-08-08T17:18:15.810Z"
   },
   {
    "duration": 0,
    "start_time": "2024-08-08T17:18:15.815Z"
   },
   {
    "duration": 0,
    "start_time": "2024-08-08T17:18:15.816Z"
   },
   {
    "duration": 0,
    "start_time": "2024-08-08T17:18:15.817Z"
   },
   {
    "duration": 1230,
    "start_time": "2024-08-08T17:22:09.845Z"
   },
   {
    "duration": 107,
    "start_time": "2024-08-08T17:22:11.077Z"
   },
   {
    "duration": 21,
    "start_time": "2024-08-08T17:22:11.185Z"
   },
   {
    "duration": 55,
    "start_time": "2024-08-08T17:22:11.208Z"
   },
   {
    "duration": 2246,
    "start_time": "2024-08-08T17:22:11.266Z"
   },
   {
    "duration": 11,
    "start_time": "2024-08-08T17:22:13.514Z"
   },
   {
    "duration": 21,
    "start_time": "2024-08-08T17:22:13.526Z"
   },
   {
    "duration": 9,
    "start_time": "2024-08-08T17:22:13.548Z"
   },
   {
    "duration": 6,
    "start_time": "2024-08-08T17:22:13.558Z"
   },
   {
    "duration": 8,
    "start_time": "2024-08-08T17:22:13.565Z"
   },
   {
    "duration": 8,
    "start_time": "2024-08-08T17:22:13.575Z"
   },
   {
    "duration": 11,
    "start_time": "2024-08-08T17:22:13.584Z"
   },
   {
    "duration": 5,
    "start_time": "2024-08-08T17:22:13.596Z"
   },
   {
    "duration": 13,
    "start_time": "2024-08-08T17:22:13.604Z"
   },
   {
    "duration": 21,
    "start_time": "2024-08-08T17:22:13.619Z"
   },
   {
    "duration": 31,
    "start_time": "2024-08-08T17:22:13.642Z"
   },
   {
    "duration": 27,
    "start_time": "2024-08-08T17:22:13.675Z"
   },
   {
    "duration": 23,
    "start_time": "2024-08-08T17:22:13.704Z"
   },
   {
    "duration": 40,
    "start_time": "2024-08-08T17:22:13.729Z"
   },
   {
    "duration": 259,
    "start_time": "2024-08-08T17:22:13.772Z"
   },
   {
    "duration": 37,
    "start_time": "2024-08-08T17:22:14.033Z"
   },
   {
    "duration": 6,
    "start_time": "2024-08-08T17:22:14.072Z"
   },
   {
    "duration": 60,
    "start_time": "2024-08-08T17:22:14.080Z"
   },
   {
    "duration": 13,
    "start_time": "2024-08-08T17:22:14.142Z"
   },
   {
    "duration": 6,
    "start_time": "2024-08-08T17:22:14.156Z"
   },
   {
    "duration": 380,
    "start_time": "2024-08-08T17:22:14.164Z"
   },
   {
    "duration": 10,
    "start_time": "2024-08-08T17:22:14.545Z"
   },
   {
    "duration": 9,
    "start_time": "2024-08-08T17:22:14.557Z"
   },
   {
    "duration": 11,
    "start_time": "2024-08-08T17:22:14.568Z"
   },
   {
    "duration": 182,
    "start_time": "2024-08-08T17:22:14.581Z"
   },
   {
    "duration": 149,
    "start_time": "2024-08-08T17:22:14.764Z"
   },
   {
    "duration": 145,
    "start_time": "2024-08-08T17:22:14.915Z"
   },
   {
    "duration": 177,
    "start_time": "2024-08-08T17:22:15.061Z"
   },
   {
    "duration": 14,
    "start_time": "2024-08-08T17:22:15.241Z"
   },
   {
    "duration": 44,
    "start_time": "2024-08-08T17:22:15.257Z"
   },
   {
    "duration": 162,
    "start_time": "2024-08-08T17:22:15.302Z"
   },
   {
    "duration": 159,
    "start_time": "2024-08-08T17:22:15.465Z"
   },
   {
    "duration": 198,
    "start_time": "2024-08-08T17:22:15.626Z"
   },
   {
    "duration": 5,
    "start_time": "2024-08-08T17:22:15.826Z"
   },
   {
    "duration": 30,
    "start_time": "2024-08-08T17:22:15.833Z"
   },
   {
    "duration": 289,
    "start_time": "2024-08-08T17:22:15.868Z"
   },
   {
    "duration": 138,
    "start_time": "2024-08-08T17:22:16.158Z"
   },
   {
    "duration": 178,
    "start_time": "2024-08-08T17:22:16.298Z"
   },
   {
    "duration": 5,
    "start_time": "2024-08-08T17:22:16.478Z"
   },
   {
    "duration": 19,
    "start_time": "2024-08-08T17:22:16.485Z"
   },
   {
    "duration": 6,
    "start_time": "2024-08-08T17:22:16.505Z"
   },
   {
    "duration": 155,
    "start_time": "2024-08-08T17:22:16.513Z"
   },
   {
    "duration": 23,
    "start_time": "2024-08-08T17:22:16.670Z"
   },
   {
    "duration": 15,
    "start_time": "2024-08-08T17:22:16.694Z"
   },
   {
    "duration": 52,
    "start_time": "2024-08-08T17:22:16.711Z"
   },
   {
    "duration": 145,
    "start_time": "2024-08-08T17:22:16.765Z"
   },
   {
    "duration": 9,
    "start_time": "2024-08-08T17:22:16.911Z"
   },
   {
    "duration": 38,
    "start_time": "2024-08-08T17:22:16.922Z"
   },
   {
    "duration": 13,
    "start_time": "2024-08-08T17:22:16.961Z"
   },
   {
    "duration": 11,
    "start_time": "2024-08-08T17:22:16.976Z"
   },
   {
    "duration": 21,
    "start_time": "2024-08-08T17:22:16.989Z"
   },
   {
    "duration": 149,
    "start_time": "2024-08-08T17:22:17.012Z"
   },
   {
    "duration": 161,
    "start_time": "2024-08-08T17:22:17.163Z"
   },
   {
    "duration": 189,
    "start_time": "2024-08-08T17:22:17.325Z"
   },
   {
    "duration": 6,
    "start_time": "2024-08-08T17:22:17.516Z"
   },
   {
    "duration": 36,
    "start_time": "2024-08-08T17:22:17.526Z"
   },
   {
    "duration": 156,
    "start_time": "2024-08-08T17:22:17.564Z"
   },
   {
    "duration": 9,
    "start_time": "2024-08-08T17:22:17.722Z"
   },
   {
    "duration": 24,
    "start_time": "2024-08-08T17:22:17.732Z"
   },
   {
    "duration": 18,
    "start_time": "2024-08-08T17:22:17.757Z"
   },
   {
    "duration": 30,
    "start_time": "2024-08-08T17:22:17.776Z"
   },
   {
    "duration": 152,
    "start_time": "2024-08-08T17:22:17.808Z"
   },
   {
    "duration": 154,
    "start_time": "2024-08-08T17:22:17.962Z"
   },
   {
    "duration": 256,
    "start_time": "2024-08-08T17:22:18.117Z"
   },
   {
    "duration": 5,
    "start_time": "2024-08-08T17:22:18.375Z"
   },
   {
    "duration": 197,
    "start_time": "2024-08-08T17:22:18.381Z"
   },
   {
    "duration": 188,
    "start_time": "2024-08-08T17:22:18.580Z"
   },
   {
    "duration": 10,
    "start_time": "2024-08-08T17:22:18.769Z"
   },
   {
    "duration": 165,
    "start_time": "2024-08-08T17:22:18.781Z"
   },
   {
    "duration": 150,
    "start_time": "2024-08-08T17:22:18.948Z"
   },
   {
    "duration": 10,
    "start_time": "2024-08-08T17:22:19.099Z"
   },
   {
    "duration": 154,
    "start_time": "2024-08-08T17:22:19.110Z"
   },
   {
    "duration": 151,
    "start_time": "2024-08-08T17:22:19.265Z"
   },
   {
    "duration": 20,
    "start_time": "2024-08-08T17:22:19.418Z"
   },
   {
    "duration": 165,
    "start_time": "2024-08-08T17:22:19.439Z"
   },
   {
    "duration": 134,
    "start_time": "2024-08-08T17:22:19.606Z"
   },
   {
    "duration": 203,
    "start_time": "2024-08-08T17:22:19.742Z"
   },
   {
    "duration": 336,
    "start_time": "2024-08-08T17:22:19.947Z"
   },
   {
    "duration": 0,
    "start_time": "2024-08-08T17:22:20.285Z"
   },
   {
    "duration": 0,
    "start_time": "2024-08-08T17:22:20.286Z"
   },
   {
    "duration": 0,
    "start_time": "2024-08-08T17:22:20.287Z"
   },
   {
    "duration": 0,
    "start_time": "2024-08-08T17:22:20.289Z"
   },
   {
    "duration": 0,
    "start_time": "2024-08-08T17:22:20.290Z"
   },
   {
    "duration": 0,
    "start_time": "2024-08-08T17:22:20.291Z"
   },
   {
    "duration": 0,
    "start_time": "2024-08-08T17:22:20.292Z"
   },
   {
    "duration": 0,
    "start_time": "2024-08-08T17:22:20.293Z"
   },
   {
    "duration": 0,
    "start_time": "2024-08-08T17:22:20.294Z"
   },
   {
    "duration": 0,
    "start_time": "2024-08-08T17:22:20.295Z"
   },
   {
    "duration": 224,
    "start_time": "2024-08-08T17:24:28.974Z"
   },
   {
    "duration": 125,
    "start_time": "2024-08-08T17:28:47.221Z"
   },
   {
    "duration": 294,
    "start_time": "2024-08-08T17:53:17.648Z"
   },
   {
    "duration": 58,
    "start_time": "2024-08-08T18:15:13.586Z"
   },
   {
    "duration": 56,
    "start_time": "2024-08-08T18:27:13.115Z"
   },
   {
    "duration": 1390,
    "start_time": "2024-08-08T18:27:18.859Z"
   },
   {
    "duration": 318,
    "start_time": "2024-08-08T18:27:20.252Z"
   },
   {
    "duration": 15,
    "start_time": "2024-08-08T18:27:20.572Z"
   },
   {
    "duration": 88,
    "start_time": "2024-08-08T18:27:20.588Z"
   },
   {
    "duration": 1848,
    "start_time": "2024-08-08T18:27:20.678Z"
   },
   {
    "duration": 9,
    "start_time": "2024-08-08T18:27:22.528Z"
   },
   {
    "duration": 59,
    "start_time": "2024-08-08T18:27:22.539Z"
   },
   {
    "duration": 38,
    "start_time": "2024-08-08T18:27:22.600Z"
   },
   {
    "duration": 8,
    "start_time": "2024-08-08T18:27:22.639Z"
   },
   {
    "duration": 8,
    "start_time": "2024-08-08T18:27:22.650Z"
   },
   {
    "duration": 21,
    "start_time": "2024-08-08T18:27:22.659Z"
   },
   {
    "duration": 33,
    "start_time": "2024-08-08T18:27:22.681Z"
   },
   {
    "duration": 25,
    "start_time": "2024-08-08T18:27:22.716Z"
   },
   {
    "duration": 23,
    "start_time": "2024-08-08T18:27:22.743Z"
   },
   {
    "duration": 38,
    "start_time": "2024-08-08T18:27:22.767Z"
   },
   {
    "duration": 23,
    "start_time": "2024-08-08T18:27:22.807Z"
   },
   {
    "duration": 71,
    "start_time": "2024-08-08T18:27:22.832Z"
   },
   {
    "duration": 19,
    "start_time": "2024-08-08T18:27:22.905Z"
   },
   {
    "duration": 21,
    "start_time": "2024-08-08T18:27:22.925Z"
   },
   {
    "duration": 248,
    "start_time": "2024-08-08T18:27:22.947Z"
   },
   {
    "duration": 29,
    "start_time": "2024-08-08T18:27:23.197Z"
   },
   {
    "duration": 20,
    "start_time": "2024-08-08T18:27:23.229Z"
   },
   {
    "duration": 41,
    "start_time": "2024-08-08T18:27:23.250Z"
   },
   {
    "duration": 8,
    "start_time": "2024-08-08T18:27:23.292Z"
   },
   {
    "duration": 9,
    "start_time": "2024-08-08T18:27:23.301Z"
   },
   {
    "duration": 304,
    "start_time": "2024-08-08T18:27:23.311Z"
   },
   {
    "duration": 6,
    "start_time": "2024-08-08T18:27:23.617Z"
   },
   {
    "duration": 61,
    "start_time": "2024-08-08T18:27:23.627Z"
   },
   {
    "duration": 40,
    "start_time": "2024-08-08T18:27:23.689Z"
   },
   {
    "duration": 124,
    "start_time": "2024-08-08T18:27:23.730Z"
   },
   {
    "duration": 131,
    "start_time": "2024-08-08T18:27:23.855Z"
   },
   {
    "duration": 136,
    "start_time": "2024-08-08T18:27:23.988Z"
   },
   {
    "duration": 153,
    "start_time": "2024-08-08T18:27:24.125Z"
   },
   {
    "duration": 5,
    "start_time": "2024-08-08T18:27:24.281Z"
   },
   {
    "duration": 9,
    "start_time": "2024-08-08T18:27:24.287Z"
   },
   {
    "duration": 158,
    "start_time": "2024-08-08T18:27:24.298Z"
   },
   {
    "duration": 140,
    "start_time": "2024-08-08T18:27:24.458Z"
   },
   {
    "duration": 169,
    "start_time": "2024-08-08T18:27:24.599Z"
   },
   {
    "duration": 5,
    "start_time": "2024-08-08T18:27:24.770Z"
   },
   {
    "duration": 13,
    "start_time": "2024-08-08T18:27:24.776Z"
   },
   {
    "duration": 251,
    "start_time": "2024-08-08T18:27:24.790Z"
   },
   {
    "duration": 126,
    "start_time": "2024-08-08T18:27:25.042Z"
   },
   {
    "duration": 148,
    "start_time": "2024-08-08T18:27:25.170Z"
   },
   {
    "duration": 5,
    "start_time": "2024-08-08T18:27:25.320Z"
   },
   {
    "duration": 18,
    "start_time": "2024-08-08T18:27:25.327Z"
   },
   {
    "duration": 7,
    "start_time": "2024-08-08T18:27:25.346Z"
   },
   {
    "duration": 136,
    "start_time": "2024-08-08T18:27:25.355Z"
   },
   {
    "duration": 23,
    "start_time": "2024-08-08T18:27:25.492Z"
   },
   {
    "duration": 19,
    "start_time": "2024-08-08T18:27:25.517Z"
   },
   {
    "duration": 49,
    "start_time": "2024-08-08T18:27:25.538Z"
   },
   {
    "duration": 136,
    "start_time": "2024-08-08T18:27:25.589Z"
   },
   {
    "duration": 64,
    "start_time": "2024-08-08T18:27:25.726Z"
   },
   {
    "duration": 0,
    "start_time": "2024-08-08T18:27:25.792Z"
   },
   {
    "duration": 0,
    "start_time": "2024-08-08T18:27:25.793Z"
   },
   {
    "duration": 0,
    "start_time": "2024-08-08T18:27:25.794Z"
   },
   {
    "duration": 0,
    "start_time": "2024-08-08T18:27:25.795Z"
   },
   {
    "duration": 0,
    "start_time": "2024-08-08T18:27:25.796Z"
   },
   {
    "duration": 0,
    "start_time": "2024-08-08T18:27:25.797Z"
   },
   {
    "duration": 0,
    "start_time": "2024-08-08T18:27:25.798Z"
   },
   {
    "duration": 0,
    "start_time": "2024-08-08T18:27:25.799Z"
   },
   {
    "duration": 0,
    "start_time": "2024-08-08T18:27:25.800Z"
   },
   {
    "duration": 0,
    "start_time": "2024-08-08T18:27:25.800Z"
   },
   {
    "duration": 1,
    "start_time": "2024-08-08T18:27:25.801Z"
   },
   {
    "duration": 0,
    "start_time": "2024-08-08T18:27:25.803Z"
   },
   {
    "duration": 0,
    "start_time": "2024-08-08T18:27:25.803Z"
   },
   {
    "duration": 0,
    "start_time": "2024-08-08T18:27:25.804Z"
   },
   {
    "duration": 0,
    "start_time": "2024-08-08T18:27:25.805Z"
   },
   {
    "duration": 0,
    "start_time": "2024-08-08T18:27:25.806Z"
   },
   {
    "duration": 0,
    "start_time": "2024-08-08T18:27:25.807Z"
   },
   {
    "duration": 0,
    "start_time": "2024-08-08T18:27:25.808Z"
   },
   {
    "duration": 0,
    "start_time": "2024-08-08T18:27:25.809Z"
   },
   {
    "duration": 0,
    "start_time": "2024-08-08T18:27:25.810Z"
   },
   {
    "duration": 0,
    "start_time": "2024-08-08T18:27:25.811Z"
   },
   {
    "duration": 0,
    "start_time": "2024-08-08T18:27:25.812Z"
   },
   {
    "duration": 0,
    "start_time": "2024-08-08T18:27:25.813Z"
   },
   {
    "duration": 0,
    "start_time": "2024-08-08T18:27:25.813Z"
   },
   {
    "duration": 0,
    "start_time": "2024-08-08T18:27:25.814Z"
   },
   {
    "duration": 0,
    "start_time": "2024-08-08T18:27:25.815Z"
   },
   {
    "duration": 0,
    "start_time": "2024-08-08T18:27:25.816Z"
   },
   {
    "duration": 0,
    "start_time": "2024-08-08T18:27:25.817Z"
   },
   {
    "duration": 0,
    "start_time": "2024-08-08T18:27:25.818Z"
   },
   {
    "duration": 0,
    "start_time": "2024-08-08T18:27:25.818Z"
   },
   {
    "duration": 0,
    "start_time": "2024-08-08T18:27:25.819Z"
   },
   {
    "duration": 0,
    "start_time": "2024-08-08T18:27:25.820Z"
   },
   {
    "duration": 0,
    "start_time": "2024-08-08T18:27:25.821Z"
   },
   {
    "duration": 0,
    "start_time": "2024-08-08T18:27:25.822Z"
   },
   {
    "duration": 0,
    "start_time": "2024-08-08T18:27:25.823Z"
   },
   {
    "duration": 0,
    "start_time": "2024-08-08T18:27:25.824Z"
   },
   {
    "duration": 0,
    "start_time": "2024-08-08T18:27:25.825Z"
   },
   {
    "duration": 0,
    "start_time": "2024-08-08T18:27:25.826Z"
   },
   {
    "duration": 0,
    "start_time": "2024-08-08T18:27:25.827Z"
   },
   {
    "duration": 0,
    "start_time": "2024-08-08T18:27:25.883Z"
   },
   {
    "duration": 0,
    "start_time": "2024-08-08T18:27:25.884Z"
   },
   {
    "duration": 55,
    "start_time": "2024-08-08T18:27:36.240Z"
   },
   {
    "duration": 96,
    "start_time": "2024-08-08T18:27:46.395Z"
   },
   {
    "duration": 8,
    "start_time": "2024-08-08T18:28:04.347Z"
   },
   {
    "duration": 10,
    "start_time": "2024-08-08T18:28:20.262Z"
   },
   {
    "duration": 7,
    "start_time": "2024-08-08T18:28:20.983Z"
   },
   {
    "duration": 148,
    "start_time": "2024-08-08T18:28:22.980Z"
   },
   {
    "duration": 126,
    "start_time": "2024-08-08T18:28:30.363Z"
   },
   {
    "duration": 3,
    "start_time": "2024-08-08T18:33:07.826Z"
   },
   {
    "duration": 260,
    "start_time": "2024-08-08T18:33:19.843Z"
   },
   {
    "duration": 44,
    "start_time": "2024-08-09T02:26:31.373Z"
   },
   {
    "duration": 1478,
    "start_time": "2024-08-09T02:26:39.889Z"
   },
   {
    "duration": 147,
    "start_time": "2024-08-09T02:26:41.368Z"
   },
   {
    "duration": 12,
    "start_time": "2024-08-09T02:26:41.516Z"
   },
   {
    "duration": 31,
    "start_time": "2024-08-09T02:26:41.530Z"
   },
   {
    "duration": 1734,
    "start_time": "2024-08-09T02:26:41.562Z"
   },
   {
    "duration": 8,
    "start_time": "2024-08-09T02:26:43.298Z"
   },
   {
    "duration": 24,
    "start_time": "2024-08-09T02:26:43.307Z"
   },
   {
    "duration": 12,
    "start_time": "2024-08-09T02:26:43.333Z"
   },
   {
    "duration": 10,
    "start_time": "2024-08-09T02:26:43.347Z"
   },
   {
    "duration": 5,
    "start_time": "2024-08-09T02:26:43.359Z"
   },
   {
    "duration": 8,
    "start_time": "2024-08-09T02:26:43.365Z"
   },
   {
    "duration": 5,
    "start_time": "2024-08-09T02:26:43.374Z"
   },
   {
    "duration": 7,
    "start_time": "2024-08-09T02:26:43.380Z"
   },
   {
    "duration": 15,
    "start_time": "2024-08-09T02:26:43.388Z"
   },
   {
    "duration": 16,
    "start_time": "2024-08-09T02:26:43.404Z"
   },
   {
    "duration": 31,
    "start_time": "2024-08-09T02:26:43.421Z"
   },
   {
    "duration": 21,
    "start_time": "2024-08-09T02:26:43.453Z"
   },
   {
    "duration": 17,
    "start_time": "2024-08-09T02:26:43.475Z"
   },
   {
    "duration": 12,
    "start_time": "2024-08-09T02:26:43.494Z"
   },
   {
    "duration": 203,
    "start_time": "2024-08-09T02:26:43.507Z"
   },
   {
    "duration": 23,
    "start_time": "2024-08-09T02:26:43.712Z"
   },
   {
    "duration": 5,
    "start_time": "2024-08-09T02:26:43.736Z"
   },
   {
    "duration": 5,
    "start_time": "2024-08-09T02:26:43.742Z"
   },
   {
    "duration": 4,
    "start_time": "2024-08-09T02:26:43.748Z"
   },
   {
    "duration": 11,
    "start_time": "2024-08-09T02:26:43.753Z"
   },
   {
    "duration": 303,
    "start_time": "2024-08-09T02:26:43.766Z"
   },
   {
    "duration": 5,
    "start_time": "2024-08-09T02:26:44.070Z"
   },
   {
    "duration": 16,
    "start_time": "2024-08-09T02:26:44.079Z"
   },
   {
    "duration": 14,
    "start_time": "2024-08-09T02:26:44.097Z"
   },
   {
    "duration": 111,
    "start_time": "2024-08-09T02:26:44.112Z"
   },
   {
    "duration": 114,
    "start_time": "2024-08-09T02:26:44.224Z"
   },
   {
    "duration": 110,
    "start_time": "2024-08-09T02:26:44.339Z"
   },
   {
    "duration": 131,
    "start_time": "2024-08-09T02:26:44.450Z"
   },
   {
    "duration": 4,
    "start_time": "2024-08-09T02:26:44.583Z"
   },
   {
    "duration": 19,
    "start_time": "2024-08-09T02:26:44.588Z"
   },
   {
    "duration": 129,
    "start_time": "2024-08-09T02:26:44.608Z"
   },
   {
    "duration": 113,
    "start_time": "2024-08-09T02:26:44.739Z"
   },
   {
    "duration": 163,
    "start_time": "2024-08-09T02:26:44.853Z"
   },
   {
    "duration": 5,
    "start_time": "2024-08-09T02:26:45.017Z"
   },
   {
    "duration": 28,
    "start_time": "2024-08-09T02:26:45.023Z"
   },
   {
    "duration": 249,
    "start_time": "2024-08-09T02:26:45.052Z"
   },
   {
    "duration": 105,
    "start_time": "2024-08-09T02:26:45.303Z"
   },
   {
    "duration": 134,
    "start_time": "2024-08-09T02:26:45.410Z"
   },
   {
    "duration": 4,
    "start_time": "2024-08-09T02:26:45.545Z"
   },
   {
    "duration": 130,
    "start_time": "2024-08-09T02:26:45.551Z"
   },
   {
    "duration": 4,
    "start_time": "2024-08-09T02:26:45.683Z"
   },
   {
    "duration": 115,
    "start_time": "2024-08-09T02:26:45.688Z"
   },
   {
    "duration": 18,
    "start_time": "2024-08-09T02:26:45.804Z"
   },
   {
    "duration": 6,
    "start_time": "2024-08-09T02:26:45.823Z"
   },
   {
    "duration": 31,
    "start_time": "2024-08-09T02:26:45.830Z"
   },
   {
    "duration": 117,
    "start_time": "2024-08-09T02:26:45.862Z"
   },
   {
    "duration": 7,
    "start_time": "2024-08-09T02:26:45.980Z"
   },
   {
    "duration": 13,
    "start_time": "2024-08-09T02:26:45.988Z"
   },
   {
    "duration": 5,
    "start_time": "2024-08-09T02:26:46.002Z"
   },
   {
    "duration": 11,
    "start_time": "2024-08-09T02:26:46.008Z"
   },
   {
    "duration": 5,
    "start_time": "2024-08-09T02:26:46.020Z"
   },
   {
    "duration": 118,
    "start_time": "2024-08-09T02:26:46.026Z"
   },
   {
    "duration": 121,
    "start_time": "2024-08-09T02:26:46.146Z"
   },
   {
    "duration": 147,
    "start_time": "2024-08-09T02:26:46.268Z"
   },
   {
    "duration": 4,
    "start_time": "2024-08-09T02:26:46.417Z"
   },
   {
    "duration": 16,
    "start_time": "2024-08-09T02:26:46.422Z"
   },
   {
    "duration": 115,
    "start_time": "2024-08-09T02:26:46.439Z"
   },
   {
    "duration": 8,
    "start_time": "2024-08-09T02:26:46.556Z"
   },
   {
    "duration": 19,
    "start_time": "2024-08-09T02:26:46.565Z"
   },
   {
    "duration": 14,
    "start_time": "2024-08-09T02:26:46.585Z"
   },
   {
    "duration": 12,
    "start_time": "2024-08-09T02:26:46.600Z"
   },
   {
    "duration": 110,
    "start_time": "2024-08-09T02:26:46.613Z"
   },
   {
    "duration": 129,
    "start_time": "2024-08-09T02:26:46.724Z"
   },
   {
    "duration": 201,
    "start_time": "2024-08-09T02:26:46.855Z"
   },
   {
    "duration": 5,
    "start_time": "2024-08-09T02:26:47.058Z"
   },
   {
    "duration": 167,
    "start_time": "2024-08-09T02:26:47.064Z"
   },
   {
    "duration": 146,
    "start_time": "2024-08-09T02:26:47.232Z"
   },
   {
    "duration": 8,
    "start_time": "2024-08-09T02:26:47.380Z"
   },
   {
    "duration": 131,
    "start_time": "2024-08-09T02:26:47.389Z"
   },
   {
    "duration": 106,
    "start_time": "2024-08-09T02:26:47.521Z"
   },
   {
    "duration": 8,
    "start_time": "2024-08-09T02:26:47.629Z"
   },
   {
    "duration": 188,
    "start_time": "2024-08-09T02:26:47.638Z"
   },
   {
    "duration": 110,
    "start_time": "2024-08-09T02:26:47.827Z"
   },
   {
    "duration": 191,
    "start_time": "2024-08-09T02:26:47.939Z"
   },
   {
    "duration": 15,
    "start_time": "2024-08-09T02:26:48.132Z"
   },
   {
    "duration": 133,
    "start_time": "2024-08-09T02:26:48.149Z"
   },
   {
    "duration": 109,
    "start_time": "2024-08-09T02:26:48.287Z"
   },
   {
    "duration": 161,
    "start_time": "2024-08-09T02:26:48.402Z"
   },
   {
    "duration": 178,
    "start_time": "2024-08-09T02:26:48.565Z"
   },
   {
    "duration": 123,
    "start_time": "2024-08-09T02:26:48.744Z"
   },
   {
    "duration": 136,
    "start_time": "2024-08-09T02:26:48.868Z"
   },
   {
    "duration": 19,
    "start_time": "2024-08-09T02:26:49.005Z"
   },
   {
    "duration": 6,
    "start_time": "2024-08-09T02:26:49.026Z"
   },
   {
    "duration": 9,
    "start_time": "2024-08-09T02:26:49.033Z"
   },
   {
    "duration": 142,
    "start_time": "2024-08-09T02:26:49.043Z"
   },
   {
    "duration": 18,
    "start_time": "2024-08-09T02:26:49.186Z"
   },
   {
    "duration": 156,
    "start_time": "2024-08-09T02:26:49.205Z"
   },
   {
    "duration": 16,
    "start_time": "2024-08-09T02:26:49.362Z"
   },
   {
    "duration": 7,
    "start_time": "2024-08-09T02:28:01.571Z"
   },
   {
    "duration": 5,
    "start_time": "2024-08-09T02:28:02.592Z"
   },
   {
    "duration": 7,
    "start_time": "2024-08-09T02:32:04.222Z"
   },
   {
    "duration": 3,
    "start_time": "2024-08-09T02:32:05.002Z"
   },
   {
    "duration": 31,
    "start_time": "2024-08-09T02:38:32.670Z"
   },
   {
    "duration": 108,
    "start_time": "2024-08-09T02:39:06.971Z"
   },
   {
    "duration": 8,
    "start_time": "2024-08-09T02:39:17.742Z"
   },
   {
    "duration": 7,
    "start_time": "2024-08-09T02:39:24.167Z"
   },
   {
    "duration": 3,
    "start_time": "2024-08-09T02:39:24.815Z"
   },
   {
    "duration": 3,
    "start_time": "2024-08-09T02:40:34.411Z"
   },
   {
    "duration": 143,
    "start_time": "2024-08-09T02:40:36.831Z"
   },
   {
    "duration": 104,
    "start_time": "2024-08-09T02:44:01.367Z"
   },
   {
    "duration": 101,
    "start_time": "2024-08-09T02:44:10.832Z"
   },
   {
    "duration": 1084,
    "start_time": "2024-08-09T02:44:18.870Z"
   },
   {
    "duration": 89,
    "start_time": "2024-08-09T02:44:19.955Z"
   },
   {
    "duration": 13,
    "start_time": "2024-08-09T02:44:20.046Z"
   },
   {
    "duration": 67,
    "start_time": "2024-08-09T02:44:20.061Z"
   },
   {
    "duration": 1627,
    "start_time": "2024-08-09T02:44:20.129Z"
   },
   {
    "duration": 8,
    "start_time": "2024-08-09T02:44:21.757Z"
   },
   {
    "duration": 14,
    "start_time": "2024-08-09T02:44:21.766Z"
   },
   {
    "duration": 22,
    "start_time": "2024-08-09T02:44:21.782Z"
   },
   {
    "duration": 17,
    "start_time": "2024-08-09T02:44:21.806Z"
   },
   {
    "duration": 6,
    "start_time": "2024-08-09T02:44:21.825Z"
   },
   {
    "duration": 9,
    "start_time": "2024-08-09T02:44:21.833Z"
   },
   {
    "duration": 28,
    "start_time": "2024-08-09T02:44:21.843Z"
   },
   {
    "duration": 6,
    "start_time": "2024-08-09T02:44:21.872Z"
   },
   {
    "duration": 11,
    "start_time": "2024-08-09T02:44:21.879Z"
   },
   {
    "duration": 4,
    "start_time": "2024-08-09T02:44:21.891Z"
   },
   {
    "duration": 28,
    "start_time": "2024-08-09T02:44:21.896Z"
   },
   {
    "duration": 98,
    "start_time": "2024-08-09T02:44:21.925Z"
   },
   {
    "duration": 25,
    "start_time": "2024-08-09T02:44:22.025Z"
   },
   {
    "duration": 12,
    "start_time": "2024-08-09T02:44:22.051Z"
   },
   {
    "duration": 228,
    "start_time": "2024-08-09T02:44:22.064Z"
   },
   {
    "duration": 21,
    "start_time": "2024-08-09T02:44:22.294Z"
   },
   {
    "duration": 73,
    "start_time": "2024-08-09T02:44:22.316Z"
   },
   {
    "duration": 10,
    "start_time": "2024-08-09T02:44:22.390Z"
   },
   {
    "duration": 17,
    "start_time": "2024-08-09T02:44:22.401Z"
   },
   {
    "duration": 7,
    "start_time": "2024-08-09T02:44:22.419Z"
   },
   {
    "duration": 323,
    "start_time": "2024-08-09T02:44:22.427Z"
   },
   {
    "duration": 5,
    "start_time": "2024-08-09T02:44:22.751Z"
   },
   {
    "duration": 11,
    "start_time": "2024-08-09T02:44:22.760Z"
   },
   {
    "duration": 16,
    "start_time": "2024-08-09T02:44:22.772Z"
   },
   {
    "duration": 124,
    "start_time": "2024-08-09T02:44:22.789Z"
   },
   {
    "duration": 103,
    "start_time": "2024-08-09T02:44:22.915Z"
   },
   {
    "duration": 123,
    "start_time": "2024-08-09T02:44:23.020Z"
   },
   {
    "duration": 9,
    "start_time": "2024-08-09T02:44:23.144Z"
   },
   {
    "duration": 20,
    "start_time": "2024-08-09T02:44:23.155Z"
   },
   {
    "duration": 10,
    "start_time": "2024-08-09T02:44:23.177Z"
   },
   {
    "duration": 183,
    "start_time": "2024-08-09T02:44:23.189Z"
   },
   {
    "duration": 4,
    "start_time": "2024-08-09T02:44:23.374Z"
   },
   {
    "duration": 35,
    "start_time": "2024-08-09T02:44:23.379Z"
   },
   {
    "duration": 127,
    "start_time": "2024-08-09T02:44:23.416Z"
   },
   {
    "duration": 115,
    "start_time": "2024-08-09T02:44:23.544Z"
   },
   {
    "duration": 151,
    "start_time": "2024-08-09T02:44:23.660Z"
   },
   {
    "duration": 9,
    "start_time": "2024-08-09T02:44:23.812Z"
   },
   {
    "duration": 56,
    "start_time": "2024-08-09T02:44:23.823Z"
   },
   {
    "duration": 207,
    "start_time": "2024-08-09T02:44:23.880Z"
   },
   {
    "duration": 103,
    "start_time": "2024-08-09T02:44:24.089Z"
   },
   {
    "duration": 139,
    "start_time": "2024-08-09T02:44:24.194Z"
   },
   {
    "duration": 7,
    "start_time": "2024-08-09T02:44:24.335Z"
   },
   {
    "duration": 46,
    "start_time": "2024-08-09T02:44:24.344Z"
   },
   {
    "duration": 33,
    "start_time": "2024-08-09T02:44:24.392Z"
   },
   {
    "duration": 174,
    "start_time": "2024-08-09T02:44:24.427Z"
   },
   {
    "duration": 18,
    "start_time": "2024-08-09T02:44:24.602Z"
   },
   {
    "duration": 17,
    "start_time": "2024-08-09T02:44:24.621Z"
   },
   {
    "duration": 39,
    "start_time": "2024-08-09T02:44:24.639Z"
   },
   {
    "duration": 117,
    "start_time": "2024-08-09T02:44:24.680Z"
   },
   {
    "duration": 8,
    "start_time": "2024-08-09T02:44:24.801Z"
   },
   {
    "duration": 18,
    "start_time": "2024-08-09T02:44:24.810Z"
   },
   {
    "duration": 12,
    "start_time": "2024-08-09T02:44:24.829Z"
   },
   {
    "duration": 21,
    "start_time": "2024-08-09T02:44:24.842Z"
   },
   {
    "duration": 90,
    "start_time": "2024-08-09T02:44:24.865Z"
   },
   {
    "duration": 111,
    "start_time": "2024-08-09T02:44:24.956Z"
   },
   {
    "duration": 116,
    "start_time": "2024-08-09T02:44:25.068Z"
   },
   {
    "duration": 16,
    "start_time": "2024-08-09T02:44:25.185Z"
   },
   {
    "duration": 135,
    "start_time": "2024-08-09T02:44:25.203Z"
   },
   {
    "duration": 4,
    "start_time": "2024-08-09T02:44:25.340Z"
   },
   {
    "duration": 27,
    "start_time": "2024-08-09T02:44:25.345Z"
   },
   {
    "duration": 108,
    "start_time": "2024-08-09T02:44:25.373Z"
   },
   {
    "duration": 9,
    "start_time": "2024-08-09T02:44:25.482Z"
   },
   {
    "duration": 3,
    "start_time": "2024-08-09T02:44:25.502Z"
   },
   {
    "duration": 14,
    "start_time": "2024-08-09T02:44:25.506Z"
   },
   {
    "duration": 14,
    "start_time": "2024-08-09T02:44:25.521Z"
   },
   {
    "duration": 103,
    "start_time": "2024-08-09T02:44:25.536Z"
   },
   {
    "duration": 107,
    "start_time": "2024-08-09T02:44:25.641Z"
   },
   {
    "duration": 262,
    "start_time": "2024-08-09T02:44:25.749Z"
   },
   {
    "duration": 5,
    "start_time": "2024-08-09T02:44:26.012Z"
   },
   {
    "duration": 165,
    "start_time": "2024-08-09T02:44:26.018Z"
   },
   {
    "duration": 152,
    "start_time": "2024-08-09T02:44:26.184Z"
   },
   {
    "duration": 9,
    "start_time": "2024-08-09T02:44:26.338Z"
   },
   {
    "duration": 178,
    "start_time": "2024-08-09T02:44:26.349Z"
   },
   {
    "duration": 104,
    "start_time": "2024-08-09T02:44:26.529Z"
   },
   {
    "duration": 7,
    "start_time": "2024-08-09T02:44:26.634Z"
   },
   {
    "duration": 117,
    "start_time": "2024-08-09T02:44:26.642Z"
   },
   {
    "duration": 107,
    "start_time": "2024-08-09T02:44:26.764Z"
   },
   {
    "duration": 183,
    "start_time": "2024-08-09T02:44:26.873Z"
   },
   {
    "duration": 14,
    "start_time": "2024-08-09T02:44:27.057Z"
   },
   {
    "duration": 135,
    "start_time": "2024-08-09T02:44:27.072Z"
   },
   {
    "duration": 116,
    "start_time": "2024-08-09T02:44:27.210Z"
   },
   {
    "duration": 151,
    "start_time": "2024-08-09T02:44:27.328Z"
   },
   {
    "duration": 184,
    "start_time": "2024-08-09T02:44:27.480Z"
   },
   {
    "duration": 125,
    "start_time": "2024-08-09T02:44:27.665Z"
   },
   {
    "duration": 147,
    "start_time": "2024-08-09T02:44:27.791Z"
   },
   {
    "duration": 19,
    "start_time": "2024-08-09T02:44:27.939Z"
   },
   {
    "duration": 70,
    "start_time": "2024-08-09T02:44:27.959Z"
   },
   {
    "duration": 13,
    "start_time": "2024-08-09T02:44:28.031Z"
   },
   {
    "duration": 162,
    "start_time": "2024-08-09T02:44:28.045Z"
   },
   {
    "duration": 12,
    "start_time": "2024-08-09T02:44:28.209Z"
   },
   {
    "duration": 187,
    "start_time": "2024-08-09T02:44:28.222Z"
   },
   {
    "duration": 15,
    "start_time": "2024-08-09T02:44:28.411Z"
   },
   {
    "duration": 102,
    "start_time": "2024-08-09T02:44:59.570Z"
   },
   {
    "duration": 123,
    "start_time": "2024-08-09T02:45:03.942Z"
   },
   {
    "duration": 102,
    "start_time": "2024-08-09T02:45:26.531Z"
   },
   {
    "duration": 7,
    "start_time": "2024-08-09T02:45:31.693Z"
   },
   {
    "duration": 106,
    "start_time": "2024-08-09T02:45:42.714Z"
   },
   {
    "duration": 103,
    "start_time": "2024-08-09T02:45:50.330Z"
   },
   {
    "duration": 115,
    "start_time": "2024-08-09T02:45:54.222Z"
   },
   {
    "duration": 8,
    "start_time": "2024-08-09T02:45:56.484Z"
   },
   {
    "duration": 157,
    "start_time": "2024-08-09T02:46:06.138Z"
   },
   {
    "duration": 106,
    "start_time": "2024-08-09T02:46:18.318Z"
   },
   {
    "duration": 103,
    "start_time": "2024-08-09T02:46:24.175Z"
   },
   {
    "duration": 124,
    "start_time": "2024-08-09T02:46:38.039Z"
   },
   {
    "duration": 102,
    "start_time": "2024-08-09T02:46:53.474Z"
   },
   {
    "duration": 103,
    "start_time": "2024-08-09T02:47:11.196Z"
   },
   {
    "duration": 110,
    "start_time": "2024-08-09T02:47:23.352Z"
   },
   {
    "duration": 2,
    "start_time": "2024-08-09T02:47:31.190Z"
   },
   {
    "duration": 90,
    "start_time": "2024-08-09T02:47:31.851Z"
   },
   {
    "duration": 12,
    "start_time": "2024-08-09T02:47:32.647Z"
   },
   {
    "duration": 28,
    "start_time": "2024-08-09T02:47:33.073Z"
   },
   {
    "duration": 1545,
    "start_time": "2024-08-09T02:47:33.834Z"
   },
   {
    "duration": 9,
    "start_time": "2024-08-09T02:47:35.842Z"
   },
   {
    "duration": 5,
    "start_time": "2024-08-09T02:47:36.192Z"
   },
   {
    "duration": 7,
    "start_time": "2024-08-09T02:47:36.431Z"
   },
   {
    "duration": 4,
    "start_time": "2024-08-09T02:47:36.679Z"
   },
   {
    "duration": 4,
    "start_time": "2024-08-09T02:47:36.907Z"
   },
   {
    "duration": 6,
    "start_time": "2024-08-09T02:47:37.354Z"
   },
   {
    "duration": 4,
    "start_time": "2024-08-09T02:47:37.655Z"
   },
   {
    "duration": 3,
    "start_time": "2024-08-09T02:47:37.935Z"
   },
   {
    "duration": 5,
    "start_time": "2024-08-09T02:47:38.470Z"
   },
   {
    "duration": 4,
    "start_time": "2024-08-09T02:47:39.046Z"
   },
   {
    "duration": 7,
    "start_time": "2024-08-09T02:47:39.410Z"
   },
   {
    "duration": 16,
    "start_time": "2024-08-09T02:47:50.726Z"
   },
   {
    "duration": 25,
    "start_time": "2024-08-09T02:47:52.733Z"
   },
   {
    "duration": 10,
    "start_time": "2024-08-09T02:47:54.002Z"
   },
   {
    "duration": 224,
    "start_time": "2024-08-09T02:47:54.443Z"
   },
   {
    "duration": 22,
    "start_time": "2024-08-09T02:47:54.747Z"
   },
   {
    "duration": 5,
    "start_time": "2024-08-09T02:47:56.041Z"
   },
   {
    "duration": 4,
    "start_time": "2024-08-09T02:47:56.542Z"
   },
   {
    "duration": 4,
    "start_time": "2024-08-09T02:47:57.087Z"
   },
   {
    "duration": 4,
    "start_time": "2024-08-09T02:47:57.612Z"
   },
   {
    "duration": 290,
    "start_time": "2024-08-09T02:47:58.138Z"
   },
   {
    "duration": 6,
    "start_time": "2024-08-09T02:47:58.938Z"
   },
   {
    "duration": 8,
    "start_time": "2024-08-09T02:48:01.434Z"
   },
   {
    "duration": 7,
    "start_time": "2024-08-09T02:48:01.643Z"
   },
   {
    "duration": 107,
    "start_time": "2024-08-09T02:48:01.851Z"
   },
   {
    "duration": 108,
    "start_time": "2024-08-09T02:48:02.326Z"
   },
   {
    "duration": 107,
    "start_time": "2024-08-09T02:48:02.819Z"
   },
   {
    "duration": 9,
    "start_time": "2024-08-09T02:48:03.019Z"
   },
   {
    "duration": 3,
    "start_time": "2024-08-09T02:48:03.563Z"
   },
   {
    "duration": 2,
    "start_time": "2024-08-09T02:48:05.379Z"
   },
   {
    "duration": 254,
    "start_time": "2024-08-09T02:48:09.174Z"
   },
   {
    "duration": 4,
    "start_time": "2024-08-09T02:48:10.888Z"
   },
   {
    "duration": 7,
    "start_time": "2024-08-09T02:48:16.626Z"
   },
   {
    "duration": 120,
    "start_time": "2024-08-09T02:48:16.971Z"
   },
   {
    "duration": 104,
    "start_time": "2024-08-09T02:48:17.658Z"
   },
   {
    "duration": 141,
    "start_time": "2024-08-09T02:48:17.908Z"
   },
   {
    "duration": 5,
    "start_time": "2024-08-09T02:48:18.182Z"
   },
   {
    "duration": 8,
    "start_time": "2024-08-09T02:48:19.792Z"
   },
   {
    "duration": 113,
    "start_time": "2024-08-09T02:48:20.643Z"
   },
   {
    "duration": 97,
    "start_time": "2024-08-09T02:48:22.399Z"
   },
   {
    "duration": 131,
    "start_time": "2024-08-09T02:48:23.119Z"
   },
   {
    "duration": 4,
    "start_time": "2024-08-09T02:48:43.499Z"
   },
   {
    "duration": 8,
    "start_time": "2024-08-09T02:48:46.437Z"
   },
   {
    "duration": 5,
    "start_time": "2024-08-09T02:48:46.815Z"
   },
   {
    "duration": 115,
    "start_time": "2024-08-09T02:48:47.299Z"
   },
   {
    "duration": 18,
    "start_time": "2024-08-09T02:48:54.087Z"
   },
   {
    "duration": 6,
    "start_time": "2024-08-09T02:48:55.747Z"
   },
   {
    "duration": 32,
    "start_time": "2024-08-09T02:48:56.426Z"
   },
   {
    "duration": 110,
    "start_time": "2024-08-09T02:48:57.852Z"
   },
   {
    "duration": 122,
    "start_time": "2024-08-09T02:49:05.140Z"
   },
   {
    "duration": 97,
    "start_time": "2024-08-09T02:49:29.076Z"
   },
   {
    "duration": 159,
    "start_time": "2024-08-09T02:49:56.644Z"
   },
   {
    "duration": 7,
    "start_time": "2024-08-09T02:50:47.665Z"
   },
   {
    "duration": 4,
    "start_time": "2024-08-09T02:50:50.804Z"
   },
   {
    "duration": 113,
    "start_time": "2024-08-09T02:51:41.429Z"
   },
   {
    "duration": 109,
    "start_time": "2024-08-09T02:51:47.757Z"
   },
   {
    "duration": 3,
    "start_time": "2024-08-09T02:54:24.948Z"
   },
   {
    "duration": 3,
    "start_time": "2024-08-09T02:55:09.374Z"
   },
   {
    "duration": 60,
    "start_time": "2024-08-09T02:58:47.816Z"
   },
   {
    "duration": 1048,
    "start_time": "2024-08-09T02:59:05.625Z"
   },
   {
    "duration": 87,
    "start_time": "2024-08-09T02:59:06.674Z"
   },
   {
    "duration": 13,
    "start_time": "2024-08-09T02:59:06.762Z"
   },
   {
    "duration": 57,
    "start_time": "2024-08-09T02:59:06.776Z"
   },
   {
    "duration": 1590,
    "start_time": "2024-08-09T02:59:06.834Z"
   },
   {
    "duration": 8,
    "start_time": "2024-08-09T02:59:08.425Z"
   },
   {
    "duration": 12,
    "start_time": "2024-08-09T02:59:08.434Z"
   },
   {
    "duration": 7,
    "start_time": "2024-08-09T02:59:08.448Z"
   },
   {
    "duration": 6,
    "start_time": "2024-08-09T02:59:08.456Z"
   },
   {
    "duration": 4,
    "start_time": "2024-08-09T02:59:08.464Z"
   },
   {
    "duration": 6,
    "start_time": "2024-08-09T02:59:08.469Z"
   },
   {
    "duration": 10,
    "start_time": "2024-08-09T02:59:08.477Z"
   },
   {
    "duration": 15,
    "start_time": "2024-08-09T02:59:08.488Z"
   },
   {
    "duration": 9,
    "start_time": "2024-08-09T02:59:08.505Z"
   },
   {
    "duration": 4,
    "start_time": "2024-08-09T02:59:08.515Z"
   },
   {
    "duration": 10,
    "start_time": "2024-08-09T02:59:08.520Z"
   },
   {
    "duration": 21,
    "start_time": "2024-08-09T02:59:08.531Z"
   },
   {
    "duration": 15,
    "start_time": "2024-08-09T02:59:08.553Z"
   },
   {
    "duration": 11,
    "start_time": "2024-08-09T02:59:08.569Z"
   },
   {
    "duration": 207,
    "start_time": "2024-08-09T02:59:08.582Z"
   },
   {
    "duration": 23,
    "start_time": "2024-08-09T02:59:08.790Z"
   },
   {
    "duration": 5,
    "start_time": "2024-08-09T02:59:08.815Z"
   },
   {
    "duration": 8,
    "start_time": "2024-08-09T02:59:08.821Z"
   },
   {
    "duration": 7,
    "start_time": "2024-08-09T02:59:08.830Z"
   },
   {
    "duration": 6,
    "start_time": "2024-08-09T02:59:08.838Z"
   },
   {
    "duration": 299,
    "start_time": "2024-08-09T02:59:08.845Z"
   },
   {
    "duration": 5,
    "start_time": "2024-08-09T02:59:09.145Z"
   },
   {
    "duration": 7,
    "start_time": "2024-08-09T02:59:09.154Z"
   },
   {
    "duration": 7,
    "start_time": "2024-08-09T02:59:09.162Z"
   },
   {
    "duration": 133,
    "start_time": "2024-08-09T02:59:09.170Z"
   },
   {
    "duration": 113,
    "start_time": "2024-08-09T02:59:09.304Z"
   },
   {
    "duration": 127,
    "start_time": "2024-08-09T02:59:09.418Z"
   },
   {
    "duration": 8,
    "start_time": "2024-08-09T02:59:09.547Z"
   },
   {
    "duration": 4,
    "start_time": "2024-08-09T02:59:09.556Z"
   },
   {
    "duration": 8,
    "start_time": "2024-08-09T02:59:09.561Z"
   },
   {
    "duration": 160,
    "start_time": "2024-08-09T02:59:09.571Z"
   },
   {
    "duration": 4,
    "start_time": "2024-08-09T02:59:09.733Z"
   },
   {
    "duration": 8,
    "start_time": "2024-08-09T02:59:09.738Z"
   },
   {
    "duration": 129,
    "start_time": "2024-08-09T02:59:09.747Z"
   },
   {
    "duration": 112,
    "start_time": "2024-08-09T02:59:09.877Z"
   },
   {
    "duration": 145,
    "start_time": "2024-08-09T02:59:09.991Z"
   },
   {
    "duration": 5,
    "start_time": "2024-08-09T02:59:10.137Z"
   },
   {
    "duration": 11,
    "start_time": "2024-08-09T02:59:10.143Z"
   },
   {
    "duration": 210,
    "start_time": "2024-08-09T02:59:10.155Z"
   },
   {
    "duration": 104,
    "start_time": "2024-08-09T02:59:10.366Z"
   },
   {
    "duration": 134,
    "start_time": "2024-08-09T02:59:10.472Z"
   },
   {
    "duration": 5,
    "start_time": "2024-08-09T02:59:10.607Z"
   },
   {
    "duration": 8,
    "start_time": "2024-08-09T02:59:10.613Z"
   },
   {
    "duration": 4,
    "start_time": "2024-08-09T02:59:10.622Z"
   },
   {
    "duration": 128,
    "start_time": "2024-08-09T02:59:10.627Z"
   },
   {
    "duration": 17,
    "start_time": "2024-08-09T02:59:10.756Z"
   },
   {
    "duration": 30,
    "start_time": "2024-08-09T02:59:10.774Z"
   },
   {
    "duration": 36,
    "start_time": "2024-08-09T02:59:10.806Z"
   },
   {
    "duration": 118,
    "start_time": "2024-08-09T02:59:10.844Z"
   },
   {
    "duration": 7,
    "start_time": "2024-08-09T02:59:10.964Z"
   },
   {
    "duration": 47,
    "start_time": "2024-08-09T02:59:10.973Z"
   },
   {
    "duration": 30,
    "start_time": "2024-08-09T02:59:11.021Z"
   },
   {
    "duration": 16,
    "start_time": "2024-08-09T02:59:11.052Z"
   },
   {
    "duration": 31,
    "start_time": "2024-08-09T02:59:11.069Z"
   },
   {
    "duration": 117,
    "start_time": "2024-08-09T02:59:11.101Z"
   },
   {
    "duration": 117,
    "start_time": "2024-08-09T02:59:11.220Z"
   },
   {
    "duration": 59,
    "start_time": "2024-08-09T02:59:11.339Z"
   },
   {
    "duration": 0,
    "start_time": "2024-08-09T02:59:11.400Z"
   },
   {
    "duration": 0,
    "start_time": "2024-08-09T02:59:11.401Z"
   },
   {
    "duration": 0,
    "start_time": "2024-08-09T02:59:11.402Z"
   },
   {
    "duration": 0,
    "start_time": "2024-08-09T02:59:11.402Z"
   },
   {
    "duration": 0,
    "start_time": "2024-08-09T02:59:11.403Z"
   },
   {
    "duration": 0,
    "start_time": "2024-08-09T02:59:11.404Z"
   },
   {
    "duration": 0,
    "start_time": "2024-08-09T02:59:11.405Z"
   },
   {
    "duration": 0,
    "start_time": "2024-08-09T02:59:11.406Z"
   },
   {
    "duration": 0,
    "start_time": "2024-08-09T02:59:11.407Z"
   },
   {
    "duration": 0,
    "start_time": "2024-08-09T02:59:11.408Z"
   },
   {
    "duration": 0,
    "start_time": "2024-08-09T02:59:11.408Z"
   },
   {
    "duration": 0,
    "start_time": "2024-08-09T02:59:11.409Z"
   },
   {
    "duration": 0,
    "start_time": "2024-08-09T02:59:11.410Z"
   },
   {
    "duration": 0,
    "start_time": "2024-08-09T02:59:11.410Z"
   },
   {
    "duration": 0,
    "start_time": "2024-08-09T02:59:11.411Z"
   },
   {
    "duration": 0,
    "start_time": "2024-08-09T02:59:11.412Z"
   },
   {
    "duration": 0,
    "start_time": "2024-08-09T02:59:11.413Z"
   },
   {
    "duration": 0,
    "start_time": "2024-08-09T02:59:11.414Z"
   },
   {
    "duration": 0,
    "start_time": "2024-08-09T02:59:11.414Z"
   },
   {
    "duration": 0,
    "start_time": "2024-08-09T02:59:11.415Z"
   },
   {
    "duration": 0,
    "start_time": "2024-08-09T02:59:11.416Z"
   },
   {
    "duration": 0,
    "start_time": "2024-08-09T02:59:11.417Z"
   },
   {
    "duration": 0,
    "start_time": "2024-08-09T02:59:11.418Z"
   },
   {
    "duration": 0,
    "start_time": "2024-08-09T02:59:11.418Z"
   },
   {
    "duration": 0,
    "start_time": "2024-08-09T02:59:11.419Z"
   },
   {
    "duration": 0,
    "start_time": "2024-08-09T02:59:11.420Z"
   },
   {
    "duration": 0,
    "start_time": "2024-08-09T02:59:11.421Z"
   },
   {
    "duration": 0,
    "start_time": "2024-08-09T02:59:11.422Z"
   },
   {
    "duration": 0,
    "start_time": "2024-08-09T02:59:11.422Z"
   },
   {
    "duration": 0,
    "start_time": "2024-08-09T02:59:11.423Z"
   },
   {
    "duration": 0,
    "start_time": "2024-08-09T02:59:11.424Z"
   },
   {
    "duration": 0,
    "start_time": "2024-08-09T02:59:11.424Z"
   },
   {
    "duration": 0,
    "start_time": "2024-08-09T02:59:11.425Z"
   },
   {
    "duration": 0,
    "start_time": "2024-08-09T02:59:11.426Z"
   },
   {
    "duration": 0,
    "start_time": "2024-08-09T02:59:11.427Z"
   },
   {
    "duration": 0,
    "start_time": "2024-08-09T02:59:11.428Z"
   },
   {
    "duration": 0,
    "start_time": "2024-08-09T02:59:11.428Z"
   },
   {
    "duration": 0,
    "start_time": "2024-08-09T02:59:11.430Z"
   },
   {
    "duration": 1042,
    "start_time": "2024-08-09T03:00:22.207Z"
   },
   {
    "duration": 96,
    "start_time": "2024-08-09T03:00:23.251Z"
   },
   {
    "duration": 13,
    "start_time": "2024-08-09T03:00:23.348Z"
   },
   {
    "duration": 41,
    "start_time": "2024-08-09T03:00:23.362Z"
   },
   {
    "duration": 1596,
    "start_time": "2024-08-09T03:00:23.404Z"
   },
   {
    "duration": 10,
    "start_time": "2024-08-09T03:00:25.001Z"
   },
   {
    "duration": 7,
    "start_time": "2024-08-09T03:00:25.013Z"
   },
   {
    "duration": 10,
    "start_time": "2024-08-09T03:00:25.022Z"
   },
   {
    "duration": 41,
    "start_time": "2024-08-09T03:00:25.034Z"
   },
   {
    "duration": 26,
    "start_time": "2024-08-09T03:00:25.078Z"
   },
   {
    "duration": 18,
    "start_time": "2024-08-09T03:00:25.105Z"
   },
   {
    "duration": 15,
    "start_time": "2024-08-09T03:00:25.124Z"
   },
   {
    "duration": 42,
    "start_time": "2024-08-09T03:00:25.140Z"
   },
   {
    "duration": 37,
    "start_time": "2024-08-09T03:00:25.184Z"
   },
   {
    "duration": 34,
    "start_time": "2024-08-09T03:00:25.222Z"
   },
   {
    "duration": 23,
    "start_time": "2024-08-09T03:00:25.257Z"
   },
   {
    "duration": 38,
    "start_time": "2024-08-09T03:00:25.281Z"
   },
   {
    "duration": 21,
    "start_time": "2024-08-09T03:00:25.321Z"
   },
   {
    "duration": 14,
    "start_time": "2024-08-09T03:00:25.344Z"
   },
   {
    "duration": 248,
    "start_time": "2024-08-09T03:00:25.359Z"
   },
   {
    "duration": 21,
    "start_time": "2024-08-09T03:00:25.609Z"
   },
   {
    "duration": 18,
    "start_time": "2024-08-09T03:00:25.631Z"
   },
   {
    "duration": 5,
    "start_time": "2024-08-09T03:00:25.650Z"
   },
   {
    "duration": 9,
    "start_time": "2024-08-09T03:00:25.657Z"
   },
   {
    "duration": 137,
    "start_time": "2024-08-09T03:00:25.667Z"
   },
   {
    "duration": 355,
    "start_time": "2024-08-09T03:00:25.805Z"
   },
   {
    "duration": 5,
    "start_time": "2024-08-09T03:00:26.161Z"
   },
   {
    "duration": 17,
    "start_time": "2024-08-09T03:00:26.170Z"
   },
   {
    "duration": 6,
    "start_time": "2024-08-09T03:00:26.188Z"
   },
   {
    "duration": 117,
    "start_time": "2024-08-09T03:00:26.195Z"
   },
   {
    "duration": 116,
    "start_time": "2024-08-09T03:00:26.313Z"
   },
   {
    "duration": 111,
    "start_time": "2024-08-09T03:00:26.430Z"
   },
   {
    "duration": 8,
    "start_time": "2024-08-09T03:00:26.542Z"
   },
   {
    "duration": 6,
    "start_time": "2024-08-09T03:00:26.551Z"
   },
   {
    "duration": 4,
    "start_time": "2024-08-09T03:00:26.558Z"
   },
   {
    "duration": 162,
    "start_time": "2024-08-09T03:00:26.563Z"
   },
   {
    "duration": 4,
    "start_time": "2024-08-09T03:00:26.727Z"
   },
   {
    "duration": 9,
    "start_time": "2024-08-09T03:00:26.732Z"
   },
   {
    "duration": 132,
    "start_time": "2024-08-09T03:00:26.742Z"
   },
   {
    "duration": 111,
    "start_time": "2024-08-09T03:00:26.875Z"
   },
   {
    "duration": 148,
    "start_time": "2024-08-09T03:00:26.987Z"
   },
   {
    "duration": 4,
    "start_time": "2024-08-09T03:00:27.137Z"
   },
   {
    "duration": 7,
    "start_time": "2024-08-09T03:00:27.142Z"
   },
   {
    "duration": 232,
    "start_time": "2024-08-09T03:00:27.150Z"
   },
   {
    "duration": 102,
    "start_time": "2024-08-09T03:00:27.383Z"
   },
   {
    "duration": 146,
    "start_time": "2024-08-09T03:00:27.486Z"
   },
   {
    "duration": 4,
    "start_time": "2024-08-09T03:00:27.634Z"
   },
   {
    "duration": 9,
    "start_time": "2024-08-09T03:00:27.639Z"
   },
   {
    "duration": 4,
    "start_time": "2024-08-09T03:00:27.649Z"
   },
   {
    "duration": 129,
    "start_time": "2024-08-09T03:00:27.655Z"
   },
   {
    "duration": 24,
    "start_time": "2024-08-09T03:00:27.785Z"
   },
   {
    "duration": 6,
    "start_time": "2024-08-09T03:00:27.810Z"
   },
   {
    "duration": 29,
    "start_time": "2024-08-09T03:00:27.817Z"
   },
   {
    "duration": 117,
    "start_time": "2024-08-09T03:00:27.847Z"
   },
   {
    "duration": 6,
    "start_time": "2024-08-09T03:00:27.966Z"
   },
   {
    "duration": 80,
    "start_time": "2024-08-09T03:00:27.973Z"
   },
   {
    "duration": 8,
    "start_time": "2024-08-09T03:00:28.055Z"
   },
   {
    "duration": 33,
    "start_time": "2024-08-09T03:00:28.064Z"
   },
   {
    "duration": 20,
    "start_time": "2024-08-09T03:00:28.098Z"
   },
   {
    "duration": 104,
    "start_time": "2024-08-09T03:00:28.119Z"
   },
   {
    "duration": 116,
    "start_time": "2024-08-09T03:00:28.224Z"
   },
   {
    "duration": 76,
    "start_time": "2024-08-09T03:00:28.341Z"
   },
   {
    "duration": 0,
    "start_time": "2024-08-09T03:00:28.419Z"
   },
   {
    "duration": 0,
    "start_time": "2024-08-09T03:00:28.420Z"
   },
   {
    "duration": 1,
    "start_time": "2024-08-09T03:00:28.420Z"
   },
   {
    "duration": 0,
    "start_time": "2024-08-09T03:00:28.421Z"
   },
   {
    "duration": 0,
    "start_time": "2024-08-09T03:00:28.422Z"
   },
   {
    "duration": 0,
    "start_time": "2024-08-09T03:00:28.423Z"
   },
   {
    "duration": 0,
    "start_time": "2024-08-09T03:00:28.423Z"
   },
   {
    "duration": 0,
    "start_time": "2024-08-09T03:00:28.424Z"
   },
   {
    "duration": 0,
    "start_time": "2024-08-09T03:00:28.424Z"
   },
   {
    "duration": 0,
    "start_time": "2024-08-09T03:00:28.425Z"
   },
   {
    "duration": 0,
    "start_time": "2024-08-09T03:00:28.426Z"
   },
   {
    "duration": 0,
    "start_time": "2024-08-09T03:00:28.427Z"
   },
   {
    "duration": 0,
    "start_time": "2024-08-09T03:00:28.427Z"
   },
   {
    "duration": 0,
    "start_time": "2024-08-09T03:00:28.428Z"
   },
   {
    "duration": 0,
    "start_time": "2024-08-09T03:00:28.429Z"
   },
   {
    "duration": 0,
    "start_time": "2024-08-09T03:00:28.430Z"
   },
   {
    "duration": 0,
    "start_time": "2024-08-09T03:00:28.431Z"
   },
   {
    "duration": 0,
    "start_time": "2024-08-09T03:00:28.431Z"
   },
   {
    "duration": 0,
    "start_time": "2024-08-09T03:00:28.432Z"
   },
   {
    "duration": 0,
    "start_time": "2024-08-09T03:00:28.433Z"
   },
   {
    "duration": 0,
    "start_time": "2024-08-09T03:00:28.434Z"
   },
   {
    "duration": 0,
    "start_time": "2024-08-09T03:00:28.435Z"
   },
   {
    "duration": 0,
    "start_time": "2024-08-09T03:00:28.436Z"
   },
   {
    "duration": 0,
    "start_time": "2024-08-09T03:00:28.436Z"
   },
   {
    "duration": 0,
    "start_time": "2024-08-09T03:00:28.437Z"
   },
   {
    "duration": 0,
    "start_time": "2024-08-09T03:00:28.438Z"
   },
   {
    "duration": 0,
    "start_time": "2024-08-09T03:00:28.438Z"
   },
   {
    "duration": 0,
    "start_time": "2024-08-09T03:00:28.440Z"
   },
   {
    "duration": 0,
    "start_time": "2024-08-09T03:00:28.440Z"
   },
   {
    "duration": 0,
    "start_time": "2024-08-09T03:00:28.441Z"
   },
   {
    "duration": 0,
    "start_time": "2024-08-09T03:00:28.442Z"
   },
   {
    "duration": 0,
    "start_time": "2024-08-09T03:00:28.443Z"
   },
   {
    "duration": 0,
    "start_time": "2024-08-09T03:00:28.443Z"
   },
   {
    "duration": 0,
    "start_time": "2024-08-09T03:00:28.444Z"
   },
   {
    "duration": 0,
    "start_time": "2024-08-09T03:00:28.445Z"
   },
   {
    "duration": 1,
    "start_time": "2024-08-09T03:00:28.445Z"
   },
   {
    "duration": 0,
    "start_time": "2024-08-09T03:00:28.446Z"
   },
   {
    "duration": 0,
    "start_time": "2024-08-09T03:00:28.447Z"
   },
   {
    "duration": 1097,
    "start_time": "2024-08-09T03:00:49.270Z"
   },
   {
    "duration": 90,
    "start_time": "2024-08-09T03:00:50.368Z"
   },
   {
    "duration": 12,
    "start_time": "2024-08-09T03:00:50.459Z"
   },
   {
    "duration": 40,
    "start_time": "2024-08-09T03:00:50.473Z"
   },
   {
    "duration": 1609,
    "start_time": "2024-08-09T03:00:50.515Z"
   },
   {
    "duration": 7,
    "start_time": "2024-08-09T03:00:52.126Z"
   },
   {
    "duration": 35,
    "start_time": "2024-08-09T03:00:52.134Z"
   },
   {
    "duration": 38,
    "start_time": "2024-08-09T03:00:52.170Z"
   },
   {
    "duration": 24,
    "start_time": "2024-08-09T03:00:52.209Z"
   },
   {
    "duration": 37,
    "start_time": "2024-08-09T03:00:52.236Z"
   },
   {
    "duration": 30,
    "start_time": "2024-08-09T03:00:52.274Z"
   },
   {
    "duration": 32,
    "start_time": "2024-08-09T03:00:52.305Z"
   },
   {
    "duration": 44,
    "start_time": "2024-08-09T03:00:52.338Z"
   },
   {
    "duration": 80,
    "start_time": "2024-08-09T03:00:52.383Z"
   },
   {
    "duration": 15,
    "start_time": "2024-08-09T03:00:52.464Z"
   },
   {
    "duration": 13,
    "start_time": "2024-08-09T03:00:52.480Z"
   },
   {
    "duration": 22,
    "start_time": "2024-08-09T03:00:52.494Z"
   },
   {
    "duration": 17,
    "start_time": "2024-08-09T03:00:52.517Z"
   },
   {
    "duration": 23,
    "start_time": "2024-08-09T03:00:52.535Z"
   },
   {
    "duration": 230,
    "start_time": "2024-08-09T03:00:52.560Z"
   },
   {
    "duration": 21,
    "start_time": "2024-08-09T03:00:52.791Z"
   },
   {
    "duration": 4,
    "start_time": "2024-08-09T03:00:52.813Z"
   },
   {
    "duration": 11,
    "start_time": "2024-08-09T03:00:52.818Z"
   },
   {
    "duration": 9,
    "start_time": "2024-08-09T03:00:52.831Z"
   },
   {
    "duration": 4,
    "start_time": "2024-08-09T03:00:52.841Z"
   },
   {
    "duration": 293,
    "start_time": "2024-08-09T03:00:52.846Z"
   },
   {
    "duration": 5,
    "start_time": "2024-08-09T03:00:53.140Z"
   },
   {
    "duration": 7,
    "start_time": "2024-08-09T03:00:53.148Z"
   },
   {
    "duration": 7,
    "start_time": "2024-08-09T03:00:53.156Z"
   },
   {
    "duration": 131,
    "start_time": "2024-08-09T03:00:53.164Z"
   },
   {
    "duration": 114,
    "start_time": "2024-08-09T03:00:53.296Z"
   },
   {
    "duration": 114,
    "start_time": "2024-08-09T03:00:53.411Z"
   },
   {
    "duration": 7,
    "start_time": "2024-08-09T03:00:53.526Z"
   },
   {
    "duration": 27,
    "start_time": "2024-08-09T03:00:53.535Z"
   },
   {
    "duration": 14,
    "start_time": "2024-08-09T03:00:53.563Z"
   },
   {
    "duration": 172,
    "start_time": "2024-08-09T03:00:53.579Z"
   },
   {
    "duration": 5,
    "start_time": "2024-08-09T03:00:53.752Z"
   },
   {
    "duration": 118,
    "start_time": "2024-08-09T03:00:53.758Z"
   },
   {
    "duration": 152,
    "start_time": "2024-08-09T03:00:53.877Z"
   },
   {
    "duration": 114,
    "start_time": "2024-08-09T03:00:54.030Z"
   },
   {
    "duration": 147,
    "start_time": "2024-08-09T03:00:54.146Z"
   },
   {
    "duration": 9,
    "start_time": "2024-08-09T03:00:54.294Z"
   },
   {
    "duration": 8,
    "start_time": "2024-08-09T03:00:54.304Z"
   },
   {
    "duration": 204,
    "start_time": "2024-08-09T03:00:54.313Z"
   },
   {
    "duration": 97,
    "start_time": "2024-08-09T03:00:54.518Z"
   },
   {
    "duration": 138,
    "start_time": "2024-08-09T03:00:54.616Z"
   },
   {
    "duration": 4,
    "start_time": "2024-08-09T03:00:54.756Z"
   },
   {
    "duration": 15,
    "start_time": "2024-08-09T03:00:54.761Z"
   },
   {
    "duration": 23,
    "start_time": "2024-08-09T03:00:54.777Z"
   },
   {
    "duration": 112,
    "start_time": "2024-08-09T03:00:54.801Z"
   },
   {
    "duration": 17,
    "start_time": "2024-08-09T03:00:54.914Z"
   },
   {
    "duration": 87,
    "start_time": "2024-08-09T03:00:54.932Z"
   },
   {
    "duration": 33,
    "start_time": "2024-08-09T03:00:55.020Z"
   },
   {
    "duration": 99,
    "start_time": "2024-08-09T03:00:55.055Z"
   },
   {
    "duration": 8,
    "start_time": "2024-08-09T03:00:55.155Z"
   },
   {
    "duration": 28,
    "start_time": "2024-08-09T03:00:55.164Z"
   },
   {
    "duration": 9,
    "start_time": "2024-08-09T03:00:55.193Z"
   },
   {
    "duration": 19,
    "start_time": "2024-08-09T03:00:55.203Z"
   },
   {
    "duration": 10,
    "start_time": "2024-08-09T03:00:55.223Z"
   },
   {
    "duration": 117,
    "start_time": "2024-08-09T03:00:55.235Z"
   },
   {
    "duration": 110,
    "start_time": "2024-08-09T03:00:55.353Z"
   },
   {
    "duration": 7,
    "start_time": "2024-08-09T03:00:55.464Z"
   },
   {
    "duration": 23,
    "start_time": "2024-08-09T03:00:55.472Z"
   },
   {
    "duration": 25,
    "start_time": "2024-08-09T03:00:55.496Z"
   },
   {
    "duration": 137,
    "start_time": "2024-08-09T03:00:55.522Z"
   },
   {
    "duration": 4,
    "start_time": "2024-08-09T03:00:55.661Z"
   },
   {
    "duration": 7,
    "start_time": "2024-08-09T03:00:55.666Z"
   },
   {
    "duration": 112,
    "start_time": "2024-08-09T03:00:55.675Z"
   },
   {
    "duration": 62,
    "start_time": "2024-08-09T03:00:55.789Z"
   },
   {
    "duration": 13,
    "start_time": "2024-08-09T03:00:55.853Z"
   },
   {
    "duration": 5,
    "start_time": "2024-08-09T03:00:55.867Z"
   },
   {
    "duration": 8,
    "start_time": "2024-08-09T03:00:55.873Z"
   },
   {
    "duration": 106,
    "start_time": "2024-08-09T03:00:55.883Z"
   },
   {
    "duration": 113,
    "start_time": "2024-08-09T03:00:55.990Z"
   },
   {
    "duration": 195,
    "start_time": "2024-08-09T03:00:56.104Z"
   },
   {
    "duration": 4,
    "start_time": "2024-08-09T03:00:56.302Z"
   },
   {
    "duration": 158,
    "start_time": "2024-08-09T03:00:56.307Z"
   },
   {
    "duration": 144,
    "start_time": "2024-08-09T03:00:56.467Z"
   },
   {
    "duration": 7,
    "start_time": "2024-08-09T03:00:56.612Z"
   },
   {
    "duration": 120,
    "start_time": "2024-08-09T03:00:56.621Z"
   },
   {
    "duration": 106,
    "start_time": "2024-08-09T03:00:56.743Z"
   },
   {
    "duration": 11,
    "start_time": "2024-08-09T03:00:56.857Z"
   },
   {
    "duration": 120,
    "start_time": "2024-08-09T03:00:56.869Z"
   },
   {
    "duration": 114,
    "start_time": "2024-08-09T03:00:56.990Z"
   },
   {
    "duration": 190,
    "start_time": "2024-08-09T03:00:57.105Z"
   },
   {
    "duration": 18,
    "start_time": "2024-08-09T03:00:57.296Z"
   },
   {
    "duration": 127,
    "start_time": "2024-08-09T03:00:57.315Z"
   },
   {
    "duration": 100,
    "start_time": "2024-08-09T03:00:57.444Z"
   },
   {
    "duration": 159,
    "start_time": "2024-08-09T03:00:57.546Z"
   },
   {
    "duration": 175,
    "start_time": "2024-08-09T03:00:57.706Z"
   },
   {
    "duration": 119,
    "start_time": "2024-08-09T03:00:57.882Z"
   },
   {
    "duration": 125,
    "start_time": "2024-08-09T03:00:58.003Z"
   },
   {
    "duration": 23,
    "start_time": "2024-08-09T03:00:58.129Z"
   },
   {
    "duration": 5,
    "start_time": "2024-08-09T03:00:58.154Z"
   },
   {
    "duration": 19,
    "start_time": "2024-08-09T03:00:58.161Z"
   },
   {
    "duration": 130,
    "start_time": "2024-08-09T03:00:58.181Z"
   },
   {
    "duration": 12,
    "start_time": "2024-08-09T03:00:58.312Z"
   },
   {
    "duration": 225,
    "start_time": "2024-08-09T03:00:58.325Z"
   },
   {
    "duration": 16,
    "start_time": "2024-08-09T03:00:58.552Z"
   },
   {
    "duration": 1053,
    "start_time": "2024-08-09T03:07:47.896Z"
   },
   {
    "duration": 87,
    "start_time": "2024-08-09T03:07:48.950Z"
   },
   {
    "duration": 13,
    "start_time": "2024-08-09T03:07:49.039Z"
   },
   {
    "duration": 37,
    "start_time": "2024-08-09T03:07:49.053Z"
   },
   {
    "duration": 1597,
    "start_time": "2024-08-09T03:07:49.091Z"
   },
   {
    "duration": 8,
    "start_time": "2024-08-09T03:07:50.689Z"
   },
   {
    "duration": 61,
    "start_time": "2024-08-09T03:07:50.698Z"
   },
   {
    "duration": 12,
    "start_time": "2024-08-09T03:07:50.760Z"
   },
   {
    "duration": 5,
    "start_time": "2024-08-09T03:07:50.773Z"
   },
   {
    "duration": 14,
    "start_time": "2024-08-09T03:07:50.780Z"
   },
   {
    "duration": 25,
    "start_time": "2024-08-09T03:07:50.796Z"
   },
   {
    "duration": 23,
    "start_time": "2024-08-09T03:07:50.822Z"
   },
   {
    "duration": 4,
    "start_time": "2024-08-09T03:07:50.846Z"
   },
   {
    "duration": 13,
    "start_time": "2024-08-09T03:07:50.851Z"
   },
   {
    "duration": 3,
    "start_time": "2024-08-09T03:07:50.865Z"
   },
   {
    "duration": 20,
    "start_time": "2024-08-09T03:07:50.869Z"
   },
   {
    "duration": 27,
    "start_time": "2024-08-09T03:07:50.891Z"
   },
   {
    "duration": 15,
    "start_time": "2024-08-09T03:07:50.920Z"
   },
   {
    "duration": 11,
    "start_time": "2024-08-09T03:07:50.936Z"
   },
   {
    "duration": 215,
    "start_time": "2024-08-09T03:07:50.948Z"
   },
   {
    "duration": 22,
    "start_time": "2024-08-09T03:07:51.164Z"
   },
   {
    "duration": 16,
    "start_time": "2024-08-09T03:07:51.188Z"
   },
   {
    "duration": 8,
    "start_time": "2024-08-09T03:07:51.205Z"
   },
   {
    "duration": 4,
    "start_time": "2024-08-09T03:07:51.215Z"
   },
   {
    "duration": 13,
    "start_time": "2024-08-09T03:07:51.220Z"
   },
   {
    "duration": 301,
    "start_time": "2024-08-09T03:07:51.235Z"
   },
   {
    "duration": 5,
    "start_time": "2024-08-09T03:07:51.537Z"
   },
   {
    "duration": 24,
    "start_time": "2024-08-09T03:07:51.545Z"
   },
   {
    "duration": 8,
    "start_time": "2024-08-09T03:07:51.570Z"
   },
   {
    "duration": 120,
    "start_time": "2024-08-09T03:07:51.579Z"
   },
   {
    "duration": 108,
    "start_time": "2024-08-09T03:07:51.701Z"
   },
   {
    "duration": 168,
    "start_time": "2024-08-09T03:07:51.811Z"
   },
   {
    "duration": 7,
    "start_time": "2024-08-09T03:07:51.981Z"
   },
   {
    "duration": 87,
    "start_time": "2024-08-09T03:07:51.989Z"
   },
   {
    "duration": 17,
    "start_time": "2024-08-09T03:07:52.077Z"
   },
   {
    "duration": 150,
    "start_time": "2024-08-09T03:07:52.095Z"
   },
   {
    "duration": 4,
    "start_time": "2024-08-09T03:07:52.247Z"
   },
   {
    "duration": 18,
    "start_time": "2024-08-09T03:07:52.252Z"
   },
   {
    "duration": 125,
    "start_time": "2024-08-09T03:07:52.272Z"
   },
   {
    "duration": 113,
    "start_time": "2024-08-09T03:07:52.401Z"
   },
   {
    "duration": 168,
    "start_time": "2024-08-09T03:07:52.516Z"
   },
   {
    "duration": 5,
    "start_time": "2024-08-09T03:07:52.686Z"
   },
   {
    "duration": 31,
    "start_time": "2024-08-09T03:07:52.692Z"
   },
   {
    "duration": 189,
    "start_time": "2024-08-09T03:07:52.725Z"
   },
   {
    "duration": 102,
    "start_time": "2024-08-09T03:07:52.916Z"
   },
   {
    "duration": 141,
    "start_time": "2024-08-09T03:07:53.019Z"
   },
   {
    "duration": 5,
    "start_time": "2024-08-09T03:07:53.161Z"
   },
   {
    "duration": 20,
    "start_time": "2024-08-09T03:07:53.167Z"
   },
   {
    "duration": 9,
    "start_time": "2024-08-09T03:07:53.188Z"
   },
   {
    "duration": 131,
    "start_time": "2024-08-09T03:07:53.204Z"
   },
   {
    "duration": 17,
    "start_time": "2024-08-09T03:07:53.337Z"
   },
   {
    "duration": 26,
    "start_time": "2024-08-09T03:07:53.355Z"
   },
   {
    "duration": 54,
    "start_time": "2024-08-09T03:07:53.382Z"
   },
   {
    "duration": 110,
    "start_time": "2024-08-09T03:07:53.437Z"
   },
   {
    "duration": 9,
    "start_time": "2024-08-09T03:07:53.549Z"
   },
   {
    "duration": 16,
    "start_time": "2024-08-09T03:07:53.559Z"
   },
   {
    "duration": 22,
    "start_time": "2024-08-09T03:07:53.577Z"
   },
   {
    "duration": 9,
    "start_time": "2024-08-09T03:07:53.601Z"
   },
   {
    "duration": 6,
    "start_time": "2024-08-09T03:07:53.611Z"
   },
   {
    "duration": 116,
    "start_time": "2024-08-09T03:07:53.618Z"
   },
   {
    "duration": 112,
    "start_time": "2024-08-09T03:07:53.735Z"
   },
   {
    "duration": 79,
    "start_time": "2024-08-09T03:07:53.849Z"
   },
   {
    "duration": 5,
    "start_time": "2024-08-09T03:07:53.930Z"
   },
   {
    "duration": 16,
    "start_time": "2024-08-09T03:07:53.936Z"
   },
   {
    "duration": 136,
    "start_time": "2024-08-09T03:07:53.954Z"
   },
   {
    "duration": 10,
    "start_time": "2024-08-09T03:07:54.092Z"
   },
   {
    "duration": 14,
    "start_time": "2024-08-09T03:07:54.103Z"
   },
   {
    "duration": 107,
    "start_time": "2024-08-09T03:07:54.119Z"
   },
   {
    "duration": 6,
    "start_time": "2024-08-09T03:07:54.228Z"
   },
   {
    "duration": 19,
    "start_time": "2024-08-09T03:07:54.236Z"
   },
   {
    "duration": 26,
    "start_time": "2024-08-09T03:07:54.256Z"
   },
   {
    "duration": 14,
    "start_time": "2024-08-09T03:07:54.283Z"
   },
   {
    "duration": 110,
    "start_time": "2024-08-09T03:07:54.298Z"
   },
   {
    "duration": 112,
    "start_time": "2024-08-09T03:07:54.409Z"
   },
   {
    "duration": 205,
    "start_time": "2024-08-09T03:07:54.523Z"
   },
   {
    "duration": 5,
    "start_time": "2024-08-09T03:07:54.729Z"
   },
   {
    "duration": 143,
    "start_time": "2024-08-09T03:07:54.735Z"
   },
   {
    "duration": 145,
    "start_time": "2024-08-09T03:07:54.879Z"
   },
   {
    "duration": 8,
    "start_time": "2024-08-09T03:07:55.026Z"
   },
   {
    "duration": 141,
    "start_time": "2024-08-09T03:07:55.035Z"
   },
   {
    "duration": 109,
    "start_time": "2024-08-09T03:07:55.178Z"
   },
   {
    "duration": 11,
    "start_time": "2024-08-09T03:07:55.293Z"
   },
   {
    "duration": 115,
    "start_time": "2024-08-09T03:07:55.306Z"
   },
   {
    "duration": 111,
    "start_time": "2024-08-09T03:07:55.422Z"
   },
   {
    "duration": 186,
    "start_time": "2024-08-09T03:07:55.534Z"
   },
   {
    "duration": 15,
    "start_time": "2024-08-09T03:07:55.722Z"
   },
   {
    "duration": 232,
    "start_time": "2024-08-09T03:07:55.738Z"
   },
   {
    "duration": 105,
    "start_time": "2024-08-09T03:07:55.972Z"
   },
   {
    "duration": 172,
    "start_time": "2024-08-09T03:07:56.079Z"
   },
   {
    "duration": 189,
    "start_time": "2024-08-09T03:07:56.253Z"
   },
   {
    "duration": 125,
    "start_time": "2024-08-09T03:07:56.443Z"
   },
   {
    "duration": 125,
    "start_time": "2024-08-09T03:07:56.569Z"
   },
   {
    "duration": 19,
    "start_time": "2024-08-09T03:07:56.701Z"
   },
   {
    "duration": 10,
    "start_time": "2024-08-09T03:07:56.721Z"
   },
   {
    "duration": 15,
    "start_time": "2024-08-09T03:07:56.732Z"
   },
   {
    "duration": 165,
    "start_time": "2024-08-09T03:07:56.749Z"
   },
   {
    "duration": 12,
    "start_time": "2024-08-09T03:07:56.916Z"
   },
   {
    "duration": 159,
    "start_time": "2024-08-09T03:07:56.930Z"
   },
   {
    "duration": 22,
    "start_time": "2024-08-09T03:07:57.091Z"
   },
   {
    "duration": 1127,
    "start_time": "2024-08-09T11:19:36.886Z"
   },
   {
    "duration": 101,
    "start_time": "2024-08-09T11:19:38.015Z"
   },
   {
    "duration": 16,
    "start_time": "2024-08-09T11:19:38.117Z"
   },
   {
    "duration": 37,
    "start_time": "2024-08-09T11:19:38.135Z"
   },
   {
    "duration": 1938,
    "start_time": "2024-08-09T11:19:38.174Z"
   },
   {
    "duration": 9,
    "start_time": "2024-08-09T11:19:40.114Z"
   },
   {
    "duration": 11,
    "start_time": "2024-08-09T11:19:40.124Z"
   },
   {
    "duration": 8,
    "start_time": "2024-08-09T11:19:40.136Z"
   },
   {
    "duration": 8,
    "start_time": "2024-08-09T11:19:40.145Z"
   },
   {
    "duration": 5,
    "start_time": "2024-08-09T11:19:40.156Z"
   },
   {
    "duration": 7,
    "start_time": "2024-08-09T11:19:40.162Z"
   },
   {
    "duration": 26,
    "start_time": "2024-08-09T11:19:40.170Z"
   },
   {
    "duration": 5,
    "start_time": "2024-08-09T11:19:40.197Z"
   },
   {
    "duration": 8,
    "start_time": "2024-08-09T11:19:40.203Z"
   },
   {
    "duration": 5,
    "start_time": "2024-08-09T11:19:40.212Z"
   },
   {
    "duration": 7,
    "start_time": "2024-08-09T11:19:40.218Z"
   },
   {
    "duration": 25,
    "start_time": "2024-08-09T11:19:40.226Z"
   },
   {
    "duration": 49,
    "start_time": "2024-08-09T11:19:40.253Z"
   },
   {
    "duration": 14,
    "start_time": "2024-08-09T11:19:40.303Z"
   },
   {
    "duration": 239,
    "start_time": "2024-08-09T11:19:40.319Z"
   },
   {
    "duration": 36,
    "start_time": "2024-08-09T11:19:40.560Z"
   },
   {
    "duration": 6,
    "start_time": "2024-08-09T11:19:40.597Z"
   },
   {
    "duration": 32,
    "start_time": "2024-08-09T11:19:40.604Z"
   },
   {
    "duration": 10,
    "start_time": "2024-08-09T11:19:40.637Z"
   },
   {
    "duration": 7,
    "start_time": "2024-08-09T11:19:40.648Z"
   },
   {
    "duration": 348,
    "start_time": "2024-08-09T11:19:40.656Z"
   },
   {
    "duration": 6,
    "start_time": "2024-08-09T11:19:41.005Z"
   },
   {
    "duration": 8,
    "start_time": "2024-08-09T11:19:41.015Z"
   },
   {
    "duration": 7,
    "start_time": "2024-08-09T11:19:41.024Z"
   },
   {
    "duration": 146,
    "start_time": "2024-08-09T11:19:41.033Z"
   },
   {
    "duration": 139,
    "start_time": "2024-08-09T11:19:41.181Z"
   },
   {
    "duration": 140,
    "start_time": "2024-08-09T11:19:41.322Z"
   },
   {
    "duration": 10,
    "start_time": "2024-08-09T11:19:41.463Z"
   },
   {
    "duration": 15,
    "start_time": "2024-08-09T11:19:41.474Z"
   },
   {
    "duration": 3,
    "start_time": "2024-08-09T11:19:41.495Z"
   },
   {
    "duration": 185,
    "start_time": "2024-08-09T11:19:41.500Z"
   },
   {
    "duration": 4,
    "start_time": "2024-08-09T11:19:41.687Z"
   },
   {
    "duration": 17,
    "start_time": "2024-08-09T11:19:41.697Z"
   },
   {
    "duration": 160,
    "start_time": "2024-08-09T11:19:41.716Z"
   },
   {
    "duration": 149,
    "start_time": "2024-08-09T11:19:41.878Z"
   },
   {
    "duration": 179,
    "start_time": "2024-08-09T11:19:42.029Z"
   },
   {
    "duration": 6,
    "start_time": "2024-08-09T11:19:42.210Z"
   },
   {
    "duration": 18,
    "start_time": "2024-08-09T11:19:42.218Z"
   },
   {
    "duration": 260,
    "start_time": "2024-08-09T11:19:42.238Z"
   },
   {
    "duration": 129,
    "start_time": "2024-08-09T11:19:42.499Z"
   },
   {
    "duration": 166,
    "start_time": "2024-08-09T11:19:42.630Z"
   },
   {
    "duration": 5,
    "start_time": "2024-08-09T11:19:42.797Z"
   },
   {
    "duration": 17,
    "start_time": "2024-08-09T11:19:42.804Z"
   },
   {
    "duration": 5,
    "start_time": "2024-08-09T11:19:42.823Z"
   },
   {
    "duration": 140,
    "start_time": "2024-08-09T11:19:42.829Z"
   },
   {
    "duration": 29,
    "start_time": "2024-08-09T11:19:42.970Z"
   },
   {
    "duration": 8,
    "start_time": "2024-08-09T11:19:43.001Z"
   },
   {
    "duration": 42,
    "start_time": "2024-08-09T11:19:43.011Z"
   },
   {
    "duration": 127,
    "start_time": "2024-08-09T11:19:43.055Z"
   },
   {
    "duration": 15,
    "start_time": "2024-08-09T11:19:43.184Z"
   },
   {
    "duration": 4,
    "start_time": "2024-08-09T11:19:43.200Z"
   },
   {
    "duration": 9,
    "start_time": "2024-08-09T11:19:43.205Z"
   },
   {
    "duration": 10,
    "start_time": "2024-08-09T11:19:43.215Z"
   },
   {
    "duration": 6,
    "start_time": "2024-08-09T11:19:43.226Z"
   },
   {
    "duration": 145,
    "start_time": "2024-08-09T11:19:43.233Z"
   },
   {
    "duration": 137,
    "start_time": "2024-08-09T11:19:43.379Z"
   },
   {
    "duration": 8,
    "start_time": "2024-08-09T11:19:43.517Z"
   },
   {
    "duration": 6,
    "start_time": "2024-08-09T11:19:43.527Z"
   },
   {
    "duration": 3,
    "start_time": "2024-08-09T11:19:43.535Z"
   },
   {
    "duration": 165,
    "start_time": "2024-08-09T11:19:43.539Z"
   },
   {
    "duration": 5,
    "start_time": "2024-08-09T11:19:43.705Z"
   },
   {
    "duration": 12,
    "start_time": "2024-08-09T11:19:43.712Z"
   },
   {
    "duration": 137,
    "start_time": "2024-08-09T11:19:43.726Z"
   },
   {
    "duration": 9,
    "start_time": "2024-08-09T11:19:43.864Z"
   },
   {
    "duration": 4,
    "start_time": "2024-08-09T11:19:43.874Z"
   },
   {
    "duration": 18,
    "start_time": "2024-08-09T11:19:43.879Z"
   },
   {
    "duration": 11,
    "start_time": "2024-08-09T11:19:43.898Z"
   },
   {
    "duration": 135,
    "start_time": "2024-08-09T11:19:43.910Z"
   },
   {
    "duration": 137,
    "start_time": "2024-08-09T11:19:44.046Z"
   },
   {
    "duration": 242,
    "start_time": "2024-08-09T11:19:44.185Z"
   },
   {
    "duration": 5,
    "start_time": "2024-08-09T11:19:44.428Z"
   },
   {
    "duration": 176,
    "start_time": "2024-08-09T11:19:44.435Z"
   },
   {
    "duration": 170,
    "start_time": "2024-08-09T11:19:44.612Z"
   },
   {
    "duration": 17,
    "start_time": "2024-08-09T11:19:44.784Z"
   },
   {
    "duration": 141,
    "start_time": "2024-08-09T11:19:44.803Z"
   },
   {
    "duration": 132,
    "start_time": "2024-08-09T11:19:44.945Z"
   },
   {
    "duration": 17,
    "start_time": "2024-08-09T11:19:45.082Z"
   },
   {
    "duration": 129,
    "start_time": "2024-08-09T11:19:45.101Z"
   },
   {
    "duration": 156,
    "start_time": "2024-08-09T11:19:45.232Z"
   },
   {
    "duration": 250,
    "start_time": "2024-08-09T11:19:45.390Z"
   },
   {
    "duration": 25,
    "start_time": "2024-08-09T11:19:45.643Z"
   },
   {
    "duration": 182,
    "start_time": "2024-08-09T11:19:45.670Z"
   },
   {
    "duration": 133,
    "start_time": "2024-08-09T11:19:45.853Z"
   },
   {
    "duration": 195,
    "start_time": "2024-08-09T11:19:45.988Z"
   },
   {
    "duration": 225,
    "start_time": "2024-08-09T11:19:46.185Z"
   },
   {
    "duration": 145,
    "start_time": "2024-08-09T11:19:46.412Z"
   },
   {
    "duration": 158,
    "start_time": "2024-08-09T11:19:46.559Z"
   },
   {
    "duration": 23,
    "start_time": "2024-08-09T11:19:46.718Z"
   },
   {
    "duration": 7,
    "start_time": "2024-08-09T11:19:46.742Z"
   },
   {
    "duration": 9,
    "start_time": "2024-08-09T11:19:46.750Z"
   },
   {
    "duration": 167,
    "start_time": "2024-08-09T11:19:46.760Z"
   },
   {
    "duration": 13,
    "start_time": "2024-08-09T11:19:46.928Z"
   },
   {
    "duration": 195,
    "start_time": "2024-08-09T11:19:46.942Z"
   },
   {
    "duration": 19,
    "start_time": "2024-08-09T11:19:47.139Z"
   },
   {
    "duration": 1140,
    "start_time": "2024-08-09T11:20:08.564Z"
   },
   {
    "duration": 103,
    "start_time": "2024-08-09T11:20:09.706Z"
   },
   {
    "duration": 16,
    "start_time": "2024-08-09T11:20:09.810Z"
   },
   {
    "duration": 38,
    "start_time": "2024-08-09T11:20:09.827Z"
   },
   {
    "duration": 1973,
    "start_time": "2024-08-09T11:20:09.867Z"
   },
   {
    "duration": 9,
    "start_time": "2024-08-09T11:20:11.842Z"
   },
   {
    "duration": 4,
    "start_time": "2024-08-09T11:20:11.853Z"
   },
   {
    "duration": 7,
    "start_time": "2024-08-09T11:20:11.859Z"
   },
   {
    "duration": 8,
    "start_time": "2024-08-09T11:20:11.868Z"
   },
   {
    "duration": 6,
    "start_time": "2024-08-09T11:20:11.877Z"
   },
   {
    "duration": 8,
    "start_time": "2024-08-09T11:20:11.885Z"
   },
   {
    "duration": 5,
    "start_time": "2024-08-09T11:20:11.894Z"
   },
   {
    "duration": 8,
    "start_time": "2024-08-09T11:20:11.900Z"
   },
   {
    "duration": 10,
    "start_time": "2024-08-09T11:20:11.912Z"
   },
   {
    "duration": 5,
    "start_time": "2024-08-09T11:20:11.924Z"
   },
   {
    "duration": 7,
    "start_time": "2024-08-09T11:20:11.930Z"
   },
   {
    "duration": 36,
    "start_time": "2024-08-09T11:20:11.938Z"
   },
   {
    "duration": 19,
    "start_time": "2024-08-09T11:20:11.997Z"
   },
   {
    "duration": 19,
    "start_time": "2024-08-09T11:20:12.017Z"
   },
   {
    "duration": 311,
    "start_time": "2024-08-09T11:20:12.038Z"
   },
   {
    "duration": 28,
    "start_time": "2024-08-09T11:20:12.350Z"
   },
   {
    "duration": 19,
    "start_time": "2024-08-09T11:20:12.379Z"
   },
   {
    "duration": 6,
    "start_time": "2024-08-09T11:20:12.400Z"
   },
   {
    "duration": 9,
    "start_time": "2024-08-09T11:20:12.407Z"
   },
   {
    "duration": 8,
    "start_time": "2024-08-09T11:20:12.417Z"
   },
   {
    "duration": 350,
    "start_time": "2024-08-09T11:20:12.426Z"
   },
   {
    "duration": 6,
    "start_time": "2024-08-09T11:20:12.777Z"
   },
   {
    "duration": 18,
    "start_time": "2024-08-09T11:20:12.784Z"
   },
   {
    "duration": 17,
    "start_time": "2024-08-09T11:20:12.803Z"
   },
   {
    "duration": 129,
    "start_time": "2024-08-09T11:20:12.822Z"
   },
   {
    "duration": 144,
    "start_time": "2024-08-09T11:20:12.952Z"
   },
   {
    "duration": 142,
    "start_time": "2024-08-09T11:20:13.098Z"
   },
   {
    "duration": 9,
    "start_time": "2024-08-09T11:20:13.241Z"
   },
   {
    "duration": 9,
    "start_time": "2024-08-09T11:20:13.251Z"
   },
   {
    "duration": 15,
    "start_time": "2024-08-09T11:20:13.261Z"
   },
   {
    "duration": 186,
    "start_time": "2024-08-09T11:20:13.277Z"
   },
   {
    "duration": 5,
    "start_time": "2024-08-09T11:20:13.464Z"
   },
   {
    "duration": 8,
    "start_time": "2024-08-09T11:20:13.471Z"
   },
   {
    "duration": 148,
    "start_time": "2024-08-09T11:20:13.496Z"
   },
   {
    "duration": 146,
    "start_time": "2024-08-09T11:20:13.645Z"
   },
   {
    "duration": 183,
    "start_time": "2024-08-09T11:20:13.795Z"
   },
   {
    "duration": 5,
    "start_time": "2024-08-09T11:20:13.979Z"
   },
   {
    "duration": 15,
    "start_time": "2024-08-09T11:20:13.985Z"
   },
   {
    "duration": 241,
    "start_time": "2024-08-09T11:20:14.001Z"
   },
   {
    "duration": 132,
    "start_time": "2024-08-09T11:20:14.244Z"
   },
   {
    "duration": 162,
    "start_time": "2024-08-09T11:20:14.377Z"
   },
   {
    "duration": 5,
    "start_time": "2024-08-09T11:20:14.540Z"
   },
   {
    "duration": 8,
    "start_time": "2024-08-09T11:20:14.546Z"
   },
   {
    "duration": 4,
    "start_time": "2024-08-09T11:20:14.556Z"
   },
   {
    "duration": 155,
    "start_time": "2024-08-09T11:20:14.562Z"
   },
   {
    "duration": 22,
    "start_time": "2024-08-09T11:20:14.718Z"
   },
   {
    "duration": 11,
    "start_time": "2024-08-09T11:20:14.742Z"
   },
   {
    "duration": 57,
    "start_time": "2024-08-09T11:20:14.754Z"
   },
   {
    "duration": 136,
    "start_time": "2024-08-09T11:20:14.813Z"
   },
   {
    "duration": 8,
    "start_time": "2024-08-09T11:20:14.951Z"
   },
   {
    "duration": 4,
    "start_time": "2024-08-09T11:20:14.960Z"
   },
   {
    "duration": 4,
    "start_time": "2024-08-09T11:20:14.965Z"
   },
   {
    "duration": 27,
    "start_time": "2024-08-09T11:20:14.970Z"
   },
   {
    "duration": 7,
    "start_time": "2024-08-09T11:20:14.999Z"
   },
   {
    "duration": 137,
    "start_time": "2024-08-09T11:20:15.007Z"
   },
   {
    "duration": 149,
    "start_time": "2024-08-09T11:20:15.145Z"
   },
   {
    "duration": 11,
    "start_time": "2024-08-09T11:20:15.296Z"
   },
   {
    "duration": 25,
    "start_time": "2024-08-09T11:20:15.308Z"
   },
   {
    "duration": 22,
    "start_time": "2024-08-09T11:20:15.335Z"
   },
   {
    "duration": 189,
    "start_time": "2024-08-09T11:20:15.359Z"
   },
   {
    "duration": 7,
    "start_time": "2024-08-09T11:20:15.550Z"
   },
   {
    "duration": 11,
    "start_time": "2024-08-09T11:20:15.559Z"
   },
   {
    "duration": 153,
    "start_time": "2024-08-09T11:20:15.572Z"
   },
   {
    "duration": 8,
    "start_time": "2024-08-09T11:20:15.726Z"
   },
   {
    "duration": 3,
    "start_time": "2024-08-09T11:20:15.736Z"
   },
   {
    "duration": 14,
    "start_time": "2024-08-09T11:20:15.740Z"
   },
   {
    "duration": 10,
    "start_time": "2024-08-09T11:20:15.756Z"
   },
   {
    "duration": 152,
    "start_time": "2024-08-09T11:20:15.767Z"
   },
   {
    "duration": 142,
    "start_time": "2024-08-09T11:20:15.921Z"
   },
   {
    "duration": 234,
    "start_time": "2024-08-09T11:20:16.065Z"
   },
   {
    "duration": 5,
    "start_time": "2024-08-09T11:20:16.300Z"
   },
   {
    "duration": 177,
    "start_time": "2024-08-09T11:20:16.307Z"
   },
   {
    "duration": 171,
    "start_time": "2024-08-09T11:20:16.485Z"
   },
   {
    "duration": 9,
    "start_time": "2024-08-09T11:20:16.657Z"
   },
   {
    "duration": 152,
    "start_time": "2024-08-09T11:20:16.667Z"
   },
   {
    "duration": 148,
    "start_time": "2024-08-09T11:20:16.820Z"
   },
   {
    "duration": 9,
    "start_time": "2024-08-09T11:20:16.970Z"
   },
   {
    "duration": 134,
    "start_time": "2024-08-09T11:20:16.980Z"
   },
   {
    "duration": 144,
    "start_time": "2024-08-09T11:20:17.115Z"
   },
   {
    "duration": 232,
    "start_time": "2024-08-09T11:20:17.261Z"
   },
   {
    "duration": 19,
    "start_time": "2024-08-09T11:20:17.494Z"
   },
   {
    "duration": 156,
    "start_time": "2024-08-09T11:20:17.514Z"
   },
   {
    "duration": 128,
    "start_time": "2024-08-09T11:20:17.672Z"
   },
   {
    "duration": 200,
    "start_time": "2024-08-09T11:20:17.802Z"
   },
   {
    "duration": 245,
    "start_time": "2024-08-09T11:20:18.003Z"
   },
   {
    "duration": 158,
    "start_time": "2024-08-09T11:20:18.249Z"
   },
   {
    "duration": 165,
    "start_time": "2024-08-09T11:20:18.408Z"
   },
   {
    "duration": 32,
    "start_time": "2024-08-09T11:20:18.574Z"
   },
   {
    "duration": 7,
    "start_time": "2024-08-09T11:20:18.608Z"
   },
   {
    "duration": 8,
    "start_time": "2024-08-09T11:20:18.617Z"
   },
   {
    "duration": 161,
    "start_time": "2024-08-09T11:20:18.626Z"
   },
   {
    "duration": 17,
    "start_time": "2024-08-09T11:20:18.789Z"
   },
   {
    "duration": 186,
    "start_time": "2024-08-09T11:20:18.808Z"
   },
   {
    "duration": 19,
    "start_time": "2024-08-09T11:20:18.995Z"
   },
   {
    "duration": 108,
    "start_time": "2024-08-09T11:22:33.274Z"
   },
   {
    "duration": 49,
    "start_time": "2025-04-15T16:37:56.201Z"
   },
   {
    "duration": 1482,
    "start_time": "2025-04-15T16:38:04.034Z"
   },
   {
    "duration": 98,
    "start_time": "2025-04-15T16:38:05.518Z"
   },
   {
    "duration": 16,
    "start_time": "2025-04-15T16:38:05.617Z"
   },
   {
    "duration": 57,
    "start_time": "2025-04-15T16:38:05.635Z"
   },
   {
    "duration": 2126,
    "start_time": "2025-04-15T16:38:05.695Z"
   },
   {
    "duration": 13,
    "start_time": "2025-04-15T16:38:07.823Z"
   },
   {
    "duration": 6,
    "start_time": "2025-04-15T16:38:07.838Z"
   },
   {
    "duration": 21,
    "start_time": "2025-04-15T16:38:07.846Z"
   },
   {
    "duration": 5,
    "start_time": "2025-04-15T16:38:07.869Z"
   },
   {
    "duration": 6,
    "start_time": "2025-04-15T16:38:07.875Z"
   },
   {
    "duration": 8,
    "start_time": "2025-04-15T16:38:07.883Z"
   },
   {
    "duration": 5,
    "start_time": "2025-04-15T16:38:07.893Z"
   },
   {
    "duration": 5,
    "start_time": "2025-04-15T16:38:07.900Z"
   },
   {
    "duration": 9,
    "start_time": "2025-04-15T16:38:07.908Z"
   },
   {
    "duration": 44,
    "start_time": "2025-04-15T16:38:07.919Z"
   },
   {
    "duration": 9,
    "start_time": "2025-04-15T16:38:07.965Z"
   },
   {
    "duration": 30,
    "start_time": "2025-04-15T16:38:07.975Z"
   },
   {
    "duration": 19,
    "start_time": "2025-04-15T16:38:08.007Z"
   },
   {
    "duration": 37,
    "start_time": "2025-04-15T16:38:08.027Z"
   },
   {
    "duration": 250,
    "start_time": "2025-04-15T16:38:08.066Z"
   },
   {
    "duration": 29,
    "start_time": "2025-04-15T16:38:08.318Z"
   },
   {
    "duration": 17,
    "start_time": "2025-04-15T16:38:08.349Z"
   },
   {
    "duration": 6,
    "start_time": "2025-04-15T16:38:08.367Z"
   },
   {
    "duration": 6,
    "start_time": "2025-04-15T16:38:08.374Z"
   },
   {
    "duration": 25,
    "start_time": "2025-04-15T16:38:08.382Z"
   },
   {
    "duration": 345,
    "start_time": "2025-04-15T16:38:08.409Z"
   },
   {
    "duration": 9,
    "start_time": "2025-04-15T16:38:08.756Z"
   },
   {
    "duration": 9,
    "start_time": "2025-04-15T16:38:08.766Z"
   },
   {
    "duration": 7,
    "start_time": "2025-04-15T16:38:08.776Z"
   },
   {
    "duration": 156,
    "start_time": "2025-04-15T16:38:08.785Z"
   },
   {
    "duration": 177,
    "start_time": "2025-04-15T16:38:08.942Z"
   },
   {
    "duration": 146,
    "start_time": "2025-04-15T16:38:09.121Z"
   },
   {
    "duration": 9,
    "start_time": "2025-04-15T16:38:09.269Z"
   },
   {
    "duration": 4,
    "start_time": "2025-04-15T16:38:09.280Z"
   },
   {
    "duration": 4,
    "start_time": "2025-04-15T16:38:09.285Z"
   },
   {
    "duration": 216,
    "start_time": "2025-04-15T16:38:09.290Z"
   },
   {
    "duration": 5,
    "start_time": "2025-04-15T16:38:09.508Z"
   },
   {
    "duration": 9,
    "start_time": "2025-04-15T16:38:09.514Z"
   },
   {
    "duration": 168,
    "start_time": "2025-04-15T16:38:09.525Z"
   },
   {
    "duration": 148,
    "start_time": "2025-04-15T16:38:09.695Z"
   },
   {
    "duration": 189,
    "start_time": "2025-04-15T16:38:09.848Z"
   },
   {
    "duration": 6,
    "start_time": "2025-04-15T16:38:10.038Z"
   },
   {
    "duration": 22,
    "start_time": "2025-04-15T16:38:10.046Z"
   },
   {
    "duration": 283,
    "start_time": "2025-04-15T16:38:10.070Z"
   },
   {
    "duration": 135,
    "start_time": "2025-04-15T16:38:10.354Z"
   },
   {
    "duration": 173,
    "start_time": "2025-04-15T16:38:10.490Z"
   },
   {
    "duration": 5,
    "start_time": "2025-04-15T16:38:10.665Z"
   },
   {
    "duration": 13,
    "start_time": "2025-04-15T16:38:10.671Z"
   },
   {
    "duration": 5,
    "start_time": "2025-04-15T16:38:10.686Z"
   },
   {
    "duration": 160,
    "start_time": "2025-04-15T16:38:10.693Z"
   },
   {
    "duration": 27,
    "start_time": "2025-04-15T16:38:10.855Z"
   },
   {
    "duration": 7,
    "start_time": "2025-04-15T16:38:10.884Z"
   },
   {
    "duration": 41,
    "start_time": "2025-04-15T16:38:10.892Z"
   },
   {
    "duration": 158,
    "start_time": "2025-04-15T16:38:10.935Z"
   },
   {
    "duration": 10,
    "start_time": "2025-04-15T16:38:11.094Z"
   },
   {
    "duration": 4,
    "start_time": "2025-04-15T16:38:11.106Z"
   },
   {
    "duration": 6,
    "start_time": "2025-04-15T16:38:11.111Z"
   },
   {
    "duration": 10,
    "start_time": "2025-04-15T16:38:11.119Z"
   },
   {
    "duration": 35,
    "start_time": "2025-04-15T16:38:11.130Z"
   },
   {
    "duration": 135,
    "start_time": "2025-04-15T16:38:11.167Z"
   },
   {
    "duration": 151,
    "start_time": "2025-04-15T16:38:11.303Z"
   },
   {
    "duration": 10,
    "start_time": "2025-04-15T16:38:11.459Z"
   },
   {
    "duration": 4,
    "start_time": "2025-04-15T16:38:11.471Z"
   },
   {
    "duration": 5,
    "start_time": "2025-04-15T16:38:11.477Z"
   },
   {
    "duration": 172,
    "start_time": "2025-04-15T16:38:11.483Z"
   },
   {
    "duration": 7,
    "start_time": "2025-04-15T16:38:11.657Z"
   },
   {
    "duration": 10,
    "start_time": "2025-04-15T16:38:11.665Z"
   },
   {
    "duration": 156,
    "start_time": "2025-04-15T16:38:11.677Z"
   },
   {
    "duration": 10,
    "start_time": "2025-04-15T16:38:11.835Z"
   },
   {
    "duration": 12,
    "start_time": "2025-04-15T16:38:11.847Z"
   },
   {
    "duration": 4,
    "start_time": "2025-04-15T16:38:11.861Z"
   },
   {
    "duration": 9,
    "start_time": "2025-04-15T16:38:11.866Z"
   },
   {
    "duration": 157,
    "start_time": "2025-04-15T16:38:11.877Z"
   },
   {
    "duration": 152,
    "start_time": "2025-04-15T16:38:12.036Z"
   },
   {
    "duration": 286,
    "start_time": "2025-04-15T16:38:12.190Z"
   },
   {
    "duration": 6,
    "start_time": "2025-04-15T16:38:12.477Z"
   },
   {
    "duration": 223,
    "start_time": "2025-04-15T16:38:12.484Z"
   },
   {
    "duration": 177,
    "start_time": "2025-04-15T16:38:12.709Z"
   },
   {
    "duration": 10,
    "start_time": "2025-04-15T16:38:12.887Z"
   },
   {
    "duration": 152,
    "start_time": "2025-04-15T16:38:12.899Z"
   },
   {
    "duration": 147,
    "start_time": "2025-04-15T16:38:13.052Z"
   },
   {
    "duration": 9,
    "start_time": "2025-04-15T16:38:13.201Z"
   },
   {
    "duration": 145,
    "start_time": "2025-04-15T16:38:13.212Z"
   },
   {
    "duration": 142,
    "start_time": "2025-04-15T16:38:13.361Z"
   },
   {
    "duration": 224,
    "start_time": "2025-04-15T16:38:13.505Z"
   },
   {
    "duration": 29,
    "start_time": "2025-04-15T16:38:13.731Z"
   },
   {
    "duration": 208,
    "start_time": "2025-04-15T16:38:13.762Z"
   },
   {
    "duration": 136,
    "start_time": "2025-04-15T16:38:13.972Z"
   },
   {
    "duration": 208,
    "start_time": "2025-04-15T16:38:14.110Z"
   },
   {
    "duration": 257,
    "start_time": "2025-04-15T16:38:14.319Z"
   },
   {
    "duration": 156,
    "start_time": "2025-04-15T16:38:14.578Z"
   },
   {
    "duration": 163,
    "start_time": "2025-04-15T16:38:14.736Z"
   },
   {
    "duration": 27,
    "start_time": "2025-04-15T16:38:14.900Z"
   },
   {
    "duration": 8,
    "start_time": "2025-04-15T16:38:14.928Z"
   },
   {
    "duration": 27,
    "start_time": "2025-04-15T16:38:14.938Z"
   },
   {
    "duration": 181,
    "start_time": "2025-04-15T16:38:14.967Z"
   },
   {
    "duration": 0,
    "start_time": "2025-04-15T16:38:15.149Z"
   },
   {
    "duration": 0,
    "start_time": "2025-04-15T16:38:15.151Z"
   },
   {
    "duration": 0,
    "start_time": "2025-04-15T16:38:15.152Z"
   },
   {
    "duration": 168,
    "start_time": "2025-04-15T16:38:30.440Z"
   },
   {
    "duration": 158,
    "start_time": "2025-04-15T16:45:32.930Z"
   },
   {
    "duration": 76,
    "start_time": "2025-04-15T16:48:48.224Z"
   },
   {
    "duration": 162,
    "start_time": "2025-04-15T16:48:56.346Z"
   },
   {
    "duration": 187,
    "start_time": "2025-04-15T16:54:57.365Z"
   },
   {
    "duration": 176,
    "start_time": "2025-04-15T16:55:33.487Z"
   },
   {
    "duration": 185,
    "start_time": "2025-04-15T16:56:00.356Z"
   }
  ],
  "colab": {
   "provenance": []
  },
  "kernelspec": {
   "display_name": "Python 3 (ipykernel)",
   "language": "python",
   "name": "python3"
  },
  "language_info": {
   "codemirror_mode": {
    "name": "ipython",
    "version": 3
   },
   "file_extension": ".py",
   "mimetype": "text/x-python",
   "name": "python",
   "nbconvert_exporter": "python",
   "pygments_lexer": "ipython3",
   "version": "3.9.5"
  },
  "toc": {
   "base_numbering": 1,
   "nav_menu": {},
   "number_sections": true,
   "sideBar": true,
   "skip_h1_title": true,
   "title_cell": "Table of Contents",
   "title_sidebar": "Contents",
   "toc_cell": false,
   "toc_position": {},
   "toc_section_display": true,
   "toc_window_display": false
  }
 },
 "nbformat": 4,
 "nbformat_minor": 1
}
