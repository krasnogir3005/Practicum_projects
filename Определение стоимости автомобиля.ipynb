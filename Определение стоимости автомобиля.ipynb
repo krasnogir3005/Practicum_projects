{
 "cells": [
  {
   "cell_type": "markdown",
   "metadata": {},
   "source": [
    "# Определение стоимости автомобилей"
   ]
  },
  {
   "cell_type": "markdown",
   "metadata": {},
   "source": [
    "Сервис по продаже автомобилей с пробегом «Не бит, не крашен» разрабатывает приложение для привлечения новых клиентов. В нём можно быстро узнать рыночную стоимость своего автомобиля. В вашем распоряжении исторические данные: технические характеристики, комплектации и цены автомобилей. Вам нужно построить модель для определения стоимости. \n",
    "\n",
    "Заказчику важны:\n",
    "\n",
    "- качество предсказания;\n",
    "- скорость предсказания;\n",
    "- время обучения."
   ]
  },
  {
   "cell_type": "markdown",
   "metadata": {},
   "source": [
    "## Подготовка данных"
   ]
  },
  {
   "cell_type": "markdown",
   "metadata": {},
   "source": [
    "Импорт библиотек:"
   ]
  },
  {
   "cell_type": "code",
   "execution_count": 1,
   "metadata": {},
   "outputs": [
    {
     "name": "stdout",
     "output_type": "stream",
     "text": [
      "Collecting scikit-learn==1.1.3\n",
      "  Downloading scikit_learn-1.1.3-cp39-cp39-manylinux_2_17_x86_64.manylinux2014_x86_64.whl (30.8 MB)\n",
      "\u001b[K     |████████████████████████████████| 30.8 MB 1.1 MB/s eta 0:00:01\n",
      "\u001b[?25hRequirement already satisfied: joblib>=1.0.0 in /opt/conda/lib/python3.9/site-packages (from scikit-learn==1.1.3) (1.1.0)\n",
      "Requirement already satisfied: scipy>=1.3.2 in /opt/conda/lib/python3.9/site-packages (from scikit-learn==1.1.3) (1.9.1)\n",
      "Requirement already satisfied: threadpoolctl>=2.0.0 in /opt/conda/lib/python3.9/site-packages (from scikit-learn==1.1.3) (3.1.0)\n",
      "Requirement already satisfied: numpy>=1.17.3 in /opt/conda/lib/python3.9/site-packages (from scikit-learn==1.1.3) (1.21.1)\n",
      "Installing collected packages: scikit-learn\n",
      "  Attempting uninstall: scikit-learn\n",
      "    Found existing installation: scikit-learn 0.24.1\n",
      "    Uninstalling scikit-learn-0.24.1:\n",
      "      Successfully uninstalled scikit-learn-0.24.1\n",
      "Successfully installed scikit-learn-1.1.3\n",
      "Requirement already satisfied: numpy in /opt/conda/lib/python3.9/site-packages (1.21.1)\n",
      "Collecting phik\n",
      "  Downloading phik-0.12.4-cp39-cp39-manylinux_2_17_x86_64.manylinux2014_x86_64.whl (686 kB)\n",
      "\u001b[K     |████████████████████████████████| 686 kB 1.1 MB/s eta 0:00:01\n",
      "\u001b[?25hRequirement already satisfied: scipy>=1.5.2 in /opt/conda/lib/python3.9/site-packages (from phik) (1.9.1)\n",
      "Requirement already satisfied: numpy>=1.18.0 in /opt/conda/lib/python3.9/site-packages (from phik) (1.21.1)\n",
      "Requirement already satisfied: pandas>=0.25.1 in /opt/conda/lib/python3.9/site-packages (from phik) (1.2.4)\n",
      "Requirement already satisfied: joblib>=0.14.1 in /opt/conda/lib/python3.9/site-packages (from phik) (1.1.0)\n",
      "Requirement already satisfied: matplotlib>=2.2.3 in /opt/conda/lib/python3.9/site-packages (from phik) (3.3.4)\n",
      "Requirement already satisfied: kiwisolver>=1.0.1 in /opt/conda/lib/python3.9/site-packages (from matplotlib>=2.2.3->phik) (1.4.4)\n",
      "Requirement already satisfied: pillow>=6.2.0 in /opt/conda/lib/python3.9/site-packages (from matplotlib>=2.2.3->phik) (8.4.0)\n",
      "Requirement already satisfied: cycler>=0.10 in /opt/conda/lib/python3.9/site-packages (from matplotlib>=2.2.3->phik) (0.11.0)\n",
      "Requirement already satisfied: python-dateutil>=2.1 in /opt/conda/lib/python3.9/site-packages (from matplotlib>=2.2.3->phik) (2.8.1)\n",
      "Requirement already satisfied: pyparsing!=2.0.4,!=2.1.2,!=2.1.6,>=2.0.3 in /opt/conda/lib/python3.9/site-packages (from matplotlib>=2.2.3->phik) (2.4.7)\n",
      "Requirement already satisfied: pytz>=2017.3 in /opt/conda/lib/python3.9/site-packages (from pandas>=0.25.1->phik) (2021.1)\n",
      "Requirement already satisfied: six>=1.5 in /opt/conda/lib/python3.9/site-packages (from python-dateutil>=2.1->matplotlib>=2.2.3->phik) (1.16.0)\n",
      "Installing collected packages: phik\n",
      "Successfully installed phik-0.12.4\n",
      "Requirement already satisfied: lightgbm in /opt/conda/lib/python3.9/site-packages (3.3.1)\n",
      "Requirement already satisfied: wheel in /opt/conda/lib/python3.9/site-packages (from lightgbm) (0.36.2)\n",
      "Requirement already satisfied: scipy in /opt/conda/lib/python3.9/site-packages (from lightgbm) (1.9.1)\n",
      "Requirement already satisfied: scikit-learn!=0.22.0 in /opt/conda/lib/python3.9/site-packages (from lightgbm) (1.1.3)\n",
      "Requirement already satisfied: numpy in /opt/conda/lib/python3.9/site-packages (from lightgbm) (1.21.1)\n",
      "Requirement already satisfied: joblib>=1.0.0 in /opt/conda/lib/python3.9/site-packages (from scikit-learn!=0.22.0->lightgbm) (1.1.0)\n",
      "Requirement already satisfied: threadpoolctl>=2.0.0 in /opt/conda/lib/python3.9/site-packages (from scikit-learn!=0.22.0->lightgbm) (3.1.0)\n"
     ]
    }
   ],
   "source": [
    "!pip install scikit-learn==1.1.3\n",
    "!pip install numpy\n",
    "!pip install phik \n",
    "!pip install lightgbm"
   ]
  },
  {
   "cell_type": "code",
   "execution_count": 2,
   "metadata": {},
   "outputs": [],
   "source": [
    "import pandas as pd\n",
    "import matplotlib.pyplot as plt\n",
    "import numpy as np\n",
    "from scipy import stats as st\n",
    "import seaborn as sns\n",
    "import sklearn\n",
    "from sklearn.model_selection import train_test_split, RandomizedSearchCV\n",
    "from sklearn.pipeline import Pipeline\n",
    "from sklearn.compose import ColumnTransformer\n",
    "from sklearn.impute import SimpleImputer\n",
    "import timeit\n",
    "from sklearn.linear_model import LogisticRegression, LinearRegression\n",
    "from lightgbm import LGBMRegressor\n",
    "from catboost import CatBoostRegressor\n",
    "from sklearn.preprocessing import StandardScaler, OneHotEncoder, OrdinalEncoder, MinMaxScaler, LabelEncoder\n",
    "from sklearn.metrics import mean_squared_error \n",
    "from phik.report import plot_correlation_matrix\n",
    "from phik import report\n",
    "from phik import phik_matrix\n",
    "import warnings\n",
    "warnings.filterwarnings(\"ignore\")"
   ]
  },
  {
   "cell_type": "code",
   "execution_count": 3,
   "metadata": {},
   "outputs": [],
   "source": [
    "#Константы\n",
    "RANDOM_STATE = 42\n",
    "TEST_SIZE = 0.25"
   ]
  },
  {
   "cell_type": "markdown",
   "metadata": {},
   "source": [
    "\n",
    "<div class=\"alert alert-block alert-success\">\n",
    "<b>Успех:</b> Импорты  как всегда на месте\n",
    "</div>"
   ]
  },
  {
   "cell_type": "markdown",
   "metadata": {},
   "source": [
    "### Выгрузка данных"
   ]
  },
  {
   "cell_type": "code",
   "execution_count": 4,
   "metadata": {},
   "outputs": [],
   "source": [
    "# функция вывода информации о данных\n",
    "def data_info(data):\n",
    "    display(data.head(20))\n",
    "    data.info()\n",
    "    display(data.describe())"
   ]
  },
  {
   "cell_type": "code",
   "execution_count": 5,
   "metadata": {},
   "outputs": [],
   "source": [
    "autos = pd.read_csv('/datasets/autos.csv')"
   ]
  },
  {
   "cell_type": "code",
   "execution_count": 6,
   "metadata": {},
   "outputs": [
    {
     "data": {
      "text/html": [
       "<div>\n",
       "<style scoped>\n",
       "    .dataframe tbody tr th:only-of-type {\n",
       "        vertical-align: middle;\n",
       "    }\n",
       "\n",
       "    .dataframe tbody tr th {\n",
       "        vertical-align: top;\n",
       "    }\n",
       "\n",
       "    .dataframe thead th {\n",
       "        text-align: right;\n",
       "    }\n",
       "</style>\n",
       "<table border=\"1\" class=\"dataframe\">\n",
       "  <thead>\n",
       "    <tr style=\"text-align: right;\">\n",
       "      <th></th>\n",
       "      <th>DateCrawled</th>\n",
       "      <th>Price</th>\n",
       "      <th>VehicleType</th>\n",
       "      <th>RegistrationYear</th>\n",
       "      <th>Gearbox</th>\n",
       "      <th>Power</th>\n",
       "      <th>Model</th>\n",
       "      <th>Kilometer</th>\n",
       "      <th>RegistrationMonth</th>\n",
       "      <th>FuelType</th>\n",
       "      <th>Brand</th>\n",
       "      <th>Repaired</th>\n",
       "      <th>DateCreated</th>\n",
       "      <th>NumberOfPictures</th>\n",
       "      <th>PostalCode</th>\n",
       "      <th>LastSeen</th>\n",
       "    </tr>\n",
       "  </thead>\n",
       "  <tbody>\n",
       "    <tr>\n",
       "      <th>0</th>\n",
       "      <td>2016-03-24 11:52:17</td>\n",
       "      <td>480</td>\n",
       "      <td>NaN</td>\n",
       "      <td>1993</td>\n",
       "      <td>manual</td>\n",
       "      <td>0</td>\n",
       "      <td>golf</td>\n",
       "      <td>150000</td>\n",
       "      <td>0</td>\n",
       "      <td>petrol</td>\n",
       "      <td>volkswagen</td>\n",
       "      <td>NaN</td>\n",
       "      <td>2016-03-24 00:00:00</td>\n",
       "      <td>0</td>\n",
       "      <td>70435</td>\n",
       "      <td>2016-04-07 03:16:57</td>\n",
       "    </tr>\n",
       "    <tr>\n",
       "      <th>1</th>\n",
       "      <td>2016-03-24 10:58:45</td>\n",
       "      <td>18300</td>\n",
       "      <td>coupe</td>\n",
       "      <td>2011</td>\n",
       "      <td>manual</td>\n",
       "      <td>190</td>\n",
       "      <td>NaN</td>\n",
       "      <td>125000</td>\n",
       "      <td>5</td>\n",
       "      <td>gasoline</td>\n",
       "      <td>audi</td>\n",
       "      <td>yes</td>\n",
       "      <td>2016-03-24 00:00:00</td>\n",
       "      <td>0</td>\n",
       "      <td>66954</td>\n",
       "      <td>2016-04-07 01:46:50</td>\n",
       "    </tr>\n",
       "    <tr>\n",
       "      <th>2</th>\n",
       "      <td>2016-03-14 12:52:21</td>\n",
       "      <td>9800</td>\n",
       "      <td>suv</td>\n",
       "      <td>2004</td>\n",
       "      <td>auto</td>\n",
       "      <td>163</td>\n",
       "      <td>grand</td>\n",
       "      <td>125000</td>\n",
       "      <td>8</td>\n",
       "      <td>gasoline</td>\n",
       "      <td>jeep</td>\n",
       "      <td>NaN</td>\n",
       "      <td>2016-03-14 00:00:00</td>\n",
       "      <td>0</td>\n",
       "      <td>90480</td>\n",
       "      <td>2016-04-05 12:47:46</td>\n",
       "    </tr>\n",
       "    <tr>\n",
       "      <th>3</th>\n",
       "      <td>2016-03-17 16:54:04</td>\n",
       "      <td>1500</td>\n",
       "      <td>small</td>\n",
       "      <td>2001</td>\n",
       "      <td>manual</td>\n",
       "      <td>75</td>\n",
       "      <td>golf</td>\n",
       "      <td>150000</td>\n",
       "      <td>6</td>\n",
       "      <td>petrol</td>\n",
       "      <td>volkswagen</td>\n",
       "      <td>no</td>\n",
       "      <td>2016-03-17 00:00:00</td>\n",
       "      <td>0</td>\n",
       "      <td>91074</td>\n",
       "      <td>2016-03-17 17:40:17</td>\n",
       "    </tr>\n",
       "    <tr>\n",
       "      <th>4</th>\n",
       "      <td>2016-03-31 17:25:20</td>\n",
       "      <td>3600</td>\n",
       "      <td>small</td>\n",
       "      <td>2008</td>\n",
       "      <td>manual</td>\n",
       "      <td>69</td>\n",
       "      <td>fabia</td>\n",
       "      <td>90000</td>\n",
       "      <td>7</td>\n",
       "      <td>gasoline</td>\n",
       "      <td>skoda</td>\n",
       "      <td>no</td>\n",
       "      <td>2016-03-31 00:00:00</td>\n",
       "      <td>0</td>\n",
       "      <td>60437</td>\n",
       "      <td>2016-04-06 10:17:21</td>\n",
       "    </tr>\n",
       "    <tr>\n",
       "      <th>5</th>\n",
       "      <td>2016-04-04 17:36:23</td>\n",
       "      <td>650</td>\n",
       "      <td>sedan</td>\n",
       "      <td>1995</td>\n",
       "      <td>manual</td>\n",
       "      <td>102</td>\n",
       "      <td>3er</td>\n",
       "      <td>150000</td>\n",
       "      <td>10</td>\n",
       "      <td>petrol</td>\n",
       "      <td>bmw</td>\n",
       "      <td>yes</td>\n",
       "      <td>2016-04-04 00:00:00</td>\n",
       "      <td>0</td>\n",
       "      <td>33775</td>\n",
       "      <td>2016-04-06 19:17:07</td>\n",
       "    </tr>\n",
       "    <tr>\n",
       "      <th>6</th>\n",
       "      <td>2016-04-01 20:48:51</td>\n",
       "      <td>2200</td>\n",
       "      <td>convertible</td>\n",
       "      <td>2004</td>\n",
       "      <td>manual</td>\n",
       "      <td>109</td>\n",
       "      <td>2_reihe</td>\n",
       "      <td>150000</td>\n",
       "      <td>8</td>\n",
       "      <td>petrol</td>\n",
       "      <td>peugeot</td>\n",
       "      <td>no</td>\n",
       "      <td>2016-04-01 00:00:00</td>\n",
       "      <td>0</td>\n",
       "      <td>67112</td>\n",
       "      <td>2016-04-05 18:18:39</td>\n",
       "    </tr>\n",
       "    <tr>\n",
       "      <th>7</th>\n",
       "      <td>2016-03-21 18:54:38</td>\n",
       "      <td>0</td>\n",
       "      <td>sedan</td>\n",
       "      <td>1980</td>\n",
       "      <td>manual</td>\n",
       "      <td>50</td>\n",
       "      <td>other</td>\n",
       "      <td>40000</td>\n",
       "      <td>7</td>\n",
       "      <td>petrol</td>\n",
       "      <td>volkswagen</td>\n",
       "      <td>no</td>\n",
       "      <td>2016-03-21 00:00:00</td>\n",
       "      <td>0</td>\n",
       "      <td>19348</td>\n",
       "      <td>2016-03-25 16:47:58</td>\n",
       "    </tr>\n",
       "    <tr>\n",
       "      <th>8</th>\n",
       "      <td>2016-04-04 23:42:13</td>\n",
       "      <td>14500</td>\n",
       "      <td>bus</td>\n",
       "      <td>2014</td>\n",
       "      <td>manual</td>\n",
       "      <td>125</td>\n",
       "      <td>c_max</td>\n",
       "      <td>30000</td>\n",
       "      <td>8</td>\n",
       "      <td>petrol</td>\n",
       "      <td>ford</td>\n",
       "      <td>NaN</td>\n",
       "      <td>2016-04-04 00:00:00</td>\n",
       "      <td>0</td>\n",
       "      <td>94505</td>\n",
       "      <td>2016-04-04 23:42:13</td>\n",
       "    </tr>\n",
       "    <tr>\n",
       "      <th>9</th>\n",
       "      <td>2016-03-17 10:53:50</td>\n",
       "      <td>999</td>\n",
       "      <td>small</td>\n",
       "      <td>1998</td>\n",
       "      <td>manual</td>\n",
       "      <td>101</td>\n",
       "      <td>golf</td>\n",
       "      <td>150000</td>\n",
       "      <td>0</td>\n",
       "      <td>NaN</td>\n",
       "      <td>volkswagen</td>\n",
       "      <td>NaN</td>\n",
       "      <td>2016-03-17 00:00:00</td>\n",
       "      <td>0</td>\n",
       "      <td>27472</td>\n",
       "      <td>2016-03-31 17:17:06</td>\n",
       "    </tr>\n",
       "    <tr>\n",
       "      <th>10</th>\n",
       "      <td>2016-03-26 19:54:18</td>\n",
       "      <td>2000</td>\n",
       "      <td>sedan</td>\n",
       "      <td>2004</td>\n",
       "      <td>manual</td>\n",
       "      <td>105</td>\n",
       "      <td>3_reihe</td>\n",
       "      <td>150000</td>\n",
       "      <td>12</td>\n",
       "      <td>petrol</td>\n",
       "      <td>mazda</td>\n",
       "      <td>no</td>\n",
       "      <td>2016-03-26 00:00:00</td>\n",
       "      <td>0</td>\n",
       "      <td>96224</td>\n",
       "      <td>2016-04-06 10:45:34</td>\n",
       "    </tr>\n",
       "    <tr>\n",
       "      <th>11</th>\n",
       "      <td>2016-04-07 10:06:22</td>\n",
       "      <td>2799</td>\n",
       "      <td>wagon</td>\n",
       "      <td>2005</td>\n",
       "      <td>manual</td>\n",
       "      <td>140</td>\n",
       "      <td>passat</td>\n",
       "      <td>150000</td>\n",
       "      <td>12</td>\n",
       "      <td>gasoline</td>\n",
       "      <td>volkswagen</td>\n",
       "      <td>yes</td>\n",
       "      <td>2016-04-07 00:00:00</td>\n",
       "      <td>0</td>\n",
       "      <td>57290</td>\n",
       "      <td>2016-04-07 10:25:17</td>\n",
       "    </tr>\n",
       "    <tr>\n",
       "      <th>12</th>\n",
       "      <td>2016-03-15 22:49:09</td>\n",
       "      <td>999</td>\n",
       "      <td>wagon</td>\n",
       "      <td>1995</td>\n",
       "      <td>manual</td>\n",
       "      <td>115</td>\n",
       "      <td>passat</td>\n",
       "      <td>150000</td>\n",
       "      <td>11</td>\n",
       "      <td>petrol</td>\n",
       "      <td>volkswagen</td>\n",
       "      <td>NaN</td>\n",
       "      <td>2016-03-15 00:00:00</td>\n",
       "      <td>0</td>\n",
       "      <td>37269</td>\n",
       "      <td>2016-04-01 13:16:16</td>\n",
       "    </tr>\n",
       "    <tr>\n",
       "      <th>13</th>\n",
       "      <td>2016-03-21 21:37:40</td>\n",
       "      <td>2500</td>\n",
       "      <td>wagon</td>\n",
       "      <td>2004</td>\n",
       "      <td>manual</td>\n",
       "      <td>131</td>\n",
       "      <td>passat</td>\n",
       "      <td>150000</td>\n",
       "      <td>2</td>\n",
       "      <td>NaN</td>\n",
       "      <td>volkswagen</td>\n",
       "      <td>no</td>\n",
       "      <td>2016-03-21 00:00:00</td>\n",
       "      <td>0</td>\n",
       "      <td>90762</td>\n",
       "      <td>2016-03-23 02:50:54</td>\n",
       "    </tr>\n",
       "    <tr>\n",
       "      <th>14</th>\n",
       "      <td>2016-03-21 12:57:01</td>\n",
       "      <td>17999</td>\n",
       "      <td>suv</td>\n",
       "      <td>2011</td>\n",
       "      <td>manual</td>\n",
       "      <td>190</td>\n",
       "      <td>navara</td>\n",
       "      <td>70000</td>\n",
       "      <td>3</td>\n",
       "      <td>gasoline</td>\n",
       "      <td>nissan</td>\n",
       "      <td>no</td>\n",
       "      <td>2016-03-21 00:00:00</td>\n",
       "      <td>0</td>\n",
       "      <td>4177</td>\n",
       "      <td>2016-04-06 07:45:42</td>\n",
       "    </tr>\n",
       "    <tr>\n",
       "      <th>15</th>\n",
       "      <td>2016-03-11 21:39:15</td>\n",
       "      <td>450</td>\n",
       "      <td>small</td>\n",
       "      <td>1910</td>\n",
       "      <td>NaN</td>\n",
       "      <td>0</td>\n",
       "      <td>ka</td>\n",
       "      <td>5000</td>\n",
       "      <td>0</td>\n",
       "      <td>petrol</td>\n",
       "      <td>ford</td>\n",
       "      <td>NaN</td>\n",
       "      <td>2016-03-11 00:00:00</td>\n",
       "      <td>0</td>\n",
       "      <td>24148</td>\n",
       "      <td>2016-03-19 08:46:47</td>\n",
       "    </tr>\n",
       "    <tr>\n",
       "      <th>16</th>\n",
       "      <td>2016-04-01 12:46:46</td>\n",
       "      <td>300</td>\n",
       "      <td>NaN</td>\n",
       "      <td>2016</td>\n",
       "      <td>NaN</td>\n",
       "      <td>60</td>\n",
       "      <td>polo</td>\n",
       "      <td>150000</td>\n",
       "      <td>0</td>\n",
       "      <td>petrol</td>\n",
       "      <td>volkswagen</td>\n",
       "      <td>NaN</td>\n",
       "      <td>2016-04-01 00:00:00</td>\n",
       "      <td>0</td>\n",
       "      <td>38871</td>\n",
       "      <td>2016-04-01 12:46:46</td>\n",
       "    </tr>\n",
       "    <tr>\n",
       "      <th>17</th>\n",
       "      <td>2016-03-20 10:25:19</td>\n",
       "      <td>1750</td>\n",
       "      <td>small</td>\n",
       "      <td>2004</td>\n",
       "      <td>auto</td>\n",
       "      <td>75</td>\n",
       "      <td>twingo</td>\n",
       "      <td>150000</td>\n",
       "      <td>2</td>\n",
       "      <td>petrol</td>\n",
       "      <td>renault</td>\n",
       "      <td>no</td>\n",
       "      <td>2016-03-20 00:00:00</td>\n",
       "      <td>0</td>\n",
       "      <td>65599</td>\n",
       "      <td>2016-04-06 13:16:07</td>\n",
       "    </tr>\n",
       "    <tr>\n",
       "      <th>18</th>\n",
       "      <td>2016-03-23 15:48:05</td>\n",
       "      <td>7550</td>\n",
       "      <td>bus</td>\n",
       "      <td>2007</td>\n",
       "      <td>manual</td>\n",
       "      <td>136</td>\n",
       "      <td>c_max</td>\n",
       "      <td>150000</td>\n",
       "      <td>6</td>\n",
       "      <td>gasoline</td>\n",
       "      <td>ford</td>\n",
       "      <td>no</td>\n",
       "      <td>2016-03-23 00:00:00</td>\n",
       "      <td>0</td>\n",
       "      <td>88361</td>\n",
       "      <td>2016-04-05 18:45:11</td>\n",
       "    </tr>\n",
       "    <tr>\n",
       "      <th>19</th>\n",
       "      <td>2016-04-01 22:55:47</td>\n",
       "      <td>1850</td>\n",
       "      <td>bus</td>\n",
       "      <td>2004</td>\n",
       "      <td>manual</td>\n",
       "      <td>102</td>\n",
       "      <td>a_klasse</td>\n",
       "      <td>150000</td>\n",
       "      <td>1</td>\n",
       "      <td>petrol</td>\n",
       "      <td>mercedes_benz</td>\n",
       "      <td>no</td>\n",
       "      <td>2016-04-01 00:00:00</td>\n",
       "      <td>0</td>\n",
       "      <td>49565</td>\n",
       "      <td>2016-04-05 22:46:05</td>\n",
       "    </tr>\n",
       "  </tbody>\n",
       "</table>\n",
       "</div>"
      ],
      "text/plain": [
       "            DateCrawled  Price  VehicleType  RegistrationYear Gearbox  Power  \\\n",
       "0   2016-03-24 11:52:17    480          NaN              1993  manual      0   \n",
       "1   2016-03-24 10:58:45  18300        coupe              2011  manual    190   \n",
       "2   2016-03-14 12:52:21   9800          suv              2004    auto    163   \n",
       "3   2016-03-17 16:54:04   1500        small              2001  manual     75   \n",
       "4   2016-03-31 17:25:20   3600        small              2008  manual     69   \n",
       "5   2016-04-04 17:36:23    650        sedan              1995  manual    102   \n",
       "6   2016-04-01 20:48:51   2200  convertible              2004  manual    109   \n",
       "7   2016-03-21 18:54:38      0        sedan              1980  manual     50   \n",
       "8   2016-04-04 23:42:13  14500          bus              2014  manual    125   \n",
       "9   2016-03-17 10:53:50    999        small              1998  manual    101   \n",
       "10  2016-03-26 19:54:18   2000        sedan              2004  manual    105   \n",
       "11  2016-04-07 10:06:22   2799        wagon              2005  manual    140   \n",
       "12  2016-03-15 22:49:09    999        wagon              1995  manual    115   \n",
       "13  2016-03-21 21:37:40   2500        wagon              2004  manual    131   \n",
       "14  2016-03-21 12:57:01  17999          suv              2011  manual    190   \n",
       "15  2016-03-11 21:39:15    450        small              1910     NaN      0   \n",
       "16  2016-04-01 12:46:46    300          NaN              2016     NaN     60   \n",
       "17  2016-03-20 10:25:19   1750        small              2004    auto     75   \n",
       "18  2016-03-23 15:48:05   7550          bus              2007  manual    136   \n",
       "19  2016-04-01 22:55:47   1850          bus              2004  manual    102   \n",
       "\n",
       "       Model  Kilometer  RegistrationMonth  FuelType          Brand Repaired  \\\n",
       "0       golf     150000                  0    petrol     volkswagen      NaN   \n",
       "1        NaN     125000                  5  gasoline           audi      yes   \n",
       "2      grand     125000                  8  gasoline           jeep      NaN   \n",
       "3       golf     150000                  6    petrol     volkswagen       no   \n",
       "4      fabia      90000                  7  gasoline          skoda       no   \n",
       "5        3er     150000                 10    petrol            bmw      yes   \n",
       "6    2_reihe     150000                  8    petrol        peugeot       no   \n",
       "7      other      40000                  7    petrol     volkswagen       no   \n",
       "8      c_max      30000                  8    petrol           ford      NaN   \n",
       "9       golf     150000                  0       NaN     volkswagen      NaN   \n",
       "10   3_reihe     150000                 12    petrol          mazda       no   \n",
       "11    passat     150000                 12  gasoline     volkswagen      yes   \n",
       "12    passat     150000                 11    petrol     volkswagen      NaN   \n",
       "13    passat     150000                  2       NaN     volkswagen       no   \n",
       "14    navara      70000                  3  gasoline         nissan       no   \n",
       "15        ka       5000                  0    petrol           ford      NaN   \n",
       "16      polo     150000                  0    petrol     volkswagen      NaN   \n",
       "17    twingo     150000                  2    petrol        renault       no   \n",
       "18     c_max     150000                  6  gasoline           ford       no   \n",
       "19  a_klasse     150000                  1    petrol  mercedes_benz       no   \n",
       "\n",
       "            DateCreated  NumberOfPictures  PostalCode             LastSeen  \n",
       "0   2016-03-24 00:00:00                 0       70435  2016-04-07 03:16:57  \n",
       "1   2016-03-24 00:00:00                 0       66954  2016-04-07 01:46:50  \n",
       "2   2016-03-14 00:00:00                 0       90480  2016-04-05 12:47:46  \n",
       "3   2016-03-17 00:00:00                 0       91074  2016-03-17 17:40:17  \n",
       "4   2016-03-31 00:00:00                 0       60437  2016-04-06 10:17:21  \n",
       "5   2016-04-04 00:00:00                 0       33775  2016-04-06 19:17:07  \n",
       "6   2016-04-01 00:00:00                 0       67112  2016-04-05 18:18:39  \n",
       "7   2016-03-21 00:00:00                 0       19348  2016-03-25 16:47:58  \n",
       "8   2016-04-04 00:00:00                 0       94505  2016-04-04 23:42:13  \n",
       "9   2016-03-17 00:00:00                 0       27472  2016-03-31 17:17:06  \n",
       "10  2016-03-26 00:00:00                 0       96224  2016-04-06 10:45:34  \n",
       "11  2016-04-07 00:00:00                 0       57290  2016-04-07 10:25:17  \n",
       "12  2016-03-15 00:00:00                 0       37269  2016-04-01 13:16:16  \n",
       "13  2016-03-21 00:00:00                 0       90762  2016-03-23 02:50:54  \n",
       "14  2016-03-21 00:00:00                 0        4177  2016-04-06 07:45:42  \n",
       "15  2016-03-11 00:00:00                 0       24148  2016-03-19 08:46:47  \n",
       "16  2016-04-01 00:00:00                 0       38871  2016-04-01 12:46:46  \n",
       "17  2016-03-20 00:00:00                 0       65599  2016-04-06 13:16:07  \n",
       "18  2016-03-23 00:00:00                 0       88361  2016-04-05 18:45:11  \n",
       "19  2016-04-01 00:00:00                 0       49565  2016-04-05 22:46:05  "
      ]
     },
     "metadata": {},
     "output_type": "display_data"
    },
    {
     "name": "stdout",
     "output_type": "stream",
     "text": [
      "<class 'pandas.core.frame.DataFrame'>\n",
      "RangeIndex: 354369 entries, 0 to 354368\n",
      "Data columns (total 16 columns):\n",
      " #   Column             Non-Null Count   Dtype \n",
      "---  ------             --------------   ----- \n",
      " 0   DateCrawled        354369 non-null  object\n",
      " 1   Price              354369 non-null  int64 \n",
      " 2   VehicleType        316879 non-null  object\n",
      " 3   RegistrationYear   354369 non-null  int64 \n",
      " 4   Gearbox            334536 non-null  object\n",
      " 5   Power              354369 non-null  int64 \n",
      " 6   Model              334664 non-null  object\n",
      " 7   Kilometer          354369 non-null  int64 \n",
      " 8   RegistrationMonth  354369 non-null  int64 \n",
      " 9   FuelType           321474 non-null  object\n",
      " 10  Brand              354369 non-null  object\n",
      " 11  Repaired           283215 non-null  object\n",
      " 12  DateCreated        354369 non-null  object\n",
      " 13  NumberOfPictures   354369 non-null  int64 \n",
      " 14  PostalCode         354369 non-null  int64 \n",
      " 15  LastSeen           354369 non-null  object\n",
      "dtypes: int64(7), object(9)\n",
      "memory usage: 43.3+ MB\n"
     ]
    },
    {
     "data": {
      "text/html": [
       "<div>\n",
       "<style scoped>\n",
       "    .dataframe tbody tr th:only-of-type {\n",
       "        vertical-align: middle;\n",
       "    }\n",
       "\n",
       "    .dataframe tbody tr th {\n",
       "        vertical-align: top;\n",
       "    }\n",
       "\n",
       "    .dataframe thead th {\n",
       "        text-align: right;\n",
       "    }\n",
       "</style>\n",
       "<table border=\"1\" class=\"dataframe\">\n",
       "  <thead>\n",
       "    <tr style=\"text-align: right;\">\n",
       "      <th></th>\n",
       "      <th>Price</th>\n",
       "      <th>RegistrationYear</th>\n",
       "      <th>Power</th>\n",
       "      <th>Kilometer</th>\n",
       "      <th>RegistrationMonth</th>\n",
       "      <th>NumberOfPictures</th>\n",
       "      <th>PostalCode</th>\n",
       "    </tr>\n",
       "  </thead>\n",
       "  <tbody>\n",
       "    <tr>\n",
       "      <th>count</th>\n",
       "      <td>354369.000000</td>\n",
       "      <td>354369.000000</td>\n",
       "      <td>354369.000000</td>\n",
       "      <td>354369.000000</td>\n",
       "      <td>354369.000000</td>\n",
       "      <td>354369.0</td>\n",
       "      <td>354369.000000</td>\n",
       "    </tr>\n",
       "    <tr>\n",
       "      <th>mean</th>\n",
       "      <td>4416.656776</td>\n",
       "      <td>2004.234448</td>\n",
       "      <td>110.094337</td>\n",
       "      <td>128211.172535</td>\n",
       "      <td>5.714645</td>\n",
       "      <td>0.0</td>\n",
       "      <td>50508.689087</td>\n",
       "    </tr>\n",
       "    <tr>\n",
       "      <th>std</th>\n",
       "      <td>4514.158514</td>\n",
       "      <td>90.227958</td>\n",
       "      <td>189.850405</td>\n",
       "      <td>37905.341530</td>\n",
       "      <td>3.726421</td>\n",
       "      <td>0.0</td>\n",
       "      <td>25783.096248</td>\n",
       "    </tr>\n",
       "    <tr>\n",
       "      <th>min</th>\n",
       "      <td>0.000000</td>\n",
       "      <td>1000.000000</td>\n",
       "      <td>0.000000</td>\n",
       "      <td>5000.000000</td>\n",
       "      <td>0.000000</td>\n",
       "      <td>0.0</td>\n",
       "      <td>1067.000000</td>\n",
       "    </tr>\n",
       "    <tr>\n",
       "      <th>25%</th>\n",
       "      <td>1050.000000</td>\n",
       "      <td>1999.000000</td>\n",
       "      <td>69.000000</td>\n",
       "      <td>125000.000000</td>\n",
       "      <td>3.000000</td>\n",
       "      <td>0.0</td>\n",
       "      <td>30165.000000</td>\n",
       "    </tr>\n",
       "    <tr>\n",
       "      <th>50%</th>\n",
       "      <td>2700.000000</td>\n",
       "      <td>2003.000000</td>\n",
       "      <td>105.000000</td>\n",
       "      <td>150000.000000</td>\n",
       "      <td>6.000000</td>\n",
       "      <td>0.0</td>\n",
       "      <td>49413.000000</td>\n",
       "    </tr>\n",
       "    <tr>\n",
       "      <th>75%</th>\n",
       "      <td>6400.000000</td>\n",
       "      <td>2008.000000</td>\n",
       "      <td>143.000000</td>\n",
       "      <td>150000.000000</td>\n",
       "      <td>9.000000</td>\n",
       "      <td>0.0</td>\n",
       "      <td>71083.000000</td>\n",
       "    </tr>\n",
       "    <tr>\n",
       "      <th>max</th>\n",
       "      <td>20000.000000</td>\n",
       "      <td>9999.000000</td>\n",
       "      <td>20000.000000</td>\n",
       "      <td>150000.000000</td>\n",
       "      <td>12.000000</td>\n",
       "      <td>0.0</td>\n",
       "      <td>99998.000000</td>\n",
       "    </tr>\n",
       "  </tbody>\n",
       "</table>\n",
       "</div>"
      ],
      "text/plain": [
       "               Price  RegistrationYear          Power      Kilometer  \\\n",
       "count  354369.000000     354369.000000  354369.000000  354369.000000   \n",
       "mean     4416.656776       2004.234448     110.094337  128211.172535   \n",
       "std      4514.158514         90.227958     189.850405   37905.341530   \n",
       "min         0.000000       1000.000000       0.000000    5000.000000   \n",
       "25%      1050.000000       1999.000000      69.000000  125000.000000   \n",
       "50%      2700.000000       2003.000000     105.000000  150000.000000   \n",
       "75%      6400.000000       2008.000000     143.000000  150000.000000   \n",
       "max     20000.000000       9999.000000   20000.000000  150000.000000   \n",
       "\n",
       "       RegistrationMonth  NumberOfPictures     PostalCode  \n",
       "count      354369.000000          354369.0  354369.000000  \n",
       "mean            5.714645               0.0   50508.689087  \n",
       "std             3.726421               0.0   25783.096248  \n",
       "min             0.000000               0.0    1067.000000  \n",
       "25%             3.000000               0.0   30165.000000  \n",
       "50%             6.000000               0.0   49413.000000  \n",
       "75%             9.000000               0.0   71083.000000  \n",
       "max            12.000000               0.0   99998.000000  "
      ]
     },
     "metadata": {},
     "output_type": "display_data"
    }
   ],
   "source": [
    "data_info(autos)"
   ]
  },
  {
   "cell_type": "markdown",
   "metadata": {},
   "source": [
    "В данных довольно много пропусков, котоорые требуется обработать для корректного анализа. <br> Есть столбцы DateCrawled, DateCreated, LastSeen, которые имеют тип object, а должен быть формат даты."
   ]
  },
  {
   "cell_type": "markdown",
   "metadata": {},
   "source": [
    "### Изучение данных"
   ]
  },
  {
   "cell_type": "markdown",
   "metadata": {},
   "source": [
    "Изменим тип данных у столбцов с датой:"
   ]
  },
  {
   "cell_type": "code",
   "execution_count": 7,
   "metadata": {},
   "outputs": [],
   "source": [
    "autos['DateCrawled'] = pd.to_datetime(autos['DateCrawled'], format='%Y-%m-%dT%H:%M:%S')\n",
    "autos['DateCreated'] = pd.to_datetime(autos['DateCrawled'], format='%Y-%m-%dT%H:%M:%S')\n",
    "autos['LastSeen'] = pd.to_datetime(autos['LastSeen'], format='%Y-%m-%dT%H:%M:%S')"
   ]
  },
  {
   "cell_type": "markdown",
   "metadata": {},
   "source": [
    "#### Изучение категориальных признаков"
   ]
  },
  {
   "cell_type": "code",
   "execution_count": 8,
   "metadata": {},
   "outputs": [],
   "source": [
    "def data_unique(data):\n",
    "    for row in data.columns:\n",
    "        if data[row].dtype==object:\n",
    "            print(f'Количество уникальных значений в столбце {row}:')\n",
    "            print(len(data[row].unique()))\n",
    "            print(data[row].value_counts())"
   ]
  },
  {
   "cell_type": "code",
   "execution_count": 9,
   "metadata": {},
   "outputs": [
    {
     "name": "stdout",
     "output_type": "stream",
     "text": [
      "Количество уникальных значений в столбце VehicleType:\n",
      "9\n",
      "sedan          91457\n",
      "small          79831\n",
      "wagon          65166\n",
      "bus            28775\n",
      "convertible    20203\n",
      "coupe          16163\n",
      "suv            11996\n",
      "other           3288\n",
      "Name: VehicleType, dtype: int64\n",
      "Количество уникальных значений в столбце Gearbox:\n",
      "3\n",
      "manual    268251\n",
      "auto       66285\n",
      "Name: Gearbox, dtype: int64\n",
      "Количество уникальных значений в столбце Model:\n",
      "251\n",
      "golf                  29232\n",
      "other                 24421\n",
      "3er                   19761\n",
      "polo                  13066\n",
      "corsa                 12570\n",
      "                      ...  \n",
      "i3                        8\n",
      "rangerover                4\n",
      "serie_3                   4\n",
      "range_rover_evoque        2\n",
      "serie_1                   2\n",
      "Name: Model, Length: 250, dtype: int64\n",
      "Количество уникальных значений в столбце FuelType:\n",
      "8\n",
      "petrol      216352\n",
      "gasoline     98720\n",
      "lpg           5310\n",
      "cng            565\n",
      "hybrid         233\n",
      "other          204\n",
      "electric        90\n",
      "Name: FuelType, dtype: int64\n",
      "Количество уникальных значений в столбце Brand:\n",
      "40\n",
      "volkswagen        77013\n",
      "opel              39931\n",
      "bmw               36914\n",
      "mercedes_benz     32046\n",
      "audi              29456\n",
      "ford              25179\n",
      "renault           17927\n",
      "peugeot           10998\n",
      "fiat               9643\n",
      "seat               6907\n",
      "mazda              5615\n",
      "skoda              5500\n",
      "smart              5246\n",
      "citroen            5148\n",
      "nissan             4941\n",
      "toyota             4606\n",
      "hyundai            3587\n",
      "sonstige_autos     3374\n",
      "volvo              3210\n",
      "mini               3202\n",
      "mitsubishi         3022\n",
      "honda              2817\n",
      "kia                2465\n",
      "suzuki             2323\n",
      "alfa_romeo         2314\n",
      "chevrolet          1754\n",
      "chrysler           1439\n",
      "dacia               900\n",
      "daihatsu            806\n",
      "subaru              762\n",
      "porsche             758\n",
      "jeep                677\n",
      "trabant             589\n",
      "land_rover          545\n",
      "daewoo              542\n",
      "saab                526\n",
      "jaguar              505\n",
      "rover               486\n",
      "lancia              471\n",
      "lada                225\n",
      "Name: Brand, dtype: int64\n",
      "Количество уникальных значений в столбце Repaired:\n",
      "3\n",
      "no     247161\n",
      "yes     36054\n",
      "Name: Repaired, dtype: int64\n"
     ]
    }
   ],
   "source": [
    "data_unique(autos)"
   ]
  },
  {
   "cell_type": "code",
   "execution_count": 10,
   "metadata": {},
   "outputs": [],
   "source": [
    "def data_diagram(data):\n",
    "    for row in data.columns:\n",
    "        if data[row].dtype==object:\n",
    "            ax = data[row].value_counts().plot(kind='pie', title = row, legend=True, ylabel='', labeldistance=None)\n",
    "            ax.legend(bbox_to_anchor=(1, 1.02), loc='upper left')\n",
    "            plt.show()"
   ]
  },
  {
   "cell_type": "code",
   "execution_count": 11,
   "metadata": {},
   "outputs": [
    {
     "data": {
      "image/png": "[encoded data removed]",
      "text/plain": [
       "<Figure size 432x288 with 1 Axes>"
      ]
     },
     "metadata": {},
     "output_type": "display_data"
    },
    {
     "data": {
      "image/png": "[encoded data removed]",
      "text/plain": [
       "<Figure size 432x288 with 1 Axes>"
      ]
     },
     "metadata": {},
     "output_type": "display_data"
    },
    {
     "data": {
      "image/png": "[encoded data removed]",
      "text/plain": [
       "<Figure size 432x288 with 1 Axes>"
      ]
     },
     "metadata": {},
     "output_type": "display_data"
    },
    {
     "data": {
      "image/png": "[encoded data removed]",
      "text/plain": [
       "<Figure size 432x288 with 1 Axes>"
      ]
     },
     "metadata": {},
     "output_type": "display_data"
    },
    {
     "data": {
      "image/png": "[encoded data removed]",
      "text/plain": [
       "<Figure size 432x288 with 1 Axes>"
      ]
     },
     "metadata": {},
     "output_type": "display_data"
    },
    {
     "data": {
      "image/png": "[encoded data removed]",
      "text/plain": [
       "<Figure size 432x288 with 1 Axes>"
      ]
     },
     "metadata": {},
     "output_type": "display_data"
    }
   ],
   "source": [
    "data_diagram(autos)"
   ]
  },
  {
   "cell_type": "markdown",
   "metadata": {},
   "source": [
    "#### Изучение количественных признаков"
   ]
  },
  {
   "cell_type": "code",
   "execution_count": 12,
   "metadata": {},
   "outputs": [],
   "source": [
    "def data_hist(data):\n",
    "    for row in data.columns:\n",
    "        if data[row].dtype == int:\n",
    "            plt.hist(data[row], bins = 50)\n",
    "            plt.xlabel(row)\n",
    "            plt.ylabel('count')\n",
    "            plt.title(f'Распределение {row}')\n",
    "            plt.show()"
   ]
  },
  {
   "cell_type": "code",
   "execution_count": 13,
   "metadata": {},
   "outputs": [
    {
     "data": {
      "image/png": "[encoded data removed]",
      "text/plain": [
       "<Figure size 432x288 with 1 Axes>"
      ]
     },
     "metadata": {
      "needs_background": "light"
     },
     "output_type": "display_data"
    },
    {
     "data": {
      "image/png": "[encoded data removed]",
      "text/plain": [
       "<Figure size 432x288 with 1 Axes>"
      ]
     },
     "metadata": {
      "needs_background": "light"
     },
     "output_type": "display_data"
    },
    {
     "data": {
      "image/png": "[encoded data removed]",
      "text/plain": [
       "<Figure size 432x288 with 1 Axes>"
      ]
     },
     "metadata": {
      "needs_background": "light"
     },
     "output_type": "display_data"
    },
    {
     "data": {
      "image/png": "[encoded data removed]",
      "text/plain": [
       "<Figure size 432x288 with 1 Axes>"
      ]
     },
     "metadata": {
      "needs_background": "light"
     },
     "output_type": "display_data"
    },
    {
     "data": {
      "image/png": "[encoded data removed]",
      "text/plain": [
       "<Figure size 432x288 with 1 Axes>"
      ]
     },
     "metadata": {
      "needs_background": "light"
     },
     "output_type": "display_data"
    },
    {
     "data": {
      "image/png": "[encoded data removed]",
      "text/plain": [
       "<Figure size 432x288 with 1 Axes>"
      ]
     },
     "metadata": {
      "needs_background": "light"
     },
     "output_type": "display_data"
    },
    {
     "data": {
      "image/png": "[encoded data removed]",
      "text/plain": [
       "<Figure size 432x288 with 1 Axes>"
      ]
     },
     "metadata": {
      "needs_background": "light"
     },
     "output_type": "display_data"
    }
   ],
   "source": [
    "data_hist(autos)"
   ]
  },
  {
   "cell_type": "markdown",
   "metadata": {},
   "source": [
    "Минимальная цена Price 0, что вероятно является выбросом. Также есть некорректные значения в столбцах RegistrationYear, Power."
   ]
  },
  {
   "cell_type": "markdown",
   "metadata": {},
   "source": [
    "### ОБработка пропущенных значений и дупликатов"
   ]
  },
  {
   "cell_type": "code",
   "execution_count": 14,
   "metadata": {},
   "outputs": [],
   "source": [
    "# функция вывода пропусков и дупликатов\n",
    "def data_dup_isna(data):\n",
    "    print('Количество дупликатов')\n",
    "    display(data.duplicated().sum())\n",
    "    print('Количество пропусков')\n",
    "    display(data.isna().sum())"
   ]
  },
  {
   "cell_type": "code",
   "execution_count": 15,
   "metadata": {},
   "outputs": [
    {
     "name": "stdout",
     "output_type": "stream",
     "text": [
      "Количество дупликатов\n"
     ]
    },
    {
     "data": {
      "text/plain": [
       "4"
      ]
     },
     "metadata": {},
     "output_type": "display_data"
    },
    {
     "name": "stdout",
     "output_type": "stream",
     "text": [
      "Количество пропусков\n"
     ]
    },
    {
     "data": {
      "text/plain": [
       "DateCrawled              0\n",
       "Price                    0\n",
       "VehicleType          37490\n",
       "RegistrationYear         0\n",
       "Gearbox              19833\n",
       "Power                    0\n",
       "Model                19705\n",
       "Kilometer                0\n",
       "RegistrationMonth        0\n",
       "FuelType             32895\n",
       "Brand                    0\n",
       "Repaired             71154\n",
       "DateCreated              0\n",
       "NumberOfPictures         0\n",
       "PostalCode               0\n",
       "LastSeen                 0\n",
       "dtype: int64"
      ]
     },
     "metadata": {},
     "output_type": "display_data"
    }
   ],
   "source": [
    "data_dup_isna(autos)"
   ]
  },
  {
   "cell_type": "code",
   "execution_count": 16,
   "metadata": {},
   "outputs": [
    {
     "data": {
      "text/html": [
       "<div>\n",
       "<style scoped>\n",
       "    .dataframe tbody tr th:only-of-type {\n",
       "        vertical-align: middle;\n",
       "    }\n",
       "\n",
       "    .dataframe tbody tr th {\n",
       "        vertical-align: top;\n",
       "    }\n",
       "\n",
       "    .dataframe thead th {\n",
       "        text-align: right;\n",
       "    }\n",
       "</style>\n",
       "<table border=\"1\" class=\"dataframe\">\n",
       "  <thead>\n",
       "    <tr style=\"text-align: right;\">\n",
       "      <th></th>\n",
       "      <th>DateCrawled</th>\n",
       "      <th>Price</th>\n",
       "      <th>VehicleType</th>\n",
       "      <th>RegistrationYear</th>\n",
       "      <th>Gearbox</th>\n",
       "      <th>Power</th>\n",
       "      <th>Model</th>\n",
       "      <th>Kilometer</th>\n",
       "      <th>RegistrationMonth</th>\n",
       "      <th>FuelType</th>\n",
       "      <th>Brand</th>\n",
       "      <th>Repaired</th>\n",
       "      <th>DateCreated</th>\n",
       "      <th>NumberOfPictures</th>\n",
       "      <th>PostalCode</th>\n",
       "      <th>LastSeen</th>\n",
       "    </tr>\n",
       "  </thead>\n",
       "  <tbody>\n",
       "    <tr>\n",
       "      <th>171088</th>\n",
       "      <td>2016-03-08 18:42:48</td>\n",
       "      <td>1799</td>\n",
       "      <td>coupe</td>\n",
       "      <td>1999</td>\n",
       "      <td>auto</td>\n",
       "      <td>193</td>\n",
       "      <td>clk</td>\n",
       "      <td>20000</td>\n",
       "      <td>7</td>\n",
       "      <td>petrol</td>\n",
       "      <td>mercedes_benz</td>\n",
       "      <td>no</td>\n",
       "      <td>2016-03-08 18:42:48</td>\n",
       "      <td>0</td>\n",
       "      <td>89518</td>\n",
       "      <td>2016-03-09 09:46:57</td>\n",
       "    </tr>\n",
       "    <tr>\n",
       "      <th>231258</th>\n",
       "      <td>2016-03-28 00:56:10</td>\n",
       "      <td>1000</td>\n",
       "      <td>small</td>\n",
       "      <td>2002</td>\n",
       "      <td>manual</td>\n",
       "      <td>83</td>\n",
       "      <td>other</td>\n",
       "      <td>150000</td>\n",
       "      <td>1</td>\n",
       "      <td>petrol</td>\n",
       "      <td>suzuki</td>\n",
       "      <td>no</td>\n",
       "      <td>2016-03-28 00:56:10</td>\n",
       "      <td>0</td>\n",
       "      <td>66589</td>\n",
       "      <td>2016-03-28 08:46:21</td>\n",
       "    </tr>\n",
       "    <tr>\n",
       "      <th>258109</th>\n",
       "      <td>2016-04-03 09:01:15</td>\n",
       "      <td>4699</td>\n",
       "      <td>coupe</td>\n",
       "      <td>2003</td>\n",
       "      <td>auto</td>\n",
       "      <td>218</td>\n",
       "      <td>clk</td>\n",
       "      <td>125000</td>\n",
       "      <td>6</td>\n",
       "      <td>petrol</td>\n",
       "      <td>mercedes_benz</td>\n",
       "      <td>yes</td>\n",
       "      <td>2016-04-03 09:01:15</td>\n",
       "      <td>0</td>\n",
       "      <td>75196</td>\n",
       "      <td>2016-04-07 09:44:54</td>\n",
       "    </tr>\n",
       "    <tr>\n",
       "      <th>325651</th>\n",
       "      <td>2016-03-18 18:46:15</td>\n",
       "      <td>1999</td>\n",
       "      <td>wagon</td>\n",
       "      <td>2001</td>\n",
       "      <td>manual</td>\n",
       "      <td>131</td>\n",
       "      <td>passat</td>\n",
       "      <td>150000</td>\n",
       "      <td>7</td>\n",
       "      <td>gasoline</td>\n",
       "      <td>volkswagen</td>\n",
       "      <td>no</td>\n",
       "      <td>2016-03-18 18:46:15</td>\n",
       "      <td>0</td>\n",
       "      <td>36391</td>\n",
       "      <td>2016-03-18 18:46:15</td>\n",
       "    </tr>\n",
       "  </tbody>\n",
       "</table>\n",
       "</div>"
      ],
      "text/plain": [
       "               DateCrawled  Price VehicleType  RegistrationYear Gearbox  \\\n",
       "171088 2016-03-08 18:42:48   1799       coupe              1999    auto   \n",
       "231258 2016-03-28 00:56:10   1000       small              2002  manual   \n",
       "258109 2016-04-03 09:01:15   4699       coupe              2003    auto   \n",
       "325651 2016-03-18 18:46:15   1999       wagon              2001  manual   \n",
       "\n",
       "        Power   Model  Kilometer  RegistrationMonth  FuelType          Brand  \\\n",
       "171088    193     clk      20000                  7    petrol  mercedes_benz   \n",
       "231258     83   other     150000                  1    petrol         suzuki   \n",
       "258109    218     clk     125000                  6    petrol  mercedes_benz   \n",
       "325651    131  passat     150000                  7  gasoline     volkswagen   \n",
       "\n",
       "       Repaired         DateCreated  NumberOfPictures  PostalCode  \\\n",
       "171088       no 2016-03-08 18:42:48                 0       89518   \n",
       "231258       no 2016-03-28 00:56:10                 0       66589   \n",
       "258109      yes 2016-04-03 09:01:15                 0       75196   \n",
       "325651       no 2016-03-18 18:46:15                 0       36391   \n",
       "\n",
       "                  LastSeen  \n",
       "171088 2016-03-09 09:46:57  \n",
       "231258 2016-03-28 08:46:21  \n",
       "258109 2016-04-07 09:44:54  \n",
       "325651 2016-03-18 18:46:15  "
      ]
     },
     "execution_count": 16,
     "metadata": {},
     "output_type": "execute_result"
    }
   ],
   "source": [
    "autos[autos.duplicated()]"
   ]
  },
  {
   "cell_type": "code",
   "execution_count": 17,
   "metadata": {},
   "outputs": [
    {
     "data": {
      "text/plain": [
       "1.1287669068118261e-05"
      ]
     },
     "execution_count": 17,
     "metadata": {},
     "output_type": "execute_result"
    }
   ],
   "source": [
    "autos[autos.duplicated()].shape[0] / autos.shape[0]"
   ]
  },
  {
   "cell_type": "markdown",
   "metadata": {},
   "source": [
    "Удалим дупликаты из датасета, поскольку их количество составляет меньше 1%"
   ]
  },
  {
   "cell_type": "code",
   "execution_count": 18,
   "metadata": {},
   "outputs": [],
   "source": [
    "autos = autos.drop_duplicates()"
   ]
  },
  {
   "cell_type": "markdown",
   "metadata": {},
   "source": [
    "Пропуски можно обработать следующим образом:\n",
    "* VehicleType - установим значение 'unknown',\n",
    "* Gearbox - самое популярное значение manual,\n",
    "* Model установим значение 'unknown',\n",
    "* FuelType установим значение 'unknown',\n",
    "* Repaired - самое популярное значение no."
   ]
  },
  {
   "cell_type": "code",
   "execution_count": 19,
   "metadata": {},
   "outputs": [],
   "source": [
    "autos['Repaired'] = autos['Repaired'].fillna('no')\n",
    "autos['Gearbox'] = autos['Gearbox'].fillna('manual')\n",
    "autos['VehicleType'] = autos['FuelType'].fillna('unknown')\n",
    "autos['Model'] = autos['Model'].fillna('unknown')\n",
    "autos['FuelType'] = autos['FuelType'].fillna('unknown')"
   ]
  },
  {
   "cell_type": "code",
   "execution_count": 20,
   "metadata": {},
   "outputs": [
    {
     "data": {
      "text/plain": [
       "array(['petrol', 'gasoline', 'unknown', 'lpg', 'other', 'hybrid', 'cng',\n",
       "       'electric'], dtype=object)"
      ]
     },
     "execution_count": 20,
     "metadata": {},
     "output_type": "execute_result"
    }
   ],
   "source": [
    "autos['FuelType'].unique()"
   ]
  },
  {
   "cell_type": "markdown",
   "metadata": {},
   "source": [
    "В ходе изучения вопроса было обнаружено, что 'petrol' и 'gasoline' - это одно и тоже. <br>\n",
    "* gasoline - бензин в Америке, \n",
    "* petrol - бензин в Англии. <br>\n",
    "Объединим в одно значение petrol:"
   ]
  },
  {
   "cell_type": "code",
   "execution_count": 21,
   "metadata": {},
   "outputs": [],
   "source": [
    "autos['FuelType'] =autos['FuelType'].replace('gasoline', 'petrol')"
   ]
  },
  {
   "cell_type": "code",
   "execution_count": 22,
   "metadata": {},
   "outputs": [
    {
     "data": {
      "text/plain": [
       "array(['petrol', 'unknown', 'lpg', 'other', 'hybrid', 'cng', 'electric'],\n",
       "      dtype=object)"
      ]
     },
     "execution_count": 22,
     "metadata": {},
     "output_type": "execute_result"
    }
   ],
   "source": [
    "autos['FuelType'].unique()"
   ]
  },
  {
   "cell_type": "markdown",
   "metadata": {},
   "source": [
    "### Обработка аномальных значений"
   ]
  },
  {
   "cell_type": "markdown",
   "metadata": {},
   "source": [
    "Посмотрим какую долю занимают значения, где цена Price меньше 100:"
   ]
  },
  {
   "cell_type": "code",
   "execution_count": 23,
   "metadata": {},
   "outputs": [
    {
     "data": {
      "text/plain": [
       "0.03757143058710651"
      ]
     },
     "execution_count": 23,
     "metadata": {},
     "output_type": "execute_result"
    }
   ],
   "source": [
    "autos[autos['Price']<100].shape[0]/ autos.shape[0]"
   ]
  },
  {
   "cell_type": "markdown",
   "metadata": {},
   "source": [
    "Менее 10%, можем удалить:"
   ]
  },
  {
   "cell_type": "code",
   "execution_count": 24,
   "metadata": {},
   "outputs": [],
   "source": [
    "autos = autos.drop(autos[autos['Price']<100].index)"
   ]
  },
  {
   "cell_type": "markdown",
   "metadata": {},
   "source": [
    "Удалим аномальные года регистрации(менее 1950 и более 2024):"
   ]
  },
  {
   "cell_type": "code",
   "execution_count": 25,
   "metadata": {},
   "outputs": [
    {
     "data": {
      "text/plain": [
       "0.00042515635491466086"
      ]
     },
     "execution_count": 25,
     "metadata": {},
     "output_type": "execute_result"
    }
   ],
   "source": [
    "autos[autos['RegistrationYear']<1950].shape[0]/ autos.shape[0]"
   ]
  },
  {
   "cell_type": "code",
   "execution_count": 26,
   "metadata": {},
   "outputs": [],
   "source": [
    "autos = autos.drop(autos[autos['RegistrationYear']<1950].index)"
   ]
  },
  {
   "cell_type": "code",
   "execution_count": 27,
   "metadata": {},
   "outputs": [
    {
     "data": {
      "text/plain": [
       "0.00021120191489736173"
      ]
     },
     "execution_count": 27,
     "metadata": {},
     "output_type": "execute_result"
    }
   ],
   "source": [
    "autos[autos['RegistrationYear']>2024].shape[0]/ autos.shape[0]"
   ]
  },
  {
   "cell_type": "code",
   "execution_count": 28,
   "metadata": {},
   "outputs": [],
   "source": [
    "autos = autos.drop(autos[autos['RegistrationYear']>2024].index)"
   ]
  },
  {
   "cell_type": "code",
   "execution_count": 29,
   "metadata": {},
   "outputs": [
    {
     "data": {
      "text/plain": [
       "<AxesSubplot:xlabel='DateCreated'>"
      ]
     },
     "execution_count": 29,
     "metadata": {},
     "output_type": "execute_result"
    },
    {
     "data": {
      "image/png": "[encoded data removed]",
      "text/plain": [
       "<Figure size 432x288 with 1 Axes>"
      ]
     },
     "metadata": {
      "needs_background": "light"
     },
     "output_type": "display_data"
    }
   ],
   "source": [
    "autos['DateCreated'].groupby(autos['DateCreated'].dt.year).count().plot(kind=\"bar\")"
   ]
  },
  {
   "cell_type": "markdown",
   "metadata": {},
   "source": [
    "Удалим аномальные значения Power(более 500). И с мощностью 0 тоже значения в выборку не берем:"
   ]
  },
  {
   "cell_type": "code",
   "execution_count": 30,
   "metadata": {},
   "outputs": [
    {
     "data": {
      "text/plain": [
       "0.001211733571181279"
      ]
     },
     "execution_count": 30,
     "metadata": {},
     "output_type": "execute_result"
    }
   ],
   "source": [
    "autos[autos['Power']>500].shape[0]/ autos.shape[0]"
   ]
  },
  {
   "cell_type": "code",
   "execution_count": 31,
   "metadata": {},
   "outputs": [],
   "source": [
    "autos = autos.drop(autos[autos['Power']>500].index)"
   ]
  },
  {
   "cell_type": "code",
   "execution_count": 32,
   "metadata": {},
   "outputs": [
    {
     "data": {
      "text/plain": [
       "0.10258474065936003"
      ]
     },
     "execution_count": 32,
     "metadata": {},
     "output_type": "execute_result"
    }
   ],
   "source": [
    "autos[autos['Power']<1].shape[0]/ autos.shape[0]"
   ]
  },
  {
   "cell_type": "code",
   "execution_count": 33,
   "metadata": {},
   "outputs": [],
   "source": [
    "autos = autos.drop(autos[autos['Power']<1].index)"
   ]
  },
  {
   "cell_type": "markdown",
   "metadata": {},
   "source": [
    "### Подготовка выборок для обучения моделей"
   ]
  },
  {
   "cell_type": "code",
   "execution_count": 34,
   "metadata": {},
   "outputs": [
    {
     "data": {
      "text/html": [
       "<div>\n",
       "<style scoped>\n",
       "    .dataframe tbody tr th:only-of-type {\n",
       "        vertical-align: middle;\n",
       "    }\n",
       "\n",
       "    .dataframe tbody tr th {\n",
       "        vertical-align: top;\n",
       "    }\n",
       "\n",
       "    .dataframe thead th {\n",
       "        text-align: right;\n",
       "    }\n",
       "</style>\n",
       "<table border=\"1\" class=\"dataframe\">\n",
       "  <thead>\n",
       "    <tr style=\"text-align: right;\">\n",
       "      <th></th>\n",
       "      <th>Price</th>\n",
       "      <th>RegistrationYear</th>\n",
       "      <th>Power</th>\n",
       "      <th>Kilometer</th>\n",
       "      <th>RegistrationMonth</th>\n",
       "      <th>NumberOfPictures</th>\n",
       "      <th>PostalCode</th>\n",
       "    </tr>\n",
       "  </thead>\n",
       "  <tbody>\n",
       "    <tr>\n",
       "      <th>Price</th>\n",
       "      <td>1.000000</td>\n",
       "      <td>0.426843</td>\n",
       "      <td>0.509741</td>\n",
       "      <td>-0.386863</td>\n",
       "      <td>0.070640</td>\n",
       "      <td>NaN</td>\n",
       "      <td>0.064665</td>\n",
       "    </tr>\n",
       "    <tr>\n",
       "      <th>RegistrationYear</th>\n",
       "      <td>0.426843</td>\n",
       "      <td>1.000000</td>\n",
       "      <td>0.109373</td>\n",
       "      <td>-0.258656</td>\n",
       "      <td>0.025194</td>\n",
       "      <td>NaN</td>\n",
       "      <td>0.020596</td>\n",
       "    </tr>\n",
       "    <tr>\n",
       "      <th>Power</th>\n",
       "      <td>0.509741</td>\n",
       "      <td>0.109373</td>\n",
       "      <td>1.000000</td>\n",
       "      <td>0.105843</td>\n",
       "      <td>0.044257</td>\n",
       "      <td>NaN</td>\n",
       "      <td>0.055674</td>\n",
       "    </tr>\n",
       "    <tr>\n",
       "      <th>Kilometer</th>\n",
       "      <td>-0.386863</td>\n",
       "      <td>-0.258656</td>\n",
       "      <td>0.105843</td>\n",
       "      <td>1.000000</td>\n",
       "      <td>-0.015997</td>\n",
       "      <td>NaN</td>\n",
       "      <td>-0.010809</td>\n",
       "    </tr>\n",
       "    <tr>\n",
       "      <th>RegistrationMonth</th>\n",
       "      <td>0.070640</td>\n",
       "      <td>0.025194</td>\n",
       "      <td>0.044257</td>\n",
       "      <td>-0.015997</td>\n",
       "      <td>1.000000</td>\n",
       "      <td>NaN</td>\n",
       "      <td>0.002981</td>\n",
       "    </tr>\n",
       "    <tr>\n",
       "      <th>NumberOfPictures</th>\n",
       "      <td>NaN</td>\n",
       "      <td>NaN</td>\n",
       "      <td>NaN</td>\n",
       "      <td>NaN</td>\n",
       "      <td>NaN</td>\n",
       "      <td>NaN</td>\n",
       "      <td>NaN</td>\n",
       "    </tr>\n",
       "    <tr>\n",
       "      <th>PostalCode</th>\n",
       "      <td>0.064665</td>\n",
       "      <td>0.020596</td>\n",
       "      <td>0.055674</td>\n",
       "      <td>-0.010809</td>\n",
       "      <td>0.002981</td>\n",
       "      <td>NaN</td>\n",
       "      <td>1.000000</td>\n",
       "    </tr>\n",
       "  </tbody>\n",
       "</table>\n",
       "</div>"
      ],
      "text/plain": [
       "                      Price  RegistrationYear     Power  Kilometer  \\\n",
       "Price              1.000000          0.426843  0.509741  -0.386863   \n",
       "RegistrationYear   0.426843          1.000000  0.109373  -0.258656   \n",
       "Power              0.509741          0.109373  1.000000   0.105843   \n",
       "Kilometer         -0.386863         -0.258656  0.105843   1.000000   \n",
       "RegistrationMonth  0.070640          0.025194  0.044257  -0.015997   \n",
       "NumberOfPictures        NaN               NaN       NaN        NaN   \n",
       "PostalCode         0.064665          0.020596  0.055674  -0.010809   \n",
       "\n",
       "                   RegistrationMonth  NumberOfPictures  PostalCode  \n",
       "Price                       0.070640               NaN    0.064665  \n",
       "RegistrationYear            0.025194               NaN    0.020596  \n",
       "Power                       0.044257               NaN    0.055674  \n",
       "Kilometer                  -0.015997               NaN   -0.010809  \n",
       "RegistrationMonth           1.000000               NaN    0.002981  \n",
       "NumberOfPictures                 NaN               NaN         NaN  \n",
       "PostalCode                  0.002981               NaN    1.000000  "
      ]
     },
     "execution_count": 34,
     "metadata": {},
     "output_type": "execute_result"
    }
   ],
   "source": [
    "autos.corr()"
   ]
  },
  {
   "cell_type": "markdown",
   "metadata": {},
   "source": [
    "Не включаем в выборку признаки DateCrawled, DateCreated,LastSeen, относящиеся скорее к объявлению, а не машине.<br>\n",
    "Также исключаем признаки RegistrationMonth, NumberOfPictures, PostalCode, не влияющие на цену.:"
   ]
  },
  {
   "cell_type": "code",
   "execution_count": 35,
   "metadata": {},
   "outputs": [],
   "source": [
    "autos_df = autos[['VehicleType','RegistrationYear','Gearbox', 'Power','Model', 'Kilometer','FuelType','Brand','Repaired','Price']]"
   ]
  },
  {
   "cell_type": "code",
   "execution_count": 36,
   "metadata": {},
   "outputs": [
    {
     "data": {
      "text/html": [
       "<div>\n",
       "<style scoped>\n",
       "    .dataframe tbody tr th:only-of-type {\n",
       "        vertical-align: middle;\n",
       "    }\n",
       "\n",
       "    .dataframe tbody tr th {\n",
       "        vertical-align: top;\n",
       "    }\n",
       "\n",
       "    .dataframe thead th {\n",
       "        text-align: right;\n",
       "    }\n",
       "</style>\n",
       "<table border=\"1\" class=\"dataframe\">\n",
       "  <thead>\n",
       "    <tr style=\"text-align: right;\">\n",
       "      <th></th>\n",
       "      <th>VehicleType</th>\n",
       "      <th>RegistrationYear</th>\n",
       "      <th>Gearbox</th>\n",
       "      <th>Power</th>\n",
       "      <th>Model</th>\n",
       "      <th>Kilometer</th>\n",
       "      <th>FuelType</th>\n",
       "      <th>Brand</th>\n",
       "      <th>Repaired</th>\n",
       "      <th>Price</th>\n",
       "    </tr>\n",
       "  </thead>\n",
       "  <tbody>\n",
       "    <tr>\n",
       "      <th>1</th>\n",
       "      <td>gasoline</td>\n",
       "      <td>2011</td>\n",
       "      <td>manual</td>\n",
       "      <td>190</td>\n",
       "      <td>unknown</td>\n",
       "      <td>125000</td>\n",
       "      <td>petrol</td>\n",
       "      <td>audi</td>\n",
       "      <td>yes</td>\n",
       "      <td>18300</td>\n",
       "    </tr>\n",
       "    <tr>\n",
       "      <th>2</th>\n",
       "      <td>gasoline</td>\n",
       "      <td>2004</td>\n",
       "      <td>auto</td>\n",
       "      <td>163</td>\n",
       "      <td>grand</td>\n",
       "      <td>125000</td>\n",
       "      <td>petrol</td>\n",
       "      <td>jeep</td>\n",
       "      <td>no</td>\n",
       "      <td>9800</td>\n",
       "    </tr>\n",
       "    <tr>\n",
       "      <th>3</th>\n",
       "      <td>petrol</td>\n",
       "      <td>2001</td>\n",
       "      <td>manual</td>\n",
       "      <td>75</td>\n",
       "      <td>golf</td>\n",
       "      <td>150000</td>\n",
       "      <td>petrol</td>\n",
       "      <td>volkswagen</td>\n",
       "      <td>no</td>\n",
       "      <td>1500</td>\n",
       "    </tr>\n",
       "    <tr>\n",
       "      <th>4</th>\n",
       "      <td>gasoline</td>\n",
       "      <td>2008</td>\n",
       "      <td>manual</td>\n",
       "      <td>69</td>\n",
       "      <td>fabia</td>\n",
       "      <td>90000</td>\n",
       "      <td>petrol</td>\n",
       "      <td>skoda</td>\n",
       "      <td>no</td>\n",
       "      <td>3600</td>\n",
       "    </tr>\n",
       "    <tr>\n",
       "      <th>5</th>\n",
       "      <td>petrol</td>\n",
       "      <td>1995</td>\n",
       "      <td>manual</td>\n",
       "      <td>102</td>\n",
       "      <td>3er</td>\n",
       "      <td>150000</td>\n",
       "      <td>petrol</td>\n",
       "      <td>bmw</td>\n",
       "      <td>yes</td>\n",
       "      <td>650</td>\n",
       "    </tr>\n",
       "    <tr>\n",
       "      <th>6</th>\n",
       "      <td>petrol</td>\n",
       "      <td>2004</td>\n",
       "      <td>manual</td>\n",
       "      <td>109</td>\n",
       "      <td>2_reihe</td>\n",
       "      <td>150000</td>\n",
       "      <td>petrol</td>\n",
       "      <td>peugeot</td>\n",
       "      <td>no</td>\n",
       "      <td>2200</td>\n",
       "    </tr>\n",
       "    <tr>\n",
       "      <th>8</th>\n",
       "      <td>petrol</td>\n",
       "      <td>2014</td>\n",
       "      <td>manual</td>\n",
       "      <td>125</td>\n",
       "      <td>c_max</td>\n",
       "      <td>30000</td>\n",
       "      <td>petrol</td>\n",
       "      <td>ford</td>\n",
       "      <td>no</td>\n",
       "      <td>14500</td>\n",
       "    </tr>\n",
       "    <tr>\n",
       "      <th>9</th>\n",
       "      <td>unknown</td>\n",
       "      <td>1998</td>\n",
       "      <td>manual</td>\n",
       "      <td>101</td>\n",
       "      <td>golf</td>\n",
       "      <td>150000</td>\n",
       "      <td>unknown</td>\n",
       "      <td>volkswagen</td>\n",
       "      <td>no</td>\n",
       "      <td>999</td>\n",
       "    </tr>\n",
       "    <tr>\n",
       "      <th>10</th>\n",
       "      <td>petrol</td>\n",
       "      <td>2004</td>\n",
       "      <td>manual</td>\n",
       "      <td>105</td>\n",
       "      <td>3_reihe</td>\n",
       "      <td>150000</td>\n",
       "      <td>petrol</td>\n",
       "      <td>mazda</td>\n",
       "      <td>no</td>\n",
       "      <td>2000</td>\n",
       "    </tr>\n",
       "    <tr>\n",
       "      <th>11</th>\n",
       "      <td>gasoline</td>\n",
       "      <td>2005</td>\n",
       "      <td>manual</td>\n",
       "      <td>140</td>\n",
       "      <td>passat</td>\n",
       "      <td>150000</td>\n",
       "      <td>petrol</td>\n",
       "      <td>volkswagen</td>\n",
       "      <td>yes</td>\n",
       "      <td>2799</td>\n",
       "    </tr>\n",
       "    <tr>\n",
       "      <th>12</th>\n",
       "      <td>petrol</td>\n",
       "      <td>1995</td>\n",
       "      <td>manual</td>\n",
       "      <td>115</td>\n",
       "      <td>passat</td>\n",
       "      <td>150000</td>\n",
       "      <td>petrol</td>\n",
       "      <td>volkswagen</td>\n",
       "      <td>no</td>\n",
       "      <td>999</td>\n",
       "    </tr>\n",
       "    <tr>\n",
       "      <th>13</th>\n",
       "      <td>unknown</td>\n",
       "      <td>2004</td>\n",
       "      <td>manual</td>\n",
       "      <td>131</td>\n",
       "      <td>passat</td>\n",
       "      <td>150000</td>\n",
       "      <td>unknown</td>\n",
       "      <td>volkswagen</td>\n",
       "      <td>no</td>\n",
       "      <td>2500</td>\n",
       "    </tr>\n",
       "    <tr>\n",
       "      <th>14</th>\n",
       "      <td>gasoline</td>\n",
       "      <td>2011</td>\n",
       "      <td>manual</td>\n",
       "      <td>190</td>\n",
       "      <td>navara</td>\n",
       "      <td>70000</td>\n",
       "      <td>petrol</td>\n",
       "      <td>nissan</td>\n",
       "      <td>no</td>\n",
       "      <td>17999</td>\n",
       "    </tr>\n",
       "    <tr>\n",
       "      <th>16</th>\n",
       "      <td>petrol</td>\n",
       "      <td>2016</td>\n",
       "      <td>manual</td>\n",
       "      <td>60</td>\n",
       "      <td>polo</td>\n",
       "      <td>150000</td>\n",
       "      <td>petrol</td>\n",
       "      <td>volkswagen</td>\n",
       "      <td>no</td>\n",
       "      <td>300</td>\n",
       "    </tr>\n",
       "    <tr>\n",
       "      <th>17</th>\n",
       "      <td>petrol</td>\n",
       "      <td>2004</td>\n",
       "      <td>auto</td>\n",
       "      <td>75</td>\n",
       "      <td>twingo</td>\n",
       "      <td>150000</td>\n",
       "      <td>petrol</td>\n",
       "      <td>renault</td>\n",
       "      <td>no</td>\n",
       "      <td>1750</td>\n",
       "    </tr>\n",
       "    <tr>\n",
       "      <th>18</th>\n",
       "      <td>gasoline</td>\n",
       "      <td>2007</td>\n",
       "      <td>manual</td>\n",
       "      <td>136</td>\n",
       "      <td>c_max</td>\n",
       "      <td>150000</td>\n",
       "      <td>petrol</td>\n",
       "      <td>ford</td>\n",
       "      <td>no</td>\n",
       "      <td>7550</td>\n",
       "    </tr>\n",
       "    <tr>\n",
       "      <th>19</th>\n",
       "      <td>petrol</td>\n",
       "      <td>2004</td>\n",
       "      <td>manual</td>\n",
       "      <td>102</td>\n",
       "      <td>a_klasse</td>\n",
       "      <td>150000</td>\n",
       "      <td>petrol</td>\n",
       "      <td>mercedes_benz</td>\n",
       "      <td>no</td>\n",
       "      <td>1850</td>\n",
       "    </tr>\n",
       "    <tr>\n",
       "      <th>20</th>\n",
       "      <td>petrol</td>\n",
       "      <td>2009</td>\n",
       "      <td>manual</td>\n",
       "      <td>160</td>\n",
       "      <td>scirocco</td>\n",
       "      <td>100000</td>\n",
       "      <td>petrol</td>\n",
       "      <td>volkswagen</td>\n",
       "      <td>no</td>\n",
       "      <td>10400</td>\n",
       "    </tr>\n",
       "    <tr>\n",
       "      <th>21</th>\n",
       "      <td>petrol</td>\n",
       "      <td>2002</td>\n",
       "      <td>auto</td>\n",
       "      <td>231</td>\n",
       "      <td>5er</td>\n",
       "      <td>150000</td>\n",
       "      <td>petrol</td>\n",
       "      <td>bmw</td>\n",
       "      <td>no</td>\n",
       "      <td>3699</td>\n",
       "    </tr>\n",
       "    <tr>\n",
       "      <th>22</th>\n",
       "      <td>petrol</td>\n",
       "      <td>2018</td>\n",
       "      <td>manual</td>\n",
       "      <td>90</td>\n",
       "      <td>meriva</td>\n",
       "      <td>150000</td>\n",
       "      <td>petrol</td>\n",
       "      <td>opel</td>\n",
       "      <td>no</td>\n",
       "      <td>2900</td>\n",
       "    </tr>\n",
       "  </tbody>\n",
       "</table>\n",
       "</div>"
      ],
      "text/plain": [
       "   VehicleType  RegistrationYear Gearbox  Power     Model  Kilometer FuelType  \\\n",
       "1     gasoline              2011  manual    190   unknown     125000   petrol   \n",
       "2     gasoline              2004    auto    163     grand     125000   petrol   \n",
       "3       petrol              2001  manual     75      golf     150000   petrol   \n",
       "4     gasoline              2008  manual     69     fabia      90000   petrol   \n",
       "5       petrol              1995  manual    102       3er     150000   petrol   \n",
       "6       petrol              2004  manual    109   2_reihe     150000   petrol   \n",
       "8       petrol              2014  manual    125     c_max      30000   petrol   \n",
       "9      unknown              1998  manual    101      golf     150000  unknown   \n",
       "10      petrol              2004  manual    105   3_reihe     150000   petrol   \n",
       "11    gasoline              2005  manual    140    passat     150000   petrol   \n",
       "12      petrol              1995  manual    115    passat     150000   petrol   \n",
       "13     unknown              2004  manual    131    passat     150000  unknown   \n",
       "14    gasoline              2011  manual    190    navara      70000   petrol   \n",
       "16      petrol              2016  manual     60      polo     150000   petrol   \n",
       "17      petrol              2004    auto     75    twingo     150000   petrol   \n",
       "18    gasoline              2007  manual    136     c_max     150000   petrol   \n",
       "19      petrol              2004  manual    102  a_klasse     150000   petrol   \n",
       "20      petrol              2009  manual    160  scirocco     100000   petrol   \n",
       "21      petrol              2002    auto    231       5er     150000   petrol   \n",
       "22      petrol              2018  manual     90    meriva     150000   petrol   \n",
       "\n",
       "            Brand Repaired  Price  \n",
       "1            audi      yes  18300  \n",
       "2            jeep       no   9800  \n",
       "3      volkswagen       no   1500  \n",
       "4           skoda       no   3600  \n",
       "5             bmw      yes    650  \n",
       "6         peugeot       no   2200  \n",
       "8            ford       no  14500  \n",
       "9      volkswagen       no    999  \n",
       "10          mazda       no   2000  \n",
       "11     volkswagen      yes   2799  \n",
       "12     volkswagen       no    999  \n",
       "13     volkswagen       no   2500  \n",
       "14         nissan       no  17999  \n",
       "16     volkswagen       no    300  \n",
       "17        renault       no   1750  \n",
       "18           ford       no   7550  \n",
       "19  mercedes_benz       no   1850  \n",
       "20     volkswagen       no  10400  \n",
       "21            bmw       no   3699  \n",
       "22           opel       no   2900  "
      ]
     },
     "metadata": {},
     "output_type": "display_data"
    },
    {
     "name": "stdout",
     "output_type": "stream",
     "text": [
      "<class 'pandas.core.frame.DataFrame'>\n",
      "Int64Index: 305499 entries, 1 to 354368\n",
      "Data columns (total 10 columns):\n",
      " #   Column            Non-Null Count   Dtype \n",
      "---  ------            --------------   ----- \n",
      " 0   VehicleType       305499 non-null  object\n",
      " 1   RegistrationYear  305499 non-null  int64 \n",
      " 2   Gearbox           305499 non-null  object\n",
      " 3   Power             305499 non-null  int64 \n",
      " 4   Model             305499 non-null  object\n",
      " 5   Kilometer         305499 non-null  int64 \n",
      " 6   FuelType          305499 non-null  object\n",
      " 7   Brand             305499 non-null  object\n",
      " 8   Repaired          305499 non-null  object\n",
      " 9   Price             305499 non-null  int64 \n",
      "dtypes: int64(4), object(6)\n",
      "memory usage: 25.6+ MB\n"
     ]
    },
    {
     "data": {
      "text/html": [
       "<div>\n",
       "<style scoped>\n",
       "    .dataframe tbody tr th:only-of-type {\n",
       "        vertical-align: middle;\n",
       "    }\n",
       "\n",
       "    .dataframe tbody tr th {\n",
       "        vertical-align: top;\n",
       "    }\n",
       "\n",
       "    .dataframe thead th {\n",
       "        text-align: right;\n",
       "    }\n",
       "</style>\n",
       "<table border=\"1\" class=\"dataframe\">\n",
       "  <thead>\n",
       "    <tr style=\"text-align: right;\">\n",
       "      <th></th>\n",
       "      <th>RegistrationYear</th>\n",
       "      <th>Power</th>\n",
       "      <th>Kilometer</th>\n",
       "      <th>Price</th>\n",
       "    </tr>\n",
       "  </thead>\n",
       "  <tbody>\n",
       "    <tr>\n",
       "      <th>count</th>\n",
       "      <td>305499.000000</td>\n",
       "      <td>305499.000000</td>\n",
       "      <td>305499.000000</td>\n",
       "      <td>305499.000000</td>\n",
       "    </tr>\n",
       "    <tr>\n",
       "      <th>mean</th>\n",
       "      <td>2003.324587</td>\n",
       "      <td>120.181709</td>\n",
       "      <td>128429.569328</td>\n",
       "      <td>4828.301513</td>\n",
       "    </tr>\n",
       "    <tr>\n",
       "      <th>std</th>\n",
       "      <td>6.888141</td>\n",
       "      <td>53.405193</td>\n",
       "      <td>36683.745011</td>\n",
       "      <td>4583.543025</td>\n",
       "    </tr>\n",
       "    <tr>\n",
       "      <th>min</th>\n",
       "      <td>1950.000000</td>\n",
       "      <td>1.000000</td>\n",
       "      <td>5000.000000</td>\n",
       "      <td>100.000000</td>\n",
       "    </tr>\n",
       "    <tr>\n",
       "      <th>25%</th>\n",
       "      <td>1999.000000</td>\n",
       "      <td>75.000000</td>\n",
       "      <td>125000.000000</td>\n",
       "      <td>1350.000000</td>\n",
       "    </tr>\n",
       "    <tr>\n",
       "      <th>50%</th>\n",
       "      <td>2003.000000</td>\n",
       "      <td>110.000000</td>\n",
       "      <td>150000.000000</td>\n",
       "      <td>3150.000000</td>\n",
       "    </tr>\n",
       "    <tr>\n",
       "      <th>75%</th>\n",
       "      <td>2008.000000</td>\n",
       "      <td>150.000000</td>\n",
       "      <td>150000.000000</td>\n",
       "      <td>6950.000000</td>\n",
       "    </tr>\n",
       "    <tr>\n",
       "      <th>max</th>\n",
       "      <td>2019.000000</td>\n",
       "      <td>500.000000</td>\n",
       "      <td>150000.000000</td>\n",
       "      <td>20000.000000</td>\n",
       "    </tr>\n",
       "  </tbody>\n",
       "</table>\n",
       "</div>"
      ],
      "text/plain": [
       "       RegistrationYear          Power      Kilometer          Price\n",
       "count     305499.000000  305499.000000  305499.000000  305499.000000\n",
       "mean        2003.324587     120.181709  128429.569328    4828.301513\n",
       "std            6.888141      53.405193   36683.745011    4583.543025\n",
       "min         1950.000000       1.000000    5000.000000     100.000000\n",
       "25%         1999.000000      75.000000  125000.000000    1350.000000\n",
       "50%         2003.000000     110.000000  150000.000000    3150.000000\n",
       "75%         2008.000000     150.000000  150000.000000    6950.000000\n",
       "max         2019.000000     500.000000  150000.000000   20000.000000"
      ]
     },
     "metadata": {},
     "output_type": "display_data"
    }
   ],
   "source": [
    "data_info(autos_df)"
   ]
  },
  {
   "cell_type": "code",
   "execution_count": 37,
   "metadata": {},
   "outputs": [],
   "source": [
    "autos_df = autos_df.drop_duplicates()"
   ]
  },
  {
   "cell_type": "code",
   "execution_count": 38,
   "metadata": {},
   "outputs": [],
   "source": [
    "X = autos_df.drop('Price', axis=1)\n",
    "y = autos_df['Price']"
   ]
  },
  {
   "cell_type": "code",
   "execution_count": 39,
   "metadata": {},
   "outputs": [],
   "source": [
    "num_col = X.select_dtypes(include='number').columns.tolist()\n",
    "cat_col = X.select_dtypes(exclude='number').columns.tolist()"
   ]
  },
  {
   "cell_type": "code",
   "execution_count": 40,
   "metadata": {},
   "outputs": [
    {
     "name": "stdout",
     "output_type": "stream",
     "text": [
      "['RegistrationYear', 'Power', 'Kilometer']\n",
      "['VehicleType', 'Gearbox', 'Model', 'FuelType', 'Brand', 'Repaired']\n"
     ]
    }
   ],
   "source": [
    "print(num_col)\n",
    "print(cat_col)"
   ]
  },
  {
   "cell_type": "code",
   "execution_count": 41,
   "metadata": {},
   "outputs": [],
   "source": [
    "X_train, X_test, y_train, y_test = train_test_split(\n",
    "    X,\n",
    "    y,\n",
    "    test_size = TEST_SIZE,\n",
    "    random_state = RANDOM_STATE\n",
    ")\n",
    "ohe_columns = ['VehicleType', 'Gearbox', 'Model', 'FuelType', 'Brand', 'Repaired']\n",
    "num_columns = num_col"
   ]
  },
  {
   "cell_type": "code",
   "execution_count": 42,
   "metadata": {},
   "outputs": [],
   "source": [
    "ohe_pipe = Pipeline(\n",
    "    [(\n",
    "        'simpleImputer_ohe',\n",
    "        SimpleImputer(\n",
    "            missing_values=np.nan,\n",
    "            strategy='most_frequent'\n",
    "        )\n",
    "    ),\n",
    "     (\n",
    "         'ohe',\n",
    "         OneHotEncoder(\n",
    "             drop='first',\n",
    "             handle_unknown='ignore',\n",
    "             sparse=False\n",
    "         )\n",
    "     )\n",
    "    ]\n",
    ")"
   ]
  },
  {
   "cell_type": "code",
   "execution_count": 43,
   "metadata": {},
   "outputs": [],
   "source": [
    "data_preprocessor = ColumnTransformer(\n",
    "    [\n",
    "        ('ohe', ohe_pipe, ohe_columns),\n",
    "        ('num', StandardScaler(), num_columns)\n",
    "    ],\n",
    "    remainder='passthrough'\n",
    ")"
   ]
  },
  {
   "cell_type": "code",
   "execution_count": 44,
   "metadata": {},
   "outputs": [],
   "source": [
    "pipe_final = Pipeline([\n",
    "    ('preprocessor', data_preprocessor),\n",
    "    ('models', LinearRegression()\n",
    "    )\n",
    "])"
   ]
  },
  {
   "cell_type": "markdown",
   "metadata": {},
   "source": [
    "## Обучение моделей"
   ]
  },
  {
   "cell_type": "markdown",
   "metadata": {},
   "source": [
    "Для анализа важности признаков добавим функцию importances"
   ]
  },
  {
   "cell_type": "code",
   "execution_count": 45,
   "metadata": {},
   "outputs": [],
   "source": [
    "def importances(model,features):\n",
    "    features=features.columns\n",
    "    importances = model.feature_importances_\n",
    "    indexes = np.argsort(importances)\n",
    "    \n",
    "    plt.figure(figsize=(11, 5))\n",
    "    plt.title('Важность признака')\n",
    "    plt.barh(range(len(indexes)), importances[indexes])\n",
    "    plt.yticks(range(len(indexes)), features[indexes])\n",
    "    plt.xlabel('Относительная важность')\n",
    "    plt.show()"
   ]
  },
  {
   "cell_type": "markdown",
   "metadata": {},
   "source": [
    "### LinearRegression"
   ]
  },
  {
   "cell_type": "code",
   "execution_count": 46,
   "metadata": {},
   "outputs": [],
   "source": [
    "param_grid = [\n",
    "    \n",
    "    # словарь для модели LinearRegression()\n",
    "    {\n",
    "        'models': [LinearRegression()],  \n",
    "        \n",
    "        'preprocessor__num': [StandardScaler(), MinMaxScaler(), 'passthrough']  \n",
    "    }\n",
    "]"
   ]
  },
  {
   "cell_type": "code",
   "execution_count": 47,
   "metadata": {},
   "outputs": [],
   "source": [
    "randomized_search = RandomizedSearchCV(\n",
    "    pipe_final,\n",
    "    param_grid,\n",
    "    cv = 5,\n",
    "    n_iter=5,\n",
    "    scoring = 'neg_root_mean_squared_error',\n",
    "    random_state = RANDOM_STATE,\n",
    "    n_jobs = -1,\n",
    "    error_score='raise'\n",
    ")"
   ]
  },
  {
   "cell_type": "code",
   "execution_count": 48,
   "metadata": {},
   "outputs": [],
   "source": [
    "start_time = timeit.default_timer()\n",
    "pipe_final.fit(X_train, y_train)\n",
    "linear_model_fit_time = timeit.default_timer() - start_time"
   ]
  },
  {
   "cell_type": "code",
   "execution_count": 49,
   "metadata": {},
   "outputs": [],
   "source": [
    "\n",
    "start_time = timeit.default_timer()\n",
    "RMSE_linear_time = mean_squared_error(y_train, pipe_final.predict(X_train))**(1/2)\n",
    "predict_time_linear = timeit.default_timer() - start_time"
   ]
  },
  {
   "cell_type": "code",
   "execution_count": 50,
   "metadata": {},
   "outputs": [],
   "source": [
    "randomized_search.fit(X_train, y_train)\n",
    "RMSE_linear = -randomized_search.best_score_"
   ]
  },
  {
   "cell_type": "markdown",
   "metadata": {},
   "source": [
    "### CatBoostRegressor"
   ]
  },
  {
   "cell_type": "code",
   "execution_count": 51,
   "metadata": {},
   "outputs": [],
   "source": [
    "catboost_model = CatBoostRegressor(verbose=100,\n",
    "                                   cat_features=cat_col,\n",
    "                                   random_state=RANDOM_STATE)"
   ]
  },
  {
   "cell_type": "code",
   "execution_count": 52,
   "metadata": {},
   "outputs": [],
   "source": [
    "param_grid = {\n",
    "    'depth': [1, 5],\n",
    "    'learning_rate': [0.1, 0.3]\n",
    "}\n",
    "\n",
    "randomized_search_catboost = RandomizedSearchCV(\n",
    "    estimator=catboost_model, \n",
    "    param_distributions=param_grid, \n",
    "    scoring='neg_root_mean_squared_error', \n",
    "    cv=5,\n",
    "    n_iter=3\n",
    ")\n"
   ]
  },
  {
   "cell_type": "code",
   "execution_count": 53,
   "metadata": {},
   "outputs": [
    {
     "name": "stdout",
     "output_type": "stream",
     "text": [
      "Learning rate set to 0.093621\n",
      "0:\tlearn: 4397.5151513\ttotal: 282ms\tremaining: 4m 41s\n",
      "100:\tlearn: 1885.9672504\ttotal: 15.4s\tremaining: 2m 16s\n",
      "200:\tlearn: 1808.7902017\ttotal: 30s\tremaining: 1m 59s\n",
      "300:\tlearn: 1769.6574346\ttotal: 44.5s\tremaining: 1m 43s\n",
      "400:\tlearn: 1747.4424792\ttotal: 59.5s\tremaining: 1m 28s\n",
      "500:\tlearn: 1730.7173563\ttotal: 1m 14s\tremaining: 1m 14s\n",
      "600:\tlearn: 1716.9407465\ttotal: 1m 30s\tremaining: 59.9s\n",
      "700:\tlearn: 1704.7856707\ttotal: 1m 45s\tremaining: 45.1s\n",
      "800:\tlearn: 1694.5212320\ttotal: 2m\tremaining: 29.9s\n",
      "900:\tlearn: 1684.7345059\ttotal: 2m 15s\tremaining: 14.9s\n",
      "999:\tlearn: 1676.4534097\ttotal: 2m 30s\tremaining: 0us\n"
     ]
    }
   ],
   "source": [
    "start_time = timeit.default_timer()\n",
    "catboost_model.fit(X_train, y_train)\n",
    "catboost_model_fit_time = timeit.default_timer() - start_time"
   ]
  },
  {
   "cell_type": "code",
   "execution_count": 54,
   "metadata": {},
   "outputs": [],
   "source": [
    "start_time = timeit.default_timer()\n",
    "RMSE_catboost_time = mean_squared_error(y_train, catboost_model.predict(X_train))**(1/2)\n",
    "predict_time_catboost = timeit.default_timer() - start_time"
   ]
  },
  {
   "cell_type": "code",
   "execution_count": 55,
   "metadata": {},
   "outputs": [
    {
     "name": "stdout",
     "output_type": "stream",
     "text": [
      "0:\tlearn: 4395.4045723\ttotal: 151ms\tremaining: 2m 30s\n",
      "100:\tlearn: 1918.2871520\ttotal: 10.3s\tremaining: 1m 31s\n",
      "200:\tlearn: 1841.8983301\ttotal: 20.2s\tremaining: 1m 20s\n",
      "300:\tlearn: 1804.5390686\ttotal: 29.6s\tremaining: 1m 8s\n",
      "400:\tlearn: 1782.5146300\ttotal: 39.5s\tremaining: 58.9s\n",
      "500:\tlearn: 1763.4739225\ttotal: 49.3s\tremaining: 49.1s\n",
      "600:\tlearn: 1748.2277142\ttotal: 59.3s\tremaining: 39.3s\n",
      "700:\tlearn: 1735.7114632\ttotal: 1m 9s\tremaining: 29.6s\n",
      "800:\tlearn: 1724.9197035\ttotal: 1m 19s\tremaining: 19.8s\n",
      "900:\tlearn: 1714.1818085\ttotal: 1m 29s\tremaining: 9.88s\n",
      "999:\tlearn: 1705.7122885\ttotal: 1m 40s\tremaining: 0us\n",
      "0:\tlearn: 4397.3658284\ttotal: 154ms\tremaining: 2m 33s\n",
      "100:\tlearn: 1922.8432343\ttotal: 9.78s\tremaining: 1m 27s\n",
      "200:\tlearn: 1839.7555365\ttotal: 19.6s\tremaining: 1m 18s\n",
      "300:\tlearn: 1803.5656069\ttotal: 29s\tremaining: 1m 7s\n",
      "400:\tlearn: 1779.0112855\ttotal: 38.9s\tremaining: 58s\n",
      "500:\tlearn: 1760.4010008\ttotal: 48.4s\tremaining: 48.2s\n",
      "600:\tlearn: 1747.1573984\ttotal: 58s\tremaining: 38.5s\n",
      "700:\tlearn: 1734.9046957\ttotal: 1m 8s\tremaining: 29s\n",
      "800:\tlearn: 1724.5221639\ttotal: 1m 18s\tremaining: 19.5s\n",
      "900:\tlearn: 1715.4822648\ttotal: 1m 28s\tremaining: 9.68s\n",
      "999:\tlearn: 1707.2029533\ttotal: 1m 37s\tremaining: 0us\n",
      "0:\tlearn: 4391.6625890\ttotal: 143ms\tremaining: 2m 23s\n",
      "100:\tlearn: 1922.1543732\ttotal: 9.8s\tremaining: 1m 27s\n",
      "200:\tlearn: 1844.3413684\ttotal: 19.7s\tremaining: 1m 18s\n",
      "300:\tlearn: 1807.8297256\ttotal: 28.6s\tremaining: 1m 6s\n",
      "400:\tlearn: 1784.7642321\ttotal: 37.7s\tremaining: 56.3s\n",
      "500:\tlearn: 1769.5611870\ttotal: 47s\tremaining: 46.8s\n",
      "600:\tlearn: 1755.7887778\ttotal: 56.3s\tremaining: 37.4s\n",
      "700:\tlearn: 1744.7844568\ttotal: 1m 5s\tremaining: 28.1s\n",
      "800:\tlearn: 1733.9733061\ttotal: 1m 15s\tremaining: 18.7s\n",
      "900:\tlearn: 1724.7798694\ttotal: 1m 25s\tremaining: 9.36s\n",
      "999:\tlearn: 1716.1227113\ttotal: 1m 34s\tremaining: 0us\n",
      "0:\tlearn: 4399.4115149\ttotal: 136ms\tremaining: 2m 16s\n",
      "100:\tlearn: 1917.8683915\ttotal: 9.9s\tremaining: 1m 28s\n",
      "200:\tlearn: 1836.0443960\ttotal: 19.8s\tremaining: 1m 18s\n",
      "300:\tlearn: 1799.6643644\ttotal: 29.4s\tremaining: 1m 8s\n",
      "400:\tlearn: 1774.8711808\ttotal: 39.1s\tremaining: 58.5s\n",
      "500:\tlearn: 1758.4323072\ttotal: 48.7s\tremaining: 48.5s\n",
      "600:\tlearn: 1744.7455134\ttotal: 58.3s\tremaining: 38.7s\n",
      "700:\tlearn: 1733.2134820\ttotal: 1m 8s\tremaining: 29.2s\n",
      "800:\tlearn: 1722.9466388\ttotal: 1m 17s\tremaining: 19.3s\n",
      "900:\tlearn: 1714.1897066\ttotal: 1m 27s\tremaining: 9.64s\n",
      "999:\tlearn: 1706.3172577\ttotal: 1m 37s\tremaining: 0us\n",
      "0:\tlearn: 4392.2518022\ttotal: 151ms\tremaining: 2m 30s\n",
      "100:\tlearn: 1921.3841377\ttotal: 9.45s\tremaining: 1m 24s\n",
      "200:\tlearn: 1839.0996350\ttotal: 19s\tremaining: 1m 15s\n",
      "300:\tlearn: 1802.1669594\ttotal: 28.4s\tremaining: 1m 5s\n",
      "400:\tlearn: 1776.1908249\ttotal: 38.2s\tremaining: 57s\n",
      "500:\tlearn: 1757.6358375\ttotal: 47.7s\tremaining: 47.5s\n",
      "600:\tlearn: 1743.3003735\ttotal: 57.4s\tremaining: 38.1s\n",
      "700:\tlearn: 1732.2017656\ttotal: 1m 6s\tremaining: 28.4s\n",
      "800:\tlearn: 1721.6626749\ttotal: 1m 16s\tremaining: 18.9s\n",
      "900:\tlearn: 1711.8842842\ttotal: 1m 25s\tremaining: 9.38s\n",
      "999:\tlearn: 1703.7360117\ttotal: 1m 34s\tremaining: 0us\n",
      "0:\tlearn: 4289.0960656\ttotal: 26.3ms\tremaining: 26.3s\n",
      "100:\tlearn: 2336.0373879\ttotal: 2.11s\tremaining: 18.8s\n",
      "200:\tlearn: 2300.3352980\ttotal: 4.28s\tremaining: 17s\n",
      "300:\tlearn: 2287.3364642\ttotal: 6.29s\tremaining: 14.6s\n",
      "400:\tlearn: 2279.2477515\ttotal: 8.3s\tremaining: 12.4s\n",
      "500:\tlearn: 2273.4135559\ttotal: 10.3s\tremaining: 10.3s\n",
      "600:\tlearn: 2268.6563131\ttotal: 12.3s\tremaining: 8.19s\n",
      "700:\tlearn: 2264.9652497\ttotal: 14.3s\tremaining: 6.1s\n",
      "800:\tlearn: 2261.9560712\ttotal: 16.3s\tremaining: 4.05s\n",
      "900:\tlearn: 2259.4283731\ttotal: 18.3s\tremaining: 2.01s\n",
      "999:\tlearn: 2257.2940387\ttotal: 20.3s\tremaining: 0us\n",
      "0:\tlearn: 4289.0543808\ttotal: 30ms\tremaining: 30s\n",
      "100:\tlearn: 2333.7796979\ttotal: 2.1s\tremaining: 18.7s\n",
      "200:\tlearn: 2296.7918758\ttotal: 4.12s\tremaining: 16.4s\n",
      "300:\tlearn: 2283.7927957\ttotal: 6.17s\tremaining: 14.3s\n",
      "400:\tlearn: 2275.5990934\ttotal: 8.19s\tremaining: 12.2s\n",
      "500:\tlearn: 2269.3821489\ttotal: 10.3s\tremaining: 10.2s\n",
      "600:\tlearn: 2264.6254113\ttotal: 12.3s\tremaining: 8.15s\n",
      "700:\tlearn: 2260.8097240\ttotal: 14.3s\tremaining: 6.11s\n",
      "800:\tlearn: 2257.8096426\ttotal: 16.4s\tremaining: 4.07s\n",
      "900:\tlearn: 2255.1722214\ttotal: 18.4s\tremaining: 2.02s\n",
      "999:\tlearn: 2253.0538211\ttotal: 20.4s\tremaining: 0us\n",
      "0:\tlearn: 4285.2367211\ttotal: 27.2ms\tremaining: 27.2s\n",
      "100:\tlearn: 2330.0112735\ttotal: 2.13s\tremaining: 19s\n",
      "200:\tlearn: 2294.7862707\ttotal: 4.25s\tremaining: 16.9s\n",
      "300:\tlearn: 2280.9999543\ttotal: 6.33s\tremaining: 14.7s\n",
      "400:\tlearn: 2271.8605300\ttotal: 8.39s\tremaining: 12.5s\n",
      "500:\tlearn: 2265.1104010\ttotal: 10.4s\tremaining: 10.4s\n",
      "600:\tlearn: 2260.4789366\ttotal: 12.4s\tremaining: 8.22s\n",
      "700:\tlearn: 2256.2525969\ttotal: 14.4s\tremaining: 6.15s\n",
      "800:\tlearn: 2253.0220552\ttotal: 16.4s\tremaining: 4.07s\n",
      "900:\tlearn: 2250.3194896\ttotal: 18.4s\tremaining: 2.02s\n",
      "999:\tlearn: 2248.1123271\ttotal: 20.4s\tremaining: 0us\n",
      "0:\tlearn: 4290.4218406\ttotal: 26.6ms\tremaining: 26.6s\n",
      "100:\tlearn: 2330.6175438\ttotal: 2.06s\tremaining: 18.3s\n",
      "200:\tlearn: 2292.8812174\ttotal: 4.06s\tremaining: 16.1s\n",
      "300:\tlearn: 2280.5043047\ttotal: 6.02s\tremaining: 14s\n",
      "400:\tlearn: 2272.9311757\ttotal: 7.98s\tremaining: 11.9s\n",
      "500:\tlearn: 2267.1499681\ttotal: 9.91s\tremaining: 9.88s\n",
      "600:\tlearn: 2262.4989548\ttotal: 11.9s\tremaining: 7.88s\n",
      "700:\tlearn: 2258.8632653\ttotal: 13.9s\tremaining: 5.91s\n",
      "800:\tlearn: 2255.9546983\ttotal: 15.8s\tremaining: 3.93s\n",
      "900:\tlearn: 2253.4497762\ttotal: 17.8s\tremaining: 1.96s\n",
      "999:\tlearn: 2251.3822489\ttotal: 19.7s\tremaining: 0us\n",
      "0:\tlearn: 4286.3816225\ttotal: 26.8ms\tremaining: 26.8s\n",
      "100:\tlearn: 2332.8917302\ttotal: 2.09s\tremaining: 18.6s\n",
      "200:\tlearn: 2303.6622299\ttotal: 4.08s\tremaining: 16.2s\n",
      "300:\tlearn: 2290.9990527\ttotal: 6.1s\tremaining: 14.2s\n",
      "400:\tlearn: 2282.4211919\ttotal: 8.09s\tremaining: 12.1s\n",
      "500:\tlearn: 2276.2353012\ttotal: 10.1s\tremaining: 10.1s\n",
      "600:\tlearn: 2271.0227129\ttotal: 12.2s\tremaining: 8.07s\n",
      "700:\tlearn: 2266.9370776\ttotal: 14.3s\tremaining: 6.08s\n",
      "800:\tlearn: 2263.4987861\ttotal: 16.3s\tremaining: 4.06s\n",
      "900:\tlearn: 2260.5635933\ttotal: 18.4s\tremaining: 2.02s\n",
      "999:\tlearn: 2258.1477599\ttotal: 20.4s\tremaining: 0us\n",
      "0:\tlearn: 4531.9092870\ttotal: 32.2ms\tremaining: 32.2s\n",
      "100:\tlearn: 2535.0082069\ttotal: 2.15s\tremaining: 19.1s\n",
      "200:\tlearn: 2356.0591035\ttotal: 4.21s\tremaining: 16.8s\n",
      "300:\tlearn: 2314.4361856\ttotal: 6.28s\tremaining: 14.6s\n",
      "400:\tlearn: 2298.6703137\ttotal: 8.35s\tremaining: 12.5s\n",
      "500:\tlearn: 2290.7928895\ttotal: 10.4s\tremaining: 10.4s\n",
      "600:\tlearn: 2285.6661048\ttotal: 12.5s\tremaining: 8.31s\n",
      "700:\tlearn: 2281.9547271\ttotal: 14.6s\tremaining: 6.22s\n",
      "800:\tlearn: 2278.9504143\ttotal: 16.8s\tremaining: 4.18s\n",
      "900:\tlearn: 2276.4445938\ttotal: 18.9s\tremaining: 2.08s\n",
      "999:\tlearn: 2274.3230513\ttotal: 20.9s\tremaining: 0us\n",
      "0:\tlearn: 4533.3797523\ttotal: 27ms\tremaining: 26.9s\n",
      "100:\tlearn: 2537.7885067\ttotal: 2.16s\tremaining: 19.2s\n",
      "200:\tlearn: 2356.7002451\ttotal: 4.25s\tremaining: 16.9s\n",
      "300:\tlearn: 2314.0462636\ttotal: 6.33s\tremaining: 14.7s\n",
      "400:\tlearn: 2297.1403793\ttotal: 8.43s\tremaining: 12.6s\n",
      "500:\tlearn: 2288.5799115\ttotal: 10.5s\tremaining: 10.5s\n",
      "600:\tlearn: 2282.9921314\ttotal: 12.6s\tremaining: 8.38s\n",
      "700:\tlearn: 2279.0755925\ttotal: 14.7s\tremaining: 6.26s\n",
      "800:\tlearn: 2276.0218279\ttotal: 16.7s\tremaining: 4.15s\n",
      "900:\tlearn: 2273.4377975\ttotal: 18.8s\tremaining: 2.06s\n",
      "999:\tlearn: 2271.1706587\ttotal: 20.8s\tremaining: 0us\n",
      "0:\tlearn: 4527.8534034\ttotal: 34.7ms\tremaining: 34.7s\n",
      "100:\tlearn: 2534.0457786\ttotal: 2.13s\tremaining: 19s\n",
      "200:\tlearn: 2354.2121927\ttotal: 4.2s\tremaining: 16.7s\n",
      "300:\tlearn: 2311.4159668\ttotal: 6.29s\tremaining: 14.6s\n",
      "400:\tlearn: 2294.9374375\ttotal: 8.4s\tremaining: 12.5s\n",
      "500:\tlearn: 2286.8603844\ttotal: 10.6s\tremaining: 10.5s\n",
      "600:\tlearn: 2281.5771811\ttotal: 12.7s\tremaining: 8.4s\n",
      "700:\tlearn: 2277.6504472\ttotal: 14.7s\tremaining: 6.28s\n",
      "800:\tlearn: 2274.4260100\ttotal: 16.8s\tremaining: 4.18s\n",
      "900:\tlearn: 2271.5793429\ttotal: 18.9s\tremaining: 2.07s\n",
      "999:\tlearn: 2269.0271088\ttotal: 20.9s\tremaining: 0us\n",
      "0:\tlearn: 4534.6994927\ttotal: 27.2ms\tremaining: 27.2s\n",
      "100:\tlearn: 2533.1588283\ttotal: 2.19s\tremaining: 19.5s\n",
      "200:\tlearn: 2354.1611068\ttotal: 4.27s\tremaining: 17s\n",
      "300:\tlearn: 2310.8012572\ttotal: 6.36s\tremaining: 14.8s\n",
      "400:\tlearn: 2293.8484832\ttotal: 8.44s\tremaining: 12.6s\n",
      "500:\tlearn: 2285.3597852\ttotal: 10.6s\tremaining: 10.5s\n",
      "600:\tlearn: 2279.7930724\ttotal: 12.6s\tremaining: 8.39s\n",
      "700:\tlearn: 2275.8150586\ttotal: 14.8s\tremaining: 6.3s\n",
      "800:\tlearn: 2272.8736460\ttotal: 16.9s\tremaining: 4.19s\n",
      "900:\tlearn: 2270.5917753\ttotal: 18.9s\tremaining: 2.08s\n",
      "999:\tlearn: 2268.4820819\ttotal: 20.9s\tremaining: 0us\n",
      "0:\tlearn: 4528.0103510\ttotal: 32.2ms\tremaining: 32.2s\n",
      "100:\tlearn: 2540.0705646\ttotal: 2.1s\tremaining: 18.7s\n",
      "200:\tlearn: 2361.4047687\ttotal: 4.23s\tremaining: 16.8s\n",
      "300:\tlearn: 2319.5201296\ttotal: 6.29s\tremaining: 14.6s\n",
      "400:\tlearn: 2303.6865104\ttotal: 8.34s\tremaining: 12.5s\n",
      "500:\tlearn: 2295.1357192\ttotal: 10.4s\tremaining: 10.4s\n",
      "600:\tlearn: 2289.4739839\ttotal: 12.4s\tremaining: 8.25s\n",
      "700:\tlearn: 2285.1785716\ttotal: 14.5s\tremaining: 6.18s\n",
      "800:\tlearn: 2282.0439749\ttotal: 16.6s\tremaining: 4.13s\n",
      "900:\tlearn: 2279.4226765\ttotal: 18.7s\tremaining: 2.05s\n",
      "999:\tlearn: 2277.1485045\ttotal: 20.7s\tremaining: 0us\n",
      "0:\tlearn: 4395.8682291\ttotal: 170ms\tremaining: 2m 50s\n",
      "100:\tlearn: 1917.5953490\ttotal: 12.7s\tremaining: 1m 53s\n",
      "200:\tlearn: 1838.0594352\ttotal: 25.7s\tremaining: 1m 42s\n",
      "300:\tlearn: 1802.7234386\ttotal: 38.2s\tremaining: 1m 28s\n",
      "400:\tlearn: 1779.4531629\ttotal: 50.6s\tremaining: 1m 15s\n",
      "500:\tlearn: 1763.8935016\ttotal: 1m 3s\tremaining: 1m 2s\n",
      "600:\tlearn: 1749.7056956\ttotal: 1m 15s\tremaining: 50.1s\n",
      "700:\tlearn: 1738.8689053\ttotal: 1m 27s\tremaining: 37.3s\n",
      "800:\tlearn: 1729.4634101\ttotal: 1m 39s\tremaining: 24.7s\n",
      "900:\tlearn: 1721.8634507\ttotal: 1m 51s\tremaining: 12.2s\n",
      "999:\tlearn: 1713.7556177\ttotal: 2m 3s\tremaining: 0us\n"
     ]
    }
   ],
   "source": [
    "randomized_search_catboost.fit(X_train, y_train)\n",
    "RMSE_catboost = -randomized_search_catboost.best_score_"
   ]
  },
  {
   "cell_type": "code",
   "execution_count": 56,
   "metadata": {},
   "outputs": [
    {
     "data": {
      "image/png": "[encoded data removed]",
      "text/plain": [
       "<Figure size 792x360 with 1 Axes>"
      ]
     },
     "metadata": {
      "needs_background": "light"
     },
     "output_type": "display_data"
    }
   ],
   "source": [
    "importances(catboost_model,X_train)"
   ]
  },
  {
   "cell_type": "markdown",
   "metadata": {},
   "source": [
    "### LightGBM "
   ]
  },
  {
   "cell_type": "code",
   "execution_count": 57,
   "metadata": {},
   "outputs": [],
   "source": [
    "X_train[cat_col] = X_train[cat_col].astype('category')\n",
    "X_test[cat_col] = X_test[cat_col].astype('category')"
   ]
  },
  {
   "cell_type": "code",
   "execution_count": 58,
   "metadata": {},
   "outputs": [],
   "source": [
    "lgbm_model = LGBMRegressor(objective='root_mean_squared_error',\n",
    "                           random_state=RANDOM_STATE,\n",
    "                           verbose=-1)"
   ]
  },
  {
   "cell_type": "code",
   "execution_count": 59,
   "metadata": {},
   "outputs": [],
   "source": [
    "param_grid = {\n",
    "    'learning_rate': [0.1, 0.3, 0.5, 1],  \n",
    "    'max_depth': [1, 2, 6]\n",
    "}\n",
    "\n",
    "randomized_search_lgbm = RandomizedSearchCV(\n",
    "    estimator=lgbm_model, \n",
    "    param_distributions=param_grid, \n",
    "    scoring='neg_root_mean_squared_error', \n",
    "    cv=5,\n",
    "    n_iter=5\n",
    ")"
   ]
  },
  {
   "cell_type": "code",
   "execution_count": 60,
   "metadata": {},
   "outputs": [],
   "source": [
    "start_time = timeit.default_timer()\n",
    "lgbm_model.fit(X_train, y_train)\n",
    "lgbm_model_fit_time = timeit.default_timer() - start_time"
   ]
  },
  {
   "cell_type": "code",
   "execution_count": 61,
   "metadata": {},
   "outputs": [],
   "source": [
    "start_time = timeit.default_timer()\n",
    "RMSE_lgbm_time = mean_squared_error(y_train, lgbm_model.predict(X_train))**(1/2)\n",
    "predict_time_lgbm = timeit.default_timer() - start_time"
   ]
  },
  {
   "cell_type": "code",
   "execution_count": 62,
   "metadata": {},
   "outputs": [],
   "source": [
    "randomized_search_lgbm.fit(X_train, y_train)\n",
    "RMSE_lgbm = -randomized_search_lgbm.best_score_"
   ]
  },
  {
   "cell_type": "code",
   "execution_count": 63,
   "metadata": {},
   "outputs": [
    {
     "data": {
      "image/png": "[encoded data removed]",
      "text/plain": [
       "<Figure size 792x360 with 1 Axes>"
      ]
     },
     "metadata": {
      "needs_background": "light"
     },
     "output_type": "display_data"
    }
   ],
   "source": [
    "importances(lgbm_model,X_train)"
   ]
  },
  {
   "cell_type": "markdown",
   "metadata": {},
   "source": [
    "## Анализ моделей"
   ]
  },
  {
   "cell_type": "code",
   "execution_count": 64,
   "metadata": {},
   "outputs": [
    {
     "name": "stdout",
     "output_type": "stream",
     "text": [
      "Linear-время 24.89746373699745\n",
      "Catboost-время 152.9914419350098\n",
      "LGBM-время 4.1957601009635255\n"
     ]
    }
   ],
   "source": [
    "print('Linear-время', linear_model_fit_time)\n",
    "print('Catboost-время', catboost_model_fit_time)\n",
    "print('LGBM-время', lgbm_model_fit_time)"
   ]
  },
  {
   "cell_type": "code",
   "execution_count": 65,
   "metadata": {},
   "outputs": [
    {
     "name": "stdout",
     "output_type": "stream",
     "text": [
      "Linear-время предсказания 1.2745475529809482\n",
      "Catboost-время предсказания 1.1416971490252763\n",
      "LGBM-время предсказания 1.9020184259861708\n"
     ]
    }
   ],
   "source": [
    "print('Linear-время предсказания', predict_time_linear)\n",
    "print('Catboost-время предсказания', predict_time_catboost)\n",
    "print('LGBM-время предсказания', predict_time_lgbm)"
   ]
  },
  {
   "cell_type": "code",
   "execution_count": 66,
   "metadata": {},
   "outputs": [
    {
     "name": "stdout",
     "output_type": "stream",
     "text": [
      "Linear-RMSE 2781.5264069161403\n",
      "Catboost-RMSE 1761.4605632555067\n",
      "LGBM-RMSE 1746.0210546812548\n"
     ]
    }
   ],
   "source": [
    "print('Linear-RMSE', RMSE_linear)\n",
    "print('Catboost-RMSE', RMSE_catboost)\n",
    "print('LGBM-RMSE', RMSE_lgbm)"
   ]
  },
  {
   "cell_type": "markdown",
   "metadata": {},
   "source": [
    "Вывод:\n",
    "<br> Лучше всего показала себя модель  LightGBM - с самой высокой скоростью обучения и с лучшим результатом RMSE."
   ]
  },
  {
   "cell_type": "code",
   "execution_count": 67,
   "metadata": {},
   "outputs": [],
   "source": [
    "start_time = timeit.default_timer()\n",
    "RMSE_lgbm_test = mean_squared_error(y_test, lgbm_model.predict(X_test))**(1/2)\n",
    "predict_time_lgbm_test = timeit.default_timer() - start_time"
   ]
  },
  {
   "cell_type": "code",
   "execution_count": 68,
   "metadata": {},
   "outputs": [
    {
     "name": "stdout",
     "output_type": "stream",
     "text": [
      "LGBM-RMSE и время предсказания на тестовой выборке 1732.475421929691 0.5552372239762917\n"
     ]
    }
   ],
   "source": [
    "print('LGBM-RMSE и время предсказания на тестовой выборке', RMSE_lgbm_test, predict_time_lgbm_test)"
   ]
  },
  {
   "cell_type": "markdown",
   "metadata": {},
   "source": [
    "Таким образом модель LGBM хорошо себя показала и на тестовой выборке, учтены важные для критерии:\n",
    "* качество предсказания;\n",
    "* время обучения модели;\n",
    "* время предсказания модели."
   ]
  },
  {
   "cell_type": "code",
   "execution_count": null,
   "metadata": {},
   "outputs": [],
   "source": []
  }
 ],
 "metadata": {
  "ExecuteTimeLog": [
   {
    "duration": 18108,
    "start_time": "2024-12-05T19:36:30.411Z"
   },
   {
    "duration": 2068,
    "start_time": "2024-12-05T19:36:48.522Z"
   },
   {
    "duration": 4,
    "start_time": "2024-12-05T19:36:50.592Z"
   },
   {
    "duration": 78,
    "start_time": "2024-12-05T19:36:50.598Z"
   },
   {
    "duration": 2929,
    "start_time": "2024-12-05T19:36:50.677Z"
   },
   {
    "duration": 209,
    "start_time": "2024-12-05T19:36:58.502Z"
   },
   {
    "duration": 3,
    "start_time": "2024-12-05T19:38:03.575Z"
   },
   {
    "duration": 664,
    "start_time": "2024-12-05T19:38:22.550Z"
   },
   {
    "duration": 49,
    "start_time": "2024-12-06T15:17:05.839Z"
   },
   {
    "duration": 17508,
    "start_time": "2024-12-06T15:17:14.889Z"
   },
   {
    "duration": 1990,
    "start_time": "2024-12-06T15:17:32.399Z"
   },
   {
    "duration": 3,
    "start_time": "2024-12-06T15:17:34.391Z"
   },
   {
    "duration": 20,
    "start_time": "2024-12-06T15:17:34.396Z"
   },
   {
    "duration": 1265,
    "start_time": "2024-12-06T15:17:34.418Z"
   },
   {
    "duration": 178,
    "start_time": "2024-12-06T15:17:35.685Z"
   },
   {
    "duration": 4,
    "start_time": "2024-12-06T15:17:35.865Z"
   },
   {
    "duration": 641,
    "start_time": "2024-12-06T15:17:35.871Z"
   },
   {
    "duration": 467,
    "start_time": "2024-12-06T15:17:36.513Z"
   },
   {
    "duration": 631,
    "start_time": "2024-12-06T15:18:48.405Z"
   },
   {
    "duration": 463,
    "start_time": "2024-12-06T15:19:07.320Z"
   },
   {
    "duration": 472,
    "start_time": "2024-12-06T15:19:50.964Z"
   },
   {
    "duration": 16042,
    "start_time": "2024-12-10T02:30:03.160Z"
   },
   {
    "duration": 1840,
    "start_time": "2024-12-10T02:30:19.204Z"
   },
   {
    "duration": 3,
    "start_time": "2024-12-10T02:30:21.045Z"
   },
   {
    "duration": 19,
    "start_time": "2024-12-10T02:30:21.050Z"
   },
   {
    "duration": 2953,
    "start_time": "2024-12-10T02:30:21.071Z"
   },
   {
    "duration": 148,
    "start_time": "2024-12-10T02:30:24.026Z"
   },
   {
    "duration": 3,
    "start_time": "2024-12-10T02:30:24.175Z"
   },
   {
    "duration": 594,
    "start_time": "2024-12-10T02:30:24.180Z"
   },
   {
    "duration": 433,
    "start_time": "2024-12-10T02:30:24.775Z"
   },
   {
    "duration": 409,
    "start_time": "2024-12-10T02:30:25.214Z"
   },
   {
    "duration": 457,
    "start_time": "2024-12-10T02:30:25.624Z"
   },
   {
    "duration": 3,
    "start_time": "2024-12-10T02:42:58.002Z"
   },
   {
    "duration": 813,
    "start_time": "2024-12-10T02:42:58.487Z"
   },
   {
    "duration": 224,
    "start_time": "2024-12-10T02:42:59.974Z"
   },
   {
    "duration": 2,
    "start_time": "2024-12-10T02:43:20.470Z"
   },
   {
    "duration": 791,
    "start_time": "2024-12-10T02:43:20.998Z"
   },
   {
    "duration": 238,
    "start_time": "2024-12-10T02:43:21.791Z"
   },
   {
    "duration": 765,
    "start_time": "2024-12-10T02:46:59.095Z"
   },
   {
    "duration": 221,
    "start_time": "2024-12-10T02:47:01.597Z"
   },
   {
    "duration": 9246,
    "start_time": "2024-12-10T02:48:58.537Z"
   },
   {
    "duration": 1653,
    "start_time": "2024-12-10T02:49:07.786Z"
   },
   {
    "duration": 2,
    "start_time": "2024-12-10T02:49:09.441Z"
   },
   {
    "duration": 9,
    "start_time": "2024-12-10T02:49:09.445Z"
   },
   {
    "duration": 849,
    "start_time": "2024-12-10T02:49:09.456Z"
   },
   {
    "duration": 247,
    "start_time": "2024-12-10T02:49:10.306Z"
   },
   {
    "duration": 3,
    "start_time": "2024-12-10T02:49:10.555Z"
   },
   {
    "duration": 579,
    "start_time": "2024-12-10T02:49:10.559Z"
   },
   {
    "duration": 438,
    "start_time": "2024-12-10T02:49:11.139Z"
   },
   {
    "duration": 430,
    "start_time": "2024-12-10T02:49:11.578Z"
   },
   {
    "duration": 487,
    "start_time": "2024-12-10T02:49:12.009Z"
   },
   {
    "duration": 4,
    "start_time": "2024-12-10T02:57:38.147Z"
   },
   {
    "duration": 149,
    "start_time": "2024-12-10T03:00:44.938Z"
   },
   {
    "duration": 11,
    "start_time": "2024-12-10T03:02:51.182Z"
   },
   {
    "duration": 850,
    "start_time": "2024-12-10T03:05:26.429Z"
   },
   {
    "duration": 692,
    "start_time": "2024-12-10T03:05:50.520Z"
   },
   {
    "duration": 93,
    "start_time": "2024-12-10T03:06:42.469Z"
   },
   {
    "duration": 56,
    "start_time": "2024-12-10T03:07:14.099Z"
   },
   {
    "duration": 3,
    "start_time": "2024-12-10T03:07:15.965Z"
   },
   {
    "duration": 549,
    "start_time": "2024-12-10T03:07:16.557Z"
   },
   {
    "duration": 95,
    "start_time": "2024-12-10T03:09:28.982Z"
   },
   {
    "duration": 3,
    "start_time": "2024-12-10T03:09:30.212Z"
   },
   {
    "duration": 298,
    "start_time": "2024-12-10T03:09:31.396Z"
   },
   {
    "duration": 4,
    "start_time": "2024-12-10T03:18:48.661Z"
   },
   {
    "duration": 18,
    "start_time": "2024-12-10T03:19:02.117Z"
   },
   {
    "duration": 5,
    "start_time": "2024-12-10T03:19:40.810Z"
   },
   {
    "duration": 15,
    "start_time": "2024-12-10T03:19:44.696Z"
   },
   {
    "duration": 4,
    "start_time": "2024-12-10T03:22:41.847Z"
   },
   {
    "duration": 2123,
    "start_time": "2024-12-10T03:23:03.904Z"
   },
   {
    "duration": 194,
    "start_time": "2024-12-10T03:24:32.498Z"
   },
   {
    "duration": 9253,
    "start_time": "2024-12-10T03:24:44.369Z"
   },
   {
    "duration": 1666,
    "start_time": "2024-12-10T03:24:53.625Z"
   },
   {
    "duration": 2,
    "start_time": "2024-12-10T03:24:55.293Z"
   },
   {
    "duration": 7,
    "start_time": "2024-12-10T03:24:55.297Z"
   },
   {
    "duration": 853,
    "start_time": "2024-12-10T03:24:55.306Z"
   },
   {
    "duration": 238,
    "start_time": "2024-12-10T03:24:56.160Z"
   },
   {
    "duration": 234,
    "start_time": "2024-12-10T03:24:56.399Z"
   },
   {
    "duration": 193,
    "start_time": "2024-12-10T03:24:56.635Z"
   },
   {
    "duration": 4,
    "start_time": "2024-12-10T03:24:56.829Z"
   },
   {
    "duration": 322,
    "start_time": "2024-12-10T03:24:56.834Z"
   },
   {
    "duration": 4,
    "start_time": "2024-12-10T03:24:57.158Z"
   },
   {
    "duration": 144,
    "start_time": "2024-12-10T03:24:57.164Z"
   },
   {
    "duration": 0,
    "start_time": "2024-12-10T03:24:57.310Z"
   },
   {
    "duration": 0,
    "start_time": "2024-12-10T03:24:57.315Z"
   },
   {
    "duration": 0,
    "start_time": "2024-12-10T03:24:57.316Z"
   },
   {
    "duration": 0,
    "start_time": "2024-12-10T03:24:57.318Z"
   },
   {
    "duration": 0,
    "start_time": "2024-12-10T03:24:57.319Z"
   },
   {
    "duration": 0,
    "start_time": "2024-12-10T03:24:57.320Z"
   },
   {
    "duration": 0,
    "start_time": "2024-12-10T03:24:57.322Z"
   },
   {
    "duration": 4,
    "start_time": "2024-12-10T03:25:25.036Z"
   },
   {
    "duration": 2037,
    "start_time": "2024-12-10T03:25:26.845Z"
   },
   {
    "duration": 105,
    "start_time": "2024-12-10T03:26:47.906Z"
   },
   {
    "duration": 4,
    "start_time": "2024-12-10T03:26:55.871Z"
   },
   {
    "duration": 4,
    "start_time": "2024-12-10T03:26:57.934Z"
   },
   {
    "duration": 16,
    "start_time": "2024-12-10T03:27:02.251Z"
   },
   {
    "duration": 3,
    "start_time": "2024-12-10T03:27:10.234Z"
   },
   {
    "duration": 1404,
    "start_time": "2024-12-10T03:27:11.459Z"
   },
   {
    "duration": 9,
    "start_time": "2024-12-10T16:23:13.331Z"
   },
   {
    "duration": 45,
    "start_time": "2024-12-10T16:23:14.924Z"
   },
   {
    "duration": 4,
    "start_time": "2024-12-10T16:23:28.258Z"
   },
   {
    "duration": 5,
    "start_time": "2024-12-10T16:23:28.773Z"
   },
   {
    "duration": 16413,
    "start_time": "2024-12-10T16:23:41.586Z"
   },
   {
    "duration": 1899,
    "start_time": "2024-12-10T16:23:58.002Z"
   },
   {
    "duration": 3,
    "start_time": "2024-12-10T16:23:59.903Z"
   },
   {
    "duration": 16,
    "start_time": "2024-12-10T16:23:59.908Z"
   },
   {
    "duration": 2899,
    "start_time": "2024-12-10T16:23:59.926Z"
   },
   {
    "duration": 245,
    "start_time": "2024-12-10T16:24:02.826Z"
   },
   {
    "duration": 225,
    "start_time": "2024-12-10T16:24:03.072Z"
   },
   {
    "duration": 4,
    "start_time": "2024-12-10T16:24:03.298Z"
   },
   {
    "duration": 345,
    "start_time": "2024-12-10T16:24:03.303Z"
   },
   {
    "duration": 3,
    "start_time": "2024-12-10T16:24:03.651Z"
   },
   {
    "duration": 281,
    "start_time": "2024-12-10T16:24:03.655Z"
   },
   {
    "duration": 0,
    "start_time": "2024-12-10T16:24:03.938Z"
   },
   {
    "duration": 0,
    "start_time": "2024-12-10T16:24:03.939Z"
   },
   {
    "duration": 0,
    "start_time": "2024-12-10T16:24:03.940Z"
   },
   {
    "duration": 0,
    "start_time": "2024-12-10T16:24:03.941Z"
   },
   {
    "duration": 0,
    "start_time": "2024-12-10T16:24:03.942Z"
   },
   {
    "duration": 0,
    "start_time": "2024-12-10T16:24:03.943Z"
   },
   {
    "duration": 0,
    "start_time": "2024-12-10T16:24:03.944Z"
   },
   {
    "duration": 83,
    "start_time": "2024-12-10T16:53:54.177Z"
   },
   {
    "duration": 154,
    "start_time": "2024-12-10T16:53:55.231Z"
   },
   {
    "duration": 4,
    "start_time": "2024-12-10T16:54:03.073Z"
   },
   {
    "duration": 1464,
    "start_time": "2024-12-10T16:54:03.878Z"
   },
   {
    "duration": 3,
    "start_time": "2024-12-10T16:54:37.327Z"
   },
   {
    "duration": 28,
    "start_time": "2024-12-10T16:54:38.420Z"
   },
   {
    "duration": 3,
    "start_time": "2024-12-10T16:57:51.665Z"
   },
   {
    "duration": 29,
    "start_time": "2024-12-10T16:57:54.668Z"
   },
   {
    "duration": 3,
    "start_time": "2024-12-10T16:58:03.599Z"
   },
   {
    "duration": 599,
    "start_time": "2024-12-10T16:58:04.096Z"
   },
   {
    "duration": 3,
    "start_time": "2024-12-10T17:17:59.033Z"
   },
   {
    "duration": 3027,
    "start_time": "2024-12-10T17:17:59.869Z"
   },
   {
    "duration": 5,
    "start_time": "2024-12-10T17:19:08.183Z"
   },
   {
    "duration": 7914,
    "start_time": "2024-12-10T17:19:08.912Z"
   },
   {
    "duration": 4,
    "start_time": "2024-12-10T17:20:01.319Z"
   },
   {
    "duration": 5858,
    "start_time": "2024-12-10T17:20:02.065Z"
   },
   {
    "duration": 4,
    "start_time": "2024-12-10T17:23:07.762Z"
   },
   {
    "duration": 267,
    "start_time": "2024-12-10T17:23:08.474Z"
   },
   {
    "duration": 4,
    "start_time": "2024-12-10T17:23:21.301Z"
   },
   {
    "duration": 6367,
    "start_time": "2024-12-10T17:23:21.911Z"
   },
   {
    "duration": 4,
    "start_time": "2024-12-10T17:23:48.686Z"
   },
   {
    "duration": 1456,
    "start_time": "2024-12-10T17:23:49.451Z"
   },
   {
    "duration": 10320,
    "start_time": "2024-12-10T17:24:03.835Z"
   },
   {
    "duration": 1727,
    "start_time": "2024-12-10T17:24:14.157Z"
   },
   {
    "duration": 2,
    "start_time": "2024-12-10T17:24:15.886Z"
   },
   {
    "duration": 10,
    "start_time": "2024-12-10T17:24:15.890Z"
   },
   {
    "duration": 895,
    "start_time": "2024-12-10T17:24:15.902Z"
   },
   {
    "duration": 257,
    "start_time": "2024-12-10T17:24:16.798Z"
   },
   {
    "duration": 221,
    "start_time": "2024-12-10T17:24:17.057Z"
   },
   {
    "duration": 3,
    "start_time": "2024-12-10T17:24:17.280Z"
   },
   {
    "duration": 331,
    "start_time": "2024-12-10T17:24:17.285Z"
   },
   {
    "duration": 4,
    "start_time": "2024-12-10T17:24:17.617Z"
   },
   {
    "duration": 5786,
    "start_time": "2024-12-10T17:24:17.622Z"
   },
   {
    "duration": 4,
    "start_time": "2024-12-10T17:24:23.410Z"
   },
   {
    "duration": 1518,
    "start_time": "2024-12-10T17:24:23.416Z"
   },
   {
    "duration": 4,
    "start_time": "2024-12-10T17:24:24.936Z"
   },
   {
    "duration": 417,
    "start_time": "2024-12-10T17:24:24.942Z"
   },
   {
    "duration": 332,
    "start_time": "2024-12-10T17:24:25.361Z"
   },
   {
    "duration": 356,
    "start_time": "2024-12-10T17:24:25.694Z"
   },
   {
    "duration": 346,
    "start_time": "2024-12-10T17:24:26.051Z"
   },
   {
    "duration": 49,
    "start_time": "2024-12-11T02:31:51.410Z"
   },
   {
    "duration": 16148,
    "start_time": "2024-12-11T02:31:57.640Z"
   },
   {
    "duration": 1949,
    "start_time": "2024-12-11T02:32:13.791Z"
   },
   {
    "duration": 3,
    "start_time": "2024-12-11T02:32:15.742Z"
   },
   {
    "duration": 24,
    "start_time": "2024-12-11T02:32:15.747Z"
   },
   {
    "duration": 3013,
    "start_time": "2024-12-11T02:32:15.773Z"
   },
   {
    "duration": 241,
    "start_time": "2024-12-11T02:32:18.788Z"
   },
   {
    "duration": 220,
    "start_time": "2024-12-11T02:32:19.030Z"
   },
   {
    "duration": 3,
    "start_time": "2024-12-11T02:32:19.252Z"
   },
   {
    "duration": 316,
    "start_time": "2024-12-11T02:32:19.257Z"
   },
   {
    "duration": 6,
    "start_time": "2024-12-11T02:32:19.576Z"
   },
   {
    "duration": 5688,
    "start_time": "2024-12-11T02:32:19.583Z"
   },
   {
    "duration": 4,
    "start_time": "2024-12-11T02:32:25.273Z"
   },
   {
    "duration": 1478,
    "start_time": "2024-12-11T02:32:25.278Z"
   },
   {
    "duration": 4,
    "start_time": "2024-12-11T02:32:26.758Z"
   },
   {
    "duration": 452,
    "start_time": "2024-12-11T02:32:26.764Z"
   },
   {
    "duration": 361,
    "start_time": "2024-12-11T02:32:27.218Z"
   },
   {
    "duration": 348,
    "start_time": "2024-12-11T02:32:27.581Z"
   },
   {
    "duration": 374,
    "start_time": "2024-12-11T02:32:27.931Z"
   },
   {
    "duration": 98,
    "start_time": "2024-12-11T02:32:28.307Z"
   },
   {
    "duration": 11,
    "start_time": "2024-12-11T02:35:17.004Z"
   },
   {
    "duration": 85,
    "start_time": "2024-12-11T02:35:48.732Z"
   },
   {
    "duration": 51,
    "start_time": "2024-12-11T02:35:56.171Z"
   },
   {
    "duration": 6,
    "start_time": "2024-12-11T02:41:18.278Z"
   },
   {
    "duration": 6,
    "start_time": "2024-12-11T02:41:41.389Z"
   },
   {
    "duration": 45,
    "start_time": "2024-12-11T02:42:07.909Z"
   },
   {
    "duration": 7,
    "start_time": "2024-12-11T02:42:41.218Z"
   },
   {
    "duration": 44,
    "start_time": "2024-12-11T02:43:03.308Z"
   },
   {
    "duration": 6,
    "start_time": "2024-12-11T02:47:18.867Z"
   },
   {
    "duration": 39,
    "start_time": "2024-12-11T02:47:43.302Z"
   },
   {
    "duration": 3,
    "start_time": "2024-12-11T02:53:35.582Z"
   },
   {
    "duration": 56,
    "start_time": "2024-12-11T02:57:46.173Z"
   },
   {
    "duration": 9563,
    "start_time": "2024-12-11T02:57:52.999Z"
   },
   {
    "duration": 3179,
    "start_time": "2024-12-11T02:58:02.565Z"
   },
   {
    "duration": 3,
    "start_time": "2024-12-11T02:58:05.746Z"
   },
   {
    "duration": 22,
    "start_time": "2024-12-11T02:58:05.751Z"
   },
   {
    "duration": 2966,
    "start_time": "2024-12-11T02:58:05.777Z"
   },
   {
    "duration": 242,
    "start_time": "2024-12-11T02:58:08.744Z"
   },
   {
    "duration": 277,
    "start_time": "2024-12-11T02:58:08.988Z"
   },
   {
    "duration": 4,
    "start_time": "2024-12-11T02:58:09.266Z"
   },
   {
    "duration": 300,
    "start_time": "2024-12-11T02:58:09.271Z"
   },
   {
    "duration": 4,
    "start_time": "2024-12-11T02:58:09.573Z"
   },
   {
    "duration": 5706,
    "start_time": "2024-12-11T02:58:09.578Z"
   },
   {
    "duration": 4,
    "start_time": "2024-12-11T02:58:15.286Z"
   },
   {
    "duration": 1473,
    "start_time": "2024-12-11T02:58:15.292Z"
   },
   {
    "duration": 3,
    "start_time": "2024-12-11T02:58:16.768Z"
   },
   {
    "duration": 435,
    "start_time": "2024-12-11T02:58:16.773Z"
   },
   {
    "duration": 321,
    "start_time": "2024-12-11T02:58:17.209Z"
   },
   {
    "duration": 322,
    "start_time": "2024-12-11T02:58:17.532Z"
   },
   {
    "duration": 349,
    "start_time": "2024-12-11T02:58:17.855Z"
   },
   {
    "duration": 93,
    "start_time": "2024-12-11T02:58:18.206Z"
   },
   {
    "duration": 19,
    "start_time": "2024-12-11T02:58:18.301Z"
   },
   {
    "duration": 57,
    "start_time": "2024-12-11T02:58:18.321Z"
   },
   {
    "duration": 6,
    "start_time": "2024-12-11T02:58:18.380Z"
   },
   {
    "duration": 62,
    "start_time": "2024-12-11T02:58:18.387Z"
   },
   {
    "duration": 7,
    "start_time": "2024-12-11T02:58:18.451Z"
   },
   {
    "duration": 39,
    "start_time": "2024-12-11T02:58:18.459Z"
   },
   {
    "duration": 7,
    "start_time": "2024-12-11T02:58:18.515Z"
   },
   {
    "duration": 39,
    "start_time": "2024-12-11T02:58:18.524Z"
   },
   {
    "duration": 9519,
    "start_time": "2024-12-11T03:02:38.331Z"
   },
   {
    "duration": 2701,
    "start_time": "2024-12-11T03:02:47.852Z"
   },
   {
    "duration": 2,
    "start_time": "2024-12-11T03:02:50.555Z"
   },
   {
    "duration": 23,
    "start_time": "2024-12-11T03:02:50.559Z"
   },
   {
    "duration": 2974,
    "start_time": "2024-12-11T03:02:50.584Z"
   },
   {
    "duration": 237,
    "start_time": "2024-12-11T03:02:53.559Z"
   },
   {
    "duration": 268,
    "start_time": "2024-12-11T03:02:53.797Z"
   },
   {
    "duration": 3,
    "start_time": "2024-12-11T03:02:54.067Z"
   },
   {
    "duration": 307,
    "start_time": "2024-12-11T03:02:54.071Z"
   },
   {
    "duration": 4,
    "start_time": "2024-12-11T03:02:54.380Z"
   },
   {
    "duration": 5460,
    "start_time": "2024-12-11T03:02:54.385Z"
   },
   {
    "duration": 3,
    "start_time": "2024-12-11T03:02:59.847Z"
   },
   {
    "duration": 1442,
    "start_time": "2024-12-11T03:02:59.851Z"
   },
   {
    "duration": 3,
    "start_time": "2024-12-11T03:03:01.297Z"
   },
   {
    "duration": 408,
    "start_time": "2024-12-11T03:03:01.301Z"
   },
   {
    "duration": 330,
    "start_time": "2024-12-11T03:03:01.714Z"
   },
   {
    "duration": 323,
    "start_time": "2024-12-11T03:03:02.045Z"
   },
   {
    "duration": 347,
    "start_time": "2024-12-11T03:03:02.369Z"
   },
   {
    "duration": 101,
    "start_time": "2024-12-11T03:03:02.718Z"
   },
   {
    "duration": 33,
    "start_time": "2024-12-11T03:03:02.820Z"
   },
   {
    "duration": 104,
    "start_time": "2024-12-11T03:03:02.855Z"
   },
   {
    "duration": 6,
    "start_time": "2024-12-11T03:03:02.961Z"
   },
   {
    "duration": 62,
    "start_time": "2024-12-11T03:03:02.968Z"
   },
   {
    "duration": 6,
    "start_time": "2024-12-11T03:03:03.032Z"
   },
   {
    "duration": 60,
    "start_time": "2024-12-11T03:03:03.039Z"
   },
   {
    "duration": 6,
    "start_time": "2024-12-11T03:03:03.101Z"
   },
   {
    "duration": 59,
    "start_time": "2024-12-11T03:03:03.108Z"
   },
   {
    "duration": 50,
    "start_time": "2024-12-11T03:07:05.863Z"
   },
   {
    "duration": 9704,
    "start_time": "2024-12-11T03:07:28.234Z"
   },
   {
    "duration": 2476,
    "start_time": "2024-12-11T03:07:37.940Z"
   },
   {
    "duration": 3,
    "start_time": "2024-12-11T03:07:40.418Z"
   },
   {
    "duration": 9,
    "start_time": "2024-12-11T03:07:40.423Z"
   },
   {
    "duration": 2972,
    "start_time": "2024-12-11T03:07:40.434Z"
   },
   {
    "duration": 270,
    "start_time": "2024-12-11T03:07:43.408Z"
   },
   {
    "duration": 234,
    "start_time": "2024-12-11T03:07:43.680Z"
   },
   {
    "duration": 3,
    "start_time": "2024-12-11T03:07:43.916Z"
   },
   {
    "duration": 346,
    "start_time": "2024-12-11T03:07:43.920Z"
   },
   {
    "duration": 4,
    "start_time": "2024-12-11T03:07:44.267Z"
   },
   {
    "duration": 5492,
    "start_time": "2024-12-11T03:07:44.272Z"
   },
   {
    "duration": 3,
    "start_time": "2024-12-11T03:07:49.765Z"
   },
   {
    "duration": 1406,
    "start_time": "2024-12-11T03:07:49.770Z"
   },
   {
    "duration": 3,
    "start_time": "2024-12-11T03:07:51.179Z"
   },
   {
    "duration": 456,
    "start_time": "2024-12-11T03:07:51.184Z"
   },
   {
    "duration": 339,
    "start_time": "2024-12-11T03:07:51.642Z"
   },
   {
    "duration": 309,
    "start_time": "2024-12-11T03:07:51.982Z"
   },
   {
    "duration": 348,
    "start_time": "2024-12-11T03:07:52.293Z"
   },
   {
    "duration": 121,
    "start_time": "2024-12-11T03:07:52.642Z"
   },
   {
    "duration": 11,
    "start_time": "2024-12-11T03:07:52.765Z"
   },
   {
    "duration": 119,
    "start_time": "2024-12-11T03:07:52.778Z"
   },
   {
    "duration": 7,
    "start_time": "2024-12-11T03:07:52.899Z"
   },
   {
    "duration": 43,
    "start_time": "2024-12-11T03:07:52.907Z"
   },
   {
    "duration": 7,
    "start_time": "2024-12-11T03:07:52.951Z"
   },
   {
    "duration": 42,
    "start_time": "2024-12-11T03:07:52.960Z"
   },
   {
    "duration": 6,
    "start_time": "2024-12-11T03:07:53.014Z"
   },
   {
    "duration": 41,
    "start_time": "2024-12-11T03:07:53.022Z"
   },
   {
    "duration": 25767,
    "start_time": "2024-12-11T03:07:53.064Z"
   },
   {
    "duration": 0,
    "start_time": "2024-12-11T03:08:18.834Z"
   },
   {
    "duration": 0,
    "start_time": "2024-12-11T03:08:18.836Z"
   },
   {
    "duration": 0,
    "start_time": "2024-12-11T03:08:18.837Z"
   },
   {
    "duration": 18,
    "start_time": "2024-12-11T03:08:24.961Z"
   },
   {
    "duration": 24,
    "start_time": "2024-12-11T03:08:25.776Z"
   },
   {
    "duration": 25,
    "start_time": "2024-12-11T03:08:26.618Z"
   },
   {
    "duration": 4,
    "start_time": "2024-12-11T03:08:43.541Z"
   },
   {
    "duration": 4,
    "start_time": "2024-12-11T03:08:48.939Z"
   },
   {
    "duration": 4,
    "start_time": "2024-12-11T03:09:02.770Z"
   },
   {
    "duration": 3,
    "start_time": "2024-12-11T03:11:20.963Z"
   },
   {
    "duration": 3,
    "start_time": "2024-12-11T03:11:32.485Z"
   },
   {
    "duration": 70,
    "start_time": "2024-12-11T03:12:10.818Z"
   },
   {
    "duration": 3,
    "start_time": "2024-12-11T03:12:45.054Z"
   },
   {
    "duration": 3,
    "start_time": "2024-12-11T03:12:57.570Z"
   },
   {
    "duration": 13,
    "start_time": "2024-12-11T03:13:24.905Z"
   },
   {
    "duration": 12,
    "start_time": "2024-12-11T03:14:42.958Z"
   },
   {
    "duration": 9383,
    "start_time": "2024-12-11T03:15:40.174Z"
   },
   {
    "duration": 1628,
    "start_time": "2024-12-11T03:15:49.559Z"
   },
   {
    "duration": 2,
    "start_time": "2024-12-11T03:15:51.188Z"
   },
   {
    "duration": 21,
    "start_time": "2024-12-11T03:15:51.192Z"
   },
   {
    "duration": 891,
    "start_time": "2024-12-11T03:15:51.215Z"
   },
   {
    "duration": 248,
    "start_time": "2024-12-11T03:15:52.107Z"
   },
   {
    "duration": 221,
    "start_time": "2024-12-11T03:15:52.357Z"
   },
   {
    "duration": 3,
    "start_time": "2024-12-11T03:15:52.580Z"
   },
   {
    "duration": 307,
    "start_time": "2024-12-11T03:15:52.584Z"
   },
   {
    "duration": 4,
    "start_time": "2024-12-11T03:15:52.892Z"
   },
   {
    "duration": 5432,
    "start_time": "2024-12-11T03:15:52.897Z"
   },
   {
    "duration": 4,
    "start_time": "2024-12-11T03:15:58.330Z"
   },
   {
    "duration": 1395,
    "start_time": "2024-12-11T03:15:58.335Z"
   },
   {
    "duration": 3,
    "start_time": "2024-12-11T03:15:59.733Z"
   },
   {
    "duration": 414,
    "start_time": "2024-12-11T03:15:59.737Z"
   },
   {
    "duration": 331,
    "start_time": "2024-12-11T03:16:00.153Z"
   },
   {
    "duration": 305,
    "start_time": "2024-12-11T03:16:00.485Z"
   },
   {
    "duration": 339,
    "start_time": "2024-12-11T03:16:00.792Z"
   },
   {
    "duration": 100,
    "start_time": "2024-12-11T03:16:01.133Z"
   },
   {
    "duration": 11,
    "start_time": "2024-12-11T03:16:01.234Z"
   },
   {
    "duration": 79,
    "start_time": "2024-12-11T03:16:01.246Z"
   },
   {
    "duration": 6,
    "start_time": "2024-12-11T03:16:01.327Z"
   },
   {
    "duration": 68,
    "start_time": "2024-12-11T03:16:01.334Z"
   },
   {
    "duration": 5,
    "start_time": "2024-12-11T03:16:01.404Z"
   },
   {
    "duration": 62,
    "start_time": "2024-12-11T03:16:01.411Z"
   },
   {
    "duration": 6,
    "start_time": "2024-12-11T03:16:01.475Z"
   },
   {
    "duration": 38,
    "start_time": "2024-12-11T03:16:01.483Z"
   },
   {
    "duration": 0,
    "start_time": "2024-12-11T03:18:28.536Z"
   },
   {
    "duration": 0,
    "start_time": "2024-12-11T03:18:28.537Z"
   },
   {
    "duration": 0,
    "start_time": "2024-12-11T03:18:28.538Z"
   },
   {
    "duration": 0,
    "start_time": "2024-12-11T03:18:28.539Z"
   },
   {
    "duration": 0,
    "start_time": "2024-12-11T03:18:28.541Z"
   },
   {
    "duration": 0,
    "start_time": "2024-12-11T03:18:28.542Z"
   },
   {
    "duration": 0,
    "start_time": "2024-12-11T03:18:28.543Z"
   },
   {
    "duration": 1,
    "start_time": "2024-12-11T03:18:28.544Z"
   },
   {
    "duration": 0,
    "start_time": "2024-12-11T03:18:28.546Z"
   },
   {
    "duration": 28,
    "start_time": "2024-12-11T03:18:32.784Z"
   },
   {
    "duration": 27,
    "start_time": "2024-12-11T03:18:33.234Z"
   },
   {
    "duration": 34,
    "start_time": "2024-12-11T03:18:33.662Z"
   },
   {
    "duration": 3,
    "start_time": "2024-12-11T03:18:34.674Z"
   },
   {
    "duration": 73,
    "start_time": "2024-12-11T03:18:34.725Z"
   },
   {
    "duration": 4,
    "start_time": "2024-12-11T03:18:35.454Z"
   },
   {
    "duration": 4,
    "start_time": "2024-12-11T03:18:35.889Z"
   },
   {
    "duration": 4,
    "start_time": "2024-12-11T03:18:36.471Z"
   },
   {
    "duration": 11,
    "start_time": "2024-12-11T03:20:33.755Z"
   },
   {
    "duration": 3,
    "start_time": "2024-12-11T03:20:35.502Z"
   },
   {
    "duration": 11,
    "start_time": "2024-12-11T03:20:37.189Z"
   },
   {
    "duration": 9490,
    "start_time": "2024-12-11T03:20:44.620Z"
   },
   {
    "duration": 1720,
    "start_time": "2024-12-11T03:20:54.113Z"
   },
   {
    "duration": 2,
    "start_time": "2024-12-11T03:20:55.835Z"
   },
   {
    "duration": 11,
    "start_time": "2024-12-11T03:20:55.839Z"
   },
   {
    "duration": 888,
    "start_time": "2024-12-11T03:20:55.851Z"
   },
   {
    "duration": 247,
    "start_time": "2024-12-11T03:20:56.741Z"
   },
   {
    "duration": 217,
    "start_time": "2024-12-11T03:20:56.990Z"
   },
   {
    "duration": 6,
    "start_time": "2024-12-11T03:20:57.209Z"
   },
   {
    "duration": 305,
    "start_time": "2024-12-11T03:20:57.217Z"
   },
   {
    "duration": 3,
    "start_time": "2024-12-11T03:20:57.524Z"
   },
   {
    "duration": 5468,
    "start_time": "2024-12-11T03:20:57.528Z"
   },
   {
    "duration": 3,
    "start_time": "2024-12-11T03:21:02.998Z"
   },
   {
    "duration": 1439,
    "start_time": "2024-12-11T03:21:03.015Z"
   },
   {
    "duration": 5,
    "start_time": "2024-12-11T03:21:04.456Z"
   },
   {
    "duration": 424,
    "start_time": "2024-12-11T03:21:04.462Z"
   },
   {
    "duration": 355,
    "start_time": "2024-12-11T03:21:04.888Z"
   },
   {
    "duration": 330,
    "start_time": "2024-12-11T03:21:05.244Z"
   },
   {
    "duration": 355,
    "start_time": "2024-12-11T03:21:05.575Z"
   },
   {
    "duration": 101,
    "start_time": "2024-12-11T03:21:05.931Z"
   },
   {
    "duration": 11,
    "start_time": "2024-12-11T03:21:06.034Z"
   },
   {
    "duration": 92,
    "start_time": "2024-12-11T03:21:06.046Z"
   },
   {
    "duration": 5,
    "start_time": "2024-12-11T03:21:06.139Z"
   },
   {
    "duration": 72,
    "start_time": "2024-12-11T03:21:06.146Z"
   },
   {
    "duration": 6,
    "start_time": "2024-12-11T03:21:06.220Z"
   },
   {
    "duration": 60,
    "start_time": "2024-12-11T03:21:06.228Z"
   },
   {
    "duration": 7,
    "start_time": "2024-12-11T03:21:06.290Z"
   },
   {
    "duration": 51,
    "start_time": "2024-12-11T03:21:06.299Z"
   },
   {
    "duration": 3,
    "start_time": "2024-12-11T03:21:06.354Z"
   },
   {
    "duration": 43,
    "start_time": "2024-12-11T03:21:06.358Z"
   },
   {
    "duration": 16,
    "start_time": "2024-12-11T03:21:06.403Z"
   },
   {
    "duration": 25,
    "start_time": "2024-12-11T03:21:06.420Z"
   },
   {
    "duration": 23,
    "start_time": "2024-12-11T03:21:06.446Z"
   },
   {
    "duration": 86,
    "start_time": "2024-12-11T03:21:06.471Z"
   },
   {
    "duration": 3,
    "start_time": "2024-12-11T03:21:06.559Z"
   },
   {
    "duration": 19,
    "start_time": "2024-12-11T03:21:06.564Z"
   },
   {
    "duration": 4,
    "start_time": "2024-12-11T03:21:06.585Z"
   },
   {
    "duration": 5,
    "start_time": "2024-12-11T03:21:06.592Z"
   },
   {
    "duration": 15,
    "start_time": "2024-12-11T03:21:06.614Z"
   },
   {
    "duration": 3317,
    "start_time": "2024-12-11T03:21:09.658Z"
   },
   {
    "duration": 9428,
    "start_time": "2024-12-11T03:21:21.339Z"
   },
   {
    "duration": 1633,
    "start_time": "2024-12-11T03:21:30.769Z"
   },
   {
    "duration": 2,
    "start_time": "2024-12-11T03:21:32.404Z"
   },
   {
    "duration": 15,
    "start_time": "2024-12-11T03:21:32.415Z"
   },
   {
    "duration": 883,
    "start_time": "2024-12-11T03:21:32.432Z"
   },
   {
    "duration": 246,
    "start_time": "2024-12-11T03:21:33.317Z"
   },
   {
    "duration": 221,
    "start_time": "2024-12-11T03:21:33.565Z"
   },
   {
    "duration": 3,
    "start_time": "2024-12-11T03:21:33.788Z"
   },
   {
    "duration": 300,
    "start_time": "2024-12-11T03:21:33.792Z"
   },
   {
    "duration": 3,
    "start_time": "2024-12-11T03:21:34.095Z"
   },
   {
    "duration": 5584,
    "start_time": "2024-12-11T03:21:34.100Z"
   },
   {
    "duration": 3,
    "start_time": "2024-12-11T03:21:39.686Z"
   },
   {
    "duration": 1535,
    "start_time": "2024-12-11T03:21:39.691Z"
   },
   {
    "duration": 3,
    "start_time": "2024-12-11T03:21:41.228Z"
   },
   {
    "duration": 415,
    "start_time": "2024-12-11T03:21:41.232Z"
   },
   {
    "duration": 336,
    "start_time": "2024-12-11T03:21:41.648Z"
   },
   {
    "duration": 314,
    "start_time": "2024-12-11T03:21:41.986Z"
   },
   {
    "duration": 343,
    "start_time": "2024-12-11T03:21:42.301Z"
   },
   {
    "duration": 102,
    "start_time": "2024-12-11T03:21:42.646Z"
   },
   {
    "duration": 11,
    "start_time": "2024-12-11T03:21:42.749Z"
   },
   {
    "duration": 68,
    "start_time": "2024-12-11T03:21:42.762Z"
   },
   {
    "duration": 6,
    "start_time": "2024-12-11T03:21:42.832Z"
   },
   {
    "duration": 90,
    "start_time": "2024-12-11T03:21:42.839Z"
   },
   {
    "duration": 6,
    "start_time": "2024-12-11T03:21:42.931Z"
   },
   {
    "duration": 53,
    "start_time": "2024-12-11T03:21:42.938Z"
   },
   {
    "duration": 23,
    "start_time": "2024-12-11T03:21:42.993Z"
   },
   {
    "duration": 44,
    "start_time": "2024-12-11T03:21:43.018Z"
   },
   {
    "duration": 2,
    "start_time": "2024-12-11T03:21:43.066Z"
   },
   {
    "duration": 70,
    "start_time": "2024-12-11T03:21:43.070Z"
   },
   {
    "duration": 17,
    "start_time": "2024-12-11T03:21:43.142Z"
   },
   {
    "duration": 24,
    "start_time": "2024-12-11T03:21:43.161Z"
   },
   {
    "duration": 3,
    "start_time": "2024-12-11T03:21:43.187Z"
   },
   {
    "duration": 79,
    "start_time": "2024-12-11T03:21:43.191Z"
   },
   {
    "duration": 4,
    "start_time": "2024-12-11T03:21:43.271Z"
   },
   {
    "duration": 20,
    "start_time": "2024-12-11T03:21:43.276Z"
   },
   {
    "duration": 4,
    "start_time": "2024-12-11T03:21:43.297Z"
   },
   {
    "duration": 3,
    "start_time": "2024-12-11T03:21:43.303Z"
   },
   {
    "duration": 25,
    "start_time": "2024-12-11T03:21:43.307Z"
   },
   {
    "duration": 3282,
    "start_time": "2024-12-11T03:21:43.333Z"
   },
   {
    "duration": 65,
    "start_time": "2024-12-11T03:25:53.575Z"
   },
   {
    "duration": 3,
    "start_time": "2024-12-11T03:25:54.448Z"
   },
   {
    "duration": 3,
    "start_time": "2024-12-11T03:25:55.077Z"
   },
   {
    "duration": 3,
    "start_time": "2024-12-11T03:25:55.846Z"
   },
   {
    "duration": 4,
    "start_time": "2024-12-11T03:25:58.594Z"
   },
   {
    "duration": 3,
    "start_time": "2024-12-11T03:25:59.530Z"
   },
   {
    "duration": 52259,
    "start_time": "2024-12-11T03:26:00.514Z"
   },
   {
    "duration": 49,
    "start_time": "2024-12-12T02:51:52.691Z"
   },
   {
    "duration": 6,
    "start_time": "2024-12-12T02:51:58.977Z"
   },
   {
    "duration": 17644,
    "start_time": "2024-12-12T02:52:06.234Z"
   },
   {
    "duration": 1818,
    "start_time": "2024-12-12T02:52:23.881Z"
   },
   {
    "duration": 2,
    "start_time": "2024-12-12T02:52:25.701Z"
   },
   {
    "duration": 17,
    "start_time": "2024-12-12T02:52:25.705Z"
   },
   {
    "duration": 1042,
    "start_time": "2024-12-12T02:52:25.724Z"
   },
   {
    "duration": 206,
    "start_time": "2024-12-12T02:52:26.767Z"
   },
   {
    "duration": 269,
    "start_time": "2024-12-12T02:52:26.974Z"
   },
   {
    "duration": 4,
    "start_time": "2024-12-12T02:52:27.245Z"
   },
   {
    "duration": 281,
    "start_time": "2024-12-12T02:52:27.251Z"
   },
   {
    "duration": 3,
    "start_time": "2024-12-12T02:52:27.535Z"
   },
   {
    "duration": 4938,
    "start_time": "2024-12-12T02:52:27.539Z"
   },
   {
    "duration": 3,
    "start_time": "2024-12-12T02:52:32.487Z"
   },
   {
    "duration": 1304,
    "start_time": "2024-12-12T02:52:32.491Z"
   },
   {
    "duration": 2,
    "start_time": "2024-12-12T02:52:33.797Z"
   },
   {
    "duration": 357,
    "start_time": "2024-12-12T02:52:33.801Z"
   },
   {
    "duration": 285,
    "start_time": "2024-12-12T02:52:34.160Z"
   },
   {
    "duration": 285,
    "start_time": "2024-12-12T02:52:34.447Z"
   },
   {
    "duration": 306,
    "start_time": "2024-12-12T02:52:34.734Z"
   },
   {
    "duration": 90,
    "start_time": "2024-12-12T02:52:35.042Z"
   },
   {
    "duration": 8,
    "start_time": "2024-12-12T02:52:35.134Z"
   },
   {
    "duration": 58,
    "start_time": "2024-12-12T02:52:35.143Z"
   },
   {
    "duration": 4,
    "start_time": "2024-12-12T02:52:35.203Z"
   },
   {
    "duration": 54,
    "start_time": "2024-12-12T02:52:35.209Z"
   },
   {
    "duration": 4,
    "start_time": "2024-12-12T02:52:35.265Z"
   },
   {
    "duration": 111,
    "start_time": "2024-12-12T02:52:35.271Z"
   },
   {
    "duration": 5,
    "start_time": "2024-12-12T02:52:35.384Z"
   },
   {
    "duration": 52,
    "start_time": "2024-12-12T02:52:35.390Z"
   },
   {
    "duration": 3,
    "start_time": "2024-12-12T02:52:35.445Z"
   },
   {
    "duration": 51,
    "start_time": "2024-12-12T02:52:35.449Z"
   },
   {
    "duration": 15,
    "start_time": "2024-12-12T02:52:35.502Z"
   },
   {
    "duration": 27,
    "start_time": "2024-12-12T02:52:35.518Z"
   },
   {
    "duration": 9,
    "start_time": "2024-12-12T02:52:35.547Z"
   },
   {
    "duration": 85,
    "start_time": "2024-12-12T02:52:35.558Z"
   },
   {
    "duration": 3,
    "start_time": "2024-12-12T02:52:35.644Z"
   },
   {
    "duration": 9,
    "start_time": "2024-12-12T02:52:35.649Z"
   },
   {
    "duration": 4,
    "start_time": "2024-12-12T02:52:35.660Z"
   },
   {
    "duration": 18,
    "start_time": "2024-12-12T02:52:35.665Z"
   },
   {
    "duration": 9,
    "start_time": "2024-12-12T02:52:35.685Z"
   },
   {
    "duration": 3378,
    "start_time": "2024-12-12T02:52:35.695Z"
   },
   {
    "duration": 215,
    "start_time": "2024-12-12T03:17:02.785Z"
   },
   {
    "duration": 20,
    "start_time": "2024-12-12T03:17:42.645Z"
   },
   {
    "duration": 166,
    "start_time": "2024-12-12T03:17:43.399Z"
   },
   {
    "duration": 17,
    "start_time": "2024-12-12T03:17:43.881Z"
   },
   {
    "duration": 18,
    "start_time": "2024-12-12T03:17:44.988Z"
   },
   {
    "duration": 3,
    "start_time": "2024-12-12T03:17:45.849Z"
   },
   {
    "duration": 38,
    "start_time": "2024-12-12T03:17:46.629Z"
   },
   {
    "duration": 3,
    "start_time": "2024-12-12T03:17:47.311Z"
   },
   {
    "duration": 3,
    "start_time": "2024-12-12T03:17:48.075Z"
   },
   {
    "duration": 2,
    "start_time": "2024-12-12T03:17:48.827Z"
   },
   {
    "duration": 3,
    "start_time": "2024-12-12T03:17:51.911Z"
   },
   {
    "duration": 3,
    "start_time": "2024-12-12T03:17:52.868Z"
   },
   {
    "duration": 48,
    "start_time": "2024-12-12T03:20:51.861Z"
   },
   {
    "duration": 10656,
    "start_time": "2024-12-12T03:20:58.201Z"
   },
   {
    "duration": 2488,
    "start_time": "2024-12-12T03:21:08.859Z"
   },
   {
    "duration": 2,
    "start_time": "2024-12-12T03:21:11.349Z"
   },
   {
    "duration": 17,
    "start_time": "2024-12-12T03:21:11.353Z"
   },
   {
    "duration": 1072,
    "start_time": "2024-12-12T03:21:11.372Z"
   },
   {
    "duration": 215,
    "start_time": "2024-12-12T03:21:12.446Z"
   },
   {
    "duration": 243,
    "start_time": "2024-12-12T03:21:12.662Z"
   },
   {
    "duration": 3,
    "start_time": "2024-12-12T03:21:12.906Z"
   },
   {
    "duration": 275,
    "start_time": "2024-12-12T03:21:12.911Z"
   },
   {
    "duration": 3,
    "start_time": "2024-12-12T03:21:13.189Z"
   },
   {
    "duration": 4913,
    "start_time": "2024-12-12T03:21:13.194Z"
   },
   {
    "duration": 3,
    "start_time": "2024-12-12T03:21:18.109Z"
   },
   {
    "duration": 1243,
    "start_time": "2024-12-12T03:21:18.114Z"
   },
   {
    "duration": 3,
    "start_time": "2024-12-12T03:21:19.359Z"
   },
   {
    "duration": 380,
    "start_time": "2024-12-12T03:21:19.363Z"
   },
   {
    "duration": 293,
    "start_time": "2024-12-12T03:21:19.744Z"
   },
   {
    "duration": 284,
    "start_time": "2024-12-12T03:21:20.039Z"
   },
   {
    "duration": 315,
    "start_time": "2024-12-12T03:21:20.324Z"
   },
   {
    "duration": 87,
    "start_time": "2024-12-12T03:21:20.640Z"
   },
   {
    "duration": 8,
    "start_time": "2024-12-12T03:21:20.729Z"
   },
   {
    "duration": 77,
    "start_time": "2024-12-12T03:21:20.738Z"
   },
   {
    "duration": 5,
    "start_time": "2024-12-12T03:21:20.816Z"
   },
   {
    "duration": 41,
    "start_time": "2024-12-12T03:21:20.822Z"
   },
   {
    "duration": 5,
    "start_time": "2024-12-12T03:21:20.864Z"
   },
   {
    "duration": 66,
    "start_time": "2024-12-12T03:21:20.870Z"
   },
   {
    "duration": 5,
    "start_time": "2024-12-12T03:21:20.938Z"
   },
   {
    "duration": 78,
    "start_time": "2024-12-12T03:21:20.944Z"
   },
   {
    "duration": 10,
    "start_time": "2024-12-12T03:21:21.025Z"
   },
   {
    "duration": 74,
    "start_time": "2024-12-12T03:21:21.036Z"
   },
   {
    "duration": 162,
    "start_time": "2024-12-12T03:21:21.111Z"
   },
   {
    "duration": 16,
    "start_time": "2024-12-12T03:21:21.275Z"
   },
   {
    "duration": 25,
    "start_time": "2024-12-12T03:21:21.292Z"
   },
   {
    "duration": 3,
    "start_time": "2024-12-12T03:21:21.319Z"
   },
   {
    "duration": 51,
    "start_time": "2024-12-12T03:21:21.323Z"
   },
   {
    "duration": 23,
    "start_time": "2024-12-12T03:21:21.376Z"
   },
   {
    "duration": 5,
    "start_time": "2024-12-12T03:21:21.400Z"
   },
   {
    "duration": 7,
    "start_time": "2024-12-12T03:21:21.406Z"
   },
   {
    "duration": 9,
    "start_time": "2024-12-12T03:21:21.414Z"
   },
   {
    "duration": 38,
    "start_time": "2024-12-12T03:21:21.424Z"
   },
   {
    "duration": 2767,
    "start_time": "2024-12-12T03:21:21.463Z"
   },
   {
    "duration": 5,
    "start_time": "2024-12-12T03:22:37.038Z"
   },
   {
    "duration": 19,
    "start_time": "2024-12-12T03:23:07.819Z"
   },
   {
    "duration": 10863,
    "start_time": "2024-12-12T03:54:53.174Z"
   },
   {
    "duration": 1588,
    "start_time": "2024-12-12T03:55:04.039Z"
   },
   {
    "duration": 3,
    "start_time": "2024-12-12T03:55:05.629Z"
   },
   {
    "duration": 13,
    "start_time": "2024-12-12T03:55:05.634Z"
   },
   {
    "duration": 778,
    "start_time": "2024-12-12T03:55:05.648Z"
   },
   {
    "duration": 262,
    "start_time": "2024-12-12T03:55:06.428Z"
   },
   {
    "duration": 272,
    "start_time": "2024-12-12T03:55:06.691Z"
   },
   {
    "duration": 4,
    "start_time": "2024-12-12T03:55:06.964Z"
   },
   {
    "duration": 291,
    "start_time": "2024-12-12T03:55:06.969Z"
   },
   {
    "duration": 4,
    "start_time": "2024-12-12T03:55:07.262Z"
   },
   {
    "duration": 4884,
    "start_time": "2024-12-12T03:55:07.267Z"
   },
   {
    "duration": 4,
    "start_time": "2024-12-12T03:55:12.152Z"
   },
   {
    "duration": 1283,
    "start_time": "2024-12-12T03:55:12.157Z"
   },
   {
    "duration": 2,
    "start_time": "2024-12-12T03:55:13.442Z"
   },
   {
    "duration": 407,
    "start_time": "2024-12-12T03:55:13.446Z"
   },
   {
    "duration": 293,
    "start_time": "2024-12-12T03:55:13.854Z"
   },
   {
    "duration": 284,
    "start_time": "2024-12-12T03:55:14.149Z"
   },
   {
    "duration": 302,
    "start_time": "2024-12-12T03:55:14.435Z"
   },
   {
    "duration": 91,
    "start_time": "2024-12-12T03:55:14.739Z"
   },
   {
    "duration": 9,
    "start_time": "2024-12-12T03:55:14.831Z"
   },
   {
    "duration": 59,
    "start_time": "2024-12-12T03:55:14.841Z"
   },
   {
    "duration": 5,
    "start_time": "2024-12-12T03:55:14.902Z"
   },
   {
    "duration": 46,
    "start_time": "2024-12-12T03:55:14.908Z"
   },
   {
    "duration": 5,
    "start_time": "2024-12-12T03:55:14.956Z"
   },
   {
    "duration": 49,
    "start_time": "2024-12-12T03:55:14.962Z"
   },
   {
    "duration": 5,
    "start_time": "2024-12-12T03:55:15.012Z"
   },
   {
    "duration": 79,
    "start_time": "2024-12-12T03:55:15.019Z"
   },
   {
    "duration": 3,
    "start_time": "2024-12-12T03:55:15.101Z"
   },
   {
    "duration": 24,
    "start_time": "2024-12-12T03:55:15.105Z"
   },
   {
    "duration": 162,
    "start_time": "2024-12-12T03:55:15.131Z"
   },
   {
    "duration": 18,
    "start_time": "2024-12-12T03:55:15.295Z"
   },
   {
    "duration": 47,
    "start_time": "2024-12-12T03:55:15.314Z"
   },
   {
    "duration": 29,
    "start_time": "2024-12-12T03:55:15.363Z"
   },
   {
    "duration": 3,
    "start_time": "2024-12-12T03:55:15.393Z"
   },
   {
    "duration": 54,
    "start_time": "2024-12-12T03:55:15.398Z"
   },
   {
    "duration": 3,
    "start_time": "2024-12-12T03:55:15.454Z"
   },
   {
    "duration": 5,
    "start_time": "2024-12-12T03:55:15.458Z"
   },
   {
    "duration": 14,
    "start_time": "2024-12-12T03:55:15.464Z"
   },
   {
    "duration": 4,
    "start_time": "2024-12-12T03:55:15.479Z"
   },
   {
    "duration": 4,
    "start_time": "2024-12-12T03:55:15.484Z"
   },
   {
    "duration": 4,
    "start_time": "2024-12-12T03:55:15.489Z"
   },
   {
    "duration": 3,
    "start_time": "2024-12-12T03:55:15.494Z"
   },
   {
    "duration": 917194,
    "start_time": "2024-12-12T03:55:15.499Z"
   },
   {
    "duration": 51,
    "start_time": "2024-12-12T18:16:16.419Z"
   },
   {
    "duration": 20149,
    "start_time": "2024-12-12T18:18:16.980Z"
   },
   {
    "duration": 2072,
    "start_time": "2024-12-12T18:18:37.132Z"
   },
   {
    "duration": 3,
    "start_time": "2024-12-12T18:18:39.206Z"
   },
   {
    "duration": 22,
    "start_time": "2024-12-12T18:18:39.211Z"
   },
   {
    "duration": 2918,
    "start_time": "2024-12-12T18:18:39.235Z"
   },
   {
    "duration": 268,
    "start_time": "2024-12-12T18:18:42.155Z"
   },
   {
    "duration": 283,
    "start_time": "2024-12-12T18:18:42.425Z"
   },
   {
    "duration": 4,
    "start_time": "2024-12-12T18:18:42.710Z"
   },
   {
    "duration": 391,
    "start_time": "2024-12-12T18:18:42.715Z"
   },
   {
    "duration": 5,
    "start_time": "2024-12-12T18:18:43.110Z"
   },
   {
    "duration": 6227,
    "start_time": "2024-12-12T18:18:43.117Z"
   },
   {
    "duration": 6,
    "start_time": "2024-12-12T18:18:49.345Z"
   },
   {
    "duration": 1589,
    "start_time": "2024-12-12T18:18:49.352Z"
   },
   {
    "duration": 3,
    "start_time": "2024-12-12T18:18:50.943Z"
   },
   {
    "duration": 464,
    "start_time": "2024-12-12T18:18:50.948Z"
   },
   {
    "duration": 354,
    "start_time": "2024-12-12T18:18:51.414Z"
   },
   {
    "duration": 333,
    "start_time": "2024-12-12T18:18:51.770Z"
   },
   {
    "duration": 370,
    "start_time": "2024-12-12T18:18:52.106Z"
   },
   {
    "duration": 471,
    "start_time": "2024-12-12T18:18:52.478Z"
   },
   {
    "duration": 177,
    "start_time": "2024-12-12T18:18:52.951Z"
   },
   {
    "duration": 58,
    "start_time": "2024-12-12T18:18:53.130Z"
   },
   {
    "duration": 6,
    "start_time": "2024-12-12T18:18:53.190Z"
   },
   {
    "duration": 75,
    "start_time": "2024-12-12T18:18:53.197Z"
   },
   {
    "duration": 7,
    "start_time": "2024-12-12T18:18:53.274Z"
   },
   {
    "duration": 55,
    "start_time": "2024-12-12T18:18:53.283Z"
   },
   {
    "duration": 8,
    "start_time": "2024-12-12T18:18:53.339Z"
   },
   {
    "duration": 40,
    "start_time": "2024-12-12T18:18:53.348Z"
   },
   {
    "duration": 3,
    "start_time": "2024-12-12T18:18:53.391Z"
   },
   {
    "duration": 45,
    "start_time": "2024-12-12T18:18:53.395Z"
   },
   {
    "duration": 175,
    "start_time": "2024-12-12T18:18:53.441Z"
   },
   {
    "duration": 24,
    "start_time": "2024-12-12T18:18:53.618Z"
   },
   {
    "duration": 16,
    "start_time": "2024-12-12T18:18:53.644Z"
   },
   {
    "duration": 17,
    "start_time": "2024-12-12T18:18:53.662Z"
   },
   {
    "duration": 4,
    "start_time": "2024-12-12T18:18:53.681Z"
   },
   {
    "duration": 83,
    "start_time": "2024-12-12T18:18:53.687Z"
   },
   {
    "duration": 4,
    "start_time": "2024-12-12T18:18:53.771Z"
   },
   {
    "duration": 29,
    "start_time": "2024-12-12T18:18:53.777Z"
   },
   {
    "duration": 4,
    "start_time": "2024-12-12T18:18:53.809Z"
   },
   {
    "duration": 10,
    "start_time": "2024-12-12T18:18:53.814Z"
   },
   {
    "duration": 10,
    "start_time": "2024-12-12T18:18:53.825Z"
   },
   {
    "duration": 14,
    "start_time": "2024-12-12T18:18:53.836Z"
   },
   {
    "duration": 8,
    "start_time": "2024-12-12T18:18:53.851Z"
   },
   {
    "duration": 1351998,
    "start_time": "2024-12-12T18:18:53.860Z"
   },
   {
    "duration": 4,
    "start_time": "2024-12-12T18:41:25.859Z"
   },
   {
    "duration": 51,
    "start_time": "2024-12-13T02:27:23.610Z"
   },
   {
    "duration": 19303,
    "start_time": "2024-12-13T02:27:33.941Z"
   },
   {
    "duration": 2023,
    "start_time": "2024-12-13T02:27:53.247Z"
   },
   {
    "duration": 2,
    "start_time": "2024-12-13T02:27:55.272Z"
   },
   {
    "duration": 23,
    "start_time": "2024-12-13T02:27:55.276Z"
   },
   {
    "duration": 2903,
    "start_time": "2024-12-13T02:27:55.301Z"
   },
   {
    "duration": 309,
    "start_time": "2024-12-13T02:27:58.206Z"
   },
   {
    "duration": 290,
    "start_time": "2024-12-13T02:27:58.517Z"
   },
   {
    "duration": 4,
    "start_time": "2024-12-13T02:27:58.808Z"
   },
   {
    "duration": 338,
    "start_time": "2024-12-13T02:27:58.814Z"
   },
   {
    "duration": 3,
    "start_time": "2024-12-13T02:27:59.156Z"
   },
   {
    "duration": 5940,
    "start_time": "2024-12-13T02:27:59.169Z"
   },
   {
    "duration": 3,
    "start_time": "2024-12-13T02:28:05.111Z"
   },
   {
    "duration": 1543,
    "start_time": "2024-12-13T02:28:05.116Z"
   },
   {
    "duration": 3,
    "start_time": "2024-12-13T02:28:06.661Z"
   },
   {
    "duration": 444,
    "start_time": "2024-12-13T02:28:06.670Z"
   },
   {
    "duration": 344,
    "start_time": "2024-12-13T02:28:07.115Z"
   },
   {
    "duration": 347,
    "start_time": "2024-12-13T02:28:07.461Z"
   },
   {
    "duration": 372,
    "start_time": "2024-12-13T02:28:07.810Z"
   },
   {
    "duration": 110,
    "start_time": "2024-12-13T02:28:08.184Z"
   },
   {
    "duration": 12,
    "start_time": "2024-12-13T02:28:08.296Z"
   },
   {
    "duration": 78,
    "start_time": "2024-12-13T02:28:08.310Z"
   },
   {
    "duration": 7,
    "start_time": "2024-12-13T02:28:08.390Z"
   },
   {
    "duration": 46,
    "start_time": "2024-12-13T02:28:08.399Z"
   },
   {
    "duration": 6,
    "start_time": "2024-12-13T02:28:08.446Z"
   },
   {
    "duration": 67,
    "start_time": "2024-12-13T02:28:08.453Z"
   },
   {
    "duration": 8,
    "start_time": "2024-12-13T02:28:08.522Z"
   },
   {
    "duration": 58,
    "start_time": "2024-12-13T02:28:08.532Z"
   },
   {
    "duration": 2,
    "start_time": "2024-12-13T02:28:08.594Z"
   },
   {
    "duration": 17,
    "start_time": "2024-12-13T02:28:08.598Z"
   },
   {
    "duration": 187,
    "start_time": "2024-12-13T02:28:08.617Z"
   },
   {
    "duration": 19,
    "start_time": "2024-12-13T02:28:08.805Z"
   },
   {
    "duration": 25,
    "start_time": "2024-12-13T02:28:08.826Z"
   },
   {
    "duration": 29,
    "start_time": "2024-12-13T02:28:08.852Z"
   },
   {
    "duration": 3,
    "start_time": "2024-12-13T02:28:08.883Z"
   },
   {
    "duration": 57,
    "start_time": "2024-12-13T02:28:08.887Z"
   },
   {
    "duration": 4,
    "start_time": "2024-12-13T02:28:08.945Z"
   },
   {
    "duration": 4,
    "start_time": "2024-12-13T02:28:08.950Z"
   },
   {
    "duration": 2,
    "start_time": "2024-12-13T02:28:08.971Z"
   },
   {
    "duration": 5,
    "start_time": "2024-12-13T02:28:08.975Z"
   },
   {
    "duration": 5,
    "start_time": "2024-12-13T02:28:08.981Z"
   },
   {
    "duration": 3,
    "start_time": "2024-12-13T02:28:08.988Z"
   },
   {
    "duration": 5,
    "start_time": "2024-12-13T02:28:08.992Z"
   },
   {
    "duration": 6,
    "start_time": "2024-12-13T02:28:08.998Z"
   },
   {
    "duration": 696,
    "start_time": "2024-12-13T02:28:09.005Z"
   },
   {
    "duration": 149,
    "start_time": "2024-12-13T02:41:29.176Z"
   },
   {
    "duration": 3,
    "start_time": "2024-12-13T02:41:30.249Z"
   },
   {
    "duration": 67551,
    "start_time": "2024-12-13T02:41:31.832Z"
   },
   {
    "duration": 12,
    "start_time": "2024-12-13T02:53:16.378Z"
   },
   {
    "duration": 11,
    "start_time": "2024-12-13T02:54:07.276Z"
   },
   {
    "duration": 10072,
    "start_time": "2024-12-13T02:54:13.676Z"
   },
   {
    "duration": 1380,
    "start_time": "2024-12-13T02:54:23.751Z"
   },
   {
    "duration": 3,
    "start_time": "2024-12-13T02:54:25.133Z"
   },
   {
    "duration": 8,
    "start_time": "2024-12-13T02:54:25.137Z"
   },
   {
    "duration": 951,
    "start_time": "2024-12-13T02:54:25.147Z"
   },
   {
    "duration": 269,
    "start_time": "2024-12-13T02:54:26.099Z"
   },
   {
    "duration": 295,
    "start_time": "2024-12-13T02:54:26.370Z"
   },
   {
    "duration": 5,
    "start_time": "2024-12-13T02:54:26.666Z"
   },
   {
    "duration": 329,
    "start_time": "2024-12-13T02:54:26.672Z"
   },
   {
    "duration": 4,
    "start_time": "2024-12-13T02:54:27.004Z"
   },
   {
    "duration": 5950,
    "start_time": "2024-12-13T02:54:27.009Z"
   },
   {
    "duration": 10,
    "start_time": "2024-12-13T02:54:32.961Z"
   },
   {
    "duration": 1395,
    "start_time": "2024-12-13T02:54:32.973Z"
   },
   {
    "duration": 3,
    "start_time": "2024-12-13T02:54:34.371Z"
   },
   {
    "duration": 446,
    "start_time": "2024-12-13T02:54:34.376Z"
   },
   {
    "duration": 354,
    "start_time": "2024-12-13T02:54:34.823Z"
   },
   {
    "duration": 335,
    "start_time": "2024-12-13T02:54:35.179Z"
   },
   {
    "duration": 389,
    "start_time": "2024-12-13T02:54:35.515Z"
   },
   {
    "duration": 108,
    "start_time": "2024-12-13T02:54:35.905Z"
   },
   {
    "duration": 11,
    "start_time": "2024-12-13T02:54:36.015Z"
   },
   {
    "duration": 80,
    "start_time": "2024-12-13T02:54:36.028Z"
   },
   {
    "duration": 6,
    "start_time": "2024-12-13T02:54:36.110Z"
   },
   {
    "duration": 48,
    "start_time": "2024-12-13T02:54:36.117Z"
   },
   {
    "duration": 6,
    "start_time": "2024-12-13T02:54:36.171Z"
   },
   {
    "duration": 41,
    "start_time": "2024-12-13T02:54:36.178Z"
   },
   {
    "duration": 6,
    "start_time": "2024-12-13T02:54:36.221Z"
   },
   {
    "duration": 75,
    "start_time": "2024-12-13T02:54:36.228Z"
   },
   {
    "duration": 15,
    "start_time": "2024-12-13T02:54:36.307Z"
   },
   {
    "duration": 207,
    "start_time": "2024-12-13T02:54:36.324Z"
   },
   {
    "duration": 19,
    "start_time": "2024-12-13T02:54:36.533Z"
   },
   {
    "duration": 28,
    "start_time": "2024-12-13T02:54:36.554Z"
   },
   {
    "duration": 16,
    "start_time": "2024-12-13T02:54:36.584Z"
   },
   {
    "duration": 3,
    "start_time": "2024-12-13T02:54:36.602Z"
   },
   {
    "duration": 69,
    "start_time": "2024-12-13T02:54:36.606Z"
   },
   {
    "duration": 124,
    "start_time": "2024-12-13T02:54:36.676Z"
   },
   {
    "duration": 0,
    "start_time": "2024-12-13T02:54:36.802Z"
   },
   {
    "duration": 0,
    "start_time": "2024-12-13T02:54:36.804Z"
   },
   {
    "duration": 0,
    "start_time": "2024-12-13T02:54:36.805Z"
   },
   {
    "duration": 0,
    "start_time": "2024-12-13T02:54:36.806Z"
   },
   {
    "duration": 0,
    "start_time": "2024-12-13T02:54:36.807Z"
   },
   {
    "duration": 0,
    "start_time": "2024-12-13T02:54:36.808Z"
   },
   {
    "duration": 0,
    "start_time": "2024-12-13T02:54:36.809Z"
   },
   {
    "duration": 0,
    "start_time": "2024-12-13T02:54:36.811Z"
   },
   {
    "duration": 0,
    "start_time": "2024-12-13T02:54:36.812Z"
   },
   {
    "duration": 0,
    "start_time": "2024-12-13T02:54:36.813Z"
   },
   {
    "duration": 0,
    "start_time": "2024-12-13T02:54:36.815Z"
   },
   {
    "duration": 9952,
    "start_time": "2024-12-13T02:55:48.202Z"
   },
   {
    "duration": 1369,
    "start_time": "2024-12-13T02:55:58.157Z"
   },
   {
    "duration": 3,
    "start_time": "2024-12-13T02:55:59.528Z"
   },
   {
    "duration": 6,
    "start_time": "2024-12-13T02:55:59.534Z"
   },
   {
    "duration": 932,
    "start_time": "2024-12-13T02:55:59.542Z"
   },
   {
    "duration": 286,
    "start_time": "2024-12-13T02:56:00.476Z"
   },
   {
    "duration": 299,
    "start_time": "2024-12-13T02:56:00.771Z"
   },
   {
    "duration": 3,
    "start_time": "2024-12-13T02:56:01.072Z"
   },
   {
    "duration": 328,
    "start_time": "2024-12-13T02:56:01.077Z"
   },
   {
    "duration": 4,
    "start_time": "2024-12-13T02:56:01.408Z"
   },
   {
    "duration": 5969,
    "start_time": "2024-12-13T02:56:01.413Z"
   },
   {
    "duration": 4,
    "start_time": "2024-12-13T02:56:07.384Z"
   },
   {
    "duration": 1428,
    "start_time": "2024-12-13T02:56:07.389Z"
   },
   {
    "duration": 4,
    "start_time": "2024-12-13T02:56:08.818Z"
   },
   {
    "duration": 465,
    "start_time": "2024-12-13T02:56:08.823Z"
   },
   {
    "duration": 352,
    "start_time": "2024-12-13T02:56:09.290Z"
   },
   {
    "duration": 339,
    "start_time": "2024-12-13T02:56:09.643Z"
   },
   {
    "duration": 379,
    "start_time": "2024-12-13T02:56:09.984Z"
   },
   {
    "duration": 110,
    "start_time": "2024-12-13T02:56:10.365Z"
   },
   {
    "duration": 12,
    "start_time": "2024-12-13T02:56:10.476Z"
   },
   {
    "duration": 61,
    "start_time": "2024-12-13T02:56:10.490Z"
   },
   {
    "duration": 21,
    "start_time": "2024-12-13T02:56:10.553Z"
   },
   {
    "duration": 47,
    "start_time": "2024-12-13T02:56:10.576Z"
   },
   {
    "duration": 5,
    "start_time": "2024-12-13T02:56:10.625Z"
   },
   {
    "duration": 60,
    "start_time": "2024-12-13T02:56:10.632Z"
   },
   {
    "duration": 6,
    "start_time": "2024-12-13T02:56:10.694Z"
   },
   {
    "duration": 66,
    "start_time": "2024-12-13T02:56:10.702Z"
   },
   {
    "duration": 16,
    "start_time": "2024-12-13T02:56:10.772Z"
   },
   {
    "duration": 245,
    "start_time": "2024-12-13T02:56:10.789Z"
   },
   {
    "duration": 19,
    "start_time": "2024-12-13T02:56:11.035Z"
   },
   {
    "duration": 27,
    "start_time": "2024-12-13T02:56:11.056Z"
   },
   {
    "duration": 16,
    "start_time": "2024-12-13T02:56:11.084Z"
   },
   {
    "duration": 19,
    "start_time": "2024-12-13T02:56:11.101Z"
   },
   {
    "duration": 58,
    "start_time": "2024-12-13T02:56:11.121Z"
   },
   {
    "duration": 3,
    "start_time": "2024-12-13T02:56:11.180Z"
   },
   {
    "duration": 4,
    "start_time": "2024-12-13T02:56:11.185Z"
   },
   {
    "duration": 5,
    "start_time": "2024-12-13T02:56:11.190Z"
   },
   {
    "duration": 7,
    "start_time": "2024-12-13T02:56:11.196Z"
   },
   {
    "duration": 10,
    "start_time": "2024-12-13T02:56:11.204Z"
   },
   {
    "duration": 4,
    "start_time": "2024-12-13T02:56:11.215Z"
   },
   {
    "duration": 4,
    "start_time": "2024-12-13T02:56:11.220Z"
   },
   {
    "duration": 1276365,
    "start_time": "2024-12-13T02:56:11.225Z"
   },
   {
    "duration": 147,
    "start_time": "2024-12-13T03:17:27.592Z"
   },
   {
    "duration": 3,
    "start_time": "2024-12-13T03:17:27.741Z"
   },
   {
    "duration": 24,
    "start_time": "2024-12-13T03:17:27.745Z"
   },
   {
    "duration": 102917,
    "start_time": "2024-12-13T03:17:27.770Z"
   },
   {
    "duration": 4,
    "start_time": "2024-12-13T03:23:58.264Z"
   },
   {
    "duration": 3,
    "start_time": "2024-12-13T03:25:03.187Z"
   },
   {
    "duration": 125,
    "start_time": "2024-12-13T03:41:05.847Z"
   },
   {
    "duration": 47,
    "start_time": "2024-12-13T15:45:23.547Z"
   },
   {
    "duration": 15762,
    "start_time": "2024-12-13T15:45:31.290Z"
   },
   {
    "duration": 1456,
    "start_time": "2024-12-13T15:45:47.055Z"
   },
   {
    "duration": 3,
    "start_time": "2024-12-13T15:45:48.512Z"
   },
   {
    "duration": 24,
    "start_time": "2024-12-13T15:45:48.516Z"
   },
   {
    "duration": 1070,
    "start_time": "2024-12-13T15:45:48.542Z"
   },
   {
    "duration": 222,
    "start_time": "2024-12-13T15:45:49.613Z"
   },
   {
    "duration": 269,
    "start_time": "2024-12-13T15:45:49.836Z"
   },
   {
    "duration": 3,
    "start_time": "2024-12-13T15:45:50.107Z"
   },
   {
    "duration": 263,
    "start_time": "2024-12-13T15:45:50.111Z"
   },
   {
    "duration": 11,
    "start_time": "2024-12-13T15:45:50.375Z"
   },
   {
    "duration": 4971,
    "start_time": "2024-12-13T15:45:50.388Z"
   },
   {
    "duration": 3,
    "start_time": "2024-12-13T15:45:55.361Z"
   },
   {
    "duration": 1188,
    "start_time": "2024-12-13T15:45:55.365Z"
   },
   {
    "duration": 3,
    "start_time": "2024-12-13T15:45:56.555Z"
   },
   {
    "duration": 361,
    "start_time": "2024-12-13T15:45:56.560Z"
   },
   {
    "duration": 281,
    "start_time": "2024-12-13T15:45:56.923Z"
   },
   {
    "duration": 274,
    "start_time": "2024-12-13T15:45:57.206Z"
   },
   {
    "duration": 304,
    "start_time": "2024-12-13T15:45:57.482Z"
   },
   {
    "duration": 79,
    "start_time": "2024-12-13T15:45:57.788Z"
   },
   {
    "duration": 19,
    "start_time": "2024-12-13T15:45:57.868Z"
   },
   {
    "duration": 63,
    "start_time": "2024-12-13T15:45:57.888Z"
   },
   {
    "duration": 6,
    "start_time": "2024-12-13T15:45:57.952Z"
   },
   {
    "duration": 53,
    "start_time": "2024-12-13T15:45:57.959Z"
   },
   {
    "duration": 5,
    "start_time": "2024-12-13T15:45:58.014Z"
   },
   {
    "duration": 56,
    "start_time": "2024-12-13T15:45:58.020Z"
   },
   {
    "duration": 5,
    "start_time": "2024-12-13T15:45:58.077Z"
   },
   {
    "duration": 39,
    "start_time": "2024-12-13T15:45:58.084Z"
   },
   {
    "duration": 16,
    "start_time": "2024-12-13T15:45:58.124Z"
   },
   {
    "duration": 165,
    "start_time": "2024-12-13T15:45:58.142Z"
   },
   {
    "duration": 17,
    "start_time": "2024-12-13T15:45:58.309Z"
   },
   {
    "duration": 16,
    "start_time": "2024-12-13T15:45:58.328Z"
   },
   {
    "duration": 16,
    "start_time": "2024-12-13T15:45:58.345Z"
   },
   {
    "duration": 4,
    "start_time": "2024-12-13T15:45:58.362Z"
   },
   {
    "duration": 39,
    "start_time": "2024-12-13T15:45:58.386Z"
   },
   {
    "duration": 3,
    "start_time": "2024-12-13T15:45:58.426Z"
   },
   {
    "duration": 11,
    "start_time": "2024-12-13T15:45:58.430Z"
   },
   {
    "duration": 4,
    "start_time": "2024-12-13T15:45:58.442Z"
   },
   {
    "duration": 5,
    "start_time": "2024-12-13T15:45:58.447Z"
   },
   {
    "duration": 33,
    "start_time": "2024-12-13T15:45:58.453Z"
   },
   {
    "duration": 50,
    "start_time": "2024-12-13T15:45:58.487Z"
   },
   {
    "duration": 10,
    "start_time": "2024-12-13T15:45:58.541Z"
   },
   {
    "duration": 873009,
    "start_time": "2024-12-13T15:45:58.552Z"
   },
   {
    "duration": 760250,
    "start_time": "2024-12-13T16:00:31.563Z"
   },
   {
    "duration": 0,
    "start_time": "2024-12-13T16:13:11.815Z"
   },
   {
    "duration": 0,
    "start_time": "2024-12-13T16:13:11.816Z"
   },
   {
    "duration": 0,
    "start_time": "2024-12-13T16:13:11.817Z"
   },
   {
    "duration": 0,
    "start_time": "2024-12-13T16:13:11.818Z"
   },
   {
    "duration": 0,
    "start_time": "2024-12-13T16:13:11.819Z"
   },
   {
    "duration": 0,
    "start_time": "2024-12-13T16:13:11.820Z"
   },
   {
    "duration": 3,
    "start_time": "2024-12-13T16:15:10.656Z"
   },
   {
    "duration": 3,
    "start_time": "2024-12-13T16:50:16.397Z"
   },
   {
    "duration": 3,
    "start_time": "2024-12-13T16:50:24.632Z"
   },
   {
    "duration": 4,
    "start_time": "2024-12-13T17:09:08.692Z"
   },
   {
    "duration": 10,
    "start_time": "2024-12-13T17:12:03.123Z"
   },
   {
    "duration": 49,
    "start_time": "2024-12-13T17:35:01.006Z"
   },
   {
    "duration": 10639,
    "start_time": "2024-12-13T17:35:16.620Z"
   },
   {
    "duration": 1640,
    "start_time": "2024-12-13T17:35:27.262Z"
   },
   {
    "duration": 3,
    "start_time": "2024-12-13T17:35:28.903Z"
   },
   {
    "duration": 26,
    "start_time": "2024-12-13T17:35:28.907Z"
   },
   {
    "duration": 1053,
    "start_time": "2024-12-13T17:35:28.934Z"
   },
   {
    "duration": 259,
    "start_time": "2024-12-13T17:35:29.989Z"
   },
   {
    "duration": 272,
    "start_time": "2024-12-13T17:35:30.249Z"
   },
   {
    "duration": 3,
    "start_time": "2024-12-13T17:35:30.522Z"
   },
   {
    "duration": 276,
    "start_time": "2024-12-13T17:35:30.526Z"
   },
   {
    "duration": 3,
    "start_time": "2024-12-13T17:35:30.805Z"
   },
   {
    "duration": 4969,
    "start_time": "2024-12-13T17:35:30.809Z"
   },
   {
    "duration": 8,
    "start_time": "2024-12-13T17:35:35.779Z"
   },
   {
    "duration": 1282,
    "start_time": "2024-12-13T17:35:35.788Z"
   },
   {
    "duration": 13,
    "start_time": "2024-12-13T17:35:37.073Z"
   },
   {
    "duration": 418,
    "start_time": "2024-12-13T17:35:37.088Z"
   },
   {
    "duration": 293,
    "start_time": "2024-12-13T17:35:37.507Z"
   },
   {
    "duration": 281,
    "start_time": "2024-12-13T17:35:37.802Z"
   },
   {
    "duration": 319,
    "start_time": "2024-12-13T17:35:38.087Z"
   },
   {
    "duration": 90,
    "start_time": "2024-12-13T17:35:38.408Z"
   },
   {
    "duration": 10,
    "start_time": "2024-12-13T17:35:38.499Z"
   },
   {
    "duration": 55,
    "start_time": "2024-12-13T17:35:38.510Z"
   },
   {
    "duration": 20,
    "start_time": "2024-12-13T17:35:38.567Z"
   },
   {
    "duration": 36,
    "start_time": "2024-12-13T17:35:38.589Z"
   },
   {
    "duration": 5,
    "start_time": "2024-12-13T17:35:38.627Z"
   },
   {
    "duration": 52,
    "start_time": "2024-12-13T17:35:38.634Z"
   },
   {
    "duration": 6,
    "start_time": "2024-12-13T17:35:38.688Z"
   },
   {
    "duration": 95,
    "start_time": "2024-12-13T17:35:38.695Z"
   },
   {
    "duration": 93137,
    "start_time": "2024-12-13T17:35:38.794Z"
   },
   {
    "duration": 0,
    "start_time": "2024-12-13T17:37:11.933Z"
   },
   {
    "duration": 0,
    "start_time": "2024-12-13T17:37:11.934Z"
   },
   {
    "duration": 0,
    "start_time": "2024-12-13T17:37:11.936Z"
   },
   {
    "duration": 0,
    "start_time": "2024-12-13T17:37:11.937Z"
   },
   {
    "duration": 0,
    "start_time": "2024-12-13T17:37:11.938Z"
   },
   {
    "duration": 0,
    "start_time": "2024-12-13T17:37:11.939Z"
   },
   {
    "duration": 0,
    "start_time": "2024-12-13T17:37:11.940Z"
   },
   {
    "duration": 0,
    "start_time": "2024-12-13T17:37:11.941Z"
   },
   {
    "duration": 0,
    "start_time": "2024-12-13T17:37:11.942Z"
   },
   {
    "duration": 0,
    "start_time": "2024-12-13T17:37:11.944Z"
   },
   {
    "duration": 0,
    "start_time": "2024-12-13T17:37:11.944Z"
   },
   {
    "duration": 0,
    "start_time": "2024-12-13T17:37:11.945Z"
   },
   {
    "duration": 0,
    "start_time": "2024-12-13T17:37:11.946Z"
   },
   {
    "duration": 0,
    "start_time": "2024-12-13T17:37:11.947Z"
   },
   {
    "duration": 0,
    "start_time": "2024-12-13T17:37:11.948Z"
   },
   {
    "duration": 0,
    "start_time": "2024-12-13T17:37:11.949Z"
   },
   {
    "duration": 0,
    "start_time": "2024-12-13T17:37:11.950Z"
   },
   {
    "duration": 0,
    "start_time": "2024-12-13T17:37:11.951Z"
   },
   {
    "duration": 0,
    "start_time": "2024-12-13T17:37:11.952Z"
   },
   {
    "duration": 0,
    "start_time": "2024-12-13T17:37:11.953Z"
   },
   {
    "duration": 0,
    "start_time": "2024-12-13T17:37:11.986Z"
   },
   {
    "duration": 0,
    "start_time": "2024-12-13T17:37:11.987Z"
   },
   {
    "duration": 0,
    "start_time": "2024-12-13T17:37:11.988Z"
   },
   {
    "duration": 0,
    "start_time": "2024-12-13T17:37:11.988Z"
   },
   {
    "duration": 10305,
    "start_time": "2024-12-13T17:37:30.828Z"
   },
   {
    "duration": 1160,
    "start_time": "2024-12-13T17:37:41.135Z"
   },
   {
    "duration": 3,
    "start_time": "2024-12-13T17:37:42.296Z"
   },
   {
    "duration": 9,
    "start_time": "2024-12-13T17:37:42.301Z"
   },
   {
    "duration": 775,
    "start_time": "2024-12-13T17:37:42.312Z"
   },
   {
    "duration": 220,
    "start_time": "2024-12-13T17:37:43.088Z"
   },
   {
    "duration": 266,
    "start_time": "2024-12-13T17:37:43.309Z"
   },
   {
    "duration": 3,
    "start_time": "2024-12-13T17:37:43.577Z"
   },
   {
    "duration": 265,
    "start_time": "2024-12-13T17:37:43.586Z"
   },
   {
    "duration": 4,
    "start_time": "2024-12-13T17:37:43.852Z"
   },
   {
    "duration": 4922,
    "start_time": "2024-12-13T17:37:43.858Z"
   },
   {
    "duration": 3,
    "start_time": "2024-12-13T17:37:48.786Z"
   },
   {
    "duration": 1170,
    "start_time": "2024-12-13T17:37:48.790Z"
   },
   {
    "duration": 3,
    "start_time": "2024-12-13T17:37:49.963Z"
   },
   {
    "duration": 373,
    "start_time": "2024-12-13T17:37:49.968Z"
   },
   {
    "duration": 285,
    "start_time": "2024-12-13T17:37:50.342Z"
   },
   {
    "duration": 274,
    "start_time": "2024-12-13T17:37:50.628Z"
   },
   {
    "duration": 301,
    "start_time": "2024-12-13T17:37:50.904Z"
   },
   {
    "duration": 86,
    "start_time": "2024-12-13T17:37:51.206Z"
   },
   {
    "duration": 26,
    "start_time": "2024-12-13T17:37:51.294Z"
   },
   {
    "duration": 62,
    "start_time": "2024-12-13T17:37:51.321Z"
   },
   {
    "duration": 5,
    "start_time": "2024-12-13T17:37:51.385Z"
   },
   {
    "duration": 55,
    "start_time": "2024-12-13T17:37:51.391Z"
   },
   {
    "duration": 5,
    "start_time": "2024-12-13T17:37:51.448Z"
   },
   {
    "duration": 48,
    "start_time": "2024-12-13T17:37:51.454Z"
   },
   {
    "duration": 5,
    "start_time": "2024-12-13T17:37:51.504Z"
   },
   {
    "duration": 48,
    "start_time": "2024-12-13T17:37:51.510Z"
   },
   {
    "duration": 8,
    "start_time": "2024-12-13T17:45:28.915Z"
   },
   {
    "duration": 10436,
    "start_time": "2024-12-13T17:46:16.691Z"
   },
   {
    "duration": 1514,
    "start_time": "2024-12-13T17:46:27.129Z"
   },
   {
    "duration": 2,
    "start_time": "2024-12-13T17:46:28.645Z"
   },
   {
    "duration": 6,
    "start_time": "2024-12-13T17:46:28.648Z"
   },
   {
    "duration": 1012,
    "start_time": "2024-12-13T17:46:28.656Z"
   },
   {
    "duration": 220,
    "start_time": "2024-12-13T17:46:29.670Z"
   },
   {
    "duration": 259,
    "start_time": "2024-12-13T17:46:29.892Z"
   },
   {
    "duration": 3,
    "start_time": "2024-12-13T17:46:30.153Z"
   },
   {
    "duration": 296,
    "start_time": "2024-12-13T17:46:30.158Z"
   },
   {
    "duration": 4,
    "start_time": "2024-12-13T17:46:30.455Z"
   },
   {
    "duration": 4926,
    "start_time": "2024-12-13T17:46:30.460Z"
   },
   {
    "duration": 3,
    "start_time": "2024-12-13T17:46:35.388Z"
   },
   {
    "duration": 1214,
    "start_time": "2024-12-13T17:46:35.392Z"
   },
   {
    "duration": 3,
    "start_time": "2024-12-13T17:46:36.609Z"
   },
   {
    "duration": 378,
    "start_time": "2024-12-13T17:46:36.613Z"
   },
   {
    "duration": 278,
    "start_time": "2024-12-13T17:46:36.992Z"
   },
   {
    "duration": 269,
    "start_time": "2024-12-13T17:46:37.271Z"
   },
   {
    "duration": 298,
    "start_time": "2024-12-13T17:46:37.541Z"
   },
   {
    "duration": 88,
    "start_time": "2024-12-13T17:46:37.841Z"
   },
   {
    "duration": 8,
    "start_time": "2024-12-13T17:46:37.930Z"
   },
   {
    "duration": 63,
    "start_time": "2024-12-13T17:46:37.940Z"
   },
   {
    "duration": 5,
    "start_time": "2024-12-13T17:46:38.004Z"
   },
   {
    "duration": 35,
    "start_time": "2024-12-13T17:46:38.011Z"
   },
   {
    "duration": 4,
    "start_time": "2024-12-13T17:46:38.048Z"
   },
   {
    "duration": 55,
    "start_time": "2024-12-13T17:46:38.054Z"
   },
   {
    "duration": 5,
    "start_time": "2024-12-13T17:46:38.110Z"
   },
   {
    "duration": 34,
    "start_time": "2024-12-13T17:46:38.117Z"
   },
   {
    "duration": 2,
    "start_time": "2024-12-13T17:46:38.153Z"
   },
   {
    "duration": 10522,
    "start_time": "2024-12-13T17:50:19.998Z"
   },
   {
    "duration": 1821,
    "start_time": "2024-12-13T17:50:30.522Z"
   },
   {
    "duration": 3,
    "start_time": "2024-12-13T17:50:32.344Z"
   },
   {
    "duration": 27,
    "start_time": "2024-12-13T17:50:32.349Z"
   },
   {
    "duration": 1013,
    "start_time": "2024-12-13T17:50:32.378Z"
   },
   {
    "duration": 215,
    "start_time": "2024-12-13T17:50:33.393Z"
   },
   {
    "duration": 260,
    "start_time": "2024-12-13T17:50:33.610Z"
   },
   {
    "duration": 3,
    "start_time": "2024-12-13T17:50:33.872Z"
   },
   {
    "duration": 267,
    "start_time": "2024-12-13T17:50:33.876Z"
   },
   {
    "duration": 3,
    "start_time": "2024-12-13T17:50:34.145Z"
   },
   {
    "duration": 4940,
    "start_time": "2024-12-13T17:50:34.150Z"
   },
   {
    "duration": 4,
    "start_time": "2024-12-13T17:50:39.091Z"
   },
   {
    "duration": 1192,
    "start_time": "2024-12-13T17:50:39.097Z"
   },
   {
    "duration": 3,
    "start_time": "2024-12-13T17:50:40.291Z"
   },
   {
    "duration": 351,
    "start_time": "2024-12-13T17:50:40.295Z"
   },
   {
    "duration": 283,
    "start_time": "2024-12-13T17:50:40.648Z"
   },
   {
    "duration": 271,
    "start_time": "2024-12-13T17:50:40.932Z"
   },
   {
    "duration": 296,
    "start_time": "2024-12-13T17:50:41.204Z"
   },
   {
    "duration": 90,
    "start_time": "2024-12-13T17:50:41.501Z"
   },
   {
    "duration": 8,
    "start_time": "2024-12-13T17:50:41.593Z"
   },
   {
    "duration": 53,
    "start_time": "2024-12-13T17:50:41.602Z"
   },
   {
    "duration": 5,
    "start_time": "2024-12-13T17:50:41.656Z"
   },
   {
    "duration": 54,
    "start_time": "2024-12-13T17:50:41.662Z"
   },
   {
    "duration": 5,
    "start_time": "2024-12-13T17:50:41.718Z"
   },
   {
    "duration": 68,
    "start_time": "2024-12-13T17:50:41.724Z"
   },
   {
    "duration": 5,
    "start_time": "2024-12-13T17:50:41.794Z"
   },
   {
    "duration": 43,
    "start_time": "2024-12-13T17:50:41.800Z"
   },
   {
    "duration": 2,
    "start_time": "2024-12-13T17:50:41.847Z"
   },
   {
    "duration": 53,
    "start_time": "2024-12-13T18:03:15.492Z"
   },
   {
    "duration": 10462,
    "start_time": "2024-12-13T18:03:26.171Z"
   },
   {
    "duration": 1589,
    "start_time": "2024-12-13T18:03:36.636Z"
   },
   {
    "duration": 3,
    "start_time": "2024-12-13T18:03:38.226Z"
   },
   {
    "duration": 7,
    "start_time": "2024-12-13T18:03:38.230Z"
   },
   {
    "duration": 1079,
    "start_time": "2024-12-13T18:03:38.239Z"
   },
   {
    "duration": 251,
    "start_time": "2024-12-13T18:03:39.320Z"
   },
   {
    "duration": 284,
    "start_time": "2024-12-13T18:03:39.572Z"
   },
   {
    "duration": 4,
    "start_time": "2024-12-13T18:03:39.857Z"
   },
   {
    "duration": 277,
    "start_time": "2024-12-13T18:03:39.862Z"
   },
   {
    "duration": 4,
    "start_time": "2024-12-13T18:03:40.140Z"
   },
   {
    "duration": 5114,
    "start_time": "2024-12-13T18:03:40.145Z"
   },
   {
    "duration": 3,
    "start_time": "2024-12-13T18:03:45.261Z"
   },
   {
    "duration": 1261,
    "start_time": "2024-12-13T18:03:45.265Z"
   },
   {
    "duration": 3,
    "start_time": "2024-12-13T18:03:46.530Z"
   },
   {
    "duration": 371,
    "start_time": "2024-12-13T18:03:46.535Z"
   },
   {
    "duration": 296,
    "start_time": "2024-12-13T18:03:46.908Z"
   },
   {
    "duration": 287,
    "start_time": "2024-12-13T18:03:47.206Z"
   },
   {
    "duration": 317,
    "start_time": "2024-12-13T18:03:47.495Z"
   },
   {
    "duration": 93,
    "start_time": "2024-12-13T18:03:47.813Z"
   },
   {
    "duration": 9,
    "start_time": "2024-12-13T18:03:47.907Z"
   },
   {
    "duration": 55,
    "start_time": "2024-12-13T18:03:47.917Z"
   },
   {
    "duration": 5,
    "start_time": "2024-12-13T18:03:47.986Z"
   },
   {
    "duration": 40,
    "start_time": "2024-12-13T18:03:47.992Z"
   },
   {
    "duration": 5,
    "start_time": "2024-12-13T18:03:48.034Z"
   },
   {
    "duration": 52,
    "start_time": "2024-12-13T18:03:48.040Z"
   },
   {
    "duration": 5,
    "start_time": "2024-12-13T18:03:48.094Z"
   },
   {
    "duration": 37,
    "start_time": "2024-12-13T18:03:48.100Z"
   },
   {
    "duration": 2,
    "start_time": "2024-12-13T18:03:48.139Z"
   },
   {
    "duration": 19872,
    "start_time": "2024-12-13T18:03:48.142Z"
   },
   {
    "duration": 0,
    "start_time": "2024-12-13T18:04:08.018Z"
   },
   {
    "duration": 0,
    "start_time": "2024-12-13T18:04:08.019Z"
   },
   {
    "duration": 0,
    "start_time": "2024-12-13T18:04:08.020Z"
   },
   {
    "duration": 0,
    "start_time": "2024-12-13T18:04:08.022Z"
   },
   {
    "duration": 0,
    "start_time": "2024-12-13T18:04:08.023Z"
   },
   {
    "duration": 0,
    "start_time": "2024-12-13T18:04:08.024Z"
   },
   {
    "duration": 0,
    "start_time": "2024-12-13T18:04:08.026Z"
   },
   {
    "duration": 0,
    "start_time": "2024-12-13T18:04:08.027Z"
   },
   {
    "duration": 0,
    "start_time": "2024-12-13T18:04:08.029Z"
   },
   {
    "duration": 0,
    "start_time": "2024-12-13T18:04:08.030Z"
   },
   {
    "duration": 0,
    "start_time": "2024-12-13T18:04:08.032Z"
   },
   {
    "duration": 0,
    "start_time": "2024-12-13T18:04:08.033Z"
   },
   {
    "duration": 0,
    "start_time": "2024-12-13T18:04:08.034Z"
   },
   {
    "duration": 0,
    "start_time": "2024-12-13T18:04:08.036Z"
   },
   {
    "duration": 0,
    "start_time": "2024-12-13T18:04:08.037Z"
   },
   {
    "duration": 0,
    "start_time": "2024-12-13T18:04:08.038Z"
   },
   {
    "duration": 0,
    "start_time": "2024-12-13T18:04:08.039Z"
   },
   {
    "duration": 0,
    "start_time": "2024-12-13T18:04:08.040Z"
   },
   {
    "duration": 0,
    "start_time": "2024-12-13T18:04:08.041Z"
   },
   {
    "duration": 0,
    "start_time": "2024-12-13T18:04:08.042Z"
   },
   {
    "duration": 0,
    "start_time": "2024-12-13T18:04:08.043Z"
   },
   {
    "duration": 0,
    "start_time": "2024-12-13T18:04:08.044Z"
   },
   {
    "duration": 0,
    "start_time": "2024-12-13T18:04:08.045Z"
   },
   {
    "duration": 0,
    "start_time": "2024-12-13T18:04:08.046Z"
   },
   {
    "duration": 10459,
    "start_time": "2024-12-13T18:04:56.505Z"
   },
   {
    "duration": 1226,
    "start_time": "2024-12-13T18:05:06.967Z"
   },
   {
    "duration": 2,
    "start_time": "2024-12-13T18:05:08.195Z"
   },
   {
    "duration": 19,
    "start_time": "2024-12-13T18:05:08.199Z"
   },
   {
    "duration": 788,
    "start_time": "2024-12-13T18:05:08.219Z"
   },
   {
    "duration": 264,
    "start_time": "2024-12-13T18:05:09.009Z"
   },
   {
    "duration": 290,
    "start_time": "2024-12-13T18:05:09.275Z"
   },
   {
    "duration": 3,
    "start_time": "2024-12-13T18:05:09.567Z"
   },
   {
    "duration": 270,
    "start_time": "2024-12-13T18:05:09.571Z"
   },
   {
    "duration": 4,
    "start_time": "2024-12-13T18:05:09.843Z"
   },
   {
    "duration": 4928,
    "start_time": "2024-12-13T18:05:09.848Z"
   },
   {
    "duration": 9,
    "start_time": "2024-12-13T18:05:14.778Z"
   },
   {
    "duration": 1233,
    "start_time": "2024-12-13T18:05:14.788Z"
   },
   {
    "duration": 3,
    "start_time": "2024-12-13T18:05:16.023Z"
   },
   {
    "duration": 366,
    "start_time": "2024-12-13T18:05:16.028Z"
   },
   {
    "duration": 291,
    "start_time": "2024-12-13T18:05:16.395Z"
   },
   {
    "duration": 282,
    "start_time": "2024-12-13T18:05:16.688Z"
   },
   {
    "duration": 314,
    "start_time": "2024-12-13T18:05:16.972Z"
   },
   {
    "duration": 111,
    "start_time": "2024-12-13T18:05:17.288Z"
   },
   {
    "duration": 8,
    "start_time": "2024-12-13T18:05:17.400Z"
   },
   {
    "duration": 54,
    "start_time": "2024-12-13T18:05:17.410Z"
   },
   {
    "duration": 5,
    "start_time": "2024-12-13T18:05:17.466Z"
   },
   {
    "duration": 37,
    "start_time": "2024-12-13T18:05:17.486Z"
   },
   {
    "duration": 5,
    "start_time": "2024-12-13T18:05:17.525Z"
   },
   {
    "duration": 57,
    "start_time": "2024-12-13T18:05:17.531Z"
   },
   {
    "duration": 6,
    "start_time": "2024-12-13T18:05:17.595Z"
   },
   {
    "duration": 46,
    "start_time": "2024-12-13T18:05:17.602Z"
   },
   {
    "duration": 2,
    "start_time": "2024-12-13T18:05:17.652Z"
   },
   {
    "duration": 49,
    "start_time": "2024-12-13T18:12:08.371Z"
   },
   {
    "duration": 10384,
    "start_time": "2024-12-13T18:12:16.412Z"
   },
   {
    "duration": 1698,
    "start_time": "2024-12-13T18:12:26.798Z"
   },
   {
    "duration": 2,
    "start_time": "2024-12-13T18:12:28.498Z"
   },
   {
    "duration": 8,
    "start_time": "2024-12-13T18:12:28.501Z"
   },
   {
    "duration": 1030,
    "start_time": "2024-12-13T18:12:28.511Z"
   },
   {
    "duration": 255,
    "start_time": "2024-12-13T18:12:29.543Z"
   },
   {
    "duration": 264,
    "start_time": "2024-12-13T18:12:29.800Z"
   },
   {
    "duration": 3,
    "start_time": "2024-12-13T18:12:30.065Z"
   },
   {
    "duration": 316,
    "start_time": "2024-12-13T18:12:30.070Z"
   },
   {
    "duration": 4,
    "start_time": "2024-12-13T18:12:30.388Z"
   },
   {
    "duration": 4902,
    "start_time": "2024-12-13T18:12:30.394Z"
   },
   {
    "duration": 3,
    "start_time": "2024-12-13T18:12:35.298Z"
   },
   {
    "duration": 1178,
    "start_time": "2024-12-13T18:12:35.302Z"
   },
   {
    "duration": 2,
    "start_time": "2024-12-13T18:12:36.486Z"
   },
   {
    "duration": 353,
    "start_time": "2024-12-13T18:12:36.490Z"
   },
   {
    "duration": 280,
    "start_time": "2024-12-13T18:12:36.845Z"
   },
   {
    "duration": 281,
    "start_time": "2024-12-13T18:12:37.127Z"
   },
   {
    "duration": 302,
    "start_time": "2024-12-13T18:12:37.410Z"
   },
   {
    "duration": 91,
    "start_time": "2024-12-13T18:12:37.713Z"
   },
   {
    "duration": 9,
    "start_time": "2024-12-13T18:12:37.806Z"
   },
   {
    "duration": 50,
    "start_time": "2024-12-13T18:12:37.816Z"
   },
   {
    "duration": 21,
    "start_time": "2024-12-13T18:12:37.868Z"
   },
   {
    "duration": 50,
    "start_time": "2024-12-13T18:12:37.890Z"
   },
   {
    "duration": 5,
    "start_time": "2024-12-13T18:12:37.942Z"
   },
   {
    "duration": 57,
    "start_time": "2024-12-13T18:12:37.948Z"
   },
   {
    "duration": 6,
    "start_time": "2024-12-13T18:12:38.007Z"
   },
   {
    "duration": 34,
    "start_time": "2024-12-13T18:12:38.014Z"
   },
   {
    "duration": 2,
    "start_time": "2024-12-13T18:12:38.050Z"
   },
   {
    "duration": 9385,
    "start_time": "2024-12-13T18:16:09.601Z"
   },
   {
    "duration": 1933,
    "start_time": "2024-12-13T18:16:18.988Z"
   },
   {
    "duration": 2,
    "start_time": "2024-12-13T18:16:20.923Z"
   },
   {
    "duration": 19,
    "start_time": "2024-12-13T18:16:20.926Z"
   },
   {
    "duration": 1067,
    "start_time": "2024-12-13T18:16:20.947Z"
   },
   {
    "duration": 222,
    "start_time": "2024-12-13T18:16:22.016Z"
   },
   {
    "duration": 276,
    "start_time": "2024-12-13T18:16:22.240Z"
   },
   {
    "duration": 4,
    "start_time": "2024-12-13T18:16:22.517Z"
   },
   {
    "duration": 272,
    "start_time": "2024-12-13T18:16:22.522Z"
   },
   {
    "duration": 3,
    "start_time": "2024-12-13T18:16:22.796Z"
   },
   {
    "duration": 5044,
    "start_time": "2024-12-13T18:16:22.800Z"
   },
   {
    "duration": 3,
    "start_time": "2024-12-13T18:16:27.845Z"
   },
   {
    "duration": 1155,
    "start_time": "2024-12-13T18:16:27.850Z"
   },
   {
    "duration": 4,
    "start_time": "2024-12-13T18:16:29.007Z"
   },
   {
    "duration": 366,
    "start_time": "2024-12-13T18:16:29.012Z"
   },
   {
    "duration": 311,
    "start_time": "2024-12-13T18:16:29.386Z"
   },
   {
    "duration": 276,
    "start_time": "2024-12-13T18:16:29.699Z"
   },
   {
    "duration": 319,
    "start_time": "2024-12-13T18:16:29.977Z"
   },
   {
    "duration": 81,
    "start_time": "2024-12-13T18:16:30.298Z"
   },
   {
    "duration": 9,
    "start_time": "2024-12-13T18:16:30.386Z"
   },
   {
    "duration": 79,
    "start_time": "2024-12-13T18:16:30.396Z"
   },
   {
    "duration": 5,
    "start_time": "2024-12-13T18:16:30.477Z"
   },
   {
    "duration": 58,
    "start_time": "2024-12-13T18:16:30.483Z"
   },
   {
    "duration": 5,
    "start_time": "2024-12-13T18:16:30.542Z"
   },
   {
    "duration": 50,
    "start_time": "2024-12-13T18:16:30.549Z"
   },
   {
    "duration": 16,
    "start_time": "2024-12-13T18:16:30.601Z"
   },
   {
    "duration": 40,
    "start_time": "2024-12-13T18:16:30.619Z"
   },
   {
    "duration": 2,
    "start_time": "2024-12-13T18:16:30.662Z"
   },
   {
    "duration": 240034,
    "start_time": "2024-12-13T18:16:30.666Z"
   },
   {
    "duration": 0,
    "start_time": "2024-12-13T18:20:30.701Z"
   },
   {
    "duration": 0,
    "start_time": "2024-12-13T18:20:30.702Z"
   },
   {
    "duration": 0,
    "start_time": "2024-12-13T18:20:30.703Z"
   },
   {
    "duration": 0,
    "start_time": "2024-12-13T18:20:30.704Z"
   },
   {
    "duration": 0,
    "start_time": "2024-12-13T18:20:30.704Z"
   },
   {
    "duration": 0,
    "start_time": "2024-12-13T18:20:30.706Z"
   },
   {
    "duration": 0,
    "start_time": "2024-12-13T18:20:30.707Z"
   },
   {
    "duration": 0,
    "start_time": "2024-12-13T18:20:30.708Z"
   },
   {
    "duration": 0,
    "start_time": "2024-12-13T18:20:30.709Z"
   },
   {
    "duration": 0,
    "start_time": "2024-12-13T18:20:30.710Z"
   },
   {
    "duration": 0,
    "start_time": "2024-12-13T18:20:30.711Z"
   },
   {
    "duration": 0,
    "start_time": "2024-12-13T18:20:30.712Z"
   },
   {
    "duration": 0,
    "start_time": "2024-12-13T18:20:30.713Z"
   },
   {
    "duration": 0,
    "start_time": "2024-12-13T18:20:30.713Z"
   },
   {
    "duration": 0,
    "start_time": "2024-12-13T18:20:30.714Z"
   },
   {
    "duration": 0,
    "start_time": "2024-12-13T18:20:30.715Z"
   },
   {
    "duration": 0,
    "start_time": "2024-12-13T18:20:30.717Z"
   },
   {
    "duration": 0,
    "start_time": "2024-12-13T18:20:30.718Z"
   },
   {
    "duration": 0,
    "start_time": "2024-12-13T18:20:30.719Z"
   },
   {
    "duration": 0,
    "start_time": "2024-12-13T18:20:30.720Z"
   },
   {
    "duration": 0,
    "start_time": "2024-12-13T18:20:30.721Z"
   },
   {
    "duration": 0,
    "start_time": "2024-12-13T18:20:30.722Z"
   },
   {
    "duration": 0,
    "start_time": "2024-12-13T18:20:30.723Z"
   },
   {
    "duration": 0,
    "start_time": "2024-12-13T18:20:30.724Z"
   },
   {
    "duration": 13,
    "start_time": "2024-12-13T18:21:23.662Z"
   },
   {
    "duration": 62,
    "start_time": "2024-12-13T18:22:59.382Z"
   },
   {
    "duration": 9248,
    "start_time": "2024-12-13T18:41:33.793Z"
   },
   {
    "duration": 1554,
    "start_time": "2024-12-13T18:41:43.043Z"
   },
   {
    "duration": 2,
    "start_time": "2024-12-13T18:41:44.599Z"
   },
   {
    "duration": 4,
    "start_time": "2024-12-13T18:41:44.603Z"
   },
   {
    "duration": 1008,
    "start_time": "2024-12-13T18:41:44.609Z"
   },
   {
    "duration": 227,
    "start_time": "2024-12-13T18:41:45.620Z"
   },
   {
    "duration": 266,
    "start_time": "2024-12-13T18:41:45.849Z"
   },
   {
    "duration": 2,
    "start_time": "2024-12-13T18:41:46.117Z"
   },
   {
    "duration": 268,
    "start_time": "2024-12-13T18:41:46.121Z"
   },
   {
    "duration": 3,
    "start_time": "2024-12-13T18:41:46.391Z"
   },
   {
    "duration": 4921,
    "start_time": "2024-12-13T18:41:46.395Z"
   },
   {
    "duration": 3,
    "start_time": "2024-12-13T18:41:51.318Z"
   },
   {
    "duration": 1187,
    "start_time": "2024-12-13T18:41:51.322Z"
   },
   {
    "duration": 3,
    "start_time": "2024-12-13T18:41:52.512Z"
   },
   {
    "duration": 363,
    "start_time": "2024-12-13T18:41:52.516Z"
   },
   {
    "duration": 282,
    "start_time": "2024-12-13T18:41:52.880Z"
   },
   {
    "duration": 270,
    "start_time": "2024-12-13T18:41:53.163Z"
   },
   {
    "duration": 293,
    "start_time": "2024-12-13T18:41:53.434Z"
   },
   {
    "duration": 83,
    "start_time": "2024-12-13T18:41:53.729Z"
   },
   {
    "duration": 8,
    "start_time": "2024-12-13T18:41:53.814Z"
   },
   {
    "duration": 67,
    "start_time": "2024-12-13T18:41:53.823Z"
   },
   {
    "duration": 5,
    "start_time": "2024-12-13T18:41:53.892Z"
   },
   {
    "duration": 43,
    "start_time": "2024-12-13T18:41:53.898Z"
   },
   {
    "duration": 5,
    "start_time": "2024-12-13T18:41:53.943Z"
   },
   {
    "duration": 41,
    "start_time": "2024-12-13T18:41:53.949Z"
   },
   {
    "duration": 6,
    "start_time": "2024-12-13T18:41:53.992Z"
   },
   {
    "duration": 38,
    "start_time": "2024-12-13T18:41:54.000Z"
   },
   {
    "duration": 3,
    "start_time": "2024-12-13T18:41:54.040Z"
   },
   {
    "duration": 48,
    "start_time": "2024-12-13T18:53:52.816Z"
   },
   {
    "duration": 9400,
    "start_time": "2024-12-13T18:54:09.935Z"
   },
   {
    "duration": 1673,
    "start_time": "2024-12-13T18:54:19.337Z"
   },
   {
    "duration": 3,
    "start_time": "2024-12-13T18:54:21.011Z"
   },
   {
    "duration": 57,
    "start_time": "2024-12-13T18:54:21.015Z"
   },
   {
    "duration": 1030,
    "start_time": "2024-12-13T18:54:21.074Z"
   },
   {
    "duration": 225,
    "start_time": "2024-12-13T18:54:22.106Z"
   },
   {
    "duration": 277,
    "start_time": "2024-12-13T18:54:22.332Z"
   },
   {
    "duration": 6,
    "start_time": "2024-12-13T18:54:22.611Z"
   },
   {
    "duration": 269,
    "start_time": "2024-12-13T18:54:22.619Z"
   },
   {
    "duration": 3,
    "start_time": "2024-12-13T18:54:22.890Z"
   },
   {
    "duration": 4993,
    "start_time": "2024-12-13T18:54:22.894Z"
   },
   {
    "duration": 3,
    "start_time": "2024-12-13T18:54:27.889Z"
   },
   {
    "duration": 1172,
    "start_time": "2024-12-13T18:54:27.894Z"
   },
   {
    "duration": 3,
    "start_time": "2024-12-13T18:54:29.069Z"
   },
   {
    "duration": 394,
    "start_time": "2024-12-13T18:54:29.073Z"
   },
   {
    "duration": 306,
    "start_time": "2024-12-13T18:54:29.469Z"
   },
   {
    "duration": 281,
    "start_time": "2024-12-13T18:54:29.777Z"
   },
   {
    "duration": 314,
    "start_time": "2024-12-13T18:54:30.060Z"
   },
   {
    "duration": 87,
    "start_time": "2024-12-13T18:54:30.375Z"
   },
   {
    "duration": 9,
    "start_time": "2024-12-13T18:54:30.464Z"
   },
   {
    "duration": 65,
    "start_time": "2024-12-13T18:54:30.487Z"
   },
   {
    "duration": 7,
    "start_time": "2024-12-13T18:54:30.553Z"
   },
   {
    "duration": 78,
    "start_time": "2024-12-13T18:54:30.562Z"
   },
   {
    "duration": 6,
    "start_time": "2024-12-13T18:54:30.642Z"
   },
   {
    "duration": 52,
    "start_time": "2024-12-13T18:54:30.649Z"
   },
   {
    "duration": 5,
    "start_time": "2024-12-13T18:54:30.703Z"
   },
   {
    "duration": 65,
    "start_time": "2024-12-13T18:54:30.710Z"
   },
   {
    "duration": 1257,
    "start_time": "2024-12-13T18:54:30.776Z"
   },
   {
    "duration": 2,
    "start_time": "2024-12-13T18:54:32.035Z"
   },
   {
    "duration": 66,
    "start_time": "2024-12-13T18:54:32.039Z"
   },
   {
    "duration": 169,
    "start_time": "2024-12-13T18:54:32.107Z"
   },
   {
    "duration": 16,
    "start_time": "2024-12-13T18:54:32.278Z"
   },
   {
    "duration": 21,
    "start_time": "2024-12-13T18:54:32.296Z"
   },
   {
    "duration": 9,
    "start_time": "2024-12-13T18:54:32.319Z"
   },
   {
    "duration": 53,
    "start_time": "2024-12-13T18:54:32.330Z"
   },
   {
    "duration": 3,
    "start_time": "2024-12-13T18:54:32.384Z"
   },
   {
    "duration": 13,
    "start_time": "2024-12-13T18:54:32.389Z"
   },
   {
    "duration": 19,
    "start_time": "2024-12-13T18:54:32.403Z"
   },
   {
    "duration": 3,
    "start_time": "2024-12-13T18:54:32.424Z"
   },
   {
    "duration": 6,
    "start_time": "2024-12-13T18:54:32.428Z"
   },
   {
    "duration": 13,
    "start_time": "2024-12-13T18:54:32.437Z"
   },
   {
    "duration": 20,
    "start_time": "2024-12-13T18:54:32.451Z"
   },
   {
    "duration": 16,
    "start_time": "2024-12-13T18:54:32.472Z"
   },
   {
    "duration": 877286,
    "start_time": "2024-12-13T18:54:32.490Z"
   },
   {
    "duration": 3,
    "start_time": "2024-12-13T19:09:09.777Z"
   },
   {
    "duration": 155,
    "start_time": "2024-12-13T19:09:09.781Z"
   },
   {
    "duration": 3,
    "start_time": "2024-12-13T19:09:09.937Z"
   },
   {
    "duration": 11,
    "start_time": "2024-12-13T19:09:09.941Z"
   },
   {
    "duration": 50738,
    "start_time": "2024-12-13T19:09:09.954Z"
   },
   {
    "duration": 91,
    "start_time": "2024-12-13T19:10:00.696Z"
   },
   {
    "duration": 26,
    "start_time": "2024-12-13T19:10:00.789Z"
   },
   {
    "duration": 18,
    "start_time": "2024-12-13T19:10:00.816Z"
   },
   {
    "duration": 2705,
    "start_time": "2024-12-13T19:19:04.058Z"
   },
   {
    "duration": 8,
    "start_time": "2024-12-13T19:28:40.742Z"
   },
   {
    "duration": 9375,
    "start_time": "2024-12-13T19:40:26.928Z"
   },
   {
    "duration": 1580,
    "start_time": "2024-12-13T19:40:36.305Z"
   },
   {
    "duration": 2,
    "start_time": "2024-12-13T19:40:37.886Z"
   },
   {
    "duration": 6,
    "start_time": "2024-12-13T19:40:37.890Z"
   },
   {
    "duration": 1036,
    "start_time": "2024-12-13T19:40:37.897Z"
   },
   {
    "duration": 236,
    "start_time": "2024-12-13T19:40:38.935Z"
   },
   {
    "duration": 342,
    "start_time": "2024-12-13T19:40:39.173Z"
   },
   {
    "duration": 3,
    "start_time": "2024-12-13T19:40:39.516Z"
   },
   {
    "duration": 282,
    "start_time": "2024-12-13T19:40:39.520Z"
   },
   {
    "duration": 3,
    "start_time": "2024-12-13T19:40:39.804Z"
   },
   {
    "duration": 4989,
    "start_time": "2024-12-13T19:40:39.808Z"
   },
   {
    "duration": 3,
    "start_time": "2024-12-13T19:40:44.799Z"
   },
   {
    "duration": 1210,
    "start_time": "2024-12-13T19:40:44.803Z"
   },
   {
    "duration": 3,
    "start_time": "2024-12-13T19:40:46.014Z"
   },
   {
    "duration": 369,
    "start_time": "2024-12-13T19:40:46.019Z"
   },
   {
    "duration": 298,
    "start_time": "2024-12-13T19:40:46.389Z"
   },
   {
    "duration": 273,
    "start_time": "2024-12-13T19:40:46.688Z"
   },
   {
    "duration": 304,
    "start_time": "2024-12-13T19:40:46.962Z"
   },
   {
    "duration": 89,
    "start_time": "2024-12-13T19:40:47.267Z"
   },
   {
    "duration": 8,
    "start_time": "2024-12-13T19:40:47.358Z"
   },
   {
    "duration": 64,
    "start_time": "2024-12-13T19:40:47.368Z"
   },
   {
    "duration": 5,
    "start_time": "2024-12-13T19:40:47.434Z"
   },
   {
    "duration": 119,
    "start_time": "2024-12-13T19:40:47.440Z"
   },
   {
    "duration": 6,
    "start_time": "2024-12-13T19:40:47.560Z"
   },
   {
    "duration": 37,
    "start_time": "2024-12-13T19:40:47.567Z"
   },
   {
    "duration": 5,
    "start_time": "2024-12-13T19:40:47.606Z"
   },
   {
    "duration": 37,
    "start_time": "2024-12-13T19:40:47.613Z"
   },
   {
    "duration": 1262,
    "start_time": "2024-12-13T19:40:47.654Z"
   },
   {
    "duration": 2,
    "start_time": "2024-12-13T19:40:48.918Z"
   },
   {
    "duration": 17,
    "start_time": "2024-12-13T19:40:48.921Z"
   },
   {
    "duration": 174,
    "start_time": "2024-12-13T19:40:48.940Z"
   },
   {
    "duration": 12,
    "start_time": "2024-12-13T19:40:49.116Z"
   },
   {
    "duration": 16,
    "start_time": "2024-12-13T19:40:49.129Z"
   },
   {
    "duration": 3,
    "start_time": "2024-12-13T19:40:49.146Z"
   },
   {
    "duration": 57,
    "start_time": "2024-12-13T19:40:49.151Z"
   },
   {
    "duration": 3,
    "start_time": "2024-12-13T19:40:49.209Z"
   },
   {
    "duration": 17,
    "start_time": "2024-12-13T19:40:49.213Z"
   },
   {
    "duration": 65,
    "start_time": "2024-12-13T19:40:49.231Z"
   },
   {
    "duration": 7,
    "start_time": "2024-12-13T19:40:49.298Z"
   },
   {
    "duration": 5,
    "start_time": "2024-12-13T19:40:49.307Z"
   },
   {
    "duration": 2727,
    "start_time": "2024-12-13T19:40:49.313Z"
   },
   {
    "duration": 0,
    "start_time": "2024-12-13T19:40:52.041Z"
   },
   {
    "duration": 0,
    "start_time": "2024-12-13T19:40:52.043Z"
   },
   {
    "duration": 0,
    "start_time": "2024-12-13T19:40:52.044Z"
   },
   {
    "duration": 0,
    "start_time": "2024-12-13T19:40:52.045Z"
   },
   {
    "duration": 0,
    "start_time": "2024-12-13T19:40:52.046Z"
   },
   {
    "duration": 0,
    "start_time": "2024-12-13T19:40:52.047Z"
   },
   {
    "duration": 0,
    "start_time": "2024-12-13T19:40:52.047Z"
   },
   {
    "duration": 0,
    "start_time": "2024-12-13T19:40:52.048Z"
   },
   {
    "duration": 0,
    "start_time": "2024-12-13T19:40:52.049Z"
   },
   {
    "duration": 0,
    "start_time": "2024-12-13T19:40:52.050Z"
   },
   {
    "duration": 0,
    "start_time": "2024-12-13T19:40:52.051Z"
   },
   {
    "duration": 17,
    "start_time": "2024-12-13T19:49:18.580Z"
   },
   {
    "duration": 154,
    "start_time": "2024-12-13T19:49:19.170Z"
   },
   {
    "duration": 14,
    "start_time": "2024-12-13T19:49:19.730Z"
   },
   {
    "duration": 15,
    "start_time": "2024-12-13T19:49:20.340Z"
   },
   {
    "duration": 3,
    "start_time": "2024-12-13T19:49:20.804Z"
   },
   {
    "duration": 35,
    "start_time": "2024-12-13T19:49:21.527Z"
   },
   {
    "duration": 3,
    "start_time": "2024-12-13T19:49:22.270Z"
   },
   {
    "duration": 3,
    "start_time": "2024-12-13T19:49:22.830Z"
   },
   {
    "duration": 3,
    "start_time": "2024-12-13T19:49:23.534Z"
   },
   {
    "duration": 3,
    "start_time": "2024-12-13T19:49:25.631Z"
   },
   {
    "duration": 2,
    "start_time": "2024-12-13T19:49:34.460Z"
   },
   {
    "duration": 9278,
    "start_time": "2024-12-13T19:50:03.310Z"
   },
   {
    "duration": 1595,
    "start_time": "2024-12-13T19:50:12.590Z"
   },
   {
    "duration": 2,
    "start_time": "2024-12-13T19:50:14.187Z"
   },
   {
    "duration": 4,
    "start_time": "2024-12-13T19:50:14.191Z"
   },
   {
    "duration": 1016,
    "start_time": "2024-12-13T19:50:14.196Z"
   },
   {
    "duration": 210,
    "start_time": "2024-12-13T19:50:15.213Z"
   },
   {
    "duration": 282,
    "start_time": "2024-12-13T19:50:15.425Z"
   },
   {
    "duration": 4,
    "start_time": "2024-12-13T19:50:15.708Z"
   },
   {
    "duration": 260,
    "start_time": "2024-12-13T19:50:15.713Z"
   },
   {
    "duration": 11,
    "start_time": "2024-12-13T19:50:15.976Z"
   },
   {
    "duration": 4985,
    "start_time": "2024-12-13T19:50:15.988Z"
   },
   {
    "duration": 11,
    "start_time": "2024-12-13T19:50:20.975Z"
   },
   {
    "duration": 1177,
    "start_time": "2024-12-13T19:50:20.988Z"
   },
   {
    "duration": 2,
    "start_time": "2024-12-13T19:50:22.167Z"
   },
   {
    "duration": 368,
    "start_time": "2024-12-13T19:50:22.171Z"
   },
   {
    "duration": 283,
    "start_time": "2024-12-13T19:50:22.540Z"
   },
   {
    "duration": 281,
    "start_time": "2024-12-13T19:50:22.824Z"
   },
   {
    "duration": 307,
    "start_time": "2024-12-13T19:50:23.107Z"
   },
   {
    "duration": 90,
    "start_time": "2024-12-13T19:50:23.416Z"
   },
   {
    "duration": 8,
    "start_time": "2024-12-13T19:50:23.507Z"
   },
   {
    "duration": 85,
    "start_time": "2024-12-13T19:50:23.517Z"
   },
   {
    "duration": 5,
    "start_time": "2024-12-13T19:50:23.604Z"
   },
   {
    "duration": 40,
    "start_time": "2024-12-13T19:50:23.610Z"
   },
   {
    "duration": 5,
    "start_time": "2024-12-13T19:50:23.652Z"
   },
   {
    "duration": 54,
    "start_time": "2024-12-13T19:50:23.658Z"
   },
   {
    "duration": 5,
    "start_time": "2024-12-13T19:50:23.714Z"
   },
   {
    "duration": 55,
    "start_time": "2024-12-13T19:50:23.721Z"
   },
   {
    "duration": 1251,
    "start_time": "2024-12-13T19:50:23.779Z"
   },
   {
    "duration": 2,
    "start_time": "2024-12-13T19:50:25.032Z"
   },
   {
    "duration": 20,
    "start_time": "2024-12-13T19:50:25.036Z"
   },
   {
    "duration": 152,
    "start_time": "2024-12-13T19:50:25.057Z"
   },
   {
    "duration": 20,
    "start_time": "2024-12-13T19:50:25.211Z"
   },
   {
    "duration": 17,
    "start_time": "2024-12-13T19:50:25.233Z"
   },
   {
    "duration": 7,
    "start_time": "2024-12-13T19:50:25.252Z"
   },
   {
    "duration": 53,
    "start_time": "2024-12-13T19:50:25.261Z"
   },
   {
    "duration": 3,
    "start_time": "2024-12-13T19:50:25.315Z"
   },
   {
    "duration": 21,
    "start_time": "2024-12-13T19:50:25.321Z"
   },
   {
    "duration": 3,
    "start_time": "2024-12-13T19:50:25.344Z"
   },
   {
    "duration": 5,
    "start_time": "2024-12-13T19:50:25.348Z"
   },
   {
    "duration": 4,
    "start_time": "2024-12-13T19:50:25.354Z"
   },
   {
    "duration": 2584,
    "start_time": "2024-12-13T19:50:25.359Z"
   },
   {
    "duration": 0,
    "start_time": "2024-12-13T19:50:27.945Z"
   },
   {
    "duration": 0,
    "start_time": "2024-12-13T19:50:27.946Z"
   },
   {
    "duration": 0,
    "start_time": "2024-12-13T19:50:27.947Z"
   },
   {
    "duration": 0,
    "start_time": "2024-12-13T19:50:27.948Z"
   },
   {
    "duration": 0,
    "start_time": "2024-12-13T19:50:27.949Z"
   },
   {
    "duration": 0,
    "start_time": "2024-12-13T19:50:27.950Z"
   },
   {
    "duration": 0,
    "start_time": "2024-12-13T19:50:27.951Z"
   },
   {
    "duration": 0,
    "start_time": "2024-12-13T19:50:27.952Z"
   },
   {
    "duration": 0,
    "start_time": "2024-12-13T19:50:27.952Z"
   },
   {
    "duration": 0,
    "start_time": "2024-12-13T19:50:27.953Z"
   },
   {
    "duration": 0,
    "start_time": "2024-12-13T19:50:27.954Z"
   },
   {
    "duration": 41,
    "start_time": "2024-12-13T19:51:15.586Z"
   },
   {
    "duration": 9,
    "start_time": "2024-12-13T19:51:21.557Z"
   },
   {
    "duration": 17,
    "start_time": "2024-12-13T19:52:30.010Z"
   },
   {
    "duration": 40,
    "start_time": "2024-12-13T19:52:46.807Z"
   },
   {
    "duration": 11,
    "start_time": "2024-12-13T19:52:52.844Z"
   },
   {
    "duration": 15,
    "start_time": "2024-12-13T19:53:05.302Z"
   },
   {
    "duration": 51,
    "start_time": "2024-12-13T19:53:42.914Z"
   },
   {
    "duration": 9,
    "start_time": "2024-12-13T19:53:51.168Z"
   },
   {
    "duration": 9,
    "start_time": "2024-12-13T19:53:57.068Z"
   },
   {
    "duration": 102,
    "start_time": "2024-12-13T19:54:22.810Z"
   },
   {
    "duration": 18,
    "start_time": "2024-12-13T20:31:43.184Z"
   },
   {
    "duration": 111,
    "start_time": "2024-12-13T20:31:44.422Z"
   },
   {
    "duration": 126,
    "start_time": "2024-12-13T20:31:45.971Z"
   },
   {
    "duration": 12,
    "start_time": "2024-12-13T20:31:46.860Z"
   },
   {
    "duration": 12,
    "start_time": "2024-12-13T20:31:47.990Z"
   },
   {
    "duration": 2,
    "start_time": "2024-12-13T20:31:48.961Z"
   },
   {
    "duration": 31,
    "start_time": "2024-12-13T20:31:50.147Z"
   },
   {
    "duration": 3,
    "start_time": "2024-12-13T20:31:51.565Z"
   },
   {
    "duration": 3,
    "start_time": "2024-12-13T20:31:52.535Z"
   },
   {
    "duration": 3,
    "start_time": "2024-12-13T20:31:53.431Z"
   },
   {
    "duration": 3,
    "start_time": "2024-12-13T20:31:57.080Z"
   },
   {
    "duration": 3,
    "start_time": "2024-12-13T20:31:57.870Z"
   },
   {
    "duration": 9288,
    "start_time": "2024-12-13T20:32:11.897Z"
   },
   {
    "duration": 1896,
    "start_time": "2024-12-13T20:32:21.187Z"
   },
   {
    "duration": 2,
    "start_time": "2024-12-13T20:32:23.085Z"
   },
   {
    "duration": 21,
    "start_time": "2024-12-13T20:32:23.089Z"
   },
   {
    "duration": 1079,
    "start_time": "2024-12-13T20:32:23.111Z"
   },
   {
    "duration": 229,
    "start_time": "2024-12-13T20:32:24.192Z"
   },
   {
    "duration": 272,
    "start_time": "2024-12-13T20:32:24.422Z"
   },
   {
    "duration": 4,
    "start_time": "2024-12-13T20:32:24.695Z"
   },
   {
    "duration": 275,
    "start_time": "2024-12-13T20:32:24.701Z"
   },
   {
    "duration": 7,
    "start_time": "2024-12-13T20:32:24.980Z"
   },
   {
    "duration": 4977,
    "start_time": "2024-12-13T20:32:24.989Z"
   },
   {
    "duration": 3,
    "start_time": "2024-12-13T20:32:29.968Z"
   },
   {
    "duration": 1158,
    "start_time": "2024-12-13T20:32:29.973Z"
   },
   {
    "duration": 3,
    "start_time": "2024-12-13T20:32:31.133Z"
   },
   {
    "duration": 379,
    "start_time": "2024-12-13T20:32:31.137Z"
   },
   {
    "duration": 298,
    "start_time": "2024-12-13T20:32:31.517Z"
   },
   {
    "duration": 275,
    "start_time": "2024-12-13T20:32:31.816Z"
   },
   {
    "duration": 299,
    "start_time": "2024-12-13T20:32:32.093Z"
   },
   {
    "duration": 81,
    "start_time": "2024-12-13T20:32:32.394Z"
   },
   {
    "duration": 17,
    "start_time": "2024-12-13T20:32:32.476Z"
   },
   {
    "duration": 77,
    "start_time": "2024-12-13T20:32:32.494Z"
   },
   {
    "duration": 5,
    "start_time": "2024-12-13T20:32:32.572Z"
   },
   {
    "duration": 42,
    "start_time": "2024-12-13T20:32:32.579Z"
   },
   {
    "duration": 5,
    "start_time": "2024-12-13T20:32:32.622Z"
   },
   {
    "duration": 51,
    "start_time": "2024-12-13T20:32:32.628Z"
   },
   {
    "duration": 5,
    "start_time": "2024-12-13T20:32:32.681Z"
   },
   {
    "duration": 63,
    "start_time": "2024-12-13T20:32:32.688Z"
   },
   {
    "duration": 1234,
    "start_time": "2024-12-13T20:32:32.754Z"
   },
   {
    "duration": 2,
    "start_time": "2024-12-13T20:32:33.990Z"
   },
   {
    "duration": 26,
    "start_time": "2024-12-13T20:32:33.993Z"
   },
   {
    "duration": 108,
    "start_time": "2024-12-13T20:32:34.021Z"
   },
   {
    "duration": 119,
    "start_time": "2024-12-13T20:32:34.131Z"
   },
   {
    "duration": 10,
    "start_time": "2024-12-13T20:32:34.251Z"
   },
   {
    "duration": 24,
    "start_time": "2024-12-13T20:32:34.262Z"
   },
   {
    "duration": 5,
    "start_time": "2024-12-13T20:32:34.287Z"
   },
   {
    "duration": 45,
    "start_time": "2024-12-13T20:32:34.294Z"
   },
   {
    "duration": 3,
    "start_time": "2024-12-13T20:32:34.340Z"
   },
   {
    "duration": 6,
    "start_time": "2024-12-13T20:32:34.345Z"
   },
   {
    "duration": 3,
    "start_time": "2024-12-13T20:32:34.352Z"
   },
   {
    "duration": 3,
    "start_time": "2024-12-13T20:32:34.356Z"
   },
   {
    "duration": 2,
    "start_time": "2024-12-13T20:32:34.361Z"
   },
   {
    "duration": 2518,
    "start_time": "2024-12-13T20:32:34.365Z"
   },
   {
    "duration": 0,
    "start_time": "2024-12-13T20:32:36.884Z"
   },
   {
    "duration": 0,
    "start_time": "2024-12-13T20:32:36.885Z"
   },
   {
    "duration": 0,
    "start_time": "2024-12-13T20:32:36.886Z"
   },
   {
    "duration": 0,
    "start_time": "2024-12-13T20:32:36.887Z"
   },
   {
    "duration": 0,
    "start_time": "2024-12-13T20:32:36.888Z"
   },
   {
    "duration": 0,
    "start_time": "2024-12-13T20:32:36.890Z"
   },
   {
    "duration": 0,
    "start_time": "2024-12-13T20:32:36.891Z"
   },
   {
    "duration": 0,
    "start_time": "2024-12-13T20:32:36.892Z"
   },
   {
    "duration": 0,
    "start_time": "2024-12-13T20:32:36.893Z"
   },
   {
    "duration": 0,
    "start_time": "2024-12-13T20:32:36.894Z"
   },
   {
    "duration": 0,
    "start_time": "2024-12-13T20:32:36.895Z"
   },
   {
    "duration": 17,
    "start_time": "2024-12-13T20:33:49.119Z"
   },
   {
    "duration": 119,
    "start_time": "2024-12-13T20:33:49.736Z"
   },
   {
    "duration": 147,
    "start_time": "2024-12-13T20:33:50.691Z"
   },
   {
    "duration": 14,
    "start_time": "2024-12-13T20:33:51.249Z"
   },
   {
    "duration": 18,
    "start_time": "2024-12-13T20:33:51.770Z"
   },
   {
    "duration": 3,
    "start_time": "2024-12-13T20:33:52.293Z"
   },
   {
    "duration": 34,
    "start_time": "2024-12-13T20:34:30.851Z"
   },
   {
    "duration": 3,
    "start_time": "2024-12-13T20:34:31.926Z"
   },
   {
    "duration": 3,
    "start_time": "2024-12-13T20:34:32.759Z"
   },
   {
    "duration": 3,
    "start_time": "2024-12-13T20:34:33.391Z"
   },
   {
    "duration": 3,
    "start_time": "2024-12-13T20:34:35.685Z"
   },
   {
    "duration": 2,
    "start_time": "2024-12-13T20:34:36.456Z"
   },
   {
    "duration": 238981,
    "start_time": "2024-12-13T20:34:37.249Z"
   },
   {
    "duration": 10,
    "start_time": "2024-12-13T20:49:26.546Z"
   },
   {
    "duration": 26267,
    "start_time": "2024-12-13T20:49:41.965Z"
   },
   {
    "duration": 397,
    "start_time": "2024-12-13T20:50:23.530Z"
   },
   {
    "duration": 4,
    "start_time": "2024-12-13T20:50:40.266Z"
   },
   {
    "duration": 8,
    "start_time": "2024-12-13T20:52:39.106Z"
   },
   {
    "duration": 3,
    "start_time": "2024-12-13T20:52:58.761Z"
   },
   {
    "duration": 4,
    "start_time": "2024-12-13T20:53:02.662Z"
   },
   {
    "duration": 12071,
    "start_time": "2024-12-13T20:54:39.832Z"
   },
   {
    "duration": 1215,
    "start_time": "2024-12-13T20:54:51.905Z"
   },
   {
    "duration": 2,
    "start_time": "2024-12-13T20:54:53.122Z"
   },
   {
    "duration": 20,
    "start_time": "2024-12-13T20:54:53.126Z"
   },
   {
    "duration": 851,
    "start_time": "2024-12-13T20:54:53.147Z"
   },
   {
    "duration": 235,
    "start_time": "2024-12-13T20:54:54.000Z"
   },
   {
    "duration": 289,
    "start_time": "2024-12-13T20:54:54.237Z"
   },
   {
    "duration": 5,
    "start_time": "2024-12-13T20:54:54.527Z"
   },
   {
    "duration": 298,
    "start_time": "2024-12-13T20:54:54.533Z"
   },
   {
    "duration": 3,
    "start_time": "2024-12-13T20:54:54.833Z"
   },
   {
    "duration": 5267,
    "start_time": "2024-12-13T20:54:54.838Z"
   },
   {
    "duration": 3,
    "start_time": "2024-12-13T20:55:00.107Z"
   },
   {
    "duration": 1250,
    "start_time": "2024-12-13T20:55:00.111Z"
   },
   {
    "duration": 3,
    "start_time": "2024-12-13T20:55:01.362Z"
   },
   {
    "duration": 405,
    "start_time": "2024-12-13T20:55:01.367Z"
   },
   {
    "duration": 300,
    "start_time": "2024-12-13T20:55:01.774Z"
   },
   {
    "duration": 289,
    "start_time": "2024-12-13T20:55:02.076Z"
   },
   {
    "duration": 316,
    "start_time": "2024-12-13T20:55:02.367Z"
   },
   {
    "duration": 85,
    "start_time": "2024-12-13T20:55:02.694Z"
   },
   {
    "duration": 19,
    "start_time": "2024-12-13T20:55:02.780Z"
   },
   {
    "duration": 68,
    "start_time": "2024-12-13T20:55:02.801Z"
   },
   {
    "duration": 5,
    "start_time": "2024-12-13T20:55:02.871Z"
   },
   {
    "duration": 65,
    "start_time": "2024-12-13T20:55:02.877Z"
   },
   {
    "duration": 5,
    "start_time": "2024-12-13T20:55:02.944Z"
   },
   {
    "duration": 63,
    "start_time": "2024-12-13T20:55:02.950Z"
   },
   {
    "duration": 6,
    "start_time": "2024-12-13T20:55:03.014Z"
   },
   {
    "duration": 42,
    "start_time": "2024-12-13T20:55:03.021Z"
   },
   {
    "duration": 1283,
    "start_time": "2024-12-13T20:55:03.067Z"
   },
   {
    "duration": 2,
    "start_time": "2024-12-13T20:55:04.352Z"
   },
   {
    "duration": 40,
    "start_time": "2024-12-13T20:55:04.356Z"
   },
   {
    "duration": 132,
    "start_time": "2024-12-13T20:55:04.398Z"
   },
   {
    "duration": 144,
    "start_time": "2024-12-13T20:55:04.532Z"
   },
   {
    "duration": 16,
    "start_time": "2024-12-13T20:55:04.677Z"
   },
   {
    "duration": 15,
    "start_time": "2024-12-13T20:55:04.694Z"
   },
   {
    "duration": 18,
    "start_time": "2024-12-13T20:55:04.711Z"
   },
   {
    "duration": 55,
    "start_time": "2024-12-13T20:55:04.730Z"
   },
   {
    "duration": 4,
    "start_time": "2024-12-13T20:55:04.787Z"
   },
   {
    "duration": 18,
    "start_time": "2024-12-13T20:55:04.793Z"
   },
   {
    "duration": 22,
    "start_time": "2024-12-13T20:55:04.813Z"
   },
   {
    "duration": 16,
    "start_time": "2024-12-13T20:55:04.837Z"
   },
   {
    "duration": 7,
    "start_time": "2024-12-13T20:55:04.854Z"
   },
   {
    "duration": 228044,
    "start_time": "2024-12-13T20:55:04.862Z"
   },
   {
    "duration": 2,
    "start_time": "2024-12-13T20:58:52.908Z"
   },
   {
    "duration": 11,
    "start_time": "2024-12-13T20:58:52.912Z"
   },
   {
    "duration": 11,
    "start_time": "2024-12-13T20:58:52.924Z"
   },
   {
    "duration": 12,
    "start_time": "2024-12-13T20:58:52.936Z"
   },
   {
    "duration": 729749,
    "start_time": "2024-12-13T20:58:52.949Z"
   },
   {
    "duration": 3,
    "start_time": "2024-12-13T21:11:02.700Z"
   },
   {
    "duration": 135,
    "start_time": "2024-12-13T21:11:02.705Z"
   },
   {
    "duration": 3,
    "start_time": "2024-12-13T21:11:02.842Z"
   },
   {
    "duration": 11,
    "start_time": "2024-12-13T21:11:02.846Z"
   },
   {
    "duration": 569332,
    "start_time": "2024-12-13T21:11:02.859Z"
   },
   {
    "duration": 93,
    "start_time": "2024-12-13T21:20:32.194Z"
   },
   {
    "duration": 24,
    "start_time": "2024-12-13T21:20:32.289Z"
   },
   {
    "duration": 15,
    "start_time": "2024-12-13T21:20:32.314Z"
   },
   {
    "duration": 67,
    "start_time": "2024-12-13T21:20:32.332Z"
   },
   {
    "duration": 4,
    "start_time": "2024-12-13T21:22:46.455Z"
   },
   {
    "duration": 4,
    "start_time": "2024-12-13T21:22:50.599Z"
   },
   {
    "duration": 54,
    "start_time": "2024-12-13T21:30:00.771Z"
   },
   {
    "duration": 9627,
    "start_time": "2024-12-13T21:30:15.771Z"
   },
   {
    "duration": 1741,
    "start_time": "2024-12-13T21:30:25.403Z"
   },
   {
    "duration": 2,
    "start_time": "2024-12-13T21:30:27.146Z"
   },
   {
    "duration": 8,
    "start_time": "2024-12-13T21:30:27.150Z"
   },
   {
    "duration": 1144,
    "start_time": "2024-12-13T21:30:27.160Z"
   },
   {
    "duration": 255,
    "start_time": "2024-12-13T21:30:28.305Z"
   },
   {
    "duration": 278,
    "start_time": "2024-12-13T21:30:28.562Z"
   },
   {
    "duration": 3,
    "start_time": "2024-12-13T21:30:28.842Z"
   },
   {
    "duration": 297,
    "start_time": "2024-12-13T21:30:28.846Z"
   },
   {
    "duration": 3,
    "start_time": "2024-12-13T21:30:29.144Z"
   },
   {
    "duration": 5467,
    "start_time": "2024-12-13T21:30:29.149Z"
   },
   {
    "duration": 3,
    "start_time": "2024-12-13T21:30:34.617Z"
   },
   {
    "duration": 1243,
    "start_time": "2024-12-13T21:30:34.622Z"
   },
   {
    "duration": 3,
    "start_time": "2024-12-13T21:30:35.868Z"
   },
   {
    "duration": 427,
    "start_time": "2024-12-13T21:30:35.872Z"
   },
   {
    "duration": 293,
    "start_time": "2024-12-13T21:30:36.300Z"
   },
   {
    "duration": 278,
    "start_time": "2024-12-13T21:30:36.595Z"
   },
   {
    "duration": 323,
    "start_time": "2024-12-13T21:30:36.875Z"
   },
   {
    "duration": 84,
    "start_time": "2024-12-13T21:30:37.200Z"
   },
   {
    "duration": 17,
    "start_time": "2024-12-13T21:30:37.286Z"
   },
   {
    "duration": 67,
    "start_time": "2024-12-13T21:30:37.304Z"
   },
   {
    "duration": 5,
    "start_time": "2024-12-13T21:30:37.373Z"
   },
   {
    "duration": 38,
    "start_time": "2024-12-13T21:30:37.379Z"
   },
   {
    "duration": 5,
    "start_time": "2024-12-13T21:30:37.418Z"
   },
   {
    "duration": 38,
    "start_time": "2024-12-13T21:30:37.425Z"
   },
   {
    "duration": 5,
    "start_time": "2024-12-13T21:30:37.465Z"
   },
   {
    "duration": 53,
    "start_time": "2024-12-13T21:30:37.471Z"
   },
   {
    "duration": 1276,
    "start_time": "2024-12-13T21:30:37.525Z"
   },
   {
    "duration": 2,
    "start_time": "2024-12-13T21:30:38.803Z"
   },
   {
    "duration": 123,
    "start_time": "2024-12-13T21:30:38.807Z"
   },
   {
    "duration": 0,
    "start_time": "2024-12-13T21:30:38.932Z"
   },
   {
    "duration": 0,
    "start_time": "2024-12-13T21:30:38.933Z"
   },
   {
    "duration": 0,
    "start_time": "2024-12-13T21:30:38.934Z"
   },
   {
    "duration": 0,
    "start_time": "2024-12-13T21:30:38.935Z"
   },
   {
    "duration": 0,
    "start_time": "2024-12-13T21:30:38.936Z"
   },
   {
    "duration": 0,
    "start_time": "2024-12-13T21:30:38.937Z"
   },
   {
    "duration": 0,
    "start_time": "2024-12-13T21:30:38.938Z"
   },
   {
    "duration": 0,
    "start_time": "2024-12-13T21:30:38.939Z"
   },
   {
    "duration": 0,
    "start_time": "2024-12-13T21:30:38.940Z"
   },
   {
    "duration": 0,
    "start_time": "2024-12-13T21:30:38.941Z"
   },
   {
    "duration": 0,
    "start_time": "2024-12-13T21:30:38.942Z"
   },
   {
    "duration": 0,
    "start_time": "2024-12-13T21:30:38.943Z"
   },
   {
    "duration": 0,
    "start_time": "2024-12-13T21:30:38.944Z"
   },
   {
    "duration": 0,
    "start_time": "2024-12-13T21:30:38.946Z"
   },
   {
    "duration": 0,
    "start_time": "2024-12-13T21:30:38.947Z"
   },
   {
    "duration": 0,
    "start_time": "2024-12-13T21:30:38.948Z"
   },
   {
    "duration": 0,
    "start_time": "2024-12-13T21:30:38.949Z"
   },
   {
    "duration": 0,
    "start_time": "2024-12-13T21:30:38.950Z"
   },
   {
    "duration": 0,
    "start_time": "2024-12-13T21:30:38.951Z"
   },
   {
    "duration": 0,
    "start_time": "2024-12-13T21:30:38.952Z"
   },
   {
    "duration": 0,
    "start_time": "2024-12-13T21:30:38.953Z"
   },
   {
    "duration": 0,
    "start_time": "2024-12-13T21:30:38.955Z"
   },
   {
    "duration": 0,
    "start_time": "2024-12-13T21:30:38.955Z"
   },
   {
    "duration": 0,
    "start_time": "2024-12-13T21:30:38.956Z"
   },
   {
    "duration": 0,
    "start_time": "2024-12-13T21:30:38.957Z"
   },
   {
    "duration": 0,
    "start_time": "2024-12-13T21:30:38.986Z"
   },
   {
    "duration": 48,
    "start_time": "2024-12-13T21:37:22.444Z"
   },
   {
    "duration": 9220,
    "start_time": "2024-12-13T21:37:30.195Z"
   },
   {
    "duration": 1681,
    "start_time": "2024-12-13T21:37:39.418Z"
   },
   {
    "duration": 2,
    "start_time": "2024-12-13T21:37:41.101Z"
   },
   {
    "duration": 10,
    "start_time": "2024-12-13T21:37:41.105Z"
   },
   {
    "duration": 1032,
    "start_time": "2024-12-13T21:37:41.116Z"
   },
   {
    "duration": 226,
    "start_time": "2024-12-13T21:37:42.150Z"
   },
   {
    "duration": 274,
    "start_time": "2024-12-13T21:37:42.377Z"
   },
   {
    "duration": 4,
    "start_time": "2024-12-13T21:37:42.652Z"
   },
   {
    "duration": 273,
    "start_time": "2024-12-13T21:37:42.657Z"
   },
   {
    "duration": 3,
    "start_time": "2024-12-13T21:37:42.932Z"
   },
   {
    "duration": 4986,
    "start_time": "2024-12-13T21:37:42.937Z"
   },
   {
    "duration": 3,
    "start_time": "2024-12-13T21:37:47.925Z"
   },
   {
    "duration": 1162,
    "start_time": "2024-12-13T21:37:47.929Z"
   },
   {
    "duration": 3,
    "start_time": "2024-12-13T21:37:49.095Z"
   },
   {
    "duration": 377,
    "start_time": "2024-12-13T21:37:49.099Z"
   },
   {
    "duration": 275,
    "start_time": "2024-12-13T21:37:49.486Z"
   },
   {
    "duration": 267,
    "start_time": "2024-12-13T21:37:49.763Z"
   },
   {
    "duration": 298,
    "start_time": "2024-12-13T21:37:50.032Z"
   },
   {
    "duration": 90,
    "start_time": "2024-12-13T21:37:50.331Z"
   },
   {
    "duration": 8,
    "start_time": "2024-12-13T21:37:50.422Z"
   },
   {
    "duration": 66,
    "start_time": "2024-12-13T21:37:50.432Z"
   },
   {
    "duration": 5,
    "start_time": "2024-12-13T21:37:50.499Z"
   },
   {
    "duration": 92,
    "start_time": "2024-12-13T21:37:50.505Z"
   },
   {
    "duration": 5,
    "start_time": "2024-12-13T21:37:50.598Z"
   },
   {
    "duration": 35,
    "start_time": "2024-12-13T21:37:50.605Z"
   },
   {
    "duration": 5,
    "start_time": "2024-12-13T21:37:50.642Z"
   },
   {
    "duration": 57,
    "start_time": "2024-12-13T21:37:50.648Z"
   },
   {
    "duration": 1219,
    "start_time": "2024-12-13T21:37:50.707Z"
   },
   {
    "duration": 2,
    "start_time": "2024-12-13T21:37:51.928Z"
   },
   {
    "duration": 182,
    "start_time": "2024-12-13T21:37:51.931Z"
   },
   {
    "duration": 0,
    "start_time": "2024-12-13T21:37:52.115Z"
   },
   {
    "duration": 0,
    "start_time": "2024-12-13T21:37:52.116Z"
   },
   {
    "duration": 0,
    "start_time": "2024-12-13T21:37:52.117Z"
   },
   {
    "duration": 0,
    "start_time": "2024-12-13T21:37:52.118Z"
   },
   {
    "duration": 0,
    "start_time": "2024-12-13T21:37:52.119Z"
   },
   {
    "duration": 0,
    "start_time": "2024-12-13T21:37:52.120Z"
   },
   {
    "duration": 0,
    "start_time": "2024-12-13T21:37:52.121Z"
   },
   {
    "duration": 0,
    "start_time": "2024-12-13T21:37:52.122Z"
   },
   {
    "duration": 1,
    "start_time": "2024-12-13T21:37:52.122Z"
   },
   {
    "duration": 1,
    "start_time": "2024-12-13T21:37:52.123Z"
   },
   {
    "duration": 0,
    "start_time": "2024-12-13T21:37:52.125Z"
   },
   {
    "duration": 0,
    "start_time": "2024-12-13T21:37:52.125Z"
   },
   {
    "duration": 0,
    "start_time": "2024-12-13T21:37:52.126Z"
   },
   {
    "duration": 0,
    "start_time": "2024-12-13T21:37:52.127Z"
   },
   {
    "duration": 0,
    "start_time": "2024-12-13T21:37:52.128Z"
   },
   {
    "duration": 0,
    "start_time": "2024-12-13T21:37:52.129Z"
   },
   {
    "duration": 0,
    "start_time": "2024-12-13T21:37:52.130Z"
   },
   {
    "duration": 0,
    "start_time": "2024-12-13T21:37:52.131Z"
   },
   {
    "duration": 0,
    "start_time": "2024-12-13T21:37:52.132Z"
   },
   {
    "duration": 0,
    "start_time": "2024-12-13T21:37:52.132Z"
   },
   {
    "duration": 0,
    "start_time": "2024-12-13T21:37:52.133Z"
   },
   {
    "duration": 0,
    "start_time": "2024-12-13T21:37:52.134Z"
   },
   {
    "duration": 0,
    "start_time": "2024-12-13T21:37:52.135Z"
   },
   {
    "duration": 0,
    "start_time": "2024-12-13T21:37:52.136Z"
   },
   {
    "duration": 0,
    "start_time": "2024-12-13T21:37:52.136Z"
   },
   {
    "duration": 0,
    "start_time": "2024-12-13T21:37:52.137Z"
   },
   {
    "duration": 10,
    "start_time": "2024-12-13T21:38:02.907Z"
   },
   {
    "duration": 8,
    "start_time": "2024-12-13T21:38:32.184Z"
   },
   {
    "duration": 2,
    "start_time": "2024-12-13T21:38:37.566Z"
   },
   {
    "duration": 51,
    "start_time": "2024-12-13T21:43:54.454Z"
   },
   {
    "duration": 9683,
    "start_time": "2024-12-13T21:44:02.717Z"
   },
   {
    "duration": 1604,
    "start_time": "2024-12-13T21:44:12.403Z"
   },
   {
    "duration": 3,
    "start_time": "2024-12-13T21:44:14.008Z"
   },
   {
    "duration": 29,
    "start_time": "2024-12-13T21:44:14.012Z"
   },
   {
    "duration": 1064,
    "start_time": "2024-12-13T21:44:14.043Z"
   },
   {
    "duration": 262,
    "start_time": "2024-12-13T21:44:15.108Z"
   },
   {
    "duration": 301,
    "start_time": "2024-12-13T21:44:15.372Z"
   },
   {
    "duration": 4,
    "start_time": "2024-12-13T21:44:15.675Z"
   },
   {
    "duration": 258,
    "start_time": "2024-12-13T21:44:15.686Z"
   },
   {
    "duration": 4,
    "start_time": "2024-12-13T21:44:15.946Z"
   },
   {
    "duration": 5012,
    "start_time": "2024-12-13T21:44:15.951Z"
   },
   {
    "duration": 3,
    "start_time": "2024-12-13T21:44:20.964Z"
   },
   {
    "duration": 1184,
    "start_time": "2024-12-13T21:44:20.968Z"
   },
   {
    "duration": 3,
    "start_time": "2024-12-13T21:44:22.155Z"
   },
   {
    "duration": 365,
    "start_time": "2024-12-13T21:44:22.160Z"
   },
   {
    "duration": 299,
    "start_time": "2024-12-13T21:44:22.527Z"
   },
   {
    "duration": 290,
    "start_time": "2024-12-13T21:44:22.828Z"
   },
   {
    "duration": 336,
    "start_time": "2024-12-13T21:44:23.120Z"
   },
   {
    "duration": 99,
    "start_time": "2024-12-13T21:44:23.458Z"
   },
   {
    "duration": 9,
    "start_time": "2024-12-13T21:44:23.559Z"
   },
   {
    "duration": 68,
    "start_time": "2024-12-13T21:44:23.570Z"
   },
   {
    "duration": 6,
    "start_time": "2024-12-13T21:44:23.639Z"
   },
   {
    "duration": 52,
    "start_time": "2024-12-13T21:44:23.646Z"
   },
   {
    "duration": 5,
    "start_time": "2024-12-13T21:44:23.700Z"
   },
   {
    "duration": 54,
    "start_time": "2024-12-13T21:44:23.706Z"
   },
   {
    "duration": 5,
    "start_time": "2024-12-13T21:44:23.762Z"
   },
   {
    "duration": 94,
    "start_time": "2024-12-13T21:44:23.769Z"
   },
   {
    "duration": 1283,
    "start_time": "2024-12-13T21:44:23.864Z"
   },
   {
    "duration": 77,
    "start_time": "2024-12-13T21:44:25.148Z"
   },
   {
    "duration": 14,
    "start_time": "2024-12-13T21:44:25.227Z"
   },
   {
    "duration": 131,
    "start_time": "2024-12-13T21:44:25.243Z"
   },
   {
    "duration": 142,
    "start_time": "2024-12-13T21:44:25.387Z"
   },
   {
    "duration": 12,
    "start_time": "2024-12-13T21:44:25.532Z"
   },
   {
    "duration": 17,
    "start_time": "2024-12-13T21:44:25.546Z"
   },
   {
    "duration": 28,
    "start_time": "2024-12-13T21:44:25.564Z"
   },
   {
    "duration": 60,
    "start_time": "2024-12-13T21:44:25.594Z"
   },
   {
    "duration": 3,
    "start_time": "2024-12-13T21:44:25.655Z"
   },
   {
    "duration": 3,
    "start_time": "2024-12-13T21:44:25.660Z"
   },
   {
    "duration": 3,
    "start_time": "2024-12-13T21:44:25.665Z"
   },
   {
    "duration": 8,
    "start_time": "2024-12-13T21:44:25.669Z"
   },
   {
    "duration": 6,
    "start_time": "2024-12-13T21:44:25.681Z"
   },
   {
    "duration": 246319,
    "start_time": "2024-12-13T21:44:25.688Z"
   },
   {
    "duration": 3,
    "start_time": "2024-12-13T21:48:32.009Z"
   },
   {
    "duration": 43,
    "start_time": "2024-12-13T21:48:32.013Z"
   },
   {
    "duration": 7,
    "start_time": "2024-12-13T21:48:32.058Z"
   },
   {
    "duration": 9214,
    "start_time": "2024-12-13T21:50:59.717Z"
   },
   {
    "duration": 1160,
    "start_time": "2024-12-13T21:51:08.933Z"
   },
   {
    "duration": 2,
    "start_time": "2024-12-13T21:51:10.095Z"
   },
   {
    "duration": 15,
    "start_time": "2024-12-13T21:51:10.100Z"
   },
   {
    "duration": 774,
    "start_time": "2024-12-13T21:51:10.117Z"
   },
   {
    "duration": 225,
    "start_time": "2024-12-13T21:51:10.893Z"
   },
   {
    "duration": 267,
    "start_time": "2024-12-13T21:51:11.119Z"
   },
   {
    "duration": 5,
    "start_time": "2024-12-13T21:51:11.388Z"
   },
   {
    "duration": 263,
    "start_time": "2024-12-13T21:51:11.394Z"
   },
   {
    "duration": 4,
    "start_time": "2024-12-13T21:51:11.659Z"
   },
   {
    "duration": 4849,
    "start_time": "2024-12-13T21:51:11.664Z"
   },
   {
    "duration": 3,
    "start_time": "2024-12-13T21:51:16.515Z"
   },
   {
    "duration": 1167,
    "start_time": "2024-12-13T21:51:16.519Z"
   },
   {
    "duration": 2,
    "start_time": "2024-12-13T21:51:17.688Z"
   },
   {
    "duration": 370,
    "start_time": "2024-12-13T21:51:17.692Z"
   },
   {
    "duration": 301,
    "start_time": "2024-12-13T21:51:18.064Z"
   },
   {
    "duration": 280,
    "start_time": "2024-12-13T21:51:18.367Z"
   },
   {
    "duration": 304,
    "start_time": "2024-12-13T21:51:18.648Z"
   },
   {
    "duration": 86,
    "start_time": "2024-12-13T21:51:18.954Z"
   },
   {
    "duration": 8,
    "start_time": "2024-12-13T21:51:19.042Z"
   },
   {
    "duration": 64,
    "start_time": "2024-12-13T21:51:19.051Z"
   },
   {
    "duration": 5,
    "start_time": "2024-12-13T21:51:19.116Z"
   },
   {
    "duration": 40,
    "start_time": "2024-12-13T21:51:19.122Z"
   },
   {
    "duration": 5,
    "start_time": "2024-12-13T21:51:19.163Z"
   },
   {
    "duration": 35,
    "start_time": "2024-12-13T21:51:19.185Z"
   },
   {
    "duration": 5,
    "start_time": "2024-12-13T21:51:19.222Z"
   },
   {
    "duration": 37,
    "start_time": "2024-12-13T21:51:19.228Z"
   },
   {
    "duration": 1244,
    "start_time": "2024-12-13T21:51:19.268Z"
   },
   {
    "duration": 77,
    "start_time": "2024-12-13T21:51:20.514Z"
   },
   {
    "duration": 16,
    "start_time": "2024-12-13T21:51:20.592Z"
   },
   {
    "duration": 142,
    "start_time": "2024-12-13T21:51:20.609Z"
   },
   {
    "duration": 164,
    "start_time": "2024-12-13T21:51:20.753Z"
   },
   {
    "duration": 12,
    "start_time": "2024-12-13T21:51:20.919Z"
   },
   {
    "duration": 16,
    "start_time": "2024-12-13T21:51:20.932Z"
   },
   {
    "duration": 3,
    "start_time": "2024-12-13T21:51:20.950Z"
   },
   {
    "duration": 61,
    "start_time": "2024-12-13T21:51:20.955Z"
   },
   {
    "duration": 3,
    "start_time": "2024-12-13T21:51:21.018Z"
   },
   {
    "duration": 31,
    "start_time": "2024-12-13T21:51:21.022Z"
   },
   {
    "duration": 24,
    "start_time": "2024-12-13T21:51:21.054Z"
   },
   {
    "duration": 15,
    "start_time": "2024-12-13T21:51:21.080Z"
   },
   {
    "duration": 29,
    "start_time": "2024-12-13T21:51:21.097Z"
   },
   {
    "duration": 3094,
    "start_time": "2024-12-13T21:51:21.127Z"
   },
   {
    "duration": 0,
    "start_time": "2024-12-13T21:51:24.223Z"
   },
   {
    "duration": 0,
    "start_time": "2024-12-13T21:51:24.224Z"
   },
   {
    "duration": 0,
    "start_time": "2024-12-13T21:51:24.225Z"
   },
   {
    "duration": 0,
    "start_time": "2024-12-13T21:51:24.226Z"
   },
   {
    "duration": 0,
    "start_time": "2024-12-13T21:51:24.227Z"
   },
   {
    "duration": 0,
    "start_time": "2024-12-13T21:51:24.227Z"
   },
   {
    "duration": 0,
    "start_time": "2024-12-13T21:51:24.228Z"
   },
   {
    "duration": 0,
    "start_time": "2024-12-13T21:51:24.230Z"
   },
   {
    "duration": 0,
    "start_time": "2024-12-13T21:51:24.230Z"
   },
   {
    "duration": 0,
    "start_time": "2024-12-13T21:51:24.231Z"
   },
   {
    "duration": 0,
    "start_time": "2024-12-13T21:51:24.232Z"
   },
   {
    "duration": 0,
    "start_time": "2024-12-13T21:51:24.234Z"
   },
   {
    "duration": 9424,
    "start_time": "2024-12-13T21:53:03.379Z"
   },
   {
    "duration": 1193,
    "start_time": "2024-12-13T21:53:12.806Z"
   },
   {
    "duration": 3,
    "start_time": "2024-12-13T21:53:14.000Z"
   },
   {
    "duration": 81,
    "start_time": "2024-12-13T21:53:14.004Z"
   },
   {
    "duration": 770,
    "start_time": "2024-12-13T21:53:14.087Z"
   },
   {
    "duration": 240,
    "start_time": "2024-12-13T21:53:14.858Z"
   },
   {
    "duration": 268,
    "start_time": "2024-12-13T21:53:15.100Z"
   },
   {
    "duration": 5,
    "start_time": "2024-12-13T21:53:15.369Z"
   },
   {
    "duration": 287,
    "start_time": "2024-12-13T21:53:15.375Z"
   },
   {
    "duration": 4,
    "start_time": "2024-12-13T21:53:15.664Z"
   },
   {
    "duration": 4870,
    "start_time": "2024-12-13T21:53:15.670Z"
   },
   {
    "duration": 3,
    "start_time": "2024-12-13T21:53:20.542Z"
   },
   {
    "duration": 1139,
    "start_time": "2024-12-13T21:53:20.547Z"
   },
   {
    "duration": 3,
    "start_time": "2024-12-13T21:53:21.689Z"
   },
   {
    "duration": 366,
    "start_time": "2024-12-13T21:53:21.693Z"
   },
   {
    "duration": 282,
    "start_time": "2024-12-13T21:53:22.061Z"
   },
   {
    "duration": 272,
    "start_time": "2024-12-13T21:53:22.344Z"
   },
   {
    "duration": 299,
    "start_time": "2024-12-13T21:53:22.617Z"
   },
   {
    "duration": 87,
    "start_time": "2024-12-13T21:53:22.918Z"
   },
   {
    "duration": 8,
    "start_time": "2024-12-13T21:53:23.007Z"
   },
   {
    "duration": 55,
    "start_time": "2024-12-13T21:53:23.016Z"
   },
   {
    "duration": 16,
    "start_time": "2024-12-13T21:53:23.073Z"
   },
   {
    "duration": 38,
    "start_time": "2024-12-13T21:53:23.090Z"
   },
   {
    "duration": 5,
    "start_time": "2024-12-13T21:53:23.129Z"
   },
   {
    "duration": 51,
    "start_time": "2024-12-13T21:53:23.135Z"
   },
   {
    "duration": 5,
    "start_time": "2024-12-13T21:53:23.188Z"
   },
   {
    "duration": 35,
    "start_time": "2024-12-13T21:53:23.194Z"
   },
   {
    "duration": 1257,
    "start_time": "2024-12-13T21:53:23.231Z"
   },
   {
    "duration": 69,
    "start_time": "2024-12-13T21:53:24.489Z"
   },
   {
    "duration": 32,
    "start_time": "2024-12-13T21:53:24.559Z"
   },
   {
    "duration": 132,
    "start_time": "2024-12-13T21:53:24.592Z"
   },
   {
    "duration": 165,
    "start_time": "2024-12-13T21:53:24.725Z"
   },
   {
    "duration": 13,
    "start_time": "2024-12-13T21:53:24.891Z"
   },
   {
    "duration": 16,
    "start_time": "2024-12-13T21:53:24.906Z"
   },
   {
    "duration": 3,
    "start_time": "2024-12-13T21:53:24.924Z"
   },
   {
    "duration": 59,
    "start_time": "2024-12-13T21:53:24.929Z"
   },
   {
    "duration": 4,
    "start_time": "2024-12-13T21:53:24.990Z"
   },
   {
    "duration": 22,
    "start_time": "2024-12-13T21:53:24.995Z"
   },
   {
    "duration": 3,
    "start_time": "2024-12-13T21:53:25.019Z"
   },
   {
    "duration": 3,
    "start_time": "2024-12-13T21:53:25.024Z"
   },
   {
    "duration": 7,
    "start_time": "2024-12-13T21:53:25.031Z"
   },
   {
    "duration": 263094,
    "start_time": "2024-12-13T21:53:25.040Z"
   },
   {
    "duration": 62,
    "start_time": "2024-12-13T21:57:48.136Z"
   },
   {
    "duration": 3,
    "start_time": "2024-12-13T21:57:48.208Z"
   },
   {
    "duration": 5,
    "start_time": "2024-12-13T21:57:48.212Z"
   },
   {
    "duration": 1351134,
    "start_time": "2024-12-13T21:57:48.218Z"
   },
   {
    "duration": 3,
    "start_time": "2024-12-13T22:20:19.353Z"
   },
   {
    "duration": 188,
    "start_time": "2024-12-13T22:20:19.357Z"
   },
   {
    "duration": 3,
    "start_time": "2024-12-13T22:20:19.546Z"
   },
   {
    "duration": 6,
    "start_time": "2024-12-13T22:20:19.550Z"
   },
   {
    "duration": 0,
    "start_time": "2024-12-13T23:20:16.266Z"
   },
   {
    "duration": 0,
    "start_time": "2024-12-13T23:20:16.267Z"
   },
   {
    "duration": 0,
    "start_time": "2024-12-13T23:20:16.268Z"
   },
   {
    "duration": 47,
    "start_time": "2024-12-14T09:57:37.612Z"
   },
   {
    "duration": 13650,
    "start_time": "2024-12-14T10:22:42.965Z"
   },
   {
    "duration": 1523,
    "start_time": "2024-12-14T10:22:56.617Z"
   },
   {
    "duration": 0,
    "start_time": "2024-12-14T10:22:58.143Z"
   },
   {
    "duration": 0,
    "start_time": "2024-12-14T10:22:58.144Z"
   },
   {
    "duration": 0,
    "start_time": "2024-12-14T10:22:58.145Z"
   },
   {
    "duration": 0,
    "start_time": "2024-12-14T10:22:58.146Z"
   },
   {
    "duration": 0,
    "start_time": "2024-12-14T10:22:58.147Z"
   },
   {
    "duration": 0,
    "start_time": "2024-12-14T10:22:58.148Z"
   },
   {
    "duration": 0,
    "start_time": "2024-12-14T10:22:58.149Z"
   },
   {
    "duration": 0,
    "start_time": "2024-12-14T10:22:58.150Z"
   },
   {
    "duration": 0,
    "start_time": "2024-12-14T10:22:58.151Z"
   },
   {
    "duration": 0,
    "start_time": "2024-12-14T10:22:58.152Z"
   },
   {
    "duration": 0,
    "start_time": "2024-12-14T10:22:58.153Z"
   },
   {
    "duration": 0,
    "start_time": "2024-12-14T10:22:58.154Z"
   },
   {
    "duration": 0,
    "start_time": "2024-12-14T10:22:58.155Z"
   },
   {
    "duration": 0,
    "start_time": "2024-12-14T10:22:58.155Z"
   },
   {
    "duration": 0,
    "start_time": "2024-12-14T10:22:58.156Z"
   },
   {
    "duration": 0,
    "start_time": "2024-12-14T10:22:58.157Z"
   },
   {
    "duration": 0,
    "start_time": "2024-12-14T10:22:58.158Z"
   },
   {
    "duration": 0,
    "start_time": "2024-12-14T10:22:58.159Z"
   },
   {
    "duration": 0,
    "start_time": "2024-12-14T10:22:58.160Z"
   },
   {
    "duration": 0,
    "start_time": "2024-12-14T10:22:58.161Z"
   },
   {
    "duration": 0,
    "start_time": "2024-12-14T10:22:58.163Z"
   },
   {
    "duration": 0,
    "start_time": "2024-12-14T10:22:58.164Z"
   },
   {
    "duration": 0,
    "start_time": "2024-12-14T10:22:58.164Z"
   },
   {
    "duration": 0,
    "start_time": "2024-12-14T10:22:58.165Z"
   },
   {
    "duration": 0,
    "start_time": "2024-12-14T10:22:58.166Z"
   },
   {
    "duration": 0,
    "start_time": "2024-12-14T10:22:58.211Z"
   },
   {
    "duration": 0,
    "start_time": "2024-12-14T10:22:58.213Z"
   },
   {
    "duration": 0,
    "start_time": "2024-12-14T10:22:58.213Z"
   },
   {
    "duration": 0,
    "start_time": "2024-12-14T10:22:58.214Z"
   },
   {
    "duration": 0,
    "start_time": "2024-12-14T10:22:58.215Z"
   },
   {
    "duration": 0,
    "start_time": "2024-12-14T10:22:58.216Z"
   },
   {
    "duration": 0,
    "start_time": "2024-12-14T10:22:58.217Z"
   },
   {
    "duration": 0,
    "start_time": "2024-12-14T10:22:58.219Z"
   },
   {
    "duration": 0,
    "start_time": "2024-12-14T10:22:58.220Z"
   },
   {
    "duration": 0,
    "start_time": "2024-12-14T10:22:58.221Z"
   },
   {
    "duration": 0,
    "start_time": "2024-12-14T10:22:58.222Z"
   },
   {
    "duration": 0,
    "start_time": "2024-12-14T10:22:58.223Z"
   },
   {
    "duration": 0,
    "start_time": "2024-12-14T10:22:58.224Z"
   },
   {
    "duration": 0,
    "start_time": "2024-12-14T10:22:58.227Z"
   },
   {
    "duration": 0,
    "start_time": "2024-12-14T10:22:58.228Z"
   },
   {
    "duration": 0,
    "start_time": "2024-12-14T10:22:58.229Z"
   },
   {
    "duration": 0,
    "start_time": "2024-12-14T10:22:58.230Z"
   },
   {
    "duration": 0,
    "start_time": "2024-12-14T10:22:58.231Z"
   },
   {
    "duration": 0,
    "start_time": "2024-12-14T10:22:58.232Z"
   },
   {
    "duration": 0,
    "start_time": "2024-12-14T10:22:58.233Z"
   },
   {
    "duration": 0,
    "start_time": "2024-12-14T10:22:58.234Z"
   },
   {
    "duration": 0,
    "start_time": "2024-12-14T10:22:58.235Z"
   },
   {
    "duration": 0,
    "start_time": "2024-12-14T10:22:58.236Z"
   },
   {
    "duration": 0,
    "start_time": "2024-12-14T10:22:58.237Z"
   },
   {
    "duration": 0,
    "start_time": "2024-12-14T10:22:58.237Z"
   },
   {
    "duration": 0,
    "start_time": "2024-12-14T10:22:58.238Z"
   },
   {
    "duration": 0,
    "start_time": "2024-12-14T10:22:58.239Z"
   },
   {
    "duration": 0,
    "start_time": "2024-12-14T10:22:58.240Z"
   },
   {
    "duration": 0,
    "start_time": "2024-12-14T10:22:58.241Z"
   },
   {
    "duration": 0,
    "start_time": "2024-12-14T10:22:58.242Z"
   },
   {
    "duration": 0,
    "start_time": "2024-12-14T10:22:58.243Z"
   },
   {
    "duration": 10685,
    "start_time": "2024-12-14T10:23:47.697Z"
   },
   {
    "duration": 1221,
    "start_time": "2024-12-14T10:23:58.384Z"
   },
   {
    "duration": 2,
    "start_time": "2024-12-14T10:23:59.606Z"
   },
   {
    "duration": 7,
    "start_time": "2024-12-14T10:23:59.610Z"
   },
   {
    "duration": 1009,
    "start_time": "2024-12-14T10:23:59.618Z"
   },
   {
    "duration": 226,
    "start_time": "2024-12-14T10:24:00.629Z"
   },
   {
    "duration": 247,
    "start_time": "2024-12-14T10:24:00.857Z"
   },
   {
    "duration": 6,
    "start_time": "2024-12-14T10:24:01.105Z"
   },
   {
    "duration": 254,
    "start_time": "2024-12-14T10:24:01.112Z"
   },
   {
    "duration": 3,
    "start_time": "2024-12-14T10:24:01.369Z"
   },
   {
    "duration": 4787,
    "start_time": "2024-12-14T10:24:01.373Z"
   },
   {
    "duration": 3,
    "start_time": "2024-12-14T10:24:06.162Z"
   },
   {
    "duration": 1156,
    "start_time": "2024-12-14T10:24:06.166Z"
   },
   {
    "duration": 2,
    "start_time": "2024-12-14T10:24:07.324Z"
   },
   {
    "duration": 339,
    "start_time": "2024-12-14T10:24:07.327Z"
   },
   {
    "duration": 294,
    "start_time": "2024-12-14T10:24:07.667Z"
   },
   {
    "duration": 289,
    "start_time": "2024-12-14T10:24:07.963Z"
   },
   {
    "duration": 295,
    "start_time": "2024-12-14T10:24:08.253Z"
   },
   {
    "duration": 81,
    "start_time": "2024-12-14T10:24:08.550Z"
   },
   {
    "duration": 20,
    "start_time": "2024-12-14T10:24:08.633Z"
   },
   {
    "duration": 13,
    "start_time": "2024-12-14T10:24:08.654Z"
   },
   {
    "duration": 61,
    "start_time": "2024-12-14T10:24:08.668Z"
   },
   {
    "duration": 4,
    "start_time": "2024-12-14T10:24:08.731Z"
   },
   {
    "duration": 41,
    "start_time": "2024-12-14T10:24:08.737Z"
   },
   {
    "duration": 5,
    "start_time": "2024-12-14T10:24:08.780Z"
   },
   {
    "duration": 43,
    "start_time": "2024-12-14T10:24:08.786Z"
   },
   {
    "duration": 5,
    "start_time": "2024-12-14T10:24:08.831Z"
   },
   {
    "duration": 4,
    "start_time": "2024-12-14T10:24:08.839Z"
   },
   {
    "duration": 35,
    "start_time": "2024-12-14T10:24:08.844Z"
   },
   {
    "duration": 32,
    "start_time": "2024-12-14T10:24:08.880Z"
   },
   {
    "duration": 42,
    "start_time": "2024-12-14T10:24:08.913Z"
   },
   {
    "duration": 75,
    "start_time": "2024-12-14T10:24:08.956Z"
   },
   {
    "duration": 13,
    "start_time": "2024-12-14T10:24:09.033Z"
   },
   {
    "duration": 121,
    "start_time": "2024-12-14T10:24:09.047Z"
   },
   {
    "duration": 150,
    "start_time": "2024-12-14T10:24:09.169Z"
   },
   {
    "duration": 11,
    "start_time": "2024-12-14T10:24:09.320Z"
   },
   {
    "duration": 18,
    "start_time": "2024-12-14T10:24:09.333Z"
   },
   {
    "duration": 3,
    "start_time": "2024-12-14T10:24:09.352Z"
   },
   {
    "duration": 55,
    "start_time": "2024-12-14T10:24:09.356Z"
   },
   {
    "duration": 3,
    "start_time": "2024-12-14T10:24:09.412Z"
   },
   {
    "duration": 6,
    "start_time": "2024-12-14T10:24:09.417Z"
   },
   {
    "duration": 17,
    "start_time": "2024-12-14T10:24:09.424Z"
   },
   {
    "duration": 3,
    "start_time": "2024-12-14T10:24:09.442Z"
   },
   {
    "duration": 2,
    "start_time": "2024-12-14T10:24:09.446Z"
   },
   {
    "duration": 174,
    "start_time": "2024-12-14T10:24:09.449Z"
   },
   {
    "duration": 0,
    "start_time": "2024-12-14T10:24:09.624Z"
   },
   {
    "duration": 0,
    "start_time": "2024-12-14T10:24:09.626Z"
   },
   {
    "duration": 0,
    "start_time": "2024-12-14T10:24:09.626Z"
   },
   {
    "duration": 0,
    "start_time": "2024-12-14T10:24:09.628Z"
   },
   {
    "duration": 0,
    "start_time": "2024-12-14T10:24:09.629Z"
   },
   {
    "duration": 0,
    "start_time": "2024-12-14T10:24:09.630Z"
   },
   {
    "duration": 0,
    "start_time": "2024-12-14T10:24:09.632Z"
   },
   {
    "duration": 0,
    "start_time": "2024-12-14T10:24:09.633Z"
   },
   {
    "duration": 0,
    "start_time": "2024-12-14T10:24:09.634Z"
   },
   {
    "duration": 0,
    "start_time": "2024-12-14T10:24:09.635Z"
   },
   {
    "duration": 0,
    "start_time": "2024-12-14T10:24:09.636Z"
   },
   {
    "duration": 0,
    "start_time": "2024-12-14T10:24:09.638Z"
   },
   {
    "duration": 0,
    "start_time": "2024-12-14T10:24:09.639Z"
   },
   {
    "duration": 15571,
    "start_time": "2024-12-14T10:26:51.665Z"
   },
   {
    "duration": 1273,
    "start_time": "2024-12-14T10:27:07.238Z"
   },
   {
    "duration": 3,
    "start_time": "2024-12-14T10:27:13.078Z"
   },
   {
    "duration": 3,
    "start_time": "2024-12-14T10:27:16.978Z"
   },
   {
    "duration": 134169,
    "start_time": "2024-12-14T10:27:17.647Z"
   },
   {
    "duration": 985,
    "start_time": "2024-12-14T10:29:31.818Z"
   },
   {
    "duration": 125,
    "start_time": "2024-12-14T10:29:32.805Z"
   },
   {
    "duration": 3,
    "start_time": "2024-12-14T10:29:32.932Z"
   },
   {
    "duration": 15,
    "start_time": "2024-12-14T10:29:32.936Z"
   },
   {
    "duration": 4564,
    "start_time": "2024-12-14T10:29:32.952Z"
   },
   {
    "duration": 1900,
    "start_time": "2024-12-14T10:29:37.518Z"
   },
   {
    "duration": 93,
    "start_time": "2024-12-14T10:29:39.420Z"
   },
   {
    "duration": 6,
    "start_time": "2024-12-14T10:29:39.514Z"
   },
   {
    "duration": 705,
    "start_time": "2024-12-14T11:36:45.511Z"
   },
   {
    "duration": 3,
    "start_time": "2024-12-14T11:37:22.691Z"
   },
   {
    "duration": 14,
    "start_time": "2024-12-14T11:59:12.820Z"
   },
   {
    "duration": 19,
    "start_time": "2024-12-14T11:59:25.911Z"
   },
   {
    "duration": 5,
    "start_time": "2024-12-14T12:00:46.689Z"
   },
   {
    "duration": 5,
    "start_time": "2024-12-14T12:02:06.313Z"
   },
   {
    "duration": 4,
    "start_time": "2024-12-14T12:02:10.818Z"
   },
   {
    "duration": 5,
    "start_time": "2024-12-14T12:02:21.590Z"
   },
   {
    "duration": 5,
    "start_time": "2024-12-14T12:02:29.606Z"
   },
   {
    "duration": 232,
    "start_time": "2024-12-14T12:02:57.403Z"
   },
   {
    "duration": 476,
    "start_time": "2024-12-14T12:04:33.224Z"
   },
   {
    "duration": 183,
    "start_time": "2024-12-14T12:05:36.788Z"
   },
   {
    "duration": 8,
    "start_time": "2024-12-14T12:22:16.463Z"
   },
   {
    "duration": 4,
    "start_time": "2024-12-14T12:22:24.664Z"
   },
   {
    "duration": 12,
    "start_time": "2024-12-14T12:22:27.260Z"
   },
   {
    "duration": 129,
    "start_time": "2024-12-14T12:22:59.443Z"
   },
   {
    "duration": 130,
    "start_time": "2024-12-14T12:23:35.318Z"
   },
   {
    "duration": 135,
    "start_time": "2024-12-14T12:24:05.406Z"
   },
   {
    "duration": 11,
    "start_time": "2024-12-14T12:26:39.765Z"
   },
   {
    "duration": 5,
    "start_time": "2024-12-14T12:27:13.613Z"
   },
   {
    "duration": 4,
    "start_time": "2024-12-14T12:27:17.852Z"
   },
   {
    "duration": 2,
    "start_time": "2024-12-14T12:27:19.152Z"
   },
   {
    "duration": 126,
    "start_time": "2024-12-14T12:27:24.087Z"
   },
   {
    "duration": 140,
    "start_time": "2024-12-14T12:27:31.475Z"
   },
   {
    "duration": 4,
    "start_time": "2024-12-14T12:28:12.122Z"
   },
   {
    "duration": 10024,
    "start_time": "2024-12-14T12:36:42.464Z"
   },
   {
    "duration": 1218,
    "start_time": "2024-12-14T12:36:52.490Z"
   },
   {
    "duration": 2,
    "start_time": "2024-12-14T12:36:53.709Z"
   },
   {
    "duration": 4,
    "start_time": "2024-12-14T12:36:53.713Z"
   },
   {
    "duration": 751,
    "start_time": "2024-12-14T12:36:53.718Z"
   },
   {
    "duration": 217,
    "start_time": "2024-12-14T12:36:54.471Z"
   },
   {
    "duration": 264,
    "start_time": "2024-12-14T12:36:54.689Z"
   },
   {
    "duration": 2,
    "start_time": "2024-12-14T12:36:54.955Z"
   },
   {
    "duration": 246,
    "start_time": "2024-12-14T12:36:54.959Z"
   },
   {
    "duration": 3,
    "start_time": "2024-12-14T12:36:55.210Z"
   },
   {
    "duration": 4797,
    "start_time": "2024-12-14T12:36:55.215Z"
   },
   {
    "duration": 3,
    "start_time": "2024-12-14T12:37:00.014Z"
   },
   {
    "duration": 1175,
    "start_time": "2024-12-14T12:37:00.019Z"
   },
   {
    "duration": 3,
    "start_time": "2024-12-14T12:37:01.195Z"
   },
   {
    "duration": 357,
    "start_time": "2024-12-14T12:37:01.211Z"
   },
   {
    "duration": 270,
    "start_time": "2024-12-14T12:37:01.569Z"
   },
   {
    "duration": 266,
    "start_time": "2024-12-14T12:37:01.841Z"
   },
   {
    "duration": 289,
    "start_time": "2024-12-14T12:37:02.108Z"
   },
   {
    "duration": 84,
    "start_time": "2024-12-14T12:37:02.400Z"
   },
   {
    "duration": 31,
    "start_time": "2024-12-14T12:37:02.485Z"
   },
   {
    "duration": 41,
    "start_time": "2024-12-14T12:37:02.517Z"
   },
   {
    "duration": 20,
    "start_time": "2024-12-14T12:37:02.560Z"
   },
   {
    "duration": 49,
    "start_time": "2024-12-14T12:37:02.583Z"
   },
   {
    "duration": 64,
    "start_time": "2024-12-14T12:37:02.633Z"
   },
   {
    "duration": 6,
    "start_time": "2024-12-14T12:37:02.699Z"
   },
   {
    "duration": 44,
    "start_time": "2024-12-14T12:37:02.707Z"
   },
   {
    "duration": 6,
    "start_time": "2024-12-14T12:37:02.752Z"
   },
   {
    "duration": 63,
    "start_time": "2024-12-14T12:37:02.763Z"
   },
   {
    "duration": 120,
    "start_time": "2024-12-14T12:37:02.828Z"
   },
   {
    "duration": 6,
    "start_time": "2024-12-14T12:37:02.949Z"
   },
   {
    "duration": 40,
    "start_time": "2024-12-14T12:37:02.957Z"
   },
   {
    "duration": 19,
    "start_time": "2024-12-14T12:37:02.998Z"
   },
   {
    "duration": 55,
    "start_time": "2024-12-14T12:37:03.018Z"
   },
   {
    "duration": 64,
    "start_time": "2024-12-14T12:37:03.074Z"
   },
   {
    "duration": 15,
    "start_time": "2024-12-14T12:37:03.140Z"
   },
   {
    "duration": 132,
    "start_time": "2024-12-14T12:37:03.156Z"
   },
   {
    "duration": 151,
    "start_time": "2024-12-14T12:37:03.290Z"
   },
   {
    "duration": 11,
    "start_time": "2024-12-14T12:37:03.442Z"
   },
   {
    "duration": 19,
    "start_time": "2024-12-14T12:37:03.454Z"
   },
   {
    "duration": 2,
    "start_time": "2024-12-14T12:37:03.474Z"
   },
   {
    "duration": 51,
    "start_time": "2024-12-14T12:37:03.478Z"
   },
   {
    "duration": 3,
    "start_time": "2024-12-14T12:37:03.530Z"
   },
   {
    "duration": 21,
    "start_time": "2024-12-14T12:37:03.535Z"
   },
   {
    "duration": 17,
    "start_time": "2024-12-14T12:37:03.557Z"
   },
   {
    "duration": 6,
    "start_time": "2024-12-14T12:37:03.575Z"
   },
   {
    "duration": 28,
    "start_time": "2024-12-14T12:37:03.583Z"
   },
   {
    "duration": 13,
    "start_time": "2024-12-14T12:37:03.612Z"
   },
   {
    "duration": 16702,
    "start_time": "2024-12-14T12:37:03.626Z"
   },
   {
    "duration": 1187,
    "start_time": "2024-12-14T12:37:20.329Z"
   },
   {
    "duration": 3,
    "start_time": "2024-12-14T12:37:21.518Z"
   },
   {
    "duration": 18,
    "start_time": "2024-12-14T12:37:21.612Z"
   },
   {
    "duration": 138117,
    "start_time": "2024-12-14T12:37:21.631Z"
   },
   {
    "duration": 1052,
    "start_time": "2024-12-14T12:39:39.750Z"
   },
   {
    "duration": 210,
    "start_time": "2024-12-14T12:39:40.803Z"
   },
   {
    "duration": 0,
    "start_time": "2024-12-14T12:39:41.015Z"
   },
   {
    "duration": 0,
    "start_time": "2024-12-14T12:39:41.017Z"
   },
   {
    "duration": 0,
    "start_time": "2024-12-14T12:39:41.018Z"
   },
   {
    "duration": 0,
    "start_time": "2024-12-14T12:39:41.020Z"
   },
   {
    "duration": 0,
    "start_time": "2024-12-14T12:39:41.021Z"
   },
   {
    "duration": 0,
    "start_time": "2024-12-14T12:39:41.022Z"
   },
   {
    "duration": 0,
    "start_time": "2024-12-14T12:39:41.024Z"
   },
   {
    "duration": 0,
    "start_time": "2024-12-14T12:39:41.025Z"
   },
   {
    "duration": 0,
    "start_time": "2024-12-14T12:39:41.026Z"
   },
   {
    "duration": 0,
    "start_time": "2024-12-14T12:39:41.028Z"
   },
   {
    "duration": 0,
    "start_time": "2024-12-14T12:39:41.029Z"
   },
   {
    "duration": 3,
    "start_time": "2024-12-14T12:41:20.944Z"
   },
   {
    "duration": 205,
    "start_time": "2024-12-14T12:41:28.890Z"
   },
   {
    "duration": 51,
    "start_time": "2024-12-14T20:39:39.708Z"
   },
   {
    "duration": 16644,
    "start_time": "2024-12-14T20:39:46.739Z"
   },
   {
    "duration": 1476,
    "start_time": "2024-12-14T20:40:03.385Z"
   },
   {
    "duration": 3,
    "start_time": "2024-12-14T20:40:04.863Z"
   },
   {
    "duration": 17,
    "start_time": "2024-12-14T20:40:04.868Z"
   },
   {
    "duration": 1159,
    "start_time": "2024-12-14T20:40:04.886Z"
   },
   {
    "duration": 251,
    "start_time": "2024-12-14T20:40:06.047Z"
   },
   {
    "duration": 286,
    "start_time": "2024-12-14T20:40:06.300Z"
   },
   {
    "duration": 5,
    "start_time": "2024-12-14T20:40:06.588Z"
   },
   {
    "duration": 330,
    "start_time": "2024-12-14T20:40:06.594Z"
   },
   {
    "duration": 4,
    "start_time": "2024-12-14T20:40:06.928Z"
   },
   {
    "duration": 5497,
    "start_time": "2024-12-14T20:40:06.934Z"
   },
   {
    "duration": 3,
    "start_time": "2024-12-14T20:40:12.433Z"
   },
   {
    "duration": 1292,
    "start_time": "2024-12-14T20:40:12.438Z"
   },
   {
    "duration": 3,
    "start_time": "2024-12-14T20:40:13.731Z"
   },
   {
    "duration": 378,
    "start_time": "2024-12-14T20:40:13.735Z"
   },
   {
    "duration": 308,
    "start_time": "2024-12-14T20:40:14.114Z"
   },
   {
    "duration": 270,
    "start_time": "2024-12-14T20:40:14.423Z"
   },
   {
    "duration": 334,
    "start_time": "2024-12-14T20:40:14.695Z"
   },
   {
    "duration": 93,
    "start_time": "2024-12-14T20:40:15.030Z"
   },
   {
    "duration": 22,
    "start_time": "2024-12-14T20:40:15.125Z"
   },
   {
    "duration": 72,
    "start_time": "2024-12-14T20:40:15.149Z"
   },
   {
    "duration": 56,
    "start_time": "2024-12-14T20:40:15.222Z"
   },
   {
    "duration": 41,
    "start_time": "2024-12-14T20:40:15.280Z"
   },
   {
    "duration": 83,
    "start_time": "2024-12-14T20:40:15.328Z"
   },
   {
    "duration": 7,
    "start_time": "2024-12-14T20:40:15.413Z"
   },
   {
    "duration": 36,
    "start_time": "2024-12-14T20:40:15.421Z"
   },
   {
    "duration": 7,
    "start_time": "2024-12-14T20:40:15.459Z"
   },
   {
    "duration": 86,
    "start_time": "2024-12-14T20:40:15.472Z"
   },
   {
    "duration": 158,
    "start_time": "2024-12-14T20:40:15.560Z"
   },
   {
    "duration": 5,
    "start_time": "2024-12-14T20:40:15.719Z"
   },
   {
    "duration": 45,
    "start_time": "2024-12-14T20:40:15.726Z"
   },
   {
    "duration": 19,
    "start_time": "2024-12-14T20:40:15.772Z"
   },
   {
    "duration": 53,
    "start_time": "2024-12-14T20:40:15.793Z"
   },
   {
    "duration": 80,
    "start_time": "2024-12-14T20:40:15.848Z"
   },
   {
    "duration": 14,
    "start_time": "2024-12-14T20:40:15.930Z"
   },
   {
    "duration": 146,
    "start_time": "2024-12-14T20:40:15.946Z"
   },
   {
    "duration": 170,
    "start_time": "2024-12-14T20:40:16.094Z"
   },
   {
    "duration": 21,
    "start_time": "2024-12-14T20:40:16.265Z"
   },
   {
    "duration": 19,
    "start_time": "2024-12-14T20:40:16.288Z"
   },
   {
    "duration": 4,
    "start_time": "2024-12-14T20:40:16.308Z"
   },
   {
    "duration": 38,
    "start_time": "2024-12-14T20:40:16.313Z"
   },
   {
    "duration": 4,
    "start_time": "2024-12-14T20:40:16.352Z"
   },
   {
    "duration": 3,
    "start_time": "2024-12-14T20:40:16.357Z"
   },
   {
    "duration": 33,
    "start_time": "2024-12-14T20:40:16.362Z"
   },
   {
    "duration": 15,
    "start_time": "2024-12-14T20:40:16.396Z"
   },
   {
    "duration": 4,
    "start_time": "2024-12-14T20:40:16.413Z"
   },
   {
    "duration": 11,
    "start_time": "2024-12-14T20:40:16.419Z"
   },
   {
    "duration": 24984,
    "start_time": "2024-12-14T20:40:16.431Z"
   },
   {
    "duration": 1278,
    "start_time": "2024-12-14T20:40:41.418Z"
   },
   {
    "duration": 325032,
    "start_time": "2024-12-14T20:40:42.698Z"
   },
   {
    "duration": 57,
    "start_time": "2024-12-14T20:46:07.732Z"
   },
   {
    "duration": 6,
    "start_time": "2024-12-14T20:46:07.791Z"
   },
   {
    "duration": 153006,
    "start_time": "2024-12-14T20:46:07.799Z"
   },
   {
    "duration": 1144,
    "start_time": "2024-12-14T20:48:40.807Z"
   },
   {
    "duration": 841268,
    "start_time": "2024-12-14T20:48:41.953Z"
   },
   {
    "duration": 124,
    "start_time": "2024-12-14T21:02:43.223Z"
   },
   {
    "duration": 121,
    "start_time": "2024-12-14T21:02:43.349Z"
   },
   {
    "duration": 3,
    "start_time": "2024-12-14T21:02:43.471Z"
   },
   {
    "duration": 12,
    "start_time": "2024-12-14T21:02:43.475Z"
   },
   {
    "duration": 4198,
    "start_time": "2024-12-14T21:02:43.489Z"
   },
   {
    "duration": 1905,
    "start_time": "2024-12-14T21:02:47.689Z"
   },
   {
    "duration": 61790,
    "start_time": "2024-12-14T21:02:49.596Z"
   },
   {
    "duration": 192,
    "start_time": "2024-12-14T21:03:51.388Z"
   },
   {
    "duration": 7,
    "start_time": "2024-12-14T21:03:51.581Z"
   },
   {
    "duration": 24,
    "start_time": "2024-12-14T21:03:51.589Z"
   },
   {
    "duration": 15,
    "start_time": "2024-12-14T21:03:51.615Z"
   },
   {
    "duration": 564,
    "start_time": "2024-12-14T21:03:51.631Z"
   },
   {
    "duration": 92,
    "start_time": "2024-12-14T21:03:52.197Z"
   }
  ],
  "kernelspec": {
   "display_name": "Python 3 (ipykernel)",
   "language": "python",
   "name": "python3"
  },
  "language_info": {
   "codemirror_mode": {
    "name": "ipython",
    "version": 3
   },
   "file_extension": ".py",
   "mimetype": "text/x-python",
   "name": "python",
   "nbconvert_exporter": "python",
   "pygments_lexer": "ipython3",
   "version": "3.9.5"
  },
  "toc": {
   "base_numbering": 1,
   "nav_menu": {},
   "number_sections": true,
   "sideBar": true,
   "skip_h1_title": true,
   "title_cell": "Table of Contents",
   "title_sidebar": "Contents",
   "toc_cell": false,
   "toc_position": {},
   "toc_section_display": true,
   "toc_window_display": false
  }
 },
 "nbformat": 4,
 "nbformat_minor": 2
}
