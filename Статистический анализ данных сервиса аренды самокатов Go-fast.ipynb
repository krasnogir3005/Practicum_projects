{
 "cells": [
  {
   "cell_type": "markdown",
   "id": "330c2561",
   "metadata": {
    "toc": true
   },
   "source": [
    "<h1>Содержание<span class=\"tocSkip\"></span></h1>\n",
    "<div class=\"toc\"><ul class=\"toc-item\"><li><span><a href=\"#Шаг-1.-Загрузка-данных\" data-toc-modified-id=\"Шаг-1.-Загрузка-данных-1\"><span class=\"toc-item-num\">1&nbsp;&nbsp;</span>Шаг 1. Загрузка данных</a></span><ul class=\"toc-item\"><li><span><a href=\"#Загрузка-csv-файлов\" data-toc-modified-id=\"Загрузка-csv-файлов-1.1\"><span class=\"toc-item-num\">1.1&nbsp;&nbsp;</span>Загрузка csv-файлов</a></span></li><li><span><a href=\"#Вывод-датафреймов-и-информации-о-них\" data-toc-modified-id=\"Вывод-датафреймов-и-информации-о-них-1.2\"><span class=\"toc-item-num\">1.2&nbsp;&nbsp;</span>Вывод датафреймов и информации о них</a></span></li></ul></li><li><span><a href=\"#Шаг-2.-Предобработка-данных\" data-toc-modified-id=\"Шаг-2.-Предобработка-данных-2\"><span class=\"toc-item-num\">2&nbsp;&nbsp;</span>Шаг 2. Предобработка данных</a></span><ul class=\"toc-item\"><li><span><a href=\"#Перевод-формата-столбца-date\" data-toc-modified-id=\"Перевод-формата-столбца-date-2.1\"><span class=\"toc-item-num\">2.1&nbsp;&nbsp;</span>Перевод формата столбца date</a></span></li><li><span><a href=\"#Новый-столбец-month-с-месяцем-из-date\" data-toc-modified-id=\"Новый-столбец-month-с-месяцем-из-date-2.2\"><span class=\"toc-item-num\">2.2&nbsp;&nbsp;</span>Новый столбец month с месяцем из date</a></span></li><li><span><a href=\"#Поиск-и-удаление/замена-дупликатов/пропущенных-значений\" data-toc-modified-id=\"Поиск-и-удаление/замена-дупликатов/пропущенных-значений-2.3\"><span class=\"toc-item-num\">2.3&nbsp;&nbsp;</span>Поиск и удаление/замена дупликатов/пропущенных значений</a></span><ul class=\"toc-item\"><li><span><a href=\"#Users---пользователи\" data-toc-modified-id=\"Users---пользователи-2.3.1\"><span class=\"toc-item-num\">2.3.1&nbsp;&nbsp;</span>Users - пользователи</a></span></li><li><span><a href=\"#Rides---поездки\" data-toc-modified-id=\"Rides---поездки-2.3.2\"><span class=\"toc-item-num\">2.3.2&nbsp;&nbsp;</span>Rides - поездки</a></span></li><li><span><a href=\"#Subscriptions---подписки\" data-toc-modified-id=\"Subscriptions---подписки-2.3.3\"><span class=\"toc-item-num\">2.3.3&nbsp;&nbsp;</span>Subscriptions - подписки</a></span></li></ul></li></ul></li><li><span><a href=\"#Шаг-3.-Исследовательский-анализ-данных\" data-toc-modified-id=\"Шаг-3.-Исследовательский-анализ-данных-3\"><span class=\"toc-item-num\">3&nbsp;&nbsp;</span>Шаг 3. Исследовательский анализ данных</a></span><ul class=\"toc-item\"><li><span><a href=\"#Частота-встречаемости-городов\" data-toc-modified-id=\"Частота-встречаемости-городов-3.1\"><span class=\"toc-item-num\">3.1&nbsp;&nbsp;</span>Частота встречаемости городов</a></span></li><li><span><a href=\"#Соотношение-пользователей-с-подпиской-и-без-подписки\" data-toc-modified-id=\"Соотношение-пользователей-с-подпиской-и-без-подписки-3.2\"><span class=\"toc-item-num\">3.2&nbsp;&nbsp;</span>Соотношение пользователей с подпиской и без подписки</a></span></li><li><span><a href=\"#Возраст-пользователей\" data-toc-modified-id=\"Возраст-пользователей-3.3\"><span class=\"toc-item-num\">3.3&nbsp;&nbsp;</span>Возраст пользователей</a></span></li><li><span><a href=\"#Расстояние,-которое-пользователь-преодолел-за-одну-поездку\" data-toc-modified-id=\"Расстояние,-которое-пользователь-преодолел-за-одну-поездку-3.4\"><span class=\"toc-item-num\">3.4&nbsp;&nbsp;</span>Расстояние, которое пользователь преодолел за одну поездку</a></span></li><li><span><a href=\"#Продолжительность-поездок\" data-toc-modified-id=\"Продолжительность-поездок-3.5\"><span class=\"toc-item-num\">3.5&nbsp;&nbsp;</span>Продолжительность поездок</a></span></li></ul></li><li><span><a href=\"#Шаг-4.-Объединение-данных\" data-toc-modified-id=\"Шаг-4.-Объединение-данных-4\"><span class=\"toc-item-num\">4&nbsp;&nbsp;</span>Шаг 4. Объединение данных</a></span><ul class=\"toc-item\"><li><span><a href=\"#Объединение-данных-в-общий-датафрейм\" data-toc-modified-id=\"Объединение-данных-в-общий-датафрейм-4.1\"><span class=\"toc-item-num\">4.1&nbsp;&nbsp;</span>Объединение данных в общий датафрейм</a></span></li><li><span><a href=\"#Создание-новых-датафреймов\" data-toc-modified-id=\"Создание-новых-датафреймов-4.2\"><span class=\"toc-item-num\">4.2&nbsp;&nbsp;</span>Создание новых датафреймов</a></span><ul class=\"toc-item\"><li><span><a href=\"#Датафрейм-c-данными-о-пользователях-без-подписки\" data-toc-modified-id=\"Датафрейм-c-данными-о-пользователях-без-подписки-4.2.1\"><span class=\"toc-item-num\">4.2.1&nbsp;&nbsp;</span>Датафрейм c данными о пользователях без подписки</a></span></li><li><span><a href=\"#Датафрейм-с-данными-о-пользователях-с-подпиской\" data-toc-modified-id=\"Датафрейм-с-данными-о-пользователях-с-подпиской-4.2.2\"><span class=\"toc-item-num\">4.2.2&nbsp;&nbsp;</span>Датафрейм с данными о пользователях с подпиской</a></span></li></ul></li><li><span><a href=\"#Визуализация-информации-о-расстоянии-и-времени-поездок-для-пользователей-обеих-категорий\" data-toc-modified-id=\"Визуализация-информации-о-расстоянии-и-времени-поездок-для-пользователей-обеих-категорий-4.3\"><span class=\"toc-item-num\">4.3&nbsp;&nbsp;</span>Визуализация информации о расстоянии и времени поездок для пользователей обеих категорий</a></span><ul class=\"toc-item\"><li><span><a href=\"#О-расстоянии-поездок\" data-toc-modified-id=\"О-расстоянии-поездок-4.3.1\"><span class=\"toc-item-num\">4.3.1&nbsp;&nbsp;</span>О расстоянии поездок</a></span></li><li><span><a href=\"#О-времени-поездок\" data-toc-modified-id=\"О-времени-поездок-4.3.2\"><span class=\"toc-item-num\">4.3.2&nbsp;&nbsp;</span>О времени поездок</a></span></li></ul></li></ul></li><li><span><a href=\"#Шаг-5.-Подсчёт-выручки\" data-toc-modified-id=\"Шаг-5.-Подсчёт-выручки-5\"><span class=\"toc-item-num\">5&nbsp;&nbsp;</span>Шаг 5. Подсчёт выручки</a></span><ul class=\"toc-item\"><li><span><a href=\"#Сводная-таблица--(суммарное-расстояние,-количество-поездок-и-суммарное-время-для-каждого-пользователя-за-каждый-месяц)\" data-toc-modified-id=\"Сводная-таблица--(суммарное-расстояние,-количество-поездок-и-суммарное-время-для-каждого-пользователя-за-каждый-месяц)-5.1\"><span class=\"toc-item-num\">5.1&nbsp;&nbsp;</span>Сводная таблица  (суммарное расстояние, количество поездок и суммарное время для каждого пользователя за каждый месяц)</a></span></li><li><span><a href=\"#Добавление-столбца-с-помесячной-выручкой\" data-toc-modified-id=\"Добавление-столбца-с-помесячной-выручкой-5.2\"><span class=\"toc-item-num\">5.2&nbsp;&nbsp;</span>Добавление столбца с помесячной выручкой</a></span></li></ul></li><li><span><a href=\"#Шаг-6.-Проверка-гипотез\" data-toc-modified-id=\"Шаг-6.-Проверка-гипотез-6\"><span class=\"toc-item-num\">6&nbsp;&nbsp;</span>Шаг 6. Проверка гипотез</a></span><ul class=\"toc-item\"><li><span><a href=\"#Гипотеза-1.-Пользователи-с-подпиской-больше-времени-на-поездки.\" data-toc-modified-id=\"Гипотеза-1.-Пользователи-с-подпиской-больше-времени-на-поездки.-6.1\"><span class=\"toc-item-num\">6.1&nbsp;&nbsp;</span>Гипотеза 1. Пользователи с подпиской больше времени на поездки.</a></span></li><li><span><a href=\"#Гипотеза-2.-Среднее-расстояние,-которое-проезжают-пользователи-с-подпиской-за-одну-поездку,-не-превышает-3130-метров\" data-toc-modified-id=\"Гипотеза-2.-Среднее-расстояние,-которое-проезжают-пользователи-с-подпиской-за-одну-поездку,-не-превышает-3130-метров-6.2\"><span class=\"toc-item-num\">6.2&nbsp;&nbsp;</span>Гипотеза 2. Среднее расстояние, которое проезжают пользователи с подпиской за одну поездку, не превышает 3130 метров</a></span></li><li><span><a href=\"#Гипотеза-3.-Помесячная-выручка-от-пользователей-с-подпиской-по-месяцам-выше,-чем-выручка-от-пользователей-без-подписки\" data-toc-modified-id=\"Гипотеза-3.-Помесячная-выручка-от-пользователей-с-подпиской-по-месяцам-выше,-чем-выручка-от-пользователей-без-подписки-6.3\"><span class=\"toc-item-num\">6.3&nbsp;&nbsp;</span>Гипотеза 3. Помесячная выручка от пользователей с подпиской по месяцам выше, чем выручка от пользователей без подписки</a></span></li><li><span><a href=\"#Гипотеза-4.-Количество-обращений-до-обновления-и-после-него\" data-toc-modified-id=\"Гипотеза-4.-Количество-обращений-до-обновления-и-после-него-6.4\"><span class=\"toc-item-num\">6.4&nbsp;&nbsp;</span>Гипотеза 4. Количество обращений до обновления и после него</a></span></li></ul></li><li><span><a href=\"#Шаг-7.-Распределения\" data-toc-modified-id=\"Шаг-7.-Распределения-7\"><span class=\"toc-item-num\">7&nbsp;&nbsp;</span>Шаг 7. Распределения</a></span><ul class=\"toc-item\"><li><span><a href=\"#Акция.-Минимальное-количество-промокодов\" data-toc-modified-id=\"Акция.-Минимальное-количество-промокодов-7.1\"><span class=\"toc-item-num\">7.1&nbsp;&nbsp;</span>Акция. Минимальное количество промокодов</a></span></li><li><span><a href=\"#Открытие-push-уведомлений-в-мобильном-приложении\" data-toc-modified-id=\"Открытие-push-уведомлений-в-мобильном-приложении-7.2\"><span class=\"toc-item-num\">7.2&nbsp;&nbsp;</span>Открытие push-уведомлений в мобильном приложении</a></span></li></ul></li></ul></div>"
   ]
  },
  {
   "cell_type": "markdown",
   "id": "eda69c0b",
   "metadata": {},
   "source": [
    "----------------------"
   ]
  },
  {
   "cell_type": "markdown",
   "id": "661320f9",
   "metadata": {},
   "source": [
    "<h1>Статистический анализ данных сервиса аренды самокатов Go-fast</h1>"
   ]
  },
  {
   "cell_type": "markdown",
   "id": "7d4fddee",
   "metadata": {},
   "source": [
    "<h1>Описание проекта </h1>\n",
    "\n",
    "Основная цель проекта: проанализировать данные сервиса аренды самокатов GoFast и проверить некоторые гипотезы, которые могут помочь бизнесу вырасти.\n",
    "<br>Чтобы совершать поездки по городу, пользователи сервиса GoFast пользуются мобильным приложением.Сервисом можно пользоваться:\n",
    "\n",
    "***без подписки:***\n",
    "* абонентская плата отсутствует;\n",
    "* стоимость одной минуты поездки — 8 рублей;\n",
    "* стоимость старта (начала поездки) — 50 рублей;\n",
    "\n",
    "***с подпиской Ultra:***\n",
    "* абонентская плата — 199 рублей в месяц;\n",
    "* стоимость одной минуты поездки — 6 рублей;\n",
    "* стоимость старта — бесплатно.\n",
    "\n",
    "**Описание исходных данных**\n",
    "\n",
    "В исходных данных есть информация о пользователях, их поездках и подписках, сгруппированных в файлы.\n",
    "\n",
    "***Пользователи — ‘users_go.csv’:***\n",
    "*  ‘user_id’ — уникальный идентификатор пользователя;\n",
    "*  ‘name’ — имя пользователя;\n",
    "*  ‘age’ — возраст;\n",
    "*  ‘city’ — город;\n",
    "*  ‘subscription_type’ — тип подписки (free, ultra).\n",
    "\n",
    "***Поездки — ‘rides_go.csv’:***\n",
    "*  user_id’ — уникальный идентификатор пользователя;\n",
    "*  ‘distance’ — расстояние, которое пользователь проехал в текущей сессии (в метрах);\n",
    "*  ‘duration’ — продолжительность сессии (в минутах) — время с того момента, как пользователь нажал кнопку «Начать поездку» до момента, как он нажал кнопку «Завершить поездку»;\n",
    "*  ‘date’ — дата совершения поездки.\n",
    "\n",
    "***Подписки — ‘subscriptions_go.csv’:***\n",
    "*  ‘subscription_type’ — тип подписки;\n",
    "*  ‘minute_price’ — стоимость одной минуты поездки по данной подписке;\n",
    "*  ‘start_ride_price’ — стоимость начала поездки;\n",
    "*  ‘subscription_fee’ — стоимость ежемесячного платёж."
   ]
  },
  {
   "cell_type": "code",
   "execution_count": 1,
   "id": "990dc6e8",
   "metadata": {},
   "outputs": [],
   "source": [
    "import pandas as pd\n",
    "import matplotlib.pyplot as plt\n",
    "import numpy as np\n",
    "from scipy import stats as st\n",
    "from scipy.stats import binom"
   ]
  },
  {
   "cell_type": "markdown",
   "id": "f2c3db70",
   "metadata": {},
   "source": [
    "#### Шаг 1. Загрузка данных"
   ]
  },
  {
   "cell_type": "markdown",
   "id": "3e8cb985",
   "metadata": {},
   "source": [
    "##### Загрузка csv-файлов"
   ]
  },
  {
   "cell_type": "code",
   "execution_count": 2,
   "id": "3b02e46a",
   "metadata": {},
   "outputs": [],
   "source": [
    "users = pd.read_csv('/datasets/users_go.csv')"
   ]
  },
  {
   "cell_type": "code",
   "execution_count": 3,
   "id": "3cda4103",
   "metadata": {},
   "outputs": [],
   "source": [
    "rides = pd.read_csv('/datasets/rides_go.csv')"
   ]
  },
  {
   "cell_type": "code",
   "execution_count": 4,
   "id": "b6a894ef",
   "metadata": {},
   "outputs": [],
   "source": [
    "subscriptions = pd.read_csv('/datasets/subscriptions_go.csv')"
   ]
  },
  {
   "cell_type": "markdown",
   "id": "c72c900b",
   "metadata": {},
   "source": [
    "##### Вывод датафреймов и информации о них"
   ]
  },
  {
   "cell_type": "code",
   "execution_count": 5,
   "id": "dc788602",
   "metadata": {},
   "outputs": [
    {
     "data": {
      "text/html": [
       "<div>\n",
       "<style scoped>\n",
       "    .dataframe tbody tr th:only-of-type {\n",
       "        vertical-align: middle;\n",
       "    }\n",
       "\n",
       "    .dataframe tbody tr th {\n",
       "        vertical-align: top;\n",
       "    }\n",
       "\n",
       "    .dataframe thead th {\n",
       "        text-align: right;\n",
       "    }\n",
       "</style>\n",
       "<table border=\"1\" class=\"dataframe\">\n",
       "  <thead>\n",
       "    <tr style=\"text-align: right;\">\n",
       "      <th></th>\n",
       "      <th>user_id</th>\n",
       "      <th>name</th>\n",
       "      <th>age</th>\n",
       "      <th>city</th>\n",
       "      <th>subscription_type</th>\n",
       "    </tr>\n",
       "  </thead>\n",
       "  <tbody>\n",
       "    <tr>\n",
       "      <th>0</th>\n",
       "      <td>1</td>\n",
       "      <td>Кира</td>\n",
       "      <td>22</td>\n",
       "      <td>Тюмень</td>\n",
       "      <td>ultra</td>\n",
       "    </tr>\n",
       "    <tr>\n",
       "      <th>1</th>\n",
       "      <td>2</td>\n",
       "      <td>Станислав</td>\n",
       "      <td>31</td>\n",
       "      <td>Омск</td>\n",
       "      <td>ultra</td>\n",
       "    </tr>\n",
       "    <tr>\n",
       "      <th>2</th>\n",
       "      <td>3</td>\n",
       "      <td>Алексей</td>\n",
       "      <td>20</td>\n",
       "      <td>Москва</td>\n",
       "      <td>ultra</td>\n",
       "    </tr>\n",
       "    <tr>\n",
       "      <th>3</th>\n",
       "      <td>4</td>\n",
       "      <td>Константин</td>\n",
       "      <td>26</td>\n",
       "      <td>Ростов-на-Дону</td>\n",
       "      <td>ultra</td>\n",
       "    </tr>\n",
       "    <tr>\n",
       "      <th>4</th>\n",
       "      <td>5</td>\n",
       "      <td>Адель</td>\n",
       "      <td>28</td>\n",
       "      <td>Омск</td>\n",
       "      <td>ultra</td>\n",
       "    </tr>\n",
       "    <tr>\n",
       "      <th>5</th>\n",
       "      <td>6</td>\n",
       "      <td>Регина</td>\n",
       "      <td>25</td>\n",
       "      <td>Краснодар</td>\n",
       "      <td>ultra</td>\n",
       "    </tr>\n",
       "    <tr>\n",
       "      <th>6</th>\n",
       "      <td>7</td>\n",
       "      <td>Игорь</td>\n",
       "      <td>23</td>\n",
       "      <td>Омск</td>\n",
       "      <td>ultra</td>\n",
       "    </tr>\n",
       "    <tr>\n",
       "      <th>7</th>\n",
       "      <td>8</td>\n",
       "      <td>Юрий</td>\n",
       "      <td>23</td>\n",
       "      <td>Краснодар</td>\n",
       "      <td>ultra</td>\n",
       "    </tr>\n",
       "    <tr>\n",
       "      <th>8</th>\n",
       "      <td>9</td>\n",
       "      <td>Ян</td>\n",
       "      <td>21</td>\n",
       "      <td>Пятигорск</td>\n",
       "      <td>ultra</td>\n",
       "    </tr>\n",
       "    <tr>\n",
       "      <th>9</th>\n",
       "      <td>10</td>\n",
       "      <td>Валерий</td>\n",
       "      <td>18</td>\n",
       "      <td>Екатеринбург</td>\n",
       "      <td>ultra</td>\n",
       "    </tr>\n",
       "    <tr>\n",
       "      <th>10</th>\n",
       "      <td>11</td>\n",
       "      <td>Агата</td>\n",
       "      <td>31</td>\n",
       "      <td>Краснодар</td>\n",
       "      <td>ultra</td>\n",
       "    </tr>\n",
       "    <tr>\n",
       "      <th>11</th>\n",
       "      <td>12</td>\n",
       "      <td>Марк</td>\n",
       "      <td>27</td>\n",
       "      <td>Тюмень</td>\n",
       "      <td>ultra</td>\n",
       "    </tr>\n",
       "    <tr>\n",
       "      <th>12</th>\n",
       "      <td>13</td>\n",
       "      <td>Ева</td>\n",
       "      <td>24</td>\n",
       "      <td>Краснодар</td>\n",
       "      <td>ultra</td>\n",
       "    </tr>\n",
       "    <tr>\n",
       "      <th>13</th>\n",
       "      <td>14</td>\n",
       "      <td>Антонина</td>\n",
       "      <td>18</td>\n",
       "      <td>Пятигорск</td>\n",
       "      <td>ultra</td>\n",
       "    </tr>\n",
       "    <tr>\n",
       "      <th>14</th>\n",
       "      <td>15</td>\n",
       "      <td>Валерия</td>\n",
       "      <td>24</td>\n",
       "      <td>Тюмень</td>\n",
       "      <td>ultra</td>\n",
       "    </tr>\n",
       "    <tr>\n",
       "      <th>15</th>\n",
       "      <td>16</td>\n",
       "      <td>Амалия</td>\n",
       "      <td>27</td>\n",
       "      <td>Краснодар</td>\n",
       "      <td>ultra</td>\n",
       "    </tr>\n",
       "    <tr>\n",
       "      <th>16</th>\n",
       "      <td>17</td>\n",
       "      <td>Даниил</td>\n",
       "      <td>29</td>\n",
       "      <td>Москва</td>\n",
       "      <td>ultra</td>\n",
       "    </tr>\n",
       "    <tr>\n",
       "      <th>17</th>\n",
       "      <td>18</td>\n",
       "      <td>Аделина</td>\n",
       "      <td>24</td>\n",
       "      <td>Сочи</td>\n",
       "      <td>ultra</td>\n",
       "    </tr>\n",
       "    <tr>\n",
       "      <th>18</th>\n",
       "      <td>19</td>\n",
       "      <td>Регина</td>\n",
       "      <td>32</td>\n",
       "      <td>Тюмень</td>\n",
       "      <td>ultra</td>\n",
       "    </tr>\n",
       "    <tr>\n",
       "      <th>19</th>\n",
       "      <td>20</td>\n",
       "      <td>Игорь</td>\n",
       "      <td>23</td>\n",
       "      <td>Омск</td>\n",
       "      <td>ultra</td>\n",
       "    </tr>\n",
       "  </tbody>\n",
       "</table>\n",
       "</div>"
      ],
      "text/plain": [
       "    user_id        name  age            city subscription_type\n",
       "0         1        Кира   22          Тюмень             ultra\n",
       "1         2   Станислав   31            Омск             ultra\n",
       "2         3     Алексей   20          Москва             ultra\n",
       "3         4  Константин   26  Ростов-на-Дону             ultra\n",
       "4         5       Адель   28            Омск             ultra\n",
       "5         6      Регина   25       Краснодар             ultra\n",
       "6         7       Игорь   23            Омск             ultra\n",
       "7         8        Юрий   23       Краснодар             ultra\n",
       "8         9          Ян   21       Пятигорск             ultra\n",
       "9        10     Валерий   18    Екатеринбург             ultra\n",
       "10       11       Агата   31       Краснодар             ultra\n",
       "11       12        Марк   27          Тюмень             ultra\n",
       "12       13         Ева   24       Краснодар             ultra\n",
       "13       14    Антонина   18       Пятигорск             ultra\n",
       "14       15     Валерия   24          Тюмень             ultra\n",
       "15       16      Амалия   27       Краснодар             ultra\n",
       "16       17      Даниил   29          Москва             ultra\n",
       "17       18     Аделина   24            Сочи             ultra\n",
       "18       19      Регина   32          Тюмень             ultra\n",
       "19       20       Игорь   23            Омск             ultra"
      ]
     },
     "execution_count": 5,
     "metadata": {},
     "output_type": "execute_result"
    }
   ],
   "source": [
    "users.head(20)"
   ]
  },
  {
   "cell_type": "code",
   "execution_count": 6,
   "id": "179fb426",
   "metadata": {},
   "outputs": [
    {
     "name": "stdout",
     "output_type": "stream",
     "text": [
      "<class 'pandas.core.frame.DataFrame'>\n",
      "RangeIndex: 1565 entries, 0 to 1564\n",
      "Data columns (total 5 columns):\n",
      " #   Column             Non-Null Count  Dtype \n",
      "---  ------             --------------  ----- \n",
      " 0   user_id            1565 non-null   int64 \n",
      " 1   name               1565 non-null   object\n",
      " 2   age                1565 non-null   int64 \n",
      " 3   city               1565 non-null   object\n",
      " 4   subscription_type  1565 non-null   object\n",
      "dtypes: int64(2), object(3)\n",
      "memory usage: 61.3+ KB\n"
     ]
    }
   ],
   "source": [
    "users.info()"
   ]
  },
  {
   "cell_type": "code",
   "execution_count": 7,
   "id": "ee07019c",
   "metadata": {},
   "outputs": [
    {
     "data": {
      "text/html": [
       "<div>\n",
       "<style scoped>\n",
       "    .dataframe tbody tr th:only-of-type {\n",
       "        vertical-align: middle;\n",
       "    }\n",
       "\n",
       "    .dataframe tbody tr th {\n",
       "        vertical-align: top;\n",
       "    }\n",
       "\n",
       "    .dataframe thead th {\n",
       "        text-align: right;\n",
       "    }\n",
       "</style>\n",
       "<table border=\"1\" class=\"dataframe\">\n",
       "  <thead>\n",
       "    <tr style=\"text-align: right;\">\n",
       "      <th></th>\n",
       "      <th>user_id</th>\n",
       "      <th>distance</th>\n",
       "      <th>duration</th>\n",
       "      <th>date</th>\n",
       "    </tr>\n",
       "  </thead>\n",
       "  <tbody>\n",
       "    <tr>\n",
       "      <th>0</th>\n",
       "      <td>1</td>\n",
       "      <td>4409.919140</td>\n",
       "      <td>25.599769</td>\n",
       "      <td>2021-01-01</td>\n",
       "    </tr>\n",
       "    <tr>\n",
       "      <th>1</th>\n",
       "      <td>1</td>\n",
       "      <td>2617.592153</td>\n",
       "      <td>15.816871</td>\n",
       "      <td>2021-01-18</td>\n",
       "    </tr>\n",
       "    <tr>\n",
       "      <th>2</th>\n",
       "      <td>1</td>\n",
       "      <td>754.159807</td>\n",
       "      <td>6.232113</td>\n",
       "      <td>2021-04-20</td>\n",
       "    </tr>\n",
       "    <tr>\n",
       "      <th>3</th>\n",
       "      <td>1</td>\n",
       "      <td>2694.783254</td>\n",
       "      <td>18.511000</td>\n",
       "      <td>2021-08-11</td>\n",
       "    </tr>\n",
       "    <tr>\n",
       "      <th>4</th>\n",
       "      <td>1</td>\n",
       "      <td>4028.687306</td>\n",
       "      <td>26.265803</td>\n",
       "      <td>2021-08-28</td>\n",
       "    </tr>\n",
       "    <tr>\n",
       "      <th>5</th>\n",
       "      <td>1</td>\n",
       "      <td>2770.890808</td>\n",
       "      <td>16.650138</td>\n",
       "      <td>2021-10-09</td>\n",
       "    </tr>\n",
       "    <tr>\n",
       "      <th>6</th>\n",
       "      <td>1</td>\n",
       "      <td>3039.020292</td>\n",
       "      <td>14.927879</td>\n",
       "      <td>2021-10-19</td>\n",
       "    </tr>\n",
       "    <tr>\n",
       "      <th>7</th>\n",
       "      <td>1</td>\n",
       "      <td>2842.118050</td>\n",
       "      <td>23.117468</td>\n",
       "      <td>2021-11-06</td>\n",
       "    </tr>\n",
       "    <tr>\n",
       "      <th>8</th>\n",
       "      <td>1</td>\n",
       "      <td>3412.690668</td>\n",
       "      <td>15.238072</td>\n",
       "      <td>2021-11-14</td>\n",
       "    </tr>\n",
       "    <tr>\n",
       "      <th>9</th>\n",
       "      <td>1</td>\n",
       "      <td>748.690645</td>\n",
       "      <td>15.041884</td>\n",
       "      <td>2021-11-22</td>\n",
       "    </tr>\n",
       "    <tr>\n",
       "      <th>10</th>\n",
       "      <td>1</td>\n",
       "      <td>4031.020195</td>\n",
       "      <td>17.674448</td>\n",
       "      <td>2021-12-14</td>\n",
       "    </tr>\n",
       "    <tr>\n",
       "      <th>11</th>\n",
       "      <td>1</td>\n",
       "      <td>2720.609748</td>\n",
       "      <td>9.529463</td>\n",
       "      <td>2021-12-22</td>\n",
       "    </tr>\n",
       "    <tr>\n",
       "      <th>12</th>\n",
       "      <td>2</td>\n",
       "      <td>3105.086678</td>\n",
       "      <td>24.307514</td>\n",
       "      <td>2021-03-15</td>\n",
       "    </tr>\n",
       "    <tr>\n",
       "      <th>13</th>\n",
       "      <td>2</td>\n",
       "      <td>3053.519401</td>\n",
       "      <td>11.543256</td>\n",
       "      <td>2021-03-18</td>\n",
       "    </tr>\n",
       "    <tr>\n",
       "      <th>14</th>\n",
       "      <td>2</td>\n",
       "      <td>4029.116927</td>\n",
       "      <td>25.109188</td>\n",
       "      <td>2021-03-23</td>\n",
       "    </tr>\n",
       "    <tr>\n",
       "      <th>15</th>\n",
       "      <td>2</td>\n",
       "      <td>2805.786329</td>\n",
       "      <td>20.652145</td>\n",
       "      <td>2021-04-08</td>\n",
       "    </tr>\n",
       "    <tr>\n",
       "      <th>16</th>\n",
       "      <td>2</td>\n",
       "      <td>3358.595495</td>\n",
       "      <td>18.396489</td>\n",
       "      <td>2021-04-13</td>\n",
       "    </tr>\n",
       "    <tr>\n",
       "      <th>17</th>\n",
       "      <td>2</td>\n",
       "      <td>3255.338202</td>\n",
       "      <td>13.851127</td>\n",
       "      <td>2021-06-20</td>\n",
       "    </tr>\n",
       "    <tr>\n",
       "      <th>18</th>\n",
       "      <td>2</td>\n",
       "      <td>3942.817648</td>\n",
       "      <td>20.142725</td>\n",
       "      <td>2021-07-02</td>\n",
       "    </tr>\n",
       "    <tr>\n",
       "      <th>19</th>\n",
       "      <td>2</td>\n",
       "      <td>2837.905316</td>\n",
       "      <td>26.027432</td>\n",
       "      <td>2021-07-18</td>\n",
       "    </tr>\n",
       "  </tbody>\n",
       "</table>\n",
       "</div>"
      ],
      "text/plain": [
       "    user_id     distance   duration        date\n",
       "0         1  4409.919140  25.599769  2021-01-01\n",
       "1         1  2617.592153  15.816871  2021-01-18\n",
       "2         1   754.159807   6.232113  2021-04-20\n",
       "3         1  2694.783254  18.511000  2021-08-11\n",
       "4         1  4028.687306  26.265803  2021-08-28\n",
       "5         1  2770.890808  16.650138  2021-10-09\n",
       "6         1  3039.020292  14.927879  2021-10-19\n",
       "7         1  2842.118050  23.117468  2021-11-06\n",
       "8         1  3412.690668  15.238072  2021-11-14\n",
       "9         1   748.690645  15.041884  2021-11-22\n",
       "10        1  4031.020195  17.674448  2021-12-14\n",
       "11        1  2720.609748   9.529463  2021-12-22\n",
       "12        2  3105.086678  24.307514  2021-03-15\n",
       "13        2  3053.519401  11.543256  2021-03-18\n",
       "14        2  4029.116927  25.109188  2021-03-23\n",
       "15        2  2805.786329  20.652145  2021-04-08\n",
       "16        2  3358.595495  18.396489  2021-04-13\n",
       "17        2  3255.338202  13.851127  2021-06-20\n",
       "18        2  3942.817648  20.142725  2021-07-02\n",
       "19        2  2837.905316  26.027432  2021-07-18"
      ]
     },
     "execution_count": 7,
     "metadata": {},
     "output_type": "execute_result"
    }
   ],
   "source": [
    "rides.head(20)"
   ]
  },
  {
   "cell_type": "code",
   "execution_count": 8,
   "id": "dc951990",
   "metadata": {},
   "outputs": [
    {
     "name": "stdout",
     "output_type": "stream",
     "text": [
      "<class 'pandas.core.frame.DataFrame'>\n",
      "RangeIndex: 18068 entries, 0 to 18067\n",
      "Data columns (total 4 columns):\n",
      " #   Column    Non-Null Count  Dtype  \n",
      "---  ------    --------------  -----  \n",
      " 0   user_id   18068 non-null  int64  \n",
      " 1   distance  18068 non-null  float64\n",
      " 2   duration  18068 non-null  float64\n",
      " 3   date      18068 non-null  object \n",
      "dtypes: float64(2), int64(1), object(1)\n",
      "memory usage: 564.8+ KB\n"
     ]
    }
   ],
   "source": [
    "rides.info()"
   ]
  },
  {
   "cell_type": "code",
   "execution_count": 9,
   "id": "b013f834",
   "metadata": {},
   "outputs": [
    {
     "data": {
      "text/html": [
       "<div>\n",
       "<style scoped>\n",
       "    .dataframe tbody tr th:only-of-type {\n",
       "        vertical-align: middle;\n",
       "    }\n",
       "\n",
       "    .dataframe tbody tr th {\n",
       "        vertical-align: top;\n",
       "    }\n",
       "\n",
       "    .dataframe thead th {\n",
       "        text-align: right;\n",
       "    }\n",
       "</style>\n",
       "<table border=\"1\" class=\"dataframe\">\n",
       "  <thead>\n",
       "    <tr style=\"text-align: right;\">\n",
       "      <th></th>\n",
       "      <th>subscription_type</th>\n",
       "      <th>minute_price</th>\n",
       "      <th>start_ride_price</th>\n",
       "      <th>subscription_fee</th>\n",
       "    </tr>\n",
       "  </thead>\n",
       "  <tbody>\n",
       "    <tr>\n",
       "      <th>0</th>\n",
       "      <td>free</td>\n",
       "      <td>8</td>\n",
       "      <td>50</td>\n",
       "      <td>0</td>\n",
       "    </tr>\n",
       "    <tr>\n",
       "      <th>1</th>\n",
       "      <td>ultra</td>\n",
       "      <td>6</td>\n",
       "      <td>0</td>\n",
       "      <td>199</td>\n",
       "    </tr>\n",
       "  </tbody>\n",
       "</table>\n",
       "</div>"
      ],
      "text/plain": [
       "  subscription_type  minute_price  start_ride_price  subscription_fee\n",
       "0              free             8                50                 0\n",
       "1             ultra             6                 0               199"
      ]
     },
     "execution_count": 9,
     "metadata": {},
     "output_type": "execute_result"
    }
   ],
   "source": [
    "subscriptions.head(20)"
   ]
  },
  {
   "cell_type": "code",
   "execution_count": 10,
   "id": "8a2ba912",
   "metadata": {},
   "outputs": [
    {
     "name": "stdout",
     "output_type": "stream",
     "text": [
      "<class 'pandas.core.frame.DataFrame'>\n",
      "RangeIndex: 2 entries, 0 to 1\n",
      "Data columns (total 4 columns):\n",
      " #   Column             Non-Null Count  Dtype \n",
      "---  ------             --------------  ----- \n",
      " 0   subscription_type  2 non-null      object\n",
      " 1   minute_price       2 non-null      int64 \n",
      " 2   start_ride_price   2 non-null      int64 \n",
      " 3   subscription_fee   2 non-null      int64 \n",
      "dtypes: int64(3), object(1)\n",
      "memory usage: 192.0+ bytes\n"
     ]
    }
   ],
   "source": [
    "subscriptions.info()"
   ]
  },
  {
   "cell_type": "markdown",
   "id": "58da70f0",
   "metadata": {},
   "source": [
    "При первом выводе данных можно наблюдать, малый размер датафрейма subscriptions, подписок всего две - free и ultra. \n",
    "Пропусков и дупликатов пока что не видим. Обращаем внимание, что у столбца date формат object - надо исправить в дальнейшем."
   ]
  },
  {
   "cell_type": "markdown",
   "id": "0af4c6bc",
   "metadata": {},
   "source": [
    "#### Шаг 2. Предобработка данных"
   ]
  },
  {
   "cell_type": "markdown",
   "id": "a315140a",
   "metadata": {},
   "source": [
    "##### Перевод формата столбца date"
   ]
  },
  {
   "cell_type": "code",
   "execution_count": 11,
   "id": "f9dddfd8",
   "metadata": {},
   "outputs": [],
   "source": [
    "rides['date'] = pd.to_datetime(rides['date'], format='%Y-%m-%d') #перевод в формат даты"
   ]
  },
  {
   "cell_type": "code",
   "execution_count": 12,
   "id": "80d3a8cb",
   "metadata": {},
   "outputs": [
    {
     "name": "stdout",
     "output_type": "stream",
     "text": [
      "<class 'pandas.core.frame.DataFrame'>\n",
      "RangeIndex: 18068 entries, 0 to 18067\n",
      "Data columns (total 4 columns):\n",
      " #   Column    Non-Null Count  Dtype         \n",
      "---  ------    --------------  -----         \n",
      " 0   user_id   18068 non-null  int64         \n",
      " 1   distance  18068 non-null  float64       \n",
      " 2   duration  18068 non-null  float64       \n",
      " 3   date      18068 non-null  datetime64[ns]\n",
      "dtypes: datetime64[ns](1), float64(2), int64(1)\n",
      "memory usage: 564.8 KB\n"
     ]
    }
   ],
   "source": [
    "rides.info()"
   ]
  },
  {
   "cell_type": "markdown",
   "id": "f16d49c9",
   "metadata": {},
   "source": [
    "##### Новый столбец month с месяцем из date"
   ]
  },
  {
   "cell_type": "code",
   "execution_count": 13,
   "id": "f5dbe226",
   "metadata": {},
   "outputs": [],
   "source": [
    "rides['month'] = rides['date'].dt.month "
   ]
  },
  {
   "cell_type": "code",
   "execution_count": 14,
   "id": "1e0427aa",
   "metadata": {},
   "outputs": [
    {
     "data": {
      "text/plain": [
       "array([2021])"
      ]
     },
     "execution_count": 14,
     "metadata": {},
     "output_type": "execute_result"
    }
   ],
   "source": [
    "rides['date'].dt.year.sort_values().unique()"
   ]
  },
  {
   "cell_type": "markdown",
   "id": "b7a8e4fc",
   "metadata": {},
   "source": [
    "Данные в столбце 'date' относятся только к 2021 году - можно смело группировать данные по месяцам  "
   ]
  },
  {
   "cell_type": "markdown",
   "id": "63c7e521",
   "metadata": {},
   "source": [
    "##### Поиск и удаление/замена дупликатов/пропущенных значений"
   ]
  },
  {
   "cell_type": "markdown",
   "id": "f6003c11",
   "metadata": {},
   "source": [
    "###### Users - пользователи"
   ]
  },
  {
   "cell_type": "code",
   "execution_count": 15,
   "id": "87f965d8",
   "metadata": {},
   "outputs": [
    {
     "data": {
      "text/plain": [
       "user_id              0\n",
       "name                 0\n",
       "age                  0\n",
       "city                 0\n",
       "subscription_type    0\n",
       "dtype: int64"
      ]
     },
     "execution_count": 15,
     "metadata": {},
     "output_type": "execute_result"
    }
   ],
   "source": [
    "users.isna().sum()"
   ]
  },
  {
   "cell_type": "markdown",
   "id": "5c07191c",
   "metadata": {},
   "source": [
    "Пропущенных значений в users нет"
   ]
  },
  {
   "cell_type": "code",
   "execution_count": 16,
   "id": "c293eeea",
   "metadata": {},
   "outputs": [
    {
     "data": {
      "text/plain": [
       "31"
      ]
     },
     "execution_count": 16,
     "metadata": {},
     "output_type": "execute_result"
    }
   ],
   "source": [
    "users.duplicated().sum()"
   ]
  },
  {
   "cell_type": "code",
   "execution_count": 17,
   "id": "267c5f9c",
   "metadata": {},
   "outputs": [],
   "source": [
    "users = users.drop_duplicates().reset_index(drop=True)"
   ]
  },
  {
   "cell_type": "code",
   "execution_count": 18,
   "id": "077ea1a6",
   "metadata": {},
   "outputs": [
    {
     "data": {
      "text/plain": [
       "0"
      ]
     },
     "execution_count": 18,
     "metadata": {},
     "output_type": "execute_result"
    }
   ],
   "source": [
    "users.duplicated().sum()"
   ]
  },
  {
   "cell_type": "markdown",
   "id": "8a15c747",
   "metadata": {},
   "source": [
    "Явные дупликаты удалены"
   ]
  },
  {
   "cell_type": "code",
   "execution_count": 19,
   "id": "898f409c",
   "metadata": {},
   "outputs": [
    {
     "data": {
      "text/plain": [
       "array(['Агата', 'Аделина', 'Адель', 'Айдар', 'Александр', 'Александра',\n",
       "       'Алексей', 'Алина', 'Алиса', 'Алия', 'Алла', 'Альберт', 'Альбина',\n",
       "       'Алёна', 'Амалия', 'Амина', 'Амир', 'Анастасия', 'Анатолий',\n",
       "       'Ангелина', 'Андрей', 'Анжелика', 'Анна', 'Антон', 'Антонина',\n",
       "       'Ариана', 'Арина', 'Арсен', 'Арсений', 'Артемий', 'Артур', 'Артём',\n",
       "       'Богдан', 'Борис', 'Вадим', 'Валентина', 'Валерий', 'Валерия',\n",
       "       'Варвара', 'Василий', 'Василина', 'Василиса', 'Вера', 'Вероника',\n",
       "       'Виктор', 'Виктория', 'Виолетта', 'Виталий', 'Виталина', 'Влад',\n",
       "       'Влада', 'Владимир', 'Владислав', 'Владислава', 'Всеволод',\n",
       "       'Вячеслав', 'Галина', 'Георгий', 'Герман', 'Глеб', 'Гордей',\n",
       "       'Григорий', 'Давид', 'Дамир', 'Даниил', 'Данил', 'Данила',\n",
       "       'Даниэль', 'Дарина', 'Дарья', 'Демид', 'Денис', 'Диана', 'Дмитрий',\n",
       "       'Ева', 'Евгений', 'Евгения', 'Егор', 'Екатерина', 'Елена',\n",
       "       'Елизавета', 'Елисей', 'Есения', 'Жанна', 'Зарина', 'Захар',\n",
       "       'Злата', 'Иван', 'Игнат', 'Игорь', 'Ильдар', 'Илья', 'Инна',\n",
       "       'Ирина', 'Камилла', 'Карина', 'Каролина', 'Кира', 'Кирилл',\n",
       "       'Константин', 'Кристина', 'Ксения', 'Лариса', 'Лев', 'Леонид',\n",
       "       'Лиана', 'Лидия', 'Лилия', 'Любовь', 'Людмила', 'Мадина', 'Майя',\n",
       "       'Макар', 'Максим', 'Марат', 'Маргарита', 'Марина', 'Мария', 'Марк',\n",
       "       'Марсель', 'Матвей', 'Мелания', 'Милана', 'Милена', 'Мирон',\n",
       "       'Мирослав', 'Мирослава', 'Михаил', 'Назар', 'Наталия', 'Наталья',\n",
       "       'Наташа', 'Нелли', 'Ника', 'Никита', 'Николай', 'Нина', 'Одиссей',\n",
       "       'Оксана', 'Олег', 'Олеся', 'Ольга', 'Павел', 'Петр', 'Платон',\n",
       "       'Полина', 'Радмир', 'Рамиль', 'Регина', 'Роберт', 'Родион',\n",
       "       'Роман', 'Ростислав', 'Руслан', 'Рустам', 'Савелий', 'Самир',\n",
       "       'Самира', 'Светлана', 'Святогор', 'Святослав', 'Семен', 'Сергей',\n",
       "       'Снежана', 'София', 'Софья', 'Станислав', 'Степан', 'Стефания',\n",
       "       'Таисия', 'Тамара', 'Тамерлан', 'Татьяна', 'Тимофей', 'Тимур',\n",
       "       'Тихон', 'Ульяна', 'Федор', 'Эвелина', 'Эдуард', 'Элина',\n",
       "       'Эльвира', 'Эльмира', 'Эмилия', 'Эмиль', 'Юлиана', 'Юлия', 'Юрий',\n",
       "       'Ян', 'Яна', 'Яромир', 'Ярослав', 'Ярослава', 'Ясмина'],\n",
       "      dtype=object)"
      ]
     },
     "execution_count": 19,
     "metadata": {},
     "output_type": "execute_result"
    }
   ],
   "source": [
    "users['name'].sort_values().unique()"
   ]
  },
  {
   "cell_type": "markdown",
   "id": "5bf61304",
   "metadata": {},
   "source": [
    "Ошибок в именах пользователей не обнаружено, тут неявных дупликатов нет."
   ]
  },
  {
   "cell_type": "code",
   "execution_count": 20,
   "id": "30e57031",
   "metadata": {},
   "outputs": [
    {
     "data": {
      "text/plain": [
       "array(['Екатеринбург', 'Краснодар', 'Москва', 'Омск', 'Пятигорск',\n",
       "       'Ростов-на-Дону', 'Сочи', 'Тюмень'], dtype=object)"
      ]
     },
     "execution_count": 20,
     "metadata": {},
     "output_type": "execute_result"
    }
   ],
   "source": [
    "users['city'].sort_values().unique()"
   ]
  },
  {
   "cell_type": "markdown",
   "id": "1714a859",
   "metadata": {},
   "source": [
    "С наименованими городов тоже все в порядке. <br> \n",
    "Таким образом в users удалены явные дупликаты, неявные дупликаты и пропущенные значения не обнаружены."
   ]
  },
  {
   "cell_type": "markdown",
   "id": "106b8141",
   "metadata": {},
   "source": [
    "###### Rides - поездки"
   ]
  },
  {
   "cell_type": "code",
   "execution_count": 21,
   "id": "c65ea99c",
   "metadata": {},
   "outputs": [
    {
     "data": {
      "text/plain": [
       "user_id     0\n",
       "distance    0\n",
       "duration    0\n",
       "date        0\n",
       "month       0\n",
       "dtype: int64"
      ]
     },
     "execution_count": 21,
     "metadata": {},
     "output_type": "execute_result"
    }
   ],
   "source": [
    "rides.isna().sum()"
   ]
  },
  {
   "cell_type": "markdown",
   "id": "2036c028",
   "metadata": {},
   "source": [
    "Пропущенных значений в rides нет"
   ]
  },
  {
   "cell_type": "code",
   "execution_count": 22,
   "id": "76417658",
   "metadata": {},
   "outputs": [
    {
     "data": {
      "text/plain": [
       "0"
      ]
     },
     "execution_count": 22,
     "metadata": {},
     "output_type": "execute_result"
    }
   ],
   "source": [
    "rides.duplicated().sum()"
   ]
  },
  {
   "cell_type": "markdown",
   "id": "409f8100",
   "metadata": {},
   "source": [
    "Явные дупликаты не обнаружены."
   ]
  },
  {
   "cell_type": "markdown",
   "id": "cb06b4f6",
   "metadata": {},
   "source": [
    "###### Subscriptions - подписки"
   ]
  },
  {
   "cell_type": "code",
   "execution_count": 23,
   "id": "d8451ec3",
   "metadata": {},
   "outputs": [
    {
     "data": {
      "text/plain": [
       "subscription_type    0\n",
       "minute_price         0\n",
       "start_ride_price     0\n",
       "subscription_fee     0\n",
       "dtype: int64"
      ]
     },
     "execution_count": 23,
     "metadata": {},
     "output_type": "execute_result"
    }
   ],
   "source": [
    "subscriptions.isna().sum()"
   ]
  },
  {
   "cell_type": "markdown",
   "id": "7b4e8412",
   "metadata": {},
   "source": [
    "Пропущенных значений в subscriptions нет"
   ]
  },
  {
   "cell_type": "code",
   "execution_count": 24,
   "id": "2ea2932a",
   "metadata": {},
   "outputs": [
    {
     "data": {
      "text/plain": [
       "0"
      ]
     },
     "execution_count": 24,
     "metadata": {},
     "output_type": "execute_result"
    }
   ],
   "source": [
    "subscriptions.duplicated().sum()"
   ]
  },
  {
   "cell_type": "markdown",
   "id": "64aa283e",
   "metadata": {},
   "source": [
    "Явные дупликаты не обнаружены. Неявных тоже нет - в наборе данных всего две строки."
   ]
  },
  {
   "cell_type": "markdown",
   "id": "a9429440",
   "metadata": {},
   "source": [
    "В ходе 2 шага выполнены работы:\n",
    "* изменен формат стобца 'date' в формат даты\n",
    "* добавлен новый столбец 'month'\n",
    "* изучены данные на предмет пропущенных значений и дупликатов в датафреймах - исключен 31 явный дупликат в наборе данных 'users'."
   ]
  },
  {
   "cell_type": "markdown",
   "id": "eb9ce4ac",
   "metadata": {},
   "source": [
    "#### Шаг 3. Исследовательский анализ данных"
   ]
  },
  {
   "cell_type": "markdown",
   "id": "2c82666b",
   "metadata": {},
   "source": [
    "##### Частота встречаемости городов"
   ]
  },
  {
   "cell_type": "code",
   "execution_count": 25,
   "id": "e41bc93c",
   "metadata": {},
   "outputs": [
    {
     "data": {
      "text/plain": [
       "Пятигорск         219\n",
       "Екатеринбург      204\n",
       "Ростов-на-Дону    198\n",
       "Краснодар         193\n",
       "Сочи              189\n",
       "Омск              183\n",
       "Тюмень            180\n",
       "Москва            168\n",
       "Name: city, dtype: int64"
      ]
     },
     "execution_count": 25,
     "metadata": {},
     "output_type": "execute_result"
    }
   ],
   "source": [
    "users_by_city = users['city'].value_counts()\n",
    "users_by_city"
   ]
  },
  {
   "cell_type": "code",
   "execution_count": 26,
   "id": "99159939",
   "metadata": {},
   "outputs": [
    {
     "data": {
      "image/png": "[encoded data removed]",
      "text/plain": [
       "<Figure size 576x576 with 1 Axes>"
      ]
     },
     "metadata": {
      "needs_background": "light"
     },
     "output_type": "display_data"
    }
   ],
   "source": [
    "users_by_city.sort_values(ascending=True).plot(kind='barh', figsize=(8, 8), title='Частота встречаемости городов', ec = 'black', grid=True)\n",
    "plt.xlabel('Количество пользователей')\n",
    "plt.ylabel('Города')\n",
    "plt.show()"
   ]
  },
  {
   "cell_type": "markdown",
   "id": "69c8ed10",
   "metadata": {},
   "source": [
    "Больше всего пользователей из Пятигорска, меньше всего - из Москвы. <br> Вероятно мало пользователей в Москве, потому что там много других сервисов аренды самокатов, конкуренция слишком высока и GoFast не хватило должного внимания в Москве<br>Но в целом всего имеется 8 городов, частоты встречаемости каждого примерно равны между собой (разброс количества пользователей - примерно  от 168 до 228)"
   ]
  },
  {
   "cell_type": "markdown",
   "id": "6a90333a",
   "metadata": {},
   "source": [
    "##### Соотношение пользователей с подпиской и без подписки"
   ]
  },
  {
   "cell_type": "code",
   "execution_count": 27,
   "id": "dbd9f361",
   "metadata": {},
   "outputs": [
    {
     "data": {
      "text/plain": [
       "free     835\n",
       "ultra    699\n",
       "Name: subscription_type, dtype: int64"
      ]
     },
     "execution_count": 27,
     "metadata": {},
     "output_type": "execute_result"
    }
   ],
   "source": [
    "count_subscription = users['subscription_type'].value_counts()\n",
    "count_subscription"
   ]
  },
  {
   "cell_type": "code",
   "execution_count": 28,
   "id": "4c8cc461",
   "metadata": {},
   "outputs": [
    {
     "data": {
      "image/png": "[encoded data removed]",
      "text/plain": [
       "<Figure size 720x720 with 1 Axes>"
      ]
     },
     "metadata": {},
     "output_type": "display_data"
    }
   ],
   "source": [
    "users['subscription_type'].value_counts().plot(\n",
    "    kind = 'pie', \n",
    "    y = count_subscription,\n",
    "    autopct = '%0.1f%%',\n",
    "    figsize=(10,10), \n",
    "    title = 'Соотношение пользователей с подпиской и без подписки');"
   ]
  },
  {
   "cell_type": "markdown",
   "id": "47179dcc",
   "metadata": {},
   "source": [
    "Пользователей без подписки больше, чем с подпиской"
   ]
  },
  {
   "cell_type": "markdown",
   "id": "b878037d",
   "metadata": {},
   "source": [
    "##### Возраст пользователей"
   ]
  },
  {
   "cell_type": "code",
   "execution_count": 29,
   "id": "e4f492f6",
   "metadata": {},
   "outputs": [
    {
     "data": {
      "text/plain": [
       "25    145\n",
       "24    132\n",
       "26    131\n",
       "23    129\n",
       "27    119\n",
       "22    119\n",
       "28    112\n",
       "21     93\n",
       "20     71\n",
       "30     68\n",
       "29     68\n",
       "31     48\n",
       "19     47\n",
       "18     46\n",
       "32     41\n",
       "33     39\n",
       "17     26\n",
       "34     19\n",
       "16     19\n",
       "35     15\n",
       "15     13\n",
       "14      9\n",
       "13      8\n",
       "36      6\n",
       "12      4\n",
       "38      3\n",
       "37      2\n",
       "39      1\n",
       "43      1\n",
       "Name: age, dtype: int64"
      ]
     },
     "execution_count": 29,
     "metadata": {},
     "output_type": "execute_result"
    }
   ],
   "source": [
    "count_age = users['age'].value_counts()\n",
    "count_age"
   ]
  },
  {
   "cell_type": "code",
   "execution_count": 30,
   "id": "850f3e7c",
   "metadata": {},
   "outputs": [
    {
     "data": {
      "image/png": "[encoded data removed]",
      "text/plain": [
       "<Figure size 432x288 with 1 Axes>"
      ]
     },
     "metadata": {
      "needs_background": "light"
     },
     "output_type": "display_data"
    }
   ],
   "source": [
    "plt.hist(users['age'], bins = 30, ec='black',)\n",
    "plt.title('Возраст пользователей')\n",
    "plt.xlabel('Возраст')\n",
    "plt.ylabel('Количество пользователей')\n",
    "plt.grid()\n",
    "plt.show()"
   ]
  },
  {
   "cell_type": "markdown",
   "id": "bfb3defe",
   "metadata": {},
   "source": [
    "Наибольшее количество пользователей в возрасте 22-29 лет."
   ]
  },
  {
   "cell_type": "markdown",
   "id": "8b9d708a",
   "metadata": {},
   "source": [
    "##### Расстояние, которое пользователь преодолел за одну поездку"
   ]
  },
  {
   "cell_type": "code",
   "execution_count": 31,
   "id": "eacbc077",
   "metadata": {},
   "outputs": [
    {
     "data": {
      "text/plain": [
       "count    18068.000000\n",
       "mean      3070.659976\n",
       "std       1116.831209\n",
       "min          0.855683\n",
       "25%       2543.226360\n",
       "50%       3133.609994\n",
       "75%       3776.222735\n",
       "max       7211.007745\n",
       "Name: distance, dtype: float64"
      ]
     },
     "execution_count": 31,
     "metadata": {},
     "output_type": "execute_result"
    }
   ],
   "source": [
    "rides['distance'].describe()"
   ]
  },
  {
   "cell_type": "code",
   "execution_count": 32,
   "id": "a76b2a49",
   "metadata": {},
   "outputs": [
    {
     "data": {
      "image/png": "[encoded data removed]",
      "text/plain": [
       "<Figure size 432x288 with 1 Axes>"
      ]
     },
     "metadata": {
      "needs_background": "light"
     },
     "output_type": "display_data"
    }
   ],
   "source": [
    "plt.hist(rides['distance'], bins=50, ec='black',)\n",
    "plt.title('Расстояние, которое пользователь преодолел за одну поездку')\n",
    "plt.xlabel('Расстояние')\n",
    "plt.ylabel('Количество поездок')\n",
    "plt.show()"
   ]
  },
  {
   "cell_type": "markdown",
   "id": "36da08d9",
   "metadata": {},
   "source": [
    "В среднем за одну поездку пользователи проезжают 3000 метров. <br>\n",
    "Есть пик в районе 700 метров, это расстояние пешкои можно пройти за 8 минут. Вероятно те, кто не смог преодолеть страх перед поездкой, заканчивают поездку именно спустя 700 метров."
   ]
  },
  {
   "cell_type": "markdown",
   "id": "be96ee6c",
   "metadata": {},
   "source": [
    "##### Продолжительность поездок"
   ]
  },
  {
   "cell_type": "code",
   "execution_count": 33,
   "id": "b0cbdb98",
   "metadata": {},
   "outputs": [
    {
     "data": {
      "text/plain": [
       "count    18068.000000\n",
       "mean        17.805011\n",
       "std          6.091051\n",
       "min          0.500000\n",
       "25%         13.597563\n",
       "50%         17.678395\n",
       "75%         21.724800\n",
       "max         40.823963\n",
       "Name: duration, dtype: float64"
      ]
     },
     "execution_count": 33,
     "metadata": {},
     "output_type": "execute_result"
    }
   ],
   "source": [
    "rides['duration'].describe()"
   ]
  },
  {
   "cell_type": "code",
   "execution_count": 34,
   "id": "c92c34be",
   "metadata": {},
   "outputs": [
    {
     "data": {
      "image/png": "[encoded data removed]",
      "text/plain": [
       "<Figure size 432x288 with 1 Axes>"
      ]
     },
     "metadata": {
      "needs_background": "light"
     },
     "output_type": "display_data"
    }
   ],
   "source": [
    "plt.hist(rides['duration'], bins=50, ec='black',)\n",
    "plt.title('Продолжительность поездок')\n",
    "plt.xlabel('Продолжительность в минутах')\n",
    "plt.ylabel('Количество поездок')\n",
    "plt.show()"
   ]
  },
  {
   "cell_type": "markdown",
   "id": "f73281c1",
   "metadata": {},
   "source": [
    "Средняя поездка занимает около 17 минут. <br>Видим странный выброс в районе 0, изучим строки с данными с длительностью меньше одной минуты."
   ]
  },
  {
   "cell_type": "code",
   "execution_count": 35,
   "id": "996fbfcf",
   "metadata": {},
   "outputs": [],
   "source": [
    "anomaly_rides = rides.query('duration < 1')"
   ]
  },
  {
   "cell_type": "code",
   "execution_count": 36,
   "id": "86cf2fb2",
   "metadata": {},
   "outputs": [
    {
     "data": {
      "text/html": [
       "<div>\n",
       "<style scoped>\n",
       "    .dataframe tbody tr th:only-of-type {\n",
       "        vertical-align: middle;\n",
       "    }\n",
       "\n",
       "    .dataframe tbody tr th {\n",
       "        vertical-align: top;\n",
       "    }\n",
       "\n",
       "    .dataframe thead th {\n",
       "        text-align: right;\n",
       "    }\n",
       "</style>\n",
       "<table border=\"1\" class=\"dataframe\">\n",
       "  <thead>\n",
       "    <tr style=\"text-align: right;\">\n",
       "      <th></th>\n",
       "      <th>user_id</th>\n",
       "      <th>distance</th>\n",
       "      <th>duration</th>\n",
       "      <th>date</th>\n",
       "      <th>month</th>\n",
       "    </tr>\n",
       "  </thead>\n",
       "  <tbody>\n",
       "    <tr>\n",
       "      <th>15132</th>\n",
       "      <td>1325</td>\n",
       "      <td>4030.308008</td>\n",
       "      <td>0.5</td>\n",
       "      <td>2021-12-22</td>\n",
       "      <td>12</td>\n",
       "    </tr>\n",
       "    <tr>\n",
       "      <th>17909</th>\n",
       "      <td>1524</td>\n",
       "      <td>4103.998874</td>\n",
       "      <td>0.5</td>\n",
       "      <td>2021-06-18</td>\n",
       "      <td>6</td>\n",
       "    </tr>\n",
       "    <tr>\n",
       "      <th>10692</th>\n",
       "      <td>1006</td>\n",
       "      <td>4106.278268</td>\n",
       "      <td>0.5</td>\n",
       "      <td>2021-10-31</td>\n",
       "      <td>10</td>\n",
       "    </tr>\n",
       "    <tr>\n",
       "      <th>9698</th>\n",
       "      <td>937</td>\n",
       "      <td>4169.066800</td>\n",
       "      <td>0.5</td>\n",
       "      <td>2021-12-12</td>\n",
       "      <td>12</td>\n",
       "    </tr>\n",
       "    <tr>\n",
       "      <th>14342</th>\n",
       "      <td>1268</td>\n",
       "      <td>4177.139336</td>\n",
       "      <td>0.5</td>\n",
       "      <td>2021-06-09</td>\n",
       "      <td>6</td>\n",
       "    </tr>\n",
       "    <tr>\n",
       "      <th>...</th>\n",
       "      <td>...</td>\n",
       "      <td>...</td>\n",
       "      <td>...</td>\n",
       "      <td>...</td>\n",
       "      <td>...</td>\n",
       "    </tr>\n",
       "    <tr>\n",
       "      <th>14574</th>\n",
       "      <td>1285</td>\n",
       "      <td>6316.574814</td>\n",
       "      <td>0.5</td>\n",
       "      <td>2021-09-25</td>\n",
       "      <td>9</td>\n",
       "    </tr>\n",
       "    <tr>\n",
       "      <th>13701</th>\n",
       "      <td>1224</td>\n",
       "      <td>6414.516026</td>\n",
       "      <td>0.5</td>\n",
       "      <td>2021-07-15</td>\n",
       "      <td>7</td>\n",
       "    </tr>\n",
       "    <tr>\n",
       "      <th>11385</th>\n",
       "      <td>1057</td>\n",
       "      <td>6601.197575</td>\n",
       "      <td>0.5</td>\n",
       "      <td>2021-02-07</td>\n",
       "      <td>2</td>\n",
       "    </tr>\n",
       "    <tr>\n",
       "      <th>17242</th>\n",
       "      <td>1477</td>\n",
       "      <td>6724.932981</td>\n",
       "      <td>0.5</td>\n",
       "      <td>2021-01-12</td>\n",
       "      <td>1</td>\n",
       "    </tr>\n",
       "    <tr>\n",
       "      <th>16309</th>\n",
       "      <td>1411</td>\n",
       "      <td>7211.007745</td>\n",
       "      <td>0.5</td>\n",
       "      <td>2021-04-15</td>\n",
       "      <td>4</td>\n",
       "    </tr>\n",
       "  </tbody>\n",
       "</table>\n",
       "<p>95 rows × 5 columns</p>\n",
       "</div>"
      ],
      "text/plain": [
       "       user_id     distance  duration       date  month\n",
       "15132     1325  4030.308008       0.5 2021-12-22     12\n",
       "17909     1524  4103.998874       0.5 2021-06-18      6\n",
       "10692     1006  4106.278268       0.5 2021-10-31     10\n",
       "9698       937  4169.066800       0.5 2021-12-12     12\n",
       "14342     1268  4177.139336       0.5 2021-06-09      6\n",
       "...        ...          ...       ...        ...    ...\n",
       "14574     1285  6316.574814       0.5 2021-09-25      9\n",
       "13701     1224  6414.516026       0.5 2021-07-15      7\n",
       "11385     1057  6601.197575       0.5 2021-02-07      2\n",
       "17242     1477  6724.932981       0.5 2021-01-12      1\n",
       "16309     1411  7211.007745       0.5 2021-04-15      4\n",
       "\n",
       "[95 rows x 5 columns]"
      ]
     },
     "execution_count": 36,
     "metadata": {},
     "output_type": "execute_result"
    }
   ],
   "source": [
    "anomaly_rides.sort_values(by='distance')"
   ]
  },
  {
   "cell_type": "markdown",
   "id": "6124f7cb",
   "metadata": {},
   "source": [
    "Можно увидеть около 90 поездок с длительностью 0.5 минуты и расстоянием больше 4000 метров, что нереально. <br> Вероятно есть ошибка в фиксировании времени поездки, технической службе надо проверить самокаты, иначе бизнес потеряет много денег на неисправных самокатах. <br> Или более положительный для бизнеса вариант - с самокатами все нормально, просто в выборку данные выгрузились некорректно и 0.5 - это не 0.5 минуты, а полчаса, например. <br> В нашей работе аномалии портят выборку, проверим, можно ли их исключить."
   ]
  },
  {
   "cell_type": "code",
   "execution_count": 37,
   "id": "e7b7f8b0",
   "metadata": {},
   "outputs": [
    {
     "data": {
      "text/plain": [
       "0.005257914545052026"
      ]
     },
     "execution_count": 37,
     "metadata": {},
     "output_type": "execute_result"
    }
   ],
   "source": [
    "anomaly_rides.shape[0] / rides.shape[0]"
   ]
  },
  {
   "cell_type": "markdown",
   "id": "8126037b",
   "metadata": {},
   "source": [
    "Если мы удалим аномальные значения, то удалим меньше 1% данных (<10%), допустимо произвести замену данных."
   ]
  },
  {
   "cell_type": "code",
   "execution_count": 38,
   "id": "d03b7f14",
   "metadata": {},
   "outputs": [],
   "source": [
    "rides = rides.query('duration > 1')"
   ]
  },
  {
   "cell_type": "code",
   "execution_count": 39,
   "id": "c296eff4",
   "metadata": {},
   "outputs": [
    {
     "data": {
      "image/png": "[encoded data removed]",
      "text/plain": [
       "<Figure size 432x288 with 1 Axes>"
      ]
     },
     "metadata": {
      "needs_background": "light"
     },
     "output_type": "display_data"
    }
   ],
   "source": [
    "plt.hist(rides['duration'], bins=40, ec='black',)\n",
    "plt.title('Продолжительность поездок')\n",
    "plt.xlabel('Продолжительность в минутах')\n",
    "plt.ylabel('Количество поездок')\n",
    "plt.show()"
   ]
  },
  {
   "cell_type": "markdown",
   "id": "71b90a03",
   "metadata": {},
   "source": [
    "В ходе шага 3 изучены основные параметры поездок:\n",
    "* Частота встречаемости городов. Больше всего пользователей из Пятигорска, меньше всего - из Москвы.\n",
    "* Соотношение пользователей с подпиской и без. Пользователей без подписки больше почти на 10 %, необходимо релкамировать и продвигать подписку.\n",
    "* Возраст пользователей. Основной возраст пользователей 22-29 лет.\n",
    "* Расстояние, которое пользователь преодолел за одну поездку. В среднем за одну поездку пользователи проезжают 3000 метров. Есть достаточное количество поездок в районе 700 метров - либо это поездки людей, которые побоялись ехать на самокате и прекратили использование самоката, либо поездки до остановки общественного транспорта/станции метро.\n",
    "* Продолжительность поездок. Средняя поездка занимает около 17 минут. Обнаружены аномальные поездки длительностью меньше 1 минуты, но с расстояним больше 4000 метров. Из выборки такие данные удалены, но технической службе надо проверить самокаты на предмет фиксирования времени поездки, а разработчикам надо проверить выгружаемые данные - нет ли ошибки в единицах измерениях (минуты/часы)."
   ]
  },
  {
   "cell_type": "markdown",
   "id": "fcb9fa86",
   "metadata": {},
   "source": [
    "#### Шаг 4. Объединение данных"
   ]
  },
  {
   "cell_type": "markdown",
   "id": "cf37ff99",
   "metadata": {},
   "source": [
    "##### Объединение данных в общий датафрейм"
   ]
  },
  {
   "cell_type": "code",
   "execution_count": 40,
   "id": "28d0bef9",
   "metadata": {},
   "outputs": [
    {
     "data": {
      "text/html": [
       "<div>\n",
       "<style scoped>\n",
       "    .dataframe tbody tr th:only-of-type {\n",
       "        vertical-align: middle;\n",
       "    }\n",
       "\n",
       "    .dataframe tbody tr th {\n",
       "        vertical-align: top;\n",
       "    }\n",
       "\n",
       "    .dataframe thead th {\n",
       "        text-align: right;\n",
       "    }\n",
       "</style>\n",
       "<table border=\"1\" class=\"dataframe\">\n",
       "  <thead>\n",
       "    <tr style=\"text-align: right;\">\n",
       "      <th></th>\n",
       "      <th>user_id</th>\n",
       "      <th>name</th>\n",
       "      <th>age</th>\n",
       "      <th>city</th>\n",
       "      <th>subscription_type</th>\n",
       "      <th>distance</th>\n",
       "      <th>duration</th>\n",
       "      <th>date</th>\n",
       "      <th>month</th>\n",
       "      <th>minute_price</th>\n",
       "      <th>start_ride_price</th>\n",
       "      <th>subscription_fee</th>\n",
       "    </tr>\n",
       "  </thead>\n",
       "  <tbody>\n",
       "    <tr>\n",
       "      <th>0</th>\n",
       "      <td>1</td>\n",
       "      <td>Кира</td>\n",
       "      <td>22</td>\n",
       "      <td>Тюмень</td>\n",
       "      <td>ultra</td>\n",
       "      <td>4409.919140</td>\n",
       "      <td>25.599769</td>\n",
       "      <td>2021-01-01</td>\n",
       "      <td>1</td>\n",
       "      <td>6</td>\n",
       "      <td>0</td>\n",
       "      <td>199</td>\n",
       "    </tr>\n",
       "    <tr>\n",
       "      <th>1</th>\n",
       "      <td>1</td>\n",
       "      <td>Кира</td>\n",
       "      <td>22</td>\n",
       "      <td>Тюмень</td>\n",
       "      <td>ultra</td>\n",
       "      <td>2617.592153</td>\n",
       "      <td>15.816871</td>\n",
       "      <td>2021-01-18</td>\n",
       "      <td>1</td>\n",
       "      <td>6</td>\n",
       "      <td>0</td>\n",
       "      <td>199</td>\n",
       "    </tr>\n",
       "    <tr>\n",
       "      <th>2</th>\n",
       "      <td>1</td>\n",
       "      <td>Кира</td>\n",
       "      <td>22</td>\n",
       "      <td>Тюмень</td>\n",
       "      <td>ultra</td>\n",
       "      <td>754.159807</td>\n",
       "      <td>6.232113</td>\n",
       "      <td>2021-04-20</td>\n",
       "      <td>4</td>\n",
       "      <td>6</td>\n",
       "      <td>0</td>\n",
       "      <td>199</td>\n",
       "    </tr>\n",
       "    <tr>\n",
       "      <th>3</th>\n",
       "      <td>1</td>\n",
       "      <td>Кира</td>\n",
       "      <td>22</td>\n",
       "      <td>Тюмень</td>\n",
       "      <td>ultra</td>\n",
       "      <td>2694.783254</td>\n",
       "      <td>18.511000</td>\n",
       "      <td>2021-08-11</td>\n",
       "      <td>8</td>\n",
       "      <td>6</td>\n",
       "      <td>0</td>\n",
       "      <td>199</td>\n",
       "    </tr>\n",
       "    <tr>\n",
       "      <th>4</th>\n",
       "      <td>1</td>\n",
       "      <td>Кира</td>\n",
       "      <td>22</td>\n",
       "      <td>Тюмень</td>\n",
       "      <td>ultra</td>\n",
       "      <td>4028.687306</td>\n",
       "      <td>26.265803</td>\n",
       "      <td>2021-08-28</td>\n",
       "      <td>8</td>\n",
       "      <td>6</td>\n",
       "      <td>0</td>\n",
       "      <td>199</td>\n",
       "    </tr>\n",
       "    <tr>\n",
       "      <th>5</th>\n",
       "      <td>1</td>\n",
       "      <td>Кира</td>\n",
       "      <td>22</td>\n",
       "      <td>Тюмень</td>\n",
       "      <td>ultra</td>\n",
       "      <td>2770.890808</td>\n",
       "      <td>16.650138</td>\n",
       "      <td>2021-10-09</td>\n",
       "      <td>10</td>\n",
       "      <td>6</td>\n",
       "      <td>0</td>\n",
       "      <td>199</td>\n",
       "    </tr>\n",
       "    <tr>\n",
       "      <th>6</th>\n",
       "      <td>1</td>\n",
       "      <td>Кира</td>\n",
       "      <td>22</td>\n",
       "      <td>Тюмень</td>\n",
       "      <td>ultra</td>\n",
       "      <td>3039.020292</td>\n",
       "      <td>14.927879</td>\n",
       "      <td>2021-10-19</td>\n",
       "      <td>10</td>\n",
       "      <td>6</td>\n",
       "      <td>0</td>\n",
       "      <td>199</td>\n",
       "    </tr>\n",
       "    <tr>\n",
       "      <th>7</th>\n",
       "      <td>1</td>\n",
       "      <td>Кира</td>\n",
       "      <td>22</td>\n",
       "      <td>Тюмень</td>\n",
       "      <td>ultra</td>\n",
       "      <td>2842.118050</td>\n",
       "      <td>23.117468</td>\n",
       "      <td>2021-11-06</td>\n",
       "      <td>11</td>\n",
       "      <td>6</td>\n",
       "      <td>0</td>\n",
       "      <td>199</td>\n",
       "    </tr>\n",
       "    <tr>\n",
       "      <th>8</th>\n",
       "      <td>1</td>\n",
       "      <td>Кира</td>\n",
       "      <td>22</td>\n",
       "      <td>Тюмень</td>\n",
       "      <td>ultra</td>\n",
       "      <td>3412.690668</td>\n",
       "      <td>15.238072</td>\n",
       "      <td>2021-11-14</td>\n",
       "      <td>11</td>\n",
       "      <td>6</td>\n",
       "      <td>0</td>\n",
       "      <td>199</td>\n",
       "    </tr>\n",
       "    <tr>\n",
       "      <th>9</th>\n",
       "      <td>1</td>\n",
       "      <td>Кира</td>\n",
       "      <td>22</td>\n",
       "      <td>Тюмень</td>\n",
       "      <td>ultra</td>\n",
       "      <td>748.690645</td>\n",
       "      <td>15.041884</td>\n",
       "      <td>2021-11-22</td>\n",
       "      <td>11</td>\n",
       "      <td>6</td>\n",
       "      <td>0</td>\n",
       "      <td>199</td>\n",
       "    </tr>\n",
       "    <tr>\n",
       "      <th>10</th>\n",
       "      <td>1</td>\n",
       "      <td>Кира</td>\n",
       "      <td>22</td>\n",
       "      <td>Тюмень</td>\n",
       "      <td>ultra</td>\n",
       "      <td>4031.020195</td>\n",
       "      <td>17.674448</td>\n",
       "      <td>2021-12-14</td>\n",
       "      <td>12</td>\n",
       "      <td>6</td>\n",
       "      <td>0</td>\n",
       "      <td>199</td>\n",
       "    </tr>\n",
       "    <tr>\n",
       "      <th>11</th>\n",
       "      <td>1</td>\n",
       "      <td>Кира</td>\n",
       "      <td>22</td>\n",
       "      <td>Тюмень</td>\n",
       "      <td>ultra</td>\n",
       "      <td>2720.609748</td>\n",
       "      <td>9.529463</td>\n",
       "      <td>2021-12-22</td>\n",
       "      <td>12</td>\n",
       "      <td>6</td>\n",
       "      <td>0</td>\n",
       "      <td>199</td>\n",
       "    </tr>\n",
       "    <tr>\n",
       "      <th>12</th>\n",
       "      <td>2</td>\n",
       "      <td>Станислав</td>\n",
       "      <td>31</td>\n",
       "      <td>Омск</td>\n",
       "      <td>ultra</td>\n",
       "      <td>3105.086678</td>\n",
       "      <td>24.307514</td>\n",
       "      <td>2021-03-15</td>\n",
       "      <td>3</td>\n",
       "      <td>6</td>\n",
       "      <td>0</td>\n",
       "      <td>199</td>\n",
       "    </tr>\n",
       "    <tr>\n",
       "      <th>13</th>\n",
       "      <td>2</td>\n",
       "      <td>Станислав</td>\n",
       "      <td>31</td>\n",
       "      <td>Омск</td>\n",
       "      <td>ultra</td>\n",
       "      <td>3053.519401</td>\n",
       "      <td>11.543256</td>\n",
       "      <td>2021-03-18</td>\n",
       "      <td>3</td>\n",
       "      <td>6</td>\n",
       "      <td>0</td>\n",
       "      <td>199</td>\n",
       "    </tr>\n",
       "    <tr>\n",
       "      <th>14</th>\n",
       "      <td>2</td>\n",
       "      <td>Станислав</td>\n",
       "      <td>31</td>\n",
       "      <td>Омск</td>\n",
       "      <td>ultra</td>\n",
       "      <td>4029.116927</td>\n",
       "      <td>25.109188</td>\n",
       "      <td>2021-03-23</td>\n",
       "      <td>3</td>\n",
       "      <td>6</td>\n",
       "      <td>0</td>\n",
       "      <td>199</td>\n",
       "    </tr>\n",
       "    <tr>\n",
       "      <th>15</th>\n",
       "      <td>2</td>\n",
       "      <td>Станислав</td>\n",
       "      <td>31</td>\n",
       "      <td>Омск</td>\n",
       "      <td>ultra</td>\n",
       "      <td>2805.786329</td>\n",
       "      <td>20.652145</td>\n",
       "      <td>2021-04-08</td>\n",
       "      <td>4</td>\n",
       "      <td>6</td>\n",
       "      <td>0</td>\n",
       "      <td>199</td>\n",
       "    </tr>\n",
       "    <tr>\n",
       "      <th>16</th>\n",
       "      <td>2</td>\n",
       "      <td>Станислав</td>\n",
       "      <td>31</td>\n",
       "      <td>Омск</td>\n",
       "      <td>ultra</td>\n",
       "      <td>3358.595495</td>\n",
       "      <td>18.396489</td>\n",
       "      <td>2021-04-13</td>\n",
       "      <td>4</td>\n",
       "      <td>6</td>\n",
       "      <td>0</td>\n",
       "      <td>199</td>\n",
       "    </tr>\n",
       "    <tr>\n",
       "      <th>17</th>\n",
       "      <td>2</td>\n",
       "      <td>Станислав</td>\n",
       "      <td>31</td>\n",
       "      <td>Омск</td>\n",
       "      <td>ultra</td>\n",
       "      <td>3255.338202</td>\n",
       "      <td>13.851127</td>\n",
       "      <td>2021-06-20</td>\n",
       "      <td>6</td>\n",
       "      <td>6</td>\n",
       "      <td>0</td>\n",
       "      <td>199</td>\n",
       "    </tr>\n",
       "    <tr>\n",
       "      <th>18</th>\n",
       "      <td>2</td>\n",
       "      <td>Станислав</td>\n",
       "      <td>31</td>\n",
       "      <td>Омск</td>\n",
       "      <td>ultra</td>\n",
       "      <td>3942.817648</td>\n",
       "      <td>20.142725</td>\n",
       "      <td>2021-07-02</td>\n",
       "      <td>7</td>\n",
       "      <td>6</td>\n",
       "      <td>0</td>\n",
       "      <td>199</td>\n",
       "    </tr>\n",
       "    <tr>\n",
       "      <th>19</th>\n",
       "      <td>2</td>\n",
       "      <td>Станислав</td>\n",
       "      <td>31</td>\n",
       "      <td>Омск</td>\n",
       "      <td>ultra</td>\n",
       "      <td>2837.905316</td>\n",
       "      <td>26.027432</td>\n",
       "      <td>2021-07-18</td>\n",
       "      <td>7</td>\n",
       "      <td>6</td>\n",
       "      <td>0</td>\n",
       "      <td>199</td>\n",
       "    </tr>\n",
       "  </tbody>\n",
       "</table>\n",
       "</div>"
      ],
      "text/plain": [
       "    user_id       name  age    city subscription_type     distance   duration  \\\n",
       "0         1       Кира   22  Тюмень             ultra  4409.919140  25.599769   \n",
       "1         1       Кира   22  Тюмень             ultra  2617.592153  15.816871   \n",
       "2         1       Кира   22  Тюмень             ultra   754.159807   6.232113   \n",
       "3         1       Кира   22  Тюмень             ultra  2694.783254  18.511000   \n",
       "4         1       Кира   22  Тюмень             ultra  4028.687306  26.265803   \n",
       "5         1       Кира   22  Тюмень             ultra  2770.890808  16.650138   \n",
       "6         1       Кира   22  Тюмень             ultra  3039.020292  14.927879   \n",
       "7         1       Кира   22  Тюмень             ultra  2842.118050  23.117468   \n",
       "8         1       Кира   22  Тюмень             ultra  3412.690668  15.238072   \n",
       "9         1       Кира   22  Тюмень             ultra   748.690645  15.041884   \n",
       "10        1       Кира   22  Тюмень             ultra  4031.020195  17.674448   \n",
       "11        1       Кира   22  Тюмень             ultra  2720.609748   9.529463   \n",
       "12        2  Станислав   31    Омск             ultra  3105.086678  24.307514   \n",
       "13        2  Станислав   31    Омск             ultra  3053.519401  11.543256   \n",
       "14        2  Станислав   31    Омск             ultra  4029.116927  25.109188   \n",
       "15        2  Станислав   31    Омск             ultra  2805.786329  20.652145   \n",
       "16        2  Станислав   31    Омск             ultra  3358.595495  18.396489   \n",
       "17        2  Станислав   31    Омск             ultra  3255.338202  13.851127   \n",
       "18        2  Станислав   31    Омск             ultra  3942.817648  20.142725   \n",
       "19        2  Станислав   31    Омск             ultra  2837.905316  26.027432   \n",
       "\n",
       "         date  month  minute_price  start_ride_price  subscription_fee  \n",
       "0  2021-01-01      1             6                 0               199  \n",
       "1  2021-01-18      1             6                 0               199  \n",
       "2  2021-04-20      4             6                 0               199  \n",
       "3  2021-08-11      8             6                 0               199  \n",
       "4  2021-08-28      8             6                 0               199  \n",
       "5  2021-10-09     10             6                 0               199  \n",
       "6  2021-10-19     10             6                 0               199  \n",
       "7  2021-11-06     11             6                 0               199  \n",
       "8  2021-11-14     11             6                 0               199  \n",
       "9  2021-11-22     11             6                 0               199  \n",
       "10 2021-12-14     12             6                 0               199  \n",
       "11 2021-12-22     12             6                 0               199  \n",
       "12 2021-03-15      3             6                 0               199  \n",
       "13 2021-03-18      3             6                 0               199  \n",
       "14 2021-03-23      3             6                 0               199  \n",
       "15 2021-04-08      4             6                 0               199  \n",
       "16 2021-04-13      4             6                 0               199  \n",
       "17 2021-06-20      6             6                 0               199  \n",
       "18 2021-07-02      7             6                 0               199  \n",
       "19 2021-07-18      7             6                 0               199  "
      ]
     },
     "execution_count": 40,
     "metadata": {},
     "output_type": "execute_result"
    }
   ],
   "source": [
    "data = users.merge(rides, on='user_id').merge(subscriptions, on='subscription_type')\n",
    "data.head(20)"
   ]
  },
  {
   "cell_type": "code",
   "execution_count": 41,
   "id": "d5210270",
   "metadata": {},
   "outputs": [
    {
     "name": "stdout",
     "output_type": "stream",
     "text": [
      "Количество строк (поездок) в 'rides': 17973\n",
      "Количество строк (поездок) в 'data': 17973\n",
      "\n",
      "Количество уникальных пользователей в 'users': 1534\n",
      "Количество уникальных пользователей в 'data': 1534\n"
     ]
    }
   ],
   "source": [
    "print(\"Количество строк (поездок) в 'rides':\", rides['user_id'].count())\n",
    "print(\"Количество строк (поездок) в 'data':\", data['user_id'].count())\n",
    "print()\n",
    "print(\"Количество уникальных пользователей в 'users':\", len(users['user_id'].unique()))\n",
    "print(\"Количество уникальных пользователей в 'data':\", len(data['user_id'].unique()))"
   ]
  },
  {
   "cell_type": "markdown",
   "id": "5bbcf5dc",
   "metadata": {},
   "source": [
    "Пропусков в таблице data не появилось, объединение прошло успешно."
   ]
  },
  {
   "cell_type": "markdown",
   "id": "07c44137",
   "metadata": {},
   "source": [
    "##### Создание новых датафреймов"
   ]
  },
  {
   "cell_type": "markdown",
   "id": "6b539e33",
   "metadata": {},
   "source": [
    "###### Датафрейм c данными о пользователях без подписки"
   ]
  },
  {
   "cell_type": "code",
   "execution_count": 42,
   "id": "f9fdd12f",
   "metadata": {},
   "outputs": [
    {
     "data": {
      "text/html": [
       "<div>\n",
       "<style scoped>\n",
       "    .dataframe tbody tr th:only-of-type {\n",
       "        vertical-align: middle;\n",
       "    }\n",
       "\n",
       "    .dataframe tbody tr th {\n",
       "        vertical-align: top;\n",
       "    }\n",
       "\n",
       "    .dataframe thead th {\n",
       "        text-align: right;\n",
       "    }\n",
       "</style>\n",
       "<table border=\"1\" class=\"dataframe\">\n",
       "  <thead>\n",
       "    <tr style=\"text-align: right;\">\n",
       "      <th></th>\n",
       "      <th>user_id</th>\n",
       "      <th>name</th>\n",
       "      <th>age</th>\n",
       "      <th>city</th>\n",
       "      <th>subscription_type</th>\n",
       "      <th>distance</th>\n",
       "      <th>duration</th>\n",
       "      <th>date</th>\n",
       "      <th>month</th>\n",
       "      <th>minute_price</th>\n",
       "      <th>start_ride_price</th>\n",
       "      <th>subscription_fee</th>\n",
       "    </tr>\n",
       "  </thead>\n",
       "  <tbody>\n",
       "    <tr>\n",
       "      <th>6500</th>\n",
       "      <td>700</td>\n",
       "      <td>Айдар</td>\n",
       "      <td>22</td>\n",
       "      <td>Омск</td>\n",
       "      <td>free</td>\n",
       "      <td>2515.690719</td>\n",
       "      <td>14.944286</td>\n",
       "      <td>2021-01-02</td>\n",
       "      <td>1</td>\n",
       "      <td>8</td>\n",
       "      <td>50</td>\n",
       "      <td>0</td>\n",
       "    </tr>\n",
       "    <tr>\n",
       "      <th>6501</th>\n",
       "      <td>700</td>\n",
       "      <td>Айдар</td>\n",
       "      <td>22</td>\n",
       "      <td>Омск</td>\n",
       "      <td>free</td>\n",
       "      <td>846.932642</td>\n",
       "      <td>16.234663</td>\n",
       "      <td>2021-02-01</td>\n",
       "      <td>2</td>\n",
       "      <td>8</td>\n",
       "      <td>50</td>\n",
       "      <td>0</td>\n",
       "    </tr>\n",
       "    <tr>\n",
       "      <th>6502</th>\n",
       "      <td>700</td>\n",
       "      <td>Айдар</td>\n",
       "      <td>22</td>\n",
       "      <td>Омск</td>\n",
       "      <td>free</td>\n",
       "      <td>4004.434142</td>\n",
       "      <td>20.016628</td>\n",
       "      <td>2021-02-04</td>\n",
       "      <td>2</td>\n",
       "      <td>8</td>\n",
       "      <td>50</td>\n",
       "      <td>0</td>\n",
       "    </tr>\n",
       "    <tr>\n",
       "      <th>6503</th>\n",
       "      <td>700</td>\n",
       "      <td>Айдар</td>\n",
       "      <td>22</td>\n",
       "      <td>Омск</td>\n",
       "      <td>free</td>\n",
       "      <td>1205.911290</td>\n",
       "      <td>9.782872</td>\n",
       "      <td>2021-02-10</td>\n",
       "      <td>2</td>\n",
       "      <td>8</td>\n",
       "      <td>50</td>\n",
       "      <td>0</td>\n",
       "    </tr>\n",
       "    <tr>\n",
       "      <th>6504</th>\n",
       "      <td>700</td>\n",
       "      <td>Айдар</td>\n",
       "      <td>22</td>\n",
       "      <td>Омск</td>\n",
       "      <td>free</td>\n",
       "      <td>3047.379435</td>\n",
       "      <td>17.427673</td>\n",
       "      <td>2021-02-14</td>\n",
       "      <td>2</td>\n",
       "      <td>8</td>\n",
       "      <td>50</td>\n",
       "      <td>0</td>\n",
       "    </tr>\n",
       "    <tr>\n",
       "      <th>6505</th>\n",
       "      <td>700</td>\n",
       "      <td>Айдар</td>\n",
       "      <td>22</td>\n",
       "      <td>Омск</td>\n",
       "      <td>free</td>\n",
       "      <td>4342.002254</td>\n",
       "      <td>22.368009</td>\n",
       "      <td>2021-02-23</td>\n",
       "      <td>2</td>\n",
       "      <td>8</td>\n",
       "      <td>50</td>\n",
       "      <td>0</td>\n",
       "    </tr>\n",
       "    <tr>\n",
       "      <th>6506</th>\n",
       "      <td>700</td>\n",
       "      <td>Айдар</td>\n",
       "      <td>22</td>\n",
       "      <td>Омск</td>\n",
       "      <td>free</td>\n",
       "      <td>3798.334905</td>\n",
       "      <td>18.243756</td>\n",
       "      <td>2021-03-03</td>\n",
       "      <td>3</td>\n",
       "      <td>8</td>\n",
       "      <td>50</td>\n",
       "      <td>0</td>\n",
       "    </tr>\n",
       "    <tr>\n",
       "      <th>6507</th>\n",
       "      <td>700</td>\n",
       "      <td>Айдар</td>\n",
       "      <td>22</td>\n",
       "      <td>Омск</td>\n",
       "      <td>free</td>\n",
       "      <td>2984.551206</td>\n",
       "      <td>15.424899</td>\n",
       "      <td>2021-04-09</td>\n",
       "      <td>4</td>\n",
       "      <td>8</td>\n",
       "      <td>50</td>\n",
       "      <td>0</td>\n",
       "    </tr>\n",
       "    <tr>\n",
       "      <th>6508</th>\n",
       "      <td>700</td>\n",
       "      <td>Айдар</td>\n",
       "      <td>22</td>\n",
       "      <td>Омск</td>\n",
       "      <td>free</td>\n",
       "      <td>3360.107141</td>\n",
       "      <td>16.765497</td>\n",
       "      <td>2021-06-12</td>\n",
       "      <td>6</td>\n",
       "      <td>8</td>\n",
       "      <td>50</td>\n",
       "      <td>0</td>\n",
       "    </tr>\n",
       "    <tr>\n",
       "      <th>6509</th>\n",
       "      <td>700</td>\n",
       "      <td>Айдар</td>\n",
       "      <td>22</td>\n",
       "      <td>Омск</td>\n",
       "      <td>free</td>\n",
       "      <td>2567.543847</td>\n",
       "      <td>11.312160</td>\n",
       "      <td>2021-06-23</td>\n",
       "      <td>6</td>\n",
       "      <td>8</td>\n",
       "      <td>50</td>\n",
       "      <td>0</td>\n",
       "    </tr>\n",
       "    <tr>\n",
       "      <th>6510</th>\n",
       "      <td>700</td>\n",
       "      <td>Айдар</td>\n",
       "      <td>22</td>\n",
       "      <td>Омск</td>\n",
       "      <td>free</td>\n",
       "      <td>4110.232038</td>\n",
       "      <td>15.807640</td>\n",
       "      <td>2021-07-08</td>\n",
       "      <td>7</td>\n",
       "      <td>8</td>\n",
       "      <td>50</td>\n",
       "      <td>0</td>\n",
       "    </tr>\n",
       "    <tr>\n",
       "      <th>6511</th>\n",
       "      <td>700</td>\n",
       "      <td>Айдар</td>\n",
       "      <td>22</td>\n",
       "      <td>Омск</td>\n",
       "      <td>free</td>\n",
       "      <td>288.974241</td>\n",
       "      <td>4.788112</td>\n",
       "      <td>2021-07-18</td>\n",
       "      <td>7</td>\n",
       "      <td>8</td>\n",
       "      <td>50</td>\n",
       "      <td>0</td>\n",
       "    </tr>\n",
       "    <tr>\n",
       "      <th>6512</th>\n",
       "      <td>700</td>\n",
       "      <td>Айдар</td>\n",
       "      <td>22</td>\n",
       "      <td>Омск</td>\n",
       "      <td>free</td>\n",
       "      <td>4071.654669</td>\n",
       "      <td>16.370546</td>\n",
       "      <td>2021-08-17</td>\n",
       "      <td>8</td>\n",
       "      <td>8</td>\n",
       "      <td>50</td>\n",
       "      <td>0</td>\n",
       "    </tr>\n",
       "    <tr>\n",
       "      <th>6513</th>\n",
       "      <td>700</td>\n",
       "      <td>Айдар</td>\n",
       "      <td>22</td>\n",
       "      <td>Омск</td>\n",
       "      <td>free</td>\n",
       "      <td>1920.188901</td>\n",
       "      <td>9.608453</td>\n",
       "      <td>2021-10-08</td>\n",
       "      <td>10</td>\n",
       "      <td>8</td>\n",
       "      <td>50</td>\n",
       "      <td>0</td>\n",
       "    </tr>\n",
       "    <tr>\n",
       "      <th>6514</th>\n",
       "      <td>700</td>\n",
       "      <td>Айдар</td>\n",
       "      <td>22</td>\n",
       "      <td>Омск</td>\n",
       "      <td>free</td>\n",
       "      <td>4402.389717</td>\n",
       "      <td>33.013035</td>\n",
       "      <td>2021-10-15</td>\n",
       "      <td>10</td>\n",
       "      <td>8</td>\n",
       "      <td>50</td>\n",
       "      <td>0</td>\n",
       "    </tr>\n",
       "    <tr>\n",
       "      <th>6515</th>\n",
       "      <td>700</td>\n",
       "      <td>Айдар</td>\n",
       "      <td>22</td>\n",
       "      <td>Омск</td>\n",
       "      <td>free</td>\n",
       "      <td>2409.555418</td>\n",
       "      <td>8.560513</td>\n",
       "      <td>2021-11-03</td>\n",
       "      <td>11</td>\n",
       "      <td>8</td>\n",
       "      <td>50</td>\n",
       "      <td>0</td>\n",
       "    </tr>\n",
       "    <tr>\n",
       "      <th>6516</th>\n",
       "      <td>700</td>\n",
       "      <td>Айдар</td>\n",
       "      <td>22</td>\n",
       "      <td>Омск</td>\n",
       "      <td>free</td>\n",
       "      <td>2639.817512</td>\n",
       "      <td>8.656752</td>\n",
       "      <td>2021-11-14</td>\n",
       "      <td>11</td>\n",
       "      <td>8</td>\n",
       "      <td>50</td>\n",
       "      <td>0</td>\n",
       "    </tr>\n",
       "    <tr>\n",
       "      <th>6517</th>\n",
       "      <td>700</td>\n",
       "      <td>Айдар</td>\n",
       "      <td>22</td>\n",
       "      <td>Омск</td>\n",
       "      <td>free</td>\n",
       "      <td>3686.409695</td>\n",
       "      <td>13.899449</td>\n",
       "      <td>2021-11-21</td>\n",
       "      <td>11</td>\n",
       "      <td>8</td>\n",
       "      <td>50</td>\n",
       "      <td>0</td>\n",
       "    </tr>\n",
       "    <tr>\n",
       "      <th>6518</th>\n",
       "      <td>701</td>\n",
       "      <td>Иван</td>\n",
       "      <td>31</td>\n",
       "      <td>Екатеринбург</td>\n",
       "      <td>free</td>\n",
       "      <td>2676.472894</td>\n",
       "      <td>17.470598</td>\n",
       "      <td>2021-01-23</td>\n",
       "      <td>1</td>\n",
       "      <td>8</td>\n",
       "      <td>50</td>\n",
       "      <td>0</td>\n",
       "    </tr>\n",
       "    <tr>\n",
       "      <th>6519</th>\n",
       "      <td>701</td>\n",
       "      <td>Иван</td>\n",
       "      <td>31</td>\n",
       "      <td>Екатеринбург</td>\n",
       "      <td>free</td>\n",
       "      <td>2743.677431</td>\n",
       "      <td>14.974710</td>\n",
       "      <td>2021-02-13</td>\n",
       "      <td>2</td>\n",
       "      <td>8</td>\n",
       "      <td>50</td>\n",
       "      <td>0</td>\n",
       "    </tr>\n",
       "  </tbody>\n",
       "</table>\n",
       "</div>"
      ],
      "text/plain": [
       "      user_id   name  age          city subscription_type     distance  \\\n",
       "6500      700  Айдар   22          Омск              free  2515.690719   \n",
       "6501      700  Айдар   22          Омск              free   846.932642   \n",
       "6502      700  Айдар   22          Омск              free  4004.434142   \n",
       "6503      700  Айдар   22          Омск              free  1205.911290   \n",
       "6504      700  Айдар   22          Омск              free  3047.379435   \n",
       "6505      700  Айдар   22          Омск              free  4342.002254   \n",
       "6506      700  Айдар   22          Омск              free  3798.334905   \n",
       "6507      700  Айдар   22          Омск              free  2984.551206   \n",
       "6508      700  Айдар   22          Омск              free  3360.107141   \n",
       "6509      700  Айдар   22          Омск              free  2567.543847   \n",
       "6510      700  Айдар   22          Омск              free  4110.232038   \n",
       "6511      700  Айдар   22          Омск              free   288.974241   \n",
       "6512      700  Айдар   22          Омск              free  4071.654669   \n",
       "6513      700  Айдар   22          Омск              free  1920.188901   \n",
       "6514      700  Айдар   22          Омск              free  4402.389717   \n",
       "6515      700  Айдар   22          Омск              free  2409.555418   \n",
       "6516      700  Айдар   22          Омск              free  2639.817512   \n",
       "6517      700  Айдар   22          Омск              free  3686.409695   \n",
       "6518      701   Иван   31  Екатеринбург              free  2676.472894   \n",
       "6519      701   Иван   31  Екатеринбург              free  2743.677431   \n",
       "\n",
       "       duration       date  month  minute_price  start_ride_price  \\\n",
       "6500  14.944286 2021-01-02      1             8                50   \n",
       "6501  16.234663 2021-02-01      2             8                50   \n",
       "6502  20.016628 2021-02-04      2             8                50   \n",
       "6503   9.782872 2021-02-10      2             8                50   \n",
       "6504  17.427673 2021-02-14      2             8                50   \n",
       "6505  22.368009 2021-02-23      2             8                50   \n",
       "6506  18.243756 2021-03-03      3             8                50   \n",
       "6507  15.424899 2021-04-09      4             8                50   \n",
       "6508  16.765497 2021-06-12      6             8                50   \n",
       "6509  11.312160 2021-06-23      6             8                50   \n",
       "6510  15.807640 2021-07-08      7             8                50   \n",
       "6511   4.788112 2021-07-18      7             8                50   \n",
       "6512  16.370546 2021-08-17      8             8                50   \n",
       "6513   9.608453 2021-10-08     10             8                50   \n",
       "6514  33.013035 2021-10-15     10             8                50   \n",
       "6515   8.560513 2021-11-03     11             8                50   \n",
       "6516   8.656752 2021-11-14     11             8                50   \n",
       "6517  13.899449 2021-11-21     11             8                50   \n",
       "6518  17.470598 2021-01-23      1             8                50   \n",
       "6519  14.974710 2021-02-13      2             8                50   \n",
       "\n",
       "      subscription_fee  \n",
       "6500                 0  \n",
       "6501                 0  \n",
       "6502                 0  \n",
       "6503                 0  \n",
       "6504                 0  \n",
       "6505                 0  \n",
       "6506                 0  \n",
       "6507                 0  \n",
       "6508                 0  \n",
       "6509                 0  \n",
       "6510                 0  \n",
       "6511                 0  \n",
       "6512                 0  \n",
       "6513                 0  \n",
       "6514                 0  \n",
       "6515                 0  \n",
       "6516                 0  \n",
       "6517                 0  \n",
       "6518                 0  \n",
       "6519                 0  "
      ]
     },
     "execution_count": 42,
     "metadata": {},
     "output_type": "execute_result"
    }
   ],
   "source": [
    "free_sub = data.query(\"subscription_type == 'free'\")\n",
    "free_sub.head(20)"
   ]
  },
  {
   "cell_type": "markdown",
   "id": "756d35e1",
   "metadata": {},
   "source": [
    "###### Датафрейм с данными о пользователях с подпиской"
   ]
  },
  {
   "cell_type": "code",
   "execution_count": 43,
   "id": "767e5ca6",
   "metadata": {},
   "outputs": [
    {
     "data": {
      "text/html": [
       "<div>\n",
       "<style scoped>\n",
       "    .dataframe tbody tr th:only-of-type {\n",
       "        vertical-align: middle;\n",
       "    }\n",
       "\n",
       "    .dataframe tbody tr th {\n",
       "        vertical-align: top;\n",
       "    }\n",
       "\n",
       "    .dataframe thead th {\n",
       "        text-align: right;\n",
       "    }\n",
       "</style>\n",
       "<table border=\"1\" class=\"dataframe\">\n",
       "  <thead>\n",
       "    <tr style=\"text-align: right;\">\n",
       "      <th></th>\n",
       "      <th>user_id</th>\n",
       "      <th>name</th>\n",
       "      <th>age</th>\n",
       "      <th>city</th>\n",
       "      <th>subscription_type</th>\n",
       "      <th>distance</th>\n",
       "      <th>duration</th>\n",
       "      <th>date</th>\n",
       "      <th>month</th>\n",
       "      <th>minute_price</th>\n",
       "      <th>start_ride_price</th>\n",
       "      <th>subscription_fee</th>\n",
       "    </tr>\n",
       "  </thead>\n",
       "  <tbody>\n",
       "    <tr>\n",
       "      <th>0</th>\n",
       "      <td>1</td>\n",
       "      <td>Кира</td>\n",
       "      <td>22</td>\n",
       "      <td>Тюмень</td>\n",
       "      <td>ultra</td>\n",
       "      <td>4409.919140</td>\n",
       "      <td>25.599769</td>\n",
       "      <td>2021-01-01</td>\n",
       "      <td>1</td>\n",
       "      <td>6</td>\n",
       "      <td>0</td>\n",
       "      <td>199</td>\n",
       "    </tr>\n",
       "    <tr>\n",
       "      <th>1</th>\n",
       "      <td>1</td>\n",
       "      <td>Кира</td>\n",
       "      <td>22</td>\n",
       "      <td>Тюмень</td>\n",
       "      <td>ultra</td>\n",
       "      <td>2617.592153</td>\n",
       "      <td>15.816871</td>\n",
       "      <td>2021-01-18</td>\n",
       "      <td>1</td>\n",
       "      <td>6</td>\n",
       "      <td>0</td>\n",
       "      <td>199</td>\n",
       "    </tr>\n",
       "    <tr>\n",
       "      <th>2</th>\n",
       "      <td>1</td>\n",
       "      <td>Кира</td>\n",
       "      <td>22</td>\n",
       "      <td>Тюмень</td>\n",
       "      <td>ultra</td>\n",
       "      <td>754.159807</td>\n",
       "      <td>6.232113</td>\n",
       "      <td>2021-04-20</td>\n",
       "      <td>4</td>\n",
       "      <td>6</td>\n",
       "      <td>0</td>\n",
       "      <td>199</td>\n",
       "    </tr>\n",
       "    <tr>\n",
       "      <th>3</th>\n",
       "      <td>1</td>\n",
       "      <td>Кира</td>\n",
       "      <td>22</td>\n",
       "      <td>Тюмень</td>\n",
       "      <td>ultra</td>\n",
       "      <td>2694.783254</td>\n",
       "      <td>18.511000</td>\n",
       "      <td>2021-08-11</td>\n",
       "      <td>8</td>\n",
       "      <td>6</td>\n",
       "      <td>0</td>\n",
       "      <td>199</td>\n",
       "    </tr>\n",
       "    <tr>\n",
       "      <th>4</th>\n",
       "      <td>1</td>\n",
       "      <td>Кира</td>\n",
       "      <td>22</td>\n",
       "      <td>Тюмень</td>\n",
       "      <td>ultra</td>\n",
       "      <td>4028.687306</td>\n",
       "      <td>26.265803</td>\n",
       "      <td>2021-08-28</td>\n",
       "      <td>8</td>\n",
       "      <td>6</td>\n",
       "      <td>0</td>\n",
       "      <td>199</td>\n",
       "    </tr>\n",
       "    <tr>\n",
       "      <th>5</th>\n",
       "      <td>1</td>\n",
       "      <td>Кира</td>\n",
       "      <td>22</td>\n",
       "      <td>Тюмень</td>\n",
       "      <td>ultra</td>\n",
       "      <td>2770.890808</td>\n",
       "      <td>16.650138</td>\n",
       "      <td>2021-10-09</td>\n",
       "      <td>10</td>\n",
       "      <td>6</td>\n",
       "      <td>0</td>\n",
       "      <td>199</td>\n",
       "    </tr>\n",
       "    <tr>\n",
       "      <th>6</th>\n",
       "      <td>1</td>\n",
       "      <td>Кира</td>\n",
       "      <td>22</td>\n",
       "      <td>Тюмень</td>\n",
       "      <td>ultra</td>\n",
       "      <td>3039.020292</td>\n",
       "      <td>14.927879</td>\n",
       "      <td>2021-10-19</td>\n",
       "      <td>10</td>\n",
       "      <td>6</td>\n",
       "      <td>0</td>\n",
       "      <td>199</td>\n",
       "    </tr>\n",
       "    <tr>\n",
       "      <th>7</th>\n",
       "      <td>1</td>\n",
       "      <td>Кира</td>\n",
       "      <td>22</td>\n",
       "      <td>Тюмень</td>\n",
       "      <td>ultra</td>\n",
       "      <td>2842.118050</td>\n",
       "      <td>23.117468</td>\n",
       "      <td>2021-11-06</td>\n",
       "      <td>11</td>\n",
       "      <td>6</td>\n",
       "      <td>0</td>\n",
       "      <td>199</td>\n",
       "    </tr>\n",
       "    <tr>\n",
       "      <th>8</th>\n",
       "      <td>1</td>\n",
       "      <td>Кира</td>\n",
       "      <td>22</td>\n",
       "      <td>Тюмень</td>\n",
       "      <td>ultra</td>\n",
       "      <td>3412.690668</td>\n",
       "      <td>15.238072</td>\n",
       "      <td>2021-11-14</td>\n",
       "      <td>11</td>\n",
       "      <td>6</td>\n",
       "      <td>0</td>\n",
       "      <td>199</td>\n",
       "    </tr>\n",
       "    <tr>\n",
       "      <th>9</th>\n",
       "      <td>1</td>\n",
       "      <td>Кира</td>\n",
       "      <td>22</td>\n",
       "      <td>Тюмень</td>\n",
       "      <td>ultra</td>\n",
       "      <td>748.690645</td>\n",
       "      <td>15.041884</td>\n",
       "      <td>2021-11-22</td>\n",
       "      <td>11</td>\n",
       "      <td>6</td>\n",
       "      <td>0</td>\n",
       "      <td>199</td>\n",
       "    </tr>\n",
       "    <tr>\n",
       "      <th>10</th>\n",
       "      <td>1</td>\n",
       "      <td>Кира</td>\n",
       "      <td>22</td>\n",
       "      <td>Тюмень</td>\n",
       "      <td>ultra</td>\n",
       "      <td>4031.020195</td>\n",
       "      <td>17.674448</td>\n",
       "      <td>2021-12-14</td>\n",
       "      <td>12</td>\n",
       "      <td>6</td>\n",
       "      <td>0</td>\n",
       "      <td>199</td>\n",
       "    </tr>\n",
       "    <tr>\n",
       "      <th>11</th>\n",
       "      <td>1</td>\n",
       "      <td>Кира</td>\n",
       "      <td>22</td>\n",
       "      <td>Тюмень</td>\n",
       "      <td>ultra</td>\n",
       "      <td>2720.609748</td>\n",
       "      <td>9.529463</td>\n",
       "      <td>2021-12-22</td>\n",
       "      <td>12</td>\n",
       "      <td>6</td>\n",
       "      <td>0</td>\n",
       "      <td>199</td>\n",
       "    </tr>\n",
       "    <tr>\n",
       "      <th>12</th>\n",
       "      <td>2</td>\n",
       "      <td>Станислав</td>\n",
       "      <td>31</td>\n",
       "      <td>Омск</td>\n",
       "      <td>ultra</td>\n",
       "      <td>3105.086678</td>\n",
       "      <td>24.307514</td>\n",
       "      <td>2021-03-15</td>\n",
       "      <td>3</td>\n",
       "      <td>6</td>\n",
       "      <td>0</td>\n",
       "      <td>199</td>\n",
       "    </tr>\n",
       "    <tr>\n",
       "      <th>13</th>\n",
       "      <td>2</td>\n",
       "      <td>Станислав</td>\n",
       "      <td>31</td>\n",
       "      <td>Омск</td>\n",
       "      <td>ultra</td>\n",
       "      <td>3053.519401</td>\n",
       "      <td>11.543256</td>\n",
       "      <td>2021-03-18</td>\n",
       "      <td>3</td>\n",
       "      <td>6</td>\n",
       "      <td>0</td>\n",
       "      <td>199</td>\n",
       "    </tr>\n",
       "    <tr>\n",
       "      <th>14</th>\n",
       "      <td>2</td>\n",
       "      <td>Станислав</td>\n",
       "      <td>31</td>\n",
       "      <td>Омск</td>\n",
       "      <td>ultra</td>\n",
       "      <td>4029.116927</td>\n",
       "      <td>25.109188</td>\n",
       "      <td>2021-03-23</td>\n",
       "      <td>3</td>\n",
       "      <td>6</td>\n",
       "      <td>0</td>\n",
       "      <td>199</td>\n",
       "    </tr>\n",
       "    <tr>\n",
       "      <th>15</th>\n",
       "      <td>2</td>\n",
       "      <td>Станислав</td>\n",
       "      <td>31</td>\n",
       "      <td>Омск</td>\n",
       "      <td>ultra</td>\n",
       "      <td>2805.786329</td>\n",
       "      <td>20.652145</td>\n",
       "      <td>2021-04-08</td>\n",
       "      <td>4</td>\n",
       "      <td>6</td>\n",
       "      <td>0</td>\n",
       "      <td>199</td>\n",
       "    </tr>\n",
       "    <tr>\n",
       "      <th>16</th>\n",
       "      <td>2</td>\n",
       "      <td>Станислав</td>\n",
       "      <td>31</td>\n",
       "      <td>Омск</td>\n",
       "      <td>ultra</td>\n",
       "      <td>3358.595495</td>\n",
       "      <td>18.396489</td>\n",
       "      <td>2021-04-13</td>\n",
       "      <td>4</td>\n",
       "      <td>6</td>\n",
       "      <td>0</td>\n",
       "      <td>199</td>\n",
       "    </tr>\n",
       "    <tr>\n",
       "      <th>17</th>\n",
       "      <td>2</td>\n",
       "      <td>Станислав</td>\n",
       "      <td>31</td>\n",
       "      <td>Омск</td>\n",
       "      <td>ultra</td>\n",
       "      <td>3255.338202</td>\n",
       "      <td>13.851127</td>\n",
       "      <td>2021-06-20</td>\n",
       "      <td>6</td>\n",
       "      <td>6</td>\n",
       "      <td>0</td>\n",
       "      <td>199</td>\n",
       "    </tr>\n",
       "    <tr>\n",
       "      <th>18</th>\n",
       "      <td>2</td>\n",
       "      <td>Станислав</td>\n",
       "      <td>31</td>\n",
       "      <td>Омск</td>\n",
       "      <td>ultra</td>\n",
       "      <td>3942.817648</td>\n",
       "      <td>20.142725</td>\n",
       "      <td>2021-07-02</td>\n",
       "      <td>7</td>\n",
       "      <td>6</td>\n",
       "      <td>0</td>\n",
       "      <td>199</td>\n",
       "    </tr>\n",
       "    <tr>\n",
       "      <th>19</th>\n",
       "      <td>2</td>\n",
       "      <td>Станислав</td>\n",
       "      <td>31</td>\n",
       "      <td>Омск</td>\n",
       "      <td>ultra</td>\n",
       "      <td>2837.905316</td>\n",
       "      <td>26.027432</td>\n",
       "      <td>2021-07-18</td>\n",
       "      <td>7</td>\n",
       "      <td>6</td>\n",
       "      <td>0</td>\n",
       "      <td>199</td>\n",
       "    </tr>\n",
       "  </tbody>\n",
       "</table>\n",
       "</div>"
      ],
      "text/plain": [
       "    user_id       name  age    city subscription_type     distance   duration  \\\n",
       "0         1       Кира   22  Тюмень             ultra  4409.919140  25.599769   \n",
       "1         1       Кира   22  Тюмень             ultra  2617.592153  15.816871   \n",
       "2         1       Кира   22  Тюмень             ultra   754.159807   6.232113   \n",
       "3         1       Кира   22  Тюмень             ultra  2694.783254  18.511000   \n",
       "4         1       Кира   22  Тюмень             ultra  4028.687306  26.265803   \n",
       "5         1       Кира   22  Тюмень             ultra  2770.890808  16.650138   \n",
       "6         1       Кира   22  Тюмень             ultra  3039.020292  14.927879   \n",
       "7         1       Кира   22  Тюмень             ultra  2842.118050  23.117468   \n",
       "8         1       Кира   22  Тюмень             ultra  3412.690668  15.238072   \n",
       "9         1       Кира   22  Тюмень             ultra   748.690645  15.041884   \n",
       "10        1       Кира   22  Тюмень             ultra  4031.020195  17.674448   \n",
       "11        1       Кира   22  Тюмень             ultra  2720.609748   9.529463   \n",
       "12        2  Станислав   31    Омск             ultra  3105.086678  24.307514   \n",
       "13        2  Станислав   31    Омск             ultra  3053.519401  11.543256   \n",
       "14        2  Станислав   31    Омск             ultra  4029.116927  25.109188   \n",
       "15        2  Станислав   31    Омск             ultra  2805.786329  20.652145   \n",
       "16        2  Станислав   31    Омск             ultra  3358.595495  18.396489   \n",
       "17        2  Станислав   31    Омск             ultra  3255.338202  13.851127   \n",
       "18        2  Станислав   31    Омск             ultra  3942.817648  20.142725   \n",
       "19        2  Станислав   31    Омск             ultra  2837.905316  26.027432   \n",
       "\n",
       "         date  month  minute_price  start_ride_price  subscription_fee  \n",
       "0  2021-01-01      1             6                 0               199  \n",
       "1  2021-01-18      1             6                 0               199  \n",
       "2  2021-04-20      4             6                 0               199  \n",
       "3  2021-08-11      8             6                 0               199  \n",
       "4  2021-08-28      8             6                 0               199  \n",
       "5  2021-10-09     10             6                 0               199  \n",
       "6  2021-10-19     10             6                 0               199  \n",
       "7  2021-11-06     11             6                 0               199  \n",
       "8  2021-11-14     11             6                 0               199  \n",
       "9  2021-11-22     11             6                 0               199  \n",
       "10 2021-12-14     12             6                 0               199  \n",
       "11 2021-12-22     12             6                 0               199  \n",
       "12 2021-03-15      3             6                 0               199  \n",
       "13 2021-03-18      3             6                 0               199  \n",
       "14 2021-03-23      3             6                 0               199  \n",
       "15 2021-04-08      4             6                 0               199  \n",
       "16 2021-04-13      4             6                 0               199  \n",
       "17 2021-06-20      6             6                 0               199  \n",
       "18 2021-07-02      7             6                 0               199  \n",
       "19 2021-07-18      7             6                 0               199  "
      ]
     },
     "execution_count": 43,
     "metadata": {},
     "output_type": "execute_result"
    }
   ],
   "source": [
    "ultra_sub = data.query(\"subscription_type == 'ultra'\")\n",
    "ultra_sub.head(20)"
   ]
  },
  {
   "cell_type": "code",
   "execution_count": 44,
   "id": "5764e6f3",
   "metadata": {},
   "outputs": [
    {
     "name": "stdout",
     "output_type": "stream",
     "text": [
      "Сумма строк (поездок) в 'free_sub' и 'ultra_sub': 17973\n",
      "Количество строк (поездок) в 'data': 17973\n"
     ]
    }
   ],
   "source": [
    "print(\"Сумма строк (поездок) в 'free_sub' и 'ultra_sub':\", ultra_sub['user_id'].count()+free_sub['user_id'].count())\n",
    "print(\"Количество строк (поездок) в 'data':\", data['user_id'].count())"
   ]
  },
  {
   "cell_type": "markdown",
   "id": "b4ba611c",
   "metadata": {},
   "source": [
    "Количество строк в исходной таблице соответсвует сумме строк (поездок) в 'free_sub' и 'ultra_sub', новые датафреймы созданы правильно."
   ]
  },
  {
   "cell_type": "markdown",
   "id": "79bd3691",
   "metadata": {},
   "source": [
    "#####  Визуализация информации о расстоянии и времени поездок для пользователей обеих категорий"
   ]
  },
  {
   "cell_type": "markdown",
   "id": "d04c069d",
   "metadata": {},
   "source": [
    "###### О расстоянии поездок"
   ]
  },
  {
   "cell_type": "code",
   "execution_count": 45,
   "id": "aa2588c3",
   "metadata": {},
   "outputs": [
    {
     "data": {
      "image/png": "[encoded data removed]",
      "text/plain": [
       "<Figure size 432x288 with 1 Axes>"
      ]
     },
     "metadata": {
      "needs_background": "light"
     },
     "output_type": "display_data"
    }
   ],
   "source": [
    "plt.hist([free_sub['distance'], ultra_sub['distance']],\n",
    "         bins=30,\n",
    "         ec='black',\n",
    "         stacked=False)\n",
    "plt.title('Расстояние поездок с подпиской')\n",
    "plt.xlabel('Растояние')\n",
    "plt.ylabel('Количество поездок')\n",
    "plt.legend(['без подписки', 'с подпиской'])\n",
    "plt.show()"
   ]
  },
  {
   "cell_type": "code",
   "execution_count": 46,
   "id": "1a925259",
   "metadata": {},
   "outputs": [
    {
     "data": {
      "text/plain": [
       "count    11473.000000\n",
       "mean      3028.374239\n",
       "std       1235.541051\n",
       "min          0.855683\n",
       "25%       2360.878149\n",
       "50%       3102.083025\n",
       "75%       3883.979311\n",
       "max       7066.003772\n",
       "Name: distance, dtype: float64"
      ]
     },
     "execution_count": 46,
     "metadata": {},
     "output_type": "execute_result"
    }
   ],
   "source": [
    "free_sub['distance'].describe()"
   ]
  },
  {
   "cell_type": "code",
   "execution_count": 47,
   "id": "6c2ca8cd",
   "metadata": {},
   "outputs": [
    {
     "data": {
      "text/plain": [
       "count    6500.000000\n",
       "mean     3115.445388\n",
       "std       836.895330\n",
       "min       244.210438\n",
       "25%      2785.444017\n",
       "50%      3148.637229\n",
       "75%      3560.574425\n",
       "max      5699.769662\n",
       "Name: distance, dtype: float64"
      ]
     },
     "execution_count": 47,
     "metadata": {},
     "output_type": "execute_result"
    }
   ],
   "source": [
    "ultra_sub['distance'].describe()"
   ]
  },
  {
   "cell_type": "markdown",
   "id": "00335a51",
   "metadata": {},
   "source": [
    "Можем наблюдать, что без подписки совершаются более длительные поездки, но медианные значения расстояния и с подпиской и без схожи - в районе 3000 м. "
   ]
  },
  {
   "cell_type": "markdown",
   "id": "a911fed1",
   "metadata": {},
   "source": [
    "###### О времени поездок"
   ]
  },
  {
   "cell_type": "code",
   "execution_count": 48,
   "id": "22b6157f",
   "metadata": {},
   "outputs": [
    {
     "data": {
      "image/png": "[encoded data removed]",
      "text/plain": [
       "<Figure size 432x288 with 1 Axes>"
      ]
     },
     "metadata": {
      "needs_background": "light"
     },
     "output_type": "display_data"
    }
   ],
   "source": [
    "plt.hist([free_sub['duration'], ultra_sub['duration']],\n",
    "         bins=30,\n",
    "         ec='black',\n",
    "         stacked=False)\n",
    "plt.title('Длительность поездок с подпиской')\n",
    "plt.xlabel('Длительность')\n",
    "plt.ylabel('Количество поездок')\n",
    "plt.legend(['без подписки', 'с подпиской'])\n",
    "plt.show()"
   ]
  },
  {
   "cell_type": "code",
   "execution_count": 49,
   "id": "dcc27bb4",
   "metadata": {},
   "outputs": [
    {
     "data": {
      "text/plain": [
       "count    11473.000000\n",
       "mean        17.530771\n",
       "std          6.162609\n",
       "min          2.035632\n",
       "25%         13.085688\n",
       "50%         17.383807\n",
       "75%         21.638038\n",
       "max         34.948498\n",
       "Name: duration, dtype: float64"
      ]
     },
     "execution_count": 49,
     "metadata": {},
     "output_type": "execute_result"
    }
   ],
   "source": [
    "free_sub['duration'].describe()"
   ]
  },
  {
   "cell_type": "code",
   "execution_count": 50,
   "id": "26c4c1f2",
   "metadata": {},
   "outputs": [
    {
     "data": {
      "text/plain": [
       "count    6500.000000\n",
       "mean       18.541985\n",
       "std         5.572048\n",
       "min         3.760353\n",
       "25%        14.524654\n",
       "50%        18.178153\n",
       "75%        21.884129\n",
       "max        40.823963\n",
       "Name: duration, dtype: float64"
      ]
     },
     "execution_count": 50,
     "metadata": {},
     "output_type": "execute_result"
    }
   ],
   "source": [
    "ultra_sub['duration'].describe()"
   ]
  },
  {
   "cell_type": "markdown",
   "id": "a308cf6d",
   "metadata": {},
   "source": [
    "В шаге 4 изучены различия в поведении двух групп - с подпиской и без подписки: <br>Медианные значения и у пользователей с подпиской, и без - в районе 17-18 минут. <br> Также можем наблюдать, что минимальное время у пользователей без подписки - 2 минуты, а с подпиской - от 4 минут. Некоторые пользователи без подписки не могут преодолеть страх поездки, а подписку приобретают более опытные пользователи.<br> Удивительно, что пользователь с подпиской совершил самую длительную поездку (40 минут), несмотря на то что самую большую по расстоянию поездку совершил пользователь без подписки. Вероятно это связано с тем, что с подпиской пользователь дает себе больше свободы (не считать каждую копейку, имеет возможность не завершать поездку, а просто постоять с самокатом). Продвижение подписки может принести выгоду в таком случае - заряд самоката меньше тратится, но деньги все равно списываются."
   ]
  },
  {
   "cell_type": "markdown",
   "id": "7e8dbd1b",
   "metadata": {},
   "source": [
    "#### Шаг 5. Подсчёт выручки"
   ]
  },
  {
   "cell_type": "markdown",
   "id": "49e858fa",
   "metadata": {},
   "source": [
    "#####  Сводная таблица  (суммарное расстояние, количество поездок и суммарное время для каждого пользователя за каждый месяц)"
   ]
  },
  {
   "cell_type": "code",
   "execution_count": 51,
   "id": "29a23663",
   "metadata": {},
   "outputs": [
    {
     "data": {
      "text/html": [
       "<div>\n",
       "<style scoped>\n",
       "    .dataframe tbody tr th:only-of-type {\n",
       "        vertical-align: middle;\n",
       "    }\n",
       "\n",
       "    .dataframe tbody tr th {\n",
       "        vertical-align: top;\n",
       "    }\n",
       "\n",
       "    .dataframe thead th {\n",
       "        text-align: right;\n",
       "    }\n",
       "</style>\n",
       "<table border=\"1\" class=\"dataframe\">\n",
       "  <thead>\n",
       "    <tr style=\"text-align: right;\">\n",
       "      <th></th>\n",
       "      <th></th>\n",
       "      <th>distance</th>\n",
       "      <th>duration</th>\n",
       "      <th>minute_price</th>\n",
       "      <th>name</th>\n",
       "      <th>start_ride_price</th>\n",
       "      <th>subscription_fee</th>\n",
       "      <th>subscription_type</th>\n",
       "    </tr>\n",
       "    <tr>\n",
       "      <th>month</th>\n",
       "      <th>user_id</th>\n",
       "      <th></th>\n",
       "      <th></th>\n",
       "      <th></th>\n",
       "      <th></th>\n",
       "      <th></th>\n",
       "      <th></th>\n",
       "      <th></th>\n",
       "    </tr>\n",
       "  </thead>\n",
       "  <tbody>\n",
       "    <tr>\n",
       "      <th rowspan=\"5\" valign=\"top\">1</th>\n",
       "      <th>1</th>\n",
       "      <td>7027.511294</td>\n",
       "      <td>42.0</td>\n",
       "      <td>6</td>\n",
       "      <td>2</td>\n",
       "      <td>0</td>\n",
       "      <td>199</td>\n",
       "      <td>ultra</td>\n",
       "    </tr>\n",
       "    <tr>\n",
       "      <th>3</th>\n",
       "      <td>3061.777147</td>\n",
       "      <td>13.0</td>\n",
       "      <td>6</td>\n",
       "      <td>1</td>\n",
       "      <td>0</td>\n",
       "      <td>199</td>\n",
       "      <td>ultra</td>\n",
       "    </tr>\n",
       "    <tr>\n",
       "      <th>5</th>\n",
       "      <td>3914.646990</td>\n",
       "      <td>13.0</td>\n",
       "      <td>6</td>\n",
       "      <td>1</td>\n",
       "      <td>0</td>\n",
       "      <td>199</td>\n",
       "      <td>ultra</td>\n",
       "    </tr>\n",
       "    <tr>\n",
       "      <th>7</th>\n",
       "      <td>6478.080979</td>\n",
       "      <td>28.0</td>\n",
       "      <td>6</td>\n",
       "      <td>2</td>\n",
       "      <td>0</td>\n",
       "      <td>199</td>\n",
       "      <td>ultra</td>\n",
       "    </tr>\n",
       "    <tr>\n",
       "      <th>12</th>\n",
       "      <td>3577.151148</td>\n",
       "      <td>33.0</td>\n",
       "      <td>6</td>\n",
       "      <td>1</td>\n",
       "      <td>0</td>\n",
       "      <td>199</td>\n",
       "      <td>ultra</td>\n",
       "    </tr>\n",
       "    <tr>\n",
       "      <th>...</th>\n",
       "      <th>...</th>\n",
       "      <td>...</td>\n",
       "      <td>...</td>\n",
       "      <td>...</td>\n",
       "      <td>...</td>\n",
       "      <td>...</td>\n",
       "      <td>...</td>\n",
       "      <td>...</td>\n",
       "    </tr>\n",
       "    <tr>\n",
       "      <th rowspan=\"5\" valign=\"top\">12</th>\n",
       "      <th>1525</th>\n",
       "      <td>4597.854350</td>\n",
       "      <td>34.0</td>\n",
       "      <td>8</td>\n",
       "      <td>1</td>\n",
       "      <td>50</td>\n",
       "      <td>0</td>\n",
       "      <td>free</td>\n",
       "    </tr>\n",
       "    <tr>\n",
       "      <th>1526</th>\n",
       "      <td>3644.121544</td>\n",
       "      <td>23.0</td>\n",
       "      <td>8</td>\n",
       "      <td>1</td>\n",
       "      <td>50</td>\n",
       "      <td>0</td>\n",
       "      <td>free</td>\n",
       "    </tr>\n",
       "    <tr>\n",
       "      <th>1528</th>\n",
       "      <td>3998.569324</td>\n",
       "      <td>11.0</td>\n",
       "      <td>8</td>\n",
       "      <td>1</td>\n",
       "      <td>50</td>\n",
       "      <td>0</td>\n",
       "      <td>free</td>\n",
       "    </tr>\n",
       "    <tr>\n",
       "      <th>1532</th>\n",
       "      <td>6111.889853</td>\n",
       "      <td>42.0</td>\n",
       "      <td>8</td>\n",
       "      <td>2</td>\n",
       "      <td>50</td>\n",
       "      <td>0</td>\n",
       "      <td>free</td>\n",
       "    </tr>\n",
       "    <tr>\n",
       "      <th>1534</th>\n",
       "      <td>2371.711192</td>\n",
       "      <td>16.0</td>\n",
       "      <td>8</td>\n",
       "      <td>1</td>\n",
       "      <td>50</td>\n",
       "      <td>0</td>\n",
       "      <td>free</td>\n",
       "    </tr>\n",
       "  </tbody>\n",
       "</table>\n",
       "<p>11300 rows × 7 columns</p>\n",
       "</div>"
      ],
      "text/plain": [
       "                  distance  duration  minute_price  name  start_ride_price  \\\n",
       "month user_id                                                                \n",
       "1     1        7027.511294      42.0             6     2                 0   \n",
       "      3        3061.777147      13.0             6     1                 0   \n",
       "      5        3914.646990      13.0             6     1                 0   \n",
       "      7        6478.080979      28.0             6     2                 0   \n",
       "      12       3577.151148      33.0             6     1                 0   \n",
       "...                    ...       ...           ...   ...               ...   \n",
       "12    1525     4597.854350      34.0             8     1                50   \n",
       "      1526     3644.121544      23.0             8     1                50   \n",
       "      1528     3998.569324      11.0             8     1                50   \n",
       "      1532     6111.889853      42.0             8     2                50   \n",
       "      1534     2371.711192      16.0             8     1                50   \n",
       "\n",
       "               subscription_fee subscription_type  \n",
       "month user_id                                      \n",
       "1     1                     199             ultra  \n",
       "      3                     199             ultra  \n",
       "      5                     199             ultra  \n",
       "      7                     199             ultra  \n",
       "      12                    199             ultra  \n",
       "...                         ...               ...  \n",
       "12    1525                    0              free  \n",
       "      1526                    0              free  \n",
       "      1528                    0              free  \n",
       "      1532                    0              free  \n",
       "      1534                    0              free  \n",
       "\n",
       "[11300 rows x 7 columns]"
      ]
     },
     "execution_count": 51,
     "metadata": {},
     "output_type": "execute_result"
    }
   ],
   "source": [
    "data['duration'] = np.ceil(data['duration']) # округляем значения методом \"потолок\" библиотеки numpy\n",
    "data_pivot = data.pivot_table(\n",
    "                              index=['month', 'user_id'],\n",
    "                              values = ['distance', 'duration', 'name', 'subscription_type','minute_price', 'start_ride_price', 'subscription_fee'],\n",
    "                              aggfunc = {'distance': sum, \n",
    "                                         'duration' : sum, \n",
    "                                         'name' : 'count', \n",
    "                                         'subscription_type' : min,\n",
    "                                         'minute_price': 'mean',\n",
    "                                         'start_ride_price':'mean',\n",
    "                                         'subscription_fee':'mean',})\n",
    "data_pivot"
   ]
  },
  {
   "cell_type": "markdown",
   "id": "46854af8",
   "metadata": {},
   "source": [
    "##### Добавление столбца с помесячной выручкой"
   ]
  },
  {
   "cell_type": "markdown",
   "id": "21b537d7",
   "metadata": {},
   "source": [
    "Помесячная выручка считается по формуле: <br>\n",
    "стоимость старта поездки ×  количество поездок + стоимость одной минуты поездки × общая продолжительность всех поездок в минутах + стоимость подписки.<br>\n",
    "Количество поездок считаем как количество подсчета имени в датафрейме"
   ]
  },
  {
   "cell_type": "code",
   "execution_count": 52,
   "id": "51369de5",
   "metadata": {},
   "outputs": [
    {
     "data": {
      "text/html": [
       "<div>\n",
       "<style scoped>\n",
       "    .dataframe tbody tr th:only-of-type {\n",
       "        vertical-align: middle;\n",
       "    }\n",
       "\n",
       "    .dataframe tbody tr th {\n",
       "        vertical-align: top;\n",
       "    }\n",
       "\n",
       "    .dataframe thead th {\n",
       "        text-align: right;\n",
       "    }\n",
       "</style>\n",
       "<table border=\"1\" class=\"dataframe\">\n",
       "  <thead>\n",
       "    <tr style=\"text-align: right;\">\n",
       "      <th></th>\n",
       "      <th></th>\n",
       "      <th>distance</th>\n",
       "      <th>duration</th>\n",
       "      <th>minute_price</th>\n",
       "      <th>name</th>\n",
       "      <th>start_ride_price</th>\n",
       "      <th>subscription_fee</th>\n",
       "      <th>subscription_type</th>\n",
       "      <th>revenue</th>\n",
       "    </tr>\n",
       "    <tr>\n",
       "      <th>month</th>\n",
       "      <th>user_id</th>\n",
       "      <th></th>\n",
       "      <th></th>\n",
       "      <th></th>\n",
       "      <th></th>\n",
       "      <th></th>\n",
       "      <th></th>\n",
       "      <th></th>\n",
       "      <th></th>\n",
       "    </tr>\n",
       "  </thead>\n",
       "  <tbody>\n",
       "    <tr>\n",
       "      <th rowspan=\"5\" valign=\"top\">1</th>\n",
       "      <th>1</th>\n",
       "      <td>7027.511294</td>\n",
       "      <td>42.0</td>\n",
       "      <td>6</td>\n",
       "      <td>2</td>\n",
       "      <td>0</td>\n",
       "      <td>199</td>\n",
       "      <td>ultra</td>\n",
       "      <td>451.0</td>\n",
       "    </tr>\n",
       "    <tr>\n",
       "      <th>3</th>\n",
       "      <td>3061.777147</td>\n",
       "      <td>13.0</td>\n",
       "      <td>6</td>\n",
       "      <td>1</td>\n",
       "      <td>0</td>\n",
       "      <td>199</td>\n",
       "      <td>ultra</td>\n",
       "      <td>277.0</td>\n",
       "    </tr>\n",
       "    <tr>\n",
       "      <th>5</th>\n",
       "      <td>3914.646990</td>\n",
       "      <td>13.0</td>\n",
       "      <td>6</td>\n",
       "      <td>1</td>\n",
       "      <td>0</td>\n",
       "      <td>199</td>\n",
       "      <td>ultra</td>\n",
       "      <td>277.0</td>\n",
       "    </tr>\n",
       "    <tr>\n",
       "      <th>7</th>\n",
       "      <td>6478.080979</td>\n",
       "      <td>28.0</td>\n",
       "      <td>6</td>\n",
       "      <td>2</td>\n",
       "      <td>0</td>\n",
       "      <td>199</td>\n",
       "      <td>ultra</td>\n",
       "      <td>367.0</td>\n",
       "    </tr>\n",
       "    <tr>\n",
       "      <th>12</th>\n",
       "      <td>3577.151148</td>\n",
       "      <td>33.0</td>\n",
       "      <td>6</td>\n",
       "      <td>1</td>\n",
       "      <td>0</td>\n",
       "      <td>199</td>\n",
       "      <td>ultra</td>\n",
       "      <td>397.0</td>\n",
       "    </tr>\n",
       "    <tr>\n",
       "      <th>...</th>\n",
       "      <th>...</th>\n",
       "      <td>...</td>\n",
       "      <td>...</td>\n",
       "      <td>...</td>\n",
       "      <td>...</td>\n",
       "      <td>...</td>\n",
       "      <td>...</td>\n",
       "      <td>...</td>\n",
       "      <td>...</td>\n",
       "    </tr>\n",
       "    <tr>\n",
       "      <th rowspan=\"5\" valign=\"top\">12</th>\n",
       "      <th>1525</th>\n",
       "      <td>4597.854350</td>\n",
       "      <td>34.0</td>\n",
       "      <td>8</td>\n",
       "      <td>1</td>\n",
       "      <td>50</td>\n",
       "      <td>0</td>\n",
       "      <td>free</td>\n",
       "      <td>322.0</td>\n",
       "    </tr>\n",
       "    <tr>\n",
       "      <th>1526</th>\n",
       "      <td>3644.121544</td>\n",
       "      <td>23.0</td>\n",
       "      <td>8</td>\n",
       "      <td>1</td>\n",
       "      <td>50</td>\n",
       "      <td>0</td>\n",
       "      <td>free</td>\n",
       "      <td>234.0</td>\n",
       "    </tr>\n",
       "    <tr>\n",
       "      <th>1528</th>\n",
       "      <td>3998.569324</td>\n",
       "      <td>11.0</td>\n",
       "      <td>8</td>\n",
       "      <td>1</td>\n",
       "      <td>50</td>\n",
       "      <td>0</td>\n",
       "      <td>free</td>\n",
       "      <td>138.0</td>\n",
       "    </tr>\n",
       "    <tr>\n",
       "      <th>1532</th>\n",
       "      <td>6111.889853</td>\n",
       "      <td>42.0</td>\n",
       "      <td>8</td>\n",
       "      <td>2</td>\n",
       "      <td>50</td>\n",
       "      <td>0</td>\n",
       "      <td>free</td>\n",
       "      <td>436.0</td>\n",
       "    </tr>\n",
       "    <tr>\n",
       "      <th>1534</th>\n",
       "      <td>2371.711192</td>\n",
       "      <td>16.0</td>\n",
       "      <td>8</td>\n",
       "      <td>1</td>\n",
       "      <td>50</td>\n",
       "      <td>0</td>\n",
       "      <td>free</td>\n",
       "      <td>178.0</td>\n",
       "    </tr>\n",
       "  </tbody>\n",
       "</table>\n",
       "<p>11300 rows × 8 columns</p>\n",
       "</div>"
      ],
      "text/plain": [
       "                  distance  duration  minute_price  name  start_ride_price  \\\n",
       "month user_id                                                                \n",
       "1     1        7027.511294      42.0             6     2                 0   \n",
       "      3        3061.777147      13.0             6     1                 0   \n",
       "      5        3914.646990      13.0             6     1                 0   \n",
       "      7        6478.080979      28.0             6     2                 0   \n",
       "      12       3577.151148      33.0             6     1                 0   \n",
       "...                    ...       ...           ...   ...               ...   \n",
       "12    1525     4597.854350      34.0             8     1                50   \n",
       "      1526     3644.121544      23.0             8     1                50   \n",
       "      1528     3998.569324      11.0             8     1                50   \n",
       "      1532     6111.889853      42.0             8     2                50   \n",
       "      1534     2371.711192      16.0             8     1                50   \n",
       "\n",
       "               subscription_fee subscription_type  revenue  \n",
       "month user_id                                               \n",
       "1     1                     199             ultra    451.0  \n",
       "      3                     199             ultra    277.0  \n",
       "      5                     199             ultra    277.0  \n",
       "      7                     199             ultra    367.0  \n",
       "      12                    199             ultra    397.0  \n",
       "...                         ...               ...      ...  \n",
       "12    1525                    0              free    322.0  \n",
       "      1526                    0              free    234.0  \n",
       "      1528                    0              free    138.0  \n",
       "      1532                    0              free    436.0  \n",
       "      1534                    0              free    178.0  \n",
       "\n",
       "[11300 rows x 8 columns]"
      ]
     },
     "execution_count": 52,
     "metadata": {},
     "output_type": "execute_result"
    }
   ],
   "source": [
    "data_pivot['revenue'] = (\n",
    "data_pivot['start_ride_price']*data_pivot['name']+data_pivot['minute_price']*data_pivot['duration']+data_pivot['subscription_fee'])\n",
    "data_pivot"
   ]
  },
  {
   "cell_type": "code",
   "execution_count": 53,
   "id": "5a3e41ba",
   "metadata": {},
   "outputs": [
    {
     "data": {
      "image/png": "[encoded data removed]",
      "text/plain": [
       "<Figure size 432x288 with 1 Axes>"
      ]
     },
     "metadata": {
      "needs_background": "light"
     },
     "output_type": "display_data"
    }
   ],
   "source": [
    "data_pivot['revenue'].hist( bins = 50, ec='black')\n",
    "plt.title('Помесячная выручка на пользователя')\n",
    "plt.xlabel('Стоимость для пользователя')\n",
    "plt.ylabel('Количество поездок')\n",
    "plt.show()"
   ]
  },
  {
   "cell_type": "code",
   "execution_count": 54,
   "id": "2504eae0",
   "metadata": {},
   "outputs": [
    {
     "data": {
      "text/plain": [
       "count    11300.000000\n",
       "mean       342.754956\n",
       "std        153.317314\n",
       "min         74.000000\n",
       "25%        234.000000\n",
       "50%        319.000000\n",
       "75%        415.000000\n",
       "max       1444.000000\n",
       "Name: revenue, dtype: float64"
      ]
     },
     "execution_count": 54,
     "metadata": {},
     "output_type": "execute_result"
    }
   ],
   "source": [
    "data_pivot['revenue'].describe()"
   ]
  },
  {
   "cell_type": "markdown",
   "id": "7b85e744",
   "metadata": {},
   "source": [
    "В среднем выручка в месяц составляет 342.0 на пользователя, максимально 1444.0 на пользователя."
   ]
  },
  {
   "cell_type": "code",
   "execution_count": 55,
   "id": "e1bb58ab",
   "metadata": {},
   "outputs": [
    {
     "name": "stdout",
     "output_type": "stream",
     "text": [
      "Выручка за год составила : 3873131.0 руб.\n"
     ]
    }
   ],
   "source": [
    "print ('Выручка за год составила :',data_pivot['revenue'].sum(), 'руб.')"
   ]
  },
  {
   "cell_type": "markdown",
   "id": "d13b2bc8",
   "metadata": {},
   "source": [
    "В шаге 5 рассчитаны:\n",
    "* выручка за 2021 год: 3873131 рублей;\n",
    "* помесячная выручка на пользователя: в среднем выручка в месяц составляет 342.0, максимально 1444.0."
   ]
  },
  {
   "cell_type": "markdown",
   "id": "19ef0b05",
   "metadata": {},
   "source": [
    "#### Шаг 6. Проверка гипотез"
   ]
  },
  {
   "cell_type": "markdown",
   "id": "5f3a8baf",
   "metadata": {},
   "source": [
    "##### Гипотеза 1. Пользователи с подпиской больше времени на поездки."
   ]
  },
  {
   "cell_type": "markdown",
   "id": "027121db",
   "metadata": {},
   "source": [
    "Гипотеза Н0: Средняя продолжительность поездок с подпиской ‘ultra’ и без подписки равна. <br>\n",
    "Гипотеза Н1: Средняя продолжительность поездок с подпиской ‘ultra’ больше, чем без подписки."
   ]
  },
  {
   "cell_type": "code",
   "execution_count": 56,
   "id": "06f6e5cd",
   "metadata": {},
   "outputs": [
    {
     "name": "stdout",
     "output_type": "stream",
     "text": [
      "Cреднее время, которое тратят пользователи с подпиской: 19.0\n",
      "Cреднее время, которое тратят пользователи без подписки: 18.0\n",
      "p-значение: 4.704468074453899e-28\n",
      "Отвергаем нулевую гипотезу\n"
     ]
    }
   ],
   "source": [
    "free = free_sub['duration']\n",
    "ultra =  ultra_sub['duration']\n",
    "print(f'Cреднее время, которое тратят пользователи с подпиской: {ultra.mean().round()}')\n",
    "print(f'Cреднее время, которое тратят пользователи без подписки: {free.mean().round()}')\n",
    "\n",
    "\n",
    "#выбранный уровень статистической значимости\n",
    "alpha = 0.05\n",
    "\n",
    "results = st.ttest_ind(ultra, free, alternative = 'greater')\n",
    "\n",
    "# вычисляем p-value\n",
    "print('p-значение:', results.pvalue)\n",
    "\n",
    "# сделаем сравнение p-value с alpha\n",
    "\n",
    "if results.pvalue < alpha: \n",
    "    print('Отвергаем нулевую гипотезу')\n",
    "else:\n",
    "    print('Не отвергаем нулевую гипотезу')"
   ]
  },
  {
   "cell_type": "markdown",
   "id": "94f8c5af",
   "metadata": {},
   "source": [
    "По среднему значению пользователи с подпиской тратят на 1 минуту больше на поездки. <br> Нулевая гипотеза отвергается, считаем, что пользователи с подпиской тратят больше времени тратят на поездки."
   ]
  },
  {
   "cell_type": "markdown",
   "id": "7b25fcf8",
   "metadata": {},
   "source": [
    "##### Гипотеза 2. Среднее расстояние, которое проезжают пользователи с подпиской за одну поездку, не превышает 3130 метров"
   ]
  },
  {
   "cell_type": "markdown",
   "id": "755f9cda",
   "metadata": {},
   "source": [
    "Гипотеза Н0: Расстояние поездки пользователей с подпиской ultra = 3130 метров <br>\n",
    "Гипотеза Н1: Расстояние поездки пользователей с подпиской ultra > 3130 метров"
   ]
  },
  {
   "cell_type": "code",
   "execution_count": 57,
   "id": "db79dc05",
   "metadata": {},
   "outputs": [
    {
     "name": "stdout",
     "output_type": "stream",
     "text": [
      "Cреднее расстояние поездок пользователи с подпиской: 3115.0\n",
      "0.9195368847849785\n",
      "Не получилось отвергнуть нулевую гипотезу\n"
     ]
    }
   ],
   "source": [
    "distance = 3130\n",
    "alpha = 0.05\n",
    "real_distance = ultra_sub['distance']\n",
    "\n",
    "print(f'Cреднее расстояние поездок пользователи с подпиской: {real_distance.mean().round()}')\n",
    "\n",
    "results = st.ttest_1samp(\n",
    "    real_distance, \n",
    "    distance,\n",
    "    alternative='greater')\n",
    "\n",
    "print(results.pvalue)\n",
    "\n",
    "if results.pvalue < alpha:\n",
    "    print('Отвергаем нулевую гипотезу')\n",
    "else:\n",
    "    print('Не получилось отвергнуть нулевую гипотезу')"
   ]
  },
  {
   "cell_type": "markdown",
   "id": "9baa3e6f",
   "metadata": {},
   "source": [
    "Не получилось отвергнуть нулевую гипотезу: не можем утверждать, что расстояние, которое проехали пользователи на тарифе ultra не равно/меньше 3130 метров. <br>\n",
    "В тоже время среднее значение составляет 3115.0 метров и не превышает 3130 метров - данные не противоречат гипотезе."
   ]
  },
  {
   "cell_type": "markdown",
   "id": "a65b59c9",
   "metadata": {},
   "source": [
    "##### Гипотеза 3. Помесячная выручка от пользователей с подпиской по месяцам выше, чем выручка от пользователей без подписки"
   ]
  },
  {
   "cell_type": "markdown",
   "id": "9cdc342e",
   "metadata": {},
   "source": [
    "Гипотеза Н0: помесячная выручка от пользователей с подпиской ultra равна выручке от пользователей без подписки.\n",
    "Гипотеза Н1: помесячная выручка от пользователей с подпиской ultra выше выручки от пользователей без подписки."
   ]
  },
  {
   "cell_type": "code",
   "execution_count": 58,
   "id": "8cf1dd3a",
   "metadata": {},
   "outputs": [
    {
     "name": "stdout",
     "output_type": "stream",
     "text": [
      "Средняя выручка пользователей с подпиской: 362.7921906022502\n",
      "Средняя выручка пользователей без подписки: 329.3326437121324\n",
      "p-значение: 2.0314113674863288e-30\n",
      "Отвергаем нулевую гипотезу\n"
     ]
    }
   ],
   "source": [
    "ultra_revenue = data_pivot.query('subscription_type == \"ultra\"')['revenue']\n",
    "free_revenue =  data_pivot.query('subscription_type == \"free\"')['revenue']\n",
    "\n",
    "print(f'Средняя выручка пользователей с подпиской: {ultra_revenue.mean()}')\n",
    "print(f'Средняя выручка пользователей без подписки: {free_revenue.mean()}')\n",
    "#выбранный уровень статистической значимости\n",
    "alpha = 0.05\n",
    "\n",
    "results = st.ttest_ind(ultra_revenue, free_revenue, alternative = 'greater')\n",
    "\n",
    "# вычисляем p-value\n",
    "print('p-значение:', results.pvalue)\n",
    "\n",
    "# сделаем сравнение p-value с alpha\n",
    "\n",
    "if results.pvalue < alpha: \n",
    "    print('Отвергаем нулевую гипотезу')\n",
    "else:\n",
    "    print('Не отвергаем нулевую гипотезу')"
   ]
  },
  {
   "cell_type": "markdown",
   "id": "fb123cc8",
   "metadata": {},
   "source": [
    "Отвергаем нулевую гипотезу - выручка не равна. <br>\n",
    "Средняя выручка пользователей с подпиской выше средней выручки пользователей без подписки."
   ]
  },
  {
   "cell_type": "markdown",
   "id": "a3e88e9b",
   "metadata": {},
   "source": [
    "##### Гипотеза 4. Количество обращений до обновления и после него"
   ]
  },
  {
   "cell_type": "markdown",
   "id": "d234104e",
   "metadata": {},
   "source": [
    "Выборки по условию задачи не вляются зависимыми, поэтому сначала стоит провести сравнение выборок на предмет соответствия уникальных пользователей в них.\n",
    "Если в данных некоторая переменная измеряется до и после (количество обращений до обновления и после него) для одних и тех же объектов и имеют одинаковые размеры, стоит использовать гипотезу о равенстве средних для зависимых/парных выборок.<br>\n",
    "Гипотеза Н0 : k1 = k2<br>\n",
    "Гипотеза H1 : k1 < k2\n",
    "где k1 и k2 - средние значения количество обращений в техподдержку до и после изменения. <br>\n",
    "Метод, который требуется использовать для сравнения: scipy.stats.ttest_rel()<br>\n",
    "Стоит указать alternative='less', проверится левосторонняя альтернативная гипотеза о том, что истинное среднее генеральной совокупности, из которой взяли первую выборку, меньше, чем истинное среднее генеральной совокупности, из которой взяли вторую.<br>\n",
    "Если выборки разного размера и/или можно предположить, что дисперсии у генеральных совокупностей разные, надо использовать метод scipy.stats.ttest_ind(). и указать параметр equal_var=False"
   ]
  },
  {
   "cell_type": "markdown",
   "id": "db74f6ee",
   "metadata": {},
   "source": [
    "В шаге 6 проверены некоторые гипотезы, которые могут помочь бизнесу вырасти:\n",
    "1. Тратят ли пользователи с подпиской больше времени на поездки : после проведения теста нулевую гипотезу отвергаем. <br>Среднее значение подтверждает нам, что с подпиской длительность поездки больше.\n",
    "\n",
    "2. Среднее расстояние, которое проезжают пользователи с подпиской за одну поездку, не превышает 3130 метров: после проведения нулевую гипотезу не отвергаем. <br> Не можем утверждать, что расстояние, которое проехали пользователи на тарифе ultra не равно/меньше 3130 метров. <br>В тоже время среднее значение составляет 3115.0 метров и не превышает 3130 метров - данные не противоречат гипотезе.<br>\n",
    "\n",
    "3. Помесячная выручка от пользователей с подпиской по месяцам выше, чем выручка от пользователей без подписки: после проведения теста мы отвергаем нулевую гипотезу (выручка не равна). Средняя выручка пользователей с подпиской выше средней выручки пользователей без подписки."
   ]
  },
  {
   "cell_type": "markdown",
   "id": "8d8a796d",
   "metadata": {},
   "source": [
    "#### Шаг 7. Распределения"
   ]
  },
  {
   "cell_type": "markdown",
   "id": "4be42833",
   "metadata": {},
   "source": [
    "##### Акция. Минимальное количество промокодов"
   ]
  },
  {
   "cell_type": "markdown",
   "id": "595940a3",
   "metadata": {},
   "source": [
    "Отделу маркетинга GoFast поставили задачу: нужно провести акцию с раздачей промокодов на один бесплатный месяц подписки, в рамках которой как минимум 100 существующих клиентов должны продлить эту подписку. <br>\n",
    "То есть по завершении периода действия подписки пользователь может либо отказаться от неё, либо продлить, совершив соответствующий платёж.<br> \n",
    "Эта акция уже проводилась ранее и по итогу выяснилось, что после бесплатного пробного периода подписку продлевают 10 % пользователей. <br>\n",
    "Определим, какое минимальное количество промокодов нужно разослать, чтобы вероятность не выполнить план была примерно 5 %. "
   ]
  },
  {
   "cell_type": "markdown",
   "id": "b125fec9",
   "metadata": {},
   "source": [
    "Нужно использовать биномиальное распределение и метод cdf(), для построения распределения - принимаем характеристики нормального распределения равными характеристикам биномиального."
   ]
  },
  {
   "cell_type": "code",
   "execution_count": 59,
   "id": "c8933167",
   "metadata": {},
   "outputs": [
    {
     "name": "stdout",
     "output_type": "stream",
     "text": [
      "При раздаче 1172 промокодов вероятность не выполнить план меньше 5.0 %\n"
     ]
    },
    {
     "data": {
      "image/png": "[encoded data removed]",
      "text/plain": [
       "<Figure size 432x288 with 1 Axes>"
      ]
     },
     "metadata": {
      "needs_background": "light"
     },
     "output_type": "display_data"
    }
   ],
   "source": [
    "n = 1000\n",
    "p = 0.1\n",
    "k = 100\n",
    "binom_cdf = 0.05\n",
    "\n",
    "while binom_cdf < binom.cdf(k, n, p):\n",
    "    n += 1\n",
    "print(f'При раздаче {n} промокодов вероятность не выполнить план меньше {binom.cdf(k, n, p).round(2)*100} %')\n",
    "\n",
    "mu = n * p # математическое ожидание  нормального распределения\n",
    "sigma = (n * p * (1 - p))**0.5 # стандартное отклонение  нормального распределения\n",
    "\n",
    "distr = [] #список distr, в котором храним значения распределения\n",
    "# Интервалы задаем по правилу 3-х сигм\n",
    "for k in range(int(mu - 3 * sigma), int(mu + 3 * sigma)):\n",
    "    current_value = binom.pmf(k, n, p)\n",
    "    distr.append(current_value)\n",
    "    \n",
    "plt.bar(range(int(mu - 3 * sigma), int(mu + 3 * sigma)), distr)\n",
    "plt.title('График распределения вероятности')\n",
    "plt.xlabel('Количество клиентов')\n",
    "plt.ylabel('Вероятность выполнить план')\n",
    "plt.show()"
   ]
  },
  {
   "cell_type": "markdown",
   "id": "9f5ade53",
   "metadata": {},
   "source": [
    "Вывод: Требуется разослать 1172 промокода, что приведет к продлению подписки с вероятностью 10% события - 100 клиентов продлят подписку с вероятностью неуспеха не более 5%."
   ]
  },
  {
   "cell_type": "markdown",
   "id": "95de5ae9",
   "metadata": {},
   "source": [
    "##### Открытие push-уведомлений в мобильном приложении"
   ]
  },
  {
   "cell_type": "markdown",
   "id": "a152922e",
   "metadata": {},
   "source": [
    "Отдел маркетинга рассылает клиентам push-уведомления в мобильном приложении. <br>Клиенты могут открыть его или не открывать. <br>Известно, что уведомления открывают около 40 % получивших клиентов.Отдел планирует разослать 1 млн уведомлений. <br> С помощью аппроксимации построим примерный график распределения и оценим вероятность того, что уведомление откроют не более 399,5 тыс. пользователей."
   ]
  },
  {
   "cell_type": "code",
   "execution_count": 60,
   "id": "4bed99d1",
   "metadata": {},
   "outputs": [
    {
     "name": "stdout",
     "output_type": "stream",
     "text": [
      "Вероятность открытия сообщений: 0.15371708296369768\n"
     ]
    },
    {
     "data": {
      "image/png": "[encoded data removed]",
      "text/plain": [
       "<Figure size 432x288 with 1 Axes>"
      ]
     },
     "metadata": {
      "needs_background": "light"
     },
     "output_type": "display_data"
    }
   ],
   "source": [
    "n = 1000000\n",
    "p = 0.4\n",
    "k = 399500\n",
    "\n",
    "mu = n * p # математическое ожидание нормального распределения\n",
    "sigma = (n * p * (1 - p))**0.5 # стандартное отклонение нормального распределения \n",
    "\n",
    "push = st.norm(mu, sigma) # нормальное распределение\n",
    "\n",
    "# считаем вероятность значений слева от 399.5 тысяч\n",
    "result = push.cdf(k)\n",
    "print('Вероятность открытия сообщений:', result)\n",
    "\n",
    "distr = [] #список distr, в котором храним значения распределения\n",
    "# Интервалы задаем по правилу 3-х сигм\n",
    "\n",
    "for k in range(int(mu - 3 * sigma), int(mu + 3 * sigma)):\n",
    "    current_value = binom.pmf(k, n, p)\n",
    "    distr.append(current_value)\n",
    "\n",
    "plt.bar(range(int(mu - 3 * sigma), int(mu + 3 * sigma)), distr)\n",
    "plt.title('График распределения вероятности')\n",
    "plt.xlabel('Количество пользователей')\n",
    "plt.ylabel('Вероятность открытия push-уведомления')\n",
    "plt.show()"
   ]
  },
  {
   "cell_type": "markdown",
   "id": "02223cdf",
   "metadata": {},
   "source": [
    "Вывод: 399.5 тыс. клиентов откроют уведомления с вероятностью 15%, если разослать 1 млн. уведомлений, которое открывают клиенты с вероятностью 40%."
   ]
  },
  {
   "cell_type": "markdown",
   "id": "f76a1877",
   "metadata": {},
   "source": [
    "<h1> Общий вывод: </h1>"
   ]
  },
  {
   "cell_type": "markdown",
   "id": "bf1fd5ba",
   "metadata": {},
   "source": [
    "Проанализированы и обработаны данные сервиса аренды самокатов GoFast, проверены некоторые гипотезы, которые могут помочь бизнесу вырасти, а также решены задачи, которые можно применить на практике.<br> \n",
    "1. На 1 этапе загружены и просмотрены данные датафремов. \n",
    "\n",
    "2. В ходе 2 шага выполнены работы:\n",
    "* изменен формат стобца 'date' в формат даты\n",
    "* добавлен новый столбец 'month'\n",
    "* изучены данные на предмет пропущенных значений и дупликатов в датафреймах - исключен 31 явный дупликат в наборе данных 'users'.\n",
    "\n",
    "3. В ходе шага 3 изучены основные параметры поездок:\n",
    "* Частота встречаемости городов. Больше всего пользователей из Пятигорска, меньше всего - из Москвы.\n",
    "* Соотношение пользователей с подпиской и без. Пользователей без подписки больше почти на 10 %, необходимо релкамировать и продвигать подписку.\n",
    "* Возраст пользователей. Основной возраст пользователей 22-29 лет.\n",
    "* Расстояние, которое пользователь преодолел за одну поездку. В среднем за одну поездку пользователи проезжают 3000 метров. Есть достаточное количество поездок в районе 700 метров - либо это поездки людей, которые побоялись ехать на самокате и прекратили использование самоката, либо поездки до остановки общественного транспорта/станции метро.\n",
    "* Продолжительность поездок. Средняя поездка занимает около 17 минут. Обнаружены аномальные поездки длительностью меньше 1 минуты, но с расстояним больше 4000 метров. Из выборки такие данные удалены, но технической службе надо проверить самокаты на предмет фиксирования времени поездки, а разработчикам надо проверить выгружаемые данные - нет ли ошибки в единицах измерениях (минуты/часы\n",
    "\n",
    "4. В шаге 4 изучены различия в поведении двух групп - с подпиской и без подписки: <br>Медианные значения и у пользователей с подпиской, и без - в районе 17-18 минут. <br> Также можем наблюдать, что минимальное время у пользователей без подписки - 2 минуты, а с подпиской - от 4 минут. Некоторые пользователи без подписки не могут преодолеть страх поездки, а подписку приобретают более опытные пользователи.<br> Удивительно, что пользователь с подпиской совершил самую длительную поездку (40 минут), несмотря на то что самую большую по расстоянию поездку совершил пользователь без подписки. Вероятно это связано с тем, что с подпиской пользователь дает себе больше свободы (не считать каждую копейку, имеет возможность не завершать поездку, а просто постоять с самокатом). Продвижение подписки может принести выгоду в таком случае - заряд самоката меньше тратится, но деньги все равно списываются.\n",
    "\n",
    "5. В шаге 5 рассчитаны:\n",
    "* выручка за 2021 год: 3873131 рублей;\n",
    "* помесячная выручка на пользователя: в среднем выручка в месяц составляет 342.0, максимально 1444.0.\n",
    "6. В шаге 6 проверены некоторые гипотезы, которые могут помочь бизнесу вырасти:\n",
    "* Тратят ли пользователи с подпиской больше времени на поездки : после проведения теста нулевую гипотезу отвергаем. <br>Среднее значение подтверждает нам, что с подпиской длительность поездки больше.\n",
    "\n",
    "* Среднее расстояние, которое проезжают пользователи с подпиской за одну поездку, не превышает 3130 метров: после проведения нулевую гипотезу не отвергаем. <br> Не можем утверждать, что расстояние, которое проехали пользователи на тарифе ultra не равно/меньше 3130 метров. <br>В тоже время среднее значение составляет 3115.0 метров и не превышает 3130 метров - данные не противоречат гипотезе.<br>\n",
    "\n",
    "* Помесячная выручка от пользователей с подпиской по месяцам выше, чем выручка от пользователей без подписки: после проведения теста мы отвергаем нулевую гипотезу (выручка не равна). Средняя выручка пользователей с подпиской выше средней выручки пользователей без подписки.\n",
    "7. В шаге 7 решены практические задачи бизнеса и построены распределения вероятностей:\n",
    "* Для проведения акции рассылки промокодов требуется разослать 1172 промокода, что приведет к продлению подписки с вероятностью 10% события - 100 клиентов продлят подписку с вероятностью неуспеха не более 5%.\n",
    "*  Открытие Push-уведомлений рассылки можно предсказать: 399.5 тыс. клиентов откроют уведомления с вероятностью 15%, если разослать 1 млн. уведомлений, которое открывают клиенты с вероятностью 40%.\n"
   ]
  },
  {
   "cell_type": "code",
   "execution_count": null,
   "id": "933bb86c",
   "metadata": {},
   "outputs": [],
   "source": []
  }
 ],
 "metadata": {
  "ExecuteTimeLog": [
   {
    "duration": 444,
    "start_time": "2024-08-15T18:06:02.178Z"
   },
   {
    "duration": 106,
    "start_time": "2024-08-15T18:06:03.335Z"
   },
   {
    "duration": 15,
    "start_time": "2024-08-15T18:06:03.966Z"
   },
   {
    "duration": 10,
    "start_time": "2024-08-15T18:06:16.280Z"
   },
   {
    "duration": 10,
    "start_time": "2024-08-15T18:06:22.501Z"
   },
   {
    "duration": 62,
    "start_time": "2024-08-15T18:10:39.865Z"
   },
   {
    "duration": 2,
    "start_time": "2024-08-15T18:10:48.407Z"
   },
   {
    "duration": 29,
    "start_time": "2024-08-15T18:10:49.491Z"
   },
   {
    "duration": 167,
    "start_time": "2024-08-15T18:10:49.923Z"
   },
   {
    "duration": 72,
    "start_time": "2024-08-15T18:10:50.349Z"
   },
   {
    "duration": 10,
    "start_time": "2024-08-15T18:10:51.114Z"
   },
   {
    "duration": 11,
    "start_time": "2024-08-15T18:10:51.584Z"
   },
   {
    "duration": 12,
    "start_time": "2024-08-15T18:10:52.110Z"
   },
   {
    "duration": 11,
    "start_time": "2024-08-15T18:11:04.394Z"
   },
   {
    "duration": 366,
    "start_time": "2024-08-15T18:11:50.047Z"
   },
   {
    "duration": 29,
    "start_time": "2024-08-15T18:11:50.415Z"
   },
   {
    "duration": 29,
    "start_time": "2024-08-15T18:11:50.446Z"
   },
   {
    "duration": 16,
    "start_time": "2024-08-15T18:11:50.477Z"
   },
   {
    "duration": 16,
    "start_time": "2024-08-15T18:11:50.494Z"
   },
   {
    "duration": 11,
    "start_time": "2024-08-15T18:11:50.511Z"
   },
   {
    "duration": 9,
    "start_time": "2024-08-15T18:11:50.523Z"
   },
   {
    "duration": 18,
    "start_time": "2024-08-15T18:11:50.534Z"
   },
   {
    "duration": 7,
    "start_time": "2024-08-15T18:11:50.553Z"
   },
   {
    "duration": 9,
    "start_time": "2024-08-15T18:11:50.562Z"
   },
   {
    "duration": 7,
    "start_time": "2024-08-15T18:12:26.354Z"
   },
   {
    "duration": 7,
    "start_time": "2024-08-15T18:46:22.724Z"
   },
   {
    "duration": 42,
    "start_time": "2024-08-15T18:46:26.964Z"
   },
   {
    "duration": 9,
    "start_time": "2024-08-15T18:46:41.392Z"
   },
   {
    "duration": 5,
    "start_time": "2024-08-15T19:09:28.935Z"
   },
   {
    "duration": 13,
    "start_time": "2024-08-15T19:09:40.938Z"
   },
   {
    "duration": 6,
    "start_time": "2024-08-15T19:12:12.845Z"
   },
   {
    "duration": 5,
    "start_time": "2024-08-15T19:12:38.496Z"
   },
   {
    "duration": 6,
    "start_time": "2024-08-15T19:20:16.413Z"
   },
   {
    "duration": 6,
    "start_time": "2024-08-15T19:20:24.505Z"
   },
   {
    "duration": 11,
    "start_time": "2024-08-15T19:21:23.782Z"
   },
   {
    "duration": 6,
    "start_time": "2024-08-15T19:22:29.121Z"
   },
   {
    "duration": 5,
    "start_time": "2024-08-15T19:24:36.345Z"
   },
   {
    "duration": 56,
    "start_time": "2024-08-15T19:27:25.338Z"
   },
   {
    "duration": 3,
    "start_time": "2024-08-15T19:28:04.701Z"
   },
   {
    "duration": 6,
    "start_time": "2024-08-15T19:30:17.578Z"
   },
   {
    "duration": 8,
    "start_time": "2024-08-15T19:30:59.059Z"
   },
   {
    "duration": 48,
    "start_time": "2024-08-16T02:42:42.287Z"
   },
   {
    "duration": 410,
    "start_time": "2024-08-16T02:42:48.036Z"
   },
   {
    "duration": 71,
    "start_time": "2024-08-16T02:42:48.448Z"
   },
   {
    "duration": 155,
    "start_time": "2024-08-16T02:42:48.521Z"
   },
   {
    "duration": 65,
    "start_time": "2024-08-16T02:42:48.678Z"
   },
   {
    "duration": 17,
    "start_time": "2024-08-16T02:42:48.745Z"
   },
   {
    "duration": 12,
    "start_time": "2024-08-16T02:42:48.763Z"
   },
   {
    "duration": 12,
    "start_time": "2024-08-16T02:42:48.776Z"
   },
   {
    "duration": 10,
    "start_time": "2024-08-16T02:42:48.789Z"
   },
   {
    "duration": 9,
    "start_time": "2024-08-16T02:42:48.801Z"
   },
   {
    "duration": 15,
    "start_time": "2024-08-16T02:42:48.813Z"
   },
   {
    "duration": 8,
    "start_time": "2024-08-16T02:42:48.830Z"
   },
   {
    "duration": 11,
    "start_time": "2024-08-16T02:42:48.840Z"
   },
   {
    "duration": 5,
    "start_time": "2024-08-16T02:42:48.852Z"
   },
   {
    "duration": 6,
    "start_time": "2024-08-16T02:42:48.858Z"
   },
   {
    "duration": 41,
    "start_time": "2024-08-16T02:42:48.865Z"
   },
   {
    "duration": 5,
    "start_time": "2024-08-16T02:42:48.908Z"
   },
   {
    "duration": 6,
    "start_time": "2024-08-16T02:42:48.915Z"
   },
   {
    "duration": 6,
    "start_time": "2024-08-16T02:42:48.923Z"
   },
   {
    "duration": 6,
    "start_time": "2024-08-16T02:42:48.930Z"
   },
   {
    "duration": 6,
    "start_time": "2024-08-16T02:42:48.938Z"
   },
   {
    "duration": 9,
    "start_time": "2024-08-16T02:42:48.945Z"
   },
   {
    "duration": 5,
    "start_time": "2024-08-16T02:42:48.956Z"
   },
   {
    "duration": 8,
    "start_time": "2024-08-16T02:43:45.031Z"
   },
   {
    "duration": 2,
    "start_time": "2024-08-16T02:48:17.774Z"
   },
   {
    "duration": 3,
    "start_time": "2024-08-16T02:49:13.715Z"
   },
   {
    "duration": 2,
    "start_time": "2024-08-16T02:54:25.600Z"
   },
   {
    "duration": 3,
    "start_time": "2024-08-16T03:06:23.125Z"
   },
   {
    "duration": 2,
    "start_time": "2024-08-16T03:09:48.740Z"
   },
   {
    "duration": 2,
    "start_time": "2024-08-16T03:11:04.669Z"
   },
   {
    "duration": 2,
    "start_time": "2024-08-16T03:11:51.613Z"
   },
   {
    "duration": 7,
    "start_time": "2024-08-16T03:17:59.705Z"
   },
   {
    "duration": 626,
    "start_time": "2024-08-16T03:18:06.177Z"
   },
   {
    "duration": 132,
    "start_time": "2024-08-16T03:18:15.653Z"
   },
   {
    "duration": 154,
    "start_time": "2024-08-16T03:18:29.345Z"
   },
   {
    "duration": 160,
    "start_time": "2024-08-16T03:18:37.685Z"
   },
   {
    "duration": 201,
    "start_time": "2024-08-16T03:18:41.929Z"
   },
   {
    "duration": 147,
    "start_time": "2024-08-16T03:18:50.329Z"
   },
   {
    "duration": 162,
    "start_time": "2024-08-16T03:18:57.470Z"
   },
   {
    "duration": 165,
    "start_time": "2024-08-16T03:19:13.751Z"
   },
   {
    "duration": 78,
    "start_time": "2024-08-16T03:24:50.310Z"
   },
   {
    "duration": 7,
    "start_time": "2024-08-16T03:25:04.893Z"
   },
   {
    "duration": 51,
    "start_time": "2024-08-16T15:39:15.908Z"
   },
   {
    "duration": 425,
    "start_time": "2024-08-16T15:39:23.381Z"
   },
   {
    "duration": 111,
    "start_time": "2024-08-16T15:39:23.808Z"
   },
   {
    "duration": 186,
    "start_time": "2024-08-16T15:39:23.921Z"
   },
   {
    "duration": 76,
    "start_time": "2024-08-16T15:39:24.109Z"
   },
   {
    "duration": 17,
    "start_time": "2024-08-16T15:39:24.187Z"
   },
   {
    "duration": 11,
    "start_time": "2024-08-16T15:39:24.205Z"
   },
   {
    "duration": 27,
    "start_time": "2024-08-16T15:39:24.217Z"
   },
   {
    "duration": 12,
    "start_time": "2024-08-16T15:39:24.246Z"
   },
   {
    "duration": 7,
    "start_time": "2024-08-16T15:39:24.260Z"
   },
   {
    "duration": 12,
    "start_time": "2024-08-16T15:39:24.286Z"
   },
   {
    "duration": 17,
    "start_time": "2024-08-16T15:39:24.300Z"
   },
   {
    "duration": 13,
    "start_time": "2024-08-16T15:39:24.319Z"
   },
   {
    "duration": 6,
    "start_time": "2024-08-16T15:39:24.333Z"
   },
   {
    "duration": 8,
    "start_time": "2024-08-16T15:39:24.341Z"
   },
   {
    "duration": 8,
    "start_time": "2024-08-16T15:39:24.350Z"
   },
   {
    "duration": 7,
    "start_time": "2024-08-16T15:39:24.383Z"
   },
   {
    "duration": 11,
    "start_time": "2024-08-16T15:39:24.391Z"
   },
   {
    "duration": 6,
    "start_time": "2024-08-16T15:39:24.404Z"
   },
   {
    "duration": 49,
    "start_time": "2024-08-16T15:39:24.411Z"
   },
   {
    "duration": 23,
    "start_time": "2024-08-16T15:39:24.461Z"
   },
   {
    "duration": 10,
    "start_time": "2024-08-16T15:39:24.486Z"
   },
   {
    "duration": 11,
    "start_time": "2024-08-16T15:39:24.497Z"
   },
   {
    "duration": 6,
    "start_time": "2024-08-16T15:39:24.510Z"
   },
   {
    "duration": 7,
    "start_time": "2024-08-16T15:39:24.517Z"
   },
   {
    "duration": 626,
    "start_time": "2024-08-16T15:39:24.526Z"
   },
   {
    "duration": 6,
    "start_time": "2024-08-16T15:39:25.154Z"
   },
   {
    "duration": 130,
    "start_time": "2024-08-16T15:39:25.161Z"
   },
   {
    "duration": 5,
    "start_time": "2024-08-16T15:46:33.297Z"
   },
   {
    "duration": 529,
    "start_time": "2024-08-16T15:47:49.076Z"
   },
   {
    "duration": 540,
    "start_time": "2024-08-16T15:47:57.518Z"
   },
   {
    "duration": 441,
    "start_time": "2024-08-16T15:48:04.144Z"
   },
   {
    "duration": 502,
    "start_time": "2024-08-16T15:48:11.092Z"
   },
   {
    "duration": 415,
    "start_time": "2024-08-17T04:07:47.666Z"
   },
   {
    "duration": 83,
    "start_time": "2024-08-17T04:07:48.083Z"
   },
   {
    "duration": 157,
    "start_time": "2024-08-17T04:07:48.168Z"
   },
   {
    "duration": 66,
    "start_time": "2024-08-17T04:07:48.328Z"
   },
   {
    "duration": 16,
    "start_time": "2024-08-17T04:07:48.396Z"
   },
   {
    "duration": 13,
    "start_time": "2024-08-17T04:07:48.413Z"
   },
   {
    "duration": 13,
    "start_time": "2024-08-17T04:07:48.427Z"
   },
   {
    "duration": 12,
    "start_time": "2024-08-17T04:07:48.442Z"
   },
   {
    "duration": 7,
    "start_time": "2024-08-17T04:07:48.456Z"
   },
   {
    "duration": 11,
    "start_time": "2024-08-17T04:07:48.465Z"
   },
   {
    "duration": 10,
    "start_time": "2024-08-17T04:07:48.477Z"
   },
   {
    "duration": 13,
    "start_time": "2024-08-17T04:07:48.488Z"
   },
   {
    "duration": 6,
    "start_time": "2024-08-17T04:07:48.503Z"
   },
   {
    "duration": 6,
    "start_time": "2024-08-17T04:07:48.511Z"
   },
   {
    "duration": 7,
    "start_time": "2024-08-17T04:07:48.552Z"
   },
   {
    "duration": 5,
    "start_time": "2024-08-17T04:07:48.561Z"
   },
   {
    "duration": 6,
    "start_time": "2024-08-17T04:07:48.567Z"
   },
   {
    "duration": 6,
    "start_time": "2024-08-17T04:07:48.575Z"
   },
   {
    "duration": 5,
    "start_time": "2024-08-17T04:07:48.582Z"
   },
   {
    "duration": 19,
    "start_time": "2024-08-17T04:07:48.588Z"
   },
   {
    "duration": 16,
    "start_time": "2024-08-17T04:07:48.608Z"
   },
   {
    "duration": 30,
    "start_time": "2024-08-17T04:07:48.626Z"
   },
   {
    "duration": 5,
    "start_time": "2024-08-17T04:07:48.657Z"
   },
   {
    "duration": 5,
    "start_time": "2024-08-17T04:07:48.664Z"
   },
   {
    "duration": 605,
    "start_time": "2024-08-17T04:07:48.670Z"
   },
   {
    "duration": 6,
    "start_time": "2024-08-17T04:07:49.277Z"
   },
   {
    "duration": 129,
    "start_time": "2024-08-17T04:07:49.284Z"
   },
   {
    "duration": 6,
    "start_time": "2024-08-17T04:07:49.416Z"
   },
   {
    "duration": 528,
    "start_time": "2024-08-17T04:07:49.423Z"
   },
   {
    "duration": 77,
    "start_time": "2024-08-17T04:18:38.287Z"
   },
   {
    "duration": 629,
    "start_time": "2024-08-17T04:19:13.090Z"
   },
   {
    "duration": 30,
    "start_time": "2024-08-17T04:19:13.720Z"
   },
   {
    "duration": 29,
    "start_time": "2024-08-17T04:19:13.752Z"
   },
   {
    "duration": 15,
    "start_time": "2024-08-17T04:19:13.783Z"
   },
   {
    "duration": 13,
    "start_time": "2024-08-17T04:19:13.800Z"
   },
   {
    "duration": 11,
    "start_time": "2024-08-17T04:19:13.815Z"
   },
   {
    "duration": 17,
    "start_time": "2024-08-17T04:19:13.828Z"
   },
   {
    "duration": 14,
    "start_time": "2024-08-17T04:19:13.847Z"
   },
   {
    "duration": 7,
    "start_time": "2024-08-17T04:19:13.863Z"
   },
   {
    "duration": 13,
    "start_time": "2024-08-17T04:19:13.873Z"
   },
   {
    "duration": 32,
    "start_time": "2024-08-17T04:19:13.887Z"
   },
   {
    "duration": 12,
    "start_time": "2024-08-17T04:19:13.921Z"
   },
   {
    "duration": 4,
    "start_time": "2024-08-17T04:19:13.935Z"
   },
   {
    "duration": 7,
    "start_time": "2024-08-17T04:19:13.953Z"
   },
   {
    "duration": 8,
    "start_time": "2024-08-17T04:19:13.961Z"
   },
   {
    "duration": 6,
    "start_time": "2024-08-17T04:19:13.970Z"
   },
   {
    "duration": 6,
    "start_time": "2024-08-17T04:19:13.978Z"
   },
   {
    "duration": 6,
    "start_time": "2024-08-17T04:19:13.986Z"
   },
   {
    "duration": 6,
    "start_time": "2024-08-17T04:19:13.993Z"
   },
   {
    "duration": 7,
    "start_time": "2024-08-17T04:19:14.000Z"
   },
   {
    "duration": 52,
    "start_time": "2024-08-17T04:19:14.008Z"
   },
   {
    "duration": 5,
    "start_time": "2024-08-17T04:19:14.062Z"
   },
   {
    "duration": 5,
    "start_time": "2024-08-17T04:19:14.069Z"
   },
   {
    "duration": 8,
    "start_time": "2024-08-17T04:19:14.076Z"
   },
   {
    "duration": 207,
    "start_time": "2024-08-17T04:19:14.086Z"
   },
   {
    "duration": 6,
    "start_time": "2024-08-17T04:19:14.294Z"
   },
   {
    "duration": 189,
    "start_time": "2024-08-17T04:19:14.302Z"
   },
   {
    "duration": 5,
    "start_time": "2024-08-17T04:19:14.494Z"
   },
   {
    "duration": 153,
    "start_time": "2024-08-17T04:19:14.501Z"
   },
   {
    "duration": 145,
    "start_time": "2024-08-17T04:20:00.363Z"
   },
   {
    "duration": 201,
    "start_time": "2024-08-17T04:21:34.720Z"
   },
   {
    "duration": 143,
    "start_time": "2024-08-17T04:21:40.728Z"
   },
   {
    "duration": 10,
    "start_time": "2024-08-17T04:34:18.009Z"
   },
   {
    "duration": 734,
    "start_time": "2024-08-17T04:35:38.929Z"
   },
   {
    "duration": 841,
    "start_time": "2024-08-17T04:36:00.389Z"
   },
   {
    "duration": 230,
    "start_time": "2024-08-17T06:30:30.433Z"
   },
   {
    "duration": 178,
    "start_time": "2024-08-17T06:31:13.351Z"
   },
   {
    "duration": 732,
    "start_time": "2024-08-17T06:34:38.736Z"
   },
   {
    "duration": 867,
    "start_time": "2024-08-17T06:34:59.955Z"
   },
   {
    "duration": 203,
    "start_time": "2024-08-17T06:36:46.723Z"
   },
   {
    "duration": 10,
    "start_time": "2024-08-17T06:43:29.704Z"
   },
   {
    "duration": 187,
    "start_time": "2024-08-17T06:46:26.705Z"
   },
   {
    "duration": 26,
    "start_time": "2024-08-17T06:52:01.404Z"
   },
   {
    "duration": 25,
    "start_time": "2024-08-17T06:54:17.951Z"
   },
   {
    "duration": 23,
    "start_time": "2024-08-17T06:58:08.403Z"
   },
   {
    "duration": 23,
    "start_time": "2024-08-17T06:58:27.632Z"
   },
   {
    "duration": 714,
    "start_time": "2024-08-17T06:59:22.153Z"
   },
   {
    "duration": 19,
    "start_time": "2024-08-17T06:59:50.528Z"
   },
   {
    "duration": 28,
    "start_time": "2024-08-17T07:00:05.734Z"
   },
   {
    "duration": 20,
    "start_time": "2024-08-17T07:00:10.511Z"
   },
   {
    "duration": 17,
    "start_time": "2024-08-17T07:00:44.182Z"
   },
   {
    "duration": 224,
    "start_time": "2024-08-17T07:03:12.143Z"
   },
   {
    "duration": 362,
    "start_time": "2024-08-17T07:03:24.219Z"
   },
   {
    "duration": 194,
    "start_time": "2024-08-17T07:03:46.259Z"
   },
   {
    "duration": 186,
    "start_time": "2024-08-17T07:03:52.363Z"
   },
   {
    "duration": 238,
    "start_time": "2024-08-17T07:04:02.631Z"
   },
   {
    "duration": 66,
    "start_time": "2024-08-17T07:09:49.923Z"
   },
   {
    "duration": 2,
    "start_time": "2024-08-17T07:12:18.661Z"
   },
   {
    "duration": 250,
    "start_time": "2024-08-17T07:13:09.109Z"
   },
   {
    "duration": 9,
    "start_time": "2024-08-17T07:29:48.723Z"
   },
   {
    "duration": 9,
    "start_time": "2024-08-17T07:30:13.267Z"
   },
   {
    "duration": 11,
    "start_time": "2024-08-17T07:31:24.225Z"
   },
   {
    "duration": 8,
    "start_time": "2024-08-17T07:31:38.512Z"
   },
   {
    "duration": 677,
    "start_time": "2024-08-17T07:42:38.527Z"
   },
   {
    "duration": 30,
    "start_time": "2024-08-17T07:42:39.205Z"
   },
   {
    "duration": 30,
    "start_time": "2024-08-17T07:42:39.237Z"
   },
   {
    "duration": 15,
    "start_time": "2024-08-17T07:42:39.269Z"
   },
   {
    "duration": 14,
    "start_time": "2024-08-17T07:42:39.286Z"
   },
   {
    "duration": 12,
    "start_time": "2024-08-17T07:42:39.301Z"
   },
   {
    "duration": 15,
    "start_time": "2024-08-17T07:42:39.315Z"
   },
   {
    "duration": 26,
    "start_time": "2024-08-17T07:42:39.332Z"
   },
   {
    "duration": 7,
    "start_time": "2024-08-17T07:42:39.360Z"
   },
   {
    "duration": 10,
    "start_time": "2024-08-17T07:42:39.369Z"
   },
   {
    "duration": 19,
    "start_time": "2024-08-17T07:42:39.381Z"
   },
   {
    "duration": 10,
    "start_time": "2024-08-17T07:42:39.402Z"
   },
   {
    "duration": 5,
    "start_time": "2024-08-17T07:42:39.414Z"
   },
   {
    "duration": 6,
    "start_time": "2024-08-17T07:42:39.420Z"
   },
   {
    "duration": 5,
    "start_time": "2024-08-17T07:42:39.454Z"
   },
   {
    "duration": 9,
    "start_time": "2024-08-17T07:42:39.461Z"
   },
   {
    "duration": 6,
    "start_time": "2024-08-17T07:42:39.472Z"
   },
   {
    "duration": 7,
    "start_time": "2024-08-17T07:42:39.479Z"
   },
   {
    "duration": 6,
    "start_time": "2024-08-17T07:42:39.487Z"
   },
   {
    "duration": 8,
    "start_time": "2024-08-17T07:42:39.495Z"
   },
   {
    "duration": 8,
    "start_time": "2024-08-17T07:42:39.505Z"
   },
   {
    "duration": 43,
    "start_time": "2024-08-17T07:42:39.514Z"
   },
   {
    "duration": 9,
    "start_time": "2024-08-17T07:42:39.558Z"
   },
   {
    "duration": 17,
    "start_time": "2024-08-17T07:42:39.569Z"
   },
   {
    "duration": 196,
    "start_time": "2024-08-17T07:42:39.588Z"
   },
   {
    "duration": 6,
    "start_time": "2024-08-17T07:42:39.786Z"
   },
   {
    "duration": 125,
    "start_time": "2024-08-17T07:42:39.794Z"
   },
   {
    "duration": 5,
    "start_time": "2024-08-17T07:42:39.924Z"
   },
   {
    "duration": 185,
    "start_time": "2024-08-17T07:42:39.932Z"
   },
   {
    "duration": 10,
    "start_time": "2024-08-17T07:42:40.119Z"
   },
   {
    "duration": 225,
    "start_time": "2024-08-17T07:42:40.131Z"
   },
   {
    "duration": 10,
    "start_time": "2024-08-17T07:42:40.358Z"
   },
   {
    "duration": 258,
    "start_time": "2024-08-17T07:42:40.370Z"
   },
   {
    "duration": 35,
    "start_time": "2024-08-17T07:42:40.630Z"
   },
   {
    "duration": 21,
    "start_time": "2024-08-17T07:42:40.667Z"
   },
   {
    "duration": 19,
    "start_time": "2024-08-17T07:42:40.690Z"
   },
   {
    "duration": 260,
    "start_time": "2024-08-17T07:42:40.710Z"
   },
   {
    "duration": 8,
    "start_time": "2024-08-17T07:42:40.972Z"
   },
   {
    "duration": 11,
    "start_time": "2024-08-17T07:42:40.981Z"
   },
   {
    "duration": 258,
    "start_time": "2024-08-17T07:42:40.994Z"
   },
   {
    "duration": 8,
    "start_time": "2024-08-17T07:42:41.253Z"
   },
   {
    "duration": 11,
    "start_time": "2024-08-17T07:42:41.263Z"
   },
   {
    "duration": 80,
    "start_time": "2024-08-17T08:01:57.493Z"
   },
   {
    "duration": 841,
    "start_time": "2024-08-17T08:02:37.993Z"
   },
   {
    "duration": 787,
    "start_time": "2024-08-17T08:02:50.913Z"
   },
   {
    "duration": 811,
    "start_time": "2024-08-17T08:03:04.759Z"
   },
   {
    "duration": 846,
    "start_time": "2024-08-17T08:03:09.419Z"
   },
   {
    "duration": 807,
    "start_time": "2024-08-17T08:03:54.696Z"
   },
   {
    "duration": 962,
    "start_time": "2024-08-17T08:13:40.646Z"
   },
   {
    "duration": 773,
    "start_time": "2024-08-17T08:17:35.654Z"
   },
   {
    "duration": 1075,
    "start_time": "2024-08-17T08:17:53.932Z"
   },
   {
    "duration": 928,
    "start_time": "2024-08-17T08:18:56.561Z"
   },
   {
    "duration": 896,
    "start_time": "2024-08-17T08:19:17.450Z"
   },
   {
    "duration": 917,
    "start_time": "2024-08-17T08:23:07.285Z"
   },
   {
    "duration": 965,
    "start_time": "2024-08-17T08:23:33.848Z"
   },
   {
    "duration": 7,
    "start_time": "2024-08-17T08:24:00.301Z"
   },
   {
    "duration": 6,
    "start_time": "2024-08-17T08:24:12.345Z"
   },
   {
    "duration": 20,
    "start_time": "2024-08-17T08:24:19.432Z"
   },
   {
    "duration": 8,
    "start_time": "2024-08-17T08:28:32.048Z"
   },
   {
    "duration": 5,
    "start_time": "2024-08-17T08:30:19.658Z"
   },
   {
    "duration": 63,
    "start_time": "2024-08-17T08:31:43.594Z"
   },
   {
    "duration": 221,
    "start_time": "2024-08-17T08:33:34.523Z"
   },
   {
    "duration": 192,
    "start_time": "2024-08-17T08:33:49.180Z"
   },
   {
    "duration": 227,
    "start_time": "2024-08-17T08:34:07.031Z"
   },
   {
    "duration": 240,
    "start_time": "2024-08-17T08:34:24.723Z"
   },
   {
    "duration": 658,
    "start_time": "2024-08-17T08:34:37.664Z"
   },
   {
    "duration": 30,
    "start_time": "2024-08-17T08:34:38.323Z"
   },
   {
    "duration": 30,
    "start_time": "2024-08-17T08:34:38.355Z"
   },
   {
    "duration": 16,
    "start_time": "2024-08-17T08:34:38.387Z"
   },
   {
    "duration": 14,
    "start_time": "2024-08-17T08:34:38.405Z"
   },
   {
    "duration": 13,
    "start_time": "2024-08-17T08:34:38.421Z"
   },
   {
    "duration": 10,
    "start_time": "2024-08-17T08:34:38.436Z"
   },
   {
    "duration": 18,
    "start_time": "2024-08-17T08:34:38.448Z"
   },
   {
    "duration": 6,
    "start_time": "2024-08-17T08:34:38.468Z"
   },
   {
    "duration": 15,
    "start_time": "2024-08-17T08:34:38.477Z"
   },
   {
    "duration": 7,
    "start_time": "2024-08-17T08:34:38.494Z"
   },
   {
    "duration": 18,
    "start_time": "2024-08-17T08:34:38.503Z"
   },
   {
    "duration": 31,
    "start_time": "2024-08-17T08:34:38.523Z"
   },
   {
    "duration": 6,
    "start_time": "2024-08-17T08:34:38.556Z"
   },
   {
    "duration": 11,
    "start_time": "2024-08-17T08:34:38.564Z"
   },
   {
    "duration": 15,
    "start_time": "2024-08-17T08:34:38.576Z"
   },
   {
    "duration": 6,
    "start_time": "2024-08-17T08:34:38.593Z"
   },
   {
    "duration": 8,
    "start_time": "2024-08-17T08:34:38.600Z"
   },
   {
    "duration": 6,
    "start_time": "2024-08-17T08:34:38.609Z"
   },
   {
    "duration": 19,
    "start_time": "2024-08-17T08:34:38.616Z"
   },
   {
    "duration": 10,
    "start_time": "2024-08-17T08:34:38.653Z"
   },
   {
    "duration": 6,
    "start_time": "2024-08-17T08:34:38.665Z"
   },
   {
    "duration": 6,
    "start_time": "2024-08-17T08:34:38.673Z"
   },
   {
    "duration": 10,
    "start_time": "2024-08-17T08:34:38.680Z"
   },
   {
    "duration": 206,
    "start_time": "2024-08-17T08:34:38.691Z"
   },
   {
    "duration": 6,
    "start_time": "2024-08-17T08:34:38.898Z"
   },
   {
    "duration": 126,
    "start_time": "2024-08-17T08:34:38.906Z"
   },
   {
    "duration": 5,
    "start_time": "2024-08-17T08:34:39.036Z"
   },
   {
    "duration": 198,
    "start_time": "2024-08-17T08:34:39.042Z"
   },
   {
    "duration": 16,
    "start_time": "2024-08-17T08:34:39.242Z"
   },
   {
    "duration": 206,
    "start_time": "2024-08-17T08:34:39.260Z"
   },
   {
    "duration": 10,
    "start_time": "2024-08-17T08:34:39.468Z"
   },
   {
    "duration": 263,
    "start_time": "2024-08-17T08:34:39.480Z"
   },
   {
    "duration": 29,
    "start_time": "2024-08-17T08:34:39.745Z"
   },
   {
    "duration": 20,
    "start_time": "2024-08-17T08:34:39.776Z"
   },
   {
    "duration": 18,
    "start_time": "2024-08-17T08:34:39.798Z"
   },
   {
    "duration": 268,
    "start_time": "2024-08-17T08:34:39.818Z"
   },
   {
    "duration": 9,
    "start_time": "2024-08-17T08:34:40.087Z"
   },
   {
    "duration": 8,
    "start_time": "2024-08-17T08:34:40.097Z"
   },
   {
    "duration": 270,
    "start_time": "2024-08-17T08:34:40.106Z"
   },
   {
    "duration": 8,
    "start_time": "2024-08-17T08:34:40.377Z"
   },
   {
    "duration": 7,
    "start_time": "2024-08-17T08:34:40.387Z"
   },
   {
    "duration": 834,
    "start_time": "2024-08-17T08:34:40.396Z"
   },
   {
    "duration": 26,
    "start_time": "2024-08-17T08:34:41.232Z"
   },
   {
    "duration": 202,
    "start_time": "2024-08-17T08:34:41.259Z"
   },
   {
    "duration": 8,
    "start_time": "2024-08-17T08:34:41.463Z"
   },
   {
    "duration": 6,
    "start_time": "2024-08-17T08:34:41.472Z"
   },
   {
    "duration": 197,
    "start_time": "2024-08-17T08:35:33.699Z"
   },
   {
    "duration": 80,
    "start_time": "2024-08-17T09:04:44.995Z"
   },
   {
    "duration": 456,
    "start_time": "2024-08-17T09:05:44.884Z"
   },
   {
    "duration": 1187,
    "start_time": "2024-08-17T09:05:49.528Z"
   },
   {
    "duration": 28,
    "start_time": "2024-08-17T09:05:50.717Z"
   },
   {
    "duration": 29,
    "start_time": "2024-08-17T09:05:50.747Z"
   },
   {
    "duration": 17,
    "start_time": "2024-08-17T09:05:50.778Z"
   },
   {
    "duration": 22,
    "start_time": "2024-08-17T09:05:50.797Z"
   },
   {
    "duration": 15,
    "start_time": "2024-08-17T09:05:50.821Z"
   },
   {
    "duration": 21,
    "start_time": "2024-08-17T09:05:50.837Z"
   },
   {
    "duration": 14,
    "start_time": "2024-08-17T09:05:50.860Z"
   },
   {
    "duration": 6,
    "start_time": "2024-08-17T09:05:50.876Z"
   },
   {
    "duration": 11,
    "start_time": "2024-08-17T09:05:50.885Z"
   },
   {
    "duration": 23,
    "start_time": "2024-08-17T09:05:50.897Z"
   },
   {
    "duration": 27,
    "start_time": "2024-08-17T09:05:50.921Z"
   },
   {
    "duration": 44,
    "start_time": "2024-08-17T09:05:50.949Z"
   },
   {
    "duration": 7,
    "start_time": "2024-08-17T09:05:50.995Z"
   },
   {
    "duration": 6,
    "start_time": "2024-08-17T09:05:51.003Z"
   },
   {
    "duration": 8,
    "start_time": "2024-08-17T09:05:51.011Z"
   },
   {
    "duration": 9,
    "start_time": "2024-08-17T09:05:51.021Z"
   },
   {
    "duration": 40,
    "start_time": "2024-08-17T09:05:51.031Z"
   },
   {
    "duration": 29,
    "start_time": "2024-08-17T09:05:51.073Z"
   },
   {
    "duration": 12,
    "start_time": "2024-08-17T09:05:51.104Z"
   },
   {
    "duration": 9,
    "start_time": "2024-08-17T09:05:51.117Z"
   },
   {
    "duration": 6,
    "start_time": "2024-08-17T09:05:51.127Z"
   },
   {
    "duration": 7,
    "start_time": "2024-08-17T09:05:51.134Z"
   },
   {
    "duration": 10,
    "start_time": "2024-08-17T09:05:51.142Z"
   },
   {
    "duration": 201,
    "start_time": "2024-08-17T09:05:51.154Z"
   },
   {
    "duration": 5,
    "start_time": "2024-08-17T09:05:51.357Z"
   },
   {
    "duration": 132,
    "start_time": "2024-08-17T09:05:51.364Z"
   },
   {
    "duration": 8,
    "start_time": "2024-08-17T09:05:51.500Z"
   },
   {
    "duration": 174,
    "start_time": "2024-08-17T09:05:51.510Z"
   },
   {
    "duration": 8,
    "start_time": "2024-08-17T09:05:51.685Z"
   },
   {
    "duration": 203,
    "start_time": "2024-08-17T09:05:51.695Z"
   },
   {
    "duration": 8,
    "start_time": "2024-08-17T09:05:51.900Z"
   },
   {
    "duration": 203,
    "start_time": "2024-08-17T09:05:51.909Z"
   },
   {
    "duration": 29,
    "start_time": "2024-08-17T09:05:52.113Z"
   },
   {
    "duration": 22,
    "start_time": "2024-08-17T09:05:52.154Z"
   },
   {
    "duration": 18,
    "start_time": "2024-08-17T09:05:52.178Z"
   },
   {
    "duration": 267,
    "start_time": "2024-08-17T09:05:52.198Z"
   },
   {
    "duration": 8,
    "start_time": "2024-08-17T09:05:52.467Z"
   },
   {
    "duration": 21,
    "start_time": "2024-08-17T09:05:52.476Z"
   },
   {
    "duration": 242,
    "start_time": "2024-08-17T09:05:52.499Z"
   },
   {
    "duration": 18,
    "start_time": "2024-08-17T09:05:52.742Z"
   },
   {
    "duration": 8,
    "start_time": "2024-08-17T09:05:52.761Z"
   },
   {
    "duration": 925,
    "start_time": "2024-08-17T09:05:52.771Z"
   },
   {
    "duration": 21,
    "start_time": "2024-08-17T09:05:53.698Z"
   },
   {
    "duration": 383,
    "start_time": "2024-08-17T09:05:53.721Z"
   },
   {
    "duration": 44,
    "start_time": "2024-08-17T09:05:54.106Z"
   },
   {
    "duration": 68,
    "start_time": "2024-08-17T09:05:54.152Z"
   },
   {
    "duration": 41,
    "start_time": "2024-08-17T09:05:54.221Z"
   },
   {
    "duration": 7,
    "start_time": "2024-08-17T09:08:21.437Z"
   },
   {
    "duration": 7,
    "start_time": "2024-08-17T09:08:34.616Z"
   },
   {
    "duration": 91,
    "start_time": "2024-08-17T09:10:08.566Z"
   },
   {
    "duration": 7,
    "start_time": "2024-08-17T09:10:53.646Z"
   },
   {
    "duration": 107,
    "start_time": "2024-08-17T09:11:07.229Z"
   },
   {
    "duration": 7,
    "start_time": "2024-08-17T09:11:15.671Z"
   },
   {
    "duration": 6,
    "start_time": "2024-08-17T09:20:18.686Z"
   },
   {
    "duration": 62,
    "start_time": "2024-08-17T09:22:50.711Z"
   },
   {
    "duration": 6,
    "start_time": "2024-08-17T09:24:25.998Z"
   },
   {
    "duration": 14,
    "start_time": "2024-08-17T09:30:04.014Z"
   },
   {
    "duration": 71,
    "start_time": "2024-08-17T09:59:52.650Z"
   },
   {
    "duration": 13,
    "start_time": "2024-08-17T10:02:14.540Z"
   },
   {
    "duration": 1144,
    "start_time": "2024-08-17T10:03:04.316Z"
   },
   {
    "duration": 30,
    "start_time": "2024-08-17T10:03:05.461Z"
   },
   {
    "duration": 29,
    "start_time": "2024-08-17T10:03:05.493Z"
   },
   {
    "duration": 15,
    "start_time": "2024-08-17T10:03:05.525Z"
   },
   {
    "duration": 14,
    "start_time": "2024-08-17T10:03:05.541Z"
   },
   {
    "duration": 30,
    "start_time": "2024-08-17T10:03:05.557Z"
   },
   {
    "duration": 36,
    "start_time": "2024-08-17T10:03:05.589Z"
   },
   {
    "duration": 57,
    "start_time": "2024-08-17T10:03:05.626Z"
   },
   {
    "duration": 15,
    "start_time": "2024-08-17T10:03:05.684Z"
   },
   {
    "duration": 10,
    "start_time": "2024-08-17T10:03:05.701Z"
   },
   {
    "duration": 20,
    "start_time": "2024-08-17T10:03:05.713Z"
   },
   {
    "duration": 18,
    "start_time": "2024-08-17T10:03:05.735Z"
   },
   {
    "duration": 6,
    "start_time": "2024-08-17T10:03:05.755Z"
   },
   {
    "duration": 8,
    "start_time": "2024-08-17T10:03:05.763Z"
   },
   {
    "duration": 9,
    "start_time": "2024-08-17T10:03:05.772Z"
   },
   {
    "duration": 19,
    "start_time": "2024-08-17T10:03:05.782Z"
   },
   {
    "duration": 17,
    "start_time": "2024-08-17T10:03:05.803Z"
   },
   {
    "duration": 6,
    "start_time": "2024-08-17T10:03:05.821Z"
   },
   {
    "duration": 26,
    "start_time": "2024-08-17T10:03:05.829Z"
   },
   {
    "duration": 6,
    "start_time": "2024-08-17T10:03:05.857Z"
   },
   {
    "duration": 36,
    "start_time": "2024-08-17T10:03:05.864Z"
   },
   {
    "duration": 33,
    "start_time": "2024-08-17T10:03:05.902Z"
   },
   {
    "duration": 9,
    "start_time": "2024-08-17T10:03:05.937Z"
   },
   {
    "duration": 10,
    "start_time": "2024-08-17T10:03:05.947Z"
   },
   {
    "duration": 179,
    "start_time": "2024-08-17T10:03:05.958Z"
   },
   {
    "duration": 14,
    "start_time": "2024-08-17T10:03:06.140Z"
   },
   {
    "duration": 143,
    "start_time": "2024-08-17T10:03:06.156Z"
   },
   {
    "duration": 6,
    "start_time": "2024-08-17T10:03:06.302Z"
   },
   {
    "duration": 192,
    "start_time": "2024-08-17T10:03:06.309Z"
   },
   {
    "duration": 11,
    "start_time": "2024-08-17T10:03:06.503Z"
   },
   {
    "duration": 213,
    "start_time": "2024-08-17T10:03:06.515Z"
   },
   {
    "duration": 10,
    "start_time": "2024-08-17T10:03:06.730Z"
   },
   {
    "duration": 200,
    "start_time": "2024-08-17T10:03:06.753Z"
   },
   {
    "duration": 28,
    "start_time": "2024-08-17T10:03:06.954Z"
   },
   {
    "duration": 23,
    "start_time": "2024-08-17T10:03:06.983Z"
   },
   {
    "duration": 18,
    "start_time": "2024-08-17T10:03:07.008Z"
   },
   {
    "duration": 278,
    "start_time": "2024-08-17T10:03:07.053Z"
   },
   {
    "duration": 8,
    "start_time": "2024-08-17T10:03:07.332Z"
   },
   {
    "duration": 18,
    "start_time": "2024-08-17T10:03:07.342Z"
   },
   {
    "duration": 291,
    "start_time": "2024-08-17T10:03:07.362Z"
   },
   {
    "duration": 8,
    "start_time": "2024-08-17T10:03:07.655Z"
   },
   {
    "duration": 8,
    "start_time": "2024-08-17T10:03:07.665Z"
   },
   {
    "duration": 909,
    "start_time": "2024-08-17T10:03:07.675Z"
   },
   {
    "duration": 19,
    "start_time": "2024-08-17T10:03:08.585Z"
   },
   {
    "duration": 211,
    "start_time": "2024-08-17T10:03:08.606Z"
   },
   {
    "duration": 8,
    "start_time": "2024-08-17T10:03:08.819Z"
   },
   {
    "duration": 10,
    "start_time": "2024-08-17T10:03:08.828Z"
   },
   {
    "duration": 16,
    "start_time": "2024-08-17T10:03:08.840Z"
   },
   {
    "duration": 5,
    "start_time": "2024-08-17T10:03:08.858Z"
   },
   {
    "duration": 12,
    "start_time": "2024-08-17T10:03:08.865Z"
   },
   {
    "duration": 248,
    "start_time": "2024-08-17T10:03:08.879Z"
   },
   {
    "duration": 235,
    "start_time": "2024-08-17T10:07:10.187Z"
   },
   {
    "duration": 122,
    "start_time": "2024-08-17T10:13:00.316Z"
   },
   {
    "duration": 41,
    "start_time": "2024-08-17T10:13:14.256Z"
   },
   {
    "duration": 283,
    "start_time": "2024-08-17T10:16:09.416Z"
   },
   {
    "duration": 280,
    "start_time": "2024-08-17T10:20:14.615Z"
   },
   {
    "duration": 212,
    "start_time": "2024-08-17T10:20:29.680Z"
   },
   {
    "duration": 253,
    "start_time": "2024-08-17T10:21:56.052Z"
   },
   {
    "duration": 146,
    "start_time": "2024-08-17T10:23:03.076Z"
   },
   {
    "duration": 275,
    "start_time": "2024-08-17T10:25:50.607Z"
   },
   {
    "duration": 224,
    "start_time": "2024-08-17T10:26:54.384Z"
   },
   {
    "duration": 303,
    "start_time": "2024-08-17T10:27:05.112Z"
   },
   {
    "duration": 146,
    "start_time": "2024-08-17T10:28:58.061Z"
   },
   {
    "duration": 249,
    "start_time": "2024-08-17T10:32:06.147Z"
   },
   {
    "duration": 251,
    "start_time": "2024-08-17T10:32:14.042Z"
   },
   {
    "duration": 145,
    "start_time": "2024-08-17T10:32:43.465Z"
   },
   {
    "duration": 149,
    "start_time": "2024-08-17T10:32:49.296Z"
   },
   {
    "duration": 32,
    "start_time": "2024-08-17T10:33:54.900Z"
   },
   {
    "duration": 1769,
    "start_time": "2024-08-17T10:34:10.313Z"
   },
   {
    "duration": 271,
    "start_time": "2024-08-17T10:34:40.397Z"
   },
   {
    "duration": 1890,
    "start_time": "2024-08-17T10:35:49.068Z"
   },
   {
    "duration": 1898,
    "start_time": "2024-08-17T10:40:13.080Z"
   },
   {
    "duration": 1955,
    "start_time": "2024-08-17T10:41:01.537Z"
   },
   {
    "duration": 2036,
    "start_time": "2024-08-17T10:42:19.521Z"
   },
   {
    "duration": 1982,
    "start_time": "2024-08-17T10:42:47.373Z"
   },
   {
    "duration": 2039,
    "start_time": "2024-08-17T10:43:21.982Z"
   },
   {
    "duration": 1783,
    "start_time": "2024-08-17T10:45:52.279Z"
   },
   {
    "duration": 2520,
    "start_time": "2024-08-17T10:46:20.134Z"
   },
   {
    "duration": 37,
    "start_time": "2024-08-17T10:48:00.024Z"
   },
   {
    "duration": 62,
    "start_time": "2024-08-17T10:48:15.108Z"
   },
   {
    "duration": 65,
    "start_time": "2024-08-17T10:48:23.736Z"
   },
   {
    "duration": 41,
    "start_time": "2024-08-17T10:48:32.300Z"
   },
   {
    "duration": 42,
    "start_time": "2024-08-17T10:48:45.218Z"
   },
   {
    "duration": 264,
    "start_time": "2024-08-17T10:49:09.031Z"
   },
   {
    "duration": 286,
    "start_time": "2024-08-17T10:49:37.162Z"
   },
   {
    "duration": 248,
    "start_time": "2024-08-17T10:51:14.047Z"
   },
   {
    "duration": 261,
    "start_time": "2024-08-17T10:51:33.206Z"
   },
   {
    "duration": 241,
    "start_time": "2024-08-17T10:53:13.806Z"
   },
   {
    "duration": 244,
    "start_time": "2024-08-17T10:55:40.221Z"
   },
   {
    "duration": 379,
    "start_time": "2024-08-17T11:01:12.885Z"
   },
   {
    "duration": 5282,
    "start_time": "2024-08-17T11:01:34.433Z"
   },
   {
    "duration": 4800,
    "start_time": "2024-08-17T11:02:18.151Z"
   },
   {
    "duration": 4965,
    "start_time": "2024-08-17T11:02:58.166Z"
   },
   {
    "duration": 215,
    "start_time": "2024-08-17T11:03:19.702Z"
   },
   {
    "duration": 5162,
    "start_time": "2024-08-17T11:06:04.916Z"
   },
   {
    "duration": 1095,
    "start_time": "2024-08-17T11:13:19.108Z"
   },
   {
    "duration": 29,
    "start_time": "2024-08-17T11:13:20.205Z"
   },
   {
    "duration": 29,
    "start_time": "2024-08-17T11:13:20.236Z"
   },
   {
    "duration": 17,
    "start_time": "2024-08-17T11:13:20.267Z"
   },
   {
    "duration": 14,
    "start_time": "2024-08-17T11:13:20.285Z"
   },
   {
    "duration": 10,
    "start_time": "2024-08-17T11:13:20.301Z"
   },
   {
    "duration": 9,
    "start_time": "2024-08-17T11:13:20.313Z"
   },
   {
    "duration": 23,
    "start_time": "2024-08-17T11:13:20.324Z"
   },
   {
    "duration": 7,
    "start_time": "2024-08-17T11:13:20.354Z"
   },
   {
    "duration": 10,
    "start_time": "2024-08-17T11:13:20.363Z"
   },
   {
    "duration": 7,
    "start_time": "2024-08-17T11:13:20.374Z"
   },
   {
    "duration": 9,
    "start_time": "2024-08-17T11:13:20.383Z"
   },
   {
    "duration": 4,
    "start_time": "2024-08-17T11:13:20.394Z"
   },
   {
    "duration": 5,
    "start_time": "2024-08-17T11:13:20.400Z"
   },
   {
    "duration": 6,
    "start_time": "2024-08-17T11:13:20.407Z"
   },
   {
    "duration": 6,
    "start_time": "2024-08-17T11:13:20.452Z"
   },
   {
    "duration": 49,
    "start_time": "2024-08-17T11:13:20.459Z"
   },
   {
    "duration": 7,
    "start_time": "2024-08-17T11:13:20.510Z"
   },
   {
    "duration": 8,
    "start_time": "2024-08-17T11:13:20.518Z"
   },
   {
    "duration": 8,
    "start_time": "2024-08-17T11:13:20.528Z"
   },
   {
    "duration": 11,
    "start_time": "2024-08-17T11:13:20.538Z"
   },
   {
    "duration": 6,
    "start_time": "2024-08-17T11:13:20.550Z"
   },
   {
    "duration": 6,
    "start_time": "2024-08-17T11:13:20.557Z"
   },
   {
    "duration": 10,
    "start_time": "2024-08-17T11:13:20.565Z"
   },
   {
    "duration": 201,
    "start_time": "2024-08-17T11:13:20.577Z"
   },
   {
    "duration": 6,
    "start_time": "2024-08-17T11:13:20.780Z"
   },
   {
    "duration": 132,
    "start_time": "2024-08-17T11:13:20.788Z"
   },
   {
    "duration": 6,
    "start_time": "2024-08-17T11:13:20.925Z"
   },
   {
    "duration": 189,
    "start_time": "2024-08-17T11:13:20.933Z"
   },
   {
    "duration": 10,
    "start_time": "2024-08-17T11:13:21.124Z"
   },
   {
    "duration": 233,
    "start_time": "2024-08-17T11:13:21.136Z"
   },
   {
    "duration": 10,
    "start_time": "2024-08-17T11:13:21.371Z"
   },
   {
    "duration": 239,
    "start_time": "2024-08-17T11:13:21.383Z"
   },
   {
    "duration": 36,
    "start_time": "2024-08-17T11:13:21.624Z"
   },
   {
    "duration": 21,
    "start_time": "2024-08-17T11:13:21.661Z"
   },
   {
    "duration": 54,
    "start_time": "2024-08-17T11:13:21.684Z"
   },
   {
    "duration": 252,
    "start_time": "2024-08-17T11:13:21.740Z"
   },
   {
    "duration": 8,
    "start_time": "2024-08-17T11:13:21.993Z"
   },
   {
    "duration": 7,
    "start_time": "2024-08-17T11:13:22.003Z"
   },
   {
    "duration": 266,
    "start_time": "2024-08-17T11:13:22.011Z"
   },
   {
    "duration": 9,
    "start_time": "2024-08-17T11:13:22.280Z"
   },
   {
    "duration": 9,
    "start_time": "2024-08-17T11:13:22.290Z"
   },
   {
    "duration": 933,
    "start_time": "2024-08-17T11:13:22.300Z"
   },
   {
    "duration": 35,
    "start_time": "2024-08-17T11:13:23.235Z"
   },
   {
    "duration": 211,
    "start_time": "2024-08-17T11:13:23.272Z"
   },
   {
    "duration": 10,
    "start_time": "2024-08-17T11:13:23.485Z"
   },
   {
    "duration": 13,
    "start_time": "2024-08-17T11:13:23.497Z"
   },
   {
    "duration": 34,
    "start_time": "2024-08-17T11:13:23.512Z"
   },
   {
    "duration": 13,
    "start_time": "2024-08-17T11:13:23.548Z"
   },
   {
    "duration": 16,
    "start_time": "2024-08-17T11:13:23.562Z"
   },
   {
    "duration": 256,
    "start_time": "2024-08-17T11:13:23.579Z"
   },
   {
    "duration": 4479,
    "start_time": "2024-08-17T11:13:23.836Z"
   },
   {
    "duration": 1324,
    "start_time": "2024-08-17T13:57:07.413Z"
   },
   {
    "duration": 84,
    "start_time": "2024-08-17T13:57:08.739Z"
   },
   {
    "duration": 134,
    "start_time": "2024-08-17T13:57:08.824Z"
   },
   {
    "duration": 65,
    "start_time": "2024-08-17T13:57:08.959Z"
   },
   {
    "duration": 12,
    "start_time": "2024-08-17T13:57:09.026Z"
   },
   {
    "duration": 31,
    "start_time": "2024-08-17T13:57:09.039Z"
   },
   {
    "duration": 25,
    "start_time": "2024-08-17T13:57:09.072Z"
   },
   {
    "duration": 32,
    "start_time": "2024-08-17T13:57:09.098Z"
   },
   {
    "duration": 12,
    "start_time": "2024-08-17T13:57:09.131Z"
   },
   {
    "duration": 17,
    "start_time": "2024-08-17T13:57:09.144Z"
   },
   {
    "duration": 32,
    "start_time": "2024-08-17T13:57:09.162Z"
   },
   {
    "duration": 46,
    "start_time": "2024-08-17T13:57:09.196Z"
   },
   {
    "duration": 45,
    "start_time": "2024-08-17T13:57:09.244Z"
   },
   {
    "duration": 9,
    "start_time": "2024-08-17T13:57:09.292Z"
   },
   {
    "duration": 22,
    "start_time": "2024-08-17T13:57:09.303Z"
   },
   {
    "duration": 10,
    "start_time": "2024-08-17T13:57:09.326Z"
   },
   {
    "duration": 7,
    "start_time": "2024-08-17T13:57:09.338Z"
   },
   {
    "duration": 6,
    "start_time": "2024-08-17T13:57:09.346Z"
   },
   {
    "duration": 20,
    "start_time": "2024-08-17T13:57:09.353Z"
   },
   {
    "duration": 22,
    "start_time": "2024-08-17T13:57:09.375Z"
   },
   {
    "duration": 9,
    "start_time": "2024-08-17T13:57:09.398Z"
   },
   {
    "duration": 5,
    "start_time": "2024-08-17T13:57:09.408Z"
   },
   {
    "duration": 28,
    "start_time": "2024-08-17T13:57:09.414Z"
   },
   {
    "duration": 6,
    "start_time": "2024-08-17T13:57:09.444Z"
   },
   {
    "duration": 175,
    "start_time": "2024-08-17T13:57:09.451Z"
   },
   {
    "duration": 6,
    "start_time": "2024-08-17T13:57:09.627Z"
   },
   {
    "duration": 126,
    "start_time": "2024-08-17T13:57:09.637Z"
   },
   {
    "duration": 5,
    "start_time": "2024-08-17T13:57:09.765Z"
   },
   {
    "duration": 168,
    "start_time": "2024-08-17T13:57:09.771Z"
   },
   {
    "duration": 8,
    "start_time": "2024-08-17T13:57:09.941Z"
   },
   {
    "duration": 193,
    "start_time": "2024-08-17T13:57:09.951Z"
   },
   {
    "duration": 10,
    "start_time": "2024-08-17T13:57:10.146Z"
   },
   {
    "duration": 210,
    "start_time": "2024-08-17T13:57:10.158Z"
   },
   {
    "duration": 27,
    "start_time": "2024-08-17T13:57:10.370Z"
   },
   {
    "duration": 19,
    "start_time": "2024-08-17T13:57:10.398Z"
   },
   {
    "duration": 17,
    "start_time": "2024-08-17T13:57:10.438Z"
   },
   {
    "duration": 239,
    "start_time": "2024-08-17T13:57:10.456Z"
   },
   {
    "duration": 8,
    "start_time": "2024-08-17T13:57:10.696Z"
   },
   {
    "duration": 7,
    "start_time": "2024-08-17T13:57:10.706Z"
   },
   {
    "duration": 245,
    "start_time": "2024-08-17T13:57:10.715Z"
   },
   {
    "duration": 7,
    "start_time": "2024-08-17T13:57:10.963Z"
   },
   {
    "duration": 33,
    "start_time": "2024-08-17T13:57:10.972Z"
   },
   {
    "duration": 971,
    "start_time": "2024-08-17T13:57:11.006Z"
   },
   {
    "duration": 18,
    "start_time": "2024-08-17T13:57:11.978Z"
   },
   {
    "duration": 202,
    "start_time": "2024-08-17T13:57:11.997Z"
   },
   {
    "duration": 7,
    "start_time": "2024-08-17T13:57:12.201Z"
   },
   {
    "duration": 4,
    "start_time": "2024-08-17T13:57:12.209Z"
   },
   {
    "duration": 22,
    "start_time": "2024-08-17T13:57:12.215Z"
   },
   {
    "duration": 5,
    "start_time": "2024-08-17T13:57:12.238Z"
   },
   {
    "duration": 11,
    "start_time": "2024-08-17T13:57:12.245Z"
   },
   {
    "duration": 242,
    "start_time": "2024-08-17T13:57:12.257Z"
   },
   {
    "duration": 4156,
    "start_time": "2024-08-17T13:57:12.501Z"
   },
   {
    "duration": 6,
    "start_time": "2024-08-17T14:04:35.410Z"
   },
   {
    "duration": 1269,
    "start_time": "2024-08-18T07:40:21.860Z"
   },
   {
    "duration": 112,
    "start_time": "2024-08-18T07:40:23.131Z"
   },
   {
    "duration": 185,
    "start_time": "2024-08-18T07:40:23.245Z"
   },
   {
    "duration": 75,
    "start_time": "2024-08-18T07:40:23.432Z"
   },
   {
    "duration": 12,
    "start_time": "2024-08-18T07:40:23.509Z"
   },
   {
    "duration": 18,
    "start_time": "2024-08-18T07:40:23.523Z"
   },
   {
    "duration": 23,
    "start_time": "2024-08-18T07:40:23.542Z"
   },
   {
    "duration": 13,
    "start_time": "2024-08-18T07:40:23.567Z"
   },
   {
    "duration": 6,
    "start_time": "2024-08-18T07:40:23.582Z"
   },
   {
    "duration": 10,
    "start_time": "2024-08-18T07:40:23.590Z"
   },
   {
    "duration": 6,
    "start_time": "2024-08-18T07:40:23.602Z"
   },
   {
    "duration": 31,
    "start_time": "2024-08-18T07:40:23.610Z"
   },
   {
    "duration": 6,
    "start_time": "2024-08-18T07:40:23.642Z"
   },
   {
    "duration": 5,
    "start_time": "2024-08-18T07:40:23.649Z"
   },
   {
    "duration": 7,
    "start_time": "2024-08-18T07:40:23.655Z"
   },
   {
    "duration": 4,
    "start_time": "2024-08-18T07:40:23.664Z"
   },
   {
    "duration": 15,
    "start_time": "2024-08-18T07:40:23.669Z"
   },
   {
    "duration": 5,
    "start_time": "2024-08-18T07:40:23.685Z"
   },
   {
    "duration": 7,
    "start_time": "2024-08-18T07:40:23.692Z"
   },
   {
    "duration": 34,
    "start_time": "2024-08-18T07:40:23.700Z"
   },
   {
    "duration": 27,
    "start_time": "2024-08-18T07:40:23.735Z"
   },
   {
    "duration": 4,
    "start_time": "2024-08-18T07:40:23.764Z"
   },
   {
    "duration": 11,
    "start_time": "2024-08-18T07:40:23.769Z"
   },
   {
    "duration": 7,
    "start_time": "2024-08-18T07:40:23.781Z"
   },
   {
    "duration": 167,
    "start_time": "2024-08-18T07:40:23.789Z"
   },
   {
    "duration": 5,
    "start_time": "2024-08-18T07:40:23.958Z"
   },
   {
    "duration": 130,
    "start_time": "2024-08-18T07:40:23.964Z"
   },
   {
    "duration": 5,
    "start_time": "2024-08-18T07:40:24.098Z"
   },
   {
    "duration": 166,
    "start_time": "2024-08-18T07:40:24.105Z"
   },
   {
    "duration": 12,
    "start_time": "2024-08-18T07:40:24.273Z"
   },
   {
    "duration": 195,
    "start_time": "2024-08-18T07:40:24.286Z"
   },
   {
    "duration": 8,
    "start_time": "2024-08-18T07:40:24.483Z"
   },
   {
    "duration": 182,
    "start_time": "2024-08-18T07:40:24.492Z"
   },
   {
    "duration": 30,
    "start_time": "2024-08-18T07:40:24.675Z"
   },
   {
    "duration": 19,
    "start_time": "2024-08-18T07:40:24.706Z"
   },
   {
    "duration": 27,
    "start_time": "2024-08-18T07:40:24.726Z"
   },
   {
    "duration": 237,
    "start_time": "2024-08-18T07:40:24.754Z"
   },
   {
    "duration": 8,
    "start_time": "2024-08-18T07:40:24.992Z"
   },
   {
    "duration": 8,
    "start_time": "2024-08-18T07:40:25.001Z"
   },
   {
    "duration": 234,
    "start_time": "2024-08-18T07:40:25.010Z"
   },
   {
    "duration": 8,
    "start_time": "2024-08-18T07:40:25.245Z"
   },
   {
    "duration": 10,
    "start_time": "2024-08-18T07:40:25.254Z"
   },
   {
    "duration": 855,
    "start_time": "2024-08-18T07:40:25.265Z"
   },
   {
    "duration": 17,
    "start_time": "2024-08-18T07:40:26.121Z"
   },
   {
    "duration": 191,
    "start_time": "2024-08-18T07:40:26.140Z"
   },
   {
    "duration": 7,
    "start_time": "2024-08-18T07:40:26.333Z"
   },
   {
    "duration": 8,
    "start_time": "2024-08-18T07:40:26.342Z"
   },
   {
    "duration": 14,
    "start_time": "2024-08-18T07:40:26.351Z"
   },
   {
    "duration": 16,
    "start_time": "2024-08-18T07:40:26.366Z"
   },
   {
    "duration": 11,
    "start_time": "2024-08-18T07:40:26.384Z"
   },
   {
    "duration": 219,
    "start_time": "2024-08-18T07:40:26.396Z"
   },
   {
    "duration": 4118,
    "start_time": "2024-08-18T07:40:26.616Z"
   },
   {
    "duration": 89,
    "start_time": "2024-08-18T08:07:29.045Z"
   },
   {
    "duration": 60,
    "start_time": "2024-08-18T09:32:22.187Z"
   },
   {
    "duration": 1083,
    "start_time": "2024-08-18T10:07:19.059Z"
   },
   {
    "duration": 12,
    "start_time": "2024-08-18T10:07:37.288Z"
   },
   {
    "duration": 78,
    "start_time": "2024-08-18T10:12:54.359Z"
   },
   {
    "duration": 53,
    "start_time": "2024-08-18T10:13:59.446Z"
   },
   {
    "duration": 55,
    "start_time": "2024-08-18T10:26:03.283Z"
   },
   {
    "duration": 303,
    "start_time": "2024-08-18T10:27:34.196Z"
   },
   {
    "duration": 322,
    "start_time": "2024-08-18T10:29:46.501Z"
   },
   {
    "duration": 315,
    "start_time": "2024-08-18T10:29:51.700Z"
   },
   {
    "duration": 20743,
    "start_time": "2024-08-18T10:37:14.232Z"
   },
   {
    "duration": 21134,
    "start_time": "2024-08-18T10:37:59.095Z"
   },
   {
    "duration": 146,
    "start_time": "2024-08-18T10:39:42.697Z"
   },
   {
    "duration": 61,
    "start_time": "2024-08-18T10:49:36.167Z"
   },
   {
    "duration": 148,
    "start_time": "2024-08-18T10:50:57.491Z"
   },
   {
    "duration": 152,
    "start_time": "2024-08-18T10:51:04.766Z"
   },
   {
    "duration": 6,
    "start_time": "2024-08-18T10:55:12.826Z"
   },
   {
    "duration": 8,
    "start_time": "2024-08-18T10:55:20.264Z"
   },
   {
    "duration": 6,
    "start_time": "2024-08-18T10:57:43.380Z"
   },
   {
    "duration": 13,
    "start_time": "2024-08-18T10:57:54.280Z"
   },
   {
    "duration": 12,
    "start_time": "2024-08-18T10:58:34.918Z"
   },
   {
    "duration": 6,
    "start_time": "2024-08-18T11:00:41.307Z"
   },
   {
    "duration": 13,
    "start_time": "2024-08-18T11:00:42.479Z"
   },
   {
    "duration": 4,
    "start_time": "2024-08-18T11:03:17.811Z"
   },
   {
    "duration": 5,
    "start_time": "2024-08-18T11:05:36.543Z"
   },
   {
    "duration": 182,
    "start_time": "2024-08-18T11:05:49.739Z"
   },
   {
    "duration": 5,
    "start_time": "2024-08-18T11:11:46.318Z"
   },
   {
    "duration": 6,
    "start_time": "2024-08-18T11:11:49.071Z"
   },
   {
    "duration": 5,
    "start_time": "2024-08-18T11:11:52.679Z"
   },
   {
    "duration": 7,
    "start_time": "2024-08-18T11:12:00.231Z"
   },
   {
    "duration": 6,
    "start_time": "2024-08-18T11:12:00.851Z"
   },
   {
    "duration": 4,
    "start_time": "2024-08-18T11:12:04.402Z"
   },
   {
    "duration": 4,
    "start_time": "2024-08-18T11:12:24.475Z"
   },
   {
    "duration": 6,
    "start_time": "2024-08-18T11:12:26.630Z"
   },
   {
    "duration": 1055,
    "start_time": "2024-08-18T11:12:56.927Z"
   },
   {
    "duration": 30,
    "start_time": "2024-08-18T11:12:57.984Z"
   },
   {
    "duration": 28,
    "start_time": "2024-08-18T11:12:58.016Z"
   },
   {
    "duration": 18,
    "start_time": "2024-08-18T11:12:58.046Z"
   },
   {
    "duration": 13,
    "start_time": "2024-08-18T11:12:58.066Z"
   },
   {
    "duration": 14,
    "start_time": "2024-08-18T11:12:58.081Z"
   },
   {
    "duration": 12,
    "start_time": "2024-08-18T11:12:58.097Z"
   },
   {
    "duration": 34,
    "start_time": "2024-08-18T11:12:58.111Z"
   },
   {
    "duration": 31,
    "start_time": "2024-08-18T11:12:58.147Z"
   },
   {
    "duration": 20,
    "start_time": "2024-08-18T11:12:58.181Z"
   },
   {
    "duration": 19,
    "start_time": "2024-08-18T11:12:58.202Z"
   },
   {
    "duration": 29,
    "start_time": "2024-08-18T11:12:58.222Z"
   },
   {
    "duration": 10,
    "start_time": "2024-08-18T11:12:58.253Z"
   },
   {
    "duration": 11,
    "start_time": "2024-08-18T11:12:58.265Z"
   },
   {
    "duration": 10,
    "start_time": "2024-08-18T11:12:58.278Z"
   },
   {
    "duration": 27,
    "start_time": "2024-08-18T11:12:58.289Z"
   },
   {
    "duration": 26,
    "start_time": "2024-08-18T11:12:58.317Z"
   },
   {
    "duration": 18,
    "start_time": "2024-08-18T11:12:58.344Z"
   },
   {
    "duration": 14,
    "start_time": "2024-08-18T11:12:58.364Z"
   },
   {
    "duration": 15,
    "start_time": "2024-08-18T11:12:58.380Z"
   },
   {
    "duration": 34,
    "start_time": "2024-08-18T11:12:58.397Z"
   },
   {
    "duration": 18,
    "start_time": "2024-08-18T11:12:58.432Z"
   },
   {
    "duration": 12,
    "start_time": "2024-08-18T11:12:58.452Z"
   },
   {
    "duration": 15,
    "start_time": "2024-08-18T11:12:58.466Z"
   },
   {
    "duration": 7,
    "start_time": "2024-08-18T11:12:58.482Z"
   },
   {
    "duration": 162,
    "start_time": "2024-08-18T11:12:58.491Z"
   },
   {
    "duration": 5,
    "start_time": "2024-08-18T11:12:58.654Z"
   },
   {
    "duration": 111,
    "start_time": "2024-08-18T11:12:58.662Z"
   },
   {
    "duration": 7,
    "start_time": "2024-08-18T11:12:58.775Z"
   },
   {
    "duration": 154,
    "start_time": "2024-08-18T11:12:58.784Z"
   },
   {
    "duration": 7,
    "start_time": "2024-08-18T11:12:58.939Z"
   },
   {
    "duration": 189,
    "start_time": "2024-08-18T11:12:58.948Z"
   },
   {
    "duration": 8,
    "start_time": "2024-08-18T11:12:59.139Z"
   },
   {
    "duration": 188,
    "start_time": "2024-08-18T11:12:59.148Z"
   },
   {
    "duration": 5,
    "start_time": "2024-08-18T11:12:59.337Z"
   },
   {
    "duration": 14,
    "start_time": "2024-08-18T11:12:59.343Z"
   },
   {
    "duration": 4,
    "start_time": "2024-08-18T11:12:59.358Z"
   },
   {
    "duration": 22,
    "start_time": "2024-08-18T11:12:59.363Z"
   },
   {
    "duration": 178,
    "start_time": "2024-08-18T11:12:59.387Z"
   },
   {
    "duration": 28,
    "start_time": "2024-08-18T11:12:59.566Z"
   },
   {
    "duration": 15,
    "start_time": "2024-08-18T11:12:59.596Z"
   },
   {
    "duration": 14,
    "start_time": "2024-08-18T11:12:59.613Z"
   },
   {
    "duration": 238,
    "start_time": "2024-08-18T11:12:59.629Z"
   },
   {
    "duration": 13,
    "start_time": "2024-08-18T11:12:59.869Z"
   },
   {
    "duration": 31,
    "start_time": "2024-08-18T11:12:59.883Z"
   },
   {
    "duration": 283,
    "start_time": "2024-08-18T11:12:59.915Z"
   },
   {
    "duration": 12,
    "start_time": "2024-08-18T11:13:00.199Z"
   },
   {
    "duration": 50,
    "start_time": "2024-08-18T11:13:00.214Z"
   },
   {
    "duration": 127,
    "start_time": "2024-08-18T11:13:00.266Z"
   },
   {
    "duration": 20,
    "start_time": "2024-08-18T11:13:00.394Z"
   },
   {
    "duration": 207,
    "start_time": "2024-08-18T11:13:00.416Z"
   },
   {
    "duration": 8,
    "start_time": "2024-08-18T11:13:00.624Z"
   },
   {
    "duration": 41,
    "start_time": "2024-08-18T11:13:00.633Z"
   },
   {
    "duration": 69,
    "start_time": "2024-08-18T11:13:00.675Z"
   },
   {
    "duration": 71,
    "start_time": "2024-08-18T11:13:00.746Z"
   },
   {
    "duration": 80,
    "start_time": "2024-08-18T11:13:00.819Z"
   },
   {
    "duration": 294,
    "start_time": "2024-08-18T11:13:00.901Z"
   },
   {
    "duration": 3991,
    "start_time": "2024-08-18T11:13:01.197Z"
   },
   {
    "duration": 5,
    "start_time": "2024-08-18T11:14:14.754Z"
   },
   {
    "duration": 6,
    "start_time": "2024-08-18T11:14:18.200Z"
   },
   {
    "duration": 181,
    "start_time": "2024-08-18T11:14:18.720Z"
   },
   {
    "duration": 239,
    "start_time": "2024-08-18T11:15:04.625Z"
   },
   {
    "duration": 5,
    "start_time": "2024-08-18T11:15:48.449Z"
   },
   {
    "duration": 6,
    "start_time": "2024-08-18T11:15:49.814Z"
   },
   {
    "duration": 1036,
    "start_time": "2024-08-18T11:15:56.509Z"
   },
   {
    "duration": 32,
    "start_time": "2024-08-18T11:15:57.546Z"
   },
   {
    "duration": 29,
    "start_time": "2024-08-18T11:15:57.579Z"
   },
   {
    "duration": 16,
    "start_time": "2024-08-18T11:15:57.610Z"
   },
   {
    "duration": 12,
    "start_time": "2024-08-18T11:15:57.627Z"
   },
   {
    "duration": 11,
    "start_time": "2024-08-18T11:15:57.640Z"
   },
   {
    "duration": 11,
    "start_time": "2024-08-18T11:15:57.652Z"
   },
   {
    "duration": 32,
    "start_time": "2024-08-18T11:15:57.665Z"
   },
   {
    "duration": 23,
    "start_time": "2024-08-18T11:15:57.698Z"
   },
   {
    "duration": 8,
    "start_time": "2024-08-18T11:15:57.723Z"
   },
   {
    "duration": 14,
    "start_time": "2024-08-18T11:15:57.733Z"
   },
   {
    "duration": 17,
    "start_time": "2024-08-18T11:15:57.748Z"
   },
   {
    "duration": 4,
    "start_time": "2024-08-18T11:15:57.766Z"
   },
   {
    "duration": 13,
    "start_time": "2024-08-18T11:15:57.771Z"
   },
   {
    "duration": 21,
    "start_time": "2024-08-18T11:15:57.785Z"
   },
   {
    "duration": 26,
    "start_time": "2024-08-18T11:15:57.808Z"
   },
   {
    "duration": 14,
    "start_time": "2024-08-18T11:15:57.835Z"
   },
   {
    "duration": 7,
    "start_time": "2024-08-18T11:15:57.850Z"
   },
   {
    "duration": 6,
    "start_time": "2024-08-18T11:15:57.858Z"
   },
   {
    "duration": 4,
    "start_time": "2024-08-18T11:15:57.865Z"
   },
   {
    "duration": 5,
    "start_time": "2024-08-18T11:15:57.870Z"
   },
   {
    "duration": 6,
    "start_time": "2024-08-18T11:15:57.877Z"
   },
   {
    "duration": 5,
    "start_time": "2024-08-18T11:15:57.885Z"
   },
   {
    "duration": 5,
    "start_time": "2024-08-18T11:15:57.891Z"
   },
   {
    "duration": 13,
    "start_time": "2024-08-18T11:15:57.897Z"
   },
   {
    "duration": 168,
    "start_time": "2024-08-18T11:15:57.912Z"
   },
   {
    "duration": 6,
    "start_time": "2024-08-18T11:15:58.081Z"
   },
   {
    "duration": 119,
    "start_time": "2024-08-18T11:15:58.090Z"
   },
   {
    "duration": 5,
    "start_time": "2024-08-18T11:15:58.210Z"
   },
   {
    "duration": 165,
    "start_time": "2024-08-18T11:15:58.217Z"
   },
   {
    "duration": 8,
    "start_time": "2024-08-18T11:15:58.383Z"
   },
   {
    "duration": 179,
    "start_time": "2024-08-18T11:15:58.392Z"
   },
   {
    "duration": 15,
    "start_time": "2024-08-18T11:15:58.572Z"
   },
   {
    "duration": 181,
    "start_time": "2024-08-18T11:15:58.588Z"
   },
   {
    "duration": 12,
    "start_time": "2024-08-18T11:15:58.770Z"
   },
   {
    "duration": 12,
    "start_time": "2024-08-18T11:15:58.783Z"
   },
   {
    "duration": 12,
    "start_time": "2024-08-18T11:15:58.796Z"
   },
   {
    "duration": 12,
    "start_time": "2024-08-18T11:15:58.809Z"
   },
   {
    "duration": 175,
    "start_time": "2024-08-18T11:15:58.822Z"
   },
   {
    "duration": 25,
    "start_time": "2024-08-18T11:15:58.998Z"
   },
   {
    "duration": 22,
    "start_time": "2024-08-18T11:15:59.025Z"
   },
   {
    "duration": 35,
    "start_time": "2024-08-18T11:15:59.048Z"
   },
   {
    "duration": 218,
    "start_time": "2024-08-18T11:15:59.084Z"
   },
   {
    "duration": 7,
    "start_time": "2024-08-18T11:15:59.303Z"
   },
   {
    "duration": 11,
    "start_time": "2024-08-18T11:15:59.312Z"
   },
   {
    "duration": 303,
    "start_time": "2024-08-18T11:15:59.324Z"
   },
   {
    "duration": 7,
    "start_time": "2024-08-18T11:15:59.628Z"
   },
   {
    "duration": 24,
    "start_time": "2024-08-18T11:15:59.636Z"
   },
   {
    "duration": 805,
    "start_time": "2024-08-18T11:15:59.661Z"
   },
   {
    "duration": 28,
    "start_time": "2024-08-18T11:16:00.467Z"
   },
   {
    "duration": 203,
    "start_time": "2024-08-18T11:16:00.496Z"
   },
   {
    "duration": 7,
    "start_time": "2024-08-18T11:16:00.701Z"
   },
   {
    "duration": 75,
    "start_time": "2024-08-18T11:16:00.710Z"
   },
   {
    "duration": 66,
    "start_time": "2024-08-18T11:16:00.787Z"
   },
   {
    "duration": 74,
    "start_time": "2024-08-18T11:16:00.854Z"
   },
   {
    "duration": 45,
    "start_time": "2024-08-18T11:16:00.929Z"
   },
   {
    "duration": 301,
    "start_time": "2024-08-18T11:16:00.976Z"
   },
   {
    "duration": 4036,
    "start_time": "2024-08-18T11:16:01.279Z"
   },
   {
    "duration": 14,
    "start_time": "2024-08-18T11:19:49.308Z"
   },
   {
    "duration": 94,
    "start_time": "2024-08-18T11:42:27.368Z"
   },
   {
    "duration": 6,
    "start_time": "2024-08-18T11:42:53.804Z"
   },
   {
    "duration": 69,
    "start_time": "2024-08-18T11:44:41.313Z"
   },
   {
    "duration": 6,
    "start_time": "2024-08-18T11:47:11.877Z"
   },
   {
    "duration": 5,
    "start_time": "2024-08-18T11:47:19.402Z"
   },
   {
    "duration": 243,
    "start_time": "2024-08-18T12:08:15.738Z"
   },
   {
    "duration": 224,
    "start_time": "2024-08-18T12:08:54.063Z"
   },
   {
    "duration": 56,
    "start_time": "2024-08-18T12:09:49.971Z"
   },
   {
    "duration": 4519,
    "start_time": "2024-08-18T12:11:10.469Z"
   },
   {
    "duration": 51,
    "start_time": "2024-08-18T12:23:36.021Z"
   },
   {
    "duration": 7,
    "start_time": "2024-08-18T12:27:28.484Z"
   },
   {
    "duration": 57,
    "start_time": "2024-08-18T12:29:11.116Z"
   },
   {
    "duration": 7,
    "start_time": "2024-08-18T12:29:17.525Z"
   },
   {
    "duration": 6,
    "start_time": "2024-08-18T12:30:46.167Z"
   },
   {
    "duration": 76,
    "start_time": "2024-08-19T02:36:15.267Z"
   },
   {
    "duration": 1256,
    "start_time": "2024-08-19T02:36:20.887Z"
   },
   {
    "duration": 119,
    "start_time": "2024-08-19T02:36:22.145Z"
   },
   {
    "duration": 206,
    "start_time": "2024-08-19T02:36:22.266Z"
   },
   {
    "duration": 84,
    "start_time": "2024-08-19T02:36:22.474Z"
   },
   {
    "duration": 13,
    "start_time": "2024-08-19T02:36:22.560Z"
   },
   {
    "duration": 10,
    "start_time": "2024-08-19T02:36:22.574Z"
   },
   {
    "duration": 34,
    "start_time": "2024-08-19T02:36:22.585Z"
   },
   {
    "duration": 29,
    "start_time": "2024-08-19T02:36:22.621Z"
   },
   {
    "duration": 6,
    "start_time": "2024-08-19T02:36:22.652Z"
   },
   {
    "duration": 11,
    "start_time": "2024-08-19T02:36:22.660Z"
   },
   {
    "duration": 7,
    "start_time": "2024-08-19T02:36:22.672Z"
   },
   {
    "duration": 10,
    "start_time": "2024-08-19T02:36:22.681Z"
   },
   {
    "duration": 16,
    "start_time": "2024-08-19T02:36:22.693Z"
   },
   {
    "duration": 23,
    "start_time": "2024-08-19T02:36:22.711Z"
   },
   {
    "duration": 14,
    "start_time": "2024-08-19T02:36:22.735Z"
   },
   {
    "duration": 11,
    "start_time": "2024-08-19T02:36:22.751Z"
   },
   {
    "duration": 5,
    "start_time": "2024-08-19T02:36:22.763Z"
   },
   {
    "duration": 8,
    "start_time": "2024-08-19T02:36:22.769Z"
   },
   {
    "duration": 11,
    "start_time": "2024-08-19T02:36:22.779Z"
   },
   {
    "duration": 30,
    "start_time": "2024-08-19T02:36:22.792Z"
   },
   {
    "duration": 13,
    "start_time": "2024-08-19T02:36:22.824Z"
   },
   {
    "duration": 17,
    "start_time": "2024-08-19T02:36:22.838Z"
   },
   {
    "duration": 6,
    "start_time": "2024-08-19T02:36:22.857Z"
   },
   {
    "duration": 5,
    "start_time": "2024-08-19T02:36:22.864Z"
   },
   {
    "duration": 21,
    "start_time": "2024-08-19T02:36:22.870Z"
   },
   {
    "duration": 180,
    "start_time": "2024-08-19T02:36:22.892Z"
   },
   {
    "duration": 5,
    "start_time": "2024-08-19T02:36:23.074Z"
   },
   {
    "duration": 122,
    "start_time": "2024-08-19T02:36:23.084Z"
   },
   {
    "duration": 6,
    "start_time": "2024-08-19T02:36:23.208Z"
   },
   {
    "duration": 175,
    "start_time": "2024-08-19T02:36:23.216Z"
   },
   {
    "duration": 8,
    "start_time": "2024-08-19T02:36:23.392Z"
   },
   {
    "duration": 190,
    "start_time": "2024-08-19T02:36:23.402Z"
   },
   {
    "duration": 9,
    "start_time": "2024-08-19T02:36:23.593Z"
   },
   {
    "duration": 191,
    "start_time": "2024-08-19T02:36:23.603Z"
   },
   {
    "duration": 5,
    "start_time": "2024-08-19T02:36:23.795Z"
   },
   {
    "duration": 14,
    "start_time": "2024-08-19T02:36:23.802Z"
   },
   {
    "duration": 10,
    "start_time": "2024-08-19T02:36:23.817Z"
   },
   {
    "duration": 6,
    "start_time": "2024-08-19T02:36:23.828Z"
   },
   {
    "duration": 174,
    "start_time": "2024-08-19T02:36:23.835Z"
   },
   {
    "duration": 26,
    "start_time": "2024-08-19T02:36:24.010Z"
   },
   {
    "duration": 5,
    "start_time": "2024-08-19T02:36:24.038Z"
   },
   {
    "duration": 39,
    "start_time": "2024-08-19T02:36:24.044Z"
   },
   {
    "duration": 19,
    "start_time": "2024-08-19T02:36:24.084Z"
   },
   {
    "duration": 4,
    "start_time": "2024-08-19T02:36:24.105Z"
   },
   {
    "duration": 239,
    "start_time": "2024-08-19T02:36:24.111Z"
   },
   {
    "duration": 8,
    "start_time": "2024-08-19T02:36:24.352Z"
   },
   {
    "duration": 20,
    "start_time": "2024-08-19T02:36:24.362Z"
   },
   {
    "duration": 291,
    "start_time": "2024-08-19T02:36:24.384Z"
   },
   {
    "duration": 11,
    "start_time": "2024-08-19T02:36:24.677Z"
   },
   {
    "duration": 7,
    "start_time": "2024-08-19T02:36:24.690Z"
   },
   {
    "duration": 858,
    "start_time": "2024-08-19T02:36:24.699Z"
   },
   {
    "duration": 25,
    "start_time": "2024-08-19T02:36:25.559Z"
   },
   {
    "duration": 187,
    "start_time": "2024-08-19T02:36:25.585Z"
   },
   {
    "duration": 11,
    "start_time": "2024-08-19T02:36:25.774Z"
   },
   {
    "duration": 3,
    "start_time": "2024-08-19T02:36:25.786Z"
   },
   {
    "duration": 11,
    "start_time": "2024-08-19T02:36:25.790Z"
   },
   {
    "duration": 61,
    "start_time": "2024-08-19T02:36:25.802Z"
   },
   {
    "duration": 0,
    "start_time": "2024-08-19T02:36:25.864Z"
   },
   {
    "duration": 0,
    "start_time": "2024-08-19T02:36:25.865Z"
   },
   {
    "duration": 0,
    "start_time": "2024-08-19T02:36:25.866Z"
   },
   {
    "duration": 0,
    "start_time": "2024-08-19T02:36:25.867Z"
   },
   {
    "duration": 5,
    "start_time": "2024-08-19T02:36:40.275Z"
   },
   {
    "duration": 72,
    "start_time": "2024-08-19T02:45:41.948Z"
   },
   {
    "duration": 65,
    "start_time": "2024-08-19T03:00:26.833Z"
   },
   {
    "duration": 1095,
    "start_time": "2024-08-19T03:36:13.253Z"
   },
   {
    "duration": 35,
    "start_time": "2024-08-19T03:36:14.349Z"
   },
   {
    "duration": 31,
    "start_time": "2024-08-19T03:36:14.385Z"
   },
   {
    "duration": 18,
    "start_time": "2024-08-19T03:36:14.418Z"
   },
   {
    "duration": 13,
    "start_time": "2024-08-19T03:36:14.438Z"
   },
   {
    "duration": 10,
    "start_time": "2024-08-19T03:36:14.453Z"
   },
   {
    "duration": 19,
    "start_time": "2024-08-19T03:36:14.464Z"
   },
   {
    "duration": 11,
    "start_time": "2024-08-19T03:36:14.484Z"
   },
   {
    "duration": 6,
    "start_time": "2024-08-19T03:36:14.497Z"
   },
   {
    "duration": 9,
    "start_time": "2024-08-19T03:36:14.505Z"
   },
   {
    "duration": 17,
    "start_time": "2024-08-19T03:36:14.516Z"
   },
   {
    "duration": 14,
    "start_time": "2024-08-19T03:36:14.535Z"
   },
   {
    "duration": 4,
    "start_time": "2024-08-19T03:36:14.550Z"
   },
   {
    "duration": 26,
    "start_time": "2024-08-19T03:36:14.556Z"
   },
   {
    "duration": 5,
    "start_time": "2024-08-19T03:36:14.584Z"
   },
   {
    "duration": 9,
    "start_time": "2024-08-19T03:36:14.590Z"
   },
   {
    "duration": 4,
    "start_time": "2024-08-19T03:36:14.600Z"
   },
   {
    "duration": 6,
    "start_time": "2024-08-19T03:36:14.605Z"
   },
   {
    "duration": 5,
    "start_time": "2024-08-19T03:36:14.612Z"
   },
   {
    "duration": 5,
    "start_time": "2024-08-19T03:36:14.618Z"
   },
   {
    "duration": 5,
    "start_time": "2024-08-19T03:36:14.624Z"
   },
   {
    "duration": 6,
    "start_time": "2024-08-19T03:36:14.631Z"
   },
   {
    "duration": 44,
    "start_time": "2024-08-19T03:36:14.638Z"
   },
   {
    "duration": 4,
    "start_time": "2024-08-19T03:36:14.684Z"
   },
   {
    "duration": 7,
    "start_time": "2024-08-19T03:36:14.689Z"
   },
   {
    "duration": 186,
    "start_time": "2024-08-19T03:36:14.698Z"
   },
   {
    "duration": 5,
    "start_time": "2024-08-19T03:36:14.885Z"
   },
   {
    "duration": 115,
    "start_time": "2024-08-19T03:36:14.893Z"
   },
   {
    "duration": 5,
    "start_time": "2024-08-19T03:36:15.010Z"
   },
   {
    "duration": 191,
    "start_time": "2024-08-19T03:36:15.016Z"
   },
   {
    "duration": 9,
    "start_time": "2024-08-19T03:36:15.208Z"
   },
   {
    "duration": 213,
    "start_time": "2024-08-19T03:36:15.218Z"
   },
   {
    "duration": 9,
    "start_time": "2024-08-19T03:36:15.433Z"
   },
   {
    "duration": 203,
    "start_time": "2024-08-19T03:36:15.443Z"
   },
   {
    "duration": 6,
    "start_time": "2024-08-19T03:36:15.648Z"
   },
   {
    "duration": 34,
    "start_time": "2024-08-19T03:36:15.655Z"
   },
   {
    "duration": 9,
    "start_time": "2024-08-19T03:36:15.690Z"
   },
   {
    "duration": 10,
    "start_time": "2024-08-19T03:36:15.701Z"
   },
   {
    "duration": 197,
    "start_time": "2024-08-19T03:36:15.713Z"
   },
   {
    "duration": 26,
    "start_time": "2024-08-19T03:36:15.911Z"
   },
   {
    "duration": 6,
    "start_time": "2024-08-19T03:36:15.938Z"
   },
   {
    "duration": 39,
    "start_time": "2024-08-19T03:36:15.945Z"
   },
   {
    "duration": 18,
    "start_time": "2024-08-19T03:36:15.985Z"
   },
   {
    "duration": 9,
    "start_time": "2024-08-19T03:36:16.004Z"
   },
   {
    "duration": 249,
    "start_time": "2024-08-19T03:36:16.014Z"
   },
   {
    "duration": 7,
    "start_time": "2024-08-19T03:36:16.265Z"
   },
   {
    "duration": 8,
    "start_time": "2024-08-19T03:36:16.281Z"
   },
   {
    "duration": 302,
    "start_time": "2024-08-19T03:36:16.290Z"
   },
   {
    "duration": 8,
    "start_time": "2024-08-19T03:36:16.593Z"
   },
   {
    "duration": 8,
    "start_time": "2024-08-19T03:36:16.602Z"
   },
   {
    "duration": 791,
    "start_time": "2024-08-19T03:36:16.611Z"
   },
   {
    "duration": 18,
    "start_time": "2024-08-19T03:36:17.404Z"
   },
   {
    "duration": 192,
    "start_time": "2024-08-19T03:36:17.424Z"
   },
   {
    "duration": 7,
    "start_time": "2024-08-19T03:36:17.617Z"
   },
   {
    "duration": 3,
    "start_time": "2024-08-19T03:36:17.626Z"
   },
   {
    "duration": 6,
    "start_time": "2024-08-19T03:36:17.632Z"
   },
   {
    "duration": 6,
    "start_time": "2024-08-19T03:36:17.639Z"
   },
   {
    "duration": 37,
    "start_time": "2024-08-19T03:36:17.646Z"
   },
   {
    "duration": 244,
    "start_time": "2024-08-19T03:36:17.684Z"
   },
   {
    "duration": 4191,
    "start_time": "2024-08-19T03:36:17.929Z"
   },
   {
    "duration": 998,
    "start_time": "2024-08-19T14:49:29.038Z"
   },
   {
    "duration": 34,
    "start_time": "2024-08-19T14:49:30.038Z"
   },
   {
    "duration": 30,
    "start_time": "2024-08-19T14:49:30.074Z"
   },
   {
    "duration": 27,
    "start_time": "2024-08-19T14:49:30.106Z"
   },
   {
    "duration": 46,
    "start_time": "2024-08-19T14:49:30.135Z"
   },
   {
    "duration": 46,
    "start_time": "2024-08-19T14:49:30.183Z"
   },
   {
    "duration": 66,
    "start_time": "2024-08-19T14:49:30.231Z"
   },
   {
    "duration": 38,
    "start_time": "2024-08-19T14:49:30.299Z"
   },
   {
    "duration": 105,
    "start_time": "2024-08-19T14:49:30.339Z"
   },
   {
    "duration": 77,
    "start_time": "2024-08-19T14:49:30.447Z"
   },
   {
    "duration": 69,
    "start_time": "2024-08-19T14:49:30.526Z"
   },
   {
    "duration": 89,
    "start_time": "2024-08-19T14:49:30.597Z"
   },
   {
    "duration": 93,
    "start_time": "2024-08-19T14:49:30.687Z"
   },
   {
    "duration": 50,
    "start_time": "2024-08-19T14:49:30.781Z"
   },
   {
    "duration": 68,
    "start_time": "2024-08-19T14:49:30.832Z"
   },
   {
    "duration": 47,
    "start_time": "2024-08-19T14:49:30.901Z"
   },
   {
    "duration": 44,
    "start_time": "2024-08-19T14:49:30.949Z"
   },
   {
    "duration": 28,
    "start_time": "2024-08-19T14:49:30.995Z"
   },
   {
    "duration": 48,
    "start_time": "2024-08-19T14:49:31.024Z"
   },
   {
    "duration": 34,
    "start_time": "2024-08-19T14:49:31.073Z"
   },
   {
    "duration": 36,
    "start_time": "2024-08-19T14:49:31.109Z"
   },
   {
    "duration": 54,
    "start_time": "2024-08-19T14:49:31.146Z"
   },
   {
    "duration": 74,
    "start_time": "2024-08-19T14:49:31.202Z"
   },
   {
    "duration": 164,
    "start_time": "2024-08-19T14:49:31.277Z"
   },
   {
    "duration": 150,
    "start_time": "2024-08-19T14:49:31.442Z"
   },
   {
    "duration": 196,
    "start_time": "2024-08-19T14:49:31.594Z"
   },
   {
    "duration": 6,
    "start_time": "2024-08-19T14:49:31.791Z"
   },
   {
    "duration": 142,
    "start_time": "2024-08-19T14:49:31.800Z"
   },
   {
    "duration": 6,
    "start_time": "2024-08-19T14:49:31.944Z"
   },
   {
    "duration": 189,
    "start_time": "2024-08-19T14:49:31.951Z"
   },
   {
    "duration": 8,
    "start_time": "2024-08-19T14:49:32.141Z"
   },
   {
    "duration": 181,
    "start_time": "2024-08-19T14:49:32.151Z"
   },
   {
    "duration": 9,
    "start_time": "2024-08-19T14:49:32.333Z"
   },
   {
    "duration": 187,
    "start_time": "2024-08-19T14:49:32.343Z"
   },
   {
    "duration": 5,
    "start_time": "2024-08-19T14:49:32.531Z"
   },
   {
    "duration": 13,
    "start_time": "2024-08-19T14:49:32.537Z"
   },
   {
    "duration": 15,
    "start_time": "2024-08-19T14:49:32.551Z"
   },
   {
    "duration": 15,
    "start_time": "2024-08-19T14:49:32.567Z"
   },
   {
    "duration": 168,
    "start_time": "2024-08-19T14:49:32.583Z"
   },
   {
    "duration": 29,
    "start_time": "2024-08-19T14:49:32.753Z"
   },
   {
    "duration": 5,
    "start_time": "2024-08-19T14:49:32.784Z"
   },
   {
    "duration": 22,
    "start_time": "2024-08-19T14:49:32.791Z"
   },
   {
    "duration": 16,
    "start_time": "2024-08-19T14:49:32.814Z"
   },
   {
    "duration": 4,
    "start_time": "2024-08-19T14:49:32.831Z"
   },
   {
    "duration": 239,
    "start_time": "2024-08-19T14:49:32.836Z"
   },
   {
    "duration": 7,
    "start_time": "2024-08-19T14:49:33.081Z"
   },
   {
    "duration": 13,
    "start_time": "2024-08-19T14:49:33.090Z"
   },
   {
    "duration": 315,
    "start_time": "2024-08-19T14:49:33.104Z"
   },
   {
    "duration": 8,
    "start_time": "2024-08-19T14:49:33.420Z"
   },
   {
    "duration": 7,
    "start_time": "2024-08-19T14:49:33.429Z"
   },
   {
    "duration": 738,
    "start_time": "2024-08-19T14:49:33.437Z"
   },
   {
    "duration": 22,
    "start_time": "2024-08-19T14:49:34.176Z"
   },
   {
    "duration": 184,
    "start_time": "2024-08-19T14:49:34.200Z"
   },
   {
    "duration": 7,
    "start_time": "2024-08-19T14:49:34.385Z"
   },
   {
    "duration": 16,
    "start_time": "2024-08-19T14:49:34.394Z"
   },
   {
    "duration": 7,
    "start_time": "2024-08-19T14:49:34.411Z"
   },
   {
    "duration": 26,
    "start_time": "2024-08-19T14:49:34.419Z"
   },
   {
    "duration": 12,
    "start_time": "2024-08-19T14:49:34.447Z"
   },
   {
    "duration": 223,
    "start_time": "2024-08-19T14:49:34.460Z"
   },
   {
    "duration": 3867,
    "start_time": "2024-08-19T14:49:34.685Z"
   },
   {
    "duration": 1115,
    "start_time": "2024-09-11T02:59:34.993Z"
   },
   {
    "duration": 72,
    "start_time": "2024-09-11T02:59:36.109Z"
   },
   {
    "duration": 163,
    "start_time": "2024-09-11T02:59:36.183Z"
   },
   {
    "duration": 68,
    "start_time": "2024-09-11T02:59:36.348Z"
   },
   {
    "duration": 10,
    "start_time": "2024-09-11T02:59:36.417Z"
   },
   {
    "duration": 93,
    "start_time": "2024-09-11T02:59:36.428Z"
   },
   {
    "duration": 13,
    "start_time": "2024-09-11T02:59:36.522Z"
   },
   {
    "duration": 15,
    "start_time": "2024-09-11T02:59:36.536Z"
   },
   {
    "duration": 26,
    "start_time": "2024-09-11T02:59:36.553Z"
   },
   {
    "duration": 13,
    "start_time": "2024-09-11T02:59:36.581Z"
   },
   {
    "duration": 1113,
    "start_time": "2024-09-11T02:59:36.595Z"
   },
   {
    "duration": 0,
    "start_time": "2024-09-11T02:59:37.711Z"
   },
   {
    "duration": 0,
    "start_time": "2024-09-11T02:59:37.712Z"
   },
   {
    "duration": 0,
    "start_time": "2024-09-11T02:59:37.713Z"
   },
   {
    "duration": 0,
    "start_time": "2024-09-11T02:59:37.714Z"
   },
   {
    "duration": 0,
    "start_time": "2024-09-11T02:59:37.715Z"
   },
   {
    "duration": 0,
    "start_time": "2024-09-11T02:59:37.716Z"
   },
   {
    "duration": 0,
    "start_time": "2024-09-11T02:59:37.717Z"
   },
   {
    "duration": 0,
    "start_time": "2024-09-11T02:59:37.718Z"
   },
   {
    "duration": 0,
    "start_time": "2024-09-11T02:59:37.719Z"
   },
   {
    "duration": 0,
    "start_time": "2024-09-11T02:59:37.719Z"
   },
   {
    "duration": 0,
    "start_time": "2024-09-11T02:59:37.721Z"
   },
   {
    "duration": 0,
    "start_time": "2024-09-11T02:59:37.721Z"
   },
   {
    "duration": 0,
    "start_time": "2024-09-11T02:59:37.722Z"
   },
   {
    "duration": 0,
    "start_time": "2024-09-11T02:59:37.723Z"
   },
   {
    "duration": 0,
    "start_time": "2024-09-11T02:59:37.724Z"
   },
   {
    "duration": 0,
    "start_time": "2024-09-11T02:59:37.725Z"
   },
   {
    "duration": 0,
    "start_time": "2024-09-11T02:59:37.726Z"
   },
   {
    "duration": 0,
    "start_time": "2024-09-11T02:59:37.727Z"
   },
   {
    "duration": 0,
    "start_time": "2024-09-11T02:59:37.728Z"
   },
   {
    "duration": 0,
    "start_time": "2024-09-11T02:59:37.729Z"
   },
   {
    "duration": 0,
    "start_time": "2024-09-11T02:59:37.730Z"
   },
   {
    "duration": 0,
    "start_time": "2024-09-11T02:59:37.731Z"
   },
   {
    "duration": 0,
    "start_time": "2024-09-11T02:59:37.732Z"
   },
   {
    "duration": 0,
    "start_time": "2024-09-11T02:59:37.733Z"
   },
   {
    "duration": 0,
    "start_time": "2024-09-11T02:59:37.734Z"
   },
   {
    "duration": 0,
    "start_time": "2024-09-11T02:59:37.735Z"
   },
   {
    "duration": 0,
    "start_time": "2024-09-11T02:59:37.736Z"
   },
   {
    "duration": 0,
    "start_time": "2024-09-11T02:59:37.737Z"
   },
   {
    "duration": 0,
    "start_time": "2024-09-11T02:59:37.738Z"
   },
   {
    "duration": 0,
    "start_time": "2024-09-11T02:59:37.739Z"
   },
   {
    "duration": 0,
    "start_time": "2024-09-11T02:59:37.740Z"
   },
   {
    "duration": 0,
    "start_time": "2024-09-11T02:59:37.741Z"
   },
   {
    "duration": 0,
    "start_time": "2024-09-11T02:59:37.742Z"
   },
   {
    "duration": 0,
    "start_time": "2024-09-11T02:59:37.743Z"
   },
   {
    "duration": 0,
    "start_time": "2024-09-11T02:59:37.744Z"
   },
   {
    "duration": 0,
    "start_time": "2024-09-11T02:59:37.746Z"
   },
   {
    "duration": 0,
    "start_time": "2024-09-11T02:59:37.747Z"
   },
   {
    "duration": 0,
    "start_time": "2024-09-11T02:59:37.753Z"
   },
   {
    "duration": 0,
    "start_time": "2024-09-11T02:59:37.753Z"
   },
   {
    "duration": 0,
    "start_time": "2024-09-11T02:59:37.755Z"
   },
   {
    "duration": 0,
    "start_time": "2024-09-11T02:59:37.755Z"
   },
   {
    "duration": 0,
    "start_time": "2024-09-11T02:59:37.756Z"
   },
   {
    "duration": 0,
    "start_time": "2024-09-11T02:59:37.757Z"
   },
   {
    "duration": 0,
    "start_time": "2024-09-11T02:59:37.758Z"
   },
   {
    "duration": 0,
    "start_time": "2024-09-11T02:59:37.759Z"
   },
   {
    "duration": 0,
    "start_time": "2024-09-11T02:59:37.760Z"
   },
   {
    "duration": 0,
    "start_time": "2024-09-11T02:59:37.761Z"
   },
   {
    "duration": 0,
    "start_time": "2024-09-11T02:59:37.762Z"
   },
   {
    "duration": 0,
    "start_time": "2024-09-11T02:59:37.764Z"
   },
   {
    "duration": 1223,
    "start_time": "2024-09-11T03:00:06.647Z"
   },
   {
    "duration": 30,
    "start_time": "2024-09-11T03:00:07.872Z"
   },
   {
    "duration": 29,
    "start_time": "2024-09-11T03:00:07.903Z"
   },
   {
    "duration": 15,
    "start_time": "2024-09-11T03:00:07.934Z"
   },
   {
    "duration": 13,
    "start_time": "2024-09-11T03:00:07.951Z"
   },
   {
    "duration": 11,
    "start_time": "2024-09-11T03:00:07.966Z"
   },
   {
    "duration": 17,
    "start_time": "2024-09-11T03:00:07.978Z"
   },
   {
    "duration": 19,
    "start_time": "2024-09-11T03:00:07.997Z"
   },
   {
    "duration": 7,
    "start_time": "2024-09-11T03:00:08.018Z"
   },
   {
    "duration": 31,
    "start_time": "2024-09-11T03:00:08.028Z"
   },
   {
    "duration": 8,
    "start_time": "2024-09-11T03:00:08.061Z"
   },
   {
    "duration": 12,
    "start_time": "2024-09-11T03:00:08.071Z"
   },
   {
    "duration": 26,
    "start_time": "2024-09-11T03:00:08.085Z"
   },
   {
    "duration": 20,
    "start_time": "2024-09-11T03:00:08.113Z"
   },
   {
    "duration": 13,
    "start_time": "2024-09-11T03:00:08.135Z"
   },
   {
    "duration": 13,
    "start_time": "2024-09-11T03:00:08.149Z"
   },
   {
    "duration": 14,
    "start_time": "2024-09-11T03:00:08.164Z"
   },
   {
    "duration": 24,
    "start_time": "2024-09-11T03:00:08.180Z"
   },
   {
    "duration": 6,
    "start_time": "2024-09-11T03:00:08.205Z"
   },
   {
    "duration": 15,
    "start_time": "2024-09-11T03:00:08.213Z"
   },
   {
    "duration": 10,
    "start_time": "2024-09-11T03:00:08.229Z"
   },
   {
    "duration": 8,
    "start_time": "2024-09-11T03:00:08.240Z"
   },
   {
    "duration": 14,
    "start_time": "2024-09-11T03:00:08.250Z"
   },
   {
    "duration": 33,
    "start_time": "2024-09-11T03:00:08.266Z"
   },
   {
    "duration": 32,
    "start_time": "2024-09-11T03:00:08.301Z"
   },
   {
    "duration": 167,
    "start_time": "2024-09-11T03:00:08.335Z"
   },
   {
    "duration": 6,
    "start_time": "2024-09-11T03:00:08.503Z"
   },
   {
    "duration": 120,
    "start_time": "2024-09-11T03:00:08.512Z"
   },
   {
    "duration": 5,
    "start_time": "2024-09-11T03:00:08.633Z"
   },
   {
    "duration": 170,
    "start_time": "2024-09-11T03:00:08.640Z"
   },
   {
    "duration": 8,
    "start_time": "2024-09-11T03:00:08.811Z"
   },
   {
    "duration": 206,
    "start_time": "2024-09-11T03:00:08.820Z"
   },
   {
    "duration": 8,
    "start_time": "2024-09-11T03:00:09.028Z"
   },
   {
    "duration": 243,
    "start_time": "2024-09-11T03:00:09.037Z"
   },
   {
    "duration": 6,
    "start_time": "2024-09-11T03:00:09.281Z"
   },
   {
    "duration": 25,
    "start_time": "2024-09-11T03:00:09.288Z"
   },
   {
    "duration": 4,
    "start_time": "2024-09-11T03:00:09.314Z"
   },
   {
    "duration": 14,
    "start_time": "2024-09-11T03:00:09.319Z"
   },
   {
    "duration": 184,
    "start_time": "2024-09-11T03:00:09.334Z"
   },
   {
    "duration": 43,
    "start_time": "2024-09-11T03:00:09.519Z"
   },
   {
    "duration": 5,
    "start_time": "2024-09-11T03:00:09.564Z"
   },
   {
    "duration": 20,
    "start_time": "2024-09-11T03:00:09.571Z"
   },
   {
    "duration": 18,
    "start_time": "2024-09-11T03:00:09.593Z"
   },
   {
    "duration": 6,
    "start_time": "2024-09-11T03:00:09.622Z"
   },
   {
    "duration": 277,
    "start_time": "2024-09-11T03:00:09.630Z"
   },
   {
    "duration": 9,
    "start_time": "2024-09-11T03:00:09.909Z"
   },
   {
    "duration": 18,
    "start_time": "2024-09-11T03:00:09.920Z"
   },
   {
    "duration": 347,
    "start_time": "2024-09-11T03:00:09.940Z"
   },
   {
    "duration": 9,
    "start_time": "2024-09-11T03:00:10.289Z"
   },
   {
    "duration": 8,
    "start_time": "2024-09-11T03:00:10.300Z"
   },
   {
    "duration": 820,
    "start_time": "2024-09-11T03:00:10.309Z"
   },
   {
    "duration": 24,
    "start_time": "2024-09-11T03:00:11.131Z"
   },
   {
    "duration": 202,
    "start_time": "2024-09-11T03:00:11.157Z"
   },
   {
    "duration": 9,
    "start_time": "2024-09-11T03:00:11.360Z"
   },
   {
    "duration": 4,
    "start_time": "2024-09-11T03:00:11.370Z"
   },
   {
    "duration": 8,
    "start_time": "2024-09-11T03:00:11.375Z"
   },
   {
    "duration": 8,
    "start_time": "2024-09-11T03:00:11.385Z"
   },
   {
    "duration": 13,
    "start_time": "2024-09-11T03:00:11.395Z"
   },
   {
    "duration": 275,
    "start_time": "2024-09-11T03:00:11.410Z"
   },
   {
    "duration": 4374,
    "start_time": "2024-09-11T03:00:11.686Z"
   }
  ],
  "kernelspec": {
   "display_name": "Python 3 (ipykernel)",
   "language": "python",
   "name": "python3"
  },
  "language_info": {
   "codemirror_mode": {
    "name": "ipython",
    "version": 3
   },
   "file_extension": ".py",
   "mimetype": "text/x-python",
   "name": "python",
   "nbconvert_exporter": "python",
   "pygments_lexer": "ipython3",
   "version": "3.9.5"
  },
  "toc": {
   "base_numbering": 1,
   "nav_menu": {},
   "number_sections": true,
   "sideBar": true,
   "skip_h1_title": true,
   "title_cell": "Содержание",
   "title_sidebar": "Contents",
   "toc_cell": true,
   "toc_position": {},
   "toc_section_display": true,
   "toc_window_display": false
  }
 },
 "nbformat": 4,
 "nbformat_minor": 5
}
